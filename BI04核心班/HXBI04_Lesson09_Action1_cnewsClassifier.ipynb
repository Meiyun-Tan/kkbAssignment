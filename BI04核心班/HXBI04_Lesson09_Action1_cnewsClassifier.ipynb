{
  "nbformat": 4,
  "nbformat_minor": 0,
  "metadata": {
    "kernelspec": {
      "display_name": "Python 3",
      "language": "python",
      "name": "python3"
    },
    "language_info": {
      "codemirror_mode": {
        "name": "ipython",
        "version": 3
      },
      "file_extension": ".py",
      "mimetype": "text/x-python",
      "name": "python",
      "nbconvert_exporter": "python",
      "pygments_lexer": "ipython3",
      "version": "3.7.6"
    },
    "toc": {
      "base_numbering": 1,
      "nav_menu": {},
      "number_sections": true,
      "sideBar": true,
      "skip_h1_title": false,
      "title_cell": "Table of Contents",
      "title_sidebar": "Contents",
      "toc_cell": false,
      "toc_position": {
        "height": "calc(100% - 180px)",
        "left": "10px",
        "top": "150px",
        "width": "288px"
      },
      "toc_section_display": true,
      "toc_window_display": true
    },
    "colab": {
      "name": "HXBI04_Lesson09_Action1_cnewsClassifier.ipynb",
      "provenance": [],
      "collapsed_sections": []
    },
    "accelerator": "GPU",
    "widgets": {
      "application/vnd.jupyter.widget-state+json": {
        "9cdc5a2afb0b49a894f724cf7f0f5407": {
          "model_module": "@jupyter-widgets/controls",
          "model_name": "HBoxModel",
          "state": {
            "_view_name": "HBoxView",
            "_dom_classes": [],
            "_model_name": "HBoxModel",
            "_view_module": "@jupyter-widgets/controls",
            "_model_module_version": "1.5.0",
            "_view_count": null,
            "_view_module_version": "1.5.0",
            "box_style": "",
            "layout": "IPY_MODEL_7961be7b6726404f8d18d42ec27a940f",
            "_model_module": "@jupyter-widgets/controls",
            "children": [
              "IPY_MODEL_7405bcb8e61a47d3932bb6727ff87fa7",
              "IPY_MODEL_d92f3fc64e2b44318a2784a519317974"
            ]
          }
        },
        "7961be7b6726404f8d18d42ec27a940f": {
          "model_module": "@jupyter-widgets/base",
          "model_name": "LayoutModel",
          "state": {
            "_view_name": "LayoutView",
            "grid_template_rows": null,
            "right": null,
            "justify_content": null,
            "_view_module": "@jupyter-widgets/base",
            "overflow": null,
            "_model_module_version": "1.2.0",
            "_view_count": null,
            "flex_flow": null,
            "width": null,
            "min_width": null,
            "border": null,
            "align_items": null,
            "bottom": null,
            "_model_module": "@jupyter-widgets/base",
            "top": null,
            "grid_column": null,
            "overflow_y": null,
            "overflow_x": null,
            "grid_auto_flow": null,
            "grid_area": null,
            "grid_template_columns": null,
            "flex": null,
            "_model_name": "LayoutModel",
            "justify_items": null,
            "grid_row": null,
            "max_height": null,
            "align_content": null,
            "visibility": null,
            "align_self": null,
            "height": null,
            "min_height": null,
            "padding": null,
            "grid_auto_rows": null,
            "grid_gap": null,
            "max_width": null,
            "order": null,
            "_view_module_version": "1.2.0",
            "grid_template_areas": null,
            "object_position": null,
            "object_fit": null,
            "grid_auto_columns": null,
            "margin": null,
            "display": null,
            "left": null
          }
        },
        "7405bcb8e61a47d3932bb6727ff87fa7": {
          "model_module": "@jupyter-widgets/controls",
          "model_name": "FloatProgressModel",
          "state": {
            "_view_name": "ProgressView",
            "style": "IPY_MODEL_4cdcd50811cd440089bed8785c27b511",
            "_dom_classes": [],
            "description": "100%",
            "_model_name": "FloatProgressModel",
            "bar_style": "success",
            "max": 20,
            "_view_module": "@jupyter-widgets/controls",
            "_model_module_version": "1.5.0",
            "value": 20,
            "_view_count": null,
            "_view_module_version": "1.5.0",
            "orientation": "horizontal",
            "min": 0,
            "description_tooltip": null,
            "_model_module": "@jupyter-widgets/controls",
            "layout": "IPY_MODEL_ee33918e1c784198b73def31b8bd7cc8"
          }
        },
        "d92f3fc64e2b44318a2784a519317974": {
          "model_module": "@jupyter-widgets/controls",
          "model_name": "HTMLModel",
          "state": {
            "_view_name": "HTMLView",
            "style": "IPY_MODEL_d44a8bfb458d4740a68e7fa52f25db63",
            "_dom_classes": [],
            "description": "",
            "_model_name": "HTMLModel",
            "placeholder": "​",
            "_view_module": "@jupyter-widgets/controls",
            "_model_module_version": "1.5.0",
            "value": " 20/20 [15:49&lt;00:00, 47.49s/it]",
            "_view_count": null,
            "_view_module_version": "1.5.0",
            "description_tooltip": null,
            "_model_module": "@jupyter-widgets/controls",
            "layout": "IPY_MODEL_dd8e5ae3b3fd4b2bb5facfb11d7e9210"
          }
        },
        "4cdcd50811cd440089bed8785c27b511": {
          "model_module": "@jupyter-widgets/controls",
          "model_name": "ProgressStyleModel",
          "state": {
            "_view_name": "StyleView",
            "_model_name": "ProgressStyleModel",
            "description_width": "initial",
            "_view_module": "@jupyter-widgets/base",
            "_model_module_version": "1.5.0",
            "_view_count": null,
            "_view_module_version": "1.2.0",
            "bar_color": null,
            "_model_module": "@jupyter-widgets/controls"
          }
        },
        "ee33918e1c784198b73def31b8bd7cc8": {
          "model_module": "@jupyter-widgets/base",
          "model_name": "LayoutModel",
          "state": {
            "_view_name": "LayoutView",
            "grid_template_rows": null,
            "right": null,
            "justify_content": null,
            "_view_module": "@jupyter-widgets/base",
            "overflow": null,
            "_model_module_version": "1.2.0",
            "_view_count": null,
            "flex_flow": null,
            "width": null,
            "min_width": null,
            "border": null,
            "align_items": null,
            "bottom": null,
            "_model_module": "@jupyter-widgets/base",
            "top": null,
            "grid_column": null,
            "overflow_y": null,
            "overflow_x": null,
            "grid_auto_flow": null,
            "grid_area": null,
            "grid_template_columns": null,
            "flex": null,
            "_model_name": "LayoutModel",
            "justify_items": null,
            "grid_row": null,
            "max_height": null,
            "align_content": null,
            "visibility": null,
            "align_self": null,
            "height": null,
            "min_height": null,
            "padding": null,
            "grid_auto_rows": null,
            "grid_gap": null,
            "max_width": null,
            "order": null,
            "_view_module_version": "1.2.0",
            "grid_template_areas": null,
            "object_position": null,
            "object_fit": null,
            "grid_auto_columns": null,
            "margin": null,
            "display": null,
            "left": null
          }
        },
        "d44a8bfb458d4740a68e7fa52f25db63": {
          "model_module": "@jupyter-widgets/controls",
          "model_name": "DescriptionStyleModel",
          "state": {
            "_view_name": "StyleView",
            "_model_name": "DescriptionStyleModel",
            "description_width": "",
            "_view_module": "@jupyter-widgets/base",
            "_model_module_version": "1.5.0",
            "_view_count": null,
            "_view_module_version": "1.2.0",
            "_model_module": "@jupyter-widgets/controls"
          }
        },
        "dd8e5ae3b3fd4b2bb5facfb11d7e9210": {
          "model_module": "@jupyter-widgets/base",
          "model_name": "LayoutModel",
          "state": {
            "_view_name": "LayoutView",
            "grid_template_rows": null,
            "right": null,
            "justify_content": null,
            "_view_module": "@jupyter-widgets/base",
            "overflow": null,
            "_model_module_version": "1.2.0",
            "_view_count": null,
            "flex_flow": null,
            "width": null,
            "min_width": null,
            "border": null,
            "align_items": null,
            "bottom": null,
            "_model_module": "@jupyter-widgets/base",
            "top": null,
            "grid_column": null,
            "overflow_y": null,
            "overflow_x": null,
            "grid_auto_flow": null,
            "grid_area": null,
            "grid_template_columns": null,
            "flex": null,
            "_model_name": "LayoutModel",
            "justify_items": null,
            "grid_row": null,
            "max_height": null,
            "align_content": null,
            "visibility": null,
            "align_self": null,
            "height": null,
            "min_height": null,
            "padding": null,
            "grid_auto_rows": null,
            "grid_gap": null,
            "max_width": null,
            "order": null,
            "_view_module_version": "1.2.0",
            "grid_template_areas": null,
            "object_position": null,
            "object_fit": null,
            "grid_auto_columns": null,
            "margin": null,
            "display": null,
            "left": null
          }
        }
      }
    }
  },
  "cells": [
    {
      "cell_type": "markdown",
      "metadata": {
        "id": "iVlyR-bM6WOs"
      },
      "source": [
        "cnews 中文文本分类：     \n",
        "由清华大学根据新浪新闻RSS订阅频道2005-2011年间的历史数据筛选过滤生成     \n",
        "训练集 50000    \n",
        "验证集 5000     \n",
        "测试集 10000    \n",
        "词汇（字） 5000      \n",
        "10个分类，包括：'体育', '财经', '房产', '家居', '教育', '科技', '时尚', '时政', '游戏', '娱乐'"
      ]
    },
    {
      "cell_type": "code",
      "metadata": {
        "id": "pbYlXmar6d8J",
        "outputId": "8145df95-fa7a-46f8-ce2a-7b37a0066216",
        "colab": {
          "base_uri": "https://localhost:8080/",
          "height": 34
        }
      },
      "source": [
        "from google.colab import drive\n",
        "drive.mount('/content/drive')"
      ],
      "execution_count": 1,
      "outputs": [
        {
          "output_type": "stream",
          "text": [
            "Drive already mounted at /content/drive; to attempt to forcibly remount, call drive.mount(\"/content/drive\", force_remount=True).\n"
          ],
          "name": "stdout"
        }
      ]
    },
    {
      "cell_type": "code",
      "metadata": {
        "id": "gNUxT9r86dtU"
      },
      "source": [
        "import os\n",
        "os.chdir(\"/content/drive/My Drive/Colab Notebooks/\")\n"
      ],
      "execution_count": 2,
      "outputs": []
    },
    {
      "cell_type": "code",
      "metadata": {
        "id": "tJWEdWgr6sou",
        "outputId": "2e1efcc9-2675-4b0e-c602-5471db394789",
        "colab": {
          "base_uri": "https://localhost:8080/",
          "height": 306
        }
      },
      "source": [
        "!/opt/bin/nvidia-smi"
      ],
      "execution_count": 3,
      "outputs": [
        {
          "output_type": "stream",
          "text": [
            "Tue Oct 27 14:40:39 2020       \n",
            "+-----------------------------------------------------------------------------+\n",
            "| NVIDIA-SMI 418.67       Driver Version: 418.67       CUDA Version: 10.1     |\n",
            "|-------------------------------+----------------------+----------------------+\n",
            "| GPU  Name        Persistence-M| Bus-Id        Disp.A | Volatile Uncorr. ECC |\n",
            "| Fan  Temp  Perf  Pwr:Usage/Cap|         Memory-Usage | GPU-Util  Compute M. |\n",
            "|===============================+======================+======================|\n",
            "|   0  Tesla T4            Off  | 00000000:00:04.0 Off |                    0 |\n",
            "| N/A   48C    P8    11W /  70W |      0MiB / 15079MiB |      0%      Default |\n",
            "+-------------------------------+----------------------+----------------------+\n",
            "                                                                               \n",
            "+-----------------------------------------------------------------------------+\n",
            "| Processes:                                                       GPU Memory |\n",
            "|  GPU       PID   Type   Process name                             Usage      |\n",
            "|=============================================================================|\n",
            "|  No running processes found                                                 |\n",
            "+-----------------------------------------------------------------------------+\n"
          ],
          "name": "stdout"
        }
      ]
    },
    {
      "cell_type": "code",
      "metadata": {
        "id": "ad1zmUj47ILS",
        "outputId": "2b1b61a7-fc81-4b7b-b00e-f238b5d9ad2c",
        "colab": {
          "base_uri": "https://localhost:8080/",
          "height": 71
        }
      },
      "source": [
        "!apt-get install -y -qq software-properties-common python-software-properties module-init-tools !add-apt-repository -y ppa:alessandro-strada/ppa 2>&1 > /dev/null !apt-get update -qq 2>&1 > /dev/null !apt-get -y install -qq google-drive-ocamlfuse fuse from google.colab import auth auth.authenticate_user() from oauth2client.client import GoogleCredentials creds = GoogleCredentials.get_application_default() import getpass !google-drive-ocamlfuse -headless -id={creds.client_id} -secret={creds.client_secret} &1 | grep URL vcode = getpass.getpass() !echo {vcode} | google-drive-ocamlfuse -headless -id={creds.client_id} -secret={creds.client_secret}\n"
      ],
      "execution_count": 4,
      "outputs": [
        {
          "output_type": "stream",
          "text": [
            "/bin/bash: -c: line 0: syntax error near unexpected token `('\n",
            "/bin/bash: -c: line 0: `apt-get install -y -qq software-properties-common python-software-properties module-init-tools !add-apt-repository -y ppa:alessandro-strada/ppa 2>&1 > /dev/null !apt-get update -qq 2>&1 > /dev/null !apt-get -y install -qq google-drive-ocamlfuse fuse from google.colab import auth auth.authenticate_user() from oauth2client.client import GoogleCredentials creds = GoogleCredentials.get_application_default() import getpass !google-drive-ocamlfuse -headless -id={creds.client_id} -secret={creds.client_secret} &1 | grep URL vcode = getpass.getpass() !echo {vcode} | google-drive-ocamlfuse -headless -id={creds.client_id} -secret={creds.client_secret}'\n"
          ],
          "name": "stdout"
        }
      ]
    },
    {
      "cell_type": "code",
      "metadata": {
        "id": "9MK9bqmr6WOt"
      },
      "source": [
        "import numpy as np\n",
        "from tensorflow import keras as kr"
      ],
      "execution_count": 5,
      "outputs": []
    },
    {
      "cell_type": "code",
      "metadata": {
        "id": "PjMVdDf16WOy"
      },
      "source": [
        "import torch \n",
        "from torch import nn\n",
        "from torch.nn import functional as F"
      ],
      "execution_count": 6,
      "outputs": []
    },
    {
      "cell_type": "code",
      "metadata": {
        "id": "rike44Qj6WO2"
      },
      "source": [
        "import numpy as np"
      ],
      "execution_count": 7,
      "outputs": []
    },
    {
      "cell_type": "code",
      "metadata": {
        "id": "ANodPpKC6WO6"
      },
      "source": [
        "from torch.utils.data import DataLoader, TensorDataset"
      ],
      "execution_count": 8,
      "outputs": []
    },
    {
      "cell_type": "code",
      "metadata": {
        "id": "YvXDq8II6WO_"
      },
      "source": [
        "from tqdm.notebook import tnrange"
      ],
      "execution_count": 9,
      "outputs": []
    },
    {
      "cell_type": "markdown",
      "metadata": {
        "id": "_Yt5TJgY6WPC"
      },
      "source": [
        "# 1 准备数据——将文本转为数值向量\n"
      ]
    },
    {
      "cell_type": "markdown",
      "metadata": {
        "id": "ViOUS5iC6WPC"
      },
      "source": [
        "---\n",
        "```\n",
        "keras.preprocessing.sequence.pad_sequences(sequences, \n",
        "\tmaxlen=None,\n",
        "\tdtype='int32',\n",
        "\tpadding='pre',\n",
        "\ttruncating='pre', \n",
        "\tvalue=0.)```    \n",
        "- sequences：浮点数或整数构成的两层嵌套列表\n",
        "- maxlen：None或整数，为序列的最大长度。大于此长度的序列将被截短，小于此长度的序列将在后部填0.\n",
        "- dtype：返回的numpy array的数据类型\n",
        "- padding：‘pre’或‘post’，确定当需要补0时，在序列的起始还是结尾补`\n",
        "- truncating：‘pre’或‘post’，确定当需要截断序列时，从起始还是结尾截断\n",
        "- value：浮点数，此值将在填充时代替默认的填充值0"
      ]
    },
    {
      "cell_type": "code",
      "metadata": {
        "id": "dKJUNDxd6WPD"
      },
      "source": [
        "# 读取词汇表\n",
        "def read_vocab(vocab_dir):\n",
        "    with open(vocab_dir, 'r', encoding='utf-8', errors='ignore') as fp:\n",
        "        # 读取进来的列表中，每个元素为str，str最后包含换行符都不可见空白，所以需要用strip去掉\n",
        "        words = [_.strip() for _ in fp.readlines()]\n",
        "    # 建立每段的文本和它的下标的映射字典\n",
        "    word_to_id = dict(zip(words, range(len(words))))\n",
        "    return words, word_to_id\n",
        "\n",
        "\n",
        "# 读取分类目录，固定\n",
        "def read_category():\n",
        "    categories = ['体育', '财经', '房产', '家居', '教育', '科技', '时尚', '时政', '游戏', '娱乐']\n",
        "    # 建立分类与下标的映射字典\n",
        "    cat_to_id = dict(zip(categories, range(len(categories))))\n",
        "    return categories, cat_to_id\n",
        "\n",
        "\n",
        "# 将文件转换为id表示\n",
        "def process_file(filename, word_to_id, cat_to_id, max_length=600):\n",
        "    contents, labels = [], []\n",
        "    with open(filename, 'r', encoding='utf-8', errors='ignore') as f:\n",
        "        for line in f:\n",
        "            try:\n",
        "                label, content = line.strip().split('\\t')\n",
        "                if content:\n",
        "                    # 句子转为单个字符以列表形式存入contents\n",
        "                    contents.append(list(content))\n",
        "                    labels.append(label)\n",
        "            except:\n",
        "                pass\n",
        "    data_id, label_id = [], []\n",
        "    for i in range(len(contents)):\n",
        "        #将每句话id化\n",
        "        data_id.append([word_to_id[x] for x in contents[i] if x in word_to_id])\n",
        "        #每句话对应的类别的id\n",
        "        label_id.append(cat_to_id[labels[i]])\n",
        "    # 使用keras提供的pad_sequences来将文本pad为固定长度\n",
        "    # 将整数列表转换成形状为(samples, max_length) 的二维整数张量\n",
        "    x_pad = kr.preprocessing.sequence.pad_sequences(data_id, max_length)\n",
        "    y_pad = kr.utils.to_categorical(\n",
        "        label_id, num_classes=len(cat_to_id))  # 将标签转换为one-hot表示\n",
        "    return x_pad, y_pad"
      ],
      "execution_count": 10,
      "outputs": []
    },
    {
      "cell_type": "markdown",
      "metadata": {
        "id": "hqkKSNI86WPh"
      },
      "source": [
        "在训练集小样本文件中，最长的句子是第120个，有10337个字符。"
      ]
    },
    {
      "cell_type": "markdown",
      "metadata": {
        "id": "H9Rf-U3b6WPi"
      },
      "source": [
        "## 获取文本的类别及其对应id的字典"
      ]
    },
    {
      "cell_type": "code",
      "metadata": {
        "id": "_WsHWlAS6WPj"
      },
      "source": [
        "# 获取文本的类别及其对应id的字典\n",
        "categories, cat_to_id = read_category()"
      ],
      "execution_count": 11,
      "outputs": []
    },
    {
      "cell_type": "code",
      "metadata": {
        "id": "7y6Tg7nL6WPr",
        "outputId": "ca807498-2c0a-4b40-94ee-5ec35358cc4f",
        "colab": {
          "base_uri": "https://localhost:8080/",
          "height": 51
        }
      },
      "source": [
        "print(categories)\n",
        "print(cat_to_id)"
      ],
      "execution_count": 12,
      "outputs": [
        {
          "output_type": "stream",
          "text": [
            "['体育', '财经', '房产', '家居', '教育', '科技', '时尚', '时政', '游戏', '娱乐']\n",
            "{'体育': 0, '财经': 1, '房产': 2, '家居': 3, '教育': 4, '科技': 5, '时尚': 6, '时政': 7, '游戏': 8, '娱乐': 9}\n"
          ],
          "name": "stdout"
        }
      ]
    },
    {
      "cell_type": "markdown",
      "metadata": {
        "id": "-BK8ptM26WPx"
      },
      "source": [
        "## 获取训练文本中所有出现过的字及其所对应的id"
      ]
    },
    {
      "cell_type": "code",
      "metadata": {
        "id": "J43MNP_46WP1"
      },
      "source": [
        "fpath = './cnews/cnews.vocab.txt'\n",
        "\n",
        "# 获取训练文本中所有出现过的字及其所对应的id\n",
        "words, word_to_id = read_vocab(fpath)"
      ],
      "execution_count": 13,
      "outputs": []
    },
    {
      "cell_type": "code",
      "metadata": {
        "id": "U57tE0uQ6WP5"
      },
      "source": [
        "#获取字数\n",
        "vocab_size = len(words)"
      ],
      "execution_count": 14,
      "outputs": []
    },
    {
      "cell_type": "code",
      "metadata": {
        "scrolled": false,
        "id": "mk7eFeBs6WP_",
        "outputId": "fb55cb72-d135-47d2-c401-43afb27bf1e1",
        "colab": {
          "base_uri": "https://localhost:8080/",
          "height": 34
        }
      },
      "source": [
        "# 说明有重复文字\n",
        "vocab_size, len(word_to_id)"
      ],
      "execution_count": 15,
      "outputs": [
        {
          "output_type": "execute_result",
          "data": {
            "text/plain": [
              "(5000, 4998)"
            ]
          },
          "metadata": {
            "tags": []
          },
          "execution_count": 15
        }
      ]
    },
    {
      "cell_type": "markdown",
      "metadata": {
        "id": "gNQ3DJPv6WQD"
      },
      "source": [
        "## 加载训练集、验证集、测试集"
      ]
    },
    {
      "cell_type": "code",
      "metadata": {
        "id": "jx69nRO19KOI"
      },
      "source": [
        "# os.listdir('./cnews')"
      ],
      "execution_count": 16,
      "outputs": []
    },
    {
      "cell_type": "code",
      "metadata": {
        "id": "yYrQ3kY26WQD",
        "outputId": "6d0530ed-f4d2-4c46-8ff1-82d588c50888",
        "colab": {
          "base_uri": "https://localhost:8080/",
          "height": 136
        }
      },
      "source": [
        "# 获取训练数据每个字的id和对应label的one-hot形式\n",
        "sample_train_path = './cnews/cnews.train.txt'\n",
        "x_train, y_train = process_file(sample_train_path, word_to_id, cat_to_id, 600)\n",
        "print('x_train=', x_train)"
      ],
      "execution_count": 17,
      "outputs": [
        {
          "output_type": "stream",
          "text": [
            "x_train= [[1609  659   56 ...    9  311    3]\n",
            " [   2  101   16 ... 1168    3   24]\n",
            " [ 465  855  521 ...  116  136   85]\n",
            " ...\n",
            " [  49   18   79 ...  836 1928 1072]\n",
            " [ 166  110  714 ...  836 1928 1072]\n",
            " [   1   80  551 ...   78  192    3]]\n"
          ],
          "name": "stdout"
        }
      ]
    },
    {
      "cell_type": "code",
      "metadata": {
        "id": "BYIx87NR6WQG"
      },
      "source": [
        "# 读取验证集\n",
        "val_path = './cnews/cnews.val.txt'\n",
        "x_val, y_val = process_file(val_path, word_to_id, cat_to_id, 600)"
      ],
      "execution_count": 18,
      "outputs": []
    },
    {
      "cell_type": "code",
      "metadata": {
        "id": "TE6oMGU16WQL"
      },
      "source": [
        "# 读取测试集\n",
        "test_path = './cnews/cnews.test.txt'\n",
        "x_test, y_test = process_file(test_path, word_to_id, cat_to_id, 600)"
      ],
      "execution_count": 19,
      "outputs": []
    },
    {
      "cell_type": "code",
      "metadata": {
        "scrolled": true,
        "id": "wacvwemm6WQQ"
      },
      "source": [
        "# 训练集、验证集、测试集全部转为张量\n",
        "x_train = torch.tensor(x_train, dtype=torch.int64)\n",
        "\n",
        "y_train = torch.tensor(y_train, dtype=torch.float32)\n",
        "\n",
        "x_val = torch.tensor(x_val, dtype=torch.int64)\n",
        "\n",
        "y_val = torch.tensor(y_val, dtype=torch.float32)\n",
        "\n",
        "x_test = torch.tensor(x_test, dtype=torch.int64)\n",
        "\n",
        "y_test = torch.tensor(y_test, dtype=torch.float32)"
      ],
      "execution_count": 20,
      "outputs": []
    },
    {
      "cell_type": "code",
      "metadata": {
        "id": "mKneZYF96WQS",
        "outputId": "447963ec-51cf-4c68-b578-c77b94aa16e3",
        "colab": {
          "base_uri": "https://localhost:8080/",
          "height": 119
        }
      },
      "source": [
        "x_train.shape, y_train.shape, x_val.shape, y_val.shape, x_test.shape, y_test.shape"
      ],
      "execution_count": 21,
      "outputs": [
        {
          "output_type": "execute_result",
          "data": {
            "text/plain": [
              "(torch.Size([50000, 600]),\n",
              " torch.Size([50000, 10]),\n",
              " torch.Size([5000, 600]),\n",
              " torch.Size([5000, 10]),\n",
              " torch.Size([10000, 600]),\n",
              " torch.Size([10000, 10]))"
            ]
          },
          "metadata": {
            "tags": []
          },
          "execution_count": 21
        }
      ]
    },
    {
      "cell_type": "code",
      "metadata": {
        "id": "WNvIt4QL6WQW",
        "outputId": "340dc6d5-b03a-45bc-d44c-3511db104a48",
        "colab": {
          "base_uri": "https://localhost:8080/",
          "height": 34
        }
      },
      "source": [
        "x_train.dtype, y_train.dtype"
      ],
      "execution_count": 22,
      "outputs": [
        {
          "output_type": "execute_result",
          "data": {
            "text/plain": [
              "(torch.int64, torch.float32)"
            ]
          },
          "metadata": {
            "tags": []
          },
          "execution_count": 22
        }
      ]
    },
    {
      "cell_type": "markdown",
      "metadata": {
        "id": "bPKNwScL6WQc"
      },
      "source": [
        "## 数据分批"
      ]
    },
    {
      "cell_type": "code",
      "metadata": {
        "id": "lQCoehxc6WQd"
      },
      "source": [
        "trainset = TensorDataset(x_train, y_train)"
      ],
      "execution_count": 23,
      "outputs": []
    },
    {
      "cell_type": "code",
      "metadata": {
        "id": "Op51ltOb6WQl"
      },
      "source": [
        "BATCH_SIZE = 128\n",
        "trainloader = DataLoader(trainset, batch_size=BATCH_SIZE, shuffle=True)"
      ],
      "execution_count": 24,
      "outputs": []
    },
    {
      "cell_type": "code",
      "metadata": {
        "id": "Ds-o0ISw6WQp",
        "outputId": "1a13190a-ba80-40d0-da11-cc0394e313aa",
        "colab": {
          "base_uri": "https://localhost:8080/",
          "height": 34
        }
      },
      "source": [
        "len(trainloader)"
      ],
      "execution_count": 25,
      "outputs": [
        {
          "output_type": "execute_result",
          "data": {
            "text/plain": [
              "391"
            ]
          },
          "metadata": {
            "tags": []
          },
          "execution_count": 25
        }
      ]
    },
    {
      "cell_type": "code",
      "metadata": {
        "id": "o0UQFVGF6WQs"
      },
      "source": [
        "testset = TensorDataset(x_test, y_test)\n",
        "testloader = DataLoader(testset, batch_size=BATCH_SIZE)"
      ],
      "execution_count": 26,
      "outputs": []
    },
    {
      "cell_type": "code",
      "metadata": {
        "id": "h4wuYf_B6WQx"
      },
      "source": [
        "valset = TensorDataset(x_val, y_val)\n",
        "valloader = DataLoader(valset, batch_size=BATCH_SIZE)"
      ],
      "execution_count": 27,
      "outputs": []
    },
    {
      "cell_type": "code",
      "metadata": {
        "id": "6A3Am3KP6WQ0",
        "outputId": "3b981d02-441b-4bd5-fe27-89fe7387a541",
        "colab": {
          "base_uri": "https://localhost:8080/",
          "height": 34
        }
      },
      "source": [
        "len(testloader), len(valloader)"
      ],
      "execution_count": 28,
      "outputs": [
        {
          "output_type": "execute_result",
          "data": {
            "text/plain": [
              "(79, 40)"
            ]
          },
          "metadata": {
            "tags": []
          },
          "execution_count": 28
        }
      ]
    },
    {
      "cell_type": "markdown",
      "metadata": {
        "id": "WRY9VUcH6WQ_"
      },
      "source": [
        "# 2 自定义神经网络"
      ]
    },
    {
      "cell_type": "code",
      "metadata": {
        "id": "O6NqD9i16WQ_",
        "outputId": "db7a0854-9e94-4baf-da82-462003c0c1b5",
        "colab": {
          "base_uri": "https://localhost:8080/",
          "height": 34
        }
      },
      "source": [
        "# 输入形状是语料库的单词数\n",
        "vocab_size"
      ],
      "execution_count": 29,
      "outputs": [
        {
          "output_type": "execute_result",
          "data": {
            "text/plain": [
              "5000"
            ]
          },
          "metadata": {
            "tags": []
          },
          "execution_count": 29
        }
      ]
    },
    {
      "cell_type": "code",
      "metadata": {
        "id": "S8xQJ6a06WRB"
      },
      "source": [
        "# 文本分类，RNN模型\n",
        "class TextRNN(nn.Module):\n",
        "    def __init__(self):\n",
        "        super(TextRNN, self).__init__()\n",
        "        # 词向量嵌入，输入2维，输出3维，最后一维为64\n",
        "        self.embedding = nn.Embedding(5000, 64)  # 进行词嵌入\n",
        "        # GRU需要2个输入，\n",
        "        # batch_first=True时，input_0 of shape (batch, seq_len, input_size)\n",
        "        # h_0 of shape (batch, num_layers * num_directions, hidden_size)\n",
        "        self.rnn = nn.GRU(input_size=64,\n",
        "                          hidden_size=128,\n",
        "                          num_layers=2,\n",
        "                          batch_first=True,\n",
        "                          bidirectional=True)\n",
        "        self.f1 = nn.Sequential(nn.Linear(256, 128), nn.Dropout(0.8),\n",
        "                                nn.ReLU())\n",
        "        self.f2 = nn.Sequential(nn.Linear(128, 10), nn.Softmax(1))\n",
        "\n",
        "    def forward(self, x):\n",
        "        x = self.embedding(x)\n",
        "        x, _ = self.rnn(x)\n",
        "        x = F.dropout(x, p=0.8)\n",
        "        # 取最后一个时间步\n",
        "        x = self.f1(x[:, -1, :])\n",
        "        return self.f2(x)  # (batch_size, 10)\n",
        "    "
      ],
      "execution_count": 30,
      "outputs": []
    },
    {
      "cell_type": "markdown",
      "metadata": {
        "id": "IInk36cc6WRD"
      },
      "source": [
        "# 建模"
      ]
    },
    {
      "cell_type": "markdown",
      "metadata": {
        "id": "p-uTlvII6WRE"
      },
      "source": [
        "## 实例化模型"
      ]
    },
    {
      "cell_type": "code",
      "metadata": {
        "id": "CM7H57Z26WRE",
        "outputId": "44e02c0f-7894-4a4e-a06f-6b58dc8732b6",
        "colab": {
          "base_uri": "https://localhost:8080/",
          "height": 238
        }
      },
      "source": [
        "textrnn = TextRNN()\n",
        "device = torch.device(\"cuda:0\" if torch.cuda.is_available() else 'cpu')\n",
        "textrnn.to(device)"
      ],
      "execution_count": 36,
      "outputs": [
        {
          "output_type": "execute_result",
          "data": {
            "text/plain": [
              "TextRNN(\n",
              "  (embedding): Embedding(5000, 64)\n",
              "  (rnn): GRU(64, 128, num_layers=2, batch_first=True, bidirectional=True)\n",
              "  (f1): Sequential(\n",
              "    (0): Linear(in_features=256, out_features=128, bias=True)\n",
              "    (1): Dropout(p=0.8, inplace=False)\n",
              "    (2): ReLU()\n",
              "  )\n",
              "  (f2): Sequential(\n",
              "    (0): Linear(in_features=128, out_features=10, bias=True)\n",
              "    (1): Softmax(dim=1)\n",
              "  )\n",
              ")"
            ]
          },
          "metadata": {
            "tags": []
          },
          "execution_count": 36
        }
      ]
    },
    {
      "cell_type": "markdown",
      "metadata": {
        "id": "3Ro7xluB6WRH"
      },
      "source": [
        "## 编译模型"
      ]
    },
    {
      "cell_type": "code",
      "metadata": {
        "id": "Zcni9anY6WRH"
      },
      "source": [
        "LR = 1e-3\n",
        "criterion = nn.MultiLabelSoftMarginLoss()\n",
        "optimizer = torch.optim.Adam(textrnn.parameters(), lr=LR)"
      ],
      "execution_count": 37,
      "outputs": []
    },
    {
      "cell_type": "markdown",
      "metadata": {
        "id": "Wx-UFZUm6WRM"
      },
      "source": [
        "## 训练"
      ]
    },
    {
      "cell_type": "code",
      "metadata": {
        "id": "AsGFdd916WRM",
        "outputId": "ae39869c-7eea-4ad1-def3-4a25155720b5",
        "colab": {
          "base_uri": "https://localhost:8080/",
          "height": 236,
          "referenced_widgets": [
            "9cdc5a2afb0b49a894f724cf7f0f5407",
            "7961be7b6726404f8d18d42ec27a940f",
            "7405bcb8e61a47d3932bb6727ff87fa7",
            "d92f3fc64e2b44318a2784a519317974",
            "4cdcd50811cd440089bed8785c27b511",
            "ee33918e1c784198b73def31b8bd7cc8",
            "d44a8bfb458d4740a68e7fa52f25db63",
            "dd8e5ae3b3fd4b2bb5facfb11d7e9210"
          ]
        }
      },
      "source": [
        "EPOCH = 20\n",
        "costs = []\n",
        "\n",
        "early_stop = 0\n",
        "min_loss = float('inf')\n",
        "best_acc = 0.\n",
        "\n",
        "for epoch in tnrange(EPOCH):\n",
        "    losses = []\n",
        "    train_correct, train_total = 0., 0.\n",
        "    for step, (b_x, b_y) in enumerate(trainloader):\n",
        "        b_x, b_y = b_x.to(device), b_y.to(device)\n",
        "        # 前向传播\n",
        "        output = textrnn(b_x)\n",
        "        # 计算loss\n",
        "        loss = criterion(output, b_y)\n",
        "        losses.append(loss.item())\n",
        "        # 梯度清零\n",
        "        optimizer.zero_grad()\n",
        "        # 反向传播\n",
        "        loss.backward()\n",
        "        # 权值更新\n",
        "        optimizer.step()\n",
        "        # 统计训练集准确数量\n",
        "        train_pred = torch.argmax(output, 1).data.cpu().numpy()\n",
        "        train_label = torch.argmax(b_y, 1).data.cpu().numpy()\n",
        "        train_correct += (train_pred == train_label).sum()\n",
        "        train_total += len(train_label)\n",
        "    meanloss = np.mean(losses)\n",
        "    costs.append(meanloss)\n",
        "    if epoch % 2 == 0:\n",
        "        # 训练集准确率\n",
        "        train_acc = train_correct / train_total\n",
        "        print(\"==>epoch:{} 训练集loss:{:.4f} 训练集accuracy:{:.2f}% \".format(epoch, meanloss, train_acc * 100))\n",
        "        # textrnn.train(False)\n",
        "        # 验证集预测\n",
        "        # val_correct, val_total = 0., 0.\n",
        "        # for i, (x_v, y_v) in enumerate(valloader):\n",
        "        #     x_v, y_v = x_v.to(device), y_v.to(device)\n",
        "        #     val_output = textrnn(x_v.to(device))\n",
        "        #     # 获取预测的label，并转为数组\n",
        "        #     val_pred = torch.argmax(val_output, 1)\n",
        "        #     val_pred_arr = val_pred.data.cpu().numpy()\n",
        "        #     y_val_arr = torch.argmax(y_v, 1).data.cpu().numpy()\n",
        "        #     # 准确率\n",
        "        #     val_correct += (val_pred_arr == y_val_arr).sum()\n",
        "        #     val_total += len(y_val_arr)\n",
        "        # val_acc = val_correct / val_total\n",
        "        # print(\"==>epoch:{} 训练集loss:{:.4f} 训练集accuracy:{:.2f}% 验证集accuracy:{:.2f}%\".\n",
        "        #     format(epoch, meanloss, train_acc * 100, val_acc * 100))\n",
        "        # textrnn.train(True)\n",
        "    # 根据准确率保存模型\n",
        "    # if val_acc > best_acc:\n",
        "    #     best_acc = val_acc\n",
        "    #     torch.save(textrnn, 'textRNN.pt')\n",
        "    #  早停法\n",
        "    if meanloss < min_loss:\n",
        "        min_loss = meanloss\n",
        "        early_stop = 0\n",
        "    else:\n",
        "        early_stop += 1\n",
        "    if early_stop > 5:\n",
        "        print(f\"loss连续{epoch}个epoch未降低, 停止循环\")\n",
        "        break"
      ],
      "execution_count": 38,
      "outputs": [
        {
          "output_type": "display_data",
          "data": {
            "application/vnd.jupyter.widget-view+json": {
              "model_id": "9cdc5a2afb0b49a894f724cf7f0f5407",
              "version_minor": 0,
              "version_major": 2
            },
            "text/plain": [
              "HBox(children=(FloatProgress(value=0.0, max=20.0), HTML(value='')))"
            ]
          },
          "metadata": {
            "tags": []
          }
        },
        {
          "output_type": "stream",
          "text": [
            "==>epoch:0 训练集loss:0.7159 训练集accuracy:36.51% \n",
            "==>epoch:2 训练集loss:0.6896 训练集accuracy:65.28% \n",
            "==>epoch:4 训练集loss:0.6774 训练集accuracy:77.83% \n",
            "==>epoch:6 训练集loss:0.6718 训练集accuracy:83.39% \n",
            "==>epoch:8 训练集loss:0.6691 训练集accuracy:86.05% \n",
            "==>epoch:10 训练集loss:0.6667 训练集accuracy:88.43% \n",
            "==>epoch:12 训练集loss:0.6663 训练集accuracy:88.85% \n",
            "==>epoch:14 训练集loss:0.6651 训练集accuracy:90.04% \n",
            "==>epoch:16 训练集loss:0.6653 训练集accuracy:89.90% \n",
            "==>epoch:18 训练集loss:0.6638 训练集accuracy:91.36% \n",
            "\n"
          ],
          "name": "stdout"
        }
      ]
    },
    {
      "cell_type": "markdown",
      "metadata": {
        "id": "n3IgdEFb8Ubo"
      },
      "source": [
        "# 测试集"
      ]
    },
    {
      "cell_type": "code",
      "metadata": {
        "id": "BrQziKLL6WRP",
        "outputId": "4795885c-5a4f-49d7-8ef2-1b13e290716d",
        "colab": {
          "base_uri": "https://localhost:8080/",
          "height": 34
        }
      },
      "source": [
        "textrnn.eval()\n",
        "correct, total = 0, 0\n",
        "for x_t, y_t in testloader:\n",
        "    x_t, y_t = x_t.to(device), y_t.to(device)\n",
        "    output = textrnn(x_t)\n",
        "    test_pred = torch.argmax(output, 1).data.cpu().numpy()\n",
        "    test_label = torch.argmax(y_t, 1).data.cpu().numpy()\n",
        "    correct += (test_pred == test_label).sum()\n",
        "    total += len(y_t)\n",
        "    \n",
        "print('10000个测试集的准确率:{:.4f}'.format(100 * correct / total))"
      ],
      "execution_count": 39,
      "outputs": [
        {
          "output_type": "stream",
          "text": [
            "10000个测试集的准确率:90.4100\n"
          ],
          "name": "stdout"
        }
      ]
    },
    {
      "cell_type": "code",
      "metadata": {
        "id": "ecuO6CYWEZZq"
      },
      "source": [
        ""
      ],
      "execution_count": 39,
      "outputs": []
    }
  ]
}