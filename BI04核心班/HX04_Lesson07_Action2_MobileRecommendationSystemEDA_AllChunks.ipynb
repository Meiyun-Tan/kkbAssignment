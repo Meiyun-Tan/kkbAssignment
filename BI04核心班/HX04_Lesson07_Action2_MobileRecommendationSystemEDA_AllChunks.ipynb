{
 "cells": [
  {
   "cell_type": "markdown",
   "metadata": {},
   "source": [
    "以下code是对整个用户数据集以及商品子集的可视化探索"
   ]
  },
  {
   "cell_type": "markdown",
   "metadata": {
    "toc": true
   },
   "source": [
    "<h1>Table of Contents<span class=\"tocSkip\"></span></h1>\n",
    "<div class=\"toc\"><ul class=\"toc-item\"><li><span><a href=\"#1-加载数据集\" data-toc-modified-id=\"1-加载数据集-1\">1 加载数据集</a></span><ul class=\"toc-item\"><li><span><a href=\"#1.1-获取全部用户数据集\" data-toc-modified-id=\"1.1-获取全部用户数据集-1.1\">1.1 获取全部用户数据集</a></span><ul class=\"toc-item\"><li><span><a href=\"#1.1.1-提取月日为单独特征\" data-toc-modified-id=\"1.1.1-提取月日为单独特征-1.1.1\">1.1.1 提取月日为单独特征</a></span></li></ul></li><li><span><a href=\"#1.2-用户数据集EDA\" data-toc-modified-id=\"1.2-用户数据集EDA-1.2\">1.2 用户数据集EDA</a></span><ul class=\"toc-item\"><li><span><a href=\"#1.2.1-整体各用户行为占比可视化\" data-toc-modified-id=\"1.2.1-整体各用户行为占比可视化-1.2.1\">1.2.1 整体各用户行为占比可视化</a></span></li><li><span><a href=\"#1.2.2-时间规律统计——每日转化率可视化\" data-toc-modified-id=\"1.2.2-时间规律统计——每日转化率可视化-1.2.2\">1.2.2 时间规律统计——每日转化率可视化</a></span></li><li><span><a href=\"#1.2.2-时间规律统计——每日用户行为总量可视化对比\" data-toc-modified-id=\"1.2.2-时间规律统计——每日用户行为总量可视化对比-1.2.3\">1.2.2 时间规律统计——每日用户行为总量可视化对比</a></span></li><li><span><a href=\"#1.2.3-时间规律统计——每日浏览、加购、收藏、下单量可视化对比\" data-toc-modified-id=\"1.2.3-时间规律统计——每日浏览、加购、收藏、下单量可视化对比-1.2.4\">1.2.3 时间规律统计——每日浏览、加购、收藏、下单量可视化对比</a></span></li><li><span><a href=\"#1.2.4-时间规律统计——每周收藏、加购、下单次数可视化对比\" data-toc-modified-id=\"1.2.4-时间规律统计——每周收藏、加购、下单次数可视化对比-1.2.5\">1.2.4 时间规律统计——每周收藏、加购、下单次数可视化对比</a></span></li><li><span><a href=\"#1.2.5-时间规律统计——每周转化率变化趋势\" data-toc-modified-id=\"1.2.5-时间规律统计——每周转化率变化趋势-1.2.6\">1.2.5 时间规律统计——每周转化率变化趋势</a></span></li><li><span><a href=\"#1.2.6-时间规律统计——每日活跃用户数\" data-toc-modified-id=\"1.2.6-时间规律统计——每日活跃用户数-1.2.7\">1.2.6 时间规律统计——每日活跃用户数</a></span></li><li><span><a href=\"#1.2.7-时间规律统计——双十二当天每小时用户行为变化对比\" data-toc-modified-id=\"1.2.7-时间规律统计——双十二当天每小时用户行为变化对比-1.2.8\">1.2.7 时间规律统计——双十二当天每小时用户行为变化对比</a></span><ul class=\"toc-item\"><li><span><a href=\"#1.2.7.1-每小时浏览量可视化\" data-toc-modified-id=\"1.2.7.1-每小时浏览量可视化-1.2.8.1\">1.2.7.1 每小时浏览量可视化</a></span></li><li><span><a href=\"#1.2.7.2-每小时收藏、加购、下单量可视化\" data-toc-modified-id=\"1.2.7.2-每小时收藏、加购、下单量可视化-1.2.8.2\">1.2.7.2 每小时收藏、加购、下单量可视化</a></span></li><li><span><a href=\"#1.2.7.3-每小时转化率可视化\" data-toc-modified-id=\"1.2.7.3-每小时转化率可视化-1.2.8.3\">1.2.7.3 每小时转化率可视化</a></span></li><li><span><a href=\"#1.2.7.4-每小时活跃用户数\" data-toc-modified-id=\"1.2.7.4-每小时活跃用户数-1.2.8.4\">1.2.7.4 每小时活跃用户数</a></span></li><li><span><a href=\"#1.2.7.5-被浏览商品品类可视化\" data-toc-modified-id=\"1.2.7.5-被浏览商品品类可视化-1.2.8.5\">1.2.7.5 被浏览商品品类可视化</a></span></li></ul></li></ul></li><li><span><a href=\"#1.3-获取商品子集\" data-toc-modified-id=\"1.3-获取商品子集-1.3\">1.3 获取商品子集</a></span><ul class=\"toc-item\"><li><span><a href=\"#1.3.1-读取数据集\" data-toc-modified-id=\"1.3.1-读取数据集-1.3.1\">1.3.1 读取数据集</a></span></li><li><span><a href=\"#1.3.2-获取对商品子集有行为的用户数据集\" data-toc-modified-id=\"1.3.2-获取对商品子集有行为的用户数据集-1.3.2\">1.3.2 获取对商品子集有行为的用户数据集</a></span></li><li><span><a href=\"#1.3.3-商品子集的用户各行为占比\" data-toc-modified-id=\"1.3.3-商品子集的用户各行为占比-1.3.3\">1.3.3 商品子集的用户各行为占比</a></span></li><li><span><a href=\"#1.3.4-商品子集每日用户行为总量可视化\" data-toc-modified-id=\"1.3.4-商品子集每日用户行为总量可视化-1.3.4\">1.3.4 商品子集每日用户行为总量可视化</a></span></li><li><span><a href=\"#1.3.5-商品子集每日浏览行为可视化\" data-toc-modified-id=\"1.3.5-商品子集每日浏览行为可视化-1.3.5\">1.3.5 商品子集每日浏览行为可视化</a></span></li><li><span><a href=\"#1.3.6-商品子集每日收藏、加购、下单可视化\" data-toc-modified-id=\"1.3.6-商品子集每日收藏、加购、下单可视化-1.3.6\">1.3.6 商品子集每日收藏、加购、下单可视化</a></span></li></ul></li></ul></li></ul></div>"
   ]
  },
  {
   "cell_type": "markdown",
   "metadata": {},
   "source": [
    "Action2:    \n",
    "对移动推荐系统进行可视化数据探索    \n",
    "\n",
    "1.大赛数据抽样方式？    \n",
    "首先是抽取用户，从移动端对垂直行业商品在数据周期内（2014年11月18日 至 2014年12月19日） 有行为用户中抽取一定数量的用户，然后抽取这些用户在所有商品上的行为作为用户行为训练数据；抽取这些用户有行为的所有垂直行业商品作为商品子集，用户抽样的总体思想是随机抽样，同时保证预测日有购买的商品在训练周期内也是活跃商品（即排除预测日偶发购买的用户）。    \n",
    "\n",
    "训练数据集对应的时间区间为11.18~12.18，需要选手预测12.19用户商品购买对。    \n",
    "\n",
    "\n",
    "数据集https://tianchi.aliyun.com/competition/entrance/231522/information     \n",
    "\n",
    "tianchi_fresh_comp_train_item.csv    \n",
    "tianchi_fresh_comp_train_user.csv     \n",
    "比如时间规律统计，4种行为类别的对比…     "
   ]
  },
  {
   "cell_type": "code",
   "execution_count": 1,
   "metadata": {
    "ExecuteTime": {
     "end_time": "2020-10-07T12:10:28.927910Z",
     "start_time": "2020-10-07T12:10:28.923669Z"
    }
   },
   "outputs": [],
   "source": [
    "import os\n",
    "import calendar\n",
    "from datetime import datetime, timedelta"
   ]
  },
  {
   "cell_type": "code",
   "execution_count": 2,
   "metadata": {
    "ExecuteTime": {
     "end_time": "2020-10-07T12:10:30.542395Z",
     "start_time": "2020-10-07T12:10:28.932506Z"
    }
   },
   "outputs": [],
   "source": [
    "%matplotlib inline\n",
    "# gc用于回收内存中不使用的对象的模块\n",
    "import gc\n",
    "import numpy as np\n",
    "import pandas as pd\n",
    "import seaborn as sns\n",
    "from matplotlib import pyplot as plt\n",
    "from collections import defaultdict\n",
    "from matplotlib.font_manager import FontProperties\n",
    "my_font = FontProperties(fname='/System/Library/Fonts/STHeiti Medium.ttc')"
   ]
  },
  {
   "cell_type": "code",
   "execution_count": 3,
   "metadata": {
    "ExecuteTime": {
     "end_time": "2020-10-07T12:10:30.553521Z",
     "start_time": "2020-10-07T12:10:30.545250Z"
    },
    "scrolled": true
   },
   "outputs": [
    {
     "data": {
      "text/plain": [
       "'1.1.0'"
      ]
     },
     "execution_count": 3,
     "metadata": {},
     "output_type": "execute_result"
    }
   ],
   "source": [
    "pd.__version__"
   ]
  },
  {
   "cell_type": "code",
   "execution_count": 4,
   "metadata": {
    "ExecuteTime": {
     "end_time": "2020-10-07T12:10:30.571590Z",
     "start_time": "2020-10-07T12:10:30.556095Z"
    },
    "scrolled": true
   },
   "outputs": [
    {
     "name": "stdout",
     "output_type": "stream",
     "text": [
      "   November 2014\n",
      "Mo Tu We Th Fr Sa Su\n",
      "                1  2\n",
      " 3  4  5  6  7  8  9\n",
      "10 11 12 13 14 15 16\n",
      "17 18 19 20 21 22 23\n",
      "24 25 26 27 28 29 30\n",
      "\n"
     ]
    }
   ],
   "source": [
    "print(calendar.month(2014, 11))"
   ]
  },
  {
   "cell_type": "code",
   "execution_count": 5,
   "metadata": {
    "ExecuteTime": {
     "end_time": "2020-10-07T12:10:30.581354Z",
     "start_time": "2020-10-07T12:10:30.576376Z"
    },
    "scrolled": true
   },
   "outputs": [
    {
     "name": "stdout",
     "output_type": "stream",
     "text": [
      "   December 2014\n",
      "Mo Tu We Th Fr Sa Su\n",
      " 1  2  3  4  5  6  7\n",
      " 8  9 10 11 12 13 14\n",
      "15 16 17 18 19 20 21\n",
      "22 23 24 25 26 27 28\n",
      "29 30 31\n",
      "\n"
     ]
    }
   ],
   "source": [
    "print(calendar.month(2014, 12))"
   ]
  },
  {
   "cell_type": "markdown",
   "metadata": {},
   "source": [
    "11月18日为周二，12月19日为周五。"
   ]
  },
  {
   "cell_type": "code",
   "execution_count": 6,
   "metadata": {
    "ExecuteTime": {
     "end_time": "2020-10-07T12:10:30.602249Z",
     "start_time": "2020-10-07T12:10:30.593394Z"
    }
   },
   "outputs": [
    {
     "data": {
      "text/plain": [
       "DatetimeIndex(['2014-11-18', '2014-11-19', '2014-11-20', '2014-11-21',\n",
       "               '2014-11-22', '2014-11-23', '2014-11-24', '2014-11-25',\n",
       "               '2014-11-26', '2014-11-27', '2014-11-28', '2014-11-29',\n",
       "               '2014-11-30', '2014-12-01', '2014-12-02', '2014-12-03',\n",
       "               '2014-12-04', '2014-12-05', '2014-12-06', '2014-12-07',\n",
       "               '2014-12-08', '2014-12-09', '2014-12-10', '2014-12-11',\n",
       "               '2014-12-12', '2014-12-13', '2014-12-14', '2014-12-15',\n",
       "               '2014-12-16', '2014-12-17', '2014-12-18'],\n",
       "              dtype='datetime64[ns]', freq='D')"
      ]
     },
     "execution_count": 6,
     "metadata": {},
     "output_type": "execute_result"
    }
   ],
   "source": [
    "dateindex = pd.date_range('2014-11-18', '2014-12-18', freq='D')\n",
    "dateindex"
   ]
  },
  {
   "cell_type": "code",
   "execution_count": null,
   "metadata": {},
   "outputs": [],
   "source": []
  },
  {
   "cell_type": "markdown",
   "metadata": {},
   "source": [
    "# 1 加载数据集"
   ]
  },
  {
   "cell_type": "code",
   "execution_count": 7,
   "metadata": {
    "ExecuteTime": {
     "end_time": "2020-10-07T12:10:30.611286Z",
     "start_time": "2020-10-07T12:10:30.608891Z"
    }
   },
   "outputs": [],
   "source": [
    "fpath = './移动推荐系统data/fresh_comp_offline/'"
   ]
  },
  {
   "cell_type": "code",
   "execution_count": 8,
   "metadata": {
    "ExecuteTime": {
     "end_time": "2020-10-07T12:10:30.619430Z",
     "start_time": "2020-10-07T12:10:30.615942Z"
    }
   },
   "outputs": [],
   "source": [
    "user_path = os.path.join(fpath, 'tianchi_fresh_comp_train_user.csv')\n",
    "item_path = os.path.join(fpath, 'tianchi_fresh_comp_train_item.csv')"
   ]
  },
  {
   "cell_type": "code",
   "execution_count": 9,
   "metadata": {
    "ExecuteTime": {
     "end_time": "2020-10-07T12:10:30.627868Z",
     "start_time": "2020-10-07T12:10:30.621949Z"
    }
   },
   "outputs": [],
   "source": [
    "train_u_chunks = pd.read_csv(user_path, parse_dates=['time'], chunksize=1000000)"
   ]
  },
  {
   "cell_type": "code",
   "execution_count": 10,
   "metadata": {
    "ExecuteTime": {
     "end_time": "2020-10-07T12:10:30.644224Z",
     "start_time": "2020-10-07T12:10:30.630009Z"
    }
   },
   "outputs": [
    {
     "data": {
      "text/html": [
       "<div>\n",
       "<style scoped>\n",
       "    .dataframe tbody tr th:only-of-type {\n",
       "        vertical-align: middle;\n",
       "    }\n",
       "\n",
       "    .dataframe tbody tr th {\n",
       "        vertical-align: top;\n",
       "    }\n",
       "\n",
       "    .dataframe thead th {\n",
       "        text-align: right;\n",
       "    }\n",
       "</style>\n",
       "<table border=\"1\" class=\"dataframe\">\n",
       "  <thead>\n",
       "    <tr style=\"text-align: right;\">\n",
       "      <th></th>\n",
       "      <th>user_id</th>\n",
       "      <th>item_id</th>\n",
       "      <th>behavior_type</th>\n",
       "      <th>user_geohash</th>\n",
       "      <th>item_category</th>\n",
       "      <th>time</th>\n",
       "    </tr>\n",
       "  </thead>\n",
       "  <tbody>\n",
       "    <tr>\n",
       "      <th>0</th>\n",
       "      <td>10001082</td>\n",
       "      <td>285259775</td>\n",
       "      <td>1</td>\n",
       "      <td>97lk14c</td>\n",
       "      <td>4076</td>\n",
       "      <td>2014-12-08 18:00:00</td>\n",
       "    </tr>\n",
       "    <tr>\n",
       "      <th>1</th>\n",
       "      <td>10001082</td>\n",
       "      <td>4368907</td>\n",
       "      <td>1</td>\n",
       "      <td>NaN</td>\n",
       "      <td>5503</td>\n",
       "      <td>2014-12-12 12:00:00</td>\n",
       "    </tr>\n",
       "    <tr>\n",
       "      <th>2</th>\n",
       "      <td>10001082</td>\n",
       "      <td>4368907</td>\n",
       "      <td>1</td>\n",
       "      <td>NaN</td>\n",
       "      <td>5503</td>\n",
       "      <td>2014-12-12 12:00:00</td>\n",
       "    </tr>\n",
       "    <tr>\n",
       "      <th>3</th>\n",
       "      <td>10001082</td>\n",
       "      <td>53616768</td>\n",
       "      <td>1</td>\n",
       "      <td>NaN</td>\n",
       "      <td>9762</td>\n",
       "      <td>2014-12-02 15:00:00</td>\n",
       "    </tr>\n",
       "    <tr>\n",
       "      <th>4</th>\n",
       "      <td>10001082</td>\n",
       "      <td>151466952</td>\n",
       "      <td>1</td>\n",
       "      <td>NaN</td>\n",
       "      <td>5232</td>\n",
       "      <td>2014-12-12 11:00:00</td>\n",
       "    </tr>\n",
       "  </tbody>\n",
       "</table>\n",
       "</div>"
      ],
      "text/plain": [
       "    user_id    item_id  behavior_type user_geohash  item_category  \\\n",
       "0  10001082  285259775              1      97lk14c           4076   \n",
       "1  10001082    4368907              1          NaN           5503   \n",
       "2  10001082    4368907              1          NaN           5503   \n",
       "3  10001082   53616768              1          NaN           9762   \n",
       "4  10001082  151466952              1          NaN           5232   \n",
       "\n",
       "                 time  \n",
       "0 2014-12-08 18:00:00  \n",
       "1 2014-12-12 12:00:00  \n",
       "2 2014-12-12 12:00:00  \n",
       "3 2014-12-02 15:00:00  \n",
       "4 2014-12-12 11:00:00  "
      ]
     },
     "execution_count": 10,
     "metadata": {},
     "output_type": "execute_result"
    }
   ],
   "source": [
    "train_u_chunks.get_chunk(5)"
   ]
  },
  {
   "cell_type": "code",
   "execution_count": 11,
   "metadata": {
    "ExecuteTime": {
     "end_time": "2020-10-07T12:10:30.650075Z",
     "start_time": "2020-10-07T12:10:30.645981Z"
    }
   },
   "outputs": [
    {
     "data": {
      "text/plain": [
       "pandas.io.parsers.TextFileReader"
      ]
     },
     "execution_count": 11,
     "metadata": {},
     "output_type": "execute_result"
    }
   ],
   "source": [
    "type(train_u_chunks)"
   ]
  },
  {
   "cell_type": "markdown",
   "metadata": {},
   "source": [
    "## 1.1 获取全部用户数据集"
   ]
  },
  {
   "cell_type": "code",
   "execution_count": 12,
   "metadata": {
    "ExecuteTime": {
     "end_time": "2020-10-07T12:10:30.658867Z",
     "start_time": "2020-10-07T12:10:30.652924Z"
    },
    "scrolled": true
   },
   "outputs": [],
   "source": [
    "def get_df(path):\n",
    "    \"\"\"分批读取全部数据\"\"\"\n",
    "    temp = []\n",
    "    for chunk in pd.read_csv(path, parse_dates=['time'], chunksize=1000000):\n",
    "        temp.append(chunk.drop(columns='user_geohash'))\n",
    "    df = pd.concat(temp, axis=0)\n",
    "    print(df.shape)\n",
    "    return df"
   ]
  },
  {
   "cell_type": "code",
   "execution_count": 13,
   "metadata": {
    "ExecuteTime": {
     "end_time": "2020-10-07T12:10:47.364961Z",
     "start_time": "2020-10-07T12:10:30.661751Z"
    }
   },
   "outputs": [
    {
     "name": "stdout",
     "output_type": "stream",
     "text": [
      "(23291027, 5)\n"
     ]
    }
   ],
   "source": [
    "train_users = get_df(user_path)"
   ]
  },
  {
   "cell_type": "code",
   "execution_count": 14,
   "metadata": {
    "ExecuteTime": {
     "end_time": "2020-10-07T12:10:47.378867Z",
     "start_time": "2020-10-07T12:10:47.367083Z"
    }
   },
   "outputs": [
    {
     "name": "stdout",
     "output_type": "stream",
     "text": [
      "<class 'pandas.core.frame.DataFrame'>\n",
      "RangeIndex: 23291027 entries, 0 to 23291026\n",
      "Data columns (total 5 columns):\n",
      " #   Column         Dtype         \n",
      "---  ------         -----         \n",
      " 0   user_id        int64         \n",
      " 1   item_id        int64         \n",
      " 2   behavior_type  int64         \n",
      " 3   item_category  int64         \n",
      " 4   time           datetime64[ns]\n",
      "dtypes: datetime64[ns](1), int64(4)\n",
      "memory usage: 888.5 MB\n"
     ]
    }
   ],
   "source": [
    "train_users.info()"
   ]
  },
  {
   "cell_type": "markdown",
   "metadata": {},
   "source": [
    "read_csv中有个参数chunksize,通过指定一个chunksize分块大小来读取文件,返回TextFileReader，需要for循环"
   ]
  },
  {
   "cell_type": "markdown",
   "metadata": {},
   "source": [
    "### 1.1.1 提取月日为单独特征"
   ]
  },
  {
   "cell_type": "code",
   "execution_count": 15,
   "metadata": {
    "ExecuteTime": {
     "end_time": "2020-10-07T12:10:48.238148Z",
     "start_time": "2020-10-07T12:10:47.381645Z"
    }
   },
   "outputs": [
    {
     "data": {
      "text/html": [
       "<div>\n",
       "<style scoped>\n",
       "    .dataframe tbody tr th:only-of-type {\n",
       "        vertical-align: middle;\n",
       "    }\n",
       "\n",
       "    .dataframe tbody tr th {\n",
       "        vertical-align: top;\n",
       "    }\n",
       "\n",
       "    .dataframe thead th {\n",
       "        text-align: right;\n",
       "    }\n",
       "</style>\n",
       "<table border=\"1\" class=\"dataframe\">\n",
       "  <thead>\n",
       "    <tr style=\"text-align: right;\">\n",
       "      <th></th>\n",
       "      <th>user_id</th>\n",
       "      <th>item_id</th>\n",
       "      <th>behavior_type</th>\n",
       "      <th>item_category</th>\n",
       "      <th>time</th>\n",
       "    </tr>\n",
       "    <tr>\n",
       "      <th>time</th>\n",
       "      <th></th>\n",
       "      <th></th>\n",
       "      <th></th>\n",
       "      <th></th>\n",
       "      <th></th>\n",
       "    </tr>\n",
       "  </thead>\n",
       "  <tbody>\n",
       "    <tr>\n",
       "      <th>2014-12-08 18:00:00</th>\n",
       "      <td>10001082</td>\n",
       "      <td>285259775</td>\n",
       "      <td>1</td>\n",
       "      <td>4076</td>\n",
       "      <td>2014-12-08 18:00:00</td>\n",
       "    </tr>\n",
       "  </tbody>\n",
       "</table>\n",
       "</div>"
      ],
      "text/plain": [
       "                      user_id    item_id  behavior_type  item_category  \\\n",
       "time                                                                     \n",
       "2014-12-08 18:00:00  10001082  285259775              1           4076   \n",
       "\n",
       "                                   time  \n",
       "time                                     \n",
       "2014-12-08 18:00:00 2014-12-08 18:00:00  "
      ]
     },
     "execution_count": 15,
     "metadata": {},
     "output_type": "execute_result"
    }
   ],
   "source": [
    "train_users = train_users.set_index(keys=['time'], drop=False)\n",
    "train_users.head(1)"
   ]
  },
  {
   "cell_type": "code",
   "execution_count": 16,
   "metadata": {
    "ExecuteTime": {
     "end_time": "2020-10-07T12:10:49.307958Z",
     "start_time": "2020-10-07T12:10:48.241453Z"
    }
   },
   "outputs": [],
   "source": [
    "train_users['month'] = train_users.index.month"
   ]
  },
  {
   "cell_type": "code",
   "execution_count": 17,
   "metadata": {
    "ExecuteTime": {
     "end_time": "2020-10-07T12:10:50.325849Z",
     "start_time": "2020-10-07T12:10:49.310520Z"
    }
   },
   "outputs": [],
   "source": [
    "train_users['day'] = train_users.index.day"
   ]
  },
  {
   "cell_type": "code",
   "execution_count": 18,
   "metadata": {
    "ExecuteTime": {
     "end_time": "2020-10-07T12:10:50.340413Z",
     "start_time": "2020-10-07T12:10:50.328536Z"
    }
   },
   "outputs": [
    {
     "data": {
      "text/html": [
       "<div>\n",
       "<style scoped>\n",
       "    .dataframe tbody tr th:only-of-type {\n",
       "        vertical-align: middle;\n",
       "    }\n",
       "\n",
       "    .dataframe tbody tr th {\n",
       "        vertical-align: top;\n",
       "    }\n",
       "\n",
       "    .dataframe thead th {\n",
       "        text-align: right;\n",
       "    }\n",
       "</style>\n",
       "<table border=\"1\" class=\"dataframe\">\n",
       "  <thead>\n",
       "    <tr style=\"text-align: right;\">\n",
       "      <th></th>\n",
       "      <th>user_id</th>\n",
       "      <th>item_id</th>\n",
       "      <th>behavior_type</th>\n",
       "      <th>item_category</th>\n",
       "      <th>time</th>\n",
       "      <th>month</th>\n",
       "      <th>day</th>\n",
       "    </tr>\n",
       "    <tr>\n",
       "      <th>time</th>\n",
       "      <th></th>\n",
       "      <th></th>\n",
       "      <th></th>\n",
       "      <th></th>\n",
       "      <th></th>\n",
       "      <th></th>\n",
       "      <th></th>\n",
       "    </tr>\n",
       "  </thead>\n",
       "  <tbody>\n",
       "    <tr>\n",
       "      <th>2014-12-08 18:00:00</th>\n",
       "      <td>10001082</td>\n",
       "      <td>285259775</td>\n",
       "      <td>1</td>\n",
       "      <td>4076</td>\n",
       "      <td>2014-12-08 18:00:00</td>\n",
       "      <td>12</td>\n",
       "      <td>8</td>\n",
       "    </tr>\n",
       "  </tbody>\n",
       "</table>\n",
       "</div>"
      ],
      "text/plain": [
       "                      user_id    item_id  behavior_type  item_category  \\\n",
       "time                                                                     \n",
       "2014-12-08 18:00:00  10001082  285259775              1           4076   \n",
       "\n",
       "                                   time  month  day  \n",
       "time                                                 \n",
       "2014-12-08 18:00:00 2014-12-08 18:00:00     12    8  "
      ]
     },
     "execution_count": 18,
     "metadata": {},
     "output_type": "execute_result"
    }
   ],
   "source": [
    "train_users.head(1)"
   ]
  },
  {
   "cell_type": "code",
   "execution_count": 19,
   "metadata": {
    "ExecuteTime": {
     "end_time": "2020-10-07T12:10:50.398210Z",
     "start_time": "2020-10-07T12:10:50.342714Z"
    }
   },
   "outputs": [
    {
     "data": {
      "text/plain": [
       "(Timestamp('2014-11-18 00:00:00'), Timestamp('2014-12-18 23:00:00'))"
      ]
     },
     "execution_count": 19,
     "metadata": {},
     "output_type": "execute_result"
    }
   ],
   "source": [
    "train_users.index.min(), train_users.index.max()"
   ]
  },
  {
   "cell_type": "markdown",
   "metadata": {},
   "source": [
    "## 1.2 用户数据集EDA"
   ]
  },
  {
   "cell_type": "markdown",
   "metadata": {},
   "source": [
    "### 1.2.1 整体各用户行为占比可视化"
   ]
  },
  {
   "cell_type": "code",
   "execution_count": 20,
   "metadata": {
    "ExecuteTime": {
     "end_time": "2020-10-07T12:10:50.407724Z",
     "start_time": "2020-10-07T12:10:50.401596Z"
    }
   },
   "outputs": [],
   "source": [
    "def plot_pie_of_behavior(df, title):\n",
    "    \"\"\"绘制用户行为占比饼图\"\"\"\n",
    "    sns.set_context(context='talk', font_scale=0.8)\n",
    "    # 设置图片风格\n",
    "    sns.set_style(style='darkgrid')\n",
    "    # 设置调色盘\n",
    "    sns.set_palette(palette='husl')\n",
    "    plt.figure(figsize=(8, 6))\n",
    "    textprops = {'fontsize': 14, 'color': 'black', 'fontproperties': my_font}\n",
    "    df.plot(kind='pie',\n",
    "            autopct='%1.2f%%',\n",
    "            explode=(0, 0, 0.2, 0.6),\n",
    "            shadow=True,\n",
    "            textprops=textprops)\n",
    "    plt.legend(loc=1)\n",
    "    plt.title(title, fontproperties=my_font, size=30, pad=30)\n",
    "    plt.show()"
   ]
  },
  {
   "cell_type": "code",
   "execution_count": 21,
   "metadata": {
    "ExecuteTime": {
     "end_time": "2020-10-07T12:10:50.600402Z",
     "start_time": "2020-10-07T12:10:50.413400Z"
    }
   },
   "outputs": [
    {
     "data": {
      "text/plain": [
       "1    21940520\n",
       "3      659437\n",
       "2      458491\n",
       "4      232579\n",
       "Name: behavior_type, dtype: int64"
      ]
     },
     "execution_count": 21,
     "metadata": {},
     "output_type": "execute_result"
    }
   ],
   "source": [
    "# 用户行为类型：浏览、收藏、加购物车、购买，对应取值分别是1、2、3、4\n",
    "behavior_types = train_users['behavior_type'].value_counts()\n",
    "behavior_types"
   ]
  },
  {
   "cell_type": "code",
   "execution_count": 22,
   "metadata": {
    "ExecuteTime": {
     "end_time": "2020-10-07T12:10:50.765979Z",
     "start_time": "2020-10-07T12:10:50.608050Z"
    }
   },
   "outputs": [
    {
     "data": {
      "image/png": "[encoded data removed]",
      "text/plain": [
       "<Figure size 576x432 with 1 Axes>"
      ]
     },
     "metadata": {},
     "output_type": "display_data"
    }
   ],
   "source": [
    "plot_pie_of_behavior(behavior_types, title=\"整体各用户行为占比\")"
   ]
  },
  {
   "cell_type": "code",
   "execution_count": 23,
   "metadata": {
    "ExecuteTime": {
     "end_time": "2020-10-07T12:10:50.922977Z",
     "start_time": "2020-10-07T12:10:50.771610Z"
    }
   },
   "outputs": [
    {
     "data": {
      "text/plain": [
       "20000"
      ]
     },
     "execution_count": 23,
     "metadata": {},
     "output_type": "execute_result"
    }
   ],
   "source": [
    "# 数据集一共有20000个用户\n",
    "train_users['user_id'].nunique()"
   ]
  },
  {
   "cell_type": "code",
   "execution_count": 24,
   "metadata": {
    "ExecuteTime": {
     "end_time": "2020-10-07T12:10:51.084333Z",
     "start_time": "2020-10-07T12:10:50.926605Z"
    }
   },
   "outputs": [
    {
     "data": {
      "text/plain": [
       "9557"
      ]
     },
     "execution_count": 24,
     "metadata": {},
     "output_type": "execute_result"
    }
   ],
   "source": [
    "# 数据集一共有20000个用户对9557个类目有行为\n",
    "train_users['item_category'].nunique()"
   ]
  },
  {
   "cell_type": "code",
   "execution_count": 25,
   "metadata": {
    "ExecuteTime": {
     "end_time": "2020-10-07T12:10:52.318942Z",
     "start_time": "2020-10-07T12:10:51.086949Z"
    }
   },
   "outputs": [
    {
     "data": {
      "text/plain": [
       "4758484"
      ]
     },
     "execution_count": 25,
     "metadata": {},
     "output_type": "execute_result"
    }
   ],
   "source": [
    "# 数据集一共有20000个用户对4758484个商品有行为\n",
    "train_users['item_id'].nunique()"
   ]
  },
  {
   "cell_type": "markdown",
   "metadata": {},
   "source": [
    "### 1.2.2 时间规律统计——每日转化率可视化\n",
    "下单人数/浏览人数"
   ]
  },
  {
   "cell_type": "code",
   "execution_count": 26,
   "metadata": {
    "ExecuteTime": {
     "end_time": "2020-10-07T12:10:52.330425Z",
     "start_time": "2020-10-07T12:10:52.323280Z"
    },
    "scrolled": true
   },
   "outputs": [
    {
     "name": "stdout",
     "output_type": "stream",
     "text": [
      "整体转化率: 1.00%\n"
     ]
    }
   ],
   "source": [
    "# 数据集整体转化率\n",
    "CVR = behavior_types[4] / behavior_types.sum()\n",
    "print(\"整体转化率: %.2f%%\" % (CVR * 100))"
   ]
  },
  {
   "cell_type": "code",
   "execution_count": 27,
   "metadata": {
    "ExecuteTime": {
     "end_time": "2020-10-07T12:11:05.867870Z",
     "start_time": "2020-10-07T12:10:52.333017Z"
    }
   },
   "outputs": [
    {
     "data": {
      "text/html": [
       "<div>\n",
       "<style scoped>\n",
       "    .dataframe tbody tr th:only-of-type {\n",
       "        vertical-align: middle;\n",
       "    }\n",
       "\n",
       "    .dataframe tbody tr th {\n",
       "        vertical-align: top;\n",
       "    }\n",
       "\n",
       "    .dataframe thead th {\n",
       "        text-align: right;\n",
       "    }\n",
       "</style>\n",
       "<table border=\"1\" class=\"dataframe\">\n",
       "  <thead>\n",
       "    <tr style=\"text-align: right;\">\n",
       "      <th>behavior_type</th>\n",
       "      <th>1</th>\n",
       "      <th>2</th>\n",
       "      <th>3</th>\n",
       "      <th>4</th>\n",
       "    </tr>\n",
       "  </thead>\n",
       "  <tbody>\n",
       "    <tr>\n",
       "      <th>2014-11-18</th>\n",
       "      <td>644879</td>\n",
       "      <td>13425</td>\n",
       "      <td>19591</td>\n",
       "      <td>6733</td>\n",
       "    </tr>\n",
       "    <tr>\n",
       "      <th>2014-11-19</th>\n",
       "      <td>648708</td>\n",
       "      <td>13683</td>\n",
       "      <td>18808</td>\n",
       "      <td>6329</td>\n",
       "    </tr>\n",
       "  </tbody>\n",
       "</table>\n",
       "</div>"
      ],
      "text/plain": [
       "behavior_type       1      2      3     4\n",
       "2014-11-18     644879  13425  19591  6733\n",
       "2014-11-19     648708  13683  18808  6329"
      ]
     },
     "execution_count": 27,
     "metadata": {},
     "output_type": "execute_result"
    }
   ],
   "source": [
    "# 透视表统计每日用户各行为频数\n",
    "daily_behav = pd.pivot_table(train_users,\n",
    "                             index=train_users.index.date,\n",
    "                             columns='behavior_type',\n",
    "                             values='user_id',\n",
    "                             aggfunc='count')\n",
    "daily_behav.head(2)"
   ]
  },
  {
   "cell_type": "code",
   "execution_count": 28,
   "metadata": {
    "ExecuteTime": {
     "end_time": "2020-10-07T12:11:05.877622Z",
     "start_time": "2020-10-07T12:11:05.870050Z"
    }
   },
   "outputs": [],
   "source": [
    "daily_behav['CVR'] = daily_behav[4] / daily_behav.sum(axis=1)"
   ]
  },
  {
   "cell_type": "code",
   "execution_count": 29,
   "metadata": {
    "ExecuteTime": {
     "end_time": "2020-10-07T12:11:05.888873Z",
     "start_time": "2020-10-07T12:11:05.880053Z"
    }
   },
   "outputs": [
    {
     "data": {
      "text/html": [
       "<div>\n",
       "<style scoped>\n",
       "    .dataframe tbody tr th:only-of-type {\n",
       "        vertical-align: middle;\n",
       "    }\n",
       "\n",
       "    .dataframe tbody tr th {\n",
       "        vertical-align: top;\n",
       "    }\n",
       "\n",
       "    .dataframe thead th {\n",
       "        text-align: right;\n",
       "    }\n",
       "</style>\n",
       "<table border=\"1\" class=\"dataframe\">\n",
       "  <thead>\n",
       "    <tr style=\"text-align: right;\">\n",
       "      <th>behavior_type</th>\n",
       "      <th>1</th>\n",
       "      <th>2</th>\n",
       "      <th>3</th>\n",
       "      <th>4</th>\n",
       "      <th>CVR</th>\n",
       "    </tr>\n",
       "  </thead>\n",
       "  <tbody>\n",
       "    <tr>\n",
       "      <th>2014-11-18</th>\n",
       "      <td>644879</td>\n",
       "      <td>13425</td>\n",
       "      <td>19591</td>\n",
       "      <td>6733</td>\n",
       "      <td>0.009835</td>\n",
       "    </tr>\n",
       "    <tr>\n",
       "      <th>2014-11-19</th>\n",
       "      <td>648708</td>\n",
       "      <td>13683</td>\n",
       "      <td>18808</td>\n",
       "      <td>6329</td>\n",
       "      <td>0.009205</td>\n",
       "    </tr>\n",
       "  </tbody>\n",
       "</table>\n",
       "</div>"
      ],
      "text/plain": [
       "behavior_type       1      2      3     4       CVR\n",
       "2014-11-18     644879  13425  19591  6733  0.009835\n",
       "2014-11-19     648708  13683  18808  6329  0.009205"
      ]
     },
     "execution_count": 29,
     "metadata": {},
     "output_type": "execute_result"
    }
   ],
   "source": [
    "daily_behav.head(2)"
   ]
  },
  {
   "cell_type": "code",
   "execution_count": 30,
   "metadata": {
    "ExecuteTime": {
     "end_time": "2020-10-07T12:11:06.367037Z",
     "start_time": "2020-10-07T12:11:05.891548Z"
    }
   },
   "outputs": [
    {
     "data": {
      "image/png": "[encoded data removed]",
      "text/plain": [
       "<Figure size 720x360 with 1 Axes>"
      ]
     },
     "metadata": {},
     "output_type": "display_data"
    }
   ],
   "source": [
    "plt.figure(figsize=(10, 5))\n",
    "daily_behav['CVR'].plot(kind='line', rot=90, ylabel='CTR')\n",
    "plt.title(\"Daily CVR Trends\")\n",
    "plt.show()"
   ]
  },
  {
   "cell_type": "code",
   "execution_count": 31,
   "metadata": {
    "ExecuteTime": {
     "end_time": "2020-10-07T12:11:06.556927Z",
     "start_time": "2020-10-07T12:11:06.373791Z"
    }
   },
   "outputs": [
    {
     "data": {
      "text/plain": [
       "5325"
      ]
     },
     "execution_count": 31,
     "metadata": {},
     "output_type": "execute_result"
    }
   ],
   "source": [
    "# 指定从内存中删除behavior_types\n",
    "del behavior_types\n",
    "\n",
    "# 执行上述操作\n",
    "gc.collect()"
   ]
  },
  {
   "cell_type": "markdown",
   "metadata": {},
   "source": [
    "### 1.2.2 时间规律统计——每日用户行为总量可视化对比"
   ]
  },
  {
   "cell_type": "code",
   "execution_count": 32,
   "metadata": {
    "ExecuteTime": {
     "end_time": "2020-10-07T12:11:06.563927Z",
     "start_time": "2020-10-07T12:11:06.559947Z"
    }
   },
   "outputs": [],
   "source": [
    "# index从字符类型转为DatetimeIndex\n",
    "daily_behav.index = pd.to_datetime(daily_behav.index)"
   ]
  },
  {
   "cell_type": "code",
   "execution_count": 33,
   "metadata": {
    "ExecuteTime": {
     "end_time": "2020-10-07T12:11:06.573901Z",
     "start_time": "2020-10-07T12:11:06.567423Z"
    },
    "code_folding": []
   },
   "outputs": [
    {
     "data": {
      "text/plain": [
       "DatetimeIndex(['2014-11-18', '2014-11-19', '2014-11-20', '2014-11-21'], dtype='datetime64[ns]', freq=None)"
      ]
     },
     "execution_count": 33,
     "metadata": {},
     "output_type": "execute_result"
    }
   ],
   "source": [
    "daily_behav.index[:4]"
   ]
  },
  {
   "cell_type": "code",
   "execution_count": 34,
   "metadata": {
    "ExecuteTime": {
     "end_time": "2020-10-07T12:11:06.587574Z",
     "start_time": "2020-10-07T12:11:06.577599Z"
    }
   },
   "outputs": [
    {
     "data": {
      "text/plain": [
       "behavior_type\n",
       "1    1247203.0\n",
       "2      19899.0\n",
       "3      47641.0\n",
       "4      30237.0\n",
       "Name: 2014-12-12 00:00:00, dtype: float64"
      ]
     },
     "execution_count": 34,
     "metadata": {},
     "output_type": "execute_result"
    }
   ],
   "source": [
    "# 转为DatetimeIndex后，可以通过字符串进行索引\n",
    "daily_behav.loc['2014-12-12', [1,2,3,4]]"
   ]
  },
  {
   "cell_type": "code",
   "execution_count": 35,
   "metadata": {
    "ExecuteTime": {
     "end_time": "2020-10-07T12:11:06.599489Z",
     "start_time": "2020-10-07T12:11:06.591012Z"
    }
   },
   "outputs": [],
   "source": [
    "def show_daily_behabior_freq(count_day, isdate=True, title='Users Daily Behavior Frequency'):\n",
    "    \"\"\"绘制每日用户行为总频数条形图; \n",
    "    isdate:bool, 默认True,表示x坐标轴显示日期;False,表示x坐标轴显示周名称\n",
    "    \"\"\"\n",
    "    # 设置字体和字号\n",
    "    sns.set_context(context='talk', font_scale=0.8)\n",
    "    # 设置图片风格\n",
    "    sns.set_style(style='darkgrid')\n",
    "    # 设置调色盘\n",
    "    sns.set_palette(palette='husl')\n",
    "    \"\"\"\n",
    "    与count_day.plot()代码等价\n",
    "    plt.figure(figsize=(16, 5))\n",
    "    plt.bar(range(count_day.shape[0]), count_day['daily_freq'])\n",
    "    # 设置x轴文本刻度\n",
    "    plt.xticks(range(count_day.shape[0]), count_day.index.day_name(), rotation=90)\n",
    "    plt.title('User Daily Active Frequency')\n",
    "    \"\"\"\n",
    "\n",
    "    count_day.plot(kind='bar',\n",
    "                   rot=45,\n",
    "                   figsize=(16, 5),\n",
    "                   use_index=False,\n",
    "                   title=title)\n",
    "    if isdate:\n",
    "        plt.xticks(range(count_day.shape[0]), count_day.index.date, rotation=80)\n",
    "    else:\n",
    "        plt.xticks(range(count_day.shape[0]), count_day.index.day_name(), rotation=80)\n",
    "    plt.show()\n",
    "    "
   ]
  },
  {
   "cell_type": "code",
   "execution_count": 36,
   "metadata": {
    "ExecuteTime": {
     "end_time": "2020-10-07T12:11:07.033145Z",
     "start_time": "2020-10-07T12:11:06.603365Z"
    }
   },
   "outputs": [
    {
     "data": {
      "image/png": "[encoded data removed]",
      "text/plain": [
       "<Figure size 1152x360 with 1 Axes>"
      ]
     },
     "metadata": {},
     "output_type": "display_data"
    }
   ],
   "source": [
    "# 每日浏览量、收藏量、加购量、下单量的总和可视化\n",
    "show_daily_behabior_freq(daily_behav.drop(columns='CVR').sum(axis=1), isdate=True)"
   ]
  },
  {
   "cell_type": "markdown",
   "metadata": {},
   "source": [
    "周末用户活跃度较高。另外双十二当天(数据集最后一个Friday)数据偏高。"
   ]
  },
  {
   "cell_type": "markdown",
   "metadata": {},
   "source": [
    "### 1.2.3 时间规律统计——每日浏览、加购、收藏、下单量可视化对比\n",
    "用户行为类型：浏览、收藏、加购物车、购买，对应取值分别是1、2、3、4    \n",
    "绘制方法2更简单些。"
   ]
  },
  {
   "cell_type": "code",
   "execution_count": 37,
   "metadata": {
    "ExecuteTime": {
     "end_time": "2020-10-07T12:11:07.041460Z",
     "start_time": "2020-10-07T12:11:07.035407Z"
    }
   },
   "outputs": [
    {
     "data": {
      "text/plain": [
       "'\\nfigure, axes = plt.subplots(nrows=2, ncols=2, figsize=(20, 10))\\ndaily_behav[1].plot(kind=\\'bar\\',\\n                    ax=axes[0,0],\\n                    title=\"Daily Browse Frequency\",\\n                    use_index=False)\\ndaily_behav[2].plot(kind=\\'bar\\',\\n                    ax=axes[0,1],\\n                    title=\"Daily Collection Frequency\",\\n                    use_index=False)\\ndaily_behav[3].plot(kind=\\'bar\\',\\n                    ax=axes[1,0],\\n                    title=\"Daily ShoppingCart Frequency\",\\n                    use_index=False)\\ndaily_behav[4].plot(kind=\\'bar\\',\\n                    ax=axes[1,1],\\n                    title=\"Daily Order Frequency\",\\n                    use_index=False)\\nfor i in range(axes.shape[0]):\\n    for j in range(axes.shape[1]):\\n        axes[i,j].set_xticklabels(daily_behav.index.day)\\nplt.show()\\n'"
      ]
     },
     "execution_count": 37,
     "metadata": {},
     "output_type": "execute_result"
    }
   ],
   "source": [
    "# 绘制方法1:\n",
    "\"\"\"\n",
    "figure, axes = plt.subplots(nrows=2, ncols=2, figsize=(20, 10))\n",
    "daily_behav[1].plot(kind='bar',\n",
    "                    ax=axes[0,0],\n",
    "                    title=\"Daily Browse Frequency\",\n",
    "                    use_index=False)\n",
    "daily_behav[2].plot(kind='bar',\n",
    "                    ax=axes[0,1],\n",
    "                    title=\"Daily Collection Frequency\",\n",
    "                    use_index=False)\n",
    "daily_behav[3].plot(kind='bar',\n",
    "                    ax=axes[1,0],\n",
    "                    title=\"Daily ShoppingCart Frequency\",\n",
    "                    use_index=False)\n",
    "daily_behav[4].plot(kind='bar',\n",
    "                    ax=axes[1,1],\n",
    "                    title=\"Daily Order Frequency\",\n",
    "                    use_index=False)\n",
    "for i in range(axes.shape[0]):\n",
    "    for j in range(axes.shape[1]):\n",
    "        axes[i,j].set_xticklabels(daily_behav.index.day)\n",
    "plt.show()\n",
    "\"\"\""
   ]
  },
  {
   "cell_type": "code",
   "execution_count": 38,
   "metadata": {
    "ExecuteTime": {
     "end_time": "2020-10-07T12:11:08.355877Z",
     "start_time": "2020-10-07T12:11:07.047120Z"
    }
   },
   "outputs": [
    {
     "data": {
      "image/png": "[encoded data removed]",
      "text/plain": [
       "<Figure size 1440x720 with 4 Axes>"
      ]
     },
     "metadata": {},
     "output_type": "display_data"
    }
   ],
   "source": [
    "# 绘制方法2：\n",
    "title = [\n",
    "    \"Daily Browse Frequency\", \"Daily Collection Frequency\",\n",
    "    \"Daily ShoppingCart Frequency\", \"Daily Order Frequency\"\n",
    "]\n",
    "axes_arr = daily_behav.drop(columns='CVR').plot(kind='bar',\n",
    "                                                subplots=True,\n",
    "                                                layout=(2, 2),\n",
    "                                                title=title,\n",
    "                                                sharex=True,\n",
    "                                                use_index=False,\n",
    "                                                figsize=(20, 10))\n",
    "\n",
    "axes_arr[0, 0].set_xticklabels(daily_behav.index.day)\n",
    "plt.show()"
   ]
  },
  {
   "cell_type": "code",
   "execution_count": 39,
   "metadata": {
    "ExecuteTime": {
     "end_time": "2020-10-07T12:11:08.366851Z",
     "start_time": "2020-10-07T12:11:08.358197Z"
    }
   },
   "outputs": [
    {
     "name": "stdout",
     "output_type": "stream",
     "text": [
      "   November 2014\n",
      "Mo Tu We Th Fr Sa Su\n",
      "                1  2\n",
      " 3  4  5  6  7  8  9\n",
      "10 11 12 13 14 15 16\n",
      "17 18 19 20 21 22 23\n",
      "24 25 26 27 28 29 30\n",
      "\n",
      "   December 2014\n",
      "Mo Tu We Th Fr Sa Su\n",
      " 1  2  3  4  5  6  7\n",
      " 8  9 10 11 12 13 14\n",
      "15 16 17 18 19 20 21\n",
      "22 23 24 25 26 27 28\n",
      "29 30 31\n",
      "\n"
     ]
    }
   ],
   "source": [
    "print(calendar.month(2014, 11))\n",
    "print(calendar.month(2014, 12))"
   ]
  },
  {
   "cell_type": "markdown",
   "metadata": {
    "ExecuteTime": {
     "end_time": "2020-10-06T07:53:28.014080Z",
     "start_time": "2020-10-06T07:53:27.729830Z"
    }
   },
   "source": [
    "- 与浏览行为一样，在双十二当天，不管是收藏、加购、下单的频数也都是最高的；\n",
    "- 12月18日的收藏行为与11月18日的收藏行为频数十分接近，有意思的是，加购、下单的频数也是同样的表现，**那会不会12月19日会和11月19日的数据接近但略低呢？**等待后续预测后验证。"
   ]
  },
  {
   "cell_type": "markdown",
   "metadata": {},
   "source": [
    "### 1.2.4 时间规律统计——每周收藏、加购、下单次数可视化对比"
   ]
  },
  {
   "cell_type": "code",
   "execution_count": 40,
   "metadata": {
    "ExecuteTime": {
     "end_time": "2020-10-07T12:11:08.385765Z",
     "start_time": "2020-10-07T12:11:08.374991Z"
    }
   },
   "outputs": [
    {
     "data": {
      "text/html": [
       "<div>\n",
       "<style scoped>\n",
       "    .dataframe tbody tr th:only-of-type {\n",
       "        vertical-align: middle;\n",
       "    }\n",
       "\n",
       "    .dataframe tbody tr th {\n",
       "        vertical-align: top;\n",
       "    }\n",
       "\n",
       "    .dataframe thead th {\n",
       "        text-align: right;\n",
       "    }\n",
       "</style>\n",
       "<table border=\"1\" class=\"dataframe\">\n",
       "  <thead>\n",
       "    <tr style=\"text-align: right;\">\n",
       "      <th>behavior_type</th>\n",
       "      <th>1</th>\n",
       "      <th>2</th>\n",
       "      <th>3</th>\n",
       "      <th>4</th>\n",
       "      <th>CVR</th>\n",
       "    </tr>\n",
       "  </thead>\n",
       "  <tbody>\n",
       "    <tr>\n",
       "      <th>2014-11-18</th>\n",
       "      <td>644879</td>\n",
       "      <td>13425</td>\n",
       "      <td>19591</td>\n",
       "      <td>6733</td>\n",
       "      <td>0.009835</td>\n",
       "    </tr>\n",
       "  </tbody>\n",
       "</table>\n",
       "</div>"
      ],
      "text/plain": [
       "behavior_type       1      2      3     4       CVR\n",
       "2014-11-18     644879  13425  19591  6733  0.009835"
      ]
     },
     "execution_count": 40,
     "metadata": {},
     "output_type": "execute_result"
    }
   ],
   "source": [
    "daily_behav.head(1)"
   ]
  },
  {
   "cell_type": "code",
   "execution_count": 41,
   "metadata": {
    "ExecuteTime": {
     "end_time": "2020-10-07T12:11:08.404906Z",
     "start_time": "2020-10-07T12:11:08.388550Z"
    }
   },
   "outputs": [
    {
     "data": {
      "text/html": [
       "<div>\n",
       "<style scoped>\n",
       "    .dataframe tbody tr th:only-of-type {\n",
       "        vertical-align: middle;\n",
       "    }\n",
       "\n",
       "    .dataframe tbody tr th {\n",
       "        vertical-align: top;\n",
       "    }\n",
       "\n",
       "    .dataframe thead th {\n",
       "        text-align: right;\n",
       "    }\n",
       "</style>\n",
       "<table border=\"1\" class=\"dataframe\">\n",
       "  <thead>\n",
       "    <tr style=\"text-align: right;\">\n",
       "      <th>behavior_type</th>\n",
       "      <th>1</th>\n",
       "      <th>2</th>\n",
       "      <th>3</th>\n",
       "      <th>4</th>\n",
       "      <th>CVR</th>\n",
       "    </tr>\n",
       "  </thead>\n",
       "  <tbody>\n",
       "    <tr>\n",
       "      <th>2014-11-23</th>\n",
       "      <td>3837490</td>\n",
       "      <td>81110</td>\n",
       "      <td>112986</td>\n",
       "      <td>38368</td>\n",
       "      <td>0.056618</td>\n",
       "    </tr>\n",
       "    <tr>\n",
       "      <th>2014-11-30</th>\n",
       "      <td>4606520</td>\n",
       "      <td>96885</td>\n",
       "      <td>131112</td>\n",
       "      <td>46632</td>\n",
       "      <td>0.066873</td>\n",
       "    </tr>\n",
       "    <tr>\n",
       "      <th>2014-12-07</th>\n",
       "      <td>4915754</td>\n",
       "      <td>107910</td>\n",
       "      <td>150123</td>\n",
       "      <td>48378</td>\n",
       "      <td>0.064803</td>\n",
       "    </tr>\n",
       "    <tr>\n",
       "      <th>2014-12-14</th>\n",
       "      <td>5783892</td>\n",
       "      <td>114186</td>\n",
       "      <td>187413</td>\n",
       "      <td>70454</td>\n",
       "      <td>0.072904</td>\n",
       "    </tr>\n",
       "    <tr>\n",
       "      <th>2014-12-21</th>\n",
       "      <td>2796864</td>\n",
       "      <td>58400</td>\n",
       "      <td>77803</td>\n",
       "      <td>28747</td>\n",
       "      <td>0.038824</td>\n",
       "    </tr>\n",
       "  </tbody>\n",
       "</table>\n",
       "</div>"
      ],
      "text/plain": [
       "behavior_type        1       2       3      4       CVR\n",
       "2014-11-23     3837490   81110  112986  38368  0.056618\n",
       "2014-11-30     4606520   96885  131112  46632  0.066873\n",
       "2014-12-07     4915754  107910  150123  48378  0.064803\n",
       "2014-12-14     5783892  114186  187413  70454  0.072904\n",
       "2014-12-21     2796864   58400   77803  28747  0.038824"
      ]
     },
     "execution_count": 41,
     "metadata": {},
     "output_type": "execute_result"
    }
   ],
   "source": [
    "weekly_behav = daily_behav.resample('W').sum()\n",
    "weekly_behav"
   ]
  },
  {
   "cell_type": "code",
   "execution_count": 42,
   "metadata": {
    "ExecuteTime": {
     "end_time": "2020-10-07T12:11:08.413896Z",
     "start_time": "2020-10-07T12:11:08.407471Z"
    }
   },
   "outputs": [],
   "source": [
    "weekly_behav['CVR'] = weekly_behav[4] / weekly_behav.drop(columns='CVR').sum(axis=1)"
   ]
  },
  {
   "cell_type": "code",
   "execution_count": 43,
   "metadata": {
    "ExecuteTime": {
     "end_time": "2020-10-07T12:11:08.669971Z",
     "start_time": "2020-10-07T12:11:08.417173Z"
    },
    "scrolled": false
   },
   "outputs": [
    {
     "data": {
      "image/png": "[encoded data removed]",
      "text/plain": [
       "<Figure size 720x360 with 1 Axes>"
      ]
     },
     "metadata": {},
     "output_type": "display_data"
    }
   ],
   "source": [
    "ax = weekly_behav.drop(columns=[1, 'CVR']).plot(kind='bar',\n",
    "                                           use_index=False,\n",
    "                                           figsize=(10, 5),\n",
    "                                           rot=45)\n",
    "ax.set_title(\"Weekly Collection ShoppingCart Order Frequency\",\n",
    "             fontsize=30,\n",
    "             pad=30)\n",
    "plt.xticks(range(weekly_behav.shape[0]), weekly_behav.index.date)\n",
    "plt.show()"
   ]
  },
  {
   "cell_type": "markdown",
   "metadata": {},
   "source": [
    "最后一周数据只到12月18日，因此着重看双十二之前的数据。双十二之前，每周的收藏、加购都在增加，下单量浮动不大。"
   ]
  },
  {
   "cell_type": "markdown",
   "metadata": {},
   "source": [
    "### 1.2.5 时间规律统计——每周转化率变化趋势"
   ]
  },
  {
   "cell_type": "code",
   "execution_count": 44,
   "metadata": {
    "ExecuteTime": {
     "end_time": "2020-10-07T12:11:08.804396Z",
     "start_time": "2020-10-07T12:11:08.672717Z"
    }
   },
   "outputs": [
    {
     "data": {
      "image/png": "[encoded data removed]",
      "text/plain": [
       "<Figure size 432x288 with 1 Axes>"
      ]
     },
     "metadata": {},
     "output_type": "display_data"
    }
   ],
   "source": [
    "weekly_behav['CVR'].plot(kind='line', rot=90, use_index=False)\n",
    "plt.xticks(range(weekly_behav.shape[0]), weekly_behav.index.date)\n",
    "plt.title(\"Weekly CVR Trend\")\n",
    "plt.show()"
   ]
  },
  {
   "cell_type": "markdown",
   "metadata": {},
   "source": [
    "2014.12.08~2014.12.14因为双十二在，所以转化率剧增。"
   ]
  },
  {
   "cell_type": "code",
   "execution_count": 45,
   "metadata": {
    "ExecuteTime": {
     "end_time": "2020-10-07T12:11:08.873057Z",
     "start_time": "2020-10-07T12:11:08.807298Z"
    }
   },
   "outputs": [
    {
     "data": {
      "text/plain": [
       "8118"
      ]
     },
     "execution_count": 45,
     "metadata": {},
     "output_type": "execute_result"
    }
   ],
   "source": [
    "del weekly_behav\n",
    "gc.collect()"
   ]
  },
  {
   "cell_type": "markdown",
   "metadata": {},
   "source": [
    "### 1.2.6 时间规律统计——每日活跃用户数"
   ]
  },
  {
   "cell_type": "code",
   "execution_count": 46,
   "metadata": {
    "ExecuteTime": {
     "end_time": "2020-10-07T12:11:15.063889Z",
     "start_time": "2020-10-07T12:11:08.875899Z"
    }
   },
   "outputs": [],
   "source": [
    "df = pd.DataFrame(\n",
    "    {\n",
    "        'user_id': train_users['user_id'].values,\n",
    "        'date': train_users.index.date\n",
    "    },\n",
    "    index=train_users.index)"
   ]
  },
  {
   "cell_type": "code",
   "execution_count": 47,
   "metadata": {
    "ExecuteTime": {
     "end_time": "2020-10-07T12:11:15.074387Z",
     "start_time": "2020-10-07T12:11:15.066293Z"
    }
   },
   "outputs": [
    {
     "data": {
      "text/html": [
       "<div>\n",
       "<style scoped>\n",
       "    .dataframe tbody tr th:only-of-type {\n",
       "        vertical-align: middle;\n",
       "    }\n",
       "\n",
       "    .dataframe tbody tr th {\n",
       "        vertical-align: top;\n",
       "    }\n",
       "\n",
       "    .dataframe thead th {\n",
       "        text-align: right;\n",
       "    }\n",
       "</style>\n",
       "<table border=\"1\" class=\"dataframe\">\n",
       "  <thead>\n",
       "    <tr style=\"text-align: right;\">\n",
       "      <th></th>\n",
       "      <th>user_id</th>\n",
       "      <th>date</th>\n",
       "    </tr>\n",
       "    <tr>\n",
       "      <th>time</th>\n",
       "      <th></th>\n",
       "      <th></th>\n",
       "    </tr>\n",
       "  </thead>\n",
       "  <tbody>\n",
       "    <tr>\n",
       "      <th>2014-12-08 18:00:00</th>\n",
       "      <td>10001082</td>\n",
       "      <td>2014-12-08</td>\n",
       "    </tr>\n",
       "    <tr>\n",
       "      <th>2014-12-12 12:00:00</th>\n",
       "      <td>10001082</td>\n",
       "      <td>2014-12-12</td>\n",
       "    </tr>\n",
       "  </tbody>\n",
       "</table>\n",
       "</div>"
      ],
      "text/plain": [
       "                      user_id        date\n",
       "time                                     \n",
       "2014-12-08 18:00:00  10001082  2014-12-08\n",
       "2014-12-12 12:00:00  10001082  2014-12-12"
      ]
     },
     "execution_count": 47,
     "metadata": {},
     "output_type": "execute_result"
    }
   ],
   "source": [
    "df.head(2)"
   ]
  },
  {
   "cell_type": "code",
   "execution_count": 48,
   "metadata": {
    "ExecuteTime": {
     "end_time": "2020-10-07T12:11:18.147037Z",
     "start_time": "2020-10-07T12:11:15.078171Z"
    }
   },
   "outputs": [
    {
     "data": {
      "text/plain": [
       "(398627, 2)"
      ]
     },
     "execution_count": 48,
     "metadata": {},
     "output_type": "execute_result"
    }
   ],
   "source": [
    "#  每天同一个用户的行为只统计一次，故去除重复行\n",
    "df = df.drop_duplicates()\n",
    "df.shape"
   ]
  },
  {
   "cell_type": "code",
   "execution_count": 49,
   "metadata": {
    "ExecuteTime": {
     "end_time": "2020-10-07T12:11:18.222707Z",
     "start_time": "2020-10-07T12:11:18.150401Z"
    }
   },
   "outputs": [
    {
     "data": {
      "text/plain": [
       "2014-11-18    12534\n",
       "2014-11-19    12597\n",
       "Name: date, dtype: int64"
      ]
     },
     "execution_count": 49,
     "metadata": {},
     "output_type": "execute_result"
    }
   ],
   "source": [
    "# 每日活跃用户数\n",
    "daily_users = df['date'].value_counts().sort_index()\n",
    "daily_users[:2]"
   ]
  },
  {
   "cell_type": "code",
   "execution_count": 50,
   "metadata": {
    "ExecuteTime": {
     "end_time": "2020-10-07T12:11:18.680935Z",
     "start_time": "2020-10-07T12:11:18.225544Z"
    }
   },
   "outputs": [
    {
     "data": {
      "image/png": "[encoded data removed]",
      "text/plain": [
       "<Figure size 1440x360 with 1 Axes>"
      ]
     },
     "metadata": {},
     "output_type": "display_data"
    }
   ],
   "source": [
    "ax = daily_users.plot(kind='bar',\n",
    "                      figsize=(20, 5),\n",
    "                      ylabel='Number of users',\n",
    "                      title=\"The number of active users per day\")\n",
    "ax.plot(range(31), [daily_users.mean()] * 31, color='cyan')\n",
    "plt.show()"
   ]
  },
  {
   "cell_type": "markdown",
   "metadata": {
    "ExecuteTime": {
     "end_time": "2020-10-07T11:22:39.689297Z",
     "start_time": "2020-10-07T11:22:39.679373Z"
    }
   },
   "source": [
    "从整个用户数据集看，日活跃用户量在12000以上。同时12月12日日活跃用户数最高。"
   ]
  },
  {
   "cell_type": "code",
   "execution_count": 51,
   "metadata": {
    "ExecuteTime": {
     "end_time": "2020-10-07T12:11:18.744963Z",
     "start_time": "2020-10-07T12:11:18.684444Z"
    }
   },
   "outputs": [
    {
     "data": {
      "text/plain": [
       "3627"
      ]
     },
     "execution_count": 51,
     "metadata": {},
     "output_type": "execute_result"
    }
   ],
   "source": [
    "del df\n",
    "del daily_users\n",
    "gc.collect()"
   ]
  },
  {
   "cell_type": "markdown",
   "metadata": {},
   "source": [
    "### 1.2.7 时间规律统计——双十二当天每小时用户行为变化对比"
   ]
  },
  {
   "cell_type": "code",
   "execution_count": 52,
   "metadata": {
    "ExecuteTime": {
     "end_time": "2020-10-07T12:11:19.946769Z",
     "start_time": "2020-10-07T12:11:18.747909Z"
    }
   },
   "outputs": [
    {
     "data": {
      "text/plain": [
       "(1344980, 7)"
      ]
     },
     "execution_count": 52,
     "metadata": {},
     "output_type": "execute_result"
    }
   ],
   "source": [
    "all_double12 = train_users.loc['2014-12-12']\n",
    "all_double12.shape"
   ]
  },
  {
   "cell_type": "code",
   "execution_count": 53,
   "metadata": {
    "ExecuteTime": {
     "end_time": "2020-10-07T12:11:19.960108Z",
     "start_time": "2020-10-07T12:11:19.950879Z"
    },
    "scrolled": true
   },
   "outputs": [
    {
     "data": {
      "text/html": [
       "<div>\n",
       "<style scoped>\n",
       "    .dataframe tbody tr th:only-of-type {\n",
       "        vertical-align: middle;\n",
       "    }\n",
       "\n",
       "    .dataframe tbody tr th {\n",
       "        vertical-align: top;\n",
       "    }\n",
       "\n",
       "    .dataframe thead th {\n",
       "        text-align: right;\n",
       "    }\n",
       "</style>\n",
       "<table border=\"1\" class=\"dataframe\">\n",
       "  <thead>\n",
       "    <tr style=\"text-align: right;\">\n",
       "      <th></th>\n",
       "      <th>user_id</th>\n",
       "      <th>item_id</th>\n",
       "      <th>behavior_type</th>\n",
       "      <th>item_category</th>\n",
       "      <th>time</th>\n",
       "      <th>month</th>\n",
       "      <th>day</th>\n",
       "    </tr>\n",
       "    <tr>\n",
       "      <th>time</th>\n",
       "      <th></th>\n",
       "      <th></th>\n",
       "      <th></th>\n",
       "      <th></th>\n",
       "      <th></th>\n",
       "      <th></th>\n",
       "      <th></th>\n",
       "    </tr>\n",
       "  </thead>\n",
       "  <tbody>\n",
       "    <tr>\n",
       "      <th>2014-12-12 12:00:00</th>\n",
       "      <td>10001082</td>\n",
       "      <td>4368907</td>\n",
       "      <td>1</td>\n",
       "      <td>5503</td>\n",
       "      <td>2014-12-12 12:00:00</td>\n",
       "      <td>12</td>\n",
       "      <td>12</td>\n",
       "    </tr>\n",
       "    <tr>\n",
       "      <th>2014-12-12 12:00:00</th>\n",
       "      <td>10001082</td>\n",
       "      <td>4368907</td>\n",
       "      <td>1</td>\n",
       "      <td>5503</td>\n",
       "      <td>2014-12-12 12:00:00</td>\n",
       "      <td>12</td>\n",
       "      <td>12</td>\n",
       "    </tr>\n",
       "  </tbody>\n",
       "</table>\n",
       "</div>"
      ],
      "text/plain": [
       "                      user_id  item_id  behavior_type  item_category  \\\n",
       "time                                                                   \n",
       "2014-12-12 12:00:00  10001082  4368907              1           5503   \n",
       "2014-12-12 12:00:00  10001082  4368907              1           5503   \n",
       "\n",
       "                                   time  month  day  \n",
       "time                                                 \n",
       "2014-12-12 12:00:00 2014-12-12 12:00:00     12   12  \n",
       "2014-12-12 12:00:00 2014-12-12 12:00:00     12   12  "
      ]
     },
     "execution_count": 53,
     "metadata": {},
     "output_type": "execute_result"
    }
   ],
   "source": [
    "all_double12.head(2)"
   ]
  },
  {
   "cell_type": "code",
   "execution_count": 54,
   "metadata": {
    "ExecuteTime": {
     "end_time": "2020-10-07T12:11:27.178578Z",
     "start_time": "2020-10-07T12:11:19.965314Z"
    }
   },
   "outputs": [
    {
     "data": {
      "text/html": [
       "<div>\n",
       "<style scoped>\n",
       "    .dataframe tbody tr th:only-of-type {\n",
       "        vertical-align: middle;\n",
       "    }\n",
       "\n",
       "    .dataframe tbody tr th {\n",
       "        vertical-align: top;\n",
       "    }\n",
       "\n",
       "    .dataframe thead th {\n",
       "        text-align: right;\n",
       "    }\n",
       "</style>\n",
       "<table border=\"1\" class=\"dataframe\">\n",
       "  <thead>\n",
       "    <tr style=\"text-align: right;\">\n",
       "      <th>behavior_type</th>\n",
       "      <th>1</th>\n",
       "      <th>2</th>\n",
       "      <th>3</th>\n",
       "      <th>4</th>\n",
       "    </tr>\n",
       "    <tr>\n",
       "      <th>time</th>\n",
       "      <th></th>\n",
       "      <th></th>\n",
       "      <th></th>\n",
       "      <th></th>\n",
       "    </tr>\n",
       "  </thead>\n",
       "  <tbody>\n",
       "    <tr>\n",
       "      <th>2014-12-12 00:00:00</th>\n",
       "      <td>87638</td>\n",
       "      <td>1180</td>\n",
       "      <td>4705</td>\n",
       "      <td>4407</td>\n",
       "    </tr>\n",
       "    <tr>\n",
       "      <th>2014-12-12 01:00:00</th>\n",
       "      <td>38217</td>\n",
       "      <td>509</td>\n",
       "      <td>1487</td>\n",
       "      <td>865</td>\n",
       "    </tr>\n",
       "  </tbody>\n",
       "</table>\n",
       "</div>"
      ],
      "text/plain": [
       "behavior_type            1     2     3     4\n",
       "time                                        \n",
       "2014-12-12 00:00:00  87638  1180  4705  4407\n",
       "2014-12-12 01:00:00  38217   509  1487   865"
      ]
     },
     "execution_count": 54,
     "metadata": {},
     "output_type": "execute_result"
    }
   ],
   "source": [
    "# 每小时用户行为统计\n",
    "hourly_behav = all_double12.pivot_table(index=all_double12.index,\n",
    "                                        columns='behavior_type',\n",
    "                                        aggfunc='count')['day']\n",
    "hourly_behav.head(2)"
   ]
  },
  {
   "cell_type": "markdown",
   "metadata": {},
   "source": [
    "#### 1.2.7.1 每小时浏览量可视化"
   ]
  },
  {
   "cell_type": "code",
   "execution_count": 55,
   "metadata": {
    "ExecuteTime": {
     "end_time": "2020-10-07T12:11:27.926760Z",
     "start_time": "2020-10-07T12:11:27.189299Z"
    }
   },
   "outputs": [
    {
     "data": {
      "image/png": "[encoded data removed]",
      "text/plain": [
       "<Figure size 720x360 with 1 Axes>"
      ]
     },
     "metadata": {},
     "output_type": "display_data"
    }
   ],
   "source": [
    "ax=hourly_behav[1].plot(\n",
    "    kind='bar',\n",
    "    xticks=hourly_behav.index.hour,\n",
    "    figsize=(10, 5),\n",
    "    xlabel='hour',\n",
    "    title=\"The frequency of browse per hour in 12.12\")\n",
    "ax.plot(range(24), [hourly_behav[1].mean()]*24, color='cyan')\n",
    "plt.legend(['frequency per hour', 'mean frequency'])\n",
    "plt.show()"
   ]
  },
  {
   "cell_type": "markdown",
   "metadata": {},
   "source": [
    "#### 1.2.7.2 每小时收藏、加购、下单量可视化"
   ]
  },
  {
   "cell_type": "code",
   "execution_count": 56,
   "metadata": {
    "ExecuteTime": {
     "end_time": "2020-10-07T12:11:28.410271Z",
     "start_time": "2020-10-07T12:11:27.928818Z"
    }
   },
   "outputs": [
    {
     "data": {
      "image/png": "[encoded data removed]",
      "text/plain": [
       "<Figure size 1440x360 with 1 Axes>"
      ]
     },
     "metadata": {},
     "output_type": "display_data"
    }
   ],
   "source": [
    "ax = hourly_behav[[2, 3, 4]].plot(\n",
    "    kind='bar',\n",
    "    xticks=hourly_behav.index.hour,\n",
    "    figsize=(20, 5),\n",
    "    xlabel='hour',\n",
    "    title=\"The frequency of collect,purchase,order per hour in 12.12\")\n",
    "plt.show()"
   ]
  },
  {
   "cell_type": "markdown",
   "metadata": {},
   "source": [
    "4种行为趋势大体相同。      \n",
    "\n",
    "在0点，有仅限0-1点之间的秒杀和限时折扣，所以加购数和下单数均为当天的顶峰，说明这些策略对用户消费的刺激性非常明显；  \n",
    "\n",
    "1点-4点用户逐渐休息了，各行为频率均在下降，4点将至活跃度当日最低点；     \n",
    "\n",
    "5点开始，慢慢上升；       \n",
    "\n",
    "直到9点-10点，虽然是上班期间，在10点时下单量达到一天中的第3个高峰，2个时间点下单量基本持平；     \n",
    "\n",
    "12点吃饭期间，活跃度下降。13点吃完饭后活跃度小幅上升。       \n",
    "\n",
    "下午浏览量、加购量、下单量有所下降；    \n",
    "\n",
    "17点活跃度将至当天第二个低点；       \n",
    "\n",
    "19点开始，下班吃完饭，用户开始继续购物；19点-21点浏览量在逐步增加，到21点浏览量达到当天顶峰；下单数也是19点后最高的时段。    \n",
    "\n",
    "23点最后疯狂1小时，下单数到达当天第二个高峰。"
   ]
  },
  {
   "cell_type": "markdown",
   "metadata": {},
   "source": [
    "#### 1.2.7.3 每小时转化率可视化"
   ]
  },
  {
   "cell_type": "code",
   "execution_count": 57,
   "metadata": {
    "ExecuteTime": {
     "end_time": "2020-10-07T12:11:28.417623Z",
     "start_time": "2020-10-07T12:11:28.412512Z"
    }
   },
   "outputs": [],
   "source": [
    "# 计算每小时转化率\n",
    "hourly_behav['CVR'] = hourly_behav[4] / hourly_behav.sum(axis=1)"
   ]
  },
  {
   "cell_type": "code",
   "execution_count": 58,
   "metadata": {
    "ExecuteTime": {
     "end_time": "2020-10-07T12:11:28.665229Z",
     "start_time": "2020-10-07T12:11:28.427879Z"
    }
   },
   "outputs": [
    {
     "data": {
      "image/png": "[encoded data removed]",
      "text/plain": [
       "<Figure size 720x360 with 1 Axes>"
      ]
     },
     "metadata": {},
     "output_type": "display_data"
    }
   ],
   "source": [
    "plt.figure(figsize=(10, 5))\n",
    "hourly_behav['CVR'].plot(kind='line', rot=90, ylabel='CTR')\n",
    "plt.title(\"12.12 Hourtly CVR Trends\")\n",
    "plt.show()"
   ]
  },
  {
   "cell_type": "markdown",
   "metadata": {},
   "source": [
    "从双十二当天转化率来看，0点之后，早上转化率较高，下午虽然在波动，但总体趋势是在下降，到21点后才开始上升，有长达9个小时的时间是低转化率的，这样看来，2014年双十二，有接近一半的时间活动刺激性不够。"
   ]
  },
  {
   "cell_type": "code",
   "execution_count": 59,
   "metadata": {
    "ExecuteTime": {
     "end_time": "2020-10-07T12:11:28.741330Z",
     "start_time": "2020-10-07T12:11:28.667362Z"
    }
   },
   "outputs": [
    {
     "data": {
      "text/plain": [
       "13467"
      ]
     },
     "execution_count": 59,
     "metadata": {},
     "output_type": "execute_result"
    }
   ],
   "source": [
    "del hourly_behav\n",
    "gc.collect()"
   ]
  },
  {
   "cell_type": "markdown",
   "metadata": {},
   "source": [
    "#### 1.2.7.4 每小时活跃用户数\n",
    "每小时内单个用户的重复动作只计算一次"
   ]
  },
  {
   "cell_type": "code",
   "execution_count": 60,
   "metadata": {
    "ExecuteTime": {
     "end_time": "2020-10-07T12:11:28.842752Z",
     "start_time": "2020-10-07T12:11:28.754551Z"
    },
    "code_folding": []
   },
   "outputs": [
    {
     "data": {
      "text/html": [
       "<div>\n",
       "<style scoped>\n",
       "    .dataframe tbody tr th:only-of-type {\n",
       "        vertical-align: middle;\n",
       "    }\n",
       "\n",
       "    .dataframe tbody tr th {\n",
       "        vertical-align: top;\n",
       "    }\n",
       "\n",
       "    .dataframe thead th {\n",
       "        text-align: right;\n",
       "    }\n",
       "</style>\n",
       "<table border=\"1\" class=\"dataframe\">\n",
       "  <thead>\n",
       "    <tr style=\"text-align: right;\">\n",
       "      <th></th>\n",
       "      <th>user_id</th>\n",
       "      <th>hour</th>\n",
       "    </tr>\n",
       "    <tr>\n",
       "      <th>time</th>\n",
       "      <th></th>\n",
       "      <th></th>\n",
       "    </tr>\n",
       "  </thead>\n",
       "  <tbody>\n",
       "    <tr>\n",
       "      <th>2014-12-12 12:00:00</th>\n",
       "      <td>10001082</td>\n",
       "      <td>12</td>\n",
       "    </tr>\n",
       "    <tr>\n",
       "      <th>2014-12-12 12:00:00</th>\n",
       "      <td>10001082</td>\n",
       "      <td>12</td>\n",
       "    </tr>\n",
       "  </tbody>\n",
       "</table>\n",
       "</div>"
      ],
      "text/plain": [
       "                      user_id  hour\n",
       "time                               \n",
       "2014-12-12 12:00:00  10001082    12\n",
       "2014-12-12 12:00:00  10001082    12"
      ]
     },
     "execution_count": 60,
     "metadata": {},
     "output_type": "execute_result"
    }
   ],
   "source": [
    "hourly_user_count = pd.DataFrame(\n",
    "    {\n",
    "        \"user_id\": all_double12['user_id'].values,\n",
    "        'hour': all_double12['user_id'].index.hour\n",
    "    },\n",
    "    index=all_double12['user_id'].index)\n",
    "hourly_user_count.head(2)"
   ]
  },
  {
   "cell_type": "code",
   "execution_count": 61,
   "metadata": {
    "ExecuteTime": {
     "end_time": "2020-10-07T12:11:28.881468Z",
     "start_time": "2020-10-07T12:11:28.845747Z"
    }
   },
   "outputs": [
    {
     "data": {
      "text/plain": [
       "15314"
      ]
     },
     "execution_count": 61,
     "metadata": {},
     "output_type": "execute_result"
    }
   ],
   "source": [
    "# 当天总活跃用户数\n",
    "hourly_user_count['user_id'].nunique()"
   ]
  },
  {
   "cell_type": "code",
   "execution_count": 62,
   "metadata": {
    "ExecuteTime": {
     "end_time": "2020-10-07T12:11:29.083196Z",
     "start_time": "2020-10-07T12:11:28.889929Z"
    }
   },
   "outputs": [
    {
     "data": {
      "text/plain": [
       "0.7657"
      ]
     },
     "execution_count": 62,
     "metadata": {},
     "output_type": "execute_result"
    }
   ],
   "source": [
    "# 当日活跃用户数，占总用户数76.57%\n",
    "hourly_user_count['user_id'].nunique() / train_users['user_id'].nunique()"
   ]
  },
  {
   "cell_type": "code",
   "execution_count": 63,
   "metadata": {
    "ExecuteTime": {
     "end_time": "2020-10-07T12:11:29.093295Z",
     "start_time": "2020-10-07T12:11:29.086685Z"
    }
   },
   "outputs": [
    {
     "data": {
      "text/plain": [
       "(1344980, 2)"
      ]
     },
     "execution_count": 63,
     "metadata": {},
     "output_type": "execute_result"
    }
   ],
   "source": [
    "hourly_user_count.shape"
   ]
  },
  {
   "cell_type": "code",
   "execution_count": 64,
   "metadata": {
    "ExecuteTime": {
     "end_time": "2020-10-07T12:11:29.160495Z",
     "start_time": "2020-10-07T12:11:29.096849Z"
    }
   },
   "outputs": [
    {
     "data": {
      "text/plain": [
       "(67792, 2)"
      ]
     },
     "execution_count": 64,
     "metadata": {},
     "output_type": "execute_result"
    }
   ],
   "source": [
    "hourly_user_count = hourly_user_count.drop_duplicates()\n",
    "hourly_user_count.shape"
   ]
  },
  {
   "cell_type": "code",
   "execution_count": 65,
   "metadata": {
    "ExecuteTime": {
     "end_time": "2020-10-07T12:11:29.170178Z",
     "start_time": "2020-10-07T12:11:29.164292Z"
    }
   },
   "outputs": [],
   "source": [
    "# 每小时活跃用户数\n",
    "hourly_user_count = hourly_user_count['hour'].value_counts().sort_index()"
   ]
  },
  {
   "cell_type": "code",
   "execution_count": 66,
   "metadata": {
    "ExecuteTime": {
     "end_time": "2020-10-07T12:11:29.179937Z",
     "start_time": "2020-10-07T12:11:29.173572Z"
    }
   },
   "outputs": [
    {
     "data": {
      "text/plain": [
       "0    3018\n",
       "1    1410\n",
       "2     761\n",
       "3     488\n",
       "4     388\n",
       "Name: hour, dtype: int64"
      ]
     },
     "execution_count": 66,
     "metadata": {},
     "output_type": "execute_result"
    }
   ],
   "source": [
    "hourly_user_count[:5]"
   ]
  },
  {
   "cell_type": "code",
   "execution_count": 67,
   "metadata": {
    "ExecuteTime": {
     "end_time": "2020-10-07T12:11:29.233060Z",
     "start_time": "2020-10-07T12:11:29.215578Z"
    }
   },
   "outputs": [
    {
     "data": {
      "text/plain": [
       "1410"
      ]
     },
     "execution_count": 67,
     "metadata": {},
     "output_type": "execute_result"
    }
   ],
   "source": [
    "# 验证统计结果\n",
    "all_double12['user_id']['2014-12-12 01'].nunique()"
   ]
  },
  {
   "cell_type": "code",
   "execution_count": 68,
   "metadata": {
    "ExecuteTime": {
     "end_time": "2020-10-07T12:11:29.590881Z",
     "start_time": "2020-10-07T12:11:29.242525Z"
    }
   },
   "outputs": [
    {
     "data": {
      "image/png": "[encoded data removed]",
      "text/plain": [
       "<Figure size 720x360 with 1 Axes>"
      ]
     },
     "metadata": {},
     "output_type": "display_data"
    }
   ],
   "source": [
    "ax = hourly_user_count.plot(kind='bar',\n",
    "                            figsize=(10, 5),\n",
    "                            title='12.12 Active users per hour',\n",
    "                            xlabel='Hour',\n",
    "                            ylabel='User Count')\n",
    "ax.plot(range(24), [hourly_user_count.mean()]*24, color='cyan', label='mean curve per hour')\n",
    "plt.legend()\n",
    "plt.show()"
   ]
  },
  {
   "cell_type": "code",
   "execution_count": 69,
   "metadata": {
    "ExecuteTime": {
     "end_time": "2020-10-07T12:11:29.599652Z",
     "start_time": "2020-10-07T12:11:29.593154Z"
    }
   },
   "outputs": [
    {
     "data": {
      "text/plain": [
       "0.1509"
      ]
     },
     "execution_count": 69,
     "metadata": {},
     "output_type": "execute_result"
    }
   ],
   "source": [
    "3018/20000"
   ]
  },
  {
   "cell_type": "markdown",
   "metadata": {},
   "source": [
    "0点活跃的用户量占数据集总用户量的15.09%(3018/20000)，高于当日每小时活跃用户数。8点后，活跃用户数均高于15.09%。早上10点，活跃用户数达到全天第二高峰，之后一直下降直至17点，这也证实了前面下午下单量一直在降低的原因，因为活跃用户数在减少。17点之后重新增加，并在21点达到全天活跃用户数最高峰，23点的时候下单量到达当天top2，但仍然不足0点的一半。这样看来，2014年双十二活动做的并不算太成功，活跃用户数激活的太晚了。"
   ]
  },
  {
   "cell_type": "markdown",
   "metadata": {},
   "source": [
    "#### 1.2.7.5 被浏览商品品类可视化"
   ]
  },
  {
   "cell_type": "code",
   "execution_count": 70,
   "metadata": {
    "ExecuteTime": {
     "end_time": "2020-10-07T12:11:29.614690Z",
     "start_time": "2020-10-07T12:11:29.603863Z"
    }
   },
   "outputs": [
    {
     "data": {
      "text/html": [
       "<div>\n",
       "<style scoped>\n",
       "    .dataframe tbody tr th:only-of-type {\n",
       "        vertical-align: middle;\n",
       "    }\n",
       "\n",
       "    .dataframe tbody tr th {\n",
       "        vertical-align: top;\n",
       "    }\n",
       "\n",
       "    .dataframe thead th {\n",
       "        text-align: right;\n",
       "    }\n",
       "</style>\n",
       "<table border=\"1\" class=\"dataframe\">\n",
       "  <thead>\n",
       "    <tr style=\"text-align: right;\">\n",
       "      <th></th>\n",
       "      <th>user_id</th>\n",
       "      <th>item_id</th>\n",
       "      <th>behavior_type</th>\n",
       "      <th>item_category</th>\n",
       "      <th>time</th>\n",
       "      <th>month</th>\n",
       "      <th>day</th>\n",
       "    </tr>\n",
       "    <tr>\n",
       "      <th>time</th>\n",
       "      <th></th>\n",
       "      <th></th>\n",
       "      <th></th>\n",
       "      <th></th>\n",
       "      <th></th>\n",
       "      <th></th>\n",
       "      <th></th>\n",
       "    </tr>\n",
       "  </thead>\n",
       "  <tbody>\n",
       "    <tr>\n",
       "      <th>2014-12-12 12:00:00</th>\n",
       "      <td>10001082</td>\n",
       "      <td>4368907</td>\n",
       "      <td>1</td>\n",
       "      <td>5503</td>\n",
       "      <td>2014-12-12 12:00:00</td>\n",
       "      <td>12</td>\n",
       "      <td>12</td>\n",
       "    </tr>\n",
       "  </tbody>\n",
       "</table>\n",
       "</div>"
      ],
      "text/plain": [
       "                      user_id  item_id  behavior_type  item_category  \\\n",
       "time                                                                   \n",
       "2014-12-12 12:00:00  10001082  4368907              1           5503   \n",
       "\n",
       "                                   time  month  day  \n",
       "time                                                 \n",
       "2014-12-12 12:00:00 2014-12-12 12:00:00     12   12  "
      ]
     },
     "execution_count": 70,
     "metadata": {},
     "output_type": "execute_result"
    }
   ],
   "source": [
    "all_double12.head(1)"
   ]
  },
  {
   "cell_type": "code",
   "execution_count": 71,
   "metadata": {
    "ExecuteTime": {
     "end_time": "2020-10-07T12:11:29.917053Z",
     "start_time": "2020-10-07T12:11:29.617992Z"
    }
   },
   "outputs": [],
   "source": [
    "item_cate = pd.pivot_table(all_double12,\n",
    "                           values='month',\n",
    "                           index='item_category',\n",
    "                           columns=all_double12.index.hour,\n",
    "                           fill_value=0,\n",
    "                           aggfunc='count')"
   ]
  },
  {
   "cell_type": "code",
   "execution_count": 72,
   "metadata": {
    "ExecuteTime": {
     "end_time": "2020-10-07T12:11:29.932105Z",
     "start_time": "2020-10-07T12:11:29.919341Z"
    }
   },
   "outputs": [
    {
     "data": {
      "text/plain": [
       "(5842, 24)"
      ]
     },
     "execution_count": 72,
     "metadata": {},
     "output_type": "execute_result"
    }
   ],
   "source": [
    "# 双十二当天用户访问了5842个品类\n",
    "item_cate.shape"
   ]
  },
  {
   "cell_type": "code",
   "execution_count": 73,
   "metadata": {
    "ExecuteTime": {
     "end_time": "2020-10-07T12:11:29.956358Z",
     "start_time": "2020-10-07T12:11:29.936141Z"
    }
   },
   "outputs": [
    {
     "data": {
      "text/html": [
       "<div>\n",
       "<style scoped>\n",
       "    .dataframe tbody tr th:only-of-type {\n",
       "        vertical-align: middle;\n",
       "    }\n",
       "\n",
       "    .dataframe tbody tr th {\n",
       "        vertical-align: top;\n",
       "    }\n",
       "\n",
       "    .dataframe thead th {\n",
       "        text-align: right;\n",
       "    }\n",
       "</style>\n",
       "<table border=\"1\" class=\"dataframe\">\n",
       "  <thead>\n",
       "    <tr style=\"text-align: right;\">\n",
       "      <th>time</th>\n",
       "      <th>0</th>\n",
       "      <th>1</th>\n",
       "      <th>2</th>\n",
       "      <th>3</th>\n",
       "      <th>4</th>\n",
       "      <th>5</th>\n",
       "      <th>6</th>\n",
       "      <th>7</th>\n",
       "      <th>8</th>\n",
       "      <th>9</th>\n",
       "      <th>...</th>\n",
       "      <th>14</th>\n",
       "      <th>15</th>\n",
       "      <th>16</th>\n",
       "      <th>17</th>\n",
       "      <th>18</th>\n",
       "      <th>19</th>\n",
       "      <th>20</th>\n",
       "      <th>21</th>\n",
       "      <th>22</th>\n",
       "      <th>23</th>\n",
       "    </tr>\n",
       "    <tr>\n",
       "      <th>item_category</th>\n",
       "      <th></th>\n",
       "      <th></th>\n",
       "      <th></th>\n",
       "      <th></th>\n",
       "      <th></th>\n",
       "      <th></th>\n",
       "      <th></th>\n",
       "      <th></th>\n",
       "      <th></th>\n",
       "      <th></th>\n",
       "      <th></th>\n",
       "      <th></th>\n",
       "      <th></th>\n",
       "      <th></th>\n",
       "      <th></th>\n",
       "      <th></th>\n",
       "      <th></th>\n",
       "      <th></th>\n",
       "      <th></th>\n",
       "      <th></th>\n",
       "      <th></th>\n",
       "    </tr>\n",
       "  </thead>\n",
       "  <tbody>\n",
       "    <tr>\n",
       "      <th>8</th>\n",
       "      <td>26</td>\n",
       "      <td>0</td>\n",
       "      <td>0</td>\n",
       "      <td>0</td>\n",
       "      <td>0</td>\n",
       "      <td>22</td>\n",
       "      <td>7</td>\n",
       "      <td>0</td>\n",
       "      <td>0</td>\n",
       "      <td>0</td>\n",
       "      <td>...</td>\n",
       "      <td>0</td>\n",
       "      <td>0</td>\n",
       "      <td>0</td>\n",
       "      <td>0</td>\n",
       "      <td>0</td>\n",
       "      <td>10</td>\n",
       "      <td>0</td>\n",
       "      <td>12</td>\n",
       "      <td>0</td>\n",
       "      <td>2</td>\n",
       "    </tr>\n",
       "    <tr>\n",
       "      <th>11</th>\n",
       "      <td>55</td>\n",
       "      <td>29</td>\n",
       "      <td>17</td>\n",
       "      <td>15</td>\n",
       "      <td>21</td>\n",
       "      <td>4</td>\n",
       "      <td>9</td>\n",
       "      <td>31</td>\n",
       "      <td>40</td>\n",
       "      <td>84</td>\n",
       "      <td>...</td>\n",
       "      <td>16</td>\n",
       "      <td>28</td>\n",
       "      <td>32</td>\n",
       "      <td>34</td>\n",
       "      <td>28</td>\n",
       "      <td>30</td>\n",
       "      <td>34</td>\n",
       "      <td>70</td>\n",
       "      <td>48</td>\n",
       "      <td>126</td>\n",
       "    </tr>\n",
       "  </tbody>\n",
       "</table>\n",
       "<p>2 rows × 24 columns</p>\n",
       "</div>"
      ],
      "text/plain": [
       "time           0   1   2   3   4   5   6   7   8   9   ...  14  15  16  17  \\\n",
       "item_category                                          ...                   \n",
       "8              26   0   0   0   0  22   7   0   0   0  ...   0   0   0   0   \n",
       "11             55  29  17  15  21   4   9  31  40  84  ...  16  28  32  34   \n",
       "\n",
       "time           18  19  20  21  22   23  \n",
       "item_category                           \n",
       "8               0  10   0  12   0    2  \n",
       "11             28  30  34  70  48  126  \n",
       "\n",
       "[2 rows x 24 columns]"
      ]
     },
     "execution_count": 73,
     "metadata": {},
     "output_type": "execute_result"
    }
   ],
   "source": [
    "item_cate.head(2)"
   ]
  },
  {
   "cell_type": "code",
   "execution_count": 74,
   "metadata": {
    "ExecuteTime": {
     "end_time": "2020-10-07T12:11:29.974398Z",
     "start_time": "2020-10-07T12:11:29.960997Z"
    }
   },
   "outputs": [
    {
     "data": {
      "text/plain": [
       "262"
      ]
     },
     "execution_count": 74,
     "metadata": {},
     "output_type": "execute_result"
    }
   ],
   "source": [
    "# 双十二当天全天24小时均有访问量的类目有262个\n",
    "((item_cate == 0).sum(axis=1).sort_values() == 0).sum()"
   ]
  },
  {
   "cell_type": "markdown",
   "metadata": {},
   "source": [
    "##### 每小时被访问的类目占当日总品类数百分比可视化"
   ]
  },
  {
   "cell_type": "code",
   "execution_count": 75,
   "metadata": {
    "ExecuteTime": {
     "end_time": "2020-10-07T12:11:29.984974Z",
     "start_time": "2020-10-07T12:11:29.977348Z"
    },
    "scrolled": true
   },
   "outputs": [],
   "source": [
    "# 每小时被访问的类目数量\n",
    "cate_count = (item_cate != 0).sum(axis=0).sort_index()"
   ]
  },
  {
   "cell_type": "code",
   "execution_count": 76,
   "metadata": {
    "ExecuteTime": {
     "end_time": "2020-10-07T12:11:29.999213Z",
     "start_time": "2020-10-07T12:11:29.990041Z"
    }
   },
   "outputs": [
    {
     "data": {
      "text/plain": [
       "time\n",
       "0    2468\n",
       "1    1801\n",
       "dtype: int64"
      ]
     },
     "execution_count": 76,
     "metadata": {},
     "output_type": "execute_result"
    }
   ],
   "source": [
    "cate_count[:2]"
   ]
  },
  {
   "cell_type": "code",
   "execution_count": 77,
   "metadata": {
    "ExecuteTime": {
     "end_time": "2020-10-07T12:11:30.010435Z",
     "start_time": "2020-10-07T12:11:30.002612Z"
    }
   },
   "outputs": [
    {
     "data": {
      "text/plain": [
       "time\n",
       "0    0.422458\n",
       "1    0.308285\n",
       "dtype: float64"
      ]
     },
     "execution_count": 77,
     "metadata": {},
     "output_type": "execute_result"
    }
   ],
   "source": [
    "cate_count /= item_cate.shape[0]\n",
    "cate_count[:2]"
   ]
  },
  {
   "cell_type": "code",
   "execution_count": 78,
   "metadata": {
    "ExecuteTime": {
     "end_time": "2020-10-07T12:11:30.381952Z",
     "start_time": "2020-10-07T12:11:30.014080Z"
    }
   },
   "outputs": [
    {
     "data": {
      "image/png": "[encoded data removed]",
      "text/plain": [
       "<Figure size 720x360 with 1 Axes>"
      ]
     },
     "metadata": {},
     "output_type": "display_data"
    }
   ],
   "source": [
    "ax = cate_count.plot(kind='bar',\n",
    "                     figsize=(10, 5),\n",
    "                     xlabel='Hour',\n",
    "                     ylabel='Percent of item category',\n",
    "                     title='Percentage of categories visited per hour in total categories')\n",
    "ax.plot(range(24), [cate_count.mean()] * 24, color='cyan')\n",
    "plt.legend(['number per hour', 'mean'])\n",
    "plt.show()"
   ]
  },
  {
   "cell_type": "markdown",
   "metadata": {},
   "source": [
    "##### 当日被访问最多的top-10个品类访问量可视化"
   ]
  },
  {
   "cell_type": "code",
   "execution_count": 79,
   "metadata": {
    "ExecuteTime": {
     "end_time": "2020-10-07T12:11:30.391085Z",
     "start_time": "2020-10-07T12:11:30.384168Z"
    }
   },
   "outputs": [],
   "source": [
    "item_cate_top10 = item_cate.sum(axis=1).sort_values(ascending=False)[:10]"
   ]
  },
  {
   "cell_type": "code",
   "execution_count": 80,
   "metadata": {
    "ExecuteTime": {
     "end_time": "2020-10-07T12:11:30.402487Z",
     "start_time": "2020-10-07T12:11:30.395004Z"
    }
   },
   "outputs": [
    {
     "data": {
      "text/plain": [
       "item_category\n",
       "1863     46765\n",
       "5027     39926\n",
       "13230    37094\n",
       "6513     35753\n",
       "5894     35096\n",
       "5399     33239\n",
       "11279    21077\n",
       "2825     16962\n",
       "5232     16738\n",
       "10894    14836\n",
       "dtype: int64"
      ]
     },
     "execution_count": 80,
     "metadata": {},
     "output_type": "execute_result"
    }
   ],
   "source": [
    "item_cate_top10"
   ]
  },
  {
   "cell_type": "code",
   "execution_count": 81,
   "metadata": {
    "ExecuteTime": {
     "end_time": "2020-10-07T12:11:30.411759Z",
     "start_time": "2020-10-07T12:11:30.406555Z"
    }
   },
   "outputs": [],
   "source": [
    "# 统计top10品类占当日总访问量的百分比\n",
    "item_cate_top10 = item_cate_top10 / item_cate.sum().sum()"
   ]
  },
  {
   "cell_type": "code",
   "execution_count": 82,
   "metadata": {
    "ExecuteTime": {
     "end_time": "2020-10-07T12:11:30.677339Z",
     "start_time": "2020-10-07T12:11:30.415357Z"
    }
   },
   "outputs": [
    {
     "data": {
      "image/png": "[encoded data removed]",
      "text/plain": [
       "<Figure size 1440x360 with 1 Axes>"
      ]
     },
     "metadata": {},
     "output_type": "display_data"
    }
   ],
   "source": [
    "item_cate_top10.plot(kind='bar',\n",
    "                     figsize=(20, 5),\n",
    "                     xlabel='Category',\n",
    "                     ylabel='Frequency',\n",
    "                     title='The top-10 frequency visited categories')\n",
    "plt.show()"
   ]
  },
  {
   "cell_type": "code",
   "execution_count": 83,
   "metadata": {
    "ExecuteTime": {
     "end_time": "2020-10-07T12:11:30.770244Z",
     "start_time": "2020-10-07T12:11:30.681128Z"
    }
   },
   "outputs": [
    {
     "data": {
      "text/plain": [
       "16441"
      ]
     },
     "execution_count": 83,
     "metadata": {},
     "output_type": "execute_result"
    }
   ],
   "source": [
    "del all_double12\n",
    "gc.collect()"
   ]
  },
  {
   "cell_type": "code",
   "execution_count": 84,
   "metadata": {
    "ExecuteTime": {
     "end_time": "2020-10-07T12:11:30.846277Z",
     "start_time": "2020-10-07T12:11:30.773376Z"
    }
   },
   "outputs": [
    {
     "data": {
      "text/plain": [
       "20"
      ]
     },
     "execution_count": 84,
     "metadata": {},
     "output_type": "execute_result"
    }
   ],
   "source": [
    "del item_cate\n",
    "gc.collect()"
   ]
  },
  {
   "cell_type": "markdown",
   "metadata": {},
   "source": [
    "## 1.3 获取商品子集"
   ]
  },
  {
   "cell_type": "markdown",
   "metadata": {},
   "source": [
    "### 1.3.1 读取数据集"
   ]
  },
  {
   "cell_type": "code",
   "execution_count": 85,
   "metadata": {
    "ExecuteTime": {
     "end_time": "2020-10-07T12:11:31.083020Z",
     "start_time": "2020-10-07T12:11:30.848964Z"
    }
   },
   "outputs": [
    {
     "data": {
      "text/html": [
       "<div>\n",
       "<style scoped>\n",
       "    .dataframe tbody tr th:only-of-type {\n",
       "        vertical-align: middle;\n",
       "    }\n",
       "\n",
       "    .dataframe tbody tr th {\n",
       "        vertical-align: top;\n",
       "    }\n",
       "\n",
       "    .dataframe thead th {\n",
       "        text-align: right;\n",
       "    }\n",
       "</style>\n",
       "<table border=\"1\" class=\"dataframe\">\n",
       "  <thead>\n",
       "    <tr style=\"text-align: right;\">\n",
       "      <th></th>\n",
       "      <th>item_id</th>\n",
       "      <th>item_geohash</th>\n",
       "      <th>item_category</th>\n",
       "    </tr>\n",
       "  </thead>\n",
       "  <tbody>\n",
       "    <tr>\n",
       "      <th>0</th>\n",
       "      <td>100002303</td>\n",
       "      <td>NaN</td>\n",
       "      <td>3368</td>\n",
       "    </tr>\n",
       "  </tbody>\n",
       "</table>\n",
       "</div>"
      ],
      "text/plain": [
       "     item_id item_geohash  item_category\n",
       "0  100002303          NaN           3368"
      ]
     },
     "execution_count": 85,
     "metadata": {},
     "output_type": "execute_result"
    }
   ],
   "source": [
    "train_items = pd.read_csv(item_path)\n",
    "train_items.head(1)"
   ]
  },
  {
   "cell_type": "code",
   "execution_count": 86,
   "metadata": {
    "ExecuteTime": {
     "end_time": "2020-10-07T12:11:31.092500Z",
     "start_time": "2020-10-07T12:11:31.086839Z"
    },
    "scrolled": true
   },
   "outputs": [
    {
     "data": {
      "text/plain": [
       "(620918, 3)"
      ]
     },
     "execution_count": 86,
     "metadata": {},
     "output_type": "execute_result"
    }
   ],
   "source": [
    "train_items.shape"
   ]
  },
  {
   "cell_type": "code",
   "execution_count": 87,
   "metadata": {
    "ExecuteTime": {
     "end_time": "2020-10-07T12:11:31.119367Z",
     "start_time": "2020-10-07T12:11:31.095082Z"
    }
   },
   "outputs": [
    {
     "data": {
      "text/plain": [
       "422858"
      ]
     },
     "execution_count": 87,
     "metadata": {},
     "output_type": "execute_result"
    }
   ],
   "source": [
    "# 商品子集中有422858个商品\n",
    "train_items['item_id'].nunique()"
   ]
  },
  {
   "cell_type": "code",
   "execution_count": 88,
   "metadata": {
    "ExecuteTime": {
     "end_time": "2020-10-07T12:11:31.136812Z",
     "start_time": "2020-10-07T12:11:31.124466Z"
    }
   },
   "outputs": [
    {
     "data": {
      "text/plain": [
       "1054"
      ]
     },
     "execution_count": 88,
     "metadata": {},
     "output_type": "execute_result"
    }
   ],
   "source": [
    "# 商品子集中有422858个品类\n",
    "train_items['item_category'].nunique()"
   ]
  },
  {
   "cell_type": "markdown",
   "metadata": {},
   "source": [
    "### 1.3.2 获取对商品子集有行为的用户数据集"
   ]
  },
  {
   "cell_type": "code",
   "execution_count": 89,
   "metadata": {
    "ExecuteTime": {
     "end_time": "2020-10-07T12:11:37.255147Z",
     "start_time": "2020-10-07T12:11:31.139983Z"
    }
   },
   "outputs": [
    {
     "data": {
      "text/html": [
       "<div>\n",
       "<style scoped>\n",
       "    .dataframe tbody tr th:only-of-type {\n",
       "        vertical-align: middle;\n",
       "    }\n",
       "\n",
       "    .dataframe tbody tr th {\n",
       "        vertical-align: top;\n",
       "    }\n",
       "\n",
       "    .dataframe thead th {\n",
       "        text-align: right;\n",
       "    }\n",
       "</style>\n",
       "<table border=\"1\" class=\"dataframe\">\n",
       "  <thead>\n",
       "    <tr style=\"text-align: right;\">\n",
       "      <th></th>\n",
       "      <th>user_id</th>\n",
       "      <th>item_id</th>\n",
       "      <th>behavior_type</th>\n",
       "      <th>item_category_x</th>\n",
       "      <th>time</th>\n",
       "      <th>month</th>\n",
       "      <th>day</th>\n",
       "      <th>item_geohash</th>\n",
       "      <th>item_category_y</th>\n",
       "    </tr>\n",
       "  </thead>\n",
       "  <tbody>\n",
       "    <tr>\n",
       "      <th>0</th>\n",
       "      <td>10001082</td>\n",
       "      <td>275221686</td>\n",
       "      <td>1</td>\n",
       "      <td>10576</td>\n",
       "      <td>2014-12-03 01:00:00</td>\n",
       "      <td>12</td>\n",
       "      <td>3</td>\n",
       "      <td>NaN</td>\n",
       "      <td>10576</td>\n",
       "    </tr>\n",
       "  </tbody>\n",
       "</table>\n",
       "</div>"
      ],
      "text/plain": [
       "    user_id    item_id  behavior_type  item_category_x                time  \\\n",
       "0  10001082  275221686              1            10576 2014-12-03 01:00:00   \n",
       "\n",
       "   month  day item_geohash  item_category_y  \n",
       "0     12    3          NaN            10576  "
      ]
     },
     "execution_count": 89,
     "metadata": {},
     "output_type": "execute_result"
    }
   ],
   "source": [
    "# 商品子集与用户集的inner拼接\n",
    "train_subui =  train_users.merge(train_items, on='item_id')\n",
    "train_subui.head(1)"
   ]
  },
  {
   "cell_type": "code",
   "execution_count": 90,
   "metadata": {
    "ExecuteTime": {
     "end_time": "2020-10-07T12:11:37.425151Z",
     "start_time": "2020-10-07T12:11:37.257441Z"
    }
   },
   "outputs": [],
   "source": [
    "train_subui = train_subui.set_index('time')"
   ]
  },
  {
   "cell_type": "code",
   "execution_count": 91,
   "metadata": {
    "ExecuteTime": {
     "end_time": "2020-10-07T12:11:38.165518Z",
     "start_time": "2020-10-07T12:11:37.427198Z"
    }
   },
   "outputs": [],
   "source": [
    "# 删除列item_geohash\n",
    "train_subui.drop(columns='item_geohash', inplace=True)"
   ]
  },
  {
   "cell_type": "code",
   "execution_count": 92,
   "metadata": {
    "ExecuteTime": {
     "end_time": "2020-10-07T12:11:38.191881Z",
     "start_time": "2020-10-07T12:11:38.167909Z"
    }
   },
   "outputs": [
    {
     "data": {
      "text/plain": [
       "4279962"
      ]
     },
     "execution_count": 92,
     "metadata": {},
     "output_type": "execute_result"
    }
   ],
   "source": [
    "# 两列完全相同，只保留一列\n",
    "(train_subui['item_category_x'] == train_subui['item_category_y']).sum()"
   ]
  },
  {
   "cell_type": "code",
   "execution_count": 93,
   "metadata": {
    "ExecuteTime": {
     "end_time": "2020-10-07T12:11:38.381720Z",
     "start_time": "2020-10-07T12:11:38.199453Z"
    }
   },
   "outputs": [
    {
     "data": {
      "text/plain": [
       "80"
      ]
     },
     "execution_count": 93,
     "metadata": {},
     "output_type": "execute_result"
    }
   ],
   "source": [
    "del train_items\n",
    "gc.collect()"
   ]
  },
  {
   "cell_type": "code",
   "execution_count": 94,
   "metadata": {
    "ExecuteTime": {
     "end_time": "2020-10-07T12:11:38.544932Z",
     "start_time": "2020-10-07T12:11:38.386042Z"
    }
   },
   "outputs": [
    {
     "data": {
      "text/plain": [
       "20"
      ]
     },
     "execution_count": 94,
     "metadata": {},
     "output_type": "execute_result"
    }
   ],
   "source": [
    "del train_users\n",
    "gc.collect()"
   ]
  },
  {
   "cell_type": "code",
   "execution_count": 95,
   "metadata": {
    "ExecuteTime": {
     "end_time": "2020-10-07T12:11:38.717940Z",
     "start_time": "2020-10-07T12:11:38.552555Z"
    }
   },
   "outputs": [],
   "source": [
    "train_subui = train_subui.drop(columns=['item_category_y'])"
   ]
  },
  {
   "cell_type": "code",
   "execution_count": 96,
   "metadata": {
    "ExecuteTime": {
     "end_time": "2020-10-07T12:11:38.773141Z",
     "start_time": "2020-10-07T12:11:38.720604Z"
    },
    "scrolled": true
   },
   "outputs": [
    {
     "data": {
      "text/plain": [
       "19972"
      ]
     },
     "execution_count": 96,
     "metadata": {},
     "output_type": "execute_result"
    }
   ],
   "source": [
    "train_subui['user_id'].nunique()"
   ]
  },
  {
   "cell_type": "markdown",
   "metadata": {},
   "source": [
    "2W的用户数据集中的1.9972W个用户对该商品子集有行为，商品子集涵盖面比较全。"
   ]
  },
  {
   "cell_type": "markdown",
   "metadata": {},
   "source": [
    "### 1.3.3 商品子集的用户各行为占比"
   ]
  },
  {
   "cell_type": "code",
   "execution_count": 98,
   "metadata": {
    "ExecuteTime": {
     "end_time": "2020-10-07T12:12:54.054781Z",
     "start_time": "2020-10-07T12:12:53.831413Z"
    }
   },
   "outputs": [
    {
     "data": {
      "image/png": "[encoded data removed]",
      "text/plain": [
       "<Figure size 576x432 with 1 Axes>"
      ]
     },
     "metadata": {},
     "output_type": "display_data"
    }
   ],
   "source": [
    "plot_pie_of_behavior(train_subui['behavior_type'].value_counts(), '商品子集各用户行为占比')"
   ]
  },
  {
   "cell_type": "markdown",
   "metadata": {},
   "source": [
    "### 1.3.4 商品子集每日用户行为总量可视化"
   ]
  },
  {
   "cell_type": "code",
   "execution_count": 99,
   "metadata": {
    "ExecuteTime": {
     "end_time": "2020-10-07T12:12:57.167740Z",
     "start_time": "2020-10-07T12:12:55.486837Z"
    }
   },
   "outputs": [],
   "source": [
    "# 透视表统计每日用户各行为频数\n",
    "count_day_sub = pd.pivot_table(train_subui,\n",
    "                             index=train_subui.index.date,\n",
    "                             columns='behavior_type',\n",
    "                             values='user_id',\n",
    "                             aggfunc='count')"
   ]
  },
  {
   "cell_type": "code",
   "execution_count": 100,
   "metadata": {
    "ExecuteTime": {
     "end_time": "2020-10-07T12:12:59.716505Z",
     "start_time": "2020-10-07T12:12:59.704207Z"
    }
   },
   "outputs": [
    {
     "data": {
      "text/html": [
       "<div>\n",
       "<style scoped>\n",
       "    .dataframe tbody tr th:only-of-type {\n",
       "        vertical-align: middle;\n",
       "    }\n",
       "\n",
       "    .dataframe tbody tr th {\n",
       "        vertical-align: top;\n",
       "    }\n",
       "\n",
       "    .dataframe thead th {\n",
       "        text-align: right;\n",
       "    }\n",
       "</style>\n",
       "<table border=\"1\" class=\"dataframe\">\n",
       "  <thead>\n",
       "    <tr style=\"text-align: right;\">\n",
       "      <th>behavior_type</th>\n",
       "      <th>1</th>\n",
       "      <th>2</th>\n",
       "      <th>3</th>\n",
       "      <th>4</th>\n",
       "    </tr>\n",
       "  </thead>\n",
       "  <tbody>\n",
       "    <tr>\n",
       "      <th>2014-11-18</th>\n",
       "      <td>83540</td>\n",
       "      <td>980</td>\n",
       "      <td>1599</td>\n",
       "      <td>613</td>\n",
       "    </tr>\n",
       "    <tr>\n",
       "      <th>2014-11-19</th>\n",
       "      <td>89248</td>\n",
       "      <td>2059</td>\n",
       "      <td>2434</td>\n",
       "      <td>772</td>\n",
       "    </tr>\n",
       "  </tbody>\n",
       "</table>\n",
       "</div>"
      ],
      "text/plain": [
       "behavior_type      1     2     3    4\n",
       "2014-11-18     83540   980  1599  613\n",
       "2014-11-19     89248  2059  2434  772"
      ]
     },
     "execution_count": 100,
     "metadata": {},
     "output_type": "execute_result"
    }
   ],
   "source": [
    "count_day_sub.head(2)"
   ]
  },
  {
   "cell_type": "code",
   "execution_count": 101,
   "metadata": {
    "ExecuteTime": {
     "end_time": "2020-10-07T12:13:01.631335Z",
     "start_time": "2020-10-07T12:13:01.625405Z"
    }
   },
   "outputs": [],
   "source": [
    "count_day_sub.index = dateindex"
   ]
  },
  {
   "cell_type": "code",
   "execution_count": 102,
   "metadata": {
    "ExecuteTime": {
     "end_time": "2020-10-07T12:13:03.870472Z",
     "start_time": "2020-10-07T12:13:03.407337Z"
    }
   },
   "outputs": [
    {
     "data": {
      "image/png": "[encoded data removed]",
      "text/plain": [
       "<Figure size 1152x360 with 1 Axes>"
      ]
     },
     "metadata": {},
     "output_type": "display_data"
    }
   ],
   "source": [
    "show_daily_behabior_freq(count_day_sub.sum(axis=1),\n",
    "                         title='Users Daily Behavior Frequency Of Item Subset')"
   ]
  },
  {
   "cell_type": "markdown",
   "metadata": {},
   "source": [
    "### 1.3.5 商品子集每日浏览行为可视化"
   ]
  },
  {
   "cell_type": "code",
   "execution_count": 103,
   "metadata": {
    "ExecuteTime": {
     "end_time": "2020-10-07T12:13:06.488662Z",
     "start_time": "2020-10-07T12:13:06.017219Z"
    }
   },
   "outputs": [
    {
     "data": {
      "image/png": "[encoded data removed]",
      "text/plain": [
       "<Figure size 1152x360 with 1 Axes>"
      ]
     },
     "metadata": {},
     "output_type": "display_data"
    }
   ],
   "source": [
    "show_daily_behabior_freq(count_day_sub[1],\n",
    "                         title='Users Daily Browse Frequency Of Item Subset')"
   ]
  },
  {
   "cell_type": "markdown",
   "metadata": {},
   "source": [
    "### 1.3.6 商品子集每日收藏、加购、下单可视化"
   ]
  },
  {
   "cell_type": "code",
   "execution_count": 104,
   "metadata": {
    "ExecuteTime": {
     "end_time": "2020-10-07T12:13:08.764667Z",
     "start_time": "2020-10-07T12:13:08.201565Z"
    },
    "scrolled": true
   },
   "outputs": [
    {
     "data": {
      "image/png": "[encoded data removed]",
      "text/plain": [
       "<Figure size 1152x360 with 1 Axes>"
      ]
     },
     "metadata": {},
     "output_type": "display_data"
    }
   ],
   "source": [
    "show_daily_behabior_freq(count_day_sub.drop(columns=1),\n",
    "                         title='Users Daily Colletion,Shopping-Cart,Order Frequency Of Item Subset')"
   ]
  },
  {
   "cell_type": "markdown",
   "metadata": {},
   "source": [
    "- 与总用户数据集不同的是：\n",
    "    1. 在商品子集中，11月22日出现较高的下单量，甚至高于双十二当天；11月28日也出现较高下单量；\n",
    "    2. 加购物车的数量中，11月23日、25日也偏高；而总用户数据集中只有12月11日、12日差异大，其他时间比较平稳；\n",
    "    3. 收藏量中，商品子集出现比较多的较明显的高收藏量，如：11月28日、12月5日等；而总用户数据集中每日收藏量除了双十二外，没有出现这么大的差异；\n",
    "    4. 商品子集的浏览量趋势与总用户数据集的浏览量趋势相似。"
   ]
  },
  {
   "cell_type": "code",
   "execution_count": null,
   "metadata": {},
   "outputs": [],
   "source": []
  }
 ],
 "metadata": {
  "kernelspec": {
   "display_name": "Python [conda env:envpy37]",
   "language": "python",
   "name": "conda-env-envpy37-py"
  },
  "language_info": {
   "codemirror_mode": {
    "name": "ipython",
    "version": 3
   },
   "file_extension": ".py",
   "mimetype": "text/x-python",
   "name": "python",
   "nbconvert_exporter": "python",
   "pygments_lexer": "ipython3",
   "version": "3.7.7"
  },
  "toc": {
   "base_numbering": 1,
   "nav_menu": {},
   "number_sections": false,
   "sideBar": true,
   "skip_h1_title": false,
   "title_cell": "Table of Contents",
   "title_sidebar": "Contents",
   "toc_cell": true,
   "toc_position": {
    "height": "calc(100% - 180px)",
    "left": "10px",
    "top": "150px",
    "width": "332px"
   },
   "toc_section_display": true,
   "toc_window_display": true
  },
  "varInspector": {
   "cols": {
    "lenName": 16,
    "lenType": 16,
    "lenVar": 40
   },
   "kernels_config": {
    "python": {
     "delete_cmd_postfix": "",
     "delete_cmd_prefix": "del ",
     "library": "var_list.py",
     "varRefreshCmd": "print(var_dic_list())"
    },
    "r": {
     "delete_cmd_postfix": ") ",
     "delete_cmd_prefix": "rm(",
     "library": "var_list.r",
     "varRefreshCmd": "cat(var_dic_list()) "
    }
   },
   "oldHeight": 451,
   "position": {
    "height": "473px",
    "left": "1084px",
    "right": "20px",
    "top": "101px",
    "width": "311px"
   },
   "types_to_exclude": [
    "module",
    "function",
    "builtin_function_or_method",
    "instance",
    "_Feature"
   ],
   "varInspector_section_display": "block",
   "window_display": false
  }
 },
 "nbformat": 4,
 "nbformat_minor": 4
}
