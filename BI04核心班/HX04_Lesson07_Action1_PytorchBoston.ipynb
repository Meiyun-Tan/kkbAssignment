{
 "cells": [
  {
   "cell_type": "markdown",
   "metadata": {
    "toc": true
   },
   "source": [
    "<h1>Table of Contents<span class=\"tocSkip\"></span></h1>\n",
    "<div class=\"toc\"><ul class=\"toc-item\"><li><span><a href=\"#1-加载数据\" data-toc-modified-id=\"1-加载数据-1\">1 加载数据</a></span><ul class=\"toc-item\"><li><span><a href=\"#1.2-数据规范化\" data-toc-modified-id=\"1.2-数据规范化-1.1\">1.2 数据规范化</a></span></li><li><span><a href=\"#1.3-数据集拆分\" data-toc-modified-id=\"1.3-数据集拆分-1.2\">1.3 数据集拆分</a></span><ul class=\"toc-item\"><li><span><a href=\"#1.3.1-数组转张量\" data-toc-modified-id=\"1.3.1-数组转张量-1.2.1\">1.3.1 数组转张量</a></span></li></ul></li><li><span><a href=\"#1.3.2-target改为2维：\" data-toc-modified-id=\"1.3.2-target改为2维：-1.3\">1.3.2 target改为2维：</a></span><ul class=\"toc-item\"><li><span><a href=\"#1.3.3-拆分数据集\" data-toc-modified-id=\"1.3.3-拆分数据集-1.3.1\">1.3.3 拆分数据集</a></span></li></ul></li></ul></li><li><span><a href=\"#2-搭建模型\" data-toc-modified-id=\"2-搭建模型-2\">2 搭建模型</a></span><ul class=\"toc-item\"><li><span><a href=\"#2.1-定义3层模型实例\" data-toc-modified-id=\"2.1-定义3层模型实例-2.1\">2.1 定义3层模型实例</a></span></li><li><span><a href=\"#2.2-定义损失函数\" data-toc-modified-id=\"2.2-定义损失函数-2.2\">2.2 定义损失函数</a></span></li><li><span><a href=\"#2.3-定义优化器-Adam\" data-toc-modified-id=\"2.3-定义优化器-Adam-2.3\">2.3 定义优化器-Adam</a></span></li></ul></li><li><span><a href=\"#3-训练模型\" data-toc-modified-id=\"3-训练模型-3\">3 训练模型</a></span></li><li><span><a href=\"#4--loss可视化\" data-toc-modified-id=\"4--loss可视化-4\">4  loss可视化</a></span></li><li><span><a href=\"#5-测试\" data-toc-modified-id=\"5-测试-5\">5 测试</a></span><ul class=\"toc-item\"><li><span><a href=\"#5.1-获取测试结果数组\" data-toc-modified-id=\"5.1-获取测试结果数组-5.1\">5.1 获取测试结果数组</a></span></li><li><span><a href=\"#5.2-预测值与真实值可视化\" data-toc-modified-id=\"5.2-预测值与真实值可视化-5.2\">5.2 预测值与真实值可视化</a></span></li></ul></li><li><span><a href=\"#6-总结\" data-toc-modified-id=\"6-总结-6\">6 总结</a></span></li></ul></div>"
   ]
  },
  {
   "cell_type": "code",
   "execution_count": 1,
   "metadata": {
    "id": "ZOCz-rYRPm0u"
   },
   "outputs": [],
   "source": [
    "# from google.colab import drive\n",
    "# drive.mount('/content/drive')"
   ]
  },
  {
   "cell_type": "code",
   "execution_count": 2,
   "metadata": {
    "id": "v_ygNe5VPmn_"
   },
   "outputs": [],
   "source": [
    "# import os\n",
    "# os.chdir(\"/content/drive/My Drive/Colab Notebooks/\")"
   ]
  },
  {
   "cell_type": "code",
   "execution_count": 3,
   "metadata": {
    "id": "ugZ0D3KqPmYW"
   },
   "outputs": [],
   "source": [
    "# !apt-get install -y -qq software-properties-common python-software-properties module-init-tools !add-apt-repository -y ppa:alessandro-strada/ppa 2>&1 > /dev/null !apt-get update -qq 2>&1 > /dev/null !apt-get -y install -qq google-drive-ocamlfuse fuse from google.colab import auth auth.authenticate_user() from oauth2client.client import GoogleCredentials creds = GoogleCredentials.get_application_default() import getpass !google-drive-ocamlfuse -headless -id={creds.client_id} -secret={creds.client_secret} &1 | grep URL vcode = getpass.getpass() !echo {vcode} | google-drive-ocamlfuse -headless -id={creds.client_id} -secret={creds.client_secret}"
   ]
  },
  {
   "cell_type": "code",
   "execution_count": 4,
   "metadata": {
    "colab": {
     "base_uri": "https://localhost:8080/",
     "height": 306
    },
    "id": "sYaqaN30h4pO",
    "outputId": "f93cf85f-d207-4912-a822-547e1e033672"
   },
   "outputs": [
    {
     "name": "stdout",
     "output_type": "stream",
     "text": [
      "Sun Oct  4 09:29:02 2020       \n",
      "+-----------------------------------------------------------------------------+\n",
      "| NVIDIA-SMI 418.67       Driver Version: 418.67       CUDA Version: 10.1     |\n",
      "|-------------------------------+----------------------+----------------------+\n",
      "| GPU  Name        Persistence-M| Bus-Id        Disp.A | Volatile Uncorr. ECC |\n",
      "| Fan  Temp  Perf  Pwr:Usage/Cap|         Memory-Usage | GPU-Util  Compute M. |\n",
      "|===============================+======================+======================|\n",
      "|   0  Tesla T4            Off  | 00000000:00:04.0 Off |                    0 |\n",
      "| N/A   64C    P8    19W /  70W |      0MiB / 15079MiB |      0%      Default |\n",
      "+-------------------------------+----------------------+----------------------+\n",
      "                                                                               \n",
      "+-----------------------------------------------------------------------------+\n",
      "| Processes:                                                       GPU Memory |\n",
      "|  GPU       PID   Type   Process name                             Usage      |\n",
      "|=============================================================================|\n",
      "|  No running processes found                                                 |\n",
      "+-----------------------------------------------------------------------------+\n"
     ]
    }
   ],
   "source": [
    "!/opt/bin/nvidia-smi"
   ]
  },
  {
   "cell_type": "markdown",
   "metadata": {
    "id": "Nj5bjMaTPho_"
   },
   "source": [
    "Action1:\n",
    "使用Pytorch编写神经网络，完成boston房价预测问题    \n",
    "1）数据加载：`from sklearn.datasets import load_boston  `   \n",
    "2）网络结构：\n",
    "```\n",
    "l1 = Linear(X, W1, b1)\n",
    "s1 = Relu(l1)\n",
    "l2 = Linear(s1, W2, b2)\n",
    "cost = MSE(y, l2)\n",
    "````\n",
    "隐藏层维度为10"
   ]
  },
  {
   "cell_type": "code",
   "execution_count": 5,
   "metadata": {
    "id": "vR1Hy_k7PhpA"
   },
   "outputs": [],
   "source": [
    "import torch \n",
    "import numpy as np\n",
    "from torch import nn\n",
    "from matplotlib import pyplot as plt\n",
    "from sklearn.datasets import load_boston\n",
    "from sklearn.preprocessing import MinMaxScaler, StandardScaler\n",
    "from sklearn.model_selection import train_test_split"
   ]
  },
  {
   "cell_type": "markdown",
   "metadata": {
    "id": "iwyi6zz7PhpF"
   },
   "source": [
    "# 1 加载数据"
   ]
  },
  {
   "cell_type": "code",
   "execution_count": 6,
   "metadata": {
    "id": "lXBfL8tYPhpG"
   },
   "outputs": [],
   "source": [
    "boston = load_boston()\n",
    "X = boston.data\n",
    "y = boston.target"
   ]
  },
  {
   "cell_type": "code",
   "execution_count": 7,
   "metadata": {
    "colab": {
     "base_uri": "https://localhost:8080/",
     "height": 34
    },
    "id": "Sm5ZksYhPhpJ",
    "outputId": "f47f2dfd-c643-42f4-fdcc-ddc6faaa9e4c"
   },
   "outputs": [
    {
     "data": {
      "text/plain": [
       "((506, 13), (506,))"
      ]
     },
     "execution_count": 7,
     "metadata": {
      "tags": []
     },
     "output_type": "execute_result"
    }
   ],
   "source": [
    "X.shape, y.shape"
   ]
  },
  {
   "cell_type": "code",
   "execution_count": 8,
   "metadata": {
    "colab": {
     "base_uri": "https://localhost:8080/",
     "height": 34
    },
    "id": "C_HtBbi6UbL7",
    "outputId": "fe38f15e-5055-4778-b1d4-56ff02c2aed3"
   },
   "outputs": [
    {
     "data": {
      "text/plain": [
       "(numpy.ndarray, 0.0, 711.0)"
      ]
     },
     "execution_count": 8,
     "metadata": {
      "tags": []
     },
     "output_type": "execute_result"
    }
   ],
   "source": [
    "type(X), X.min(), X.max()"
   ]
  },
  {
   "cell_type": "markdown",
   "metadata": {
    "id": "P1xu9FaYPhpR"
   },
   "source": [
    "## 1.2 数据规范化"
   ]
  },
  {
   "cell_type": "code",
   "execution_count": 9,
   "metadata": {
    "id": "tqDo6fMmPhpS"
   },
   "outputs": [],
   "source": [
    "# 最大最小归一化\n",
    "# transfer = MinMaxScaler()\n",
    "# 标准化\n",
    "transfer = StandardScaler()\n",
    "X = transfer.fit_transform(X)"
   ]
  },
  {
   "cell_type": "markdown",
   "metadata": {
    "id": "y3lIEutZPhpV"
   },
   "source": [
    "## 1.3 数据集拆分"
   ]
  },
  {
   "cell_type": "markdown",
   "metadata": {
    "id": "_TpxNbP1pnWu"
   },
   "source": [
    "### 1.3.1 数组转张量"
   ]
  },
  {
   "cell_type": "code",
   "execution_count": 10,
   "metadata": {
    "id": "_R7_K82hPhpV"
   },
   "outputs": [],
   "source": [
    "# 从数组转为张量，并调整数据类型\n",
    "# X数据类型需要是float32，目标值回归模型也需要float32\n",
    "X = torch.from_numpy(X).type(torch.FloatTensor)\n",
    "y = torch.from_numpy(y).type(torch.FloatTensor)"
   ]
  },
  {
   "cell_type": "markdown",
   "metadata": {
    "id": "zQ9Km249PhpN"
   },
   "source": [
    "## 1.3.2 target改为2维："
   ]
  },
  {
   "cell_type": "code",
   "execution_count": 11,
   "metadata": {
    "id": "PeI733u8pT7x"
   },
   "outputs": [],
   "source": [
    "y = y.reshape(-1, 1)"
   ]
  },
  {
   "cell_type": "code",
   "execution_count": 12,
   "metadata": {
    "colab": {
     "base_uri": "https://localhost:8080/",
     "height": 34
    },
    "id": "b382EblfpEK7",
    "outputId": "1d50879d-bbb6-4137-c5fb-f616f5fbe1fa"
   },
   "outputs": [
    {
     "data": {
      "text/plain": [
       "(torch.Size([506, 13]), 2, torch.Size([506, 1]), 2)"
      ]
     },
     "execution_count": 12,
     "metadata": {
      "tags": []
     },
     "output_type": "execute_result"
    }
   ],
   "source": [
    "X.shape, X.ndim, y.shape, y.ndim"
   ]
  },
  {
   "cell_type": "markdown",
   "metadata": {
    "id": "aPr6w03xpxHN"
   },
   "source": [
    "### 1.3.3 拆分数据集"
   ]
  },
  {
   "cell_type": "code",
   "execution_count": 13,
   "metadata": {
    "id": "I6UHJiO5Phpa"
   },
   "outputs": [],
   "source": [
    "# 数据集切分\n",
    "x_train, x_test, y_train, y_test = train_test_split(X, y, test_size=0.25, random_state=30)"
   ]
  },
  {
   "cell_type": "code",
   "execution_count": 14,
   "metadata": {
    "colab": {
     "base_uri": "https://localhost:8080/",
     "height": 34
    },
    "id": "YPMTZ7vxPhpe",
    "outputId": "fba33a25-e213-49eb-b398-43ac9d6a6b9c",
    "scrolled": true
   },
   "outputs": [
    {
     "data": {
      "text/plain": [
       "(torch.Size([379, 13]), torch.Size([379, 1]))"
      ]
     },
     "execution_count": 14,
     "metadata": {
      "tags": []
     },
     "output_type": "execute_result"
    }
   ],
   "source": [
    "x_train.shape, y_train.shape"
   ]
  },
  {
   "cell_type": "code",
   "execution_count": 15,
   "metadata": {
    "colab": {
     "base_uri": "https://localhost:8080/",
     "height": 34
    },
    "id": "rcn6jjk_ou_9",
    "outputId": "177aff97-c3df-40fc-8d47-6c1f79b3ac97"
   },
   "outputs": [
    {
     "data": {
      "text/plain": [
       "(torch.Size([127, 13]), torch.Size([127, 1]))"
      ]
     },
     "execution_count": 15,
     "metadata": {
      "tags": []
     },
     "output_type": "execute_result"
    }
   ],
   "source": [
    "x_test.shape, y_test.shape"
   ]
  },
  {
   "cell_type": "markdown",
   "metadata": {
    "id": "HrBQ9Q9VPhph"
   },
   "source": [
    "# 2 搭建模型\n",
    "---\n",
    "## 2.1 定义3层模型实例"
   ]
  },
  {
   "cell_type": "markdown",
   "metadata": {
    "id": "jUJEtUQRPhph"
   },
   "source": [
    "`nn.Linear(in_features, out_features, bias=True)`"
   ]
  },
  {
   "cell_type": "code",
   "execution_count": 16,
   "metadata": {
    "id": "fTtLeZWUPhpi"
   },
   "outputs": [],
   "source": [
    "model = nn.Sequential(\n",
    "    # 输入13，隐藏层16\n",
    "    nn.Linear(13, 10),\n",
    "    # 激活层\n",
    "    nn.ReLU(),\n",
    "    # 隐藏层->输出\n",
    "    nn.Linear(10, 1)\n",
    ")"
   ]
  },
  {
   "cell_type": "code",
   "execution_count": 17,
   "metadata": {
    "id": "vRZEhUoaPhpl"
   },
   "outputs": [],
   "source": [
    "# 假如存在GPU环境，则把模型和数据集送入GPU\n",
    "device = torch.device('cuda:0' if torch.cuda.is_available() else 'cpu')\n",
    "model = model.to(device)\n",
    "x_train, y_train = x_train.to(device), y_train.to(device)\n",
    "x_test, y_test = x_test.to(device), y_test.to(device)"
   ]
  },
  {
   "cell_type": "markdown",
   "metadata": {
    "id": "QvagD2tyPhpn"
   },
   "source": [
    "## 2.2 定义损失函数 "
   ]
  },
  {
   "cell_type": "code",
   "execution_count": 18,
   "metadata": {
    "colab": {
     "base_uri": "https://localhost:8080/",
     "height": 34
    },
    "id": "JdWJnIOIPhpn",
    "outputId": "3fcb804a-54c9-43ec-8d4e-cd66e75d1c3a",
    "scrolled": true
   },
   "outputs": [
    {
     "data": {
      "text/plain": [
       "MSELoss()"
      ]
     },
     "execution_count": 18,
     "metadata": {
      "tags": []
     },
     "output_type": "execute_result"
    }
   ],
   "source": [
    "# 定义损失函数\n",
    "criterion = nn.MSELoss()\n",
    "\n",
    "criterion"
   ]
  },
  {
   "cell_type": "markdown",
   "metadata": {
    "id": "C6nhWsbuPhpp"
   },
   "source": [
    "## 2.3 定义优化器-Adam"
   ]
  },
  {
   "cell_type": "code",
   "execution_count": 19,
   "metadata": {
    "colab": {
     "base_uri": "https://localhost:8080/",
     "height": 153
    },
    "id": "EmBoO2KSPhpq",
    "outputId": "7c72b1c2-4a89-4613-bb1d-0e5c214d2643"
   },
   "outputs": [
    {
     "data": {
      "text/plain": [
       "Adam (\n",
       "Parameter Group 0\n",
       "    amsgrad: False\n",
       "    betas: (0.8, 0.9)\n",
       "    eps: 1e-08\n",
       "    lr: 0.01\n",
       "    weight_decay: 0\n",
       ")"
      ]
     },
     "execution_count": 19,
     "metadata": {
      "tags": []
     },
     "output_type": "execute_result"
    }
   ],
   "source": [
    "optimizer = torch.optim.Adam(model.parameters(), lr=0.01, betas=(0.8, 0.9))\n",
    "optimizer"
   ]
  },
  {
   "cell_type": "markdown",
   "metadata": {
    "id": "1ZkCcJl0Phps"
   },
   "source": [
    "# 3 训练模型"
   ]
  },
  {
   "cell_type": "code",
   "execution_count": 20,
   "metadata": {
    "id": "e2B9ZRZ2Phps"
   },
   "outputs": [],
   "source": [
    "# criterion?"
   ]
  },
  {
   "cell_type": "code",
   "execution_count": 21,
   "metadata": {
    "colab": {
     "base_uri": "https://localhost:8080/",
     "height": 51
    },
    "id": "RLsnK7BWPhpw",
    "outputId": "aa61b936-87f8-4c2c-bb6c-0ccddc28d52f"
   },
   "outputs": [
    {
     "name": "stdout",
     "output_type": "stream",
     "text": [
      "CPU times: user 2.45 s, sys: 78.9 ms, total: 2.53 s\n",
      "Wall time: 2.58 s\n"
     ]
    }
   ],
   "source": [
    "%%time\n",
    "# 循环次数\n",
    "EPOCH = 2200\n",
    "# 绘图起始epoch\n",
    "plot_start_epoch = 500\n",
    "losses = []\n",
    "for e in range(EPOCH):\n",
    "    # 清空之前梯度\n",
    "    optimizer.zero_grad()\n",
    "    # 使用神经网络前向传播\n",
    "    y_pred = model.forward(x_train)\n",
    "    # 计算loss，一般预测值在前，真实值在后\n",
    "    cost = criterion(y_pred, y_train)\n",
    "    # cost是单值张量，可以用item提取数值\n",
    "    losses.append(cost.item())\n",
    "    # 反向传播\n",
    "    cost.backward()\n",
    "    # 参数学习\n",
    "    optimizer.step()"
   ]
  },
  {
   "cell_type": "markdown",
   "metadata": {
    "id": "ysWvUlAJPhpz"
   },
   "source": [
    "# 4  loss可视化"
   ]
  },
  {
   "cell_type": "code",
   "execution_count": 22,
   "metadata": {
    "colab": {
     "base_uri": "https://localhost:8080/",
     "height": 265
    },
    "id": "iZ4GHRN9Phpz",
    "outputId": "0dfdbce5-6d3b-4ab4-d383-0b3e3f5c1441",
    "scrolled": true
   },
   "outputs": [
    {
     "data": {
      "image/png": "[encoded data removed]",
      "text/plain": [
       "<Figure size 432x288 with 1 Axes>"
      ]
     },
     "metadata": {
      "needs_background": "light",
      "tags": []
     },
     "output_type": "display_data"
    }
   ],
   "source": [
    "# 返回Line2D对象，可用于legend函数为该对象指定图例名称\n",
    "data = plt.plot(range(EPOCH)[plot_start_epoch:], losses[plot_start_epoch:])\n",
    "plt.legend(data, ['Train Loss'])\n",
    "plt.show()"
   ]
  },
  {
   "cell_type": "code",
   "execution_count": 23,
   "metadata": {
    "colab": {
     "base_uri": "https://localhost:8080/",
     "height": 34
    },
    "id": "iSD2A0fVPhp2",
    "outputId": "091f54fd-3071-4fa5-8a0a-6237ada282ee"
   },
   "outputs": [
    {
     "data": {
      "text/plain": [
       "(list, matplotlib.lines.Line2D)"
      ]
     },
     "execution_count": 23,
     "metadata": {
      "tags": []
     },
     "output_type": "execute_result"
    }
   ],
   "source": [
    "type(data), type(data[0])"
   ]
  },
  {
   "cell_type": "code",
   "execution_count": 24,
   "metadata": {
    "colab": {
     "base_uri": "https://localhost:8080/",
     "height": 34
    },
    "id": "hRkoUOforSIC",
    "outputId": "8f1713db-a836-4157-9b11-821b1a1f9e69"
   },
   "outputs": [
    {
     "data": {
      "text/plain": [
       "(2192, 4.183244228363037)"
      ]
     },
     "execution_count": 24,
     "metadata": {
      "tags": []
     },
     "output_type": "execute_result"
    }
   ],
   "source": [
    "np.array(losses).argmin(), np.array(losses).min()"
   ]
  },
  {
   "cell_type": "code",
   "execution_count": 25,
   "metadata": {
    "colab": {
     "base_uri": "https://localhost:8080/",
     "height": 34
    },
    "id": "J7ZjIDtx2065",
    "outputId": "3c59c5b6-e0e9-4024-e369-c9712646afce"
   },
   "outputs": [
    {
     "data": {
      "text/plain": [
       "4.195528984069824"
      ]
     },
     "execution_count": 25,
     "metadata": {
      "tags": []
     },
     "output_type": "execute_result"
    }
   ],
   "source": [
    "losses[-1]"
   ]
  },
  {
   "cell_type": "markdown",
   "metadata": {
    "id": "PNvihEF7Php5"
   },
   "source": [
    "# 5 测试 \n",
    "---\n",
    "## 5.1 获取测试结果数组"
   ]
  },
  {
   "cell_type": "code",
   "execution_count": 26,
   "metadata": {
    "id": "coLoYYfqPhp5"
   },
   "outputs": [],
   "source": [
    "model.eval() # 进入测试模式\n",
    "\n",
    "output = model(x_test)"
   ]
  },
  {
   "cell_type": "code",
   "execution_count": 27,
   "metadata": {
    "colab": {
     "base_uri": "https://localhost:8080/",
     "height": 34
    },
    "id": "MMRzePm2Php9",
    "outputId": "539b3940-311e-4087-c596-3da46f56b24f"
   },
   "outputs": [
    {
     "data": {
      "text/plain": [
       "('torch.cuda.FloatTensor', torch.Size([127, 1]))"
      ]
     },
     "execution_count": 27,
     "metadata": {
      "tags": []
     },
     "output_type": "execute_result"
    }
   ],
   "source": [
    "output.type(), output.shape"
   ]
  },
  {
   "cell_type": "code",
   "execution_count": 28,
   "metadata": {
    "colab": {
     "base_uri": "https://localhost:8080/",
     "height": 34
    },
    "id": "PVpQJ959g55V",
    "outputId": "cd2c109b-8fab-4620-c02e-8f34ff4d44b0"
   },
   "outputs": [
    {
     "data": {
      "text/plain": [
       "tensor([[15.6657]], device='cuda:0', grad_fn=<SliceBackward>)"
      ]
     },
     "execution_count": 28,
     "metadata": {
      "tags": []
     },
     "output_type": "execute_result"
    }
   ],
   "source": [
    "output[:1]"
   ]
  },
  {
   "cell_type": "code",
   "execution_count": 29,
   "metadata": {
    "id": "TfDLApbXPhqB"
   },
   "outputs": [],
   "source": [
    "# output.grad_fn # AddmmBackward对象"
   ]
  },
  {
   "cell_type": "code",
   "execution_count": 30,
   "metadata": {
    "id": "qNnjmZ_VPhqE"
   },
   "outputs": [],
   "source": [
    "predict = output.detach()  # 返回不需要计算梯度的张量"
   ]
  },
  {
   "cell_type": "code",
   "execution_count": 31,
   "metadata": {
    "colab": {
     "base_uri": "https://localhost:8080/",
     "height": 34
    },
    "id": "J-24GocePhqH",
    "outputId": "2451f364-a870-4791-a861-7f0a6436cbaa"
   },
   "outputs": [
    {
     "data": {
      "text/plain": [
       "('torch.cuda.FloatTensor', torch.Size([127, 1]))"
      ]
     },
     "execution_count": 31,
     "metadata": {
      "tags": []
     },
     "output_type": "execute_result"
    }
   ],
   "source": [
    "predict.type(), predict.shape"
   ]
  },
  {
   "cell_type": "code",
   "execution_count": 32,
   "metadata": {
    "colab": {
     "base_uri": "https://localhost:8080/",
     "height": 102
    },
    "id": "89HczqhSPhqO",
    "outputId": "f08680df-7283-4a74-a0b4-c46f662f4b46"
   },
   "outputs": [
    {
     "data": {
      "text/plain": [
       "array([[15.665672],\n",
       "       [ 7.327577],\n",
       "       [18.971645],\n",
       "       [29.994526],\n",
       "       [15.416315]], dtype=float32)"
      ]
     },
     "execution_count": 32,
     "metadata": {
      "tags": []
     },
     "output_type": "execute_result"
    }
   ],
   "source": [
    "y_test_pred = output.to('cpu').data.numpy()\n",
    "y_test_pred[:5]"
   ]
  },
  {
   "cell_type": "code",
   "execution_count": 33,
   "metadata": {
    "colab": {
     "base_uri": "https://localhost:8080/",
     "height": 102
    },
    "id": "bbB7jZXOuoW9",
    "outputId": "6196d93d-f4f0-407a-d509-016f19207432"
   },
   "outputs": [
    {
     "data": {
      "text/plain": [
       "array([[19.6],\n",
       "       [10.5],\n",
       "       [19.3],\n",
       "       [29.9],\n",
       "       [15.2]], dtype=float32)"
      ]
     },
     "execution_count": 33,
     "metadata": {
      "tags": []
     },
     "output_type": "execute_result"
    }
   ],
   "source": [
    "y_test = y_test.cpu().data.numpy()\n",
    "y_test[:5]"
   ]
  },
  {
   "cell_type": "markdown",
   "metadata": {
    "id": "t8waBlrcPhqQ"
   },
   "source": [
    "## 5.2 预测值与真实值可视化"
   ]
  },
  {
   "cell_type": "code",
   "execution_count": 34,
   "metadata": {
    "colab": {
     "base_uri": "https://localhost:8080/",
     "height": 34
    },
    "id": "RZ8kdqLFypHe",
    "outputId": "1aebcfa6-292b-4bae-c853-87356d09dd88"
   },
   "outputs": [
    {
     "data": {
      "text/plain": [
       "50.0"
      ]
     },
     "execution_count": 34,
     "metadata": {
      "tags": []
     },
     "output_type": "execute_result"
    }
   ],
   "source": [
    "y_test.max()"
   ]
  },
  {
   "cell_type": "code",
   "execution_count": 35,
   "metadata": {
    "colab": {
     "base_uri": "https://localhost:8080/",
     "height": 437
    },
    "id": "JWqhnS2PPhqQ",
    "outputId": "8263eaff-8217-4246-cbc3-da9dc2305b83"
   },
   "outputs": [
    {
     "data": {
      "image/png": "[encoded data removed]",
      "text/plain": [
       "<Figure size 1440x576 with 1 Axes>"
      ]
     },
     "metadata": {
      "needs_background": "light",
      "tags": []
     },
     "output_type": "display_data"
    }
   ],
   "source": [
    "x = np.arange(x_test.shape[0])\n",
    "\n",
    "plt.figure(figsize=(20, 8))\n",
    "line1 = plt.scatter(x, y_test, c='red')\n",
    "line2 = plt.scatter(x, y_test_pred, c='cyan')\n",
    "# 刻度轴\n",
    "plt.xlim(-5, x[-1]+5)\n",
    "plt.ylim(-5, y_test.max()+5)\n",
    "# 设置x坐标轴间隔\n",
    "plt.xticks(x[::5])\n",
    "# 2条坐标轴实例\n",
    "ax=plt.gca()\n",
    "width = plt.MultipleLocator(5)\n",
    "# 设置y坐标轴间隔\n",
    "ax.yaxis.set_major_locator(width)\n",
    "# 图例\n",
    "plt.legend([line1, line2], ['real', 'predict'], loc=2)\n",
    "# 网格\n",
    "plt.grid()\n",
    "# 添加描述信息\n",
    "plt.title('Prediction Price VS Real Price')\n",
    "plt.ylabel('House Price')\n",
    "plt.show()"
   ]
  },
  {
   "cell_type": "code",
   "execution_count": 36,
   "metadata": {
    "colab": {
     "base_uri": "https://localhost:8080/",
     "height": 34
    },
    "id": "fBkyGXroPhqT",
    "outputId": "3ac3c8f0-d823-4085-dea0-f345dff6ac39"
   },
   "outputs": [
    {
     "data": {
      "text/plain": [
       "matplotlib.collections.PathCollection"
      ]
     },
     "execution_count": 36,
     "metadata": {
      "tags": []
     },
     "output_type": "execute_result"
    }
   ],
   "source": [
    "type(line1)"
   ]
  },
  {
   "cell_type": "markdown",
   "metadata": {
    "id": "hrX9B_G13J3m"
   },
   "source": [
    "# 6 总结"
   ]
  },
  {
   "cell_type": "markdown",
   "metadata": {
    "id": "Zn-l3uin3YtH"
   },
   "source": [
    "1. 首先，特征张量的精度需要调整为FloatTensor，即32位浮点数；目标值张量回归模型中也需要是FloatTensor；\n",
    "2. 其次，目标值张量必须从1维调整成2维；\n",
    "3. 原本我认为，训练集的特征都是正数，那数据规范的方式是不是最大最小归一化更适合？但通过比较，在标准化后的MSE反而更小，所以不能单纯以数据集是正数就简单的决定用最大最小归一化；\n",
    "4. 使用GPU时，模型实例、训练集张量、测试集张量都需要`.to(device)`。刚开始没有把测试集放进去，在用模型对测试集进行预测后，测试结果在转numpy时会报`RuntimeError: CUDA error: an illegal memory access was encountered`，只有事先`.to(device)`后，才不会报这个错；\n",
    "5. 对回归模型的预测结果进行散点图进行可视化这个方法不错，非常直观。当然在可视化的过程中，一定要注意由于xy轴刻度不同，以及图像尺寸所导致的错觉；可以通过指定坐标轴刻度及刻度间隔、调整图像尺寸比例等来让可视化的结果接近真实情况。"
   ]
  },
  {
   "cell_type": "code",
   "execution_count": 36,
   "metadata": {
    "id": "NrLeMD4WPhqX"
   },
   "outputs": [],
   "source": []
  }
 ],
 "metadata": {
  "accelerator": "GPU",
  "colab": {
   "collapsed_sections": [],
   "name": "HX04_Lesson07_Action1_PytorchBoston.ipynb",
   "provenance": []
  },
  "kernelspec": {
   "display_name": "Python 3",
   "language": "python",
   "name": "python3"
  },
  "language_info": {
   "codemirror_mode": {
    "name": "ipython",
    "version": 3
   },
   "file_extension": ".py",
   "mimetype": "text/x-python",
   "name": "python",
   "nbconvert_exporter": "python",
   "pygments_lexer": "ipython3",
   "version": "3.7.7"
  },
  "toc": {
   "base_numbering": 1,
   "nav_menu": {},
   "number_sections": false,
   "sideBar": true,
   "skip_h1_title": false,
   "title_cell": "Table of Contents",
   "title_sidebar": "Contents",
   "toc_cell": true,
   "toc_position": {
    "height": "calc(100% - 180px)",
    "left": "10px",
    "top": "150px",
    "width": "288px"
   },
   "toc_section_display": true,
   "toc_window_display": true
  }
 },
 "nbformat": 4,
 "nbformat_minor": 1
}
