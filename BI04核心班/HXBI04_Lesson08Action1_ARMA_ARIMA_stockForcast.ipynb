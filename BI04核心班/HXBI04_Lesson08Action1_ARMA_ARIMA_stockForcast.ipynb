{
 "cells": [
  {
   "cell_type": "markdown",
   "metadata": {
    "toc": true
   },
   "source": [
    "<h1>Table of Contents<span class=\"tocSkip\"></span></h1>\n",
    "<div class=\"toc\"><ul class=\"toc-item\"><li><span><a href=\"#1-准备训练数据和预测数据\" data-toc-modified-id=\"1-准备训练数据和预测数据-1\">1 准备训练数据和预测数据</a></span><ul class=\"toc-item\"><li><span><a href=\"#1.1-加载数据源\" data-toc-modified-id=\"1.1-加载数据源-1.1\">1.1 加载数据源</a></span></li><li><span><a href=\"#1.2-查看时间序列概况\" data-toc-modified-id=\"1.2-查看时间序列概况-1.2\">1.2 查看时间序列概况</a></span></li><li><span><a href=\"#1.3-重采样\" data-toc-modified-id=\"1.3-重采样-1.3\">1.3 重采样</a></span><ul class=\"toc-item\"><li><span><a href=\"#1.3.1-可视化重采样后的数据趋势图\" data-toc-modified-id=\"1.3.1-可视化重采样后的数据趋势图-1.3.1\">1.3.1 可视化重采样后的数据趋势图</a></span></li></ul></li><li><span><a href=\"#1.4-构建未来3个月时间序列\" data-toc-modified-id=\"1.4-构建未来3个月时间序列-1.4\">1.4 构建未来3个月时间序列</a></span><ul class=\"toc-item\"><li><span><a href=\"#1.4.1-方法1：循环统计未来每个月的天数，以便找到每个月的最后-一天\" data-toc-modified-id=\"1.4.1-方法1：循环统计未来每个月的天数，以便找到每个月的最后-一天-1.4.1\">1.4.1 方法1：循环统计未来每个月的天数，以便找到每个月的最后 一天</a></span></li><li><span><a href=\"#1.4.2-方法2：timedelta-与-date_range()结合按月生成时间序列\" data-toc-modified-id=\"1.4.2-方法2：timedelta-与-date_range()结合按月生成时间序列-1.4.2\">1.4.2 方法2：timedelta 与 date_range()结合按月生成时间序列</a></span></li></ul></li></ul></li><li><span><a href=\"#2-ARMA预测\" data-toc-modified-id=\"2-ARMA预测-2\">2 ARMA预测</a></span><ul class=\"toc-item\"><li><span><a href=\"#2.1-什么是AIC？\" data-toc-modified-id=\"2.1-什么是AIC？-2.1\">2.1 什么是AIC？</a></span></li><li><span><a href=\"#2.2-设置p-q阶参数范围\" data-toc-modified-id=\"2.2-设置p-q阶参数范围-2.2\">2.2 设置p q阶参数范围</a></span></li><li><span><a href=\"#2.3-循环建模寻找最佳参数模型\" data-toc-modified-id=\"2.3-循环建模寻找最佳参数模型-2.3\">2.3 循环建模寻找最佳参数模型</a></span></li><li><span><a href=\"#2.4-预测并可视化\" data-toc-modified-id=\"2.4-预测并可视化-2.4\">2.4 预测并可视化</a></span><ul class=\"toc-item\"><li><span><a href=\"#2.4.1-进行预测\" data-toc-modified-id=\"2.4.1-进行预测-2.4.1\">2.4.1 进行预测</a></span></li><li><span><a href=\"#2.4.2--可视化预测结果\" data-toc-modified-id=\"2.4.2--可视化预测结果-2.4.2\">2.4.2  可视化预测结果</a></span></li></ul></li></ul></li><li><span><a href=\"#3-ARIMA预测\" data-toc-modified-id=\"3-ARIMA预测-3\">3 ARIMA预测</a></span><ul class=\"toc-item\"><li><span><a href=\"#3.1-设置pdq参数范围\" data-toc-modified-id=\"3.1-设置pdq参数范围-3.1\">3.1 设置pdq参数范围</a></span></li><li><span><a href=\"#3.2-循环建模训练，寻找最佳参数和模型\" data-toc-modified-id=\"3.2-循环建模训练，寻找最佳参数和模型-3.2\">3.2 循环建模训练，寻找最佳参数和模型</a></span></li><li><span><a href=\"#3.3-预测并可视化\" data-toc-modified-id=\"3.3-预测并可视化-3.3\">3.3 预测并可视化</a></span><ul class=\"toc-item\"><li><span><a href=\"#3.3.1-预测\" data-toc-modified-id=\"3.3.1-预测-3.3.1\">3.3.1 预测</a></span></li><li><span><a href=\"#3.3.2-可视化预测结果\" data-toc-modified-id=\"3.3.2-可视化预测结果-3.3.2\">3.3.2 可视化预测结果</a></span></li></ul></li></ul></li></ul></div>"
   ]
  },
  {
   "cell_type": "markdown",
   "metadata": {},
   "source": [
    "股票价格预测    \n",
    "任何股票价格预测，比如 美吉姆    \n",
    "http://quotes.money.163.com/trade/lsjysj_002621.html    \n",
    "历史数据（从1990年12月19日至今）    \n",
    "请你编写代码对该股票未来3个月的变化进行预测（可以按照月来统计，也可以按照天）    \n",
    "模型选择：ARMA/ARIMA/LSTM 中的任意一种    "
   ]
  },
  {
   "cell_type": "code",
   "execution_count": 1,
   "metadata": {},
   "outputs": [],
   "source": [
    "import warnings\n",
    "\n",
    "\n",
    "# 指定忽略警告消息\n",
    "warnings.filterwarnings(\"ignore\") "
   ]
  },
  {
   "cell_type": "code",
   "execution_count": 2,
   "metadata": {},
   "outputs": [],
   "source": [
    "import calendar"
   ]
  },
  {
   "cell_type": "code",
   "execution_count": 3,
   "metadata": {},
   "outputs": [],
   "source": [
    "from itertools import product "
   ]
  },
  {
   "cell_type": "code",
   "execution_count": 4,
   "metadata": {},
   "outputs": [],
   "source": [
    "from datetime import datetime, timedelta"
   ]
  },
  {
   "cell_type": "code",
   "execution_count": 5,
   "metadata": {},
   "outputs": [],
   "source": [
    "import pandas as pd"
   ]
  },
  {
   "cell_type": "code",
   "execution_count": 6,
   "metadata": {},
   "outputs": [],
   "source": [
    "from pandas_datareader.data import DataReader"
   ]
  },
  {
   "cell_type": "code",
   "execution_count": 7,
   "metadata": {},
   "outputs": [],
   "source": [
    "from statsmodels.api import tsa\n",
    "# from statsmodels.tsa.arima_model import ARMA"
   ]
  },
  {
   "cell_type": "code",
   "execution_count": 8,
   "metadata": {},
   "outputs": [],
   "source": [
    "from matplotlib import pyplot as plt"
   ]
  },
  {
   "cell_type": "code",
   "execution_count": 9,
   "metadata": {
    "scrolled": true
   },
   "outputs": [],
   "source": [
    "# dir(tsa)"
   ]
  },
  {
   "cell_type": "markdown",
   "metadata": {},
   "source": [
    "# 1 准备训练数据和预测数据"
   ]
  },
  {
   "cell_type": "markdown",
   "metadata": {},
   "source": [
    "## 1.1 加载数据源"
   ]
  },
  {
   "cell_type": "code",
   "execution_count": 10,
   "metadata": {},
   "outputs": [],
   "source": [
    "# 深圳股票 美吉姆 '002621.SZ'\n",
    "df = DataReader(name='002621.SZ', data_source=\"yahoo\", start='12/19/1990')"
   ]
  },
  {
   "cell_type": "code",
   "execution_count": 11,
   "metadata": {},
   "outputs": [
    {
     "data": {
      "text/plain": [
       "(2196, 6)"
      ]
     },
     "execution_count": 11,
     "metadata": {},
     "output_type": "execute_result"
    }
   ],
   "source": [
    "df.shape"
   ]
  },
  {
   "cell_type": "code",
   "execution_count": 12,
   "metadata": {},
   "outputs": [
    {
     "data": {
      "text/html": [
       "<div>\n",
       "<style scoped>\n",
       "    .dataframe tbody tr th:only-of-type {\n",
       "        vertical-align: middle;\n",
       "    }\n",
       "\n",
       "    .dataframe tbody tr th {\n",
       "        vertical-align: top;\n",
       "    }\n",
       "\n",
       "    .dataframe thead th {\n",
       "        text-align: right;\n",
       "    }\n",
       "</style>\n",
       "<table border=\"1\" class=\"dataframe\">\n",
       "  <thead>\n",
       "    <tr style=\"text-align: right;\">\n",
       "      <th></th>\n",
       "      <th>High</th>\n",
       "      <th>Low</th>\n",
       "      <th>Open</th>\n",
       "      <th>Close</th>\n",
       "      <th>Volume</th>\n",
       "      <th>Adj Close</th>\n",
       "    </tr>\n",
       "    <tr>\n",
       "      <th>Date</th>\n",
       "      <th></th>\n",
       "      <th></th>\n",
       "      <th></th>\n",
       "      <th></th>\n",
       "      <th></th>\n",
       "      <th></th>\n",
       "    </tr>\n",
       "  </thead>\n",
       "  <tbody>\n",
       "    <tr>\n",
       "      <th>2011-09-29</th>\n",
       "      <td>4.38329</td>\n",
       "      <td>3.98766</td>\n",
       "      <td>4.17937</td>\n",
       "      <td>4.19680</td>\n",
       "      <td>66114972.0</td>\n",
       "      <td>3.956766</td>\n",
       "    </tr>\n",
       "    <tr>\n",
       "      <th>2011-09-30</th>\n",
       "      <td>4.14800</td>\n",
       "      <td>3.84300</td>\n",
       "      <td>4.02600</td>\n",
       "      <td>3.95454</td>\n",
       "      <td>30721099.0</td>\n",
       "      <td>3.728362</td>\n",
       "    </tr>\n",
       "  </tbody>\n",
       "</table>\n",
       "</div>"
      ],
      "text/plain": [
       "               High      Low     Open    Close      Volume  Adj Close\n",
       "Date                                                                 \n",
       "2011-09-29  4.38329  3.98766  4.17937  4.19680  66114972.0   3.956766\n",
       "2011-09-30  4.14800  3.84300  4.02600  3.95454  30721099.0   3.728362"
      ]
     },
     "execution_count": 12,
     "metadata": {},
     "output_type": "execute_result"
    }
   ],
   "source": [
    "df.head(2)"
   ]
  },
  {
   "cell_type": "markdown",
   "metadata": {},
   "source": [
    "分别是：日期、最高价、最低价、开盘价、收盘价、成交量、复权收盘价"
   ]
  },
  {
   "cell_type": "code",
   "execution_count": 13,
   "metadata": {},
   "outputs": [
    {
     "data": {
      "text/plain": [
       "High         0\n",
       "Low          0\n",
       "Open         0\n",
       "Close        0\n",
       "Volume       0\n",
       "Adj Close    0\n",
       "dtype: int64"
      ]
     },
     "execution_count": 13,
     "metadata": {},
     "output_type": "execute_result"
    }
   ],
   "source": [
    "# 检查是否有空值\n",
    "df.isnull().sum()"
   ]
  },
  {
   "cell_type": "code",
   "execution_count": 14,
   "metadata": {},
   "outputs": [
    {
     "name": "stdout",
     "output_type": "stream",
     "text": [
      "<class 'pandas.core.frame.DataFrame'>\n",
      "DatetimeIndex: 2196 entries, 2011-09-29 to 2020-10-20\n",
      "Data columns (total 6 columns):\n",
      " #   Column     Non-Null Count  Dtype  \n",
      "---  ------     --------------  -----  \n",
      " 0   High       2196 non-null   float64\n",
      " 1   Low        2196 non-null   float64\n",
      " 2   Open       2196 non-null   float64\n",
      " 3   Close      2196 non-null   float64\n",
      " 4   Volume     2196 non-null   float64\n",
      " 5   Adj Close  2196 non-null   float64\n",
      "dtypes: float64(6)\n",
      "memory usage: 120.1 KB\n"
     ]
    }
   ],
   "source": [
    "df.info()"
   ]
  },
  {
   "cell_type": "code",
   "execution_count": 15,
   "metadata": {
    "scrolled": true
   },
   "outputs": [
    {
     "data": {
      "text/plain": [
       "DatetimeIndex(['2011-09-29', '2011-09-30', '2011-10-10', '2011-10-11',\n",
       "               '2011-10-12', '2011-10-13', '2011-10-14', '2011-10-17',\n",
       "               '2011-10-18', '2011-10-19',\n",
       "               ...\n",
       "               '2020-09-29', '2020-09-30', '2020-10-09', '2020-10-12',\n",
       "               '2020-10-13', '2020-10-14', '2020-10-15', '2020-10-16',\n",
       "               '2020-10-19', '2020-10-20'],\n",
       "              dtype='datetime64[ns]', name='Date', length=2196, freq=None)"
      ]
     },
     "execution_count": 15,
     "metadata": {},
     "output_type": "execute_result"
    }
   ],
   "source": [
    "df.index"
   ]
  },
  {
   "cell_type": "markdown",
   "metadata": {},
   "source": [
    "## 1.2 查看时间序列概况"
   ]
  },
  {
   "cell_type": "code",
   "execution_count": 16,
   "metadata": {},
   "outputs": [],
   "source": [
    "# 对最高价进行季节分解 period=250  freq=12\n",
    "result  = tsa.seasonal_decompose(x=df['High'], model='additive', period=250)"
   ]
  },
  {
   "cell_type": "code",
   "execution_count": 17,
   "metadata": {},
   "outputs": [
    {
     "data": {
      "text/plain": [
       "statsmodels.tsa.seasonal.DecomposeResult"
      ]
     },
     "execution_count": 17,
     "metadata": {},
     "output_type": "execute_result"
    }
   ],
   "source": [
    "type(result)"
   ]
  },
  {
   "cell_type": "code",
   "execution_count": 18,
   "metadata": {},
   "outputs": [
    {
     "data": {
      "image/png": "[encoded data removed]",
      "text/plain": [
       "<Figure size 864x288 with 1 Axes>"
      ]
     },
     "metadata": {
      "needs_background": "light"
     },
     "output_type": "display_data"
    }
   ],
   "source": [
    "# 真实数据\n",
    "plt.figure(figsize=(12, 4))\n",
    "plt.plot(df['High'])\n",
    "plt.show()"
   ]
  },
  {
   "cell_type": "code",
   "execution_count": 19,
   "metadata": {},
   "outputs": [
    {
     "data": {
      "image/png": "[encoded data removed]",
      "text/plain": [
       "<Figure size 432x288 with 4 Axes>"
      ]
     },
     "metadata": {
      "needs_background": "light"
     },
     "output_type": "display_data"
    }
   ],
   "source": [
    "result.plot()\n",
    "plt.show()"
   ]
  },
  {
   "cell_type": "markdown",
   "metadata": {},
   "source": [
    "第一个小图就是我们观测到的实际值，和最初我们用简单画出来的图像其实是一样的，只是更扁平了;     \n",
    "下面第二个图Trend可以看到它整体的变化趋势, 该数据集呈上升后略回落趋势;     \n",
    "第三个seasonal是整个序列表现出来的季节性部分;    \n",
    "第四个residual是残差。"
   ]
  },
  {
   "cell_type": "markdown",
   "metadata": {},
   "source": [
    "## 1.3 重采样"
   ]
  },
  {
   "cell_type": "code",
   "execution_count": 20,
   "metadata": {},
   "outputs": [
    {
     "data": {
      "text/html": [
       "<div>\n",
       "<style scoped>\n",
       "    .dataframe tbody tr th:only-of-type {\n",
       "        vertical-align: middle;\n",
       "    }\n",
       "\n",
       "    .dataframe tbody tr th {\n",
       "        vertical-align: top;\n",
       "    }\n",
       "\n",
       "    .dataframe thead th {\n",
       "        text-align: right;\n",
       "    }\n",
       "</style>\n",
       "<table border=\"1\" class=\"dataframe\">\n",
       "  <thead>\n",
       "    <tr style=\"text-align: right;\">\n",
       "      <th></th>\n",
       "      <th>High</th>\n",
       "      <th>Low</th>\n",
       "      <th>Open</th>\n",
       "      <th>Close</th>\n",
       "      <th>Volume</th>\n",
       "      <th>Adj Close</th>\n",
       "    </tr>\n",
       "    <tr>\n",
       "      <th>Date</th>\n",
       "      <th></th>\n",
       "      <th></th>\n",
       "      <th></th>\n",
       "      <th></th>\n",
       "      <th></th>\n",
       "      <th></th>\n",
       "    </tr>\n",
       "  </thead>\n",
       "  <tbody>\n",
       "    <tr>\n",
       "      <th>2011-09-30</th>\n",
       "      <td>4.265645</td>\n",
       "      <td>3.91533</td>\n",
       "      <td>4.102685</td>\n",
       "      <td>4.075670</td>\n",
       "      <td>4.841804e+07</td>\n",
       "      <td>3.842564</td>\n",
       "    </tr>\n",
       "    <tr>\n",
       "      <th>2011-10-31</th>\n",
       "      <td>4.559099</td>\n",
       "      <td>4.25290</td>\n",
       "      <td>4.355728</td>\n",
       "      <td>4.421195</td>\n",
       "      <td>3.119109e+07</td>\n",
       "      <td>4.168326</td>\n",
       "    </tr>\n",
       "  </tbody>\n",
       "</table>\n",
       "</div>"
      ],
      "text/plain": [
       "                High      Low      Open     Close        Volume  Adj Close\n",
       "Date                                                                      \n",
       "2011-09-30  4.265645  3.91533  4.102685  4.075670  4.841804e+07   3.842564\n",
       "2011-10-31  4.559099  4.25290  4.355728  4.421195  3.119109e+07   4.168326"
      ]
     },
     "execution_count": 20,
     "metadata": {},
     "output_type": "execute_result"
    }
   ],
   "source": [
    "# 'M'按每月最后一天重采样\n",
    "df_month = df.resample('M').mean()\n",
    "df_month.head(2)"
   ]
  },
  {
   "cell_type": "code",
   "execution_count": 21,
   "metadata": {},
   "outputs": [
    {
     "data": {
      "text/html": [
       "<div>\n",
       "<style scoped>\n",
       "    .dataframe tbody tr th:only-of-type {\n",
       "        vertical-align: middle;\n",
       "    }\n",
       "\n",
       "    .dataframe tbody tr th {\n",
       "        vertical-align: top;\n",
       "    }\n",
       "\n",
       "    .dataframe thead th {\n",
       "        text-align: right;\n",
       "    }\n",
       "</style>\n",
       "<table border=\"1\" class=\"dataframe\">\n",
       "  <thead>\n",
       "    <tr style=\"text-align: right;\">\n",
       "      <th></th>\n",
       "      <th>High</th>\n",
       "      <th>Low</th>\n",
       "      <th>Open</th>\n",
       "      <th>Close</th>\n",
       "      <th>Volume</th>\n",
       "      <th>Adj Close</th>\n",
       "    </tr>\n",
       "    <tr>\n",
       "      <th>Date</th>\n",
       "      <th></th>\n",
       "      <th></th>\n",
       "      <th></th>\n",
       "      <th></th>\n",
       "      <th></th>\n",
       "      <th></th>\n",
       "    </tr>\n",
       "  </thead>\n",
       "  <tbody>\n",
       "    <tr>\n",
       "      <th>2020-09-30</th>\n",
       "      <td>6.873636</td>\n",
       "      <td>6.641818</td>\n",
       "      <td>6.767273</td>\n",
       "      <td>6.738182</td>\n",
       "      <td>3.360482e+06</td>\n",
       "      <td>6.738182</td>\n",
       "    </tr>\n",
       "    <tr>\n",
       "      <th>2020-10-31</th>\n",
       "      <td>7.093750</td>\n",
       "      <td>6.827500</td>\n",
       "      <td>6.961250</td>\n",
       "      <td>6.960000</td>\n",
       "      <td>3.937226e+06</td>\n",
       "      <td>6.960000</td>\n",
       "    </tr>\n",
       "  </tbody>\n",
       "</table>\n",
       "</div>"
      ],
      "text/plain": [
       "                High       Low      Open     Close        Volume  Adj Close\n",
       "Date                                                                       \n",
       "2020-09-30  6.873636  6.641818  6.767273  6.738182  3.360482e+06   6.738182\n",
       "2020-10-31  7.093750  6.827500  6.961250  6.960000  3.937226e+06   6.960000"
      ]
     },
     "execution_count": 21,
     "metadata": {},
     "output_type": "execute_result"
    }
   ],
   "source": [
    "df_month.tail(2)"
   ]
  },
  {
   "cell_type": "code",
   "execution_count": 22,
   "metadata": {},
   "outputs": [
    {
     "data": {
      "text/html": [
       "<div>\n",
       "<style scoped>\n",
       "    .dataframe tbody tr th:only-of-type {\n",
       "        vertical-align: middle;\n",
       "    }\n",
       "\n",
       "    .dataframe tbody tr th {\n",
       "        vertical-align: top;\n",
       "    }\n",
       "\n",
       "    .dataframe thead th {\n",
       "        text-align: right;\n",
       "    }\n",
       "</style>\n",
       "<table border=\"1\" class=\"dataframe\">\n",
       "  <thead>\n",
       "    <tr style=\"text-align: right;\">\n",
       "      <th></th>\n",
       "      <th>High</th>\n",
       "      <th>Low</th>\n",
       "      <th>Open</th>\n",
       "      <th>Close</th>\n",
       "      <th>Volume</th>\n",
       "      <th>Adj Close</th>\n",
       "    </tr>\n",
       "    <tr>\n",
       "      <th>Date</th>\n",
       "      <th></th>\n",
       "      <th></th>\n",
       "      <th></th>\n",
       "      <th></th>\n",
       "      <th></th>\n",
       "      <th></th>\n",
       "    </tr>\n",
       "  </thead>\n",
       "  <tbody>\n",
       "    <tr>\n",
       "      <th>2011-09-30</th>\n",
       "      <td>4.265645</td>\n",
       "      <td>3.915330</td>\n",
       "      <td>4.102685</td>\n",
       "      <td>4.075670</td>\n",
       "      <td>4.841804e+07</td>\n",
       "      <td>3.842564</td>\n",
       "    </tr>\n",
       "    <tr>\n",
       "      <th>2011-12-31</th>\n",
       "      <td>4.463953</td>\n",
       "      <td>4.249522</td>\n",
       "      <td>4.342824</td>\n",
       "      <td>4.356476</td>\n",
       "      <td>1.835606e+07</td>\n",
       "      <td>4.107309</td>\n",
       "    </tr>\n",
       "  </tbody>\n",
       "</table>\n",
       "</div>"
      ],
      "text/plain": [
       "                High       Low      Open     Close        Volume  Adj Close\n",
       "Date                                                                       \n",
       "2011-09-30  4.265645  3.915330  4.102685  4.075670  4.841804e+07   3.842564\n",
       "2011-12-31  4.463953  4.249522  4.342824  4.356476  1.835606e+07   4.107309"
      ]
     },
     "execution_count": 22,
     "metadata": {},
     "output_type": "execute_result"
    }
   ],
   "source": [
    "df_q =  df.resample(\"Q\").mean()\n",
    "df_q.head(2)"
   ]
  },
  {
   "cell_type": "code",
   "execution_count": 23,
   "metadata": {},
   "outputs": [
    {
     "data": {
      "text/html": [
       "<div>\n",
       "<style scoped>\n",
       "    .dataframe tbody tr th:only-of-type {\n",
       "        vertical-align: middle;\n",
       "    }\n",
       "\n",
       "    .dataframe tbody tr th {\n",
       "        vertical-align: top;\n",
       "    }\n",
       "\n",
       "    .dataframe thead th {\n",
       "        text-align: right;\n",
       "    }\n",
       "</style>\n",
       "<table border=\"1\" class=\"dataframe\">\n",
       "  <thead>\n",
       "    <tr style=\"text-align: right;\">\n",
       "      <th></th>\n",
       "      <th>High</th>\n",
       "      <th>Low</th>\n",
       "      <th>Open</th>\n",
       "      <th>Close</th>\n",
       "      <th>Volume</th>\n",
       "      <th>Adj Close</th>\n",
       "    </tr>\n",
       "    <tr>\n",
       "      <th>Date</th>\n",
       "      <th></th>\n",
       "      <th></th>\n",
       "      <th></th>\n",
       "      <th></th>\n",
       "      <th></th>\n",
       "      <th></th>\n",
       "    </tr>\n",
       "  </thead>\n",
       "  <tbody>\n",
       "    <tr>\n",
       "      <th>2011-12-31</th>\n",
       "      <td>4.457556</td>\n",
       "      <td>4.238742</td>\n",
       "      <td>4.335077</td>\n",
       "      <td>4.347418</td>\n",
       "      <td>1.932580e+07</td>\n",
       "      <td>4.098769</td>\n",
       "    </tr>\n",
       "    <tr>\n",
       "      <th>2012-12-31</th>\n",
       "      <td>3.397564</td>\n",
       "      <td>3.258968</td>\n",
       "      <td>3.326509</td>\n",
       "      <td>3.331720</td>\n",
       "      <td>9.302570e+06</td>\n",
       "      <td>3.183964</td>\n",
       "    </tr>\n",
       "  </tbody>\n",
       "</table>\n",
       "</div>"
      ],
      "text/plain": [
       "                High       Low      Open     Close        Volume  Adj Close\n",
       "Date                                                                       \n",
       "2011-12-31  4.457556  4.238742  4.335077  4.347418  1.932580e+07   4.098769\n",
       "2012-12-31  3.397564  3.258968  3.326509  3.331720  9.302570e+06   3.183964"
      ]
     },
     "execution_count": 23,
     "metadata": {},
     "output_type": "execute_result"
    }
   ],
   "source": [
    "df_year = df.resample(\"Y\").mean()\n",
    "df_year.head(2)"
   ]
  },
  {
   "cell_type": "markdown",
   "metadata": {},
   "source": [
    "### 1.3.1 可视化重采样后的数据趋势图"
   ]
  },
  {
   "cell_type": "code",
   "execution_count": 24,
   "metadata": {},
   "outputs": [
    {
     "data": {
      "image/png": "[encoded data removed]",
      "text/plain": [
       "<Figure size 1440x576 with 4 Axes>"
      ]
     },
     "metadata": {
      "needs_background": "light"
     },
     "output_type": "display_data"
    }
   ],
   "source": [
    "\n",
    "fig, axes = plt.subplots(2, 2, figsize=(20, 8))\n",
    "\n",
    "axes[0, 0].plot(df['High'], color='g')\n",
    "axes[0, 1].plot(df_month['High'], color='cyan')\n",
    "axes[1, 0].plot(df_q['High'], color='y')\n",
    "axes[1, 1].plot(df_year['High'], color='r')\n",
    "\n",
    "titles = [\n",
    "    \"%s High Price\" % t for t in ['Daily', 'Monthly', 'Quarterly', 'Year']\n",
    "]\n",
    "\n",
    "n = 0\n",
    "for i in range(2):\n",
    "    for j in range(2):\n",
    "        axes[i, j].set_title(\"%s\" % titles[n])\n",
    "        n += 1\n",
    "plt.show()"
   ]
  },
  {
   "cell_type": "markdown",
   "metadata": {},
   "source": [
    "## 1.4 构建未来3个月时间序列"
   ]
  },
  {
   "cell_type": "markdown",
   "metadata": {},
   "source": [
    "### 1.4.1 方法1：循环统计未来每个月的天数，以便找到每个月的最后 一天"
   ]
  },
  {
   "cell_type": "code",
   "execution_count": 25,
   "metadata": {},
   "outputs": [
    {
     "data": {
      "text/plain": [
       "Timestamp('2020-10-31 00:00:00', freq='M')"
      ]
     },
     "execution_count": 25,
     "metadata": {},
     "output_type": "execute_result"
    }
   ],
   "source": [
    "future_month = 3\n",
    "last_month = df_month.index[-1]\n",
    "last_month"
   ]
  },
  {
   "cell_type": "code",
   "execution_count": 26,
   "metadata": {},
   "outputs": [],
   "source": [
    "date_list = []\n",
    "# 12月时，年+1，月重置为1月，其他时候年不变，月+1\n",
    "for i in range(future_month):\n",
    "    year = last_month.year\n",
    "    month = last_month.month\n",
    "    if last_month.month == 12:\n",
    "        month = 1\n",
    "        year += 1\n",
    "    else:\n",
    "        month += 1\n",
    "    # 计算下个月有多少天    \n",
    "    n = calendar.monthrange(year, month)[1]\n",
    "    # 生成下个月最后一天的日期\n",
    "    last_month += timedelta(days=n)\n",
    "    date_list.append(last_month)"
   ]
  },
  {
   "cell_type": "code",
   "execution_count": 27,
   "metadata": {},
   "outputs": [
    {
     "data": {
      "text/plain": [
       "Timestamp('2021-01-31 00:00:00', freq='M')"
      ]
     },
     "execution_count": 27,
     "metadata": {},
     "output_type": "execute_result"
    }
   ],
   "source": [
    "last_month"
   ]
  },
  {
   "cell_type": "code",
   "execution_count": 28,
   "metadata": {},
   "outputs": [
    {
     "data": {
      "text/html": [
       "<div>\n",
       "<style scoped>\n",
       "    .dataframe tbody tr th:only-of-type {\n",
       "        vertical-align: middle;\n",
       "    }\n",
       "\n",
       "    .dataframe tbody tr th {\n",
       "        vertical-align: top;\n",
       "    }\n",
       "\n",
       "    .dataframe thead th {\n",
       "        text-align: right;\n",
       "    }\n",
       "</style>\n",
       "<table border=\"1\" class=\"dataframe\">\n",
       "  <thead>\n",
       "    <tr style=\"text-align: right;\">\n",
       "      <th></th>\n",
       "      <th>High</th>\n",
       "    </tr>\n",
       "  </thead>\n",
       "  <tbody>\n",
       "    <tr>\n",
       "      <th>2020-11-30</th>\n",
       "      <td>NaN</td>\n",
       "    </tr>\n",
       "    <tr>\n",
       "      <th>2020-12-31</th>\n",
       "      <td>NaN</td>\n",
       "    </tr>\n",
       "    <tr>\n",
       "      <th>2021-01-31</th>\n",
       "      <td>NaN</td>\n",
       "    </tr>\n",
       "  </tbody>\n",
       "</table>\n",
       "</div>"
      ],
      "text/plain": [
       "           High\n",
       "2020-11-30  NaN\n",
       "2020-12-31  NaN\n",
       "2021-01-31  NaN"
      ]
     },
     "execution_count": 28,
     "metadata": {},
     "output_type": "execute_result"
    }
   ],
   "source": [
    "future = pd.DataFrame(index=date_list, columns=['High'])\n",
    "future"
   ]
  },
  {
   "cell_type": "code",
   "execution_count": 29,
   "metadata": {
    "scrolled": false
   },
   "outputs": [
    {
     "data": {
      "text/plain": [
       "(113, 1)"
      ]
     },
     "execution_count": 29,
     "metadata": {},
     "output_type": "execute_result"
    }
   ],
   "source": [
    "# 与原df拼接\n",
    "future = pd.concat((df_month[['High']], future), axis=0)\n",
    "future.shape"
   ]
  },
  {
   "cell_type": "code",
   "execution_count": 30,
   "metadata": {},
   "outputs": [
    {
     "data": {
      "text/plain": [
       "DatetimeIndex(['2011-09-30', '2011-10-31', '2011-11-30', '2011-12-31',\n",
       "               '2012-01-31', '2012-02-29', '2012-03-31', '2012-04-30',\n",
       "               '2012-05-31', '2012-06-30',\n",
       "               ...\n",
       "               '2020-04-30', '2020-05-31', '2020-06-30', '2020-07-31',\n",
       "               '2020-08-31', '2020-09-30', '2020-10-31', '2020-11-30',\n",
       "               '2020-12-31', '2021-01-31'],\n",
       "              dtype='datetime64[ns]', length=113, freq=None)"
      ]
     },
     "execution_count": 30,
     "metadata": {},
     "output_type": "execute_result"
    }
   ],
   "source": [
    "future.index"
   ]
  },
  {
   "cell_type": "markdown",
   "metadata": {},
   "source": [
    "### 1.4.2 方法2：timedelta 与 date_range()结合按月生成时间序列\n",
    "未来月份中包含2月时，3个月天数最少和为90，不包含2月时，3个月天数之和为92天。因此直接另last_month + 92天，使用date_range函数，生成日期序列时，当freq为M时，不足一个月的日期将会被舍弃。"
   ]
  },
  {
   "cell_type": "code",
   "execution_count": 31,
   "metadata": {
    "scrolled": true
   },
   "outputs": [
    {
     "data": {
      "text/plain": [
       "Timestamp('2020-10-31 00:00:00', freq='M')"
      ]
     },
     "execution_count": 31,
     "metadata": {},
     "output_type": "execute_result"
    }
   ],
   "source": [
    "# 原数据中有多少个月\n",
    "m = df_month.shape[0]\n",
    "last_month = df_month.index[-1]\n",
    "last_month"
   ]
  },
  {
   "cell_type": "code",
   "execution_count": 32,
   "metadata": {
    "scrolled": false
   },
   "outputs": [
    {
     "data": {
      "text/plain": [
       "Timestamp('2021-01-31 00:00:00', freq='M')"
      ]
     },
     "execution_count": 32,
     "metadata": {},
     "output_type": "execute_result"
    }
   ],
   "source": [
    "last_month += timedelta(92)\n",
    "last_month"
   ]
  },
  {
   "cell_type": "code",
   "execution_count": 33,
   "metadata": {},
   "outputs": [],
   "source": [
    "# 按月最后一天生成日期序列，当end日期不足一个月时，将会被舍弃\n",
    "new_index = pd.date_range(df_month.index[0], end=last_month, freq='M')"
   ]
  },
  {
   "cell_type": "code",
   "execution_count": 34,
   "metadata": {
    "scrolled": true
   },
   "outputs": [
    {
     "data": {
      "text/plain": [
       "DatetimeIndex(['2011-09-30', '2011-10-31', '2011-11-30', '2011-12-31',\n",
       "               '2012-01-31', '2012-02-29', '2012-03-31', '2012-04-30',\n",
       "               '2012-05-31', '2012-06-30',\n",
       "               ...\n",
       "               '2020-04-30', '2020-05-31', '2020-06-30', '2020-07-31',\n",
       "               '2020-08-31', '2020-09-30', '2020-10-31', '2020-11-30',\n",
       "               '2020-12-31', '2021-01-31'],\n",
       "              dtype='datetime64[ns]', length=113, freq='M')"
      ]
     },
     "execution_count": 34,
     "metadata": {},
     "output_type": "execute_result"
    }
   ],
   "source": [
    "new_index"
   ]
  },
  {
   "cell_type": "code",
   "execution_count": 35,
   "metadata": {
    "scrolled": true
   },
   "outputs": [
    {
     "data": {
      "text/plain": [
       "3"
      ]
     },
     "execution_count": 35,
     "metadata": {},
     "output_type": "execute_result"
    }
   ],
   "source": [
    "len(new_index) - m"
   ]
  },
  {
   "cell_type": "code",
   "execution_count": 36,
   "metadata": {},
   "outputs": [
    {
     "data": {
      "text/html": [
       "<div>\n",
       "<style scoped>\n",
       "    .dataframe tbody tr th:only-of-type {\n",
       "        vertical-align: middle;\n",
       "    }\n",
       "\n",
       "    .dataframe tbody tr th {\n",
       "        vertical-align: top;\n",
       "    }\n",
       "\n",
       "    .dataframe thead th {\n",
       "        text-align: right;\n",
       "    }\n",
       "</style>\n",
       "<table border=\"1\" class=\"dataframe\">\n",
       "  <thead>\n",
       "    <tr style=\"text-align: right;\">\n",
       "      <th></th>\n",
       "      <th>High</th>\n",
       "    </tr>\n",
       "  </thead>\n",
       "  <tbody>\n",
       "    <tr>\n",
       "      <th>2020-11-30</th>\n",
       "      <td>NaN</td>\n",
       "    </tr>\n",
       "    <tr>\n",
       "      <th>2020-12-31</th>\n",
       "      <td>NaN</td>\n",
       "    </tr>\n",
       "    <tr>\n",
       "      <th>2021-01-31</th>\n",
       "      <td>NaN</td>\n",
       "    </tr>\n",
       "  </tbody>\n",
       "</table>\n",
       "</div>"
      ],
      "text/plain": [
       "           High\n",
       "2020-11-30  NaN\n",
       "2020-12-31  NaN\n",
       "2021-01-31  NaN"
      ]
     },
     "execution_count": 36,
     "metadata": {},
     "output_type": "execute_result"
    }
   ],
   "source": [
    "future = pd.DataFrame(index=new_index[-3:], columns=['High'])\n",
    "future"
   ]
  },
  {
   "cell_type": "code",
   "execution_count": 37,
   "metadata": {},
   "outputs": [],
   "source": [
    "future = pd.concat((df_month[['High']], future), axis=0)"
   ]
  },
  {
   "cell_type": "code",
   "execution_count": 38,
   "metadata": {},
   "outputs": [
    {
     "data": {
      "text/html": [
       "<div>\n",
       "<style scoped>\n",
       "    .dataframe tbody tr th:only-of-type {\n",
       "        vertical-align: middle;\n",
       "    }\n",
       "\n",
       "    .dataframe tbody tr th {\n",
       "        vertical-align: top;\n",
       "    }\n",
       "\n",
       "    .dataframe thead th {\n",
       "        text-align: right;\n",
       "    }\n",
       "</style>\n",
       "<table border=\"1\" class=\"dataframe\">\n",
       "  <thead>\n",
       "    <tr style=\"text-align: right;\">\n",
       "      <th></th>\n",
       "      <th>High</th>\n",
       "    </tr>\n",
       "  </thead>\n",
       "  <tbody>\n",
       "    <tr>\n",
       "      <th>2011-09-30</th>\n",
       "      <td>4.265645</td>\n",
       "    </tr>\n",
       "  </tbody>\n",
       "</table>\n",
       "</div>"
      ],
      "text/plain": [
       "                High\n",
       "2011-09-30  4.265645"
      ]
     },
     "execution_count": 38,
     "metadata": {},
     "output_type": "execute_result"
    }
   ],
   "source": [
    "future.head(1)"
   ]
  },
  {
   "cell_type": "code",
   "execution_count": 39,
   "metadata": {},
   "outputs": [
    {
     "data": {
      "text/html": [
       "<div>\n",
       "<style scoped>\n",
       "    .dataframe tbody tr th:only-of-type {\n",
       "        vertical-align: middle;\n",
       "    }\n",
       "\n",
       "    .dataframe tbody tr th {\n",
       "        vertical-align: top;\n",
       "    }\n",
       "\n",
       "    .dataframe thead th {\n",
       "        text-align: right;\n",
       "    }\n",
       "</style>\n",
       "<table border=\"1\" class=\"dataframe\">\n",
       "  <thead>\n",
       "    <tr style=\"text-align: right;\">\n",
       "      <th></th>\n",
       "      <th>High</th>\n",
       "    </tr>\n",
       "  </thead>\n",
       "  <tbody>\n",
       "    <tr>\n",
       "      <th>2021-01-31</th>\n",
       "      <td>NaN</td>\n",
       "    </tr>\n",
       "  </tbody>\n",
       "</table>\n",
       "</div>"
      ],
      "text/plain": [
       "            High\n",
       "2021-01-31   NaN"
      ]
     },
     "execution_count": 39,
     "metadata": {},
     "output_type": "execute_result"
    }
   ],
   "source": [
    "future.tail(1)"
   ]
  },
  {
   "cell_type": "markdown",
   "metadata": {},
   "source": [
    "# 2 ARMA预测"
   ]
  },
  {
   "cell_type": "markdown",
   "metadata": {},
   "source": [
    "从上图的Trend图来看，数据集存在趋势，因此应该是不平稳的序列，ARMA要求时序数据是稳定的，判断预测效果会受影响"
   ]
  },
  {
   "cell_type": "markdown",
   "metadata": {},
   "source": [
    "## 2.1 什么是AIC？"
   ]
  },
  {
   "cell_type": "markdown",
   "metadata": {},
   "source": [
    "赤池信息量 （akaike information criterion）    \n",
    "\n",
    "$AIC = \\frac{2(k - ln(L))}{n}  $     \n",
    " \n",
    "k是所拟合模型中参数的数量， L 是该模型下的最大似然,  n是观测值数目。     \n",
    "\n",
    "AIC的大小取决于L和k。k取值越小，AIC越小；L取值越大，AIC值越小。    \n",
    "\n",
    "k小意味着模型简洁，L大意味着模型精确。因此AIC和修正的决定系数类似，在评价模型是兼顾了简洁性和精确性。\n"
   ]
  },
  {
   "cell_type": "markdown",
   "metadata": {},
   "source": [
    "## 2.2 设置p q阶参数范围"
   ]
  },
  {
   "cell_type": "code",
   "execution_count": 40,
   "metadata": {},
   "outputs": [],
   "source": [
    "# 设置p q阶的范围为0、1、2的整数，笛卡尔积\n",
    "params = product(range(3),  range(3))"
   ]
  },
  {
   "cell_type": "markdown",
   "metadata": {},
   "source": [
    "## 2.3 循环建模寻找最佳参数模型"
   ]
  },
  {
   "cell_type": "code",
   "execution_count": 41,
   "metadata": {},
   "outputs": [
    {
     "name": "stdout",
     "output_type": "stream",
     "text": [
      "最优模型为:                               ARMA Model Results                              \n",
      "==============================================================================\n",
      "Dep. Variable:                   High   No. Observations:                  110\n",
      "Model:                     ARMA(1, 0)   Log Likelihood                -133.607\n",
      "Method:                       css-mle   S.D. of innovations              0.805\n",
      "Date:                Tue, 20 Oct 2020   AIC                            273.214\n",
      "Time:                        12:10:28   BIC                            281.315\n",
      "Sample:                    09-30-2011   HQIC                           276.500\n",
      "                         - 10-31-2020                                         \n",
      "==============================================================================\n",
      "                 coef    std err          z      P>|z|      [0.025      0.975]\n",
      "------------------------------------------------------------------------------\n",
      "const          6.8887      1.806      3.814      0.000       3.349      10.429\n",
      "ar.L1.High     0.9649      0.021     45.192      0.000       0.923       1.007\n",
      "                                    Roots                                    \n",
      "=============================================================================\n",
      "                  Real          Imaginary           Modulus         Frequency\n",
      "-----------------------------------------------------------------------------\n",
      "AR.1            1.0363           +0.0000j            1.0363            0.0000\n",
      "-----------------------------------------------------------------------------\n"
     ]
    }
   ],
   "source": [
    "result = []\n",
    "min_aic = float('inf')\n",
    "for param in params:\n",
    "    try:\n",
    "        arma = tsa.ARMA(df_month['High'], order=param).fit()\n",
    "        result.append([param, arma.aic])\n",
    "    except ValueError:\n",
    "        print(\"参数错误:\", param)\n",
    "        continue\n",
    "    if arma.aic < min_aic:\n",
    "        min_aic = arma.aic\n",
    "        best_model = arma\n",
    "        best_param = param\n",
    "    \n",
    "    \n",
    "print(\"最优模型为:\", best_model.summary())"
   ]
  },
  {
   "cell_type": "code",
   "execution_count": 42,
   "metadata": {},
   "outputs": [
    {
     "data": {
      "text/plain": [
       "(273.2136334499906, (1, 0))"
      ]
     },
     "execution_count": 42,
     "metadata": {},
     "output_type": "execute_result"
    }
   ],
   "source": [
    "min_aic, best_param"
   ]
  },
  {
   "cell_type": "markdown",
   "metadata": {},
   "source": [
    "## 2.4 预测并可视化"
   ]
  },
  {
   "cell_type": "markdown",
   "metadata": {},
   "source": [
    "### 2.4.1 进行预测"
   ]
  },
  {
   "cell_type": "code",
   "execution_count": 43,
   "metadata": {},
   "outputs": [],
   "source": [
    "future['ARMA_pred'] = best_model.predict(start=0,  end=future.shape[0])"
   ]
  },
  {
   "cell_type": "code",
   "execution_count": 44,
   "metadata": {},
   "outputs": [
    {
     "data": {
      "text/html": [
       "<div>\n",
       "<style scoped>\n",
       "    .dataframe tbody tr th:only-of-type {\n",
       "        vertical-align: middle;\n",
       "    }\n",
       "\n",
       "    .dataframe tbody tr th {\n",
       "        vertical-align: top;\n",
       "    }\n",
       "\n",
       "    .dataframe thead th {\n",
       "        text-align: right;\n",
       "    }\n",
       "</style>\n",
       "<table border=\"1\" class=\"dataframe\">\n",
       "  <thead>\n",
       "    <tr style=\"text-align: right;\">\n",
       "      <th></th>\n",
       "      <th>High</th>\n",
       "      <th>ARMA_pred</th>\n",
       "    </tr>\n",
       "  </thead>\n",
       "  <tbody>\n",
       "    <tr>\n",
       "      <th>2011-09-30</th>\n",
       "      <td>4.265645</td>\n",
       "      <td>6.888748</td>\n",
       "    </tr>\n",
       "    <tr>\n",
       "      <th>2011-10-31</th>\n",
       "      <td>4.559099</td>\n",
       "      <td>4.357599</td>\n",
       "    </tr>\n",
       "    <tr>\n",
       "      <th>2011-11-30</th>\n",
       "      <td>4.762676</td>\n",
       "      <td>4.640766</td>\n",
       "    </tr>\n",
       "    <tr>\n",
       "      <th>2011-12-31</th>\n",
       "      <td>4.096032</td>\n",
       "      <td>4.837206</td>\n",
       "    </tr>\n",
       "    <tr>\n",
       "      <th>2012-01-31</th>\n",
       "      <td>3.607483</td>\n",
       "      <td>4.193932</td>\n",
       "    </tr>\n",
       "    <tr>\n",
       "      <th>...</th>\n",
       "      <td>...</td>\n",
       "      <td>...</td>\n",
       "    </tr>\n",
       "    <tr>\n",
       "      <th>2020-09-30</th>\n",
       "      <td>6.873636</td>\n",
       "      <td>7.443191</td>\n",
       "    </tr>\n",
       "    <tr>\n",
       "      <th>2020-10-31</th>\n",
       "      <td>7.093750</td>\n",
       "      <td>6.874166</td>\n",
       "    </tr>\n",
       "    <tr>\n",
       "      <th>2020-11-30</th>\n",
       "      <td>NaN</td>\n",
       "      <td>7.086564</td>\n",
       "    </tr>\n",
       "    <tr>\n",
       "      <th>2020-12-31</th>\n",
       "      <td>NaN</td>\n",
       "      <td>7.079629</td>\n",
       "    </tr>\n",
       "    <tr>\n",
       "      <th>2021-01-31</th>\n",
       "      <td>NaN</td>\n",
       "      <td>7.072938</td>\n",
       "    </tr>\n",
       "  </tbody>\n",
       "</table>\n",
       "<p>113 rows × 2 columns</p>\n",
       "</div>"
      ],
      "text/plain": [
       "                High  ARMA_pred\n",
       "2011-09-30  4.265645   6.888748\n",
       "2011-10-31  4.559099   4.357599\n",
       "2011-11-30  4.762676   4.640766\n",
       "2011-12-31  4.096032   4.837206\n",
       "2012-01-31  3.607483   4.193932\n",
       "...              ...        ...\n",
       "2020-09-30  6.873636   7.443191\n",
       "2020-10-31  7.093750   6.874166\n",
       "2020-11-30       NaN   7.086564\n",
       "2020-12-31       NaN   7.079629\n",
       "2021-01-31       NaN   7.072938\n",
       "\n",
       "[113 rows x 2 columns]"
      ]
     },
     "execution_count": 44,
     "metadata": {},
     "output_type": "execute_result"
    }
   ],
   "source": [
    "future"
   ]
  },
  {
   "cell_type": "markdown",
   "metadata": {},
   "source": [
    "### 2.4.2  可视化预测结果"
   ]
  },
  {
   "cell_type": "code",
   "execution_count": 45,
   "metadata": {
    "scrolled": true
   },
   "outputs": [
    {
     "data": {
      "image/png": "[encoded data removed]",
      "text/plain": [
       "<Figure size 1152x360 with 1 Axes>"
      ]
     },
     "metadata": {
      "needs_background": "light"
     },
     "output_type": "display_data"
    }
   ],
   "source": [
    "future.plot(figsize=(16, 5), title=\"ARMA预测股票美吉姆未来3个月最高价走势\")\n",
    "plt.show()"
   ]
  },
  {
   "cell_type": "markdown",
   "metadata": {},
   "source": [
    "# 3 ARIMA预测\n",
    "---"
   ]
  },
  {
   "cell_type": "markdown",
   "metadata": {},
   "source": [
    "```tsa.ARIMA(endog, order, exog=None, dates=None, freq=None, missing='none')```    \n",
    "Autoregressive Integrated Moving Average ARIMA(p,d,q) Model\n"
   ]
  },
  {
   "cell_type": "markdown",
   "metadata": {},
   "source": [
    "```\n",
    "statsmodels.tsa.statespace.sarimax.SARIMAX(endog, exog=None, order=1, 0, 0, seasonal_order=0, 0, 0, 0, trend=None, measurement_error=False, time_varying_regression=False, mle_regression=True, simple_differencing=False, enforce_stationarity=True, enforce_invertibility=True, hamilton_representation=False, concentrate_scale=False, trend_offset=1, use_exact_diffuse=False, dates=None, freq=None, missing='none', validate_specification=True, **kwargs)\n",
    "```    \n",
    "\n",
    "具有外生回归模型的季节性自回归综合移动平均线     "
   ]
  },
  {
   "cell_type": "markdown",
   "metadata": {},
   "source": [
    "## 3.1 设置pdq参数范围"
   ]
  },
  {
   "cell_type": "code",
   "execution_count": 46,
   "metadata": {},
   "outputs": [],
   "source": [
    "params = product(range(0, 4), range(1, 5), range(3))"
   ]
  },
  {
   "cell_type": "markdown",
   "metadata": {},
   "source": [
    "## 3.2 循环建模训练，寻找最佳参数和模型"
   ]
  },
  {
   "cell_type": "code",
   "execution_count": 47,
   "metadata": {
    "scrolled": false
   },
   "outputs": [
    {
     "name": "stdout",
     "output_type": "stream",
     "text": [
      "best model:                               SARIMAX Results                                \n",
      "==============================================================================\n",
      "Dep. Variable:                   High   No. Observations:                  110\n",
      "Model:               SARIMAX(3, 1, 2)   Log Likelihood                -125.628\n",
      "Date:                Tue, 20 Oct 2020   AIC                            263.255\n",
      "Time:                        12:10:34   BIC                            279.403\n",
      "Sample:                    09-30-2011   HQIC                           269.804\n",
      "                         - 10-31-2020                                         \n",
      "Covariance Type:                  opg                                         \n",
      "==============================================================================\n",
      "                 coef    std err          z      P>|z|      [0.025      0.975]\n",
      "------------------------------------------------------------------------------\n",
      "ar.L1          0.9488      0.122      7.767      0.000       0.709       1.188\n",
      "ar.L2         -0.8279      0.139     -5.957      0.000      -1.100      -0.556\n",
      "ar.L3         -0.1235      0.100     -1.235      0.217      -0.319       0.072\n",
      "ma.L1         -0.9843      0.099     -9.951      0.000      -1.178      -0.790\n",
      "ma.L2          0.9019      0.077     11.747      0.000       0.751       1.052\n",
      "sigma2         0.5816      0.063      9.184      0.000       0.457       0.706\n",
      "===================================================================================\n",
      "Ljung-Box (Q):                       29.79   Jarque-Bera (JB):                38.55\n",
      "Prob(Q):                              0.88   Prob(JB):                         0.00\n",
      "Heteroskedasticity (H):               8.40   Skew:                            -0.50\n",
      "Prob(H) (two-sided):                  0.00   Kurtosis:                         5.74\n",
      "===================================================================================\n",
      "\n",
      "Warnings:\n",
      "[1] Covariance matrix calculated using the outer product of gradients (complex-step).\n"
     ]
    }
   ],
   "source": [
    "result = []\n",
    "best_aic = float('inf')\n",
    "for param in params:\n",
    "    try:\n",
    "#         arima = tsa.ARIMA(df_month['High'], order=param).fit()\n",
    "        arima = tsa.statespace.SARIMAX(df_month['High'], order=param).fit()\n",
    "    except Exception:\n",
    "#         print(\"参数错误:\", param)\n",
    "        continue\n",
    "    aic = arima.aic\n",
    "    result.append((param, aic))\n",
    "    if aic < best_aic:\n",
    "        best_aic = aic\n",
    "        best_model2 = arima\n",
    "        best_param2 = param\n",
    "print(f\"best model:{best_model2.summary()}\")"
   ]
  },
  {
   "cell_type": "code",
   "execution_count": 48,
   "metadata": {},
   "outputs": [
    {
     "data": {
      "text/plain": [
       "'ARMA的AIC:  273.21, ARIMA的AIC:  263.26'"
      ]
     },
     "execution_count": 48,
     "metadata": {},
     "output_type": "execute_result"
    }
   ],
   "source": [
    "f\"ARMA的AIC:{min_aic:8.2f}, ARIMA的AIC:{best_aic:8.2f}\""
   ]
  },
  {
   "cell_type": "markdown",
   "metadata": {},
   "source": [
    "可见，对于有趋势的该数据集，差分自回归滑动平均模型ARIMA确实比自回归滑动平均模型ARMA要精确。"
   ]
  },
  {
   "cell_type": "markdown",
   "metadata": {},
   "source": [
    "## 3.3 预测并可视化"
   ]
  },
  {
   "cell_type": "markdown",
   "metadata": {},
   "source": [
    "### 3.3.1 预测"
   ]
  },
  {
   "cell_type": "code",
   "execution_count": 49,
   "metadata": {},
   "outputs": [
    {
     "data": {
      "text/html": [
       "<div>\n",
       "<style scoped>\n",
       "    .dataframe tbody tr th:only-of-type {\n",
       "        vertical-align: middle;\n",
       "    }\n",
       "\n",
       "    .dataframe tbody tr th {\n",
       "        vertical-align: top;\n",
       "    }\n",
       "\n",
       "    .dataframe thead th {\n",
       "        text-align: right;\n",
       "    }\n",
       "</style>\n",
       "<table border=\"1\" class=\"dataframe\">\n",
       "  <thead>\n",
       "    <tr style=\"text-align: right;\">\n",
       "      <th></th>\n",
       "      <th>High</th>\n",
       "      <th>ARMA_pred</th>\n",
       "    </tr>\n",
       "  </thead>\n",
       "  <tbody>\n",
       "    <tr>\n",
       "      <th>2011-09-30</th>\n",
       "      <td>4.265645</td>\n",
       "      <td>6.888748</td>\n",
       "    </tr>\n",
       "  </tbody>\n",
       "</table>\n",
       "</div>"
      ],
      "text/plain": [
       "                High  ARMA_pred\n",
       "2011-09-30  4.265645   6.888748"
      ]
     },
     "execution_count": 49,
     "metadata": {},
     "output_type": "execute_result"
    }
   ],
   "source": [
    "future.head(1)"
   ]
  },
  {
   "cell_type": "code",
   "execution_count": 50,
   "metadata": {},
   "outputs": [
    {
     "data": {
      "text/plain": [
       "113"
      ]
     },
     "execution_count": 50,
     "metadata": {},
     "output_type": "execute_result"
    }
   ],
   "source": [
    "future.shape[0]"
   ]
  },
  {
   "cell_type": "code",
   "execution_count": 52,
   "metadata": {},
   "outputs": [
    {
     "data": {
      "text/html": [
       "<div>\n",
       "<style scoped>\n",
       "    .dataframe tbody tr th:only-of-type {\n",
       "        vertical-align: middle;\n",
       "    }\n",
       "\n",
       "    .dataframe tbody tr th {\n",
       "        vertical-align: top;\n",
       "    }\n",
       "\n",
       "    .dataframe thead th {\n",
       "        text-align: right;\n",
       "    }\n",
       "</style>\n",
       "<table border=\"1\" class=\"dataframe\">\n",
       "  <thead>\n",
       "    <tr style=\"text-align: right;\">\n",
       "      <th></th>\n",
       "      <th>High</th>\n",
       "      <th>ARMA_pred</th>\n",
       "      <th>ARIMA_pred</th>\n",
       "    </tr>\n",
       "  </thead>\n",
       "  <tbody>\n",
       "    <tr>\n",
       "      <th>2011-09-30</th>\n",
       "      <td>4.265645</td>\n",
       "      <td>6.888748</td>\n",
       "      <td>0.0</td>\n",
       "    </tr>\n",
       "  </tbody>\n",
       "</table>\n",
       "</div>"
      ],
      "text/plain": [
       "                High  ARMA_pred  ARIMA_pred\n",
       "2011-09-30  4.265645   6.888748         0.0"
      ]
     },
     "execution_count": 52,
     "metadata": {},
     "output_type": "execute_result"
    }
   ],
   "source": [
    "future['ARIMA_pred'] = best_model2.predict(start=0, end=future.shape[0])\n",
    "future.head(1)"
   ]
  },
  {
   "cell_type": "markdown",
   "metadata": {},
   "source": [
    "### 3.3.2 可视化预测结果"
   ]
  },
  {
   "cell_type": "code",
   "execution_count": 54,
   "metadata": {},
   "outputs": [
    {
     "data": {
      "image/png": "[encoded data removed]",
      "text/plain": [
       "<Figure size 1152x360 with 1 Axes>"
      ]
     },
     "metadata": {
      "needs_background": "light"
     },
     "output_type": "display_data"
    }
   ],
   "source": [
    "future.plot(figsize=(16, 5), title=\"ARMA & ARIMA预测股票美吉姆未来3个月最高价走势\")\n",
    "plt.show()"
   ]
  },
  {
   "cell_type": "code",
   "execution_count": null,
   "metadata": {},
   "outputs": [],
   "source": []
  }
 ],
 "metadata": {
  "kernelspec": {
   "display_name": "Python 3",
   "language": "python",
   "name": "python3"
  },
  "language_info": {
   "codemirror_mode": {
    "name": "ipython",
    "version": 3
   },
   "file_extension": ".py",
   "mimetype": "text/x-python",
   "name": "python",
   "nbconvert_exporter": "python",
   "pygments_lexer": "ipython3",
   "version": "3.8.3"
  },
  "toc": {
   "base_numbering": 1,
   "nav_menu": {},
   "number_sections": false,
   "sideBar": true,
   "skip_h1_title": false,
   "title_cell": "Table of Contents",
   "title_sidebar": "Contents",
   "toc_cell": true,
   "toc_position": {
    "height": "calc(100% - 180px)",
    "left": "10px",
    "top": "150px",
    "width": "288px"
   },
   "toc_section_display": true,
   "toc_window_display": true
  },
  "varInspector": {
   "cols": {
    "lenName": 16,
    "lenType": 16,
    "lenVar": 40
   },
   "kernels_config": {
    "python": {
     "delete_cmd_postfix": "",
     "delete_cmd_prefix": "del ",
     "library": "var_list.py",
     "varRefreshCmd": "print(var_dic_list())"
    },
    "r": {
     "delete_cmd_postfix": ") ",
     "delete_cmd_prefix": "rm(",
     "library": "var_list.r",
     "varRefreshCmd": "cat(var_dic_list()) "
    }
   },
   "types_to_exclude": [
    "module",
    "function",
    "builtin_function_or_method",
    "instance",
    "_Feature"
   ],
   "window_display": true
  }
 },
 "nbformat": 4,
 "nbformat_minor": 4
}
