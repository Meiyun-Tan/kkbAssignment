{
 "cells": [
  {
   "cell_type": "markdown",
   "metadata": {
    "toc": true
   },
   "source": [
    "<h1>Table of Contents<span class=\"tocSkip\"></span></h1>\n",
    "<div class=\"toc\"><ul class=\"toc-item\"><li><span><a href=\"#1-自定义函数\" data-toc-modified-id=\"1-自定义函数-1\">1 自定义函数</a></span></li><li><span><a href=\"#2-加载文本\" data-toc-modified-id=\"2-加载文本-2\">2 加载文本</a></span></li><li><span><a href=\"#3-对第一个文本通过TextRank进行关键词提取，及文章摘要输出\" data-toc-modified-id=\"3-对第一个文本通过TextRank进行关键词提取，及文章摘要输出-3\">3 对第一个文本通过TextRank进行关键词提取，及文章摘要输出</a></span><ul class=\"toc-item\"><li><span><a href=\"#3.1-进行关键词提取\" data-toc-modified-id=\"3.1-进行关键词提取-3.1\">3.1 进行关键词提取</a></span></li><li><span><a href=\"#3.2-获取文章摘要\" data-toc-modified-id=\"3.2-获取文章摘要-3.2\">3.2 获取文章摘要</a></span></li></ul></li><li><span><a href=\"#4-对第二个文本通过TextRank进行关键词提取，及文章摘要输出\" data-toc-modified-id=\"4-对第二个文本通过TextRank进行关键词提取，及文章摘要输出-4\">4 对第二个文本通过TextRank进行关键词提取，及文章摘要输出</a></span><ul class=\"toc-item\"><li><span><a href=\"#4.1-关键词提取\" data-toc-modified-id=\"4.1-关键词提取-4.1\">4.1 关键词提取</a></span></li><li><span><a href=\"#4.2-文章摘要输出\" data-toc-modified-id=\"4.2-文章摘要输出-4.2\">4.2 文章摘要输出</a></span></li></ul></li><li><span><a href=\"#5-对第三个文本通过TextRank进行关键词提取，及文章摘要输出\" data-toc-modified-id=\"5-对第三个文本通过TextRank进行关键词提取，及文章摘要输出-5\">5 对第三个文本通过TextRank进行关键词提取，及文章摘要输出</a></span><ul class=\"toc-item\"><li><span><a href=\"#5.1-关键词提取\" data-toc-modified-id=\"5.1-关键词提取-5.1\">5.1 关键词提取</a></span></li><li><span><a href=\"#5.2--文章摘要输出\" data-toc-modified-id=\"5.2--文章摘要输出-5.2\">5.2  文章摘要输出</a></span></li></ul></li><li><span><a href=\"#6-总结\" data-toc-modified-id=\"6-总结-6\">6 总结</a></span></li></ul></div>"
   ]
  },
  {
   "cell_type": "markdown",
   "metadata": {},
   "source": [
    "使用TextRank对新闻进行关键词提取，及文章摘要输出"
   ]
  },
  {
   "cell_type": "code",
   "execution_count": 1,
   "metadata": {
    "ExecuteTime": {
     "end_time": "2020-11-05T16:53:33.705287Z",
     "start_time": "2020-11-05T16:53:33.699601Z"
    }
   },
   "outputs": [],
   "source": [
    "import jieba\n",
    "from jieba import posseg as pseg\n",
    "from textrank4zh import TextRank4Keyword, TextRank4Sentence"
   ]
  },
  {
   "cell_type": "code",
   "execution_count": 38,
   "metadata": {
    "ExecuteTime": {
     "end_time": "2020-11-05T17:18:21.312010Z",
     "start_time": "2020-11-05T17:18:21.252365Z"
    }
   },
   "outputs": [],
   "source": [
    "import chardet"
   ]
  },
  {
   "cell_type": "markdown",
   "metadata": {},
   "source": [
    "# 1 自定义函数"
   ]
  },
  {
   "cell_type": "code",
   "execution_count": 39,
   "metadata": {
    "ExecuteTime": {
     "end_time": "2020-11-05T17:18:31.716554Z",
     "start_time": "2020-11-05T17:18:31.711160Z"
    }
   },
   "outputs": [],
   "source": [
    "def get_encoding(file):\n",
    "    \"\"\"解决illegal multibyte sequence的报错，获取encoding编码\"\"\"\n",
    "    with open(file,'rb') as f:\n",
    "        return chardet.detect(f.read())['encoding']"
   ]
  },
  {
   "cell_type": "code",
   "execution_count": 53,
   "metadata": {
    "ExecuteTime": {
     "end_time": "2020-11-05T17:24:09.878128Z",
     "start_time": "2020-11-05T17:24:09.874434Z"
    }
   },
   "outputs": [],
   "source": [
    "def get_text(path):\n",
    "    \"\"\"从本地读取文档\"\"\"\n",
    "    encoding = get_encoding(path)\n",
    "    with open(path, 'r', encoding=encoding) as f:\n",
    "        text = f.read()\n",
    "    return text"
   ]
  },
  {
   "cell_type": "code",
   "execution_count": 67,
   "metadata": {
    "ExecuteTime": {
     "end_time": "2020-11-05T17:47:18.375113Z",
     "start_time": "2020-11-05T17:47:18.369197Z"
    }
   },
   "outputs": [],
   "source": [
    "def keywords_extract(text, num, word_min_len):\n",
    "    \"\"\"关键词提取\"\"\"\n",
    "    # 实例化\n",
    "    tr4k = TextRank4Keyword()\n",
    "    # 分析文本\n",
    "    tr4k.analyze(text, window=2, lower=True)\n",
    "    # 获取最重要的num个长度大于等于word_min_len的关键词，返回嵌套类似字典的列表\n",
    "    words = tr4k.get_keywords(num=num, word_min_len=word_min_len)\n",
    "    return words"
   ]
  },
  {
   "cell_type": "code",
   "execution_count": 72,
   "metadata": {
    "ExecuteTime": {
     "end_time": "2020-11-05T17:55:00.370451Z",
     "start_time": "2020-11-05T17:55:00.366117Z"
    }
   },
   "outputs": [],
   "source": [
    "def get_summary(text, num=3, sentence_min_len=6):\n",
    "    \"\"\"获取文本的摘要句子\"\"\"\n",
    "    tr4s = TextRank4Sentence()\n",
    "    tr4s.analyze(text, lower=True, source='all_filters')\n",
    "    # 获取最重要的num个长度大于等于sentence_min_len的句子用来生成摘要\n",
    "    setences = tr4s.get_key_sentences(num=num, sentence_min_len=sentence_min_len)\n",
    "    return setences"
   ]
  },
  {
   "cell_type": "markdown",
   "metadata": {},
   "source": [
    "# 2 加载文本"
   ]
  },
  {
   "cell_type": "code",
   "execution_count": 18,
   "metadata": {
    "ExecuteTime": {
     "end_time": "2020-11-05T17:09:34.541450Z",
     "start_time": "2020-11-05T17:09:34.538071Z"
    }
   },
   "outputs": [],
   "source": [
    "fpath1 = \"news_wuhan.txt\"\n",
    "fpath2 = \"news_Turkey.txt\"\n",
    "fpath3 = \"news_gaokao.txt\""
   ]
  },
  {
   "cell_type": "code",
   "execution_count": 54,
   "metadata": {
    "ExecuteTime": {
     "end_time": "2020-11-05T17:24:12.030871Z",
     "start_time": "2020-11-05T17:24:11.943867Z"
    }
   },
   "outputs": [],
   "source": [
    "text1 = get_text(fpath1)\n",
    "text2 = get_text(fpath2)\n",
    "text3 = get_text(fpath3)"
   ]
  },
  {
   "cell_type": "code",
   "execution_count": 61,
   "metadata": {
    "ExecuteTime": {
     "end_time": "2020-11-05T17:26:33.427485Z",
     "start_time": "2020-11-05T17:26:33.420783Z"
    }
   },
   "outputs": [
    {
     "data": {
      "text/plain": [
       "('今天，武汉市教育局发', '土耳其未炮击美军 土', '7月23日，在万般期')"
      ]
     },
     "execution_count": 61,
     "metadata": {},
     "output_type": "execute_result"
    }
   ],
   "source": [
    "text1[:10], text2[:10], text3[:10]"
   ]
  },
  {
   "cell_type": "markdown",
   "metadata": {
    "ExecuteTime": {
     "end_time": "2020-11-05T17:25:03.525132Z",
     "start_time": "2020-11-05T17:25:03.518827Z"
    }
   },
   "source": [
    "# 3 对第一个文本通过TextRank进行关键词提取，及文章摘要输出"
   ]
  },
  {
   "cell_type": "markdown",
   "metadata": {},
   "source": [
    "## 3.1 进行关键词提取"
   ]
  },
  {
   "cell_type": "code",
   "execution_count": 78,
   "metadata": {
    "ExecuteTime": {
     "end_time": "2020-11-05T17:57:54.472120Z",
     "start_time": "2020-11-05T17:57:54.466487Z"
    }
   },
   "outputs": [
    {
     "data": {
      "text/plain": [
       "'今天，武汉市教育局发出《关于延迟2020年春季开学时间有关工作的通知》，延迟全市中小学、市属大中专院校2020年春季开学时间。\\n具体开学时间将视武汉市新冠肺炎疫情发展和防控情况，请示上级同意后另行通知。\\n2月10日前，各单位严格按照要求，做好假期各项工作。\\n2月10日开始，各区教育局组织辖区中小学、中职学校，按照教学计划安排，开展在线课程教学（方案另发）。\\n正式开学前，严禁市属各级各类学校组织各类线下课程教学、培训和集体活动。\\n各区教育局要指导辖区中小学、幼儿园，合理制定学生学习计划和生活指南，指导学生安排好居家学习和生活；要关注学生心理健康，建立离校学生情况日报制度，定期向学生了解相关情况，通过电话、网络等各种方式做好学生的个性化辅导。'"
      ]
     },
     "execution_count": 78,
     "metadata": {},
     "output_type": "execute_result"
    }
   ],
   "source": [
    "text1"
   ]
  },
  {
   "cell_type": "code",
   "execution_count": 80,
   "metadata": {
    "ExecuteTime": {
     "end_time": "2020-11-05T17:59:16.520833Z",
     "start_time": "2020-11-05T17:59:15.694018Z"
    }
   },
   "outputs": [
    {
     "name": "stderr",
     "output_type": "stream",
     "text": [
      "Building prefix dict from the default dictionary ...\n",
      "Loading model from cache /var/folders/4h/qvrcf5hn3fzd0qt2sh_0yfm40000gn/T/jieba.cache\n",
      "Loading model cost 0.779 seconds.\n",
      "Prefix dict has been built successfully.\n"
     ]
    }
   ],
   "source": [
    "words = keywords_extract(text1, 20, 2)"
   ]
  },
  {
   "cell_type": "code",
   "execution_count": 96,
   "metadata": {
    "ExecuteTime": {
     "end_time": "2020-11-05T18:15:18.591279Z",
     "start_time": "2020-11-05T18:15:18.583944Z"
    }
   },
   "outputs": [
    {
     "data": {
      "text/plain": [
       "(20, textrank4zh.util.AttrDict, {'word': '土耳其', 'weight': 0.04069520917096793})"
      ]
     },
     "execution_count": 96,
     "metadata": {},
     "output_type": "execute_result"
    }
   ],
   "source": [
    "len(words), type(words[0]), (words[0])"
   ]
  },
  {
   "cell_type": "code",
   "execution_count": 84,
   "metadata": {
    "ExecuteTime": {
     "end_time": "2020-11-05T18:04:22.740087Z",
     "start_time": "2020-11-05T18:04:22.713869Z"
    }
   },
   "outputs": [
    {
     "name": "stdout",
     "output_type": "stream",
     "text": [
      "关键词如下：\n",
      "关键词:学生, 词的权重:0.0640562193171476\n",
      "关键词:情况, 词的权重:0.03408560625354374\n",
      "关键词:中小学, 词的权重:0.028039567778001893\n",
      "关键词:做好, 词的权重:0.025370310607351808\n",
      "关键词:教学, 词的权重:0.02348238685226383\n",
      "关键词:学习, 词的权重:0.022563559125933923\n",
      "关键词:教育局, 词的权重:0.021821626232347666\n",
      "关键词:指导, 词的权重:0.020815842184169844\n",
      "关键词:市属, 词的权重:0.020414506276586208\n",
      "关键词:武汉市, 词的权重:0.01915524398502401\n",
      "关键词:延迟, 词的权重:0.018371930225384824\n",
      "关键词:安排, 词的权重:0.018277873636029833\n",
      "关键词:集体, 词的权重:0.01726509730966709\n",
      "关键词:学校, 词的权重:0.017076084588102173\n",
      "关键词:生活, 词的权重:0.01691997813505238\n",
      "关键词:开学, 词的权重:0.016891066590014207\n",
      "关键词:课程, 词的权重:0.016885914783294133\n",
      "关键词:方案, 词的权重:0.016885914783294133\n",
      "关键词:组织, 词的权重:0.01625055545811202\n",
      "关键词:培训, 词的权重:0.01622482111272769\n"
     ]
    }
   ],
   "source": [
    "print(\"关键词如下：\")\n",
    "for attrdict in words:\n",
    "    print(f\"关键词:{attrdict.word},   词的权重:{attrdict.weight}\")"
   ]
  },
  {
   "cell_type": "markdown",
   "metadata": {},
   "source": [
    "## 3.2 获取文章摘要"
   ]
  },
  {
   "cell_type": "code",
   "execution_count": 85,
   "metadata": {
    "ExecuteTime": {
     "end_time": "2020-11-05T18:08:32.582960Z",
     "start_time": "2020-11-05T18:08:32.531746Z"
    }
   },
   "outputs": [],
   "source": [
    "main_sentences = get_summary(text1, num=3, sentence_min_len=5)"
   ]
  },
  {
   "cell_type": "code",
   "execution_count": 88,
   "metadata": {
    "ExecuteTime": {
     "end_time": "2020-11-05T18:11:36.956014Z",
     "start_time": "2020-11-05T18:11:36.948517Z"
    }
   },
   "outputs": [
    {
     "data": {
      "text/plain": [
       "(3,\n",
       " textrank4zh.util.AttrDict,\n",
       " {'index': 0,\n",
       "  'sentence': '今天，武汉市教育局发出《关于延迟2020年春季开学时间有关工作的通知》，延迟全市中小学、市属大中专院校2020年春季开学时间',\n",
       "  'weight': 0.16736862381514578})"
      ]
     },
     "execution_count": 88,
     "metadata": {},
     "output_type": "execute_result"
    }
   ],
   "source": [
    "len(main_sentences), type(main_sentences[0]), main_sentences[0]  # 返回的也是嵌套类似字典的列表"
   ]
  },
  {
   "cell_type": "code",
   "execution_count": 90,
   "metadata": {
    "ExecuteTime": {
     "end_time": "2020-11-05T18:13:12.326649Z",
     "start_time": "2020-11-05T18:13:12.322188Z"
    }
   },
   "outputs": [
    {
     "name": "stdout",
     "output_type": "stream",
     "text": [
      "索引:0, 权重:0.1674摘要:今天，武汉市教育局发出《关于延迟2020年春季开学时间有关工作的通知》，延迟全市中小学、市属大中专院校2020年春季开学时间\n",
      "索引:3, 权重:0.1612摘要:2月10日开始，各区教育局组织辖区中小学、中职学校，按照教学计划安排，开展在线课程教学（方案另发）\n",
      "索引:6, 权重:0.1465摘要:要关注学生心理健康，建立离校学生情况日报制度，定期向学生了解相关情况，通过电话、网络等各种方式做好学生的个性化辅导\n"
     ]
    }
   ],
   "source": [
    "for attrdic in main_sentences:\n",
    "    print(f\"索引:{attrdic.index}, 权重:{attrdic.weight:.4f}摘要:{attrdic['sentence']}\")"
   ]
  },
  {
   "cell_type": "markdown",
   "metadata": {},
   "source": [
    "# 4 对第二个文本通过TextRank进行关键词提取，及文章摘要输出"
   ]
  },
  {
   "cell_type": "markdown",
   "metadata": {},
   "source": [
    "## 4.1 关键词提取"
   ]
  },
  {
   "cell_type": "code",
   "execution_count": 92,
   "metadata": {
    "ExecuteTime": {
     "end_time": "2020-11-05T18:14:15.750223Z",
     "start_time": "2020-11-05T18:14:15.734935Z"
    }
   },
   "outputs": [
    {
     "data": {
      "text/plain": [
       "'土耳其未炮击美军 土耳其向美军开战\\n当地时间11日，一支美国特种部队遭到了土耳其的炮弹袭击，《新闻周刊》称这明显是“误伤”。五角大楼一名高级官员说，土耳其军队的炮击非常猛烈，美国人员曾考虑进行还击是出于自卫。\\n《新闻周刊》10月11日报道，一名库尔德情报官员和五角大楼官员均表示，在库尔德人占多数的城市科巴尼的山上，这支特种部队在执行任务时遭到炮击，炮弹落在离驻扎地几百米远的地方，没有美国士兵受伤。\\n报道称，特种部队没有还击，而是在炮击停止后撤退。《新闻周刊》此前曾在周三报道说，目前美国军队的交战规则仍然以自卫为中心，五角大楼还没有发布全面撤出叙利亚的命令。\\n这名五角大楼官员说，土耳其部队应该了解美国的位置，不过，这名官员没有具体说明在场人员的确切人数，但表示大约在15到100人之间。《新闻周刊》已联系五角大楼就此事发表评论。\\n土耳其国防部针对《新闻周刊》的报道发表了一份声明，否认土耳其军队针对美国军队。土耳其国防部证实说，“土耳其在苏鲁奇以南的边境哨所，受到了来自美国一个观察哨西南方向大约1千米处山丘的迫击炮攻击。”\\n为了自卫，双方对袭击的恐怖分子阵地进行了还击。土耳其没有以任何方式向美国观察哨开火。他说：所有的预防措施都是在开火之前采取的，目的是防止对美军基地造成任何伤害。作为预防措施，我们在收到来自美国的信息后立即停火。我们坚决反对美国或联军部队遭到袭击的说法。\\n特朗普周四曾在社交媒体上表示，他有“三种选择之一：派遣数千名士兵并在军事上取胜，在经济上对土耳其进行严厉打击并实施制裁，或者在土耳其和库尔德人之间斡旋达成协议”\\n土耳其总统埃尔多安早就警告说，他将猛攻边境，建立一个所谓的“安全区”。白宫周日宣布，美国军队将在一旁待命。'"
      ]
     },
     "execution_count": 92,
     "metadata": {},
     "output_type": "execute_result"
    }
   ],
   "source": [
    "text2"
   ]
  },
  {
   "cell_type": "code",
   "execution_count": 100,
   "metadata": {
    "ExecuteTime": {
     "end_time": "2020-11-05T18:23:18.584532Z",
     "start_time": "2020-11-05T18:23:18.574742Z"
    }
   },
   "outputs": [],
   "source": [
    "jieba.add_word(\"科巴尼\", tag='nsf') # 词性 nsf音译地名\n",
    "jieba.add_word('库尔德人', tag='nz') # nz 其它专名\n",
    "jieba.add_word(\"五角大楼\", tag='n')"
   ]
  },
  {
   "cell_type": "code",
   "execution_count": 101,
   "metadata": {
    "ExecuteTime": {
     "end_time": "2020-11-05T18:23:20.551141Z",
     "start_time": "2020-11-05T18:23:20.444425Z"
    }
   },
   "outputs": [],
   "source": [
    "words = keywords_extract(text2, num=20, word_min_len=2)"
   ]
  },
  {
   "cell_type": "code",
   "execution_count": 102,
   "metadata": {
    "ExecuteTime": {
     "end_time": "2020-11-05T18:23:22.348368Z",
     "start_time": "2020-11-05T18:23:22.339322Z"
    }
   },
   "outputs": [
    {
     "data": {
      "text/plain": [
       "[{'word': '土耳其', 'weight': 0.04440664175196381},\n",
       " {'word': '美国', 'weight': 0.03727070130658822},\n",
       " {'word': '没有', 'weight': 0.024042837024294265},\n",
       " {'word': '袭击', 'weight': 0.017879920087447165},\n",
       " {'word': '特种部队', 'weight': 0.017584891771488653},\n",
       " {'word': '炮击', 'weight': 0.017308245192045112},\n",
       " {'word': '遭到', 'weight': 0.016814733017695416},\n",
       " {'word': '报道', 'weight': 0.016036760113162407},\n",
       " {'word': '进行', 'weight': 0.015542053376160634},\n",
       " {'word': '官员', 'weight': 0.013021950391855034},\n",
       " {'word': '新闻周刊', 'weight': 0.012533626240068627},\n",
       " {'word': '军队', 'weight': 0.012245237209088143},\n",
       " {'word': '炮弹', 'weight': 0.012119854752156349},\n",
       " {'word': '还击', 'weight': 0.011776583729395594},\n",
       " {'word': '观察哨', 'weight': 0.011657961010599512},\n",
       " {'word': '边境', 'weight': 0.011633249454602687},\n",
       " {'word': '库尔德人', 'weight': 0.011275328188854452},\n",
       " {'word': '山丘', 'weight': 0.011269493177387901},\n",
       " {'word': '迫击炮', 'weight': 0.011269493177387901},\n",
       " {'word': '来自', 'weight': 0.010887656333101318}]"
      ]
     },
     "execution_count": 102,
     "metadata": {},
     "output_type": "execute_result"
    }
   ],
   "source": [
    "words"
   ]
  },
  {
   "cell_type": "markdown",
   "metadata": {},
   "source": [
    "## 4.2 文章摘要输出"
   ]
  },
  {
   "cell_type": "code",
   "execution_count": 105,
   "metadata": {
    "ExecuteTime": {
     "end_time": "2020-11-05T18:25:18.275482Z",
     "start_time": "2020-11-05T18:25:18.186396Z"
    }
   },
   "outputs": [],
   "source": [
    "summarys = get_summary(text2, num=3, sentence_min_len=5)"
   ]
  },
  {
   "cell_type": "code",
   "execution_count": 106,
   "metadata": {
    "ExecuteTime": {
     "end_time": "2020-11-05T18:25:20.459590Z",
     "start_time": "2020-11-05T18:25:20.453638Z"
    }
   },
   "outputs": [
    {
     "data": {
      "text/plain": [
       "[{'index': 2,\n",
       "  'sentence': '五角大楼一名高级官员说，土耳其军队的炮击非常猛烈，美国人员曾考虑进行还击是出于自卫',\n",
       "  'weight': 0.08566855917566221},\n",
       " {'index': 5,\n",
       "  'sentence': '《新闻周刊》此前曾在周三报道说，目前美国军队的交战规则仍然以自卫为中心，五角大楼还没有发布全面撤出叙利亚的命令',\n",
       "  'weight': 0.07822047406138367},\n",
       " {'index': 6,\n",
       "  'sentence': '这名五角大楼官员说，土耳其部队应该了解美国的位置，不过，这名官员没有具体说明在场人员的确切人数，但表示大约在15到100人之间',\n",
       "  'weight': 0.07552019877335808}]"
      ]
     },
     "execution_count": 106,
     "metadata": {},
     "output_type": "execute_result"
    }
   ],
   "source": [
    "summarys"
   ]
  },
  {
   "cell_type": "markdown",
   "metadata": {},
   "source": [
    "# 5 对第三个文本通过TextRank进行关键词提取，及文章摘要输出"
   ]
  },
  {
   "cell_type": "markdown",
   "metadata": {},
   "source": [
    "## 5.1 关键词提取"
   ]
  },
  {
   "cell_type": "code",
   "execution_count": 107,
   "metadata": {
    "ExecuteTime": {
     "end_time": "2020-11-05T18:26:22.398435Z",
     "start_time": "2020-11-05T18:26:22.392710Z"
    }
   },
   "outputs": [
    {
     "data": {
      "text/plain": [
       "'7月23日，在万般期待中，各地2020年高考录取分数线陆续公布，拿到分数后的考生们可谓有人欢喜有人愁。安徽省当天也公布了录取分数线，其中文理科一本分数线分别为541分和515分，二本分数线分别为499分和435分。那么被称为亚洲最大的“高考工厂”毛坦厂中学高考成绩怎样？图为毛坦厂中学教室午休的考生。\\n7月23日，毛坦厂中学所在的安徽六安市毛坦厂镇官方发布喜报称，根据网络查询，六安市毛坦厂中学、金安高级中学、金安中学补习班2020年高考再创佳绩，再传捷报，安徽籍考生（不含外省考生）本科达线人数10176人，其中600分以上600分以上290人，理科最高分674分，文科最高分608分。也就是在2020年高考中，高考镇有1万多人达到本科线，听起来多少有点让人吃惊，这个数字还不包括其他十几个省份在毛坦厂复读的数百名考生。图为高考镇放学盛大的场面。今年的高考很特殊，因为疫情课业停摆两个多月，随后高考推迟一个月才考试，而就在考试进行时，安徽歙县因为洪水语文和数学被延期考试，湖北黄梅的考生硬是蹚水去考场，而云南一地的考生，考试时还发生了地震。图为高考前，高考镇的卡点。毛坦厂镇因为高考而驰名，被称为“亚洲最大的高考工厂”，外媒曾称该镇是一座偏僻的单一产业城镇，出产的是应试机器，就像其他一些专门生产袜子或圣诞饰品的中国乡镇一样心无旁骛。毛坦厂镇今年参加高考的考生人数超过1.7万人，涉及全国十多个省份。图为考生在上晚自习。\\n据悉，毛坦厂镇面积只有3.5平方公里，人口不过万余人，从1999年后，毛坦厂中学借高考复读声名鹊起，每年都要吸引2万多学生和1万多陪读家长，整个小镇接近5万人。租房、生活、学习，众多学生和家长的到来，小镇的经济都围绕着“高考”在转。图为每天早晨，陪读家长在洗衣。在高考前，为了保障高考的顺利进行，高考镇实行了史上最严的“封锁”，在疫情开始之初，通往毛坦厂镇的所有道路都被切断，4月初，安徽省境内高三年级开始复课之后，因为外来复读学生较多，毛坦厂镇曾经短暂对外地家长和考生开放了几天，随之又实行严格管控，一直到7月5日考生离开高考镇时才解封。图为高考前，考生进入学校测量体温。也正是如此，今年的高考镇比往年低调了很多，连往年最热闹的送考节也没有举行，而是和其他所有普通学校一样，用几辆大巴将考生送到市区考试。图为往年的送考节。和衡水中学不一样，到高考镇来学习的都是普通考生，还有很多“落榜”生。有人说，高考镇太过严格，然而今年1万多人达本科线，意味着经过一年的努力，这一万多名考生或将改变命运，或许这就是高考镇存在的意义。'"
      ]
     },
     "execution_count": 107,
     "metadata": {},
     "output_type": "execute_result"
    }
   ],
   "source": [
    "text3"
   ]
  },
  {
   "cell_type": "code",
   "execution_count": 111,
   "metadata": {
    "ExecuteTime": {
     "end_time": "2020-11-05T18:30:10.806254Z",
     "start_time": "2020-11-05T18:30:10.793968Z"
    }
   },
   "outputs": [],
   "source": [
    "jieba.add_word(\"毛坦厂\", tag='n')\n",
    "jieba.add_word(\"送考节\", tag='n')"
   ]
  },
  {
   "cell_type": "code",
   "execution_count": 112,
   "metadata": {
    "ExecuteTime": {
     "end_time": "2020-11-05T18:30:12.804195Z",
     "start_time": "2020-11-05T18:30:12.579543Z"
    }
   },
   "outputs": [],
   "source": [
    "words = keywords_extract(text3, num=20, word_min_len=2)"
   ]
  },
  {
   "cell_type": "code",
   "execution_count": 113,
   "metadata": {
    "ExecuteTime": {
     "end_time": "2020-11-05T18:30:15.011924Z",
     "start_time": "2020-11-05T18:30:15.002969Z"
    }
   },
   "outputs": [
    {
     "data": {
      "text/plain": [
       "[{'word': '高考', 'weight': 0.05455718285115454},\n",
       " {'word': '考生', 'weight': 0.038827055246299244},\n",
       " {'word': '毛坦厂', 'weight': 0.024114891867522522},\n",
       " {'word': '考试', 'weight': 0.01599190333037511},\n",
       " {'word': '中学', 'weight': 0.015960568788875525},\n",
       " {'word': '往年', 'weight': 0.011032819350023742},\n",
       " {'word': '家长', 'weight': 0.010883562675138335},\n",
       " {'word': '安徽', 'weight': 0.01058842780922175},\n",
       " {'word': '今年', 'weight': 0.010317881444328748},\n",
       " {'word': '小镇', 'weight': 0.010063049750276793},\n",
       " {'word': '复读', 'weight': 0.010009278239617742},\n",
       " {'word': '公布', 'weight': 0.009302771687769471},\n",
       " {'word': '分数线', 'weight': 0.009276586931897856},\n",
       " {'word': '疫情', 'weight': 0.008947247512302473},\n",
       " {'word': '课业', 'weight': 0.008947247512302473},\n",
       " {'word': '考场', 'weight': 0.008947247512302471},\n",
       " {'word': '学校', 'weight': 0.00876772644325411},\n",
       " {'word': '人数', 'weight': 0.008488299486141293},\n",
       " {'word': '城镇', 'weight': 0.008477424254876508},\n",
       " {'word': '应试', 'weight': 0.008477424254876508}]"
      ]
     },
     "execution_count": 113,
     "metadata": {},
     "output_type": "execute_result"
    }
   ],
   "source": [
    "words"
   ]
  },
  {
   "cell_type": "markdown",
   "metadata": {},
   "source": [
    "## 5.2  文章摘要输出"
   ]
  },
  {
   "cell_type": "code",
   "execution_count": 114,
   "metadata": {
    "ExecuteTime": {
     "end_time": "2020-11-05T18:32:02.318622Z",
     "start_time": "2020-11-05T18:32:02.140635Z"
    }
   },
   "outputs": [],
   "source": [
    "summarys = get_summary(text3)"
   ]
  },
  {
   "cell_type": "code",
   "execution_count": 115,
   "metadata": {
    "ExecuteTime": {
     "end_time": "2020-11-05T18:32:06.036536Z",
     "start_time": "2020-11-05T18:32:06.028561Z"
    }
   },
   "outputs": [
    {
     "data": {
      "text/plain": [
       "[{'index': 4,\n",
       "  'sentence': '7月23日，毛坦厂中学所在的安徽六安市毛坦厂镇官方发布喜报称，根据网络查询，六安市毛坦厂中学、金安高级中学、金安中学补习班2020年高考再创佳绩，再传捷报，安徽籍考生（不含外省考生）本科达线人数10176人，其中600分以上600分以上290人，理科最高分674分，文科最高分608分',\n",
       "  'weight': 0.06489342438183157},\n",
       " {'index': 10,\n",
       "  'sentence': '毛坦厂镇今年参加高考的考生人数超过1.7万人，涉及全国十多个省份',\n",
       "  'weight': 0.061541160918681725},\n",
       " {'index': 15,\n",
       "  'sentence': '在高考前，为了保障高考的顺利进行，高考镇实行了史上最严的“封锁”，在疫情开始之初，通往毛坦厂镇的所有道路都被切断，4月初，安徽省境内高三年级开始复课之后，因为外来复读学生较多，毛坦厂镇曾经短暂对外地家长和考生开放了几天，随之又实行严格管控，一直到7月5日考生离开高考镇时才解封',\n",
       "  'weight': 0.060210763004312405}]"
      ]
     },
     "execution_count": 115,
     "metadata": {},
     "output_type": "execute_result"
    }
   ],
   "source": [
    "summarys"
   ]
  },
  {
   "cell_type": "markdown",
   "metadata": {},
   "source": [
    "# 6 总结"
   ]
  },
  {
   "cell_type": "markdown",
   "metadata": {},
   "source": [
    "- 在读取第三个文本文件时，遇到了报错UnicodeDecodeError：XXX illegal multibyte sequence，上次西游记的文本文件读取也遇到过同样的问题，这次找到了解决方法：\n",
    "    - 二进制读取，通过模块chardet的detect()方法，获得识别出的文本编码，然后再根据该编码重新读取文件就可以正常读取了。\n",
    "- TextRank工具进行关键词提取和文章摘要获取的步骤相似：\n",
    "    1. 实例化一个关键词提取/摘要获取的对象，类似于模型实例化；\n",
    "    2. 关键词分析/句子分析，类似于模型训练；\n",
    "    3. 调用实例方法，获取关键词或者摘要句子。"
   ]
  },
  {
   "cell_type": "code",
   "execution_count": null,
   "metadata": {},
   "outputs": [],
   "source": []
  }
 ],
 "metadata": {
  "kernelspec": {
   "display_name": "Python [conda env:envpy37]",
   "language": "python",
   "name": "conda-env-envpy37-py"
  },
  "language_info": {
   "codemirror_mode": {
    "name": "ipython",
    "version": 3
   },
   "file_extension": ".py",
   "mimetype": "text/x-python",
   "name": "python",
   "nbconvert_exporter": "python",
   "pygments_lexer": "ipython3",
   "version": "3.7.7"
  },
  "nbTranslate": {
   "displayLangs": [
    "*"
   ],
   "hotkey": "alt-t",
   "langInMainMenu": true,
   "sourceLang": "en",
   "targetLang": "fr",
   "useGoogleTranslate": true
  },
  "toc": {
   "base_numbering": 1,
   "nav_menu": {},
   "number_sections": false,
   "sideBar": true,
   "skip_h1_title": false,
   "title_cell": "Table of Contents",
   "title_sidebar": "Contents",
   "toc_cell": true,
   "toc_position": {
    "height": "calc(100% - 180px)",
    "left": "10px",
    "top": "150px",
    "width": "288px"
   },
   "toc_section_display": true,
   "toc_window_display": true
  },
  "varInspector": {
   "cols": {
    "lenName": 16,
    "lenType": 16,
    "lenVar": 40
   },
   "kernels_config": {
    "python": {
     "delete_cmd_postfix": "",
     "delete_cmd_prefix": "del ",
     "library": "var_list.py",
     "varRefreshCmd": "print(var_dic_list())"
    },
    "r": {
     "delete_cmd_postfix": ") ",
     "delete_cmd_prefix": "rm(",
     "library": "var_list.r",
     "varRefreshCmd": "cat(var_dic_list()) "
    }
   },
   "types_to_exclude": [
    "module",
    "function",
    "builtin_function_or_method",
    "instance",
    "_Feature"
   ],
   "window_display": false
  }
 },
 "nbformat": 4,
 "nbformat_minor": 4
}
