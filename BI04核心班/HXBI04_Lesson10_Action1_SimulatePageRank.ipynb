{
 "cells": [
  {
   "cell_type": "markdown",
   "metadata": {
    "toc": true
   },
   "source": [
    "<h1>Table of Contents<span class=\"tocSkip\"></span></h1>\n",
    "<div class=\"toc\"><ul class=\"toc-item\"><li><span><a href=\"#1-简化版PageRank模型\" data-toc-modified-id=\"1-简化版PageRank模型-1\">1 简化版PageRank模型</a></span><ul class=\"toc-item\"><li><span><a href=\"#1.1--构建转移矩阵\" data-toc-modified-id=\"1.1--构建转移矩阵-1.1\">1.1  构建转移矩阵</a></span></li><li><span><a href=\"#1.2-构建转换过程\" data-toc-modified-id=\"1.2-构建转换过程-1.2\">1.2 构建转换过程</a></span></li><li><span><a href=\"#1.3-尝试第一次转换\" data-toc-modified-id=\"1.3-尝试第一次转换-1.3\">1.3 尝试第一次转换</a></span></li><li><span><a href=\"#1.4-循环迭代，找到最终影响力矩阵\" data-toc-modified-id=\"1.4-循环迭代，找到最终影响力矩阵-1.4\">1.4 循环迭代，找到最终影响力矩阵</a></span></li></ul></li><li><span><a href=\"#2--随机浏览模型\" data-toc-modified-id=\"2--随机浏览模型-2\">2  随机浏览模型</a></span><ul class=\"toc-item\"><li><span><a href=\"#2.1-引入阻尼因子-用随机浏览模型迭代\" data-toc-modified-id=\"2.1-引入阻尼因子-用随机浏览模型迭代-2.1\">2.1 引入阻尼因子 用随机浏览模型迭代</a></span></li></ul></li><li><span><a href=\"#3-总结：\" data-toc-modified-id=\"3-总结：-3\">3 总结：</a></span></li></ul></div>"
   ]
  },
  {
   "cell_type": "markdown",
   "metadata": {},
   "source": [
    "使用Python模拟下面的PageRank计算过程，求每个节点的影响力（迭代100次）"
   ]
  },
  {
   "cell_type": "code",
   "execution_count": 10,
   "metadata": {
    "ExecuteTime": {
     "end_time": "2020-11-03T08:08:15.406813Z",
     "start_time": "2020-11-03T08:08:15.403637Z"
    }
   },
   "outputs": [],
   "source": [
    "import numpy as np"
   ]
  },
  {
   "cell_type": "markdown",
   "metadata": {},
   "source": [
    "# 1 简化版PageRank模型"
   ]
  },
  {
   "cell_type": "markdown",
   "metadata": {},
   "source": [
    "## 1.1  构建转移矩阵"
   ]
  },
  {
   "cell_type": "markdown",
   "metadata": {},
   "source": [
    "ABCD有向图：\n",
    "\n",
    "---\n",
    "<img src=\"./pictures/ABCD有向图.png\" width=\"40%\">\n"
   ]
  },
  {
   "cell_type": "markdown",
   "metadata": {},
   "source": [
    "---\n",
    "一个网页u的影响力=所有入链集合的页面的加权影响力之和: $PR(u)=\\sum_{v\\epsilon B_{u}}\\frac{PR(v)}{L(v)}$    \n",
    "\n",
    "- 公式解读：\n",
    "    - u：待评估的页面，\n",
    "    - $B_{u}$为u的入链集合\n",
    "    - 对于$B_{u}$中的任意页面v，它能给u带来的影响力是其自身的影响力PR(v)除以v页面的出链数量。即：页面v把影响力PR(v)平均分配给了它的出链。这样统计所有能给u带来链接的页面v，得到的总和即为u的影响力，即为PR(u)\n"
   ]
  },
  {
   "cell_type": "markdown",
   "metadata": {},
   "source": [
    "---\n",
    "- 转移矩阵：统计网页对于其他网页的跳转概率\n",
    "    - 原因：出链会给被链接的页面赋予影响力，关键在于统计他们出链的数量\n",
    "    - 行表示该节点会被其他节点跳转到它的可能性\n",
    "    - 列表示该节点跳转到其他节点的概率，所以每1列的和=1。"
   ]
  },
  {
   "cell_type": "code",
   "execution_count": 21,
   "metadata": {
    "ExecuteTime": {
     "end_time": "2020-11-03T09:02:00.840894Z",
     "start_time": "2020-11-03T09:02:00.830970Z"
    }
   },
   "outputs": [
    {
     "name": "stdout",
     "output_type": "stream",
     "text": [
      "验证各节点影响力数组是否和都为1： 1.0 1.0 1.0 1.0\n"
     ]
    }
   ],
   "source": [
    "# 根据上图，假设：从同一个节点跳转到其他连接的节点的概率相同，创建ABCD的转移矩阵\n",
    "\n",
    "# A点依次跳转到ABCD的可能性: A有3个出度，分别指向BCD，跳转到3个节点的概率相同\n",
    "A = np.array([0., 1 / 3, 1 / 3, 1 / 3])\n",
    "\n",
    "# B点依次对ABCD的可能性: B有2个出度，分别指向AD，跳转到2个节点概率相同，未指向的节点跳转概率为0\n",
    "B = np.array([1 / 2, 0., 0., 1 / 2])\n",
    "\n",
    "# C点依次对ABCD的可能性: C有1个出度，指向A，跳转到A节点的概率为1，未指向的节点跳转概率为0\n",
    "C = np.array([1., 0., 0., 0.])\n",
    "\n",
    "# D点依次对ABCD的可能性: D有2个出度，分别指向BC，跳转到2个节点概率相同，未指向的节点跳转概率为0\n",
    "D = np.array([0., 1 / 2, 1 / 2, 0.])\n",
    "\n",
    "print(\"验证各节点跳转概率的数组是否和都为1：\", sum(A), sum(B), sum(C), sum(D))\n"
   ]
  },
  {
   "cell_type": "code",
   "execution_count": 22,
   "metadata": {
    "ExecuteTime": {
     "end_time": "2020-11-03T09:02:02.891980Z",
     "start_time": "2020-11-03T09:02:02.884847Z"
    }
   },
   "outputs": [
    {
     "data": {
      "text/plain": [
       "array([[0.        , 0.5       , 1.        , 0.        ],\n",
       "       [0.33333333, 0.        , 0.        , 0.5       ],\n",
       "       [0.33333333, 0.        , 0.        , 0.5       ],\n",
       "       [0.33333333, 0.5       , 0.        , 0.        ]])"
      ]
     },
     "execution_count": 22,
     "metadata": {},
     "output_type": "execute_result"
    }
   ],
   "source": [
    "# 合并为完整转移矩阵，默认是垂直方向表示，因此最后使用T转置\n",
    "transition_arr = np.array([A, B, C, D]).T\n",
    "transition_arr"
   ]
  },
  {
   "cell_type": "code",
   "execution_count": 26,
   "metadata": {
    "ExecuteTime": {
     "end_time": "2020-11-03T09:20:41.570198Z",
     "start_time": "2020-11-03T09:20:41.566356Z"
    }
   },
   "outputs": [],
   "source": [
    "# 假设：4个点各自的初始影响力相同，均为1/4\n",
    "w0 = np.ones((4, 1)) / 4"
   ]
  },
  {
   "cell_type": "code",
   "execution_count": 27,
   "metadata": {
    "ExecuteTime": {
     "end_time": "2020-11-03T09:20:43.191447Z",
     "start_time": "2020-11-03T09:20:43.179308Z"
    }
   },
   "outputs": [
    {
     "data": {
      "text/plain": [
       "array([[0.25],\n",
       "       [0.25],\n",
       "       [0.25],\n",
       "       [0.25]])"
      ]
     },
     "execution_count": 27,
     "metadata": {},
     "output_type": "execute_result"
    }
   ],
   "source": [
    "w0"
   ]
  },
  {
   "cell_type": "markdown",
   "metadata": {
    "ExecuteTime": {
     "end_time": "2020-11-03T09:02:18.421687Z",
     "start_time": "2020-11-03T09:02:18.412766Z"
    }
   },
   "source": [
    "## 1.2 构建转换过程"
   ]
  },
  {
   "cell_type": "markdown",
   "metadata": {},
   "source": [
    "- 转换的目标：找到最终的影响力矩阵；\n",
    "- 衡量标准 ：当转移矩阵与影响力矩阵的点乘后的影响力不在变化。"
   ]
  },
  {
   "cell_type": "markdown",
   "metadata": {},
   "source": [
    "## 1.3 尝试第一次转换"
   ]
  },
  {
   "cell_type": "code",
   "execution_count": 28,
   "metadata": {
    "ExecuteTime": {
     "end_time": "2020-11-03T09:21:52.674710Z",
     "start_time": "2020-11-03T09:21:52.666922Z"
    }
   },
   "outputs": [
    {
     "data": {
      "text/plain": [
       "array([[0.375     ],\n",
       "       [0.20833333],\n",
       "       [0.20833333],\n",
       "       [0.20833333]])"
      ]
     },
     "execution_count": 28,
     "metadata": {},
     "output_type": "execute_result"
    }
   ],
   "source": [
    "w1 = np.dot(transition_arr, w0) \n",
    "w1"
   ]
  },
  {
   "cell_type": "markdown",
   "metadata": {},
   "source": [
    "## 1.4 循环迭代，找到最终影响力矩阵"
   ]
  },
  {
   "cell_type": "code",
   "execution_count": 34,
   "metadata": {
    "ExecuteTime": {
     "end_time": "2020-11-03T10:11:47.268276Z",
     "start_time": "2020-11-03T10:11:47.259987Z"
    }
   },
   "outputs": [
    {
     "name": "stdout",
     "output_type": "stream",
     "text": [
      "在第52轮循环找到最终的w:\n",
      "[[0.33333333]\n",
      " [0.22222222]\n",
      " [0.22222222]\n",
      " [0.22222222]]\n"
     ]
    }
   ],
   "source": [
    "w = w0\n",
    "for i in range(100):\n",
    "    wi = np.dot(transition_arr, w)\n",
    "    if (wi - w).sum() == 0.:\n",
    "        print(f\"在第{i}轮循环找到最终的w:\\n{w}\")\n",
    "        break\n",
    "    else:\n",
    "        w = wi"
   ]
  },
  {
   "cell_type": "code",
   "execution_count": 32,
   "metadata": {
    "ExecuteTime": {
     "end_time": "2020-11-03T09:49:07.478346Z",
     "start_time": "2020-11-03T09:49:07.471387Z"
    }
   },
   "outputs": [
    {
     "data": {
      "text/plain": [
       "array([[0.33333333],\n",
       "       [0.22222222],\n",
       "       [0.22222222],\n",
       "       [0.22222222]])"
      ]
     },
     "execution_count": 32,
     "metadata": {},
     "output_type": "execute_result"
    }
   ],
   "source": [
    "np.dot(transition_arr, w)"
   ]
  },
  {
   "cell_type": "code",
   "execution_count": 33,
   "metadata": {
    "ExecuteTime": {
     "end_time": "2020-11-03T10:10:23.446012Z",
     "start_time": "2020-11-03T10:10:23.437809Z"
    }
   },
   "outputs": [
    {
     "data": {
      "text/plain": [
       "1.0"
      ]
     },
     "execution_count": 33,
     "metadata": {},
     "output_type": "execute_result"
    }
   ],
   "source": [
    "w.sum()"
   ]
  },
  {
   "cell_type": "markdown",
   "metadata": {},
   "source": [
    "可知，A的影响力最大，占0.33333333。\n"
   ]
  },
  {
   "cell_type": "markdown",
   "metadata": {},
   "source": [
    "然而不是所有的节点都有出度和入度，由于简化版模型认为所有的节点都有出度和入度，因此在实际应用中，简化版模型不一定有作用。\n",
    "\n",
    "- Rank Leak（等级泄露）\n",
    "一个网页没有出链，就像是一个黑洞一样，吸收了别人的影响力而不释放，最终会导致其他网页的PR值为0。\n",
    "- Rank Sink（等级沉没）\n",
    "一个网页只有出链，没有入链。迭代下来，会导致这个网页的PR值为0\n"
   ]
  },
  {
   "cell_type": "markdown",
   "metadata": {},
   "source": [
    "# 2  随机浏览模型\n",
    "---\n",
    "为了解决Rank Leak（等级泄露）和Rank Sink（等级沉没）的问题，Larry Page提出了PageRank的随机浏览模型    \n",
    "假设场景：用户并不都是按照跳转链接的方式来上网，还有一种可能是不论当前处于哪个页面，都有概率访问到其他任意的页面     \n",
    "引入阻尼因子：d     \n",
    "通常取值为0.85（默认）    \n",
    "$PR(u) = \\frac{1-d}{N} + d\\sum_{v\\epsilon B_{u}} \\frac{PR(v)}{L(v)}$"
   ]
  },
  {
   "cell_type": "markdown",
   "metadata": {},
   "source": [
    "## 2.1 引入阻尼因子 用随机浏览模型迭代"
   ]
  },
  {
   "cell_type": "code",
   "execution_count": 35,
   "metadata": {
    "ExecuteTime": {
     "end_time": "2020-11-03T10:29:14.116260Z",
     "start_time": "2020-11-03T10:29:14.097547Z"
    }
   },
   "outputs": [
    {
     "name": "stdout",
     "output_type": "stream",
     "text": [
      "第3轮迭代，找到最终的影响力矩阵:\n",
      "[[0.33028516]\n",
      " [0.22323828]\n",
      " [0.22323828]\n",
      " [0.22323828]]\n"
     ]
    }
   ],
   "source": [
    "w = w0\n",
    "d = 0.85\n",
    "for i in range(100):\n",
    "    wi = (1 - d) / len(transition_arr) + d * np.dot(transition_arr, w)\n",
    "    if (wi - w).sum() == 0.:\n",
    "        print(f\"第{i}轮迭代，找到最终的影响力矩阵:\\n{w}\")\n",
    "        break\n",
    "    else:\n",
    "        w = wi"
   ]
  },
  {
   "cell_type": "markdown",
   "metadata": {},
   "source": [
    "虽然和简化模型的结果略微不同，但影响力的排序没有变化，仍然影响力最高的是A。"
   ]
  },
  {
   "cell_type": "markdown",
   "metadata": {},
   "source": [
    "# 3 总结："
   ]
  },
  {
   "cell_type": "markdown",
   "metadata": {},
   "source": [
    "- PageRank模型中，先根据出链和进链得到它们的转移矩阵，令初始影响力相等，转移矩阵与影响力矩阵的点乘结果是新的影响力矩阵，循环迭代计算点乘，直到得到的影响力矩阵不在变化，我们就得到最终的影响力矩阵。\n",
    "- 1中的简化版PageRank模型，没有考虑只有出度没有进度和只有进度没有出度的极端情况，所以并不适用于实际情况；\n",
    "- 2中的随机浏览模型，引入阻尼因子解决了1中没考虑的问题，使得到的结果更准确。"
   ]
  },
  {
   "cell_type": "code",
   "execution_count": null,
   "metadata": {},
   "outputs": [],
   "source": []
  }
 ],
 "metadata": {
  "kernelspec": {
   "display_name": "Python [conda env:envpy37]",
   "language": "python",
   "name": "conda-env-envpy37-py"
  },
  "language_info": {
   "codemirror_mode": {
    "name": "ipython",
    "version": 3
   },
   "file_extension": ".py",
   "mimetype": "text/x-python",
   "name": "python",
   "nbconvert_exporter": "python",
   "pygments_lexer": "ipython3",
   "version": "3.7.7"
  },
  "nbTranslate": {
   "displayLangs": [
    "*"
   ],
   "hotkey": "alt-t",
   "langInMainMenu": true,
   "sourceLang": "en",
   "targetLang": "fr",
   "useGoogleTranslate": true
  },
  "toc": {
   "base_numbering": 1,
   "nav_menu": {},
   "number_sections": false,
   "sideBar": true,
   "skip_h1_title": false,
   "title_cell": "Table of Contents",
   "title_sidebar": "Contents",
   "toc_cell": true,
   "toc_position": {},
   "toc_section_display": true,
   "toc_window_display": true
  },
  "varInspector": {
   "cols": {
    "lenName": 16,
    "lenType": 16,
    "lenVar": 40
   },
   "kernels_config": {
    "python": {
     "delete_cmd_postfix": "",
     "delete_cmd_prefix": "del ",
     "library": "var_list.py",
     "varRefreshCmd": "print(var_dic_list())"
    },
    "r": {
     "delete_cmd_postfix": ") ",
     "delete_cmd_prefix": "rm(",
     "library": "var_list.r",
     "varRefreshCmd": "cat(var_dic_list()) "
    }
   },
   "oldHeight": 122,
   "position": {
    "height": "40px",
    "left": "1058px",
    "right": "20px",
    "top": "88px",
    "width": "350px"
   },
   "types_to_exclude": [
    "module",
    "function",
    "builtin_function_or_method",
    "instance",
    "_Feature"
   ],
   "varInspector_section_display": "none",
   "window_display": true
  }
 },
 "nbformat": 4,
 "nbformat_minor": 4
}
