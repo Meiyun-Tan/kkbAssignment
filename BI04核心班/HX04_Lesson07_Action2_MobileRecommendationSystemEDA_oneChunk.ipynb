{
 "cells": [
  {
   "cell_type": "markdown",
   "metadata": {},
   "source": [
    "以下code仅对用户数据集的前100万个样本以及商品子集进行可视化探索"
   ]
  },
  {
   "cell_type": "markdown",
   "metadata": {
    "toc": true
   },
   "source": [
    "<h1>Table of Contents<span class=\"tocSkip\"></span></h1>\n",
    "<div class=\"toc\"><ul class=\"toc-item\"><li><span><a href=\"#1-加载数据集\" data-toc-modified-id=\"1-加载数据集-1\">1 加载数据集</a></span><ul class=\"toc-item\"><li><span><a href=\"#1.1-获取用户数据集前100万个样本\" data-toc-modified-id=\"1.1-获取用户数据集前100万个样本-1.1\">1.1 获取用户数据集前100万个样本</a></span><ul class=\"toc-item\"><li><span><a href=\"#1.1.1-填充缺失值\" data-toc-modified-id=\"1.1.1-填充缺失值-1.1.1\">1.1.1 填充缺失值</a></span></li><li><span><a href=\"#1.1.2-提取年月日为单独特征\" data-toc-modified-id=\"1.1.2-提取年月日为单独特征-1.1.2\">1.1.2 提取年月日为单独特征</a></span></li></ul></li><li><span><a href=\"#1.2-用户数据集EDA\" data-toc-modified-id=\"1.2-用户数据集EDA-1.2\">1.2 用户数据集EDA</a></span><ul class=\"toc-item\"><li><span><a href=\"#1.2.1-整体各用户行为占比可视化\" data-toc-modified-id=\"1.2.1-整体各用户行为占比可视化-1.2.1\">1.2.1 整体各用户行为占比可视化</a></span></li><li><span><a href=\"#1.2.2-每日转化率可视化\" data-toc-modified-id=\"1.2.2-每日转化率可视化-1.2.2\">1.2.2 每日转化率可视化</a></span></li><li><span><a href=\"#1.2.2-时间规律统计——每日用户行为总量可视化对比\" data-toc-modified-id=\"1.2.2-时间规律统计——每日用户行为总量可视化对比-1.2.3\">1.2.2 时间规律统计——每日用户行为总量可视化对比</a></span></li><li><span><a href=\"#1.2.3-时间规律统计——每日加购、收藏、下单量可视化对比\" data-toc-modified-id=\"1.2.3-时间规律统计——每日加购、收藏、下单量可视化对比-1.2.4\">1.2.3 时间规律统计——每日加购、收藏、下单量可视化对比</a></span></li><li><span><a href=\"#1.2.4-时间规律统计——每周收藏、加购、下单次数可视化对比\" data-toc-modified-id=\"1.2.4-时间规律统计——每周收藏、加购、下单次数可视化对比-1.2.5\">1.2.4 时间规律统计——每周收藏、加购、下单次数可视化对比</a></span></li><li><span><a href=\"#1.2.5-时间规律统计——双十二当天每小时用户行为变化对比\" data-toc-modified-id=\"1.2.5-时间规律统计——双十二当天每小时用户行为变化对比-1.2.6\">1.2.5 时间规律统计——双十二当天每小时用户行为变化对比</a></span><ul class=\"toc-item\"><li><span><a href=\"#1.2.5.1-每小时浏览量可视化\" data-toc-modified-id=\"1.2.5.1-每小时浏览量可视化-1.2.6.1\">1.2.5.1 每小时浏览量可视化</a></span></li><li><span><a href=\"#1.2.5.2-每小时收藏、加购、下单量可视化\" data-toc-modified-id=\"1.2.5.2-每小时收藏、加购、下单量可视化-1.2.6.2\">1.2.5.2 每小时收藏、加购、下单量可视化</a></span></li><li><span><a href=\"#1.2.5.3-每小时转化率可视化\" data-toc-modified-id=\"1.2.5.3-每小时转化率可视化-1.2.6.3\">1.2.5.3 每小时转化率可视化</a></span></li></ul></li></ul></li><li><span><a href=\"#1.3-获取商品子集\" data-toc-modified-id=\"1.3-获取商品子集-1.3\">1.3 获取商品子集</a></span><ul class=\"toc-item\"><li><span><a href=\"#1.3.1-读取数据集\" data-toc-modified-id=\"1.3.1-读取数据集-1.3.1\">1.3.1 读取数据集</a></span></li><li><span><a href=\"#1.3.2-获取对商品子集有行为的用户数据集\" data-toc-modified-id=\"1.3.2-获取对商品子集有行为的用户数据集-1.3.2\">1.3.2 获取对商品子集有行为的用户数据集</a></span></li><li><span><a href=\"#1.3.3-商品子集的用户各行为占比\" data-toc-modified-id=\"1.3.3-商品子集的用户各行为占比-1.3.3\">1.3.3 商品子集的用户各行为占比</a></span></li><li><span><a href=\"#1.3.4-商品子集每日用户行为总量可视化\" data-toc-modified-id=\"1.3.4-商品子集每日用户行为总量可视化-1.3.4\">1.3.4 商品子集每日用户行为总量可视化</a></span></li><li><span><a href=\"#1.3.5-商品子集每日浏览、收藏、加购、下单可视化\" data-toc-modified-id=\"1.3.5-商品子集每日浏览、收藏、加购、下单可视化-1.3.5\">1.3.5 商品子集每日浏览、收藏、加购、下单可视化</a></span></li></ul></li></ul></li></ul></div>"
   ]
  },
  {
   "cell_type": "markdown",
   "metadata": {},
   "source": [
    "Action2:    \n",
    "对移动推荐系统进行可视化数据探索    \n",
    "\n",
    "1.大赛数据抽样方式？    \n",
    "首先是抽取用户，从移动端对垂直行业商品在数据周期内（2014年11月18日 至 2014年12月19日） 有行为用户中抽取一定数量的用户，然后抽取这些用户在所有商品上的行为作为用户行为训练数据；抽取这些用户有行为的所有垂直行业商品作为商品子集，用户抽样的总体思想是随机抽样，同时保证预测日有购买的商品在训练周期内也是活跃商品（即排除预测日偶发购买的用户）。    \n",
    "\n",
    "训练数据集对应的时间区间为11.18~12.18，需要选手预测12.19用户商品购买对。    \n",
    "\n",
    "\n",
    "数据集https://tianchi.aliyun.com/competition/entrance/231522/information     \n",
    "\n",
    "tianchi_fresh_comp_train_item.csv    \n",
    "tianchi_fresh_comp_train_user.csv     \n",
    "比如时间规律统计，4种行为类别的对比…     "
   ]
  },
  {
   "cell_type": "code",
   "execution_count": 1,
   "metadata": {
    "ExecuteTime": {
     "end_time": "2020-10-07T12:35:06.372884Z",
     "start_time": "2020-10-07T12:35:06.366576Z"
    }
   },
   "outputs": [],
   "source": [
    "import os\n",
    "import calendar\n",
    "from datetime import datetime, timedelta"
   ]
  },
  {
   "cell_type": "code",
   "execution_count": 2,
   "metadata": {
    "ExecuteTime": {
     "end_time": "2020-10-07T12:35:08.220944Z",
     "start_time": "2020-10-07T12:35:06.377477Z"
    }
   },
   "outputs": [],
   "source": [
    "# gc用于回收内存中不使用的对象的模块\n",
    "import gc\n",
    "import numpy as np\n",
    "import pandas as pd\n",
    "import seaborn as sns\n",
    "from matplotlib import pyplot as plt\n",
    "from collections import defaultdict\n",
    "%matplotlib inline"
   ]
  },
  {
   "cell_type": "code",
   "execution_count": 3,
   "metadata": {
    "ExecuteTime": {
     "end_time": "2020-10-07T12:35:08.229313Z",
     "start_time": "2020-10-07T12:35:08.224099Z"
    }
   },
   "outputs": [],
   "source": [
    "from matplotlib.font_manager import FontProperties\n",
    "my_font = FontProperties(fname='/System/Library/Fonts/STHeiti Medium.ttc')"
   ]
  },
  {
   "cell_type": "code",
   "execution_count": 4,
   "metadata": {
    "ExecuteTime": {
     "end_time": "2020-10-07T12:35:08.239332Z",
     "start_time": "2020-10-07T12:35:08.232297Z"
    },
    "scrolled": true
   },
   "outputs": [
    {
     "data": {
      "text/plain": [
       "'1.1.0'"
      ]
     },
     "execution_count": 4,
     "metadata": {},
     "output_type": "execute_result"
    }
   ],
   "source": [
    "pd.__version__"
   ]
  },
  {
   "cell_type": "code",
   "execution_count": 5,
   "metadata": {
    "ExecuteTime": {
     "end_time": "2020-10-07T12:35:08.255431Z",
     "start_time": "2020-10-07T12:35:08.242586Z"
    },
    "scrolled": true
   },
   "outputs": [
    {
     "name": "stdout",
     "output_type": "stream",
     "text": [
      "   November 2014\n",
      "Mo Tu We Th Fr Sa Su\n",
      "                1  2\n",
      " 3  4  5  6  7  8  9\n",
      "10 11 12 13 14 15 16\n",
      "17 18 19 20 21 22 23\n",
      "24 25 26 27 28 29 30\n",
      "\n"
     ]
    }
   ],
   "source": [
    "print(calendar.month(2014, 11))"
   ]
  },
  {
   "cell_type": "code",
   "execution_count": 6,
   "metadata": {
    "ExecuteTime": {
     "end_time": "2020-10-07T12:35:08.264102Z",
     "start_time": "2020-10-07T12:35:08.258412Z"
    }
   },
   "outputs": [
    {
     "name": "stdout",
     "output_type": "stream",
     "text": [
      "   December 2014\n",
      "Mo Tu We Th Fr Sa Su\n",
      " 1  2  3  4  5  6  7\n",
      " 8  9 10 11 12 13 14\n",
      "15 16 17 18 19 20 21\n",
      "22 23 24 25 26 27 28\n",
      "29 30 31\n",
      "\n"
     ]
    }
   ],
   "source": [
    "print(calendar.month(2014, 12))"
   ]
  },
  {
   "cell_type": "markdown",
   "metadata": {},
   "source": [
    "11月18日为周二，12月19日为周五。"
   ]
  },
  {
   "cell_type": "code",
   "execution_count": 7,
   "metadata": {
    "ExecuteTime": {
     "end_time": "2020-10-07T12:35:08.280169Z",
     "start_time": "2020-10-07T12:35:08.273172Z"
    }
   },
   "outputs": [
    {
     "data": {
      "text/plain": [
       "DatetimeIndex(['2014-11-18', '2014-11-19', '2014-11-20', '2014-11-21',\n",
       "               '2014-11-22', '2014-11-23', '2014-11-24', '2014-11-25',\n",
       "               '2014-11-26', '2014-11-27', '2014-11-28', '2014-11-29',\n",
       "               '2014-11-30', '2014-12-01', '2014-12-02', '2014-12-03',\n",
       "               '2014-12-04', '2014-12-05', '2014-12-06', '2014-12-07',\n",
       "               '2014-12-08', '2014-12-09', '2014-12-10', '2014-12-11',\n",
       "               '2014-12-12', '2014-12-13', '2014-12-14', '2014-12-15',\n",
       "               '2014-12-16', '2014-12-17', '2014-12-18'],\n",
       "              dtype='datetime64[ns]', freq='D')"
      ]
     },
     "execution_count": 7,
     "metadata": {},
     "output_type": "execute_result"
    }
   ],
   "source": [
    "dateindex = pd.date_range('2014-11-18', '2014-12-18', freq='D')\n",
    "dateindex"
   ]
  },
  {
   "cell_type": "markdown",
   "metadata": {},
   "source": [
    "# 1 加载数据集"
   ]
  },
  {
   "cell_type": "code",
   "execution_count": 8,
   "metadata": {
    "ExecuteTime": {
     "end_time": "2020-10-07T12:35:08.288428Z",
     "start_time": "2020-10-07T12:35:08.285169Z"
    }
   },
   "outputs": [],
   "source": [
    "fpath = './移动推荐系统data/fresh_comp_offline/'"
   ]
  },
  {
   "cell_type": "code",
   "execution_count": 9,
   "metadata": {
    "ExecuteTime": {
     "end_time": "2020-10-07T12:35:08.295571Z",
     "start_time": "2020-10-07T12:35:08.291345Z"
    }
   },
   "outputs": [],
   "source": [
    "user_path = os.path.join(fpath, 'tianchi_fresh_comp_train_user.csv')\n",
    "item_path = os.path.join(fpath, 'tianchi_fresh_comp_train_item.csv')"
   ]
  },
  {
   "cell_type": "markdown",
   "metadata": {},
   "source": [
    "read_csv中有个参数chunksize,通过指定一个chunksize分块大小来读取文件,返回TextFileReader，需要for循环"
   ]
  },
  {
   "cell_type": "code",
   "execution_count": 10,
   "metadata": {
    "ExecuteTime": {
     "end_time": "2020-10-07T12:35:08.305963Z",
     "start_time": "2020-10-07T12:35:08.298610Z"
    }
   },
   "outputs": [],
   "source": [
    "train_u_chunks = pd.read_csv(user_path, parse_dates=['time'], chunksize=1000000)"
   ]
  },
  {
   "cell_type": "code",
   "execution_count": 11,
   "metadata": {
    "ExecuteTime": {
     "end_time": "2020-10-07T12:35:08.323835Z",
     "start_time": "2020-10-07T12:35:08.313339Z"
    }
   },
   "outputs": [
    {
     "data": {
      "text/plain": [
       "pandas.io.parsers.TextFileReader"
      ]
     },
     "execution_count": 11,
     "metadata": {},
     "output_type": "execute_result"
    }
   ],
   "source": [
    "type(train_u_chunks)"
   ]
  },
  {
   "cell_type": "code",
   "execution_count": 12,
   "metadata": {
    "ExecuteTime": {
     "end_time": "2020-10-07T12:35:08.334370Z",
     "start_time": "2020-10-07T12:35:08.327481Z"
    }
   },
   "outputs": [
    {
     "data": {
      "text/plain": [
       "1000000"
      ]
     },
     "execution_count": 12,
     "metadata": {},
     "output_type": "execute_result"
    }
   ],
   "source": [
    "train_u_chunks.chunksize"
   ]
  },
  {
   "cell_type": "markdown",
   "metadata": {},
   "source": [
    "## 1.1 获取用户数据集前100万个样本"
   ]
  },
  {
   "cell_type": "code",
   "execution_count": 13,
   "metadata": {
    "ExecuteTime": {
     "end_time": "2020-10-07T12:35:09.063451Z",
     "start_time": "2020-10-07T12:35:08.336338Z"
    }
   },
   "outputs": [],
   "source": [
    "train_users = train_u_chunks.get_chunk(1000000)"
   ]
  },
  {
   "cell_type": "code",
   "execution_count": 14,
   "metadata": {
    "ExecuteTime": {
     "end_time": "2020-10-07T12:35:09.083722Z",
     "start_time": "2020-10-07T12:35:09.065854Z"
    }
   },
   "outputs": [
    {
     "data": {
      "text/html": [
       "<div>\n",
       "<style scoped>\n",
       "    .dataframe tbody tr th:only-of-type {\n",
       "        vertical-align: middle;\n",
       "    }\n",
       "\n",
       "    .dataframe tbody tr th {\n",
       "        vertical-align: top;\n",
       "    }\n",
       "\n",
       "    .dataframe thead th {\n",
       "        text-align: right;\n",
       "    }\n",
       "</style>\n",
       "<table border=\"1\" class=\"dataframe\">\n",
       "  <thead>\n",
       "    <tr style=\"text-align: right;\">\n",
       "      <th></th>\n",
       "      <th>user_id</th>\n",
       "      <th>item_id</th>\n",
       "      <th>behavior_type</th>\n",
       "      <th>user_geohash</th>\n",
       "      <th>item_category</th>\n",
       "      <th>time</th>\n",
       "    </tr>\n",
       "  </thead>\n",
       "  <tbody>\n",
       "    <tr>\n",
       "      <th>0</th>\n",
       "      <td>10001082</td>\n",
       "      <td>285259775</td>\n",
       "      <td>1</td>\n",
       "      <td>97lk14c</td>\n",
       "      <td>4076</td>\n",
       "      <td>2014-12-08 18:00:00</td>\n",
       "    </tr>\n",
       "  </tbody>\n",
       "</table>\n",
       "</div>"
      ],
      "text/plain": [
       "    user_id    item_id  behavior_type user_geohash  item_category  \\\n",
       "0  10001082  285259775              1      97lk14c           4076   \n",
       "\n",
       "                 time  \n",
       "0 2014-12-08 18:00:00  "
      ]
     },
     "execution_count": 14,
     "metadata": {},
     "output_type": "execute_result"
    }
   ],
   "source": [
    "train_users.head(1)"
   ]
  },
  {
   "cell_type": "code",
   "execution_count": 15,
   "metadata": {
    "ExecuteTime": {
     "end_time": "2020-10-07T12:35:09.194908Z",
     "start_time": "2020-10-07T12:35:09.092746Z"
    },
    "scrolled": false
   },
   "outputs": [
    {
     "name": "stdout",
     "output_type": "stream",
     "text": [
      "<class 'pandas.core.frame.DataFrame'>\n",
      "RangeIndex: 1000000 entries, 0 to 999999\n",
      "Data columns (total 6 columns):\n",
      " #   Column         Non-Null Count    Dtype         \n",
      "---  ------         --------------    -----         \n",
      " 0   user_id        1000000 non-null  int64         \n",
      " 1   item_id        1000000 non-null  int64         \n",
      " 2   behavior_type  1000000 non-null  int64         \n",
      " 3   user_geohash   311637 non-null   object        \n",
      " 4   item_category  1000000 non-null  int64         \n",
      " 5   time           1000000 non-null  datetime64[ns]\n",
      "dtypes: datetime64[ns](1), int64(4), object(1)\n",
      "memory usage: 45.8+ MB\n"
     ]
    }
   ],
   "source": [
    "train_users.info()"
   ]
  },
  {
   "cell_type": "markdown",
   "metadata": {},
   "source": [
    "### 1.1.1 填充缺失值"
   ]
  },
  {
   "cell_type": "code",
   "execution_count": 16,
   "metadata": {
    "ExecuteTime": {
     "end_time": "2020-10-07T12:35:09.276254Z",
     "start_time": "2020-10-07T12:35:09.197810Z"
    }
   },
   "outputs": [
    {
     "data": {
      "text/plain": [
       "user_id               0\n",
       "item_id               0\n",
       "behavior_type         0\n",
       "user_geohash     688363\n",
       "item_category         0\n",
       "time                  0\n",
       "dtype: int64"
      ]
     },
     "execution_count": 16,
     "metadata": {},
     "output_type": "execute_result"
    }
   ],
   "source": [
    "train_users.isnull().sum()"
   ]
  },
  {
   "cell_type": "code",
   "execution_count": 17,
   "metadata": {
    "ExecuteTime": {
     "end_time": "2020-10-07T12:35:09.368284Z",
     "start_time": "2020-10-07T12:35:09.278685Z"
    }
   },
   "outputs": [],
   "source": [
    "train_users['user_geohash'] = train_users['user_geohash'].fillna('unknown')"
   ]
  },
  {
   "cell_type": "code",
   "execution_count": 18,
   "metadata": {
    "ExecuteTime": {
     "end_time": "2020-10-07T12:35:09.450367Z",
     "start_time": "2020-10-07T12:35:09.375156Z"
    }
   },
   "outputs": [
    {
     "data": {
      "text/plain": [
       "user_id          False\n",
       "item_id          False\n",
       "behavior_type    False\n",
       "user_geohash     False\n",
       "item_category    False\n",
       "time             False\n",
       "dtype: bool"
      ]
     },
     "execution_count": 18,
     "metadata": {},
     "output_type": "execute_result"
    }
   ],
   "source": [
    "train_users.isnull().any()"
   ]
  },
  {
   "cell_type": "code",
   "execution_count": 19,
   "metadata": {
    "ExecuteTime": {
     "end_time": "2020-10-07T12:35:09.466911Z",
     "start_time": "2020-10-07T12:35:09.455101Z"
    }
   },
   "outputs": [],
   "source": [
    "# train_users.to_csv('train_user_sample.csv', index=False)"
   ]
  },
  {
   "cell_type": "markdown",
   "metadata": {},
   "source": [
    "### 1.1.2 提取年月日为单独特征"
   ]
  },
  {
   "cell_type": "code",
   "execution_count": 20,
   "metadata": {
    "ExecuteTime": {
     "end_time": "2020-10-07T12:35:09.512076Z",
     "start_time": "2020-10-07T12:35:09.472418Z"
    }
   },
   "outputs": [
    {
     "data": {
      "text/html": [
       "<div>\n",
       "<style scoped>\n",
       "    .dataframe tbody tr th:only-of-type {\n",
       "        vertical-align: middle;\n",
       "    }\n",
       "\n",
       "    .dataframe tbody tr th {\n",
       "        vertical-align: top;\n",
       "    }\n",
       "\n",
       "    .dataframe thead th {\n",
       "        text-align: right;\n",
       "    }\n",
       "</style>\n",
       "<table border=\"1\" class=\"dataframe\">\n",
       "  <thead>\n",
       "    <tr style=\"text-align: right;\">\n",
       "      <th></th>\n",
       "      <th>user_id</th>\n",
       "      <th>item_id</th>\n",
       "      <th>behavior_type</th>\n",
       "      <th>user_geohash</th>\n",
       "      <th>item_category</th>\n",
       "      <th>time</th>\n",
       "    </tr>\n",
       "    <tr>\n",
       "      <th>time</th>\n",
       "      <th></th>\n",
       "      <th></th>\n",
       "      <th></th>\n",
       "      <th></th>\n",
       "      <th></th>\n",
       "      <th></th>\n",
       "    </tr>\n",
       "  </thead>\n",
       "  <tbody>\n",
       "    <tr>\n",
       "      <th>2014-12-08 18:00:00</th>\n",
       "      <td>10001082</td>\n",
       "      <td>285259775</td>\n",
       "      <td>1</td>\n",
       "      <td>97lk14c</td>\n",
       "      <td>4076</td>\n",
       "      <td>2014-12-08 18:00:00</td>\n",
       "    </tr>\n",
       "  </tbody>\n",
       "</table>\n",
       "</div>"
      ],
      "text/plain": [
       "                      user_id    item_id  behavior_type user_geohash  \\\n",
       "time                                                                   \n",
       "2014-12-08 18:00:00  10001082  285259775              1      97lk14c   \n",
       "\n",
       "                     item_category                time  \n",
       "time                                                    \n",
       "2014-12-08 18:00:00           4076 2014-12-08 18:00:00  "
      ]
     },
     "execution_count": 20,
     "metadata": {},
     "output_type": "execute_result"
    }
   ],
   "source": [
    "train_users = train_users.set_index(keys=['time'], drop=False)\n",
    "train_users.head(1)"
   ]
  },
  {
   "cell_type": "code",
   "execution_count": 21,
   "metadata": {
    "ExecuteTime": {
     "end_time": "2020-10-07T12:35:09.585395Z",
     "start_time": "2020-10-07T12:35:09.520740Z"
    }
   },
   "outputs": [],
   "source": [
    "train_users['year'] = train_users.index.year"
   ]
  },
  {
   "cell_type": "code",
   "execution_count": 22,
   "metadata": {
    "ExecuteTime": {
     "end_time": "2020-10-07T12:35:09.674182Z",
     "start_time": "2020-10-07T12:35:09.611153Z"
    }
   },
   "outputs": [],
   "source": [
    "train_users['month'] = train_users.index.month"
   ]
  },
  {
   "cell_type": "code",
   "execution_count": 23,
   "metadata": {
    "ExecuteTime": {
     "end_time": "2020-10-07T12:35:09.740422Z",
     "start_time": "2020-10-07T12:35:09.676884Z"
    }
   },
   "outputs": [],
   "source": [
    "train_users['day'] = train_users.index.day"
   ]
  },
  {
   "cell_type": "code",
   "execution_count": 24,
   "metadata": {
    "ExecuteTime": {
     "end_time": "2020-10-07T12:35:10.030735Z",
     "start_time": "2020-10-07T12:35:09.744213Z"
    }
   },
   "outputs": [],
   "source": [
    "train_users['date'] = train_users.index.date"
   ]
  },
  {
   "cell_type": "code",
   "execution_count": 25,
   "metadata": {
    "ExecuteTime": {
     "end_time": "2020-10-07T12:35:10.051661Z",
     "start_time": "2020-10-07T12:35:10.034502Z"
    }
   },
   "outputs": [
    {
     "data": {
      "text/html": [
       "<div>\n",
       "<style scoped>\n",
       "    .dataframe tbody tr th:only-of-type {\n",
       "        vertical-align: middle;\n",
       "    }\n",
       "\n",
       "    .dataframe tbody tr th {\n",
       "        vertical-align: top;\n",
       "    }\n",
       "\n",
       "    .dataframe thead th {\n",
       "        text-align: right;\n",
       "    }\n",
       "</style>\n",
       "<table border=\"1\" class=\"dataframe\">\n",
       "  <thead>\n",
       "    <tr style=\"text-align: right;\">\n",
       "      <th></th>\n",
       "      <th>user_id</th>\n",
       "      <th>item_id</th>\n",
       "      <th>behavior_type</th>\n",
       "      <th>user_geohash</th>\n",
       "      <th>item_category</th>\n",
       "      <th>time</th>\n",
       "      <th>year</th>\n",
       "      <th>month</th>\n",
       "      <th>day</th>\n",
       "      <th>date</th>\n",
       "    </tr>\n",
       "    <tr>\n",
       "      <th>time</th>\n",
       "      <th></th>\n",
       "      <th></th>\n",
       "      <th></th>\n",
       "      <th></th>\n",
       "      <th></th>\n",
       "      <th></th>\n",
       "      <th></th>\n",
       "      <th></th>\n",
       "      <th></th>\n",
       "      <th></th>\n",
       "    </tr>\n",
       "  </thead>\n",
       "  <tbody>\n",
       "    <tr>\n",
       "      <th>2014-12-08 18:00:00</th>\n",
       "      <td>10001082</td>\n",
       "      <td>285259775</td>\n",
       "      <td>1</td>\n",
       "      <td>97lk14c</td>\n",
       "      <td>4076</td>\n",
       "      <td>2014-12-08 18:00:00</td>\n",
       "      <td>2014</td>\n",
       "      <td>12</td>\n",
       "      <td>8</td>\n",
       "      <td>2014-12-08</td>\n",
       "    </tr>\n",
       "  </tbody>\n",
       "</table>\n",
       "</div>"
      ],
      "text/plain": [
       "                      user_id    item_id  behavior_type user_geohash  \\\n",
       "time                                                                   \n",
       "2014-12-08 18:00:00  10001082  285259775              1      97lk14c   \n",
       "\n",
       "                     item_category                time  year  month  day  \\\n",
       "time                                                                       \n",
       "2014-12-08 18:00:00           4076 2014-12-08 18:00:00  2014     12    8   \n",
       "\n",
       "                           date  \n",
       "time                             \n",
       "2014-12-08 18:00:00  2014-12-08  "
      ]
     },
     "execution_count": 25,
     "metadata": {},
     "output_type": "execute_result"
    }
   ],
   "source": [
    "train_users.head(1)"
   ]
  },
  {
   "cell_type": "code",
   "execution_count": 26,
   "metadata": {
    "ExecuteTime": {
     "end_time": "2020-10-07T12:35:10.068479Z",
     "start_time": "2020-10-07T12:35:10.057451Z"
    }
   },
   "outputs": [
    {
     "data": {
      "text/plain": [
       "(Timestamp('2014-11-18 00:00:00'), Timestamp('2014-12-18 23:00:00'))"
      ]
     },
     "execution_count": 26,
     "metadata": {},
     "output_type": "execute_result"
    }
   ],
   "source": [
    "train_users.index.min(), train_users.index.max(),"
   ]
  },
  {
   "cell_type": "markdown",
   "metadata": {},
   "source": [
    "## 1.2 用户数据集EDA\n",
    "统计信息字典statistics_infos 包含：用户行为类型下的value_counts，包含多少个用户，这些用户对多少商品、多少类目有行为"
   ]
  },
  {
   "cell_type": "markdown",
   "metadata": {},
   "source": [
    "### 1.2.1 整体各用户行为占比可视化"
   ]
  },
  {
   "cell_type": "code",
   "execution_count": 27,
   "metadata": {
    "ExecuteTime": {
     "end_time": "2020-10-07T12:35:10.082740Z",
     "start_time": "2020-10-07T12:35:10.075037Z"
    }
   },
   "outputs": [],
   "source": [
    "def plot_pie_of_behavior(df, title):\n",
    "    \"\"\"绘制用户行为占比饼图\"\"\"\n",
    "    sns.set_context(context='talk', font_scale=0.8)\n",
    "    # 设置图片风格\n",
    "    sns.set_style(style='darkgrid')\n",
    "    # 设置调色盘\n",
    "    sns.set_palette(palette='husl')\n",
    "    plt.figure(figsize=(8, 6))\n",
    "    textprops = {'fontsize': 14, 'color': 'black', 'fontproperties': my_font}\n",
    "    df.plot(kind='pie',\n",
    "            autopct='%1.2f%%',\n",
    "            explode=(0, 0, 0.2, 0.6),\n",
    "            shadow=True,\n",
    "            textprops=textprops)\n",
    "    plt.legend(loc=1)\n",
    "    plt.title(title, fontproperties=my_font, size=30, pad=30)\n",
    "    plt.show()"
   ]
  },
  {
   "cell_type": "code",
   "execution_count": 28,
   "metadata": {
    "ExecuteTime": {
     "end_time": "2020-10-07T12:35:10.100892Z",
     "start_time": "2020-10-07T12:35:10.086949Z"
    }
   },
   "outputs": [
    {
     "data": {
      "text/plain": [
       "1    939918\n",
       "3     28302\n",
       "2     22067\n",
       "4      9713\n",
       "Name: behavior_type, dtype: int64"
      ]
     },
     "execution_count": 28,
     "metadata": {},
     "output_type": "execute_result"
    }
   ],
   "source": [
    "# 用户行为类型：浏览、收藏、加购物车、购买，对应取值分别是1、2、3、4\n",
    "behavior_types = train_users['behavior_type'].value_counts()\n",
    "behavior_types"
   ]
  },
  {
   "cell_type": "code",
   "execution_count": 29,
   "metadata": {
    "ExecuteTime": {
     "end_time": "2020-10-07T12:35:10.246297Z",
     "start_time": "2020-10-07T12:35:10.104445Z"
    }
   },
   "outputs": [
    {
     "data": {
      "image/png": "[encoded data removed]",
      "text/plain": [
       "<Figure size 576x432 with 1 Axes>"
      ]
     },
     "metadata": {},
     "output_type": "display_data"
    }
   ],
   "source": [
    "plot_pie_of_behavior(behavior_types, title=\"整体各用户行为占比\")"
   ]
  },
  {
   "cell_type": "code",
   "execution_count": 30,
   "metadata": {
    "ExecuteTime": {
     "end_time": "2020-10-07T12:35:10.255758Z",
     "start_time": "2020-10-07T12:35:10.248887Z"
    }
   },
   "outputs": [
    {
     "data": {
      "text/plain": [
       "defaultdict(list, {})"
      ]
     },
     "execution_count": 30,
     "metadata": {},
     "output_type": "execute_result"
    }
   ],
   "source": [
    "statistics_infos = defaultdict(list)\n",
    "statistics_infos"
   ]
  },
  {
   "cell_type": "code",
   "execution_count": 31,
   "metadata": {
    "ExecuteTime": {
     "end_time": "2020-10-07T12:35:10.263255Z",
     "start_time": "2020-10-07T12:35:10.258468Z"
    }
   },
   "outputs": [],
   "source": [
    "statistics_infos['behavior_types'].append(behavior_types)"
   ]
  },
  {
   "cell_type": "code",
   "execution_count": 32,
   "metadata": {
    "ExecuteTime": {
     "end_time": "2020-10-07T12:35:10.291119Z",
     "start_time": "2020-10-07T12:35:10.266253Z"
    }
   },
   "outputs": [
    {
     "data": {
      "text/plain": [
       "[799]"
      ]
     },
     "execution_count": 32,
     "metadata": {},
     "output_type": "execute_result"
    }
   ],
   "source": [
    "# 第一个chunks有799个用户\n",
    "statistics_infos['NumOfUsers'].append(train_users['user_id'].nunique())\n",
    "statistics_infos['NumOfUsers']"
   ]
  },
  {
   "cell_type": "code",
   "execution_count": 33,
   "metadata": {
    "ExecuteTime": {
     "end_time": "2020-10-07T12:35:10.313473Z",
     "start_time": "2020-10-07T12:35:10.294029Z"
    }
   },
   "outputs": [
    {
     "data": {
      "text/plain": [
       "[5364]"
      ]
     },
     "execution_count": 33,
     "metadata": {},
     "output_type": "execute_result"
    }
   ],
   "source": [
    "# 第一个chunks有799个用户对5364个类目有行为\n",
    "statistics_infos['NumofItemCate'].append(train_users['item_category'].nunique())\n",
    "statistics_infos['NumofItemCate']"
   ]
  },
  {
   "cell_type": "code",
   "execution_count": 34,
   "metadata": {
    "ExecuteTime": {
     "end_time": "2020-10-07T12:35:10.351120Z",
     "start_time": "2020-10-07T12:35:10.317915Z"
    }
   },
   "outputs": [
    {
     "data": {
      "text/plain": [
       "[336889]"
      ]
     },
     "execution_count": 34,
     "metadata": {},
     "output_type": "execute_result"
    }
   ],
   "source": [
    "# 第一个chunks有799个用户对336889个商品有行为\n",
    "statistics_infos['NumofItems'].append(train_users['item_id'].nunique())\n",
    "statistics_infos['NumofItems']"
   ]
  },
  {
   "cell_type": "markdown",
   "metadata": {},
   "source": [
    "### 1.2.2 每日转化率可视化\n",
    "下单人数/浏览人数"
   ]
  },
  {
   "cell_type": "code",
   "execution_count": 35,
   "metadata": {
    "ExecuteTime": {
     "end_time": "2020-10-07T12:35:10.360069Z",
     "start_time": "2020-10-07T12:35:10.353850Z"
    },
    "scrolled": true
   },
   "outputs": [
    {
     "name": "stdout",
     "output_type": "stream",
     "text": [
      "整体转化率: 0.97%\n"
     ]
    }
   ],
   "source": [
    "# 计算转化率\n",
    "CVR = behavior_types[4] / behavior_types.sum()\n",
    "print(\"整体转化率: %.2f%%\" % (CVR * 100))"
   ]
  },
  {
   "cell_type": "code",
   "execution_count": 36,
   "metadata": {
    "ExecuteTime": {
     "end_time": "2020-10-07T12:35:10.770476Z",
     "start_time": "2020-10-07T12:35:10.364334Z"
    }
   },
   "outputs": [
    {
     "data": {
      "text/html": [
       "<div>\n",
       "<style scoped>\n",
       "    .dataframe tbody tr th:only-of-type {\n",
       "        vertical-align: middle;\n",
       "    }\n",
       "\n",
       "    .dataframe tbody tr th {\n",
       "        vertical-align: top;\n",
       "    }\n",
       "\n",
       "    .dataframe thead th {\n",
       "        text-align: right;\n",
       "    }\n",
       "</style>\n",
       "<table border=\"1\" class=\"dataframe\">\n",
       "  <thead>\n",
       "    <tr style=\"text-align: right;\">\n",
       "      <th>behavior_type</th>\n",
       "      <th>1</th>\n",
       "      <th>2</th>\n",
       "      <th>3</th>\n",
       "      <th>4</th>\n",
       "    </tr>\n",
       "    <tr>\n",
       "      <th>date</th>\n",
       "      <th></th>\n",
       "      <th></th>\n",
       "      <th></th>\n",
       "      <th></th>\n",
       "    </tr>\n",
       "  </thead>\n",
       "  <tbody>\n",
       "    <tr>\n",
       "      <th>2014-11-18</th>\n",
       "      <td>27925</td>\n",
       "      <td>635</td>\n",
       "      <td>904</td>\n",
       "      <td>316</td>\n",
       "    </tr>\n",
       "    <tr>\n",
       "      <th>2014-11-19</th>\n",
       "      <td>27123</td>\n",
       "      <td>646</td>\n",
       "      <td>747</td>\n",
       "      <td>233</td>\n",
       "    </tr>\n",
       "  </tbody>\n",
       "</table>\n",
       "</div>"
      ],
      "text/plain": [
       "behavior_type      1    2    3    4\n",
       "date                               \n",
       "2014-11-18     27925  635  904  316\n",
       "2014-11-19     27123  646  747  233"
      ]
     },
     "execution_count": 36,
     "metadata": {},
     "output_type": "execute_result"
    }
   ],
   "source": [
    "# 统计每日频数\n",
    "daily_behav = pd.pivot_table(train_users, index='date', columns='behavior_type', values='user_id', aggfunc='count')\n",
    "daily_behav.head(2)"
   ]
  },
  {
   "cell_type": "code",
   "execution_count": 37,
   "metadata": {
    "ExecuteTime": {
     "end_time": "2020-10-07T12:35:10.779944Z",
     "start_time": "2020-10-07T12:35:10.773455Z"
    }
   },
   "outputs": [],
   "source": [
    "daily_behav['CVR'] = daily_behav[4] / daily_behav.sum(axis=1)"
   ]
  },
  {
   "cell_type": "code",
   "execution_count": 38,
   "metadata": {
    "ExecuteTime": {
     "end_time": "2020-10-07T12:35:10.794097Z",
     "start_time": "2020-10-07T12:35:10.784021Z"
    }
   },
   "outputs": [
    {
     "data": {
      "text/html": [
       "<div>\n",
       "<style scoped>\n",
       "    .dataframe tbody tr th:only-of-type {\n",
       "        vertical-align: middle;\n",
       "    }\n",
       "\n",
       "    .dataframe tbody tr th {\n",
       "        vertical-align: top;\n",
       "    }\n",
       "\n",
       "    .dataframe thead th {\n",
       "        text-align: right;\n",
       "    }\n",
       "</style>\n",
       "<table border=\"1\" class=\"dataframe\">\n",
       "  <thead>\n",
       "    <tr style=\"text-align: right;\">\n",
       "      <th>behavior_type</th>\n",
       "      <th>1</th>\n",
       "      <th>2</th>\n",
       "      <th>3</th>\n",
       "      <th>4</th>\n",
       "      <th>CVR</th>\n",
       "    </tr>\n",
       "    <tr>\n",
       "      <th>date</th>\n",
       "      <th></th>\n",
       "      <th></th>\n",
       "      <th></th>\n",
       "      <th></th>\n",
       "      <th></th>\n",
       "    </tr>\n",
       "  </thead>\n",
       "  <tbody>\n",
       "    <tr>\n",
       "      <th>2014-11-18</th>\n",
       "      <td>27925</td>\n",
       "      <td>635</td>\n",
       "      <td>904</td>\n",
       "      <td>316</td>\n",
       "      <td>0.010611</td>\n",
       "    </tr>\n",
       "    <tr>\n",
       "      <th>2014-11-19</th>\n",
       "      <td>27123</td>\n",
       "      <td>646</td>\n",
       "      <td>747</td>\n",
       "      <td>233</td>\n",
       "      <td>0.008105</td>\n",
       "    </tr>\n",
       "  </tbody>\n",
       "</table>\n",
       "</div>"
      ],
      "text/plain": [
       "behavior_type      1    2    3    4       CVR\n",
       "date                                         \n",
       "2014-11-18     27925  635  904  316  0.010611\n",
       "2014-11-19     27123  646  747  233  0.008105"
      ]
     },
     "execution_count": 38,
     "metadata": {},
     "output_type": "execute_result"
    }
   ],
   "source": [
    "daily_behav.head(2)"
   ]
  },
  {
   "cell_type": "code",
   "execution_count": 39,
   "metadata": {
    "ExecuteTime": {
     "end_time": "2020-10-07T12:35:11.097938Z",
     "start_time": "2020-10-07T12:35:10.797954Z"
    }
   },
   "outputs": [
    {
     "data": {
      "image/png": "[encoded data removed]",
      "text/plain": [
       "<Figure size 720x360 with 1 Axes>"
      ]
     },
     "metadata": {},
     "output_type": "display_data"
    }
   ],
   "source": [
    "plt.figure(figsize=(10, 5))\n",
    "daily_behav['CVR'].plot(kind='line', rot=90, ylabel='CTR')\n",
    "plt.title(\"Daily CVR Trends\")\n",
    "plt.show()"
   ]
  },
  {
   "cell_type": "code",
   "execution_count": 40,
   "metadata": {
    "ExecuteTime": {
     "end_time": "2020-10-07T12:35:11.167293Z",
     "start_time": "2020-10-07T12:35:11.102571Z"
    }
   },
   "outputs": [
    {
     "data": {
      "text/plain": [
       "5303"
      ]
     },
     "execution_count": 40,
     "metadata": {},
     "output_type": "execute_result"
    }
   ],
   "source": [
    "# 指定从内存中删除behavior_types\n",
    "del behavior_types\n",
    "# 执行上述操作\n",
    "gc.collect()"
   ]
  },
  {
   "cell_type": "markdown",
   "metadata": {},
   "source": [
    "### 1.2.2 时间规律统计——每日用户行为总量可视化对比"
   ]
  },
  {
   "cell_type": "code",
   "execution_count": 41,
   "metadata": {
    "ExecuteTime": {
     "end_time": "2020-10-07T12:35:11.313450Z",
     "start_time": "2020-10-07T12:35:11.170652Z"
    }
   },
   "outputs": [
    {
     "data": {
      "text/plain": [
       "2014-11-18    29780\n",
       "Name: date, dtype: int64"
      ]
     },
     "execution_count": 41,
     "metadata": {},
     "output_type": "execute_result"
    }
   ],
   "source": [
    "count_day = train_users['date'].value_counts().sort_index()\n",
    "count_day[:1]"
   ]
  },
  {
   "cell_type": "code",
   "execution_count": 42,
   "metadata": {
    "ExecuteTime": {
     "end_time": "2020-10-07T12:35:11.324449Z",
     "start_time": "2020-10-07T12:35:11.317875Z"
    }
   },
   "outputs": [],
   "source": [
    "# Series转为DataFrame\n",
    "count_day = pd.DataFrame(count_day)"
   ]
  },
  {
   "cell_type": "code",
   "execution_count": 43,
   "metadata": {
    "ExecuteTime": {
     "end_time": "2020-10-07T12:35:11.333010Z",
     "start_time": "2020-10-07T12:35:11.328575Z"
    }
   },
   "outputs": [],
   "source": [
    "count_day.columns = ['daily_freq']"
   ]
  },
  {
   "cell_type": "code",
   "execution_count": 44,
   "metadata": {
    "ExecuteTime": {
     "end_time": "2020-10-07T12:35:11.347409Z",
     "start_time": "2020-10-07T12:35:11.336151Z"
    },
    "scrolled": true
   },
   "outputs": [
    {
     "data": {
      "text/html": [
       "<div>\n",
       "<style scoped>\n",
       "    .dataframe tbody tr th:only-of-type {\n",
       "        vertical-align: middle;\n",
       "    }\n",
       "\n",
       "    .dataframe tbody tr th {\n",
       "        vertical-align: top;\n",
       "    }\n",
       "\n",
       "    .dataframe thead th {\n",
       "        text-align: right;\n",
       "    }\n",
       "</style>\n",
       "<table border=\"1\" class=\"dataframe\">\n",
       "  <thead>\n",
       "    <tr style=\"text-align: right;\">\n",
       "      <th></th>\n",
       "      <th>daily_freq</th>\n",
       "    </tr>\n",
       "  </thead>\n",
       "  <tbody>\n",
       "    <tr>\n",
       "      <th>2014-11-18</th>\n",
       "      <td>29780</td>\n",
       "    </tr>\n",
       "    <tr>\n",
       "      <th>2014-11-19</th>\n",
       "      <td>28749</td>\n",
       "    </tr>\n",
       "  </tbody>\n",
       "</table>\n",
       "</div>"
      ],
      "text/plain": [
       "            daily_freq\n",
       "2014-11-18       29780\n",
       "2014-11-19       28749"
      ]
     },
     "execution_count": 44,
     "metadata": {},
     "output_type": "execute_result"
    }
   ],
   "source": [
    "count_day.head(2)"
   ]
  },
  {
   "cell_type": "code",
   "execution_count": 45,
   "metadata": {
    "ExecuteTime": {
     "end_time": "2020-10-07T12:35:11.356345Z",
     "start_time": "2020-10-07T12:35:11.352345Z"
    },
    "code_folding": []
   },
   "outputs": [],
   "source": [
    "# index从字符类型转为DatetimeIndex\n",
    "count_day.index = pd.to_datetime(count_day.index)"
   ]
  },
  {
   "cell_type": "code",
   "execution_count": 46,
   "metadata": {
    "ExecuteTime": {
     "end_time": "2020-10-07T12:35:11.374952Z",
     "start_time": "2020-10-07T12:35:11.359505Z"
    }
   },
   "outputs": [
    {
     "data": {
      "text/plain": [
       "DatetimeIndex(['2014-11-18', '2014-11-19', '2014-11-20', '2014-11-21'], dtype='datetime64[ns]', freq=None)"
      ]
     },
     "execution_count": 46,
     "metadata": {},
     "output_type": "execute_result"
    }
   ],
   "source": [
    "count_day.index[:4]"
   ]
  },
  {
   "cell_type": "code",
   "execution_count": 47,
   "metadata": {
    "ExecuteTime": {
     "end_time": "2020-10-07T12:35:11.398238Z",
     "start_time": "2020-10-07T12:35:11.384691Z"
    }
   },
   "outputs": [
    {
     "data": {
      "text/plain": [
       "daily_freq    55379\n",
       "Name: 2014-12-12 00:00:00, dtype: int64"
      ]
     },
     "execution_count": 47,
     "metadata": {},
     "output_type": "execute_result"
    }
   ],
   "source": [
    "# 转为DatetimeIndex后，可以通过字符串进行索引\n",
    "count_day.loc['2014-12-12']"
   ]
  },
  {
   "cell_type": "code",
   "execution_count": 48,
   "metadata": {
    "ExecuteTime": {
     "end_time": "2020-10-07T12:35:11.858115Z",
     "start_time": "2020-10-07T12:35:11.401619Z"
    }
   },
   "outputs": [
    {
     "data": {
      "image/png": "[encoded data removed]",
      "text/plain": [
       "<Figure size 1152x360 with 1 Axes>"
      ]
     },
     "metadata": {},
     "output_type": "display_data"
    }
   ],
   "source": [
    "def show_daily_behabior_freq(count_day, isdate=True, title='Users Daily Behavior Frequency'):\n",
    "    \"\"\"绘制每日用户行为总频数条形图; \n",
    "    isdate:bool, 默认True,表示x坐标轴显示日期;False,表示x坐标轴显示周名称\n",
    "    \"\"\"\n",
    "    # 设置字体和字号\n",
    "    sns.set_context(context='talk', font_scale=0.8)\n",
    "    # 设置图片风格\n",
    "    sns.set_style(style='darkgrid')\n",
    "    # 设置调色盘\n",
    "    sns.set_palette(palette='husl')\n",
    "    \"\"\"\n",
    "    与count_day.plot()代码等价\n",
    "    plt.figure(figsize=(10, 8))\n",
    "    plt.bar(range(count_day.shape[0]), count_day['daily_freq'])\n",
    "    # 设置x轴文本刻度\n",
    "    plt.xticks(range(count_day.shape[0]), count_day.index.day_name(), rotation=90)\n",
    "    plt.title('User Daily Active Frequency')\n",
    "    \"\"\"\n",
    "\n",
    "    count_day.plot(kind='bar',\n",
    "                   rot=45,\n",
    "                   figsize=(16, 5),\n",
    "                   use_index=False,\n",
    "                   title=title)\n",
    "    if isdate:\n",
    "        plt.xticks(range(count_day.shape[0]), count_day.index.date, rotation=80)\n",
    "    else:\n",
    "        plt.xticks(range(count_day.shape[0]), count_day.index.day_name(), rotation=80)\n",
    "    plt.show()\n",
    "    \n",
    "    \n",
    "show_daily_behabior_freq(count_day, isdate=True)"
   ]
  },
  {
   "cell_type": "markdown",
   "metadata": {},
   "source": [
    "周末用户活跃度较高。另外双十二当天(数据集最后一个Friday)数据偏高。"
   ]
  },
  {
   "cell_type": "code",
   "execution_count": 49,
   "metadata": {
    "ExecuteTime": {
     "end_time": "2020-10-07T12:35:11.915890Z",
     "start_time": "2020-10-07T12:35:11.860507Z"
    }
   },
   "outputs": [
    {
     "data": {
      "text/plain": [
       "5868"
      ]
     },
     "execution_count": 49,
     "metadata": {},
     "output_type": "execute_result"
    }
   ],
   "source": [
    "del count_day\n",
    "gc.collect()"
   ]
  },
  {
   "cell_type": "markdown",
   "metadata": {},
   "source": [
    "### 1.2.3 时间规律统计——每日加购、收藏、下单量可视化对比\n",
    "用户行为类型：浏览、收藏、加购物车、购买，对应取值分别是1、2、3、4"
   ]
  },
  {
   "cell_type": "markdown",
   "metadata": {},
   "source": [
    "- 1.2.1饼图中，可知浏览行为占比93%以上，可判断浏览行为的每日频数与每日整体行为频数趋势基本一致。且由于浏览行为频数过高，导致其他行为可视化时不清晰，故下面可视化时不绘制浏览行为，只绘制加购、收藏和下单在每一天的频数统计图。以下两种绘制方法都可以实现可视化目的：\n",
    "    - 第一种：sns.countplot绘制水平条形图，但图占据篇幅太大，所以换了第二种；\n",
    "    - 第二种：sns.catplot的绘制方法，每个用户行为绘制一个子图，考虑坐标轴刻度尽可能简洁，故按day统计，为了让它将11月的18日与12月的18日的数据分开统计，所以按月分组。"
   ]
  },
  {
   "cell_type": "code",
   "execution_count": 50,
   "metadata": {
    "ExecuteTime": {
     "end_time": "2020-10-07T12:35:11.932207Z",
     "start_time": "2020-10-07T12:35:11.924045Z"
    }
   },
   "outputs": [
    {
     "data": {
      "text/plain": [
       "\"\\n方法1：按日期统计各行为频数并可视化——水平条形图，不包括浏览行为\\nplt.figure(figsize=(10, 30))\\nsns.countplot(\\n    y='date', \\n    hue='behavior_type', \\n    order=dateindex.date, \\n    data=train_users[train_users['behavior_type'] != 1])\\n\\nplt.show()\\n\""
      ]
     },
     "execution_count": 50,
     "metadata": {},
     "output_type": "execute_result"
    }
   ],
   "source": [
    "\"\"\"\n",
    "方法1：按日期统计各行为频数并可视化——水平条形图，不包括浏览行为\n",
    "plt.figure(figsize=(10, 30))\n",
    "sns.countplot(\n",
    "    y='date', \n",
    "    hue='behavior_type', \n",
    "    order=dateindex.date, \n",
    "    data=train_users[train_users['behavior_type'] != 1])\n",
    "\n",
    "plt.show()\n",
    "\"\"\"\n"
   ]
  },
  {
   "cell_type": "code",
   "execution_count": 51,
   "metadata": {
    "ExecuteTime": {
     "end_time": "2020-10-07T12:35:13.432016Z",
     "start_time": "2020-10-07T12:35:11.935144Z"
    },
    "scrolled": false
   },
   "outputs": [
    {
     "data": {
      "image/png": "[encoded data removed]",
      "text/plain": [
       "<Figure size 1440x720 with 3 Axes>"
      ]
     },
     "metadata": {},
     "output_type": "display_data"
    }
   ],
   "source": [
    "# 方法2：玫红色为11月，橄榄绿是12月\n",
    "g = sns.catplot(x=\"day\",\n",
    "                hue=\"month\",  # 分组统计的字段\n",
    "                col=\"behavior_type\",  #  子图分类字段\n",
    "                data=train_users[train_users['behavior_type'] != 1], # 不绘制浏览行为的统计图\n",
    "                kind=\"count\",  # 绘制countplot\n",
    "                col_wrap=2,    # 每列最多2个子图\n",
    "                legend_out=False,    # 默认True，表示图像自动扩展、图例显示在右侧中间位置；设置False，代表显示在图像中\n",
    "                height=5,   # 图像高度\n",
    "                aspect=2,   # aspect * height 代表一个子图的宽度\n",
    "                order=list(range(18, 31)) + list(range(1, 18)))\n",
    "g.set_titles(col_template=\"Daily Frequency Of Behavior:{col_name}\",\n",
    "             row_template=\"{row_name}\")\n",
    "plt.show()"
   ]
  },
  {
   "cell_type": "code",
   "execution_count": 52,
   "metadata": {
    "ExecuteTime": {
     "end_time": "2020-10-07T12:35:13.439973Z",
     "start_time": "2020-10-07T12:35:13.434688Z"
    }
   },
   "outputs": [
    {
     "name": "stdout",
     "output_type": "stream",
     "text": [
      "   November 2014\n",
      "Mo Tu We Th Fr Sa Su\n",
      "                1  2\n",
      " 3  4  5  6  7  8  9\n",
      "10 11 12 13 14 15 16\n",
      "17 18 19 20 21 22 23\n",
      "24 25 26 27 28 29 30\n",
      "\n",
      "   December 2014\n",
      "Mo Tu We Th Fr Sa Su\n",
      " 1  2  3  4  5  6  7\n",
      " 8  9 10 11 12 13 14\n",
      "15 16 17 18 19 20 21\n",
      "22 23 24 25 26 27 28\n",
      "29 30 31\n",
      "\n"
     ]
    }
   ],
   "source": [
    "print(calendar.month(2014, 11))\n",
    "print(calendar.month(2014, 12))"
   ]
  },
  {
   "cell_type": "markdown",
   "metadata": {
    "ExecuteTime": {
     "end_time": "2020-10-06T07:53:28.014080Z",
     "start_time": "2020-10-06T07:53:27.729830Z"
    }
   },
   "source": [
    "- 与浏览行为一样，在双十二当天，不管是收藏、加购、下单的频数也都是最高的；\n",
    "- 12月18日的收藏行为与11月18日的收藏行为频数十分接近，有意思的是，加购、下单的频数也是同样的表现，**那会不会12月19日会和11月19日的数据接近但略低呢？**等待后续预测后验证。"
   ]
  },
  {
   "cell_type": "markdown",
   "metadata": {},
   "source": [
    "### 1.2.4 时间规律统计——每周收藏、加购、下单次数可视化对比"
   ]
  },
  {
   "cell_type": "code",
   "execution_count": 53,
   "metadata": {
    "ExecuteTime": {
     "end_time": "2020-10-07T12:35:13.461087Z",
     "start_time": "2020-10-07T12:35:13.443007Z"
    }
   },
   "outputs": [
    {
     "data": {
      "text/html": [
       "<div>\n",
       "<style scoped>\n",
       "    .dataframe tbody tr th:only-of-type {\n",
       "        vertical-align: middle;\n",
       "    }\n",
       "\n",
       "    .dataframe tbody tr th {\n",
       "        vertical-align: top;\n",
       "    }\n",
       "\n",
       "    .dataframe thead th {\n",
       "        text-align: right;\n",
       "    }\n",
       "</style>\n",
       "<table border=\"1\" class=\"dataframe\">\n",
       "  <thead>\n",
       "    <tr style=\"text-align: right;\">\n",
       "      <th>behavior_type</th>\n",
       "      <th>1</th>\n",
       "      <th>2</th>\n",
       "      <th>3</th>\n",
       "      <th>4</th>\n",
       "      <th>CVR</th>\n",
       "    </tr>\n",
       "    <tr>\n",
       "      <th>time</th>\n",
       "      <th></th>\n",
       "      <th></th>\n",
       "      <th></th>\n",
       "      <th></th>\n",
       "      <th></th>\n",
       "    </tr>\n",
       "  </thead>\n",
       "  <tbody>\n",
       "    <tr>\n",
       "      <th>2014-11-23</th>\n",
       "      <td>168247</td>\n",
       "      <td>4082</td>\n",
       "      <td>4773</td>\n",
       "      <td>1634</td>\n",
       "      <td>0.054965</td>\n",
       "    </tr>\n",
       "    <tr>\n",
       "      <th>2014-11-30</th>\n",
       "      <td>191810</td>\n",
       "      <td>4371</td>\n",
       "      <td>5299</td>\n",
       "      <td>1915</td>\n",
       "      <td>0.065637</td>\n",
       "    </tr>\n",
       "    <tr>\n",
       "      <th>2014-12-07</th>\n",
       "      <td>215359</td>\n",
       "      <td>5189</td>\n",
       "      <td>6345</td>\n",
       "      <td>1854</td>\n",
       "      <td>0.056907</td>\n",
       "    </tr>\n",
       "    <tr>\n",
       "      <th>2014-12-14</th>\n",
       "      <td>246730</td>\n",
       "      <td>5837</td>\n",
       "      <td>8425</td>\n",
       "      <td>3063</td>\n",
       "      <td>0.075012</td>\n",
       "    </tr>\n",
       "    <tr>\n",
       "      <th>2014-12-21</th>\n",
       "      <td>117772</td>\n",
       "      <td>2588</td>\n",
       "      <td>3460</td>\n",
       "      <td>1247</td>\n",
       "      <td>0.039866</td>\n",
       "    </tr>\n",
       "  </tbody>\n",
       "</table>\n",
       "</div>"
      ],
      "text/plain": [
       "behavior_type       1     2     3     4       CVR\n",
       "time                                             \n",
       "2014-11-23     168247  4082  4773  1634  0.054965\n",
       "2014-11-30     191810  4371  5299  1915  0.065637\n",
       "2014-12-07     215359  5189  6345  1854  0.056907\n",
       "2014-12-14     246730  5837  8425  3063  0.075012\n",
       "2014-12-21     117772  2588  3460  1247  0.039866"
      ]
     },
     "execution_count": 53,
     "metadata": {},
     "output_type": "execute_result"
    }
   ],
   "source": [
    "daily_behav['time'] = dateindex\n",
    "weekly_behav = daily_behav.resample('W', on='time').sum()\n",
    "weekly_behav"
   ]
  },
  {
   "cell_type": "code",
   "execution_count": 54,
   "metadata": {
    "ExecuteTime": {
     "end_time": "2020-10-07T12:35:13.531747Z",
     "start_time": "2020-10-07T12:35:13.464502Z"
    }
   },
   "outputs": [
    {
     "data": {
      "text/html": [
       "<div>\n",
       "<style scoped>\n",
       "    .dataframe tbody tr th:only-of-type {\n",
       "        vertical-align: middle;\n",
       "    }\n",
       "\n",
       "    .dataframe tbody tr th {\n",
       "        vertical-align: top;\n",
       "    }\n",
       "\n",
       "    .dataframe thead th {\n",
       "        text-align: right;\n",
       "    }\n",
       "</style>\n",
       "<table border=\"1\" class=\"dataframe\">\n",
       "  <thead>\n",
       "    <tr style=\"text-align: right;\">\n",
       "      <th>behavior_type</th>\n",
       "      <th>2</th>\n",
       "      <th>3</th>\n",
       "      <th>4</th>\n",
       "    </tr>\n",
       "    <tr>\n",
       "      <th>time</th>\n",
       "      <th></th>\n",
       "      <th></th>\n",
       "      <th></th>\n",
       "    </tr>\n",
       "  </thead>\n",
       "  <tbody>\n",
       "    <tr>\n",
       "      <th>2014-11-23</th>\n",
       "      <td>4082</td>\n",
       "      <td>4773</td>\n",
       "      <td>1634</td>\n",
       "    </tr>\n",
       "    <tr>\n",
       "      <th>2014-11-30</th>\n",
       "      <td>4371</td>\n",
       "      <td>5299</td>\n",
       "      <td>1915</td>\n",
       "    </tr>\n",
       "    <tr>\n",
       "      <th>2014-12-07</th>\n",
       "      <td>5189</td>\n",
       "      <td>6345</td>\n",
       "      <td>1854</td>\n",
       "    </tr>\n",
       "    <tr>\n",
       "      <th>2014-12-14</th>\n",
       "      <td>5837</td>\n",
       "      <td>8425</td>\n",
       "      <td>3063</td>\n",
       "    </tr>\n",
       "    <tr>\n",
       "      <th>2014-12-21</th>\n",
       "      <td>2588</td>\n",
       "      <td>3460</td>\n",
       "      <td>1247</td>\n",
       "    </tr>\n",
       "  </tbody>\n",
       "</table>\n",
       "</div>"
      ],
      "text/plain": [
       "behavior_type     2     3     4\n",
       "time                           \n",
       "2014-11-23     4082  4773  1634\n",
       "2014-11-30     4371  5299  1915\n",
       "2014-12-07     5189  6345  1854\n",
       "2014-12-14     5837  8425  3063\n",
       "2014-12-21     2588  3460  1247"
      ]
     },
     "execution_count": 54,
     "metadata": {},
     "output_type": "execute_result"
    }
   ],
   "source": [
    "temp = weekly_behav.drop(columns=[1, 'CVR'])\n",
    "temp"
   ]
  },
  {
   "cell_type": "code",
   "execution_count": 55,
   "metadata": {
    "ExecuteTime": {
     "end_time": "2020-10-07T12:35:13.858288Z",
     "start_time": "2020-10-07T12:35:13.534966Z"
    },
    "scrolled": false
   },
   "outputs": [
    {
     "data": {
      "image/png": "[encoded data removed]",
      "text/plain": [
       "<Figure size 720x360 with 1 Axes>"
      ]
     },
     "metadata": {},
     "output_type": "display_data"
    }
   ],
   "source": [
    "ax = temp.plot(kind='bar', use_index=False, figsize=(10, 5), rot=45)\n",
    "ax.set_title(\"Weekly collection purchase order comparison\", fontsize=30, pad=30)\n",
    "plt.xticks(range(5), temp.index.date)\n",
    "plt.show()"
   ]
  },
  {
   "cell_type": "code",
   "execution_count": 56,
   "metadata": {
    "ExecuteTime": {
     "end_time": "2020-10-07T12:35:13.917383Z",
     "start_time": "2020-10-07T12:35:13.860507Z"
    }
   },
   "outputs": [
    {
     "data": {
      "text/plain": [
       "33"
      ]
     },
     "execution_count": 56,
     "metadata": {},
     "output_type": "execute_result"
    }
   ],
   "source": [
    "del temp\n",
    "del daily_behav\n",
    "del weekly_behav\n",
    "gc.collect()"
   ]
  },
  {
   "cell_type": "markdown",
   "metadata": {},
   "source": [
    "最后一周数据只到12月18日，因此着重看双十二之前的数据。双十二之前，每周的收藏、加购都在增加，下单量浮动不大。"
   ]
  },
  {
   "cell_type": "markdown",
   "metadata": {},
   "source": [
    "### 1.2.5 时间规律统计——双十二当天每小时用户行为变化对比"
   ]
  },
  {
   "cell_type": "code",
   "execution_count": 57,
   "metadata": {
    "ExecuteTime": {
     "end_time": "2020-10-07T12:35:13.956118Z",
     "start_time": "2020-10-07T12:35:13.930362Z"
    }
   },
   "outputs": [
    {
     "data": {
      "text/plain": [
       "(55379, 10)"
      ]
     },
     "execution_count": 57,
     "metadata": {},
     "output_type": "execute_result"
    }
   ],
   "source": [
    "all_double12 = train_users.loc['2014-12-12']\n",
    "all_double12.shape"
   ]
  },
  {
   "cell_type": "code",
   "execution_count": 58,
   "metadata": {
    "ExecuteTime": {
     "end_time": "2020-10-07T12:35:13.977512Z",
     "start_time": "2020-10-07T12:35:13.963271Z"
    },
    "scrolled": true
   },
   "outputs": [
    {
     "data": {
      "text/html": [
       "<div>\n",
       "<style scoped>\n",
       "    .dataframe tbody tr th:only-of-type {\n",
       "        vertical-align: middle;\n",
       "    }\n",
       "\n",
       "    .dataframe tbody tr th {\n",
       "        vertical-align: top;\n",
       "    }\n",
       "\n",
       "    .dataframe thead th {\n",
       "        text-align: right;\n",
       "    }\n",
       "</style>\n",
       "<table border=\"1\" class=\"dataframe\">\n",
       "  <thead>\n",
       "    <tr style=\"text-align: right;\">\n",
       "      <th></th>\n",
       "      <th>user_id</th>\n",
       "      <th>item_id</th>\n",
       "      <th>behavior_type</th>\n",
       "      <th>user_geohash</th>\n",
       "      <th>item_category</th>\n",
       "      <th>time</th>\n",
       "      <th>year</th>\n",
       "      <th>month</th>\n",
       "      <th>day</th>\n",
       "      <th>date</th>\n",
       "    </tr>\n",
       "    <tr>\n",
       "      <th>time</th>\n",
       "      <th></th>\n",
       "      <th></th>\n",
       "      <th></th>\n",
       "      <th></th>\n",
       "      <th></th>\n",
       "      <th></th>\n",
       "      <th></th>\n",
       "      <th></th>\n",
       "      <th></th>\n",
       "      <th></th>\n",
       "    </tr>\n",
       "  </thead>\n",
       "  <tbody>\n",
       "    <tr>\n",
       "      <th>2014-12-12 12:00:00</th>\n",
       "      <td>10001082</td>\n",
       "      <td>4368907</td>\n",
       "      <td>1</td>\n",
       "      <td>unknown</td>\n",
       "      <td>5503</td>\n",
       "      <td>2014-12-12 12:00:00</td>\n",
       "      <td>2014</td>\n",
       "      <td>12</td>\n",
       "      <td>12</td>\n",
       "      <td>2014-12-12</td>\n",
       "    </tr>\n",
       "    <tr>\n",
       "      <th>2014-12-12 12:00:00</th>\n",
       "      <td>10001082</td>\n",
       "      <td>4368907</td>\n",
       "      <td>1</td>\n",
       "      <td>unknown</td>\n",
       "      <td>5503</td>\n",
       "      <td>2014-12-12 12:00:00</td>\n",
       "      <td>2014</td>\n",
       "      <td>12</td>\n",
       "      <td>12</td>\n",
       "      <td>2014-12-12</td>\n",
       "    </tr>\n",
       "  </tbody>\n",
       "</table>\n",
       "</div>"
      ],
      "text/plain": [
       "                      user_id  item_id  behavior_type user_geohash  \\\n",
       "time                                                                 \n",
       "2014-12-12 12:00:00  10001082  4368907              1      unknown   \n",
       "2014-12-12 12:00:00  10001082  4368907              1      unknown   \n",
       "\n",
       "                     item_category                time  year  month  day  \\\n",
       "time                                                                       \n",
       "2014-12-12 12:00:00           5503 2014-12-12 12:00:00  2014     12   12   \n",
       "2014-12-12 12:00:00           5503 2014-12-12 12:00:00  2014     12   12   \n",
       "\n",
       "                           date  \n",
       "time                             \n",
       "2014-12-12 12:00:00  2014-12-12  \n",
       "2014-12-12 12:00:00  2014-12-12  "
      ]
     },
     "execution_count": 58,
     "metadata": {},
     "output_type": "execute_result"
    }
   ],
   "source": [
    "all_double12.head(2)"
   ]
  },
  {
   "cell_type": "code",
   "execution_count": 59,
   "metadata": {
    "ExecuteTime": {
     "end_time": "2020-10-07T12:35:14.025770Z",
     "start_time": "2020-10-07T12:35:13.980912Z"
    }
   },
   "outputs": [
    {
     "data": {
      "text/html": [
       "<div>\n",
       "<style scoped>\n",
       "    .dataframe tbody tr th:only-of-type {\n",
       "        vertical-align: middle;\n",
       "    }\n",
       "\n",
       "    .dataframe tbody tr th {\n",
       "        vertical-align: top;\n",
       "    }\n",
       "\n",
       "    .dataframe thead th {\n",
       "        text-align: right;\n",
       "    }\n",
       "</style>\n",
       "<table border=\"1\" class=\"dataframe\">\n",
       "  <thead>\n",
       "    <tr style=\"text-align: right;\">\n",
       "      <th>behavior_type</th>\n",
       "      <th>1</th>\n",
       "      <th>2</th>\n",
       "      <th>3</th>\n",
       "      <th>4</th>\n",
       "    </tr>\n",
       "    <tr>\n",
       "      <th>time</th>\n",
       "      <th></th>\n",
       "      <th></th>\n",
       "      <th></th>\n",
       "      <th></th>\n",
       "    </tr>\n",
       "  </thead>\n",
       "  <tbody>\n",
       "    <tr>\n",
       "      <th>2014-12-12 00:00:00</th>\n",
       "      <td>3570</td>\n",
       "      <td>26</td>\n",
       "      <td>251</td>\n",
       "      <td>190</td>\n",
       "    </tr>\n",
       "    <tr>\n",
       "      <th>2014-12-12 01:00:00</th>\n",
       "      <td>1327</td>\n",
       "      <td>23</td>\n",
       "      <td>64</td>\n",
       "      <td>47</td>\n",
       "    </tr>\n",
       "  </tbody>\n",
       "</table>\n",
       "</div>"
      ],
      "text/plain": [
       "behavior_type           1   2    3    4\n",
       "time                                   \n",
       "2014-12-12 00:00:00  3570  26  251  190\n",
       "2014-12-12 01:00:00  1327  23   64   47"
      ]
     },
     "execution_count": 59,
     "metadata": {},
     "output_type": "execute_result"
    }
   ],
   "source": [
    "# 每小时用户行为统计\n",
    "hourly_behav = all_double12.set_index('date').pivot_table(\n",
    "    index='time', columns='behavior_type', aggfunc='count')['day']\n",
    "hourly_behav.head(2)"
   ]
  },
  {
   "cell_type": "markdown",
   "metadata": {},
   "source": [
    "#### 1.2.5.1 每小时浏览量可视化"
   ]
  },
  {
   "cell_type": "code",
   "execution_count": 60,
   "metadata": {
    "ExecuteTime": {
     "end_time": "2020-10-07T12:35:14.361527Z",
     "start_time": "2020-10-07T12:35:14.029384Z"
    }
   },
   "outputs": [
    {
     "data": {
      "image/png": "[encoded data removed]",
      "text/plain": [
       "<Figure size 720x360 with 1 Axes>"
      ]
     },
     "metadata": {},
     "output_type": "display_data"
    }
   ],
   "source": [
    "hourly_behav[1].plot(\n",
    "    kind='bar',\n",
    "    xticks=hourly_behav.index.hour,\n",
    "    figsize=(10, 5),\n",
    "    xlabel='hour',\n",
    "    title=\"The frequency of display per hour in 12.12\")\n",
    "plt.show()"
   ]
  },
  {
   "cell_type": "markdown",
   "metadata": {},
   "source": [
    "#### 1.2.5.2 每小时收藏、加购、下单量可视化"
   ]
  },
  {
   "cell_type": "code",
   "execution_count": 61,
   "metadata": {
    "ExecuteTime": {
     "end_time": "2020-10-07T12:35:14.789804Z",
     "start_time": "2020-10-07T12:35:14.364911Z"
    }
   },
   "outputs": [
    {
     "data": {
      "image/png": "[encoded data removed]",
      "text/plain": [
       "<Figure size 1440x360 with 1 Axes>"
      ]
     },
     "metadata": {},
     "output_type": "display_data"
    }
   ],
   "source": [
    "ax = hourly_behav[[2, 3, 4]].plot(\n",
    "    kind='bar',\n",
    "    xticks=hourly_behav.index.hour,\n",
    "    figsize=(20, 5),\n",
    "    xlabel='hour',\n",
    "    title=\"The frequency of collect,purchase,order per hour in 12.12\")\n",
    "plt.show()"
   ]
  },
  {
   "cell_type": "markdown",
   "metadata": {},
   "source": [
    "在0点，有仅限0-1点之间的秒杀和限时折扣，所以加购数和下单数均为当天的顶峰，说明这些策略对用户消费的刺激性非常明显；    \n",
    "1点开放预定订单支付通道，1、2点2个时段的下单数几乎持平；    \n",
    "3点、4点用户逐渐休息了，各行为频率均在下降；\n",
    "5点开始，慢慢上升，到8点人们起床后利用上班前的间隙，又下单了一波，因此加购、下单数在8点达到小高峰；    \n",
    "9点-14点，上班期间，浏览数在2000-2500之间浮动，下单数在缓慢上升；    \n",
    "15点虽然收藏、加购、下单数较前个时段都在下降，但浏览数仍在2000以上，也许用户仍在继续寻找想要的商品，也许用户开始进入观望阶段，需要点刺激；\n",
    "16点下单数明显增加；     \n",
    "\n",
    "17点、18点浏览数仍在2000以上，这个时段处于准备下班或在下班路上继续浏览，所以这个阶段下单数在下降；     \n",
    "\n",
    "19点开始，下班吃完饭，开始继续购物；19点-21点浏览量在逐步增加，到21点浏览量达到当天顶峰；下单数也是19点后最高的时段。    \n",
    "\n",
    "22点之后，浏览数、下单数先降后升。"
   ]
  },
  {
   "cell_type": "markdown",
   "metadata": {},
   "source": [
    "#### 1.2.5.3 每小时转化率可视化"
   ]
  },
  {
   "cell_type": "code",
   "execution_count": 62,
   "metadata": {
    "ExecuteTime": {
     "end_time": "2020-10-07T12:35:14.800675Z",
     "start_time": "2020-10-07T12:35:14.793240Z"
    }
   },
   "outputs": [],
   "source": [
    "# 计算每小时转化率\n",
    "hourly_behav['CVR'] = hourly_behav[4] / hourly_behav.sum(axis=1)"
   ]
  },
  {
   "cell_type": "code",
   "execution_count": 63,
   "metadata": {
    "ExecuteTime": {
     "end_time": "2020-10-07T12:35:15.031026Z",
     "start_time": "2020-10-07T12:35:14.816597Z"
    }
   },
   "outputs": [
    {
     "data": {
      "image/png": "[encoded data removed]",
      "text/plain": [
       "<Figure size 720x360 with 1 Axes>"
      ]
     },
     "metadata": {},
     "output_type": "display_data"
    }
   ],
   "source": [
    "plt.figure(figsize=(10, 5))\n",
    "hourly_behav['CVR'].plot(kind='line', rot=90, ylabel='CTR')\n",
    "plt.title(\"12.12 Hourtly CVR Trends\")\n",
    "plt.show()"
   ]
  },
  {
   "cell_type": "markdown",
   "metadata": {},
   "source": [
    "## 1.3 获取商品子集"
   ]
  },
  {
   "cell_type": "markdown",
   "metadata": {},
   "source": [
    "### 1.3.1 读取数据集"
   ]
  },
  {
   "cell_type": "code",
   "execution_count": 64,
   "metadata": {
    "ExecuteTime": {
     "end_time": "2020-10-07T12:35:15.249671Z",
     "start_time": "2020-10-07T12:35:15.040358Z"
    }
   },
   "outputs": [
    {
     "data": {
      "text/html": [
       "<div>\n",
       "<style scoped>\n",
       "    .dataframe tbody tr th:only-of-type {\n",
       "        vertical-align: middle;\n",
       "    }\n",
       "\n",
       "    .dataframe tbody tr th {\n",
       "        vertical-align: top;\n",
       "    }\n",
       "\n",
       "    .dataframe thead th {\n",
       "        text-align: right;\n",
       "    }\n",
       "</style>\n",
       "<table border=\"1\" class=\"dataframe\">\n",
       "  <thead>\n",
       "    <tr style=\"text-align: right;\">\n",
       "      <th></th>\n",
       "      <th>item_id</th>\n",
       "      <th>item_geohash</th>\n",
       "      <th>item_category</th>\n",
       "    </tr>\n",
       "  </thead>\n",
       "  <tbody>\n",
       "    <tr>\n",
       "      <th>0</th>\n",
       "      <td>100002303</td>\n",
       "      <td>NaN</td>\n",
       "      <td>3368</td>\n",
       "    </tr>\n",
       "  </tbody>\n",
       "</table>\n",
       "</div>"
      ],
      "text/plain": [
       "     item_id item_geohash  item_category\n",
       "0  100002303          NaN           3368"
      ]
     },
     "execution_count": 64,
     "metadata": {},
     "output_type": "execute_result"
    }
   ],
   "source": [
    "train_items = pd.read_csv(item_path)\n",
    "train_items.head(1)"
   ]
  },
  {
   "cell_type": "code",
   "execution_count": 65,
   "metadata": {
    "ExecuteTime": {
     "end_time": "2020-10-07T12:35:15.261651Z",
     "start_time": "2020-10-07T12:35:15.252373Z"
    },
    "scrolled": true
   },
   "outputs": [
    {
     "data": {
      "text/plain": [
       "(620918, 3)"
      ]
     },
     "execution_count": 65,
     "metadata": {},
     "output_type": "execute_result"
    }
   ],
   "source": [
    "train_items.shape"
   ]
  },
  {
   "cell_type": "code",
   "execution_count": 66,
   "metadata": {
    "ExecuteTime": {
     "end_time": "2020-10-07T12:35:15.286546Z",
     "start_time": "2020-10-07T12:35:15.264347Z"
    }
   },
   "outputs": [
    {
     "data": {
      "text/plain": [
       "422858"
      ]
     },
     "execution_count": 66,
     "metadata": {},
     "output_type": "execute_result"
    }
   ],
   "source": [
    "# 商品子集中有422858个商品\n",
    "train_items['item_id'].nunique()"
   ]
  },
  {
   "cell_type": "code",
   "execution_count": 67,
   "metadata": {
    "ExecuteTime": {
     "end_time": "2020-10-07T12:35:15.301452Z",
     "start_time": "2020-10-07T12:35:15.289179Z"
    }
   },
   "outputs": [
    {
     "data": {
      "text/plain": [
       "1054"
      ]
     },
     "execution_count": 67,
     "metadata": {},
     "output_type": "execute_result"
    }
   ],
   "source": [
    "# 商品子集中有422858个品类\n",
    "train_items['item_category'].nunique()"
   ]
  },
  {
   "cell_type": "markdown",
   "metadata": {},
   "source": [
    "### 1.3.2 获取对商品子集有行为的用户数据集"
   ]
  },
  {
   "cell_type": "code",
   "execution_count": 68,
   "metadata": {
    "ExecuteTime": {
     "end_time": "2020-10-07T12:35:15.634023Z",
     "start_time": "2020-10-07T12:35:15.305279Z"
    }
   },
   "outputs": [
    {
     "data": {
      "text/html": [
       "<div>\n",
       "<style scoped>\n",
       "    .dataframe tbody tr th:only-of-type {\n",
       "        vertical-align: middle;\n",
       "    }\n",
       "\n",
       "    .dataframe tbody tr th {\n",
       "        vertical-align: top;\n",
       "    }\n",
       "\n",
       "    .dataframe thead th {\n",
       "        text-align: right;\n",
       "    }\n",
       "</style>\n",
       "<table border=\"1\" class=\"dataframe\">\n",
       "  <thead>\n",
       "    <tr style=\"text-align: right;\">\n",
       "      <th></th>\n",
       "      <th>user_id</th>\n",
       "      <th>item_id</th>\n",
       "      <th>behavior_type</th>\n",
       "      <th>user_geohash</th>\n",
       "      <th>item_category_x</th>\n",
       "      <th>time</th>\n",
       "      <th>year</th>\n",
       "      <th>month</th>\n",
       "      <th>day</th>\n",
       "      <th>date</th>\n",
       "      <th>item_geohash</th>\n",
       "      <th>item_category_y</th>\n",
       "    </tr>\n",
       "  </thead>\n",
       "  <tbody>\n",
       "    <tr>\n",
       "      <th>0</th>\n",
       "      <td>10001082</td>\n",
       "      <td>275221686</td>\n",
       "      <td>1</td>\n",
       "      <td>unknown</td>\n",
       "      <td>10576</td>\n",
       "      <td>2014-12-03 01:00:00</td>\n",
       "      <td>2014</td>\n",
       "      <td>12</td>\n",
       "      <td>3</td>\n",
       "      <td>2014-12-03</td>\n",
       "      <td>NaN</td>\n",
       "      <td>10576</td>\n",
       "    </tr>\n",
       "  </tbody>\n",
       "</table>\n",
       "</div>"
      ],
      "text/plain": [
       "    user_id    item_id  behavior_type user_geohash  item_category_x  \\\n",
       "0  10001082  275221686              1      unknown            10576   \n",
       "\n",
       "                 time  year  month  day        date item_geohash  \\\n",
       "0 2014-12-03 01:00:00  2014     12    3  2014-12-03          NaN   \n",
       "\n",
       "   item_category_y  \n",
       "0            10576  "
      ]
     },
     "execution_count": 68,
     "metadata": {},
     "output_type": "execute_result"
    }
   ],
   "source": [
    "# 商品子集与用户集的inner拼接\n",
    "train_subui =  train_users.merge(train_items, on='item_id')\n",
    "train_subui.head(1)"
   ]
  },
  {
   "cell_type": "code",
   "execution_count": 69,
   "metadata": {
    "ExecuteTime": {
     "end_time": "2020-10-07T12:35:15.650761Z",
     "start_time": "2020-10-07T12:35:15.641104Z"
    }
   },
   "outputs": [
    {
     "data": {
      "text/plain": [
       "221219"
      ]
     },
     "execution_count": 69,
     "metadata": {},
     "output_type": "execute_result"
    }
   ],
   "source": [
    "# 两列完全相同，只保留一列\n",
    "(train_subui['item_category_x'] == train_subui['item_category_y']).sum()"
   ]
  },
  {
   "cell_type": "code",
   "execution_count": 70,
   "metadata": {
    "ExecuteTime": {
     "end_time": "2020-10-07T12:35:15.707087Z",
     "start_time": "2020-10-07T12:35:15.659724Z"
    }
   },
   "outputs": [],
   "source": [
    "train_subui = train_subui.drop(columns=['item_category_y'])"
   ]
  },
  {
   "cell_type": "code",
   "execution_count": 71,
   "metadata": {
    "ExecuteTime": {
     "end_time": "2020-10-07T12:35:15.727017Z",
     "start_time": "2020-10-07T12:35:15.710977Z"
    },
    "scrolled": true
   },
   "outputs": [
    {
     "data": {
      "text/plain": [
       "798"
      ]
     },
     "execution_count": 71,
     "metadata": {},
     "output_type": "execute_result"
    }
   ],
   "source": [
    "train_subui['user_id'].nunique()"
   ]
  },
  {
   "cell_type": "code",
   "execution_count": 72,
   "metadata": {
    "ExecuteTime": {
     "end_time": "2020-10-07T12:35:15.754871Z",
     "start_time": "2020-10-07T12:35:15.731634Z"
    }
   },
   "outputs": [],
   "source": [
    "train_subui = train_subui.set_index('time')"
   ]
  },
  {
   "cell_type": "markdown",
   "metadata": {},
   "source": [
    "100W的用户数据集中的799个用户里，有798个用户对该商品子集有行为，涵盖面比较全。"
   ]
  },
  {
   "cell_type": "code",
   "execution_count": 73,
   "metadata": {
    "ExecuteTime": {
     "end_time": "2020-10-07T12:35:15.841959Z",
     "start_time": "2020-10-07T12:35:15.760161Z"
    }
   },
   "outputs": [
    {
     "data": {
      "text/plain": [
       "11256"
      ]
     },
     "execution_count": 73,
     "metadata": {},
     "output_type": "execute_result"
    }
   ],
   "source": [
    "del train_items\n",
    "gc.collect()"
   ]
  },
  {
   "cell_type": "markdown",
   "metadata": {},
   "source": [
    "### 1.3.3 商品子集的用户各行为占比"
   ]
  },
  {
   "cell_type": "code",
   "execution_count": 74,
   "metadata": {
    "ExecuteTime": {
     "end_time": "2020-10-07T12:35:15.977282Z",
     "start_time": "2020-10-07T12:35:15.852096Z"
    }
   },
   "outputs": [
    {
     "data": {
      "image/png": "[encoded data removed]",
      "text/plain": [
       "<Figure size 576x432 with 1 Axes>"
      ]
     },
     "metadata": {},
     "output_type": "display_data"
    }
   ],
   "source": [
    "plot_pie_of_behavior(train_subui['behavior_type'].value_counts(), '商品子集各用户行为占比')"
   ]
  },
  {
   "cell_type": "code",
   "execution_count": 75,
   "metadata": {
    "ExecuteTime": {
     "end_time": "2020-10-07T12:35:16.104766Z",
     "start_time": "2020-10-07T12:35:15.986772Z"
    }
   },
   "outputs": [],
   "source": [
    "# 透视表统计每日用户各行为频数\n",
    "count_day_sub = pd.pivot_table(train_subui,\n",
    "                               index=train_subui.index.date,\n",
    "                               columns='behavior_type',\n",
    "                               values='user_id',\n",
    "                               aggfunc='count')"
   ]
  },
  {
   "cell_type": "code",
   "execution_count": 76,
   "metadata": {
    "ExecuteTime": {
     "end_time": "2020-10-07T12:35:16.121941Z",
     "start_time": "2020-10-07T12:35:16.110355Z"
    }
   },
   "outputs": [
    {
     "data": {
      "text/html": [
       "<div>\n",
       "<style scoped>\n",
       "    .dataframe tbody tr th:only-of-type {\n",
       "        vertical-align: middle;\n",
       "    }\n",
       "\n",
       "    .dataframe tbody tr th {\n",
       "        vertical-align: top;\n",
       "    }\n",
       "\n",
       "    .dataframe thead th {\n",
       "        text-align: right;\n",
       "    }\n",
       "</style>\n",
       "<table border=\"1\" class=\"dataframe\">\n",
       "  <thead>\n",
       "    <tr style=\"text-align: right;\">\n",
       "      <th>behavior_type</th>\n",
       "      <th>1</th>\n",
       "      <th>2</th>\n",
       "      <th>3</th>\n",
       "      <th>4</th>\n",
       "    </tr>\n",
       "  </thead>\n",
       "  <tbody>\n",
       "    <tr>\n",
       "      <th>2014-11-18</th>\n",
       "      <td>2468</td>\n",
       "      <td>84</td>\n",
       "      <td>46</td>\n",
       "      <td>29</td>\n",
       "    </tr>\n",
       "    <tr>\n",
       "      <th>2014-11-19</th>\n",
       "      <td>2203</td>\n",
       "      <td>33</td>\n",
       "      <td>53</td>\n",
       "      <td>25</td>\n",
       "    </tr>\n",
       "  </tbody>\n",
       "</table>\n",
       "</div>"
      ],
      "text/plain": [
       "behavior_type     1   2   3   4\n",
       "2014-11-18     2468  84  46  29\n",
       "2014-11-19     2203  33  53  25"
      ]
     },
     "execution_count": 76,
     "metadata": {},
     "output_type": "execute_result"
    }
   ],
   "source": [
    "count_day_sub.head(2)"
   ]
  },
  {
   "cell_type": "code",
   "execution_count": 77,
   "metadata": {
    "ExecuteTime": {
     "end_time": "2020-10-07T12:35:16.138857Z",
     "start_time": "2020-10-07T12:35:16.128035Z"
    }
   },
   "outputs": [],
   "source": [
    "count_day_sub.index = dateindex"
   ]
  },
  {
   "cell_type": "markdown",
   "metadata": {},
   "source": [
    "### 1.3.4 商品子集每日用户行为总量可视化"
   ]
  },
  {
   "cell_type": "code",
   "execution_count": 78,
   "metadata": {
    "ExecuteTime": {
     "end_time": "2020-10-07T12:35:16.525740Z",
     "start_time": "2020-10-07T12:35:16.142561Z"
    },
    "scrolled": false
   },
   "outputs": [
    {
     "data": {
      "image/png": "[encoded data removed]",
      "text/plain": [
       "<Figure size 1152x360 with 1 Axes>"
      ]
     },
     "metadata": {},
     "output_type": "display_data"
    }
   ],
   "source": [
    "show_daily_behabior_freq(count_day_sub.sum(axis=1), title='Users Daily Behavior Frequency Of Item Subset')"
   ]
  },
  {
   "cell_type": "markdown",
   "metadata": {},
   "source": [
    "### 1.3.5 商品子集每日浏览、收藏、加购、下单可视化"
   ]
  },
  {
   "cell_type": "code",
   "execution_count": 79,
   "metadata": {
    "ExecuteTime": {
     "end_time": "2020-10-07T12:35:17.930447Z",
     "start_time": "2020-10-07T12:35:16.530266Z"
    }
   },
   "outputs": [
    {
     "data": {
      "image/png": "[encoded data removed]",
      "text/plain": [
       "<Figure size 1440x720 with 4 Axes>"
      ]
     },
     "metadata": {},
     "output_type": "display_data"
    }
   ],
   "source": [
    "# 绘制方法1：\n",
    "# show_daily_behabior_freq(count_day_sub,\n",
    "#                          title='Users Daily Colletion,Shopping-Cart,Order Frequency Of Item Subset')\n",
    "\n",
    "# 绘制方法2：\n",
    "title = [\n",
    "    \"Daily Browse Frequency of Item Subset\",\n",
    "    \"Daily Collection Frequency of Item Subset\",\n",
    "    \"Daily ShoppingCart Frequency of Item Subset\",\n",
    "    \"Daily Order Frequency of Item Subset\"\n",
    "]\n",
    "axes_arr = count_day_sub.plot(kind='bar',\n",
    "                              subplots=True,\n",
    "                              layout=(2, 2),\n",
    "                              title=title,\n",
    "                              sharex=True,\n",
    "                              use_index=False,\n",
    "                              figsize=(20, 10))\n",
    "\n",
    "axes_arr[0, 0].set_xticklabels(count_day_sub.index.day)\n",
    "plt.show()"
   ]
  },
  {
   "cell_type": "markdown",
   "metadata": {},
   "source": [
    "这个chunk的用户数据集和商品子集交集后的数据，除了浏览量外，其他行为的数据主要集中在了双十二当天，这看起来分布和总数据集非常不同，怎么样保证在预测时不影响结果呢？待后面预测的时候注意。"
   ]
  },
  {
   "cell_type": "code",
   "execution_count": null,
   "metadata": {},
   "outputs": [],
   "source": []
  }
 ],
 "metadata": {
  "kernelspec": {
   "display_name": "Python [conda env:envpy37]",
   "language": "python",
   "name": "conda-env-envpy37-py"
  },
  "language_info": {
   "codemirror_mode": {
    "name": "ipython",
    "version": 3
   },
   "file_extension": ".py",
   "mimetype": "text/x-python",
   "name": "python",
   "nbconvert_exporter": "python",
   "pygments_lexer": "ipython3",
   "version": "3.7.7"
  },
  "toc": {
   "base_numbering": 1,
   "nav_menu": {},
   "number_sections": false,
   "sideBar": true,
   "skip_h1_title": false,
   "title_cell": "Table of Contents",
   "title_sidebar": "Contents",
   "toc_cell": true,
   "toc_position": {
    "height": "calc(100% - 180px)",
    "left": "10px",
    "top": "150px",
    "width": "309px"
   },
   "toc_section_display": true,
   "toc_window_display": true
  },
  "varInspector": {
   "cols": {
    "lenName": 16,
    "lenType": 16,
    "lenVar": 40
   },
   "kernels_config": {
    "python": {
     "delete_cmd_postfix": "",
     "delete_cmd_prefix": "del ",
     "library": "var_list.py",
     "varRefreshCmd": "print(var_dic_list())"
    },
    "r": {
     "delete_cmd_postfix": ") ",
     "delete_cmd_prefix": "rm(",
     "library": "var_list.r",
     "varRefreshCmd": "cat(var_dic_list()) "
    }
   },
   "oldHeight": 451,
   "position": {
    "height": "473px",
    "left": "986px",
    "right": "20px",
    "top": "108px",
    "width": "379px"
   },
   "types_to_exclude": [
    "module",
    "function",
    "builtin_function_or_method",
    "instance",
    "_Feature"
   ],
   "varInspector_section_display": "block",
   "window_display": true
  }
 },
 "nbformat": 4,
 "nbformat_minor": 4
}
