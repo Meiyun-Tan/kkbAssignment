{
 "cells": [
  {
   "cell_type": "markdown",
   "metadata": {
    "toc": true
   },
   "source": [
    "<h1>Table of Contents<span class=\"tocSkip\"></span></h1>\n",
    "<div class=\"toc\"><ul class=\"toc-item\"><li><span><a href=\"#1-加载数据\" data-toc-modified-id=\"1-加载数据-1\">1 加载数据</a></span></li><li><span><a href=\"#2-封装为类\" data-toc-modified-id=\"2-封装为类-2\">2 封装为类</a></span></li><li><span><a href=\"#3-打印每辆车的行车路线\" data-toc-modified-id=\"3-打印每辆车的行车路线-3\">3 打印每辆车的行车路线</a></span></li><li><span><a href=\"#4-总结：\" data-toc-modified-id=\"4-总结：-4\">4 总结：</a></span></li></ul></div>"
   ]
  },
  {
   "cell_type": "markdown",
   "metadata": {},
   "source": [
    "多辆车的路径规划 VRP：     \n",
    "条件：经过中国33个城市，一共4辆车，每辆车最大行驶10000公里    \n",
    "目标：使得每辆车的行驶里程数更接近     \n",
    "需要注意：    \n",
    "1）在VRP问题中，路径上给点赋的index和点实际的index不一样，需要使用IndexToNode方法进行转换才能得到实际的index    \n",
    "完成带有约束条件的VRP问题\n"
   ]
  },
  {
   "cell_type": "code",
   "execution_count": 1,
   "metadata": {
    "ExecuteTime": {
     "end_time": "2020-12-02T10:03:25.071840Z",
     "start_time": "2020-12-02T10:03:23.912089Z"
    }
   },
   "outputs": [],
   "source": [
    "import pandas as pd\n",
    "from ortools.constraint_solver import routing_enums_pb2\n",
    "from ortools.constraint_solver import pywrapcp"
   ]
  },
  {
   "cell_type": "markdown",
   "metadata": {},
   "source": [
    "# 1 加载数据"
   ]
  },
  {
   "cell_type": "code",
   "execution_count": 2,
   "metadata": {
    "ExecuteTime": {
     "end_time": "2020-12-02T10:03:25.158824Z",
     "start_time": "2020-12-02T10:03:25.075036Z"
    }
   },
   "outputs": [],
   "source": [
    "df_distance = pd.read_excel(\"distance.xlsx\", index_col=0)"
   ]
  },
  {
   "cell_type": "code",
   "execution_count": 3,
   "metadata": {
    "ExecuteTime": {
     "end_time": "2020-12-02T10:03:25.208947Z",
     "start_time": "2020-12-02T10:03:25.162326Z"
    }
   },
   "outputs": [
    {
     "data": {
      "text/html": [
       "<div>\n",
       "<style scoped>\n",
       "    .dataframe tbody tr th:only-of-type {\n",
       "        vertical-align: middle;\n",
       "    }\n",
       "\n",
       "    .dataframe tbody tr th {\n",
       "        vertical-align: top;\n",
       "    }\n",
       "\n",
       "    .dataframe thead th {\n",
       "        text-align: right;\n",
       "    }\n",
       "</style>\n",
       "<table border=\"1\" class=\"dataframe\">\n",
       "  <thead>\n",
       "    <tr style=\"text-align: right;\">\n",
       "      <th></th>\n",
       "      <th>北京</th>\n",
       "      <th>天津</th>\n",
       "      <th>哈尔滨</th>\n",
       "      <th>长春</th>\n",
       "      <th>沈阳</th>\n",
       "      <th>石家庄</th>\n",
       "      <th>呼和浩特</th>\n",
       "      <th>太原</th>\n",
       "      <th>上海</th>\n",
       "      <th>杭州</th>\n",
       "      <th>...</th>\n",
       "      <th>成都</th>\n",
       "      <th>重庆</th>\n",
       "      <th>南宁</th>\n",
       "      <th>贵阳</th>\n",
       "      <th>昆明</th>\n",
       "      <th>武汉</th>\n",
       "      <th>长沙</th>\n",
       "      <th>南昌</th>\n",
       "      <th>香港</th>\n",
       "      <th>澳门</th>\n",
       "    </tr>\n",
       "  </thead>\n",
       "  <tbody>\n",
       "    <tr>\n",
       "      <th>北京</th>\n",
       "      <td>0</td>\n",
       "      <td>122476</td>\n",
       "      <td>1229869</td>\n",
       "      <td>987941</td>\n",
       "      <td>682963</td>\n",
       "      <td>294125</td>\n",
       "      <td>491658</td>\n",
       "      <td>487353</td>\n",
       "      <td>1210971</td>\n",
       "      <td>1277042</td>\n",
       "      <td>...</td>\n",
       "      <td>1835076</td>\n",
       "      <td>1753571</td>\n",
       "      <td>2346302</td>\n",
       "      <td>2086066</td>\n",
       "      <td>2587861</td>\n",
       "      <td>1161356</td>\n",
       "      <td>1477547</td>\n",
       "      <td>1431143</td>\n",
       "      <td>2203897</td>\n",
       "      <td>2273144</td>\n",
       "    </tr>\n",
       "    <tr>\n",
       "      <th>天津</th>\n",
       "      <td>122476</td>\n",
       "      <td>0</td>\n",
       "      <td>1201742</td>\n",
       "      <td>959814</td>\n",
       "      <td>654836</td>\n",
       "      <td>314982</td>\n",
       "      <td>614846</td>\n",
       "      <td>508210</td>\n",
       "      <td>1093989</td>\n",
       "      <td>1217026</td>\n",
       "      <td>...</td>\n",
       "      <td>1855933</td>\n",
       "      <td>1774428</td>\n",
       "      <td>2343851</td>\n",
       "      <td>2083615</td>\n",
       "      <td>2585410</td>\n",
       "      <td>1158905</td>\n",
       "      <td>1475096</td>\n",
       "      <td>1358857</td>\n",
       "      <td>2201446</td>\n",
       "      <td>2270693</td>\n",
       "    </tr>\n",
       "  </tbody>\n",
       "</table>\n",
       "<p>2 rows × 33 columns</p>\n",
       "</div>"
      ],
      "text/plain": [
       "        北京      天津      哈尔滨      长春      沈阳     石家庄    呼和浩特      太原       上海  \\\n",
       "北京       0  122476  1229869  987941  682963  294125  491658  487353  1210971   \n",
       "天津  122476       0  1201742  959814  654836  314982  614846  508210  1093989   \n",
       "\n",
       "         杭州  ...       成都       重庆       南宁       贵阳       昆明       武汉  \\\n",
       "北京  1277042  ...  1835076  1753571  2346302  2086066  2587861  1161356   \n",
       "天津  1217026  ...  1855933  1774428  2343851  2083615  2585410  1158905   \n",
       "\n",
       "         长沙       南昌       香港       澳门  \n",
       "北京  1477547  1431143  2203897  2273144  \n",
       "天津  1475096  1358857  2201446  2270693  \n",
       "\n",
       "[2 rows x 33 columns]"
      ]
     },
     "execution_count": 3,
     "metadata": {},
     "output_type": "execute_result"
    }
   ],
   "source": [
    "df_distance.head(2)"
   ]
  },
  {
   "cell_type": "markdown",
   "metadata": {},
   "source": [
    "# 2 封装为类"
   ]
  },
  {
   "cell_type": "code",
   "execution_count": 4,
   "metadata": {
    "ExecuteTime": {
     "end_time": "2020-12-02T10:03:25.837266Z",
     "start_time": "2020-12-02T10:03:25.216859Z"
    },
    "scrolled": true
   },
   "outputs": [
    {
     "name": "stdout",
     "output_type": "stream",
     "text": [
      "[[0, 7, 18, 19, 17, 22, 6], [0, 21], [0, 5, 20, 23, 24, 26, 27, 25, 12, 32, 11, 31, 30, 13, 16], [0, 14, 28, 29, 10, 9, 8, 15, 1, 4, 2, 3]]\n",
      "[6341, 7096, 6749, 6845]\n"
     ]
    }
   ],
   "source": [
    "class VRP:\n",
    "    def __init__(self, df_distance, num_vehicles=1, depot=0, city_names=None):\n",
    "        # 设置城市名称\n",
    "        self.df = df_distance\n",
    "        self.num_vehicles = num_vehicles\n",
    "        self.depot = depot\n",
    "        self.all_city = self.df.columns\n",
    "        if city_names is not None:\n",
    "            self.city_names = city_names\n",
    "            self.df = self.df.loc[self.all_city.isin(city_names),\n",
    "                                  self.city_names]\n",
    "        else:\n",
    "            self.city_names = self.all_city\n",
    "\n",
    "    def get_solution(self, manager, routing, solution):\n",
    "        # 记录每辆车的里程\n",
    "        distance_list = []\n",
    "        # 记录每辆车的路径规划\n",
    "        route_list = []\n",
    "\n",
    "        for vehicle_id in range(self.num_vehicles):\n",
    "            route = []\n",
    "            # 从vehicle_id的起始节点出发\n",
    "            index = routing.Start(vehicle_id)\n",
    "            # 记录车最终行驶的距离\n",
    "            route_distance = 0\n",
    "            # routing.IsEnd 判断路径是否结束\n",
    "            while not routing.IsEnd(index):\n",
    "                # IndexToNode将manager中的index转换为distance_matrix中的index\n",
    "                name_index = manager.IndexToNode(index)\n",
    "                route.append(name_index)\n",
    "                previous_index = index\n",
    "                index = solution.Value(routing.NextVar(index))\n",
    "                # 针对vehicle=0，统计从previous_index到index节点的距离\n",
    "                route_distance += routing.GetArcCostForVehicle(\n",
    "                    previous_index, index, 0)\n",
    "            route_list.append(route)\n",
    "            distance_list.append(route_distance)\n",
    "        return route_list, distance_list\n",
    "\n",
    "    def create_data_model(self):\n",
    "        data = {}\n",
    "        data['distance_matrix'] = self.df.values / 1000  # 转公里\n",
    "        data['num_vehicles'] = self.num_vehicles\n",
    "        data['depot'] = self.depot\n",
    "        return data\n",
    "\n",
    "    def work(self):\n",
    "        # step1，初始化数据，得到3个参数的字典\n",
    "        data = self.create_data_model()\n",
    "\n",
    "        # 创建路线管理，tsp_size（城市数量）, num_vehicles（车的数量）, depot（原点）\n",
    "        manager = pywrapcp.RoutingIndexManager(len(data['distance_matrix']),\n",
    "                                               data['num_vehicles'],\n",
    "                                               data['depot'])\n",
    "\n",
    "        # step2，创建 Routing Model.\n",
    "        routing = pywrapcp.RoutingModel(manager)\n",
    "\n",
    "        # step3，计算两点之间的距离，输入2个节点的index，输出2个节点之间的距离\n",
    "        def distance_callback(from_index, to_index):\n",
    "            # 将index转为distance_matrix中的index\n",
    "            # Convert from routing variable Index to distance matrix NodeIndex.\n",
    "            from_node = manager.IndexToNode(from_index)\n",
    "            to_node = manager.IndexToNode(to_index)\n",
    "            return data['distance_matrix'][from_node][to_node]\n",
    "\n",
    "        # step4，注册距离函数\n",
    "        transit_callback_index = routing.RegisterTransitCallback(\n",
    "            distance_callback)\n",
    "\n",
    "        # Define cost of each arc. 定义每个边的成本(arc 指边)\n",
    "        routing.SetArcCostEvaluatorOfAllVehicles(transit_callback_index)\n",
    "\n",
    "        # step5，添加距离约束\n",
    "        dimension_name = 'Distance'\n",
    "        routing.AddDimension(\n",
    "            transit_callback_index,\n",
    "            0,  # no slack 不松弛\n",
    "            10000,  # 车辆最大行驶距离\n",
    "            True,  # start cumul to zero 开始累计到零\n",
    "            dimension_name)\n",
    "        distance_dimension = routing.GetDimensionOrDie(dimension_name)\n",
    "\n",
    "        # 尽量减少车辆之间的最大距离 全局差值成本系数100，值大则车辆间距离小；值小，则车辆间距离大；\n",
    "        distance_dimension.SetGlobalSpanCostCoefficient(100)\n",
    "\n",
    "        # step6，设置参数策略，Setting first solution heuristic. 设置第一个启发式搜索的策略\n",
    "        search_parameters = pywrapcp.DefaultRoutingSearchParameters()\n",
    "        # PATH_CHEAPEST_ARC 指边之间路径最短的策略\n",
    "        search_parameters.first_solution_strategy = (\n",
    "            routing_enums_pb2.FirstSolutionStrategy.PATH_CHEAPEST_ARC)\n",
    "\n",
    "        # step7，求解路径规划\n",
    "        solution = routing.SolveWithParameters(search_parameters)\n",
    "        # step8，输出结果\n",
    "        route_list, distance_list = self.get_solution(manager, routing,\n",
    "                                                      solution)\n",
    "        return route_list, distance_list\n",
    "\n",
    "\n",
    "if __name__ == \"__main__\":\n",
    "    model = VRP(df_distance, 4, 0)\n",
    "    route_list, distance_list = model.work()\n",
    "    print(route_list)\n",
    "    print(distance_list)"
   ]
  },
  {
   "cell_type": "code",
   "execution_count": 5,
   "metadata": {
    "ExecuteTime": {
     "end_time": "2020-12-02T10:03:25.846901Z",
     "start_time": "2020-12-02T10:03:25.840809Z"
    }
   },
   "outputs": [
    {
     "data": {
      "text/plain": [
       "27031"
      ]
     },
     "execution_count": 5,
     "metadata": {},
     "output_type": "execute_result"
    }
   ],
   "source": [
    "sum(distance_list)"
   ]
  },
  {
   "cell_type": "markdown",
   "metadata": {},
   "source": [
    "# 3 打印每辆车的行车路线"
   ]
  },
  {
   "cell_type": "code",
   "execution_count": 11,
   "metadata": {
    "ExecuteTime": {
     "end_time": "2020-12-02T10:06:32.028831Z",
     "start_time": "2020-12-02T10:06:32.020040Z"
    }
   },
   "outputs": [
    {
     "name": "stdout",
     "output_type": "stream",
     "text": [
      "第1辆车行驶路线为:\n",
      "由北京出发:--> 经：太原--> 经：银川--> 经：西宁--> 经：兰州--> 经：乌鲁木齐--> 到：呼和浩特 结束\n",
      "行驶里程为：6341\n",
      "****************************************************************************************************\n",
      "第2辆车行驶路线为:\n",
      "由北京出发:--> 到：拉萨 结束\n",
      "行驶里程为：7096\n",
      "****************************************************************************************************\n",
      "第3辆车行驶路线为:\n",
      "由北京出发:--> 经：石家庄--> 经：西安--> 经：成都--> 经：重庆--> 经：贵阳--> 经：昆明--> 经：南宁--> 经：海口--> 经：澳门--> 经：广州--> 经：香港--> 经：南昌--> 经：合肥--> 到：济南 结束\n",
      "行驶里程为：6749\n",
      "****************************************************************************************************\n",
      "第4辆车行驶路线为:\n",
      "由北京出发:--> 经：郑州--> 经：武汉--> 经：长沙--> 经：福州--> 经：杭州--> 经：上海--> 经：南京--> 经：天津--> 经：沈阳--> 经：哈尔滨--> 到：长春 结束\n",
      "行驶里程为：6845\n",
      "****************************************************************************************************\n"
     ]
    }
   ],
   "source": [
    "for i, route in enumerate(route_list):\n",
    "    print(f\"第{i + 1}辆车行驶路线为:\")\n",
    "    print(f\"由{df_distance.index[route[0]]}出发:-->\", end=' ')\n",
    "    for j in route[1:]:\n",
    "        if route.index(j) < len(route) - 1:\n",
    "            print(f\"经：{df_distance.index[j]}-->\", end=' ')\n",
    "        else:\n",
    "            print(f\"到：{df_distance.index[j]} 结束\")\n",
    "            print(f\"行驶里程为：{distance_list[i]}\")\n",
    "    print(\"*\" * 100)"
   ]
  },
  {
   "cell_type": "markdown",
   "metadata": {},
   "source": [
    "# 4 总结：\n"
   ]
  },
  {
   "cell_type": "markdown",
   "metadata": {},
   "source": [
    "1. 主要是对这些API比较陌生，要按过程梳理好；官网的步骤很清晰，可以参考。\n",
    "2. 一辆车时，没有`for vehicle_id in range(self.num_vehicles)`这层循环，solution.ObjectiveValue()=route_distance，但多辆车时，solution.ObjectiveValue()会大于route_distance。\n",
    "3. 这里我们解决的是，用4辆车一起跑遍33个城市，而不是每一辆车都跑遍33个城市，所以每辆车行驶的路线会不同。"
   ]
  },
  {
   "cell_type": "code",
   "execution_count": null,
   "metadata": {},
   "outputs": [],
   "source": []
  }
 ],
 "metadata": {
  "kernelspec": {
   "display_name": "Python [conda env:envpy37]",
   "language": "python",
   "name": "conda-env-envpy37-py"
  },
  "language_info": {
   "codemirror_mode": {
    "name": "ipython",
    "version": 3
   },
   "file_extension": ".py",
   "mimetype": "text/x-python",
   "name": "python",
   "nbconvert_exporter": "python",
   "pygments_lexer": "ipython3",
   "version": "3.7.7"
  },
  "nbTranslate": {
   "displayLangs": [
    "*"
   ],
   "hotkey": "alt-t",
   "langInMainMenu": true,
   "sourceLang": "en",
   "targetLang": "fr",
   "useGoogleTranslate": true
  },
  "toc": {
   "base_numbering": 1,
   "nav_menu": {},
   "number_sections": false,
   "sideBar": true,
   "skip_h1_title": false,
   "title_cell": "Table of Contents",
   "title_sidebar": "Contents",
   "toc_cell": true,
   "toc_position": {},
   "toc_section_display": true,
   "toc_window_display": true
  },
  "varInspector": {
   "cols": {
    "lenName": 16,
    "lenType": 16,
    "lenVar": 40
   },
   "kernels_config": {
    "python": {
     "delete_cmd_postfix": "",
     "delete_cmd_prefix": "del ",
     "library": "var_list.py",
     "varRefreshCmd": "print(var_dic_list())"
    },
    "r": {
     "delete_cmd_postfix": ") ",
     "delete_cmd_prefix": "rm(",
     "library": "var_list.r",
     "varRefreshCmd": "cat(var_dic_list()) "
    }
   },
   "types_to_exclude": [
    "module",
    "function",
    "builtin_function_or_method",
    "instance",
    "_Feature"
   ],
   "window_display": false
  }
 },
 "nbformat": 4,
 "nbformat_minor": 4
}
