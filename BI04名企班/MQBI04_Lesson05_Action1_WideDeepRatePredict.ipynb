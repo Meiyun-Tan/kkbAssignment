{
 "cells": [
  {
   "cell_type": "markdown",
   "metadata": {
    "toc": true
   },
   "source": [
    "<h1>Table of Contents<span class=\"tocSkip\"></span></h1>\n",
    "<div class=\"toc\"><ul class=\"toc-item\"><li><span><a href=\"#1-加载数据\" data-toc-modified-id=\"1-加载数据-1\">1 加载数据</a></span></li><li><span><a href=\"#2-特征预处理\" data-toc-modified-id=\"2-特征预处理-2\">2 特征预处理</a></span><ul class=\"toc-item\"><li><span><a href=\"#2.1-LabelEncoder\" data-toc-modified-id=\"2.1-LabelEncoder-2.1\">2.1 LabelEncoder</a></span></li><li><span><a href=\"#2.2-生成词向量\" data-toc-modified-id=\"2.2-生成词向量-2.2\">2.2 生成词向量</a></span><ul class=\"toc-item\"><li><span><a href=\"#2.2.1-为每个特征生成的词向量\" data-toc-modified-id=\"2.2.1-为每个特征生成的词向量-2.2.1\">2.2.1 为每个特征生成的词向量</a></span></li><li><span><a href=\"#2.2.2演示SparseFeat\" data-toc-modified-id=\"2.2.2演示SparseFeat-2.2.2\">2.2.2演示SparseFeat</a></span></li></ul></li></ul></li><li><span><a href=\"#3-构造训练集与测试集\" data-toc-modified-id=\"3-构造训练集与测试集-3\">3 构造训练集与测试集</a></span><ul class=\"toc-item\"><li><span><a href=\"#3.1-拆分数据集\" data-toc-modified-id=\"3.1-拆分数据集-3.1\">3.1 拆分数据集</a></span></li><li><span><a href=\"#3.2-构建特征名与数据的映射字典\" data-toc-modified-id=\"3.2-构建特征名与数据的映射字典-3.2\">3.2 构建特征名与数据的映射字典</a></span></li></ul></li><li><span><a href=\"#建模\" data-toc-modified-id=\"建模-4\">建模</a></span><ul class=\"toc-item\"><li><span><a href=\"#4.1-实例化模型\" data-toc-modified-id=\"4.1-实例化模型-4.1\">4.1 实例化模型</a></span></li><li><span><a href=\"#4.2-编译模型\" data-toc-modified-id=\"4.2-编译模型-4.2\">4.2 编译模型</a></span></li><li><span><a href=\"#4.3-训练模型\" data-toc-modified-id=\"4.3-训练模型-4.3\">4.3 训练模型</a></span><ul class=\"toc-item\"><li><span><a href=\"#4.3.1-训练\" data-toc-modified-id=\"4.3.1-训练-4.3.1\">4.3.1 训练</a></span></li><li><span><a href=\"#4.3.2-Loss-可视化\" data-toc-modified-id=\"4.3.2-Loss-可视化-4.3.2\">4.3.2 Loss 可视化</a></span></li></ul></li></ul></li><li><span><a href=\"#5-预测\" data-toc-modified-id=\"5-预测-5\">5 预测</a></span></li><li><span><a href=\"#6-总结\" data-toc-modified-id=\"6-总结-6\">6 总结</a></span></li></ul></div>"
   ]
  },
  {
   "cell_type": "markdown",
   "metadata": {
    "colab_type": "text",
    "id": "GIMRRTPxf82_"
   },
   "source": [
    "Action1:使用Wide&Deep模型对movielens进行评分预测"
   ]
  },
  {
   "cell_type": "code",
   "execution_count": 7,
   "metadata": {
    "colab": {},
    "colab_type": "code",
    "id": "xC_MqELmf83A"
   },
   "outputs": [],
   "source": [
    "import pandas as pd\n",
    "\n",
    "from matplotlib import pyplot as plt\n",
    "\n",
    "from sklearn.metrics import mean_squared_error\n",
    "from sklearn.preprocessing import LabelEncoder\n",
    "from sklearn.model_selection import train_test_split\n",
    "\n",
    "from deepctr.models import WDL\n",
    "from deepctr.feature_column import SparseFeat, get_feature_names"
   ]
  },
  {
   "cell_type": "code",
   "execution_count": 1,
   "metadata": {},
   "outputs": [],
   "source": [
    "from sklearn.metrics import mean_absolute_error"
   ]
  },
  {
   "cell_type": "markdown",
   "metadata": {},
   "source": [
    "# 1 加载数据"
   ]
  },
  {
   "cell_type": "code",
   "execution_count": 8,
   "metadata": {
    "colab": {},
    "colab_type": "code",
    "id": "5mFT2uVZf83J"
   },
   "outputs": [],
   "source": [
    "df = pd.read_csv('ratings.csv')"
   ]
  },
  {
   "cell_type": "code",
   "execution_count": 9,
   "metadata": {
    "colab": {
     "base_uri": "https://localhost:8080/",
     "height": 111
    },
    "colab_type": "code",
    "id": "Jbfu-crQf83M",
    "outputId": "bca56ed8-3af4-4be7-e284-d0e7a222671a"
   },
   "outputs": [
    {
     "data": {
      "text/html": [
       "<div>\n",
       "<style scoped>\n",
       "    .dataframe tbody tr th:only-of-type {\n",
       "        vertical-align: middle;\n",
       "    }\n",
       "\n",
       "    .dataframe tbody tr th {\n",
       "        vertical-align: top;\n",
       "    }\n",
       "\n",
       "    .dataframe thead th {\n",
       "        text-align: right;\n",
       "    }\n",
       "</style>\n",
       "<table border=\"1\" class=\"dataframe\">\n",
       "  <thead>\n",
       "    <tr style=\"text-align: right;\">\n",
       "      <th></th>\n",
       "      <th>userId</th>\n",
       "      <th>movieId</th>\n",
       "      <th>rating</th>\n",
       "      <th>timestamp</th>\n",
       "    </tr>\n",
       "  </thead>\n",
       "  <tbody>\n",
       "    <tr>\n",
       "      <th>0</th>\n",
       "      <td>1</td>\n",
       "      <td>2</td>\n",
       "      <td>3.5</td>\n",
       "      <td>1112486027</td>\n",
       "    </tr>\n",
       "    <tr>\n",
       "      <th>1</th>\n",
       "      <td>1</td>\n",
       "      <td>29</td>\n",
       "      <td>3.5</td>\n",
       "      <td>1112484676</td>\n",
       "    </tr>\n",
       "  </tbody>\n",
       "</table>\n",
       "</div>"
      ],
      "text/plain": [
       "   userId  movieId  rating   timestamp\n",
       "0       1        2     3.5  1112486027\n",
       "1       1       29     3.5  1112484676"
      ]
     },
     "execution_count": 9,
     "metadata": {
      "tags": []
     },
     "output_type": "execute_result"
    }
   ],
   "source": [
    "df.head(2)"
   ]
  },
  {
   "cell_type": "markdown",
   "metadata": {
    "colab_type": "text",
    "id": "Ylo-2giLf83S"
   },
   "source": [
    "# 2 特征预处理"
   ]
  },
  {
   "cell_type": "code",
   "execution_count": 10,
   "metadata": {
    "colab": {},
    "colab_type": "code",
    "id": "gxdmnB8gf83T"
   },
   "outputs": [],
   "source": [
    "# 选取特征\n",
    "sparse_features = [\"userId\", \"movieId\", \"timestamp\"]\n",
    "target = ['rating']"
   ]
  },
  {
   "cell_type": "markdown",
   "metadata": {
    "colab_type": "text",
    "id": "sfd7DplOf83V"
   },
   "source": [
    "## 2.1 LabelEncoder"
   ]
  },
  {
   "cell_type": "code",
   "execution_count": 11,
   "metadata": {
    "colab": {},
    "colab_type": "code",
    "id": "ugiRwam7f83X"
   },
   "outputs": [],
   "source": [
    "for feature in sparse_features:\n",
    "    transfer = LabelEncoder()\n",
    "    df[feature] = transfer.fit_transform(df[feature])"
   ]
  },
  {
   "cell_type": "code",
   "execution_count": 12,
   "metadata": {
    "colab": {
     "base_uri": "https://localhost:8080/",
     "height": 111
    },
    "colab_type": "code",
    "id": "c931e0uXf83Z",
    "outputId": "6aec87d2-60b1-472d-e1c7-53f247157795",
    "scrolled": true
   },
   "outputs": [
    {
     "data": {
      "text/html": [
       "<div>\n",
       "<style scoped>\n",
       "    .dataframe tbody tr th:only-of-type {\n",
       "        vertical-align: middle;\n",
       "    }\n",
       "\n",
       "    .dataframe tbody tr th {\n",
       "        vertical-align: top;\n",
       "    }\n",
       "\n",
       "    .dataframe thead th {\n",
       "        text-align: right;\n",
       "    }\n",
       "</style>\n",
       "<table border=\"1\" class=\"dataframe\">\n",
       "  <thead>\n",
       "    <tr style=\"text-align: right;\">\n",
       "      <th></th>\n",
       "      <th>userId</th>\n",
       "      <th>movieId</th>\n",
       "      <th>rating</th>\n",
       "      <th>timestamp</th>\n",
       "    </tr>\n",
       "  </thead>\n",
       "  <tbody>\n",
       "    <tr>\n",
       "      <th>0</th>\n",
       "      <td>0</td>\n",
       "      <td>1</td>\n",
       "      <td>3.5</td>\n",
       "      <td>340880</td>\n",
       "    </tr>\n",
       "    <tr>\n",
       "      <th>1</th>\n",
       "      <td>0</td>\n",
       "      <td>28</td>\n",
       "      <td>3.5</td>\n",
       "      <td>340785</td>\n",
       "    </tr>\n",
       "  </tbody>\n",
       "</table>\n",
       "</div>"
      ],
      "text/plain": [
       "   userId  movieId  rating  timestamp\n",
       "0       0        1     3.5     340880\n",
       "1       0       28     3.5     340785"
      ]
     },
     "execution_count": 12,
     "metadata": {
      "tags": []
     },
     "output_type": "execute_result"
    }
   ],
   "source": [
    "df.head(2)"
   ]
  },
  {
   "cell_type": "markdown",
   "metadata": {
    "colab_type": "text",
    "id": "KLWHdehcf83c"
   },
   "source": [
    "## 2.2 生成词向量"
   ]
  },
  {
   "cell_type": "markdown",
   "metadata": {
    "colab_type": "text",
    "id": "DpLDw9wWf83c"
   },
   "source": [
    "### 2.2.1 为每个特征生成的词向量"
   ]
  },
  {
   "cell_type": "code",
   "execution_count": 13,
   "metadata": {
    "colab": {},
    "colab_type": "code",
    "id": "esjh459Vf83c"
   },
   "outputs": [],
   "source": [
    "fixlen_feature_columns = [SparseFeat(f, df[f].nunique()) for f in sparse_features]"
   ]
  },
  {
   "cell_type": "code",
   "execution_count": 14,
   "metadata": {
    "colab": {},
    "colab_type": "code",
    "id": "NqVcgyj6f83f"
   },
   "outputs": [],
   "source": [
    "linear_feature_columns = fixlen_feature_columns\n",
    "dnn_feature_columns = fixlen_feature_columns"
   ]
  },
  {
   "cell_type": "code",
   "execution_count": 15,
   "metadata": {
    "colab": {},
    "colab_type": "code",
    "id": "n5A--HfKf83i"
   },
   "outputs": [],
   "source": [
    "feature_names = get_feature_names(linear_feature_columns + dnn_feature_columns)"
   ]
  },
  {
   "cell_type": "markdown",
   "metadata": {
    "colab_type": "text",
    "id": "oLLRNEOsf83k"
   },
   "source": [
    "### 2.2.2演示SparseFeat"
   ]
  },
  {
   "cell_type": "code",
   "execution_count": 16,
   "metadata": {
    "colab": {
     "base_uri": "https://localhost:8080/",
     "height": 34
    },
    "colab_type": "code",
    "id": "1ELOYj-Cf83l",
    "outputId": "b09b6ec7-28f0-48f7-fe38-efcd995d82db",
    "scrolled": true
   },
   "outputs": [
    {
     "data": {
      "text/plain": [
       "7120"
      ]
     },
     "execution_count": 16,
     "metadata": {
      "tags": []
     },
     "output_type": "execute_result"
    }
   ],
   "source": [
    "# 计算特征gender中的 不同特征值的个数\n",
    "df['userId'].nunique()"
   ]
  },
  {
   "cell_type": "code",
   "execution_count": 17,
   "metadata": {
    "colab": {
     "base_uri": "https://localhost:8080/",
     "height": 54
    },
    "colab_type": "code",
    "id": "_zLet_s8f83p",
    "outputId": "a5d73afb-7824-4901-e31e-8c71ed10ca92"
   },
   "outputs": [
    {
     "data": {
      "text/plain": [
       "SparseFeat(name='userId', vocabulary_size=7120, embedding_dim=4, use_hash=False, dtype='int32', embeddings_initializer=<tensorflow.python.keras.initializers.initializers_v1.RandomNormal object at 0x7fd13e4cc390>, embedding_name='userId', group_name='default_group', trainable=True)"
      ]
     },
     "execution_count": 17,
     "metadata": {
      "tags": []
     },
     "output_type": "execute_result"
    }
   ],
   "source": [
    "SparseFeat(name='userId', vocabulary_size=7120, embedding_dim=4)"
   ]
  },
  {
   "cell_type": "markdown",
   "metadata": {
    "colab_type": "text",
    "id": "NZA12CkFf83r"
   },
   "source": [
    "# 3 构造训练集与测试集"
   ]
  },
  {
   "cell_type": "markdown",
   "metadata": {
    "colab_type": "text",
    "id": "eGlzjf0Hf83s"
   },
   "source": [
    "## 3.1 拆分数据集"
   ]
  },
  {
   "cell_type": "code",
   "execution_count": 18,
   "metadata": {
    "colab": {},
    "colab_type": "code",
    "id": "7E_rGrW0f83s"
   },
   "outputs": [],
   "source": [
    "df_train, df_test = train_test_split(df, test_size=0.2, random_state=30)"
   ]
  },
  {
   "cell_type": "code",
   "execution_count": 19,
   "metadata": {
    "colab": {
     "base_uri": "https://localhost:8080/",
     "height": 34
    },
    "colab_type": "code",
    "id": "2Eeonabhf83x",
    "outputId": "d617924f-e2d3-4f47-a4ae-dd66e3e93de8",
    "scrolled": true
   },
   "outputs": [
    {
     "data": {
      "text/plain": [
       "((838860, 4), (209715, 4))"
      ]
     },
     "execution_count": 19,
     "metadata": {
      "tags": []
     },
     "output_type": "execute_result"
    }
   ],
   "source": [
    "df_train.shape, df_test.shape"
   ]
  },
  {
   "cell_type": "markdown",
   "metadata": {
    "colab_type": "text",
    "id": "xkCm480vf83z"
   },
   "source": [
    "## 3.2 构建特征名与数据的映射字典"
   ]
  },
  {
   "cell_type": "code",
   "execution_count": 20,
   "metadata": {
    "colab": {},
    "colab_type": "code",
    "id": "IZV_KoT5f830"
   },
   "outputs": [],
   "source": [
    "train_model_input = {n:df_train[n].values for n in feature_names}\n",
    "test_model_input = {n:df_test[n].values for n in feature_names}"
   ]
  },
  {
   "cell_type": "markdown",
   "metadata": {
    "colab_type": "text",
    "id": "X-qhbnfIf834"
   },
   "source": [
    "# 建模"
   ]
  },
  {
   "cell_type": "markdown",
   "metadata": {
    "colab_type": "text",
    "id": "TSS6dUHof834"
   },
   "source": [
    "## 4.1 实例化模型"
   ]
  },
  {
   "cell_type": "code",
   "execution_count": 21,
   "metadata": {
    "colab": {},
    "colab_type": "code",
    "id": "oYvtPFF_f835"
   },
   "outputs": [],
   "source": [
    "model = WDL(\n",
    "    linear_feature_columns,\n",
    "    dnn_feature_columns,\n",
    "    task='regression',\n",
    "    dnn_hidden_units=(256, 256),\n",
    "    l2_reg_linear=10,\n",
    "    l2_reg_embedding=10,\n",
    "    l2_reg_dnn=1,\n",
    "    dnn_dropout=0.5,\n",
    "    dnn_activation='relu',\n",
    "    seed=1020\n",
    "           )"
   ]
  },
  {
   "cell_type": "markdown",
   "metadata": {
    "colab_type": "text",
    "id": "BPKSFqbZf837"
   },
   "source": [
    "## 4.2 编译模型"
   ]
  },
  {
   "cell_type": "code",
   "execution_count": 22,
   "metadata": {
    "colab": {},
    "colab_type": "code",
    "id": "nfhfUj3Cf837"
   },
   "outputs": [],
   "source": [
    "model.compile(optimizer='adam', loss='mse', metrics=['mse'])"
   ]
  },
  {
   "cell_type": "markdown",
   "metadata": {
    "colab_type": "text",
    "id": "ONluDWlzf839"
   },
   "source": [
    "## 4.3 训练模型"
   ]
  },
  {
   "cell_type": "markdown",
   "metadata": {
    "colab_type": "text",
    "id": "5BngFggHf83-"
   },
   "source": [
    "### 4.3.1 训练"
   ]
  },
  {
   "cell_type": "code",
   "execution_count": 23,
   "metadata": {
    "colab": {
     "base_uri": "https://localhost:8080/",
     "height": 445
    },
    "colab_type": "code",
    "id": "SxidnN_Tf83-",
    "outputId": "ef9a71a8-ad22-49b5-a0f1-ffd5f8c451d7",
    "scrolled": true
   },
   "outputs": [
    {
     "name": "stdout",
     "output_type": "stream",
     "text": [
      "Epoch 1/10\n"
     ]
    },
    {
     "name": "stderr",
     "output_type": "stream",
     "text": [
      "/usr/local/lib/python3.6/dist-packages/tensorflow/python/framework/indexed_slices.py:432: UserWarning: Converting sparse IndexedSlices to a dense Tensor of unknown shape. This may consume a large amount of memory.\n",
      "  \"Converting sparse IndexedSlices to a dense Tensor of unknown shape. \"\n"
     ]
    },
    {
     "name": "stdout",
     "output_type": "stream",
     "text": [
      "2622/2622 [==============================] - 87s 33ms/step - loss: 5.3472 - mse: 1.3668 - val_loss: 1.2186 - val_mse: 1.1035\n",
      "Epoch 2/10\n",
      "2622/2622 [==============================] - 86s 33ms/step - loss: 1.2191 - mse: 1.1691 - val_loss: 1.1712 - val_mse: 1.1042\n",
      "Epoch 3/10\n",
      "2622/2622 [==============================] - 86s 33ms/step - loss: 1.1985 - mse: 1.1519 - val_loss: 1.1648 - val_mse: 1.1030\n",
      "Epoch 4/10\n",
      "2622/2622 [==============================] - 86s 33ms/step - loss: 1.1829 - mse: 1.1364 - val_loss: 1.1639 - val_mse: 1.1078\n",
      "Epoch 5/10\n",
      "2622/2622 [==============================] - 86s 33ms/step - loss: 1.1731 - mse: 1.1271 - val_loss: 1.1554 - val_mse: 1.1024\n",
      "Epoch 6/10\n",
      "2622/2622 [==============================] - 86s 33ms/step - loss: 1.1659 - mse: 1.1201 - val_loss: 1.1620 - val_mse: 1.1073\n",
      "Epoch 7/10\n",
      "2622/2622 [==============================] - 86s 33ms/step - loss: 1.1616 - mse: 1.1160 - val_loss: 1.1562 - val_mse: 1.1024\n",
      "Epoch 8/10\n",
      "2622/2622 [==============================] - 86s 33ms/step - loss: 1.1583 - mse: 1.1128 - val_loss: 1.1543 - val_mse: 1.1024\n",
      "Epoch 9/10\n",
      "2622/2622 [==============================] - 85s 32ms/step - loss: 1.1567 - mse: 1.1111 - val_loss: 1.1568 - val_mse: 1.1035\n",
      "Epoch 10/10\n",
      "2622/2622 [==============================] - 85s 32ms/step - loss: 1.1548 - mse: 1.1095 - val_loss: 1.1559 - val_mse: 1.1026\n",
      "CPU times: user 21min 31s, sys: 1min 16s, total: 22min 47s\n",
      "Wall time: 14min 20s\n"
     ]
    }
   ],
   "source": [
    "%%time\n",
    "EPOCH = 10\n",
    "history = model.fit(\n",
    "    train_model_input,\n",
    "    df_train[target].values,\n",
    "    batch_size=256,\n",
    "    epochs=EPOCH,\n",
    "    validation_split=0.2,\n",
    "    shuffle=True,\n",
    "    verbose=1,\n",
    "    workers=2\n",
    ")\n",
    "\n",
    "hist_dict  = history.history"
   ]
  },
  {
   "cell_type": "code",
   "execution_count": 24,
   "metadata": {
    "colab": {
     "base_uri": "https://localhost:8080/",
     "height": 34
    },
    "colab_type": "code",
    "id": "z9AxLJs1f84D",
    "outputId": "1b075514-d6c4-4a22-ff63-83e3aada8113"
   },
   "outputs": [
    {
     "data": {
      "text/plain": [
       "dict_keys(['loss', 'mse', 'val_loss', 'val_mse'])"
      ]
     },
     "execution_count": 24,
     "metadata": {
      "tags": []
     },
     "output_type": "execute_result"
    }
   ],
   "source": [
    "hist_dict.keys()"
   ]
  },
  {
   "cell_type": "markdown",
   "metadata": {
    "colab_type": "text",
    "id": "qmwuM8YVf84F"
   },
   "source": [
    "### 4.3.2 Loss 可视化"
   ]
  },
  {
   "cell_type": "code",
   "execution_count": 25,
   "metadata": {
    "colab": {
     "base_uri": "https://localhost:8080/",
     "height": 281
    },
    "colab_type": "code",
    "id": "cJ-10TE-f84G",
    "outputId": "deec3d43-1d8e-4761-9213-c2c5356d6a22",
    "scrolled": true
   },
   "outputs": [
    {
     "data": {
      "image/png": "[encoded data removed]",
      "text/plain": [
       "<Figure size 432x288 with 1 Axes>"
      ]
     },
     "metadata": {
      "needs_background": "light",
      "tags": []
     },
     "output_type": "display_data"
    }
   ],
   "source": [
    "plt.plot(list(range(EPOCH)), hist_dict['mse'], color='r', label='Train MSE')\n",
    "plt.plot(list(range(EPOCH)), hist_dict['val_mse'], color='b', label='Val MSE')\n",
    "plt.title('Train & Validation Loss')\n",
    "plt.legend()\n",
    "plt.grid()\n",
    "plt.show()"
   ]
  },
  {
   "cell_type": "markdown",
   "metadata": {
    "colab_type": "text",
    "id": "d4zFVoYkf84K"
   },
   "source": [
    "# 5 预测"
   ]
  },
  {
   "cell_type": "code",
   "execution_count": 28,
   "metadata": {
    "colab": {},
    "colab_type": "code",
    "id": "kAJMWelMf84K"
   },
   "outputs": [],
   "source": [
    "# 预测\n",
    "test_preds = model.predict(test_model_input, batch_size=256)"
   ]
  },
  {
   "cell_type": "code",
   "execution_count": 29,
   "metadata": {
    "colab": {
     "base_uri": "https://localhost:8080/",
     "height": 51
    },
    "colab_type": "code",
    "id": "CacPWhpAf84O",
    "outputId": "8c23521d-accb-4484-d64b-2b4c7097ca76"
   },
   "outputs": [
    {
     "data": {
      "text/plain": [
       "array([[4.015286],\n",
       "       [3.452024]], dtype=float32)"
      ]
     },
     "execution_count": 29,
     "metadata": {
      "tags": []
     },
     "output_type": "execute_result"
    }
   ],
   "source": [
    "test_preds[:2]"
   ]
  },
  {
   "cell_type": "code",
   "execution_count": 30,
   "metadata": {
    "colab": {
     "base_uri": "https://localhost:8080/",
     "height": 34
    },
    "colab_type": "code",
    "id": "znG5Xm7Xf84R",
    "outputId": "20e8ebf1-148b-4b71-9d4e-d0121d7bf4c8"
   },
   "outputs": [
    {
     "data": {
      "text/plain": [
       "0.775768713454171"
      ]
     },
     "execution_count": 30,
     "metadata": {
      "tags": []
     },
     "output_type": "execute_result"
    }
   ],
   "source": [
    "# 计算MSE\n",
    "mean_squared_error(df_test[target].values, test_preds)"
   ]
  },
  {
   "cell_type": "code",
   "execution_count": 31,
   "metadata": {
    "colab": {},
    "colab_type": "code",
    "id": "ufh9codof84T"
   },
   "outputs": [],
   "source": [
    "df_peds = df_test.copy()"
   ]
  },
  {
   "cell_type": "code",
   "execution_count": 32,
   "metadata": {
    "colab": {
     "base_uri": "https://localhost:8080/",
     "height": 34
    },
    "colab_type": "code",
    "id": "O7QRjFqDwfp5",
    "outputId": "7f3ea664-de7d-40f0-c7fd-d66785bebac0"
   },
   "outputs": [
    {
     "data": {
      "text/plain": [
       "(209715, 4)"
      ]
     },
     "execution_count": 32,
     "metadata": {
      "tags": []
     },
     "output_type": "execute_result"
    }
   ],
   "source": [
    "df_peds.shape"
   ]
  },
  {
   "cell_type": "code",
   "execution_count": 33,
   "metadata": {
    "colab": {
     "base_uri": "https://localhost:8080/",
     "height": 80
    },
    "colab_type": "code",
    "id": "wQjaTUQVwkIz",
    "outputId": "83da575b-0569-4a98-d628-81d7631d21be"
   },
   "outputs": [
    {
     "data": {
      "text/html": [
       "<div>\n",
       "<style scoped>\n",
       "    .dataframe tbody tr th:only-of-type {\n",
       "        vertical-align: middle;\n",
       "    }\n",
       "\n",
       "    .dataframe tbody tr th {\n",
       "        vertical-align: top;\n",
       "    }\n",
       "\n",
       "    .dataframe thead th {\n",
       "        text-align: right;\n",
       "    }\n",
       "</style>\n",
       "<table border=\"1\" class=\"dataframe\">\n",
       "  <thead>\n",
       "    <tr style=\"text-align: right;\">\n",
       "      <th></th>\n",
       "      <th>userId</th>\n",
       "      <th>movieId</th>\n",
       "      <th>rating</th>\n",
       "      <th>timestamp</th>\n",
       "    </tr>\n",
       "  </thead>\n",
       "  <tbody>\n",
       "    <tr>\n",
       "      <th>817193</th>\n",
       "      <td>5450</td>\n",
       "      <td>1190</td>\n",
       "      <td>3.5</td>\n",
       "      <td>588296</td>\n",
       "    </tr>\n",
       "  </tbody>\n",
       "</table>\n",
       "</div>"
      ],
      "text/plain": [
       "        userId  movieId  rating  timestamp\n",
       "817193    5450     1190     3.5     588296"
      ]
     },
     "execution_count": 33,
     "metadata": {
      "tags": []
     },
     "output_type": "execute_result"
    }
   ],
   "source": [
    "df_peds.head(1)"
   ]
  },
  {
   "cell_type": "code",
   "execution_count": 34,
   "metadata": {
    "colab": {
     "base_uri": "https://localhost:8080/",
     "height": 34
    },
    "colab_type": "code",
    "id": "3bYE8mVjwt7r",
    "outputId": "d19dd96d-7555-4b16-9320-35d17a492be9"
   },
   "outputs": [
    {
     "data": {
      "text/plain": [
       "(209715, 1)"
      ]
     },
     "execution_count": 34,
     "metadata": {
      "tags": []
     },
     "output_type": "execute_result"
    }
   ],
   "source": [
    "test_preds.shape"
   ]
  },
  {
   "cell_type": "code",
   "execution_count": 35,
   "metadata": {
    "colab": {},
    "colab_type": "code",
    "id": "8SThiTnYf84Y"
   },
   "outputs": [],
   "source": [
    "df_peds['preds'] = test_preds[:, 0]"
   ]
  },
  {
   "cell_type": "code",
   "execution_count": 36,
   "metadata": {
    "colab": {
     "base_uri": "https://localhost:8080/",
     "height": 204
    },
    "colab_type": "code",
    "id": "2hQzNj3glK-_",
    "outputId": "c9ad568f-5f43-4183-f005-da99487bb4b9"
   },
   "outputs": [
    {
     "data": {
      "text/html": [
       "<div>\n",
       "<style scoped>\n",
       "    .dataframe tbody tr th:only-of-type {\n",
       "        vertical-align: middle;\n",
       "    }\n",
       "\n",
       "    .dataframe tbody tr th {\n",
       "        vertical-align: top;\n",
       "    }\n",
       "\n",
       "    .dataframe thead th {\n",
       "        text-align: right;\n",
       "    }\n",
       "</style>\n",
       "<table border=\"1\" class=\"dataframe\">\n",
       "  <thead>\n",
       "    <tr style=\"text-align: right;\">\n",
       "      <th></th>\n",
       "      <th>rating</th>\n",
       "      <th>preds</th>\n",
       "    </tr>\n",
       "  </thead>\n",
       "  <tbody>\n",
       "    <tr>\n",
       "      <th>817193</th>\n",
       "      <td>3.5</td>\n",
       "      <td>4.015286</td>\n",
       "    </tr>\n",
       "    <tr>\n",
       "      <th>438441</th>\n",
       "      <td>2.0</td>\n",
       "      <td>3.452024</td>\n",
       "    </tr>\n",
       "    <tr>\n",
       "      <th>370515</th>\n",
       "      <td>5.0</td>\n",
       "      <td>4.110229</td>\n",
       "    </tr>\n",
       "    <tr>\n",
       "      <th>840250</th>\n",
       "      <td>4.5</td>\n",
       "      <td>3.947673</td>\n",
       "    </tr>\n",
       "    <tr>\n",
       "      <th>250809</th>\n",
       "      <td>3.0</td>\n",
       "      <td>3.368187</td>\n",
       "    </tr>\n",
       "  </tbody>\n",
       "</table>\n",
       "</div>"
      ],
      "text/plain": [
       "        rating     preds\n",
       "817193     3.5  4.015286\n",
       "438441     2.0  3.452024\n",
       "370515     5.0  4.110229\n",
       "840250     4.5  3.947673\n",
       "250809     3.0  3.368187"
      ]
     },
     "execution_count": 36,
     "metadata": {
      "tags": []
     },
     "output_type": "execute_result"
    }
   ],
   "source": [
    "# 真实值与预测值对比\n",
    "df_peds[['rating', 'preds']].head()"
   ]
  },
  {
   "cell_type": "markdown",
   "metadata": {
    "colab": {},
    "colab_type": "code",
    "id": "JK5A6GlAxLjB"
   },
   "source": [
    "# 6 总结"
   ]
  },
  {
   "cell_type": "markdown",
   "metadata": {},
   "source": [
    "1. 在movielens_sample.txt上使用wide&Deep模型的时候，因为数据集较小，所以可以迭代较多次，发现基本都在EPOCH=45时loss最低到0.99；\n",
    "2. 对movielens的完整数据集ratings.csv上使用wide&deep模型时，由于数据集较大，迭代耗时较久，所以EPOCH未取太大，从loss曲线看，10次迭代后验证集的loss趋向平缓，所以未再尝试更大EPOCH。"
   ]
  },
  {
   "cell_type": "code",
   "execution_count": null,
   "metadata": {},
   "outputs": [],
   "source": []
  }
 ],
 "metadata": {
  "accelerator": "GPU",
  "colab": {
   "collapsed_sections": [],
   "name": "MQ04_Lesson05_Action1_WideDeepRatePredict.ipynb",
   "provenance": []
  },
  "kernelspec": {
   "display_name": "Python 3",
   "language": "python",
   "name": "python3"
  },
  "language_info": {
   "codemirror_mode": {
    "name": "ipython",
    "version": 3
   },
   "file_extension": ".py",
   "mimetype": "text/x-python",
   "name": "python",
   "nbconvert_exporter": "python",
   "pygments_lexer": "ipython3",
   "version": "3.8.5"
  },
  "toc": {
   "base_numbering": 1,
   "nav_menu": {},
   "number_sections": false,
   "sideBar": true,
   "skip_h1_title": false,
   "title_cell": "Table of Contents",
   "title_sidebar": "Contents",
   "toc_cell": true,
   "toc_position": {},
   "toc_section_display": true,
   "toc_window_display": true
  },
  "varInspector": {
   "cols": {
    "lenName": 16,
    "lenType": 16,
    "lenVar": 40
   },
   "kernels_config": {
    "python": {
     "delete_cmd_postfix": "",
     "delete_cmd_prefix": "del ",
     "library": "var_list.py",
     "varRefreshCmd": "print(var_dic_list())"
    },
    "r": {
     "delete_cmd_postfix": ") ",
     "delete_cmd_prefix": "rm(",
     "library": "var_list.r",
     "varRefreshCmd": "cat(var_dic_list()) "
    }
   },
   "types_to_exclude": [
    "module",
    "function",
    "builtin_function_or_method",
    "instance",
    "_Feature"
   ],
   "window_display": false
  }
 },
 "nbformat": 4,
 "nbformat_minor": 1
}
