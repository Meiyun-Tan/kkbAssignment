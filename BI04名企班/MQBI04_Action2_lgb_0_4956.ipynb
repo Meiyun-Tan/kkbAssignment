{
  "nbformat": 4,
  "nbformat_minor": 0,
  "metadata": {
    "colab": {
      "name": "MQBI04_Action2_lgb_0.4956.ipynb",
      "provenance": [],
      "collapsed_sections": []
    },
    "kernelspec": {
      "display_name": "Python 3",
      "language": "python",
      "name": "python3"
    },
    "language_info": {
      "codemirror_mode": {
        "name": "ipython",
        "version": 3
      },
      "file_extension": ".py",
      "mimetype": "text/x-python",
      "name": "python",
      "nbconvert_exporter": "python",
      "pygments_lexer": "ipython3",
      "version": "3.8.3"
    },
    "nbTranslate": {
      "displayLangs": [
        "*"
      ],
      "hotkey": "alt-t",
      "langInMainMenu": true,
      "sourceLang": "en",
      "targetLang": "fr",
      "useGoogleTranslate": true
    },
    "toc": {
      "base_numbering": 1,
      "nav_menu": {},
      "number_sections": true,
      "sideBar": true,
      "skip_h1_title": false,
      "title_cell": "Table of Contents",
      "title_sidebar": "Contents",
      "toc_cell": false,
      "toc_position": {
        "height": "calc(100% - 180px)",
        "left": "10px",
        "top": "150px",
        "width": "261.818px"
      },
      "toc_section_display": true,
      "toc_window_display": true
    },
    "varInspector": {
      "cols": {
        "lenName": 16,
        "lenType": 16,
        "lenVar": 40
      },
      "kernels_config": {
        "python": {
          "delete_cmd_postfix": "",
          "delete_cmd_prefix": "del ",
          "library": "var_list.py",
          "varRefreshCmd": "print(var_dic_list())"
        },
        "r": {
          "delete_cmd_postfix": ") ",
          "delete_cmd_prefix": "rm(",
          "library": "var_list.r",
          "varRefreshCmd": "cat(var_dic_list()) "
        }
      },
      "oldHeight": 122.72736400000001,
      "position": {
        "height": "40px",
        "left": "931.082px",
        "right": "20px",
        "top": "135.997px",
        "width": "350px"
      },
      "types_to_exclude": [
        "module",
        "function",
        "builtin_function_or_method",
        "instance",
        "_Feature"
      ],
      "varInspector_section_display": "none",
      "window_display": false
    },
    "accelerator": "GPU"
  },
  "cells": [
    {
      "cell_type": "code",
      "metadata": {
        "colab": {
          "base_uri": "https://localhost:8080/"
        },
        "id": "gzentbWxWyyV",
        "outputId": "a95633ab-bf58-4a92-c202-65ba7be2878f"
      },
      "source": [
        "from google.colab import drive\n",
        "drive.mount('/content/drive')"
      ],
      "execution_count": 1,
      "outputs": [
        {
          "output_type": "stream",
          "text": [
            "Mounted at /content/drive\n"
          ],
          "name": "stdout"
        }
      ]
    },
    {
      "cell_type": "code",
      "metadata": {
        "id": "DgqmN0RbWyhM"
      },
      "source": [
        "import os\n",
        "os.chdir(\"/content/drive/MyDrive/Colab Notebooks/MQBI04_L15/BaiDuMarTechChallenge/\")"
      ],
      "execution_count": 2,
      "outputs": []
    },
    {
      "cell_type": "code",
      "metadata": {
        "ExecuteTime": {
          "end_time": "2020-12-19T18:46:47.197775Z",
          "start_time": "2020-12-19T18:46:46.372273Z"
        },
        "id": "GmpLxUMPWvuH"
      },
      "source": [
        "import calendar\n",
        "# import datetime as dt\n",
        "from datetime import datetime, date, timedelta\n",
        "\n",
        "import gc\n",
        "import numpy as np\n",
        "import pandas as pd\n",
        "\n",
        "import missingno as msno\n",
        "import seaborn as sns\n",
        "from matplotlib import pyplot as plt\n",
        "\n",
        "import torch\n",
        "from torch import nn\n",
        "from torch.utils.data import DataLoader, TensorDataset\n",
        "\n",
        "from sklearn.metrics import roc_auc_score, accuracy_score\n",
        "import lightgbm as lgb\n",
        "\n",
        "\n",
        "sns.set_context('notebook')\n",
        "sns.set_style('darkgrid')\n",
        "# plt.rcParams['font.sans-serif'] = ['SimHei']\n",
        "# plt.rcParams['axes.unicode_minus'] = False"
      ],
      "execution_count": 3,
      "outputs": []
    },
    {
      "cell_type": "markdown",
      "metadata": {
        "id": "70iP2ZH4WvuP"
      },
      "source": [
        "# 准备数据\n",
        "## 加载数据集"
      ]
    },
    {
      "cell_type": "code",
      "metadata": {
        "ExecuteTime": {
          "end_time": "2020-12-19T18:46:47.202156Z",
          "start_time": "2020-12-19T18:46:46.448Z"
        },
        "colab": {
          "base_uri": "https://localhost:8080/"
        },
        "id": "QkM2HqPXWvuQ",
        "outputId": "f16b64d2-deed-4e2b-cff2-140b5a782f37"
      },
      "source": [
        "df_train = pd.read_csv(\"train.csv\")\n",
        "df_test = pd.read_csv(\"submission.csv\")\n",
        "\n",
        "df_train.shape, df_test.shape"
      ],
      "execution_count": 4,
      "outputs": [
        {
          "output_type": "execute_result",
          "data": {
            "text/plain": [
              "((2306871, 29), (1585986, 2))"
            ]
          },
          "metadata": {
            "tags": []
          },
          "execution_count": 4
        }
      ]
    },
    {
      "cell_type": "code",
      "metadata": {
        "ExecuteTime": {
          "end_time": "2020-12-19T18:46:47.205008Z",
          "start_time": "2020-12-19T18:46:46.493Z"
        },
        "colab": {
          "base_uri": "https://localhost:8080/",
          "height": 165
        },
        "id": "YqEVGXyFWvuR",
        "outputId": "ae766dea-8f54-4c0f-ff1f-13634c8529f0"
      },
      "source": [
        "df_train.head(2)"
      ],
      "execution_count": 5,
      "outputs": [
        {
          "output_type": "execute_result",
          "data": {
            "text/html": [
              "<div>\n",
              "<style scoped>\n",
              "    .dataframe tbody tr th:only-of-type {\n",
              "        vertical-align: middle;\n",
              "    }\n",
              "\n",
              "    .dataframe tbody tr th {\n",
              "        vertical-align: top;\n",
              "    }\n",
              "\n",
              "    .dataframe thead th {\n",
              "        text-align: right;\n",
              "    }\n",
              "</style>\n",
              "<table border=\"1\" class=\"dataframe\">\n",
              "  <thead>\n",
              "    <tr style=\"text-align: right;\">\n",
              "      <th></th>\n",
              "      <th>order_detail_id</th>\n",
              "      <th>order_id</th>\n",
              "      <th>order_total_num</th>\n",
              "      <th>order_amount</th>\n",
              "      <th>order_total_payment</th>\n",
              "      <th>order_total_discount</th>\n",
              "      <th>order_pay_time</th>\n",
              "      <th>order_status</th>\n",
              "      <th>order_count</th>\n",
              "      <th>is_customer_rate</th>\n",
              "      <th>order_detail_status</th>\n",
              "      <th>order_detail_goods_num</th>\n",
              "      <th>order_detail_amount</th>\n",
              "      <th>order_detail_payment</th>\n",
              "      <th>order_detail_discount</th>\n",
              "      <th>customer_province</th>\n",
              "      <th>customer_city</th>\n",
              "      <th>member_id</th>\n",
              "      <th>customer_id</th>\n",
              "      <th>customer_gender</th>\n",
              "      <th>member_status</th>\n",
              "      <th>is_member_actived</th>\n",
              "      <th>goods_id</th>\n",
              "      <th>goods_class_id</th>\n",
              "      <th>goods_price</th>\n",
              "      <th>goods_status</th>\n",
              "      <th>goods_has_discount</th>\n",
              "      <th>goods_list_time</th>\n",
              "      <th>goods_delist_time</th>\n",
              "    </tr>\n",
              "  </thead>\n",
              "  <tbody>\n",
              "    <tr>\n",
              "      <th>0</th>\n",
              "      <td>1000000</td>\n",
              "      <td>1000000</td>\n",
              "      <td>1.0</td>\n",
              "      <td>239.9</td>\n",
              "      <td>96.9</td>\n",
              "      <td>0.0</td>\n",
              "      <td>2012-11-01 00:10:56</td>\n",
              "      <td>6</td>\n",
              "      <td>1.0</td>\n",
              "      <td>0.0</td>\n",
              "      <td>6.0</td>\n",
              "      <td>1.0</td>\n",
              "      <td>96.9</td>\n",
              "      <td>96.9</td>\n",
              "      <td>143.0</td>\n",
              "      <td>北京</td>\n",
              "      <td>北京市</td>\n",
              "      <td>0.0</td>\n",
              "      <td>1000000</td>\n",
              "      <td>NaN</td>\n",
              "      <td>NaN</td>\n",
              "      <td>NaN</td>\n",
              "      <td>998</td>\n",
              "      <td>998</td>\n",
              "      <td>54.909289</td>\n",
              "      <td>1.0</td>\n",
              "      <td>0.0</td>\n",
              "      <td>2014-10-25 11:08:07</td>\n",
              "      <td>2014-11-01 11:08:07</td>\n",
              "    </tr>\n",
              "    <tr>\n",
              "      <th>1</th>\n",
              "      <td>1001530</td>\n",
              "      <td>1001327</td>\n",
              "      <td>2.0</td>\n",
              "      <td>288.0</td>\n",
              "      <td>96.9</td>\n",
              "      <td>0.0</td>\n",
              "      <td>2013-08-31 23:14:42</td>\n",
              "      <td>6</td>\n",
              "      <td>2.0</td>\n",
              "      <td>0.0</td>\n",
              "      <td>6.0</td>\n",
              "      <td>1.0</td>\n",
              "      <td>0.0</td>\n",
              "      <td>0.0</td>\n",
              "      <td>99.0</td>\n",
              "      <td>内蒙古自治区</td>\n",
              "      <td>鄂尔多斯市</td>\n",
              "      <td>0.0</td>\n",
              "      <td>1001324</td>\n",
              "      <td>NaN</td>\n",
              "      <td>NaN</td>\n",
              "      <td>NaN</td>\n",
              "      <td>1953</td>\n",
              "      <td>1953</td>\n",
              "      <td>45.961352</td>\n",
              "      <td>0.0</td>\n",
              "      <td>1.0</td>\n",
              "      <td>2013-08-28 17:27:50</td>\n",
              "      <td>2013-09-01 00:38:17</td>\n",
              "    </tr>\n",
              "  </tbody>\n",
              "</table>\n",
              "</div>"
            ],
            "text/plain": [
              "   order_detail_id  order_id  ...      goods_list_time    goods_delist_time\n",
              "0          1000000   1000000  ...  2014-10-25 11:08:07  2014-11-01 11:08:07\n",
              "1          1001530   1001327  ...  2013-08-28 17:27:50  2013-09-01 00:38:17\n",
              "\n",
              "[2 rows x 29 columns]"
            ]
          },
          "metadata": {
            "tags": []
          },
          "execution_count": 5
        }
      ]
    },
    {
      "cell_type": "code",
      "metadata": {
        "ExecuteTime": {
          "end_time": "2020-12-19T18:46:47.207457Z",
          "start_time": "2020-12-19T18:46:46.559Z"
        },
        "colab": {
          "base_uri": "https://localhost:8080/",
          "height": 111
        },
        "id": "16rgr0E4WvuR",
        "outputId": "0b5c93fd-512b-4162-95e2-1f7cbbad60c5"
      },
      "source": [
        "df_test.head(2)"
      ],
      "execution_count": 6,
      "outputs": [
        {
          "output_type": "execute_result",
          "data": {
            "text/html": [
              "<div>\n",
              "<style scoped>\n",
              "    .dataframe tbody tr th:only-of-type {\n",
              "        vertical-align: middle;\n",
              "    }\n",
              "\n",
              "    .dataframe tbody tr th {\n",
              "        vertical-align: top;\n",
              "    }\n",
              "\n",
              "    .dataframe thead th {\n",
              "        text-align: right;\n",
              "    }\n",
              "</style>\n",
              "<table border=\"1\" class=\"dataframe\">\n",
              "  <thead>\n",
              "    <tr style=\"text-align: right;\">\n",
              "      <th></th>\n",
              "      <th>customer_id</th>\n",
              "      <th>result</th>\n",
              "    </tr>\n",
              "  </thead>\n",
              "  <tbody>\n",
              "    <tr>\n",
              "      <th>0</th>\n",
              "      <td>1000000</td>\n",
              "      <td>0</td>\n",
              "    </tr>\n",
              "    <tr>\n",
              "      <th>1</th>\n",
              "      <td>1000014</td>\n",
              "      <td>0</td>\n",
              "    </tr>\n",
              "  </tbody>\n",
              "</table>\n",
              "</div>"
            ],
            "text/plain": [
              "   customer_id  result\n",
              "0      1000000       0\n",
              "1      1000014       0"
            ]
          },
          "metadata": {
            "tags": []
          },
          "execution_count": 6
        }
      ]
    },
    {
      "cell_type": "code",
      "metadata": {
        "ExecuteTime": {
          "end_time": "2020-12-19T18:46:47.209696Z",
          "start_time": "2020-12-19T18:46:46.609Z"
        },
        "colab": {
          "base_uri": "https://localhost:8080/"
        },
        "id": "VONWgKrdWvuS",
        "outputId": "90f15e7a-47a4-4fbd-b211-545c0fcfdc76"
      },
      "source": [
        "# 确定测试集中用户id是否在训练集用户id中\n",
        "(df_test['customer_id'].isin(df_train['customer_id'].unique())).sum()"
      ],
      "execution_count": 7,
      "outputs": [
        {
          "output_type": "execute_result",
          "data": {
            "text/plain": [
              "1585986"
            ]
          },
          "metadata": {
            "tags": []
          },
          "execution_count": 7
        }
      ]
    },
    {
      "cell_type": "code",
      "metadata": {
        "ExecuteTime": {
          "end_time": "2020-12-19T18:46:47.212139Z",
          "start_time": "2020-12-19T18:46:46.665Z"
        },
        "colab": {
          "base_uri": "https://localhost:8080/"
        },
        "id": "eVO8S-2nWvuS",
        "outputId": "2f3188f4-a7a1-469d-af70-4b7af8062e7d"
      },
      "source": [
        "# 训练集用户id数量和测试集用户id数量相同\n",
        "df_train['customer_id'].nunique(), df_test['customer_id'].nunique()"
      ],
      "execution_count": 8,
      "outputs": [
        {
          "output_type": "execute_result",
          "data": {
            "text/plain": [
              "(1585986, 1585986)"
            ]
          },
          "metadata": {
            "tags": []
          },
          "execution_count": 8
        }
      ]
    },
    {
      "cell_type": "markdown",
      "metadata": {
        "ExecuteTime": {
          "end_time": "2020-12-18T07:10:25.913067Z",
          "start_time": "2020-12-18T07:10:25.733070Z"
        },
        "id": "r3fDVz1hWvuU"
      },
      "source": [
        "可以确定测试集中要预测的用户就是训练集中的所有用户。"
      ]
    },
    {
      "cell_type": "markdown",
      "metadata": {
        "id": "UI-iZdiJWvuU"
      },
      "source": [
        "## 处理缺失值"
      ]
    },
    {
      "cell_type": "code",
      "metadata": {
        "ExecuteTime": {
          "end_time": "2020-12-19T18:46:47.213957Z",
          "start_time": "2020-12-19T18:46:46.757Z"
        },
        "colab": {
          "base_uri": "https://localhost:8080/",
          "height": 496
        },
        "id": "kBq7WJzwWvuU",
        "outputId": "a733f44f-44e9-4d49-b92f-3bdd6b97c787"
      },
      "source": [
        "msno.bar(df_train, figsize=(12, 4),sort='ascending')"
      ],
      "execution_count": 9,
      "outputs": [
        {
          "output_type": "execute_result",
          "data": {
            "text/plain": [
              "<matplotlib.axes._subplots.AxesSubplot at 0x7f1f36753940>"
            ]
          },
          "metadata": {
            "tags": []
          },
          "execution_count": 9
        },
        {
          "output_type": "display_data",
          "data": {
            "image/png": "[encoded data removed]",
            "text/plain": [
              "<Figure size 864x288 with 3 Axes>"
            ]
          },
          "metadata": {
            "tags": []
          }
        }
      ]
    },
    {
      "cell_type": "code",
      "metadata": {
        "ExecuteTime": {
          "end_time": "2020-12-19T18:46:47.216301Z",
          "start_time": "2020-12-19T18:46:46.807Z"
        },
        "colab": {
          "base_uri": "https://localhost:8080/"
        },
        "id": "g1YYdcl-WvuV",
        "outputId": "50a86d03-f207-4511-eb6b-a01f94c153b3"
      },
      "source": [
        "# 会员状态: 1正常，2冻结，3已删除\n",
        "df_train['member_status'].value_counts()"
      ],
      "execution_count": 10,
      "outputs": [
        {
          "output_type": "execute_result",
          "data": {
            "text/plain": [
              "1.0    635790\n",
              "Name: member_status, dtype: int64"
            ]
          },
          "metadata": {
            "tags": []
          },
          "execution_count": 10
        }
      ]
    },
    {
      "cell_type": "code",
      "metadata": {
        "ExecuteTime": {
          "end_time": "2020-12-19T18:46:47.218680Z",
          "start_time": "2020-12-19T18:46:46.855Z"
        },
        "colab": {
          "base_uri": "https://localhost:8080/"
        },
        "id": "vGtbt_SRWvuV",
        "scrolled": true,
        "outputId": "e82861ae-5199-4cc3-c57e-3cd55efcf171"
      },
      "source": [
        "# 会员是否激活：0没有激活，1已激活\n",
        "df_train['is_member_actived'].value_counts()"
      ],
      "execution_count": 11,
      "outputs": [
        {
          "output_type": "execute_result",
          "data": {
            "text/plain": [
              "1.0    635790\n",
              "Name: is_member_actived, dtype: int64"
            ]
          },
          "metadata": {
            "tags": []
          },
          "execution_count": 11
        }
      ]
    },
    {
      "cell_type": "code",
      "metadata": {
        "ExecuteTime": {
          "end_time": "2020-12-19T18:46:47.221269Z",
          "start_time": "2020-12-19T18:46:46.903Z"
        },
        "colab": {
          "base_uri": "https://localhost:8080/"
        },
        "id": "sR0zWEXcWvuV",
        "scrolled": true,
        "outputId": "4f47b9cc-bb3a-4b7b-d2b9-53ef46b3a001"
      },
      "source": [
        "# 性别：0未知，1男，2女\n",
        "df_train['customer_gender'].value_counts()"
      ],
      "execution_count": 12,
      "outputs": [
        {
          "output_type": "execute_result",
          "data": {
            "text/plain": [
              "0.0    603970\n",
              "2.0     18468\n",
              "1.0     13352\n",
              "Name: customer_gender, dtype: int64"
            ]
          },
          "metadata": {
            "tags": []
          },
          "execution_count": 12
        }
      ]
    },
    {
      "cell_type": "code",
      "metadata": {
        "ExecuteTime": {
          "end_time": "2020-12-19T18:46:47.227887Z",
          "start_time": "2020-12-19T18:46:46.946Z"
        },
        "code_folding": [],
        "id": "ORkENMX8WvuW"
      },
      "source": [
        "MISS_COLS = [\n",
        "    'customer_gender', 'member_status', 'is_member_actived', 'goods_price',\n",
        "    'customer_province', 'customer_city'\n",
        "]\n",
        "\n",
        "# 使用0填充数值列缺失值，使用unknown填充字符串列\n",
        "df_train[MISS_COLS[:-2]] = df_train[MISS_COLS[:-2]].fillna(0)\n",
        "df_train[MISS_COLS[-2:]] = df_train[MISS_COLS[-2:]].fillna('unknown')"
      ],
      "execution_count": 13,
      "outputs": []
    },
    {
      "cell_type": "code",
      "metadata": {
        "ExecuteTime": {
          "end_time": "2020-12-19T18:46:47.230028Z",
          "start_time": "2020-12-19T18:46:47.001Z"
        },
        "colab": {
          "base_uri": "https://localhost:8080/"
        },
        "id": "jPTdl7uWWvuW",
        "outputId": "bd77b762-a977-48b7-c512-93bd100bc1ad"
      },
      "source": [
        "# 除了id和地址特征外，其他类别特征\n",
        "CATE_COLS = [\n",
        "    'goods_has_discount', 'goods_status', 'is_member_actived', 'member_status',\n",
        "    'customer_gender', 'order_detail_status', 'is_customer_rate',\n",
        "    'order_status', \n",
        "]\n",
        "\n",
        "# 连续值特征\n",
        "DENSE_COLS = [\n",
        "    'goods_price', 'order_detail_discount', 'order_detail_payment',\n",
        "    'order_detail_amount', 'order_detail_good_num', 'order_count',\n",
        "    'order_total_discount', 'order_total_payment', 'order_amount',\n",
        "    'order_total_num'\n",
        "]\n",
        "\n",
        "\n",
        "ID_COLS = df_train.columns[df_train.columns.str.endswith(\"_id\")].to_list()\n",
        "\n",
        "ADDRESS_COLS = ['customer_province', 'customer_city']\n",
        "\n",
        "# 付款时间、商品最新上架时间、商品最新下架时间\n",
        "DATE_COLS = ['order_pay_time', 'goods_list_time', 'goods_delist_time']\n",
        "\n",
        "len(CATE_COLS) + len(DENSE_COLS) + len(ID_COLS) + len(ADDRESS_COLS) + len(DATE_COLS)"
      ],
      "execution_count": 14,
      "outputs": [
        {
          "output_type": "execute_result",
          "data": {
            "text/plain": [
              "29"
            ]
          },
          "metadata": {
            "tags": []
          },
          "execution_count": 14
        }
      ]
    },
    {
      "cell_type": "markdown",
      "metadata": {
        "id": "nzMq96aaWvuW"
      },
      "source": [
        "## 降低内存\n",
        "通过选择较小的数据类型属性来减小数据集的大小"
      ]
    },
    {
      "cell_type": "code",
      "metadata": {
        "ExecuteTime": {
          "end_time": "2020-12-19T18:46:47.232087Z",
          "start_time": "2020-12-19T18:46:47.072Z"
        },
        "id": "PDdTa-jlWvuX",
        "scrolled": true
      },
      "source": [
        "def cal_memory(df):\n",
        "    \"\"\"检查内存\"\"\"\n",
        "    mem = df.memory_usage(index=True).sum()\n",
        "    mb_usage = mem / 1024 ** 2\n",
        "    print(f\"数据集所占内存: {mb_usage:.2f}MB\")\n",
        "    \n"
      ],
      "execution_count": 15,
      "outputs": []
    },
    {
      "cell_type": "code",
      "metadata": {
        "id": "9inKLweUKU2B",
        "colab": {
          "base_uri": "https://localhost:8080/"
        },
        "outputId": "818a36c6-1b87-4cee-acab-f838e9ae1e83"
      },
      "source": [
        "cal_memory(df_train)\n",
        "cal_memory(df_test)"
      ],
      "execution_count": 16,
      "outputs": [
        {
          "output_type": "stream",
          "text": [
            "数据集所占内存: 510.40MB\n",
            "数据集所占内存: 24.20MB\n"
          ],
          "name": "stdout"
        }
      ]
    },
    {
      "cell_type": "code",
      "metadata": {
        "ExecuteTime": {
          "end_time": "2020-12-19T18:46:47.234104Z",
          "start_time": "2020-12-19T18:46:47.136Z"
        },
        "code_folding": [],
        "id": "9Epu5OTPWvuX"
      },
      "source": [
        "def reduce_mem_usage(df):\n",
        "    \"\"\"通过选择较小的数据类型属性来减小数据集的大小\"\"\"\n",
        "    props = df.copy()\n",
        "    for col in props.columns:\n",
        "        if props[col].dtype != object:  # Exclude strings\n",
        "            # make variables for Int, max and min\n",
        "            IsInt = False\n",
        "            mx = props[col].max()\n",
        "            mn = props[col].min()\n",
        "\n",
        "            # 测试是否可以把该列数值类型修改为整数\n",
        "            asint = props[col].astype(np.int64)\n",
        "            result = (props[col] - asint).sum()\n",
        "\n",
        "            if result > -0.01 and result < 0.01:\n",
        "                IsInt = True\n",
        "\n",
        "            # Make Integer/unsigned Integer datatypes\n",
        "            if IsInt:\n",
        "                if mn >= 0:  # 非负数的整数修改为无符号整型\n",
        "                    if mx < np.iinfo(np.uint8).max:  # uint8的上限\n",
        "                        props[col] = props[col].astype(np.uint8)\n",
        "                    elif mx < np.iinfo(np.uint16).max:  # uint16的上限\n",
        "                        props[col] = props[col].astype(np.uint16)\n",
        "                    elif mx < np.iinfo(np.uint32).max:\n",
        "                        props[col] = props[col].astype(np.uint32)\n",
        "                    else:\n",
        "                        props[col] = props[col].astype(np.uint64)\n",
        "                else:  # 包含负数的整数，修改为有符号整型\n",
        "                    if mn > np.iinfo(np.int8).min and mx < np.iinfo(\n",
        "                            np.int8).max:\n",
        "                        props[col] = props[col].astype(np.int8)\n",
        "                    elif mn > np.iinfo(np.int16).min and mx < np.iinfo(\n",
        "                            np.int16).max:\n",
        "                        props[col] = props[col].astype(np.int16)\n",
        "                    elif mn > np.iinfo(np.int32).min and mx < np.iinfo(\n",
        "                            np.int32).max:\n",
        "                        props[col] = props[col].astype(np.int32)\n",
        "                    elif mn > np.iinfo(np.int64).min and mx < np.iinfo(\n",
        "                            np.int64).max:\n",
        "                        props[col] = props[col].astype(np.int64)\n",
        "\n",
        "            # Make float datatypes 32 bit\n",
        "            else:\n",
        "                props[col] = props[col].astype(np.float32)\n",
        "\n",
        "    return props"
      ],
      "execution_count": 17,
      "outputs": []
    },
    {
      "cell_type": "code",
      "metadata": {
        "ExecuteTime": {
          "end_time": "2020-12-19T18:46:47.237154Z",
          "start_time": "2020-12-19T18:46:47.199Z"
        },
        "colab": {
          "base_uri": "https://localhost:8080/"
        },
        "id": "GTk3ffC3WvuY",
        "outputId": "2528b799-e100-42fd-9f59-066d473db77b"
      },
      "source": [
        "df_train = reduce_mem_usage(df_train)\n",
        "\n",
        "print(\"选择较小的数据类型属性后：\")\n",
        "cal_memory(df_train)"
      ],
      "execution_count": 18,
      "outputs": [
        {
          "output_type": "stream",
          "text": [
            "选择较小的数据类型属性后：\n",
            "数据集所占内存: 228.80MB\n"
          ],
          "name": "stdout"
        }
      ]
    },
    {
      "cell_type": "markdown",
      "metadata": {
        "id": "vX09sjoKWvuY"
      },
      "source": [
        "## 解析日期列"
      ]
    },
    {
      "cell_type": "code",
      "metadata": {
        "ExecuteTime": {
          "end_time": "2020-12-19T18:46:47.353426Z",
          "start_time": "2020-12-19T18:46:47.345164Z"
        },
        "id": "1tYI5LlLWvuY"
      },
      "source": [
        "# 解析为datetime\n",
        "for f in DATE_COLS:\n",
        "    df_train[f] = pd.to_datetime(df_train[f], format=\"%Y-%m-%d\")"
      ],
      "execution_count": 19,
      "outputs": []
    },
    {
      "cell_type": "code",
      "metadata": {
        "ExecuteTime": {
          "end_time": "2020-12-19T18:46:47.356544Z",
          "start_time": "2020-12-19T18:46:47.302Z"
        },
        "colab": {
          "base_uri": "https://localhost:8080/"
        },
        "id": "tyS3okYuWvuY",
        "outputId": "ce5ed88f-3f1b-48f6-8f3f-bf3f09dd9dae"
      },
      "source": [
        "# 最早下单时间，最晚下单时间\n",
        "df_train['order_pay_time'].min(), df_train['order_pay_time'].max()"
      ],
      "execution_count": 20,
      "outputs": [
        {
          "output_type": "execute_result",
          "data": {
            "text/plain": [
              "(Timestamp('2012-11-01 00:00:07'), Timestamp('2013-08-31 23:59:59'))"
            ]
          },
          "metadata": {
            "tags": []
          },
          "execution_count": 20
        }
      ]
    },
    {
      "cell_type": "markdown",
      "metadata": {
        "id": "M_FRAsV3WvuZ"
      },
      "source": [
        "预测的是2013年9月所有用户是否购买。只有1-8月以及11月12月的10个月的订单数据，没有9月和10月数据。"
      ]
    },
    {
      "cell_type": "markdown",
      "metadata": {
        "id": "RIUdd--vWvuZ"
      },
      "source": [
        "# EDA"
      ]
    },
    {
      "cell_type": "markdown",
      "metadata": {
        "id": "6wACEAooWvua"
      },
      "source": [
        "## 各省平均消费金额"
      ]
    },
    {
      "cell_type": "code",
      "metadata": {
        "ExecuteTime": {
          "end_time": "2020-12-19T18:46:47.468504Z",
          "start_time": "2020-12-19T18:46:47.459656Z"
        },
        "id": "SN-mSU9WWvua",
        "scrolled": false
      },
      "source": [
        "# groups = df_train.groupby('customer_province')\n",
        "\n",
        "# groups['order_amount'].mean().sort_values().plot(kind='bar',\n",
        "#                                                  figsize=(12, 4),\n",
        "#                                                  title=\"各省份平均消费金额\",\n",
        "#                                                  sort_columns=True)"
      ],
      "execution_count": 21,
      "outputs": []
    },
    {
      "cell_type": "markdown",
      "metadata": {
        "id": "7AcoAtcVWvua"
      },
      "source": [
        "## 各省份总销量统计"
      ]
    },
    {
      "cell_type": "code",
      "metadata": {
        "ExecuteTime": {
          "end_time": "2020-12-19T18:46:47.470664Z",
          "start_time": "2020-12-19T18:46:47.453Z"
        },
        "id": "D9Zo8QzrWvub"
      },
      "source": [
        "# groups['order_total_num'].sum().sort_values().plot(kind='bar',\n",
        "#                                                    figsize=(12, 4),\n",
        "#                                                    title=\"各省份总销量统计\",\n",
        "#                                                    sort_columns=True)"
      ],
      "execution_count": 22,
      "outputs": []
    },
    {
      "cell_type": "markdown",
      "metadata": {
        "id": "OO7_UOZRWvub"
      },
      "source": [
        "## 平均每月销售额"
      ]
    },
    {
      "cell_type": "code",
      "metadata": {
        "ExecuteTime": {
          "end_time": "2020-12-19T18:46:47.585486Z",
          "start_time": "2020-12-19T18:46:47.576809Z"
        },
        "id": "NM3Z1qQVWvub"
      },
      "source": [
        "df_train['order_pay_date'] = df_train['order_pay_time'].dt.date\n",
        "df_train['order_pay_year'] = df_train['order_pay_time'].dt.year\n",
        "df_train['order_pay_month'] = df_train['order_pay_time'].dt.month\n",
        "df_train['order_pay_day'] = df_train['order_pay_time'].dt.day"
      ],
      "execution_count": 23,
      "outputs": []
    },
    {
      "cell_type": "code",
      "metadata": {
        "ExecuteTime": {
          "end_time": "2020-12-19T18:46:47.587793Z",
          "start_time": "2020-12-19T18:46:47.550Z"
        },
        "id": "_0ZXalgqWvuc"
      },
      "source": [
        "groupby_date = df_train.groupby('order_pay_month')"
      ],
      "execution_count": 24,
      "outputs": []
    },
    {
      "cell_type": "code",
      "metadata": {
        "ExecuteTime": {
          "end_time": "2020-12-19T18:46:47.701308Z",
          "start_time": "2020-12-19T18:46:47.693121Z"
        },
        "id": "dfJDWcsuWvuc"
      },
      "source": [
        "# groupby_date['order_amount'].mean().plot(\n",
        "#     kind='bar', figsize=(12, 4), title=\"Average Monthly Sales\", sort_columns=True)"
      ],
      "execution_count": 25,
      "outputs": []
    },
    {
      "cell_type": "markdown",
      "metadata": {
        "id": "LvZv1Ly-Wvuc"
      },
      "source": [
        "## 每月下单用户数"
      ]
    },
    {
      "cell_type": "code",
      "metadata": {
        "ExecuteTime": {
          "end_time": "2020-12-19T18:46:47.703526Z",
          "start_time": "2020-12-19T18:46:47.647Z"
        },
        "id": "6qDvJisVWvud"
      },
      "source": [
        "# groupby_date['customer_id'].nunique().plot(kind='bar', figsize=(12, 4), title=\"每月下单用户数\")"
      ],
      "execution_count": 26,
      "outputs": []
    },
    {
      "cell_type": "markdown",
      "metadata": {
        "id": "YuiMTlsaWvud"
      },
      "source": [
        "## 每月平均下单量"
      ]
    },
    {
      "cell_type": "code",
      "metadata": {
        "ExecuteTime": {
          "end_time": "2020-12-19T18:46:47.819084Z",
          "start_time": "2020-12-19T18:46:47.811017Z"
        },
        "id": "PY2x66czWvud"
      },
      "source": [
        "# groupby_date['order_amount'].count().plot(\n",
        "#     kind='bar', figsize=(12, 4), title=\"每月平均下单量\", sort_columns=True)"
      ],
      "execution_count": 27,
      "outputs": []
    },
    {
      "cell_type": "markdown",
      "metadata": {
        "id": "Che_7LOzWvue"
      },
      "source": [
        "# 构建特征"
      ]
    },
    {
      "cell_type": "code",
      "metadata": {
        "ExecuteTime": {
          "end_time": "2020-12-19T18:46:47.821240Z",
          "start_time": "2020-12-19T18:46:47.759Z"
        },
        "id": "92OYdYTiWvue"
      },
      "source": [
        "from sklearn.preprocessing import LabelEncoder"
      ],
      "execution_count": 28,
      "outputs": []
    },
    {
      "cell_type": "markdown",
      "metadata": {
        "id": "bEx-VqFlWvue"
      },
      "source": [
        "## 地址列进行标签数值化"
      ]
    },
    {
      "cell_type": "code",
      "metadata": {
        "ExecuteTime": {
          "end_time": "2020-12-19T18:46:47.822973Z",
          "start_time": "2020-12-19T18:46:47.810Z"
        },
        "colab": {
          "base_uri": "https://localhost:8080/"
        },
        "id": "lZ1UQnw2Wvue",
        "outputId": "885ca2de-c78d-4296-fd24-c78cd61ea25d"
      },
      "source": [
        "ADDRESS_COLS"
      ],
      "execution_count": 29,
      "outputs": [
        {
          "output_type": "execute_result",
          "data": {
            "text/plain": [
              "['customer_province', 'customer_city']"
            ]
          },
          "metadata": {
            "tags": []
          },
          "execution_count": 29
        }
      ]
    },
    {
      "cell_type": "code",
      "metadata": {
        "ExecuteTime": {
          "end_time": "2020-12-19T18:46:47.935682Z",
          "start_time": "2020-12-19T18:46:47.926039Z"
        },
        "id": "2UsNUH4DWvue"
      },
      "source": [
        "for f in ADDRESS_COLS:\n",
        "    df_train[f] = LabelEncoder().fit_transform(df_train[f].values)\n",
        "\n",
        "df_train['customer_province'] = df_train[f].astype(np.uint8)\n",
        "df_train['customer_city'] = df_train[f].astype(np.uint16)"
      ],
      "execution_count": 30,
      "outputs": []
    },
    {
      "cell_type": "markdown",
      "metadata": {
        "id": "we5QO4s4Wvuf"
      },
      "source": [
        "## 构造时间滑窗特征"
      ]
    },
    {
      "cell_type": "markdown",
      "metadata": {
        "id": "bLzm7M5BWvuf"
      },
      "source": [
        "### 每日付款金额"
      ]
    },
    {
      "cell_type": "code",
      "metadata": {
        "ExecuteTime": {
          "end_time": "2020-12-19T18:46:47.938095Z",
          "start_time": "2020-12-19T18:46:47.924Z"
        },
        "id": "_RPhzyMUWvuf"
      },
      "source": [
        "df_train = df_train.set_index('order_pay_time')"
      ],
      "execution_count": 31,
      "outputs": []
    },
    {
      "cell_type": "code",
      "metadata": {
        "ExecuteTime": {
          "end_time": "2020-12-19T18:46:48.090642Z",
          "start_time": "2020-12-19T18:46:48.058937Z"
        },
        "id": "diZu1HYFWvug"
      },
      "source": [
        "df_train = df_train.sort_index()"
      ],
      "execution_count": 32,
      "outputs": []
    },
    {
      "cell_type": "code",
      "metadata": {
        "ExecuteTime": {
          "end_time": "2020-12-19T18:46:48.097247Z",
          "start_time": "2020-12-19T18:46:47.998Z"
        },
        "id": "D88t6NdwWvug"
      },
      "source": [
        "# 只使用13年2月及其后的数据\n",
        "df = df_train.loc['2013-02':]"
      ],
      "execution_count": 33,
      "outputs": []
    },
    {
      "cell_type": "code",
      "metadata": {
        "ExecuteTime": {
          "end_time": "2020-12-19T18:46:48.100898Z",
          "start_time": "2020-12-19T18:46:48.042Z"
        },
        "colab": {
          "base_uri": "https://localhost:8080/",
          "height": 450
        },
        "id": "bEk23wDFWvug",
        "outputId": "1b882fbd-28fd-49e2-e9ef-c3462218ddf8"
      },
      "source": [
        "# 将用户下单金额按天进行汇总\n",
        "df_payment = df[['customer_id','order_pay_date','order_total_payment']]\n",
        "df_payment"
      ],
      "execution_count": 34,
      "outputs": [
        {
          "output_type": "execute_result",
          "data": {
            "text/html": [
              "<div>\n",
              "<style scoped>\n",
              "    .dataframe tbody tr th:only-of-type {\n",
              "        vertical-align: middle;\n",
              "    }\n",
              "\n",
              "    .dataframe tbody tr th {\n",
              "        vertical-align: top;\n",
              "    }\n",
              "\n",
              "    .dataframe thead th {\n",
              "        text-align: right;\n",
              "    }\n",
              "</style>\n",
              "<table border=\"1\" class=\"dataframe\">\n",
              "  <thead>\n",
              "    <tr style=\"text-align: right;\">\n",
              "      <th></th>\n",
              "      <th>customer_id</th>\n",
              "      <th>order_pay_date</th>\n",
              "      <th>order_total_payment</th>\n",
              "    </tr>\n",
              "    <tr>\n",
              "      <th>order_pay_time</th>\n",
              "      <th></th>\n",
              "      <th></th>\n",
              "      <th></th>\n",
              "    </tr>\n",
              "  </thead>\n",
              "  <tbody>\n",
              "    <tr>\n",
              "      <th>2013-02-01 00:00:10</th>\n",
              "      <td>2346052</td>\n",
              "      <td>2013-02-01</td>\n",
              "      <td>53.900002</td>\n",
              "    </tr>\n",
              "    <tr>\n",
              "      <th>2013-02-01 00:00:12</th>\n",
              "      <td>1309272</td>\n",
              "      <td>2013-02-01</td>\n",
              "      <td>89.900002</td>\n",
              "    </tr>\n",
              "    <tr>\n",
              "      <th>2013-02-01 00:00:24</th>\n",
              "      <td>2443988</td>\n",
              "      <td>2013-02-01</td>\n",
              "      <td>58.139999</td>\n",
              "    </tr>\n",
              "    <tr>\n",
              "      <th>2013-02-01 00:00:33</th>\n",
              "      <td>2447397</td>\n",
              "      <td>2013-02-01</td>\n",
              "      <td>109.900002</td>\n",
              "    </tr>\n",
              "    <tr>\n",
              "      <th>2013-02-01 00:00:33</th>\n",
              "      <td>1695371</td>\n",
              "      <td>2013-02-01</td>\n",
              "      <td>54.900002</td>\n",
              "    </tr>\n",
              "    <tr>\n",
              "      <th>...</th>\n",
              "      <td>...</td>\n",
              "      <td>...</td>\n",
              "      <td>...</td>\n",
              "    </tr>\n",
              "    <tr>\n",
              "      <th>2013-08-31 23:59:46</th>\n",
              "      <td>1910531</td>\n",
              "      <td>2013-08-31</td>\n",
              "      <td>187.600006</td>\n",
              "    </tr>\n",
              "    <tr>\n",
              "      <th>2013-08-31 23:59:46</th>\n",
              "      <td>1910531</td>\n",
              "      <td>2013-08-31</td>\n",
              "      <td>187.600006</td>\n",
              "    </tr>\n",
              "    <tr>\n",
              "      <th>2013-08-31 23:59:46</th>\n",
              "      <td>1910531</td>\n",
              "      <td>2013-08-31</td>\n",
              "      <td>187.600006</td>\n",
              "    </tr>\n",
              "    <tr>\n",
              "      <th>2013-08-31 23:59:46</th>\n",
              "      <td>1910531</td>\n",
              "      <td>2013-08-31</td>\n",
              "      <td>187.600006</td>\n",
              "    </tr>\n",
              "    <tr>\n",
              "      <th>2013-08-31 23:59:59</th>\n",
              "      <td>1464060</td>\n",
              "      <td>2013-08-31</td>\n",
              "      <td>53.900002</td>\n",
              "    </tr>\n",
              "  </tbody>\n",
              "</table>\n",
              "<p>940655 rows × 3 columns</p>\n",
              "</div>"
            ],
            "text/plain": [
              "                     customer_id order_pay_date  order_total_payment\n",
              "order_pay_time                                                      \n",
              "2013-02-01 00:00:10      2346052     2013-02-01            53.900002\n",
              "2013-02-01 00:00:12      1309272     2013-02-01            89.900002\n",
              "2013-02-01 00:00:24      2443988     2013-02-01            58.139999\n",
              "2013-02-01 00:00:33      2447397     2013-02-01           109.900002\n",
              "2013-02-01 00:00:33      1695371     2013-02-01            54.900002\n",
              "...                          ...            ...                  ...\n",
              "2013-08-31 23:59:46      1910531     2013-08-31           187.600006\n",
              "2013-08-31 23:59:46      1910531     2013-08-31           187.600006\n",
              "2013-08-31 23:59:46      1910531     2013-08-31           187.600006\n",
              "2013-08-31 23:59:46      1910531     2013-08-31           187.600006\n",
              "2013-08-31 23:59:59      1464060     2013-08-31            53.900002\n",
              "\n",
              "[940655 rows x 3 columns]"
            ]
          },
          "metadata": {
            "tags": []
          },
          "execution_count": 34
        }
      ]
    },
    {
      "cell_type": "code",
      "metadata": {
        "ExecuteTime": {
          "end_time": "2020-12-19T18:46:48.222913Z",
          "start_time": "2020-12-19T18:46:48.213990Z"
        },
        "colab": {
          "base_uri": "https://localhost:8080/",
          "height": 266
        },
        "id": "AUe5qKctWvuh",
        "outputId": "f2b35cf8-640d-4ec1-86f1-dcc2461e34fb"
      },
      "source": [
        "df_payment = df_payment.groupby(['order_pay_date','customer_id']).agg({'order_total_payment': ['sum']})\n",
        "df_payment.head()"
      ],
      "execution_count": 35,
      "outputs": [
        {
          "output_type": "execute_result",
          "data": {
            "text/html": [
              "<div>\n",
              "<style scoped>\n",
              "    .dataframe tbody tr th:only-of-type {\n",
              "        vertical-align: middle;\n",
              "    }\n",
              "\n",
              "    .dataframe tbody tr th {\n",
              "        vertical-align: top;\n",
              "    }\n",
              "\n",
              "    .dataframe thead tr th {\n",
              "        text-align: left;\n",
              "    }\n",
              "\n",
              "    .dataframe thead tr:last-of-type th {\n",
              "        text-align: right;\n",
              "    }\n",
              "</style>\n",
              "<table border=\"1\" class=\"dataframe\">\n",
              "  <thead>\n",
              "    <tr>\n",
              "      <th></th>\n",
              "      <th></th>\n",
              "      <th>order_total_payment</th>\n",
              "    </tr>\n",
              "    <tr>\n",
              "      <th></th>\n",
              "      <th></th>\n",
              "      <th>sum</th>\n",
              "    </tr>\n",
              "    <tr>\n",
              "      <th>order_pay_date</th>\n",
              "      <th>customer_id</th>\n",
              "      <th></th>\n",
              "    </tr>\n",
              "  </thead>\n",
              "  <tbody>\n",
              "    <tr>\n",
              "      <th rowspan=\"5\" valign=\"top\">2013-02-01</th>\n",
              "      <th>1000434</th>\n",
              "      <td>79.900002</td>\n",
              "    </tr>\n",
              "    <tr>\n",
              "      <th>1000997</th>\n",
              "      <td>79.900002</td>\n",
              "    </tr>\n",
              "    <tr>\n",
              "      <th>1003010</th>\n",
              "      <td>79.900002</td>\n",
              "    </tr>\n",
              "    <tr>\n",
              "      <th>1003873</th>\n",
              "      <td>371.399994</td>\n",
              "    </tr>\n",
              "    <tr>\n",
              "      <th>1004890</th>\n",
              "      <td>183.800003</td>\n",
              "    </tr>\n",
              "  </tbody>\n",
              "</table>\n",
              "</div>"
            ],
            "text/plain": [
              "                           order_total_payment\n",
              "                                           sum\n",
              "order_pay_date customer_id                    \n",
              "2013-02-01     1000434               79.900002\n",
              "               1000997               79.900002\n",
              "               1003010               79.900002\n",
              "               1003873              371.399994\n",
              "               1004890              183.800003"
            ]
          },
          "metadata": {
            "tags": []
          },
          "execution_count": 35
        }
      ]
    },
    {
      "cell_type": "code",
      "metadata": {
        "ExecuteTime": {
          "end_time": "2020-12-19T18:46:48.225705Z",
          "start_time": "2020-12-19T18:46:48.155Z"
        },
        "id": "mxbiNfewWvuh"
      },
      "source": [
        "df_payment.columns = ['day_total_payment']\n",
        "df_payment.reset_index(inplace=True)"
      ],
      "execution_count": 36,
      "outputs": []
    },
    {
      "cell_type": "code",
      "metadata": {
        "ExecuteTime": {
          "end_time": "2020-12-19T18:46:48.227928Z",
          "start_time": "2020-12-19T18:46:48.198Z"
        },
        "colab": {
          "base_uri": "https://localhost:8080/",
          "height": 204
        },
        "id": "b9qEajfqWvuh",
        "outputId": "ff8f0d4c-5b2d-40af-9385-b92fb6ff312f"
      },
      "source": [
        "df_payment.head()"
      ],
      "execution_count": 37,
      "outputs": [
        {
          "output_type": "execute_result",
          "data": {
            "text/html": [
              "<div>\n",
              "<style scoped>\n",
              "    .dataframe tbody tr th:only-of-type {\n",
              "        vertical-align: middle;\n",
              "    }\n",
              "\n",
              "    .dataframe tbody tr th {\n",
              "        vertical-align: top;\n",
              "    }\n",
              "\n",
              "    .dataframe thead th {\n",
              "        text-align: right;\n",
              "    }\n",
              "</style>\n",
              "<table border=\"1\" class=\"dataframe\">\n",
              "  <thead>\n",
              "    <tr style=\"text-align: right;\">\n",
              "      <th></th>\n",
              "      <th>order_pay_date</th>\n",
              "      <th>customer_id</th>\n",
              "      <th>day_total_payment</th>\n",
              "    </tr>\n",
              "  </thead>\n",
              "  <tbody>\n",
              "    <tr>\n",
              "      <th>0</th>\n",
              "      <td>2013-02-01</td>\n",
              "      <td>1000434</td>\n",
              "      <td>79.900002</td>\n",
              "    </tr>\n",
              "    <tr>\n",
              "      <th>1</th>\n",
              "      <td>2013-02-01</td>\n",
              "      <td>1000997</td>\n",
              "      <td>79.900002</td>\n",
              "    </tr>\n",
              "    <tr>\n",
              "      <th>2</th>\n",
              "      <td>2013-02-01</td>\n",
              "      <td>1003010</td>\n",
              "      <td>79.900002</td>\n",
              "    </tr>\n",
              "    <tr>\n",
              "      <th>3</th>\n",
              "      <td>2013-02-01</td>\n",
              "      <td>1003873</td>\n",
              "      <td>371.399994</td>\n",
              "    </tr>\n",
              "    <tr>\n",
              "      <th>4</th>\n",
              "      <td>2013-02-01</td>\n",
              "      <td>1004890</td>\n",
              "      <td>183.800003</td>\n",
              "    </tr>\n",
              "  </tbody>\n",
              "</table>\n",
              "</div>"
            ],
            "text/plain": [
              "  order_pay_date  customer_id  day_total_payment\n",
              "0     2013-02-01      1000434          79.900002\n",
              "1     2013-02-01      1000997          79.900002\n",
              "2     2013-02-01      1003010          79.900002\n",
              "3     2013-02-01      1003873         371.399994\n",
              "4     2013-02-01      1004890         183.800003"
            ]
          },
          "metadata": {
            "tags": []
          },
          "execution_count": 37
        }
      ]
    },
    {
      "cell_type": "code",
      "metadata": {
        "ExecuteTime": {
          "end_time": "2020-12-19T18:46:48.343899Z",
          "start_time": "2020-12-19T18:46:48.332565Z"
        },
        "colab": {
          "base_uri": "https://localhost:8080/",
          "height": 301
        },
        "id": "wqvoDhkSWvui",
        "outputId": "fd567e59-5de7-4796-a257-cf4dd1952dbe"
      },
      "source": [
        "df_payment = df_payment.set_index([\"customer_id\", \"order_pay_date\"])[[\"day_total_payment\"]].unstack(level=-1).fillna(0)\n",
        "\n",
        "df_payment.columns = df_payment.columns.get_level_values(1)\n",
        "\n",
        "df_payment.head()"
      ],
      "execution_count": 38,
      "outputs": [
        {
          "output_type": "execute_result",
          "data": {
            "text/html": [
              "<div>\n",
              "<style scoped>\n",
              "    .dataframe tbody tr th:only-of-type {\n",
              "        vertical-align: middle;\n",
              "    }\n",
              "\n",
              "    .dataframe tbody tr th {\n",
              "        vertical-align: top;\n",
              "    }\n",
              "\n",
              "    .dataframe thead th {\n",
              "        text-align: right;\n",
              "    }\n",
              "</style>\n",
              "<table border=\"1\" class=\"dataframe\">\n",
              "  <thead>\n",
              "    <tr style=\"text-align: right;\">\n",
              "      <th>order_pay_date</th>\n",
              "      <th>2013-02-01</th>\n",
              "      <th>2013-02-02</th>\n",
              "      <th>2013-02-03</th>\n",
              "      <th>2013-02-04</th>\n",
              "      <th>2013-02-05</th>\n",
              "      <th>2013-02-06</th>\n",
              "      <th>2013-02-07</th>\n",
              "      <th>2013-02-08</th>\n",
              "      <th>2013-02-09</th>\n",
              "      <th>2013-02-10</th>\n",
              "      <th>2013-02-11</th>\n",
              "      <th>2013-02-12</th>\n",
              "      <th>2013-02-13</th>\n",
              "      <th>2013-02-14</th>\n",
              "      <th>2013-02-15</th>\n",
              "      <th>2013-02-16</th>\n",
              "      <th>2013-02-17</th>\n",
              "      <th>2013-02-18</th>\n",
              "      <th>2013-02-19</th>\n",
              "      <th>2013-02-20</th>\n",
              "      <th>2013-02-21</th>\n",
              "      <th>2013-02-22</th>\n",
              "      <th>2013-02-23</th>\n",
              "      <th>2013-02-24</th>\n",
              "      <th>2013-02-25</th>\n",
              "      <th>2013-02-26</th>\n",
              "      <th>2013-02-27</th>\n",
              "      <th>2013-02-28</th>\n",
              "      <th>2013-03-01</th>\n",
              "      <th>2013-03-02</th>\n",
              "      <th>2013-03-03</th>\n",
              "      <th>2013-03-04</th>\n",
              "      <th>2013-03-05</th>\n",
              "      <th>2013-03-06</th>\n",
              "      <th>2013-03-07</th>\n",
              "      <th>2013-03-08</th>\n",
              "      <th>2013-03-09</th>\n",
              "      <th>2013-03-10</th>\n",
              "      <th>2013-03-11</th>\n",
              "      <th>2013-03-12</th>\n",
              "      <th>...</th>\n",
              "      <th>2013-07-23</th>\n",
              "      <th>2013-07-24</th>\n",
              "      <th>2013-07-25</th>\n",
              "      <th>2013-07-26</th>\n",
              "      <th>2013-07-27</th>\n",
              "      <th>2013-07-28</th>\n",
              "      <th>2013-07-29</th>\n",
              "      <th>2013-07-30</th>\n",
              "      <th>2013-07-31</th>\n",
              "      <th>2013-08-01</th>\n",
              "      <th>2013-08-02</th>\n",
              "      <th>2013-08-03</th>\n",
              "      <th>2013-08-04</th>\n",
              "      <th>2013-08-05</th>\n",
              "      <th>2013-08-06</th>\n",
              "      <th>2013-08-07</th>\n",
              "      <th>2013-08-08</th>\n",
              "      <th>2013-08-09</th>\n",
              "      <th>2013-08-10</th>\n",
              "      <th>2013-08-11</th>\n",
              "      <th>2013-08-12</th>\n",
              "      <th>2013-08-13</th>\n",
              "      <th>2013-08-14</th>\n",
              "      <th>2013-08-15</th>\n",
              "      <th>2013-08-16</th>\n",
              "      <th>2013-08-17</th>\n",
              "      <th>2013-08-18</th>\n",
              "      <th>2013-08-19</th>\n",
              "      <th>2013-08-20</th>\n",
              "      <th>2013-08-21</th>\n",
              "      <th>2013-08-22</th>\n",
              "      <th>2013-08-23</th>\n",
              "      <th>2013-08-24</th>\n",
              "      <th>2013-08-25</th>\n",
              "      <th>2013-08-26</th>\n",
              "      <th>2013-08-27</th>\n",
              "      <th>2013-08-28</th>\n",
              "      <th>2013-08-29</th>\n",
              "      <th>2013-08-30</th>\n",
              "      <th>2013-08-31</th>\n",
              "    </tr>\n",
              "    <tr>\n",
              "      <th>customer_id</th>\n",
              "      <th></th>\n",
              "      <th></th>\n",
              "      <th></th>\n",
              "      <th></th>\n",
              "      <th></th>\n",
              "      <th></th>\n",
              "      <th></th>\n",
              "      <th></th>\n",
              "      <th></th>\n",
              "      <th></th>\n",
              "      <th></th>\n",
              "      <th></th>\n",
              "      <th></th>\n",
              "      <th></th>\n",
              "      <th></th>\n",
              "      <th></th>\n",
              "      <th></th>\n",
              "      <th></th>\n",
              "      <th></th>\n",
              "      <th></th>\n",
              "      <th></th>\n",
              "      <th></th>\n",
              "      <th></th>\n",
              "      <th></th>\n",
              "      <th></th>\n",
              "      <th></th>\n",
              "      <th></th>\n",
              "      <th></th>\n",
              "      <th></th>\n",
              "      <th></th>\n",
              "      <th></th>\n",
              "      <th></th>\n",
              "      <th></th>\n",
              "      <th></th>\n",
              "      <th></th>\n",
              "      <th></th>\n",
              "      <th></th>\n",
              "      <th></th>\n",
              "      <th></th>\n",
              "      <th></th>\n",
              "      <th></th>\n",
              "      <th></th>\n",
              "      <th></th>\n",
              "      <th></th>\n",
              "      <th></th>\n",
              "      <th></th>\n",
              "      <th></th>\n",
              "      <th></th>\n",
              "      <th></th>\n",
              "      <th></th>\n",
              "      <th></th>\n",
              "      <th></th>\n",
              "      <th></th>\n",
              "      <th></th>\n",
              "      <th></th>\n",
              "      <th></th>\n",
              "      <th></th>\n",
              "      <th></th>\n",
              "      <th></th>\n",
              "      <th></th>\n",
              "      <th></th>\n",
              "      <th></th>\n",
              "      <th></th>\n",
              "      <th></th>\n",
              "      <th></th>\n",
              "      <th></th>\n",
              "      <th></th>\n",
              "      <th></th>\n",
              "      <th></th>\n",
              "      <th></th>\n",
              "      <th></th>\n",
              "      <th></th>\n",
              "      <th></th>\n",
              "      <th></th>\n",
              "      <th></th>\n",
              "      <th></th>\n",
              "      <th></th>\n",
              "      <th></th>\n",
              "      <th></th>\n",
              "      <th></th>\n",
              "      <th></th>\n",
              "    </tr>\n",
              "  </thead>\n",
              "  <tbody>\n",
              "    <tr>\n",
              "      <th>1000014</th>\n",
              "      <td>0.0</td>\n",
              "      <td>0.0</td>\n",
              "      <td>0.0</td>\n",
              "      <td>0.0</td>\n",
              "      <td>0.0</td>\n",
              "      <td>0.0</td>\n",
              "      <td>0.0</td>\n",
              "      <td>0.0</td>\n",
              "      <td>0.0</td>\n",
              "      <td>0.0</td>\n",
              "      <td>0.0</td>\n",
              "      <td>0.0</td>\n",
              "      <td>0.0</td>\n",
              "      <td>0.0</td>\n",
              "      <td>0.0</td>\n",
              "      <td>0.0</td>\n",
              "      <td>0.0</td>\n",
              "      <td>0.0</td>\n",
              "      <td>0.0</td>\n",
              "      <td>0.0</td>\n",
              "      <td>0.0</td>\n",
              "      <td>0.0</td>\n",
              "      <td>0.0</td>\n",
              "      <td>0.0</td>\n",
              "      <td>0.0</td>\n",
              "      <td>0.0</td>\n",
              "      <td>0.0</td>\n",
              "      <td>0.0</td>\n",
              "      <td>0.0</td>\n",
              "      <td>0.0</td>\n",
              "      <td>0.0</td>\n",
              "      <td>0.0</td>\n",
              "      <td>0.0</td>\n",
              "      <td>0.0</td>\n",
              "      <td>0.0</td>\n",
              "      <td>0.000000</td>\n",
              "      <td>0.0</td>\n",
              "      <td>0.0</td>\n",
              "      <td>0.0</td>\n",
              "      <td>0.0</td>\n",
              "      <td>...</td>\n",
              "      <td>0.0</td>\n",
              "      <td>0.0</td>\n",
              "      <td>0.0</td>\n",
              "      <td>0.0</td>\n",
              "      <td>0.0</td>\n",
              "      <td>0.0</td>\n",
              "      <td>0.0</td>\n",
              "      <td>0.0</td>\n",
              "      <td>0.0</td>\n",
              "      <td>0.0</td>\n",
              "      <td>0.0</td>\n",
              "      <td>66.900002</td>\n",
              "      <td>0.0</td>\n",
              "      <td>0.0</td>\n",
              "      <td>0.0</td>\n",
              "      <td>0.0</td>\n",
              "      <td>0.0</td>\n",
              "      <td>0.0</td>\n",
              "      <td>0.0</td>\n",
              "      <td>0.0</td>\n",
              "      <td>0.0</td>\n",
              "      <td>0.0</td>\n",
              "      <td>0.0</td>\n",
              "      <td>0.0</td>\n",
              "      <td>0.0</td>\n",
              "      <td>0.0</td>\n",
              "      <td>0.0</td>\n",
              "      <td>0.0</td>\n",
              "      <td>0.0</td>\n",
              "      <td>0.0</td>\n",
              "      <td>0.0</td>\n",
              "      <td>0.0</td>\n",
              "      <td>0.0</td>\n",
              "      <td>0.0</td>\n",
              "      <td>0.0</td>\n",
              "      <td>0.0</td>\n",
              "      <td>0.0</td>\n",
              "      <td>0.0</td>\n",
              "      <td>0.0</td>\n",
              "      <td>0.0</td>\n",
              "    </tr>\n",
              "    <tr>\n",
              "      <th>1000034</th>\n",
              "      <td>0.0</td>\n",
              "      <td>0.0</td>\n",
              "      <td>0.0</td>\n",
              "      <td>0.0</td>\n",
              "      <td>0.0</td>\n",
              "      <td>0.0</td>\n",
              "      <td>0.0</td>\n",
              "      <td>0.0</td>\n",
              "      <td>0.0</td>\n",
              "      <td>0.0</td>\n",
              "      <td>0.0</td>\n",
              "      <td>0.0</td>\n",
              "      <td>0.0</td>\n",
              "      <td>0.0</td>\n",
              "      <td>0.0</td>\n",
              "      <td>0.0</td>\n",
              "      <td>0.0</td>\n",
              "      <td>0.0</td>\n",
              "      <td>0.0</td>\n",
              "      <td>0.0</td>\n",
              "      <td>0.0</td>\n",
              "      <td>0.0</td>\n",
              "      <td>0.0</td>\n",
              "      <td>0.0</td>\n",
              "      <td>0.0</td>\n",
              "      <td>0.0</td>\n",
              "      <td>0.0</td>\n",
              "      <td>0.0</td>\n",
              "      <td>0.0</td>\n",
              "      <td>0.0</td>\n",
              "      <td>0.0</td>\n",
              "      <td>0.0</td>\n",
              "      <td>0.0</td>\n",
              "      <td>0.0</td>\n",
              "      <td>0.0</td>\n",
              "      <td>199.800003</td>\n",
              "      <td>0.0</td>\n",
              "      <td>0.0</td>\n",
              "      <td>0.0</td>\n",
              "      <td>0.0</td>\n",
              "      <td>...</td>\n",
              "      <td>0.0</td>\n",
              "      <td>0.0</td>\n",
              "      <td>0.0</td>\n",
              "      <td>0.0</td>\n",
              "      <td>0.0</td>\n",
              "      <td>0.0</td>\n",
              "      <td>0.0</td>\n",
              "      <td>0.0</td>\n",
              "      <td>0.0</td>\n",
              "      <td>0.0</td>\n",
              "      <td>0.0</td>\n",
              "      <td>0.000000</td>\n",
              "      <td>0.0</td>\n",
              "      <td>0.0</td>\n",
              "      <td>0.0</td>\n",
              "      <td>0.0</td>\n",
              "      <td>0.0</td>\n",
              "      <td>0.0</td>\n",
              "      <td>0.0</td>\n",
              "      <td>0.0</td>\n",
              "      <td>0.0</td>\n",
              "      <td>0.0</td>\n",
              "      <td>0.0</td>\n",
              "      <td>0.0</td>\n",
              "      <td>0.0</td>\n",
              "      <td>0.0</td>\n",
              "      <td>0.0</td>\n",
              "      <td>0.0</td>\n",
              "      <td>0.0</td>\n",
              "      <td>0.0</td>\n",
              "      <td>0.0</td>\n",
              "      <td>0.0</td>\n",
              "      <td>0.0</td>\n",
              "      <td>0.0</td>\n",
              "      <td>0.0</td>\n",
              "      <td>0.0</td>\n",
              "      <td>0.0</td>\n",
              "      <td>0.0</td>\n",
              "      <td>0.0</td>\n",
              "      <td>0.0</td>\n",
              "    </tr>\n",
              "    <tr>\n",
              "      <th>1000046</th>\n",
              "      <td>0.0</td>\n",
              "      <td>0.0</td>\n",
              "      <td>0.0</td>\n",
              "      <td>0.0</td>\n",
              "      <td>0.0</td>\n",
              "      <td>0.0</td>\n",
              "      <td>0.0</td>\n",
              "      <td>0.0</td>\n",
              "      <td>0.0</td>\n",
              "      <td>0.0</td>\n",
              "      <td>0.0</td>\n",
              "      <td>0.0</td>\n",
              "      <td>0.0</td>\n",
              "      <td>0.0</td>\n",
              "      <td>0.0</td>\n",
              "      <td>0.0</td>\n",
              "      <td>0.0</td>\n",
              "      <td>0.0</td>\n",
              "      <td>0.0</td>\n",
              "      <td>0.0</td>\n",
              "      <td>0.0</td>\n",
              "      <td>0.0</td>\n",
              "      <td>0.0</td>\n",
              "      <td>0.0</td>\n",
              "      <td>0.0</td>\n",
              "      <td>0.0</td>\n",
              "      <td>0.0</td>\n",
              "      <td>0.0</td>\n",
              "      <td>0.0</td>\n",
              "      <td>0.0</td>\n",
              "      <td>0.0</td>\n",
              "      <td>0.0</td>\n",
              "      <td>0.0</td>\n",
              "      <td>0.0</td>\n",
              "      <td>0.0</td>\n",
              "      <td>0.000000</td>\n",
              "      <td>0.0</td>\n",
              "      <td>0.0</td>\n",
              "      <td>0.0</td>\n",
              "      <td>0.0</td>\n",
              "      <td>...</td>\n",
              "      <td>0.0</td>\n",
              "      <td>0.0</td>\n",
              "      <td>0.0</td>\n",
              "      <td>0.0</td>\n",
              "      <td>0.0</td>\n",
              "      <td>0.0</td>\n",
              "      <td>0.0</td>\n",
              "      <td>0.0</td>\n",
              "      <td>0.0</td>\n",
              "      <td>0.0</td>\n",
              "      <td>0.0</td>\n",
              "      <td>0.000000</td>\n",
              "      <td>0.0</td>\n",
              "      <td>0.0</td>\n",
              "      <td>0.0</td>\n",
              "      <td>0.0</td>\n",
              "      <td>0.0</td>\n",
              "      <td>0.0</td>\n",
              "      <td>0.0</td>\n",
              "      <td>0.0</td>\n",
              "      <td>0.0</td>\n",
              "      <td>0.0</td>\n",
              "      <td>0.0</td>\n",
              "      <td>0.0</td>\n",
              "      <td>0.0</td>\n",
              "      <td>0.0</td>\n",
              "      <td>0.0</td>\n",
              "      <td>0.0</td>\n",
              "      <td>0.0</td>\n",
              "      <td>0.0</td>\n",
              "      <td>0.0</td>\n",
              "      <td>0.0</td>\n",
              "      <td>0.0</td>\n",
              "      <td>0.0</td>\n",
              "      <td>0.0</td>\n",
              "      <td>0.0</td>\n",
              "      <td>0.0</td>\n",
              "      <td>0.0</td>\n",
              "      <td>0.0</td>\n",
              "      <td>0.0</td>\n",
              "    </tr>\n",
              "    <tr>\n",
              "      <th>1000069</th>\n",
              "      <td>0.0</td>\n",
              "      <td>0.0</td>\n",
              "      <td>0.0</td>\n",
              "      <td>0.0</td>\n",
              "      <td>0.0</td>\n",
              "      <td>0.0</td>\n",
              "      <td>0.0</td>\n",
              "      <td>0.0</td>\n",
              "      <td>0.0</td>\n",
              "      <td>0.0</td>\n",
              "      <td>0.0</td>\n",
              "      <td>0.0</td>\n",
              "      <td>0.0</td>\n",
              "      <td>0.0</td>\n",
              "      <td>0.0</td>\n",
              "      <td>0.0</td>\n",
              "      <td>0.0</td>\n",
              "      <td>0.0</td>\n",
              "      <td>0.0</td>\n",
              "      <td>0.0</td>\n",
              "      <td>0.0</td>\n",
              "      <td>0.0</td>\n",
              "      <td>0.0</td>\n",
              "      <td>0.0</td>\n",
              "      <td>0.0</td>\n",
              "      <td>0.0</td>\n",
              "      <td>0.0</td>\n",
              "      <td>0.0</td>\n",
              "      <td>0.0</td>\n",
              "      <td>0.0</td>\n",
              "      <td>0.0</td>\n",
              "      <td>0.0</td>\n",
              "      <td>0.0</td>\n",
              "      <td>0.0</td>\n",
              "      <td>0.0</td>\n",
              "      <td>0.000000</td>\n",
              "      <td>0.0</td>\n",
              "      <td>0.0</td>\n",
              "      <td>0.0</td>\n",
              "      <td>0.0</td>\n",
              "      <td>...</td>\n",
              "      <td>0.0</td>\n",
              "      <td>0.0</td>\n",
              "      <td>0.0</td>\n",
              "      <td>0.0</td>\n",
              "      <td>0.0</td>\n",
              "      <td>0.0</td>\n",
              "      <td>0.0</td>\n",
              "      <td>0.0</td>\n",
              "      <td>0.0</td>\n",
              "      <td>0.0</td>\n",
              "      <td>0.0</td>\n",
              "      <td>0.000000</td>\n",
              "      <td>0.0</td>\n",
              "      <td>0.0</td>\n",
              "      <td>0.0</td>\n",
              "      <td>0.0</td>\n",
              "      <td>0.0</td>\n",
              "      <td>0.0</td>\n",
              "      <td>0.0</td>\n",
              "      <td>0.0</td>\n",
              "      <td>0.0</td>\n",
              "      <td>0.0</td>\n",
              "      <td>0.0</td>\n",
              "      <td>0.0</td>\n",
              "      <td>0.0</td>\n",
              "      <td>0.0</td>\n",
              "      <td>0.0</td>\n",
              "      <td>0.0</td>\n",
              "      <td>0.0</td>\n",
              "      <td>0.0</td>\n",
              "      <td>0.0</td>\n",
              "      <td>0.0</td>\n",
              "      <td>0.0</td>\n",
              "      <td>0.0</td>\n",
              "      <td>0.0</td>\n",
              "      <td>0.0</td>\n",
              "      <td>0.0</td>\n",
              "      <td>0.0</td>\n",
              "      <td>0.0</td>\n",
              "      <td>0.0</td>\n",
              "    </tr>\n",
              "    <tr>\n",
              "      <th>1000105</th>\n",
              "      <td>0.0</td>\n",
              "      <td>0.0</td>\n",
              "      <td>0.0</td>\n",
              "      <td>0.0</td>\n",
              "      <td>0.0</td>\n",
              "      <td>0.0</td>\n",
              "      <td>0.0</td>\n",
              "      <td>0.0</td>\n",
              "      <td>0.0</td>\n",
              "      <td>0.0</td>\n",
              "      <td>0.0</td>\n",
              "      <td>0.0</td>\n",
              "      <td>0.0</td>\n",
              "      <td>0.0</td>\n",
              "      <td>0.0</td>\n",
              "      <td>0.0</td>\n",
              "      <td>0.0</td>\n",
              "      <td>0.0</td>\n",
              "      <td>0.0</td>\n",
              "      <td>0.0</td>\n",
              "      <td>0.0</td>\n",
              "      <td>0.0</td>\n",
              "      <td>0.0</td>\n",
              "      <td>0.0</td>\n",
              "      <td>0.0</td>\n",
              "      <td>0.0</td>\n",
              "      <td>0.0</td>\n",
              "      <td>0.0</td>\n",
              "      <td>0.0</td>\n",
              "      <td>0.0</td>\n",
              "      <td>0.0</td>\n",
              "      <td>0.0</td>\n",
              "      <td>0.0</td>\n",
              "      <td>0.0</td>\n",
              "      <td>0.0</td>\n",
              "      <td>0.000000</td>\n",
              "      <td>0.0</td>\n",
              "      <td>0.0</td>\n",
              "      <td>0.0</td>\n",
              "      <td>0.0</td>\n",
              "      <td>...</td>\n",
              "      <td>0.0</td>\n",
              "      <td>0.0</td>\n",
              "      <td>0.0</td>\n",
              "      <td>0.0</td>\n",
              "      <td>0.0</td>\n",
              "      <td>0.0</td>\n",
              "      <td>0.0</td>\n",
              "      <td>0.0</td>\n",
              "      <td>0.0</td>\n",
              "      <td>0.0</td>\n",
              "      <td>0.0</td>\n",
              "      <td>0.000000</td>\n",
              "      <td>0.0</td>\n",
              "      <td>0.0</td>\n",
              "      <td>0.0</td>\n",
              "      <td>0.0</td>\n",
              "      <td>0.0</td>\n",
              "      <td>0.0</td>\n",
              "      <td>0.0</td>\n",
              "      <td>0.0</td>\n",
              "      <td>0.0</td>\n",
              "      <td>0.0</td>\n",
              "      <td>0.0</td>\n",
              "      <td>0.0</td>\n",
              "      <td>0.0</td>\n",
              "      <td>0.0</td>\n",
              "      <td>0.0</td>\n",
              "      <td>0.0</td>\n",
              "      <td>0.0</td>\n",
              "      <td>0.0</td>\n",
              "      <td>0.0</td>\n",
              "      <td>0.0</td>\n",
              "      <td>0.0</td>\n",
              "      <td>0.0</td>\n",
              "      <td>0.0</td>\n",
              "      <td>0.0</td>\n",
              "      <td>0.0</td>\n",
              "      <td>0.0</td>\n",
              "      <td>0.0</td>\n",
              "      <td>0.0</td>\n",
              "    </tr>\n",
              "  </tbody>\n",
              "</table>\n",
              "<p>5 rows × 212 columns</p>\n",
              "</div>"
            ],
            "text/plain": [
              "order_pay_date  2013-02-01  2013-02-02  ...  2013-08-30  2013-08-31\n",
              "customer_id                             ...                        \n",
              "1000014                0.0         0.0  ...         0.0         0.0\n",
              "1000034                0.0         0.0  ...         0.0         0.0\n",
              "1000046                0.0         0.0  ...         0.0         0.0\n",
              "1000069                0.0         0.0  ...         0.0         0.0\n",
              "1000105                0.0         0.0  ...         0.0         0.0\n",
              "\n",
              "[5 rows x 212 columns]"
            ]
          },
          "metadata": {
            "tags": []
          },
          "execution_count": 38
        }
      ]
    },
    {
      "cell_type": "markdown",
      "metadata": {
        "id": "tC5F_LghWvuj"
      },
      "source": [
        "### 每日购买数量"
      ]
    },
    {
      "cell_type": "code",
      "metadata": {
        "ExecuteTime": {
          "end_time": "2020-12-19T18:46:48.456380Z",
          "start_time": "2020-12-19T18:46:48.446466Z"
        },
        "colab": {
          "base_uri": "https://localhost:8080/",
          "height": 332
        },
        "id": "S348hSIRWvuj",
        "outputId": "9dc4fcb4-eb34-45bf-ed69-d7562fa34e13"
      },
      "source": [
        "df_goods = df[['customer_id','order_pay_date','order_total_num']]\n",
        "df_goods = df_goods.groupby(['order_pay_date','customer_id']).agg({'order_total_num': ['sum']})\n",
        "df_goods.columns = ['day_total_num']\n",
        "\n",
        "df_goods.reset_index(inplace=True)\n",
        "\n",
        "df_goods = df_goods.set_index(\n",
        "    [\"customer_id\", \"order_pay_date\"])[[\"day_total_num\"]].unstack(level=-1).fillna(0)\n",
        "df_goods.head()"
      ],
      "execution_count": 39,
      "outputs": [
        {
          "output_type": "execute_result",
          "data": {
            "text/html": [
              "<div>\n",
              "<style scoped>\n",
              "    .dataframe tbody tr th:only-of-type {\n",
              "        vertical-align: middle;\n",
              "    }\n",
              "\n",
              "    .dataframe tbody tr th {\n",
              "        vertical-align: top;\n",
              "    }\n",
              "\n",
              "    .dataframe thead tr th {\n",
              "        text-align: left;\n",
              "    }\n",
              "\n",
              "    .dataframe thead tr:last-of-type th {\n",
              "        text-align: right;\n",
              "    }\n",
              "</style>\n",
              "<table border=\"1\" class=\"dataframe\">\n",
              "  <thead>\n",
              "    <tr>\n",
              "      <th></th>\n",
              "      <th colspan=\"81\" halign=\"left\">day_total_num</th>\n",
              "    </tr>\n",
              "    <tr>\n",
              "      <th>order_pay_date</th>\n",
              "      <th>2013-02-01</th>\n",
              "      <th>2013-02-02</th>\n",
              "      <th>2013-02-03</th>\n",
              "      <th>2013-02-04</th>\n",
              "      <th>2013-02-05</th>\n",
              "      <th>2013-02-06</th>\n",
              "      <th>2013-02-07</th>\n",
              "      <th>2013-02-08</th>\n",
              "      <th>2013-02-09</th>\n",
              "      <th>2013-02-10</th>\n",
              "      <th>2013-02-11</th>\n",
              "      <th>2013-02-12</th>\n",
              "      <th>2013-02-13</th>\n",
              "      <th>2013-02-14</th>\n",
              "      <th>2013-02-15</th>\n",
              "      <th>2013-02-16</th>\n",
              "      <th>2013-02-17</th>\n",
              "      <th>2013-02-18</th>\n",
              "      <th>2013-02-19</th>\n",
              "      <th>2013-02-20</th>\n",
              "      <th>2013-02-21</th>\n",
              "      <th>2013-02-22</th>\n",
              "      <th>2013-02-23</th>\n",
              "      <th>2013-02-24</th>\n",
              "      <th>2013-02-25</th>\n",
              "      <th>2013-02-26</th>\n",
              "      <th>2013-02-27</th>\n",
              "      <th>2013-02-28</th>\n",
              "      <th>2013-03-01</th>\n",
              "      <th>2013-03-02</th>\n",
              "      <th>2013-03-03</th>\n",
              "      <th>2013-03-04</th>\n",
              "      <th>2013-03-05</th>\n",
              "      <th>2013-03-06</th>\n",
              "      <th>2013-03-07</th>\n",
              "      <th>2013-03-08</th>\n",
              "      <th>2013-03-09</th>\n",
              "      <th>2013-03-10</th>\n",
              "      <th>2013-03-11</th>\n",
              "      <th>2013-03-12</th>\n",
              "      <th>...</th>\n",
              "      <th>2013-07-23</th>\n",
              "      <th>2013-07-24</th>\n",
              "      <th>2013-07-25</th>\n",
              "      <th>2013-07-26</th>\n",
              "      <th>2013-07-27</th>\n",
              "      <th>2013-07-28</th>\n",
              "      <th>2013-07-29</th>\n",
              "      <th>2013-07-30</th>\n",
              "      <th>2013-07-31</th>\n",
              "      <th>2013-08-01</th>\n",
              "      <th>2013-08-02</th>\n",
              "      <th>2013-08-03</th>\n",
              "      <th>2013-08-04</th>\n",
              "      <th>2013-08-05</th>\n",
              "      <th>2013-08-06</th>\n",
              "      <th>2013-08-07</th>\n",
              "      <th>2013-08-08</th>\n",
              "      <th>2013-08-09</th>\n",
              "      <th>2013-08-10</th>\n",
              "      <th>2013-08-11</th>\n",
              "      <th>2013-08-12</th>\n",
              "      <th>2013-08-13</th>\n",
              "      <th>2013-08-14</th>\n",
              "      <th>2013-08-15</th>\n",
              "      <th>2013-08-16</th>\n",
              "      <th>2013-08-17</th>\n",
              "      <th>2013-08-18</th>\n",
              "      <th>2013-08-19</th>\n",
              "      <th>2013-08-20</th>\n",
              "      <th>2013-08-21</th>\n",
              "      <th>2013-08-22</th>\n",
              "      <th>2013-08-23</th>\n",
              "      <th>2013-08-24</th>\n",
              "      <th>2013-08-25</th>\n",
              "      <th>2013-08-26</th>\n",
              "      <th>2013-08-27</th>\n",
              "      <th>2013-08-28</th>\n",
              "      <th>2013-08-29</th>\n",
              "      <th>2013-08-30</th>\n",
              "      <th>2013-08-31</th>\n",
              "    </tr>\n",
              "    <tr>\n",
              "      <th>customer_id</th>\n",
              "      <th></th>\n",
              "      <th></th>\n",
              "      <th></th>\n",
              "      <th></th>\n",
              "      <th></th>\n",
              "      <th></th>\n",
              "      <th></th>\n",
              "      <th></th>\n",
              "      <th></th>\n",
              "      <th></th>\n",
              "      <th></th>\n",
              "      <th></th>\n",
              "      <th></th>\n",
              "      <th></th>\n",
              "      <th></th>\n",
              "      <th></th>\n",
              "      <th></th>\n",
              "      <th></th>\n",
              "      <th></th>\n",
              "      <th></th>\n",
              "      <th></th>\n",
              "      <th></th>\n",
              "      <th></th>\n",
              "      <th></th>\n",
              "      <th></th>\n",
              "      <th></th>\n",
              "      <th></th>\n",
              "      <th></th>\n",
              "      <th></th>\n",
              "      <th></th>\n",
              "      <th></th>\n",
              "      <th></th>\n",
              "      <th></th>\n",
              "      <th></th>\n",
              "      <th></th>\n",
              "      <th></th>\n",
              "      <th></th>\n",
              "      <th></th>\n",
              "      <th></th>\n",
              "      <th></th>\n",
              "      <th></th>\n",
              "      <th></th>\n",
              "      <th></th>\n",
              "      <th></th>\n",
              "      <th></th>\n",
              "      <th></th>\n",
              "      <th></th>\n",
              "      <th></th>\n",
              "      <th></th>\n",
              "      <th></th>\n",
              "      <th></th>\n",
              "      <th></th>\n",
              "      <th></th>\n",
              "      <th></th>\n",
              "      <th></th>\n",
              "      <th></th>\n",
              "      <th></th>\n",
              "      <th></th>\n",
              "      <th></th>\n",
              "      <th></th>\n",
              "      <th></th>\n",
              "      <th></th>\n",
              "      <th></th>\n",
              "      <th></th>\n",
              "      <th></th>\n",
              "      <th></th>\n",
              "      <th></th>\n",
              "      <th></th>\n",
              "      <th></th>\n",
              "      <th></th>\n",
              "      <th></th>\n",
              "      <th></th>\n",
              "      <th></th>\n",
              "      <th></th>\n",
              "      <th></th>\n",
              "      <th></th>\n",
              "      <th></th>\n",
              "      <th></th>\n",
              "      <th></th>\n",
              "      <th></th>\n",
              "      <th></th>\n",
              "    </tr>\n",
              "  </thead>\n",
              "  <tbody>\n",
              "    <tr>\n",
              "      <th>1000014</th>\n",
              "      <td>0.0</td>\n",
              "      <td>0.0</td>\n",
              "      <td>0.0</td>\n",
              "      <td>0.0</td>\n",
              "      <td>0.0</td>\n",
              "      <td>0.0</td>\n",
              "      <td>0.0</td>\n",
              "      <td>0.0</td>\n",
              "      <td>0.0</td>\n",
              "      <td>0.0</td>\n",
              "      <td>0.0</td>\n",
              "      <td>0.0</td>\n",
              "      <td>0.0</td>\n",
              "      <td>0.0</td>\n",
              "      <td>0.0</td>\n",
              "      <td>0.0</td>\n",
              "      <td>0.0</td>\n",
              "      <td>0.0</td>\n",
              "      <td>0.0</td>\n",
              "      <td>0.0</td>\n",
              "      <td>0.0</td>\n",
              "      <td>0.0</td>\n",
              "      <td>0.0</td>\n",
              "      <td>0.0</td>\n",
              "      <td>0.0</td>\n",
              "      <td>0.0</td>\n",
              "      <td>0.0</td>\n",
              "      <td>0.0</td>\n",
              "      <td>0.0</td>\n",
              "      <td>0.0</td>\n",
              "      <td>0.0</td>\n",
              "      <td>0.0</td>\n",
              "      <td>0.0</td>\n",
              "      <td>0.0</td>\n",
              "      <td>0.0</td>\n",
              "      <td>0.0</td>\n",
              "      <td>0.0</td>\n",
              "      <td>0.0</td>\n",
              "      <td>0.0</td>\n",
              "      <td>0.0</td>\n",
              "      <td>...</td>\n",
              "      <td>0.0</td>\n",
              "      <td>0.0</td>\n",
              "      <td>0.0</td>\n",
              "      <td>0.0</td>\n",
              "      <td>0.0</td>\n",
              "      <td>0.0</td>\n",
              "      <td>0.0</td>\n",
              "      <td>0.0</td>\n",
              "      <td>0.0</td>\n",
              "      <td>0.0</td>\n",
              "      <td>0.0</td>\n",
              "      <td>1.0</td>\n",
              "      <td>0.0</td>\n",
              "      <td>0.0</td>\n",
              "      <td>0.0</td>\n",
              "      <td>0.0</td>\n",
              "      <td>0.0</td>\n",
              "      <td>0.0</td>\n",
              "      <td>0.0</td>\n",
              "      <td>0.0</td>\n",
              "      <td>0.0</td>\n",
              "      <td>0.0</td>\n",
              "      <td>0.0</td>\n",
              "      <td>0.0</td>\n",
              "      <td>0.0</td>\n",
              "      <td>0.0</td>\n",
              "      <td>0.0</td>\n",
              "      <td>0.0</td>\n",
              "      <td>0.0</td>\n",
              "      <td>0.0</td>\n",
              "      <td>0.0</td>\n",
              "      <td>0.0</td>\n",
              "      <td>0.0</td>\n",
              "      <td>0.0</td>\n",
              "      <td>0.0</td>\n",
              "      <td>0.0</td>\n",
              "      <td>0.0</td>\n",
              "      <td>0.0</td>\n",
              "      <td>0.0</td>\n",
              "      <td>0.0</td>\n",
              "    </tr>\n",
              "    <tr>\n",
              "      <th>1000034</th>\n",
              "      <td>0.0</td>\n",
              "      <td>0.0</td>\n",
              "      <td>0.0</td>\n",
              "      <td>0.0</td>\n",
              "      <td>0.0</td>\n",
              "      <td>0.0</td>\n",
              "      <td>0.0</td>\n",
              "      <td>0.0</td>\n",
              "      <td>0.0</td>\n",
              "      <td>0.0</td>\n",
              "      <td>0.0</td>\n",
              "      <td>0.0</td>\n",
              "      <td>0.0</td>\n",
              "      <td>0.0</td>\n",
              "      <td>0.0</td>\n",
              "      <td>0.0</td>\n",
              "      <td>0.0</td>\n",
              "      <td>0.0</td>\n",
              "      <td>0.0</td>\n",
              "      <td>0.0</td>\n",
              "      <td>0.0</td>\n",
              "      <td>0.0</td>\n",
              "      <td>0.0</td>\n",
              "      <td>0.0</td>\n",
              "      <td>0.0</td>\n",
              "      <td>0.0</td>\n",
              "      <td>0.0</td>\n",
              "      <td>0.0</td>\n",
              "      <td>0.0</td>\n",
              "      <td>0.0</td>\n",
              "      <td>0.0</td>\n",
              "      <td>0.0</td>\n",
              "      <td>0.0</td>\n",
              "      <td>0.0</td>\n",
              "      <td>0.0</td>\n",
              "      <td>4.0</td>\n",
              "      <td>0.0</td>\n",
              "      <td>0.0</td>\n",
              "      <td>0.0</td>\n",
              "      <td>0.0</td>\n",
              "      <td>...</td>\n",
              "      <td>0.0</td>\n",
              "      <td>0.0</td>\n",
              "      <td>0.0</td>\n",
              "      <td>0.0</td>\n",
              "      <td>0.0</td>\n",
              "      <td>0.0</td>\n",
              "      <td>0.0</td>\n",
              "      <td>0.0</td>\n",
              "      <td>0.0</td>\n",
              "      <td>0.0</td>\n",
              "      <td>0.0</td>\n",
              "      <td>0.0</td>\n",
              "      <td>0.0</td>\n",
              "      <td>0.0</td>\n",
              "      <td>0.0</td>\n",
              "      <td>0.0</td>\n",
              "      <td>0.0</td>\n",
              "      <td>0.0</td>\n",
              "      <td>0.0</td>\n",
              "      <td>0.0</td>\n",
              "      <td>0.0</td>\n",
              "      <td>0.0</td>\n",
              "      <td>0.0</td>\n",
              "      <td>0.0</td>\n",
              "      <td>0.0</td>\n",
              "      <td>0.0</td>\n",
              "      <td>0.0</td>\n",
              "      <td>0.0</td>\n",
              "      <td>0.0</td>\n",
              "      <td>0.0</td>\n",
              "      <td>0.0</td>\n",
              "      <td>0.0</td>\n",
              "      <td>0.0</td>\n",
              "      <td>0.0</td>\n",
              "      <td>0.0</td>\n",
              "      <td>0.0</td>\n",
              "      <td>0.0</td>\n",
              "      <td>0.0</td>\n",
              "      <td>0.0</td>\n",
              "      <td>0.0</td>\n",
              "    </tr>\n",
              "    <tr>\n",
              "      <th>1000046</th>\n",
              "      <td>0.0</td>\n",
              "      <td>0.0</td>\n",
              "      <td>0.0</td>\n",
              "      <td>0.0</td>\n",
              "      <td>0.0</td>\n",
              "      <td>0.0</td>\n",
              "      <td>0.0</td>\n",
              "      <td>0.0</td>\n",
              "      <td>0.0</td>\n",
              "      <td>0.0</td>\n",
              "      <td>0.0</td>\n",
              "      <td>0.0</td>\n",
              "      <td>0.0</td>\n",
              "      <td>0.0</td>\n",
              "      <td>0.0</td>\n",
              "      <td>0.0</td>\n",
              "      <td>0.0</td>\n",
              "      <td>0.0</td>\n",
              "      <td>0.0</td>\n",
              "      <td>0.0</td>\n",
              "      <td>0.0</td>\n",
              "      <td>0.0</td>\n",
              "      <td>0.0</td>\n",
              "      <td>0.0</td>\n",
              "      <td>0.0</td>\n",
              "      <td>0.0</td>\n",
              "      <td>0.0</td>\n",
              "      <td>0.0</td>\n",
              "      <td>0.0</td>\n",
              "      <td>0.0</td>\n",
              "      <td>0.0</td>\n",
              "      <td>0.0</td>\n",
              "      <td>0.0</td>\n",
              "      <td>0.0</td>\n",
              "      <td>0.0</td>\n",
              "      <td>0.0</td>\n",
              "      <td>0.0</td>\n",
              "      <td>0.0</td>\n",
              "      <td>0.0</td>\n",
              "      <td>0.0</td>\n",
              "      <td>...</td>\n",
              "      <td>0.0</td>\n",
              "      <td>0.0</td>\n",
              "      <td>0.0</td>\n",
              "      <td>0.0</td>\n",
              "      <td>0.0</td>\n",
              "      <td>0.0</td>\n",
              "      <td>0.0</td>\n",
              "      <td>0.0</td>\n",
              "      <td>0.0</td>\n",
              "      <td>0.0</td>\n",
              "      <td>0.0</td>\n",
              "      <td>0.0</td>\n",
              "      <td>0.0</td>\n",
              "      <td>0.0</td>\n",
              "      <td>0.0</td>\n",
              "      <td>0.0</td>\n",
              "      <td>0.0</td>\n",
              "      <td>0.0</td>\n",
              "      <td>0.0</td>\n",
              "      <td>0.0</td>\n",
              "      <td>0.0</td>\n",
              "      <td>0.0</td>\n",
              "      <td>0.0</td>\n",
              "      <td>0.0</td>\n",
              "      <td>0.0</td>\n",
              "      <td>0.0</td>\n",
              "      <td>0.0</td>\n",
              "      <td>0.0</td>\n",
              "      <td>0.0</td>\n",
              "      <td>0.0</td>\n",
              "      <td>0.0</td>\n",
              "      <td>0.0</td>\n",
              "      <td>0.0</td>\n",
              "      <td>0.0</td>\n",
              "      <td>0.0</td>\n",
              "      <td>0.0</td>\n",
              "      <td>0.0</td>\n",
              "      <td>0.0</td>\n",
              "      <td>0.0</td>\n",
              "      <td>0.0</td>\n",
              "    </tr>\n",
              "    <tr>\n",
              "      <th>1000069</th>\n",
              "      <td>0.0</td>\n",
              "      <td>0.0</td>\n",
              "      <td>0.0</td>\n",
              "      <td>0.0</td>\n",
              "      <td>0.0</td>\n",
              "      <td>0.0</td>\n",
              "      <td>0.0</td>\n",
              "      <td>0.0</td>\n",
              "      <td>0.0</td>\n",
              "      <td>0.0</td>\n",
              "      <td>0.0</td>\n",
              "      <td>0.0</td>\n",
              "      <td>0.0</td>\n",
              "      <td>0.0</td>\n",
              "      <td>0.0</td>\n",
              "      <td>0.0</td>\n",
              "      <td>0.0</td>\n",
              "      <td>0.0</td>\n",
              "      <td>0.0</td>\n",
              "      <td>0.0</td>\n",
              "      <td>0.0</td>\n",
              "      <td>0.0</td>\n",
              "      <td>0.0</td>\n",
              "      <td>0.0</td>\n",
              "      <td>0.0</td>\n",
              "      <td>0.0</td>\n",
              "      <td>0.0</td>\n",
              "      <td>0.0</td>\n",
              "      <td>0.0</td>\n",
              "      <td>0.0</td>\n",
              "      <td>0.0</td>\n",
              "      <td>0.0</td>\n",
              "      <td>0.0</td>\n",
              "      <td>0.0</td>\n",
              "      <td>0.0</td>\n",
              "      <td>0.0</td>\n",
              "      <td>0.0</td>\n",
              "      <td>0.0</td>\n",
              "      <td>0.0</td>\n",
              "      <td>0.0</td>\n",
              "      <td>...</td>\n",
              "      <td>0.0</td>\n",
              "      <td>0.0</td>\n",
              "      <td>0.0</td>\n",
              "      <td>0.0</td>\n",
              "      <td>0.0</td>\n",
              "      <td>0.0</td>\n",
              "      <td>0.0</td>\n",
              "      <td>0.0</td>\n",
              "      <td>0.0</td>\n",
              "      <td>0.0</td>\n",
              "      <td>0.0</td>\n",
              "      <td>0.0</td>\n",
              "      <td>0.0</td>\n",
              "      <td>0.0</td>\n",
              "      <td>0.0</td>\n",
              "      <td>0.0</td>\n",
              "      <td>0.0</td>\n",
              "      <td>0.0</td>\n",
              "      <td>0.0</td>\n",
              "      <td>0.0</td>\n",
              "      <td>0.0</td>\n",
              "      <td>0.0</td>\n",
              "      <td>0.0</td>\n",
              "      <td>0.0</td>\n",
              "      <td>0.0</td>\n",
              "      <td>0.0</td>\n",
              "      <td>0.0</td>\n",
              "      <td>0.0</td>\n",
              "      <td>0.0</td>\n",
              "      <td>0.0</td>\n",
              "      <td>0.0</td>\n",
              "      <td>0.0</td>\n",
              "      <td>0.0</td>\n",
              "      <td>0.0</td>\n",
              "      <td>0.0</td>\n",
              "      <td>0.0</td>\n",
              "      <td>0.0</td>\n",
              "      <td>0.0</td>\n",
              "      <td>0.0</td>\n",
              "      <td>0.0</td>\n",
              "    </tr>\n",
              "    <tr>\n",
              "      <th>1000105</th>\n",
              "      <td>0.0</td>\n",
              "      <td>0.0</td>\n",
              "      <td>0.0</td>\n",
              "      <td>0.0</td>\n",
              "      <td>0.0</td>\n",
              "      <td>0.0</td>\n",
              "      <td>0.0</td>\n",
              "      <td>0.0</td>\n",
              "      <td>0.0</td>\n",
              "      <td>0.0</td>\n",
              "      <td>0.0</td>\n",
              "      <td>0.0</td>\n",
              "      <td>0.0</td>\n",
              "      <td>0.0</td>\n",
              "      <td>0.0</td>\n",
              "      <td>0.0</td>\n",
              "      <td>0.0</td>\n",
              "      <td>0.0</td>\n",
              "      <td>0.0</td>\n",
              "      <td>0.0</td>\n",
              "      <td>0.0</td>\n",
              "      <td>0.0</td>\n",
              "      <td>0.0</td>\n",
              "      <td>0.0</td>\n",
              "      <td>0.0</td>\n",
              "      <td>0.0</td>\n",
              "      <td>0.0</td>\n",
              "      <td>0.0</td>\n",
              "      <td>0.0</td>\n",
              "      <td>0.0</td>\n",
              "      <td>0.0</td>\n",
              "      <td>0.0</td>\n",
              "      <td>0.0</td>\n",
              "      <td>0.0</td>\n",
              "      <td>0.0</td>\n",
              "      <td>0.0</td>\n",
              "      <td>0.0</td>\n",
              "      <td>0.0</td>\n",
              "      <td>0.0</td>\n",
              "      <td>0.0</td>\n",
              "      <td>...</td>\n",
              "      <td>0.0</td>\n",
              "      <td>0.0</td>\n",
              "      <td>0.0</td>\n",
              "      <td>0.0</td>\n",
              "      <td>0.0</td>\n",
              "      <td>0.0</td>\n",
              "      <td>0.0</td>\n",
              "      <td>0.0</td>\n",
              "      <td>0.0</td>\n",
              "      <td>0.0</td>\n",
              "      <td>0.0</td>\n",
              "      <td>0.0</td>\n",
              "      <td>0.0</td>\n",
              "      <td>0.0</td>\n",
              "      <td>0.0</td>\n",
              "      <td>0.0</td>\n",
              "      <td>0.0</td>\n",
              "      <td>0.0</td>\n",
              "      <td>0.0</td>\n",
              "      <td>0.0</td>\n",
              "      <td>0.0</td>\n",
              "      <td>0.0</td>\n",
              "      <td>0.0</td>\n",
              "      <td>0.0</td>\n",
              "      <td>0.0</td>\n",
              "      <td>0.0</td>\n",
              "      <td>0.0</td>\n",
              "      <td>0.0</td>\n",
              "      <td>0.0</td>\n",
              "      <td>0.0</td>\n",
              "      <td>0.0</td>\n",
              "      <td>0.0</td>\n",
              "      <td>0.0</td>\n",
              "      <td>0.0</td>\n",
              "      <td>0.0</td>\n",
              "      <td>0.0</td>\n",
              "      <td>0.0</td>\n",
              "      <td>0.0</td>\n",
              "      <td>0.0</td>\n",
              "      <td>0.0</td>\n",
              "    </tr>\n",
              "  </tbody>\n",
              "</table>\n",
              "<p>5 rows × 212 columns</p>\n",
              "</div>"
            ],
            "text/plain": [
              "               day_total_num             ...                      \n",
              "order_pay_date    2013-02-01 2013-02-02  ... 2013-08-30 2013-08-31\n",
              "customer_id                              ...                      \n",
              "1000014                  0.0        0.0  ...        0.0        0.0\n",
              "1000034                  0.0        0.0  ...        0.0        0.0\n",
              "1000046                  0.0        0.0  ...        0.0        0.0\n",
              "1000069                  0.0        0.0  ...        0.0        0.0\n",
              "1000105                  0.0        0.0  ...        0.0        0.0\n",
              "\n",
              "[5 rows x 212 columns]"
            ]
          },
          "metadata": {
            "tags": []
          },
          "execution_count": 39
        }
      ]
    },
    {
      "cell_type": "code",
      "metadata": {
        "ExecuteTime": {
          "end_time": "2020-12-19T18:46:48.461082Z",
          "start_time": "2020-12-19T18:46:48.411Z"
        },
        "colab": {
          "base_uri": "https://localhost:8080/"
        },
        "id": "Z2H4EXhJWvuj",
        "outputId": "c36b9325-2ce1-485c-c20a-5f538b3931c3"
      },
      "source": [
        "df_goods.columns.get_level_values(1)"
      ],
      "execution_count": 40,
      "outputs": [
        {
          "output_type": "execute_result",
          "data": {
            "text/plain": [
              "DatetimeIndex(['2013-02-01', '2013-02-02', '2013-02-03', '2013-02-04',\n",
              "               '2013-02-05', '2013-02-06', '2013-02-07', '2013-02-08',\n",
              "               '2013-02-09', '2013-02-10',\n",
              "               ...\n",
              "               '2013-08-22', '2013-08-23', '2013-08-24', '2013-08-25',\n",
              "               '2013-08-26', '2013-08-27', '2013-08-28', '2013-08-29',\n",
              "               '2013-08-30', '2013-08-31'],\n",
              "              dtype='datetime64[ns]', name='order_pay_date', length=212, freq=None)"
            ]
          },
          "metadata": {
            "tags": []
          },
          "execution_count": 40
        }
      ]
    },
    {
      "cell_type": "code",
      "metadata": {
        "ExecuteTime": {
          "end_time": "2020-12-19T18:46:48.463995Z",
          "start_time": "2020-12-19T18:46:48.444Z"
        },
        "colab": {
          "base_uri": "https://localhost:8080/",
          "height": 208
        },
        "id": "n_QZ-tqfWvuk",
        "outputId": "6e93caad-0d18-47cd-c20d-ad6fe178fa8d"
      },
      "source": [
        "df_goods.columns = df_goods.columns.get_level_values(1)\n",
        "df_goods.head(2)"
      ],
      "execution_count": 41,
      "outputs": [
        {
          "output_type": "execute_result",
          "data": {
            "text/html": [
              "<div>\n",
              "<style scoped>\n",
              "    .dataframe tbody tr th:only-of-type {\n",
              "        vertical-align: middle;\n",
              "    }\n",
              "\n",
              "    .dataframe tbody tr th {\n",
              "        vertical-align: top;\n",
              "    }\n",
              "\n",
              "    .dataframe thead th {\n",
              "        text-align: right;\n",
              "    }\n",
              "</style>\n",
              "<table border=\"1\" class=\"dataframe\">\n",
              "  <thead>\n",
              "    <tr style=\"text-align: right;\">\n",
              "      <th>order_pay_date</th>\n",
              "      <th>2013-02-01</th>\n",
              "      <th>2013-02-02</th>\n",
              "      <th>2013-02-03</th>\n",
              "      <th>2013-02-04</th>\n",
              "      <th>2013-02-05</th>\n",
              "      <th>2013-02-06</th>\n",
              "      <th>2013-02-07</th>\n",
              "      <th>2013-02-08</th>\n",
              "      <th>2013-02-09</th>\n",
              "      <th>2013-02-10</th>\n",
              "      <th>2013-02-11</th>\n",
              "      <th>2013-02-12</th>\n",
              "      <th>2013-02-13</th>\n",
              "      <th>2013-02-14</th>\n",
              "      <th>2013-02-15</th>\n",
              "      <th>2013-02-16</th>\n",
              "      <th>2013-02-17</th>\n",
              "      <th>2013-02-18</th>\n",
              "      <th>2013-02-19</th>\n",
              "      <th>2013-02-20</th>\n",
              "      <th>2013-02-21</th>\n",
              "      <th>2013-02-22</th>\n",
              "      <th>2013-02-23</th>\n",
              "      <th>2013-02-24</th>\n",
              "      <th>2013-02-25</th>\n",
              "      <th>2013-02-26</th>\n",
              "      <th>2013-02-27</th>\n",
              "      <th>2013-02-28</th>\n",
              "      <th>2013-03-01</th>\n",
              "      <th>2013-03-02</th>\n",
              "      <th>2013-03-03</th>\n",
              "      <th>2013-03-04</th>\n",
              "      <th>2013-03-05</th>\n",
              "      <th>2013-03-06</th>\n",
              "      <th>2013-03-07</th>\n",
              "      <th>2013-03-08</th>\n",
              "      <th>2013-03-09</th>\n",
              "      <th>2013-03-10</th>\n",
              "      <th>2013-03-11</th>\n",
              "      <th>2013-03-12</th>\n",
              "      <th>...</th>\n",
              "      <th>2013-07-23</th>\n",
              "      <th>2013-07-24</th>\n",
              "      <th>2013-07-25</th>\n",
              "      <th>2013-07-26</th>\n",
              "      <th>2013-07-27</th>\n",
              "      <th>2013-07-28</th>\n",
              "      <th>2013-07-29</th>\n",
              "      <th>2013-07-30</th>\n",
              "      <th>2013-07-31</th>\n",
              "      <th>2013-08-01</th>\n",
              "      <th>2013-08-02</th>\n",
              "      <th>2013-08-03</th>\n",
              "      <th>2013-08-04</th>\n",
              "      <th>2013-08-05</th>\n",
              "      <th>2013-08-06</th>\n",
              "      <th>2013-08-07</th>\n",
              "      <th>2013-08-08</th>\n",
              "      <th>2013-08-09</th>\n",
              "      <th>2013-08-10</th>\n",
              "      <th>2013-08-11</th>\n",
              "      <th>2013-08-12</th>\n",
              "      <th>2013-08-13</th>\n",
              "      <th>2013-08-14</th>\n",
              "      <th>2013-08-15</th>\n",
              "      <th>2013-08-16</th>\n",
              "      <th>2013-08-17</th>\n",
              "      <th>2013-08-18</th>\n",
              "      <th>2013-08-19</th>\n",
              "      <th>2013-08-20</th>\n",
              "      <th>2013-08-21</th>\n",
              "      <th>2013-08-22</th>\n",
              "      <th>2013-08-23</th>\n",
              "      <th>2013-08-24</th>\n",
              "      <th>2013-08-25</th>\n",
              "      <th>2013-08-26</th>\n",
              "      <th>2013-08-27</th>\n",
              "      <th>2013-08-28</th>\n",
              "      <th>2013-08-29</th>\n",
              "      <th>2013-08-30</th>\n",
              "      <th>2013-08-31</th>\n",
              "    </tr>\n",
              "    <tr>\n",
              "      <th>customer_id</th>\n",
              "      <th></th>\n",
              "      <th></th>\n",
              "      <th></th>\n",
              "      <th></th>\n",
              "      <th></th>\n",
              "      <th></th>\n",
              "      <th></th>\n",
              "      <th></th>\n",
              "      <th></th>\n",
              "      <th></th>\n",
              "      <th></th>\n",
              "      <th></th>\n",
              "      <th></th>\n",
              "      <th></th>\n",
              "      <th></th>\n",
              "      <th></th>\n",
              "      <th></th>\n",
              "      <th></th>\n",
              "      <th></th>\n",
              "      <th></th>\n",
              "      <th></th>\n",
              "      <th></th>\n",
              "      <th></th>\n",
              "      <th></th>\n",
              "      <th></th>\n",
              "      <th></th>\n",
              "      <th></th>\n",
              "      <th></th>\n",
              "      <th></th>\n",
              "      <th></th>\n",
              "      <th></th>\n",
              "      <th></th>\n",
              "      <th></th>\n",
              "      <th></th>\n",
              "      <th></th>\n",
              "      <th></th>\n",
              "      <th></th>\n",
              "      <th></th>\n",
              "      <th></th>\n",
              "      <th></th>\n",
              "      <th></th>\n",
              "      <th></th>\n",
              "      <th></th>\n",
              "      <th></th>\n",
              "      <th></th>\n",
              "      <th></th>\n",
              "      <th></th>\n",
              "      <th></th>\n",
              "      <th></th>\n",
              "      <th></th>\n",
              "      <th></th>\n",
              "      <th></th>\n",
              "      <th></th>\n",
              "      <th></th>\n",
              "      <th></th>\n",
              "      <th></th>\n",
              "      <th></th>\n",
              "      <th></th>\n",
              "      <th></th>\n",
              "      <th></th>\n",
              "      <th></th>\n",
              "      <th></th>\n",
              "      <th></th>\n",
              "      <th></th>\n",
              "      <th></th>\n",
              "      <th></th>\n",
              "      <th></th>\n",
              "      <th></th>\n",
              "      <th></th>\n",
              "      <th></th>\n",
              "      <th></th>\n",
              "      <th></th>\n",
              "      <th></th>\n",
              "      <th></th>\n",
              "      <th></th>\n",
              "      <th></th>\n",
              "      <th></th>\n",
              "      <th></th>\n",
              "      <th></th>\n",
              "      <th></th>\n",
              "      <th></th>\n",
              "    </tr>\n",
              "  </thead>\n",
              "  <tbody>\n",
              "    <tr>\n",
              "      <th>1000014</th>\n",
              "      <td>0.0</td>\n",
              "      <td>0.0</td>\n",
              "      <td>0.0</td>\n",
              "      <td>0.0</td>\n",
              "      <td>0.0</td>\n",
              "      <td>0.0</td>\n",
              "      <td>0.0</td>\n",
              "      <td>0.0</td>\n",
              "      <td>0.0</td>\n",
              "      <td>0.0</td>\n",
              "      <td>0.0</td>\n",
              "      <td>0.0</td>\n",
              "      <td>0.0</td>\n",
              "      <td>0.0</td>\n",
              "      <td>0.0</td>\n",
              "      <td>0.0</td>\n",
              "      <td>0.0</td>\n",
              "      <td>0.0</td>\n",
              "      <td>0.0</td>\n",
              "      <td>0.0</td>\n",
              "      <td>0.0</td>\n",
              "      <td>0.0</td>\n",
              "      <td>0.0</td>\n",
              "      <td>0.0</td>\n",
              "      <td>0.0</td>\n",
              "      <td>0.0</td>\n",
              "      <td>0.0</td>\n",
              "      <td>0.0</td>\n",
              "      <td>0.0</td>\n",
              "      <td>0.0</td>\n",
              "      <td>0.0</td>\n",
              "      <td>0.0</td>\n",
              "      <td>0.0</td>\n",
              "      <td>0.0</td>\n",
              "      <td>0.0</td>\n",
              "      <td>0.0</td>\n",
              "      <td>0.0</td>\n",
              "      <td>0.0</td>\n",
              "      <td>0.0</td>\n",
              "      <td>0.0</td>\n",
              "      <td>...</td>\n",
              "      <td>0.0</td>\n",
              "      <td>0.0</td>\n",
              "      <td>0.0</td>\n",
              "      <td>0.0</td>\n",
              "      <td>0.0</td>\n",
              "      <td>0.0</td>\n",
              "      <td>0.0</td>\n",
              "      <td>0.0</td>\n",
              "      <td>0.0</td>\n",
              "      <td>0.0</td>\n",
              "      <td>0.0</td>\n",
              "      <td>1.0</td>\n",
              "      <td>0.0</td>\n",
              "      <td>0.0</td>\n",
              "      <td>0.0</td>\n",
              "      <td>0.0</td>\n",
              "      <td>0.0</td>\n",
              "      <td>0.0</td>\n",
              "      <td>0.0</td>\n",
              "      <td>0.0</td>\n",
              "      <td>0.0</td>\n",
              "      <td>0.0</td>\n",
              "      <td>0.0</td>\n",
              "      <td>0.0</td>\n",
              "      <td>0.0</td>\n",
              "      <td>0.0</td>\n",
              "      <td>0.0</td>\n",
              "      <td>0.0</td>\n",
              "      <td>0.0</td>\n",
              "      <td>0.0</td>\n",
              "      <td>0.0</td>\n",
              "      <td>0.0</td>\n",
              "      <td>0.0</td>\n",
              "      <td>0.0</td>\n",
              "      <td>0.0</td>\n",
              "      <td>0.0</td>\n",
              "      <td>0.0</td>\n",
              "      <td>0.0</td>\n",
              "      <td>0.0</td>\n",
              "      <td>0.0</td>\n",
              "    </tr>\n",
              "    <tr>\n",
              "      <th>1000034</th>\n",
              "      <td>0.0</td>\n",
              "      <td>0.0</td>\n",
              "      <td>0.0</td>\n",
              "      <td>0.0</td>\n",
              "      <td>0.0</td>\n",
              "      <td>0.0</td>\n",
              "      <td>0.0</td>\n",
              "      <td>0.0</td>\n",
              "      <td>0.0</td>\n",
              "      <td>0.0</td>\n",
              "      <td>0.0</td>\n",
              "      <td>0.0</td>\n",
              "      <td>0.0</td>\n",
              "      <td>0.0</td>\n",
              "      <td>0.0</td>\n",
              "      <td>0.0</td>\n",
              "      <td>0.0</td>\n",
              "      <td>0.0</td>\n",
              "      <td>0.0</td>\n",
              "      <td>0.0</td>\n",
              "      <td>0.0</td>\n",
              "      <td>0.0</td>\n",
              "      <td>0.0</td>\n",
              "      <td>0.0</td>\n",
              "      <td>0.0</td>\n",
              "      <td>0.0</td>\n",
              "      <td>0.0</td>\n",
              "      <td>0.0</td>\n",
              "      <td>0.0</td>\n",
              "      <td>0.0</td>\n",
              "      <td>0.0</td>\n",
              "      <td>0.0</td>\n",
              "      <td>0.0</td>\n",
              "      <td>0.0</td>\n",
              "      <td>0.0</td>\n",
              "      <td>4.0</td>\n",
              "      <td>0.0</td>\n",
              "      <td>0.0</td>\n",
              "      <td>0.0</td>\n",
              "      <td>0.0</td>\n",
              "      <td>...</td>\n",
              "      <td>0.0</td>\n",
              "      <td>0.0</td>\n",
              "      <td>0.0</td>\n",
              "      <td>0.0</td>\n",
              "      <td>0.0</td>\n",
              "      <td>0.0</td>\n",
              "      <td>0.0</td>\n",
              "      <td>0.0</td>\n",
              "      <td>0.0</td>\n",
              "      <td>0.0</td>\n",
              "      <td>0.0</td>\n",
              "      <td>0.0</td>\n",
              "      <td>0.0</td>\n",
              "      <td>0.0</td>\n",
              "      <td>0.0</td>\n",
              "      <td>0.0</td>\n",
              "      <td>0.0</td>\n",
              "      <td>0.0</td>\n",
              "      <td>0.0</td>\n",
              "      <td>0.0</td>\n",
              "      <td>0.0</td>\n",
              "      <td>0.0</td>\n",
              "      <td>0.0</td>\n",
              "      <td>0.0</td>\n",
              "      <td>0.0</td>\n",
              "      <td>0.0</td>\n",
              "      <td>0.0</td>\n",
              "      <td>0.0</td>\n",
              "      <td>0.0</td>\n",
              "      <td>0.0</td>\n",
              "      <td>0.0</td>\n",
              "      <td>0.0</td>\n",
              "      <td>0.0</td>\n",
              "      <td>0.0</td>\n",
              "      <td>0.0</td>\n",
              "      <td>0.0</td>\n",
              "      <td>0.0</td>\n",
              "      <td>0.0</td>\n",
              "      <td>0.0</td>\n",
              "      <td>0.0</td>\n",
              "    </tr>\n",
              "  </tbody>\n",
              "</table>\n",
              "<p>2 rows × 212 columns</p>\n",
              "</div>"
            ],
            "text/plain": [
              "order_pay_date  2013-02-01  2013-02-02  ...  2013-08-30  2013-08-31\n",
              "customer_id                             ...                        \n",
              "1000014                0.0         0.0  ...         0.0         0.0\n",
              "1000034                0.0         0.0  ...         0.0         0.0\n",
              "\n",
              "[2 rows x 212 columns]"
            ]
          },
          "metadata": {
            "tags": []
          },
          "execution_count": 41
        }
      ]
    },
    {
      "cell_type": "code",
      "metadata": {
        "ExecuteTime": {
          "end_time": "2020-12-19T18:46:48.584121Z",
          "start_time": "2020-12-19T18:46:48.575581Z"
        },
        "colab": {
          "base_uri": "https://localhost:8080/"
        },
        "id": "apjHAF4WWvuk",
        "outputId": "c0650088-acc3-45ee-ca7d-200015c5f9c2"
      },
      "source": [
        "df_goods.sum(1).describe()"
      ],
      "execution_count": 42,
      "outputs": [
        {
          "output_type": "execute_result",
          "data": {
            "text/plain": [
              "count    685471.000000\n",
              "mean          2.344128\n",
              "std           7.942828\n",
              "min           1.000000\n",
              "25%           1.000000\n",
              "50%           1.000000\n",
              "75%           2.000000\n",
              "max        1936.000000\n",
              "dtype: float64"
            ]
          },
          "metadata": {
            "tags": []
          },
          "execution_count": 42
        }
      ]
    },
    {
      "cell_type": "code",
      "metadata": {
        "colab": {
          "base_uri": "https://localhost:8080/"
        },
        "id": "lAVoQJowg-wv",
        "outputId": "57542403-b14a-42d1-cce1-e9d65982f23b"
      },
      "source": [
        "del df_train\n",
        "gc.collect()"
      ],
      "execution_count": 43,
      "outputs": [
        {
          "output_type": "execute_result",
          "data": {
            "text/plain": [
              "61"
            ]
          },
          "metadata": {
            "tags": []
          },
          "execution_count": 43
        }
      ]
    },
    {
      "cell_type": "markdown",
      "metadata": {
        "id": "cnYXaz34Wvuk"
      },
      "source": [
        "### 生成训练集和测试集"
      ]
    },
    {
      "cell_type": "code",
      "metadata": {
        "ExecuteTime": {
          "end_time": "2020-12-19T18:46:48.587388Z",
          "start_time": "2020-12-19T18:46:48.580Z"
        },
        "id": "3OsbqPk_Wvuk"
      },
      "source": [
        "# 这是一个时间滑窗函数，获得dt之前minus天以来periods的dataframe，以便进一步计算\n",
        "def get_timespan(df, dt, minus, periods, freq='D'):\n",
        "    result = df[pd.date_range(dt - timedelta(days=minus),\n",
        "                              periods=periods,\n",
        "                              freq=freq)]\n",
        "    return result"
      ],
      "execution_count": 44,
      "outputs": []
    },
    {
      "cell_type": "code",
      "metadata": {
        "ExecuteTime": {
          "end_time": "2020-12-19T18:46:48.714102Z",
          "start_time": "2020-12-19T18:46:48.692777Z"
        },
        "id": "2BeOUNyIWvul"
      },
      "source": [
        "def prepare_dataset(df_payment, df_goods, t2018, is_train=True):\n",
        "    X = {}\n",
        "    # 整合用户id\n",
        "    tmp = df_payment.reset_index()\n",
        "    X['customer_id'] = tmp['customer_id']\n",
        "    # 消费特征\n",
        "    print('Preparing payment feature...')\n",
        "    for i in [14, 30, 60, 91]:\n",
        "        tmp = get_timespan(df_payment, t2018, i, i)\n",
        "        # X['diff_%s_mean' % i] = tmp_1.diff(axis=1).mean(axis=1).values\n",
        "        X['mean_%s_decay' % i] = (tmp * np.power(0.9,\n",
        "                               np.arange(i)[::-1])).sum(axis=1).values\n",
        "        # X['mean_%s' % i] = tmp_1.mean(axis=1).values\n",
        "        # X['median_%s' % i] = tmp.median(axis=1).values\n",
        "        # X['min_%s' % i] = tmp_1.min(axis=1).values\n",
        "        X['max_%s' % i] = tmp.max(axis=1).values\n",
        "        # X['std_%s' % i] = tmp_1.std(axis=1).values\n",
        "        X['sum_%s' % i] = tmp.sum(axis=1).values\n",
        "    for i in [14, 30, 60, 91]:\n",
        "        tmp = get_timespan(df_payment, t2018 + timedelta(days=-7), i, i)\n",
        "        X['mean_%s_decay_2' %\n",
        "          i] = (tmp * np.power(0.9,\n",
        "                               np.arange(i)[::-1])).sum(axis=1).values\n",
        "        # X['mean_%s_2' % i] = tmp_2.mean(axis=1).values\n",
        "        # X['median_%s_2' % i] = tmp.median(axis=1).values\n",
        "        # X['min_%s_2' % i] = tmp_2.min(axis=1).values\n",
        "        X['max_%s_2' % i] = tmp.max(axis=1).values\n",
        "        # X['std_%s_2' % i] = tmp_2.std(axis=1).values\n",
        "    for i in [14, 30, 60, 91]:\n",
        "        tmp = get_timespan(df_payment, t2018, i, i)\n",
        "        X['has_sales_days_in_last_%s' % i] = (tmp != 0).sum(axis=1).values\n",
        "        X['last_has_sales_day_in_last_%s' %\n",
        "          i] = i - ((tmp != 0) * np.arange(i)).max(axis=1).values\n",
        "        X['first_has_sales_day_in_last_%s' %\n",
        "          i] = ((tmp != 0) * np.arange(i, 0, -1)).max(axis=1).values\n",
        "\n",
        "    # 对此处进行微调，主要考虑近期因素\n",
        "    for i in range(1, 4):\n",
        "        X['day_%s_2018' % i] = get_timespan(df_payment, t2018, i * 30,\n",
        "                                            30).sum(axis=1).values\n",
        "    # 商品数量特征，这里故意把时间和消费特征错开，提高时间滑窗的覆盖面\n",
        "    print('Preparing num feature...')\n",
        "    for i in [21, 49, 84]:\n",
        "#     for i in [21]:\n",
        "        tmp = get_timespan(df_goods, t2018, i, i)\n",
        "        # X['goods_diff_%s_mean' % i] = tmp_1.diff(axis=1).mean(axis=1).values\n",
        "        # X['goods_mean_%s_decay' % i] = (tmp_1 * np.power(0.9, np.arange(i)[::-1])).sum(axis=1).values\n",
        "        X['goods_mean_%s' % i] = tmp.mean(axis=1).values\n",
        "        # X['goods_median_%s' % i] = tmp.median(axis=1).values\n",
        "        # X['goods_min_%s' % i] = tmp_1.min(axis=1).values\n",
        "        X['goods_max_%s' % i] = tmp.max(axis=1).values\n",
        "        # X['goods_std_%s' % i] = tmp_1.std(axis=1).values\n",
        "        X['goods_sum_%s' % i] = tmp.sum(axis=1).values\n",
        "    for i in [21, 49, 84]:\n",
        "        tmp = get_timespan(df_goods, t2018 + timedelta(weeks=-1), i, i)\n",
        "        # X['goods_diff_%s_mean_2' % i] = tmp_2.diff(axis=1).mean(axis=1).values\n",
        "        # X['goods_mean_%s_decay_2' % i] = (tmp_2 * np.power(0.9, np.arange(i)[::-1])).sum(axis=1).values\n",
        "        X['goods_mean_%s_2' % i] = tmp.mean(axis=1).values\n",
        "        # X['goods_median_%s_2' % i] = tmp.median(axis=1).values\n",
        "        # X['goods_min_%s_2' % i] = tmp_2.min(axis=1).values\n",
        "        X['goods_max_%s_2' % i] = tmp.max(axis=1).values\n",
        "        X['goods_sum_%s_2' % i] = tmp.sum(axis=1).values\n",
        "    for i in [21, 49, 84]:\n",
        "        tmp = get_timespan(df_goods, t2018, i, i)\n",
        "        X['goods_has_sales_days_in_last_%s' % i] = (tmp > 0).sum(axis=1).values\n",
        "        X['goods_last_has_sales_day_in_last_%s' %\n",
        "          i] = i - ((tmp > 0) * np.arange(i)).max(axis=1).values\n",
        "        X['goods_first_has_sales_day_in_last_%s' %\n",
        "          i] = ((tmp > 0) * np.arange(i, 0, -1)).max(axis=1).values\n",
        "\n",
        "    # 对此处进行微调，主要考虑近期因素\n",
        "    for i in range(1, 4):\n",
        "        X['goods_day_%s_2018' % i] = get_timespan(df_goods, t2018, i * 28,\n",
        "                                                  28).sum(axis=1).values\n",
        "\n",
        "    X = pd.DataFrame(X)\n",
        "\n",
        "    reduce_mem_usage(X)\n",
        "\n",
        "    if is_train:\n",
        "        # 这样转换之后，打标签直接用numpy切片就可以了\n",
        "        # 当然这里前提是确认付款总额没有负数的问题\n",
        "        X['label'] = df_goods[pd.date_range(t2018,\n",
        "                                            periods=30)].max(axis=1).values\n",
        "        X['label'][X['label'] > 0] = 1\n",
        "        \n",
        "    return X"
      ],
      "execution_count": 45,
      "outputs": []
    },
    {
      "cell_type": "code",
      "metadata": {
        "ExecuteTime": {
          "end_time": "2020-12-19T18:46:48.770042Z",
          "start_time": "2020-12-19T18:46:48.758120Z"
        },
        "colab": {
          "base_uri": "https://localhost:8080/"
        },
        "id": "px-aL2uBWvun",
        "outputId": "0280b3bb-f069-485e-ff45-d80431559f81"
      },
      "source": [
        "num_days = 1\n",
        "t2017 = date(2013, 7, 1)\n",
        "X_l, y_l = [], []\n",
        "\n",
        "for i in range(num_days):\n",
        "    delta = timedelta(days=7 * i)\n",
        "    # X_tmp, y_tmp = prepare_dataset(df_payment, df_goods, t2017 + delta)\n",
        "    X_tmp = prepare_dataset(df_payment, df_goods, t2017 + delta)\n",
        "    X_tmp = pd.concat([X_tmp], axis=1)\n",
        "\n",
        "    X_l.append(X_tmp)\n",
        "    # y_l.append(y_tmp)\n",
        "    del X_tmp\n",
        "    gc.collect()\n",
        "    \n",
        "X_train = pd.concat(X_l, axis=0)\n",
        "# y_train = np.concatenate(y_l, axis=0)\n",
        "\n",
        "del X_l, y_l"
      ],
      "execution_count": 46,
      "outputs": [
        {
          "output_type": "stream",
          "text": [
            "Preparing payment feature...\n",
            "Preparing num feature...\n"
          ],
          "name": "stdout"
        },
        {
          "output_type": "stream",
          "text": [
            "/usr/local/lib/python3.6/dist-packages/ipykernel_launcher.py:85: SettingWithCopyWarning: \n",
            "A value is trying to be set on a copy of a slice from a DataFrame\n",
            "\n",
            "See the caveats in the documentation: https://pandas.pydata.org/pandas-docs/stable/user_guide/indexing.html#returning-a-view-versus-a-copy\n"
          ],
          "name": "stderr"
        }
      ]
    },
    {
      "cell_type": "code",
      "metadata": {
        "ExecuteTime": {
          "end_time": "2020-12-19T18:46:48.880802Z",
          "start_time": "2020-12-19T18:46:48.873091Z"
        },
        "colab": {
          "base_uri": "https://localhost:8080/"
        },
        "id": "d5PufKK1Wvup",
        "outputId": "625b8ce6-296e-470a-b894-09458df2b082"
      },
      "source": [
        "X_train.shape"
      ],
      "execution_count": 47,
      "outputs": [
        {
          "output_type": "execute_result",
          "data": {
            "text/plain": [
              "(685471, 67)"
            ]
          },
          "metadata": {
            "tags": []
          },
          "execution_count": 47
        }
      ]
    },
    {
      "cell_type": "code",
      "metadata": {
        "ExecuteTime": {
          "end_time": "2020-12-19T18:46:48.883687Z",
          "start_time": "2020-12-19T18:46:48.844Z"
        },
        "colab": {
          "base_uri": "https://localhost:8080/"
        },
        "id": "Z7_airswWvuq",
        "outputId": "d44c1f5b-b5db-4114-d836-242ac7cb4ae1"
      },
      "source": [
        "X_train.to_csv('X_train.csv', index=False)\n",
        "cal_memory(X_train)"
      ],
      "execution_count": 48,
      "outputs": [
        {
          "output_type": "stream",
          "text": [
            "数据集所占内存: 311.17MB\n"
          ],
          "name": "stdout"
        }
      ]
    },
    {
      "cell_type": "code",
      "metadata": {
        "ExecuteTime": {
          "end_time": "2020-12-19T18:46:48.996774Z",
          "start_time": "2020-12-19T18:46:48.989816Z"
        },
        "colab": {
          "base_uri": "https://localhost:8080/"
        },
        "id": "G4v5DcanWvuq",
        "outputId": "2fc4c95d-a236-4186-b71c-ed1eb9056fde"
      },
      "source": [
        "del X_train\n",
        "gc.collect()"
      ],
      "execution_count": 49,
      "outputs": [
        {
          "output_type": "execute_result",
          "data": {
            "text/plain": [
              "0"
            ]
          },
          "metadata": {
            "tags": []
          },
          "execution_count": 49
        }
      ]
    },
    {
      "cell_type": "code",
      "metadata": {
        "ExecuteTime": {
          "end_time": "2020-12-19T18:46:48.999440Z",
          "start_time": "2020-12-19T18:46:48.920Z"
        },
        "colab": {
          "base_uri": "https://localhost:8080/"
        },
        "id": "B656jPt4Wvur",
        "outputId": "5dde594e-aad2-44fc-9d7a-abea0b0adc44"
      },
      "source": [
        "X_test = prepare_dataset(df_payment, df_goods, date(2013, 9, 1), is_train=False)\n",
        "X_test = pd.concat([X_test], axis=1)\n",
        "\n",
        "cal_memory(X_test)"
      ],
      "execution_count": 50,
      "outputs": [
        {
          "output_type": "stream",
          "text": [
            "Preparing payment feature...\n",
            "Preparing num feature...\n",
            "数据集所占内存: 305.94MB\n"
          ],
          "name": "stdout"
        }
      ]
    },
    {
      "cell_type": "code",
      "metadata": {
        "ExecuteTime": {
          "end_time": "2020-12-19T18:46:49.001092Z",
          "start_time": "2020-12-19T18:46:48.953Z"
        },
        "colab": {
          "base_uri": "https://localhost:8080/",
          "height": 224
        },
        "id": "HiRUsb1jWvur",
        "outputId": "12fc7394-1e16-4c31-9a1c-c7a126845eca"
      },
      "source": [
        "X_test.head()"
      ],
      "execution_count": 51,
      "outputs": [
        {
          "output_type": "execute_result",
          "data": {
            "text/html": [
              "<div>\n",
              "<style scoped>\n",
              "    .dataframe tbody tr th:only-of-type {\n",
              "        vertical-align: middle;\n",
              "    }\n",
              "\n",
              "    .dataframe tbody tr th {\n",
              "        vertical-align: top;\n",
              "    }\n",
              "\n",
              "    .dataframe thead th {\n",
              "        text-align: right;\n",
              "    }\n",
              "</style>\n",
              "<table border=\"1\" class=\"dataframe\">\n",
              "  <thead>\n",
              "    <tr style=\"text-align: right;\">\n",
              "      <th></th>\n",
              "      <th>customer_id</th>\n",
              "      <th>mean_14_decay</th>\n",
              "      <th>max_14</th>\n",
              "      <th>sum_14</th>\n",
              "      <th>mean_30_decay</th>\n",
              "      <th>max_30</th>\n",
              "      <th>sum_30</th>\n",
              "      <th>mean_60_decay</th>\n",
              "      <th>max_60</th>\n",
              "      <th>sum_60</th>\n",
              "      <th>mean_91_decay</th>\n",
              "      <th>max_91</th>\n",
              "      <th>sum_91</th>\n",
              "      <th>mean_14_decay_2</th>\n",
              "      <th>max_14_2</th>\n",
              "      <th>mean_30_decay_2</th>\n",
              "      <th>max_30_2</th>\n",
              "      <th>mean_60_decay_2</th>\n",
              "      <th>max_60_2</th>\n",
              "      <th>mean_91_decay_2</th>\n",
              "      <th>max_91_2</th>\n",
              "      <th>has_sales_days_in_last_14</th>\n",
              "      <th>last_has_sales_day_in_last_14</th>\n",
              "      <th>first_has_sales_day_in_last_14</th>\n",
              "      <th>has_sales_days_in_last_30</th>\n",
              "      <th>last_has_sales_day_in_last_30</th>\n",
              "      <th>first_has_sales_day_in_last_30</th>\n",
              "      <th>has_sales_days_in_last_60</th>\n",
              "      <th>last_has_sales_day_in_last_60</th>\n",
              "      <th>first_has_sales_day_in_last_60</th>\n",
              "      <th>has_sales_days_in_last_91</th>\n",
              "      <th>last_has_sales_day_in_last_91</th>\n",
              "      <th>first_has_sales_day_in_last_91</th>\n",
              "      <th>day_1_2018</th>\n",
              "      <th>day_2_2018</th>\n",
              "      <th>day_3_2018</th>\n",
              "      <th>goods_mean_21</th>\n",
              "      <th>goods_max_21</th>\n",
              "      <th>goods_sum_21</th>\n",
              "      <th>goods_mean_49</th>\n",
              "      <th>goods_max_49</th>\n",
              "      <th>goods_sum_49</th>\n",
              "      <th>goods_mean_84</th>\n",
              "      <th>goods_max_84</th>\n",
              "      <th>goods_sum_84</th>\n",
              "      <th>goods_mean_21_2</th>\n",
              "      <th>goods_max_21_2</th>\n",
              "      <th>goods_sum_21_2</th>\n",
              "      <th>goods_mean_49_2</th>\n",
              "      <th>goods_max_49_2</th>\n",
              "      <th>goods_sum_49_2</th>\n",
              "      <th>goods_mean_84_2</th>\n",
              "      <th>goods_max_84_2</th>\n",
              "      <th>goods_sum_84_2</th>\n",
              "      <th>goods_has_sales_days_in_last_21</th>\n",
              "      <th>goods_last_has_sales_day_in_last_21</th>\n",
              "      <th>goods_first_has_sales_day_in_last_21</th>\n",
              "      <th>goods_has_sales_days_in_last_49</th>\n",
              "      <th>goods_last_has_sales_day_in_last_49</th>\n",
              "      <th>goods_first_has_sales_day_in_last_49</th>\n",
              "      <th>goods_has_sales_days_in_last_84</th>\n",
              "      <th>goods_last_has_sales_day_in_last_84</th>\n",
              "      <th>goods_first_has_sales_day_in_last_84</th>\n",
              "      <th>goods_day_1_2018</th>\n",
              "      <th>goods_day_2_2018</th>\n",
              "      <th>goods_day_3_2018</th>\n",
              "    </tr>\n",
              "  </thead>\n",
              "  <tbody>\n",
              "    <tr>\n",
              "      <th>0</th>\n",
              "      <td>1000014</td>\n",
              "      <td>0.0</td>\n",
              "      <td>0.0</td>\n",
              "      <td>0.0</td>\n",
              "      <td>3.501196</td>\n",
              "      <td>66.900002</td>\n",
              "      <td>66.900002</td>\n",
              "      <td>3.501196</td>\n",
              "      <td>66.900002</td>\n",
              "      <td>66.900002</td>\n",
              "      <td>3.501196</td>\n",
              "      <td>66.900002</td>\n",
              "      <td>66.900002</td>\n",
              "      <td>0.0</td>\n",
              "      <td>0.0</td>\n",
              "      <td>7.320131</td>\n",
              "      <td>66.900002</td>\n",
              "      <td>7.320131</td>\n",
              "      <td>66.900002</td>\n",
              "      <td>7.320131</td>\n",
              "      <td>66.900002</td>\n",
              "      <td>0</td>\n",
              "      <td>14</td>\n",
              "      <td>0</td>\n",
              "      <td>1</td>\n",
              "      <td>29</td>\n",
              "      <td>29</td>\n",
              "      <td>1</td>\n",
              "      <td>29</td>\n",
              "      <td>29</td>\n",
              "      <td>1</td>\n",
              "      <td>29</td>\n",
              "      <td>29</td>\n",
              "      <td>66.900002</td>\n",
              "      <td>0.000000</td>\n",
              "      <td>0.000000</td>\n",
              "      <td>0.0</td>\n",
              "      <td>0.0</td>\n",
              "      <td>0.0</td>\n",
              "      <td>0.020408</td>\n",
              "      <td>1.0</td>\n",
              "      <td>1.0</td>\n",
              "      <td>0.011905</td>\n",
              "      <td>1.0</td>\n",
              "      <td>1.0</td>\n",
              "      <td>0.0</td>\n",
              "      <td>0.0</td>\n",
              "      <td>0.0</td>\n",
              "      <td>0.020408</td>\n",
              "      <td>1.0</td>\n",
              "      <td>1.0</td>\n",
              "      <td>0.011905</td>\n",
              "      <td>1.0</td>\n",
              "      <td>1.0</td>\n",
              "      <td>0</td>\n",
              "      <td>21</td>\n",
              "      <td>0</td>\n",
              "      <td>1</td>\n",
              "      <td>29</td>\n",
              "      <td>29</td>\n",
              "      <td>1</td>\n",
              "      <td>29</td>\n",
              "      <td>29</td>\n",
              "      <td>0.0</td>\n",
              "      <td>1.0</td>\n",
              "      <td>0.0</td>\n",
              "    </tr>\n",
              "    <tr>\n",
              "      <th>1</th>\n",
              "      <td>1000034</td>\n",
              "      <td>0.0</td>\n",
              "      <td>0.0</td>\n",
              "      <td>0.0</td>\n",
              "      <td>0.000000</td>\n",
              "      <td>0.000000</td>\n",
              "      <td>0.000000</td>\n",
              "      <td>0.000000</td>\n",
              "      <td>0.000000</td>\n",
              "      <td>0.000000</td>\n",
              "      <td>0.000000</td>\n",
              "      <td>0.000000</td>\n",
              "      <td>0.000000</td>\n",
              "      <td>0.0</td>\n",
              "      <td>0.0</td>\n",
              "      <td>0.000000</td>\n",
              "      <td>0.000000</td>\n",
              "      <td>0.000000</td>\n",
              "      <td>0.000000</td>\n",
              "      <td>0.000000</td>\n",
              "      <td>0.000000</td>\n",
              "      <td>0</td>\n",
              "      <td>14</td>\n",
              "      <td>0</td>\n",
              "      <td>0</td>\n",
              "      <td>30</td>\n",
              "      <td>0</td>\n",
              "      <td>0</td>\n",
              "      <td>60</td>\n",
              "      <td>0</td>\n",
              "      <td>0</td>\n",
              "      <td>91</td>\n",
              "      <td>0</td>\n",
              "      <td>0.000000</td>\n",
              "      <td>0.000000</td>\n",
              "      <td>0.000000</td>\n",
              "      <td>0.0</td>\n",
              "      <td>0.0</td>\n",
              "      <td>0.0</td>\n",
              "      <td>0.000000</td>\n",
              "      <td>0.0</td>\n",
              "      <td>0.0</td>\n",
              "      <td>0.000000</td>\n",
              "      <td>0.0</td>\n",
              "      <td>0.0</td>\n",
              "      <td>0.0</td>\n",
              "      <td>0.0</td>\n",
              "      <td>0.0</td>\n",
              "      <td>0.000000</td>\n",
              "      <td>0.0</td>\n",
              "      <td>0.0</td>\n",
              "      <td>0.000000</td>\n",
              "      <td>0.0</td>\n",
              "      <td>0.0</td>\n",
              "      <td>0</td>\n",
              "      <td>21</td>\n",
              "      <td>0</td>\n",
              "      <td>0</td>\n",
              "      <td>49</td>\n",
              "      <td>0</td>\n",
              "      <td>0</td>\n",
              "      <td>84</td>\n",
              "      <td>0</td>\n",
              "      <td>0.0</td>\n",
              "      <td>0.0</td>\n",
              "      <td>0.0</td>\n",
              "    </tr>\n",
              "    <tr>\n",
              "      <th>2</th>\n",
              "      <td>1000046</td>\n",
              "      <td>0.0</td>\n",
              "      <td>0.0</td>\n",
              "      <td>0.0</td>\n",
              "      <td>0.000000</td>\n",
              "      <td>0.000000</td>\n",
              "      <td>0.000000</td>\n",
              "      <td>0.000000</td>\n",
              "      <td>0.000000</td>\n",
              "      <td>0.000000</td>\n",
              "      <td>0.005147</td>\n",
              "      <td>39.900002</td>\n",
              "      <td>39.900002</td>\n",
              "      <td>0.0</td>\n",
              "      <td>0.0</td>\n",
              "      <td>0.000000</td>\n",
              "      <td>0.000000</td>\n",
              "      <td>0.000000</td>\n",
              "      <td>0.000000</td>\n",
              "      <td>0.010762</td>\n",
              "      <td>39.900002</td>\n",
              "      <td>0</td>\n",
              "      <td>14</td>\n",
              "      <td>0</td>\n",
              "      <td>0</td>\n",
              "      <td>30</td>\n",
              "      <td>0</td>\n",
              "      <td>0</td>\n",
              "      <td>60</td>\n",
              "      <td>0</td>\n",
              "      <td>1</td>\n",
              "      <td>86</td>\n",
              "      <td>86</td>\n",
              "      <td>0.000000</td>\n",
              "      <td>0.000000</td>\n",
              "      <td>39.900002</td>\n",
              "      <td>0.0</td>\n",
              "      <td>0.0</td>\n",
              "      <td>0.0</td>\n",
              "      <td>0.000000</td>\n",
              "      <td>0.0</td>\n",
              "      <td>0.0</td>\n",
              "      <td>0.000000</td>\n",
              "      <td>0.0</td>\n",
              "      <td>0.0</td>\n",
              "      <td>0.0</td>\n",
              "      <td>0.0</td>\n",
              "      <td>0.0</td>\n",
              "      <td>0.000000</td>\n",
              "      <td>0.0</td>\n",
              "      <td>0.0</td>\n",
              "      <td>0.011905</td>\n",
              "      <td>1.0</td>\n",
              "      <td>1.0</td>\n",
              "      <td>0</td>\n",
              "      <td>21</td>\n",
              "      <td>0</td>\n",
              "      <td>0</td>\n",
              "      <td>49</td>\n",
              "      <td>0</td>\n",
              "      <td>0</td>\n",
              "      <td>84</td>\n",
              "      <td>0</td>\n",
              "      <td>0.0</td>\n",
              "      <td>0.0</td>\n",
              "      <td>0.0</td>\n",
              "    </tr>\n",
              "    <tr>\n",
              "      <th>3</th>\n",
              "      <td>1000069</td>\n",
              "      <td>0.0</td>\n",
              "      <td>0.0</td>\n",
              "      <td>0.0</td>\n",
              "      <td>0.000000</td>\n",
              "      <td>0.000000</td>\n",
              "      <td>0.000000</td>\n",
              "      <td>2.285986</td>\n",
              "      <td>399.200012</td>\n",
              "      <td>399.200012</td>\n",
              "      <td>2.285986</td>\n",
              "      <td>399.200012</td>\n",
              "      <td>399.200012</td>\n",
              "      <td>0.0</td>\n",
              "      <td>0.0</td>\n",
              "      <td>0.000000</td>\n",
              "      <td>0.000000</td>\n",
              "      <td>4.779428</td>\n",
              "      <td>399.200012</td>\n",
              "      <td>4.779428</td>\n",
              "      <td>399.200012</td>\n",
              "      <td>0</td>\n",
              "      <td>14</td>\n",
              "      <td>0</td>\n",
              "      <td>0</td>\n",
              "      <td>30</td>\n",
              "      <td>0</td>\n",
              "      <td>1</td>\n",
              "      <td>50</td>\n",
              "      <td>50</td>\n",
              "      <td>1</td>\n",
              "      <td>50</td>\n",
              "      <td>50</td>\n",
              "      <td>0.000000</td>\n",
              "      <td>399.200012</td>\n",
              "      <td>0.000000</td>\n",
              "      <td>0.0</td>\n",
              "      <td>0.0</td>\n",
              "      <td>0.0</td>\n",
              "      <td>0.000000</td>\n",
              "      <td>0.0</td>\n",
              "      <td>0.0</td>\n",
              "      <td>0.154762</td>\n",
              "      <td>13.0</td>\n",
              "      <td>13.0</td>\n",
              "      <td>0.0</td>\n",
              "      <td>0.0</td>\n",
              "      <td>0.0</td>\n",
              "      <td>0.265306</td>\n",
              "      <td>13.0</td>\n",
              "      <td>13.0</td>\n",
              "      <td>0.154762</td>\n",
              "      <td>13.0</td>\n",
              "      <td>13.0</td>\n",
              "      <td>0</td>\n",
              "      <td>21</td>\n",
              "      <td>0</td>\n",
              "      <td>0</td>\n",
              "      <td>49</td>\n",
              "      <td>0</td>\n",
              "      <td>1</td>\n",
              "      <td>50</td>\n",
              "      <td>50</td>\n",
              "      <td>0.0</td>\n",
              "      <td>13.0</td>\n",
              "      <td>0.0</td>\n",
              "    </tr>\n",
              "    <tr>\n",
              "      <th>4</th>\n",
              "      <td>1000105</td>\n",
              "      <td>0.0</td>\n",
              "      <td>0.0</td>\n",
              "      <td>0.0</td>\n",
              "      <td>0.000000</td>\n",
              "      <td>0.000000</td>\n",
              "      <td>0.000000</td>\n",
              "      <td>1.315646</td>\n",
              "      <td>98.900002</td>\n",
              "      <td>98.900002</td>\n",
              "      <td>1.315646</td>\n",
              "      <td>98.900002</td>\n",
              "      <td>98.900002</td>\n",
              "      <td>0.0</td>\n",
              "      <td>0.0</td>\n",
              "      <td>0.000000</td>\n",
              "      <td>0.000000</td>\n",
              "      <td>2.750690</td>\n",
              "      <td>98.900002</td>\n",
              "      <td>2.750690</td>\n",
              "      <td>98.900002</td>\n",
              "      <td>0</td>\n",
              "      <td>14</td>\n",
              "      <td>0</td>\n",
              "      <td>0</td>\n",
              "      <td>30</td>\n",
              "      <td>0</td>\n",
              "      <td>1</td>\n",
              "      <td>42</td>\n",
              "      <td>42</td>\n",
              "      <td>1</td>\n",
              "      <td>42</td>\n",
              "      <td>42</td>\n",
              "      <td>0.000000</td>\n",
              "      <td>98.900002</td>\n",
              "      <td>0.000000</td>\n",
              "      <td>0.0</td>\n",
              "      <td>0.0</td>\n",
              "      <td>0.0</td>\n",
              "      <td>0.020408</td>\n",
              "      <td>1.0</td>\n",
              "      <td>1.0</td>\n",
              "      <td>0.011905</td>\n",
              "      <td>1.0</td>\n",
              "      <td>1.0</td>\n",
              "      <td>0.0</td>\n",
              "      <td>0.0</td>\n",
              "      <td>0.0</td>\n",
              "      <td>0.020408</td>\n",
              "      <td>1.0</td>\n",
              "      <td>1.0</td>\n",
              "      <td>0.011905</td>\n",
              "      <td>1.0</td>\n",
              "      <td>1.0</td>\n",
              "      <td>0</td>\n",
              "      <td>21</td>\n",
              "      <td>0</td>\n",
              "      <td>1</td>\n",
              "      <td>42</td>\n",
              "      <td>42</td>\n",
              "      <td>1</td>\n",
              "      <td>42</td>\n",
              "      <td>42</td>\n",
              "      <td>0.0</td>\n",
              "      <td>1.0</td>\n",
              "      <td>0.0</td>\n",
              "    </tr>\n",
              "  </tbody>\n",
              "</table>\n",
              "</div>"
            ],
            "text/plain": [
              "   customer_id  mean_14_decay  ...  goods_day_2_2018  goods_day_3_2018\n",
              "0      1000014            0.0  ...               1.0               0.0\n",
              "1      1000034            0.0  ...               0.0               0.0\n",
              "2      1000046            0.0  ...               0.0               0.0\n",
              "3      1000069            0.0  ...              13.0               0.0\n",
              "4      1000105            0.0  ...               1.0               0.0\n",
              "\n",
              "[5 rows x 66 columns]"
            ]
          },
          "metadata": {
            "tags": []
          },
          "execution_count": 51
        }
      ]
    },
    {
      "cell_type": "code",
      "metadata": {
        "ExecuteTime": {
          "end_time": "2020-12-19T18:46:49.002872Z",
          "start_time": "2020-12-19T18:46:48.987Z"
        },
        "id": "pJtcjd0_Wvur"
      },
      "source": [
        "X_test.to_csv('X_test.csv', index=False)"
      ],
      "execution_count": 52,
      "outputs": []
    },
    {
      "cell_type": "code",
      "metadata": {
        "ExecuteTime": {
          "end_time": "2020-12-19T18:46:49.113078Z",
          "start_time": "2020-12-19T18:46:49.105592Z"
        },
        "colab": {
          "base_uri": "https://localhost:8080/"
        },
        "id": "jKoxONOsWvus",
        "outputId": "84c38e8d-7652-4df8-f47a-bc78290b8cd1"
      },
      "source": [
        "del X_test\n",
        "gc.collect()"
      ],
      "execution_count": 53,
      "outputs": [
        {
          "output_type": "execute_result",
          "data": {
            "text/plain": [
              "12"
            ]
          },
          "metadata": {
            "tags": []
          },
          "execution_count": 53
        }
      ]
    },
    {
      "cell_type": "code",
      "metadata": {
        "colab": {
          "base_uri": "https://localhost:8080/"
        },
        "id": "efF1dsl0hLoM",
        "outputId": "f677004e-73dd-4e54-81ea-90b545fde223"
      },
      "source": [
        "del df_payment\n",
        "del df_goods\n",
        "gc.collect()"
      ],
      "execution_count": 54,
      "outputs": [
        {
          "output_type": "execute_result",
          "data": {
            "text/plain": [
              "0"
            ]
          },
          "metadata": {
            "tags": []
          },
          "execution_count": 54
        }
      ]
    },
    {
      "cell_type": "markdown",
      "metadata": {
        "id": "ReMIauukWvus"
      },
      "source": [
        "### 保存数据"
      ]
    },
    {
      "cell_type": "code",
      "metadata": {
        "ExecuteTime": {
          "end_time": "2020-12-19T18:46:49.119568Z",
          "start_time": "2020-12-19T18:46:49.084Z"
        },
        "id": "NVDzTRHXWvus"
      },
      "source": [
        "X_train = pd.read_csv('X_train.csv')\n",
        "X_test = pd.read_csv('X_test.csv')"
      ],
      "execution_count": 55,
      "outputs": []
    },
    {
      "cell_type": "code",
      "metadata": {
        "ExecuteTime": {
          "end_time": "2020-12-19T18:46:49.271861Z",
          "start_time": "2020-12-19T18:46:49.227070Z"
        },
        "id": "Rh1SSTB7Wvus"
      },
      "source": [
        "X_train = X_train[['has_sales_days_in_last_14',\n",
        "       'last_has_sales_day_in_last_14', 'first_has_sales_day_in_last_14',\n",
        "       'has_sales_days_in_last_30', 'last_has_sales_day_in_last_30',\n",
        "       'first_has_sales_day_in_last_30', 'has_sales_days_in_last_60',\n",
        "       'last_has_sales_day_in_last_60', 'first_has_sales_day_in_last_60',\n",
        "       'has_sales_days_in_last_91', 'last_has_sales_day_in_last_91','goods_mean_21', 'goods_max_21', 'goods_sum_21',\n",
        "       'goods_mean_49', 'goods_max_49', 'goods_sum_49', 'goods_mean_84',\n",
        "       'goods_max_84', 'goods_sum_84', 'goods_mean_21_2', 'goods_max_21_2',\n",
        "       'goods_sum_21_2', 'goods_mean_49_2', 'goods_max_49_2', 'goods_sum_49_2',\n",
        "       'goods_mean_84_2', 'goods_max_84_2', 'goods_sum_84_2',\n",
        "       'goods_has_sales_days_in_last_21',\n",
        "       'goods_last_has_sales_day_in_last_21',\n",
        "       'goods_first_has_sales_day_in_last_21',\n",
        "       'goods_has_sales_days_in_last_49',\n",
        "       'goods_last_has_sales_day_in_last_49',\n",
        "       'goods_first_has_sales_day_in_last_49',\n",
        "       'goods_has_sales_days_in_last_84',\n",
        "       'goods_last_has_sales_day_in_last_84',\n",
        "       'goods_first_has_sales_day_in_last_84', 'goods_day_1_2018',\n",
        "       'goods_day_2_2018', 'goods_day_3_2018','label']]\n",
        "       \n",
        "X_test = X_test[['has_sales_days_in_last_14',\n",
        "       'last_has_sales_day_in_last_14', 'first_has_sales_day_in_last_14',\n",
        "       'has_sales_days_in_last_30', 'last_has_sales_day_in_last_30',\n",
        "       'first_has_sales_day_in_last_30', 'has_sales_days_in_last_60',\n",
        "       'last_has_sales_day_in_last_60', 'first_has_sales_day_in_last_60',\n",
        "       'has_sales_days_in_last_91', 'last_has_sales_day_in_last_91','goods_mean_21', 'goods_max_21', 'goods_sum_21',\n",
        "       'goods_mean_49', 'goods_max_49', 'goods_sum_49', 'goods_mean_84',\n",
        "       'goods_max_84', 'goods_sum_84', 'goods_mean_21_2', 'goods_max_21_2',\n",
        "       'goods_sum_21_2', 'goods_mean_49_2', 'goods_max_49_2', 'goods_sum_49_2',\n",
        "       'goods_mean_84_2', 'goods_max_84_2', 'goods_sum_84_2',\n",
        "       'goods_has_sales_days_in_last_21',\n",
        "       'goods_last_has_sales_day_in_last_21',\n",
        "       'goods_first_has_sales_day_in_last_21',\n",
        "       'goods_has_sales_days_in_last_49',\n",
        "       'goods_last_has_sales_day_in_last_49',\n",
        "       'goods_first_has_sales_day_in_last_49',\n",
        "       'goods_has_sales_days_in_last_84',\n",
        "       'goods_last_has_sales_day_in_last_84',\n",
        "       'goods_first_has_sales_day_in_last_84', 'goods_day_1_2018',\n",
        "       'goods_day_2_2018', 'goods_day_3_2018']]"
      ],
      "execution_count": 56,
      "outputs": []
    },
    {
      "cell_type": "code",
      "metadata": {
        "ExecuteTime": {
          "end_time": "2020-12-19T18:46:49.280240Z",
          "start_time": "2020-12-19T18:46:49.200Z"
        },
        "colab": {
          "base_uri": "https://localhost:8080/"
        },
        "id": "cg0_SY2QWvut",
        "outputId": "f6093d4b-a714-4c2b-d241-32695182e62b"
      },
      "source": [
        "X_train.shape, X_test.shape"
      ],
      "execution_count": 57,
      "outputs": [
        {
          "output_type": "execute_result",
          "data": {
            "text/plain": [
              "((685471, 42), (685471, 41))"
            ]
          },
          "metadata": {
            "tags": []
          },
          "execution_count": 57
        }
      ]
    },
    {
      "cell_type": "code",
      "metadata": {
        "ExecuteTime": {
          "end_time": "2020-12-19T18:46:49.399127Z",
          "start_time": "2020-12-19T18:46:49.385000Z"
        },
        "colab": {
          "base_uri": "https://localhost:8080/",
          "height": 131
        },
        "id": "tbB5nVFdWvut",
        "outputId": "f8187fe3-c8bc-4cb8-ba3a-569922bca17a"
      },
      "source": [
        "X_train.head(2)"
      ],
      "execution_count": 58,
      "outputs": [
        {
          "output_type": "execute_result",
          "data": {
            "text/html": [
              "<div>\n",
              "<style scoped>\n",
              "    .dataframe tbody tr th:only-of-type {\n",
              "        vertical-align: middle;\n",
              "    }\n",
              "\n",
              "    .dataframe tbody tr th {\n",
              "        vertical-align: top;\n",
              "    }\n",
              "\n",
              "    .dataframe thead th {\n",
              "        text-align: right;\n",
              "    }\n",
              "</style>\n",
              "<table border=\"1\" class=\"dataframe\">\n",
              "  <thead>\n",
              "    <tr style=\"text-align: right;\">\n",
              "      <th></th>\n",
              "      <th>has_sales_days_in_last_14</th>\n",
              "      <th>last_has_sales_day_in_last_14</th>\n",
              "      <th>first_has_sales_day_in_last_14</th>\n",
              "      <th>has_sales_days_in_last_30</th>\n",
              "      <th>last_has_sales_day_in_last_30</th>\n",
              "      <th>first_has_sales_day_in_last_30</th>\n",
              "      <th>has_sales_days_in_last_60</th>\n",
              "      <th>last_has_sales_day_in_last_60</th>\n",
              "      <th>first_has_sales_day_in_last_60</th>\n",
              "      <th>has_sales_days_in_last_91</th>\n",
              "      <th>last_has_sales_day_in_last_91</th>\n",
              "      <th>goods_mean_21</th>\n",
              "      <th>goods_max_21</th>\n",
              "      <th>goods_sum_21</th>\n",
              "      <th>goods_mean_49</th>\n",
              "      <th>goods_max_49</th>\n",
              "      <th>goods_sum_49</th>\n",
              "      <th>goods_mean_84</th>\n",
              "      <th>goods_max_84</th>\n",
              "      <th>goods_sum_84</th>\n",
              "      <th>goods_mean_21_2</th>\n",
              "      <th>goods_max_21_2</th>\n",
              "      <th>goods_sum_21_2</th>\n",
              "      <th>goods_mean_49_2</th>\n",
              "      <th>goods_max_49_2</th>\n",
              "      <th>goods_sum_49_2</th>\n",
              "      <th>goods_mean_84_2</th>\n",
              "      <th>goods_max_84_2</th>\n",
              "      <th>goods_sum_84_2</th>\n",
              "      <th>goods_has_sales_days_in_last_21</th>\n",
              "      <th>goods_last_has_sales_day_in_last_21</th>\n",
              "      <th>goods_first_has_sales_day_in_last_21</th>\n",
              "      <th>goods_has_sales_days_in_last_49</th>\n",
              "      <th>goods_last_has_sales_day_in_last_49</th>\n",
              "      <th>goods_first_has_sales_day_in_last_49</th>\n",
              "      <th>goods_has_sales_days_in_last_84</th>\n",
              "      <th>goods_last_has_sales_day_in_last_84</th>\n",
              "      <th>goods_first_has_sales_day_in_last_84</th>\n",
              "      <th>goods_day_1_2018</th>\n",
              "      <th>goods_day_2_2018</th>\n",
              "      <th>goods_day_3_2018</th>\n",
              "      <th>label</th>\n",
              "    </tr>\n",
              "  </thead>\n",
              "  <tbody>\n",
              "    <tr>\n",
              "      <th>0</th>\n",
              "      <td>0</td>\n",
              "      <td>14</td>\n",
              "      <td>0</td>\n",
              "      <td>0</td>\n",
              "      <td>30</td>\n",
              "      <td>0</td>\n",
              "      <td>0</td>\n",
              "      <td>60</td>\n",
              "      <td>0</td>\n",
              "      <td>0</td>\n",
              "      <td>91</td>\n",
              "      <td>0.0</td>\n",
              "      <td>0.0</td>\n",
              "      <td>0.0</td>\n",
              "      <td>0.0</td>\n",
              "      <td>0.0</td>\n",
              "      <td>0.0</td>\n",
              "      <td>0.0</td>\n",
              "      <td>0.0</td>\n",
              "      <td>0.0</td>\n",
              "      <td>0.0</td>\n",
              "      <td>0.0</td>\n",
              "      <td>0.0</td>\n",
              "      <td>0.0</td>\n",
              "      <td>0.0</td>\n",
              "      <td>0.0</td>\n",
              "      <td>0.0</td>\n",
              "      <td>0.0</td>\n",
              "      <td>0.0</td>\n",
              "      <td>0</td>\n",
              "      <td>21</td>\n",
              "      <td>0</td>\n",
              "      <td>0</td>\n",
              "      <td>49</td>\n",
              "      <td>0</td>\n",
              "      <td>0</td>\n",
              "      <td>84</td>\n",
              "      <td>0</td>\n",
              "      <td>0.0</td>\n",
              "      <td>0.0</td>\n",
              "      <td>0.0</td>\n",
              "      <td>0.0</td>\n",
              "    </tr>\n",
              "    <tr>\n",
              "      <th>1</th>\n",
              "      <td>0</td>\n",
              "      <td>14</td>\n",
              "      <td>0</td>\n",
              "      <td>0</td>\n",
              "      <td>30</td>\n",
              "      <td>0</td>\n",
              "      <td>0</td>\n",
              "      <td>60</td>\n",
              "      <td>0</td>\n",
              "      <td>0</td>\n",
              "      <td>91</td>\n",
              "      <td>0.0</td>\n",
              "      <td>0.0</td>\n",
              "      <td>0.0</td>\n",
              "      <td>0.0</td>\n",
              "      <td>0.0</td>\n",
              "      <td>0.0</td>\n",
              "      <td>0.0</td>\n",
              "      <td>0.0</td>\n",
              "      <td>0.0</td>\n",
              "      <td>0.0</td>\n",
              "      <td>0.0</td>\n",
              "      <td>0.0</td>\n",
              "      <td>0.0</td>\n",
              "      <td>0.0</td>\n",
              "      <td>0.0</td>\n",
              "      <td>0.0</td>\n",
              "      <td>0.0</td>\n",
              "      <td>0.0</td>\n",
              "      <td>0</td>\n",
              "      <td>21</td>\n",
              "      <td>0</td>\n",
              "      <td>0</td>\n",
              "      <td>49</td>\n",
              "      <td>0</td>\n",
              "      <td>0</td>\n",
              "      <td>84</td>\n",
              "      <td>0</td>\n",
              "      <td>0.0</td>\n",
              "      <td>0.0</td>\n",
              "      <td>0.0</td>\n",
              "      <td>0.0</td>\n",
              "    </tr>\n",
              "  </tbody>\n",
              "</table>\n",
              "</div>"
            ],
            "text/plain": [
              "   has_sales_days_in_last_14  ...  label\n",
              "0                          0  ...    0.0\n",
              "1                          0  ...    0.0\n",
              "\n",
              "[2 rows x 42 columns]"
            ]
          },
          "metadata": {
            "tags": []
          },
          "execution_count": 58
        }
      ]
    },
    {
      "cell_type": "code",
      "metadata": {
        "ExecuteTime": {
          "end_time": "2020-12-19T18:46:49.402240Z",
          "start_time": "2020-12-19T18:46:49.355Z"
        },
        "colab": {
          "base_uri": "https://localhost:8080/"
        },
        "id": "iI4h0oonWvut",
        "outputId": "397e0192-9a96-4865-f1f3-d65777f35297"
      },
      "source": [
        "X_train = X_train.reset_index(drop=True)\n",
        "X_test = X_test.reset_index(drop=True)\n",
        "\n",
        "cal_memory(X_train)\n",
        "cal_memory(X_test)"
      ],
      "execution_count": 59,
      "outputs": [
        {
          "output_type": "stream",
          "text": [
            "数据集所占内存: 219.65MB\n",
            "数据集所占内存: 214.42MB\n"
          ],
          "name": "stdout"
        }
      ]
    },
    {
      "cell_type": "markdown",
      "metadata": {
        "id": "NvysfW65Wvuu"
      },
      "source": [
        "# 数据预处理\n",
        "## 数据归一化"
      ]
    },
    {
      "cell_type": "code",
      "metadata": {
        "ExecuteTime": {
          "end_time": "2020-12-19T18:46:49.526173Z",
          "start_time": "2020-12-19T18:46:49.508419Z"
        },
        "id": "sVgAHg6XWvuu"
      },
      "source": [
        "X_train = (X_train - X_train.min()) / (X_train.max() - X_train.min())\n",
        "X_test = (X_test - X_test.min()) / (X_test.max() - X_test.min())"
      ],
      "execution_count": 60,
      "outputs": []
    },
    {
      "cell_type": "code",
      "metadata": {
        "ExecuteTime": {
          "end_time": "2020-12-19T18:46:49.531121Z",
          "start_time": "2020-12-19T18:46:49.511Z"
        },
        "id": "6n5jqO4lWvuu"
      },
      "source": [
        "# 前面标签也被归一化了，还原\n",
        "X_train['label'][X_train['label'] > 0] = 1"
      ],
      "execution_count": 61,
      "outputs": []
    },
    {
      "cell_type": "markdown",
      "metadata": {
        "id": "9O3BQ5LwWvuu"
      },
      "source": [
        "## 拆分数据集"
      ]
    },
    {
      "cell_type": "code",
      "metadata": {
        "ExecuteTime": {
          "end_time": "2020-12-19T18:46:49.671076Z",
          "start_time": "2020-12-19T18:46:49.664440Z"
        },
        "id": "ABhMyDJKWvuu"
      },
      "source": [
        "# 数据分割\n",
        "def load_data(df,istrain):\n",
        "    # data = np.fromfile(datafile)\n",
        "    data = df.copy()\n",
        "\n",
        "    feature_num = len(data.columns)\n",
        "    # 将原始数据进行Reshape\n",
        "    data = np.array(data)\n",
        "    data = data.reshape([-1, feature_num])\n",
        "    \n",
        "    # 训练集和测试集的划分比例\n",
        "    ratio = 0.8\n",
        "    if istrain == True:\n",
        "        offset = int(data.shape[0] * ratio)\n",
        "        training_data = data[:offset]\n",
        "        test_data = data[offset:]\n",
        "    else:\n",
        "        training_data = data\n",
        "        test_data = None\n",
        "\n",
        "    return training_data, test_data"
      ],
      "execution_count": 62,
      "outputs": []
    },
    {
      "cell_type": "code",
      "metadata": {
        "ExecuteTime": {
          "end_time": "2020-12-19T18:46:49.731960Z",
          "start_time": "2020-12-19T18:46:49.722404Z"
        },
        "colab": {
          "base_uri": "https://localhost:8080/"
        },
        "id": "ULFu3sBrWvuv",
        "outputId": "4e1f3f3e-34ca-4c0c-92f8-9bd1fd6b0d33"
      },
      "source": [
        "# 加载处理后的数据\n",
        "train_data, val_data = load_data(X_train, True)\n",
        "print('train set done.')\n",
        "\n",
        "pre_data, none = load_data(X_test, False)\n",
        "print('test set done.')\n"
      ],
      "execution_count": 63,
      "outputs": [
        {
          "output_type": "stream",
          "text": [
            "train set done.\n",
            "test set done.\n"
          ],
          "name": "stdout"
        }
      ]
    },
    {
      "cell_type": "code",
      "metadata": {
        "colab": {
          "base_uri": "https://localhost:8080/"
        },
        "id": "5ZDjroMSefSG",
        "outputId": "0226cd47-bacd-4051-da80-41cae8f5cd50"
      },
      "source": [
        "train_data.shape, val_data.shape"
      ],
      "execution_count": 64,
      "outputs": [
        {
          "output_type": "execute_result",
          "data": {
            "text/plain": [
              "((548376, 42), (137095, 42))"
            ]
          },
          "metadata": {
            "tags": []
          },
          "execution_count": 64
        }
      ]
    },
    {
      "cell_type": "markdown",
      "metadata": {
        "id": "TCOTCsBUWvuv"
      },
      "source": [
        "## 转张量"
      ]
    },
    {
      "cell_type": "code",
      "metadata": {
        "ExecuteTime": {
          "end_time": "2020-12-19T18:46:49.856179Z",
          "start_time": "2020-12-19T18:46:49.841973Z"
        },
        "id": "Tg9m6ukzWvuv"
      },
      "source": [
        "# 指定训练集、验证集和测试集\n",
        "y_train = train_data[:, -1]\n",
        "x_train = train_data[:, :-1]\n",
        "\n",
        "Y_val = val_data[:, -1]\n",
        "x_val = val_data[:, :-1]\n",
        "\n",
        "x_test = pre_data.copy()"
      ],
      "execution_count": 65,
      "outputs": []
    },
    {
      "cell_type": "code",
      "metadata": {
        "id": "1815MEjXKg7P"
      },
      "source": [
        "# # 数组转为张量，并修改数据类型\n",
        "# y_train = torch.from_numpy(y_train).type(torch.LongTensor)\n",
        "# x_train = torch.from_numpy(x_train).type(torch.FloatTensor)\n",
        "# y_val = torch.from_numpy(Y_val).type(torch.LongTensor)\n",
        "# x_val = torch.from_numpy(x_val).type(torch.FloatTensor)\n",
        "\n",
        "# x_test = torch.from_numpy(pre_data).type(torch.FloatTensor)"
      ],
      "execution_count": 66,
      "outputs": []
    },
    {
      "cell_type": "code",
      "metadata": {
        "id": "PTF5lEBdKhcS"
      },
      "source": [
        ""
      ],
      "execution_count": 66,
      "outputs": []
    },
    {
      "cell_type": "markdown",
      "metadata": {
        "id": "hRlOpTPAWvuv"
      },
      "source": [
        "## 分批打包"
      ]
    },
    {
      "cell_type": "markdown",
      "metadata": {
        "id": "PGn16w0QWvuw"
      },
      "source": [
        "# 神经网络训练及预测\n",
        "## 构建多层神经网络"
      ]
    },
    {
      "cell_type": "code",
      "metadata": {
        "ExecuteTime": {
          "end_time": "2020-12-19T18:46:49.982234Z",
          "start_time": "2020-12-19T18:46:49.963Z"
        },
        "id": "GLOnlnlaWvuw"
      },
      "source": [
        "def seed_everything(seed=30):\n",
        "    np.random.seed(seed)\n",
        "    # torch.manual_seed(seed)\n",
        "    # torch.cuda.manual_seed(seed)\n",
        "    # torch.backends.cudnn.determindistic=True\n",
        "    # torch.backends.cudnn.benchmark = True\n",
        "    \n",
        "seed_everything(seed=30)"
      ],
      "execution_count": 67,
      "outputs": []
    },
    {
      "cell_type": "markdown",
      "metadata": {
        "id": "hDpmqGI6Wvux"
      },
      "source": [
        "```\n",
        "self.linear1 = nn.Linear(in_features=41, out_features=128) \n",
        "self.relu = nn.ReLU()\n",
        "self.linear2 = nn.Linear(128, 128)\n",
        "self.relu = nn.ReLU()\n",
        "self.linear3 =  nn.Linear(128, 2)\n",
        "```"
      ]
    },
    {
      "cell_type": "markdown",
      "metadata": {
        "id": "qHDyH9WyWvux"
      },
      "source": [
        "## Lightgbm"
      ]
    },
    {
      "cell_type": "code",
      "metadata": {
        "ExecuteTime": {
          "end_time": "2020-12-19T18:46:50.221271Z",
          "start_time": "2020-12-19T18:46:50.206504Z"
        },
        "colab": {
          "base_uri": "https://localhost:8080/"
        },
        "id": "X6SVwoLjWvux",
        "outputId": "04e453f4-52b3-4a34-f13c-5b56be71a78b"
      },
      "source": [
        "model = lgb.LGBMClassifier(class_weight=\"balanced\")\n",
        "\n",
        "model.fit(x_train, y_train)"
      ],
      "execution_count": 68,
      "outputs": [
        {
          "output_type": "execute_result",
          "data": {
            "text/plain": [
              "LGBMClassifier(boosting_type='gbdt', class_weight='balanced',\n",
              "               colsample_bytree=1.0, importance_type='split', learning_rate=0.1,\n",
              "               max_depth=-1, min_child_samples=20, min_child_weight=0.001,\n",
              "               min_split_gain=0.0, n_estimators=100, n_jobs=-1, num_leaves=31,\n",
              "               objective=None, random_state=None, reg_alpha=0.0, reg_lambda=0.0,\n",
              "               silent=True, subsample=1.0, subsample_for_bin=200000,\n",
              "               subsample_freq=0)"
            ]
          },
          "metadata": {
            "tags": []
          },
          "execution_count": 68
        }
      ]
    },
    {
      "cell_type": "code",
      "metadata": {
        "colab": {
          "base_uri": "https://localhost:8080/"
        },
        "id": "2VYPBS_WLeTy",
        "outputId": "da7be3c1-81a2-4fd2-b6a3-eb20fa8e3f5f"
      },
      "source": [
        "y_val_pred = model.predict(x_val)\n",
        "y_val_pro = model.predict_proba(x_val)[:, 1]\n",
        "\n",
        "print(\"在验证集上的准确率:{:.2f}%\".format(accuracy_score(Y_val, y_val_pred) * 100))\n",
        "print(\"在验证集上的AUC:{:.2f}%\".format(roc_auc_score(Y_val, y_val_pro) * 100))"
      ],
      "execution_count": 69,
      "outputs": [
        {
          "output_type": "stream",
          "text": [
            "在验证集上的准确率:48.68%\n",
            "在验证集上的AUC:65.63%\n"
          ],
          "name": "stdout"
        }
      ]
    },
    {
      "cell_type": "markdown",
      "metadata": {
        "id": "63rOYmoWWvu0"
      },
      "source": [
        "## 预测"
      ]
    },
    {
      "cell_type": "code",
      "metadata": {
        "ExecuteTime": {
          "end_time": "2020-12-19T18:46:50.577840Z",
          "start_time": "2020-12-19T18:46:50.535Z"
        },
        "id": "kkRT_JfzWvu0"
      },
      "source": [
        "sub_preds = model.predict(x_test)"
      ],
      "execution_count": 70,
      "outputs": []
    },
    {
      "cell_type": "code",
      "metadata": {
        "colab": {
          "base_uri": "https://localhost:8080/"
        },
        "id": "Qut9dRFeMuTT",
        "outputId": "e7ff63f9-27b0-4378-a8b0-ab0f422deb6f"
      },
      "source": [
        "(sub_preds == 1).sum()"
      ],
      "execution_count": 71,
      "outputs": [
        {
          "output_type": "execute_result",
          "data": {
            "text/plain": [
              "352906"
            ]
          },
          "metadata": {
            "tags": []
          },
          "execution_count": 71
        }
      ]
    },
    {
      "cell_type": "markdown",
      "metadata": {
        "id": "Nw3OC4peWvu0"
      },
      "source": [
        "# 保存预测结果"
      ]
    },
    {
      "cell_type": "code",
      "metadata": {
        "id": "7q1-E_bn2fRc"
      },
      "source": [
        "sub = pd.read_csv(\"X_test.csv\", usecols=['customer_id'])\n",
        "df_test = pd.read_csv(\"submission.csv\", usecols=['customer_id'])"
      ],
      "execution_count": 72,
      "outputs": []
    },
    {
      "cell_type": "code",
      "metadata": {
        "ExecuteTime": {
          "end_time": "2020-12-19T18:46:50.688937Z",
          "start_time": "2020-12-19T18:46:50.680731Z"
        },
        "id": "baR52CGOWvu0"
      },
      "source": [
        "df_preds = pd.DataFrame({\n",
        "    \"customer_id\": sub['customer_id'],\n",
        "    \"result\": sub_preds\n",
        "})"
      ],
      "execution_count": 73,
      "outputs": []
    },
    {
      "cell_type": "code",
      "metadata": {
        "ExecuteTime": {
          "end_time": "2020-12-19T18:46:50.691860Z",
          "start_time": "2020-12-19T18:46:50.637Z"
        },
        "id": "XlGQurSPWvu1"
      },
      "source": [
        "df_test = df_test[['customer_id']].merge(df_preds, on='customer_id', how='left')\n",
        "df_test = df_test.fillna(0)\n",
        "df_test['result'] = df_test['result'].astype('int')"
      ],
      "execution_count": 74,
      "outputs": []
    },
    {
      "cell_type": "code",
      "metadata": {
        "colab": {
          "base_uri": "https://localhost:8080/"
        },
        "id": "gRWoTXK6NWmZ",
        "outputId": "a24449fb-5548-4bce-b227-d44f6133e167"
      },
      "source": [
        "df_test['result'].value_counts()"
      ],
      "execution_count": 75,
      "outputs": [
        {
          "output_type": "execute_result",
          "data": {
            "text/plain": [
              "0    1233080\n",
              "1     352906\n",
              "Name: result, dtype: int64"
            ]
          },
          "metadata": {
            "tags": []
          },
          "execution_count": 75
        }
      ]
    },
    {
      "cell_type": "code",
      "metadata": {
        "ExecuteTime": {
          "end_time": "2020-12-19T18:46:50.694318Z",
          "start_time": "2020-12-19T18:46:50.672Z"
        },
        "id": "3lg3wTi8Wvu1"
      },
      "source": [
        "df_test.to_csv('submission.csv', index=False)"
      ],
      "execution_count": 76,
      "outputs": []
    },
    {
      "cell_type": "markdown",
      "metadata": {
        "id": "_ZwhCSSfld8j"
      },
      "source": [
        "# 总结："
      ]
    },
    {
      "cell_type": "markdown",
      "metadata": {
        "id": "khF8UFBLWvu1"
      },
      "source": [
        "- 失策了，留出来准备这个作业的时间太短。没想到这个比赛需要自己制作训练集和用于预测的测试集，没做出满意的成绩。\n",
        "- merge之后，DataFrame的数据类型会恢复为默认的64。"
      ]
    },
    {
      "cell_type": "code",
      "metadata": {
        "id": "TVPOx48hld8j"
      },
      "source": [
        ""
      ],
      "execution_count": 76,
      "outputs": []
    }
  ]
}