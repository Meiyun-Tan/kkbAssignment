{
 "cells": [
  {
   "cell_type": "markdown",
   "metadata": {
    "toc": true
   },
   "source": [
    "<h1>Table of Contents<span class=\"tocSkip\"></span></h1>\n",
    "<div class=\"toc\"><ul class=\"toc-item\"><li><span><a href=\"#1-加载数据\" data-toc-modified-id=\"1-加载数据-1\">1 加载数据</a></span><ul class=\"toc-item\"><li><span><a href=\"#1.1-训练集和测试集合并\" data-toc-modified-id=\"1.1-训练集和测试集合并-1.1\">1.1 训练集和测试集合并</a></span></li><li><span><a href=\"#1.2-降低内存的脚本\" data-toc-modified-id=\"1.2-降低内存的脚本-1.2\">1.2 降低内存的脚本</a></span></li></ul></li><li><span><a href=\"#2-用户特征处理\" data-toc-modified-id=\"2-用户特征处理-2\">2 用户特征处理</a></span><ul class=\"toc-item\"><li><span><a href=\"#2.1-每个用户交互行为数量u1\" data-toc-modified-id=\"2.1-每个用户交互行为数量u1-2.1\">2.1 每个用户交互行为数量u1</a></span></li><li><span><a href=\"#2.2-每个用户对多少商品有行为\" data-toc-modified-id=\"2.2-每个用户对多少商品有行为-2.2\">2.2 每个用户对多少商品有行为</a></span></li><li><span><a href=\"#2.3-每个用户对多少个类目有行为\" data-toc-modified-id=\"2.3-每个用户对多少个类目有行为-2.3\">2.3 每个用户对多少个类目有行为</a></span></li><li><span><a href=\"#2.4-每个用户对多少商家有行为\" data-toc-modified-id=\"2.4-每个用户对多少商家有行为-2.4\">2.4 每个用户对多少商家有行为</a></span></li><li><span><a href=\"#2.5-每个用户对多少个品牌有行为\" data-toc-modified-id=\"2.5-每个用户对多少个品牌有行为-2.5\">2.5 每个用户对多少个品牌有行为</a></span></li><li><span><a href=\"#2.6-按时间间隔统计特征\" data-toc-modified-id=\"2.6-按时间间隔统计特征-2.6\">2.6 按时间间隔统计特征</a></span></li><li><span><a href=\"#2.7-统计操作类型为0，1，2，3的个数\" data-toc-modified-id=\"2.7-统计操作类型为0，1，2，3的个数-2.7\">2.7 统计操作类型为0，1，2，3的个数</a></span></li></ul></li><li><span><a href=\"#3-商家特征处理\" data-toc-modified-id=\"3-商家特征处理-3\">3 商家特征处理</a></span><ul class=\"toc-item\"><li><span><a href=\"#3.1-每个商家被交互行为数量-m1\" data-toc-modified-id=\"3.1-每个商家被交互行为数量-m1-3.1\">3.1 每个商家被交互行为数量 m1</a></span></li><li><span><a href=\"#3.2-每个商家下被访问的用户数、商品数、类目数、品牌数\" data-toc-modified-id=\"3.2-每个商家下被访问的用户数、商品数、类目数、品牌数-3.2\">3.2 每个商家下被访问的用户数、商品数、类目数、品牌数</a></span></li><li><span><a href=\"#3.3-按照merchant_id-统计随机负采样的个数\" data-toc-modified-id=\"3.3-按照merchant_id-统计随机负采样的个数-3.3\">3.3 按照merchant_id 统计随机负采样的个数</a></span></li><li><span><a href=\"#3.4-统计商家被交互的操作类型个数\" data-toc-modified-id=\"3.4-统计商家被交互的操作类型个数-3.4\">3.4 统计商家被交互的操作类型个数</a></span></li></ul></li><li><span><a href=\"#4-按照user_id和merchant_id分组\" data-toc-modified-id=\"4-按照user_id和merchant_id分组-4\">4 按照user_id和merchant_id分组</a></span><ul class=\"toc-item\"><li><span><a href=\"#4.1-用户和商家交互的个数\" data-toc-modified-id=\"4.1-用户和商家交互的个数-4.1\">4.1 用户和商家交互的个数</a></span></li><li><span><a href=\"#4.2-用户在商家中交互的商品数、类目数、品牌数\" data-toc-modified-id=\"4.2-用户在商家中交互的商品数、类目数、品牌数-4.2\">4.2 用户在商家中交互的商品数、类目数、品牌数</a></span></li><li><span><a href=\"#4.3-用户在商家中的行为类型统计\" data-toc-modified-id=\"4.3-用户在商家中的行为类型统计-4.3\">4.3 用户在商家中的行为类型统计</a></span></li></ul></li><li><span><a href=\"#5-生成比率类特征\" data-toc-modified-id=\"5-生成比率类特征-5\">5 生成比率类特征</a></span></li><li><span><a href=\"#6-相关系数热力图\" data-toc-modified-id=\"6-相关系数热力图-6\">6 相关系数热力图</a></span></li><li><span><a href=\"#7-机器学习建模\" data-toc-modified-id=\"7-机器学习建模-7\">7 机器学习建模</a></span><ul class=\"toc-item\"><li><span><a href=\"#7.1-拆分数据集\" data-toc-modified-id=\"7.1-拆分数据集-7.1\">7.1 拆分数据集</a></span></li><li><span><a href=\"#7.2-lgb建模\" data-toc-modified-id=\"7.2-lgb建模-7.2\">7.2 lgb建模</a></span></li></ul></li><li><span><a href=\"#8-总结：\" data-toc-modified-id=\"8-总结：-8\">8 总结：</a></span></li></ul></div>"
   ]
  },
  {
   "cell_type": "markdown",
   "metadata": {},
   "source": [
    "数据集：天猫用户复购预测（https://tianchi.aliyun.com/competition/entrance/231576/introduction）    \n",
    "使用传统机器学习完成预测    \n",
    "使用Attention机制的DNN模型完成预测    \n",
    "分享交流你们的经验    \n",
    "Score > 0.66    \n"
   ]
  },
  {
   "cell_type": "code",
   "execution_count": 1,
   "metadata": {
    "ExecuteTime": {
     "end_time": "2021-02-28T00:37:06.522596Z",
     "start_time": "2021-02-28T00:37:05.311691Z"
    }
   },
   "outputs": [],
   "source": [
    "import numpy as np\n",
    "import pickle as pkl\n",
    "import pandas as pd\n",
    "from matplotlib import pyplot as plt\n",
    "\n",
    "# from category_encoders import TargetEncoder # 目标编码"
   ]
  },
  {
   "cell_type": "markdown",
   "metadata": {},
   "source": [
    "# 1 加载数据"
   ]
  },
  {
   "cell_type": "code",
   "execution_count": 2,
   "metadata": {
    "ExecuteTime": {
     "end_time": "2021-02-28T00:37:42.991041Z",
     "start_time": "2021-02-28T00:37:06.525253Z"
    }
   },
   "outputs": [],
   "source": [
    "#### 用户行为，使用format1进行加载 使用了data_format1/user_log_format1.csv的前10W条生成sample数据 \n",
    "# 对该小样本数据集的xgb最高分数：0.6590840\n",
    "# user_log = pd.read_csv('./data_format1_sample/sample_user_log.csv',\n",
    "#                        dtype={'time_stamp': 'str'})\n",
    "# user_info = pd.read_csv('./data_format1_sample/sample_user_info.csv')\n",
    "# train_data1 = pd.read_csv('./data_format1_sample/sample_train_data.csv')\n",
    "# submission = pd.read_csv('./data_format1_sample/sample_test_data.csv')\n",
    "# train_data = pd.read_csv('./data_format2/train_format2.csv')\n",
    "#### \n",
    "\n",
    "# 全量数据集 用户行为，使用format1进行加载\n",
    "user_log = pd.read_csv('./data_format1/user_log_format1.csv',\n",
    "                       dtype={'time_stamp': 'str'})\n",
    "user_info = pd.read_csv('./data_format1/user_info_format1.csv')\n",
    "train_data1 = pd.read_csv('./data_format1/train_format1.csv')\n",
    "submission = pd.read_csv('./data_format1/test_format1.csv')\n",
    "train_data = pd.read_csv('./data_format2/train_format2.csv')"
   ]
  },
  {
   "cell_type": "code",
   "execution_count": 3,
   "metadata": {
    "ExecuteTime": {
     "end_time": "2021-02-28T00:37:43.032334Z",
     "start_time": "2021-02-28T00:37:42.997126Z"
    }
   },
   "outputs": [
    {
     "data": {
      "text/plain": [
       "((54925330, 7), (424170, 3), (260864, 3), (261477, 3), (7030723, 6))"
      ]
     },
     "execution_count": 3,
     "metadata": {},
     "output_type": "execute_result"
    }
   ],
   "source": [
    "user_log.shape, user_info.shape, train_data1.shape, submission.shape, train_data.shape"
   ]
  },
  {
   "cell_type": "code",
   "execution_count": 4,
   "metadata": {
    "ExecuteTime": {
     "end_time": "2021-02-28T00:37:43.071545Z",
     "start_time": "2021-02-28T00:37:43.035957Z"
    }
   },
   "outputs": [
    {
     "data": {
      "text/html": [
       "<div>\n",
       "<style scoped>\n",
       "    .dataframe tbody tr th:only-of-type {\n",
       "        vertical-align: middle;\n",
       "    }\n",
       "\n",
       "    .dataframe tbody tr th {\n",
       "        vertical-align: top;\n",
       "    }\n",
       "\n",
       "    .dataframe thead th {\n",
       "        text-align: right;\n",
       "    }\n",
       "</style>\n",
       "<table border=\"1\" class=\"dataframe\">\n",
       "  <thead>\n",
       "    <tr style=\"text-align: right;\">\n",
       "      <th></th>\n",
       "      <th>user_id</th>\n",
       "      <th>item_id</th>\n",
       "      <th>cat_id</th>\n",
       "      <th>seller_id</th>\n",
       "      <th>brand_id</th>\n",
       "      <th>time_stamp</th>\n",
       "      <th>action_type</th>\n",
       "    </tr>\n",
       "  </thead>\n",
       "  <tbody>\n",
       "    <tr>\n",
       "      <th>0</th>\n",
       "      <td>328862</td>\n",
       "      <td>323294</td>\n",
       "      <td>833</td>\n",
       "      <td>2882</td>\n",
       "      <td>2661.0</td>\n",
       "      <td>0829</td>\n",
       "      <td>0</td>\n",
       "    </tr>\n",
       "    <tr>\n",
       "      <th>1</th>\n",
       "      <td>328862</td>\n",
       "      <td>844400</td>\n",
       "      <td>1271</td>\n",
       "      <td>2882</td>\n",
       "      <td>2661.0</td>\n",
       "      <td>0829</td>\n",
       "      <td>0</td>\n",
       "    </tr>\n",
       "  </tbody>\n",
       "</table>\n",
       "</div>"
      ],
      "text/plain": [
       "   user_id  item_id  cat_id  seller_id  brand_id time_stamp  action_type\n",
       "0   328862   323294     833       2882    2661.0       0829            0\n",
       "1   328862   844400    1271       2882    2661.0       0829            0"
      ]
     },
     "execution_count": 4,
     "metadata": {},
     "output_type": "execute_result"
    }
   ],
   "source": [
    "user_log.head(2)"
   ]
  },
  {
   "cell_type": "code",
   "execution_count": 5,
   "metadata": {
    "ExecuteTime": {
     "end_time": "2021-02-28T00:37:43.089435Z",
     "start_time": "2021-02-28T00:37:43.080280Z"
    }
   },
   "outputs": [
    {
     "data": {
      "text/html": [
       "<div>\n",
       "<style scoped>\n",
       "    .dataframe tbody tr th:only-of-type {\n",
       "        vertical-align: middle;\n",
       "    }\n",
       "\n",
       "    .dataframe tbody tr th {\n",
       "        vertical-align: top;\n",
       "    }\n",
       "\n",
       "    .dataframe thead th {\n",
       "        text-align: right;\n",
       "    }\n",
       "</style>\n",
       "<table border=\"1\" class=\"dataframe\">\n",
       "  <thead>\n",
       "    <tr style=\"text-align: right;\">\n",
       "      <th></th>\n",
       "      <th>user_id</th>\n",
       "      <th>age_range</th>\n",
       "      <th>gender</th>\n",
       "    </tr>\n",
       "  </thead>\n",
       "  <tbody>\n",
       "    <tr>\n",
       "      <th>0</th>\n",
       "      <td>376517</td>\n",
       "      <td>6.0</td>\n",
       "      <td>1.0</td>\n",
       "    </tr>\n",
       "    <tr>\n",
       "      <th>1</th>\n",
       "      <td>234512</td>\n",
       "      <td>5.0</td>\n",
       "      <td>0.0</td>\n",
       "    </tr>\n",
       "  </tbody>\n",
       "</table>\n",
       "</div>"
      ],
      "text/plain": [
       "   user_id  age_range  gender\n",
       "0   376517        6.0     1.0\n",
       "1   234512        5.0     0.0"
      ]
     },
     "execution_count": 5,
     "metadata": {},
     "output_type": "execute_result"
    }
   ],
   "source": [
    "user_info.head(2)"
   ]
  },
  {
   "cell_type": "code",
   "execution_count": 6,
   "metadata": {
    "ExecuteTime": {
     "end_time": "2021-02-28T00:37:43.101122Z",
     "start_time": "2021-02-28T00:37:43.092258Z"
    }
   },
   "outputs": [
    {
     "data": {
      "text/html": [
       "<div>\n",
       "<style scoped>\n",
       "    .dataframe tbody tr th:only-of-type {\n",
       "        vertical-align: middle;\n",
       "    }\n",
       "\n",
       "    .dataframe tbody tr th {\n",
       "        vertical-align: top;\n",
       "    }\n",
       "\n",
       "    .dataframe thead th {\n",
       "        text-align: right;\n",
       "    }\n",
       "</style>\n",
       "<table border=\"1\" class=\"dataframe\">\n",
       "  <thead>\n",
       "    <tr style=\"text-align: right;\">\n",
       "      <th></th>\n",
       "      <th>user_id</th>\n",
       "      <th>merchant_id</th>\n",
       "      <th>label</th>\n",
       "    </tr>\n",
       "  </thead>\n",
       "  <tbody>\n",
       "    <tr>\n",
       "      <th>0</th>\n",
       "      <td>34176</td>\n",
       "      <td>3906</td>\n",
       "      <td>0</td>\n",
       "    </tr>\n",
       "    <tr>\n",
       "      <th>1</th>\n",
       "      <td>34176</td>\n",
       "      <td>121</td>\n",
       "      <td>0</td>\n",
       "    </tr>\n",
       "  </tbody>\n",
       "</table>\n",
       "</div>"
      ],
      "text/plain": [
       "   user_id  merchant_id  label\n",
       "0    34176         3906      0\n",
       "1    34176          121      0"
      ]
     },
     "execution_count": 6,
     "metadata": {},
     "output_type": "execute_result"
    }
   ],
   "source": [
    "train_data1.head(2)"
   ]
  },
  {
   "cell_type": "code",
   "execution_count": 7,
   "metadata": {
    "ExecuteTime": {
     "end_time": "2021-02-28T00:37:43.142827Z",
     "start_time": "2021-02-28T00:37:43.107439Z"
    }
   },
   "outputs": [
    {
     "data": {
      "text/html": [
       "<div>\n",
       "<style scoped>\n",
       "    .dataframe tbody tr th:only-of-type {\n",
       "        vertical-align: middle;\n",
       "    }\n",
       "\n",
       "    .dataframe tbody tr th {\n",
       "        vertical-align: top;\n",
       "    }\n",
       "\n",
       "    .dataframe thead th {\n",
       "        text-align: right;\n",
       "    }\n",
       "</style>\n",
       "<table border=\"1\" class=\"dataframe\">\n",
       "  <thead>\n",
       "    <tr style=\"text-align: right;\">\n",
       "      <th></th>\n",
       "      <th>user_id</th>\n",
       "      <th>merchant_id</th>\n",
       "      <th>prob</th>\n",
       "    </tr>\n",
       "  </thead>\n",
       "  <tbody>\n",
       "    <tr>\n",
       "      <th>0</th>\n",
       "      <td>163968</td>\n",
       "      <td>4605</td>\n",
       "      <td>NaN</td>\n",
       "    </tr>\n",
       "    <tr>\n",
       "      <th>1</th>\n",
       "      <td>360576</td>\n",
       "      <td>1581</td>\n",
       "      <td>NaN</td>\n",
       "    </tr>\n",
       "  </tbody>\n",
       "</table>\n",
       "</div>"
      ],
      "text/plain": [
       "   user_id  merchant_id  prob\n",
       "0   163968         4605   NaN\n",
       "1   360576         1581   NaN"
      ]
     },
     "execution_count": 7,
     "metadata": {},
     "output_type": "execute_result"
    }
   ],
   "source": [
    "submission.head(2)"
   ]
  },
  {
   "cell_type": "code",
   "execution_count": 8,
   "metadata": {
    "ExecuteTime": {
     "end_time": "2021-02-28T00:37:43.173205Z",
     "start_time": "2021-02-28T00:37:43.150896Z"
    }
   },
   "outputs": [
    {
     "data": {
      "text/html": [
       "<div>\n",
       "<style scoped>\n",
       "    .dataframe tbody tr th:only-of-type {\n",
       "        vertical-align: middle;\n",
       "    }\n",
       "\n",
       "    .dataframe tbody tr th {\n",
       "        vertical-align: top;\n",
       "    }\n",
       "\n",
       "    .dataframe thead th {\n",
       "        text-align: right;\n",
       "    }\n",
       "</style>\n",
       "<table border=\"1\" class=\"dataframe\">\n",
       "  <thead>\n",
       "    <tr style=\"text-align: right;\">\n",
       "      <th></th>\n",
       "      <th>user_id</th>\n",
       "      <th>age_range</th>\n",
       "      <th>gender</th>\n",
       "      <th>merchant_id</th>\n",
       "      <th>label</th>\n",
       "      <th>activity_log</th>\n",
       "    </tr>\n",
       "  </thead>\n",
       "  <tbody>\n",
       "    <tr>\n",
       "      <th>0</th>\n",
       "      <td>34176</td>\n",
       "      <td>6.0</td>\n",
       "      <td>0.0</td>\n",
       "      <td>944</td>\n",
       "      <td>-1</td>\n",
       "      <td>408895:1505:7370:1107:0</td>\n",
       "    </tr>\n",
       "    <tr>\n",
       "      <th>1</th>\n",
       "      <td>34176</td>\n",
       "      <td>6.0</td>\n",
       "      <td>0.0</td>\n",
       "      <td>412</td>\n",
       "      <td>-1</td>\n",
       "      <td>17235:1604:4396:0818:0#954723:1604:4396:0818:0...</td>\n",
       "    </tr>\n",
       "  </tbody>\n",
       "</table>\n",
       "</div>"
      ],
      "text/plain": [
       "   user_id  age_range  gender  merchant_id  label  \\\n",
       "0    34176        6.0     0.0          944     -1   \n",
       "1    34176        6.0     0.0          412     -1   \n",
       "\n",
       "                                        activity_log  \n",
       "0                            408895:1505:7370:1107:0  \n",
       "1  17235:1604:4396:0818:0#954723:1604:4396:0818:0...  "
      ]
     },
     "execution_count": 8,
     "metadata": {},
     "output_type": "execute_result"
    }
   ],
   "source": [
    "train_data.head(2)"
   ]
  },
  {
   "cell_type": "code",
   "execution_count": 9,
   "metadata": {
    "ExecuteTime": {
     "end_time": "2021-02-28T00:37:43.194371Z",
     "start_time": "2021-02-28T00:37:43.181347Z"
    }
   },
   "outputs": [],
   "source": [
    "train_data1['origin'] = 'train'\n",
    "submission['origin'] = 'test'"
   ]
  },
  {
   "cell_type": "markdown",
   "metadata": {},
   "source": [
    "## 1.1 训练集和测试集合并"
   ]
  },
  {
   "cell_type": "code",
   "execution_count": 10,
   "metadata": {
    "ExecuteTime": {
     "end_time": "2021-02-28T00:37:43.244322Z",
     "start_time": "2021-02-28T00:37:43.197718Z"
    }
   },
   "outputs": [
    {
     "data": {
      "text/html": [
       "<div>\n",
       "<style scoped>\n",
       "    .dataframe tbody tr th:only-of-type {\n",
       "        vertical-align: middle;\n",
       "    }\n",
       "\n",
       "    .dataframe tbody tr th {\n",
       "        vertical-align: top;\n",
       "    }\n",
       "\n",
       "    .dataframe thead th {\n",
       "        text-align: right;\n",
       "    }\n",
       "</style>\n",
       "<table border=\"1\" class=\"dataframe\">\n",
       "  <thead>\n",
       "    <tr style=\"text-align: right;\">\n",
       "      <th></th>\n",
       "      <th>user_id</th>\n",
       "      <th>merchant_id</th>\n",
       "      <th>label</th>\n",
       "      <th>origin</th>\n",
       "      <th>prob</th>\n",
       "    </tr>\n",
       "  </thead>\n",
       "  <tbody>\n",
       "    <tr>\n",
       "      <th>0</th>\n",
       "      <td>34176</td>\n",
       "      <td>3906</td>\n",
       "      <td>0.0</td>\n",
       "      <td>train</td>\n",
       "      <td>NaN</td>\n",
       "    </tr>\n",
       "    <tr>\n",
       "      <th>1</th>\n",
       "      <td>34176</td>\n",
       "      <td>121</td>\n",
       "      <td>0.0</td>\n",
       "      <td>train</td>\n",
       "      <td>NaN</td>\n",
       "    </tr>\n",
       "    <tr>\n",
       "      <th>2</th>\n",
       "      <td>34176</td>\n",
       "      <td>4356</td>\n",
       "      <td>1.0</td>\n",
       "      <td>train</td>\n",
       "      <td>NaN</td>\n",
       "    </tr>\n",
       "    <tr>\n",
       "      <th>3</th>\n",
       "      <td>34176</td>\n",
       "      <td>2217</td>\n",
       "      <td>0.0</td>\n",
       "      <td>train</td>\n",
       "      <td>NaN</td>\n",
       "    </tr>\n",
       "    <tr>\n",
       "      <th>4</th>\n",
       "      <td>230784</td>\n",
       "      <td>4818</td>\n",
       "      <td>0.0</td>\n",
       "      <td>train</td>\n",
       "      <td>NaN</td>\n",
       "    </tr>\n",
       "    <tr>\n",
       "      <th>...</th>\n",
       "      <td>...</td>\n",
       "      <td>...</td>\n",
       "      <td>...</td>\n",
       "      <td>...</td>\n",
       "      <td>...</td>\n",
       "    </tr>\n",
       "    <tr>\n",
       "      <th>522336</th>\n",
       "      <td>228479</td>\n",
       "      <td>3111</td>\n",
       "      <td>NaN</td>\n",
       "      <td>test</td>\n",
       "      <td>NaN</td>\n",
       "    </tr>\n",
       "    <tr>\n",
       "      <th>522337</th>\n",
       "      <td>97919</td>\n",
       "      <td>2341</td>\n",
       "      <td>NaN</td>\n",
       "      <td>test</td>\n",
       "      <td>NaN</td>\n",
       "    </tr>\n",
       "    <tr>\n",
       "      <th>522338</th>\n",
       "      <td>97919</td>\n",
       "      <td>3971</td>\n",
       "      <td>NaN</td>\n",
       "      <td>test</td>\n",
       "      <td>NaN</td>\n",
       "    </tr>\n",
       "    <tr>\n",
       "      <th>522339</th>\n",
       "      <td>32639</td>\n",
       "      <td>3536</td>\n",
       "      <td>NaN</td>\n",
       "      <td>test</td>\n",
       "      <td>NaN</td>\n",
       "    </tr>\n",
       "    <tr>\n",
       "      <th>522340</th>\n",
       "      <td>32639</td>\n",
       "      <td>3319</td>\n",
       "      <td>NaN</td>\n",
       "      <td>test</td>\n",
       "      <td>NaN</td>\n",
       "    </tr>\n",
       "  </tbody>\n",
       "</table>\n",
       "<p>522341 rows × 5 columns</p>\n",
       "</div>"
      ],
      "text/plain": [
       "        user_id  merchant_id  label origin  prob\n",
       "0         34176         3906    0.0  train   NaN\n",
       "1         34176          121    0.0  train   NaN\n",
       "2         34176         4356    1.0  train   NaN\n",
       "3         34176         2217    0.0  train   NaN\n",
       "4        230784         4818    0.0  train   NaN\n",
       "...         ...          ...    ...    ...   ...\n",
       "522336   228479         3111    NaN   test   NaN\n",
       "522337    97919         2341    NaN   test   NaN\n",
       "522338    97919         3971    NaN   test   NaN\n",
       "522339    32639         3536    NaN   test   NaN\n",
       "522340    32639         3319    NaN   test   NaN\n",
       "\n",
       "[522341 rows x 5 columns]"
      ]
     },
     "execution_count": 10,
     "metadata": {},
     "output_type": "execute_result"
    }
   ],
   "source": [
    "matrix = pd.concat([train_data1, submission], ignore_index=True, sort=False)\n",
    "matrix"
   ]
  },
  {
   "cell_type": "code",
   "execution_count": 11,
   "metadata": {
    "ExecuteTime": {
     "end_time": "2021-02-28T00:37:43.282229Z",
     "start_time": "2021-02-28T00:37:43.246559Z"
    }
   },
   "outputs": [],
   "source": [
    "matrix.drop(['prob'], axis=1, inplace=True)"
   ]
  },
  {
   "cell_type": "code",
   "execution_count": 12,
   "metadata": {
    "ExecuteTime": {
     "end_time": "2021-02-28T00:37:43.311227Z",
     "start_time": "2021-02-28T00:37:43.292119Z"
    }
   },
   "outputs": [
    {
     "data": {
      "text/html": [
       "<div>\n",
       "<style scoped>\n",
       "    .dataframe tbody tr th:only-of-type {\n",
       "        vertical-align: middle;\n",
       "    }\n",
       "\n",
       "    .dataframe tbody tr th {\n",
       "        vertical-align: top;\n",
       "    }\n",
       "\n",
       "    .dataframe thead th {\n",
       "        text-align: right;\n",
       "    }\n",
       "</style>\n",
       "<table border=\"1\" class=\"dataframe\">\n",
       "  <thead>\n",
       "    <tr style=\"text-align: right;\">\n",
       "      <th></th>\n",
       "      <th>user_id</th>\n",
       "      <th>merchant_id</th>\n",
       "      <th>label</th>\n",
       "      <th>origin</th>\n",
       "    </tr>\n",
       "  </thead>\n",
       "  <tbody>\n",
       "    <tr>\n",
       "      <th>522339</th>\n",
       "      <td>32639</td>\n",
       "      <td>3536</td>\n",
       "      <td>NaN</td>\n",
       "      <td>test</td>\n",
       "    </tr>\n",
       "    <tr>\n",
       "      <th>522340</th>\n",
       "      <td>32639</td>\n",
       "      <td>3319</td>\n",
       "      <td>NaN</td>\n",
       "      <td>test</td>\n",
       "    </tr>\n",
       "  </tbody>\n",
       "</table>\n",
       "</div>"
      ],
      "text/plain": [
       "        user_id  merchant_id  label origin\n",
       "522339    32639         3536    NaN   test\n",
       "522340    32639         3319    NaN   test"
      ]
     },
     "execution_count": 12,
     "metadata": {},
     "output_type": "execute_result"
    }
   ],
   "source": [
    "matrix.tail(2)"
   ]
  },
  {
   "cell_type": "code",
   "execution_count": 13,
   "metadata": {
    "ExecuteTime": {
     "end_time": "2021-02-28T00:37:43.340731Z",
     "start_time": "2021-02-28T00:37:43.318141Z"
    }
   },
   "outputs": [
    {
     "data": {
      "text/plain": [
       "user_id         0\n",
       "age_range    2217\n",
       "gender       6436\n",
       "dtype: int64"
      ]
     },
     "execution_count": 13,
     "metadata": {},
     "output_type": "execute_result"
    }
   ],
   "source": [
    "user_info.isnull().sum()"
   ]
  },
  {
   "cell_type": "code",
   "execution_count": 14,
   "metadata": {
    "ExecuteTime": {
     "end_time": "2021-02-28T00:37:43.353784Z",
     "start_time": "2021-02-28T00:37:43.345447Z"
    }
   },
   "outputs": [],
   "source": [
    "user_info['age_range'].fillna(0, inplace=True)\n",
    "user_info['gender'].fillna(2, inplace=True)"
   ]
  },
  {
   "cell_type": "code",
   "execution_count": 15,
   "metadata": {
    "ExecuteTime": {
     "end_time": "2021-02-28T00:37:43.367574Z",
     "start_time": "2021-02-28T00:37:43.357013Z"
    }
   },
   "outputs": [],
   "source": [
    "user_info['age_range'] = user_info['age_range'].astype('int8')\n",
    "user_info['gender'] = user_info['gender'].astype('int8')"
   ]
  },
  {
   "cell_type": "code",
   "execution_count": 16,
   "metadata": {
    "ExecuteTime": {
     "end_time": "2021-02-28T00:37:43.661465Z",
     "start_time": "2021-02-28T00:37:43.372172Z"
    }
   },
   "outputs": [],
   "source": [
    "# 连接user_info表，通过user_id关联\n",
    "matrix = matrix.merge(user_info, on='user_id', how='left')"
   ]
  },
  {
   "cell_type": "code",
   "execution_count": 17,
   "metadata": {
    "ExecuteTime": {
     "end_time": "2021-02-28T00:37:43.692585Z",
     "start_time": "2021-02-28T00:37:43.681323Z"
    }
   },
   "outputs": [
    {
     "data": {
      "text/html": [
       "<div>\n",
       "<style scoped>\n",
       "    .dataframe tbody tr th:only-of-type {\n",
       "        vertical-align: middle;\n",
       "    }\n",
       "\n",
       "    .dataframe tbody tr th {\n",
       "        vertical-align: top;\n",
       "    }\n",
       "\n",
       "    .dataframe thead th {\n",
       "        text-align: right;\n",
       "    }\n",
       "</style>\n",
       "<table border=\"1\" class=\"dataframe\">\n",
       "  <thead>\n",
       "    <tr style=\"text-align: right;\">\n",
       "      <th></th>\n",
       "      <th>user_id</th>\n",
       "      <th>merchant_id</th>\n",
       "      <th>label</th>\n",
       "      <th>origin</th>\n",
       "      <th>age_range</th>\n",
       "      <th>gender</th>\n",
       "    </tr>\n",
       "  </thead>\n",
       "  <tbody>\n",
       "    <tr>\n",
       "      <th>0</th>\n",
       "      <td>34176</td>\n",
       "      <td>3906</td>\n",
       "      <td>0.0</td>\n",
       "      <td>train</td>\n",
       "      <td>6</td>\n",
       "      <td>0</td>\n",
       "    </tr>\n",
       "    <tr>\n",
       "      <th>1</th>\n",
       "      <td>34176</td>\n",
       "      <td>121</td>\n",
       "      <td>0.0</td>\n",
       "      <td>train</td>\n",
       "      <td>6</td>\n",
       "      <td>0</td>\n",
       "    </tr>\n",
       "  </tbody>\n",
       "</table>\n",
       "</div>"
      ],
      "text/plain": [
       "   user_id  merchant_id  label origin  age_range  gender\n",
       "0    34176         3906    0.0  train          6       0\n",
       "1    34176          121    0.0  train          6       0"
      ]
     },
     "execution_count": 17,
     "metadata": {},
     "output_type": "execute_result"
    }
   ],
   "source": [
    "matrix.head(2)"
   ]
  },
  {
   "cell_type": "code",
   "execution_count": 18,
   "metadata": {
    "ExecuteTime": {
     "end_time": "2021-02-28T00:37:51.402426Z",
     "start_time": "2021-02-28T00:37:43.695073Z"
    }
   },
   "outputs": [],
   "source": [
    "# 使用merchant_id（原列名seller_id）\n",
    "user_log.rename(columns={'seller_id':'merchant_id'}, inplace=True)"
   ]
  },
  {
   "cell_type": "code",
   "execution_count": 19,
   "metadata": {
    "ExecuteTime": {
     "end_time": "2021-02-28T00:37:51.430376Z",
     "start_time": "2021-02-28T00:37:51.408313Z"
    }
   },
   "outputs": [
    {
     "name": "stdout",
     "output_type": "stream",
     "text": [
      "<class 'pandas.core.frame.DataFrame'>\n",
      "RangeIndex: 54925330 entries, 0 to 54925329\n",
      "Data columns (total 7 columns):\n",
      " #   Column       Dtype  \n",
      "---  ------       -----  \n",
      " 0   user_id      int64  \n",
      " 1   item_id      int64  \n",
      " 2   cat_id       int64  \n",
      " 3   merchant_id  int64  \n",
      " 4   brand_id     float64\n",
      " 5   time_stamp   object \n",
      " 6   action_type  int64  \n",
      "dtypes: float64(1), int64(5), object(1)\n",
      "memory usage: 2.9+ GB\n"
     ]
    }
   ],
   "source": [
    "user_log.info()"
   ]
  },
  {
   "cell_type": "code",
   "execution_count": 20,
   "metadata": {
    "ExecuteTime": {
     "end_time": "2021-02-28T00:37:55.239353Z",
     "start_time": "2021-02-28T00:37:51.437394Z"
    }
   },
   "outputs": [
    {
     "data": {
      "text/plain": [
       "user_id            0\n",
       "item_id            0\n",
       "cat_id             0\n",
       "merchant_id        0\n",
       "time_stamp         0\n",
       "action_type        0\n",
       "brand_id       91015\n",
       "dtype: int64"
      ]
     },
     "execution_count": 20,
     "metadata": {},
     "output_type": "execute_result"
    }
   ],
   "source": [
    "user_log.isnull().sum().sort_values()"
   ]
  },
  {
   "cell_type": "code",
   "execution_count": 21,
   "metadata": {
    "ExecuteTime": {
     "end_time": "2021-02-28T00:37:55.317534Z",
     "start_time": "2021-02-28T00:37:55.244407Z"
    }
   },
   "outputs": [
    {
     "data": {
      "text/plain": [
       "True"
      ]
     },
     "execution_count": 21,
     "metadata": {},
     "output_type": "execute_result"
    }
   ],
   "source": [
    "user_log['brand_id'].isnull().any()"
   ]
  },
  {
   "cell_type": "code",
   "execution_count": 22,
   "metadata": {
    "ExecuteTime": {
     "end_time": "2021-02-28T00:37:55.504117Z",
     "start_time": "2021-02-28T00:37:55.358096Z"
    }
   },
   "outputs": [],
   "source": [
    "user_log['brand_id'].fillna(0, inplace=True)"
   ]
  },
  {
   "cell_type": "code",
   "execution_count": 23,
   "metadata": {
    "ExecuteTime": {
     "end_time": "2021-02-28T00:37:55.884883Z",
     "start_time": "2021-02-28T00:37:55.513891Z"
    }
   },
   "outputs": [],
   "source": [
    "user_log['brand_id'] = user_log['brand_id'].astype(\"int32\")"
   ]
  },
  {
   "cell_type": "markdown",
   "metadata": {},
   "source": [
    "## 1.2 降低内存的脚本"
   ]
  },
  {
   "cell_type": "code",
   "execution_count": 24,
   "metadata": {
    "ExecuteTime": {
     "end_time": "2021-02-28T00:37:55.913723Z",
     "start_time": "2021-02-28T00:37:55.888214Z"
    }
   },
   "outputs": [],
   "source": [
    "def reduce_mem_usage(df):\n",
    "    \"\"\"通过选择较小的数据类型属性来减小数据集的大小\"\"\"\n",
    "    props = df.copy()\n",
    "    for col in props.columns:\n",
    "        if props[col].dtype != object:  # Exclude strings\n",
    "            # make variables for Int, max and min\n",
    "            IsInt = False\n",
    "            mx = props[col].max()\n",
    "            mn = props[col].min()\n",
    "            \n",
    "            # 测试是否可以把该列数值类型修改为整数\n",
    "            asint = props[col].astype(np.int64)\n",
    "            result = (props[col] - asint).sum()\n",
    "\n",
    "            if result > -0.01 and result < 0.01:\n",
    "                IsInt = True\n",
    "\n",
    "            # Make Integer/unsigned Integer datatypes\n",
    "            if IsInt:\n",
    "                if mn >= 0:  # 非负数的整数修改为无符号整型\n",
    "                    if mx < np.iinfo(np.uint8).max:  # uint8的上限\n",
    "                        props[col] = props[col].astype(np.uint8)\n",
    "                    elif mx < np.iinfo(np.uint16).max:  # uint16的上限\n",
    "                        props[col] = props[col].astype(np.uint16)\n",
    "                    elif mx < np.iinfo(np.uint32).max:\n",
    "                        props[col] = props[col].astype(np.uint32)\n",
    "                    else:\n",
    "                        props[col] = props[col].astype(np.uint64)\n",
    "                else:  # 包含负数的整数，修改为有符号整型\n",
    "                    if mn > np.iinfo(np.int8).min and mx < np.iinfo(\n",
    "                            np.int8).max:\n",
    "                        props[col] = props[col].astype(np.int8)\n",
    "                    elif mn > np.iinfo(np.int16).min and mx < np.iinfo(\n",
    "                            np.int16).max:\n",
    "                        props[col] = props[col].astype(np.int16)\n",
    "                    elif mn > np.iinfo(np.int32).min and mx < np.iinfo(\n",
    "                            np.int32).max:\n",
    "                        props[col] = props[col].astype(np.int32)\n",
    "                    elif mn > np.iinfo(np.int64).min and mx < np.iinfo(\n",
    "                            np.int64).max:\n",
    "                        props[col] = props[col].astype(np.int64)\n",
    "\n",
    "            # Make float datatypes 32 bit\n",
    "            else:\n",
    "                props[col] = props[col].astype(np.float32)\n",
    "\n",
    "    return props\n",
    "\n",
    "def get_memory(df):\n",
    "    \"\"\"查看DataFrame所占内存大小\"\"\"\n",
    "    mem_train = df.memory_usage(index=True).sum()\n",
    "    print(u\"数据集使用内容 \" + str(mem_train / 1024**2) + \" MB\")"
   ]
  },
  {
   "cell_type": "code",
   "execution_count": 25,
   "metadata": {
    "ExecuteTime": {
     "end_time": "2021-02-28T00:37:55.922244Z",
     "start_time": "2021-02-28T00:37:55.915535Z"
    }
   },
   "outputs": [
    {
     "name": "stdout",
     "output_type": "stream",
     "text": [
      "数据集使用内容 2723.8057022094727 MB\n"
     ]
    }
   ],
   "source": [
    "get_memory(user_log)"
   ]
  },
  {
   "cell_type": "code",
   "execution_count": 26,
   "metadata": {
    "ExecuteTime": {
     "end_time": "2021-02-28T00:38:15.297731Z",
     "start_time": "2021-02-28T00:37:55.928581Z"
    }
   },
   "outputs": [],
   "source": [
    "user_log = reduce_mem_usage(user_log)"
   ]
  },
  {
   "cell_type": "code",
   "execution_count": 27,
   "metadata": {
    "ExecuteTime": {
     "end_time": "2021-02-28T00:38:15.365999Z",
     "start_time": "2021-02-28T00:38:15.308830Z"
    }
   },
   "outputs": [
    {
     "name": "stdout",
     "output_type": "stream",
     "text": [
      "数据集使用内容 1204.7602825164795 MB\n"
     ]
    },
    {
     "data": {
      "text/html": [
       "<div>\n",
       "<style scoped>\n",
       "    .dataframe tbody tr th:only-of-type {\n",
       "        vertical-align: middle;\n",
       "    }\n",
       "\n",
       "    .dataframe tbody tr th {\n",
       "        vertical-align: top;\n",
       "    }\n",
       "\n",
       "    .dataframe thead th {\n",
       "        text-align: right;\n",
       "    }\n",
       "</style>\n",
       "<table border=\"1\" class=\"dataframe\">\n",
       "  <thead>\n",
       "    <tr style=\"text-align: right;\">\n",
       "      <th></th>\n",
       "      <th>user_id</th>\n",
       "      <th>item_id</th>\n",
       "      <th>cat_id</th>\n",
       "      <th>merchant_id</th>\n",
       "      <th>brand_id</th>\n",
       "      <th>time_stamp</th>\n",
       "      <th>action_type</th>\n",
       "    </tr>\n",
       "  </thead>\n",
       "  <tbody>\n",
       "    <tr>\n",
       "      <th>0</th>\n",
       "      <td>328862</td>\n",
       "      <td>323294</td>\n",
       "      <td>833</td>\n",
       "      <td>2882</td>\n",
       "      <td>2661</td>\n",
       "      <td>0829</td>\n",
       "      <td>0</td>\n",
       "    </tr>\n",
       "    <tr>\n",
       "      <th>1</th>\n",
       "      <td>328862</td>\n",
       "      <td>844400</td>\n",
       "      <td>1271</td>\n",
       "      <td>2882</td>\n",
       "      <td>2661</td>\n",
       "      <td>0829</td>\n",
       "      <td>0</td>\n",
       "    </tr>\n",
       "    <tr>\n",
       "      <th>2</th>\n",
       "      <td>328862</td>\n",
       "      <td>575153</td>\n",
       "      <td>1271</td>\n",
       "      <td>2882</td>\n",
       "      <td>2661</td>\n",
       "      <td>0829</td>\n",
       "      <td>0</td>\n",
       "    </tr>\n",
       "    <tr>\n",
       "      <th>3</th>\n",
       "      <td>328862</td>\n",
       "      <td>996875</td>\n",
       "      <td>1271</td>\n",
       "      <td>2882</td>\n",
       "      <td>2661</td>\n",
       "      <td>0829</td>\n",
       "      <td>0</td>\n",
       "    </tr>\n",
       "    <tr>\n",
       "      <th>4</th>\n",
       "      <td>328862</td>\n",
       "      <td>1086186</td>\n",
       "      <td>1271</td>\n",
       "      <td>1253</td>\n",
       "      <td>1049</td>\n",
       "      <td>0829</td>\n",
       "      <td>0</td>\n",
       "    </tr>\n",
       "  </tbody>\n",
       "</table>\n",
       "</div>"
      ],
      "text/plain": [
       "   user_id  item_id  cat_id  merchant_id  brand_id time_stamp  action_type\n",
       "0   328862   323294     833         2882      2661       0829            0\n",
       "1   328862   844400    1271         2882      2661       0829            0\n",
       "2   328862   575153    1271         2882      2661       0829            0\n",
       "3   328862   996875    1271         2882      2661       0829            0\n",
       "4   328862  1086186    1271         1253      1049       0829            0"
      ]
     },
     "execution_count": 27,
     "metadata": {},
     "output_type": "execute_result"
    }
   ],
   "source": [
    "get_memory(user_log)\n",
    "user_log.head()"
   ]
  },
  {
   "cell_type": "code",
   "execution_count": 28,
   "metadata": {
    "ExecuteTime": {
     "end_time": "2021-02-28T00:38:21.696758Z",
     "start_time": "2021-02-28T00:38:15.371942Z"
    }
   },
   "outputs": [
    {
     "data": {
      "text/html": [
       "<div>\n",
       "<style scoped>\n",
       "    .dataframe tbody tr th:only-of-type {\n",
       "        vertical-align: middle;\n",
       "    }\n",
       "\n",
       "    .dataframe tbody tr th {\n",
       "        vertical-align: top;\n",
       "    }\n",
       "\n",
       "    .dataframe thead th {\n",
       "        text-align: right;\n",
       "    }\n",
       "</style>\n",
       "<table border=\"1\" class=\"dataframe\">\n",
       "  <thead>\n",
       "    <tr style=\"text-align: right;\">\n",
       "      <th></th>\n",
       "      <th>user_id</th>\n",
       "      <th>item_id</th>\n",
       "      <th>cat_id</th>\n",
       "      <th>merchant_id</th>\n",
       "      <th>brand_id</th>\n",
       "      <th>time_stamp</th>\n",
       "      <th>action_type</th>\n",
       "    </tr>\n",
       "  </thead>\n",
       "  <tbody>\n",
       "    <tr>\n",
       "      <th>54925325</th>\n",
       "      <td>208016</td>\n",
       "      <td>107662</td>\n",
       "      <td>898</td>\n",
       "      <td>1346</td>\n",
       "      <td>7995</td>\n",
       "      <td>1900-11-10</td>\n",
       "      <td>0</td>\n",
       "    </tr>\n",
       "    <tr>\n",
       "      <th>54925326</th>\n",
       "      <td>208016</td>\n",
       "      <td>1058313</td>\n",
       "      <td>898</td>\n",
       "      <td>1346</td>\n",
       "      <td>7995</td>\n",
       "      <td>1900-11-10</td>\n",
       "      <td>0</td>\n",
       "    </tr>\n",
       "    <tr>\n",
       "      <th>54925327</th>\n",
       "      <td>208016</td>\n",
       "      <td>449814</td>\n",
       "      <td>898</td>\n",
       "      <td>983</td>\n",
       "      <td>7995</td>\n",
       "      <td>1900-11-10</td>\n",
       "      <td>0</td>\n",
       "    </tr>\n",
       "    <tr>\n",
       "      <th>54925328</th>\n",
       "      <td>208016</td>\n",
       "      <td>634856</td>\n",
       "      <td>898</td>\n",
       "      <td>1346</td>\n",
       "      <td>7995</td>\n",
       "      <td>1900-11-10</td>\n",
       "      <td>0</td>\n",
       "    </tr>\n",
       "    <tr>\n",
       "      <th>54925329</th>\n",
       "      <td>208016</td>\n",
       "      <td>272094</td>\n",
       "      <td>898</td>\n",
       "      <td>1346</td>\n",
       "      <td>7995</td>\n",
       "      <td>1900-11-11</td>\n",
       "      <td>0</td>\n",
       "    </tr>\n",
       "  </tbody>\n",
       "</table>\n",
       "</div>"
      ],
      "text/plain": [
       "          user_id  item_id  cat_id  merchant_id  brand_id time_stamp  \\\n",
       "54925325   208016   107662     898         1346      7995 1900-11-10   \n",
       "54925326   208016  1058313     898         1346      7995 1900-11-10   \n",
       "54925327   208016   449814     898          983      7995 1900-11-10   \n",
       "54925328   208016   634856     898         1346      7995 1900-11-10   \n",
       "54925329   208016   272094     898         1346      7995 1900-11-11   \n",
       "\n",
       "          action_type  \n",
       "54925325            0  \n",
       "54925326            0  \n",
       "54925327            0  \n",
       "54925328            0  \n",
       "54925329            0  "
      ]
     },
     "execution_count": 28,
     "metadata": {},
     "output_type": "execute_result"
    }
   ],
   "source": [
    "# 时间字段格式化\n",
    "user_log['time_stamp'] = pd.to_datetime(user_log['time_stamp'], format='%m%d')\n",
    "user_log.tail()"
   ]
  },
  {
   "cell_type": "code",
   "execution_count": 29,
   "metadata": {
    "ExecuteTime": {
     "end_time": "2021-02-28T00:38:21.746402Z",
     "start_time": "2021-02-28T00:38:21.700323Z"
    }
   },
   "outputs": [
    {
     "data": {
      "text/plain": [
       "user_id             0\n",
       "merchant_id         0\n",
       "origin              0\n",
       "age_range           0\n",
       "gender              0\n",
       "label          261477\n",
       "dtype: int64"
      ]
     },
     "execution_count": 29,
     "metadata": {},
     "output_type": "execute_result"
    }
   ],
   "source": [
    "matrix.isna().sum().sort_values()"
   ]
  },
  {
   "cell_type": "code",
   "execution_count": 30,
   "metadata": {
    "ExecuteTime": {
     "end_time": "2021-02-28T00:38:21.943334Z",
     "start_time": "2021-02-28T00:38:21.750852Z"
    }
   },
   "outputs": [
    {
     "data": {
      "text/plain": [
       "120"
      ]
     },
     "execution_count": 30,
     "metadata": {},
     "output_type": "execute_result"
    }
   ],
   "source": [
    "import gc\n",
    "del user_info, train_data1\n",
    "gc.collect()"
   ]
  },
  {
   "cell_type": "code",
   "execution_count": 31,
   "metadata": {
    "ExecuteTime": {
     "end_time": "2021-02-28T00:38:21.959002Z",
     "start_time": "2021-02-28T00:38:21.947189Z"
    }
   },
   "outputs": [
    {
     "data": {
      "text/html": [
       "<div>\n",
       "<style scoped>\n",
       "    .dataframe tbody tr th:only-of-type {\n",
       "        vertical-align: middle;\n",
       "    }\n",
       "\n",
       "    .dataframe tbody tr th {\n",
       "        vertical-align: top;\n",
       "    }\n",
       "\n",
       "    .dataframe thead th {\n",
       "        text-align: right;\n",
       "    }\n",
       "</style>\n",
       "<table border=\"1\" class=\"dataframe\">\n",
       "  <thead>\n",
       "    <tr style=\"text-align: right;\">\n",
       "      <th></th>\n",
       "      <th>user_id</th>\n",
       "      <th>merchant_id</th>\n",
       "      <th>label</th>\n",
       "      <th>origin</th>\n",
       "      <th>age_range</th>\n",
       "      <th>gender</th>\n",
       "    </tr>\n",
       "  </thead>\n",
       "  <tbody>\n",
       "    <tr>\n",
       "      <th>0</th>\n",
       "      <td>34176</td>\n",
       "      <td>3906</td>\n",
       "      <td>0.0</td>\n",
       "      <td>train</td>\n",
       "      <td>6</td>\n",
       "      <td>0</td>\n",
       "    </tr>\n",
       "    <tr>\n",
       "      <th>1</th>\n",
       "      <td>34176</td>\n",
       "      <td>121</td>\n",
       "      <td>0.0</td>\n",
       "      <td>train</td>\n",
       "      <td>6</td>\n",
       "      <td>0</td>\n",
       "    </tr>\n",
       "  </tbody>\n",
       "</table>\n",
       "</div>"
      ],
      "text/plain": [
       "   user_id  merchant_id  label origin  age_range  gender\n",
       "0    34176         3906    0.0  train          6       0\n",
       "1    34176          121    0.0  train          6       0"
      ]
     },
     "execution_count": 31,
     "metadata": {},
     "output_type": "execute_result"
    }
   ],
   "source": [
    "matrix.head(2)"
   ]
  },
  {
   "cell_type": "markdown",
   "metadata": {},
   "source": [
    "# 2 用户特征处理"
   ]
  },
  {
   "cell_type": "code",
   "execution_count": 32,
   "metadata": {
    "ExecuteTime": {
     "end_time": "2021-02-28T00:38:21.989624Z",
     "start_time": "2021-02-28T00:38:21.968861Z"
    }
   },
   "outputs": [],
   "source": [
    "\"\"\"将标题2、3、4的过程封装为了函数，处理后得到的特征与下面的子标题下代码块的处理结果相同。\n",
    "为了练习，实际并未调用该函数进行处理。\n",
    "\"\"\"\n",
    "def generate_interaction_feats(data, groups, merge_on=[\"user_id\"], prex='u'):\n",
    "    df = data.copy()\n",
    "    temp = groups.size().reset_index().rename(columns={0: f'{prex}1'})\n",
    "    \n",
    "    df = df.merge(temp, on=merge_on, how=\"left\")\n",
    "    nunique_cols = ['user_id', 'item_id', 'cat_id', 'merchant_id', 'brand_id']\n",
    "    for c in merge_on:\n",
    "        nunique_cols.remove(c)  \n",
    "    n = int(df.columns.tolist()[-1][-1])\n",
    "    for i, col in enumerate(nunique_cols):\n",
    "        temp = groups[col].agg([(f'{prex}{i + n + 1}', 'nunique')]).reset_index()\n",
    "        df = df.merge(temp, on=merge_on, how='left')\n",
    "    \n",
    "    n = int(df.columns.tolist()[-1][-1])\n",
    "    if len(merge_on) == 1 and merge_on[0] == 'merchant_id':\n",
    "        # 按照merchant_id 统计随机负采样的个数\n",
    "        temp = train_data[train_data['label'] == -1].groupby(\n",
    "            ['merchant_id']).size().reset_index().rename(columns={0: f'{prex}{n + 1}'})\n",
    "        df = df.merge(temp, on='merchant_id', how='left')\n",
    "\n",
    "    else:\n",
    "        # 最早有行为时间，和最近一次有行为时间\n",
    "        temp = groups['time_stamp'].agg([('F_time', 'min'),\n",
    "                                         ('L_time', 'max')]).reset_index()\n",
    "        \n",
    "        temp[f'{prex}{n + 1}'] = (temp['L_time'] - temp['F_time']).dt.days\n",
    "        df = df.merge(temp.drop(columns=['F_time', 'L_time']), on=merge_on, how='left')\n",
    "    \n",
    "\n",
    "    # action_type 包含{0, 1, 2, 3}，0表示单击，1表示添加到购物车，2表示购买，3表示添加到收藏夹\n",
    "    n = int(df.columns.tolist()[-1][-1])\n",
    "    tmp_dic = {\n",
    "        i: f'{prex}{i + n + 1}'\n",
    "        for i in range(4)\n",
    "    }\n",
    "    temp = groups['action_type'].value_counts().unstack().reset_index()\n",
    "    temp = temp.rename(columns=tmp_dic)\n",
    "    df = df.merge(temp, on=merge_on, how='left')\n",
    "    return df"
   ]
  },
  {
   "cell_type": "code",
   "execution_count": 33,
   "metadata": {
    "ExecuteTime": {
     "end_time": "2021-02-28T00:38:23.095339Z",
     "start_time": "2021-02-28T00:38:21.996236Z"
    }
   },
   "outputs": [],
   "source": [
    "groups = user_log.groupby(\"user_id\")\n",
    "\n",
    "# matrix = generate_interaction_feats(matrix, groups, merge_on=\"user_id\", prex='u')\n",
    "# matrix.head()"
   ]
  },
  {
   "cell_type": "markdown",
   "metadata": {},
   "source": [
    "## 2.1 每个用户交互行为数量u1"
   ]
  },
  {
   "cell_type": "code",
   "execution_count": 34,
   "metadata": {
    "ExecuteTime": {
     "end_time": "2021-02-28T00:38:24.613170Z",
     "start_time": "2021-02-28T00:38:23.097687Z"
    }
   },
   "outputs": [
    {
     "data": {
      "text/html": [
       "<div>\n",
       "<style scoped>\n",
       "    .dataframe tbody tr th:only-of-type {\n",
       "        vertical-align: middle;\n",
       "    }\n",
       "\n",
       "    .dataframe tbody tr th {\n",
       "        vertical-align: top;\n",
       "    }\n",
       "\n",
       "    .dataframe thead th {\n",
       "        text-align: right;\n",
       "    }\n",
       "</style>\n",
       "<table border=\"1\" class=\"dataframe\">\n",
       "  <thead>\n",
       "    <tr style=\"text-align: right;\">\n",
       "      <th></th>\n",
       "      <th>user_id</th>\n",
       "      <th>u1</th>\n",
       "    </tr>\n",
       "  </thead>\n",
       "  <tbody>\n",
       "    <tr>\n",
       "      <th>0</th>\n",
       "      <td>1</td>\n",
       "      <td>33</td>\n",
       "    </tr>\n",
       "    <tr>\n",
       "      <th>1</th>\n",
       "      <td>2</td>\n",
       "      <td>63</td>\n",
       "    </tr>\n",
       "  </tbody>\n",
       "</table>\n",
       "</div>"
      ],
      "text/plain": [
       "   user_id  u1\n",
       "0        1  33\n",
       "1        2  63"
      ]
     },
     "execution_count": 34,
     "metadata": {},
     "output_type": "execute_result"
    }
   ],
   "source": [
    "temp = groups.size().reset_index().rename(columns={0: 'u1'})\n",
    "temp.head(2)"
   ]
  },
  {
   "cell_type": "code",
   "execution_count": 35,
   "metadata": {
    "ExecuteTime": {
     "end_time": "2021-02-28T00:38:24.659901Z",
     "start_time": "2021-02-28T00:38:24.616148Z"
    }
   },
   "outputs": [
    {
     "data": {
      "text/plain": [
       "424170"
      ]
     },
     "execution_count": 35,
     "metadata": {},
     "output_type": "execute_result"
    }
   ],
   "source": [
    "temp['user_id'].nunique()"
   ]
  },
  {
   "cell_type": "code",
   "execution_count": 36,
   "metadata": {
    "ExecuteTime": {
     "end_time": "2021-02-28T00:38:24.894143Z",
     "start_time": "2021-02-28T00:38:24.662670Z"
    }
   },
   "outputs": [
    {
     "data": {
      "text/html": [
       "<div>\n",
       "<style scoped>\n",
       "    .dataframe tbody tr th:only-of-type {\n",
       "        vertical-align: middle;\n",
       "    }\n",
       "\n",
       "    .dataframe tbody tr th {\n",
       "        vertical-align: top;\n",
       "    }\n",
       "\n",
       "    .dataframe thead th {\n",
       "        text-align: right;\n",
       "    }\n",
       "</style>\n",
       "<table border=\"1\" class=\"dataframe\">\n",
       "  <thead>\n",
       "    <tr style=\"text-align: right;\">\n",
       "      <th></th>\n",
       "      <th>user_id</th>\n",
       "      <th>merchant_id</th>\n",
       "      <th>label</th>\n",
       "      <th>origin</th>\n",
       "      <th>age_range</th>\n",
       "      <th>gender</th>\n",
       "      <th>u1</th>\n",
       "    </tr>\n",
       "  </thead>\n",
       "  <tbody>\n",
       "    <tr>\n",
       "      <th>0</th>\n",
       "      <td>34176</td>\n",
       "      <td>3906</td>\n",
       "      <td>0.0</td>\n",
       "      <td>train</td>\n",
       "      <td>6</td>\n",
       "      <td>0</td>\n",
       "      <td>451</td>\n",
       "    </tr>\n",
       "    <tr>\n",
       "      <th>1</th>\n",
       "      <td>34176</td>\n",
       "      <td>121</td>\n",
       "      <td>0.0</td>\n",
       "      <td>train</td>\n",
       "      <td>6</td>\n",
       "      <td>0</td>\n",
       "      <td>451</td>\n",
       "    </tr>\n",
       "  </tbody>\n",
       "</table>\n",
       "</div>"
      ],
      "text/plain": [
       "   user_id  merchant_id  label origin  age_range  gender   u1\n",
       "0    34176         3906    0.0  train          6       0  451\n",
       "1    34176          121    0.0  train          6       0  451"
      ]
     },
     "execution_count": 36,
     "metadata": {},
     "output_type": "execute_result"
    }
   ],
   "source": [
    "# 将数量拼接进matrix中\n",
    "matrix = matrix.merge(temp, on=\"user_id\", how=\"left\")\n",
    "matrix.head(2)"
   ]
  },
  {
   "cell_type": "code",
   "execution_count": 37,
   "metadata": {
    "ExecuteTime": {
     "end_time": "2021-02-28T00:38:24.911080Z",
     "start_time": "2021-02-28T00:38:24.896933Z"
    }
   },
   "outputs": [
    {
     "data": {
      "text/plain": [
       "522341"
      ]
     },
     "execution_count": 37,
     "metadata": {},
     "output_type": "execute_result"
    }
   ],
   "source": [
    "matrix['u1'].notnull().sum()"
   ]
  },
  {
   "cell_type": "markdown",
   "metadata": {},
   "source": [
    "## 2.2 每个用户对多少商品有行为"
   ]
  },
  {
   "cell_type": "code",
   "execution_count": 38,
   "metadata": {
    "ExecuteTime": {
     "end_time": "2021-02-28T00:38:51.993759Z",
     "start_time": "2021-02-28T00:38:24.918151Z"
    }
   },
   "outputs": [
    {
     "data": {
      "text/html": [
       "<div>\n",
       "<style scoped>\n",
       "    .dataframe tbody tr th:only-of-type {\n",
       "        vertical-align: middle;\n",
       "    }\n",
       "\n",
       "    .dataframe tbody tr th {\n",
       "        vertical-align: top;\n",
       "    }\n",
       "\n",
       "    .dataframe thead th {\n",
       "        text-align: right;\n",
       "    }\n",
       "</style>\n",
       "<table border=\"1\" class=\"dataframe\">\n",
       "  <thead>\n",
       "    <tr style=\"text-align: right;\">\n",
       "      <th></th>\n",
       "      <th>u2</th>\n",
       "    </tr>\n",
       "    <tr>\n",
       "      <th>user_id</th>\n",
       "      <th></th>\n",
       "    </tr>\n",
       "  </thead>\n",
       "  <tbody>\n",
       "    <tr>\n",
       "      <th>1</th>\n",
       "      <td>12</td>\n",
       "    </tr>\n",
       "    <tr>\n",
       "      <th>2</th>\n",
       "      <td>43</td>\n",
       "    </tr>\n",
       "    <tr>\n",
       "      <th>3</th>\n",
       "      <td>45</td>\n",
       "    </tr>\n",
       "    <tr>\n",
       "      <th>4</th>\n",
       "      <td>28</td>\n",
       "    </tr>\n",
       "    <tr>\n",
       "      <th>5</th>\n",
       "      <td>87</td>\n",
       "    </tr>\n",
       "    <tr>\n",
       "      <th>...</th>\n",
       "      <td>...</td>\n",
       "    </tr>\n",
       "    <tr>\n",
       "      <th>424166</th>\n",
       "      <td>48</td>\n",
       "    </tr>\n",
       "    <tr>\n",
       "      <th>424167</th>\n",
       "      <td>15</td>\n",
       "    </tr>\n",
       "    <tr>\n",
       "      <th>424168</th>\n",
       "      <td>160</td>\n",
       "    </tr>\n",
       "    <tr>\n",
       "      <th>424169</th>\n",
       "      <td>176</td>\n",
       "    </tr>\n",
       "    <tr>\n",
       "      <th>424170</th>\n",
       "      <td>15</td>\n",
       "    </tr>\n",
       "  </tbody>\n",
       "</table>\n",
       "<p>424170 rows × 1 columns</p>\n",
       "</div>"
      ],
      "text/plain": [
       "          u2\n",
       "user_id     \n",
       "1         12\n",
       "2         43\n",
       "3         45\n",
       "4         28\n",
       "5         87\n",
       "...      ...\n",
       "424166    48\n",
       "424167    15\n",
       "424168   160\n",
       "424169   176\n",
       "424170    15\n",
       "\n",
       "[424170 rows x 1 columns]"
      ]
     },
     "execution_count": 38,
     "metadata": {},
     "output_type": "execute_result"
    }
   ],
   "source": [
    "groups['item_id'].agg([('u2', 'nunique')])"
   ]
  },
  {
   "cell_type": "code",
   "execution_count": 39,
   "metadata": {
    "ExecuteTime": {
     "end_time": "2021-02-28T00:39:19.625893Z",
     "start_time": "2021-02-28T00:38:51.996440Z"
    }
   },
   "outputs": [],
   "source": [
    "# 使用agg (aggregation)基于列的聚合操作，统计唯一值个数 item_id, cat_id, merchant_id, brand_id\n",
    "temp = groups['item_id'].agg([('u2', 'nunique')]).reset_index()\n",
    "matrix = matrix.merge(temp, on='user_id', how='left')"
   ]
  },
  {
   "cell_type": "markdown",
   "metadata": {},
   "source": [
    "## 2.3 每个用户对多少个类目有行为"
   ]
  },
  {
   "cell_type": "code",
   "execution_count": 40,
   "metadata": {
    "ExecuteTime": {
     "end_time": "2021-02-28T00:39:34.852898Z",
     "start_time": "2021-02-28T00:39:19.628116Z"
    }
   },
   "outputs": [],
   "source": [
    "temp = groups['cat_id'].agg([('u3', 'nunique')]).reset_index()\n",
    "matrix = matrix.merge(temp, on='user_id', how='left')"
   ]
  },
  {
   "cell_type": "markdown",
   "metadata": {},
   "source": [
    "## 2.4 每个用户对多少商家有行为"
   ]
  },
  {
   "cell_type": "code",
   "execution_count": 41,
   "metadata": {
    "ExecuteTime": {
     "end_time": "2021-02-28T00:39:52.297774Z",
     "start_time": "2021-02-28T00:39:34.855083Z"
    }
   },
   "outputs": [],
   "source": [
    "temp = groups['merchant_id'].agg([('u4', 'nunique')]).reset_index()\n",
    "matrix = matrix.merge(temp, on='user_id', how='left')"
   ]
  },
  {
   "cell_type": "code",
   "execution_count": 42,
   "metadata": {
    "ExecuteTime": {
     "end_time": "2021-02-28T00:39:52.324799Z",
     "start_time": "2021-02-28T00:39:52.300028Z"
    }
   },
   "outputs": [
    {
     "data": {
      "text/plain": [
       "11     14765\n",
       "12     14268\n",
       "10     14221\n",
       "13     14146\n",
       "9      14037\n",
       "       ...  \n",
       "791        1\n",
       "682        1\n",
       "537        1\n",
       "677        1\n",
       "623        1\n",
       "Name: u4, Length: 489, dtype: int64"
      ]
     },
     "execution_count": 42,
     "metadata": {},
     "output_type": "execute_result"
    }
   ],
   "source": [
    "matrix['u4'].value_counts()"
   ]
  },
  {
   "cell_type": "markdown",
   "metadata": {},
   "source": [
    "## 2.5 每个用户对多少个品牌有行为"
   ]
  },
  {
   "cell_type": "code",
   "execution_count": 43,
   "metadata": {
    "ExecuteTime": {
     "end_time": "2021-02-28T00:40:10.314243Z",
     "start_time": "2021-02-28T00:39:52.327898Z"
    }
   },
   "outputs": [],
   "source": [
    "temp = groups['brand_id'].agg([('u5', 'nunique')]).reset_index()\n",
    "matrix = matrix.merge(temp, on='user_id', how='left')"
   ]
  },
  {
   "cell_type": "markdown",
   "metadata": {},
   "source": [
    "## 2.6 按时间间隔统计特征"
   ]
  },
  {
   "cell_type": "code",
   "execution_count": 44,
   "metadata": {
    "ExecuteTime": {
     "end_time": "2021-02-28T00:40:10.933173Z",
     "start_time": "2021-02-28T00:40:10.319010Z"
    }
   },
   "outputs": [
    {
     "data": {
      "text/html": [
       "<div>\n",
       "<style scoped>\n",
       "    .dataframe tbody tr th:only-of-type {\n",
       "        vertical-align: middle;\n",
       "    }\n",
       "\n",
       "    .dataframe tbody tr th {\n",
       "        vertical-align: top;\n",
       "    }\n",
       "\n",
       "    .dataframe thead th {\n",
       "        text-align: right;\n",
       "    }\n",
       "</style>\n",
       "<table border=\"1\" class=\"dataframe\">\n",
       "  <thead>\n",
       "    <tr style=\"text-align: right;\">\n",
       "      <th></th>\n",
       "      <th>user_id</th>\n",
       "      <th>F_time</th>\n",
       "      <th>L_time</th>\n",
       "    </tr>\n",
       "  </thead>\n",
       "  <tbody>\n",
       "    <tr>\n",
       "      <th>0</th>\n",
       "      <td>1</td>\n",
       "      <td>1900-10-09</td>\n",
       "      <td>1900-11-11</td>\n",
       "    </tr>\n",
       "    <tr>\n",
       "      <th>1</th>\n",
       "      <td>2</td>\n",
       "      <td>1900-05-27</td>\n",
       "      <td>1900-11-11</td>\n",
       "    </tr>\n",
       "    <tr>\n",
       "      <th>2</th>\n",
       "      <td>3</td>\n",
       "      <td>1900-05-16</td>\n",
       "      <td>1900-11-11</td>\n",
       "    </tr>\n",
       "    <tr>\n",
       "      <th>3</th>\n",
       "      <td>4</td>\n",
       "      <td>1900-05-27</td>\n",
       "      <td>1900-11-11</td>\n",
       "    </tr>\n",
       "    <tr>\n",
       "      <th>4</th>\n",
       "      <td>5</td>\n",
       "      <td>1900-05-19</td>\n",
       "      <td>1900-11-11</td>\n",
       "    </tr>\n",
       "    <tr>\n",
       "      <th>...</th>\n",
       "      <td>...</td>\n",
       "      <td>...</td>\n",
       "      <td>...</td>\n",
       "    </tr>\n",
       "    <tr>\n",
       "      <th>424165</th>\n",
       "      <td>424166</td>\n",
       "      <td>1900-05-14</td>\n",
       "      <td>1900-11-11</td>\n",
       "    </tr>\n",
       "    <tr>\n",
       "      <th>424166</th>\n",
       "      <td>424167</td>\n",
       "      <td>1900-05-29</td>\n",
       "      <td>1900-11-11</td>\n",
       "    </tr>\n",
       "    <tr>\n",
       "      <th>424167</th>\n",
       "      <td>424168</td>\n",
       "      <td>1900-05-23</td>\n",
       "      <td>1900-11-11</td>\n",
       "    </tr>\n",
       "    <tr>\n",
       "      <th>424168</th>\n",
       "      <td>424169</td>\n",
       "      <td>1900-05-11</td>\n",
       "      <td>1900-11-11</td>\n",
       "    </tr>\n",
       "    <tr>\n",
       "      <th>424169</th>\n",
       "      <td>424170</td>\n",
       "      <td>1900-11-05</td>\n",
       "      <td>1900-11-11</td>\n",
       "    </tr>\n",
       "  </tbody>\n",
       "</table>\n",
       "<p>424170 rows × 3 columns</p>\n",
       "</div>"
      ],
      "text/plain": [
       "        user_id     F_time     L_time\n",
       "0             1 1900-10-09 1900-11-11\n",
       "1             2 1900-05-27 1900-11-11\n",
       "2             3 1900-05-16 1900-11-11\n",
       "3             4 1900-05-27 1900-11-11\n",
       "4             5 1900-05-19 1900-11-11\n",
       "...         ...        ...        ...\n",
       "424165   424166 1900-05-14 1900-11-11\n",
       "424166   424167 1900-05-29 1900-11-11\n",
       "424167   424168 1900-05-23 1900-11-11\n",
       "424168   424169 1900-05-11 1900-11-11\n",
       "424169   424170 1900-11-05 1900-11-11\n",
       "\n",
       "[424170 rows x 3 columns]"
      ]
     },
     "execution_count": 44,
     "metadata": {},
     "output_type": "execute_result"
    }
   ],
   "source": [
    "# 最早有行为时间，和最近一次有行为时间\n",
    "temp = groups['time_stamp'].agg([('F_time', 'min'), ('L_time', 'max')]).reset_index()\n",
    "temp"
   ]
  },
  {
   "cell_type": "code",
   "execution_count": 45,
   "metadata": {
    "ExecuteTime": {
     "end_time": "2021-02-28T00:40:11.150382Z",
     "start_time": "2021-02-28T00:40:10.935344Z"
    }
   },
   "outputs": [],
   "source": [
    "temp['u6'] = (temp['L_time'] - temp['F_time']).dt.days\n",
    "\n",
    "matrix = matrix.merge(temp[['user_id', 'u6']], on='user_id', how='left')\n"
   ]
  },
  {
   "cell_type": "markdown",
   "metadata": {},
   "source": [
    "## 2.7 统计操作类型为0，1，2，3的个数"
   ]
  },
  {
   "cell_type": "code",
   "execution_count": 46,
   "metadata": {
    "ExecuteTime": {
     "end_time": "2021-02-28T00:40:18.590215Z",
     "start_time": "2021-02-28T00:40:11.152561Z"
    },
    "run_control": {
     "marked": false
    }
   },
   "outputs": [
    {
     "data": {
      "text/html": [
       "<div>\n",
       "<style scoped>\n",
       "    .dataframe tbody tr th:only-of-type {\n",
       "        vertical-align: middle;\n",
       "    }\n",
       "\n",
       "    .dataframe tbody tr th {\n",
       "        vertical-align: top;\n",
       "    }\n",
       "\n",
       "    .dataframe thead th {\n",
       "        text-align: right;\n",
       "    }\n",
       "</style>\n",
       "<table border=\"1\" class=\"dataframe\">\n",
       "  <thead>\n",
       "    <tr style=\"text-align: right;\">\n",
       "      <th>action_type</th>\n",
       "      <th>user_id</th>\n",
       "      <th>u7</th>\n",
       "      <th>u8</th>\n",
       "      <th>u9</th>\n",
       "      <th>u10</th>\n",
       "    </tr>\n",
       "  </thead>\n",
       "  <tbody>\n",
       "    <tr>\n",
       "      <th>0</th>\n",
       "      <td>1</td>\n",
       "      <td>27.0</td>\n",
       "      <td>NaN</td>\n",
       "      <td>6.0</td>\n",
       "      <td>NaN</td>\n",
       "    </tr>\n",
       "    <tr>\n",
       "      <th>1</th>\n",
       "      <td>2</td>\n",
       "      <td>47.0</td>\n",
       "      <td>NaN</td>\n",
       "      <td>14.0</td>\n",
       "      <td>2.0</td>\n",
       "    </tr>\n",
       "    <tr>\n",
       "      <th>2</th>\n",
       "      <td>3</td>\n",
       "      <td>63.0</td>\n",
       "      <td>NaN</td>\n",
       "      <td>4.0</td>\n",
       "      <td>1.0</td>\n",
       "    </tr>\n",
       "    <tr>\n",
       "      <th>3</th>\n",
       "      <td>4</td>\n",
       "      <td>49.0</td>\n",
       "      <td>NaN</td>\n",
       "      <td>1.0</td>\n",
       "      <td>NaN</td>\n",
       "    </tr>\n",
       "    <tr>\n",
       "      <th>4</th>\n",
       "      <td>5</td>\n",
       "      <td>150.0</td>\n",
       "      <td>NaN</td>\n",
       "      <td>13.0</td>\n",
       "      <td>10.0</td>\n",
       "    </tr>\n",
       "  </tbody>\n",
       "</table>\n",
       "</div>"
      ],
      "text/plain": [
       "action_type  user_id     u7  u8    u9   u10\n",
       "0                  1   27.0 NaN   6.0   NaN\n",
       "1                  2   47.0 NaN  14.0   2.0\n",
       "2                  3   63.0 NaN   4.0   1.0\n",
       "3                  4   49.0 NaN   1.0   NaN\n",
       "4                  5  150.0 NaN  13.0  10.0"
      ]
     },
     "execution_count": 46,
     "metadata": {},
     "output_type": "execute_result"
    }
   ],
   "source": [
    "# action_type 包含{0, 1, 2, 3}，0表示单击，1表示添加到购物车，2表示购买，3表示添加到收藏夹\n",
    "temp = groups['action_type'].value_counts().unstack().reset_index().rename(\n",
    "    columns={\n",
    "        0: 'u7',   # 0表示单击\n",
    "        1: 'u8',   # 1表示添加到购物车\n",
    "        2: 'u9',   # 2表示购买\n",
    "        3: 'u10'   # 3表示添加到收藏夹\n",
    "    })\n",
    "temp.head()"
   ]
  },
  {
   "cell_type": "code",
   "execution_count": 47,
   "metadata": {
    "ExecuteTime": {
     "end_time": "2021-02-28T00:40:18.855008Z",
     "start_time": "2021-02-28T00:40:18.593069Z"
    }
   },
   "outputs": [
    {
     "data": {
      "text/html": [
       "<div>\n",
       "<style scoped>\n",
       "    .dataframe tbody tr th:only-of-type {\n",
       "        vertical-align: middle;\n",
       "    }\n",
       "\n",
       "    .dataframe tbody tr th {\n",
       "        vertical-align: top;\n",
       "    }\n",
       "\n",
       "    .dataframe thead th {\n",
       "        text-align: right;\n",
       "    }\n",
       "</style>\n",
       "<table border=\"1\" class=\"dataframe\">\n",
       "  <thead>\n",
       "    <tr style=\"text-align: right;\">\n",
       "      <th></th>\n",
       "      <th>user_id</th>\n",
       "      <th>merchant_id</th>\n",
       "      <th>label</th>\n",
       "      <th>origin</th>\n",
       "      <th>age_range</th>\n",
       "      <th>gender</th>\n",
       "      <th>u1</th>\n",
       "      <th>u2</th>\n",
       "      <th>u3</th>\n",
       "      <th>u4</th>\n",
       "      <th>u5</th>\n",
       "      <th>u6</th>\n",
       "      <th>u7</th>\n",
       "      <th>u8</th>\n",
       "      <th>u9</th>\n",
       "      <th>u10</th>\n",
       "    </tr>\n",
       "  </thead>\n",
       "  <tbody>\n",
       "    <tr>\n",
       "      <th>0</th>\n",
       "      <td>34176</td>\n",
       "      <td>3906</td>\n",
       "      <td>0.0</td>\n",
       "      <td>train</td>\n",
       "      <td>6</td>\n",
       "      <td>0</td>\n",
       "      <td>451</td>\n",
       "      <td>256</td>\n",
       "      <td>45</td>\n",
       "      <td>109</td>\n",
       "      <td>108</td>\n",
       "      <td>174</td>\n",
       "      <td>410.0</td>\n",
       "      <td>NaN</td>\n",
       "      <td>34.0</td>\n",
       "      <td>7.0</td>\n",
       "    </tr>\n",
       "    <tr>\n",
       "      <th>1</th>\n",
       "      <td>34176</td>\n",
       "      <td>121</td>\n",
       "      <td>0.0</td>\n",
       "      <td>train</td>\n",
       "      <td>6</td>\n",
       "      <td>0</td>\n",
       "      <td>451</td>\n",
       "      <td>256</td>\n",
       "      <td>45</td>\n",
       "      <td>109</td>\n",
       "      <td>108</td>\n",
       "      <td>174</td>\n",
       "      <td>410.0</td>\n",
       "      <td>NaN</td>\n",
       "      <td>34.0</td>\n",
       "      <td>7.0</td>\n",
       "    </tr>\n",
       "    <tr>\n",
       "      <th>2</th>\n",
       "      <td>34176</td>\n",
       "      <td>4356</td>\n",
       "      <td>1.0</td>\n",
       "      <td>train</td>\n",
       "      <td>6</td>\n",
       "      <td>0</td>\n",
       "      <td>451</td>\n",
       "      <td>256</td>\n",
       "      <td>45</td>\n",
       "      <td>109</td>\n",
       "      <td>108</td>\n",
       "      <td>174</td>\n",
       "      <td>410.0</td>\n",
       "      <td>NaN</td>\n",
       "      <td>34.0</td>\n",
       "      <td>7.0</td>\n",
       "    </tr>\n",
       "  </tbody>\n",
       "</table>\n",
       "</div>"
      ],
      "text/plain": [
       "   user_id  merchant_id  label origin  age_range  gender   u1   u2  u3   u4  \\\n",
       "0    34176         3906    0.0  train          6       0  451  256  45  109   \n",
       "1    34176          121    0.0  train          6       0  451  256  45  109   \n",
       "2    34176         4356    1.0  train          6       0  451  256  45  109   \n",
       "\n",
       "    u5   u6     u7  u8    u9  u10  \n",
       "0  108  174  410.0 NaN  34.0  7.0  \n",
       "1  108  174  410.0 NaN  34.0  7.0  \n",
       "2  108  174  410.0 NaN  34.0  7.0  "
      ]
     },
     "execution_count": 47,
     "metadata": {},
     "output_type": "execute_result"
    }
   ],
   "source": [
    "matrix = matrix.merge(temp, on='user_id', how='left')\n",
    "matrix.head(3)"
   ]
  },
  {
   "cell_type": "markdown",
   "metadata": {},
   "source": [
    "# 3 商家特征处理"
   ]
  },
  {
   "cell_type": "code",
   "execution_count": 49,
   "metadata": {
    "ExecuteTime": {
     "end_time": "2021-02-28T00:40:18.914984Z",
     "start_time": "2021-02-28T00:40:18.884285Z"
    }
   },
   "outputs": [],
   "source": [
    "groups = user_log.groupby(['merchant_id'])"
   ]
  },
  {
   "cell_type": "code",
   "execution_count": 50,
   "metadata": {
    "ExecuteTime": {
     "end_time": "2021-02-28T00:40:18.920672Z",
     "start_time": "2021-02-28T00:40:18.917654Z"
    }
   },
   "outputs": [],
   "source": [
    "# tmp = generate_interaction_feats(matrix,\n",
    "#                                  groups,\n",
    "#                                  merge_on=[\"merchant_id\"],\n",
    "#                                  prex='m')\n",
    "# tmp"
   ]
  },
  {
   "cell_type": "markdown",
   "metadata": {},
   "source": [
    "## 3.1 每个商家被交互行为数量 m1"
   ]
  },
  {
   "cell_type": "code",
   "execution_count": 51,
   "metadata": {
    "ExecuteTime": {
     "end_time": "2021-02-28T00:40:20.562329Z",
     "start_time": "2021-02-28T00:40:18.923487Z"
    }
   },
   "outputs": [],
   "source": [
    "# 每个商家被交互行为数量 m1\n",
    "temp = groups.size().reset_index().rename(columns={0: 'm1'})\n",
    "matrix = matrix.merge(temp, on='merchant_id', how='left')"
   ]
  },
  {
   "cell_type": "code",
   "execution_count": 52,
   "metadata": {
    "ExecuteTime": {
     "end_time": "2021-02-28T00:40:20.584962Z",
     "start_time": "2021-02-28T00:40:20.564851Z"
    }
   },
   "outputs": [
    {
     "data": {
      "text/html": [
       "<div>\n",
       "<style scoped>\n",
       "    .dataframe tbody tr th:only-of-type {\n",
       "        vertical-align: middle;\n",
       "    }\n",
       "\n",
       "    .dataframe tbody tr th {\n",
       "        vertical-align: top;\n",
       "    }\n",
       "\n",
       "    .dataframe thead th {\n",
       "        text-align: right;\n",
       "    }\n",
       "</style>\n",
       "<table border=\"1\" class=\"dataframe\">\n",
       "  <thead>\n",
       "    <tr style=\"text-align: right;\">\n",
       "      <th></th>\n",
       "      <th>merchant_id</th>\n",
       "      <th>m1</th>\n",
       "    </tr>\n",
       "  </thead>\n",
       "  <tbody>\n",
       "    <tr>\n",
       "      <th>0</th>\n",
       "      <td>1</td>\n",
       "      <td>339140</td>\n",
       "    </tr>\n",
       "    <tr>\n",
       "      <th>1</th>\n",
       "      <td>2</td>\n",
       "      <td>2371</td>\n",
       "    </tr>\n",
       "    <tr>\n",
       "      <th>2</th>\n",
       "      <td>3</td>\n",
       "      <td>2645</td>\n",
       "    </tr>\n",
       "    <tr>\n",
       "      <th>3</th>\n",
       "      <td>4</td>\n",
       "      <td>3106</td>\n",
       "    </tr>\n",
       "    <tr>\n",
       "      <th>4</th>\n",
       "      <td>5</td>\n",
       "      <td>8192</td>\n",
       "    </tr>\n",
       "  </tbody>\n",
       "</table>\n",
       "</div>"
      ],
      "text/plain": [
       "   merchant_id      m1\n",
       "0            1  339140\n",
       "1            2    2371\n",
       "2            3    2645\n",
       "3            4    3106\n",
       "4            5    8192"
      ]
     },
     "execution_count": 52,
     "metadata": {},
     "output_type": "execute_result"
    }
   ],
   "source": [
    "temp.head()"
   ]
  },
  {
   "cell_type": "markdown",
   "metadata": {},
   "source": [
    "## 3.2 每个商家下被访问的用户数、商品数、类目数、品牌数"
   ]
  },
  {
   "cell_type": "code",
   "execution_count": 53,
   "metadata": {
    "ExecuteTime": {
     "end_time": "2021-02-28T00:41:38.380668Z",
     "start_time": "2021-02-28T00:40:20.590471Z"
    }
   },
   "outputs": [],
   "source": [
    "# 统计商家被交互的user_id, item_id, cat_id, brand_id 唯一值\n",
    "cols = ['user_id', 'item_id', 'cat_id', 'brand_id']\n",
    "temp = groups[cols].nunique().reset_index().rename(columns={\n",
    "    'user_id': 'm2',\n",
    "    'item_id': 'm3',\n",
    "    'cat_id': 'm4',\n",
    "    'brand_id': 'm5'\n",
    "})"
   ]
  },
  {
   "cell_type": "code",
   "execution_count": 54,
   "metadata": {
    "ExecuteTime": {
     "end_time": "2021-02-28T00:41:38.410673Z",
     "start_time": "2021-02-28T00:41:38.384769Z"
    }
   },
   "outputs": [
    {
     "data": {
      "text/html": [
       "<div>\n",
       "<style scoped>\n",
       "    .dataframe tbody tr th:only-of-type {\n",
       "        vertical-align: middle;\n",
       "    }\n",
       "\n",
       "    .dataframe tbody tr th {\n",
       "        vertical-align: top;\n",
       "    }\n",
       "\n",
       "    .dataframe thead th {\n",
       "        text-align: right;\n",
       "    }\n",
       "</style>\n",
       "<table border=\"1\" class=\"dataframe\">\n",
       "  <thead>\n",
       "    <tr style=\"text-align: right;\">\n",
       "      <th></th>\n",
       "      <th>merchant_id</th>\n",
       "      <th>m2</th>\n",
       "      <th>m3</th>\n",
       "      <th>m4</th>\n",
       "      <th>m5</th>\n",
       "    </tr>\n",
       "  </thead>\n",
       "  <tbody>\n",
       "    <tr>\n",
       "      <th>0</th>\n",
       "      <td>1</td>\n",
       "      <td>30796</td>\n",
       "      <td>2977</td>\n",
       "      <td>44</td>\n",
       "      <td>3</td>\n",
       "    </tr>\n",
       "    <tr>\n",
       "      <th>1</th>\n",
       "      <td>2</td>\n",
       "      <td>936</td>\n",
       "      <td>154</td>\n",
       "      <td>10</td>\n",
       "      <td>2</td>\n",
       "    </tr>\n",
       "    <tr>\n",
       "      <th>2</th>\n",
       "      <td>3</td>\n",
       "      <td>1136</td>\n",
       "      <td>171</td>\n",
       "      <td>4</td>\n",
       "      <td>2</td>\n",
       "    </tr>\n",
       "  </tbody>\n",
       "</table>\n",
       "</div>"
      ],
      "text/plain": [
       "   merchant_id     m2    m3  m4  m5\n",
       "0            1  30796  2977  44   3\n",
       "1            2    936   154  10   2\n",
       "2            3   1136   171   4   2"
      ]
     },
     "execution_count": 54,
     "metadata": {},
     "output_type": "execute_result"
    }
   ],
   "source": [
    "temp.head(3)"
   ]
  },
  {
   "cell_type": "code",
   "execution_count": 55,
   "metadata": {
    "ExecuteTime": {
     "end_time": "2021-02-28T00:41:38.660893Z",
     "start_time": "2021-02-28T00:41:38.414267Z"
    }
   },
   "outputs": [],
   "source": [
    "matrix = matrix.merge(temp, on='merchant_id', how='left')"
   ]
  },
  {
   "cell_type": "markdown",
   "metadata": {},
   "source": [
    "## 3.3 按照merchant_id 统计随机负采样的个数"
   ]
  },
  {
   "cell_type": "code",
   "execution_count": 56,
   "metadata": {
    "ExecuteTime": {
     "end_time": "2021-02-28T00:41:43.517114Z",
     "start_time": "2021-02-28T00:41:38.663539Z"
    }
   },
   "outputs": [
    {
     "data": {
      "text/html": [
       "<div>\n",
       "<style scoped>\n",
       "    .dataframe tbody tr th:only-of-type {\n",
       "        vertical-align: middle;\n",
       "    }\n",
       "\n",
       "    .dataframe tbody tr th {\n",
       "        vertical-align: top;\n",
       "    }\n",
       "\n",
       "    .dataframe thead th {\n",
       "        text-align: right;\n",
       "    }\n",
       "</style>\n",
       "<table border=\"1\" class=\"dataframe\">\n",
       "  <thead>\n",
       "    <tr style=\"text-align: right;\">\n",
       "      <th></th>\n",
       "      <th>user_id</th>\n",
       "      <th>merchant_id</th>\n",
       "      <th>label</th>\n",
       "      <th>origin</th>\n",
       "      <th>age_range</th>\n",
       "      <th>gender</th>\n",
       "      <th>u1</th>\n",
       "      <th>u2</th>\n",
       "      <th>u3</th>\n",
       "      <th>u4</th>\n",
       "      <th>...</th>\n",
       "      <th>u7</th>\n",
       "      <th>u8</th>\n",
       "      <th>u9</th>\n",
       "      <th>u10</th>\n",
       "      <th>m1</th>\n",
       "      <th>m2</th>\n",
       "      <th>m3</th>\n",
       "      <th>m4</th>\n",
       "      <th>m5</th>\n",
       "      <th>m6</th>\n",
       "    </tr>\n",
       "  </thead>\n",
       "  <tbody>\n",
       "    <tr>\n",
       "      <th>0</th>\n",
       "      <td>34176</td>\n",
       "      <td>3906</td>\n",
       "      <td>0.0</td>\n",
       "      <td>train</td>\n",
       "      <td>6</td>\n",
       "      <td>0</td>\n",
       "      <td>451</td>\n",
       "      <td>256</td>\n",
       "      <td>45</td>\n",
       "      <td>109</td>\n",
       "      <td>...</td>\n",
       "      <td>410.0</td>\n",
       "      <td>NaN</td>\n",
       "      <td>34.0</td>\n",
       "      <td>7.0</td>\n",
       "      <td>16269</td>\n",
       "      <td>5819</td>\n",
       "      <td>308</td>\n",
       "      <td>20</td>\n",
       "      <td>2</td>\n",
       "      <td>2861</td>\n",
       "    </tr>\n",
       "    <tr>\n",
       "      <th>1</th>\n",
       "      <td>34176</td>\n",
       "      <td>121</td>\n",
       "      <td>0.0</td>\n",
       "      <td>train</td>\n",
       "      <td>6</td>\n",
       "      <td>0</td>\n",
       "      <td>451</td>\n",
       "      <td>256</td>\n",
       "      <td>45</td>\n",
       "      <td>109</td>\n",
       "      <td>...</td>\n",
       "      <td>410.0</td>\n",
       "      <td>NaN</td>\n",
       "      <td>34.0</td>\n",
       "      <td>7.0</td>\n",
       "      <td>79865</td>\n",
       "      <td>10931</td>\n",
       "      <td>1179</td>\n",
       "      <td>26</td>\n",
       "      <td>2</td>\n",
       "      <td>4530</td>\n",
       "    </tr>\n",
       "    <tr>\n",
       "      <th>2</th>\n",
       "      <td>34176</td>\n",
       "      <td>4356</td>\n",
       "      <td>1.0</td>\n",
       "      <td>train</td>\n",
       "      <td>6</td>\n",
       "      <td>0</td>\n",
       "      <td>451</td>\n",
       "      <td>256</td>\n",
       "      <td>45</td>\n",
       "      <td>109</td>\n",
       "      <td>...</td>\n",
       "      <td>410.0</td>\n",
       "      <td>NaN</td>\n",
       "      <td>34.0</td>\n",
       "      <td>7.0</td>\n",
       "      <td>7269</td>\n",
       "      <td>2281</td>\n",
       "      <td>67</td>\n",
       "      <td>15</td>\n",
       "      <td>2</td>\n",
       "      <td>1088</td>\n",
       "    </tr>\n",
       "  </tbody>\n",
       "</table>\n",
       "<p>3 rows × 22 columns</p>\n",
       "</div>"
      ],
      "text/plain": [
       "   user_id  merchant_id  label origin  age_range  gender   u1   u2  u3   u4  \\\n",
       "0    34176         3906    0.0  train          6       0  451  256  45  109   \n",
       "1    34176          121    0.0  train          6       0  451  256  45  109   \n",
       "2    34176         4356    1.0  train          6       0  451  256  45  109   \n",
       "\n",
       "   ...     u7  u8    u9  u10     m1     m2    m3  m4  m5    m6  \n",
       "0  ...  410.0 NaN  34.0  7.0  16269   5819   308  20   2  2861  \n",
       "1  ...  410.0 NaN  34.0  7.0  79865  10931  1179  26   2  4530  \n",
       "2  ...  410.0 NaN  34.0  7.0   7269   2281    67  15   2  1088  \n",
       "\n",
       "[3 rows x 22 columns]"
      ]
     },
     "execution_count": 56,
     "metadata": {},
     "output_type": "execute_result"
    }
   ],
   "source": [
    "# 按照merchant_id 统计随机负采样的个数\n",
    "temp = train_data[train_data['label'] == -1].groupby(\n",
    "    ['merchant_id']).size().reset_index().rename(columns={0: 'm6'})\n",
    "\n",
    "matrix = matrix.merge(temp, on='merchant_id', how='left')\n",
    "matrix.head(3)"
   ]
  },
  {
   "cell_type": "markdown",
   "metadata": {},
   "source": [
    "## 3.4 统计商家被交互的操作类型个数"
   ]
  },
  {
   "cell_type": "code",
   "execution_count": 57,
   "metadata": {
    "ExecuteTime": {
     "end_time": "2021-02-28T00:41:58.670452Z",
     "start_time": "2021-02-28T00:41:43.520941Z"
    }
   },
   "outputs": [],
   "source": [
    "# 统计商家被交互的action_type 唯一值\n",
    "temp = groups['action_type'].value_counts().unstack().reset_index().rename(\n",
    "    columns={\n",
    "        0: 'm7',\n",
    "        1: 'm8',\n",
    "        2: 'm9',\n",
    "        3: 'm10'\n",
    "    })\n",
    "\n",
    "matrix = matrix.merge(temp, on='merchant_id', how='left')"
   ]
  },
  {
   "cell_type": "code",
   "execution_count": 58,
   "metadata": {
    "ExecuteTime": {
     "end_time": "2021-02-28T00:41:58.710238Z",
     "start_time": "2021-02-28T00:41:58.673502Z"
    }
   },
   "outputs": [
    {
     "data": {
      "text/html": [
       "<div>\n",
       "<style scoped>\n",
       "    .dataframe tbody tr th:only-of-type {\n",
       "        vertical-align: middle;\n",
       "    }\n",
       "\n",
       "    .dataframe tbody tr th {\n",
       "        vertical-align: top;\n",
       "    }\n",
       "\n",
       "    .dataframe thead th {\n",
       "        text-align: right;\n",
       "    }\n",
       "</style>\n",
       "<table border=\"1\" class=\"dataframe\">\n",
       "  <thead>\n",
       "    <tr style=\"text-align: right;\">\n",
       "      <th></th>\n",
       "      <th>user_id</th>\n",
       "      <th>merchant_id</th>\n",
       "      <th>label</th>\n",
       "      <th>origin</th>\n",
       "      <th>age_range</th>\n",
       "      <th>gender</th>\n",
       "      <th>u1</th>\n",
       "      <th>u2</th>\n",
       "      <th>u3</th>\n",
       "      <th>u4</th>\n",
       "      <th>...</th>\n",
       "      <th>m1</th>\n",
       "      <th>m2</th>\n",
       "      <th>m3</th>\n",
       "      <th>m4</th>\n",
       "      <th>m5</th>\n",
       "      <th>m6</th>\n",
       "      <th>m7</th>\n",
       "      <th>m8</th>\n",
       "      <th>m9</th>\n",
       "      <th>m10</th>\n",
       "    </tr>\n",
       "  </thead>\n",
       "  <tbody>\n",
       "    <tr>\n",
       "      <th>0</th>\n",
       "      <td>34176</td>\n",
       "      <td>3906</td>\n",
       "      <td>0.0</td>\n",
       "      <td>train</td>\n",
       "      <td>6</td>\n",
       "      <td>0</td>\n",
       "      <td>451</td>\n",
       "      <td>256</td>\n",
       "      <td>45</td>\n",
       "      <td>109</td>\n",
       "      <td>...</td>\n",
       "      <td>16269</td>\n",
       "      <td>5819</td>\n",
       "      <td>308</td>\n",
       "      <td>20</td>\n",
       "      <td>2</td>\n",
       "      <td>2861</td>\n",
       "      <td>14870.0</td>\n",
       "      <td>28.0</td>\n",
       "      <td>410.0</td>\n",
       "      <td>961.0</td>\n",
       "    </tr>\n",
       "    <tr>\n",
       "      <th>1</th>\n",
       "      <td>34176</td>\n",
       "      <td>121</td>\n",
       "      <td>0.0</td>\n",
       "      <td>train</td>\n",
       "      <td>6</td>\n",
       "      <td>0</td>\n",
       "      <td>451</td>\n",
       "      <td>256</td>\n",
       "      <td>45</td>\n",
       "      <td>109</td>\n",
       "      <td>...</td>\n",
       "      <td>79865</td>\n",
       "      <td>10931</td>\n",
       "      <td>1179</td>\n",
       "      <td>26</td>\n",
       "      <td>2</td>\n",
       "      <td>4530</td>\n",
       "      <td>72265.0</td>\n",
       "      <td>121.0</td>\n",
       "      <td>4780.0</td>\n",
       "      <td>2699.0</td>\n",
       "    </tr>\n",
       "    <tr>\n",
       "      <th>2</th>\n",
       "      <td>34176</td>\n",
       "      <td>4356</td>\n",
       "      <td>1.0</td>\n",
       "      <td>train</td>\n",
       "      <td>6</td>\n",
       "      <td>0</td>\n",
       "      <td>451</td>\n",
       "      <td>256</td>\n",
       "      <td>45</td>\n",
       "      <td>109</td>\n",
       "      <td>...</td>\n",
       "      <td>7269</td>\n",
       "      <td>2281</td>\n",
       "      <td>67</td>\n",
       "      <td>15</td>\n",
       "      <td>2</td>\n",
       "      <td>1088</td>\n",
       "      <td>6094.0</td>\n",
       "      <td>16.0</td>\n",
       "      <td>963.0</td>\n",
       "      <td>196.0</td>\n",
       "    </tr>\n",
       "  </tbody>\n",
       "</table>\n",
       "<p>3 rows × 26 columns</p>\n",
       "</div>"
      ],
      "text/plain": [
       "   user_id  merchant_id  label origin  age_range  gender   u1   u2  u3   u4  \\\n",
       "0    34176         3906    0.0  train          6       0  451  256  45  109   \n",
       "1    34176          121    0.0  train          6       0  451  256  45  109   \n",
       "2    34176         4356    1.0  train          6       0  451  256  45  109   \n",
       "\n",
       "   ...     m1     m2    m3  m4  m5    m6       m7     m8      m9     m10  \n",
       "0  ...  16269   5819   308  20   2  2861  14870.0   28.0   410.0   961.0  \n",
       "1  ...  79865  10931  1179  26   2  4530  72265.0  121.0  4780.0  2699.0  \n",
       "2  ...   7269   2281    67  15   2  1088   6094.0   16.0   963.0   196.0  \n",
       "\n",
       "[3 rows x 26 columns]"
      ]
     },
     "execution_count": 58,
     "metadata": {},
     "output_type": "execute_result"
    }
   ],
   "source": [
    "matrix.head(3)"
   ]
  },
  {
   "cell_type": "code",
   "execution_count": 59,
   "metadata": {
    "ExecuteTime": {
     "end_time": "2021-02-28T00:41:58.729020Z",
     "start_time": "2021-02-28T00:41:58.725790Z"
    }
   },
   "outputs": [],
   "source": [
    "# tmp.eq(matrix)"
   ]
  },
  {
   "cell_type": "code",
   "execution_count": 60,
   "metadata": {
    "ExecuteTime": {
     "end_time": "2021-02-28T00:41:58.746026Z",
     "start_time": "2021-02-28T00:41:58.731977Z"
    }
   },
   "outputs": [],
   "source": [
    "# del tmp\n",
    "# gc.collect()"
   ]
  },
  {
   "cell_type": "markdown",
   "metadata": {},
   "source": [
    "# 4 按照user_id和merchant_id分组"
   ]
  },
  {
   "cell_type": "code",
   "execution_count": 61,
   "metadata": {
    "ExecuteTime": {
     "end_time": "2021-02-28T00:41:58.801583Z",
     "start_time": "2021-02-28T00:41:58.750836Z"
    }
   },
   "outputs": [],
   "source": [
    "groups = user_log.groupby(['user_id', 'merchant_id'])\n",
    "\n",
    "# tmp = generate_interaction_feats(matrix, groups, merge_on=[\"user_id\", 'merchant_id'], prex='um')\n",
    "# tmp"
   ]
  },
  {
   "cell_type": "markdown",
   "metadata": {},
   "source": [
    "## 4.1 用户和商家交互的个数"
   ]
  },
  {
   "cell_type": "code",
   "execution_count": 62,
   "metadata": {
    "ExecuteTime": {
     "end_time": "2021-02-28T00:42:16.418354Z",
     "start_time": "2021-02-28T00:41:58.805825Z"
    }
   },
   "outputs": [
    {
     "data": {
      "text/html": [
       "<div>\n",
       "<style scoped>\n",
       "    .dataframe tbody tr th:only-of-type {\n",
       "        vertical-align: middle;\n",
       "    }\n",
       "\n",
       "    .dataframe tbody tr th {\n",
       "        vertical-align: top;\n",
       "    }\n",
       "\n",
       "    .dataframe thead th {\n",
       "        text-align: right;\n",
       "    }\n",
       "</style>\n",
       "<table border=\"1\" class=\"dataframe\">\n",
       "  <thead>\n",
       "    <tr style=\"text-align: right;\">\n",
       "      <th></th>\n",
       "      <th>user_id</th>\n",
       "      <th>merchant_id</th>\n",
       "      <th>label</th>\n",
       "      <th>origin</th>\n",
       "      <th>age_range</th>\n",
       "      <th>gender</th>\n",
       "      <th>u1</th>\n",
       "      <th>u2</th>\n",
       "      <th>u3</th>\n",
       "      <th>u4</th>\n",
       "      <th>...</th>\n",
       "      <th>m2</th>\n",
       "      <th>m3</th>\n",
       "      <th>m4</th>\n",
       "      <th>m5</th>\n",
       "      <th>m6</th>\n",
       "      <th>m7</th>\n",
       "      <th>m8</th>\n",
       "      <th>m9</th>\n",
       "      <th>m10</th>\n",
       "      <th>um1</th>\n",
       "    </tr>\n",
       "  </thead>\n",
       "  <tbody>\n",
       "    <tr>\n",
       "      <th>0</th>\n",
       "      <td>34176</td>\n",
       "      <td>3906</td>\n",
       "      <td>0.0</td>\n",
       "      <td>train</td>\n",
       "      <td>6</td>\n",
       "      <td>0</td>\n",
       "      <td>451</td>\n",
       "      <td>256</td>\n",
       "      <td>45</td>\n",
       "      <td>109</td>\n",
       "      <td>...</td>\n",
       "      <td>5819</td>\n",
       "      <td>308</td>\n",
       "      <td>20</td>\n",
       "      <td>2</td>\n",
       "      <td>2861</td>\n",
       "      <td>14870.0</td>\n",
       "      <td>28.0</td>\n",
       "      <td>410.0</td>\n",
       "      <td>961.0</td>\n",
       "      <td>39</td>\n",
       "    </tr>\n",
       "    <tr>\n",
       "      <th>1</th>\n",
       "      <td>34176</td>\n",
       "      <td>121</td>\n",
       "      <td>0.0</td>\n",
       "      <td>train</td>\n",
       "      <td>6</td>\n",
       "      <td>0</td>\n",
       "      <td>451</td>\n",
       "      <td>256</td>\n",
       "      <td>45</td>\n",
       "      <td>109</td>\n",
       "      <td>...</td>\n",
       "      <td>10931</td>\n",
       "      <td>1179</td>\n",
       "      <td>26</td>\n",
       "      <td>2</td>\n",
       "      <td>4530</td>\n",
       "      <td>72265.0</td>\n",
       "      <td>121.0</td>\n",
       "      <td>4780.0</td>\n",
       "      <td>2699.0</td>\n",
       "      <td>14</td>\n",
       "    </tr>\n",
       "    <tr>\n",
       "      <th>2</th>\n",
       "      <td>34176</td>\n",
       "      <td>4356</td>\n",
       "      <td>1.0</td>\n",
       "      <td>train</td>\n",
       "      <td>6</td>\n",
       "      <td>0</td>\n",
       "      <td>451</td>\n",
       "      <td>256</td>\n",
       "      <td>45</td>\n",
       "      <td>109</td>\n",
       "      <td>...</td>\n",
       "      <td>2281</td>\n",
       "      <td>67</td>\n",
       "      <td>15</td>\n",
       "      <td>2</td>\n",
       "      <td>1088</td>\n",
       "      <td>6094.0</td>\n",
       "      <td>16.0</td>\n",
       "      <td>963.0</td>\n",
       "      <td>196.0</td>\n",
       "      <td>18</td>\n",
       "    </tr>\n",
       "  </tbody>\n",
       "</table>\n",
       "<p>3 rows × 27 columns</p>\n",
       "</div>"
      ],
      "text/plain": [
       "   user_id  merchant_id  label origin  age_range  gender   u1   u2  u3   u4  \\\n",
       "0    34176         3906    0.0  train          6       0  451  256  45  109   \n",
       "1    34176          121    0.0  train          6       0  451  256  45  109   \n",
       "2    34176         4356    1.0  train          6       0  451  256  45  109   \n",
       "\n",
       "   ...     m2    m3  m4  m5    m6       m7     m8      m9     m10  um1  \n",
       "0  ...   5819   308  20   2  2861  14870.0   28.0   410.0   961.0   39  \n",
       "1  ...  10931  1179  26   2  4530  72265.0  121.0  4780.0  2699.0   14  \n",
       "2  ...   2281    67  15   2  1088   6094.0   16.0   963.0   196.0   18  \n",
       "\n",
       "[3 rows x 27 columns]"
      ]
     },
     "execution_count": 62,
     "metadata": {},
     "output_type": "execute_result"
    }
   ],
   "source": [
    "temp = groups.size().reset_index().rename(columns={0: \"um1\"})\n",
    "matrix = matrix.merge(temp, on=['user_id', 'merchant_id'], how='left')\n",
    "matrix.head(3)"
   ]
  },
  {
   "cell_type": "markdown",
   "metadata": {},
   "source": [
    "## 4.2 用户在商家中交互的商品数、类目数、品牌数"
   ]
  },
  {
   "cell_type": "code",
   "execution_count": 63,
   "metadata": {
    "ExecuteTime": {
     "end_time": "2021-02-28T00:43:34.273251Z",
     "start_time": "2021-02-28T00:42:16.421885Z"
    }
   },
   "outputs": [
    {
     "data": {
      "text/html": [
       "<div>\n",
       "<style scoped>\n",
       "    .dataframe tbody tr th:only-of-type {\n",
       "        vertical-align: middle;\n",
       "    }\n",
       "\n",
       "    .dataframe tbody tr th {\n",
       "        vertical-align: top;\n",
       "    }\n",
       "\n",
       "    .dataframe thead th {\n",
       "        text-align: right;\n",
       "    }\n",
       "</style>\n",
       "<table border=\"1\" class=\"dataframe\">\n",
       "  <thead>\n",
       "    <tr style=\"text-align: right;\">\n",
       "      <th></th>\n",
       "      <th>user_id</th>\n",
       "      <th>merchant_id</th>\n",
       "      <th>label</th>\n",
       "      <th>origin</th>\n",
       "      <th>age_range</th>\n",
       "      <th>gender</th>\n",
       "      <th>u1</th>\n",
       "      <th>u2</th>\n",
       "      <th>u3</th>\n",
       "      <th>u4</th>\n",
       "      <th>...</th>\n",
       "      <th>m5</th>\n",
       "      <th>m6</th>\n",
       "      <th>m7</th>\n",
       "      <th>m8</th>\n",
       "      <th>m9</th>\n",
       "      <th>m10</th>\n",
       "      <th>um1</th>\n",
       "      <th>um2</th>\n",
       "      <th>um3</th>\n",
       "      <th>um4</th>\n",
       "    </tr>\n",
       "  </thead>\n",
       "  <tbody>\n",
       "    <tr>\n",
       "      <th>0</th>\n",
       "      <td>34176</td>\n",
       "      <td>3906</td>\n",
       "      <td>0.0</td>\n",
       "      <td>train</td>\n",
       "      <td>6</td>\n",
       "      <td>0</td>\n",
       "      <td>451</td>\n",
       "      <td>256</td>\n",
       "      <td>45</td>\n",
       "      <td>109</td>\n",
       "      <td>...</td>\n",
       "      <td>2</td>\n",
       "      <td>2861</td>\n",
       "      <td>14870.0</td>\n",
       "      <td>28.0</td>\n",
       "      <td>410.0</td>\n",
       "      <td>961.0</td>\n",
       "      <td>39</td>\n",
       "      <td>20</td>\n",
       "      <td>6</td>\n",
       "      <td>1</td>\n",
       "    </tr>\n",
       "    <tr>\n",
       "      <th>1</th>\n",
       "      <td>34176</td>\n",
       "      <td>121</td>\n",
       "      <td>0.0</td>\n",
       "      <td>train</td>\n",
       "      <td>6</td>\n",
       "      <td>0</td>\n",
       "      <td>451</td>\n",
       "      <td>256</td>\n",
       "      <td>45</td>\n",
       "      <td>109</td>\n",
       "      <td>...</td>\n",
       "      <td>2</td>\n",
       "      <td>4530</td>\n",
       "      <td>72265.0</td>\n",
       "      <td>121.0</td>\n",
       "      <td>4780.0</td>\n",
       "      <td>2699.0</td>\n",
       "      <td>14</td>\n",
       "      <td>1</td>\n",
       "      <td>1</td>\n",
       "      <td>1</td>\n",
       "    </tr>\n",
       "    <tr>\n",
       "      <th>2</th>\n",
       "      <td>34176</td>\n",
       "      <td>4356</td>\n",
       "      <td>1.0</td>\n",
       "      <td>train</td>\n",
       "      <td>6</td>\n",
       "      <td>0</td>\n",
       "      <td>451</td>\n",
       "      <td>256</td>\n",
       "      <td>45</td>\n",
       "      <td>109</td>\n",
       "      <td>...</td>\n",
       "      <td>2</td>\n",
       "      <td>1088</td>\n",
       "      <td>6094.0</td>\n",
       "      <td>16.0</td>\n",
       "      <td>963.0</td>\n",
       "      <td>196.0</td>\n",
       "      <td>18</td>\n",
       "      <td>2</td>\n",
       "      <td>1</td>\n",
       "      <td>1</td>\n",
       "    </tr>\n",
       "  </tbody>\n",
       "</table>\n",
       "<p>3 rows × 30 columns</p>\n",
       "</div>"
      ],
      "text/plain": [
       "   user_id  merchant_id  label origin  age_range  gender   u1   u2  u3   u4  \\\n",
       "0    34176         3906    0.0  train          6       0  451  256  45  109   \n",
       "1    34176          121    0.0  train          6       0  451  256  45  109   \n",
       "2    34176         4356    1.0  train          6       0  451  256  45  109   \n",
       "\n",
       "   ...  m5    m6       m7     m8      m9     m10  um1  um2  um3  um4  \n",
       "0  ...   2  2861  14870.0   28.0   410.0   961.0   39   20    6    1  \n",
       "1  ...   2  4530  72265.0  121.0  4780.0  2699.0   14    1    1    1  \n",
       "2  ...   2  1088   6094.0   16.0   963.0   196.0   18    2    1    1  \n",
       "\n",
       "[3 rows x 30 columns]"
      ]
     },
     "execution_count": 63,
     "metadata": {},
     "output_type": "execute_result"
    }
   ],
   "source": [
    "cols = ['item_id', 'cat_id', 'brand_id']\n",
    "temp = groups[cols].nunique().reset_index().rename(\n",
    "    columns={col: f\"um{i + 2}\"\n",
    "             for i, col in enumerate(cols)})\n",
    "matrix = matrix.merge(temp, on=['user_id', 'merchant_id'], how='left')\n",
    "matrix.head(3)"
   ]
  },
  {
   "cell_type": "markdown",
   "metadata": {},
   "source": [
    "## 4.3 用户在商家中的行为类型统计\n",
    "action_type\n",
    "\n",
    "包含{0, 1, 2, 3}，0表示单击，1表示添加到购物车，2表示购买，3表示添加到收藏夹"
   ]
  },
  {
   "cell_type": "code",
   "execution_count": 64,
   "metadata": {
    "ExecuteTime": {
     "end_time": "2021-02-28T00:44:03.389352Z",
     "start_time": "2021-02-28T00:43:34.278000Z"
    }
   },
   "outputs": [],
   "source": [
    "temp = groups['action_type'].value_counts().unstack()\n",
    "temp = temp.reset_index().rename(columns={i: 'um%d' % (i + 5) for i in range(4)})"
   ]
  },
  {
   "cell_type": "code",
   "execution_count": 65,
   "metadata": {
    "ExecuteTime": {
     "end_time": "2021-02-28T00:44:08.066275Z",
     "start_time": "2021-02-28T00:44:03.394021Z"
    }
   },
   "outputs": [
    {
     "data": {
      "text/html": [
       "<div>\n",
       "<style scoped>\n",
       "    .dataframe tbody tr th:only-of-type {\n",
       "        vertical-align: middle;\n",
       "    }\n",
       "\n",
       "    .dataframe tbody tr th {\n",
       "        vertical-align: top;\n",
       "    }\n",
       "\n",
       "    .dataframe thead th {\n",
       "        text-align: right;\n",
       "    }\n",
       "</style>\n",
       "<table border=\"1\" class=\"dataframe\">\n",
       "  <thead>\n",
       "    <tr style=\"text-align: right;\">\n",
       "      <th></th>\n",
       "      <th>user_id</th>\n",
       "      <th>merchant_id</th>\n",
       "      <th>label</th>\n",
       "      <th>origin</th>\n",
       "      <th>age_range</th>\n",
       "      <th>gender</th>\n",
       "      <th>u1</th>\n",
       "      <th>u2</th>\n",
       "      <th>u3</th>\n",
       "      <th>u4</th>\n",
       "      <th>...</th>\n",
       "      <th>m9</th>\n",
       "      <th>m10</th>\n",
       "      <th>um1</th>\n",
       "      <th>um2</th>\n",
       "      <th>um3</th>\n",
       "      <th>um4</th>\n",
       "      <th>um5</th>\n",
       "      <th>um6</th>\n",
       "      <th>um7</th>\n",
       "      <th>um8</th>\n",
       "    </tr>\n",
       "  </thead>\n",
       "  <tbody>\n",
       "    <tr>\n",
       "      <th>0</th>\n",
       "      <td>34176</td>\n",
       "      <td>3906</td>\n",
       "      <td>0.0</td>\n",
       "      <td>train</td>\n",
       "      <td>6</td>\n",
       "      <td>0</td>\n",
       "      <td>451</td>\n",
       "      <td>256</td>\n",
       "      <td>45</td>\n",
       "      <td>109</td>\n",
       "      <td>...</td>\n",
       "      <td>410.0</td>\n",
       "      <td>961.0</td>\n",
       "      <td>39</td>\n",
       "      <td>20</td>\n",
       "      <td>6</td>\n",
       "      <td>1</td>\n",
       "      <td>36.0</td>\n",
       "      <td>NaN</td>\n",
       "      <td>1.0</td>\n",
       "      <td>2.0</td>\n",
       "    </tr>\n",
       "    <tr>\n",
       "      <th>1</th>\n",
       "      <td>34176</td>\n",
       "      <td>121</td>\n",
       "      <td>0.0</td>\n",
       "      <td>train</td>\n",
       "      <td>6</td>\n",
       "      <td>0</td>\n",
       "      <td>451</td>\n",
       "      <td>256</td>\n",
       "      <td>45</td>\n",
       "      <td>109</td>\n",
       "      <td>...</td>\n",
       "      <td>4780.0</td>\n",
       "      <td>2699.0</td>\n",
       "      <td>14</td>\n",
       "      <td>1</td>\n",
       "      <td>1</td>\n",
       "      <td>1</td>\n",
       "      <td>13.0</td>\n",
       "      <td>NaN</td>\n",
       "      <td>1.0</td>\n",
       "      <td>NaN</td>\n",
       "    </tr>\n",
       "    <tr>\n",
       "      <th>2</th>\n",
       "      <td>34176</td>\n",
       "      <td>4356</td>\n",
       "      <td>1.0</td>\n",
       "      <td>train</td>\n",
       "      <td>6</td>\n",
       "      <td>0</td>\n",
       "      <td>451</td>\n",
       "      <td>256</td>\n",
       "      <td>45</td>\n",
       "      <td>109</td>\n",
       "      <td>...</td>\n",
       "      <td>963.0</td>\n",
       "      <td>196.0</td>\n",
       "      <td>18</td>\n",
       "      <td>2</td>\n",
       "      <td>1</td>\n",
       "      <td>1</td>\n",
       "      <td>12.0</td>\n",
       "      <td>NaN</td>\n",
       "      <td>6.0</td>\n",
       "      <td>NaN</td>\n",
       "    </tr>\n",
       "  </tbody>\n",
       "</table>\n",
       "<p>3 rows × 34 columns</p>\n",
       "</div>"
      ],
      "text/plain": [
       "   user_id  merchant_id  label origin  age_range  gender   u1   u2  u3   u4  \\\n",
       "0    34176         3906    0.0  train          6       0  451  256  45  109   \n",
       "1    34176          121    0.0  train          6       0  451  256  45  109   \n",
       "2    34176         4356    1.0  train          6       0  451  256  45  109   \n",
       "\n",
       "   ...      m9     m10  um1  um2  um3  um4   um5  um6  um7  um8  \n",
       "0  ...   410.0   961.0   39   20    6    1  36.0  NaN  1.0  2.0  \n",
       "1  ...  4780.0  2699.0   14    1    1    1  13.0  NaN  1.0  NaN  \n",
       "2  ...   963.0   196.0   18    2    1    1  12.0  NaN  6.0  NaN  \n",
       "\n",
       "[3 rows x 34 columns]"
      ]
     },
     "execution_count": 65,
     "metadata": {},
     "output_type": "execute_result"
    }
   ],
   "source": [
    "matrix = matrix.merge(temp, on=['user_id', 'merchant_id'], how='left')\n",
    "matrix.head(3)"
   ]
  },
  {
   "cell_type": "code",
   "execution_count": 66,
   "metadata": {
    "ExecuteTime": {
     "end_time": "2021-02-28T00:44:11.571395Z",
     "start_time": "2021-02-28T00:44:08.070871Z"
    }
   },
   "outputs": [
    {
     "data": {
      "text/html": [
       "<div>\n",
       "<style scoped>\n",
       "    .dataframe tbody tr th:only-of-type {\n",
       "        vertical-align: middle;\n",
       "    }\n",
       "\n",
       "    .dataframe tbody tr th {\n",
       "        vertical-align: top;\n",
       "    }\n",
       "\n",
       "    .dataframe thead th {\n",
       "        text-align: right;\n",
       "    }\n",
       "</style>\n",
       "<table border=\"1\" class=\"dataframe\">\n",
       "  <thead>\n",
       "    <tr style=\"text-align: right;\">\n",
       "      <th></th>\n",
       "      <th></th>\n",
       "      <th>first</th>\n",
       "      <th>last</th>\n",
       "      <th>um9</th>\n",
       "    </tr>\n",
       "    <tr>\n",
       "      <th>user_id</th>\n",
       "      <th>merchant_id</th>\n",
       "      <th></th>\n",
       "      <th></th>\n",
       "      <th></th>\n",
       "    </tr>\n",
       "  </thead>\n",
       "  <tbody>\n",
       "    <tr>\n",
       "      <th rowspan=\"3\" valign=\"top\">1</th>\n",
       "      <th>471</th>\n",
       "      <td>1900-11-11</td>\n",
       "      <td>1900-11-11</td>\n",
       "      <td>0</td>\n",
       "    </tr>\n",
       "    <tr>\n",
       "      <th>739</th>\n",
       "      <td>1900-10-18</td>\n",
       "      <td>1900-10-18</td>\n",
       "      <td>0</td>\n",
       "    </tr>\n",
       "    <tr>\n",
       "      <th>925</th>\n",
       "      <td>1900-10-11</td>\n",
       "      <td>1900-10-11</td>\n",
       "      <td>0</td>\n",
       "    </tr>\n",
       "  </tbody>\n",
       "</table>\n",
       "</div>"
      ],
      "text/plain": [
       "                         first       last  um9\n",
       "user_id merchant_id                           \n",
       "1       471         1900-11-11 1900-11-11    0\n",
       "        739         1900-10-18 1900-10-18    0\n",
       "        925         1900-10-11 1900-10-11    0"
      ]
     },
     "execution_count": 66,
     "metadata": {},
     "output_type": "execute_result"
    }
   ],
   "source": [
    "temp = groups['time_stamp'].agg([('first', 'min'), ('last', 'max')])\n",
    "temp['um9'] = (temp['last'] - temp['first']).dt.days\n",
    "temp.head(3)"
   ]
  },
  {
   "cell_type": "code",
   "execution_count": 67,
   "metadata": {
    "ExecuteTime": {
     "end_time": "2021-02-28T00:44:12.066833Z",
     "start_time": "2021-02-28T00:44:11.606432Z"
    }
   },
   "outputs": [
    {
     "data": {
      "text/html": [
       "<div>\n",
       "<style scoped>\n",
       "    .dataframe tbody tr th:only-of-type {\n",
       "        vertical-align: middle;\n",
       "    }\n",
       "\n",
       "    .dataframe tbody tr th {\n",
       "        vertical-align: top;\n",
       "    }\n",
       "\n",
       "    .dataframe thead th {\n",
       "        text-align: right;\n",
       "    }\n",
       "</style>\n",
       "<table border=\"1\" class=\"dataframe\">\n",
       "  <thead>\n",
       "    <tr style=\"text-align: right;\">\n",
       "      <th></th>\n",
       "      <th>user_id</th>\n",
       "      <th>merchant_id</th>\n",
       "      <th>um9</th>\n",
       "    </tr>\n",
       "  </thead>\n",
       "  <tbody>\n",
       "    <tr>\n",
       "      <th>0</th>\n",
       "      <td>1</td>\n",
       "      <td>471</td>\n",
       "      <td>0</td>\n",
       "    </tr>\n",
       "    <tr>\n",
       "      <th>1</th>\n",
       "      <td>1</td>\n",
       "      <td>739</td>\n",
       "      <td>0</td>\n",
       "    </tr>\n",
       "  </tbody>\n",
       "</table>\n",
       "</div>"
      ],
      "text/plain": [
       "   user_id  merchant_id  um9\n",
       "0        1          471    0\n",
       "1        1          739    0"
      ]
     },
     "execution_count": 67,
     "metadata": {},
     "output_type": "execute_result"
    }
   ],
   "source": [
    "temp = temp['um9'].reset_index()\n",
    "temp.head(2)"
   ]
  },
  {
   "cell_type": "code",
   "execution_count": 68,
   "metadata": {
    "ExecuteTime": {
     "end_time": "2021-02-28T00:44:17.087515Z",
     "start_time": "2021-02-28T00:44:12.081140Z"
    }
   },
   "outputs": [
    {
     "data": {
      "text/html": [
       "<div>\n",
       "<style scoped>\n",
       "    .dataframe tbody tr th:only-of-type {\n",
       "        vertical-align: middle;\n",
       "    }\n",
       "\n",
       "    .dataframe tbody tr th {\n",
       "        vertical-align: top;\n",
       "    }\n",
       "\n",
       "    .dataframe thead th {\n",
       "        text-align: right;\n",
       "    }\n",
       "</style>\n",
       "<table border=\"1\" class=\"dataframe\">\n",
       "  <thead>\n",
       "    <tr style=\"text-align: right;\">\n",
       "      <th></th>\n",
       "      <th>user_id</th>\n",
       "      <th>merchant_id</th>\n",
       "      <th>label</th>\n",
       "      <th>origin</th>\n",
       "      <th>age_range</th>\n",
       "      <th>gender</th>\n",
       "      <th>u1</th>\n",
       "      <th>u2</th>\n",
       "      <th>u3</th>\n",
       "      <th>u4</th>\n",
       "      <th>...</th>\n",
       "      <th>m10</th>\n",
       "      <th>um1</th>\n",
       "      <th>um2</th>\n",
       "      <th>um3</th>\n",
       "      <th>um4</th>\n",
       "      <th>um5</th>\n",
       "      <th>um6</th>\n",
       "      <th>um7</th>\n",
       "      <th>um8</th>\n",
       "      <th>um9</th>\n",
       "    </tr>\n",
       "  </thead>\n",
       "  <tbody>\n",
       "    <tr>\n",
       "      <th>0</th>\n",
       "      <td>34176</td>\n",
       "      <td>3906</td>\n",
       "      <td>0.0</td>\n",
       "      <td>train</td>\n",
       "      <td>6</td>\n",
       "      <td>0</td>\n",
       "      <td>451</td>\n",
       "      <td>256</td>\n",
       "      <td>45</td>\n",
       "      <td>109</td>\n",
       "      <td>...</td>\n",
       "      <td>961.0</td>\n",
       "      <td>39</td>\n",
       "      <td>20</td>\n",
       "      <td>6</td>\n",
       "      <td>1</td>\n",
       "      <td>36.0</td>\n",
       "      <td>NaN</td>\n",
       "      <td>1.0</td>\n",
       "      <td>2.0</td>\n",
       "      <td>22</td>\n",
       "    </tr>\n",
       "    <tr>\n",
       "      <th>1</th>\n",
       "      <td>34176</td>\n",
       "      <td>121</td>\n",
       "      <td>0.0</td>\n",
       "      <td>train</td>\n",
       "      <td>6</td>\n",
       "      <td>0</td>\n",
       "      <td>451</td>\n",
       "      <td>256</td>\n",
       "      <td>45</td>\n",
       "      <td>109</td>\n",
       "      <td>...</td>\n",
       "      <td>2699.0</td>\n",
       "      <td>14</td>\n",
       "      <td>1</td>\n",
       "      <td>1</td>\n",
       "      <td>1</td>\n",
       "      <td>13.0</td>\n",
       "      <td>NaN</td>\n",
       "      <td>1.0</td>\n",
       "      <td>NaN</td>\n",
       "      <td>3</td>\n",
       "    </tr>\n",
       "    <tr>\n",
       "      <th>2</th>\n",
       "      <td>34176</td>\n",
       "      <td>4356</td>\n",
       "      <td>1.0</td>\n",
       "      <td>train</td>\n",
       "      <td>6</td>\n",
       "      <td>0</td>\n",
       "      <td>451</td>\n",
       "      <td>256</td>\n",
       "      <td>45</td>\n",
       "      <td>109</td>\n",
       "      <td>...</td>\n",
       "      <td>196.0</td>\n",
       "      <td>18</td>\n",
       "      <td>2</td>\n",
       "      <td>1</td>\n",
       "      <td>1</td>\n",
       "      <td>12.0</td>\n",
       "      <td>NaN</td>\n",
       "      <td>6.0</td>\n",
       "      <td>NaN</td>\n",
       "      <td>1</td>\n",
       "    </tr>\n",
       "  </tbody>\n",
       "</table>\n",
       "<p>3 rows × 35 columns</p>\n",
       "</div>"
      ],
      "text/plain": [
       "   user_id  merchant_id  label origin  age_range  gender   u1   u2  u3   u4  \\\n",
       "0    34176         3906    0.0  train          6       0  451  256  45  109   \n",
       "1    34176          121    0.0  train          6       0  451  256  45  109   \n",
       "2    34176         4356    1.0  train          6       0  451  256  45  109   \n",
       "\n",
       "   ...     m10  um1  um2  um3  um4   um5  um6  um7  um8  um9  \n",
       "0  ...   961.0   39   20    6    1  36.0  NaN  1.0  2.0   22  \n",
       "1  ...  2699.0   14    1    1    1  13.0  NaN  1.0  NaN    3  \n",
       "2  ...   196.0   18    2    1    1  12.0  NaN  6.0  NaN    1  \n",
       "\n",
       "[3 rows x 35 columns]"
      ]
     },
     "execution_count": 68,
     "metadata": {},
     "output_type": "execute_result"
    }
   ],
   "source": [
    "matrix = matrix.merge(temp, on=['user_id', 'merchant_id'], how='left')\n",
    "matrix.head(3)"
   ]
  },
  {
   "cell_type": "markdown",
   "metadata": {},
   "source": [
    "# 5 生成比率类特征"
   ]
  },
  {
   "cell_type": "code",
   "execution_count": 69,
   "metadata": {
    "ExecuteTime": {
     "end_time": "2021-02-28T00:44:17.403569Z",
     "start_time": "2021-02-28T00:44:17.090062Z"
    }
   },
   "outputs": [],
   "source": [
    "#用户购买点击比\n",
    "matrix['r1'] = matrix['u9'] / matrix['u7']\n",
    "\n",
    "#商家购买点击比\n",
    "matrix['r2'] = matrix['m8'] / matrix['m6']\n",
    "#不同用户不同商家购买点击比\n",
    "matrix['r3'] = matrix['um7'] / matrix['um5']\n",
    "\n",
    "# 缺失值填充为0\n",
    "matrix.fillna(0, inplace=True)"
   ]
  },
  {
   "cell_type": "code",
   "execution_count": 70,
   "metadata": {
    "ExecuteTime": {
     "end_time": "2021-02-28T00:44:17.432739Z",
     "start_time": "2021-02-28T00:44:17.407664Z"
    }
   },
   "outputs": [
    {
     "data": {
      "text/html": [
       "<div>\n",
       "<style scoped>\n",
       "    .dataframe tbody tr th:only-of-type {\n",
       "        vertical-align: middle;\n",
       "    }\n",
       "\n",
       "    .dataframe tbody tr th {\n",
       "        vertical-align: top;\n",
       "    }\n",
       "\n",
       "    .dataframe thead th {\n",
       "        text-align: right;\n",
       "    }\n",
       "</style>\n",
       "<table border=\"1\" class=\"dataframe\">\n",
       "  <thead>\n",
       "    <tr style=\"text-align: right;\">\n",
       "      <th></th>\n",
       "      <th>user_id</th>\n",
       "      <th>merchant_id</th>\n",
       "      <th>label</th>\n",
       "      <th>origin</th>\n",
       "      <th>age_range</th>\n",
       "      <th>gender</th>\n",
       "      <th>u1</th>\n",
       "      <th>u2</th>\n",
       "      <th>u3</th>\n",
       "      <th>u4</th>\n",
       "      <th>...</th>\n",
       "      <th>um3</th>\n",
       "      <th>um4</th>\n",
       "      <th>um5</th>\n",
       "      <th>um6</th>\n",
       "      <th>um7</th>\n",
       "      <th>um8</th>\n",
       "      <th>um9</th>\n",
       "      <th>r1</th>\n",
       "      <th>r2</th>\n",
       "      <th>r3</th>\n",
       "    </tr>\n",
       "  </thead>\n",
       "  <tbody>\n",
       "    <tr>\n",
       "      <th>0</th>\n",
       "      <td>34176</td>\n",
       "      <td>3906</td>\n",
       "      <td>0.0</td>\n",
       "      <td>train</td>\n",
       "      <td>6</td>\n",
       "      <td>0</td>\n",
       "      <td>451</td>\n",
       "      <td>256</td>\n",
       "      <td>45</td>\n",
       "      <td>109</td>\n",
       "      <td>...</td>\n",
       "      <td>6</td>\n",
       "      <td>1</td>\n",
       "      <td>36.0</td>\n",
       "      <td>0.0</td>\n",
       "      <td>1.0</td>\n",
       "      <td>2.0</td>\n",
       "      <td>22</td>\n",
       "      <td>0.082927</td>\n",
       "      <td>0.009787</td>\n",
       "      <td>0.027778</td>\n",
       "    </tr>\n",
       "    <tr>\n",
       "      <th>1</th>\n",
       "      <td>34176</td>\n",
       "      <td>121</td>\n",
       "      <td>0.0</td>\n",
       "      <td>train</td>\n",
       "      <td>6</td>\n",
       "      <td>0</td>\n",
       "      <td>451</td>\n",
       "      <td>256</td>\n",
       "      <td>45</td>\n",
       "      <td>109</td>\n",
       "      <td>...</td>\n",
       "      <td>1</td>\n",
       "      <td>1</td>\n",
       "      <td>13.0</td>\n",
       "      <td>0.0</td>\n",
       "      <td>1.0</td>\n",
       "      <td>0.0</td>\n",
       "      <td>3</td>\n",
       "      <td>0.082927</td>\n",
       "      <td>0.026711</td>\n",
       "      <td>0.076923</td>\n",
       "    </tr>\n",
       "    <tr>\n",
       "      <th>2</th>\n",
       "      <td>34176</td>\n",
       "      <td>4356</td>\n",
       "      <td>1.0</td>\n",
       "      <td>train</td>\n",
       "      <td>6</td>\n",
       "      <td>0</td>\n",
       "      <td>451</td>\n",
       "      <td>256</td>\n",
       "      <td>45</td>\n",
       "      <td>109</td>\n",
       "      <td>...</td>\n",
       "      <td>1</td>\n",
       "      <td>1</td>\n",
       "      <td>12.0</td>\n",
       "      <td>0.0</td>\n",
       "      <td>6.0</td>\n",
       "      <td>0.0</td>\n",
       "      <td>1</td>\n",
       "      <td>0.082927</td>\n",
       "      <td>0.014706</td>\n",
       "      <td>0.500000</td>\n",
       "    </tr>\n",
       "  </tbody>\n",
       "</table>\n",
       "<p>3 rows × 38 columns</p>\n",
       "</div>"
      ],
      "text/plain": [
       "   user_id  merchant_id  label origin  age_range  gender   u1   u2  u3   u4  \\\n",
       "0    34176         3906    0.0  train          6       0  451  256  45  109   \n",
       "1    34176          121    0.0  train          6       0  451  256  45  109   \n",
       "2    34176         4356    1.0  train          6       0  451  256  45  109   \n",
       "\n",
       "   ...  um3  um4   um5  um6  um7  um8  um9        r1        r2        r3  \n",
       "0  ...    6    1  36.0  0.0  1.0  2.0   22  0.082927  0.009787  0.027778  \n",
       "1  ...    1    1  13.0  0.0  1.0  0.0    3  0.082927  0.026711  0.076923  \n",
       "2  ...    1    1  12.0  0.0  6.0  0.0    1  0.082927  0.014706  0.500000  \n",
       "\n",
       "[3 rows x 38 columns]"
      ]
     },
     "execution_count": 70,
     "metadata": {},
     "output_type": "execute_result"
    }
   ],
   "source": [
    "matrix.head(3)"
   ]
  },
  {
   "cell_type": "code",
   "execution_count": 71,
   "metadata": {
    "ExecuteTime": {
     "end_time": "2021-02-28T00:44:17.784030Z",
     "start_time": "2021-02-28T00:44:17.438372Z"
    }
   },
   "outputs": [],
   "source": [
    "# one-hot编码\n",
    "# 修改age_range字段名称为 age_0, age_1, age_2... age_8\n",
    "temp = pd.get_dummies(matrix['age_range'], prefix='age')\n",
    "matrix = pd.concat([matrix, temp], axis=1)\n",
    "\n",
    "temp = pd.get_dummies(matrix['gender'], prefix='g')\n",
    "matrix = pd.concat([matrix, temp], axis=1)"
   ]
  },
  {
   "cell_type": "code",
   "execution_count": 72,
   "metadata": {
    "ExecuteTime": {
     "end_time": "2021-02-28T00:44:17.812806Z",
     "start_time": "2021-02-28T00:44:17.791008Z"
    }
   },
   "outputs": [
    {
     "data": {
      "text/html": [
       "<div>\n",
       "<style scoped>\n",
       "    .dataframe tbody tr th:only-of-type {\n",
       "        vertical-align: middle;\n",
       "    }\n",
       "\n",
       "    .dataframe tbody tr th {\n",
       "        vertical-align: top;\n",
       "    }\n",
       "\n",
       "    .dataframe thead th {\n",
       "        text-align: right;\n",
       "    }\n",
       "</style>\n",
       "<table border=\"1\" class=\"dataframe\">\n",
       "  <thead>\n",
       "    <tr style=\"text-align: right;\">\n",
       "      <th></th>\n",
       "      <th>user_id</th>\n",
       "      <th>merchant_id</th>\n",
       "      <th>label</th>\n",
       "      <th>origin</th>\n",
       "      <th>age_range</th>\n",
       "      <th>gender</th>\n",
       "      <th>u1</th>\n",
       "      <th>u2</th>\n",
       "      <th>u3</th>\n",
       "      <th>u4</th>\n",
       "      <th>...</th>\n",
       "      <th>age_2</th>\n",
       "      <th>age_3</th>\n",
       "      <th>age_4</th>\n",
       "      <th>age_5</th>\n",
       "      <th>age_6</th>\n",
       "      <th>age_7</th>\n",
       "      <th>age_8</th>\n",
       "      <th>g_0</th>\n",
       "      <th>g_1</th>\n",
       "      <th>g_2</th>\n",
       "    </tr>\n",
       "  </thead>\n",
       "  <tbody>\n",
       "    <tr>\n",
       "      <th>0</th>\n",
       "      <td>34176</td>\n",
       "      <td>3906</td>\n",
       "      <td>0.0</td>\n",
       "      <td>train</td>\n",
       "      <td>6</td>\n",
       "      <td>0</td>\n",
       "      <td>451</td>\n",
       "      <td>256</td>\n",
       "      <td>45</td>\n",
       "      <td>109</td>\n",
       "      <td>...</td>\n",
       "      <td>0</td>\n",
       "      <td>0</td>\n",
       "      <td>0</td>\n",
       "      <td>0</td>\n",
       "      <td>1</td>\n",
       "      <td>0</td>\n",
       "      <td>0</td>\n",
       "      <td>1</td>\n",
       "      <td>0</td>\n",
       "      <td>0</td>\n",
       "    </tr>\n",
       "    <tr>\n",
       "      <th>1</th>\n",
       "      <td>34176</td>\n",
       "      <td>121</td>\n",
       "      <td>0.0</td>\n",
       "      <td>train</td>\n",
       "      <td>6</td>\n",
       "      <td>0</td>\n",
       "      <td>451</td>\n",
       "      <td>256</td>\n",
       "      <td>45</td>\n",
       "      <td>109</td>\n",
       "      <td>...</td>\n",
       "      <td>0</td>\n",
       "      <td>0</td>\n",
       "      <td>0</td>\n",
       "      <td>0</td>\n",
       "      <td>1</td>\n",
       "      <td>0</td>\n",
       "      <td>0</td>\n",
       "      <td>1</td>\n",
       "      <td>0</td>\n",
       "      <td>0</td>\n",
       "    </tr>\n",
       "    <tr>\n",
       "      <th>2</th>\n",
       "      <td>34176</td>\n",
       "      <td>4356</td>\n",
       "      <td>1.0</td>\n",
       "      <td>train</td>\n",
       "      <td>6</td>\n",
       "      <td>0</td>\n",
       "      <td>451</td>\n",
       "      <td>256</td>\n",
       "      <td>45</td>\n",
       "      <td>109</td>\n",
       "      <td>...</td>\n",
       "      <td>0</td>\n",
       "      <td>0</td>\n",
       "      <td>0</td>\n",
       "      <td>0</td>\n",
       "      <td>1</td>\n",
       "      <td>0</td>\n",
       "      <td>0</td>\n",
       "      <td>1</td>\n",
       "      <td>0</td>\n",
       "      <td>0</td>\n",
       "    </tr>\n",
       "  </tbody>\n",
       "</table>\n",
       "<p>3 rows × 50 columns</p>\n",
       "</div>"
      ],
      "text/plain": [
       "   user_id  merchant_id  label origin  age_range  gender   u1   u2  u3   u4  \\\n",
       "0    34176         3906    0.0  train          6       0  451  256  45  109   \n",
       "1    34176          121    0.0  train          6       0  451  256  45  109   \n",
       "2    34176         4356    1.0  train          6       0  451  256  45  109   \n",
       "\n",
       "   ...  age_2  age_3  age_4  age_5  age_6  age_7  age_8  g_0  g_1  g_2  \n",
       "0  ...      0      0      0      0      1      0      0    1    0    0  \n",
       "1  ...      0      0      0      0      1      0      0    1    0    0  \n",
       "2  ...      0      0      0      0      1      0      0    1    0    0  \n",
       "\n",
       "[3 rows x 50 columns]"
      ]
     },
     "execution_count": 72,
     "metadata": {},
     "output_type": "execute_result"
    }
   ],
   "source": [
    "matrix.head(3)"
   ]
  },
  {
   "cell_type": "code",
   "execution_count": 73,
   "metadata": {
    "ExecuteTime": {
     "end_time": "2021-02-28T00:44:18.764567Z",
     "start_time": "2021-02-28T00:44:17.818262Z"
    }
   },
   "outputs": [],
   "source": [
    "matrix = reduce_mem_usage(matrix)"
   ]
  },
  {
   "cell_type": "code",
   "execution_count": 74,
   "metadata": {
    "ExecuteTime": {
     "end_time": "2021-02-28T00:44:18.779057Z",
     "start_time": "2021-02-28T00:44:18.768345Z"
    }
   },
   "outputs": [
    {
     "name": "stdout",
     "output_type": "stream",
     "text": [
      "数据集使用内容 51.308749198913574 MB\n"
     ]
    }
   ],
   "source": [
    "get_memory(matrix)"
   ]
  },
  {
   "cell_type": "code",
   "execution_count": 75,
   "metadata": {
    "ExecuteTime": {
     "end_time": "2021-02-28T00:44:18.920820Z",
     "start_time": "2021-02-28T00:44:18.783979Z"
    }
   },
   "outputs": [
    {
     "data": {
      "text/html": [
       "<div>\n",
       "<style scoped>\n",
       "    .dataframe tbody tr th:only-of-type {\n",
       "        vertical-align: middle;\n",
       "    }\n",
       "\n",
       "    .dataframe tbody tr th {\n",
       "        vertical-align: top;\n",
       "    }\n",
       "\n",
       "    .dataframe thead th {\n",
       "        text-align: right;\n",
       "    }\n",
       "</style>\n",
       "<table border=\"1\" class=\"dataframe\">\n",
       "  <thead>\n",
       "    <tr style=\"text-align: right;\">\n",
       "      <th></th>\n",
       "      <th>user_id</th>\n",
       "      <th>merchant_id</th>\n",
       "      <th>label</th>\n",
       "      <th>origin</th>\n",
       "      <th>u1</th>\n",
       "      <th>u2</th>\n",
       "      <th>u3</th>\n",
       "      <th>u4</th>\n",
       "      <th>u5</th>\n",
       "      <th>u6</th>\n",
       "      <th>...</th>\n",
       "      <th>age_2</th>\n",
       "      <th>age_3</th>\n",
       "      <th>age_4</th>\n",
       "      <th>age_5</th>\n",
       "      <th>age_6</th>\n",
       "      <th>age_7</th>\n",
       "      <th>age_8</th>\n",
       "      <th>g_0</th>\n",
       "      <th>g_1</th>\n",
       "      <th>g_2</th>\n",
       "    </tr>\n",
       "  </thead>\n",
       "  <tbody>\n",
       "    <tr>\n",
       "      <th>0</th>\n",
       "      <td>34176</td>\n",
       "      <td>3906</td>\n",
       "      <td>0</td>\n",
       "      <td>train</td>\n",
       "      <td>451</td>\n",
       "      <td>256</td>\n",
       "      <td>45</td>\n",
       "      <td>109</td>\n",
       "      <td>108</td>\n",
       "      <td>174</td>\n",
       "      <td>...</td>\n",
       "      <td>0</td>\n",
       "      <td>0</td>\n",
       "      <td>0</td>\n",
       "      <td>0</td>\n",
       "      <td>1</td>\n",
       "      <td>0</td>\n",
       "      <td>0</td>\n",
       "      <td>1</td>\n",
       "      <td>0</td>\n",
       "      <td>0</td>\n",
       "    </tr>\n",
       "    <tr>\n",
       "      <th>1</th>\n",
       "      <td>34176</td>\n",
       "      <td>121</td>\n",
       "      <td>0</td>\n",
       "      <td>train</td>\n",
       "      <td>451</td>\n",
       "      <td>256</td>\n",
       "      <td>45</td>\n",
       "      <td>109</td>\n",
       "      <td>108</td>\n",
       "      <td>174</td>\n",
       "      <td>...</td>\n",
       "      <td>0</td>\n",
       "      <td>0</td>\n",
       "      <td>0</td>\n",
       "      <td>0</td>\n",
       "      <td>1</td>\n",
       "      <td>0</td>\n",
       "      <td>0</td>\n",
       "      <td>1</td>\n",
       "      <td>0</td>\n",
       "      <td>0</td>\n",
       "    </tr>\n",
       "  </tbody>\n",
       "</table>\n",
       "<p>2 rows × 48 columns</p>\n",
       "</div>"
      ],
      "text/plain": [
       "   user_id  merchant_id  label origin   u1   u2  u3   u4   u5   u6  ...  \\\n",
       "0    34176         3906      0  train  451  256  45  109  108  174  ...   \n",
       "1    34176          121      0  train  451  256  45  109  108  174  ...   \n",
       "\n",
       "   age_2  age_3  age_4  age_5  age_6  age_7  age_8  g_0  g_1  g_2  \n",
       "0      0      0      0      0      1      0      0    1    0    0  \n",
       "1      0      0      0      0      1      0      0    1    0    0  \n",
       "\n",
       "[2 rows x 48 columns]"
      ]
     },
     "execution_count": 75,
     "metadata": {},
     "output_type": "execute_result"
    }
   ],
   "source": [
    "matrix.drop(['age_range', 'gender'], axis=1, inplace=True)\n",
    "matrix.head(2)"
   ]
  },
  {
   "cell_type": "code",
   "execution_count": 76,
   "metadata": {
    "ExecuteTime": {
     "end_time": "2021-02-28T00:44:18.950758Z",
     "start_time": "2021-02-28T00:44:18.928366Z"
    }
   },
   "outputs": [
    {
     "data": {
      "text/html": [
       "<div>\n",
       "<style scoped>\n",
       "    .dataframe tbody tr th:only-of-type {\n",
       "        vertical-align: middle;\n",
       "    }\n",
       "\n",
       "    .dataframe tbody tr th {\n",
       "        vertical-align: top;\n",
       "    }\n",
       "\n",
       "    .dataframe thead th {\n",
       "        text-align: right;\n",
       "    }\n",
       "</style>\n",
       "<table border=\"1\" class=\"dataframe\">\n",
       "  <thead>\n",
       "    <tr style=\"text-align: right;\">\n",
       "      <th></th>\n",
       "      <th>user_id</th>\n",
       "      <th>merchant_id</th>\n",
       "      <th>label</th>\n",
       "      <th>origin</th>\n",
       "      <th>u1</th>\n",
       "      <th>u2</th>\n",
       "      <th>u3</th>\n",
       "      <th>u4</th>\n",
       "      <th>u5</th>\n",
       "      <th>u6</th>\n",
       "      <th>...</th>\n",
       "      <th>age_2</th>\n",
       "      <th>age_3</th>\n",
       "      <th>age_4</th>\n",
       "      <th>age_5</th>\n",
       "      <th>age_6</th>\n",
       "      <th>age_7</th>\n",
       "      <th>age_8</th>\n",
       "      <th>g_0</th>\n",
       "      <th>g_1</th>\n",
       "      <th>g_2</th>\n",
       "    </tr>\n",
       "  </thead>\n",
       "  <tbody>\n",
       "    <tr>\n",
       "      <th>0</th>\n",
       "      <td>34176</td>\n",
       "      <td>3906</td>\n",
       "      <td>0</td>\n",
       "      <td>train</td>\n",
       "      <td>451</td>\n",
       "      <td>256</td>\n",
       "      <td>45</td>\n",
       "      <td>109</td>\n",
       "      <td>108</td>\n",
       "      <td>174</td>\n",
       "      <td>...</td>\n",
       "      <td>0</td>\n",
       "      <td>0</td>\n",
       "      <td>0</td>\n",
       "      <td>0</td>\n",
       "      <td>1</td>\n",
       "      <td>0</td>\n",
       "      <td>0</td>\n",
       "      <td>1</td>\n",
       "      <td>0</td>\n",
       "      <td>0</td>\n",
       "    </tr>\n",
       "    <tr>\n",
       "      <th>1</th>\n",
       "      <td>34176</td>\n",
       "      <td>121</td>\n",
       "      <td>0</td>\n",
       "      <td>train</td>\n",
       "      <td>451</td>\n",
       "      <td>256</td>\n",
       "      <td>45</td>\n",
       "      <td>109</td>\n",
       "      <td>108</td>\n",
       "      <td>174</td>\n",
       "      <td>...</td>\n",
       "      <td>0</td>\n",
       "      <td>0</td>\n",
       "      <td>0</td>\n",
       "      <td>0</td>\n",
       "      <td>1</td>\n",
       "      <td>0</td>\n",
       "      <td>0</td>\n",
       "      <td>1</td>\n",
       "      <td>0</td>\n",
       "      <td>0</td>\n",
       "    </tr>\n",
       "  </tbody>\n",
       "</table>\n",
       "<p>2 rows × 48 columns</p>\n",
       "</div>"
      ],
      "text/plain": [
       "   user_id  merchant_id  label origin   u1   u2  u3   u4   u5   u6  ...  \\\n",
       "0    34176         3906      0  train  451  256  45  109  108  174  ...   \n",
       "1    34176          121      0  train  451  256  45  109  108  174  ...   \n",
       "\n",
       "   age_2  age_3  age_4  age_5  age_6  age_7  age_8  g_0  g_1  g_2  \n",
       "0      0      0      0      0      1      0      0    1    0    0  \n",
       "1      0      0      0      0      1      0      0    1    0    0  \n",
       "\n",
       "[2 rows x 48 columns]"
      ]
     },
     "execution_count": 76,
     "metadata": {},
     "output_type": "execute_result"
    }
   ],
   "source": [
    "matrix.head(2)"
   ]
  },
  {
   "cell_type": "code",
   "execution_count": 77,
   "metadata": {
    "ExecuteTime": {
     "end_time": "2021-02-28T00:44:19.155359Z",
     "start_time": "2021-02-28T00:44:18.954049Z"
    }
   },
   "outputs": [
    {
     "data": {
      "text/plain": [
       "80"
      ]
     },
     "execution_count": 77,
     "metadata": {},
     "output_type": "execute_result"
    }
   ],
   "source": [
    "del user_log\n",
    "gc.collect()"
   ]
  },
  {
   "cell_type": "markdown",
   "metadata": {},
   "source": [
    "# 6 相关系数热力图"
   ]
  },
  {
   "cell_type": "code",
   "execution_count": 78,
   "metadata": {
    "ExecuteTime": {
     "end_time": "2021-02-28T00:44:21.863085Z",
     "start_time": "2021-02-28T00:44:19.157961Z"
    }
   },
   "outputs": [],
   "source": [
    "import seaborn as sns\n",
    "from matplotlib import pyplot as plt\n",
    "\n",
    "matrix_corr = matrix.corr()"
   ]
  },
  {
   "cell_type": "code",
   "execution_count": 79,
   "metadata": {
    "ExecuteTime": {
     "end_time": "2021-02-28T00:44:26.813730Z",
     "start_time": "2021-02-28T00:44:21.865259Z"
    }
   },
   "outputs": [
    {
     "data": {
      "image/png": "[encoded data removed]",
      "text/plain": [
       "<Figure size 1152x1152 with 2 Axes>"
      ]
     },
     "metadata": {
      "needs_background": "light"
     },
     "output_type": "display_data"
    }
   ],
   "source": [
    "plt.figure(figsize=(16, 16))\n",
    "sns.heatmap(matrix_corr * 10, annot=True, square=True, fmt='.0f')\n",
    "plt.show()"
   ]
  },
  {
   "cell_type": "code",
   "execution_count": 80,
   "metadata": {
    "ExecuteTime": {
     "end_time": "2021-02-28T00:44:26.858121Z",
     "start_time": "2021-02-28T00:44:26.816117Z"
    }
   },
   "outputs": [],
   "source": [
    "need_drop_cols = ['u2', 'u5','u7', 'm2', 'm7', 'm10', 'um5', 'g_1']\n",
    "matrix = matrix.drop(columns=need_drop_cols)"
   ]
  },
  {
   "cell_type": "code",
   "execution_count": 81,
   "metadata": {
    "ExecuteTime": {
     "end_time": "2021-02-28T00:44:28.373340Z",
     "start_time": "2021-02-28T00:44:26.860269Z"
    }
   },
   "outputs": [],
   "source": [
    "matrix_corr = matrix.corr()"
   ]
  },
  {
   "cell_type": "code",
   "execution_count": 82,
   "metadata": {
    "ExecuteTime": {
     "end_time": "2021-02-28T00:44:31.896689Z",
     "start_time": "2021-02-28T00:44:28.375494Z"
    }
   },
   "outputs": [
    {
     "data": {
      "image/png": "[encoded data removed]",
      "text/plain": [
       "<Figure size 1152x1152 with 2 Axes>"
      ]
     },
     "metadata": {
      "needs_background": "light"
     },
     "output_type": "display_data"
    }
   ],
   "source": [
    "plt.figure(figsize=(16, 16))\n",
    "sns.heatmap(matrix_corr * 10, annot=True, square=True, fmt='.0f')\n",
    "plt.show()"
   ]
  },
  {
   "cell_type": "code",
   "execution_count": 83,
   "metadata": {
    "ExecuteTime": {
     "end_time": "2021-02-28T00:44:31.941532Z",
     "start_time": "2021-02-28T00:44:31.898570Z"
    }
   },
   "outputs": [],
   "source": [
    "matrix = matrix.drop(columns=['m6'])"
   ]
  },
  {
   "cell_type": "markdown",
   "metadata": {},
   "source": [
    "# 7 机器学习建模"
   ]
  },
  {
   "cell_type": "code",
   "execution_count": 84,
   "metadata": {
    "ExecuteTime": {
     "end_time": "2021-02-28T00:44:32.146474Z",
     "start_time": "2021-02-28T00:44:31.943758Z"
    }
   },
   "outputs": [],
   "source": [
    "from sklearn.preprocessing import StandardScaler\n",
    "from sklearn.model_selection import GridSearchCV, train_test_split\n",
    "from sklearn.metrics import plot_confusion_matrix, plot_precision_recall_curve\n",
    "\n",
    "import xgboost as xgb\n",
    "import lightgbm as lgb"
   ]
  },
  {
   "cell_type": "code",
   "execution_count": 85,
   "metadata": {
    "ExecuteTime": {
     "end_time": "2021-02-28T00:44:32.159483Z",
     "start_time": "2021-02-28T00:44:32.149941Z"
    }
   },
   "outputs": [
    {
     "name": "stdout",
     "output_type": "stream",
     "text": [
      "数据集使用内容 39.85145568847656 MB\n"
     ]
    }
   ],
   "source": [
    "get_memory(matrix)"
   ]
  },
  {
   "cell_type": "code",
   "execution_count": 86,
   "metadata": {
    "ExecuteTime": {
     "end_time": "2021-02-28T00:44:37.108990Z",
     "start_time": "2021-02-28T00:44:32.163859Z"
    }
   },
   "outputs": [],
   "source": [
    "matrix.to_csv(\"precessed_datasets.csv\", index=False)"
   ]
  },
  {
   "cell_type": "markdown",
   "metadata": {},
   "source": [
    "## 7.1 拆分数据集"
   ]
  },
  {
   "cell_type": "code",
   "execution_count": 87,
   "metadata": {
    "ExecuteTime": {
     "end_time": "2021-02-28T00:44:37.366555Z",
     "start_time": "2021-02-28T00:44:37.111284Z"
    }
   },
   "outputs": [],
   "source": [
    "train_data = matrix[matrix['origin'] == 'train'].drop(columns=['origin'])\n",
    "test_data = matrix[matrix['origin'] == 'test'].drop(columns=['origin', 'label'])\n",
    "train_X, train_y = train_data.drop(columns=['label']), train_data['label']"
   ]
  },
  {
   "cell_type": "code",
   "execution_count": 88,
   "metadata": {
    "ExecuteTime": {
     "end_time": "2021-02-28T00:44:37.470740Z",
     "start_time": "2021-02-28T00:44:37.368560Z"
    }
   },
   "outputs": [
    {
     "data": {
      "text/plain": [
       "82438"
      ]
     },
     "execution_count": 88,
     "metadata": {},
     "output_type": "execute_result"
    }
   ],
   "source": [
    "del temp, matrix, train_data\n",
    "gc.collect()"
   ]
  },
  {
   "cell_type": "code",
   "execution_count": 89,
   "metadata": {
    "ExecuteTime": {
     "end_time": "2021-02-28T00:44:37.614150Z",
     "start_time": "2021-02-28T00:44:37.474077Z"
    }
   },
   "outputs": [],
   "source": [
    "x_train, x_val, y_train, y_val = train_test_split(train_X, train_y, test_size=0.2, random_state=30)"
   ]
  },
  {
   "cell_type": "code",
   "execution_count": 90,
   "metadata": {
    "ExecuteTime": {
     "end_time": "2021-02-28T00:44:37.629148Z",
     "start_time": "2021-02-28T00:44:37.616920Z"
    }
   },
   "outputs": [
    {
     "data": {
      "text/plain": [
       "0    0.938498\n",
       "1    0.061502\n",
       "Name: label, dtype: float64"
      ]
     },
     "execution_count": 90,
     "metadata": {},
     "output_type": "execute_result"
    }
   ],
   "source": [
    "y_train.value_counts(normalize=True)"
   ]
  },
  {
   "cell_type": "code",
   "execution_count": 91,
   "metadata": {
    "ExecuteTime": {
     "end_time": "2021-02-28T00:44:37.643079Z",
     "start_time": "2021-02-28T00:44:37.631700Z"
    }
   },
   "outputs": [
    {
     "data": {
      "text/plain": [
       "0    0.940256\n",
       "1    0.059744\n",
       "Name: label, dtype: float64"
      ]
     },
     "execution_count": 91,
     "metadata": {},
     "output_type": "execute_result"
    }
   ],
   "source": [
    "y_val.value_counts(normalize=True)"
   ]
  },
  {
   "cell_type": "markdown",
   "metadata": {},
   "source": [
    "## 7.2 lgb建模"
   ]
  },
  {
   "cell_type": "code",
   "execution_count": 92,
   "metadata": {
    "ExecuteTime": {
     "end_time": "2021-02-28T00:44:43.107525Z",
     "start_time": "2021-02-28T00:44:37.652208Z"
    },
    "scrolled": true
   },
   "outputs": [
    {
     "name": "stdout",
     "output_type": "stream",
     "text": [
      "[LightGBM] [Warning] learning_rate is set=0.1, eta=0.3 will be ignored. Current value: learning_rate=0.1\n",
      "[LightGBM] [Warning] Accuracy may be bad since you didn't explicitly set num_leaves OR 2^max_depth > num_leaves. (num_leaves=31).\n",
      "[1]\ttraining's auc: 0.63726\ttraining's binary_logloss: 0.229549\tvalid_1's auc: 0.632814\tvalid_1's binary_logloss: 0.224903\n",
      "Training until validation scores don't improve for 10 rounds\n",
      "[2]\ttraining's auc: 0.644249\ttraining's binary_logloss: 0.228279\tvalid_1's auc: 0.639566\tvalid_1's binary_logloss: 0.223768\n",
      "[3]\ttraining's auc: 0.646117\ttraining's binary_logloss: 0.227329\tvalid_1's auc: 0.640485\tvalid_1's binary_logloss: 0.222946\n",
      "[4]\ttraining's auc: 0.649415\ttraining's binary_logloss: 0.226516\tvalid_1's auc: 0.642846\tvalid_1's binary_logloss: 0.222259\n",
      "[5]\ttraining's auc: 0.652103\ttraining's binary_logloss: 0.225781\tvalid_1's auc: 0.644331\tvalid_1's binary_logloss: 0.221658\n",
      "[6]\ttraining's auc: 0.652028\ttraining's binary_logloss: 0.225221\tvalid_1's auc: 0.643194\tvalid_1's binary_logloss: 0.221213\n",
      "[7]\ttraining's auc: 0.653469\ttraining's binary_logloss: 0.224693\tvalid_1's auc: 0.64436\tvalid_1's binary_logloss: 0.220762\n",
      "[8]\ttraining's auc: 0.654413\ttraining's binary_logloss: 0.224241\tvalid_1's auc: 0.644404\tvalid_1's binary_logloss: 0.22043\n",
      "[9]\ttraining's auc: 0.655714\ttraining's binary_logloss: 0.223846\tvalid_1's auc: 0.645334\tvalid_1's binary_logloss: 0.220107\n",
      "[10]\ttraining's auc: 0.656304\ttraining's binary_logloss: 0.223513\tvalid_1's auc: 0.645555\tvalid_1's binary_logloss: 0.219855\n",
      "[11]\ttraining's auc: 0.657977\ttraining's binary_logloss: 0.223174\tvalid_1's auc: 0.64656\tvalid_1's binary_logloss: 0.219634\n",
      "[12]\ttraining's auc: 0.659472\ttraining's binary_logloss: 0.222871\tvalid_1's auc: 0.646857\tvalid_1's binary_logloss: 0.219453\n",
      "[13]\ttraining's auc: 0.660527\ttraining's binary_logloss: 0.22261\tvalid_1's auc: 0.647563\tvalid_1's binary_logloss: 0.219264\n",
      "[14]\ttraining's auc: 0.661675\ttraining's binary_logloss: 0.222322\tvalid_1's auc: 0.648455\tvalid_1's binary_logloss: 0.219037\n",
      "[15]\ttraining's auc: 0.662831\ttraining's binary_logloss: 0.22207\tvalid_1's auc: 0.649082\tvalid_1's binary_logloss: 0.218889\n",
      "[16]\ttraining's auc: 0.663827\ttraining's binary_logloss: 0.221862\tvalid_1's auc: 0.649601\tvalid_1's binary_logloss: 0.218775\n",
      "[17]\ttraining's auc: 0.664862\ttraining's binary_logloss: 0.221628\tvalid_1's auc: 0.650667\tvalid_1's binary_logloss: 0.218592\n",
      "[18]\ttraining's auc: 0.66546\ttraining's binary_logloss: 0.221452\tvalid_1's auc: 0.650365\tvalid_1's binary_logloss: 0.218526\n",
      "[19]\ttraining's auc: 0.666371\ttraining's binary_logloss: 0.221262\tvalid_1's auc: 0.651078\tvalid_1's binary_logloss: 0.218381\n",
      "[20]\ttraining's auc: 0.667738\ttraining's binary_logloss: 0.221027\tvalid_1's auc: 0.652507\tvalid_1's binary_logloss: 0.218186\n",
      "[21]\ttraining's auc: 0.668389\ttraining's binary_logloss: 0.220889\tvalid_1's auc: 0.653276\tvalid_1's binary_logloss: 0.21808\n",
      "[22]\ttraining's auc: 0.669117\ttraining's binary_logloss: 0.220744\tvalid_1's auc: 0.653513\tvalid_1's binary_logloss: 0.217997\n",
      "[23]\ttraining's auc: 0.669781\ttraining's binary_logloss: 0.220588\tvalid_1's auc: 0.653792\tvalid_1's binary_logloss: 0.217909\n",
      "[24]\ttraining's auc: 0.671167\ttraining's binary_logloss: 0.220386\tvalid_1's auc: 0.654627\tvalid_1's binary_logloss: 0.217791\n",
      "[25]\ttraining's auc: 0.672203\ttraining's binary_logloss: 0.220214\tvalid_1's auc: 0.655307\tvalid_1's binary_logloss: 0.217676\n",
      "[26]\ttraining's auc: 0.673001\ttraining's binary_logloss: 0.220068\tvalid_1's auc: 0.655904\tvalid_1's binary_logloss: 0.217572\n",
      "[27]\ttraining's auc: 0.673593\ttraining's binary_logloss: 0.219958\tvalid_1's auc: 0.655823\tvalid_1's binary_logloss: 0.217539\n",
      "[28]\ttraining's auc: 0.674133\ttraining's binary_logloss: 0.219846\tvalid_1's auc: 0.656039\tvalid_1's binary_logloss: 0.217511\n",
      "[29]\ttraining's auc: 0.674623\ttraining's binary_logloss: 0.219727\tvalid_1's auc: 0.656104\tvalid_1's binary_logloss: 0.217479\n",
      "[30]\ttraining's auc: 0.675479\ttraining's binary_logloss: 0.219614\tvalid_1's auc: 0.656335\tvalid_1's binary_logloss: 0.217437\n",
      "[31]\ttraining's auc: 0.675925\ttraining's binary_logloss: 0.219522\tvalid_1's auc: 0.656659\tvalid_1's binary_logloss: 0.217384\n",
      "[32]\ttraining's auc: 0.676518\ttraining's binary_logloss: 0.219415\tvalid_1's auc: 0.656655\tvalid_1's binary_logloss: 0.217367\n",
      "[33]\ttraining's auc: 0.677602\ttraining's binary_logloss: 0.219245\tvalid_1's auc: 0.657688\tvalid_1's binary_logloss: 0.217233\n",
      "[34]\ttraining's auc: 0.679043\ttraining's binary_logloss: 0.219032\tvalid_1's auc: 0.659157\tvalid_1's binary_logloss: 0.217043\n",
      "[35]\ttraining's auc: 0.679761\ttraining's binary_logloss: 0.218933\tvalid_1's auc: 0.659174\tvalid_1's binary_logloss: 0.217019\n",
      "[36]\ttraining's auc: 0.680173\ttraining's binary_logloss: 0.218846\tvalid_1's auc: 0.659154\tvalid_1's binary_logloss: 0.216985\n",
      "[37]\ttraining's auc: 0.680625\ttraining's binary_logloss: 0.218758\tvalid_1's auc: 0.659127\tvalid_1's binary_logloss: 0.21695\n",
      "[38]\ttraining's auc: 0.68092\ttraining's binary_logloss: 0.218705\tvalid_1's auc: 0.659333\tvalid_1's binary_logloss: 0.216929\n",
      "[39]\ttraining's auc: 0.681446\ttraining's binary_logloss: 0.21862\tvalid_1's auc: 0.659734\tvalid_1's binary_logloss: 0.21688\n",
      "[40]\ttraining's auc: 0.682116\ttraining's binary_logloss: 0.218499\tvalid_1's auc: 0.660677\tvalid_1's binary_logloss: 0.216766\n",
      "[41]\ttraining's auc: 0.682673\ttraining's binary_logloss: 0.218412\tvalid_1's auc: 0.660926\tvalid_1's binary_logloss: 0.216739\n",
      "[42]\ttraining's auc: 0.683513\ttraining's binary_logloss: 0.218266\tvalid_1's auc: 0.661844\tvalid_1's binary_logloss: 0.216604\n",
      "[43]\ttraining's auc: 0.683775\ttraining's binary_logloss: 0.218221\tvalid_1's auc: 0.662023\tvalid_1's binary_logloss: 0.216573\n",
      "[44]\ttraining's auc: 0.68421\ttraining's binary_logloss: 0.218151\tvalid_1's auc: 0.662037\tvalid_1's binary_logloss: 0.216557\n",
      "[45]\ttraining's auc: 0.6845\ttraining's binary_logloss: 0.218091\tvalid_1's auc: 0.662345\tvalid_1's binary_logloss: 0.216518\n",
      "[46]\ttraining's auc: 0.685002\ttraining's binary_logloss: 0.217996\tvalid_1's auc: 0.662655\tvalid_1's binary_logloss: 0.216466\n",
      "[47]\ttraining's auc: 0.685278\ttraining's binary_logloss: 0.217936\tvalid_1's auc: 0.662699\tvalid_1's binary_logloss: 0.216452\n",
      "[48]\ttraining's auc: 0.686305\ttraining's binary_logloss: 0.217777\tvalid_1's auc: 0.663716\tvalid_1's binary_logloss: 0.216316\n",
      "[49]\ttraining's auc: 0.686705\ttraining's binary_logloss: 0.217711\tvalid_1's auc: 0.66383\tvalid_1's binary_logloss: 0.216292\n",
      "[50]\ttraining's auc: 0.68724\ttraining's binary_logloss: 0.217623\tvalid_1's auc: 0.664257\tvalid_1's binary_logloss: 0.216231\n",
      "[51]\ttraining's auc: 0.687537\ttraining's binary_logloss: 0.217576\tvalid_1's auc: 0.66441\tvalid_1's binary_logloss: 0.216201\n",
      "[52]\ttraining's auc: 0.687802\ttraining's binary_logloss: 0.21753\tvalid_1's auc: 0.664496\tvalid_1's binary_logloss: 0.216196\n",
      "[53]\ttraining's auc: 0.688068\ttraining's binary_logloss: 0.217483\tvalid_1's auc: 0.664619\tvalid_1's binary_logloss: 0.216164\n",
      "[54]\ttraining's auc: 0.688575\ttraining's binary_logloss: 0.217405\tvalid_1's auc: 0.664498\tvalid_1's binary_logloss: 0.216155\n",
      "[55]\ttraining's auc: 0.689154\ttraining's binary_logloss: 0.217325\tvalid_1's auc: 0.6649\tvalid_1's binary_logloss: 0.216103\n",
      "[56]\ttraining's auc: 0.689541\ttraining's binary_logloss: 0.217264\tvalid_1's auc: 0.665151\tvalid_1's binary_logloss: 0.216076\n",
      "[57]\ttraining's auc: 0.690264\ttraining's binary_logloss: 0.217159\tvalid_1's auc: 0.665672\tvalid_1's binary_logloss: 0.216022\n",
      "[58]\ttraining's auc: 0.690709\ttraining's binary_logloss: 0.217101\tvalid_1's auc: 0.666023\tvalid_1's binary_logloss: 0.215974\n",
      "[59]\ttraining's auc: 0.690998\ttraining's binary_logloss: 0.217041\tvalid_1's auc: 0.666007\tvalid_1's binary_logloss: 0.215963\n",
      "[60]\ttraining's auc: 0.691492\ttraining's binary_logloss: 0.216957\tvalid_1's auc: 0.666264\tvalid_1's binary_logloss: 0.21591\n",
      "[61]\ttraining's auc: 0.691724\ttraining's binary_logloss: 0.216897\tvalid_1's auc: 0.666383\tvalid_1's binary_logloss: 0.215888\n",
      "[62]\ttraining's auc: 0.692161\ttraining's binary_logloss: 0.216832\tvalid_1's auc: 0.666434\tvalid_1's binary_logloss: 0.215865\n",
      "[63]\ttraining's auc: 0.692702\ttraining's binary_logloss: 0.216766\tvalid_1's auc: 0.666538\tvalid_1's binary_logloss: 0.215853\n",
      "[64]\ttraining's auc: 0.693112\ttraining's binary_logloss: 0.216712\tvalid_1's auc: 0.666812\tvalid_1's binary_logloss: 0.215824\n",
      "[65]\ttraining's auc: 0.693484\ttraining's binary_logloss: 0.216651\tvalid_1's auc: 0.666577\tvalid_1's binary_logloss: 0.21584\n",
      "[66]\ttraining's auc: 0.693845\ttraining's binary_logloss: 0.216591\tvalid_1's auc: 0.666684\tvalid_1's binary_logloss: 0.215812\n"
     ]
    },
    {
     "name": "stdout",
     "output_type": "stream",
     "text": [
      "[67]\ttraining's auc: 0.694252\ttraining's binary_logloss: 0.216524\tvalid_1's auc: 0.666686\tvalid_1's binary_logloss: 0.215811\n",
      "[68]\ttraining's auc: 0.69435\ttraining's binary_logloss: 0.216495\tvalid_1's auc: 0.666692\tvalid_1's binary_logloss: 0.215799\n",
      "[69]\ttraining's auc: 0.694685\ttraining's binary_logloss: 0.216452\tvalid_1's auc: 0.666831\tvalid_1's binary_logloss: 0.215789\n",
      "[70]\ttraining's auc: 0.695178\ttraining's binary_logloss: 0.216374\tvalid_1's auc: 0.667188\tvalid_1's binary_logloss: 0.215729\n",
      "[71]\ttraining's auc: 0.695711\ttraining's binary_logloss: 0.2163\tvalid_1's auc: 0.667657\tvalid_1's binary_logloss: 0.215668\n",
      "[72]\ttraining's auc: 0.696115\ttraining's binary_logloss: 0.216244\tvalid_1's auc: 0.667917\tvalid_1's binary_logloss: 0.215634\n",
      "[73]\ttraining's auc: 0.696626\ttraining's binary_logloss: 0.216161\tvalid_1's auc: 0.668253\tvalid_1's binary_logloss: 0.215593\n",
      "[74]\ttraining's auc: 0.697058\ttraining's binary_logloss: 0.216094\tvalid_1's auc: 0.668538\tvalid_1's binary_logloss: 0.215559\n",
      "[75]\ttraining's auc: 0.6973\ttraining's binary_logloss: 0.216048\tvalid_1's auc: 0.668775\tvalid_1's binary_logloss: 0.215528\n",
      "[76]\ttraining's auc: 0.697711\ttraining's binary_logloss: 0.215975\tvalid_1's auc: 0.669245\tvalid_1's binary_logloss: 0.215457\n",
      "[77]\ttraining's auc: 0.698072\ttraining's binary_logloss: 0.215915\tvalid_1's auc: 0.669241\tvalid_1's binary_logloss: 0.215437\n",
      "[78]\ttraining's auc: 0.69838\ttraining's binary_logloss: 0.215868\tvalid_1's auc: 0.669207\tvalid_1's binary_logloss: 0.215435\n",
      "[79]\ttraining's auc: 0.698735\ttraining's binary_logloss: 0.215821\tvalid_1's auc: 0.669412\tvalid_1's binary_logloss: 0.215408\n",
      "[80]\ttraining's auc: 0.699209\ttraining's binary_logloss: 0.215758\tvalid_1's auc: 0.669653\tvalid_1's binary_logloss: 0.215369\n",
      "[81]\ttraining's auc: 0.699653\ttraining's binary_logloss: 0.215692\tvalid_1's auc: 0.669844\tvalid_1's binary_logloss: 0.215353\n",
      "[82]\ttraining's auc: 0.700045\ttraining's binary_logloss: 0.215629\tvalid_1's auc: 0.670112\tvalid_1's binary_logloss: 0.215304\n",
      "[83]\ttraining's auc: 0.700213\ttraining's binary_logloss: 0.215589\tvalid_1's auc: 0.670177\tvalid_1's binary_logloss: 0.215292\n",
      "[84]\ttraining's auc: 0.700442\ttraining's binary_logloss: 0.215557\tvalid_1's auc: 0.67027\tvalid_1's binary_logloss: 0.215281\n",
      "[85]\ttraining's auc: 0.700835\ttraining's binary_logloss: 0.215486\tvalid_1's auc: 0.670099\tvalid_1's binary_logloss: 0.215293\n",
      "[86]\ttraining's auc: 0.701158\ttraining's binary_logloss: 0.21542\tvalid_1's auc: 0.670263\tvalid_1's binary_logloss: 0.215272\n",
      "[87]\ttraining's auc: 0.70143\ttraining's binary_logloss: 0.215375\tvalid_1's auc: 0.670249\tvalid_1's binary_logloss: 0.215276\n",
      "[88]\ttraining's auc: 0.701837\ttraining's binary_logloss: 0.215308\tvalid_1's auc: 0.670279\tvalid_1's binary_logloss: 0.215268\n",
      "[89]\ttraining's auc: 0.702208\ttraining's binary_logloss: 0.215254\tvalid_1's auc: 0.670192\tvalid_1's binary_logloss: 0.215277\n",
      "[90]\ttraining's auc: 0.702379\ttraining's binary_logloss: 0.215219\tvalid_1's auc: 0.670389\tvalid_1's binary_logloss: 0.215235\n",
      "[91]\ttraining's auc: 0.702413\ttraining's binary_logloss: 0.215207\tvalid_1's auc: 0.670374\tvalid_1's binary_logloss: 0.215242\n",
      "[92]\ttraining's auc: 0.70266\ttraining's binary_logloss: 0.21516\tvalid_1's auc: 0.670574\tvalid_1's binary_logloss: 0.215209\n",
      "[93]\ttraining's auc: 0.70274\ttraining's binary_logloss: 0.21514\tvalid_1's auc: 0.670483\tvalid_1's binary_logloss: 0.215211\n",
      "[94]\ttraining's auc: 0.702948\ttraining's binary_logloss: 0.215105\tvalid_1's auc: 0.670615\tvalid_1's binary_logloss: 0.215199\n",
      "[95]\ttraining's auc: 0.703234\ttraining's binary_logloss: 0.215061\tvalid_1's auc: 0.670736\tvalid_1's binary_logloss: 0.215181\n",
      "[96]\ttraining's auc: 0.703322\ttraining's binary_logloss: 0.215042\tvalid_1's auc: 0.670777\tvalid_1's binary_logloss: 0.215166\n",
      "[97]\ttraining's auc: 0.703397\ttraining's binary_logloss: 0.215023\tvalid_1's auc: 0.670789\tvalid_1's binary_logloss: 0.215161\n",
      "[98]\ttraining's auc: 0.703491\ttraining's binary_logloss: 0.214999\tvalid_1's auc: 0.670899\tvalid_1's binary_logloss: 0.215144\n",
      "[99]\ttraining's auc: 0.703603\ttraining's binary_logloss: 0.214973\tvalid_1's auc: 0.67095\tvalid_1's binary_logloss: 0.215134\n",
      "[100]\ttraining's auc: 0.704068\ttraining's binary_logloss: 0.214904\tvalid_1's auc: 0.670762\tvalid_1's binary_logloss: 0.21515\n",
      "[101]\ttraining's auc: 0.704239\ttraining's binary_logloss: 0.214878\tvalid_1's auc: 0.670967\tvalid_1's binary_logloss: 0.21513\n",
      "[102]\ttraining's auc: 0.704582\ttraining's binary_logloss: 0.214817\tvalid_1's auc: 0.670981\tvalid_1's binary_logloss: 0.215119\n",
      "[103]\ttraining's auc: 0.704704\ttraining's binary_logloss: 0.214797\tvalid_1's auc: 0.670976\tvalid_1's binary_logloss: 0.215121\n",
      "[104]\ttraining's auc: 0.704764\ttraining's binary_logloss: 0.214782\tvalid_1's auc: 0.671062\tvalid_1's binary_logloss: 0.215107\n",
      "[105]\ttraining's auc: 0.705052\ttraining's binary_logloss: 0.214736\tvalid_1's auc: 0.671244\tvalid_1's binary_logloss: 0.215078\n",
      "[106]\ttraining's auc: 0.705161\ttraining's binary_logloss: 0.214717\tvalid_1's auc: 0.671214\tvalid_1's binary_logloss: 0.215082\n",
      "[107]\ttraining's auc: 0.705497\ttraining's binary_logloss: 0.214665\tvalid_1's auc: 0.671424\tvalid_1's binary_logloss: 0.215055\n",
      "[108]\ttraining's auc: 0.705747\ttraining's binary_logloss: 0.214623\tvalid_1's auc: 0.671607\tvalid_1's binary_logloss: 0.215013\n",
      "[109]\ttraining's auc: 0.706051\ttraining's binary_logloss: 0.214572\tvalid_1's auc: 0.671837\tvalid_1's binary_logloss: 0.214969\n",
      "[110]\ttraining's auc: 0.706185\ttraining's binary_logloss: 0.21455\tvalid_1's auc: 0.67188\tvalid_1's binary_logloss: 0.214967\n",
      "[111]\ttraining's auc: 0.706319\ttraining's binary_logloss: 0.214516\tvalid_1's auc: 0.671865\tvalid_1's binary_logloss: 0.214965\n",
      "[112]\ttraining's auc: 0.706425\ttraining's binary_logloss: 0.214493\tvalid_1's auc: 0.671981\tvalid_1's binary_logloss: 0.214947\n",
      "[113]\ttraining's auc: 0.706523\ttraining's binary_logloss: 0.214471\tvalid_1's auc: 0.671949\tvalid_1's binary_logloss: 0.214948\n",
      "[114]\ttraining's auc: 0.706746\ttraining's binary_logloss: 0.214431\tvalid_1's auc: 0.671977\tvalid_1's binary_logloss: 0.214938\n",
      "[115]\ttraining's auc: 0.707043\ttraining's binary_logloss: 0.214386\tvalid_1's auc: 0.672112\tvalid_1's binary_logloss: 0.214915\n",
      "[116]\ttraining's auc: 0.70734\ttraining's binary_logloss: 0.214338\tvalid_1's auc: 0.672177\tvalid_1's binary_logloss: 0.214904\n",
      "[117]\ttraining's auc: 0.707476\ttraining's binary_logloss: 0.214314\tvalid_1's auc: 0.672175\tvalid_1's binary_logloss: 0.214906\n",
      "[118]\ttraining's auc: 0.707695\ttraining's binary_logloss: 0.214282\tvalid_1's auc: 0.672255\tvalid_1's binary_logloss: 0.214897\n",
      "[119]\ttraining's auc: 0.707898\ttraining's binary_logloss: 0.214245\tvalid_1's auc: 0.67245\tvalid_1's binary_logloss: 0.214866\n",
      "[120]\ttraining's auc: 0.708279\ttraining's binary_logloss: 0.214185\tvalid_1's auc: 0.672227\tvalid_1's binary_logloss: 0.214886\n",
      "[121]\ttraining's auc: 0.708648\ttraining's binary_logloss: 0.214124\tvalid_1's auc: 0.672298\tvalid_1's binary_logloss: 0.214865\n",
      "[122]\ttraining's auc: 0.708849\ttraining's binary_logloss: 0.21409\tvalid_1's auc: 0.672287\tvalid_1's binary_logloss: 0.214867\n",
      "[123]\ttraining's auc: 0.709123\ttraining's binary_logloss: 0.214056\tvalid_1's auc: 0.672391\tvalid_1's binary_logloss: 0.214851\n",
      "[124]\ttraining's auc: 0.70947\ttraining's binary_logloss: 0.214001\tvalid_1's auc: 0.672627\tvalid_1's binary_logloss: 0.21482\n",
      "[125]\ttraining's auc: 0.709719\ttraining's binary_logloss: 0.213959\tvalid_1's auc: 0.67267\tvalid_1's binary_logloss: 0.214811\n",
      "[126]\ttraining's auc: 0.709866\ttraining's binary_logloss: 0.213933\tvalid_1's auc: 0.672727\tvalid_1's binary_logloss: 0.214797\n",
      "[127]\ttraining's auc: 0.710249\ttraining's binary_logloss: 0.213873\tvalid_1's auc: 0.672805\tvalid_1's binary_logloss: 0.214782\n",
      "[128]\ttraining's auc: 0.710536\ttraining's binary_logloss: 0.21382\tvalid_1's auc: 0.672822\tvalid_1's binary_logloss: 0.214761\n",
      "[129]\ttraining's auc: 0.710951\ttraining's binary_logloss: 0.213756\tvalid_1's auc: 0.673073\tvalid_1's binary_logloss: 0.214737\n",
      "[130]\ttraining's auc: 0.711225\ttraining's binary_logloss: 0.21371\tvalid_1's auc: 0.673119\tvalid_1's binary_logloss: 0.214728\n",
      "[131]\ttraining's auc: 0.711531\ttraining's binary_logloss: 0.213655\tvalid_1's auc: 0.673324\tvalid_1's binary_logloss: 0.214705\n",
      "[132]\ttraining's auc: 0.711659\ttraining's binary_logloss: 0.213626\tvalid_1's auc: 0.673241\tvalid_1's binary_logloss: 0.214708\n",
      "[133]\ttraining's auc: 0.711721\ttraining's binary_logloss: 0.21361\tvalid_1's auc: 0.673258\tvalid_1's binary_logloss: 0.214706\n",
      "[134]\ttraining's auc: 0.711816\ttraining's binary_logloss: 0.213592\tvalid_1's auc: 0.673272\tvalid_1's binary_logloss: 0.214712\n",
      "[135]\ttraining's auc: 0.711857\ttraining's binary_logloss: 0.213579\tvalid_1's auc: 0.673266\tvalid_1's binary_logloss: 0.214711\n",
      "[136]\ttraining's auc: 0.711957\ttraining's binary_logloss: 0.213556\tvalid_1's auc: 0.673305\tvalid_1's binary_logloss: 0.2147\n",
      "[137]\ttraining's auc: 0.71214\ttraining's binary_logloss: 0.213522\tvalid_1's auc: 0.673252\tvalid_1's binary_logloss: 0.214708\n",
      "[138]\ttraining's auc: 0.712411\ttraining's binary_logloss: 0.213483\tvalid_1's auc: 0.673115\tvalid_1's binary_logloss: 0.214722\n"
     ]
    },
    {
     "name": "stdout",
     "output_type": "stream",
     "text": [
      "[139]\ttraining's auc: 0.712809\ttraining's binary_logloss: 0.213424\tvalid_1's auc: 0.673228\tvalid_1's binary_logloss: 0.214708\n",
      "[140]\ttraining's auc: 0.712949\ttraining's binary_logloss: 0.213403\tvalid_1's auc: 0.673207\tvalid_1's binary_logloss: 0.214713\n",
      "[141]\ttraining's auc: 0.71306\ttraining's binary_logloss: 0.213384\tvalid_1's auc: 0.673268\tvalid_1's binary_logloss: 0.214704\n",
      "Early stopping, best iteration is:\n",
      "[131]\ttraining's auc: 0.711531\ttraining's binary_logloss: 0.213655\tvalid_1's auc: 0.673324\tvalid_1's binary_logloss: 0.214705\n"
     ]
    },
    {
     "data": {
      "text/plain": [
       "LGBMClassifier(colsample_bytree=0.8, eta=0.3, max_depth=8, min_child_weight=300,\n",
       "               n_estimators=1000, seed=42, subsample=0.8)"
      ]
     },
     "execution_count": 92,
     "metadata": {},
     "output_type": "execute_result"
    }
   ],
   "source": [
    "model_lgb = lgb.LGBMClassifier(max_depth=8,\n",
    "                               n_estimators=1000,\n",
    "                               min_child_weight=300,\n",
    "                               colsample_bytree=0.8,\n",
    "                               subsample=0.8,\n",
    "                               eta=0.3,\n",
    "                               seed=42)\n",
    "\n",
    "model_lgb.fit(x_train,\n",
    "              y_train,\n",
    "              eval_metric='auc',\n",
    "              eval_set=[(x_train, y_train), (x_val, y_val)],\n",
    "              verbose=True,\n",
    "              early_stopping_rounds=10)"
   ]
  },
  {
   "cell_type": "code",
   "execution_count": 93,
   "metadata": {
    "ExecuteTime": {
     "end_time": "2021-02-28T00:44:45.010228Z",
     "start_time": "2021-02-28T00:44:43.110277Z"
    }
   },
   "outputs": [],
   "source": [
    "prob = model_lgb.predict_proba(test_data)\n",
    "submission['prob'] = pd.Series(prob[:, 1])\n",
    "submission.drop(['origin'], axis=1, inplace=True)\n",
    "submission.to_csv('prediction_lgb.csv', index=False)"
   ]
  },
  {
   "cell_type": "code",
   "execution_count": 94,
   "metadata": {
    "ExecuteTime": {
     "end_time": "2021-02-28T00:44:45.048847Z",
     "start_time": "2021-02-28T00:44:45.012779Z"
    }
   },
   "outputs": [],
   "source": [
    "import pickle\n",
    "file_name = \"lgb_tianchi_model.pickle\"\n",
    "with open(file_name, 'wb') as file:\n",
    "    pickle.dump(model_lgb, file)"
   ]
  },
  {
   "cell_type": "code",
   "execution_count": 95,
   "metadata": {
    "ExecuteTime": {
     "end_time": "2021-02-28T00:44:45.118529Z",
     "start_time": "2021-02-28T00:44:45.052409Z"
    }
   },
   "outputs": [
    {
     "data": {
      "text/html": [
       "<div>\n",
       "<style scoped>\n",
       "    .dataframe tbody tr th:only-of-type {\n",
       "        vertical-align: middle;\n",
       "    }\n",
       "\n",
       "    .dataframe tbody tr th {\n",
       "        vertical-align: top;\n",
       "    }\n",
       "\n",
       "    .dataframe thead th {\n",
       "        text-align: right;\n",
       "    }\n",
       "</style>\n",
       "<table border=\"1\" class=\"dataframe\">\n",
       "  <thead>\n",
       "    <tr style=\"text-align: right;\">\n",
       "      <th></th>\n",
       "      <th>prob</th>\n",
       "    </tr>\n",
       "  </thead>\n",
       "  <tbody>\n",
       "    <tr>\n",
       "      <th>count</th>\n",
       "      <td>261477.000000</td>\n",
       "    </tr>\n",
       "    <tr>\n",
       "      <th>mean</th>\n",
       "      <td>0.061360</td>\n",
       "    </tr>\n",
       "    <tr>\n",
       "      <th>std</th>\n",
       "      <td>0.040932</td>\n",
       "    </tr>\n",
       "    <tr>\n",
       "      <th>min</th>\n",
       "      <td>0.010166</td>\n",
       "    </tr>\n",
       "    <tr>\n",
       "      <th>25%</th>\n",
       "      <td>0.035420</td>\n",
       "    </tr>\n",
       "    <tr>\n",
       "      <th>50%</th>\n",
       "      <td>0.049045</td>\n",
       "    </tr>\n",
       "    <tr>\n",
       "      <th>75%</th>\n",
       "      <td>0.072767</td>\n",
       "    </tr>\n",
       "    <tr>\n",
       "      <th>max</th>\n",
       "      <td>0.444648</td>\n",
       "    </tr>\n",
       "  </tbody>\n",
       "</table>\n",
       "</div>"
      ],
      "text/plain": [
       "                prob\n",
       "count  261477.000000\n",
       "mean        0.061360\n",
       "std         0.040932\n",
       "min         0.010166\n",
       "25%         0.035420\n",
       "50%         0.049045\n",
       "75%         0.072767\n",
       "max         0.444648"
      ]
     },
     "execution_count": 95,
     "metadata": {},
     "output_type": "execute_result"
    }
   ],
   "source": [
    "submission[['prob']].describe()"
   ]
  },
  {
   "cell_type": "code",
   "execution_count": 96,
   "metadata": {
    "ExecuteTime": {
     "end_time": "2021-02-28T00:44:45.542391Z",
     "start_time": "2021-02-28T00:44:45.126591Z"
    }
   },
   "outputs": [
    {
     "data": {
      "text/plain": [
       "<matplotlib.axes._subplots.AxesSubplot at 0x7ff9f3746850>"
      ]
     },
     "execution_count": 96,
     "metadata": {},
     "output_type": "execute_result"
    },
    {
     "data": {
      "image/png": "[encoded data removed]",
      "text/plain": [
       "<Figure size 1080x1080 with 1 Axes>"
      ]
     },
     "metadata": {
      "needs_background": "light"
     },
     "output_type": "display_data"
    }
   ],
   "source": [
    "fig, ax = plt.subplots(figsize=(15, 15))\n",
    "lgb.plot_importance(model_lgb, height=1, ax=ax)"
   ]
  },
  {
   "cell_type": "code",
   "execution_count": 97,
   "metadata": {
    "ExecuteTime": {
     "end_time": "2021-02-28T00:44:45.835010Z",
     "start_time": "2021-02-28T00:44:45.545082Z"
    }
   },
   "outputs": [
    {
     "data": {
      "text/html": [
       "<div>\n",
       "<style scoped>\n",
       "    .dataframe tbody tr th:only-of-type {\n",
       "        vertical-align: middle;\n",
       "    }\n",
       "\n",
       "    .dataframe tbody tr th {\n",
       "        vertical-align: top;\n",
       "    }\n",
       "\n",
       "    .dataframe thead th {\n",
       "        text-align: right;\n",
       "    }\n",
       "</style>\n",
       "<table border=\"1\" class=\"dataframe\">\n",
       "  <thead>\n",
       "    <tr style=\"text-align: right;\">\n",
       "      <th></th>\n",
       "      <th>user_id</th>\n",
       "      <th>merchant_id</th>\n",
       "      <th>u1</th>\n",
       "      <th>u3</th>\n",
       "      <th>u4</th>\n",
       "      <th>u6</th>\n",
       "      <th>u8</th>\n",
       "      <th>u9</th>\n",
       "      <th>u10</th>\n",
       "      <th>m1</th>\n",
       "      <th>...</th>\n",
       "      <th>age_1</th>\n",
       "      <th>age_2</th>\n",
       "      <th>age_3</th>\n",
       "      <th>age_4</th>\n",
       "      <th>age_5</th>\n",
       "      <th>age_6</th>\n",
       "      <th>age_7</th>\n",
       "      <th>age_8</th>\n",
       "      <th>g_0</th>\n",
       "      <th>g_2</th>\n",
       "    </tr>\n",
       "  </thead>\n",
       "  <tbody>\n",
       "    <tr>\n",
       "      <th>count</th>\n",
       "      <td>261477.000000</td>\n",
       "      <td>261477.000000</td>\n",
       "      <td>261477.000000</td>\n",
       "      <td>261477.000000</td>\n",
       "      <td>261477.000000</td>\n",
       "      <td>261477.000000</td>\n",
       "      <td>261477.000000</td>\n",
       "      <td>261477.000000</td>\n",
       "      <td>261477.000000</td>\n",
       "      <td>261477.000000</td>\n",
       "      <td>...</td>\n",
       "      <td>261477.000000</td>\n",
       "      <td>261477.000000</td>\n",
       "      <td>261477.000000</td>\n",
       "      <td>261477.000000</td>\n",
       "      <td>261477.000000</td>\n",
       "      <td>261477.000000</td>\n",
       "      <td>261477.000000</td>\n",
       "      <td>261477.000000</td>\n",
       "      <td>261477.000000</td>\n",
       "      <td>261477.000000</td>\n",
       "    </tr>\n",
       "    <tr>\n",
       "      <th>mean</th>\n",
       "      <td>212121.259128</td>\n",
       "      <td>2539.620077</td>\n",
       "      <td>143.156450</td>\n",
       "      <td>24.053752</td>\n",
       "      <td>35.590947</td>\n",
       "      <td>145.396976</td>\n",
       "      <td>0.187011</td>\n",
       "      <td>8.791878</td>\n",
       "      <td>7.726309</td>\n",
       "      <td>58866.772018</td>\n",
       "      <td>...</td>\n",
       "      <td>0.000057</td>\n",
       "      <td>0.119930</td>\n",
       "      <td>0.264478</td>\n",
       "      <td>0.196434</td>\n",
       "      <td>0.097959</td>\n",
       "      <td>0.082917</td>\n",
       "      <td>0.016483</td>\n",
       "      <td>0.003048</td>\n",
       "      <td>0.674159</td>\n",
       "      <td>0.041541</td>\n",
       "    </tr>\n",
       "    <tr>\n",
       "      <th>std</th>\n",
       "      <td>122480.366678</td>\n",
       "      <td>1451.697856</td>\n",
       "      <td>210.244315</td>\n",
       "      <td>18.083493</td>\n",
       "      <td>36.700412</td>\n",
       "      <td>45.677855</td>\n",
       "      <td>0.921444</td>\n",
       "      <td>10.948551</td>\n",
       "      <td>21.268901</td>\n",
       "      <td>123677.533076</td>\n",
       "      <td>...</td>\n",
       "      <td>0.007574</td>\n",
       "      <td>0.324881</td>\n",
       "      <td>0.441056</td>\n",
       "      <td>0.397301</td>\n",
       "      <td>0.297260</td>\n",
       "      <td>0.275758</td>\n",
       "      <td>0.127325</td>\n",
       "      <td>0.055125</td>\n",
       "      <td>0.468689</td>\n",
       "      <td>0.199538</td>\n",
       "    </tr>\n",
       "    <tr>\n",
       "      <th>min</th>\n",
       "      <td>2.000000</td>\n",
       "      <td>2.000000</td>\n",
       "      <td>2.000000</td>\n",
       "      <td>1.000000</td>\n",
       "      <td>1.000000</td>\n",
       "      <td>1.000000</td>\n",
       "      <td>0.000000</td>\n",
       "      <td>1.000000</td>\n",
       "      <td>0.000000</td>\n",
       "      <td>391.000000</td>\n",
       "      <td>...</td>\n",
       "      <td>0.000000</td>\n",
       "      <td>0.000000</td>\n",
       "      <td>0.000000</td>\n",
       "      <td>0.000000</td>\n",
       "      <td>0.000000</td>\n",
       "      <td>0.000000</td>\n",
       "      <td>0.000000</td>\n",
       "      <td>0.000000</td>\n",
       "      <td>0.000000</td>\n",
       "      <td>0.000000</td>\n",
       "    </tr>\n",
       "    <tr>\n",
       "      <th>25%</th>\n",
       "      <td>106317.000000</td>\n",
       "      <td>1340.000000</td>\n",
       "      <td>40.000000</td>\n",
       "      <td>11.000000</td>\n",
       "      <td>14.000000</td>\n",
       "      <td>136.000000</td>\n",
       "      <td>0.000000</td>\n",
       "      <td>3.000000</td>\n",
       "      <td>0.000000</td>\n",
       "      <td>7601.000000</td>\n",
       "      <td>...</td>\n",
       "      <td>0.000000</td>\n",
       "      <td>0.000000</td>\n",
       "      <td>0.000000</td>\n",
       "      <td>0.000000</td>\n",
       "      <td>0.000000</td>\n",
       "      <td>0.000000</td>\n",
       "      <td>0.000000</td>\n",
       "      <td>0.000000</td>\n",
       "      <td>0.000000</td>\n",
       "      <td>0.000000</td>\n",
       "    </tr>\n",
       "    <tr>\n",
       "      <th>50%</th>\n",
       "      <td>212289.000000</td>\n",
       "      <td>2482.000000</td>\n",
       "      <td>81.000000</td>\n",
       "      <td>19.000000</td>\n",
       "      <td>25.000000</td>\n",
       "      <td>166.000000</td>\n",
       "      <td>0.000000</td>\n",
       "      <td>6.000000</td>\n",
       "      <td>1.000000</td>\n",
       "      <td>20515.000000</td>\n",
       "      <td>...</td>\n",
       "      <td>0.000000</td>\n",
       "      <td>0.000000</td>\n",
       "      <td>0.000000</td>\n",
       "      <td>0.000000</td>\n",
       "      <td>0.000000</td>\n",
       "      <td>0.000000</td>\n",
       "      <td>0.000000</td>\n",
       "      <td>0.000000</td>\n",
       "      <td>1.000000</td>\n",
       "      <td>0.000000</td>\n",
       "    </tr>\n",
       "    <tr>\n",
       "      <th>75%</th>\n",
       "      <td>318194.000000</td>\n",
       "      <td>3898.000000</td>\n",
       "      <td>165.000000</td>\n",
       "      <td>31.000000</td>\n",
       "      <td>44.000000</td>\n",
       "      <td>174.000000</td>\n",
       "      <td>0.000000</td>\n",
       "      <td>11.000000</td>\n",
       "      <td>6.000000</td>\n",
       "      <td>47979.000000</td>\n",
       "      <td>...</td>\n",
       "      <td>0.000000</td>\n",
       "      <td>0.000000</td>\n",
       "      <td>1.000000</td>\n",
       "      <td>0.000000</td>\n",
       "      <td>0.000000</td>\n",
       "      <td>0.000000</td>\n",
       "      <td>0.000000</td>\n",
       "      <td>0.000000</td>\n",
       "      <td>1.000000</td>\n",
       "      <td>0.000000</td>\n",
       "    </tr>\n",
       "    <tr>\n",
       "      <th>max</th>\n",
       "      <td>424169.000000</td>\n",
       "      <td>4993.000000</td>\n",
       "      <td>14468.000000</td>\n",
       "      <td>412.000000</td>\n",
       "      <td>1683.000000</td>\n",
       "      <td>184.000000</td>\n",
       "      <td>27.000000</td>\n",
       "      <td>905.000000</td>\n",
       "      <td>1834.000000</td>\n",
       "      <td>730455.000000</td>\n",
       "      <td>...</td>\n",
       "      <td>1.000000</td>\n",
       "      <td>1.000000</td>\n",
       "      <td>1.000000</td>\n",
       "      <td>1.000000</td>\n",
       "      <td>1.000000</td>\n",
       "      <td>1.000000</td>\n",
       "      <td>1.000000</td>\n",
       "      <td>1.000000</td>\n",
       "      <td>1.000000</td>\n",
       "      <td>1.000000</td>\n",
       "    </tr>\n",
       "  </tbody>\n",
       "</table>\n",
       "<p>8 rows × 37 columns</p>\n",
       "</div>"
      ],
      "text/plain": [
       "             user_id    merchant_id             u1             u3  \\\n",
       "count  261477.000000  261477.000000  261477.000000  261477.000000   \n",
       "mean   212121.259128    2539.620077     143.156450      24.053752   \n",
       "std    122480.366678    1451.697856     210.244315      18.083493   \n",
       "min         2.000000       2.000000       2.000000       1.000000   \n",
       "25%    106317.000000    1340.000000      40.000000      11.000000   \n",
       "50%    212289.000000    2482.000000      81.000000      19.000000   \n",
       "75%    318194.000000    3898.000000     165.000000      31.000000   \n",
       "max    424169.000000    4993.000000   14468.000000     412.000000   \n",
       "\n",
       "                  u4             u6             u8             u9  \\\n",
       "count  261477.000000  261477.000000  261477.000000  261477.000000   \n",
       "mean       35.590947     145.396976       0.187011       8.791878   \n",
       "std        36.700412      45.677855       0.921444      10.948551   \n",
       "min         1.000000       1.000000       0.000000       1.000000   \n",
       "25%        14.000000     136.000000       0.000000       3.000000   \n",
       "50%        25.000000     166.000000       0.000000       6.000000   \n",
       "75%        44.000000     174.000000       0.000000      11.000000   \n",
       "max      1683.000000     184.000000      27.000000     905.000000   \n",
       "\n",
       "                 u10             m1  ...          age_1          age_2  \\\n",
       "count  261477.000000  261477.000000  ...  261477.000000  261477.000000   \n",
       "mean        7.726309   58866.772018  ...       0.000057       0.119930   \n",
       "std        21.268901  123677.533076  ...       0.007574       0.324881   \n",
       "min         0.000000     391.000000  ...       0.000000       0.000000   \n",
       "25%         0.000000    7601.000000  ...       0.000000       0.000000   \n",
       "50%         1.000000   20515.000000  ...       0.000000       0.000000   \n",
       "75%         6.000000   47979.000000  ...       0.000000       0.000000   \n",
       "max      1834.000000  730455.000000  ...       1.000000       1.000000   \n",
       "\n",
       "               age_3          age_4          age_5          age_6  \\\n",
       "count  261477.000000  261477.000000  261477.000000  261477.000000   \n",
       "mean        0.264478       0.196434       0.097959       0.082917   \n",
       "std         0.441056       0.397301       0.297260       0.275758   \n",
       "min         0.000000       0.000000       0.000000       0.000000   \n",
       "25%         0.000000       0.000000       0.000000       0.000000   \n",
       "50%         0.000000       0.000000       0.000000       0.000000   \n",
       "75%         1.000000       0.000000       0.000000       0.000000   \n",
       "max         1.000000       1.000000       1.000000       1.000000   \n",
       "\n",
       "               age_7          age_8            g_0            g_2  \n",
       "count  261477.000000  261477.000000  261477.000000  261477.000000  \n",
       "mean        0.016483       0.003048       0.674159       0.041541  \n",
       "std         0.127325       0.055125       0.468689       0.199538  \n",
       "min         0.000000       0.000000       0.000000       0.000000  \n",
       "25%         0.000000       0.000000       0.000000       0.000000  \n",
       "50%         0.000000       0.000000       1.000000       0.000000  \n",
       "75%         0.000000       0.000000       1.000000       0.000000  \n",
       "max         1.000000       1.000000       1.000000       1.000000  \n",
       "\n",
       "[8 rows x 37 columns]"
      ]
     },
     "execution_count": 97,
     "metadata": {},
     "output_type": "execute_result"
    }
   ],
   "source": [
    "test_data.describe()"
   ]
  },
  {
   "cell_type": "markdown",
   "metadata": {},
   "source": [
    "# 8 总结："
   ]
  },
  {
   "cell_type": "markdown",
   "metadata": {},
   "source": [
    "1. time_stamp列的解析按照月日解析，不要照抄老师的小时和分钟解析；\n",
    "2. 标题2、3、4的生成特征的处理过程非常相似，我封装了函数，但为了让自己以后复习好查看，所以未直接调用函数；比对过调用函数和不调用函数的处理结果相同；\n",
    "3. 这次只做了降低内存的方法。代码仍然有优化的空间，其实可以使用pickle等把df保存到本地，读取更快捷，周末要去加班，这次我偷懒了。\n",
    "4. 虽然我用相关系数去除了部分强多重共线性的特征，我用xgb测试过，去除后分数有提升，本版本的lgb未测试，但判断是会有提升的，这点等出差回去再测试下。\n",
    "5. 上上周新看到个对ID类高基数类别特征进行目标编码的方法。在这次的特征处理时尝试应用目标编码进行ID类别特征的处理。训练集auc趋近于1，但跑了一晚上，发现预测结果都几乎是0；导致出现这种情况的原因是它的目标编码依赖于y（目标值），而测试集由于label是空值，导致对测试集的ID编码后，得到的编码都是空值，我用0填充空值后得到编码全部是0。对目标编码方法的应用还需要再尝试。\n",
    "6. DIN模型出差回去再搞一波。"
   ]
  },
  {
   "cell_type": "code",
   "execution_count": null,
   "metadata": {},
   "outputs": [],
   "source": []
  }
 ],
 "metadata": {
  "kernelspec": {
   "display_name": "Python [conda env:envpy37]",
   "language": "python",
   "name": "conda-env-envpy37-py"
  },
  "language_info": {
   "codemirror_mode": {
    "name": "ipython",
    "version": 3
   },
   "file_extension": ".py",
   "mimetype": "text/x-python",
   "name": "python",
   "nbconvert_exporter": "python",
   "pygments_lexer": "ipython3",
   "version": "3.7.7"
  },
  "toc": {
   "base_numbering": 1,
   "nav_menu": {},
   "number_sections": false,
   "sideBar": true,
   "skip_h1_title": false,
   "title_cell": "Table of Contents",
   "title_sidebar": "Contents",
   "toc_cell": true,
   "toc_position": {
    "height": "calc(100% - 180px)",
    "left": "10px",
    "top": "150px",
    "width": "281.188px"
   },
   "toc_section_display": true,
   "toc_window_display": true
  },
  "varInspector": {
   "cols": {
    "lenName": 16,
    "lenType": 16,
    "lenVar": 40
   },
   "kernels_config": {
    "python": {
     "delete_cmd_postfix": "",
     "delete_cmd_prefix": "del ",
     "library": "var_list.py",
     "varRefreshCmd": "print(var_dic_list())"
    },
    "r": {
     "delete_cmd_postfix": ") ",
     "delete_cmd_prefix": "rm(",
     "library": "var_list.r",
     "varRefreshCmd": "cat(var_dic_list()) "
    }
   },
   "oldHeight": 122,
   "position": {
    "height": "40px",
    "left": "1136px",
    "right": "20px",
    "top": "120px",
    "width": "250px"
   },
   "types_to_exclude": [
    "module",
    "function",
    "builtin_function_or_method",
    "instance",
    "_Feature"
   ],
   "varInspector_section_display": "none",
   "window_display": true
  }
 },
 "nbformat": 4,
 "nbformat_minor": 4
}
