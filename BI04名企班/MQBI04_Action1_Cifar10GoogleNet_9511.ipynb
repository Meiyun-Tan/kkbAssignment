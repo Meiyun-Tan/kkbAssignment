{
 "cells": [
  {
   "cell_type": "markdown",
   "metadata": {
    "toc": true
   },
   "source": [
    "<h1>Table of Contents<span class=\"tocSkip\"></span></h1>\n",
    "<div class=\"toc\"><ul class=\"toc-item\"><li><span><a href=\"#1--加载数据集\" data-toc-modified-id=\"1--加载数据集-1\">1  加载数据集</a></span><ul class=\"toc-item\"><li><span><a href=\"#1.1--加载训练集和测试集\" data-toc-modified-id=\"1.1--加载训练集和测试集-1.1\">1.1  加载训练集和测试集</a></span></li><li><span><a href=\"#1.2-认识数据集\" data-toc-modified-id=\"1.2-认识数据集-1.2\">1.2 认识数据集</a></span><ul class=\"toc-item\"><li><span><a href=\"#取第一张图片，测试Resize效果\" data-toc-modified-id=\"取第一张图片，测试Resize效果-1.2.1\">取第一张图片，测试Resize效果</a></span></li></ul></li><li><span><a href=\"#1.2-增加数据增强\" data-toc-modified-id=\"1.2-增加数据增强-1.3\">1.2 增加数据增强</a></span></li><li><span><a href=\"#1.3-重新加载\" data-toc-modified-id=\"1.3-重新加载-1.4\">1.3 重新加载</a></span></li><li><span><a href=\"#1.4-分批打包数据集\" data-toc-modified-id=\"1.4-分批打包数据集-1.5\">1.4 分批打包数据集</a></span></li></ul></li><li><span><a href=\"#2-GoogleNet\" data-toc-modified-id=\"2-GoogleNet-2\">2 GoogleNet</a></span><ul class=\"toc-item\"><li><span><a href=\"#2.1--建模\" data-toc-modified-id=\"2.1--建模-2.1\">2.1  建模</a></span><ul class=\"toc-item\"><li><span><a href=\"#2.1.1-加载GoogleNet预训练模型\" data-toc-modified-id=\"2.1.1-加载GoogleNet预训练模型-2.1.1\">2.1.1 加载GoogleNet预训练模型</a></span></li><li><span><a href=\"#2.1.2-固定卷积层\" data-toc-modified-id=\"2.1.2-固定卷积层-2.1.2\">2.1.2 固定卷积层</a></span></li><li><span><a href=\"#2.1.3-修改全连接层\" data-toc-modified-id=\"2.1.3-修改全连接层-2.1.3\">2.1.3 修改全连接层</a></span></li></ul></li><li><span><a href=\"#2.2--编译模型\" data-toc-modified-id=\"2.2--编译模型-2.2\">2.2  编译模型</a></span></li><li><span><a href=\"#2.3--训练\" data-toc-modified-id=\"2.3--训练-2.3\">2.3  训练</a></span></li><li><span><a href=\"#2.4-训练模型\" data-toc-modified-id=\"2.4-训练模型-2.4\">2.4 训练模型</a></span><ul class=\"toc-item\"><li><span><a href=\"#2.4.1-循环训练\" data-toc-modified-id=\"2.4.1-循环训练-2.4.1\">2.4.1 循环训练</a></span></li><li><span><a href=\"#2.4.2-Train-Loss可视化\" data-toc-modified-id=\"2.4.2-Train-Loss可视化-2.4.2\">2.4.2 Train Loss可视化</a></span></li><li><span><a href=\"#2.4.3-Train-Accuracy-可视化\" data-toc-modified-id=\"2.4.3-Train-Accuracy-可视化-2.4.3\">2.4.3 Train Accuracy 可视化</a></span></li></ul></li></ul></li><li><span><a href=\"#3-保存模型\" data-toc-modified-id=\"3-保存模型-3\">3 保存模型</a></span></li><li><span><a href=\"#4-测试集评估模型\" data-toc-modified-id=\"4-测试集评估模型-4\">4 测试集评估模型</a></span></li><li><span><a href=\"#5总结\" data-toc-modified-id=\"5总结-5\">5总结</a></span></li></ul></div>"
   ]
  },
  {
   "cell_type": "markdown",
   "metadata": {},
   "source": [
    "使用任何神经网络框架，对CIFAR-10进行分类    \n",
    "http://www.cs.toronto.edu/~kriz/cifar.html     \n",
    "训练集 50000，测试集 10000    \n",
    "图像大小 32*32 彩色    \n",
    "10个分类：ariplane, automobile, bird, cat, deer, dog, frog, horse, ship, truck     "
   ]
  },
  {
   "cell_type": "code",
   "execution_count": 1,
   "metadata": {
    "_cell_guid": "b1076dfc-b9ad-4769-8c92-a6c4dae69d19",
    "_uuid": "8f2839f25d086af736a60e9eeb907d3b93b6e0e5"
   },
   "outputs": [],
   "source": [
    "# This Python 3 environment comes with many helpful analytics libraries installed\n",
    "# It is defined by the kaggle/python Docker image: https://github.com/kaggle/docker-python\n",
    "# For example, here's several helpful packages to load\n",
    "\n",
    "import numpy as np # linear algebra\n",
    "import pandas as pd # data processing, CSV file I/O (e.g. pd.read_csv)\n",
    "\n",
    "# Input data files are available in the read-only \"../input/\" directory\n",
    "# For example, running this (by clicking run or pressing Shift+Enter) will list all files under the input directory\n",
    "\n",
    "import os\n",
    "for dirname, _, filenames in os.walk('/kaggle/input'):\n",
    "    for filename in filenames:\n",
    "        print(os.path.join(dirname, filename))\n",
    "\n",
    "# You can write up to 5GB to the current directory (/kaggle/working/) that gets preserved as output when you create a version using \"Save & Run All\" \n",
    "# You can also write temporary files to /kaggle/temp/, but they won't be saved outside of the current session"
   ]
  },
  {
   "cell_type": "code",
   "execution_count": 2,
   "metadata": {},
   "outputs": [
    {
     "data": {
      "text/plain": [
       "'/kaggle/working'"
      ]
     },
     "execution_count": 2,
     "metadata": {},
     "output_type": "execute_result"
    }
   ],
   "source": [
    "pwd"
   ]
  },
  {
   "cell_type": "code",
   "execution_count": 3,
   "metadata": {
    "ExecuteTime": {
     "end_time": "2020-10-17T04:55:17.451582Z",
     "start_time": "2020-10-17T04:55:15.908545Z"
    },
    "_cell_guid": "79c7e3d0-c299-4dcb-8224-4455121ee9b0",
    "_uuid": "d629ff2d2480ee46fbb7e2d37f6b5fab8052498a"
   },
   "outputs": [],
   "source": [
    "import time\n",
    "\n",
    "from tqdm.notebook import trange\n",
    "from matplotlib import pyplot as plt\n",
    "\n",
    "import torch\n",
    "from  torch import nn\n",
    "from torch import optim\n",
    "from torchvision import transforms\n",
    "from torch.utils.data import DataLoader\n",
    "from torchvision.datasets import CIFAR10\n",
    "from torchvision.models import googlenet"
   ]
  },
  {
   "cell_type": "code",
   "execution_count": 4,
   "metadata": {},
   "outputs": [],
   "source": [
    "# 随机数种子\n",
    "np.random.seed(0)\n",
    "torch.manual_seed(0)\n",
    "torch.cuda.manual_seed_all(0)\n",
    "\n",
    "# 2行代码表示每次返回的卷积算法将使用默认算法\n",
    "torch.backends.cudnn.deterministic = True\n",
    "torch.backends.cudnn.benchmark = False"
   ]
  },
  {
   "cell_type": "code",
   "execution_count": 5,
   "metadata": {},
   "outputs": [
    {
     "data": {
      "text/plain": [
       "True"
      ]
     },
     "execution_count": 5,
     "metadata": {},
     "output_type": "execute_result"
    }
   ],
   "source": [
    "torch.cuda.is_available()"
   ]
  },
  {
   "cell_type": "code",
   "execution_count": 6,
   "metadata": {},
   "outputs": [
    {
     "name": "stdout",
     "output_type": "stream",
     "text": [
      "Sat Oct 17 07:47:38 2020       \r\n",
      "+-----------------------------------------------------------------------------+\r\n",
      "| NVIDIA-SMI 440.64.00    Driver Version: 440.64.00    CUDA Version: 10.2     |\r\n",
      "|-------------------------------+----------------------+----------------------+\r\n",
      "| GPU  Name        Persistence-M| Bus-Id        Disp.A | Volatile Uncorr. ECC |\r\n",
      "| Fan  Temp  Perf  Pwr:Usage/Cap|         Memory-Usage | GPU-Util  Compute M. |\r\n",
      "|===============================+======================+======================|\r\n",
      "|   0  Tesla P100-PCIE...  Off  | 00000000:00:04.0 Off |                    0 |\r\n",
      "| N/A   35C    P0    32W / 250W |     10MiB / 16280MiB |      0%      Default |\r\n",
      "+-------------------------------+----------------------+----------------------+\r\n",
      "                                                                               \r\n",
      "+-----------------------------------------------------------------------------+\r\n",
      "| Processes:                                                       GPU Memory |\r\n",
      "|  GPU       PID   Type   Process name                             Usage      |\r\n",
      "|=============================================================================|\r\n",
      "|  No running processes found                                                 |\r\n",
      "+-----------------------------------------------------------------------------+\r\n"
     ]
    }
   ],
   "source": [
    "!/opt/bin/nvidia-smi"
   ]
  },
  {
   "cell_type": "markdown",
   "metadata": {},
   "source": [
    "# 1  加载数据集"
   ]
  },
  {
   "cell_type": "markdown",
   "metadata": {},
   "source": [
    "## 1.1  加载训练集和测试集"
   ]
  },
  {
   "cell_type": "code",
   "execution_count": 7,
   "metadata": {
    "ExecuteTime": {
     "end_time": "2020-10-17T04:55:32.497243Z",
     "start_time": "2020-10-17T04:55:30.851987Z"
    }
   },
   "outputs": [
    {
     "name": "stdout",
     "output_type": "stream",
     "text": [
      "Downloading https://www.cs.toronto.edu/~kriz/cifar-10-python.tar.gz to ./root/cifar10/cifar-10-python.tar.gz\n"
     ]
    },
    {
     "data": {
      "application/vnd.jupyter.widget-view+json": {
       "model_id": "a83d0600cbf7400ba4594920a0806c3e",
       "version_major": 2,
       "version_minor": 0
      },
      "text/plain": [
       "HBox(children=(FloatProgress(value=1.0, bar_style='info', max=1.0), HTML(value='')))"
      ]
     },
     "metadata": {},
     "output_type": "display_data"
    },
    {
     "name": "stdout",
     "output_type": "stream",
     "text": [
      "Extracting ./root/cifar10/cifar-10-python.tar.gz to ./root/cifar10\n",
      "Files already downloaded and verified\n"
     ]
    }
   ],
   "source": [
    "# 数据加载\n",
    "train_data = CIFAR10(root='./root/cifar10',\n",
    "                     train=True,\n",
    "                     transform=transforms.ToTensor(),\n",
    "                     download=True)\n",
    "\n",
    "test_data = CIFAR10(root='./root/cifar10',\n",
    "                    train=False,\n",
    "                    transform=transforms.ToTensor(),\n",
    "                    download=True)"
   ]
  },
  {
   "cell_type": "markdown",
   "metadata": {},
   "source": [
    "## 1.2 认识数据集"
   ]
  },
  {
   "cell_type": "code",
   "execution_count": 8,
   "metadata": {},
   "outputs": [
    {
     "data": {
      "text/plain": [
       "(numpy.ndarray, (50000, 32, 32, 3))"
      ]
     },
     "execution_count": 8,
     "metadata": {},
     "output_type": "execute_result"
    }
   ],
   "source": [
    "type(train_data.data), train_data.data.shape"
   ]
  },
  {
   "cell_type": "code",
   "execution_count": 9,
   "metadata": {},
   "outputs": [
    {
     "data": {
      "text/plain": [
       "(numpy.ndarray, (10000, 32, 32, 3))"
      ]
     },
     "execution_count": 9,
     "metadata": {},
     "output_type": "execute_result"
    }
   ],
   "source": [
    "type(test_data.data), test_data.data.shape"
   ]
  },
  {
   "cell_type": "code",
   "execution_count": 10,
   "metadata": {},
   "outputs": [
    {
     "data": {
      "text/plain": [
       "(tuple, 2)"
      ]
     },
     "execution_count": 10,
     "metadata": {},
     "output_type": "execute_result"
    }
   ],
   "source": [
    "type(train_data[0]), len(train_data[0])"
   ]
  },
  {
   "cell_type": "code",
   "execution_count": 11,
   "metadata": {},
   "outputs": [
    {
     "data": {
      "text/plain": [
       "(torch.Tensor, int)"
      ]
     },
     "execution_count": 11,
     "metadata": {},
     "output_type": "execute_result"
    }
   ],
   "source": [
    "type(train_data[0][0]), type(train_data[0][1])"
   ]
  },
  {
   "cell_type": "markdown",
   "metadata": {},
   "source": [
    "### 取第一张图片，测试Resize效果"
   ]
  },
  {
   "cell_type": "code",
   "execution_count": 12,
   "metadata": {},
   "outputs": [
    {
     "name": "stdout",
     "output_type": "stream",
     "text": [
      "\n"
     ]
    },
    {
     "data": {
      "text/plain": [
       "PIL.Image.Image"
      ]
     },
     "execution_count": 12,
     "metadata": {},
     "output_type": "execute_result"
    }
   ],
   "source": [
    "# 第一张图转为Image\n",
    "imgage0 = transforms.ToPILImage()(train_data[0][0])\n",
    "type(imgage0)"
   ]
  },
  {
   "cell_type": "code",
   "execution_count": 13,
   "metadata": {},
   "outputs": [
    {
     "data": {
      "text/plain": [
       "((32, 32), 'RGB')"
      ]
     },
     "execution_count": 13,
     "metadata": {},
     "output_type": "execute_result"
    }
   ],
   "source": [
    "imgage0.size, imgage0.mode"
   ]
  },
  {
   "cell_type": "code",
   "execution_count": 14,
   "metadata": {},
   "outputs": [
    {
     "data": {
      "image/png": "[encoded data removed]",
      "text/plain": [
       "<Figure size 432x288 with 1 Axes>"
      ]
     },
     "metadata": {
      "needs_background": "light"
     },
     "output_type": "display_data"
    }
   ],
   "source": [
    "# 显示第一张图，此时图像size(32, 32)\n",
    "plt.imshow(imgage0)\n",
    "plt.show()"
   ]
  },
  {
   "cell_type": "code",
   "execution_count": 15,
   "metadata": {},
   "outputs": [
    {
     "data": {
      "text/plain": [
       "(PIL.Image.Image, (224, 224))"
      ]
     },
     "execution_count": 15,
     "metadata": {},
     "output_type": "execute_result"
    }
   ],
   "source": [
    "# 调整图像大小为(224, 224)，使用线性差值填充\n",
    "image0_ = transforms.Resize((224, 224))(imgage0)\n",
    "type(image0_), image0_.size"
   ]
  },
  {
   "cell_type": "code",
   "execution_count": 16,
   "metadata": {},
   "outputs": [
    {
     "data": {
      "image/png": "[encoded data removed]",
      "text/plain": [
       "<Figure size 432x288 with 1 Axes>"
      ]
     },
     "metadata": {
      "needs_background": "light"
     },
     "output_type": "display_data"
    }
   ],
   "source": [
    "plt.imshow(image0_)\n",
    "plt.show()"
   ]
  },
  {
   "cell_type": "markdown",
   "metadata": {},
   "source": [
    "## 1.2 增加数据增强"
   ]
  },
  {
   "cell_type": "code",
   "execution_count": 53,
   "metadata": {
    "ExecuteTime": {
     "end_time": "2020-10-17T04:56:16.093595Z",
     "start_time": "2020-10-17T04:56:08.840031Z"
    }
   },
   "outputs": [],
   "source": [
    "# 训练集3个通道的均值\n",
    "channel_mean = train_data.data.reshape((-1, 3)).mean(axis=0) / 255.0\n",
    "# 训练集3个通道的标准差\n",
    "channel_std = train_data.data.reshape((-1, 3)).std(axis=0) / 255.0\n",
    "\n",
    "train_transform = transforms.Compose([\n",
    "    # 重置大小\n",
    "    transforms.Resize((224, 224)), \n",
    "     # 在随机位置重新裁剪图片                                   \n",
    "    transforms.RandomCrop(size=(224, 224), padding=4),   \n",
    "    # 默认以一半的概率水平（左右）翻转图像                              \n",
    "    transforms.RandomHorizontalFlip(),    \n",
    "    # 调整图像亮度、对比度、饱和度、色相\n",
    "#     transforms.ColorJitter(brightness=0.2, contrast=0.2, saturation=0.2, hue=0.2),\n",
    "    transforms.ToTensor(),\n",
    "    # 对每个通道标准化\n",
    "    transforms.Normalize(channel_mean, channel_std),   \n",
    "    ])\n",
    "\n",
    "test_transform = transforms.Compose([\n",
    "    transforms.Resize((224, 224)), \n",
    "    transforms.ToTensor(),\n",
    "    transforms.Normalize(channel_mean, channel_std),\n",
    "    ])"
   ]
  },
  {
   "cell_type": "code",
   "execution_count": 54,
   "metadata": {
    "ExecuteTime": {
     "end_time": "2020-10-17T04:56:21.100049Z",
     "start_time": "2020-10-17T04:56:21.059364Z"
    }
   },
   "outputs": [
    {
     "data": {
      "text/plain": [
       "(array([0.49139968, 0.48215841, 0.44653091]),\n",
       " array([0.24703223, 0.24348513, 0.26158784]))"
      ]
     },
     "execution_count": 54,
     "metadata": {},
     "output_type": "execute_result"
    }
   ],
   "source": [
    "channel_mean, channel_std"
   ]
  },
  {
   "cell_type": "markdown",
   "metadata": {},
   "source": [
    "## 1.3 重新加载"
   ]
  },
  {
   "cell_type": "code",
   "execution_count": 55,
   "metadata": {
    "ExecuteTime": {
     "end_time": "2020-10-17T04:56:28.903396Z",
     "start_time": "2020-10-17T04:56:27.951310Z"
    }
   },
   "outputs": [],
   "source": [
    "# 数据加载\n",
    "train_data = CIFAR10(root='./root/cifar10',\n",
    "                     train=True,\n",
    "                     transform=train_transform,\n",
    "                     download=False)\n",
    "test_data = CIFAR10(root='./root/cifar10',\n",
    "                    train=False,\n",
    "                    transform=test_transform,\n",
    "                    download=False)"
   ]
  },
  {
   "cell_type": "markdown",
   "metadata": {},
   "source": [
    "## 1.4 分批打包数据集"
   ]
  },
  {
   "cell_type": "code",
   "execution_count": 56,
   "metadata": {
    "ExecuteTime": {
     "end_time": "2020-10-17T04:57:38.185840Z",
     "start_time": "2020-10-17T04:57:38.181632Z"
    }
   },
   "outputs": [],
   "source": [
    "# 超参数\n",
    "BATCH_SIZE = 128\n",
    "\n",
    "train_loader = DataLoader(dataset=train_data,\n",
    "                          batch_size=BATCH_SIZE,\n",
    "                          num_workers=2,\n",
    "                          shuffle=True)\n",
    "test_loader = DataLoader(test_data, batch_size=BATCH_SIZE)"
   ]
  },
  {
   "cell_type": "markdown",
   "metadata": {},
   "source": [
    "# 2 GoogleNet"
   ]
  },
  {
   "cell_type": "markdown",
   "metadata": {},
   "source": [
    "## 2.1  建模\n",
    "### 2.1.1 加载GoogleNet预训练模型"
   ]
  },
  {
   "cell_type": "code",
   "execution_count": 71,
   "metadata": {
    "ExecuteTime": {
     "end_time": "2020-10-17T04:57:51.037326Z",
     "start_time": "2020-10-17T04:57:45.605779Z"
    }
   },
   "outputs": [],
   "source": [
    "# pretrained 如果为真，则返回在ImageNet上预训练的模型\n",
    "net_model = googlenet(pretrained=True)"
   ]
  },
  {
   "cell_type": "code",
   "execution_count": 72,
   "metadata": {
    "ExecuteTime": {
     "end_time": "2020-10-17T05:03:05.053320Z",
     "start_time": "2020-10-17T05:03:05.048966Z"
    }
   },
   "outputs": [
    {
     "name": "stdout",
     "output_type": "stream",
     "text": [
      "Linear(in_features=1024, out_features=1000, bias=True)\n"
     ]
    }
   ],
   "source": [
    "# 可知在Googlenet只有一层全连接层\n",
    "print(net_model.fc)"
   ]
  },
  {
   "cell_type": "markdown",
   "metadata": {},
   "source": [
    "### 2.1.2 固定卷积层"
   ]
  },
  {
   "cell_type": "code",
   "execution_count": 73,
   "metadata": {
    "ExecuteTime": {
     "end_time": "2020-10-17T05:06:09.205189Z",
     "start_time": "2020-10-17T05:06:09.200262Z"
    }
   },
   "outputs": [],
   "source": [
    "# for param in net_model.parameters():\n",
    "#     print(type(param))\n",
    "#     print(param.requires_grad)\n",
    "#     break"
   ]
  },
  {
   "cell_type": "code",
   "execution_count": 74,
   "metadata": {
    "ExecuteTime": {
     "end_time": "2020-10-17T05:07:38.500150Z",
     "start_time": "2020-10-17T05:07:38.489797Z"
    }
   },
   "outputs": [],
   "source": [
    "# i = 0\n",
    "# for param in net_model.parameters():\n",
    "#     param.requires_grad = False\n",
    "#     i += 1\n",
    "# print(f'{i} 个参数已全部固定')"
   ]
  },
  {
   "cell_type": "code",
   "execution_count": 75,
   "metadata": {
    "ExecuteTime": {
     "end_time": "2020-10-17T05:07:56.030357Z",
     "start_time": "2020-10-17T05:07:56.025422Z"
    }
   },
   "outputs": [],
   "source": [
    "# for param in net_model.parameters():\n",
    "#     print(type(param))\n",
    "#     print(param.requires_grad)\n",
    "#     break"
   ]
  },
  {
   "cell_type": "markdown",
   "metadata": {},
   "source": [
    "可以看到参数已固定成功。"
   ]
  },
  {
   "cell_type": "markdown",
   "metadata": {},
   "source": [
    "### 2.1.3 修改全连接层"
   ]
  },
  {
   "cell_type": "markdown",
   "metadata": {
    "ExecuteTime": {
     "end_time": "2020-10-17T05:15:32.890068Z",
     "start_time": "2020-10-17T05:15:32.884806Z"
    }
   },
   "source": [
    "`nn.Linear(in_features: int, out_features: int, bias: bool = True) -> None``"
   ]
  },
  {
   "cell_type": "code",
   "execution_count": 76,
   "metadata": {
    "ExecuteTime": {
     "end_time": "2020-10-17T05:20:19.140592Z",
     "start_time": "2020-10-17T05:20:19.129920Z"
    }
   },
   "outputs": [],
   "source": [
    "net_model.fc = nn.Linear(1024, 10, bias=True)"
   ]
  },
  {
   "cell_type": "code",
   "execution_count": 77,
   "metadata": {
    "ExecuteTime": {
     "end_time": "2020-10-17T05:20:21.561071Z",
     "start_time": "2020-10-17T05:20:21.554689Z"
    }
   },
   "outputs": [],
   "source": [
    "net_model.fc"
   ]
  },
  {
   "cell_type": "markdown",
   "metadata": {},
   "source": [
    "## 2.2  编译模型"
   ]
  },
  {
   "cell_type": "code",
   "execution_count": 78,
   "metadata": {
    "ExecuteTime": {
     "end_time": "2020-10-17T05:20:44.353865Z",
     "start_time": "2020-10-17T05:20:44.338425Z"
    }
   },
   "outputs": [
    {
     "name": "stdout",
     "output_type": "stream",
     "text": [
      "cuda:0\n"
     ]
    }
   ],
   "source": [
    "# 超参数 学习率\n",
    "LR = 1e-4\n",
    "\n",
    "# 损失函数\n",
    "criterion = nn.CrossEntropyLoss()\n",
    "# 优化器中只添加fc层的参数\n",
    "optimizer = optim.Adam(net_model.parameters(), lr=LR, weight_decay=0.)\n",
    "# 定义device\n",
    "device = torch.device(\"cuda:0\" if torch.cuda.is_available() else \"cpu\")\n",
    "\n",
    "net_model.to(device)\n",
    "print(device)"
   ]
  },
  {
   "cell_type": "markdown",
   "metadata": {},
   "source": [
    "## 2.3  训练"
   ]
  },
  {
   "cell_type": "code",
   "execution_count": 79,
   "metadata": {
    "ExecuteTime": {
     "end_time": "2020-10-17T05:20:50.314228Z",
     "start_time": "2020-10-17T05:20:48.989693Z"
    }
   },
   "outputs": [
    {
     "name": "stdout",
     "output_type": "stream",
     "text": [
      "<class 'list'>\n",
      "2\n",
      "<class 'torch.Tensor'> <class 'torch.Tensor'>\n",
      "torch.Size([128, 3, 224, 224]) torch.Size([128])\n"
     ]
    }
   ],
   "source": [
    "for t in train_loader:\n",
    "    print(type(t))\n",
    "    print(len(t))\n",
    "    print(type(t[0]), type(t[1]))\n",
    "    print(t[0].shape, t[1].shape)\n",
    "    break"
   ]
  },
  {
   "cell_type": "markdown",
   "metadata": {},
   "source": [
    "## 2.4 训练模型"
   ]
  },
  {
   "cell_type": "markdown",
   "metadata": {},
   "source": [
    "### 2.4.1 循环训练"
   ]
  },
  {
   "cell_type": "code",
   "execution_count": 80,
   "metadata": {
    "ExecuteTime": {
     "end_time": "2020-10-17T05:41:00.235864Z",
     "start_time": "2020-10-17T05:21:05.791776Z"
    }
   },
   "outputs": [
    {
     "data": {
      "application/vnd.jupyter.widget-view+json": {
       "model_id": "2bc6c72db1b34a50a39d1db06b1a4c7a",
       "version_major": 2,
       "version_minor": 0
      },
      "text/plain": [
       "HBox(children=(FloatProgress(value=0.0, max=10.0), HTML(value='')))"
      ]
     },
     "metadata": {},
     "output_type": "display_data"
    },
    {
     "name": "stdout",
     "output_type": "stream",
     "text": [
      "epoch:0 loss:0.7081 train_accuracy:0.83538 耗时:168.1s/epoch\n",
      "epoch:1 loss:0.1762 train_accuracy:0.9415 耗时:167.4s/epoch\n",
      "epoch:2 loss:0.1107 train_accuracy:0.96306 耗时:167.1s/epoch\n",
      "epoch:3 loss:0.0780 train_accuracy:0.9741 耗时:169.5s/epoch\n",
      "epoch:4 loss:0.0572 train_accuracy:0.9806 耗时:168.6s/epoch\n",
      "epoch:5 loss:0.0431 train_accuracy:0.98536 耗时:168.3s/epoch\n",
      "epoch:6 loss:0.0365 train_accuracy:0.98764 耗时:167.5s/epoch\n",
      "epoch:7 loss:0.0278 train_accuracy:0.9909 耗时:168.0s/epoch\n",
      "epoch:8 loss:0.0235 train_accuracy:0.99244 耗时:168.7s/epoch\n",
      "epoch:9 loss:0.0249 train_accuracy:0.99144 耗时:168.7s/epoch\n",
      "\n"
     ]
    }
   ],
   "source": [
    "EPOCH = 10\n",
    "\n",
    "costs = []\n",
    "train_accs = []\n",
    "epoch_bar = trange(EPOCH)\n",
    "early_stop = 0\n",
    "min_loss = np.inf\n",
    "\n",
    "for epoch in epoch_bar:\n",
    "    epoch_bar.set_description(\"epoch:{}\".format(epoch))\n",
    "    start = time.time()\n",
    "    losses = []\n",
    "    correct, total = 0, 0\n",
    "    for i, data in enumerate(train_loader):\n",
    "        feats, labels = data\n",
    "        feats, labels = feats.to(device), labels.to(device)\n",
    "        # 前向传播 等价于net_model(feats)\n",
    "        outputs = net_model.forward(feats)\n",
    "        # 计算损失函数\n",
    "        loss = criterion(outputs, labels)\n",
    "        losses.append(loss.item())\n",
    "        # 清空梯度\n",
    "        optimizer.zero_grad()\n",
    "        # 反向传播\n",
    "        loss.backward()\n",
    "        # 参数更新\n",
    "        optimizer.step()\n",
    "        # 预测\n",
    "        _, pred = torch.max(outputs.data, 1)\n",
    "        # 判断预测与实际是否一致\n",
    "        total += labels.size(0)\n",
    "        correct += (pred == labels).sum().item()\n",
    "    # 计算每个epoch的准确率\n",
    "    train_accs.append(correct / total)\n",
    "    batch_mean_loss = np.mean(losses)\n",
    "    costs.append(batch_mean_loss)\n",
    "    if batch_mean_loss < min_loss:\n",
    "        min_loss = batch_mean_loss\n",
    "        early_stop = 0\n",
    "    else:\n",
    "        early_stop += 1\n",
    "        if early_stop == 10:\n",
    "            print(\n",
    "                f\"epoch:{epoch} loss:{batch_mean_loss} train_accuracy:{train_accs[-1]} 连续{early_stop}个Epoch未减小，停止循环\"\n",
    "            )\n",
    "            break\n",
    "#     if epoch % 5 == 0:\n",
    "#         print(\"epoch:{} loss:{:.4f} train_accuracy:{} 耗时:{:.1f}s/epoch\".format(epoch, batch_mean_loss, train_accs[-1], time.time() - start))\n",
    "    print(\"epoch:{} loss:{:.4f} train_accuracy:{} 耗时:{:.1f}s/epoch\".format(\n",
    "        epoch, batch_mean_loss, train_accs[-1],\n",
    "        time.time() - start))"
   ]
  },
  {
   "cell_type": "markdown",
   "metadata": {},
   "source": [
    "### 2.4.2 Train Loss可视化"
   ]
  },
  {
   "cell_type": "code",
   "execution_count": 81,
   "metadata": {},
   "outputs": [
    {
     "data": {
      "image/png": "[encoded data removed]",
      "text/plain": [
       "<Figure size 432x288 with 1 Axes>"
      ]
     },
     "metadata": {
      "needs_background": "light"
     },
     "output_type": "display_data"
    }
   ],
   "source": [
    "plt.plot(range(len(costs)), costs)\n",
    "plt.xlabel('Epoch')\n",
    "plt.ylabel('Loss')\n",
    "plt.title(\"Loss Curve\")\n",
    "plt.show()"
   ]
  },
  {
   "cell_type": "markdown",
   "metadata": {},
   "source": [
    "### 2.4.3 Train Accuracy 可视化"
   ]
  },
  {
   "cell_type": "code",
   "execution_count": 82,
   "metadata": {},
   "outputs": [
    {
     "data": {
      "image/png": "[encoded data removed]",
      "text/plain": [
       "<Figure size 432x288 with 1 Axes>"
      ]
     },
     "metadata": {
      "needs_background": "light"
     },
     "output_type": "display_data"
    }
   ],
   "source": [
    "plt.plot(range(len(train_accs)), train_accs)\n",
    "plt.xlabel('Epoch')\n",
    "plt.ylabel('Train ACC')\n",
    "plt.title(\"Train ACC Curve\")\n",
    "plt.show()"
   ]
  },
  {
   "cell_type": "markdown",
   "metadata": {},
   "source": [
    "# 3 保存模型"
   ]
  },
  {
   "cell_type": "code",
   "execution_count": 83,
   "metadata": {},
   "outputs": [],
   "source": [
    "torch.save(net_model, \"./cifar10_googlenet_1.pt\")\n",
    "# 加载模型的命令\n",
    "# model = torch.load(\"cifar10_googlenet.pt\")"
   ]
  },
  {
   "cell_type": "markdown",
   "metadata": {},
   "source": [
    "# 4 测试集评估模型"
   ]
  },
  {
   "cell_type": "code",
   "execution_count": 84,
   "metadata": {},
   "outputs": [
    {
     "name": "stdout",
     "output_type": "stream",
     "text": [
      "在测试集10000张图像上的准确率:95.11%\n"
     ]
    }
   ],
   "source": [
    "net_model.eval()\n",
    "\n",
    "with torch.no_grad():\n",
    "    correct, total = 0, 0\n",
    "    for data in test_loader:\n",
    "        feats, labels = data\n",
    "        feats, labels = feats.to(device), labels.to(device)\n",
    "        # 前向传播\n",
    "        out = net_model(feats)\n",
    "        # 预测\n",
    "        _, pred = torch.max(out.data, 1)\n",
    "        # 判断预测与实际是否一致\n",
    "        total += labels.size(0)\n",
    "        correct += (pred == labels).sum().item()\n",
    "        \n",
    "    print(\"在测试集10000张图像上的准确率:{:.2f}%\".format(correct / total *100))"
   ]
  },
  {
   "cell_type": "markdown",
   "metadata": {},
   "source": [
    "# 5总结"
   ]
  },
  {
   "cell_type": "markdown",
   "metadata": {
    "ExecuteTime": {
     "end_time": "2020-10-17T10:51:30.534863Z",
     "start_time": "2020-10-17T10:51:30.528496Z"
    }
   },
   "source": [
    "---\n",
    "第一次使用预训练的模型，踩了不少雷。\n",
    "1. 按通道归一化时，对于如何获得各通道的均值和标准差，一开始陷入了误区:\n",
    "    - 最开始我用`train_data.data.mean(1).mean(1).mean(1)` 连续3次水平求均值，由于都是加减操作，因此可以得到3个通道的正确均值；\n",
    "    - 而`train_data.data.std(1).std(1).std(1)`，因为有平方和开根号的缘故，所以连续用std得到的结果是不对的，导致不管如何训练，准确率只在80%左右浮动；\n",
    "    - 网上搜到的大多用的是for循环逐个计算，但觉得不够优雅，研究到最后才想到明明可以用数组的`reshape((-1, 3))`，再使用mean(axis=1)和std(axis=1)就能直接计算得到均值和标准差；\n",
    "2. 在模型训练时，踩的雷：\n",
    "    - 我用了ResNet18、ResNet50、VGG16、GoogleNet四种模型，得到的准确率最高只到87.03%；一直在调整超参数，但调了3天LR、EPOCH、BATCH_SIZE，无果，循环到140多次，仍然只能得到85%左右的准确率；\n",
    "    - 几近放弃的时候，才意识到，原始数据集图像尺寸为(32,32)的RGB图像，那预训练模型训练时所使用的图像尺寸是多少呢？查了资料，才发现，AlexNet、VGGNet、GooleNet默认的图像输入大小为(224, 224)的RGB图像，Resize图像尺寸后再训练，果然准确率提升了；\n",
    "3. 最终选用GoogleNet进行训练，Resize图像尺寸为(224, 224)后：\n",
    "    - EPOCH=65，测试集准确率为96.05%；\n",
    "    - EPOCH=5，测试集准确率为95.16%；\n",
    "4. GooleNet，重置尺寸为(224, 224)，我试了固定卷积层参数，修改全连接层为2层，仅训练全连接层的参数，但10轮EPOCH后，训练集和测试集的准确率仅80%左右；\n",
    "5. 当我取消对卷积层参数的固定操作，输出层1000个点的输出，同样EPOCH=10，测试集准确率恢复为95.11%；\n",
    "6. GoogleNet原始全链接层的默认输出结点数为1000，关于输出层的结点数是否需要修改：\n",
    "    - 当我取消对卷积层参数的固定操作，输出层保留1000个点的输出，EPOCH=10，测试集准确率为95.11%；\n",
    "    - 输出结点我修改成10后，同样EPOCH=10，测试集准确率是95.79%，可见最后一个结点数不修改，影响不大，修改后会更准确一些。"
   ]
  },
  {
   "cell_type": "markdown",
   "metadata": {},
   "source": [
    "---\n",
    "这次的Action，让我对经典的6种神经网络模型(LeNeT-5、AlexNet、DenseNet、VGGNet、GoogLeNet、ResNet)的理解又加深了；虽然都有全局的AdaptiveAvgPool2d，AlexNet用(32,32)的图像尺寸做输入，但建模时，因为图像过小，触发异常：`Given input size: (256x1x1). Calculated output size: (256x0x0). Output size is too small`;VGGNet、GoogLeNet、ResNet可以使用(32, 32)尺寸的图像作为输入，所以不会报错，但预训练时，准确率不高。所以，图像太小时，最好还是在模型外Resize下。"
   ]
  },
  {
   "cell_type": "code",
   "execution_count": null,
   "metadata": {},
   "outputs": [],
   "source": []
  }
 ],
 "metadata": {
  "kernelspec": {
   "display_name": "Python [conda env:envtorch]",
   "language": "python",
   "name": "conda-env-envtorch-py"
  },
  "language_info": {
   "codemirror_mode": {
    "name": "ipython",
    "version": 3
   },
   "file_extension": ".py",
   "mimetype": "text/x-python",
   "name": "python",
   "nbconvert_exporter": "python",
   "pygments_lexer": "ipython3",
   "version": "3.7.7"
  },
  "toc": {
   "base_numbering": 1,
   "nav_menu": {},
   "number_sections": false,
   "sideBar": true,
   "skip_h1_title": false,
   "title_cell": "Table of Contents",
   "title_sidebar": "Contents",
   "toc_cell": true,
   "toc_position": {
    "height": "calc(100% - 180px)",
    "left": "10px",
    "top": "150px",
    "width": "288px"
   },
   "toc_section_display": true,
   "toc_window_display": true
  },
  "varInspector": {
   "cols": {
    "lenName": 16,
    "lenType": 16,
    "lenVar": 40
   },
   "kernels_config": {
    "python": {
     "delete_cmd_postfix": "",
     "delete_cmd_prefix": "del ",
     "library": "var_list.py",
     "varRefreshCmd": "print(var_dic_list())"
    },
    "r": {
     "delete_cmd_postfix": ") ",
     "delete_cmd_prefix": "rm(",
     "library": "var_list.r",
     "varRefreshCmd": "cat(var_dic_list()) "
    }
   },
   "oldHeight": 122,
   "position": {
    "height": "40px",
    "left": "1145px",
    "right": "20px",
    "top": "118px",
    "width": "250px"
   },
   "types_to_exclude": [
    "module",
    "function",
    "builtin_function_or_method",
    "instance",
    "_Feature"
   ],
   "varInspector_section_display": "none",
   "window_display": true
  }
 },
 "nbformat": 4,
 "nbformat_minor": 4
}
