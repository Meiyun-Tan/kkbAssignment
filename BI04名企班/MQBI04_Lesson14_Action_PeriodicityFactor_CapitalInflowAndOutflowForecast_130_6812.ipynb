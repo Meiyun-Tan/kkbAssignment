{
 "cells": [
  {
   "cell_type": "markdown",
   "metadata": {
    "toc": true
   },
   "source": [
    "<h1>Table of Contents<span class=\"tocSkip\"></span></h1>\n",
    "<div class=\"toc\"><ul class=\"toc-item\"><li><span><a href=\"#1-准备数据\" data-toc-modified-id=\"1-准备数据-1\">1 准备数据</a></span><ul class=\"toc-item\"><li><span><a href=\"#1.1-加载数据\" data-toc-modified-id=\"1.1-加载数据-1.1\">1.1 加载数据</a></span></li><li><span><a href=\"#1.2-将日期列由数字解析为日期\" data-toc-modified-id=\"1.2-将日期列由数字解析为日期-1.2\">1.2 将日期列由数字解析为日期</a></span></li><li><span><a href=\"#1.3-获取label列\" data-toc-modified-id=\"1.3-获取label列-1.3\">1.3 获取label列</a></span><ul class=\"toc-item\"><li><span><a href=\"#1.3.1-可视化购买和赎回曲线\" data-toc-modified-id=\"1.3.1-可视化购买和赎回曲线-1.3.1\">1.3.1 可视化购买和赎回曲线</a></span></li><li><span><a href=\"#1.3.2-仅查看14年4月到5月7日的购买和赎回曲线\" data-toc-modified-id=\"1.3.2-仅查看14年4月到5月7日的购买和赎回曲线-1.3.2\">1.3.2 仅查看14年4月到5月7日的购买和赎回曲线</a></span></li></ul></li><li><span><a href=\"#1.4-生成测试数据\" data-toc-modified-id=\"1.4-生成测试数据-1.4\">1.4 生成测试数据</a></span></li></ul></li><li><span><a href=\"#2-计算周1——周日每一天的均值\" data-toc-modified-id=\"2-计算周1——周日每一天的均值-2\">2 计算周1——周日每一天的均值</a></span></li><li><span><a href=\"#3-计算周期因子\" data-toc-modified-id=\"3-计算周期因子-3\">3 计算周期因子</a></span></li><li><span><a href=\"#4-计算日期因子\" data-toc-modified-id=\"4-计算日期因子-4\">4 计算日期因子</a></span></li><li><span><a href=\"#5-按日分组计算总购买和总赎回的均值\" data-toc-modified-id=\"5-按日分组计算总购买和总赎回的均值-5\">5 按日分组计算总购买和总赎回的均值</a></span></li><li><span><a href=\"#7-计算base\" data-toc-modified-id=\"7-计算base-6\">7 计算base</a></span></li><li><span><a href=\"#7-根据base和周期因子预测\" data-toc-modified-id=\"7-根据base和周期因子预测-7\">7 根据base和周期因子预测</a></span></li><li><span><a href=\"#8-保存预测结果\" data-toc-modified-id=\"8-保存预测结果-8\">8 保存预测结果</a></span></li><li><span><a href=\"#9-可视化预测结果\" data-toc-modified-id=\"9-可视化预测结果-9\">9 可视化预测结果</a></span></li><li><span><a href=\"#10-fbprophet、ARIMA、周期因子模型融合预测\" data-toc-modified-id=\"10-fbprophet、ARIMA、周期因子模型融合预测-10\">10 fbprophet、ARIMA、周期因子模型融合预测</a></span><ul class=\"toc-item\"><li><span><a href=\"#10.1-读取单模型预测结果\" data-toc-modified-id=\"10.1-读取单模型预测结果-10.1\">10.1 读取单模型预测结果</a></span></li><li><span><a href=\"#10.2-根据单模型成绩估计融合权重\" data-toc-modified-id=\"10.2-根据单模型成绩估计融合权重-10.2\">10.2 根据单模型成绩估计融合权重</a></span></li></ul></li></ul></div>"
   ]
  },
  {
   "cell_type": "markdown",
   "metadata": {},
   "source": [
    "Action: 资金流入流出预测    \n",
    "https://tianchi.aliyun.com/competition/entrance/231573/information    \n",
    "数据集一共包括4张表：用户基本信息数据、用户申购赎回数据、收益率表和银行间拆借利率表    \n",
    "2.8万用户，284万行为数据，294天拆解利率，427天收益率    \n",
    "2013-07-01到2014-08-31，预测2014年9月的申购和赎回"
   ]
  },
  {
   "cell_type": "markdown",
   "metadata": {},
   "source": [
    "基于周期因子的时间序列预测。"
   ]
  },
  {
   "cell_type": "code",
   "execution_count": 1,
   "metadata": {
    "ExecuteTime": {
     "end_time": "2020-12-06T10:49:49.552589Z",
     "start_time": "2020-12-06T10:49:48.191597Z"
    }
   },
   "outputs": [],
   "source": [
    "import datetime\n",
    "\n",
    "import numpy as np\n",
    "\n",
    "from itertools import product\n",
    "\n",
    "import pandas as pd\n",
    "\n",
    "import seaborn as sns\n",
    "from matplotlib import pyplot as plt\n",
    "\n",
    "import warnings\n",
    "\n",
    "\n",
    "warnings.filterwarnings(\"ignore\")"
   ]
  },
  {
   "cell_type": "code",
   "execution_count": 2,
   "metadata": {
    "ExecuteTime": {
     "end_time": "2020-12-06T10:49:49.559357Z",
     "start_time": "2020-12-06T10:49:49.556384Z"
    }
   },
   "outputs": [],
   "source": [
    "import calendar"
   ]
  },
  {
   "cell_type": "markdown",
   "metadata": {},
   "source": [
    "\n",
    "# 1 准备数据\n",
    "## 1.1 加载数据"
   ]
  },
  {
   "cell_type": "code",
   "execution_count": 3,
   "metadata": {
    "ExecuteTime": {
     "end_time": "2020-12-06T10:49:52.521692Z",
     "start_time": "2020-12-06T10:49:49.563517Z"
    }
   },
   "outputs": [],
   "source": [
    "user_balance_df = pd.read_csv('user_balance_table.csv')"
   ]
  },
  {
   "cell_type": "code",
   "execution_count": 4,
   "metadata": {
    "ExecuteTime": {
     "end_time": "2020-12-06T10:49:52.545095Z",
     "start_time": "2020-12-06T10:49:52.524504Z"
    }
   },
   "outputs": [
    {
     "data": {
      "text/html": [
       "<div>\n",
       "<style scoped>\n",
       "    .dataframe tbody tr th:only-of-type {\n",
       "        vertical-align: middle;\n",
       "    }\n",
       "\n",
       "    .dataframe tbody tr th {\n",
       "        vertical-align: top;\n",
       "    }\n",
       "\n",
       "    .dataframe thead th {\n",
       "        text-align: right;\n",
       "    }\n",
       "</style>\n",
       "<table border=\"1\" class=\"dataframe\">\n",
       "  <thead>\n",
       "    <tr style=\"text-align: right;\">\n",
       "      <th></th>\n",
       "      <th>user_id</th>\n",
       "      <th>report_date</th>\n",
       "      <th>tBalance</th>\n",
       "      <th>yBalance</th>\n",
       "      <th>total_purchase_amt</th>\n",
       "      <th>direct_purchase_amt</th>\n",
       "      <th>purchase_bal_amt</th>\n",
       "      <th>purchase_bank_amt</th>\n",
       "      <th>total_redeem_amt</th>\n",
       "      <th>consume_amt</th>\n",
       "      <th>transfer_amt</th>\n",
       "      <th>tftobal_amt</th>\n",
       "      <th>tftocard_amt</th>\n",
       "      <th>share_amt</th>\n",
       "      <th>category1</th>\n",
       "      <th>category2</th>\n",
       "      <th>category3</th>\n",
       "      <th>category4</th>\n",
       "    </tr>\n",
       "  </thead>\n",
       "  <tbody>\n",
       "    <tr>\n",
       "      <th>0</th>\n",
       "      <td>1</td>\n",
       "      <td>20140805</td>\n",
       "      <td>20385</td>\n",
       "      <td>20383</td>\n",
       "      <td>2</td>\n",
       "      <td>0</td>\n",
       "      <td>0</td>\n",
       "      <td>0</td>\n",
       "      <td>0</td>\n",
       "      <td>0</td>\n",
       "      <td>0</td>\n",
       "      <td>0</td>\n",
       "      <td>0</td>\n",
       "      <td>2</td>\n",
       "      <td>NaN</td>\n",
       "      <td>NaN</td>\n",
       "      <td>NaN</td>\n",
       "      <td>NaN</td>\n",
       "    </tr>\n",
       "    <tr>\n",
       "      <th>1</th>\n",
       "      <td>1</td>\n",
       "      <td>20140808</td>\n",
       "      <td>20391</td>\n",
       "      <td>20389</td>\n",
       "      <td>2</td>\n",
       "      <td>0</td>\n",
       "      <td>0</td>\n",
       "      <td>0</td>\n",
       "      <td>0</td>\n",
       "      <td>0</td>\n",
       "      <td>0</td>\n",
       "      <td>0</td>\n",
       "      <td>0</td>\n",
       "      <td>2</td>\n",
       "      <td>NaN</td>\n",
       "      <td>NaN</td>\n",
       "      <td>NaN</td>\n",
       "      <td>NaN</td>\n",
       "    </tr>\n",
       "    <tr>\n",
       "      <th>2</th>\n",
       "      <td>1</td>\n",
       "      <td>20140811</td>\n",
       "      <td>20397</td>\n",
       "      <td>20395</td>\n",
       "      <td>2</td>\n",
       "      <td>0</td>\n",
       "      <td>0</td>\n",
       "      <td>0</td>\n",
       "      <td>0</td>\n",
       "      <td>0</td>\n",
       "      <td>0</td>\n",
       "      <td>0</td>\n",
       "      <td>0</td>\n",
       "      <td>2</td>\n",
       "      <td>NaN</td>\n",
       "      <td>NaN</td>\n",
       "      <td>NaN</td>\n",
       "      <td>NaN</td>\n",
       "    </tr>\n",
       "    <tr>\n",
       "      <th>3</th>\n",
       "      <td>1</td>\n",
       "      <td>20140814</td>\n",
       "      <td>20403</td>\n",
       "      <td>20401</td>\n",
       "      <td>2</td>\n",
       "      <td>0</td>\n",
       "      <td>0</td>\n",
       "      <td>0</td>\n",
       "      <td>0</td>\n",
       "      <td>0</td>\n",
       "      <td>0</td>\n",
       "      <td>0</td>\n",
       "      <td>0</td>\n",
       "      <td>2</td>\n",
       "      <td>NaN</td>\n",
       "      <td>NaN</td>\n",
       "      <td>NaN</td>\n",
       "      <td>NaN</td>\n",
       "    </tr>\n",
       "    <tr>\n",
       "      <th>4</th>\n",
       "      <td>1</td>\n",
       "      <td>20140817</td>\n",
       "      <td>20409</td>\n",
       "      <td>20407</td>\n",
       "      <td>2</td>\n",
       "      <td>0</td>\n",
       "      <td>0</td>\n",
       "      <td>0</td>\n",
       "      <td>0</td>\n",
       "      <td>0</td>\n",
       "      <td>0</td>\n",
       "      <td>0</td>\n",
       "      <td>0</td>\n",
       "      <td>2</td>\n",
       "      <td>NaN</td>\n",
       "      <td>NaN</td>\n",
       "      <td>NaN</td>\n",
       "      <td>NaN</td>\n",
       "    </tr>\n",
       "  </tbody>\n",
       "</table>\n",
       "</div>"
      ],
      "text/plain": [
       "   user_id  report_date  tBalance  yBalance  total_purchase_amt  \\\n",
       "0        1     20140805     20385     20383                   2   \n",
       "1        1     20140808     20391     20389                   2   \n",
       "2        1     20140811     20397     20395                   2   \n",
       "3        1     20140814     20403     20401                   2   \n",
       "4        1     20140817     20409     20407                   2   \n",
       "\n",
       "   direct_purchase_amt  purchase_bal_amt  purchase_bank_amt  total_redeem_amt  \\\n",
       "0                    0                 0                  0                 0   \n",
       "1                    0                 0                  0                 0   \n",
       "2                    0                 0                  0                 0   \n",
       "3                    0                 0                  0                 0   \n",
       "4                    0                 0                  0                 0   \n",
       "\n",
       "   consume_amt  transfer_amt  tftobal_amt  tftocard_amt  share_amt  category1  \\\n",
       "0            0             0            0             0          2        NaN   \n",
       "1            0             0            0             0          2        NaN   \n",
       "2            0             0            0             0          2        NaN   \n",
       "3            0             0            0             0          2        NaN   \n",
       "4            0             0            0             0          2        NaN   \n",
       "\n",
       "   category2  category3  category4  \n",
       "0        NaN        NaN        NaN  \n",
       "1        NaN        NaN        NaN  \n",
       "2        NaN        NaN        NaN  \n",
       "3        NaN        NaN        NaN  \n",
       "4        NaN        NaN        NaN  "
      ]
     },
     "execution_count": 4,
     "metadata": {},
     "output_type": "execute_result"
    }
   ],
   "source": [
    "user_balance_df.head()"
   ]
  },
  {
   "cell_type": "code",
   "execution_count": 5,
   "metadata": {
    "ExecuteTime": {
     "end_time": "2020-12-06T10:49:52.725606Z",
     "start_time": "2020-12-06T10:49:52.547642Z"
    }
   },
   "outputs": [
    {
     "data": {
      "text/plain": [
       "user_id                      0\n",
       "report_date                  0\n",
       "tBalance                     0\n",
       "yBalance                     0\n",
       "total_purchase_amt           0\n",
       "direct_purchase_amt          0\n",
       "purchase_bal_amt             0\n",
       "purchase_bank_amt            0\n",
       "total_redeem_amt             0\n",
       "consume_amt                  0\n",
       "transfer_amt                 0\n",
       "tftobal_amt                  0\n",
       "tftocard_amt                 0\n",
       "share_amt                    0\n",
       "category1              2666682\n",
       "category2              2666682\n",
       "category3              2666682\n",
       "category4              2666682\n",
       "dtype: int64"
      ]
     },
     "execution_count": 5,
     "metadata": {},
     "output_type": "execute_result"
    }
   ],
   "source": [
    "# 除了4个category列，其他列无缺失值\n",
    "user_balance_df.isna().sum()"
   ]
  },
  {
   "cell_type": "code",
   "execution_count": 6,
   "metadata": {
    "ExecuteTime": {
     "end_time": "2020-12-06T10:49:52.760983Z",
     "start_time": "2020-12-06T10:49:52.736018Z"
    }
   },
   "outputs": [],
   "source": [
    "# 昨日余额 + 今日总购买量 - 今日总赎回量\n",
    "total = user_balance_df['yBalance'] + user_balance_df['total_purchase_amt'] - user_balance_df['total_redeem_amt']"
   ]
  },
  {
   "cell_type": "code",
   "execution_count": 7,
   "metadata": {
    "ExecuteTime": {
     "end_time": "2020-12-06T10:49:52.791480Z",
     "start_time": "2020-12-06T10:49:52.764771Z"
    },
    "scrolled": true
   },
   "outputs": [
    {
     "data": {
      "text/html": [
       "<div>\n",
       "<style scoped>\n",
       "    .dataframe tbody tr th:only-of-type {\n",
       "        vertical-align: middle;\n",
       "    }\n",
       "\n",
       "    .dataframe tbody tr th {\n",
       "        vertical-align: top;\n",
       "    }\n",
       "\n",
       "    .dataframe thead th {\n",
       "        text-align: right;\n",
       "    }\n",
       "</style>\n",
       "<table border=\"1\" class=\"dataframe\">\n",
       "  <thead>\n",
       "    <tr style=\"text-align: right;\">\n",
       "      <th></th>\n",
       "      <th>user_id</th>\n",
       "      <th>report_date</th>\n",
       "      <th>tBalance</th>\n",
       "      <th>yBalance</th>\n",
       "      <th>total_purchase_amt</th>\n",
       "      <th>direct_purchase_amt</th>\n",
       "      <th>purchase_bal_amt</th>\n",
       "      <th>purchase_bank_amt</th>\n",
       "      <th>total_redeem_amt</th>\n",
       "      <th>consume_amt</th>\n",
       "      <th>transfer_amt</th>\n",
       "      <th>tftobal_amt</th>\n",
       "      <th>tftocard_amt</th>\n",
       "      <th>share_amt</th>\n",
       "      <th>category1</th>\n",
       "      <th>category2</th>\n",
       "      <th>category3</th>\n",
       "      <th>category4</th>\n",
       "    </tr>\n",
       "  </thead>\n",
       "  <tbody>\n",
       "    <tr>\n",
       "      <th>2234657</th>\n",
       "      <td>9872</td>\n",
       "      <td>20130813</td>\n",
       "      <td>1356954</td>\n",
       "      <td>860592</td>\n",
       "      <td>506227</td>\n",
       "      <td>506183</td>\n",
       "      <td>0</td>\n",
       "      <td>506183</td>\n",
       "      <td>9765</td>\n",
       "      <td>0</td>\n",
       "      <td>9765</td>\n",
       "      <td>9765</td>\n",
       "      <td>0</td>\n",
       "      <td>44</td>\n",
       "      <td>NaN</td>\n",
       "      <td>NaN</td>\n",
       "      <td>NaN</td>\n",
       "      <td>NaN</td>\n",
       "    </tr>\n",
       "  </tbody>\n",
       "</table>\n",
       "</div>"
      ],
      "text/plain": [
       "         user_id  report_date  tBalance  yBalance  total_purchase_amt  \\\n",
       "2234657     9872     20130813   1356954    860592              506227   \n",
       "\n",
       "         direct_purchase_amt  purchase_bal_amt  purchase_bank_amt  \\\n",
       "2234657               506183                 0             506183   \n",
       "\n",
       "         total_redeem_amt  consume_amt  transfer_amt  tftobal_amt  \\\n",
       "2234657              9765            0          9765         9765   \n",
       "\n",
       "         tftocard_amt  share_amt  category1  category2  category3  category4  \n",
       "2234657             0         44        NaN        NaN        NaN        NaN  "
      ]
     },
     "execution_count": 7,
     "metadata": {},
     "output_type": "execute_result"
    }
   ],
   "source": [
    "user_balance_df[total != user_balance_df['tBalance']]"
   ]
  },
  {
   "cell_type": "markdown",
   "metadata": {},
   "source": [
    "- 今日余额 = 昨日余额 + 今日申购 - 今日赎回    \n",
    "(除了2234657行)：tBalance = yBalance + total_purchase_amt - total_consume_amt    \n",
    "\n",
    "- 今日总购买量 = 直接购买 + 收益    \n",
    "即：total_purchase_amt = direct_purchase_amt +  share_amt    \n",
    "\n",
    "- 今日总赎回量 = 消费 + 转出\n",
    "即：total_redeem_amt = consume_amt + transfer_amt"
   ]
  },
  {
   "cell_type": "markdown",
   "metadata": {},
   "source": [
    "## 1.2 将日期列由数字解析为日期"
   ]
  },
  {
   "cell_type": "code",
   "execution_count": 8,
   "metadata": {
    "ExecuteTime": {
     "end_time": "2020-12-06T10:49:52.811112Z",
     "start_time": "2020-12-06T10:49:52.800281Z"
    }
   },
   "outputs": [],
   "source": [
    "def add_timestamp(df):\n",
    "    df['report_date'] = pd.to_datetime(df['report_date'], format=\"%Y%m%d\")\n",
    "    df['day'] = df['report_date'].dt.day\n",
    "    df['month'] = df['report_date'].dt.month\n",
    "    df['year'] = df['report_date'].dt.year\n",
    "    df['week'] = df['report_date'].dt.week # 第几个星期\n",
    "    df['weekday'] = df['report_date'].dt.weekday\n",
    "    return df\n",
    "    "
   ]
  },
  {
   "cell_type": "code",
   "execution_count": 9,
   "metadata": {
    "ExecuteTime": {
     "end_time": "2020-12-06T10:49:53.688623Z",
     "start_time": "2020-12-06T10:49:52.817614Z"
    }
   },
   "outputs": [],
   "source": [
    "user_balance_df = add_timestamp(user_balance_df)"
   ]
  },
  {
   "cell_type": "code",
   "execution_count": 10,
   "metadata": {
    "ExecuteTime": {
     "end_time": "2020-12-06T10:49:53.717217Z",
     "start_time": "2020-12-06T10:49:53.690940Z"
    }
   },
   "outputs": [
    {
     "data": {
      "text/plain": [
       "(Timestamp('2013-07-01 00:00:00'), Timestamp('2014-08-31 00:00:00'))"
      ]
     },
     "execution_count": 10,
     "metadata": {},
     "output_type": "execute_result"
    }
   ],
   "source": [
    "user_balance_df['report_date'].min(), user_balance_df['report_date'].max()"
   ]
  },
  {
   "cell_type": "code",
   "execution_count": 11,
   "metadata": {
    "ExecuteTime": {
     "end_time": "2020-12-06T10:49:53.738676Z",
     "start_time": "2020-12-06T10:49:53.720045Z"
    }
   },
   "outputs": [
    {
     "data": {
      "text/html": [
       "<div>\n",
       "<style scoped>\n",
       "    .dataframe tbody tr th:only-of-type {\n",
       "        vertical-align: middle;\n",
       "    }\n",
       "\n",
       "    .dataframe tbody tr th {\n",
       "        vertical-align: top;\n",
       "    }\n",
       "\n",
       "    .dataframe thead th {\n",
       "        text-align: right;\n",
       "    }\n",
       "</style>\n",
       "<table border=\"1\" class=\"dataframe\">\n",
       "  <thead>\n",
       "    <tr style=\"text-align: right;\">\n",
       "      <th></th>\n",
       "      <th>user_id</th>\n",
       "      <th>report_date</th>\n",
       "      <th>tBalance</th>\n",
       "      <th>yBalance</th>\n",
       "      <th>total_purchase_amt</th>\n",
       "      <th>direct_purchase_amt</th>\n",
       "      <th>purchase_bal_amt</th>\n",
       "      <th>purchase_bank_amt</th>\n",
       "      <th>total_redeem_amt</th>\n",
       "      <th>consume_amt</th>\n",
       "      <th>...</th>\n",
       "      <th>share_amt</th>\n",
       "      <th>category1</th>\n",
       "      <th>category2</th>\n",
       "      <th>category3</th>\n",
       "      <th>category4</th>\n",
       "      <th>day</th>\n",
       "      <th>month</th>\n",
       "      <th>year</th>\n",
       "      <th>week</th>\n",
       "      <th>weekday</th>\n",
       "    </tr>\n",
       "  </thead>\n",
       "  <tbody>\n",
       "    <tr>\n",
       "      <th>0</th>\n",
       "      <td>1</td>\n",
       "      <td>2014-08-05</td>\n",
       "      <td>20385</td>\n",
       "      <td>20383</td>\n",
       "      <td>2</td>\n",
       "      <td>0</td>\n",
       "      <td>0</td>\n",
       "      <td>0</td>\n",
       "      <td>0</td>\n",
       "      <td>0</td>\n",
       "      <td>...</td>\n",
       "      <td>2</td>\n",
       "      <td>NaN</td>\n",
       "      <td>NaN</td>\n",
       "      <td>NaN</td>\n",
       "      <td>NaN</td>\n",
       "      <td>5</td>\n",
       "      <td>8</td>\n",
       "      <td>2014</td>\n",
       "      <td>32</td>\n",
       "      <td>1</td>\n",
       "    </tr>\n",
       "    <tr>\n",
       "      <th>1</th>\n",
       "      <td>1</td>\n",
       "      <td>2014-08-08</td>\n",
       "      <td>20391</td>\n",
       "      <td>20389</td>\n",
       "      <td>2</td>\n",
       "      <td>0</td>\n",
       "      <td>0</td>\n",
       "      <td>0</td>\n",
       "      <td>0</td>\n",
       "      <td>0</td>\n",
       "      <td>...</td>\n",
       "      <td>2</td>\n",
       "      <td>NaN</td>\n",
       "      <td>NaN</td>\n",
       "      <td>NaN</td>\n",
       "      <td>NaN</td>\n",
       "      <td>8</td>\n",
       "      <td>8</td>\n",
       "      <td>2014</td>\n",
       "      <td>32</td>\n",
       "      <td>4</td>\n",
       "    </tr>\n",
       "  </tbody>\n",
       "</table>\n",
       "<p>2 rows × 23 columns</p>\n",
       "</div>"
      ],
      "text/plain": [
       "   user_id report_date  tBalance  yBalance  total_purchase_amt  \\\n",
       "0        1  2014-08-05     20385     20383                   2   \n",
       "1        1  2014-08-08     20391     20389                   2   \n",
       "\n",
       "   direct_purchase_amt  purchase_bal_amt  purchase_bank_amt  total_redeem_amt  \\\n",
       "0                    0                 0                  0                 0   \n",
       "1                    0                 0                  0                 0   \n",
       "\n",
       "   consume_amt  ...  share_amt  category1  category2  category3  category4  \\\n",
       "0            0  ...          2        NaN        NaN        NaN        NaN   \n",
       "1            0  ...          2        NaN        NaN        NaN        NaN   \n",
       "\n",
       "   day  month  year  week  weekday  \n",
       "0    5      8  2014    32        1  \n",
       "1    8      8  2014    32        4  \n",
       "\n",
       "[2 rows x 23 columns]"
      ]
     },
     "execution_count": 11,
     "metadata": {},
     "output_type": "execute_result"
    }
   ],
   "source": [
    "user_balance_df.head(2)"
   ]
  },
  {
   "cell_type": "code",
   "execution_count": 12,
   "metadata": {
    "ExecuteTime": {
     "end_time": "2020-12-06T10:49:54.601228Z",
     "start_time": "2020-12-06T10:49:53.744936Z"
    }
   },
   "outputs": [
    {
     "data": {
      "image/png": "[encoded data removed]",
      "text/plain": [
       "<Figure size 432x288 with 1 Axes>"
      ]
     },
     "metadata": {
      "needs_background": "light"
     },
     "output_type": "display_data"
    }
   ],
   "source": [
    "ax = sns.countplot(x='weekday', data=user_balance_df)\n",
    "ax.set_yscale('log')"
   ]
  },
  {
   "cell_type": "markdown",
   "metadata": {},
   "source": [
    "一周内每一天的样本数都在40W以上，其中周一样本数最少，周日样本数最多，二者相差样本数约1W条。"
   ]
  },
  {
   "cell_type": "markdown",
   "metadata": {},
   "source": [
    "## 1.3 获取label列"
   ]
  },
  {
   "cell_type": "code",
   "execution_count": 13,
   "metadata": {
    "ExecuteTime": {
     "end_time": "2020-12-06T10:49:54.619299Z",
     "start_time": "2020-12-06T10:49:54.604048Z"
    }
   },
   "outputs": [],
   "source": [
    "def get_total_balance(df, begin):\n",
    "    \"\"\"筛选指定日期之后的总购买量和总赎回量的DataFrame\n",
    "    \"\"\"\n",
    "    df_temp = df.copy()\n",
    "    # 按日期进行聚合\n",
    "    df_temp = df_temp.groupby(\"report_date\")['total_purchase_amt',\n",
    "                                             'total_redeem_amt'].sum()\n",
    "    # 还原日期字段，重新索引\n",
    "    df_temp = df_temp.reset_index()\n",
    "    df_temp = df_temp[df_temp['report_date'] >= begin]\n",
    "    return df_temp"
   ]
  },
  {
   "cell_type": "code",
   "execution_count": 14,
   "metadata": {
    "ExecuteTime": {
     "end_time": "2020-12-06T10:49:56.212835Z",
     "start_time": "2020-12-06T10:49:54.627519Z"
    }
   },
   "outputs": [],
   "source": [
    "# 筛选从'2014-03-01'之后的数据作为平稳数据\n",
    "total_balance = get_total_balance(user_balance_df, '2014-03-01')"
   ]
  },
  {
   "cell_type": "code",
   "execution_count": 15,
   "metadata": {
    "ExecuteTime": {
     "end_time": "2020-12-06T10:49:56.231968Z",
     "start_time": "2020-12-06T10:49:56.215195Z"
    }
   },
   "outputs": [
    {
     "data": {
      "text/html": [
       "<div>\n",
       "<style scoped>\n",
       "    .dataframe tbody tr th:only-of-type {\n",
       "        vertical-align: middle;\n",
       "    }\n",
       "\n",
       "    .dataframe tbody tr th {\n",
       "        vertical-align: top;\n",
       "    }\n",
       "\n",
       "    .dataframe thead th {\n",
       "        text-align: right;\n",
       "    }\n",
       "</style>\n",
       "<table border=\"1\" class=\"dataframe\">\n",
       "  <thead>\n",
       "    <tr style=\"text-align: right;\">\n",
       "      <th></th>\n",
       "      <th>report_date</th>\n",
       "      <th>total_purchase_amt</th>\n",
       "      <th>total_redeem_amt</th>\n",
       "    </tr>\n",
       "  </thead>\n",
       "  <tbody>\n",
       "    <tr>\n",
       "      <th>243</th>\n",
       "      <td>2014-03-01</td>\n",
       "      <td>362865580</td>\n",
       "      <td>211279011</td>\n",
       "    </tr>\n",
       "    <tr>\n",
       "      <th>244</th>\n",
       "      <td>2014-03-02</td>\n",
       "      <td>276202230</td>\n",
       "      <td>246199417</td>\n",
       "    </tr>\n",
       "    <tr>\n",
       "      <th>245</th>\n",
       "      <td>2014-03-03</td>\n",
       "      <td>505305862</td>\n",
       "      <td>513017360</td>\n",
       "    </tr>\n",
       "    <tr>\n",
       "      <th>246</th>\n",
       "      <td>2014-03-04</td>\n",
       "      <td>524146340</td>\n",
       "      <td>250562978</td>\n",
       "    </tr>\n",
       "    <tr>\n",
       "      <th>247</th>\n",
       "      <td>2014-03-05</td>\n",
       "      <td>454295491</td>\n",
       "      <td>209072753</td>\n",
       "    </tr>\n",
       "    <tr>\n",
       "      <th>...</th>\n",
       "      <td>...</td>\n",
       "      <td>...</td>\n",
       "      <td>...</td>\n",
       "    </tr>\n",
       "    <tr>\n",
       "      <th>422</th>\n",
       "      <td>2014-08-27</td>\n",
       "      <td>302194801</td>\n",
       "      <td>468164147</td>\n",
       "    </tr>\n",
       "    <tr>\n",
       "      <th>423</th>\n",
       "      <td>2014-08-28</td>\n",
       "      <td>245082751</td>\n",
       "      <td>297893861</td>\n",
       "    </tr>\n",
       "    <tr>\n",
       "      <th>424</th>\n",
       "      <td>2014-08-29</td>\n",
       "      <td>267554713</td>\n",
       "      <td>273756380</td>\n",
       "    </tr>\n",
       "    <tr>\n",
       "      <th>425</th>\n",
       "      <td>2014-08-30</td>\n",
       "      <td>199708772</td>\n",
       "      <td>196374134</td>\n",
       "    </tr>\n",
       "    <tr>\n",
       "      <th>426</th>\n",
       "      <td>2014-08-31</td>\n",
       "      <td>275090213</td>\n",
       "      <td>292943033</td>\n",
       "    </tr>\n",
       "  </tbody>\n",
       "</table>\n",
       "<p>184 rows × 3 columns</p>\n",
       "</div>"
      ],
      "text/plain": [
       "    report_date  total_purchase_amt  total_redeem_amt\n",
       "243  2014-03-01           362865580         211279011\n",
       "244  2014-03-02           276202230         246199417\n",
       "245  2014-03-03           505305862         513017360\n",
       "246  2014-03-04           524146340         250562978\n",
       "247  2014-03-05           454295491         209072753\n",
       "..          ...                 ...               ...\n",
       "422  2014-08-27           302194801         468164147\n",
       "423  2014-08-28           245082751         297893861\n",
       "424  2014-08-29           267554713         273756380\n",
       "425  2014-08-30           199708772         196374134\n",
       "426  2014-08-31           275090213         292943033\n",
       "\n",
       "[184 rows x 3 columns]"
      ]
     },
     "execution_count": 15,
     "metadata": {},
     "output_type": "execute_result"
    }
   ],
   "source": [
    "total_balance"
   ]
  },
  {
   "cell_type": "markdown",
   "metadata": {},
   "source": [
    "### 1.3.1 可视化购买和赎回曲线"
   ]
  },
  {
   "cell_type": "code",
   "execution_count": 16,
   "metadata": {
    "ExecuteTime": {
     "end_time": "2020-12-06T10:49:56.481999Z",
     "start_time": "2020-12-06T10:49:56.234664Z"
    },
    "scrolled": true
   },
   "outputs": [
    {
     "data": {
      "text/plain": [
       "<matplotlib.axes._subplots.AxesSubplot at 0x7fe813588610>"
      ]
     },
     "execution_count": 16,
     "metadata": {},
     "output_type": "execute_result"
    },
    {
     "data": {
      "image/png": "[encoded data removed]",
      "text/plain": [
       "<Figure size 1152x288 with 1 Axes>"
      ]
     },
     "metadata": {
      "needs_background": "light"
     },
     "output_type": "display_data"
    }
   ],
   "source": [
    "total_balance.set_index('report_date').plot(\n",
    "    figsize=(16, 4), title=\"2014.03 - 2014.08 purchase and redemption curve \")"
   ]
  },
  {
   "cell_type": "markdown",
   "metadata": {},
   "source": [
    "四月之后看起来没什么趋势是平稳序列。"
   ]
  },
  {
   "cell_type": "markdown",
   "metadata": {},
   "source": [
    "### 1.3.2 仅查看14年4月到5月7日的购买和赎回曲线"
   ]
  },
  {
   "cell_type": "code",
   "execution_count": 17,
   "metadata": {
    "ExecuteTime": {
     "end_time": "2020-12-06T10:49:56.702765Z",
     "start_time": "2020-12-06T10:49:56.490208Z"
    }
   },
   "outputs": [
    {
     "data": {
      "text/plain": [
       "<matplotlib.axes._subplots.AxesSubplot at 0x7fe7a05a2f50>"
      ]
     },
     "execution_count": 17,
     "metadata": {},
     "output_type": "execute_result"
    },
    {
     "data": {
      "image/png": "[encoded data removed]",
      "text/plain": [
       "<Figure size 1152x288 with 1 Axes>"
      ]
     },
     "metadata": {
      "needs_background": "light"
     },
     "output_type": "display_data"
    }
   ],
   "source": [
    "total_balance.set_index('report_date').loc['2014-04-01':'2014-05-07'].plot(\n",
    "    figsize=(16, 4))"
   ]
  },
  {
   "cell_type": "code",
   "execution_count": 54,
   "metadata": {
    "ExecuteTime": {
     "end_time": "2020-12-06T11:54:49.138597Z",
     "start_time": "2020-12-06T11:54:49.134789Z"
    }
   },
   "outputs": [
    {
     "name": "stdout",
     "output_type": "stream",
     "text": [
      "     April 2014\n",
      "Mo Tu We Th Fr Sa Su\n",
      "    1  2  3  4  5  6\n",
      " 7  8  9 10 11 12 13\n",
      "14 15 16 17 18 19 20\n",
      "21 22 23 24 25 26 27\n",
      "28 29 30\n",
      "\n"
     ]
    }
   ],
   "source": [
    "print(calendar.month(2014, 4))"
   ]
  },
  {
   "cell_type": "markdown",
   "metadata": {},
   "source": [
    "可以看出每周末数据会处于低谷，且在周二、周三数据较高。判断每周是一个周期。数据抖动幅度较大。"
   ]
  },
  {
   "cell_type": "markdown",
   "metadata": {},
   "source": [
    "## 1.4 生成测试数据"
   ]
  },
  {
   "cell_type": "code",
   "execution_count": 18,
   "metadata": {
    "ExecuteTime": {
     "end_time": "2020-12-06T10:49:56.723110Z",
     "start_time": "2020-12-06T10:49:56.705301Z"
    },
    "code_folding": []
   },
   "outputs": [
    {
     "data": {
      "text/html": [
       "<div>\n",
       "<style scoped>\n",
       "    .dataframe tbody tr th:only-of-type {\n",
       "        vertical-align: middle;\n",
       "    }\n",
       "\n",
       "    .dataframe tbody tr th {\n",
       "        vertical-align: top;\n",
       "    }\n",
       "\n",
       "    .dataframe thead th {\n",
       "        text-align: right;\n",
       "    }\n",
       "</style>\n",
       "<table border=\"1\" class=\"dataframe\">\n",
       "  <thead>\n",
       "    <tr style=\"text-align: right;\">\n",
       "      <th></th>\n",
       "      <th>report_date</th>\n",
       "      <th>total_purchase_amt</th>\n",
       "      <th>total_redeem_amt</th>\n",
       "    </tr>\n",
       "  </thead>\n",
       "  <tbody>\n",
       "    <tr>\n",
       "      <th>28</th>\n",
       "      <td>2014-09-29</td>\n",
       "      <td>NaN</td>\n",
       "      <td>NaN</td>\n",
       "    </tr>\n",
       "    <tr>\n",
       "      <th>29</th>\n",
       "      <td>2014-09-30</td>\n",
       "      <td>NaN</td>\n",
       "      <td>NaN</td>\n",
       "    </tr>\n",
       "  </tbody>\n",
       "</table>\n",
       "</div>"
      ],
      "text/plain": [
       "   report_date  total_purchase_amt  total_redeem_amt\n",
       "28  2014-09-29                 NaN               NaN\n",
       "29  2014-09-30                 NaN               NaN"
      ]
     },
     "execution_count": 18,
     "metadata": {},
     "output_type": "execute_result"
    }
   ],
   "source": [
    "# def generate_test_data(df):\n",
    "#     \"\"\"生成9月1日到30日的测试集\"\"\"\n",
    "#     df_temp = df.copy()\n",
    "#     start = datetime.datetime(2014, 9, 1)\n",
    "#     end = datetime.datetime(2014, 10, 1)\n",
    "#     testdata = []\n",
    "#     while start != end:\n",
    "#         # 添加3个字段\n",
    "#         temp = [start, np.nan, np.nan]\n",
    "#         testdata.append(temp)\n",
    "#         start += datetime.timedelta(days=1)\n",
    "\n",
    "#     testdata = pd.DataFrame(testdata, columns=df_temp.columns)\n",
    "#     df_temp = df_temp.append(testdata)\n",
    "\n",
    "#     return df_temp\n",
    "\n",
    "\n",
    "def generate_test_data(df):\n",
    "    \"\"\"生成包含9月1日到30日测试集的数据集\"\"\"\n",
    "    df_temp = df.copy()\n",
    "    test = pd.DataFrame(np.full((30, 3), fill_value=np.nan, dtype=float), columns=df_temp.columns)\n",
    "    test['report_date'] = pd.date_range('2014-09-01',\n",
    "                                        '2014-09-30',\n",
    "                                        freq='D',\n",
    "                                        closed=None) # 左右均闭\n",
    "\n",
    "    return df_temp.append(test)\n",
    "\n",
    "\n",
    "total_balance = generate_test_data(total_balance)\n",
    "total_balance.tail(2)\n"
   ]
  },
  {
   "cell_type": "code",
   "execution_count": 19,
   "metadata": {
    "ExecuteTime": {
     "end_time": "2020-12-06T10:49:56.747456Z",
     "start_time": "2020-12-06T10:49:56.735863Z"
    }
   },
   "outputs": [],
   "source": [
    "# temp = total_balance.copy()"
   ]
  },
  {
   "cell_type": "code",
   "execution_count": 20,
   "metadata": {
    "ExecuteTime": {
     "end_time": "2020-12-06T10:49:56.810305Z",
     "start_time": "2020-12-06T10:49:56.750574Z"
    }
   },
   "outputs": [
    {
     "data": {
      "text/html": [
       "<div>\n",
       "<style scoped>\n",
       "    .dataframe tbody tr th:only-of-type {\n",
       "        vertical-align: middle;\n",
       "    }\n",
       "\n",
       "    .dataframe tbody tr th {\n",
       "        vertical-align: top;\n",
       "    }\n",
       "\n",
       "    .dataframe thead th {\n",
       "        text-align: right;\n",
       "    }\n",
       "</style>\n",
       "<table border=\"1\" class=\"dataframe\">\n",
       "  <thead>\n",
       "    <tr style=\"text-align: right;\">\n",
       "      <th></th>\n",
       "      <th>report_date</th>\n",
       "      <th>total_purchase_amt</th>\n",
       "      <th>total_redeem_amt</th>\n",
       "      <th>day</th>\n",
       "      <th>month</th>\n",
       "      <th>year</th>\n",
       "      <th>week</th>\n",
       "      <th>weekday</th>\n",
       "    </tr>\n",
       "  </thead>\n",
       "  <tbody>\n",
       "    <tr>\n",
       "      <th>28</th>\n",
       "      <td>2014-09-29</td>\n",
       "      <td>NaN</td>\n",
       "      <td>NaN</td>\n",
       "      <td>29</td>\n",
       "      <td>9</td>\n",
       "      <td>2014</td>\n",
       "      <td>40</td>\n",
       "      <td>0</td>\n",
       "    </tr>\n",
       "    <tr>\n",
       "      <th>29</th>\n",
       "      <td>2014-09-30</td>\n",
       "      <td>NaN</td>\n",
       "      <td>NaN</td>\n",
       "      <td>30</td>\n",
       "      <td>9</td>\n",
       "      <td>2014</td>\n",
       "      <td>40</td>\n",
       "      <td>1</td>\n",
       "    </tr>\n",
       "  </tbody>\n",
       "</table>\n",
       "</div>"
      ],
      "text/plain": [
       "   report_date  total_purchase_amt  total_redeem_amt  day  month  year  week  \\\n",
       "28  2014-09-29                 NaN               NaN   29      9  2014    40   \n",
       "29  2014-09-30                 NaN               NaN   30      9  2014    40   \n",
       "\n",
       "    weekday  \n",
       "28        0  \n",
       "29        1  "
      ]
     },
     "execution_count": 20,
     "metadata": {},
     "output_type": "execute_result"
    }
   ],
   "source": [
    "# total_balance = temp.copy()\n",
    "total_balance = add_timestamp(total_balance)\n",
    "total_balance.tail(2)"
   ]
  },
  {
   "cell_type": "markdown",
   "metadata": {},
   "source": [
    "# 2 计算周1——周日每一天的均值\n",
    "按一周7天分组求均值"
   ]
  },
  {
   "cell_type": "code",
   "execution_count": 21,
   "metadata": {
    "ExecuteTime": {
     "end_time": "2020-12-06T10:49:56.834897Z",
     "start_time": "2020-12-06T10:49:56.813518Z"
    }
   },
   "outputs": [
    {
     "data": {
      "text/html": [
       "<div>\n",
       "<style scoped>\n",
       "    .dataframe tbody tr th:only-of-type {\n",
       "        vertical-align: middle;\n",
       "    }\n",
       "\n",
       "    .dataframe tbody tr th {\n",
       "        vertical-align: top;\n",
       "    }\n",
       "\n",
       "    .dataframe thead th {\n",
       "        text-align: right;\n",
       "    }\n",
       "</style>\n",
       "<table border=\"1\" class=\"dataframe\">\n",
       "  <thead>\n",
       "    <tr style=\"text-align: right;\">\n",
       "      <th></th>\n",
       "      <th>weekday</th>\n",
       "      <th>purchase_weekday</th>\n",
       "      <th>redeem_weekday</th>\n",
       "    </tr>\n",
       "  </thead>\n",
       "  <tbody>\n",
       "    <tr>\n",
       "      <th>0</th>\n",
       "      <td>0</td>\n",
       "      <td>3.273693e+08</td>\n",
       "      <td>3.456808e+08</td>\n",
       "    </tr>\n",
       "    <tr>\n",
       "      <th>1</th>\n",
       "      <td>1</td>\n",
       "      <td>3.340518e+08</td>\n",
       "      <td>3.221266e+08</td>\n",
       "    </tr>\n",
       "    <tr>\n",
       "      <th>2</th>\n",
       "      <td>2</td>\n",
       "      <td>3.213877e+08</td>\n",
       "      <td>3.181960e+08</td>\n",
       "    </tr>\n",
       "    <tr>\n",
       "      <th>3</th>\n",
       "      <td>3</td>\n",
       "      <td>3.146910e+08</td>\n",
       "      <td>2.821480e+08</td>\n",
       "    </tr>\n",
       "    <tr>\n",
       "      <th>4</th>\n",
       "      <td>4</td>\n",
       "      <td>2.492893e+08</td>\n",
       "      <td>2.680463e+08</td>\n",
       "    </tr>\n",
       "    <tr>\n",
       "      <th>5</th>\n",
       "      <td>5</td>\n",
       "      <td>1.958666e+08</td>\n",
       "      <td>1.840544e+08</td>\n",
       "    </tr>\n",
       "    <tr>\n",
       "      <th>6</th>\n",
       "      <td>6</td>\n",
       "      <td>1.966477e+08</td>\n",
       "      <td>2.093138e+08</td>\n",
       "    </tr>\n",
       "  </tbody>\n",
       "</table>\n",
       "</div>"
      ],
      "text/plain": [
       "   weekday  purchase_weekday  redeem_weekday\n",
       "0        0      3.273693e+08    3.456808e+08\n",
       "1        1      3.340518e+08    3.221266e+08\n",
       "2        2      3.213877e+08    3.181960e+08\n",
       "3        3      3.146910e+08    2.821480e+08\n",
       "4        4      2.492893e+08    2.680463e+08\n",
       "5        5      1.958666e+08    1.840544e+08\n",
       "6        6      1.966477e+08    2.093138e+08"
      ]
     },
     "execution_count": 21,
     "metadata": {},
     "output_type": "execute_result"
    }
   ],
   "source": [
    "weekday_mean = total_balance[[\n",
    "    'weekday', 'total_purchase_amt', 'total_redeem_amt'\n",
    "]].groupby('weekday', as_index=False).mean()\n",
    "\n",
    "weekday_mean = weekday_mean.rename(columns={\n",
    "    \"total_purchase_amt\": 'purchase_weekday',\n",
    "    \"total_redeem_amt\": \"redeem_weekday\"\n",
    "})\n",
    "weekday_mean"
   ]
  },
  {
   "cell_type": "markdown",
   "metadata": {
    "ExecuteTime": {
     "end_time": "2020-12-05T10:46:26.826866Z",
     "start_time": "2020-12-05T10:46:26.725018Z"
    }
   },
   "source": [
    "# 3 计算周期因子\n",
    "周期因子 = 周1、2、...7的均值 / (2014年3月到8月的总均值)"
   ]
  },
  {
   "cell_type": "code",
   "execution_count": 22,
   "metadata": {
    "ExecuteTime": {
     "end_time": "2020-12-06T10:49:56.854565Z",
     "start_time": "2020-12-06T10:49:56.838263Z"
    }
   },
   "outputs": [
    {
     "data": {
      "text/html": [
       "<div>\n",
       "<style scoped>\n",
       "    .dataframe tbody tr th:only-of-type {\n",
       "        vertical-align: middle;\n",
       "    }\n",
       "\n",
       "    .dataframe tbody tr th {\n",
       "        vertical-align: top;\n",
       "    }\n",
       "\n",
       "    .dataframe thead th {\n",
       "        text-align: right;\n",
       "    }\n",
       "</style>\n",
       "<table border=\"1\" class=\"dataframe\">\n",
       "  <thead>\n",
       "    <tr style=\"text-align: right;\">\n",
       "      <th></th>\n",
       "      <th>purchase_weekday</th>\n",
       "      <th>redeem_weekday</th>\n",
       "      <th>weekday</th>\n",
       "    </tr>\n",
       "  </thead>\n",
       "  <tbody>\n",
       "    <tr>\n",
       "      <th>0</th>\n",
       "      <td>1.185411</td>\n",
       "      <td>1.257964</td>\n",
       "      <td>0</td>\n",
       "    </tr>\n",
       "    <tr>\n",
       "      <th>1</th>\n",
       "      <td>1.209608</td>\n",
       "      <td>1.172248</td>\n",
       "      <td>1</td>\n",
       "    </tr>\n",
       "    <tr>\n",
       "      <th>2</th>\n",
       "      <td>1.163752</td>\n",
       "      <td>1.157944</td>\n",
       "      <td>2</td>\n",
       "    </tr>\n",
       "    <tr>\n",
       "      <th>3</th>\n",
       "      <td>1.139503</td>\n",
       "      <td>1.026762</td>\n",
       "      <td>3</td>\n",
       "    </tr>\n",
       "    <tr>\n",
       "      <th>4</th>\n",
       "      <td>0.902682</td>\n",
       "      <td>0.975445</td>\n",
       "      <td>4</td>\n",
       "    </tr>\n",
       "    <tr>\n",
       "      <th>5</th>\n",
       "      <td>0.709237</td>\n",
       "      <td>0.669791</td>\n",
       "      <td>5</td>\n",
       "    </tr>\n",
       "    <tr>\n",
       "      <th>6</th>\n",
       "      <td>0.712065</td>\n",
       "      <td>0.761712</td>\n",
       "      <td>6</td>\n",
       "    </tr>\n",
       "  </tbody>\n",
       "</table>\n",
       "</div>"
      ],
      "text/plain": [
       "   purchase_weekday  redeem_weekday  weekday\n",
       "0          1.185411        1.257964        0\n",
       "1          1.209608        1.172248        1\n",
       "2          1.163752        1.157944        2\n",
       "3          1.139503        1.026762        3\n",
       "4          0.902682        0.975445        4\n",
       "5          0.709237        0.669791        5\n",
       "6          0.712065        0.761712        6"
      ]
     },
     "execution_count": 22,
     "metadata": {},
     "output_type": "execute_result"
    }
   ],
   "source": [
    "weekday_weight = weekday_mean[[\n",
    "    'purchase_weekday', 'redeem_weekday'\n",
    "]] / total_balance[['total_purchase_amt', 'total_redeem_amt']].mean().values\n",
    "\n",
    "weekday_weight['weekday'] = weekday_mean.weekday\n",
    "\n",
    "weekday_weight"
   ]
  },
  {
   "cell_type": "code",
   "execution_count": 23,
   "metadata": {
    "ExecuteTime": {
     "end_time": "2020-12-06T10:49:56.957082Z",
     "start_time": "2020-12-06T10:49:56.924962Z"
    }
   },
   "outputs": [
    {
     "data": {
      "text/html": [
       "<div>\n",
       "<style scoped>\n",
       "    .dataframe tbody tr th:only-of-type {\n",
       "        vertical-align: middle;\n",
       "    }\n",
       "\n",
       "    .dataframe tbody tr th {\n",
       "        vertical-align: top;\n",
       "    }\n",
       "\n",
       "    .dataframe thead th {\n",
       "        text-align: right;\n",
       "    }\n",
       "</style>\n",
       "<table border=\"1\" class=\"dataframe\">\n",
       "  <thead>\n",
       "    <tr style=\"text-align: right;\">\n",
       "      <th></th>\n",
       "      <th>report_date</th>\n",
       "      <th>total_purchase_amt</th>\n",
       "      <th>total_redeem_amt</th>\n",
       "      <th>day</th>\n",
       "      <th>month</th>\n",
       "      <th>year</th>\n",
       "      <th>week</th>\n",
       "      <th>weekday</th>\n",
       "      <th>purchase_weekday</th>\n",
       "      <th>redeem_weekday</th>\n",
       "    </tr>\n",
       "  </thead>\n",
       "  <tbody>\n",
       "    <tr>\n",
       "      <th>212</th>\n",
       "      <td>2014-09-29</td>\n",
       "      <td>NaN</td>\n",
       "      <td>NaN</td>\n",
       "      <td>29</td>\n",
       "      <td>9</td>\n",
       "      <td>2014</td>\n",
       "      <td>40</td>\n",
       "      <td>0</td>\n",
       "      <td>1.185411</td>\n",
       "      <td>1.257964</td>\n",
       "    </tr>\n",
       "    <tr>\n",
       "      <th>213</th>\n",
       "      <td>2014-09-30</td>\n",
       "      <td>NaN</td>\n",
       "      <td>NaN</td>\n",
       "      <td>30</td>\n",
       "      <td>9</td>\n",
       "      <td>2014</td>\n",
       "      <td>40</td>\n",
       "      <td>1</td>\n",
       "      <td>1.209608</td>\n",
       "      <td>1.172248</td>\n",
       "    </tr>\n",
       "  </tbody>\n",
       "</table>\n",
       "</div>"
      ],
      "text/plain": [
       "    report_date  total_purchase_amt  total_redeem_amt  day  month  year  week  \\\n",
       "212  2014-09-29                 NaN               NaN   29      9  2014    40   \n",
       "213  2014-09-30                 NaN               NaN   30      9  2014    40   \n",
       "\n",
       "     weekday  purchase_weekday  redeem_weekday  \n",
       "212        0          1.185411        1.257964  \n",
       "213        1          1.209608        1.172248  "
      ]
     },
     "execution_count": 23,
     "metadata": {},
     "output_type": "execute_result"
    }
   ],
   "source": [
    "total_balance = total_balance.merge(weekday_weight, on='weekday', how='left')\n",
    "total_balance.tail(2)"
   ]
  },
  {
   "cell_type": "markdown",
   "metadata": {},
   "source": [
    "# 4 计算日期因子"
   ]
  },
  {
   "cell_type": "code",
   "execution_count": 24,
   "metadata": {
    "ExecuteTime": {
     "end_time": "2020-12-06T10:49:56.979311Z",
     "start_time": "2020-12-06T10:49:56.966918Z"
    }
   },
   "outputs": [],
   "source": [
    "# 统计2014年3月到8月中所有1-31号中周一到周日出现的频次（比如：6个月里的1号中有几个周一、周二..周日）\n",
    "count_weekday = total_balance[['report_date', 'day',\n",
    "                               'weekday']].groupby(['day', 'weekday'],\n",
    "                                                   as_index=False).count()"
   ]
  },
  {
   "cell_type": "code",
   "execution_count": 25,
   "metadata": {
    "ExecuteTime": {
     "end_time": "2020-12-06T10:49:56.996212Z",
     "start_time": "2020-12-06T10:49:56.982992Z"
    },
    "scrolled": true
   },
   "outputs": [
    {
     "data": {
      "text/html": [
       "<div>\n",
       "<style scoped>\n",
       "    .dataframe tbody tr th:only-of-type {\n",
       "        vertical-align: middle;\n",
       "    }\n",
       "\n",
       "    .dataframe tbody tr th {\n",
       "        vertical-align: top;\n",
       "    }\n",
       "\n",
       "    .dataframe thead th {\n",
       "        text-align: right;\n",
       "    }\n",
       "</style>\n",
       "<table border=\"1\" class=\"dataframe\">\n",
       "  <thead>\n",
       "    <tr style=\"text-align: right;\">\n",
       "      <th></th>\n",
       "      <th>day</th>\n",
       "      <th>weekday</th>\n",
       "      <th>count</th>\n",
       "    </tr>\n",
       "  </thead>\n",
       "  <tbody>\n",
       "    <tr>\n",
       "      <th>0</th>\n",
       "      <td>1</td>\n",
       "      <td>0</td>\n",
       "      <td>1</td>\n",
       "    </tr>\n",
       "    <tr>\n",
       "      <th>1</th>\n",
       "      <td>1</td>\n",
       "      <td>1</td>\n",
       "      <td>2</td>\n",
       "    </tr>\n",
       "  </tbody>\n",
       "</table>\n",
       "</div>"
      ],
      "text/plain": [
       "   day  weekday  count\n",
       "0    1        0      1\n",
       "1    1        1      2"
      ]
     },
     "execution_count": 25,
     "metadata": {},
     "output_type": "execute_result"
    }
   ],
   "source": [
    "# 列名report_date重命名为代表频次的count\n",
    "count_weekday = count_weekday.rename(columns={\"report_date\":\"count\"})\n",
    "count_weekday.head(2)"
   ]
  },
  {
   "cell_type": "code",
   "execution_count": 26,
   "metadata": {
    "ExecuteTime": {
     "end_time": "2020-12-06T10:49:57.017864Z",
     "start_time": "2020-12-06T10:49:57.000313Z"
    }
   },
   "outputs": [
    {
     "data": {
      "text/html": [
       "<div>\n",
       "<style scoped>\n",
       "    .dataframe tbody tr th:only-of-type {\n",
       "        vertical-align: middle;\n",
       "    }\n",
       "\n",
       "    .dataframe tbody tr th {\n",
       "        vertical-align: top;\n",
       "    }\n",
       "\n",
       "    .dataframe thead th {\n",
       "        text-align: right;\n",
       "    }\n",
       "</style>\n",
       "<table border=\"1\" class=\"dataframe\">\n",
       "  <thead>\n",
       "    <tr style=\"text-align: right;\">\n",
       "      <th></th>\n",
       "      <th>day</th>\n",
       "      <th>weekday</th>\n",
       "      <th>count</th>\n",
       "      <th>purchase_weekday</th>\n",
       "      <th>redeem_weekday</th>\n",
       "    </tr>\n",
       "  </thead>\n",
       "  <tbody>\n",
       "    <tr>\n",
       "      <th>0</th>\n",
       "      <td>1</td>\n",
       "      <td>0</td>\n",
       "      <td>1</td>\n",
       "      <td>1.185411</td>\n",
       "      <td>1.257964</td>\n",
       "    </tr>\n",
       "    <tr>\n",
       "      <th>1</th>\n",
       "      <td>2</td>\n",
       "      <td>0</td>\n",
       "      <td>1</td>\n",
       "      <td>1.185411</td>\n",
       "      <td>1.257964</td>\n",
       "    </tr>\n",
       "  </tbody>\n",
       "</table>\n",
       "</div>"
      ],
      "text/plain": [
       "   day  weekday  count  purchase_weekday  redeem_weekday\n",
       "0    1        0      1          1.185411        1.257964\n",
       "1    2        0      1          1.185411        1.257964"
      ]
     },
     "execution_count": 26,
     "metadata": {},
     "output_type": "execute_result"
    }
   ],
   "source": [
    "# 将频次df和周期因子df合并\n",
    "count_weekday = count_weekday.merge(weekday_weight, on='weekday')\n",
    "\n",
    "count_weekday.head(2)"
   ]
  },
  {
   "cell_type": "code",
   "execution_count": 53,
   "metadata": {
    "ExecuteTime": {
     "end_time": "2020-12-06T11:27:23.185016Z",
     "start_time": "2020-12-06T11:27:23.147188Z"
    }
   },
   "outputs": [
    {
     "data": {
      "text/plain": [
       "(184, 5)"
      ]
     },
     "execution_count": 53,
     "metadata": {},
     "output_type": "execute_result"
    }
   ],
   "source": [
    "count_weekday.shape"
   ]
  },
  {
   "cell_type": "code",
   "execution_count": 27,
   "metadata": {
    "ExecuteTime": {
     "end_time": "2020-12-06T10:49:57.045109Z",
     "start_time": "2020-12-06T10:49:57.021541Z"
    }
   },
   "outputs": [
    {
     "data": {
      "text/html": [
       "<div>\n",
       "<style scoped>\n",
       "    .dataframe tbody tr th:only-of-type {\n",
       "        vertical-align: middle;\n",
       "    }\n",
       "\n",
       "    .dataframe tbody tr th {\n",
       "        vertical-align: top;\n",
       "    }\n",
       "\n",
       "    .dataframe thead th {\n",
       "        text-align: right;\n",
       "    }\n",
       "</style>\n",
       "<table border=\"1\" class=\"dataframe\">\n",
       "  <thead>\n",
       "    <tr style=\"text-align: right;\">\n",
       "      <th></th>\n",
       "      <th>day</th>\n",
       "      <th>weekday</th>\n",
       "      <th>count</th>\n",
       "      <th>purchase_weekday</th>\n",
       "      <th>redeem_weekday</th>\n",
       "    </tr>\n",
       "  </thead>\n",
       "  <tbody>\n",
       "    <tr>\n",
       "      <th>0</th>\n",
       "      <td>1</td>\n",
       "      <td>0</td>\n",
       "      <td>1</td>\n",
       "      <td>0.169344</td>\n",
       "      <td>0.179709</td>\n",
       "    </tr>\n",
       "    <tr>\n",
       "      <th>1</th>\n",
       "      <td>2</td>\n",
       "      <td>0</td>\n",
       "      <td>1</td>\n",
       "      <td>0.169344</td>\n",
       "      <td>0.179709</td>\n",
       "    </tr>\n",
       "    <tr>\n",
       "      <th>2</th>\n",
       "      <td>3</td>\n",
       "      <td>0</td>\n",
       "      <td>1</td>\n",
       "      <td>0.169344</td>\n",
       "      <td>0.179709</td>\n",
       "    </tr>\n",
       "    <tr>\n",
       "      <th>3</th>\n",
       "      <td>4</td>\n",
       "      <td>0</td>\n",
       "      <td>1</td>\n",
       "      <td>0.169344</td>\n",
       "      <td>0.179709</td>\n",
       "    </tr>\n",
       "    <tr>\n",
       "      <th>4</th>\n",
       "      <td>5</td>\n",
       "      <td>0</td>\n",
       "      <td>1</td>\n",
       "      <td>0.169344</td>\n",
       "      <td>0.179709</td>\n",
       "    </tr>\n",
       "    <tr>\n",
       "      <th>...</th>\n",
       "      <td>...</td>\n",
       "      <td>...</td>\n",
       "      <td>...</td>\n",
       "      <td>...</td>\n",
       "      <td>...</td>\n",
       "    </tr>\n",
       "    <tr>\n",
       "      <th>179</th>\n",
       "      <td>25</td>\n",
       "      <td>2</td>\n",
       "      <td>1</td>\n",
       "      <td>0.166250</td>\n",
       "      <td>0.165421</td>\n",
       "    </tr>\n",
       "    <tr>\n",
       "      <th>180</th>\n",
       "      <td>26</td>\n",
       "      <td>2</td>\n",
       "      <td>1</td>\n",
       "      <td>0.166250</td>\n",
       "      <td>0.165421</td>\n",
       "    </tr>\n",
       "    <tr>\n",
       "      <th>181</th>\n",
       "      <td>27</td>\n",
       "      <td>2</td>\n",
       "      <td>1</td>\n",
       "      <td>0.166250</td>\n",
       "      <td>0.165421</td>\n",
       "    </tr>\n",
       "    <tr>\n",
       "      <th>182</th>\n",
       "      <td>28</td>\n",
       "      <td>2</td>\n",
       "      <td>1</td>\n",
       "      <td>0.166250</td>\n",
       "      <td>0.165421</td>\n",
       "    </tr>\n",
       "    <tr>\n",
       "      <th>183</th>\n",
       "      <td>30</td>\n",
       "      <td>2</td>\n",
       "      <td>2</td>\n",
       "      <td>0.332500</td>\n",
       "      <td>0.330841</td>\n",
       "    </tr>\n",
       "  </tbody>\n",
       "</table>\n",
       "<p>184 rows × 5 columns</p>\n",
       "</div>"
      ],
      "text/plain": [
       "     day  weekday  count  purchase_weekday  redeem_weekday\n",
       "0      1        0      1          0.169344        0.179709\n",
       "1      2        0      1          0.169344        0.179709\n",
       "2      3        0      1          0.169344        0.179709\n",
       "3      4        0      1          0.169344        0.179709\n",
       "4      5        0      1          0.169344        0.179709\n",
       "..   ...      ...    ...               ...             ...\n",
       "179   25        2      1          0.166250        0.165421\n",
       "180   26        2      1          0.166250        0.165421\n",
       "181   27        2      1          0.166250        0.165421\n",
       "182   28        2      1          0.166250        0.165421\n",
       "183   30        2      2          0.332500        0.330841\n",
       "\n",
       "[184 rows x 5 columns]"
      ]
     },
     "execution_count": 27,
     "metadata": {},
     "output_type": "execute_result"
    }
   ],
   "source": [
    "# 统计2014年3月到8月一共几个月\n",
    "n_month = total_balance['month'].nunique()\n",
    "\n",
    "# 日期计算 = 周期因子 * 一周7天在1-31号中出现的频次 / 一共几个月份\n",
    "count_weekday['purchase_weekday'] = count_weekday[\n",
    "    'purchase_weekday'] * count_weekday['count'] / n_month\n",
    "\n",
    "count_weekday['redeem_weekday'] = count_weekday[\n",
    "    'redeem_weekday'] * count_weekday['count'] / n_month\n",
    "\n",
    "count_weekday"
   ]
  },
  {
   "cell_type": "code",
   "execution_count": 28,
   "metadata": {
    "ExecuteTime": {
     "end_time": "2020-12-06T10:49:57.059723Z",
     "start_time": "2020-12-06T10:49:57.049969Z"
    }
   },
   "outputs": [],
   "source": [
    "# 1-31号 每一天的日期因子\n",
    "day_rate = count_weekday.drop(columns=['weekday', 'count']).groupby(\"day\", as_index=False).sum()"
   ]
  },
  {
   "cell_type": "code",
   "execution_count": 29,
   "metadata": {
    "ExecuteTime": {
     "end_time": "2020-12-06T10:49:57.080259Z",
     "start_time": "2020-12-06T10:49:57.066221Z"
    }
   },
   "outputs": [
    {
     "data": {
      "text/html": [
       "<div>\n",
       "<style scoped>\n",
       "    .dataframe tbody tr th:only-of-type {\n",
       "        vertical-align: middle;\n",
       "    }\n",
       "\n",
       "    .dataframe tbody tr th {\n",
       "        vertical-align: top;\n",
       "    }\n",
       "\n",
       "    .dataframe thead th {\n",
       "        text-align: right;\n",
       "    }\n",
       "</style>\n",
       "<table border=\"1\" class=\"dataframe\">\n",
       "  <thead>\n",
       "    <tr style=\"text-align: right;\">\n",
       "      <th></th>\n",
       "      <th>day</th>\n",
       "      <th>purchase_weekday</th>\n",
       "      <th>redeem_weekday</th>\n",
       "    </tr>\n",
       "  </thead>\n",
       "  <tbody>\n",
       "    <tr>\n",
       "      <th>0</th>\n",
       "      <td>1</td>\n",
       "      <td>1.009731</td>\n",
       "      <td>1.005167</td>\n",
       "    </tr>\n",
       "    <tr>\n",
       "      <th>1</th>\n",
       "      <td>2</td>\n",
       "      <td>1.006644</td>\n",
       "      <td>1.021864</td>\n",
       "    </tr>\n",
       "    <tr>\n",
       "      <th>2</th>\n",
       "      <td>3</td>\n",
       "      <td>1.037011</td>\n",
       "      <td>1.010455</td>\n",
       "    </tr>\n",
       "    <tr>\n",
       "      <th>3</th>\n",
       "      <td>4</td>\n",
       "      <td>1.030815</td>\n",
       "      <td>1.046789</td>\n",
       "    </tr>\n",
       "    <tr>\n",
       "      <th>4</th>\n",
       "      <td>5</td>\n",
       "      <td>1.002776</td>\n",
       "      <td>0.989992</td>\n",
       "    </tr>\n",
       "  </tbody>\n",
       "</table>\n",
       "</div>"
      ],
      "text/plain": [
       "   day  purchase_weekday  redeem_weekday\n",
       "0    1          1.009731        1.005167\n",
       "1    2          1.006644        1.021864\n",
       "2    3          1.037011        1.010455\n",
       "3    4          1.030815        1.046789\n",
       "4    5          1.002776        0.989992"
      ]
     },
     "execution_count": 29,
     "metadata": {},
     "output_type": "execute_result"
    }
   ],
   "source": [
    "day_rate.head()"
   ]
  },
  {
   "cell_type": "markdown",
   "metadata": {},
   "source": [
    "# 5 按日分组计算总购买和总赎回的均值"
   ]
  },
  {
   "cell_type": "code",
   "execution_count": 30,
   "metadata": {
    "ExecuteTime": {
     "end_time": "2020-12-06T10:49:57.104855Z",
     "start_time": "2020-12-06T10:49:57.085722Z"
    }
   },
   "outputs": [
    {
     "data": {
      "text/html": [
       "<div>\n",
       "<style scoped>\n",
       "    .dataframe tbody tr th:only-of-type {\n",
       "        vertical-align: middle;\n",
       "    }\n",
       "\n",
       "    .dataframe tbody tr th {\n",
       "        vertical-align: top;\n",
       "    }\n",
       "\n",
       "    .dataframe thead th {\n",
       "        text-align: right;\n",
       "    }\n",
       "</style>\n",
       "<table border=\"1\" class=\"dataframe\">\n",
       "  <thead>\n",
       "    <tr style=\"text-align: right;\">\n",
       "      <th></th>\n",
       "      <th>day</th>\n",
       "      <th>total_purchase_amt</th>\n",
       "      <th>total_redeem_amt</th>\n",
       "    </tr>\n",
       "  </thead>\n",
       "  <tbody>\n",
       "    <tr>\n",
       "      <th>29</th>\n",
       "      <td>30</td>\n",
       "      <td>2.393089e+08</td>\n",
       "      <td>2.937321e+08</td>\n",
       "    </tr>\n",
       "    <tr>\n",
       "      <th>30</th>\n",
       "      <td>31</td>\n",
       "      <td>2.531319e+08</td>\n",
       "      <td>2.842130e+08</td>\n",
       "    </tr>\n",
       "  </tbody>\n",
       "</table>\n",
       "</div>"
      ],
      "text/plain": [
       "    day  total_purchase_amt  total_redeem_amt\n",
       "29   30        2.393089e+08      2.937321e+08\n",
       "30   31        2.531319e+08      2.842130e+08"
      ]
     },
     "execution_count": 30,
     "metadata": {},
     "output_type": "execute_result"
    }
   ],
   "source": [
    "# 每日均值\n",
    "day_mean = total_balance[['day', 'total_purchase_amt',\n",
    "                          'total_redeem_amt']].groupby('day',\n",
    "                                                       as_index=False).mean()\n",
    "day_mean.tail(2)"
   ]
  },
  {
   "cell_type": "markdown",
   "metadata": {},
   "source": [
    "# 7 计算base\n",
    "base = 每日均值 / 日期因子"
   ]
  },
  {
   "cell_type": "code",
   "execution_count": 31,
   "metadata": {
    "ExecuteTime": {
     "end_time": "2020-12-06T10:49:57.124193Z",
     "start_time": "2020-12-06T10:49:57.110170Z"
    }
   },
   "outputs": [],
   "source": [
    "day_pred = pd.merge(day_mean, day_rate, on='day', how='left')\n",
    "\n",
    "day_pred['total_purchase_amt'] /= day_pred['purchase_weekday']\n",
    "day_pred['total_redeem_amt'] /= day_pred['redeem_weekday']"
   ]
  },
  {
   "cell_type": "code",
   "execution_count": 32,
   "metadata": {
    "ExecuteTime": {
     "end_time": "2020-12-06T10:49:57.140381Z",
     "start_time": "2020-12-06T10:49:57.127907Z"
    }
   },
   "outputs": [],
   "source": [
    "# 生成report_date列\n",
    "day_pred['report_date列'] = day_pred['day'].apply(\n",
    "    lambda x: pd.to_datetime('2014-09-%d' % x) if x != 31 else np.nan)"
   ]
  },
  {
   "cell_type": "code",
   "execution_count": 33,
   "metadata": {
    "ExecuteTime": {
     "end_time": "2020-12-06T10:49:57.159643Z",
     "start_time": "2020-12-06T10:49:57.144495Z"
    }
   },
   "outputs": [
    {
     "data": {
      "text/html": [
       "<div>\n",
       "<style scoped>\n",
       "    .dataframe tbody tr th:only-of-type {\n",
       "        vertical-align: middle;\n",
       "    }\n",
       "\n",
       "    .dataframe tbody tr th {\n",
       "        vertical-align: top;\n",
       "    }\n",
       "\n",
       "    .dataframe thead th {\n",
       "        text-align: right;\n",
       "    }\n",
       "</style>\n",
       "<table border=\"1\" class=\"dataframe\">\n",
       "  <thead>\n",
       "    <tr style=\"text-align: right;\">\n",
       "      <th></th>\n",
       "      <th>day</th>\n",
       "      <th>total_purchase_amt</th>\n",
       "      <th>total_redeem_amt</th>\n",
       "      <th>purchase_weekday</th>\n",
       "      <th>redeem_weekday</th>\n",
       "      <th>report_date</th>\n",
       "    </tr>\n",
       "  </thead>\n",
       "  <tbody>\n",
       "    <tr>\n",
       "      <th>29</th>\n",
       "      <td>30</td>\n",
       "      <td>2.377294e+08</td>\n",
       "      <td>2.874474e+08</td>\n",
       "      <td>1.006644</td>\n",
       "      <td>1.021864</td>\n",
       "      <td>2014-09-30</td>\n",
       "    </tr>\n",
       "    <tr>\n",
       "      <th>30</th>\n",
       "      <td>31</td>\n",
       "      <td>4.729902e+08</td>\n",
       "      <td>5.353523e+08</td>\n",
       "      <td>0.535174</td>\n",
       "      <td>0.530890</td>\n",
       "      <td>NaT</td>\n",
       "    </tr>\n",
       "  </tbody>\n",
       "</table>\n",
       "</div>"
      ],
      "text/plain": [
       "    day  total_purchase_amt  total_redeem_amt  purchase_weekday  \\\n",
       "29   30        2.377294e+08      2.874474e+08          1.006644   \n",
       "30   31        4.729902e+08      5.353523e+08          0.535174   \n",
       "\n",
       "    redeem_weekday report_date  \n",
       "29        1.021864  2014-09-30  \n",
       "30        0.530890         NaT  "
      ]
     },
     "execution_count": 33,
     "metadata": {},
     "output_type": "execute_result"
    }
   ],
   "source": [
    "day_pred.tail(2)"
   ]
  },
  {
   "cell_type": "markdown",
   "metadata": {},
   "source": [
    "# 7 根据base和周期因子预测\n",
    "预测结果 = base * 周期因子"
   ]
  },
  {
   "cell_type": "code",
   "execution_count": 34,
   "metadata": {
    "ExecuteTime": {
     "end_time": "2020-12-06T10:49:57.174853Z",
     "start_time": "2020-12-06T10:49:57.167954Z"
    }
   },
   "outputs": [],
   "source": [
    "day_pred['weekday'] = day_pred['report_date'].dt.weekday"
   ]
  },
  {
   "cell_type": "code",
   "execution_count": 35,
   "metadata": {
    "ExecuteTime": {
     "end_time": "2020-12-06T10:49:57.205173Z",
     "start_time": "2020-12-06T10:49:57.177857Z"
    }
   },
   "outputs": [
    {
     "data": {
      "text/html": [
       "<div>\n",
       "<style scoped>\n",
       "    .dataframe tbody tr th:only-of-type {\n",
       "        vertical-align: middle;\n",
       "    }\n",
       "\n",
       "    .dataframe tbody tr th {\n",
       "        vertical-align: top;\n",
       "    }\n",
       "\n",
       "    .dataframe thead th {\n",
       "        text-align: right;\n",
       "    }\n",
       "</style>\n",
       "<table border=\"1\" class=\"dataframe\">\n",
       "  <thead>\n",
       "    <tr style=\"text-align: right;\">\n",
       "      <th></th>\n",
       "      <th>day</th>\n",
       "      <th>total_purchase_amt</th>\n",
       "      <th>total_redeem_amt</th>\n",
       "      <th>report_date</th>\n",
       "      <th>weekday</th>\n",
       "      <th>purchase_weekday</th>\n",
       "      <th>redeem_weekday</th>\n",
       "    </tr>\n",
       "  </thead>\n",
       "  <tbody>\n",
       "    <tr>\n",
       "      <th>26</th>\n",
       "      <td>27</td>\n",
       "      <td>2.547501e+08</td>\n",
       "      <td>3.409693e+08</td>\n",
       "      <td>2014-09-27</td>\n",
       "      <td>5.0</td>\n",
       "      <td>0.709237</td>\n",
       "      <td>0.669791</td>\n",
       "    </tr>\n",
       "    <tr>\n",
       "      <th>27</th>\n",
       "      <td>28</td>\n",
       "      <td>2.663588e+08</td>\n",
       "      <td>3.408189e+08</td>\n",
       "      <td>2014-09-28</td>\n",
       "      <td>6.0</td>\n",
       "      <td>0.712065</td>\n",
       "      <td>0.761712</td>\n",
       "    </tr>\n",
       "    <tr>\n",
       "      <th>28</th>\n",
       "      <td>29</td>\n",
       "      <td>2.419552e+08</td>\n",
       "      <td>2.677531e+08</td>\n",
       "      <td>2014-09-29</td>\n",
       "      <td>0.0</td>\n",
       "      <td>1.185411</td>\n",
       "      <td>1.257964</td>\n",
       "    </tr>\n",
       "    <tr>\n",
       "      <th>29</th>\n",
       "      <td>30</td>\n",
       "      <td>2.377294e+08</td>\n",
       "      <td>2.874474e+08</td>\n",
       "      <td>2014-09-30</td>\n",
       "      <td>1.0</td>\n",
       "      <td>1.209608</td>\n",
       "      <td>1.172248</td>\n",
       "    </tr>\n",
       "    <tr>\n",
       "      <th>30</th>\n",
       "      <td>31</td>\n",
       "      <td>4.729902e+08</td>\n",
       "      <td>5.353523e+08</td>\n",
       "      <td>NaT</td>\n",
       "      <td>NaN</td>\n",
       "      <td>NaN</td>\n",
       "      <td>NaN</td>\n",
       "    </tr>\n",
       "  </tbody>\n",
       "</table>\n",
       "</div>"
      ],
      "text/plain": [
       "    day  total_purchase_amt  total_redeem_amt report_date  weekday  \\\n",
       "26   27        2.547501e+08      3.409693e+08  2014-09-27      5.0   \n",
       "27   28        2.663588e+08      3.408189e+08  2014-09-28      6.0   \n",
       "28   29        2.419552e+08      2.677531e+08  2014-09-29      0.0   \n",
       "29   30        2.377294e+08      2.874474e+08  2014-09-30      1.0   \n",
       "30   31        4.729902e+08      5.353523e+08         NaT      NaN   \n",
       "\n",
       "    purchase_weekday  redeem_weekday  \n",
       "26          0.709237        0.669791  \n",
       "27          0.712065        0.761712  \n",
       "28          1.185411        1.257964  \n",
       "29          1.209608        1.172248  \n",
       "30               NaN             NaN  "
      ]
     },
     "execution_count": 35,
     "metadata": {},
     "output_type": "execute_result"
    }
   ],
   "source": [
    "day_pred = day_pred.drop(columns=['purchase_weekday', 'redeem_weekday']).merge(weekday_weight, on='weekday', how='left')\n",
    "day_pred.tail()"
   ]
  },
  {
   "cell_type": "code",
   "execution_count": 36,
   "metadata": {
    "ExecuteTime": {
     "end_time": "2020-12-06T10:49:57.215358Z",
     "start_time": "2020-12-06T10:49:57.208993Z"
    }
   },
   "outputs": [],
   "source": [
    "day_pred = day_pred.dropna() # 去掉最后一行"
   ]
  },
  {
   "cell_type": "code",
   "execution_count": 37,
   "metadata": {
    "ExecuteTime": {
     "end_time": "2020-12-06T10:49:57.233045Z",
     "start_time": "2020-12-06T10:49:57.219049Z"
    }
   },
   "outputs": [
    {
     "data": {
      "text/html": [
       "<div>\n",
       "<style scoped>\n",
       "    .dataframe tbody tr th:only-of-type {\n",
       "        vertical-align: middle;\n",
       "    }\n",
       "\n",
       "    .dataframe tbody tr th {\n",
       "        vertical-align: top;\n",
       "    }\n",
       "\n",
       "    .dataframe thead th {\n",
       "        text-align: right;\n",
       "    }\n",
       "</style>\n",
       "<table border=\"1\" class=\"dataframe\">\n",
       "  <thead>\n",
       "    <tr style=\"text-align: right;\">\n",
       "      <th></th>\n",
       "      <th>day</th>\n",
       "      <th>total_purchase_amt</th>\n",
       "      <th>total_redeem_amt</th>\n",
       "      <th>report_date</th>\n",
       "      <th>weekday</th>\n",
       "      <th>purchase_weekday</th>\n",
       "      <th>redeem_weekday</th>\n",
       "    </tr>\n",
       "  </thead>\n",
       "  <tbody>\n",
       "    <tr>\n",
       "      <th>28</th>\n",
       "      <td>29</td>\n",
       "      <td>2.868163e+08</td>\n",
       "      <td>3.368237e+08</td>\n",
       "      <td>2014-09-29</td>\n",
       "      <td>0.0</td>\n",
       "      <td>1.185411</td>\n",
       "      <td>1.257964</td>\n",
       "    </tr>\n",
       "    <tr>\n",
       "      <th>29</th>\n",
       "      <td>30</td>\n",
       "      <td>2.875595e+08</td>\n",
       "      <td>3.369596e+08</td>\n",
       "      <td>2014-09-30</td>\n",
       "      <td>1.0</td>\n",
       "      <td>1.209608</td>\n",
       "      <td>1.172248</td>\n",
       "    </tr>\n",
       "  </tbody>\n",
       "</table>\n",
       "</div>"
      ],
      "text/plain": [
       "    day  total_purchase_amt  total_redeem_amt report_date  weekday  \\\n",
       "28   29        2.868163e+08      3.368237e+08  2014-09-29      0.0   \n",
       "29   30        2.875595e+08      3.369596e+08  2014-09-30      1.0   \n",
       "\n",
       "    purchase_weekday  redeem_weekday  \n",
       "28          1.185411        1.257964  \n",
       "29          1.209608        1.172248  "
      ]
     },
     "execution_count": 37,
     "metadata": {},
     "output_type": "execute_result"
    }
   ],
   "source": [
    "# 预测结果 = base * 周期因子\n",
    "day_pred['total_purchase_amt'] *= day_pred['purchase_weekday']\n",
    "day_pred['total_redeem_amt'] *= day_pred['redeem_weekday']\n",
    "day_pred.tail(2)"
   ]
  },
  {
   "cell_type": "code",
   "execution_count": 38,
   "metadata": {
    "ExecuteTime": {
     "end_time": "2020-12-06T10:49:57.241016Z",
     "start_time": "2020-12-06T10:49:57.235220Z"
    }
   },
   "outputs": [],
   "source": [
    "# 只取需要的3列\n",
    "day_pred = day_pred[['report_date', 'total_purchase_amt', 'total_redeem_amt']]"
   ]
  },
  {
   "cell_type": "code",
   "execution_count": 39,
   "metadata": {
    "ExecuteTime": {
     "end_time": "2020-12-06T10:49:57.250421Z",
     "start_time": "2020-12-06T10:49:57.245399Z"
    }
   },
   "outputs": [],
   "source": [
    "# 修改日期列的格式\n",
    "day_pred['report_date'] = day_pred['report_date'].dt.strftime(\"%Y%m%d\")"
   ]
  },
  {
   "cell_type": "code",
   "execution_count": 40,
   "metadata": {
    "ExecuteTime": {
     "end_time": "2020-12-06T10:49:57.264216Z",
     "start_time": "2020-12-06T10:49:57.253794Z"
    }
   },
   "outputs": [
    {
     "data": {
      "text/html": [
       "<div>\n",
       "<style scoped>\n",
       "    .dataframe tbody tr th:only-of-type {\n",
       "        vertical-align: middle;\n",
       "    }\n",
       "\n",
       "    .dataframe tbody tr th {\n",
       "        vertical-align: top;\n",
       "    }\n",
       "\n",
       "    .dataframe thead th {\n",
       "        text-align: right;\n",
       "    }\n",
       "</style>\n",
       "<table border=\"1\" class=\"dataframe\">\n",
       "  <thead>\n",
       "    <tr style=\"text-align: right;\">\n",
       "      <th></th>\n",
       "      <th>report_date</th>\n",
       "      <th>total_purchase_amt</th>\n",
       "      <th>total_redeem_amt</th>\n",
       "    </tr>\n",
       "  </thead>\n",
       "  <tbody>\n",
       "    <tr>\n",
       "      <th>28</th>\n",
       "      <td>20140929</td>\n",
       "      <td>2.868163e+08</td>\n",
       "      <td>3.368237e+08</td>\n",
       "    </tr>\n",
       "    <tr>\n",
       "      <th>29</th>\n",
       "      <td>20140930</td>\n",
       "      <td>2.875595e+08</td>\n",
       "      <td>3.369596e+08</td>\n",
       "    </tr>\n",
       "  </tbody>\n",
       "</table>\n",
       "</div>"
      ],
      "text/plain": [
       "   report_date  total_purchase_amt  total_redeem_amt\n",
       "28    20140929        2.868163e+08      3.368237e+08\n",
       "29    20140930        2.875595e+08      3.369596e+08"
      ]
     },
     "execution_count": 40,
     "metadata": {},
     "output_type": "execute_result"
    }
   ],
   "source": [
    "day_pred.tail(2)"
   ]
  },
  {
   "cell_type": "markdown",
   "metadata": {},
   "source": [
    "# 8 保存预测结果"
   ]
  },
  {
   "cell_type": "code",
   "execution_count": 41,
   "metadata": {
    "ExecuteTime": {
     "end_time": "2020-12-06T10:49:57.275125Z",
     "start_time": "2020-12-06T10:49:57.266944Z"
    }
   },
   "outputs": [],
   "source": [
    "# 成绩130.6812\n",
    "day_pred.to_csv(\"tc_comp_predict_table.csv\", header=None, index=False)"
   ]
  },
  {
   "cell_type": "code",
   "execution_count": 42,
   "metadata": {
    "ExecuteTime": {
     "end_time": "2020-12-06T10:49:57.302453Z",
     "start_time": "2020-12-06T10:49:57.278831Z"
    }
   },
   "outputs": [
    {
     "data": {
      "text/html": [
       "<div>\n",
       "<style scoped>\n",
       "    .dataframe tbody tr th:only-of-type {\n",
       "        vertical-align: middle;\n",
       "    }\n",
       "\n",
       "    .dataframe tbody tr th {\n",
       "        vertical-align: top;\n",
       "    }\n",
       "\n",
       "    .dataframe thead th {\n",
       "        text-align: right;\n",
       "    }\n",
       "</style>\n",
       "<table border=\"1\" class=\"dataframe\">\n",
       "  <thead>\n",
       "    <tr style=\"text-align: right;\">\n",
       "      <th></th>\n",
       "      <th>total_purchase_amt</th>\n",
       "      <th>total_redeem_amt</th>\n",
       "    </tr>\n",
       "  </thead>\n",
       "  <tbody>\n",
       "    <tr>\n",
       "      <th>count</th>\n",
       "      <td>3.000000e+01</td>\n",
       "      <td>3.000000e+01</td>\n",
       "    </tr>\n",
       "    <tr>\n",
       "      <th>mean</th>\n",
       "      <td>2.792040e+08</td>\n",
       "      <td>2.761024e+08</td>\n",
       "    </tr>\n",
       "    <tr>\n",
       "      <th>std</th>\n",
       "      <td>6.226217e+07</td>\n",
       "      <td>5.375132e+07</td>\n",
       "    </tr>\n",
       "    <tr>\n",
       "      <th>min</th>\n",
       "      <td>1.806782e+08</td>\n",
       "      <td>1.701213e+08</td>\n",
       "    </tr>\n",
       "    <tr>\n",
       "      <th>25%</th>\n",
       "      <td>2.258697e+08</td>\n",
       "      <td>2.508582e+08</td>\n",
       "    </tr>\n",
       "    <tr>\n",
       "      <th>50%</th>\n",
       "      <td>2.860639e+08</td>\n",
       "      <td>2.875351e+08</td>\n",
       "    </tr>\n",
       "    <tr>\n",
       "      <th>75%</th>\n",
       "      <td>3.312222e+08</td>\n",
       "      <td>3.097426e+08</td>\n",
       "    </tr>\n",
       "    <tr>\n",
       "      <th>max</th>\n",
       "      <td>3.867549e+08</td>\n",
       "      <td>3.584768e+08</td>\n",
       "    </tr>\n",
       "  </tbody>\n",
       "</table>\n",
       "</div>"
      ],
      "text/plain": [
       "       total_purchase_amt  total_redeem_amt\n",
       "count        3.000000e+01      3.000000e+01\n",
       "mean         2.792040e+08      2.761024e+08\n",
       "std          6.226217e+07      5.375132e+07\n",
       "min          1.806782e+08      1.701213e+08\n",
       "25%          2.258697e+08      2.508582e+08\n",
       "50%          2.860639e+08      2.875351e+08\n",
       "75%          3.312222e+08      3.097426e+08\n",
       "max          3.867549e+08      3.584768e+08"
      ]
     },
     "execution_count": 42,
     "metadata": {},
     "output_type": "execute_result"
    }
   ],
   "source": [
    "day_pred.describe()"
   ]
  },
  {
   "cell_type": "markdown",
   "metadata": {},
   "source": [
    "# 9 可视化预测结果"
   ]
  },
  {
   "cell_type": "code",
   "execution_count": 43,
   "metadata": {
    "ExecuteTime": {
     "end_time": "2020-12-06T10:49:57.498962Z",
     "start_time": "2020-12-06T10:49:57.308252Z"
    }
   },
   "outputs": [
    {
     "data": {
      "text/plain": [
       "<matplotlib.axes._subplots.AxesSubplot at 0x7fe81372ac10>"
      ]
     },
     "execution_count": 43,
     "metadata": {},
     "output_type": "execute_result"
    },
    {
     "data": {
      "image/png": "[encoded data removed]",
      "text/plain": [
       "<Figure size 1152x288 with 1 Axes>"
      ]
     },
     "metadata": {
      "needs_background": "light"
     },
     "output_type": "display_data"
    }
   ],
   "source": [
    "day_pred.set_index('report_date').plot(\n",
    "    figsize=(16, 4),\n",
    "    title=\"predicting purchase and redemption curve in September\")"
   ]
  },
  {
   "cell_type": "code",
   "execution_count": 44,
   "metadata": {
    "ExecuteTime": {
     "end_time": "2020-12-06T10:49:57.509974Z",
     "start_time": "2020-12-06T10:49:57.501570Z"
    }
   },
   "outputs": [
    {
     "name": "stdout",
     "output_type": "stream",
     "text": [
      "   September 2014\n",
      "Mo Tu We Th Fr Sa Su\n",
      " 1  2  3  4  5  6  7\n",
      " 8  9 10 11 12 13 14\n",
      "15 16 17 18 19 20 21\n",
      "22 23 24 25 26 27 28\n",
      "29 30\n",
      "\n"
     ]
    }
   ],
   "source": [
    "print(calendar.month(2014, 9))"
   ]
  },
  {
   "cell_type": "markdown",
   "metadata": {},
   "source": [
    "周末的时候购买和赎回都处于低谷，且预测值抖动较大，符合1.3.2中可视化的特征。"
   ]
  },
  {
   "cell_type": "markdown",
   "metadata": {},
   "source": [
    "# 10 fbprophet、ARIMA、周期因子模型融合预测"
   ]
  },
  {
   "cell_type": "markdown",
   "metadata": {},
   "source": [
    "## 10.1 读取单模型预测结果"
   ]
  },
  {
   "cell_type": "code",
   "execution_count": 45,
   "metadata": {
    "ExecuteTime": {
     "end_time": "2020-12-06T10:49:57.532259Z",
     "start_time": "2020-12-06T10:49:57.515810Z"
    }
   },
   "outputs": [],
   "source": [
    "cols = ['report_date', 'total_purchase_amt', 'total_redeem_amt']\n",
    "\n",
    "\n",
    "pred_factor = pd.read_csv(\"tc_comp_predict_table_factor_130_6812.csv\", header=None, names=cols)\n",
    "pred_fb = pd.read_csv(\"tc_comp_predict_table_fb_115_6103.csv\", header=None, names=cols)\n",
    "pred_arima = pd.read_csv(\"tc_comp_predict_table_ARIMA_ 100_3210.csv\", header=None, names=cols)"
   ]
  },
  {
   "cell_type": "code",
   "execution_count": 46,
   "metadata": {
    "ExecuteTime": {
     "end_time": "2020-12-06T10:49:57.556683Z",
     "start_time": "2020-12-06T10:49:57.536612Z"
    }
   },
   "outputs": [
    {
     "data": {
      "text/plain": [
       "report_date           1.000000\n",
       "total_purchase_amt    0.804489\n",
       "total_redeem_amt      0.812129\n",
       "dtype: float64"
      ]
     },
     "execution_count": 46,
     "metadata": {},
     "output_type": "execute_result"
    }
   ],
   "source": [
    "pred_arima.corrwith(pred_factor)"
   ]
  },
  {
   "cell_type": "code",
   "execution_count": 47,
   "metadata": {
    "ExecuteTime": {
     "end_time": "2020-12-06T10:49:57.579235Z",
     "start_time": "2020-12-06T10:49:57.560284Z"
    }
   },
   "outputs": [
    {
     "data": {
      "text/plain": [
       "report_date           1.000000\n",
       "total_purchase_amt    0.770481\n",
       "total_redeem_amt      0.809215\n",
       "dtype: float64"
      ]
     },
     "execution_count": 47,
     "metadata": {},
     "output_type": "execute_result"
    }
   ],
   "source": [
    "pred_fb.corrwith(pred_factor)"
   ]
  },
  {
   "cell_type": "code",
   "execution_count": 48,
   "metadata": {
    "ExecuteTime": {
     "end_time": "2020-12-06T10:49:57.597025Z",
     "start_time": "2020-12-06T10:49:57.582602Z"
    },
    "scrolled": true
   },
   "outputs": [
    {
     "data": {
      "text/plain": [
       "report_date           1.000000\n",
       "total_purchase_amt    0.829355\n",
       "total_redeem_amt      0.835259\n",
       "dtype: float64"
      ]
     },
     "execution_count": 48,
     "metadata": {},
     "output_type": "execute_result"
    }
   ],
   "source": [
    "pred_fb.corrwith(pred_arima)"
   ]
  },
  {
   "cell_type": "markdown",
   "metadata": {},
   "source": [
    "## 10.2 根据单模型成绩估计融合权重"
   ]
  },
  {
   "cell_type": "code",
   "execution_count": 49,
   "metadata": {
    "ExecuteTime": {
     "end_time": "2020-12-06T10:49:57.605146Z",
     "start_time": "2020-12-06T10:49:57.599269Z"
    }
   },
   "outputs": [],
   "source": [
    "pred_integration = pred_factor.copy()\n",
    "pred_integration.iloc[:, 1:] = 0."
   ]
  },
  {
   "cell_type": "code",
   "execution_count": 50,
   "metadata": {
    "ExecuteTime": {
     "end_time": "2020-12-06T10:49:57.615637Z",
     "start_time": "2020-12-06T10:49:57.607468Z"
    }
   },
   "outputs": [],
   "source": [
    "\"\"\"# 成绩126.9092\n",
    "purchase_weights = [0.6, 0.28, 0.12]\n",
    "redeem_weights = [0.5, 0.4, 0.1]\n",
    "\"\"\"\n",
    "\n",
    "\"\"\"# 成绩：131.3555\n",
    "purchase_weights = [0.7, 0.2, 0.1]\n",
    "redeem_weights = [0.7, 0.2, 0.1]\"\"\"\n",
    "\n",
    "\"\"\"# 成绩：131.3537\n",
    "purchase_weights = [0.8, 0.1, 0.1]\n",
    "redeem_weights = [0.6, 0.3, 0.1]\"\"\"\n",
    "\n",
    "# 成绩：132.9677\n",
    "purchase_weights = [0.8, 0.1, 0.1]\n",
    "redeem_weights = [0.7, 0.2, 0.1]\n",
    "\n",
    "for c in cols[1:]:\n",
    "    if c == 'total_purchase_amt':\n",
    "        weights = purchase_weights\n",
    "    else:\n",
    "        weights = redeem_weights\n",
    "    pred_integration[c] = weights[0] * pred_factor[c] + weights[1] * pred_fb[c] + weights[2] * pred_arima[c]\n",
    "    "
   ]
  },
  {
   "cell_type": "code",
   "execution_count": 51,
   "metadata": {
    "ExecuteTime": {
     "end_time": "2020-12-06T10:49:57.777091Z",
     "start_time": "2020-12-06T10:49:57.617941Z"
    },
    "scrolled": true
   },
   "outputs": [
    {
     "data": {
      "text/plain": [
       "<matplotlib.axes._subplots.AxesSubplot at 0x7fe8133c45d0>"
      ]
     },
     "execution_count": 51,
     "metadata": {},
     "output_type": "execute_result"
    },
    {
     "data": {
      "image/png": "[encoded data removed]",
      "text/plain": [
       "<Figure size 1152x288 with 1 Axes>"
      ]
     },
     "metadata": {
      "needs_background": "light"
     },
     "output_type": "display_data"
    }
   ],
   "source": [
    "pred_integration.set_index('report_date').plot(figsize=(16, 4))"
   ]
  },
  {
   "cell_type": "code",
   "execution_count": 52,
   "metadata": {
    "ExecuteTime": {
     "end_time": "2020-12-06T10:49:57.786592Z",
     "start_time": "2020-12-06T10:49:57.780880Z"
    }
   },
   "outputs": [],
   "source": [
    "pred_integration.to_csv(\"pred_integration.csv\", header=None, index=False)"
   ]
  },
  {
   "cell_type": "markdown",
   "metadata": {},
   "source": [
    "- 当我使用Prophet进行预测时，发现：purchase和130.6812的预测值的相关性不变时，redeem和130.6812的预测值相关性从0.811289降到0.809215，而成绩反而提高了，因此判断Prophet预测的redeem误差变小了，因此融合时，给它的权重和purchase不同。\n",
    "- 遗憾的是，ARIMA模型的分数调参后并没有得到太大提高。"
   ]
  },
  {
   "cell_type": "code",
   "execution_count": null,
   "metadata": {},
   "outputs": [],
   "source": []
  }
 ],
 "metadata": {
  "kernelspec": {
   "display_name": "Python [conda env:envpy37]",
   "language": "python",
   "name": "conda-env-envpy37-py"
  },
  "language_info": {
   "codemirror_mode": {
    "name": "ipython",
    "version": 3
   },
   "file_extension": ".py",
   "mimetype": "text/x-python",
   "name": "python",
   "nbconvert_exporter": "python",
   "pygments_lexer": "ipython3",
   "version": "3.7.7"
  },
  "nbTranslate": {
   "displayLangs": [
    "*"
   ],
   "hotkey": "alt-t",
   "langInMainMenu": true,
   "sourceLang": "en",
   "targetLang": "fr",
   "useGoogleTranslate": true
  },
  "toc": {
   "base_numbering": 1,
   "nav_menu": {},
   "number_sections": false,
   "sideBar": true,
   "skip_h1_title": false,
   "title_cell": "Table of Contents",
   "title_sidebar": "Contents",
   "toc_cell": true,
   "toc_position": {
    "height": "calc(100% - 180px)",
    "left": "10px",
    "top": "150px",
    "width": "261.804px"
   },
   "toc_section_display": true,
   "toc_window_display": true
  },
  "varInspector": {
   "cols": {
    "lenName": 16,
    "lenType": 16,
    "lenVar": 40
   },
   "kernels_config": {
    "python": {
     "delete_cmd_postfix": "",
     "delete_cmd_prefix": "del ",
     "library": "var_list.py",
     "varRefreshCmd": "print(var_dic_list())"
    },
    "r": {
     "delete_cmd_postfix": ") ",
     "delete_cmd_prefix": "rm(",
     "library": "var_list.r",
     "varRefreshCmd": "cat(var_dic_list()) "
    }
   },
   "types_to_exclude": [
    "module",
    "function",
    "builtin_function_or_method",
    "instance",
    "_Feature"
   ],
   "window_display": false
  }
 },
 "nbformat": 4,
 "nbformat_minor": 4
}
