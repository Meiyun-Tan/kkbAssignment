{
 "cells": [
  {
   "cell_type": "markdown",
   "metadata": {},
   "source": [
    "基于评分卡的风控模型开发    \n",
    "数据集GiveMeSomeCredit，15万样本数据    \n",
    "https://www.kaggle.com/c/GiveMeSomeCredit/data     \n",
    "使用WOE进行特征变换，IV进行特征筛选，LR构建风控模型，并对模型评分规则进行可解释性说明     \n",
    "– 基本属性：包括了借款人当时的年龄    \n",
    "– 偿债能力：包括了借款人的月收入、负债比率    \n",
    "– 信用往来：两年内35-59天逾期次数、两年内60-89天逾期次数、两年内90天或高于90天逾期的次数    \n",
    "– 财产状况：包括了开放式信贷和贷款数量、不动产贷款或额度数量。    \n",
    "– 其他因素：包括了借款人的家属数量    "
   ]
  },
  {
   "cell_type": "markdown",
   "metadata": {
    "toc": true
   },
   "source": [
    "<h1>Table of Contents<span class=\"tocSkip\"></span></h1>\n",
    "<div class=\"toc\"><ul class=\"toc-item\"><li><span><a href=\"#1-加载数据\" data-toc-modified-id=\"1-加载数据-1\">1 加载数据</a></span></li><li><span><a href=\"#2-EDA\" data-toc-modified-id=\"2-EDA-2\">2 EDA</a></span><ul class=\"toc-item\"><li><span><a href=\"#2.1-可视化缺失值\" data-toc-modified-id=\"2.1-可视化缺失值-2.1\">2.1 可视化缺失值</a></span></li><li><span><a href=\"#2.2-探索目标值分布\" data-toc-modified-id=\"2.2-探索目标值分布-2.2\">2.2 探索目标值分布</a></span></li><li><span><a href=\"#2.3-RevolvingUtilizationOfUnsecuredLines\" data-toc-modified-id=\"2.3-RevolvingUtilizationOfUnsecuredLines-2.3\">2.3 RevolvingUtilizationOfUnsecuredLines</a></span><ul class=\"toc-item\"><li><span><a href=\"#2.3.1-RevolvingUtilizationOfUnsecuredLines-样本数分布统计\" data-toc-modified-id=\"2.3.1-RevolvingUtilizationOfUnsecuredLines-样本数分布统计-2.3.1\">2.3.1 RevolvingUtilizationOfUnsecuredLines 样本数分布统计</a></span></li><li><span><a href=\"#2.3.2-RevolvingUtilizationOfUnsecuredLines中违约情况\" data-toc-modified-id=\"2.3.2-RevolvingUtilizationOfUnsecuredLines中违约情况-2.3.2\">2.3.2 RevolvingUtilizationOfUnsecuredLines中违约情况</a></span></li></ul></li><li><span><a href=\"#2.4-age\" data-toc-modified-id=\"2.4-age-2.4\">2.4 age</a></span><ul class=\"toc-item\"><li><span><a href=\"#2.4.1-不同年龄的样本数\" data-toc-modified-id=\"2.4.1-不同年龄的样本数-2.4.1\">2.4.1 不同年龄的样本数</a></span></li><li><span><a href=\"#2.4.2-不同年龄下违约情况\" data-toc-modified-id=\"2.4.2-不同年龄下违约情况-2.4.2\">2.4.2 不同年龄下违约情况</a></span></li></ul></li><li><span><a href=\"#2.5-NumberOfTime30-59DaysPastDueNotWorse\" data-toc-modified-id=\"2.5-NumberOfTime30-59DaysPastDueNotWorse-2.5\">2.5 NumberOfTime30-59DaysPastDueNotWorse</a></span><ul class=\"toc-item\"><li><span><a href=\"#2.5.1-30-59天不同逾期次数的样本数\" data-toc-modified-id=\"2.5.1-30-59天不同逾期次数的样本数-2.5.1\">2.5.1 30-59天不同逾期次数的样本数</a></span></li><li><span><a href=\"#2.5.2-30-59天不同逾期次数中违约与未违约样本数统计\" data-toc-modified-id=\"2.5.2-30-59天不同逾期次数中违约与未违约样本数统计-2.5.2\">2.5.2 30-59天不同逾期次数中违约与未违约样本数统计</a></span></li></ul></li><li><span><a href=\"#2.6-DebtRatio\" data-toc-modified-id=\"2.6-DebtRatio-2.6\">2.6 DebtRatio</a></span><ul class=\"toc-item\"><li><span><a href=\"#2.6.1-债务比的分布\" data-toc-modified-id=\"2.6.1-债务比的分布-2.6.1\">2.6.1 债务比的分布</a></span></li><li><span><a href=\"#2.6.2-违约与不违约下的债务比的分布\" data-toc-modified-id=\"2.6.2-违约与不违约下的债务比的分布-2.6.2\">2.6.2 违约与不违约下的债务比的分布</a></span></li></ul></li><li><span><a href=\"#2.7-MonthlyIncome-每月收入\" data-toc-modified-id=\"2.7-MonthlyIncome-每月收入-2.7\">2.7 MonthlyIncome 每月收入</a></span><ul class=\"toc-item\"><li><span><a href=\"#2.7.1--每月收入的分布\" data-toc-modified-id=\"2.7.1--每月收入的分布-2.7.1\">2.7.1  每月收入的分布</a></span></li><li><span><a href=\"#2.7.2-违约与未违约用户的每月收入分布\" data-toc-modified-id=\"2.7.2-违约与未违约用户的每月收入分布-2.7.2\">2.7.2 违约与未违约用户的每月收入分布</a></span></li></ul></li><li><span><a href=\"#2.8-违约与未违约样本的公开贷款和信用额度的数量分布\" data-toc-modified-id=\"2.8-违约与未违约样本的公开贷款和信用额度的数量分布-2.8\">2.8 违约与未违约样本的公开贷款和信用额度的数量分布</a></span></li><li><span><a href=\"#2.9-违约与未违约样本的NumberOfTimes90DaysLate统计\" data-toc-modified-id=\"2.9-违约与未违约样本的NumberOfTimes90DaysLate统计-2.9\">2.9 违约与未违约样本的NumberOfTimes90DaysLate统计</a></span></li><li><span><a href=\"#2.10-违约与未违约样本的-NumberRealEstateLoansOrLines\" data-toc-modified-id=\"2.10-违约与未违约样本的-NumberRealEstateLoansOrLines-2.10\">2.10 违约与未违约样本的 NumberRealEstateLoansOrLines</a></span></li><li><span><a href=\"#2.11-违约与未违约样本的NumberOfTime60-89DaysPastDueNotWorse分布\" data-toc-modified-id=\"2.11-违约与未违约样本的NumberOfTime60-89DaysPastDueNotWorse分布-2.11\">2.11 违约与未违约样本的NumberOfTime60-89DaysPastDueNotWorse分布</a></span></li><li><span><a href=\"#2.12-违约与未违约样本的NumberOfDependents-的分布\" data-toc-modified-id=\"2.12-违约与未违约样本的NumberOfDependents-的分布-2.12\">2.12 违约与未违约样本的NumberOfDependents 的分布</a></span></li></ul></li><li><span><a href=\"#3-数据分箱\" data-toc-modified-id=\"3-数据分箱-3\">3 数据分箱</a></span><ul class=\"toc-item\"><li><span><a href=\"#3.1-对RevolvingUtilizationOfUnsecuredLines分5箱\" data-toc-modified-id=\"3.1-对RevolvingUtilizationOfUnsecuredLines分5箱-3.1\">3.1 对RevolvingUtilizationOfUnsecuredLines分5箱</a></span></li><li><span><a href=\"#3.2-age分6箱\" data-toc-modified-id=\"3.2-age分6箱-3.2\">3.2 age分6箱</a></span></li><li><span><a href=\"#3.3-NumberOfTime30-59DaysPastDueNotWorse分10桶\" data-toc-modified-id=\"3.3-NumberOfTime30-59DaysPastDueNotWorse分10桶-3.3\">3.3 NumberOfTime30-59DaysPastDueNotWorse分10桶</a></span></li><li><span><a href=\"#3.4-DebtRatio分5桶\" data-toc-modified-id=\"3.4-DebtRatio分5桶-3.4\">3.4 DebtRatio分5桶</a></span></li><li><span><a href=\"#3.5-MonthlyIncome-分5桶\" data-toc-modified-id=\"3.5-MonthlyIncome-分5桶-3.5\">3.5 MonthlyIncome 分5桶</a></span></li><li><span><a href=\"#3.6-NumberOfOpenCreditLinesAndLoans分5桶\" data-toc-modified-id=\"3.6-NumberOfOpenCreditLinesAndLoans分5桶-3.6\">3.6 NumberOfOpenCreditLinesAndLoans分5桶</a></span></li><li><span><a href=\"#3.7-NumberOfTimes90DaysLate分10桶\" data-toc-modified-id=\"3.7-NumberOfTimes90DaysLate分10桶-3.7\">3.7 NumberOfTimes90DaysLate分10桶</a></span></li><li><span><a href=\"#3.8-NumberRealEstateLoansOrLines分5段\" data-toc-modified-id=\"3.8-NumberRealEstateLoansOrLines分5段-3.8\">3.8 NumberRealEstateLoansOrLines分5段</a></span></li><li><span><a href=\"#3.9-NumberOfTime60-89DaysPastDueNotWorse分10段\" data-toc-modified-id=\"3.9-NumberOfTime60-89DaysPastDueNotWorse分10段-3.9\">3.9 NumberOfTime60-89DaysPastDueNotWorse分10段</a></span></li><li><span><a href=\"#3.10-NumberOfDependents分6桶\" data-toc-modified-id=\"3.10-NumberOfDependents分6桶-3.10\">3.10 NumberOfDependents分6桶</a></span></li></ul></li><li><span><a href=\"#4-计算WOE和IV\" data-toc-modified-id=\"4-计算WOE和IV-4\">4 计算WOE和IV</a></span></li><li><span><a href=\"#5-根据IV->-0.1-选择特征\" data-toc-modified-id=\"5-根据IV->-0.1-选择特征-5\">5 根据IV &gt; 0.1 选择特征</a></span></li><li><span><a href=\"#6-获得所筛选特征的WOE的规则\" data-toc-modified-id=\"6-获得所筛选特征的WOE的规则-6\">6 获得所筛选特征的WOE的规则</a></span></li><li><span><a href=\"#7-逻辑回归建模\" data-toc-modified-id=\"7-逻辑回归建模-7\">7 逻辑回归建模</a></span><ul class=\"toc-item\"><li><span><a href=\"#7.1-无量纲化\" data-toc-modified-id=\"7.1-无量纲化-7.1\">7.1 无量纲化</a></span></li><li><span><a href=\"#7.2-拆分数据集\" data-toc-modified-id=\"7.2-拆分数据集-7.2\">7.2 拆分数据集</a></span></li><li><span><a href=\"#7.3-训练及评估\" data-toc-modified-id=\"7.3-训练及评估-7.3\">7.3 训练及评估</a></span></li><li><span><a href=\"#7.4-可视化混淆矩阵\" data-toc-modified-id=\"7.4-可视化混淆矩阵-7.4\">7.4 可视化混淆矩阵</a></span></li></ul></li><li><span><a href=\"#8-总结：\" data-toc-modified-id=\"8-总结：-8\">8 总结：</a></span></li></ul></div>"
   ]
  },
  {
   "cell_type": "code",
   "execution_count": 1,
   "metadata": {
    "ExecuteTime": {
     "end_time": "2020-12-13T08:51:22.290802Z",
     "start_time": "2020-12-13T08:51:20.885794Z"
    }
   },
   "outputs": [],
   "source": [
    "import math\n",
    "\n",
    "import numpy as np\n",
    "import pandas as pd\n",
    "\n",
    "import missingno as msno\n",
    "\n",
    "import seaborn as sns\n",
    "from matplotlib import pyplot as plt\n",
    "\n",
    "from sklearn.preprocessing import StandardScaler\n",
    "\n",
    "from sklearn.model_selection import train_test_split\n",
    "\n",
    "from sklearn.linear_model import LogisticRegression\n",
    "\n",
    "from sklearn.metrics import accuracy_score, roc_auc_score, confusion_matrix, plot_confusion_matrix\n",
    "\n",
    "\n",
    "sns.set_style(\"darkgrid\")\n",
    "sns.set_context(\"notebook\")"
   ]
  },
  {
   "cell_type": "markdown",
   "metadata": {},
   "source": [
    "# 1 加载数据"
   ]
  },
  {
   "cell_type": "code",
   "execution_count": 2,
   "metadata": {
    "ExecuteTime": {
     "end_time": "2020-12-13T08:51:22.433629Z",
     "start_time": "2020-12-13T08:51:22.293190Z"
    }
   },
   "outputs": [
    {
     "data": {
      "text/html": [
       "<div>\n",
       "<style scoped>\n",
       "    .dataframe tbody tr th:only-of-type {\n",
       "        vertical-align: middle;\n",
       "    }\n",
       "\n",
       "    .dataframe tbody tr th {\n",
       "        vertical-align: top;\n",
       "    }\n",
       "\n",
       "    .dataframe thead th {\n",
       "        text-align: right;\n",
       "    }\n",
       "</style>\n",
       "<table border=\"1\" class=\"dataframe\">\n",
       "  <thead>\n",
       "    <tr style=\"text-align: right;\">\n",
       "      <th></th>\n",
       "      <th>Unnamed: 0</th>\n",
       "      <th>SeriousDlqin2yrs</th>\n",
       "      <th>RevolvingUtilizationOfUnsecuredLines</th>\n",
       "      <th>age</th>\n",
       "      <th>NumberOfTime30-59DaysPastDueNotWorse</th>\n",
       "      <th>DebtRatio</th>\n",
       "      <th>MonthlyIncome</th>\n",
       "      <th>NumberOfOpenCreditLinesAndLoans</th>\n",
       "      <th>NumberOfTimes90DaysLate</th>\n",
       "      <th>NumberRealEstateLoansOrLines</th>\n",
       "      <th>NumberOfTime60-89DaysPastDueNotWorse</th>\n",
       "      <th>NumberOfDependents</th>\n",
       "    </tr>\n",
       "  </thead>\n",
       "  <tbody>\n",
       "    <tr>\n",
       "      <th>0</th>\n",
       "      <td>1</td>\n",
       "      <td>1</td>\n",
       "      <td>0.766127</td>\n",
       "      <td>45</td>\n",
       "      <td>2</td>\n",
       "      <td>0.802982</td>\n",
       "      <td>9120.0</td>\n",
       "      <td>13</td>\n",
       "      <td>0</td>\n",
       "      <td>6</td>\n",
       "      <td>0</td>\n",
       "      <td>2.0</td>\n",
       "    </tr>\n",
       "    <tr>\n",
       "      <th>1</th>\n",
       "      <td>2</td>\n",
       "      <td>0</td>\n",
       "      <td>0.957151</td>\n",
       "      <td>40</td>\n",
       "      <td>0</td>\n",
       "      <td>0.121876</td>\n",
       "      <td>2600.0</td>\n",
       "      <td>4</td>\n",
       "      <td>0</td>\n",
       "      <td>0</td>\n",
       "      <td>0</td>\n",
       "      <td>1.0</td>\n",
       "    </tr>\n",
       "  </tbody>\n",
       "</table>\n",
       "</div>"
      ],
      "text/plain": [
       "   Unnamed: 0  SeriousDlqin2yrs  RevolvingUtilizationOfUnsecuredLines  age  \\\n",
       "0           1                 1                              0.766127   45   \n",
       "1           2                 0                              0.957151   40   \n",
       "\n",
       "   NumberOfTime30-59DaysPastDueNotWorse  DebtRatio  MonthlyIncome  \\\n",
       "0                                     2   0.802982         9120.0   \n",
       "1                                     0   0.121876         2600.0   \n",
       "\n",
       "   NumberOfOpenCreditLinesAndLoans  NumberOfTimes90DaysLate  \\\n",
       "0                               13                        0   \n",
       "1                                4                        0   \n",
       "\n",
       "   NumberRealEstateLoansOrLines  NumberOfTime60-89DaysPastDueNotWorse  \\\n",
       "0                             6                                     0   \n",
       "1                             0                                     0   \n",
       "\n",
       "   NumberOfDependents  \n",
       "0                 2.0  \n",
       "1                 1.0  "
      ]
     },
     "execution_count": 2,
     "metadata": {},
     "output_type": "execute_result"
    }
   ],
   "source": [
    "df = pd.read_csv(\"cs-training.csv\")\n",
    "df.head(2)"
   ]
  },
  {
   "cell_type": "code",
   "execution_count": 3,
   "metadata": {
    "ExecuteTime": {
     "end_time": "2020-12-13T08:51:22.448571Z",
     "start_time": "2020-12-13T08:51:22.437594Z"
    }
   },
   "outputs": [],
   "source": [
    "df = df.iloc[:, 1:]"
   ]
  },
  {
   "cell_type": "code",
   "execution_count": 4,
   "metadata": {
    "ExecuteTime": {
     "end_time": "2020-12-13T08:51:22.542654Z",
     "start_time": "2020-12-13T08:51:22.453572Z"
    }
   },
   "outputs": [
    {
     "data": {
      "text/html": [
       "<div>\n",
       "<style scoped>\n",
       "    .dataframe tbody tr th:only-of-type {\n",
       "        vertical-align: middle;\n",
       "    }\n",
       "\n",
       "    .dataframe tbody tr th {\n",
       "        vertical-align: top;\n",
       "    }\n",
       "\n",
       "    .dataframe thead th {\n",
       "        text-align: right;\n",
       "    }\n",
       "</style>\n",
       "<table border=\"1\" class=\"dataframe\">\n",
       "  <thead>\n",
       "    <tr style=\"text-align: right;\">\n",
       "      <th></th>\n",
       "      <th>SeriousDlqin2yrs</th>\n",
       "      <th>RevolvingUtilizationOfUnsecuredLines</th>\n",
       "      <th>age</th>\n",
       "      <th>NumberOfTime30-59DaysPastDueNotWorse</th>\n",
       "      <th>DebtRatio</th>\n",
       "      <th>MonthlyIncome</th>\n",
       "      <th>NumberOfOpenCreditLinesAndLoans</th>\n",
       "      <th>NumberOfTimes90DaysLate</th>\n",
       "      <th>NumberRealEstateLoansOrLines</th>\n",
       "      <th>NumberOfTime60-89DaysPastDueNotWorse</th>\n",
       "      <th>NumberOfDependents</th>\n",
       "    </tr>\n",
       "  </thead>\n",
       "  <tbody>\n",
       "    <tr>\n",
       "      <th>count</th>\n",
       "      <td>150000.000000</td>\n",
       "      <td>150000.000000</td>\n",
       "      <td>150000.000000</td>\n",
       "      <td>150000.000000</td>\n",
       "      <td>150000.000000</td>\n",
       "      <td>1.202690e+05</td>\n",
       "      <td>150000.000000</td>\n",
       "      <td>150000.000000</td>\n",
       "      <td>150000.000000</td>\n",
       "      <td>150000.000000</td>\n",
       "      <td>146076.000000</td>\n",
       "    </tr>\n",
       "    <tr>\n",
       "      <th>mean</th>\n",
       "      <td>0.066840</td>\n",
       "      <td>6.048438</td>\n",
       "      <td>52.295207</td>\n",
       "      <td>0.421033</td>\n",
       "      <td>353.005076</td>\n",
       "      <td>6.670221e+03</td>\n",
       "      <td>8.452760</td>\n",
       "      <td>0.265973</td>\n",
       "      <td>1.018240</td>\n",
       "      <td>0.240387</td>\n",
       "      <td>0.757222</td>\n",
       "    </tr>\n",
       "    <tr>\n",
       "      <th>std</th>\n",
       "      <td>0.249746</td>\n",
       "      <td>249.755371</td>\n",
       "      <td>14.771866</td>\n",
       "      <td>4.192781</td>\n",
       "      <td>2037.818523</td>\n",
       "      <td>1.438467e+04</td>\n",
       "      <td>5.145951</td>\n",
       "      <td>4.169304</td>\n",
       "      <td>1.129771</td>\n",
       "      <td>4.155179</td>\n",
       "      <td>1.115086</td>\n",
       "    </tr>\n",
       "    <tr>\n",
       "      <th>min</th>\n",
       "      <td>0.000000</td>\n",
       "      <td>0.000000</td>\n",
       "      <td>0.000000</td>\n",
       "      <td>0.000000</td>\n",
       "      <td>0.000000</td>\n",
       "      <td>0.000000e+00</td>\n",
       "      <td>0.000000</td>\n",
       "      <td>0.000000</td>\n",
       "      <td>0.000000</td>\n",
       "      <td>0.000000</td>\n",
       "      <td>0.000000</td>\n",
       "    </tr>\n",
       "    <tr>\n",
       "      <th>25%</th>\n",
       "      <td>0.000000</td>\n",
       "      <td>0.029867</td>\n",
       "      <td>41.000000</td>\n",
       "      <td>0.000000</td>\n",
       "      <td>0.175074</td>\n",
       "      <td>3.400000e+03</td>\n",
       "      <td>5.000000</td>\n",
       "      <td>0.000000</td>\n",
       "      <td>0.000000</td>\n",
       "      <td>0.000000</td>\n",
       "      <td>0.000000</td>\n",
       "    </tr>\n",
       "    <tr>\n",
       "      <th>50%</th>\n",
       "      <td>0.000000</td>\n",
       "      <td>0.154181</td>\n",
       "      <td>52.000000</td>\n",
       "      <td>0.000000</td>\n",
       "      <td>0.366508</td>\n",
       "      <td>5.400000e+03</td>\n",
       "      <td>8.000000</td>\n",
       "      <td>0.000000</td>\n",
       "      <td>1.000000</td>\n",
       "      <td>0.000000</td>\n",
       "      <td>0.000000</td>\n",
       "    </tr>\n",
       "    <tr>\n",
       "      <th>75%</th>\n",
       "      <td>0.000000</td>\n",
       "      <td>0.559046</td>\n",
       "      <td>63.000000</td>\n",
       "      <td>0.000000</td>\n",
       "      <td>0.868254</td>\n",
       "      <td>8.249000e+03</td>\n",
       "      <td>11.000000</td>\n",
       "      <td>0.000000</td>\n",
       "      <td>2.000000</td>\n",
       "      <td>0.000000</td>\n",
       "      <td>1.000000</td>\n",
       "    </tr>\n",
       "    <tr>\n",
       "      <th>max</th>\n",
       "      <td>1.000000</td>\n",
       "      <td>50708.000000</td>\n",
       "      <td>109.000000</td>\n",
       "      <td>98.000000</td>\n",
       "      <td>329664.000000</td>\n",
       "      <td>3.008750e+06</td>\n",
       "      <td>58.000000</td>\n",
       "      <td>98.000000</td>\n",
       "      <td>54.000000</td>\n",
       "      <td>98.000000</td>\n",
       "      <td>20.000000</td>\n",
       "    </tr>\n",
       "  </tbody>\n",
       "</table>\n",
       "</div>"
      ],
      "text/plain": [
       "       SeriousDlqin2yrs  RevolvingUtilizationOfUnsecuredLines            age  \\\n",
       "count     150000.000000                         150000.000000  150000.000000   \n",
       "mean           0.066840                              6.048438      52.295207   \n",
       "std            0.249746                            249.755371      14.771866   \n",
       "min            0.000000                              0.000000       0.000000   \n",
       "25%            0.000000                              0.029867      41.000000   \n",
       "50%            0.000000                              0.154181      52.000000   \n",
       "75%            0.000000                              0.559046      63.000000   \n",
       "max            1.000000                          50708.000000     109.000000   \n",
       "\n",
       "       NumberOfTime30-59DaysPastDueNotWorse      DebtRatio  MonthlyIncome  \\\n",
       "count                         150000.000000  150000.000000   1.202690e+05   \n",
       "mean                               0.421033     353.005076   6.670221e+03   \n",
       "std                                4.192781    2037.818523   1.438467e+04   \n",
       "min                                0.000000       0.000000   0.000000e+00   \n",
       "25%                                0.000000       0.175074   3.400000e+03   \n",
       "50%                                0.000000       0.366508   5.400000e+03   \n",
       "75%                                0.000000       0.868254   8.249000e+03   \n",
       "max                               98.000000  329664.000000   3.008750e+06   \n",
       "\n",
       "       NumberOfOpenCreditLinesAndLoans  NumberOfTimes90DaysLate  \\\n",
       "count                    150000.000000            150000.000000   \n",
       "mean                          8.452760                 0.265973   \n",
       "std                           5.145951                 4.169304   \n",
       "min                           0.000000                 0.000000   \n",
       "25%                           5.000000                 0.000000   \n",
       "50%                           8.000000                 0.000000   \n",
       "75%                          11.000000                 0.000000   \n",
       "max                          58.000000                98.000000   \n",
       "\n",
       "       NumberRealEstateLoansOrLines  NumberOfTime60-89DaysPastDueNotWorse  \\\n",
       "count                 150000.000000                         150000.000000   \n",
       "mean                       1.018240                              0.240387   \n",
       "std                        1.129771                              4.155179   \n",
       "min                        0.000000                              0.000000   \n",
       "25%                        0.000000                              0.000000   \n",
       "50%                        1.000000                              0.000000   \n",
       "75%                        2.000000                              0.000000   \n",
       "max                       54.000000                             98.000000   \n",
       "\n",
       "       NumberOfDependents  \n",
       "count       146076.000000  \n",
       "mean             0.757222  \n",
       "std              1.115086  \n",
       "min              0.000000  \n",
       "25%              0.000000  \n",
       "50%              0.000000  \n",
       "75%              1.000000  \n",
       "max             20.000000  "
      ]
     },
     "execution_count": 4,
     "metadata": {},
     "output_type": "execute_result"
    }
   ],
   "source": [
    "df.describe()"
   ]
  },
  {
   "cell_type": "code",
   "execution_count": 5,
   "metadata": {
    "ExecuteTime": {
     "end_time": "2020-12-13T08:51:22.552526Z",
     "start_time": "2020-12-13T08:51:22.545506Z"
    }
   },
   "outputs": [
    {
     "data": {
      "text/plain": [
       "SeriousDlqin2yrs                          int64\n",
       "RevolvingUtilizationOfUnsecuredLines    float64\n",
       "age                                       int64\n",
       "NumberOfTime30-59DaysPastDueNotWorse      int64\n",
       "DebtRatio                               float64\n",
       "MonthlyIncome                           float64\n",
       "NumberOfOpenCreditLinesAndLoans           int64\n",
       "NumberOfTimes90DaysLate                   int64\n",
       "NumberRealEstateLoansOrLines              int64\n",
       "NumberOfTime60-89DaysPastDueNotWorse      int64\n",
       "NumberOfDependents                      float64\n",
       "dtype: object"
      ]
     },
     "execution_count": 5,
     "metadata": {},
     "output_type": "execute_result"
    }
   ],
   "source": [
    "df.dtypes"
   ]
  },
  {
   "cell_type": "markdown",
   "metadata": {},
   "source": [
    "可见没有数据集无字符特征，不需要标签数值化了。"
   ]
  },
  {
   "cell_type": "markdown",
   "metadata": {},
   "source": [
    "# 2 EDA"
   ]
  },
  {
   "cell_type": "markdown",
   "metadata": {},
   "source": [
    "## 2.1 可视化缺失值"
   ]
  },
  {
   "cell_type": "code",
   "execution_count": 6,
   "metadata": {
    "ExecuteTime": {
     "end_time": "2020-12-13T08:51:23.208854Z",
     "start_time": "2020-12-13T08:51:22.554978Z"
    },
    "scrolled": false
   },
   "outputs": [
    {
     "data": {
      "text/plain": [
       "<matplotlib.axes._subplots.AxesSubplot at 0x7fbdaca3aa50>"
      ]
     },
     "execution_count": 6,
     "metadata": {},
     "output_type": "execute_result"
    },
    {
     "data": {
      "image/png": "[encoded data removed]",
      "text/plain": [
       "<Figure size 1440x360 with 3 Axes>"
      ]
     },
     "metadata": {},
     "output_type": "display_data"
    }
   ],
   "source": [
    "msno.bar(df, figsize=(20, 5), sort='ascending')"
   ]
  },
  {
   "cell_type": "markdown",
   "metadata": {},
   "source": [
    "两个字段有缺失值：MonthlyIncome特征缺失值占比达到了20%，NumberOfDependents特征也存在缺失值。"
   ]
  },
  {
   "cell_type": "markdown",
   "metadata": {},
   "source": [
    "## 2.2 探索目标值分布\n",
    "SeriousDlqin2yrs：是否90天以上逾期或更差"
   ]
  },
  {
   "cell_type": "code",
   "execution_count": 7,
   "metadata": {
    "ExecuteTime": {
     "end_time": "2020-12-13T08:51:23.364254Z",
     "start_time": "2020-12-13T08:51:23.211957Z"
    }
   },
   "outputs": [
    {
     "data": {
      "image/png": "[encoded data removed]",
      "text/plain": [
       "<Figure size 432x288 with 1 Axes>"
      ]
     },
     "metadata": {},
     "output_type": "display_data"
    }
   ],
   "source": [
    "ax = sns.countplot(data=df, x='SeriousDlqin2yrs')"
   ]
  },
  {
   "cell_type": "code",
   "execution_count": 8,
   "metadata": {
    "ExecuteTime": {
     "end_time": "2020-12-13T08:51:23.377455Z",
     "start_time": "2020-12-13T08:51:23.370116Z"
    }
   },
   "outputs": [
    {
     "data": {
      "text/plain": [
       "{0: 139974, 1: 10026}"
      ]
     },
     "execution_count": 8,
     "metadata": {},
     "output_type": "execute_result"
    }
   ],
   "source": [
    "# 统计整个样本中未违约的客户数和违约客户数，并转为字典\n",
    "NT_dict = df['SeriousDlqin2yrs'].value_counts().to_dict()\n",
    "NT_dict"
   ]
  },
  {
   "cell_type": "code",
   "execution_count": 9,
   "metadata": {
    "ExecuteTime": {
     "end_time": "2020-12-13T08:51:23.387127Z",
     "start_time": "2020-12-13T08:51:23.380787Z"
    }
   },
   "outputs": [
    {
     "data": {
      "text/plain": [
       "0.06684"
      ]
     },
     "execution_count": 9,
     "metadata": {},
     "output_type": "execute_result"
    }
   ],
   "source": [
    "# 整个样本中违约客户占比\n",
    "NT_dict[1] / sum(NT_dict.values())"
   ]
  },
  {
   "cell_type": "markdown",
   "metadata": {},
   "source": [
    "说明样本极其不均衡。"
   ]
  },
  {
   "cell_type": "markdown",
   "metadata": {},
   "source": [
    "## 2.3 RevolvingUtilizationOfUnsecuredLines\n",
    "除房地产和汽车贷款等无分期付款债务外，信用卡和个人信用额度的总余额除以信贷限额\n"
   ]
  },
  {
   "cell_type": "markdown",
   "metadata": {},
   "source": [
    "### 2.3.1 RevolvingUtilizationOfUnsecuredLines 样本数分布统计"
   ]
  },
  {
   "cell_type": "code",
   "execution_count": 10,
   "metadata": {
    "ExecuteTime": {
     "end_time": "2020-12-13T08:51:24.153629Z",
     "start_time": "2020-12-13T08:51:23.389597Z"
    }
   },
   "outputs": [
    {
     "data": {
      "image/png": "[encoded data removed]",
      "text/plain": [
       "<Figure size 432x288 with 1 Axes>"
      ]
     },
     "metadata": {},
     "output_type": "display_data"
    }
   ],
   "source": [
    "ax = df[['RevolvingUtilizationOfUnsecuredLines']].plot(kind='hist')\n",
    "ax.set_yscale(\"log\")"
   ]
  },
  {
   "cell_type": "code",
   "execution_count": 11,
   "metadata": {
    "ExecuteTime": {
     "end_time": "2020-12-13T08:51:24.170093Z",
     "start_time": "2020-12-13T08:51:24.156462Z"
    }
   },
   "outputs": [
    {
     "data": {
      "text/plain": [
       "count    150000.000000\n",
       "mean          6.048438\n",
       "std         249.755371\n",
       "min           0.000000\n",
       "25%           0.029867\n",
       "50%           0.154181\n",
       "75%           0.559046\n",
       "max       50708.000000\n",
       "Name: RevolvingUtilizationOfUnsecuredLines, dtype: float64"
      ]
     },
     "execution_count": 11,
     "metadata": {},
     "output_type": "execute_result"
    }
   ],
   "source": [
    "df['RevolvingUtilizationOfUnsecuredLines'].describe()"
   ]
  },
  {
   "cell_type": "markdown",
   "metadata": {},
   "source": [
    "可见10W以上数据分布在0-1以内。但最大值是50708，说明数据存在极大值"
   ]
  },
  {
   "cell_type": "markdown",
   "metadata": {},
   "source": [
    "### 2.3.2 RevolvingUtilizationOfUnsecuredLines中违约情况"
   ]
  },
  {
   "cell_type": "code",
   "execution_count": 12,
   "metadata": {
    "ExecuteTime": {
     "end_time": "2020-12-13T08:51:24.203693Z",
     "start_time": "2020-12-13T08:51:24.173373Z"
    }
   },
   "outputs": [
    {
     "data": {
      "text/html": [
       "<div>\n",
       "<style scoped>\n",
       "    .dataframe tbody tr th:only-of-type {\n",
       "        vertical-align: middle;\n",
       "    }\n",
       "\n",
       "    .dataframe tbody tr th {\n",
       "        vertical-align: top;\n",
       "    }\n",
       "\n",
       "    .dataframe thead th {\n",
       "        text-align: right;\n",
       "    }\n",
       "</style>\n",
       "<table border=\"1\" class=\"dataframe\">\n",
       "  <thead>\n",
       "    <tr style=\"text-align: right;\">\n",
       "      <th></th>\n",
       "      <th>count</th>\n",
       "      <th>mean</th>\n",
       "      <th>std</th>\n",
       "      <th>min</th>\n",
       "      <th>25%</th>\n",
       "      <th>50%</th>\n",
       "      <th>75%</th>\n",
       "      <th>max</th>\n",
       "    </tr>\n",
       "    <tr>\n",
       "      <th>SeriousDlqin2yrs</th>\n",
       "      <th></th>\n",
       "      <th></th>\n",
       "      <th></th>\n",
       "      <th></th>\n",
       "      <th></th>\n",
       "      <th></th>\n",
       "      <th></th>\n",
       "      <th></th>\n",
       "    </tr>\n",
       "  </thead>\n",
       "  <tbody>\n",
       "    <tr>\n",
       "      <th>0</th>\n",
       "      <td>139974.0</td>\n",
       "      <td>6.168855</td>\n",
       "      <td>256.126350</td>\n",
       "      <td>0.0</td>\n",
       "      <td>0.026983</td>\n",
       "      <td>0.133288</td>\n",
       "      <td>0.487686</td>\n",
       "      <td>50708.0</td>\n",
       "    </tr>\n",
       "    <tr>\n",
       "      <th>1</th>\n",
       "      <td>10026.0</td>\n",
       "      <td>4.367282</td>\n",
       "      <td>131.835778</td>\n",
       "      <td>0.0</td>\n",
       "      <td>0.398219</td>\n",
       "      <td>0.838853</td>\n",
       "      <td>1.000000</td>\n",
       "      <td>8328.0</td>\n",
       "    </tr>\n",
       "  </tbody>\n",
       "</table>\n",
       "</div>"
      ],
      "text/plain": [
       "                     count      mean         std  min       25%       50%  \\\n",
       "SeriousDlqin2yrs                                                            \n",
       "0                 139974.0  6.168855  256.126350  0.0  0.026983  0.133288   \n",
       "1                  10026.0  4.367282  131.835778  0.0  0.398219  0.838853   \n",
       "\n",
       "                       75%      max  \n",
       "SeriousDlqin2yrs                     \n",
       "0                 0.487686  50708.0  \n",
       "1                 1.000000   8328.0  "
      ]
     },
     "execution_count": 12,
     "metadata": {},
     "output_type": "execute_result"
    }
   ],
   "source": [
    "groups = df.groupby(\"SeriousDlqin2yrs\")['RevolvingUtilizationOfUnsecuredLines']\n",
    "groups.describe()"
   ]
  },
  {
   "cell_type": "code",
   "execution_count": 13,
   "metadata": {
    "ExecuteTime": {
     "end_time": "2020-12-13T08:51:24.977709Z",
     "start_time": "2020-12-13T08:51:24.206069Z"
    }
   },
   "outputs": [
    {
     "data": {
      "text/plain": [
       "SeriousDlqin2yrs\n",
       "0    AxesSubplot(0.125,0.125;0.775x0.755)\n",
       "1    AxesSubplot(0.125,0.125;0.775x0.755)\n",
       "Name: RevolvingUtilizationOfUnsecuredLines, dtype: object"
      ]
     },
     "execution_count": 13,
     "metadata": {},
     "output_type": "execute_result"
    },
    {
     "data": {
      "image/png": "[encoded data removed]",
      "text/plain": [
       "<Figure size 1152x288 with 1 Axes>"
      ]
     },
     "metadata": {},
     "output_type": "display_data"
    }
   ],
   "source": [
    "groups.hist(figsize=(16, 4), stacked=True, log=True, legend=True)"
   ]
  },
  {
   "cell_type": "markdown",
   "metadata": {
    "ExecuteTime": {
     "end_time": "2020-12-12T08:22:04.740468Z",
     "start_time": "2020-12-12T08:22:04.732320Z"
    }
   },
   "source": [
    "除房地产和汽车贷款等无分期付款债务外，信用卡和个人信用额度的总余额除以信贷限额很高时，反而没有违约。"
   ]
  },
  {
   "cell_type": "markdown",
   "metadata": {},
   "source": [
    "## 2.4 age \n",
    "int 年龄"
   ]
  },
  {
   "cell_type": "markdown",
   "metadata": {},
   "source": [
    "### 2.4.1 不同年龄的样本数"
   ]
  },
  {
   "cell_type": "code",
   "execution_count": 14,
   "metadata": {
    "ExecuteTime": {
     "end_time": "2020-12-13T08:51:24.996598Z",
     "start_time": "2020-12-13T08:51:24.981513Z"
    }
   },
   "outputs": [
    {
     "data": {
      "text/plain": [
       "count    150000.000000\n",
       "mean         52.295207\n",
       "std          14.771866\n",
       "min           0.000000\n",
       "25%          41.000000\n",
       "50%          52.000000\n",
       "75%          63.000000\n",
       "max         109.000000\n",
       "Name: age, dtype: float64"
      ]
     },
     "execution_count": 14,
     "metadata": {},
     "output_type": "execute_result"
    }
   ],
   "source": [
    "df['age'].describe()"
   ]
  },
  {
   "cell_type": "code",
   "execution_count": 15,
   "metadata": {
    "ExecuteTime": {
     "end_time": "2020-12-13T08:51:27.034691Z",
     "start_time": "2020-12-13T08:51:25.002875Z"
    }
   },
   "outputs": [
    {
     "data": {
      "image/png": "[encoded data removed]",
      "text/plain": [
       "<Figure size 1152x288 with 1 Axes>"
      ]
     },
     "metadata": {},
     "output_type": "display_data"
    }
   ],
   "source": [
    "plt.figure(figsize=(16, 4))\n",
    "ax = sns.countplot(data=df, x='age')\n",
    "_ = ax.set_xticklabels(sorted(df['age'].unique()), rotation=90)"
   ]
  },
  {
   "cell_type": "markdown",
   "metadata": {},
   "source": [
    "年龄跨度较大，从21岁到109岁。"
   ]
  },
  {
   "cell_type": "markdown",
   "metadata": {},
   "source": [
    "### 2.4.2 不同年龄下违约情况"
   ]
  },
  {
   "cell_type": "code",
   "execution_count": 16,
   "metadata": {
    "ExecuteTime": {
     "end_time": "2020-12-13T08:51:28.171111Z",
     "start_time": "2020-12-13T08:51:27.039732Z"
    }
   },
   "outputs": [
    {
     "data": {
      "text/plain": [
       "<seaborn.axisgrid.FacetGrid at 0x7fbdafc18ad0>"
      ]
     },
     "execution_count": 16,
     "metadata": {},
     "output_type": "execute_result"
    },
    {
     "data": {
      "image/png": "[encoded data removed]",
      "text/plain": [
       "<Figure size 459.3x360 with 1 Axes>"
      ]
     },
     "metadata": {},
     "output_type": "display_data"
    }
   ],
   "source": [
    "sns.displot(data=df, x='age', hue='SeriousDlqin2yrs', multiple=\"stack\")"
   ]
  },
  {
   "cell_type": "markdown",
   "metadata": {},
   "source": [
    "违约的数据分布更加偏右，35岁到50岁之间违约人数较多。"
   ]
  },
  {
   "cell_type": "markdown",
   "metadata": {},
   "source": [
    "如果要保证每个分桶内都有正样本，则分组的bins可以是`[-math.inf, 30, 40, 50, 60, 70, math.inf]`"
   ]
  },
  {
   "cell_type": "markdown",
   "metadata": {},
   "source": [
    "## 2.5 NumberOfTime30-59DaysPastDueNotWorse\n",
    "int 借款人逾期30-59天的次数，但在过去两年没有更糟"
   ]
  },
  {
   "cell_type": "markdown",
   "metadata": {},
   "source": [
    "### 2.5.1 30-59天不同逾期次数的样本数"
   ]
  },
  {
   "cell_type": "code",
   "execution_count": 17,
   "metadata": {
    "ExecuteTime": {
     "end_time": "2020-12-13T08:51:28.682874Z",
     "start_time": "2020-12-13T08:51:28.174418Z"
    }
   },
   "outputs": [
    {
     "data": {
      "image/png": "[encoded data removed]",
      "text/plain": [
       "<Figure size 432x288 with 1 Axes>"
      ]
     },
     "metadata": {},
     "output_type": "display_data"
    }
   ],
   "source": [
    "ax = sns.countplot(data=df, x='NumberOfTime30-59DaysPastDueNotWorse')\n",
    "ax.set_yscale('log')"
   ]
  },
  {
   "cell_type": "markdown",
   "metadata": {},
   "source": [
    "绝大多数样本（10W+）没有发生过逾期。1W多个样本逾期次数只有1次。"
   ]
  },
  {
   "cell_type": "markdown",
   "metadata": {},
   "source": [
    "### 2.5.2 30-59天不同逾期次数中违约与未违约样本数统计"
   ]
  },
  {
   "cell_type": "code",
   "execution_count": 18,
   "metadata": {
    "ExecuteTime": {
     "end_time": "2020-12-13T08:51:29.326675Z",
     "start_time": "2020-12-13T08:51:28.685418Z"
    }
   },
   "outputs": [
    {
     "data": {
      "image/png": "[encoded data removed]",
      "text/plain": [
       "<Figure size 432x288 with 1 Axes>"
      ]
     },
     "metadata": {},
     "output_type": "display_data"
    }
   ],
   "source": [
    "ax = sns.countplot(data=df,\n",
    "                   x='NumberOfTime30-59DaysPastDueNotWorse',\n",
    "                   hue='SeriousDlqin2yrs')\n",
    "ax.set_yscale('log')"
   ]
  },
  {
   "cell_type": "markdown",
   "metadata": {},
   "source": [
    "不同逾期次数下均存在违约样本。"
   ]
  },
  {
   "cell_type": "markdown",
   "metadata": {},
   "source": [
    "一共16个取值，为了保证分桶后，每一桶都有正样本，则分桶bins可以是`[-math.inf, 0, 1, 2, 3, 4, 5, 6, 7, 8, math.inf]`"
   ]
  },
  {
   "cell_type": "markdown",
   "metadata": {},
   "source": [
    "## 2.6 DebtRatio \n",
    "债务比（每月偿还的债务，赡养费，生活费除以每月的总收入）"
   ]
  },
  {
   "cell_type": "markdown",
   "metadata": {},
   "source": [
    "### 2.6.1 债务比的分布"
   ]
  },
  {
   "cell_type": "code",
   "execution_count": 19,
   "metadata": {
    "ExecuteTime": {
     "end_time": "2020-12-13T08:51:29.852884Z",
     "start_time": "2020-12-13T08:51:29.329606Z"
    }
   },
   "outputs": [
    {
     "data": {
      "image/png": "[encoded data removed]",
      "text/plain": [
       "<Figure size 432x288 with 1 Axes>"
      ]
     },
     "metadata": {},
     "output_type": "display_data"
    }
   ],
   "source": [
    "ax = df[['DebtRatio']].plot(kind='hist')\n",
    "ax.set_yscale(\"log\")"
   ]
  },
  {
   "cell_type": "code",
   "execution_count": 20,
   "metadata": {
    "ExecuteTime": {
     "end_time": "2020-12-13T08:51:29.875020Z",
     "start_time": "2020-12-13T08:51:29.858934Z"
    }
   },
   "outputs": [
    {
     "data": {
      "text/plain": [
       "count    150000.000000\n",
       "mean        353.005076\n",
       "std        2037.818523\n",
       "min           0.000000\n",
       "25%           0.175074\n",
       "50%           0.366508\n",
       "75%           0.868254\n",
       "max      329664.000000\n",
       "Name: DebtRatio, dtype: float64"
      ]
     },
     "execution_count": 20,
     "metadata": {},
     "output_type": "execute_result"
    }
   ],
   "source": [
    "df['DebtRatio'].describe()"
   ]
  },
  {
   "cell_type": "markdown",
   "metadata": {},
   "source": [
    "与RevolvingUtilizationOfUnsecuredLines一样，也是大部分数据分布在0-1以内。但存在极大值"
   ]
  },
  {
   "cell_type": "markdown",
   "metadata": {},
   "source": [
    "### 2.6.2 违约与不违约下的债务比的分布"
   ]
  },
  {
   "cell_type": "code",
   "execution_count": 21,
   "metadata": {
    "ExecuteTime": {
     "end_time": "2020-12-13T08:51:29.930790Z",
     "start_time": "2020-12-13T08:51:29.877701Z"
    }
   },
   "outputs": [
    {
     "data": {
      "text/html": [
       "<div>\n",
       "<style scoped>\n",
       "    .dataframe tbody tr th:only-of-type {\n",
       "        vertical-align: middle;\n",
       "    }\n",
       "\n",
       "    .dataframe tbody tr th {\n",
       "        vertical-align: top;\n",
       "    }\n",
       "\n",
       "    .dataframe thead th {\n",
       "        text-align: right;\n",
       "    }\n",
       "</style>\n",
       "<table border=\"1\" class=\"dataframe\">\n",
       "  <thead>\n",
       "    <tr style=\"text-align: right;\">\n",
       "      <th></th>\n",
       "      <th>count</th>\n",
       "      <th>mean</th>\n",
       "      <th>std</th>\n",
       "      <th>min</th>\n",
       "      <th>25%</th>\n",
       "      <th>50%</th>\n",
       "      <th>75%</th>\n",
       "      <th>max</th>\n",
       "    </tr>\n",
       "    <tr>\n",
       "      <th>SeriousDlqin2yrs</th>\n",
       "      <th></th>\n",
       "      <th></th>\n",
       "      <th></th>\n",
       "      <th></th>\n",
       "      <th></th>\n",
       "      <th></th>\n",
       "      <th></th>\n",
       "      <th></th>\n",
       "    </tr>\n",
       "  </thead>\n",
       "  <tbody>\n",
       "    <tr>\n",
       "      <th>0</th>\n",
       "      <td>139974.0</td>\n",
       "      <td>357.151168</td>\n",
       "      <td>2083.282060</td>\n",
       "      <td>0.0</td>\n",
       "      <td>0.173707</td>\n",
       "      <td>0.362659</td>\n",
       "      <td>0.865608</td>\n",
       "      <td>329664.0</td>\n",
       "    </tr>\n",
       "    <tr>\n",
       "      <th>1</th>\n",
       "      <td>10026.0</td>\n",
       "      <td>295.121066</td>\n",
       "      <td>1238.360283</td>\n",
       "      <td>0.0</td>\n",
       "      <td>0.193979</td>\n",
       "      <td>0.428227</td>\n",
       "      <td>0.892371</td>\n",
       "      <td>38793.0</td>\n",
       "    </tr>\n",
       "  </tbody>\n",
       "</table>\n",
       "</div>"
      ],
      "text/plain": [
       "                     count        mean          std  min       25%       50%  \\\n",
       "SeriousDlqin2yrs                                                               \n",
       "0                 139974.0  357.151168  2083.282060  0.0  0.173707  0.362659   \n",
       "1                  10026.0  295.121066  1238.360283  0.0  0.193979  0.428227   \n",
       "\n",
       "                       75%       max  \n",
       "SeriousDlqin2yrs                      \n",
       "0                 0.865608  329664.0  \n",
       "1                 0.892371   38793.0  "
      ]
     },
     "execution_count": 21,
     "metadata": {},
     "output_type": "execute_result"
    }
   ],
   "source": [
    "groups = df.groupby(\"SeriousDlqin2yrs\")['DebtRatio']\n",
    "groups.describe()"
   ]
  },
  {
   "cell_type": "code",
   "execution_count": 22,
   "metadata": {
    "ExecuteTime": {
     "end_time": "2020-12-13T08:51:30.521143Z",
     "start_time": "2020-12-13T08:51:29.941547Z"
    }
   },
   "outputs": [
    {
     "data": {
      "text/plain": [
       "SeriousDlqin2yrs\n",
       "0    AxesSubplot(0.125,0.125;0.775x0.755)\n",
       "1    AxesSubplot(0.125,0.125;0.775x0.755)\n",
       "Name: DebtRatio, dtype: object"
      ]
     },
     "execution_count": 22,
     "metadata": {},
     "output_type": "execute_result"
    },
    {
     "data": {
      "image/png": "[encoded data removed]",
      "text/plain": [
       "<Figure size 1152x288 with 1 Axes>"
      ]
     },
     "metadata": {},
     "output_type": "display_data"
    }
   ],
   "source": [
    "groups.hist(figsize=(16, 4), stacked=True, log=True, legend=True)"
   ]
  },
  {
   "cell_type": "markdown",
   "metadata": {},
   "source": [
    "违约与未违约的债务比绝大部分集中在0~4W之间。债务比只在0-38793.0之间存在违约，且看起来债务比越低越容易违约。"
   ]
  },
  {
   "cell_type": "markdown",
   "metadata": {},
   "source": [
    "## 2.7 MonthlyIncome 每月收入\n"
   ]
  },
  {
   "cell_type": "markdown",
   "metadata": {},
   "source": [
    "### 2.7.1  每月收入的分布"
   ]
  },
  {
   "cell_type": "code",
   "execution_count": 23,
   "metadata": {
    "ExecuteTime": {
     "end_time": "2020-12-13T08:51:30.544501Z",
     "start_time": "2020-12-13T08:51:30.528156Z"
    }
   },
   "outputs": [
    {
     "data": {
      "text/plain": [
       "count    1.202690e+05\n",
       "mean     6.670221e+03\n",
       "std      1.438467e+04\n",
       "min      0.000000e+00\n",
       "25%      3.400000e+03\n",
       "50%      5.400000e+03\n",
       "75%      8.249000e+03\n",
       "max      3.008750e+06\n",
       "Name: MonthlyIncome, dtype: float64"
      ]
     },
     "execution_count": 23,
     "metadata": {},
     "output_type": "execute_result"
    }
   ],
   "source": [
    "df['MonthlyIncome'].describe()"
   ]
  },
  {
   "cell_type": "code",
   "execution_count": 24,
   "metadata": {
    "ExecuteTime": {
     "end_time": "2020-12-13T08:51:31.076271Z",
     "start_time": "2020-12-13T08:51:30.549456Z"
    }
   },
   "outputs": [
    {
     "data": {
      "image/png": "[encoded data removed]",
      "text/plain": [
       "<Figure size 432x288 with 1 Axes>"
      ]
     },
     "metadata": {},
     "output_type": "display_data"
    }
   ],
   "source": [
    "ax = df[['MonthlyIncome']].plot(kind='hist')\n",
    "ax.set_yscale(\"log\")"
   ]
  },
  {
   "cell_type": "markdown",
   "metadata": {},
   "source": [
    "没填充缺失值之前，75%的样本的每月收入在0到8249.0之间，而10W以上的样本月收入在0到25W之间。"
   ]
  },
  {
   "cell_type": "code",
   "execution_count": 25,
   "metadata": {
    "ExecuteTime": {
     "end_time": "2020-12-13T08:51:31.088707Z",
     "start_time": "2020-12-13T08:51:31.079242Z"
    }
   },
   "outputs": [],
   "source": [
    "# 使用中位数填充每月收入\n",
    "df['MonthlyIncome'] = df['MonthlyIncome'].fillna(df['MonthlyIncome'].median())"
   ]
  },
  {
   "cell_type": "markdown",
   "metadata": {},
   "source": [
    "### 2.7.2 违约与未违约用户的每月收入分布"
   ]
  },
  {
   "cell_type": "code",
   "execution_count": 26,
   "metadata": {
    "ExecuteTime": {
     "end_time": "2020-12-13T08:51:31.716644Z",
     "start_time": "2020-12-13T08:51:31.090722Z"
    }
   },
   "outputs": [
    {
     "data": {
      "text/plain": [
       "SeriousDlqin2yrs\n",
       "0    AxesSubplot(0.125,0.125;0.775x0.755)\n",
       "1    AxesSubplot(0.125,0.125;0.775x0.755)\n",
       "Name: MonthlyIncome, dtype: object"
      ]
     },
     "execution_count": 26,
     "metadata": {},
     "output_type": "execute_result"
    },
    {
     "data": {
      "image/png": "[encoded data removed]",
      "text/plain": [
       "<Figure size 1152x288 with 1 Axes>"
      ]
     },
     "metadata": {},
     "output_type": "display_data"
    }
   ],
   "source": [
    "df.groupby(\"SeriousDlqin2yrs\")['MonthlyIncome'].hist(figsize=(16, 4),\n",
    "                                                     stacked=True,\n",
    "                                                     log=True,\n",
    "                                                     legend=True)"
   ]
  },
  {
   "cell_type": "code",
   "execution_count": 27,
   "metadata": {
    "ExecuteTime": {
     "end_time": "2020-12-13T08:51:31.751398Z",
     "start_time": "2020-12-13T08:51:31.719706Z"
    }
   },
   "outputs": [
    {
     "data": {
      "text/html": [
       "<div>\n",
       "<style scoped>\n",
       "    .dataframe tbody tr th:only-of-type {\n",
       "        vertical-align: middle;\n",
       "    }\n",
       "\n",
       "    .dataframe tbody tr th {\n",
       "        vertical-align: top;\n",
       "    }\n",
       "\n",
       "    .dataframe thead th {\n",
       "        text-align: right;\n",
       "    }\n",
       "</style>\n",
       "<table border=\"1\" class=\"dataframe\">\n",
       "  <thead>\n",
       "    <tr style=\"text-align: right;\">\n",
       "      <th></th>\n",
       "      <th>count</th>\n",
       "      <th>mean</th>\n",
       "      <th>std</th>\n",
       "      <th>min</th>\n",
       "      <th>25%</th>\n",
       "      <th>50%</th>\n",
       "      <th>75%</th>\n",
       "      <th>max</th>\n",
       "    </tr>\n",
       "    <tr>\n",
       "      <th>SeriousDlqin2yrs</th>\n",
       "      <th></th>\n",
       "      <th></th>\n",
       "      <th></th>\n",
       "      <th></th>\n",
       "      <th></th>\n",
       "      <th></th>\n",
       "      <th></th>\n",
       "      <th></th>\n",
       "    </tr>\n",
       "  </thead>\n",
       "  <tbody>\n",
       "    <tr>\n",
       "      <th>0</th>\n",
       "      <td>139974.0</td>\n",
       "      <td>6477.623137</td>\n",
       "      <td>13256.598551</td>\n",
       "      <td>0.0</td>\n",
       "      <td>4000.0</td>\n",
       "      <td>5400.0</td>\n",
       "      <td>7500.0</td>\n",
       "      <td>3008750.0</td>\n",
       "    </tr>\n",
       "    <tr>\n",
       "      <th>1</th>\n",
       "      <td>10026.0</td>\n",
       "      <td>5592.401456</td>\n",
       "      <td>5635.257699</td>\n",
       "      <td>0.0</td>\n",
       "      <td>3200.0</td>\n",
       "      <td>5240.0</td>\n",
       "      <td>6200.0</td>\n",
       "      <td>250000.0</td>\n",
       "    </tr>\n",
       "  </tbody>\n",
       "</table>\n",
       "</div>"
      ],
      "text/plain": [
       "                     count         mean           std  min     25%     50%  \\\n",
       "SeriousDlqin2yrs                                                             \n",
       "0                 139974.0  6477.623137  13256.598551  0.0  4000.0  5400.0   \n",
       "1                  10026.0  5592.401456   5635.257699  0.0  3200.0  5240.0   \n",
       "\n",
       "                     75%        max  \n",
       "SeriousDlqin2yrs                     \n",
       "0                 7500.0  3008750.0  \n",
       "1                 6200.0   250000.0  "
      ]
     },
     "execution_count": 27,
     "metadata": {},
     "output_type": "execute_result"
    }
   ],
   "source": [
    "df.groupby(\"SeriousDlqin2yrs\")['MonthlyIncome'].describe()"
   ]
  },
  {
   "cell_type": "markdown",
   "metadata": {},
   "source": [
    "可见月收入越低，越容易违约。"
   ]
  },
  {
   "cell_type": "markdown",
   "metadata": {},
   "source": [
    "## 2.8 违约与未违约样本的公开贷款和信用额度的数量分布 \n",
    "NumberOfOpenCreditLinesAndLoans：公开贷款(如汽车贷款或抵押贷款)和信用额度(如信用卡)的数量"
   ]
  },
  {
   "cell_type": "code",
   "execution_count": 28,
   "metadata": {
    "ExecuteTime": {
     "end_time": "2020-12-13T08:51:33.583535Z",
     "start_time": "2020-12-13T08:51:31.754843Z"
    }
   },
   "outputs": [
    {
     "data": {
      "image/png": "[encoded data removed]",
      "text/plain": [
       "<Figure size 1179.3x360 with 1 Axes>"
      ]
     },
     "metadata": {},
     "output_type": "display_data"
    }
   ],
   "source": [
    "fcg = sns.displot(data=df,\n",
    "                  x='NumberOfOpenCreditLinesAndLoans',\n",
    "                  hue='SeriousDlqin2yrs',\n",
    "                  legend=True,\n",
    "                  multiple=\"stack\",\n",
    "                  height=5,\n",
    "                  aspect=3)\n",
    "fcg.ax.set_yscale('log')"
   ]
  },
  {
   "cell_type": "markdown",
   "metadata": {},
   "source": [
    "违约与未违约样本的公开贷款和信用额度数量的在0-30之间的分布基本一致。"
   ]
  },
  {
   "cell_type": "markdown",
   "metadata": {},
   "source": [
    "## 2.9 违约与未违约样本的NumberOfTimes90DaysLate统计\n",
    "借款人逾期90天（或以上）的次数\n"
   ]
  },
  {
   "cell_type": "code",
   "execution_count": 29,
   "metadata": {
    "ExecuteTime": {
     "end_time": "2020-12-13T08:51:34.526831Z",
     "start_time": "2020-12-13T08:51:33.586345Z"
    }
   },
   "outputs": [
    {
     "data": {
      "image/png": "[encoded data removed]",
      "text/plain": [
       "<Figure size 819.3x360 with 1 Axes>"
      ]
     },
     "metadata": {},
     "output_type": "display_data"
    }
   ],
   "source": [
    "fcg = sns.displot(data=df,\n",
    "                  x='NumberOfTimes90DaysLate',\n",
    "                  hue='SeriousDlqin2yrs',\n",
    "                  legend=True,\n",
    "                  multiple=\"stack\",\n",
    "                  height=5,\n",
    "                  aspect=2)\n",
    "fcg.ax.set_yscale('log')"
   ]
  },
  {
   "cell_type": "markdown",
   "metadata": {},
   "source": [
    "确保每个桶内有正样本，根据可视化结果得出的bins=\n",
    "`[-math.inf, 0, 1, 2, 3, 4, 5, 6, 8, 20, math.inf]`"
   ]
  },
  {
   "cell_type": "markdown",
   "metadata": {},
   "source": [
    "## 2.10 违约与未违约样本的 NumberRealEstateLoansOrLines\n",
    "抵押贷款和房地产贷款的额度（包括房屋净值信贷）"
   ]
  },
  {
   "cell_type": "code",
   "execution_count": 30,
   "metadata": {
    "ExecuteTime": {
     "end_time": "2020-12-13T08:51:35.232808Z",
     "start_time": "2020-12-13T08:51:34.530101Z"
    }
   },
   "outputs": [
    {
     "data": {
      "image/png": "[encoded data removed]",
      "text/plain": [
       "<Figure size 432x288 with 1 Axes>"
      ]
     },
     "metadata": {},
     "output_type": "display_data"
    }
   ],
   "source": [
    "ax = sns.countplot(\n",
    "    data=df,\n",
    "    x='NumberRealEstateLoansOrLines',\n",
    "    hue='SeriousDlqin2yrs',\n",
    ")\n",
    "\n",
    "ax.set_yscale('log')"
   ]
  },
  {
   "cell_type": "markdown",
   "metadata": {},
   "source": [
    "为了保证5个桶每个桶内有正样本，bins可以为`[-math.inf, 0, 1, 2, 3, math.inf]`"
   ]
  },
  {
   "cell_type": "markdown",
   "metadata": {},
   "source": [
    "## 2.11 违约与未违约样本的NumberOfTime60-89DaysPastDueNotWorse分布\n",
    "借款人逾期60-89天的次数，但在过去两年没有更糟\n"
   ]
  },
  {
   "cell_type": "code",
   "execution_count": 31,
   "metadata": {
    "ExecuteTime": {
     "end_time": "2020-12-13T08:51:35.796707Z",
     "start_time": "2020-12-13T08:51:35.236035Z"
    }
   },
   "outputs": [
    {
     "data": {
      "image/png": "[encoded data removed]",
      "text/plain": [
       "<Figure size 432x288 with 1 Axes>"
      ]
     },
     "metadata": {},
     "output_type": "display_data"
    }
   ],
   "source": [
    "ax = sns.countplot(\n",
    "    data=df,\n",
    "    x='NumberOfTime60-89DaysPastDueNotWorse',\n",
    "    hue='SeriousDlqin2yrs',\n",
    ")\n",
    "\n",
    "ax.set_yscale('log')"
   ]
  },
  {
   "cell_type": "markdown",
   "metadata": {},
   "source": [
    "为了保证10个桶每个桶内有正样本，bins可以为`[-math.inf, 0, 1, 2, 3, 4, 5, 6, 7, 96, math.inf]`"
   ]
  },
  {
   "cell_type": "markdown",
   "metadata": {},
   "source": [
    "## 2.12 违约与未违约样本的NumberOfDependents 的分布\n",
    "除自己(配偶、子女等)以外的家庭受养人人数"
   ]
  },
  {
   "cell_type": "code",
   "execution_count": 32,
   "metadata": {
    "ExecuteTime": {
     "end_time": "2020-12-13T08:51:35.811531Z",
     "start_time": "2020-12-13T08:51:35.800297Z"
    }
   },
   "outputs": [],
   "source": [
    "# 使用中位数填充缺失值，并将数据类型修改为整数类型\n",
    "df['NumberOfDependents'] = df['NumberOfDependents'].fillna(\n",
    "    df['NumberOfDependents'].median()).astype(\"int\")"
   ]
  },
  {
   "cell_type": "code",
   "execution_count": 33,
   "metadata": {
    "ExecuteTime": {
     "end_time": "2020-12-13T08:51:35.823064Z",
     "start_time": "2020-12-13T08:51:35.815366Z"
    }
   },
   "outputs": [
    {
     "data": {
      "text/plain": [
       "0     90826\n",
       "1     26316\n",
       "2     19522\n",
       "3      9483\n",
       "4      2862\n",
       "5       746\n",
       "6       158\n",
       "7        51\n",
       "8        24\n",
       "10        5\n",
       "9         5\n",
       "20        1\n",
       "13        1\n",
       "Name: NumberOfDependents, dtype: int64"
      ]
     },
     "execution_count": 33,
     "metadata": {},
     "output_type": "execute_result"
    }
   ],
   "source": [
    "df['NumberOfDependents'].value_counts()"
   ]
  },
  {
   "cell_type": "code",
   "execution_count": 34,
   "metadata": {
    "ExecuteTime": {
     "end_time": "2020-12-13T08:51:36.381419Z",
     "start_time": "2020-12-13T08:51:35.825462Z"
    }
   },
   "outputs": [
    {
     "data": {
      "image/png": "[encoded data removed]",
      "text/plain": [
       "<Figure size 432x288 with 1 Axes>"
      ]
     },
     "metadata": {},
     "output_type": "display_data"
    }
   ],
   "source": [
    "ax = sns.countplot(\n",
    "    data=df,\n",
    "    x='NumberOfDependents',\n",
    "    hue='SeriousDlqin2yrs',\n",
    ")\n",
    "ax.set_yscale('log')"
   ]
  },
  {
   "cell_type": "markdown",
   "metadata": {},
   "source": [
    "为了保证6个桶每个桶内有正样本，bins可以为`[-math.inf, 0, 1, 2, 3, 4, math.inf]`"
   ]
  },
  {
   "cell_type": "markdown",
   "metadata": {},
   "source": [
    "# 3 数据分箱"
   ]
  },
  {
   "cell_type": "markdown",
   "metadata": {},
   "source": [
    "## 3.1 对RevolvingUtilizationOfUnsecuredLines分5箱"
   ]
  },
  {
   "cell_type": "code",
   "execution_count": 35,
   "metadata": {
    "ExecuteTime": {
     "end_time": "2020-12-13T08:51:36.415537Z",
     "start_time": "2020-12-13T08:51:36.385240Z"
    }
   },
   "outputs": [
    {
     "data": {
      "text/plain": [
       "(0.699, 50708.0]    30000\n",
       "(0.271, 0.699]      30000\n",
       "(0.0832, 0.271]     30000\n",
       "(0.0192, 0.0832]    30000\n",
       "(-0.001, 0.0192]    30000\n",
       "Name: RevolvingUtilizationOfUnsecuredLines_bins, dtype: int64"
      ]
     },
     "execution_count": 35,
     "metadata": {},
     "output_type": "execute_result"
    }
   ],
   "source": [
    "df['RevolvingUtilizationOfUnsecuredLines_bins'] = pd.qcut(\n",
    "    df['RevolvingUtilizationOfUnsecuredLines'], q=5)\n",
    "\n",
    "df['RevolvingUtilizationOfUnsecuredLines_bins'].value_counts()"
   ]
  },
  {
   "cell_type": "markdown",
   "metadata": {},
   "source": [
    "根据2.3的可视化可知，RevolvingUtilizationOfUnsecuredLines对应的正样本在1W以内，所以以上5个桶中都有正样本"
   ]
  },
  {
   "cell_type": "markdown",
   "metadata": {},
   "source": [
    "## 3.2 age分6箱"
   ]
  },
  {
   "cell_type": "code",
   "execution_count": 36,
   "metadata": {
    "ExecuteTime": {
     "end_time": "2020-12-13T08:51:36.456397Z",
     "start_time": "2020-12-13T08:51:36.418411Z"
    }
   },
   "outputs": [
    {
     "data": {
      "text/plain": [
       "(40.0, 50.0]    35037\n",
       "(50.0, 60.0]    34806\n",
       "(60.0, 70.0]    27424\n",
       "(30.0, 40.0]    24339\n",
       "(70.0, inf]     17636\n",
       "(-inf, 30.0]    10758\n",
       "Name: age_bins, dtype: int64"
      ]
     },
     "execution_count": 36,
     "metadata": {},
     "output_type": "execute_result"
    }
   ],
   "source": [
    "# 根据2.4中的可视化确定的分桶bins\n",
    "age_bins = [-math.inf, 30, 40, 50, 60, 70, math.inf]\n",
    "df['age_bins'] = pd.cut(df['age'], age_bins)\n",
    "df['age_bins'].value_counts()"
   ]
  },
  {
   "cell_type": "markdown",
   "metadata": {},
   "source": [
    "## 3.3 NumberOfTime30-59DaysPastDueNotWorse分10桶"
   ]
  },
  {
   "cell_type": "code",
   "execution_count": 37,
   "metadata": {
    "ExecuteTime": {
     "end_time": "2020-12-13T08:51:36.475299Z",
     "start_time": "2020-12-13T08:51:36.459078Z"
    }
   },
   "outputs": [
    {
     "data": {
      "text/plain": [
       "(-inf, 0.0]    126018\n",
       "(0.0, 1.0]      16033\n",
       "(1.0, 2.0]       4598\n",
       "(2.0, 3.0]       1754\n",
       "(3.0, 4.0]        747\n",
       "(4.0, 5.0]        342\n",
       "(8.0, inf]        289\n",
       "(5.0, 6.0]        140\n",
       "(6.0, 7.0]         54\n",
       "(7.0, 8.0]         25\n",
       "Name: NumberOfTime30-59DaysPastDueNotWorse_bins, dtype: int64"
      ]
     },
     "execution_count": 37,
     "metadata": {},
     "output_type": "execute_result"
    }
   ],
   "source": [
    "# 根据2.5可视化确定的分桶bins\n",
    "bins = [-math.inf, 0, 1, 2, 3, 4, 5, 6, 7, 8, math.inf]\n",
    "df['NumberOfTime30-59DaysPastDueNotWorse_bins'] = pd.cut(\n",
    "    df['NumberOfTime30-59DaysPastDueNotWorse'], bins=bins)\n",
    "\n",
    "df['NumberOfTime30-59DaysPastDueNotWorse_bins'].value_counts()"
   ]
  },
  {
   "cell_type": "markdown",
   "metadata": {},
   "source": [
    "## 3.4 DebtRatio分5桶"
   ]
  },
  {
   "cell_type": "code",
   "execution_count": 38,
   "metadata": {
    "ExecuteTime": {
     "end_time": "2020-12-13T08:51:36.510055Z",
     "start_time": "2020-12-13T08:51:36.479238Z"
    }
   },
   "outputs": [
    {
     "data": {
      "text/plain": [
       "(-inf, 0.2]    42289\n",
       "(0.2, 0.4]     38284\n",
       "(3.0, inf]     30283\n",
       "(0.4, 0.6]     21522\n",
       "(0.6, 3.0]     17622\n",
       "Name: DebtRatio_bins, dtype: int64"
      ]
     },
     "execution_count": 38,
     "metadata": {},
     "output_type": "execute_result"
    }
   ],
   "source": [
    "# 根据2.6可视化结果可知：只有在0~4W之间有正样本，且正样本的上四分位数为0.892371\n",
    "# bins = [-math.inf, 0.1, 0.25, 0.4, 0.9, math.inf] # iv=0.02760\n",
    "# pd.qcut(df['DebtRatio'], 5, duplicates='drop')  # iv=0.05949\n",
    "# bins = [-math.inf, 0.2, 0.4, 0.6, 4, math.inf]   # iv=0.06604\n",
    "# bins = [-math.inf, 0.1, 0.3, 0.5, 4, math.inf]  # iv=0.06356\n",
    "# bins = [-math.inf, 0.1, 0.3, 0.6, 4, math.inf]  # iv=0.0599\n",
    "# bins = [-math.inf, 0.1, 0.3, 0.9, 4, math.inf]  # iv=0.047719\n",
    "\n",
    "bins = [-math.inf, 0.2, 0.4, 0.6, 3, math.inf]   # iv=0.06647\n",
    "df['DebtRatio_bins'] = pd.cut(df['DebtRatio'], bins)\n",
    "\n",
    "df['DebtRatio_bins'].value_counts()"
   ]
  },
  {
   "cell_type": "markdown",
   "metadata": {},
   "source": [
    "## 3.5 MonthlyIncome 分5桶"
   ]
  },
  {
   "cell_type": "code",
   "execution_count": 39,
   "metadata": {
    "ExecuteTime": {
     "end_time": "2020-12-13T08:51:36.537789Z",
     "start_time": "2020-12-13T08:51:36.519622Z"
    }
   },
   "outputs": [
    {
     "data": {
      "text/plain": [
       "(5200.0, 7000.0]    51413\n",
       "(7000.0, inf]       40475\n",
       "(-inf, 3200.0]      27539\n",
       "(3200.0, 4200.0]    15916\n",
       "(4200.0, 5200.0]    14657\n",
       "Name: MonthlyIncome_bins, dtype: int64"
      ]
     },
     "execution_count": 39,
     "metadata": {},
     "output_type": "execute_result"
    }
   ],
   "source": [
    "# pd.qcut(df['MonthlyIncome'], 5, duplicates='drop') # 0.05623\n",
    "\n",
    "bins = [-math.inf, 3200.0, 4200, 5200, 7000, math.inf] # 0.066897\n",
    "\n",
    "df['MonthlyIncome_bins'] = pd.cut(df['MonthlyIncome'], bins)\n",
    "\n",
    "df['MonthlyIncome_bins'].value_counts()"
   ]
  },
  {
   "cell_type": "markdown",
   "metadata": {},
   "source": [
    "## 3.6 NumberOfOpenCreditLinesAndLoans分5桶"
   ]
  },
  {
   "cell_type": "code",
   "execution_count": 40,
   "metadata": {
    "ExecuteTime": {
     "end_time": "2020-12-13T08:51:36.564269Z",
     "start_time": "2020-12-13T08:51:36.540657Z"
    }
   },
   "outputs": [
    {
     "data": {
      "text/plain": [
       "(3.0, inf]     127950\n",
       "(2.0, 3.0]       9058\n",
       "(1.0, 2.0]       6666\n",
       "(0.0, 1.0]       4438\n",
       "(-inf, 0.0]      1888\n",
       "Name: NumberOfOpenCreditLinesAndLoans_bins, dtype: int64"
      ]
     },
     "execution_count": 40,
     "metadata": {},
     "output_type": "execute_result"
    }
   ],
   "source": [
    "# bins = [-math.inf, 0, 1, 2, 4, math.inf]  # iv=0.10064\n",
    "bins = [-math.inf, 0, 1, 2, 3, math.inf]  # iv=0.10128\n",
    "df['NumberOfOpenCreditLinesAndLoans_bins'] = pd.cut(\n",
    "    df['NumberOfOpenCreditLinesAndLoans'], bins)\n",
    "\n",
    "df['NumberOfOpenCreditLinesAndLoans_bins'].value_counts()"
   ]
  },
  {
   "cell_type": "markdown",
   "metadata": {},
   "source": [
    "## 3.7 NumberOfTimes90DaysLate分10桶"
   ]
  },
  {
   "cell_type": "code",
   "execution_count": 41,
   "metadata": {
    "ExecuteTime": {
     "end_time": "2020-12-13T08:51:36.584425Z",
     "start_time": "2020-12-13T08:51:36.566663Z"
    }
   },
   "outputs": [
    {
     "data": {
      "text/plain": [
       "(-inf, 0.0]    141662\n",
       "(0.0, 1.0]       5243\n",
       "(1.0, 2.0]       1555\n",
       "(2.0, 3.0]        667\n",
       "(3.0, 4.0]        291\n",
       "(20.0, inf]       269\n",
       "(4.0, 5.0]        131\n",
       "(5.0, 6.0]         80\n",
       "(6.0, 8.0]         59\n",
       "(8.0, 20.0]        43\n",
       "Name: NumberOfTimes90DaysLate_bins, dtype: int64"
      ]
     },
     "execution_count": 41,
     "metadata": {},
     "output_type": "execute_result"
    }
   ],
   "source": [
    "# 确保每个桶内有正样本，根据2.9可视化结果得出的bins\n",
    "bins = [-math.inf, 0, 1, 2, 3, 4, 5, 6, 8, 20, math.inf]\n",
    "\n",
    "df['NumberOfTimes90DaysLate_bins'] = pd.cut(df['NumberOfTimes90DaysLate'], bins)\n",
    "df['NumberOfTimes90DaysLate_bins'].value_counts()"
   ]
  },
  {
   "cell_type": "markdown",
   "metadata": {},
   "source": [
    "## 3.8 NumberRealEstateLoansOrLines分5段"
   ]
  },
  {
   "cell_type": "code",
   "execution_count": 42,
   "metadata": {
    "ExecuteTime": {
     "end_time": "2020-12-13T08:51:36.605127Z",
     "start_time": "2020-12-13T08:51:36.587519Z"
    }
   },
   "outputs": [
    {
     "data": {
      "text/plain": [
       "(-inf, 0.0]    56188\n",
       "(0.0, 1.0]     52338\n",
       "(1.0, 2.0]     31522\n",
       "(2.0, 3.0]      6300\n",
       "(3.0, inf]      3652\n",
       "Name: NumberRealEstateLoansOrLines_bins, dtype: int64"
      ]
     },
     "execution_count": 42,
     "metadata": {},
     "output_type": "execute_result"
    }
   ],
   "source": [
    "bins = [-math.inf, 0, 1, 2, 3, math.inf]\n",
    "df['NumberRealEstateLoansOrLines_bins'] = pd.cut(\n",
    "    df['NumberRealEstateLoansOrLines'], bins=bins)\n",
    "\n",
    "\n",
    "df['NumberRealEstateLoansOrLines_bins'].value_counts()"
   ]
  },
  {
   "cell_type": "markdown",
   "metadata": {},
   "source": [
    "## 3.9 NumberOfTime60-89DaysPastDueNotWorse分10段"
   ]
  },
  {
   "cell_type": "code",
   "execution_count": 43,
   "metadata": {
    "ExecuteTime": {
     "end_time": "2020-12-13T08:51:36.622605Z",
     "start_time": "2020-12-13T08:51:36.607848Z"
    }
   },
   "outputs": [
    {
     "data": {
      "text/plain": [
       "(-inf, 0.0]    142396\n",
       "(0.0, 1.0]       5731\n",
       "(1.0, 2.0]       1118\n",
       "(2.0, 3.0]        318\n",
       "(96.0, inf]       264\n",
       "(3.0, 4.0]        105\n",
       "(4.0, 5.0]         34\n",
       "(5.0, 6.0]         16\n",
       "(7.0, 96.0]         9\n",
       "(6.0, 7.0]          9\n",
       "Name: NumberOfTime60-89DaysPastDueNotWorse_bins, dtype: int64"
      ]
     },
     "execution_count": 43,
     "metadata": {},
     "output_type": "execute_result"
    }
   ],
   "source": [
    "# bins = [-math.inf, 1, 2, 3, 4, 5, 6, 7, 8, 9, math.inf]  # iv=0.203298\n",
    "bins = [-math.inf, 0, 1, 2, 3, 4, 5, 6, 7, 96, math.inf]  # iv=0.600696\n",
    "\n",
    "\n",
    "df['NumberOfTime60-89DaysPastDueNotWorse_bins'] = pd.cut(\n",
    "    df['NumberOfTime60-89DaysPastDueNotWorse'], bins)\n",
    "\n",
    "df['NumberOfTime60-89DaysPastDueNotWorse_bins'].value_counts()"
   ]
  },
  {
   "cell_type": "markdown",
   "metadata": {},
   "source": [
    "## 3.10 NumberOfDependents分6桶"
   ]
  },
  {
   "cell_type": "code",
   "execution_count": 44,
   "metadata": {
    "ExecuteTime": {
     "end_time": "2020-12-13T08:51:36.641120Z",
     "start_time": "2020-12-13T08:51:36.624943Z"
    }
   },
   "outputs": [
    {
     "data": {
      "text/plain": [
       "(-inf, 0.0]    90826\n",
       "(0.0, 1.0]     26316\n",
       "(1.0, 2.0]     19522\n",
       "(2.0, 3.0]      9483\n",
       "(3.0, 4.0]      2862\n",
       "(4.0, inf]       991\n",
       "Name: NumberOfDependents_bins, dtype: int64"
      ]
     },
     "execution_count": 44,
     "metadata": {},
     "output_type": "execute_result"
    }
   ],
   "source": [
    "# bins = [-math.inf, 2, 4, 6, 8, 10, math.inf] # iv=0.01451\n",
    "\n",
    "# 为了保证每个桶都有正样本，根据2.12得到bins\n",
    "bins = [-math.inf, 0, 1, 2, 3, 4, math.inf]  # iv=0.03445\n",
    "df['NumberOfDependents_bins'] = pd.cut(df['NumberOfDependents'], bins)\n",
    "\n",
    "df['NumberOfDependents_bins'].value_counts()"
   ]
  },
  {
   "cell_type": "markdown",
   "metadata": {},
   "source": [
    "# 4 计算WOE和IV\n",
    "$$WOE_i = ln(\\frac{p_{y_i}}{p_{n_i}})$$\n",
    "- 其中$p_{y_i} = y_i / y_T$\n",
    "- $p_{n_i} = n_i / n_T$    \n",
    "\n",
    "$$IV_i = (p_{y_i} - p_{n_i}) * WOE_i$$"
   ]
  },
  {
   "cell_type": "code",
   "execution_count": 45,
   "metadata": {
    "ExecuteTime": {
     "end_time": "2020-12-13T08:51:36.652580Z",
     "start_time": "2020-12-13T08:51:36.643668Z"
    }
   },
   "outputs": [],
   "source": [
    "def get_iv(df, col, target_col):\n",
    "    # 各桶总样本数\n",
    "    cut_df = pd.DataFrame(df[col].value_counts().sort_index())\n",
    "\n",
    "    # label=1时各桶内样本数\n",
    "    cut_df['yi'] = df.groupby(col)[target_col].sum()\n",
    "\n",
    "    # label=0时各桶内样本数\n",
    "    cut_df['ni'] = cut_df[col] - cut_df['yi']\n",
    "    cut_df['pyi'] = cut_df['yi'] / NT_dict[1]\n",
    "    cut_df['pni'] = cut_df['ni'] / NT_dict[0]\n",
    "\n",
    "    # 计算WOE\n",
    "    cut_df['woe_i'] = np.log(cut_df['pyi'] / cut_df['pni'])\n",
    "    \n",
    "    # 将存在inf的值替换为0\n",
    "    cut_df['woe_i'] = cut_df['woe_i'].replace({np.inf: 0, -np.inf: 0})\n",
    "    \n",
    "    # 计算各桶的iv\n",
    "    cut_df['iv_i'] = cut_df['woe_i'] * (cut_df['pyi'] - cut_df['pni'])\n",
    "    iv = cut_df['iv_i'].sum()\n",
    "    \n",
    "    # 每个桶内样本总数\n",
    "    cut_df['all'] = cut_df[col].copy()\n",
    "    cut_df[col] = cut_df.index\n",
    "    return  cut_df.reset_index(drop=True), iv"
   ]
  },
  {
   "cell_type": "code",
   "execution_count": 46,
   "metadata": {
    "ExecuteTime": {
     "end_time": "2020-12-13T08:51:36.661435Z",
     "start_time": "2020-12-13T08:51:36.655034Z"
    }
   },
   "outputs": [
    {
     "data": {
      "text/plain": [
       "Index(['RevolvingUtilizationOfUnsecuredLines_bins', 'age_bins',\n",
       "       'NumberOfTime30-59DaysPastDueNotWorse_bins', 'DebtRatio_bins',\n",
       "       'MonthlyIncome_bins', 'NumberOfOpenCreditLinesAndLoans_bins',\n",
       "       'NumberOfTimes90DaysLate_bins', 'NumberRealEstateLoansOrLines_bins',\n",
       "       'NumberOfTime60-89DaysPastDueNotWorse_bins', 'NumberOfDependents_bins'],\n",
       "      dtype='object')"
      ]
     },
     "execution_count": 46,
     "metadata": {},
     "output_type": "execute_result"
    }
   ],
   "source": [
    "bins_cols = df.columns[df.columns.str.endswith('bins')]\n",
    "bins_cols"
   ]
  },
  {
   "cell_type": "code",
   "execution_count": 47,
   "metadata": {
    "ExecuteTime": {
     "end_time": "2020-12-13T08:51:37.527791Z",
     "start_time": "2020-12-13T08:51:36.665820Z"
    }
   },
   "outputs": [],
   "source": [
    "iv_list = []\n",
    "df_new = df.copy()\n",
    "for f in bins_cols:\n",
    "    df_woe, iv = get_iv(df, f, 'SeriousDlqin2yrs')\n",
    "    iv_list.append(iv)\n",
    "    df_woe.columns = [c if c == f else c + '_' + f for c in df_woe.columns]\n",
    "    df_new = df_new.merge(df_woe, on=f, how='left')"
   ]
  },
  {
   "cell_type": "code",
   "execution_count": 48,
   "metadata": {
    "ExecuteTime": {
     "end_time": "2020-12-13T08:51:37.537239Z",
     "start_time": "2020-12-13T08:51:37.530420Z"
    }
   },
   "outputs": [
    {
     "data": {
      "text/plain": [
       "[1.0596188771423887,\n",
       " 0.24235781794699962,\n",
       " 0.7608635821351128,\n",
       " 0.06646851124629055,\n",
       " 0.06689666799825622,\n",
       " 0.10128300712714187,\n",
       " 0.8802938215956659,\n",
       " 0.06167337290177645,\n",
       " 0.6006964135189669,\n",
       " 0.03445663226108044]"
      ]
     },
     "execution_count": 48,
     "metadata": {},
     "output_type": "execute_result"
    }
   ],
   "source": [
    "iv_list"
   ]
  },
  {
   "cell_type": "code",
   "execution_count": 49,
   "metadata": {
    "ExecuteTime": {
     "end_time": "2020-12-13T08:51:37.588696Z",
     "start_time": "2020-12-13T08:51:37.545891Z"
    }
   },
   "outputs": [
    {
     "data": {
      "text/html": [
       "<div>\n",
       "<style scoped>\n",
       "    .dataframe tbody tr th:only-of-type {\n",
       "        vertical-align: middle;\n",
       "    }\n",
       "\n",
       "    .dataframe tbody tr th {\n",
       "        vertical-align: top;\n",
       "    }\n",
       "\n",
       "    .dataframe thead th {\n",
       "        text-align: right;\n",
       "    }\n",
       "</style>\n",
       "<table border=\"1\" class=\"dataframe\">\n",
       "  <thead>\n",
       "    <tr style=\"text-align: right;\">\n",
       "      <th></th>\n",
       "      <th>SeriousDlqin2yrs</th>\n",
       "      <th>RevolvingUtilizationOfUnsecuredLines</th>\n",
       "      <th>age</th>\n",
       "      <th>NumberOfTime30-59DaysPastDueNotWorse</th>\n",
       "      <th>DebtRatio</th>\n",
       "      <th>MonthlyIncome</th>\n",
       "      <th>NumberOfOpenCreditLinesAndLoans</th>\n",
       "      <th>NumberOfTimes90DaysLate</th>\n",
       "      <th>NumberRealEstateLoansOrLines</th>\n",
       "      <th>NumberOfTime60-89DaysPastDueNotWorse</th>\n",
       "      <th>...</th>\n",
       "      <th>woe_i_NumberOfTime60-89DaysPastDueNotWorse_bins</th>\n",
       "      <th>iv_i_NumberOfTime60-89DaysPastDueNotWorse_bins</th>\n",
       "      <th>all_NumberOfTime60-89DaysPastDueNotWorse_bins</th>\n",
       "      <th>yi_NumberOfDependents_bins</th>\n",
       "      <th>ni_NumberOfDependents_bins</th>\n",
       "      <th>pyi_NumberOfDependents_bins</th>\n",
       "      <th>pni_NumberOfDependents_bins</th>\n",
       "      <th>woe_i_NumberOfDependents_bins</th>\n",
       "      <th>iv_i_NumberOfDependents_bins</th>\n",
       "      <th>all_NumberOfDependents_bins</th>\n",
       "    </tr>\n",
       "  </thead>\n",
       "  <tbody>\n",
       "    <tr>\n",
       "      <th>0</th>\n",
       "      <td>1</td>\n",
       "      <td>0.766127</td>\n",
       "      <td>45</td>\n",
       "      <td>2</td>\n",
       "      <td>0.802982</td>\n",
       "      <td>9120.0</td>\n",
       "      <td>13</td>\n",
       "      <td>0</td>\n",
       "      <td>6</td>\n",
       "      <td>0</td>\n",
       "      <td>...</td>\n",
       "      <td>-0.288208</td>\n",
       "      <td>0.069673</td>\n",
       "      <td>142396</td>\n",
       "      <td>1584</td>\n",
       "      <td>17938</td>\n",
       "      <td>0.157989</td>\n",
       "      <td>0.128152</td>\n",
       "      <td>0.209307</td>\n",
       "      <td>0.006245</td>\n",
       "      <td>19522</td>\n",
       "    </tr>\n",
       "    <tr>\n",
       "      <th>1</th>\n",
       "      <td>0</td>\n",
       "      <td>0.957151</td>\n",
       "      <td>40</td>\n",
       "      <td>0</td>\n",
       "      <td>0.121876</td>\n",
       "      <td>2600.0</td>\n",
       "      <td>4</td>\n",
       "      <td>0</td>\n",
       "      <td>0</td>\n",
       "      <td>0</td>\n",
       "      <td>...</td>\n",
       "      <td>-0.288208</td>\n",
       "      <td>0.069673</td>\n",
       "      <td>142396</td>\n",
       "      <td>1935</td>\n",
       "      <td>24381</td>\n",
       "      <td>0.192998</td>\n",
       "      <td>0.174182</td>\n",
       "      <td>0.102578</td>\n",
       "      <td>0.001930</td>\n",
       "      <td>26316</td>\n",
       "    </tr>\n",
       "  </tbody>\n",
       "</table>\n",
       "<p>2 rows × 91 columns</p>\n",
       "</div>"
      ],
      "text/plain": [
       "   SeriousDlqin2yrs  RevolvingUtilizationOfUnsecuredLines  age  \\\n",
       "0                 1                              0.766127   45   \n",
       "1                 0                              0.957151   40   \n",
       "\n",
       "   NumberOfTime30-59DaysPastDueNotWorse  DebtRatio  MonthlyIncome  \\\n",
       "0                                     2   0.802982         9120.0   \n",
       "1                                     0   0.121876         2600.0   \n",
       "\n",
       "   NumberOfOpenCreditLinesAndLoans  NumberOfTimes90DaysLate  \\\n",
       "0                               13                        0   \n",
       "1                                4                        0   \n",
       "\n",
       "   NumberRealEstateLoansOrLines  NumberOfTime60-89DaysPastDueNotWorse  ...  \\\n",
       "0                             6                                     0  ...   \n",
       "1                             0                                     0  ...   \n",
       "\n",
       "   woe_i_NumberOfTime60-89DaysPastDueNotWorse_bins  \\\n",
       "0                                        -0.288208   \n",
       "1                                        -0.288208   \n",
       "\n",
       "  iv_i_NumberOfTime60-89DaysPastDueNotWorse_bins  \\\n",
       "0                                       0.069673   \n",
       "1                                       0.069673   \n",
       "\n",
       "  all_NumberOfTime60-89DaysPastDueNotWorse_bins yi_NumberOfDependents_bins  \\\n",
       "0                                        142396                       1584   \n",
       "1                                        142396                       1935   \n",
       "\n",
       "  ni_NumberOfDependents_bins pyi_NumberOfDependents_bins  \\\n",
       "0                      17938                    0.157989   \n",
       "1                      24381                    0.192998   \n",
       "\n",
       "  pni_NumberOfDependents_bins woe_i_NumberOfDependents_bins  \\\n",
       "0                    0.128152                      0.209307   \n",
       "1                    0.174182                      0.102578   \n",
       "\n",
       "  iv_i_NumberOfDependents_bins all_NumberOfDependents_bins  \n",
       "0                     0.006245                       19522  \n",
       "1                     0.001930                       26316  \n",
       "\n",
       "[2 rows x 91 columns]"
      ]
     },
     "execution_count": 49,
     "metadata": {},
     "output_type": "execute_result"
    }
   ],
   "source": [
    "df_new.head(2)"
   ]
  },
  {
   "cell_type": "markdown",
   "metadata": {},
   "source": [
    "# 5 根据IV > 0.1 选择特征"
   ]
  },
  {
   "cell_type": "code",
   "execution_count": 50,
   "metadata": {
    "ExecuteTime": {
     "end_time": "2020-12-13T08:51:37.602226Z",
     "start_time": "2020-12-13T08:51:37.593843Z"
    }
   },
   "outputs": [
    {
     "name": "stdout",
     "output_type": "stream",
     "text": [
      "IV大于0.5的特征: RevolvingUtilizationOfUnsecuredLines_bins 1.0596188771423887\n",
      "IV大于0.5的特征: NumberOfTime30-59DaysPastDueNotWorse_bins 0.7608635821351128\n",
      "IV大于0.5的特征: NumberOfTimes90DaysLate_bins 0.8802938215956659\n",
      "IV大于0.5的特征: NumberOfTime60-89DaysPastDueNotWorse_bins 0.6006964135189669\n"
     ]
    }
   ],
   "source": [
    "choose_feats = []\n",
    "for c, iv in zip(bins_cols, iv_list):\n",
    "    if iv > 0.1:\n",
    "        choose_feats.append(c)\n",
    "    if iv > 0.5:\n",
    "        print(\"IV大于0.5的特征:\", c, iv)"
   ]
  },
  {
   "cell_type": "code",
   "execution_count": 51,
   "metadata": {
    "ExecuteTime": {
     "end_time": "2020-12-13T08:51:37.617827Z",
     "start_time": "2020-12-13T08:51:37.606270Z"
    }
   },
   "outputs": [
    {
     "data": {
      "text/plain": [
       "['RevolvingUtilizationOfUnsecuredLines_bins',\n",
       " 'age_bins',\n",
       " 'NumberOfTime30-59DaysPastDueNotWorse_bins',\n",
       " 'NumberOfOpenCreditLinesAndLoans_bins',\n",
       " 'NumberOfTimes90DaysLate_bins',\n",
       " 'NumberOfTime60-89DaysPastDueNotWorse_bins']"
      ]
     },
     "execution_count": 51,
     "metadata": {},
     "output_type": "execute_result"
    }
   ],
   "source": [
    "choose_feats"
   ]
  },
  {
   "cell_type": "code",
   "execution_count": 52,
   "metadata": {
    "ExecuteTime": {
     "end_time": "2020-12-13T08:51:37.637934Z",
     "start_time": "2020-12-13T08:51:37.630667Z"
    }
   },
   "outputs": [
    {
     "data": {
      "text/plain": [
       "'RevolvingUtilizationOfUnsecuredLines'"
      ]
     },
     "execution_count": 52,
     "metadata": {},
     "output_type": "execute_result"
    }
   ],
   "source": [
    "choose_feats[0][:-5]"
   ]
  },
  {
   "cell_type": "markdown",
   "metadata": {},
   "source": [
    "# 6 获得所筛选特征的WOE的规则"
   ]
  },
  {
   "cell_type": "code",
   "execution_count": 53,
   "metadata": {
    "ExecuteTime": {
     "end_time": "2020-12-13T08:51:37.905060Z",
     "start_time": "2020-12-13T08:51:37.641922Z"
    }
   },
   "outputs": [
    {
     "data": {
      "text/html": [
       "<div>\n",
       "<style scoped>\n",
       "    .dataframe tbody tr th:only-of-type {\n",
       "        vertical-align: middle;\n",
       "    }\n",
       "\n",
       "    .dataframe tbody tr th {\n",
       "        vertical-align: top;\n",
       "    }\n",
       "\n",
       "    .dataframe thead th {\n",
       "        text-align: right;\n",
       "    }\n",
       "</style>\n",
       "<table border=\"1\" class=\"dataframe\">\n",
       "  <thead>\n",
       "    <tr style=\"text-align: right;\">\n",
       "      <th></th>\n",
       "      <th>features</th>\n",
       "      <th>bin</th>\n",
       "      <th>woe</th>\n",
       "    </tr>\n",
       "  </thead>\n",
       "  <tbody>\n",
       "    <tr>\n",
       "      <th>1733</th>\n",
       "      <td>NumberOfTime60-89DaysPastDueNotWorse</td>\n",
       "      <td>(96.0, inf]</td>\n",
       "      <td>2.803329</td>\n",
       "    </tr>\n",
       "    <tr>\n",
       "      <th>2406</th>\n",
       "      <td>NumberOfTime60-89DaysPastDueNotWorse</td>\n",
       "      <td>(3.0, 4.0]</td>\n",
       "      <td>3.121783</td>\n",
       "    </tr>\n",
       "    <tr>\n",
       "      <th>6664</th>\n",
       "      <td>NumberOfTime60-89DaysPastDueNotWorse</td>\n",
       "      <td>(5.0, 6.0]</td>\n",
       "      <td>3.734887</td>\n",
       "    </tr>\n",
       "    <tr>\n",
       "      <th>16642</th>\n",
       "      <td>NumberOfTime60-89DaysPastDueNotWorse</td>\n",
       "      <td>(6.0, 7.0]</td>\n",
       "      <td>2.859419</td>\n",
       "    </tr>\n",
       "    <tr>\n",
       "      <th>23964</th>\n",
       "      <td>NumberOfTime60-89DaysPastDueNotWorse</td>\n",
       "      <td>(7.0, 96.0]</td>\n",
       "      <td>3.329422</td>\n",
       "    </tr>\n",
       "  </tbody>\n",
       "</table>\n",
       "</div>"
      ],
      "text/plain": [
       "                                   features          bin       woe\n",
       "1733   NumberOfTime60-89DaysPastDueNotWorse  (96.0, inf]  2.803329\n",
       "2406   NumberOfTime60-89DaysPastDueNotWorse   (3.0, 4.0]  3.121783\n",
       "6664   NumberOfTime60-89DaysPastDueNotWorse   (5.0, 6.0]  3.734887\n",
       "16642  NumberOfTime60-89DaysPastDueNotWorse   (6.0, 7.0]  2.859419\n",
       "23964  NumberOfTime60-89DaysPastDueNotWorse  (7.0, 96.0]  3.329422"
      ]
     },
     "execution_count": 53,
     "metadata": {},
     "output_type": "execute_result"
    }
   ],
   "source": [
    "# 得到WOE的规则\n",
    "df_bin_to_woe = pd.DataFrame(columns=['features', 'bin', 'woe'])\n",
    "woe_cols = []\n",
    "for f in choose_feats:\n",
    "    b = f\n",
    "    w = 'woe_i_' + f\n",
    "    woe_cols.append(w)\n",
    "    df_ = df_new[[w, b]].drop_duplicates()\n",
    "    df_.columns = ['woe', 'bin']\n",
    "    df_['features'] = f[:-5]\n",
    "    df_bin_to_woe = pd.concat((df_bin_to_woe, df_))\n",
    "\n",
    "df_bin_to_woe.tail()"
   ]
  },
  {
   "cell_type": "markdown",
   "metadata": {
    "ExecuteTime": {
     "end_time": "2020-12-13T03:25:11.523803Z",
     "start_time": "2020-12-13T03:25:11.517226Z"
    }
   },
   "source": [
    "# 7 逻辑回归建模"
   ]
  },
  {
   "cell_type": "code",
   "execution_count": 54,
   "metadata": {
    "ExecuteTime": {
     "end_time": "2020-12-13T08:51:37.915017Z",
     "start_time": "2020-12-13T08:51:37.907767Z"
    }
   },
   "outputs": [
    {
     "data": {
      "text/plain": [
       "['woe_i_RevolvingUtilizationOfUnsecuredLines_bins',\n",
       " 'woe_i_age_bins',\n",
       " 'woe_i_NumberOfTime30-59DaysPastDueNotWorse_bins',\n",
       " 'woe_i_NumberOfOpenCreditLinesAndLoans_bins',\n",
       " 'woe_i_NumberOfTimes90DaysLate_bins',\n",
       " 'woe_i_NumberOfTime60-89DaysPastDueNotWorse_bins']"
      ]
     },
     "execution_count": 54,
     "metadata": {},
     "output_type": "execute_result"
    }
   ],
   "source": [
    "woe_cols"
   ]
  },
  {
   "cell_type": "markdown",
   "metadata": {},
   "source": [
    "## 7.1 无量纲化"
   ]
  },
  {
   "cell_type": "code",
   "execution_count": 55,
   "metadata": {
    "ExecuteTime": {
     "end_time": "2020-12-13T08:51:37.960120Z",
     "start_time": "2020-12-13T08:51:37.917266Z"
    }
   },
   "outputs": [],
   "source": [
    "X_train = df_new[woe_cols].values\n",
    "\n",
    "transfer = StandardScaler()\n",
    "X_train = transfer.fit_transform(X_train)"
   ]
  },
  {
   "cell_type": "markdown",
   "metadata": {},
   "source": [
    "## 7.2 拆分数据集"
   ]
  },
  {
   "cell_type": "code",
   "execution_count": 56,
   "metadata": {
    "ExecuteTime": {
     "end_time": "2020-12-13T08:51:38.001192Z",
     "start_time": "2020-12-13T08:51:37.964037Z"
    }
   },
   "outputs": [],
   "source": [
    "x_train, x_test, y_train, y_test = train_test_split(\n",
    "    X_train,\n",
    "    df_new['SeriousDlqin2yrs'].values,\n",
    "    test_size=0.2,\n",
    "    random_state=33)"
   ]
  },
  {
   "cell_type": "code",
   "execution_count": 57,
   "metadata": {
    "ExecuteTime": {
     "end_time": "2020-12-13T08:51:38.010471Z",
     "start_time": "2020-12-13T08:51:38.004386Z"
    }
   },
   "outputs": [
    {
     "data": {
      "text/plain": [
       "(120000, 6)"
      ]
     },
     "execution_count": 57,
     "metadata": {},
     "output_type": "execute_result"
    }
   ],
   "source": [
    "x_train.shape"
   ]
  },
  {
   "cell_type": "markdown",
   "metadata": {},
   "source": [
    "## 7.3 训练及评估"
   ]
  },
  {
   "cell_type": "code",
   "execution_count": 58,
   "metadata": {
    "ExecuteTime": {
     "end_time": "2020-12-13T08:51:38.394114Z",
     "start_time": "2020-12-13T08:51:38.014036Z"
    }
   },
   "outputs": [
    {
     "data": {
      "text/plain": [
       "0.9373666666666667"
      ]
     },
     "execution_count": 58,
     "metadata": {},
     "output_type": "execute_result"
    }
   ],
   "source": [
    "model = LogisticRegression(random_state=33)\n",
    "model.fit(x_train, y_train)\n",
    "\n",
    "y_pred = model.predict(x_test)\n",
    "\n",
    "accuracy_score(y_test, y_pred)"
   ]
  },
  {
   "cell_type": "code",
   "execution_count": 59,
   "metadata": {
    "ExecuteTime": {
     "end_time": "2020-12-13T08:51:38.415626Z",
     "start_time": "2020-12-13T08:51:38.399579Z"
    }
   },
   "outputs": [
    {
     "data": {
      "text/plain": [
       "0.8543868981935987"
      ]
     },
     "execution_count": 59,
     "metadata": {},
     "output_type": "execute_result"
    }
   ],
   "source": [
    "roc_auc_score(y_test, model.predict_proba(x_test)[:, 1])"
   ]
  },
  {
   "cell_type": "markdown",
   "metadata": {},
   "source": [
    "## 7.4 可视化混淆矩阵"
   ]
  },
  {
   "cell_type": "code",
   "execution_count": 60,
   "metadata": {
    "ExecuteTime": {
     "end_time": "2020-12-13T08:51:38.864420Z",
     "start_time": "2020-12-13T08:51:38.418782Z"
    }
   },
   "outputs": [
    {
     "data": {
      "image/png": "[encoded data removed]",
      "text/plain": [
       "<Figure size 432x288 with 2 Axes>"
      ]
     },
     "metadata": {},
     "output_type": "display_data"
    }
   ],
   "source": [
    "sns.heatmap(confusion_matrix(y_test, y_pred),\n",
    "            annot=True,\n",
    "            fmt='.0f',\n",
    "            cmap='viridis',\n",
    "            square=True)\n",
    "\n",
    "plt.xlabel('Predicted label')\n",
    "plt.ylabel('True label')\n",
    "plt.show()"
   ]
  },
  {
   "cell_type": "markdown",
   "metadata": {},
   "source": [
    "# 8 总结："
   ]
  },
  {
   "cell_type": "markdown",
   "metadata": {},
   "source": [
    "---\n",
    "+ 和无量纲化之前相比，模型效果稍有提高：违约的样本多识别出了2个，未违约的样本多识别出1个。\n",
    "+ 虽然自定义分桶后，IV>0.1的特征多了一个，但模型对模型效果的帮助并不明显。"
   ]
  },
  {
   "cell_type": "code",
   "execution_count": null,
   "metadata": {},
   "outputs": [],
   "source": []
  }
 ],
 "metadata": {
  "kernelspec": {
   "display_name": "Python [conda env:envpy37]",
   "language": "python",
   "name": "conda-env-envpy37-py"
  },
  "language_info": {
   "codemirror_mode": {
    "name": "ipython",
    "version": 3
   },
   "file_extension": ".py",
   "mimetype": "text/x-python",
   "name": "python",
   "nbconvert_exporter": "python",
   "pygments_lexer": "ipython3",
   "version": "3.7.7"
  },
  "nbTranslate": {
   "displayLangs": [
    "*"
   ],
   "hotkey": "alt-t",
   "langInMainMenu": true,
   "sourceLang": "en",
   "targetLang": "fr",
   "useGoogleTranslate": true
  },
  "toc": {
   "base_numbering": 1,
   "nav_menu": {},
   "number_sections": false,
   "sideBar": true,
   "skip_h1_title": false,
   "title_cell": "Table of Contents",
   "title_sidebar": "Contents",
   "toc_cell": true,
   "toc_position": {
    "height": "calc(100% - 180px)",
    "left": "10px",
    "top": "150px",
    "width": "383.807px"
   },
   "toc_section_display": true,
   "toc_window_display": true
  },
  "varInspector": {
   "cols": {
    "lenName": 16,
    "lenType": 16,
    "lenVar": 40
   },
   "kernels_config": {
    "python": {
     "delete_cmd_postfix": "",
     "delete_cmd_prefix": "del ",
     "library": "var_list.py",
     "varRefreshCmd": "print(var_dic_list())"
    },
    "r": {
     "delete_cmd_postfix": ") ",
     "delete_cmd_prefix": "rm(",
     "library": "var_list.r",
     "varRefreshCmd": "cat(var_dic_list()) "
    }
   },
   "types_to_exclude": [
    "module",
    "function",
    "builtin_function_or_method",
    "instance",
    "_Feature"
   ],
   "window_display": false
  }
 },
 "nbformat": 4,
 "nbformat_minor": 4
}
