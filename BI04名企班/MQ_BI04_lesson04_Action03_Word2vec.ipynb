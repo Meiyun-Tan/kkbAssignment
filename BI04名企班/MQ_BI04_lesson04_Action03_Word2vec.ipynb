{
 "cells": [
  {
   "cell_type": "markdown",
   "metadata": {
    "toc": true
   },
   "source": [
    "<h1>Table of Contents<span class=\"tocSkip\"></span></h1>\n",
    "<div class=\"toc\"><ul class=\"toc-item\"><li><span><a href=\"#1-读入数据\" data-toc-modified-id=\"1-读入数据-1\">1 读入数据</a></span></li><li><span><a href=\"#2-计算相似度\" data-toc-modified-id=\"2-计算相似度-2\">2 计算相似度</a></span><ul class=\"toc-item\"><li><span><a href=\"#2.1-建立词向量模型\" data-toc-modified-id=\"2.1-建立词向量模型-2.1\">2.1 建立词向量模型</a></span></li><li><span><a href=\"#2.2-计算相似度\" data-toc-modified-id=\"2.2-计算相似度-2.2\">2.2 计算相似度</a></span><ul class=\"toc-item\"><li><span><a href=\"#2.2.1-计算与曹操最相似的前10个词\" data-toc-modified-id=\"2.2.1-计算与曹操最相似的前10个词-2.2.1\">2.2.1 计算与曹操最相似的前10个词</a></span></li><li><span><a href=\"#2.2.2-曹操+刘备-张飞=？\" data-toc-modified-id=\"2.2.2-曹操+刘备-张飞=？-2.2.2\">2.2.2 曹操+刘备-张飞=？</a></span></li></ul></li></ul></li><li><span><a href=\"#3-修改参数计算相似度\" data-toc-modified-id=\"3-修改参数计算相似度-3\">3 修改参数计算相似度</a></span><ul class=\"toc-item\"><li><span><a href=\"#3.1-构建词向量模型\" data-toc-modified-id=\"3.1-构建词向量模型-3.1\">3.1 构建词向量模型</a></span></li><li><span><a href=\"#3.2-计算相似度\" data-toc-modified-id=\"3.2-计算相似度-3.2\">3.2 计算相似度</a></span><ul class=\"toc-item\"><li><span><a href=\"#3.2.1-计算与曹操最相似的前10个词\" data-toc-modified-id=\"3.2.1-计算与曹操最相似的前10个词-3.2.1\">3.2.1 计算与曹操最相似的前10个词</a></span></li><li><span><a href=\"#3.2.2-曹操+刘备-张飞=？\" data-toc-modified-id=\"3.2.2-曹操+刘备-张飞=？-3.2.2\">3.2.2 曹操+刘备-张飞=？</a></span></li></ul></li></ul></li><li><span><a href=\"#4-保存模型\" data-toc-modified-id=\"4-保存模型-4\">4 保存模型</a></span></li></ul></div>"
   ]
  },
  {
   "cell_type": "markdown",
   "metadata": {},
   "source": [
    "Action3要求：    \n",
    "\n",
    "使用Gensim中的Word2Vec对三国演义进行Word Embedding，分析和曹操最相近的词有哪些，曹操+刘备-张飞=?    \n",
    "\n",
    "数据集：three_kingdoms.txt"
   ]
  },
  {
   "cell_type": "code",
   "execution_count": 1,
   "metadata": {},
   "outputs": [
    {
     "name": "stdout",
     "output_type": "stream",
     "text": [
      "/usr/local/anaconda3/envs/envpy37/bin/python\r\n"
     ]
    }
   ],
   "source": [
    "# !which python"
   ]
  },
  {
   "cell_type": "code",
   "execution_count": 1,
   "metadata": {},
   "outputs": [],
   "source": [
    "import os\n",
    "import jieba\n",
    "import pandas as pd\n",
    "from utils import files_processing # utils是一个小型python函数和类的集合"
   ]
  },
  {
   "cell_type": "code",
   "execution_count": 9,
   "metadata": {},
   "outputs": [],
   "source": [
    "import multiprocessing\n",
    "from gensim.models import word2vec"
   ]
  },
  {
   "cell_type": "markdown",
   "metadata": {},
   "source": [
    "# 1 读入数据"
   ]
  },
  {
   "cell_type": "code",
   "execution_count": 2,
   "metadata": {},
   "outputs": [],
   "source": [
    "# 源文件所在目录\n",
    "source_folder = './three_kingdoms/source'\n",
    "segment_folder = './three_kingdoms/segment'"
   ]
  },
  {
   "cell_type": "markdown",
   "metadata": {},
   "source": [
    "```files_processing.get_files_list(file_dir, postfix='ALL')```\n",
    "- 获得file_dir目录下，后缀名为postfix所有文件列表，包括子目录\n",
    "- 参数：\n",
    "    - file_dir 文件所在父目录\n",
    "    - postfix 指定文件后缀名，如果为ALL，则所有文件将会被读取"
   ]
  },
  {
   "cell_type": "code",
   "execution_count": 3,
   "metadata": {},
   "outputs": [],
   "source": [
    "# 获取source_folder目录下，后缀为txt的文件，返回相对路径\n",
    "file_list = files_processing.get_files_list(source_folder, postfix='*.txt')"
   ]
  },
  {
   "cell_type": "code",
   "execution_count": 4,
   "metadata": {},
   "outputs": [
    {
     "data": {
      "text/plain": [
       "['./three_kingdoms/source/three_kingdoms.txt']"
      ]
     },
     "execution_count": 4,
     "metadata": {},
     "output_type": "execute_result"
    }
   ],
   "source": [
    "file_list"
   ]
  },
  {
   "cell_type": "code",
   "execution_count": 5,
   "metadata": {},
   "outputs": [],
   "source": [
    "with open(file_list[0], 'r') as f:\n",
    "    document = f.read()"
   ]
  },
  {
   "cell_type": "code",
   "execution_count": 6,
   "metadata": {
    "scrolled": true
   },
   "outputs": [
    {
     "data": {
      "text/plain": [
       "'三国演义\\n作者：罗贯'"
      ]
     },
     "execution_count": 6,
     "metadata": {},
     "output_type": "execute_result"
    }
   ],
   "source": [
    "document[:10]"
   ]
  },
  {
   "cell_type": "code",
   "execution_count": 7,
   "metadata": {},
   "outputs": [],
   "source": [
    "# 字词分割，对整个文件内容进行字词分割\n",
    "def segment_lines(file_list, segment_out_dir, stopwords=[]):\n",
    "    \"\"\"从source中读取文本，分词后，保存到segment目录中\"\"\"\n",
    "    for i,file in enumerate(file_list):\n",
    "        # 用于存储分词结果的路径\n",
    "        segment_out_name = os.path.join(segment_out_dir, 'segment_{}.txt'.format(i))\n",
    "        with open(file, 'r') as f:\n",
    "            document = f.read()\n",
    "            # jieba分词\n",
    "            document_cut = jieba.cut(document)\n",
    "            sentence_segment=[]\n",
    "            for word in document_cut:\n",
    "                if word not in stopwords:\n",
    "                    sentence_segment.append(word)\n",
    "            result = ' '.join(sentence_segment)\n",
    "            with open(segment_out_name, 'w') as f2:\n",
    "                f2.write(result)"
   ]
  },
  {
   "cell_type": "code",
   "execution_count": 8,
   "metadata": {},
   "outputs": [
    {
     "name": "stderr",
     "output_type": "stream",
     "text": [
      "Building prefix dict from the default dictionary ...\n",
      "Loading model from cache /var/folders/dk/4d4_y1kn1js69jdc1n1xyjtr0000gn/T/jieba.cache\n",
      "Loading model cost 0.710 seconds.\n",
      "Prefix dict has been built successfully.\n"
     ]
    }
   ],
   "source": [
    "segment_lines(file_list, segment_folder)"
   ]
  },
  {
   "cell_type": "markdown",
   "metadata": {},
   "source": [
    "# 2 计算相似度"
   ]
  },
  {
   "cell_type": "code",
   "execution_count": 10,
   "metadata": {},
   "outputs": [],
   "source": [
    "sentences = word2vec.PathLineSentences(segment_folder)"
   ]
  },
  {
   "cell_type": "markdown",
   "metadata": {},
   "source": [
    "## 2.1 建立词向量模型"
   ]
  },
  {
   "cell_type": "code",
   "execution_count": 12,
   "metadata": {},
   "outputs": [],
   "source": [
    "model = word2vec.Word2Vec(sentences, \n",
    "                          size=100,  # 向量维度，默认为100\n",
    "                          window=3,  # 句子中当前单词和被预测单词的最大距离\n",
    "                          min_count=1) # 需要训练词语的最小出现次数，默认为5"
   ]
  },
  {
   "cell_type": "markdown",
   "metadata": {},
   "source": [
    "## 2.2 计算相似度"
   ]
  },
  {
   "cell_type": "markdown",
   "metadata": {},
   "source": [
    "### 2.2.1 计算与曹操最相似的前10个词"
   ]
  },
  {
   "cell_type": "code",
   "execution_count": 16,
   "metadata": {},
   "outputs": [],
   "source": [
    "similars10 = model.wv.most_similar(positive=['曹操'], topn=10)"
   ]
  },
  {
   "cell_type": "code",
   "execution_count": 17,
   "metadata": {},
   "outputs": [
    {
     "data": {
      "text/plain": [
       "[('关公', 0.9948543906211853),\n",
       " ('孔明亦', 0.9942571520805359),\n",
       " ('众官', 0.9936116933822632),\n",
       " ('彰', 0.992612361907959),\n",
       " ('孔明', 0.9916199445724487),\n",
       " ('先主', 0.9904195070266724),\n",
       " ('相害', 0.9903540015220642),\n",
       " ('请', 0.9899086952209473),\n",
       " ('维问', 0.9895586371421814),\n",
       " ('哀痛', 0.9894794225692749)]"
      ]
     },
     "execution_count": 17,
     "metadata": {},
     "output_type": "execute_result"
    }
   ],
   "source": [
    "similars10"
   ]
  },
  {
   "cell_type": "markdown",
   "metadata": {},
   "source": [
    "### 2.2.2 曹操+刘备-张飞=？"
   ]
  },
  {
   "cell_type": "code",
   "execution_count": 13,
   "metadata": {},
   "outputs": [
    {
     "data": {
      "text/plain": [
       "0.98375"
      ]
     },
     "execution_count": 13,
     "metadata": {},
     "output_type": "execute_result"
    }
   ],
   "source": [
    "model.wv.similarity('曹操', '刘备')"
   ]
  },
  {
   "cell_type": "code",
   "execution_count": 19,
   "metadata": {},
   "outputs": [
    {
     "data": {
      "text/plain": [
       "0.9841915"
      ]
     },
     "execution_count": 19,
     "metadata": {},
     "output_type": "execute_result"
    }
   ],
   "source": [
    "model.wv.similarity('曹操', '张飞')"
   ]
  },
  {
   "cell_type": "code",
   "execution_count": 20,
   "metadata": {},
   "outputs": [
    {
     "data": {
      "text/plain": [
       "0.9587526"
      ]
     },
     "execution_count": 20,
     "metadata": {},
     "output_type": "execute_result"
    }
   ],
   "source": [
    "model.wv.similarity('刘备', '张飞')"
   ]
  },
  {
   "cell_type": "code",
   "execution_count": 18,
   "metadata": {},
   "outputs": [
    {
     "data": {
      "text/plain": [
       "[('丞相', 0.9932718276977539),\n",
       " ('主公', 0.9924185872077942),\n",
       " ('臣', 0.992241382598877),\n",
       " ('今番', 0.991971492767334),\n",
       " ('此', 0.9919576644897461),\n",
       " ('商议', 0.9906771183013916),\n",
       " ('哀告', 0.9903850555419922),\n",
       " ('吾', 0.9900258779525757),\n",
       " ('今', 0.9899616837501526),\n",
       " ('玄德公', 0.9898769855499268)]"
      ]
     },
     "execution_count": 18,
     "metadata": {},
     "output_type": "execute_result"
    }
   ],
   "source": [
    "model.wv.most_similar(positive=['曹操', '刘备'], negative=['张飞'])"
   ]
  },
  {
   "cell_type": "markdown",
   "metadata": {},
   "source": [
    "# 3 修改参数计算相似度"
   ]
  },
  {
   "cell_type": "markdown",
   "metadata": {},
   "source": [
    "## 3.1 构建词向量模型"
   ]
  },
  {
   "cell_type": "code",
   "execution_count": 39,
   "metadata": {},
   "outputs": [],
   "source": [
    "# 直接读取本地文件\n",
    "sentences = word2vec.LineSentence('./three_kingdoms/segment/segment_0.txt')"
   ]
  },
  {
   "cell_type": "code",
   "execution_count": 34,
   "metadata": {},
   "outputs": [
    {
     "data": {
      "text/plain": [
       "4"
      ]
     },
     "execution_count": 34,
     "metadata": {},
     "output_type": "execute_result"
    }
   ],
   "source": [
    "# 4个CPU\n",
    "multiprocessing.cpu_count()"
   ]
  },
  {
   "cell_type": "code",
   "execution_count": 40,
   "metadata": {},
   "outputs": [],
   "source": [
    "model2 = word2vec.Word2Vec(sentences, \n",
    "                           size=128,\n",
    "                           window=5, # 句子中当前单词和被预测单词的最大距离\n",
    "                           min_count=5, #  # 需要训练词语的最小出现次数，默认为5\n",
    "                           workers=multiprocessing.cpu_count() # 训练使用的线程数，默认为1即不使用多线程\n",
    "                          ) "
   ]
  },
  {
   "cell_type": "markdown",
   "metadata": {},
   "source": [
    "## 3.2 计算相似度"
   ]
  },
  {
   "cell_type": "code",
   "execution_count": 41,
   "metadata": {},
   "outputs": [
    {
     "data": {
      "text/plain": [
       "0.8655579"
      ]
     },
     "execution_count": 41,
     "metadata": {},
     "output_type": "execute_result"
    }
   ],
   "source": [
    "model2.wv.similarity('曹操', '刘备')"
   ]
  },
  {
   "cell_type": "code",
   "execution_count": 42,
   "metadata": {},
   "outputs": [
    {
     "data": {
      "text/plain": [
       "0.86310124"
      ]
     },
     "execution_count": 42,
     "metadata": {},
     "output_type": "execute_result"
    }
   ],
   "source": [
    "model2.wv.similarity('曹操', '张飞')"
   ]
  },
  {
   "cell_type": "code",
   "execution_count": 43,
   "metadata": {},
   "outputs": [
    {
     "data": {
      "text/plain": [
       "0.5358451"
      ]
     },
     "execution_count": 43,
     "metadata": {},
     "output_type": "execute_result"
    }
   ],
   "source": [
    "model2.wv.similarity('刘备', '张飞')"
   ]
  },
  {
   "cell_type": "code",
   "execution_count": 49,
   "metadata": {},
   "outputs": [
    {
     "data": {
      "text/plain": [
       "0.845196"
      ]
     },
     "execution_count": 49,
     "metadata": {},
     "output_type": "execute_result"
    }
   ],
   "source": [
    "model2.wv.similarity('刘备', '关羽')"
   ]
  },
  {
   "cell_type": "code",
   "execution_count": 50,
   "metadata": {},
   "outputs": [
    {
     "data": {
      "text/plain": [
       "0.77187425"
      ]
     },
     "execution_count": 50,
     "metadata": {},
     "output_type": "execute_result"
    }
   ],
   "source": [
    "model2.wv.similarity('曹操', '关羽')"
   ]
  },
  {
   "cell_type": "markdown",
   "metadata": {},
   "source": [
    "### 3.2.1 计算与曹操最相似的前10个词"
   ]
  },
  {
   "cell_type": "code",
   "execution_count": 44,
   "metadata": {
    "scrolled": true
   },
   "outputs": [
    {
     "data": {
      "text/plain": [
       "[('孙权', 0.988555371761322),\n",
       " ('先主', 0.9860959053039551),\n",
       " ('众将', 0.9845090508460999),\n",
       " ('故人', 0.9833407998085022),\n",
       " ('书', 0.9832016229629517),\n",
       " ('周瑜', 0.9823917150497437),\n",
       " ('鲁肃', 0.9820099472999573),\n",
       " ('报', 0.9817290306091309),\n",
       " ('刘璋', 0.9816986322402954),\n",
       " ('中堂', 0.9806970357894897)]"
      ]
     },
     "execution_count": 44,
     "metadata": {},
     "output_type": "execute_result"
    }
   ],
   "source": [
    "model2.wv.most_similar('曹操', topn=10)"
   ]
  },
  {
   "cell_type": "markdown",
   "metadata": {},
   "source": [
    "### 3.2.2 曹操+刘备-张飞=？"
   ]
  },
  {
   "cell_type": "code",
   "execution_count": 46,
   "metadata": {},
   "outputs": [
    {
     "data": {
      "text/plain": [
       "[('愿', 0.9965015649795532),\n",
       " ('何', 0.9954298734664917),\n",
       " ('此人', 0.9951705932617188),\n",
       " ('公', 0.9947369694709778),\n",
       " ('奈何', 0.9936156272888184),\n",
       " ('某', 0.9933364391326904),\n",
       " ('之论', 0.9933246374130249),\n",
       " ('陆伯言', 0.9932084679603577),\n",
       " ('亦', 0.9930257201194763),\n",
       " ('大笑', 0.9929901361465454)]"
      ]
     },
     "execution_count": 46,
     "metadata": {},
     "output_type": "execute_result"
    }
   ],
   "source": [
    "# 与刘备最相近的词\n",
    "model2.wv.most_similar('刘备', topn=10)"
   ]
  },
  {
   "cell_type": "code",
   "execution_count": 47,
   "metadata": {},
   "outputs": [
    {
     "data": {
      "text/plain": [
       "[('望', 0.9899088144302368),\n",
       " ('正', 0.9861788749694824),\n",
       " ('赵云', 0.9857125282287598),\n",
       " ('吕布', 0.9856086373329163),\n",
       " ('孙峻', 0.9852096438407898),\n",
       " ('杨锋', 0.9831941723823547),\n",
       " ('上马', 0.9831820726394653),\n",
       " ('投', 0.9825877547264099),\n",
       " ('逢', 0.9824584722518921),\n",
       " ('次日', 0.9823741912841797)]"
      ]
     },
     "execution_count": 47,
     "metadata": {},
     "output_type": "execute_result"
    }
   ],
   "source": [
    "# 与张飞最相近的词\n",
    "model2.wv.most_similar('张飞', topn=10)"
   ]
  },
  {
   "cell_type": "code",
   "execution_count": 48,
   "metadata": {},
   "outputs": [
    {
     "data": {
      "text/plain": [
       "[('臣', 0.9882100820541382),\n",
       " ('吾', 0.9866390228271484),\n",
       " ('丞相', 0.9861828088760376),\n",
       " ('非', 0.9858428239822388),\n",
       " ('今', 0.9830744862556458),\n",
       " ('耳', 0.9824613332748413),\n",
       " ('虚名', 0.9822484850883484),\n",
       " ('敢', 0.981271505355835),\n",
       " ('此', 0.9809775352478027),\n",
       " ('不可', 0.9807896614074707)]"
      ]
     },
     "execution_count": 48,
     "metadata": {},
     "output_type": "execute_result"
    }
   ],
   "source": [
    "model2.wv.most_similar(positive=['曹操', '刘备'], negative=['张飞'])"
   ]
  },
  {
   "cell_type": "markdown",
   "metadata": {},
   "source": [
    "# 4 保存模型"
   ]
  },
  {
   "cell_type": "code",
   "execution_count": 31,
   "metadata": {},
   "outputs": [],
   "source": [
    "model2.save('./models/w2v.model')"
   ]
  },
  {
   "cell_type": "code",
   "execution_count": null,
   "metadata": {},
   "outputs": [],
   "source": []
  }
 ],
 "metadata": {
  "kernelspec": {
   "display_name": "Python [conda env:envpy37]",
   "language": "python",
   "name": "conda-env-envpy37-py"
  },
  "language_info": {
   "codemirror_mode": {
    "name": "ipython",
    "version": 3
   },
   "file_extension": ".py",
   "mimetype": "text/x-python",
   "name": "python",
   "nbconvert_exporter": "python",
   "pygments_lexer": "ipython3",
   "version": "3.7.7"
  },
  "toc": {
   "base_numbering": 1,
   "nav_menu": {},
   "number_sections": false,
   "sideBar": true,
   "skip_h1_title": false,
   "title_cell": "Table of Contents",
   "title_sidebar": "Contents",
   "toc_cell": true,
   "toc_position": {
    "height": "calc(100% - 180px)",
    "left": "10px",
    "top": "150px",
    "width": "288px"
   },
   "toc_section_display": true,
   "toc_window_display": true
  },
  "varInspector": {
   "cols": {
    "lenName": 16,
    "lenType": 16,
    "lenVar": 40
   },
   "kernels_config": {
    "python": {
     "delete_cmd_postfix": "",
     "delete_cmd_prefix": "del ",
     "library": "var_list.py",
     "varRefreshCmd": "print(var_dic_list())"
    },
    "r": {
     "delete_cmd_postfix": ") ",
     "delete_cmd_prefix": "rm(",
     "library": "var_list.r",
     "varRefreshCmd": "cat(var_dic_list()) "
    }
   },
   "types_to_exclude": [
    "module",
    "function",
    "builtin_function_or_method",
    "instance",
    "_Feature"
   ],
   "window_display": false
  }
 },
 "nbformat": 4,
 "nbformat_minor": 4
}
