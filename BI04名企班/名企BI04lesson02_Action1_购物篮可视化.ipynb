{
 "cells": [
  {
   "cell_type": "code",
   "execution_count": 1,
   "metadata": {},
   "outputs": [],
   "source": [
    "import random\n",
    "import numpy as np\n",
    "import pandas as pd\n",
    "import seaborn as sns\n",
    "from PIL import Image\n",
    "from matplotlib import pyplot as plt\n",
    "from wordcloud import WordCloud, ImageColorGenerator "
   ]
  },
  {
   "cell_type": "markdown",
   "metadata": {},
   "source": [
    "# 加载数据"
   ]
  },
  {
   "cell_type": "code",
   "execution_count": 2,
   "metadata": {
    "scrolled": true
   },
   "outputs": [
    {
     "data": {
      "text/html": [
       "<div>\n",
       "<style scoped>\n",
       "    .dataframe tbody tr th:only-of-type {\n",
       "        vertical-align: middle;\n",
       "    }\n",
       "\n",
       "    .dataframe tbody tr th {\n",
       "        vertical-align: top;\n",
       "    }\n",
       "\n",
       "    .dataframe thead th {\n",
       "        text-align: right;\n",
       "    }\n",
       "</style>\n",
       "<table border=\"1\" class=\"dataframe\">\n",
       "  <thead>\n",
       "    <tr style=\"text-align: right;\">\n",
       "      <th></th>\n",
       "      <th>Items</th>\n",
       "    </tr>\n",
       "  </thead>\n",
       "  <tbody>\n",
       "    <tr>\n",
       "      <th>0</th>\n",
       "      <td>shrimp,almonds,avocado,vegetables mix,green gr...</td>\n",
       "    </tr>\n",
       "    <tr>\n",
       "      <th>1</th>\n",
       "      <td>burgers,meatballs,eggs</td>\n",
       "    </tr>\n",
       "    <tr>\n",
       "      <th>2</th>\n",
       "      <td>chutney</td>\n",
       "    </tr>\n",
       "    <tr>\n",
       "      <th>3</th>\n",
       "      <td>turkey,avocado</td>\n",
       "    </tr>\n",
       "    <tr>\n",
       "      <th>4</th>\n",
       "      <td>mineral water,milk,energy bar,whole wheat rice...</td>\n",
       "    </tr>\n",
       "  </tbody>\n",
       "</table>\n",
       "</div>"
      ],
      "text/plain": [
       "                                               Items\n",
       "0  shrimp,almonds,avocado,vegetables mix,green gr...\n",
       "1                             burgers,meatballs,eggs\n",
       "2                                            chutney\n",
       "3                                     turkey,avocado\n",
       "4  mineral water,milk,energy bar,whole wheat rice..."
      ]
     },
     "execution_count": 2,
     "metadata": {},
     "output_type": "execute_result"
    }
   ],
   "source": [
    "# 整行读取，并将列名命名为Items\n",
    "df = pd.read_csv('./data/Market_Basket_Optimisation.csv', \n",
    "                 sep='\\t', # 整行读入\n",
    "                 header=None, # CSV中第一行不作为columns\n",
    "                 names=['Items'], # 对列索引进行命名\n",
    "                )\n",
    "df.head()"
   ]
  },
  {
   "cell_type": "markdown",
   "metadata": {},
   "source": [
    "# 数据预处理"
   ]
  },
  {
   "cell_type": "code",
   "execution_count": 3,
   "metadata": {},
   "outputs": [
    {
     "data": {
      "text/html": [
       "<div>\n",
       "<style scoped>\n",
       "    .dataframe tbody tr th:only-of-type {\n",
       "        vertical-align: middle;\n",
       "    }\n",
       "\n",
       "    .dataframe tbody tr th {\n",
       "        vertical-align: top;\n",
       "    }\n",
       "\n",
       "    .dataframe thead th {\n",
       "        text-align: right;\n",
       "    }\n",
       "</style>\n",
       "<table border=\"1\" class=\"dataframe\">\n",
       "  <thead>\n",
       "    <tr style=\"text-align: right;\">\n",
       "      <th></th>\n",
       "      <th>Items</th>\n",
       "    </tr>\n",
       "  </thead>\n",
       "  <tbody>\n",
       "    <tr>\n",
       "      <th>0</th>\n",
       "      <td>shrimp,almonds,avocado,vegetables mix,green gr...</td>\n",
       "    </tr>\n",
       "    <tr>\n",
       "      <th>1</th>\n",
       "      <td>burgers,meatballs,eggs</td>\n",
       "    </tr>\n",
       "    <tr>\n",
       "      <th>2</th>\n",
       "      <td>chutney</td>\n",
       "    </tr>\n",
       "    <tr>\n",
       "      <th>3</th>\n",
       "      <td>turkey,avocado</td>\n",
       "    </tr>\n",
       "    <tr>\n",
       "      <th>4</th>\n",
       "      <td>mineral water,milk,energy bar,whole wheat rice...</td>\n",
       "    </tr>\n",
       "    <tr>\n",
       "      <th>...</th>\n",
       "      <td>...</td>\n",
       "    </tr>\n",
       "    <tr>\n",
       "      <th>7496</th>\n",
       "      <td>butter,light mayo,fresh bread</td>\n",
       "    </tr>\n",
       "    <tr>\n",
       "      <th>7497</th>\n",
       "      <td>burgers,frozen vegetables,eggs,french fries,ma...</td>\n",
       "    </tr>\n",
       "    <tr>\n",
       "      <th>7498</th>\n",
       "      <td>chicken</td>\n",
       "    </tr>\n",
       "    <tr>\n",
       "      <th>7499</th>\n",
       "      <td>escalope,green tea</td>\n",
       "    </tr>\n",
       "    <tr>\n",
       "      <th>7500</th>\n",
       "      <td>eggs,frozen smoothie,yogurt cake,low fat yogurt</td>\n",
       "    </tr>\n",
       "  </tbody>\n",
       "</table>\n",
       "<p>7501 rows × 1 columns</p>\n",
       "</div>"
      ],
      "text/plain": [
       "                                                  Items\n",
       "0     shrimp,almonds,avocado,vegetables mix,green gr...\n",
       "1                                burgers,meatballs,eggs\n",
       "2                                               chutney\n",
       "3                                        turkey,avocado\n",
       "4     mineral water,milk,energy bar,whole wheat rice...\n",
       "...                                                 ...\n",
       "7496                      butter,light mayo,fresh bread\n",
       "7497  burgers,frozen vegetables,eggs,french fries,ma...\n",
       "7498                                            chicken\n",
       "7499                                 escalope,green tea\n",
       "7500    eggs,frozen smoothie,yogurt cake,low fat yogurt\n",
       "\n",
       "[7501 rows x 1 columns]"
      ]
     },
     "execution_count": 3,
     "metadata": {},
     "output_type": "execute_result"
    }
   ],
   "source": [
    "# 将逗号分隔符后面的空格替换掉\n",
    "df['Items'] = df['Items'].str.replace(', ', ',')\n",
    "df"
   ]
  },
  {
   "cell_type": "code",
   "execution_count": 4,
   "metadata": {
    "scrolled": false
   },
   "outputs": [
    {
     "data": {
      "text/html": [
       "<div>\n",
       "<style scoped>\n",
       "    .dataframe tbody tr th:only-of-type {\n",
       "        vertical-align: middle;\n",
       "    }\n",
       "\n",
       "    .dataframe tbody tr th {\n",
       "        vertical-align: top;\n",
       "    }\n",
       "\n",
       "    .dataframe thead th {\n",
       "        text-align: right;\n",
       "    }\n",
       "</style>\n",
       "<table border=\"1\" class=\"dataframe\">\n",
       "  <thead>\n",
       "    <tr style=\"text-align: right;\">\n",
       "      <th></th>\n",
       "      <th>Items</th>\n",
       "    </tr>\n",
       "  </thead>\n",
       "  <tbody>\n",
       "    <tr>\n",
       "      <th>0</th>\n",
       "      <td>shrimp,almonds,avocado,vegetables_mix,green_gr...</td>\n",
       "    </tr>\n",
       "    <tr>\n",
       "      <th>1</th>\n",
       "      <td>burgers,meatballs,eggs</td>\n",
       "    </tr>\n",
       "  </tbody>\n",
       "</table>\n",
       "</div>"
      ],
      "text/plain": [
       "                                               Items\n",
       "0  shrimp,almonds,avocado,vegetables_mix,green_gr...\n",
       "1                             burgers,meatballs,eggs"
      ]
     },
     "execution_count": 4,
     "metadata": {},
     "output_type": "execute_result"
    }
   ],
   "source": [
    "# 将以空格分开的商品名称用下划线连接在一起，如：green grapes -> green_grapes\n",
    "df['Items'] = df['Items'].str.replace(' ', '_')\n",
    "\n",
    "df.head(2)"
   ]
  },
  {
   "cell_type": "code",
   "execution_count": 5,
   "metadata": {
    "scrolled": true
   },
   "outputs": [
    {
     "data": {
      "text/plain": [
       "0       False\n",
       "1       False\n",
       "2       False\n",
       "3       False\n",
       "4       False\n",
       "        ...  \n",
       "7496    False\n",
       "7497    False\n",
       "7498    False\n",
       "7499    False\n",
       "7500    False\n",
       "Name: Items, Length: 7501, dtype: bool"
      ]
     },
     "execution_count": 5,
     "metadata": {},
     "output_type": "execute_result"
    }
   ],
   "source": [
    "# 练习str.contains()方法，确认下是否还包含空格\n",
    "df['Items'].str.contains(pat=' ')"
   ]
  },
  {
   "cell_type": "code",
   "execution_count": 6,
   "metadata": {},
   "outputs": [
    {
     "data": {
      "text/plain": [
       "0"
      ]
     },
     "execution_count": 6,
     "metadata": {},
     "output_type": "execute_result"
    }
   ],
   "source": [
    "# 如果有空格，统计下包含空格的样本数\n",
    "df['Items'].str.contains(pat=' ').sum()"
   ]
  },
  {
   "cell_type": "code",
   "execution_count": 7,
   "metadata": {},
   "outputs": [
    {
     "data": {
      "text/html": [
       "<div>\n",
       "<style scoped>\n",
       "    .dataframe tbody tr th:only-of-type {\n",
       "        vertical-align: middle;\n",
       "    }\n",
       "\n",
       "    .dataframe tbody tr th {\n",
       "        vertical-align: top;\n",
       "    }\n",
       "\n",
       "    .dataframe thead th {\n",
       "        text-align: right;\n",
       "    }\n",
       "</style>\n",
       "<table border=\"1\" class=\"dataframe\">\n",
       "  <thead>\n",
       "    <tr style=\"text-align: right;\">\n",
       "      <th></th>\n",
       "      <th>Items</th>\n",
       "    </tr>\n",
       "  </thead>\n",
       "  <tbody>\n",
       "    <tr>\n",
       "      <th>0</th>\n",
       "      <td>shrimp almonds avocado vegetables_mix green_gr...</td>\n",
       "    </tr>\n",
       "    <tr>\n",
       "      <th>1</th>\n",
       "      <td>burgers meatballs eggs</td>\n",
       "    </tr>\n",
       "  </tbody>\n",
       "</table>\n",
       "</div>"
      ],
      "text/plain": [
       "                                               Items\n",
       "0  shrimp almonds avocado vegetables_mix green_gr...\n",
       "1                             burgers meatballs eggs"
      ]
     },
     "execution_count": 7,
     "metadata": {},
     "output_type": "execute_result"
    }
   ],
   "source": [
    "# 将逗号分隔符替换为空格分隔符，因为词云是用空格分词\n",
    "df['Items'] = df['Items'].str.replace(',', ' ')\n",
    "df.head(2)"
   ]
  },
  {
   "cell_type": "code",
   "execution_count": 8,
   "metadata": {},
   "outputs": [],
   "source": [
    "# 将每一行的字符串拼接成一个大字符串，空格隔开\n",
    "# 因为词云会根据空格分词统计，所以将字符串中的逗号用空格隔开\n",
    "\n",
    "text = df['Items'].str.cat(sep=' ')"
   ]
  },
  {
   "cell_type": "code",
   "execution_count": 9,
   "metadata": {},
   "outputs": [
    {
     "data": {
      "text/plain": [
       "'shrimp almonds avocado vegetables_mix green_grapes whole_weat_flour yams cottage_cheese energy_drink'"
      ]
     },
     "execution_count": 9,
     "metadata": {},
     "output_type": "execute_result"
    }
   ],
   "source": [
    "text[:100]"
   ]
  },
  {
   "cell_type": "markdown",
   "metadata": {},
   "source": [
    "# 绘制100个商品的词云图"
   ]
  },
  {
   "cell_type": "markdown",
   "metadata": {},
   "source": [
    "## 生成词云实例\n",
    "---\n",
    "指定词云图宽度和高度，以及最大单词数"
   ]
  },
  {
   "cell_type": "code",
   "execution_count": 10,
   "metadata": {},
   "outputs": [],
   "source": [
    "mask_img = Image.open('./data/购物车.jpg')"
   ]
  },
  {
   "cell_type": "code",
   "execution_count": 11,
   "metadata": {},
   "outputs": [
    {
     "data": {
      "text/plain": [
       "'RGB'"
      ]
     },
     "execution_count": 11,
     "metadata": {},
     "output_type": "execute_result"
    }
   ],
   "source": [
    "mask_img.mode"
   ]
  },
  {
   "cell_type": "code",
   "execution_count": 12,
   "metadata": {},
   "outputs": [],
   "source": [
    "mask = np.array(mask_img)"
   ]
  },
  {
   "cell_type": "code",
   "execution_count": 13,
   "metadata": {},
   "outputs": [
    {
     "data": {
      "text/plain": [
       "(1000, 800, 3)"
      ]
     },
     "execution_count": 13,
     "metadata": {},
     "output_type": "execute_result"
    }
   ],
   "source": [
    "mask.shape"
   ]
  },
  {
   "cell_type": "code",
   "execution_count": 14,
   "metadata": {},
   "outputs": [],
   "source": [
    "# 定义颜色函数，参数依次为：单词、字体大小、位置、朝向、字体路径、随机状态\n",
    "# hsl指：HSL色彩模式：\n",
    "# H: Hue 色相，取值范围是0°到360°的圆心角。基本参照:360°/0°红、60°黄、120°绿、180°青、240°蓝、300°洋红。\n",
    "# S:Saturation 饱和度，用0%~100%的值描述了相同色相、亮度下色彩纯度的变化。值越大，颜色中的灰色越少，颜色越鲜艳。\n",
    "# L :Lightness 亮度，0%~100%的值。数值越小，色彩越暗，越接近于黑色;数值越大，色彩越亮，越接近于白色。\n",
    "\n",
    "# def random_color(word, font_size, position, orientation, font_path, random_state):\n",
    "#     s = 'hsl(3, %d%%,%d%%)' % (random.randint(30, 100), random.randint(30, 80))\n",
    "# #     print(s)\n",
    "#     return s\n"
   ]
  },
  {
   "cell_type": "code",
   "execution_count": 15,
   "metadata": {},
   "outputs": [],
   "source": [
    "wc = WordCloud(\n",
    "#     width=1000, \n",
    "#     height=1000, \n",
    "    max_words=100, \n",
    "    collocations=False, \n",
    "    mask=mask,  # 蒙版\n",
    "    background_color='white',  # 背景色-白色 \n",
    "    mode='RGB',\n",
    "    max_font_size=150,\n",
    "#     color_func=random_color\n",
    "              )"
   ]
  },
  {
   "cell_type": "markdown",
   "metadata": {},
   "source": [
    "## 向WordCloud对象中加载文本txt"
   ]
  },
  {
   "cell_type": "code",
   "execution_count": 16,
   "metadata": {},
   "outputs": [],
   "source": [
    "img = wc.generate(text)"
   ]
  },
  {
   "cell_type": "code",
   "execution_count": 17,
   "metadata": {
    "scrolled": true
   },
   "outputs": [
    {
     "data": {
      "text/plain": [
       "wordcloud.wordcloud.WordCloud"
      ]
     },
     "execution_count": 17,
     "metadata": {},
     "output_type": "execute_result"
    }
   ],
   "source": [
    "type(img)"
   ]
  },
  {
   "cell_type": "code",
   "execution_count": 18,
   "metadata": {},
   "outputs": [],
   "source": [
    "# # 从图片中生成颜色\n",
    "# image_colors = ImageColorGenerator(mask)\n",
    "# wc.recolor(color_func=image_colors)"
   ]
  },
  {
   "cell_type": "markdown",
   "metadata": {},
   "source": [
    "## 可视化词云图"
   ]
  },
  {
   "cell_type": "code",
   "execution_count": 19,
   "metadata": {
    "scrolled": false
   },
   "outputs": [
    {
     "data": {
      "image/png": "[encoded data removed]",
      "text/plain": [
       "<Figure size 1440x576 with 1 Axes>"
      ]
     },
     "metadata": {
      "needs_background": "light"
     },
     "output_type": "display_data"
    }
   ],
   "source": [
    "plt.figure(figsize=(20, 8))\n",
    "plt.imshow(img, interpolation='bilinear')\n",
    "plt.axis('off')\n",
    "plt.show()"
   ]
  },
  {
   "cell_type": "code",
   "execution_count": 20,
   "metadata": {
    "scrolled": true
   },
   "outputs": [
    {
     "data": {
      "text/plain": [
       "{'mineral_water': 1.0,\n",
       " 'eggs': 0.7539149888143176,\n",
       " 'spaghetti': 0.7304250559284117,\n",
       " 'french_fries': 0.7170022371364653,\n",
       " 'chocolate': 0.6879194630872483,\n",
       " 'green_tea': 0.5542505592841164,\n",
       " 'milk': 0.5436241610738255,\n",
       " 'ground_beef': 0.4121923937360179,\n",
       " 'frozen_vegetables': 0.39988814317673377,\n",
       " 'pancakes': 0.3987695749440716,\n",
       " 'burgers': 0.36577181208053694,\n",
       " 'cake': 0.3400447427293065,\n",
       " 'cookies': 0.337248322147651,\n",
       " 'escalope': 0.3327740492170022,\n",
       " 'low_fat_yogurt': 0.32102908277404923,\n",
       " 'shrimp': 0.29977628635346754,\n",
       " 'tomatoes': 0.28691275167785235,\n",
       " 'olive_oil': 0.27628635346756153,\n",
       " 'frozen_smoothie': 0.2656599552572707,\n",
       " 'turkey': 0.26230425055928414,\n",
       " 'chicken': 0.2516778523489933,\n",
       " 'whole_wheat_rice': 0.24552572706935122,\n",
       " 'grated_cheese': 0.2197986577181208,\n",
       " 'cooking_oil': 0.21420581655480983,\n",
       " 'soup': 0.21196868008948547,\n",
       " 'herb_': 0.20749440715883669,\n",
       " '_pepper': 0.20749440715883669,\n",
       " 'honey': 0.19910514541387025,\n",
       " 'champagne': 0.19630872483221476,\n",
       " 'fresh_bread': 0.18064876957494408,\n",
       " 'salmon': 0.1784116331096197,\n",
       " 'brownies': 0.14149888143176734,\n",
       " 'avocado': 0.13982102908277405,\n",
       " 'hot_dogs': 0.13590604026845637,\n",
       " 'cottage_cheese': 0.13366890380313198,\n",
       " 'tomato_juice': 0.12751677852348994,\n",
       " 'butter': 0.12639821029082773,\n",
       " 'whole_wheat_pasta': 0.12360178970917227,\n",
       " 'red_wine': 0.1180089485458613,\n",
       " 'yogurt_cake': 0.11465324384787472,\n",
       " 'light_mayo': 0.11409395973154363,\n",
       " 'energy_bar': 0.11353467561521252,\n",
       " 'ham': 0.11353467561521252,\n",
       " 'energy_drink': 0.11185682326621924,\n",
       " 'pepper': 0.11129753914988814,\n",
       " 'vegetables_mix': 0.10794183445190157,\n",
       " 'cereals': 0.10794183445190157,\n",
       " 'muffins': 0.10123042505592841,\n",
       " 'oil': 0.09675615212527965,\n",
       " 'french_wine': 0.09451901565995526,\n",
       " 'fresh_tuna': 0.09340044742729306,\n",
       " 'strawberries': 0.0894854586129754,\n",
       " 'meatballs': 0.0878076062639821,\n",
       " 'almonds': 0.08557046979865772,\n",
       " 'parmesan_cheese': 0.08333333333333333,\n",
       " 'mushroom_cream_sauce': 0.07997762863534676,\n",
       " 'rice': 0.07885906040268456,\n",
       " 'protein_bar': 0.07774049217002237,\n",
       " 'mint': 0.0732662192393736,\n",
       " 'white_wine': 0.06935123042505593,\n",
       " 'pasta': 0.06599552572706935,\n",
       " 'light_cream': 0.06543624161073826,\n",
       " 'carrots': 0.06431767337807606,\n",
       " 'black_tea': 0.059843400447427295,\n",
       " 'tomato_sauce': 0.0592841163310962,\n",
       " 'fromage_blanc': 0.05704697986577181,\n",
       " 'gums': 0.056487695749440715,\n",
       " 'eggplant': 0.05536912751677853,\n",
       " 'extra_dark_chocolate': 0.050335570469798654,\n",
       " 'melons': 0.050335570469798654,\n",
       " 'yams': 0.04809843400447427,\n",
       " 'body_spray': 0.04809843400447427,\n",
       " 'magazines': 0.04586129753914989,\n",
       " 'barbecue_sauce': 0.04530201342281879,\n",
       " 'cider': 0.0441834451901566,\n",
       " 'nonfat_milk': 0.0436241610738255,\n",
       " 'candy_bars': 0.04082774049217002,\n",
       " 'zucchini': 0.03970917225950783,\n",
       " 'whole_weat_flour': 0.039149888143176735,\n",
       " 'salt': 0.03859060402684564,\n",
       " 'blueberries': 0.03859060402684564,\n",
       " 'green_grapes': 0.03803131991051454,\n",
       " 'flax_seed': 0.03803131991051454,\n",
       " 'antioxydant_juice': 0.03747203579418344,\n",
       " 'bug_spray': 0.036353467561521254,\n",
       " 'bacon': 0.036353467561521254,\n",
       " 'green_beans': 0.036353467561521254,\n",
       " 'clothes_accessories': 0.03523489932885906,\n",
       " 'toothpaste': 0.03411633109619687,\n",
       " 'shallot': 0.03243847874720358,\n",
       " 'strong_cheese': 0.03243847874720358,\n",
       " 'spinach': 0.0296420581655481,\n",
       " 'gluten_free_bar': 0.029082774049217,\n",
       " 'pet_food': 0.027404921700223715,\n",
       " 'sparkling_water': 0.026286353467561523,\n",
       " 'soda': 0.026286353467561523,\n",
       " 'mayonnaise': 0.025727069351230425,\n",
       " 'chili': 0.025727069351230425,\n",
       " 'pickles': 0.025167785234899327,\n",
       " 'burger_sauce': 0.024608501118568233}"
      ]
     },
     "execution_count": 20,
     "metadata": {},
     "output_type": "execute_result"
    }
   ],
   "source": [
    "wc.words_  #  某单词频数 / 其中最大频数 的结果："
   ]
  },
  {
   "cell_type": "markdown",
   "metadata": {},
   "source": [
    "关于词云words_属性的计算，见4.3节的计算过程"
   ]
  },
  {
   "cell_type": "code",
   "execution_count": 21,
   "metadata": {},
   "outputs": [
    {
     "data": {
      "text/plain": [
       "100"
      ]
     },
     "execution_count": 21,
     "metadata": {},
     "output_type": "execute_result"
    }
   ],
   "source": [
    "len(wc.words_) # 100个词，因为我们设置了词云最多显示前100个词"
   ]
  },
  {
   "cell_type": "markdown",
   "metadata": {},
   "source": [
    "## 保存词云图到本地"
   ]
  },
  {
   "cell_type": "code",
   "execution_count": 22,
   "metadata": {},
   "outputs": [
    {
     "data": {
      "text/plain": [
       "<wordcloud.wordcloud.WordCloud at 0x7efeb8881a90>"
      ]
     },
     "execution_count": 22,
     "metadata": {},
     "output_type": "execute_result"
    }
   ],
   "source": [
    "wc.to_file('./masket_wordcloud1.png')"
   ]
  },
  {
   "cell_type": "markdown",
   "metadata": {},
   "source": [
    "## seaborn 绘制频率分布直方图"
   ]
  },
  {
   "cell_type": "code",
   "execution_count": 23,
   "metadata": {},
   "outputs": [
    {
     "data": {
      "text/html": [
       "<div>\n",
       "<style scoped>\n",
       "    .dataframe tbody tr th:only-of-type {\n",
       "        vertical-align: middle;\n",
       "    }\n",
       "\n",
       "    .dataframe tbody tr th {\n",
       "        vertical-align: top;\n",
       "    }\n",
       "\n",
       "    .dataframe thead th {\n",
       "        text-align: right;\n",
       "    }\n",
       "</style>\n",
       "<table border=\"1\" class=\"dataframe\">\n",
       "  <thead>\n",
       "    <tr style=\"text-align: right;\">\n",
       "      <th></th>\n",
       "      <th>Items</th>\n",
       "    </tr>\n",
       "  </thead>\n",
       "  <tbody>\n",
       "    <tr>\n",
       "      <th>0</th>\n",
       "      <td>shrimp almonds avocado vegetables_mix green_gr...</td>\n",
       "    </tr>\n",
       "    <tr>\n",
       "      <th>1</th>\n",
       "      <td>burgers meatballs eggs</td>\n",
       "    </tr>\n",
       "  </tbody>\n",
       "</table>\n",
       "</div>"
      ],
      "text/plain": [
       "                                               Items\n",
       "0  shrimp almonds avocado vegetables_mix green_gr...\n",
       "1                             burgers meatballs eggs"
      ]
     },
     "execution_count": 23,
     "metadata": {},
     "output_type": "execute_result"
    }
   ],
   "source": [
    "# 原DataFrame\n",
    "df.head(2)"
   ]
  },
  {
   "cell_type": "code",
   "execution_count": 24,
   "metadata": {},
   "outputs": [],
   "source": [
    "one_hot_df = df['Items'].str.get_dummies(sep=' ')"
   ]
  },
  {
   "cell_type": "code",
   "execution_count": 25,
   "metadata": {},
   "outputs": [
    {
     "data": {
      "text/plain": [
       "1"
      ]
     },
     "execution_count": 25,
     "metadata": {},
     "output_type": "execute_result"
    }
   ],
   "source": [
    "one_hot_df.max(axis=0).max()"
   ]
  },
  {
   "cell_type": "code",
   "execution_count": 26,
   "metadata": {
    "scrolled": true
   },
   "outputs": [
    {
     "data": {
      "text/html": [
       "<div>\n",
       "<style scoped>\n",
       "    .dataframe tbody tr th:only-of-type {\n",
       "        vertical-align: middle;\n",
       "    }\n",
       "\n",
       "    .dataframe tbody tr th {\n",
       "        vertical-align: top;\n",
       "    }\n",
       "\n",
       "    .dataframe thead th {\n",
       "        text-align: right;\n",
       "    }\n",
       "</style>\n",
       "<table border=\"1\" class=\"dataframe\">\n",
       "  <thead>\n",
       "    <tr style=\"text-align: right;\">\n",
       "      <th></th>\n",
       "      <th>almonds</th>\n",
       "      <th>antioxydant_juice</th>\n",
       "      <th>asparagus</th>\n",
       "      <th>avocado</th>\n",
       "      <th>babies_food</th>\n",
       "      <th>bacon</th>\n",
       "      <th>barbecue_sauce</th>\n",
       "      <th>black_tea</th>\n",
       "      <th>blueberries</th>\n",
       "      <th>body_spray</th>\n",
       "      <th>...</th>\n",
       "      <th>turkey</th>\n",
       "      <th>vegetables_mix</th>\n",
       "      <th>water_spray</th>\n",
       "      <th>white_wine</th>\n",
       "      <th>whole_weat_flour</th>\n",
       "      <th>whole_wheat_pasta</th>\n",
       "      <th>whole_wheat_rice</th>\n",
       "      <th>yams</th>\n",
       "      <th>yogurt_cake</th>\n",
       "      <th>zucchini</th>\n",
       "    </tr>\n",
       "  </thead>\n",
       "  <tbody>\n",
       "    <tr>\n",
       "      <th>0</th>\n",
       "      <td>1</td>\n",
       "      <td>1</td>\n",
       "      <td>0</td>\n",
       "      <td>1</td>\n",
       "      <td>0</td>\n",
       "      <td>0</td>\n",
       "      <td>0</td>\n",
       "      <td>0</td>\n",
       "      <td>0</td>\n",
       "      <td>0</td>\n",
       "      <td>...</td>\n",
       "      <td>0</td>\n",
       "      <td>1</td>\n",
       "      <td>0</td>\n",
       "      <td>0</td>\n",
       "      <td>1</td>\n",
       "      <td>0</td>\n",
       "      <td>0</td>\n",
       "      <td>1</td>\n",
       "      <td>0</td>\n",
       "      <td>0</td>\n",
       "    </tr>\n",
       "    <tr>\n",
       "      <th>1</th>\n",
       "      <td>0</td>\n",
       "      <td>0</td>\n",
       "      <td>0</td>\n",
       "      <td>0</td>\n",
       "      <td>0</td>\n",
       "      <td>0</td>\n",
       "      <td>0</td>\n",
       "      <td>0</td>\n",
       "      <td>0</td>\n",
       "      <td>0</td>\n",
       "      <td>...</td>\n",
       "      <td>0</td>\n",
       "      <td>0</td>\n",
       "      <td>0</td>\n",
       "      <td>0</td>\n",
       "      <td>0</td>\n",
       "      <td>0</td>\n",
       "      <td>0</td>\n",
       "      <td>0</td>\n",
       "      <td>0</td>\n",
       "      <td>0</td>\n",
       "    </tr>\n",
       "  </tbody>\n",
       "</table>\n",
       "<p>2 rows × 119 columns</p>\n",
       "</div>"
      ],
      "text/plain": [
       "   almonds  antioxydant_juice  asparagus  avocado  babies_food  bacon  \\\n",
       "0        1                  1          0        1            0      0   \n",
       "1        0                  0          0        0            0      0   \n",
       "\n",
       "   barbecue_sauce  black_tea  blueberries  body_spray  ...  turkey  \\\n",
       "0               0          0            0           0  ...       0   \n",
       "1               0          0            0           0  ...       0   \n",
       "\n",
       "   vegetables_mix  water_spray  white_wine  whole_weat_flour  \\\n",
       "0               1            0           0                 1   \n",
       "1               0            0           0                 0   \n",
       "\n",
       "   whole_wheat_pasta  whole_wheat_rice  yams  yogurt_cake  zucchini  \n",
       "0                  0                 0     1            0         0  \n",
       "1                  0                 0     0            0         0  \n",
       "\n",
       "[2 rows x 119 columns]"
      ]
     },
     "execution_count": 26,
     "metadata": {},
     "output_type": "execute_result"
    }
   ],
   "source": [
    "one_hot_df.head(2)"
   ]
  },
  {
   "cell_type": "code",
   "execution_count": 27,
   "metadata": {},
   "outputs": [
    {
     "data": {
      "text/plain": [
       "Index(['almonds', 'antioxydant_juice', 'asparagus', 'avocado', 'babies_food',\n",
       "       'bacon', 'barbecue_sauce', 'black_tea', 'blueberries', 'body_spray',\n",
       "       ...\n",
       "       'turkey', 'vegetables_mix', 'water_spray', 'white_wine',\n",
       "       'whole_weat_flour', 'whole_wheat_pasta', 'whole_wheat_rice', 'yams',\n",
       "       'yogurt_cake', 'zucchini'],\n",
       "      dtype='object', length=119)"
      ]
     },
     "execution_count": 27,
     "metadata": {},
     "output_type": "execute_result"
    }
   ],
   "source": [
    "one_hot_df.columns"
   ]
  },
  {
   "cell_type": "code",
   "execution_count": 28,
   "metadata": {},
   "outputs": [
    {
     "data": {
      "text/plain": [
       "almonds              153\n",
       "antioxydant_juice     67\n",
       "asparagus             36\n",
       "avocado              250\n",
       "babies_food           34\n",
       "                    ... \n",
       "whole_wheat_pasta    221\n",
       "whole_wheat_rice     439\n",
       "yams                  86\n",
       "yogurt_cake          205\n",
       "zucchini              71\n",
       "Length: 119, dtype: int64"
      ]
     },
     "execution_count": 28,
     "metadata": {},
     "output_type": "execute_result"
    }
   ],
   "source": [
    "#  one-hot编码后的DataFrame统计的每个商品出现的词频数\n",
    "\n",
    "freqs = one_hot_df.sum(axis=0)\n",
    "\n",
    "freqs"
   ]
  },
  {
   "cell_type": "code",
   "execution_count": 29,
   "metadata": {},
   "outputs": [],
   "source": [
    "import seaborn as sns"
   ]
  },
  {
   "cell_type": "code",
   "execution_count": 30,
   "metadata": {},
   "outputs": [
    {
     "data": {
      "image/png": "[encoded data removed]",
      "text/plain": [
       "<Figure size 432x288 with 1 Axes>"
      ]
     },
     "metadata": {
      "needs_background": "light"
     },
     "output_type": "display_data"
    }
   ],
   "source": [
    "sns.distplot(freqs)\n",
    "\n",
    "plt.title(\"各商品出现频率分布直方图\", fontsize=25)\n",
    "plt.xlabel(\"出现次数\", fontsize=15)\n",
    "plt.ylabel(\"频率/间距\", fontsize=15)\n",
    "\n",
    "plt.show()"
   ]
  },
  {
   "cell_type": "markdown",
   "metadata": {},
   "source": [
    "## seaborn 绘制单变量不重叠分类散点图\n",
    "---\n",
    "散点的集中程度也可以反映分布情况"
   ]
  },
  {
   "cell_type": "code",
   "execution_count": 31,
   "metadata": {
    "scrolled": true
   },
   "outputs": [
    {
     "data": {
      "image/png": "[encoded data removed]",
      "text/plain": [
       "<Figure size 432x288 with 1 Axes>"
      ]
     },
     "metadata": {},
     "output_type": "display_data"
    }
   ],
   "source": [
    "sns.set(style=\"whitegrid\")\n",
    "sns.swarmplot(x=one_hot_df.sum(axis=0))\n",
    "plt.show()"
   ]
  },
  {
   "cell_type": "markdown",
   "metadata": {
    "scrolled": true
   },
   "source": [
    "**从3.5的分布图看，多数商品出现次数在250以内。3.6的不重叠分类散点图进一步印证了这一点。同时在3.6中，由于散点图的点是不重叠的，所以一个点代表一条数据，可以看出，TOP10的商品出现次数应该在700以上。在7501笔订单中多数商品销量只有不到25次，说明待提升空间高。**"
   ]
  },
  {
   "cell_type": "markdown",
   "metadata": {},
   "source": [
    "# 统计前10商品"
   ]
  },
  {
   "cell_type": "markdown",
   "metadata": {},
   "source": [
    "## 用词云统计商品频数"
   ]
  },
  {
   "cell_type": "code",
   "execution_count": 32,
   "metadata": {},
   "outputs": [],
   "source": [
    "# 将一长段文本切片成单词，并去除stopwords。返回单词（words）和其出现次数的字典格式\n",
    "result = wc.process_text(text)"
   ]
  },
  {
   "cell_type": "code",
   "execution_count": 33,
   "metadata": {
    "scrolled": true
   },
   "outputs": [
    {
     "data": {
      "text/plain": [
       "[('shrimp', 536),\n",
       " ('almonds', 153),\n",
       " ('avocado', 250),\n",
       " ('vegetables_mix', 193),\n",
       " ('green_grapes', 68)]"
      ]
     },
     "execution_count": 33,
     "metadata": {},
     "output_type": "execute_result"
    }
   ],
   "source": [
    "list(result.items())[:5]"
   ]
  },
  {
   "cell_type": "code",
   "execution_count": 34,
   "metadata": {},
   "outputs": [
    {
     "data": {
      "text/plain": [
       "120"
      ]
     },
     "execution_count": 34,
     "metadata": {},
     "output_type": "execute_result"
    }
   ],
   "source": [
    "len(result)  # 多出一个商品的原因见4.4"
   ]
  },
  {
   "cell_type": "markdown",
   "metadata": {},
   "source": [
    "## 将top10结果降序排序"
   ]
  },
  {
   "cell_type": "code",
   "execution_count": 35,
   "metadata": {},
   "outputs": [],
   "source": [
    "# 按照值降序排序\n",
    "result = sorted(result.items(), key=lambda d : d[1], reverse=True)"
   ]
  },
  {
   "cell_type": "code",
   "execution_count": 36,
   "metadata": {
    "scrolled": false
   },
   "outputs": [
    {
     "data": {
      "text/plain": [
       "[('mineral_water', 1788),\n",
       " ('eggs', 1348),\n",
       " ('spaghetti', 1306),\n",
       " ('french_fries', 1282),\n",
       " ('chocolate', 1230),\n",
       " ('green_tea', 991),\n",
       " ('milk', 972),\n",
       " ('ground_beef', 737),\n",
       " ('frozen_vegetables', 715),\n",
       " ('pancakes', 713)]"
      ]
     },
     "execution_count": 36,
     "metadata": {},
     "output_type": "execute_result"
    }
   ],
   "source": [
    "result[:10]"
   ]
  },
  {
   "cell_type": "markdown",
   "metadata": {},
   "source": [
    "---\n",
    "**印证了根据3.6得出的top10商品的出现次数均高于700次的猜测**\n",
    "\n",
    "---"
   ]
  },
  {
   "cell_type": "markdown",
   "metadata": {},
   "source": [
    "## 根据频数生成前十商品的词云图 "
   ]
  },
  {
   "cell_type": "code",
   "execution_count": 37,
   "metadata": {},
   "outputs": [],
   "source": [
    "wc2 = WordCloud(background_color='black')"
   ]
  },
  {
   "cell_type": "code",
   "execution_count": 38,
   "metadata": {},
   "outputs": [],
   "source": [
    "# frequencies参数的值需要是字典\n",
    "freq_img = wc2.generate_from_frequencies(dict(result[:10]))"
   ]
  },
  {
   "cell_type": "code",
   "execution_count": 39,
   "metadata": {
    "scrolled": true
   },
   "outputs": [
    {
     "data": {
      "text/plain": [
       "{'mineral_water': 1.0,\n",
       " 'eggs': 0.7539149888143176,\n",
       " 'spaghetti': 0.7304250559284117,\n",
       " 'french_fries': 0.7170022371364653,\n",
       " 'chocolate': 0.6879194630872483,\n",
       " 'green_tea': 0.5542505592841164,\n",
       " 'milk': 0.5436241610738255,\n",
       " 'ground_beef': 0.4121923937360179,\n",
       " 'frozen_vegetables': 0.39988814317673377,\n",
       " 'pancakes': 0.3987695749440716}"
      ]
     },
     "execution_count": 39,
     "metadata": {},
     "output_type": "execute_result"
    }
   ],
   "source": [
    "wc2.words_ # 某单词频数 / 其中的最大频数(即：top1的词频数)"
   ]
  },
  {
   "cell_type": "code",
   "execution_count": 40,
   "metadata": {},
   "outputs": [
    {
     "name": "stdout",
     "output_type": "stream",
     "text": [
      "mineral_water_freq: 1788\n",
      "eggs_freq: 1348\n"
     ]
    },
    {
     "data": {
      "text/plain": [
       "0.7539149888143176"
      ]
     },
     "execution_count": 40,
     "metadata": {},
     "output_type": "execute_result"
    }
   ],
   "source": [
    "mineral_water_freq = result[0][1]\n",
    "eggs_freq = result[1][1]\n",
    "print('mineral_water_freq:', mineral_water_freq)\n",
    "print('eggs_freq:', eggs_freq)\n",
    "eggs_freq / mineral_water_freq"
   ]
  },
  {
   "cell_type": "code",
   "execution_count": 41,
   "metadata": {},
   "outputs": [
    {
     "data": {
      "image/png": "[encoded data removed]",
      "text/plain": [
       "<Figure size 1080x576 with 1 Axes>"
      ]
     },
     "metadata": {},
     "output_type": "display_data"
    }
   ],
   "source": [
    "plt.figure(figsize=(15, 8))\n",
    "plt.imshow(freq_img)\n",
    "plt.axis('off')\n",
    "plt.show()"
   ]
  },
  {
   "cell_type": "markdown",
   "metadata": {},
   "source": [
    "## 校验词云生成的频数是否正确"
   ]
  },
  {
   "cell_type": "code",
   "execution_count": 42,
   "metadata": {},
   "outputs": [],
   "source": [
    "# 将ohe-hot编码的df统计的频数结果降序排序\n",
    "freqs = freqs.sort_values(ascending=False)"
   ]
  },
  {
   "cell_type": "code",
   "execution_count": 43,
   "metadata": {},
   "outputs": [
    {
     "data": {
      "text/plain": [
       "mineral_water        1788\n",
       "eggs                 1348\n",
       "spaghetti            1306\n",
       "french_fries         1282\n",
       "chocolate            1229\n",
       "green_tea             991\n",
       "milk                  972\n",
       "ground_beef           737\n",
       "frozen_vegetables     715\n",
       "pancakes              713\n",
       "dtype: int64"
      ]
     },
     "execution_count": 43,
     "metadata": {},
     "output_type": "execute_result"
    }
   ],
   "source": [
    "freqs[:10]"
   ]
  },
  {
   "cell_type": "markdown",
   "metadata": {},
   "source": [
    "chocolate词云的比df统计的多一次"
   ]
  },
  {
   "cell_type": "markdown",
   "metadata": {},
   "source": [
    "### freqs商品数119，result商品数120原因："
   ]
  },
  {
   "cell_type": "code",
   "execution_count": 44,
   "metadata": {
    "scrolled": true
   },
   "outputs": [
    {
     "data": {
      "text/plain": [
       "(119,)"
      ]
     },
     "execution_count": 44,
     "metadata": {},
     "output_type": "execute_result"
    }
   ],
   "source": [
    "freqs.shape  "
   ]
  },
  {
   "cell_type": "code",
   "execution_count": 45,
   "metadata": {},
   "outputs": [
    {
     "data": {
      "text/plain": [
       "120"
      ]
     },
     "execution_count": 45,
     "metadata": {},
     "output_type": "execute_result"
    }
   ],
   "source": [
    "len(result)"
   ]
  },
  {
   "cell_type": "code",
   "execution_count": 46,
   "metadata": {},
   "outputs": [
    {
     "name": "stdout",
     "output_type": "stream",
     "text": [
      "('herb_', 371)\n",
      "('_pepper', 371)\n"
     ]
    }
   ],
   "source": [
    "for r in result:\n",
    "    if r[0] not in freqs.index:\n",
    "        print(r)"
   ]
  },
  {
   "cell_type": "code",
   "execution_count": 47,
   "metadata": {},
   "outputs": [
    {
     "data": {
      "text/plain": [
       "371"
      ]
     },
     "execution_count": 47,
     "metadata": {},
     "output_type": "execute_result"
    }
   ],
   "source": [
    "one_hot_df['herb_&_pepper'].sum()"
   ]
  },
  {
   "cell_type": "markdown",
   "metadata": {},
   "source": [
    "<font color='red'>**4.4结论：从前面4个代码块来看，词云把`&`符号当做分隔符进行了单词分割。所以词云得到的结果中商品数多了一个。**<font/>"
   ]
  },
  {
   "cell_type": "markdown",
   "metadata": {},
   "source": [
    "### 绘制TOP10商品出现次数条形图"
   ]
  },
  {
   "cell_type": "code",
   "execution_count": 48,
   "metadata": {},
   "outputs": [
    {
     "data": {
      "image/png": "[encoded data removed]",
      "text/plain": [
       "<Figure size 1080x576 with 1 Axes>"
      ]
     },
     "metadata": {},
     "output_type": "display_data"
    }
   ],
   "source": [
    "freqs[:10].plot(kind='bar', \n",
    "                rot=45,\n",
    "                color='cyan',\n",
    "                figsize=(15, 8),\n",
    "                fontsize=15\n",
    "               )\n",
    "plt.title(\"Top 10 Items's Bar\", fontsize=25, fontweight='heavy')\n",
    "plt.xlabel('Items', fontsize=15)\n",
    "plt.ylabel('Frequences', fontsize=15)\n",
    "plt.show()"
   ]
  },
  {
   "cell_type": "markdown",
   "metadata": {},
   "source": [
    "### 用Counter统计词频"
   ]
  },
  {
   "cell_type": "code",
   "execution_count": 49,
   "metadata": {},
   "outputs": [],
   "source": [
    "from collections import Counter"
   ]
  },
  {
   "cell_type": "code",
   "execution_count": 50,
   "metadata": {},
   "outputs": [
    {
     "data": {
      "text/plain": [
       "'shrimp almonds avocado vegetables_mix green_grapes whole_weat_flour yams cottage_cheese energy_drink'"
      ]
     },
     "execution_count": 50,
     "metadata": {},
     "output_type": "execute_result"
    }
   ],
   "source": [
    "text[:100]"
   ]
  },
  {
   "cell_type": "code",
   "execution_count": 51,
   "metadata": {},
   "outputs": [
    {
     "data": {
      "text/plain": [
       "'low_fat_yogurt'"
      ]
     },
     "execution_count": 51,
     "metadata": {},
     "output_type": "execute_result"
    }
   ],
   "source": [
    "all_words = text.split()\n",
    "all_words[10]"
   ]
  },
  {
   "cell_type": "code",
   "execution_count": 52,
   "metadata": {
    "scrolled": true
   },
   "outputs": [
    {
     "data": {
      "text/plain": [
       "119"
      ]
     },
     "execution_count": 52,
     "metadata": {},
     "output_type": "execute_result"
    }
   ],
   "source": [
    "len(set(all_words))"
   ]
  },
  {
   "cell_type": "code",
   "execution_count": 53,
   "metadata": {},
   "outputs": [],
   "source": [
    "freq_dict = Counter(all_words)"
   ]
  },
  {
   "cell_type": "code",
   "execution_count": 54,
   "metadata": {
    "scrolled": false
   },
   "outputs": [
    {
     "data": {
      "text/plain": [
       "[('shrimp', 536),\n",
       " ('almonds', 153),\n",
       " ('avocado', 250),\n",
       " ('vegetables_mix', 193),\n",
       " ('green_grapes', 68)]"
      ]
     },
     "execution_count": 54,
     "metadata": {},
     "output_type": "execute_result"
    }
   ],
   "source": [
    "list(freq_dict.items())[: 5]"
   ]
  },
  {
   "cell_type": "code",
   "execution_count": 55,
   "metadata": {},
   "outputs": [],
   "source": [
    "freq_dict = dict(sorted(freq_dict.items(), key=lambda x: x[1], reverse=True))"
   ]
  },
  {
   "cell_type": "code",
   "execution_count": 56,
   "metadata": {},
   "outputs": [
    {
     "data": {
      "text/plain": [
       "371"
      ]
     },
     "execution_count": 56,
     "metadata": {},
     "output_type": "execute_result"
    }
   ],
   "source": [
    "freq_dict['herb_&_pepper']  # Counter统计时，'herb_&_pepper'会当做完整商品统计"
   ]
  },
  {
   "cell_type": "code",
   "execution_count": 57,
   "metadata": {
    "scrolled": true
   },
   "outputs": [
    {
     "data": {
      "text/plain": [
       "119"
      ]
     },
     "execution_count": 57,
     "metadata": {},
     "output_type": "execute_result"
    }
   ],
   "source": [
    "len(freq_dict)"
   ]
  },
  {
   "cell_type": "markdown",
   "metadata": {},
   "source": [
    "# 分析频数不一致的原因——one-hot统计词频小于Counter、词云统计结果："
   ]
  },
  {
   "cell_type": "code",
   "execution_count": 58,
   "metadata": {},
   "outputs": [],
   "source": [
    "have_chocolate = one_hot_df['chocolate'][one_hot_df['chocolate'] == 1]"
   ]
  },
  {
   "cell_type": "code",
   "execution_count": 59,
   "metadata": {
    "scrolled": false
   },
   "outputs": [
    {
     "data": {
      "text/plain": [
       "16      1\n",
       "20      1\n",
       "28      1\n",
       "31      1\n",
       "33      1\n",
       "       ..\n",
       "7478    1\n",
       "7481    1\n",
       "7482    1\n",
       "7486    1\n",
       "7492    1\n",
       "Name: chocolate, Length: 1229, dtype: int64"
      ]
     },
     "execution_count": 59,
     "metadata": {},
     "output_type": "execute_result"
    }
   ],
   "source": [
    "have_chocolate"
   ]
  },
  {
   "cell_type": "code",
   "execution_count": 60,
   "metadata": {},
   "outputs": [
    {
     "data": {
      "text/plain": [
       "1230"
      ]
     },
     "execution_count": 60,
     "metadata": {},
     "output_type": "execute_result"
    }
   ],
   "source": [
    "dict(result)['chocolate']"
   ]
  },
  {
   "cell_type": "code",
   "execution_count": 61,
   "metadata": {},
   "outputs": [
    {
     "data": {
      "text/plain": [
       "1230"
      ]
     },
     "execution_count": 61,
     "metadata": {},
     "output_type": "execute_result"
    }
   ],
   "source": [
    "freq_dict['chocolate']"
   ]
  },
  {
   "cell_type": "markdown",
   "metadata": {},
   "source": [
    "---\n",
    "可以看到商品chocolate在one-hot编码的DataFrame中，有1229次，但前面词云和Counter统计的结果均为1230。下面开始尝试查明原因：\n",
    "\n",
    "---"
   ]
  },
  {
   "cell_type": "markdown",
   "metadata": {},
   "source": [
    "## 先排查one-hot编码结果时是否漏记——结论：没有：\n",
    "---\n",
    "Items由于是整列读取进来的，中间进行了几次字符串替换，和原始整行读入数组进行比对，校验是否有漏计行，最终结论：没有出现漏记行"
   ]
  },
  {
   "cell_type": "code",
   "execution_count": 62,
   "metadata": {},
   "outputs": [],
   "source": [
    "# 按照相同行索引拼接列\n",
    "join_df = df.join(one_hot_df)"
   ]
  },
  {
   "cell_type": "code",
   "execution_count": 63,
   "metadata": {},
   "outputs": [
    {
     "data": {
      "text/html": [
       "<div>\n",
       "<style scoped>\n",
       "    .dataframe tbody tr th:only-of-type {\n",
       "        vertical-align: middle;\n",
       "    }\n",
       "\n",
       "    .dataframe tbody tr th {\n",
       "        vertical-align: top;\n",
       "    }\n",
       "\n",
       "    .dataframe thead th {\n",
       "        text-align: right;\n",
       "    }\n",
       "</style>\n",
       "<table border=\"1\" class=\"dataframe\">\n",
       "  <thead>\n",
       "    <tr style=\"text-align: right;\">\n",
       "      <th></th>\n",
       "      <th>Items</th>\n",
       "      <th>almonds</th>\n",
       "      <th>antioxydant_juice</th>\n",
       "      <th>asparagus</th>\n",
       "      <th>avocado</th>\n",
       "      <th>babies_food</th>\n",
       "      <th>bacon</th>\n",
       "      <th>barbecue_sauce</th>\n",
       "      <th>black_tea</th>\n",
       "      <th>blueberries</th>\n",
       "      <th>...</th>\n",
       "      <th>turkey</th>\n",
       "      <th>vegetables_mix</th>\n",
       "      <th>water_spray</th>\n",
       "      <th>white_wine</th>\n",
       "      <th>whole_weat_flour</th>\n",
       "      <th>whole_wheat_pasta</th>\n",
       "      <th>whole_wheat_rice</th>\n",
       "      <th>yams</th>\n",
       "      <th>yogurt_cake</th>\n",
       "      <th>zucchini</th>\n",
       "    </tr>\n",
       "  </thead>\n",
       "  <tbody>\n",
       "    <tr>\n",
       "      <th>0</th>\n",
       "      <td>shrimp almonds avocado vegetables_mix green_gr...</td>\n",
       "      <td>1</td>\n",
       "      <td>1</td>\n",
       "      <td>0</td>\n",
       "      <td>1</td>\n",
       "      <td>0</td>\n",
       "      <td>0</td>\n",
       "      <td>0</td>\n",
       "      <td>0</td>\n",
       "      <td>0</td>\n",
       "      <td>...</td>\n",
       "      <td>0</td>\n",
       "      <td>1</td>\n",
       "      <td>0</td>\n",
       "      <td>0</td>\n",
       "      <td>1</td>\n",
       "      <td>0</td>\n",
       "      <td>0</td>\n",
       "      <td>1</td>\n",
       "      <td>0</td>\n",
       "      <td>0</td>\n",
       "    </tr>\n",
       "    <tr>\n",
       "      <th>1</th>\n",
       "      <td>burgers meatballs eggs</td>\n",
       "      <td>0</td>\n",
       "      <td>0</td>\n",
       "      <td>0</td>\n",
       "      <td>0</td>\n",
       "      <td>0</td>\n",
       "      <td>0</td>\n",
       "      <td>0</td>\n",
       "      <td>0</td>\n",
       "      <td>0</td>\n",
       "      <td>...</td>\n",
       "      <td>0</td>\n",
       "      <td>0</td>\n",
       "      <td>0</td>\n",
       "      <td>0</td>\n",
       "      <td>0</td>\n",
       "      <td>0</td>\n",
       "      <td>0</td>\n",
       "      <td>0</td>\n",
       "      <td>0</td>\n",
       "      <td>0</td>\n",
       "    </tr>\n",
       "  </tbody>\n",
       "</table>\n",
       "<p>2 rows × 120 columns</p>\n",
       "</div>"
      ],
      "text/plain": [
       "                                               Items  almonds  \\\n",
       "0  shrimp almonds avocado vegetables_mix green_gr...        1   \n",
       "1                             burgers meatballs eggs        0   \n",
       "\n",
       "   antioxydant_juice  asparagus  avocado  babies_food  bacon  barbecue_sauce  \\\n",
       "0                  1          0        1            0      0               0   \n",
       "1                  0          0        0            0      0               0   \n",
       "\n",
       "   black_tea  blueberries  ...  turkey  vegetables_mix  water_spray  \\\n",
       "0          0            0  ...       0               1            0   \n",
       "1          0            0  ...       0               0            0   \n",
       "\n",
       "   white_wine  whole_weat_flour  whole_wheat_pasta  whole_wheat_rice  yams  \\\n",
       "0           0                 1                  0                 0     1   \n",
       "1           0                 0                  0                 0     0   \n",
       "\n",
       "   yogurt_cake  zucchini  \n",
       "0            0         0  \n",
       "1            0         0  \n",
       "\n",
       "[2 rows x 120 columns]"
      ]
     },
     "execution_count": 63,
     "metadata": {},
     "output_type": "execute_result"
    }
   ],
   "source": [
    "join_df.head(2)"
   ]
  },
  {
   "cell_type": "code",
   "execution_count": 64,
   "metadata": {
    "scrolled": true
   },
   "outputs": [
    {
     "data": {
      "text/plain": [
       "['chocolate', 'chocolate_bread', 'extra_dark_chocolate']"
      ]
     },
     "execution_count": 64,
     "metadata": {},
     "output_type": "execute_result"
    }
   ],
   "source": [
    "# 找到包含chocolate的商品名\n",
    "names = [names for names in one_hot_df.columns if 'chocolate' in names]\n",
    "names"
   ]
  },
  {
   "cell_type": "code",
   "execution_count": 65,
   "metadata": {},
   "outputs": [],
   "source": [
    "names.append('Items')"
   ]
  },
  {
   "cell_type": "code",
   "execution_count": 66,
   "metadata": {},
   "outputs": [],
   "source": [
    "# 列表形式传入多列索引，提取多列\n",
    "join_df = join_df[names]"
   ]
  },
  {
   "cell_type": "code",
   "execution_count": 67,
   "metadata": {},
   "outputs": [
    {
     "data": {
      "text/html": [
       "<div>\n",
       "<style scoped>\n",
       "    .dataframe tbody tr th:only-of-type {\n",
       "        vertical-align: middle;\n",
       "    }\n",
       "\n",
       "    .dataframe tbody tr th {\n",
       "        vertical-align: top;\n",
       "    }\n",
       "\n",
       "    .dataframe thead th {\n",
       "        text-align: right;\n",
       "    }\n",
       "</style>\n",
       "<table border=\"1\" class=\"dataframe\">\n",
       "  <thead>\n",
       "    <tr style=\"text-align: right;\">\n",
       "      <th></th>\n",
       "      <th>chocolate</th>\n",
       "      <th>chocolate_bread</th>\n",
       "      <th>extra_dark_chocolate</th>\n",
       "      <th>Items</th>\n",
       "    </tr>\n",
       "  </thead>\n",
       "  <tbody>\n",
       "    <tr>\n",
       "      <th>0</th>\n",
       "      <td>0</td>\n",
       "      <td>0</td>\n",
       "      <td>0</td>\n",
       "      <td>shrimp almonds avocado vegetables_mix green_gr...</td>\n",
       "    </tr>\n",
       "    <tr>\n",
       "      <th>1</th>\n",
       "      <td>0</td>\n",
       "      <td>0</td>\n",
       "      <td>0</td>\n",
       "      <td>burgers meatballs eggs</td>\n",
       "    </tr>\n",
       "  </tbody>\n",
       "</table>\n",
       "</div>"
      ],
      "text/plain": [
       "   chocolate  chocolate_bread  extra_dark_chocolate  \\\n",
       "0          0                0                     0   \n",
       "1          0                0                     0   \n",
       "\n",
       "                                               Items  \n",
       "0  shrimp almonds avocado vegetables_mix green_gr...  \n",
       "1                             burgers meatballs eggs  "
      ]
     },
     "execution_count": 67,
     "metadata": {},
     "output_type": "execute_result"
    }
   ],
   "source": [
    "join_df.head(2)"
   ]
  },
  {
   "cell_type": "code",
   "execution_count": 68,
   "metadata": {
    "scrolled": true
   },
   "outputs": [
    {
     "data": {
      "text/html": [
       "<div>\n",
       "<style scoped>\n",
       "    .dataframe tbody tr th:only-of-type {\n",
       "        vertical-align: middle;\n",
       "    }\n",
       "\n",
       "    .dataframe tbody tr th {\n",
       "        vertical-align: top;\n",
       "    }\n",
       "\n",
       "    .dataframe thead th {\n",
       "        text-align: right;\n",
       "    }\n",
       "</style>\n",
       "<table border=\"1\" class=\"dataframe\">\n",
       "  <thead>\n",
       "    <tr style=\"text-align: right;\">\n",
       "      <th></th>\n",
       "      <th>chocolate</th>\n",
       "      <th>chocolate_bread</th>\n",
       "      <th>extra_dark_chocolate</th>\n",
       "      <th>Items</th>\n",
       "    </tr>\n",
       "  </thead>\n",
       "  <tbody>\n",
       "    <tr>\n",
       "      <th>0</th>\n",
       "      <td>0</td>\n",
       "      <td>0</td>\n",
       "      <td>0</td>\n",
       "      <td>shrimp almonds avocado vegetables_mix green_gr...</td>\n",
       "    </tr>\n",
       "    <tr>\n",
       "      <th>1</th>\n",
       "      <td>0</td>\n",
       "      <td>0</td>\n",
       "      <td>0</td>\n",
       "      <td>burgers meatballs eggs</td>\n",
       "    </tr>\n",
       "  </tbody>\n",
       "</table>\n",
       "</div>"
      ],
      "text/plain": [
       "   chocolate  chocolate_bread  extra_dark_chocolate  \\\n",
       "0          0                0                     0   \n",
       "1          0                0                     0   \n",
       "\n",
       "                                               Items  \n",
       "0  shrimp almonds avocado vegetables_mix green_gr...  \n",
       "1                             burgers meatballs eggs  "
      ]
     },
     "execution_count": 68,
     "metadata": {},
     "output_type": "execute_result"
    }
   ],
   "source": [
    "# chocolate列中没有出现chocolate的订单\n",
    "filtered_df = join_df[join_df['chocolate'] == 0]\n",
    "filtered_df.head(2)"
   ]
  },
  {
   "cell_type": "code",
   "execution_count": 69,
   "metadata": {},
   "outputs": [
    {
     "name": "stdout",
     "output_type": "stream",
     "text": [
      "Done!\n"
     ]
    }
   ],
   "source": [
    "# 查下是否有漏记订单\n",
    "index_list = []\n",
    "for i, substr in enumerate(filtered_df['Items'].tolist()):\n",
    "    for s in substr.split():\n",
    "        if s =='chocolate':\n",
    "            index_list.append(i)\n",
    "print('Done!')    "
   ]
  },
  {
   "cell_type": "code",
   "execution_count": 70,
   "metadata": {
    "scrolled": true
   },
   "outputs": [
    {
     "data": {
      "text/plain": [
       "[]"
      ]
     },
     "execution_count": 70,
     "metadata": {},
     "output_type": "execute_result"
    }
   ],
   "source": [
    "index_list"
   ]
  },
  {
   "cell_type": "markdown",
   "metadata": {},
   "source": [
    "---\n",
    "**用整行读入的df没有找到漏计chocolate的行。少了的原因猜测可能是单笔订单中存在重复商品。**\n",
    "\n",
    "---"
   ]
  },
  {
   "cell_type": "markdown",
   "metadata": {},
   "source": [
    "## 排查是否行内有重复元素：\n",
    "---"
   ]
  },
  {
   "cell_type": "code",
   "execution_count": 71,
   "metadata": {
    "scrolled": true
   },
   "outputs": [
    {
     "data": {
      "text/html": [
       "<div>\n",
       "<style scoped>\n",
       "    .dataframe tbody tr th:only-of-type {\n",
       "        vertical-align: middle;\n",
       "    }\n",
       "\n",
       "    .dataframe tbody tr th {\n",
       "        vertical-align: top;\n",
       "    }\n",
       "\n",
       "    .dataframe thead th {\n",
       "        text-align: right;\n",
       "    }\n",
       "</style>\n",
       "<table border=\"1\" class=\"dataframe\">\n",
       "  <thead>\n",
       "    <tr style=\"text-align: right;\">\n",
       "      <th></th>\n",
       "      <th>col_0</th>\n",
       "      <th>col_1</th>\n",
       "      <th>col_2</th>\n",
       "      <th>col_3</th>\n",
       "      <th>col_4</th>\n",
       "      <th>col_5</th>\n",
       "      <th>col_6</th>\n",
       "      <th>col_7</th>\n",
       "      <th>col_8</th>\n",
       "      <th>col_9</th>\n",
       "      <th>col_10</th>\n",
       "      <th>col_11</th>\n",
       "      <th>col_12</th>\n",
       "      <th>col_13</th>\n",
       "      <th>col_14</th>\n",
       "      <th>col_15</th>\n",
       "      <th>col_16</th>\n",
       "      <th>col_17</th>\n",
       "      <th>col_18</th>\n",
       "      <th>col_19</th>\n",
       "    </tr>\n",
       "  </thead>\n",
       "  <tbody>\n",
       "    <tr>\n",
       "      <th>0</th>\n",
       "      <td>shrimp</td>\n",
       "      <td>almonds</td>\n",
       "      <td>avocado</td>\n",
       "      <td>vegetables mix</td>\n",
       "      <td>green grapes</td>\n",
       "      <td>whole weat flour</td>\n",
       "      <td>yams</td>\n",
       "      <td>cottage cheese</td>\n",
       "      <td>energy drink</td>\n",
       "      <td>tomato juice</td>\n",
       "      <td>low fat yogurt</td>\n",
       "      <td>green tea</td>\n",
       "      <td>honey</td>\n",
       "      <td>salad</td>\n",
       "      <td>mineral water</td>\n",
       "      <td>salmon</td>\n",
       "      <td>antioxydant juice</td>\n",
       "      <td>frozen smoothie</td>\n",
       "      <td>spinach</td>\n",
       "      <td>olive oil</td>\n",
       "    </tr>\n",
       "    <tr>\n",
       "      <th>1</th>\n",
       "      <td>burgers</td>\n",
       "      <td>meatballs</td>\n",
       "      <td>eggs</td>\n",
       "      <td>NaN</td>\n",
       "      <td>NaN</td>\n",
       "      <td>NaN</td>\n",
       "      <td>NaN</td>\n",
       "      <td>NaN</td>\n",
       "      <td>NaN</td>\n",
       "      <td>NaN</td>\n",
       "      <td>NaN</td>\n",
       "      <td>NaN</td>\n",
       "      <td>NaN</td>\n",
       "      <td>NaN</td>\n",
       "      <td>NaN</td>\n",
       "      <td>NaN</td>\n",
       "      <td>NaN</td>\n",
       "      <td>NaN</td>\n",
       "      <td>NaN</td>\n",
       "      <td>NaN</td>\n",
       "    </tr>\n",
       "    <tr>\n",
       "      <th>2</th>\n",
       "      <td>chutney</td>\n",
       "      <td>NaN</td>\n",
       "      <td>NaN</td>\n",
       "      <td>NaN</td>\n",
       "      <td>NaN</td>\n",
       "      <td>NaN</td>\n",
       "      <td>NaN</td>\n",
       "      <td>NaN</td>\n",
       "      <td>NaN</td>\n",
       "      <td>NaN</td>\n",
       "      <td>NaN</td>\n",
       "      <td>NaN</td>\n",
       "      <td>NaN</td>\n",
       "      <td>NaN</td>\n",
       "      <td>NaN</td>\n",
       "      <td>NaN</td>\n",
       "      <td>NaN</td>\n",
       "      <td>NaN</td>\n",
       "      <td>NaN</td>\n",
       "      <td>NaN</td>\n",
       "    </tr>\n",
       "    <tr>\n",
       "      <th>3</th>\n",
       "      <td>turkey</td>\n",
       "      <td>avocado</td>\n",
       "      <td>NaN</td>\n",
       "      <td>NaN</td>\n",
       "      <td>NaN</td>\n",
       "      <td>NaN</td>\n",
       "      <td>NaN</td>\n",
       "      <td>NaN</td>\n",
       "      <td>NaN</td>\n",
       "      <td>NaN</td>\n",
       "      <td>NaN</td>\n",
       "      <td>NaN</td>\n",
       "      <td>NaN</td>\n",
       "      <td>NaN</td>\n",
       "      <td>NaN</td>\n",
       "      <td>NaN</td>\n",
       "      <td>NaN</td>\n",
       "      <td>NaN</td>\n",
       "      <td>NaN</td>\n",
       "      <td>NaN</td>\n",
       "    </tr>\n",
       "    <tr>\n",
       "      <th>4</th>\n",
       "      <td>mineral water</td>\n",
       "      <td>milk</td>\n",
       "      <td>energy bar</td>\n",
       "      <td>whole wheat rice</td>\n",
       "      <td>green tea</td>\n",
       "      <td>NaN</td>\n",
       "      <td>NaN</td>\n",
       "      <td>NaN</td>\n",
       "      <td>NaN</td>\n",
       "      <td>NaN</td>\n",
       "      <td>NaN</td>\n",
       "      <td>NaN</td>\n",
       "      <td>NaN</td>\n",
       "      <td>NaN</td>\n",
       "      <td>NaN</td>\n",
       "      <td>NaN</td>\n",
       "      <td>NaN</td>\n",
       "      <td>NaN</td>\n",
       "      <td>NaN</td>\n",
       "      <td>NaN</td>\n",
       "    </tr>\n",
       "  </tbody>\n",
       "</table>\n",
       "</div>"
      ],
      "text/plain": [
       "           col_0      col_1       col_2             col_3         col_4  \\\n",
       "0         shrimp    almonds     avocado    vegetables mix  green grapes   \n",
       "1        burgers  meatballs        eggs               NaN           NaN   \n",
       "2        chutney        NaN         NaN               NaN           NaN   \n",
       "3         turkey    avocado         NaN               NaN           NaN   \n",
       "4  mineral water       milk  energy bar  whole wheat rice     green tea   \n",
       "\n",
       "              col_5 col_6           col_7         col_8         col_9  \\\n",
       "0  whole weat flour  yams  cottage cheese  energy drink  tomato juice   \n",
       "1               NaN   NaN             NaN           NaN           NaN   \n",
       "2               NaN   NaN             NaN           NaN           NaN   \n",
       "3               NaN   NaN             NaN           NaN           NaN   \n",
       "4               NaN   NaN             NaN           NaN           NaN   \n",
       "\n",
       "           col_10     col_11 col_12 col_13         col_14  col_15  \\\n",
       "0  low fat yogurt  green tea  honey  salad  mineral water  salmon   \n",
       "1             NaN        NaN    NaN    NaN            NaN     NaN   \n",
       "2             NaN        NaN    NaN    NaN            NaN     NaN   \n",
       "3             NaN        NaN    NaN    NaN            NaN     NaN   \n",
       "4             NaN        NaN    NaN    NaN            NaN     NaN   \n",
       "\n",
       "              col_16           col_17   col_18     col_19  \n",
       "0  antioxydant juice  frozen smoothie  spinach  olive oil  \n",
       "1                NaN              NaN      NaN        NaN  \n",
       "2                NaN              NaN      NaN        NaN  \n",
       "3                NaN              NaN      NaN        NaN  \n",
       "4                NaN              NaN      NaN        NaN  "
      ]
     },
     "execution_count": 71,
     "metadata": {},
     "output_type": "execute_result"
    }
   ],
   "source": [
    "df = pd.read_csv('./data/Market_Basket_Optimisation.csv', \n",
    "                 header=None, \n",
    "                 names=['col_%d' % i for i in range(20)]\n",
    "                )\n",
    "df.head()"
   ]
  },
  {
   "cell_type": "code",
   "execution_count": 72,
   "metadata": {},
   "outputs": [
    {
     "data": {
      "text/plain": [
       "col_0     391\n",
       "col_1     223\n",
       "col_2     174\n",
       "col_3     143\n",
       "col_4     115\n",
       "col_5      71\n",
       "col_6      36\n",
       "col_7      38\n",
       "col_8      18\n",
       "col_9      11\n",
       "col_10      6\n",
       "col_11      3\n",
       "col_12      0\n",
       "col_13      0\n",
       "col_14      0\n",
       "col_15      1\n",
       "col_16      0\n",
       "col_17      0\n",
       "col_18      0\n",
       "col_19      0\n",
       "dtype: int64"
      ]
     },
     "execution_count": 72,
     "metadata": {},
     "output_type": "execute_result"
    }
   ],
   "source": [
    "(df == 'chocolate').sum()"
   ]
  },
  {
   "cell_type": "code",
   "execution_count": 73,
   "metadata": {},
   "outputs": [
    {
     "data": {
      "text/plain": [
       "1230"
      ]
     },
     "execution_count": 73,
     "metadata": {},
     "output_type": "execute_result"
    }
   ],
   "source": [
    "(df == 'chocolate').sum().sum()"
   ]
  },
  {
   "cell_type": "markdown",
   "metadata": {},
   "source": [
    "可以确定表中一共有1230个chocolate。"
   ]
  },
  {
   "cell_type": "code",
   "execution_count": 74,
   "metadata": {
    "scrolled": true
   },
   "outputs": [
    {
     "data": {
      "text/plain": [
       "[\"col_0 == 'chocolate' \",\n",
       " \"col_1 == 'chocolate' \",\n",
       " \"col_2 == 'chocolate' \",\n",
       " \"col_3 == 'chocolate' \",\n",
       " \"col_4 == 'chocolate' \",\n",
       " \"col_5 == 'chocolate' \",\n",
       " \"col_6 == 'chocolate' \",\n",
       " \"col_7 == 'chocolate' \",\n",
       " \"col_8 == 'chocolate' \",\n",
       " \"col_9 == 'chocolate' \",\n",
       " \"col_10 == 'chocolate' \",\n",
       " \"col_11 == 'chocolate' \",\n",
       " \"col_15 == 'chocolate' \"]"
      ]
     },
     "execution_count": 74,
     "metadata": {},
     "output_type": "execute_result"
    }
   ],
   "source": [
    "# 构建查询条件表达式\n",
    "expr = [\"col_%d == 'chocolate' \" % i for i in range(16) if i not in [12, 13, 14]]\n",
    "expr"
   ]
  },
  {
   "cell_type": "code",
   "execution_count": 75,
   "metadata": {},
   "outputs": [
    {
     "data": {
      "text/plain": [
       "\"col_0 == 'chocolate' or col_1 == 'chocolate' or col_2 == 'chocolate' or col_3 == 'chocolate' or col_4 == 'chocolate' or col_5 == 'chocolate' or col_6 == 'chocolate' or col_7 == 'chocolate' or col_8 == 'chocolate' or col_9 == 'chocolate' or col_10 == 'chocolate' or col_11 == 'chocolate' or col_15 == 'chocolate' \""
      ]
     },
     "execution_count": 75,
     "metadata": {},
     "output_type": "execute_result"
    }
   ],
   "source": [
    "expr_ = 'or '.join(expr)\n",
    "expr_"
   ]
  },
  {
   "cell_type": "code",
   "execution_count": 76,
   "metadata": {
    "scrolled": true
   },
   "outputs": [
    {
     "data": {
      "text/html": [
       "<div>\n",
       "<style scoped>\n",
       "    .dataframe tbody tr th:only-of-type {\n",
       "        vertical-align: middle;\n",
       "    }\n",
       "\n",
       "    .dataframe tbody tr th {\n",
       "        vertical-align: top;\n",
       "    }\n",
       "\n",
       "    .dataframe thead th {\n",
       "        text-align: right;\n",
       "    }\n",
       "</style>\n",
       "<table border=\"1\" class=\"dataframe\">\n",
       "  <thead>\n",
       "    <tr style=\"text-align: right;\">\n",
       "      <th></th>\n",
       "      <th>col_0</th>\n",
       "      <th>col_1</th>\n",
       "      <th>col_2</th>\n",
       "      <th>col_3</th>\n",
       "      <th>col_4</th>\n",
       "      <th>col_5</th>\n",
       "      <th>col_6</th>\n",
       "      <th>col_7</th>\n",
       "      <th>col_8</th>\n",
       "      <th>col_9</th>\n",
       "      <th>col_10</th>\n",
       "      <th>col_11</th>\n",
       "      <th>col_12</th>\n",
       "      <th>col_13</th>\n",
       "      <th>col_14</th>\n",
       "      <th>col_15</th>\n",
       "      <th>col_16</th>\n",
       "      <th>col_17</th>\n",
       "      <th>col_18</th>\n",
       "      <th>col_19</th>\n",
       "    </tr>\n",
       "  </thead>\n",
       "  <tbody>\n",
       "    <tr>\n",
       "      <th>16</th>\n",
       "      <td>shrimp</td>\n",
       "      <td>chocolate</td>\n",
       "      <td>chicken</td>\n",
       "      <td>honey</td>\n",
       "      <td>oil</td>\n",
       "      <td>cooking oil</td>\n",
       "      <td>low fat yogurt</td>\n",
       "      <td>NaN</td>\n",
       "      <td>NaN</td>\n",
       "      <td>NaN</td>\n",
       "      <td>NaN</td>\n",
       "      <td>NaN</td>\n",
       "      <td>NaN</td>\n",
       "      <td>NaN</td>\n",
       "      <td>NaN</td>\n",
       "      <td>NaN</td>\n",
       "      <td>NaN</td>\n",
       "      <td>NaN</td>\n",
       "      <td>NaN</td>\n",
       "      <td>NaN</td>\n",
       "    </tr>\n",
       "    <tr>\n",
       "      <th>20</th>\n",
       "      <td>red wine</td>\n",
       "      <td>shrimp</td>\n",
       "      <td>pasta</td>\n",
       "      <td>pepper</td>\n",
       "      <td>eggs</td>\n",
       "      <td>chocolate</td>\n",
       "      <td>shampoo</td>\n",
       "      <td>NaN</td>\n",
       "      <td>NaN</td>\n",
       "      <td>NaN</td>\n",
       "      <td>NaN</td>\n",
       "      <td>NaN</td>\n",
       "      <td>NaN</td>\n",
       "      <td>NaN</td>\n",
       "      <td>NaN</td>\n",
       "      <td>NaN</td>\n",
       "      <td>NaN</td>\n",
       "      <td>NaN</td>\n",
       "      <td>NaN</td>\n",
       "      <td>NaN</td>\n",
       "    </tr>\n",
       "    <tr>\n",
       "      <th>28</th>\n",
       "      <td>mineral water</td>\n",
       "      <td>eggs</td>\n",
       "      <td>chicken</td>\n",
       "      <td>chocolate</td>\n",
       "      <td>french fries</td>\n",
       "      <td>NaN</td>\n",
       "      <td>NaN</td>\n",
       "      <td>NaN</td>\n",
       "      <td>NaN</td>\n",
       "      <td>NaN</td>\n",
       "      <td>NaN</td>\n",
       "      <td>NaN</td>\n",
       "      <td>NaN</td>\n",
       "      <td>NaN</td>\n",
       "      <td>NaN</td>\n",
       "      <td>NaN</td>\n",
       "      <td>NaN</td>\n",
       "      <td>NaN</td>\n",
       "      <td>NaN</td>\n",
       "      <td>NaN</td>\n",
       "    </tr>\n",
       "    <tr>\n",
       "      <th>31</th>\n",
       "      <td>mineral water</td>\n",
       "      <td>chocolate</td>\n",
       "      <td>avocado</td>\n",
       "      <td>eggs</td>\n",
       "      <td>NaN</td>\n",
       "      <td>NaN</td>\n",
       "      <td>NaN</td>\n",
       "      <td>NaN</td>\n",
       "      <td>NaN</td>\n",
       "      <td>NaN</td>\n",
       "      <td>NaN</td>\n",
       "      <td>NaN</td>\n",
       "      <td>NaN</td>\n",
       "      <td>NaN</td>\n",
       "      <td>NaN</td>\n",
       "      <td>NaN</td>\n",
       "      <td>NaN</td>\n",
       "      <td>NaN</td>\n",
       "      <td>NaN</td>\n",
       "      <td>NaN</td>\n",
       "    </tr>\n",
       "    <tr>\n",
       "      <th>33</th>\n",
       "      <td>frozen vegetables</td>\n",
       "      <td>strong cheese</td>\n",
       "      <td>chocolate</td>\n",
       "      <td>NaN</td>\n",
       "      <td>NaN</td>\n",
       "      <td>NaN</td>\n",
       "      <td>NaN</td>\n",
       "      <td>NaN</td>\n",
       "      <td>NaN</td>\n",
       "      <td>NaN</td>\n",
       "      <td>NaN</td>\n",
       "      <td>NaN</td>\n",
       "      <td>NaN</td>\n",
       "      <td>NaN</td>\n",
       "      <td>NaN</td>\n",
       "      <td>NaN</td>\n",
       "      <td>NaN</td>\n",
       "      <td>NaN</td>\n",
       "      <td>NaN</td>\n",
       "      <td>NaN</td>\n",
       "    </tr>\n",
       "  </tbody>\n",
       "</table>\n",
       "</div>"
      ],
      "text/plain": [
       "                col_0          col_1      col_2      col_3         col_4  \\\n",
       "16             shrimp      chocolate    chicken      honey           oil   \n",
       "20           red wine         shrimp      pasta     pepper          eggs   \n",
       "28      mineral water           eggs    chicken  chocolate  french fries   \n",
       "31      mineral water      chocolate    avocado       eggs           NaN   \n",
       "33  frozen vegetables  strong cheese  chocolate        NaN           NaN   \n",
       "\n",
       "          col_5           col_6 col_7 col_8 col_9 col_10 col_11 col_12 col_13  \\\n",
       "16  cooking oil  low fat yogurt   NaN   NaN   NaN    NaN    NaN    NaN    NaN   \n",
       "20    chocolate         shampoo   NaN   NaN   NaN    NaN    NaN    NaN    NaN   \n",
       "28          NaN             NaN   NaN   NaN   NaN    NaN    NaN    NaN    NaN   \n",
       "31          NaN             NaN   NaN   NaN   NaN    NaN    NaN    NaN    NaN   \n",
       "33          NaN             NaN   NaN   NaN   NaN    NaN    NaN    NaN    NaN   \n",
       "\n",
       "   col_14 col_15 col_16 col_17 col_18 col_19  \n",
       "16    NaN    NaN    NaN    NaN    NaN    NaN  \n",
       "20    NaN    NaN    NaN    NaN    NaN    NaN  \n",
       "28    NaN    NaN    NaN    NaN    NaN    NaN  \n",
       "31    NaN    NaN    NaN    NaN    NaN    NaN  \n",
       "33    NaN    NaN    NaN    NaN    NaN    NaN  "
      ]
     },
     "execution_count": 76,
     "metadata": {},
     "output_type": "execute_result"
    }
   ],
   "source": [
    "filter_df = df.query(expr_)\n",
    "filter_df.head()"
   ]
  },
  {
   "cell_type": "code",
   "execution_count": 77,
   "metadata": {},
   "outputs": [],
   "source": [
    "filter_df = filter_df[['col_%d' % i for i in range(16) if i not in [12, 13, 14]]]"
   ]
  },
  {
   "cell_type": "code",
   "execution_count": 78,
   "metadata": {
    "scrolled": true
   },
   "outputs": [
    {
     "data": {
      "text/html": [
       "<div>\n",
       "<style scoped>\n",
       "    .dataframe tbody tr th:only-of-type {\n",
       "        vertical-align: middle;\n",
       "    }\n",
       "\n",
       "    .dataframe tbody tr th {\n",
       "        vertical-align: top;\n",
       "    }\n",
       "\n",
       "    .dataframe thead th {\n",
       "        text-align: right;\n",
       "    }\n",
       "</style>\n",
       "<table border=\"1\" class=\"dataframe\">\n",
       "  <thead>\n",
       "    <tr style=\"text-align: right;\">\n",
       "      <th></th>\n",
       "      <th>col_0</th>\n",
       "      <th>col_1</th>\n",
       "      <th>col_2</th>\n",
       "      <th>col_3</th>\n",
       "      <th>col_4</th>\n",
       "      <th>col_5</th>\n",
       "      <th>col_6</th>\n",
       "      <th>col_7</th>\n",
       "      <th>col_8</th>\n",
       "      <th>col_9</th>\n",
       "      <th>col_10</th>\n",
       "      <th>col_11</th>\n",
       "      <th>col_15</th>\n",
       "    </tr>\n",
       "  </thead>\n",
       "  <tbody>\n",
       "    <tr>\n",
       "      <th>16</th>\n",
       "      <td>shrimp</td>\n",
       "      <td>chocolate</td>\n",
       "      <td>chicken</td>\n",
       "      <td>honey</td>\n",
       "      <td>oil</td>\n",
       "      <td>cooking oil</td>\n",
       "      <td>low fat yogurt</td>\n",
       "      <td>NaN</td>\n",
       "      <td>NaN</td>\n",
       "      <td>NaN</td>\n",
       "      <td>NaN</td>\n",
       "      <td>NaN</td>\n",
       "      <td>NaN</td>\n",
       "    </tr>\n",
       "    <tr>\n",
       "      <th>20</th>\n",
       "      <td>red wine</td>\n",
       "      <td>shrimp</td>\n",
       "      <td>pasta</td>\n",
       "      <td>pepper</td>\n",
       "      <td>eggs</td>\n",
       "      <td>chocolate</td>\n",
       "      <td>shampoo</td>\n",
       "      <td>NaN</td>\n",
       "      <td>NaN</td>\n",
       "      <td>NaN</td>\n",
       "      <td>NaN</td>\n",
       "      <td>NaN</td>\n",
       "      <td>NaN</td>\n",
       "    </tr>\n",
       "    <tr>\n",
       "      <th>28</th>\n",
       "      <td>mineral water</td>\n",
       "      <td>eggs</td>\n",
       "      <td>chicken</td>\n",
       "      <td>chocolate</td>\n",
       "      <td>french fries</td>\n",
       "      <td>NaN</td>\n",
       "      <td>NaN</td>\n",
       "      <td>NaN</td>\n",
       "      <td>NaN</td>\n",
       "      <td>NaN</td>\n",
       "      <td>NaN</td>\n",
       "      <td>NaN</td>\n",
       "      <td>NaN</td>\n",
       "    </tr>\n",
       "    <tr>\n",
       "      <th>31</th>\n",
       "      <td>mineral water</td>\n",
       "      <td>chocolate</td>\n",
       "      <td>avocado</td>\n",
       "      <td>eggs</td>\n",
       "      <td>NaN</td>\n",
       "      <td>NaN</td>\n",
       "      <td>NaN</td>\n",
       "      <td>NaN</td>\n",
       "      <td>NaN</td>\n",
       "      <td>NaN</td>\n",
       "      <td>NaN</td>\n",
       "      <td>NaN</td>\n",
       "      <td>NaN</td>\n",
       "    </tr>\n",
       "    <tr>\n",
       "      <th>33</th>\n",
       "      <td>frozen vegetables</td>\n",
       "      <td>strong cheese</td>\n",
       "      <td>chocolate</td>\n",
       "      <td>NaN</td>\n",
       "      <td>NaN</td>\n",
       "      <td>NaN</td>\n",
       "      <td>NaN</td>\n",
       "      <td>NaN</td>\n",
       "      <td>NaN</td>\n",
       "      <td>NaN</td>\n",
       "      <td>NaN</td>\n",
       "      <td>NaN</td>\n",
       "      <td>NaN</td>\n",
       "    </tr>\n",
       "  </tbody>\n",
       "</table>\n",
       "</div>"
      ],
      "text/plain": [
       "                col_0          col_1      col_2      col_3         col_4  \\\n",
       "16             shrimp      chocolate    chicken      honey           oil   \n",
       "20           red wine         shrimp      pasta     pepper          eggs   \n",
       "28      mineral water           eggs    chicken  chocolate  french fries   \n",
       "31      mineral water      chocolate    avocado       eggs           NaN   \n",
       "33  frozen vegetables  strong cheese  chocolate        NaN           NaN   \n",
       "\n",
       "          col_5           col_6 col_7 col_8 col_9 col_10 col_11 col_15  \n",
       "16  cooking oil  low fat yogurt   NaN   NaN   NaN    NaN    NaN    NaN  \n",
       "20    chocolate         shampoo   NaN   NaN   NaN    NaN    NaN    NaN  \n",
       "28          NaN             NaN   NaN   NaN   NaN    NaN    NaN    NaN  \n",
       "31          NaN             NaN   NaN   NaN   NaN    NaN    NaN    NaN  \n",
       "33          NaN             NaN   NaN   NaN   NaN    NaN    NaN    NaN  "
      ]
     },
     "execution_count": 78,
     "metadata": {},
     "output_type": "execute_result"
    }
   ],
   "source": [
    "filter_df.head()"
   ]
  },
  {
   "cell_type": "code",
   "execution_count": 79,
   "metadata": {},
   "outputs": [
    {
     "data": {
      "text/plain": [
       "col_0    False\n",
       "col_1    False\n",
       "col_2    False\n",
       "col_3    False\n",
       "col_4    False\n",
       "col_5    False\n",
       "col_6    False\n",
       "Name: 16, dtype: bool"
      ]
     },
     "execution_count": 79,
     "metadata": {},
     "output_type": "execute_result"
    }
   ],
   "source": [
    "filter_df.iloc[0].dropna().duplicated() # 查看该行是否有重复值"
   ]
  },
  {
   "cell_type": "code",
   "execution_count": 80,
   "metadata": {
    "scrolled": true
   },
   "outputs": [
    {
     "name": "stdout",
     "output_type": "stream",
     "text": [
      "出现重复行，索引及行内非空元素如下:\n",
      "原始df中的行索引号为: 6903\n",
      "filter_df中的行索引及元素如下: 1138\n",
      "col_0        ground beef\n",
      "col_1          spaghetti\n",
      "col_2      mineral water\n",
      "col_3          chocolate\n",
      "col_4             salmon\n",
      "col_5            chicken\n",
      "col_6          chocolate\n",
      "col_7    frozen smoothie\n",
      "Name: 6903, dtype: object\n"
     ]
    }
   ],
   "source": [
    "# 查看chocolate重复出现的行\n",
    "for i in range(filter_df.shape[0]):\n",
    "    row = filter_df.iloc[i].dropna()\n",
    "    # 该行假如有重复行，则打印结果\n",
    "    if row.duplicated().sum() >= 1:\n",
    "        print(\"出现重复行，索引及行内非空元素如下:\")\n",
    "        print(\"原始df中的行索引号为:\", filter_df.index[i])\n",
    "        print(\"filter_df中的行索引及元素如下:\", i)\n",
    "        print(row)"
   ]
  },
  {
   "cell_type": "code",
   "execution_count": 81,
   "metadata": {},
   "outputs": [
    {
     "name": "stdout",
     "output_type": "stream",
     "text": [
      "出现重复行，索引及行内非空元素如下:\n",
      "4394 ['burgers', 'ham', 'eggs', 'whole wheat rice', 'ham', 'french fries', 'cookies', 'green tea']\n",
      "重复元素: ['ham', 'ham']\n",
      "****************************************************************************************************\n",
      "出现重复行，索引及行内非空元素如下:\n",
      "4494 ['ham', 'eggs', 'honey', 'gums', 'light cream', 'ham']\n",
      "重复元素: ['ham', 'ham']\n",
      "****************************************************************************************************\n",
      "出现重复行，索引及行内非空元素如下:\n",
      "4526 ['ham', 'milk', 'chicken', 'whole wheat rice', 'ham', 'eggplant']\n",
      "重复元素: ['ham', 'ham']\n",
      "****************************************************************************************************\n",
      "出现重复行，索引及行内非空元素如下:\n",
      "6903 ['ground beef', 'spaghetti', 'mineral water', 'chocolate', 'salmon', 'chicken', 'chocolate', 'frozen smoothie']\n",
      "重复元素: ['chocolate', 'chocolate']\n",
      "****************************************************************************************************\n",
      "出现重复行，索引及行内非空元素如下:\n",
      "7109 ['ham', 'shrimp', 'milk', 'flax seed', 'salmon', 'corn', 'ham', 'eggplant']\n",
      "重复元素: ['ham', 'ham']\n",
      "****************************************************************************************************\n"
     ]
    }
   ],
   "source": [
    "# 打印出df中所有非空元素重复的行索引和非空元素\n",
    "for i in range(df.shape[0]):\n",
    "    row = df.iloc[i].dropna().tolist()\n",
    "    if len(row) != len(set(row)):\n",
    "        print(\"出现重复行，索引及行内非空元素如下:\")\n",
    "        print(i, row)\n",
    "        print(\"重复元素:\", [i for i in row if row.count(i) > 1])\n",
    "        print('*' * 100)"
   ]
  },
  {
   "cell_type": "markdown",
   "metadata": {},
   "source": [
    "---\n",
    "**经过一系列的查找，最终确认，导致one-hot编码的df统计的词频数少于Counter()和wc.process_text()的原因，确实是因为行内有重复元素，且不仅chocolate一个商品，另外还有ham这个商品也在4行中出现了重复。**\n",
    "\n",
    "---"
   ]
  },
  {
   "cell_type": "markdown",
   "metadata": {},
   "source": [
    "因为通过Series.str.get_dummies()对Series进行one-hot编码时，相同行号的相同商品，不会重复计算，只会计算一次。而Counter()和wc.process_text()方法，由于接收的是我们合并后的整个字符串，如果合并字符串前没有进行行内去重，则同一个行内的相同商品(也就是同一个订单内的相同商品)重复的次数也被计入了频数的统计中。"
   ]
  },
  {
   "cell_type": "markdown",
   "metadata": {},
   "source": [
    "在实际应用中，如果我们只想统计商品出现在多少笔订单中，则可以使用Series.str.get_dummies()进行统计，或者去重后合并为字符串、再调用Counter()或wc.process_text()方法进行统计。"
   ]
  },
  {
   "cell_type": "markdown",
   "metadata": {},
   "source": [
    "---\n",
    "#  总结：\n",
    "---\n"
   ]
  },
  {
   "cell_type": "markdown",
   "metadata": {},
   "source": [
    "1. **词云可视化中：**\n",
    "    - `WordCloud(max_words).generate(text)` ,会显示text字符串中，前max_words个词；\n",
    "    - `WordCloud()`方法中参数`collocations`最好设为`False`，否则`text`中相同的词可能会被当做重复词而不计算，导致单词排名不准；\n",
    "    - `WordCloud().generate_from_frequencies(freq)` 可以根据 `{商品:频数}`的字典生成词云图；\n",
    "    - `WordCloud().process_text(text)` 可以从一整串字符串中统计出每个空格隔开的单词出现的频数，并以`{商品:频数}`的字典形式返回；\n",
    "    - `generate_from_frequencies()、process_text()`连用所得到的结果，与generate()的结果相同，不同的地方在于，我们可以在`process_text()`的结果中得到它们的频数。"
   ]
  },
  {
   "cell_type": "markdown",
   "metadata": {},
   "source": [
    "2. seaborn 绘制直方图默认会显示密度分布曲线，比Matplotlib更加直观"
   ]
  },
  {
   "cell_type": "markdown",
   "metadata": {},
   "source": [
    "3. 经过5中检查频数不一致的分析，发现：\n",
    "    - collections.Counter()也是个批量统计字符串中每个单词词频的好方法；\n",
    "    - 需要注意的是，wc.process_text()在统计词频时，它会将字符串中的`&`符号作为分隔符，如果不想被拆分，需要提前将该符号替换为其他词，如:'and'或 '_'。\n",
    "    - Series.str.get_dummies()进行one-hot编码时，行内重复元素只记录一次。"
   ]
  },
  {
   "cell_type": "code",
   "execution_count": null,
   "metadata": {},
   "outputs": [],
   "source": []
  }
 ],
 "metadata": {
  "kernelspec": {
   "display_name": "Python 3",
   "language": "python",
   "name": "python3"
  },
  "language_info": {
   "codemirror_mode": {
    "name": "ipython",
    "version": 3
   },
   "file_extension": ".py",
   "mimetype": "text/x-python",
   "name": "python",
   "nbconvert_exporter": "python",
   "pygments_lexer": "ipython3",
   "version": "3.8.5"
  },
  "toc": {
   "base_numbering": 1,
   "nav_menu": {},
   "number_sections": true,
   "sideBar": true,
   "skip_h1_title": false,
   "title_cell": "Table of Contents",
   "title_sidebar": "Contents",
   "toc_cell": false,
   "toc_position": {
    "height": "calc(100% - 180px)",
    "left": "10px",
    "top": "150px",
    "width": "288px"
   },
   "toc_section_display": true,
   "toc_window_display": true
  },
  "varInspector": {
   "cols": {
    "lenName": 16,
    "lenType": 16,
    "lenVar": 40
   },
   "kernels_config": {
    "python": {
     "delete_cmd_postfix": "",
     "delete_cmd_prefix": "del ",
     "library": "var_list.py",
     "varRefreshCmd": "print(var_dic_list())"
    },
    "r": {
     "delete_cmd_postfix": ") ",
     "delete_cmd_prefix": "rm(",
     "library": "var_list.r",
     "varRefreshCmd": "cat(var_dic_list()) "
    }
   },
   "types_to_exclude": [
    "module",
    "function",
    "builtin_function_or_method",
    "instance",
    "_Feature"
   ],
   "window_display": false
  }
 },
 "nbformat": 4,
 "nbformat_minor": 4
}
