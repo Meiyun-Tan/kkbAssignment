{
 "cells": [
  {
   "cell_type": "markdown",
   "metadata": {
    "toc": true
   },
   "source": [
    "<h1>Table of Contents<span class=\"tocSkip\"></span></h1>\n",
    "<div class=\"toc\"><ul class=\"toc-item\"><li><span><a href=\"#1-加载数据集\" data-toc-modified-id=\"1-加载数据集-1\"><span class=\"toc-item-num\">1&nbsp;&nbsp;</span>1 加载数据集</a></span><ul class=\"toc-item\"><li><span><a href=\"#1.1-认识数据集\" data-toc-modified-id=\"1.1-认识数据集-1.1\"><span class=\"toc-item-num\">1.1&nbsp;&nbsp;</span>1.1 认识数据集</a></span><ul class=\"toc-item\"><li><span><a href=\"#1.1.1-缺失值\" data-toc-modified-id=\"1.1.1-缺失值-1.1.1\"><span class=\"toc-item-num\">1.1.1&nbsp;&nbsp;</span>1.1.1 缺失值</a></span><ul class=\"toc-item\"><li><span><a href=\"#1.1.1.1-可视化缺失值在各列中的占比\" data-toc-modified-id=\"1.1.1.1-可视化缺失值在各列中的占比-1.1.1.1\"><span class=\"toc-item-num\">1.1.1.1&nbsp;&nbsp;</span>1.1.1.1 可视化缺失值在各列中的占比</a></span></li><li><span><a href=\"#1.1.1.2-合并名称列\" data-toc-modified-id=\"1.1.1.2-合并名称列-1.1.1.2\"><span class=\"toc-item-num\">1.1.1.2&nbsp;&nbsp;</span>1.1.1.2 合并名称列</a></span></li></ul></li><li><span><a href=\"#1.1.2-describe-Object类的列\" data-toc-modified-id=\"1.1.2-describe-Object类的列-1.1.2\"><span class=\"toc-item-num\">1.1.2&nbsp;&nbsp;</span>1.1.2 describe Object类的列</a></span></li><li><span><a href=\"#1.1.3-数值类型特征统计信息\" data-toc-modified-id=\"1.1.3-数值类型特征统计信息-1.1.3\"><span class=\"toc-item-num\">1.1.3&nbsp;&nbsp;</span>1.1.3 数值类型特征统计信息</a></span></li></ul></li></ul></li><li><span><a href=\"#2-object类特征可视化\" data-toc-modified-id=\"2-object类特征可视化-2\"><span class=\"toc-item-num\">2&nbsp;&nbsp;</span>2 object类特征可视化</a></span><ul class=\"toc-item\"><li><span><a href=\"#2.1-发货日期和下单日期转为datetime\" data-toc-modified-id=\"2.1-发货日期和下单日期转为datetime-2.1\"><span class=\"toc-item-num\">2.1&nbsp;&nbsp;</span>2.1 发货日期和下单日期转为datetime</a></span></li><li><span><a href=\"#2.2-交易支付方式-Type-可视化\" data-toc-modified-id=\"2.2-交易支付方式-Type-可视化-2.2\"><span class=\"toc-item-num\">2.2&nbsp;&nbsp;</span>2.2 交易支付方式 Type 可视化</a></span></li><li><span><a href=\"#2.3-Delivery-Status交货状态数值化\" data-toc-modified-id=\"2.3-Delivery-Status交货状态数值化-2.3\"><span class=\"toc-item-num\">2.3&nbsp;&nbsp;</span>2.3 Delivery Status交货状态数值化</a></span></li><li><span><a href=\"#2.4-Shipping-Mode发货方式数值化\" data-toc-modified-id=\"2.4-Shipping-Mode发货方式数值化-2.4\"><span class=\"toc-item-num\">2.4&nbsp;&nbsp;</span>2.4 Shipping Mode发货方式数值化</a></span></li><li><span><a href=\"#2.5-Order-Status订单状态\" data-toc-modified-id=\"2.5-Order-Status订单状态-2.5\"><span class=\"toc-item-num\">2.5&nbsp;&nbsp;</span>2.5 Order Status订单状态</a></span><ul class=\"toc-item\"><li><span><a href=\"#2.5.1-各订单状态订单数统计\" data-toc-modified-id=\"2.5.1-各订单状态订单数统计-2.5.1\"><span class=\"toc-item-num\">2.5.1&nbsp;&nbsp;</span>2.5.1 各订单状态订单数统计</a></span></li><li><span><a href=\"#2.5.2-在不同交货状态中各订单状态的样本数统计\" data-toc-modified-id=\"2.5.2-在不同交货状态中各订单状态的样本数统计-2.5.2\"><span class=\"toc-item-num\">2.5.2&nbsp;&nbsp;</span>2.5.2 在不同交货状态中各订单状态的样本数统计</a></span></li><li><span><a href=\"#2.5.3--15年-18年1月每年中处于各订单状态的订单数统计\" data-toc-modified-id=\"2.5.3--15年-18年1月每年中处于各订单状态的订单数统计-2.5.3\"><span class=\"toc-item-num\">2.5.3&nbsp;&nbsp;</span>2.5.3  15年-18年1月每年中处于各订单状态的订单数统计</a></span></li><li><span><a href=\"#2.5.4-统计欺诈订单最多的Top10个客户\" data-toc-modified-id=\"2.5.4-统计欺诈订单最多的Top10个客户-2.5.4\"><span class=\"toc-item-num\">2.5.4&nbsp;&nbsp;</span>2.5.4 统计欺诈订单最多的Top10个客户</a></span></li></ul></li><li><span><a href=\"#2.6-可视化各国家客户数分布\" data-toc-modified-id=\"2.6-可视化各国家客户数分布-2.6\"><span class=\"toc-item-num\">2.6&nbsp;&nbsp;</span>2.6 可视化各国家客户数分布</a></span></li><li><span><a href=\"#2.7-可视化各国家样本数\" data-toc-modified-id=\"2.7-可视化各国家样本数-2.7\"><span class=\"toc-item-num\">2.7&nbsp;&nbsp;</span>2.7 可视化各国家样本数</a></span></li></ul></li><li><span><a href=\"#3-预计发货天数和实际发货天数可视化\" data-toc-modified-id=\"3-预计发货天数和实际发货天数可视化-3\"><span class=\"toc-item-num\">3&nbsp;&nbsp;</span>3 预计发货天数和实际发货天数可视化</a></span></li><li><span><a href=\"#4-对于销售额进行探索\" data-toc-modified-id=\"4-对于销售额进行探索-4\"><span class=\"toc-item-num\">4&nbsp;&nbsp;</span>4 对于销售额进行探索</a></span><ul class=\"toc-item\"><li><span><a href=\"#4.1-各Market销售额占比\" data-toc-modified-id=\"4.1-各Market销售额占比-4.1\"><span class=\"toc-item-num\">4.1&nbsp;&nbsp;</span>4.1 各Market销售额占比</a></span></li><li><span><a href=\"#4.2-2015~2018年1月不同地区的订单在地图上的分布\" data-toc-modified-id=\"4.2-2015~2018年1月不同地区的订单在地图上的分布-4.2\"><span class=\"toc-item-num\">4.2&nbsp;&nbsp;</span>4.2 2015~2018年1月不同地区的订单在地图上的分布</a></span></li><li><span><a href=\"#4.3-2015.1-2018.1各地区来自不同客户类型的销售额的分布\" data-toc-modified-id=\"4.3-2015.1-2018.1各地区来自不同客户类型的销售额的分布-4.3\"><span class=\"toc-item-num\">4.3&nbsp;&nbsp;</span>4.3 2015.1-2018.1各地区来自不同客户类型的销售额的分布</a></span></li><li><span><a href=\"#4.4-不同地区(Order-Region)15年到18年已完成订单的销售额占比统计\" data-toc-modified-id=\"4.4-不同地区(Order-Region)15年到18年已完成订单的销售额占比统计-4.4\"><span class=\"toc-item-num\">4.4&nbsp;&nbsp;</span>4.4 不同地区(Order Region)15年到18年已完成订单的销售额占比统计</a></span><ul class=\"toc-item\"><li><span><a href=\"#4.4.1-2015年不同地区(Order-Region)销售额占比\" data-toc-modified-id=\"4.4.1-2015年不同地区(Order-Region)销售额占比-4.4.1\"><span class=\"toc-item-num\">4.4.1&nbsp;&nbsp;</span>4.4.1 2015年不同地区(Order Region)销售额占比</a></span></li><li><span><a href=\"#4.4.2--2016年不同地区(Order-Region)销售额占比\" data-toc-modified-id=\"4.4.2--2016年不同地区(Order-Region)销售额占比-4.4.2\"><span class=\"toc-item-num\">4.4.2&nbsp;&nbsp;</span>4.4.2  2016年不同地区(Order Region)销售额占比</a></span></li><li><span><a href=\"#4.4.3-2017年不同地区(Order-Region)销售额占比\" data-toc-modified-id=\"4.4.3-2017年不同地区(Order-Region)销售额占比-4.4.3\"><span class=\"toc-item-num\">4.4.3&nbsp;&nbsp;</span>4.4.3 2017年不同地区(Order Region)销售额占比</a></span></li><li><span><a href=\"#4.4.4-2018年1月不同地区(Order-Region)销售额占比\" data-toc-modified-id=\"4.4.4-2018年1月不同地区(Order-Region)销售额占比-4.4.4\"><span class=\"toc-item-num\">4.4.4&nbsp;&nbsp;</span>4.4.4 2018年1月不同地区(Order Region)销售额占比</a></span></li><li><span><a href=\"#4.4.5-2015-2018年不同地区已完成订单的销售额占比\" data-toc-modified-id=\"4.4.5-2015-2018年不同地区已完成订单的销售额占比-4.4.5\"><span class=\"toc-item-num\">4.4.5&nbsp;&nbsp;</span>4.4.5 2015-2018年不同地区已完成订单的销售额占比</a></span></li></ul></li><li><span><a href=\"#4.5--不同类目下已完成订单的销售额统计\" data-toc-modified-id=\"4.5--不同类目下已完成订单的销售额统计-4.5\"><span class=\"toc-item-num\">4.5&nbsp;&nbsp;</span>4.5  不同类目下已完成订单的销售额统计</a></span><ul class=\"toc-item\"><li><span><a href=\"#4.5.1-各类目交易完成订单的销售总额直方图\" data-toc-modified-id=\"4.5.1-各类目交易完成订单的销售总额直方图-4.5.1\"><span class=\"toc-item-num\">4.5.1&nbsp;&nbsp;</span>4.5.1 各类目交易完成订单的销售总额直方图</a></span></li><li><span><a href=\"#4.5.2-各类目销售额均值直方图\" data-toc-modified-id=\"4.5.2-各类目销售额均值直方图-4.5.2\"><span class=\"toc-item-num\">4.5.2&nbsp;&nbsp;</span>4.5.2 各类目销售额均值直方图</a></span></li><li><span><a href=\"#4.5.3-各类目交易完成订单的销售总额占比\" data-toc-modified-id=\"4.5.3-各类目交易完成订单的销售总额占比-4.5.3\"><span class=\"toc-item-num\">4.5.3&nbsp;&nbsp;</span>4.5.3 各类目交易完成订单的销售总额占比</a></span></li><li><span><a href=\"#4.5.4-2015-2018年1月各年不同商品类目和不同地区的销售额面积图\" data-toc-modified-id=\"4.5.4-2015-2018年1月各年不同商品类目和不同地区的销售额面积图-4.5.4\"><span class=\"toc-item-num\">4.5.4&nbsp;&nbsp;</span>4.5.4 2015-2018年1月各年不同商品类目和不同地区的销售额面积图</a></span></li></ul></li><li><span><a href=\"#4.6-按不同时间维度看销售额变化情况\" data-toc-modified-id=\"4.6-按不同时间维度看销售额变化情况-4.6\"><span class=\"toc-item-num\">4.6&nbsp;&nbsp;</span>4.6 按不同时间维度看销售额变化情况</a></span></li></ul></li><li><span><a href=\"#5-Product-Price与Sales-per-customer-相关性探索\" data-toc-modified-id=\"5-Product-Price与Sales-per-customer-相关性探索-5\"><span class=\"toc-item-num\">5&nbsp;&nbsp;</span>5 Product Price与Sales per customer 相关性探索</a></span></li><li><span><a href=\"#6-皮尔逊系数判断相关性\" data-toc-modified-id=\"6-皮尔逊系数判断相关性-6\"><span class=\"toc-item-num\">6&nbsp;&nbsp;</span>6 皮尔逊系数判断相关性</a></span></li><li><span><a href=\"#用RFM对用户进行分层¶\" data-toc-modified-id=\"用RFM对用户进行分层¶-7\"><span class=\"toc-item-num\">7&nbsp;&nbsp;</span>用RFM对用户进行分层¶</a></span><ul class=\"toc-item\"><li><span><a href=\"#按照Order-Customer-Id-统计-Recency--Frequency--Monetary\" data-toc-modified-id=\"按照Order-Customer-Id-统计-Recency--Frequency--Monetary-7.1\"><span class=\"toc-item-num\">7.1&nbsp;&nbsp;</span>按照Order Customer Id 统计 Recency  Frequency  Monetary</a></span></li><li><span><a href=\"#将RFMvalue转为RFMscore\" data-toc-modified-id=\"将RFMvalue转为RFMscore-7.2\"><span class=\"toc-item-num\">7.2&nbsp;&nbsp;</span>将RFMvalue转为RFMscore</a></span></li><li><span><a href=\"#根据RFMscore进行分层\" data-toc-modified-id=\"根据RFMscore进行分层-7.3\"><span class=\"toc-item-num\">7.3&nbsp;&nbsp;</span>根据RFMscore进行分层</a></span></li></ul></li><li><span><a href=\"#7-总结\" data-toc-modified-id=\"7-总结-8\"><span class=\"toc-item-num\">8&nbsp;&nbsp;</span>7 总结</a></span></li></ul></div>"
   ]
  },
  {
   "cell_type": "markdown",
   "metadata": {},
   "source": [
    "智能供应链分析EDA"
   ]
  },
  {
   "cell_type": "markdown",
   "metadata": {},
   "source": [
    "数据集：SupplyChainDataset.csv，供应链采购数据       \n",
    "To Do：   \n",
    "供应链数据探索"
   ]
  },
  {
   "cell_type": "code",
   "execution_count": null,
   "metadata": {
    "ExecuteTime": {
     "end_time": "2021-03-28T15:05:02.713994Z",
     "start_time": "2021-03-28T15:05:00.518139Z"
    }
   },
   "outputs": [],
   "source": [
    "import datetime\n",
    "\n",
    "\n",
    "import numpy as np\n",
    "import pandas as pd\n",
    "import seaborn as sns\n",
    "import missingno as msno\n",
    "import plotly.express as px # plotly的高级API\n",
    "from matplotlib import pyplot as plt\n",
    "from sklearn.preprocessing import LabelEncoder"
   ]
  },
  {
   "cell_type": "code",
   "execution_count": null,
   "metadata": {
    "ExecuteTime": {
     "end_time": "2021-03-28T15:14:17.654123Z",
     "start_time": "2021-03-28T15:14:17.645279Z"
    }
   },
   "outputs": [],
   "source": [
    "pd.options.display.max_columns = None\n",
    "sns.set_style('darkgrid')\n",
    "sns.set_context(\"notebook\", font_scale=1.)"
   ]
  },
  {
   "cell_type": "code",
   "execution_count": null,
   "metadata": {
    "ExecuteTime": {
     "end_time": "2021-03-28T15:14:43.773791Z",
     "start_time": "2021-03-28T15:14:43.770847Z"
    }
   },
   "outputs": [],
   "source": [
    "plt.rcParams['font.sans-serif'] = ['SimHei']\n",
    "plt.rcParams['axes.unicode_minus'] = False"
   ]
  },
  {
   "cell_type": "markdown",
   "metadata": {},
   "source": [
    "# 1 加载数据集"
   ]
  },
  {
   "cell_type": "code",
   "execution_count": null,
   "metadata": {
    "ExecuteTime": {
     "end_time": "2021-03-28T15:05:02.817479Z",
     "start_time": "2021-03-28T15:05:02.796074Z"
    }
   },
   "outputs": [],
   "source": [
    "# 存储要drop的列名称\n",
    "need_drop_cols = []"
   ]
  },
  {
   "cell_type": "code",
   "execution_count": null,
   "metadata": {
    "ExecuteTime": {
     "end_time": "2021-03-28T15:05:05.059896Z",
     "start_time": "2021-03-28T15:05:02.831590Z"
    },
    "scrolled": true
   },
   "outputs": [],
   "source": [
    "fpath = \"SupplyChain.csv\"\n",
    "df = pd.read_csv(fpath, encoding='unicode_escape')"
   ]
  },
  {
   "cell_type": "code",
   "execution_count": null,
   "metadata": {
    "ExecuteTime": {
     "end_time": "2021-03-28T15:05:05.116157Z",
     "start_time": "2021-03-28T15:05:05.063753Z"
    }
   },
   "outputs": [],
   "source": [
    "df.head(2)"
   ]
  },
  {
   "cell_type": "markdown",
   "metadata": {},
   "source": [
    "## 1.1 认识数据集"
   ]
  },
  {
   "cell_type": "code",
   "execution_count": null,
   "metadata": {
    "ExecuteTime": {
     "end_time": "2021-03-28T15:05:05.133053Z",
     "start_time": "2021-03-28T15:05:05.121887Z"
    }
   },
   "outputs": [],
   "source": [
    "df.shape"
   ]
  },
  {
   "cell_type": "markdown",
   "metadata": {},
   "source": [
    "### 1.1.1 缺失值"
   ]
  },
  {
   "cell_type": "markdown",
   "metadata": {},
   "source": [
    "#### 1.1.1.1 可视化缺失值在各列中的占比"
   ]
  },
  {
   "cell_type": "code",
   "execution_count": null,
   "metadata": {
    "ExecuteTime": {
     "end_time": "2021-03-28T15:05:13.389972Z",
     "start_time": "2021-03-28T15:05:05.136864Z"
    }
   },
   "outputs": [],
   "source": [
    "msno.bar(df, labels=True, sort='ascending')"
   ]
  },
  {
   "cell_type": "markdown",
   "metadata": {},
   "source": [
    "Product Description商品描述列全部为空，Order Zipcode邮编86%以上的样本都是缺失值，故都drop。"
   ]
  },
  {
   "cell_type": "code",
   "execution_count": null,
   "metadata": {
    "ExecuteTime": {
     "end_time": "2021-03-28T15:05:13.397977Z",
     "start_time": "2021-03-28T15:05:13.393118Z"
    }
   },
   "outputs": [],
   "source": [
    "need_drop_cols.append('Product Description')\n",
    "need_drop_cols.append('Order Zipcode')"
   ]
  },
  {
   "cell_type": "code",
   "execution_count": null,
   "metadata": {
    "ExecuteTime": {
     "end_time": "2021-03-28T15:05:13.432340Z",
     "start_time": "2021-03-28T15:05:13.402276Z"
    }
   },
   "outputs": [],
   "source": [
    "# 客户last name\n",
    "df['Customer Lname'].value_counts()"
   ]
  },
  {
   "cell_type": "code",
   "execution_count": null,
   "metadata": {
    "ExecuteTime": {
     "end_time": "2021-03-28T15:05:13.456502Z",
     "start_time": "2021-03-28T15:05:13.435359Z"
    }
   },
   "outputs": [],
   "source": [
    "df['Customer Lname'] = df['Customer Lname'].fillna('') # 空字符串填充缺失值，和first name拼接"
   ]
  },
  {
   "cell_type": "code",
   "execution_count": null,
   "metadata": {
    "ExecuteTime": {
     "end_time": "2021-03-28T15:05:13.506330Z",
     "start_time": "2021-03-28T15:05:13.459870Z"
    }
   },
   "outputs": [],
   "source": [
    "df['Customer Lname'].isnull().sum()"
   ]
  },
  {
   "cell_type": "code",
   "execution_count": null,
   "metadata": {
    "ExecuteTime": {
     "end_time": "2021-03-28T15:05:13.524671Z",
     "start_time": "2021-03-28T15:05:13.509616Z"
    }
   },
   "outputs": [],
   "source": [
    "# 客户所在邮编\n",
    "df['Customer Zipcode'].value_counts()"
   ]
  },
  {
   "cell_type": "markdown",
   "metadata": {},
   "source": [
    "Customer Lname 客户last name和客户所在邮编的样本相对集中，缺失值样本非常少，drop缺失行或填充。"
   ]
  },
  {
   "cell_type": "markdown",
   "metadata": {},
   "source": [
    "#### 1.1.1.2 合并名称列"
   ]
  },
  {
   "cell_type": "code",
   "execution_count": null,
   "metadata": {
    "ExecuteTime": {
     "end_time": "2021-03-28T15:05:13.537539Z",
     "start_time": "2021-03-28T15:05:13.527184Z"
    }
   },
   "outputs": [],
   "source": [
    "df['Customer Zipcode'] = df['Customer Zipcode'].fillna(0)"
   ]
  },
  {
   "cell_type": "code",
   "execution_count": null,
   "metadata": {
    "ExecuteTime": {
     "end_time": "2021-03-28T15:05:13.637828Z",
     "start_time": "2021-03-28T15:05:13.544786Z"
    }
   },
   "outputs": [],
   "source": [
    "df['Customer Fullname'] = df['Customer Fname'].str.cat(df['Customer Lname'], sep=' ')"
   ]
  },
  {
   "cell_type": "code",
   "execution_count": null,
   "metadata": {
    "ExecuteTime": {
     "end_time": "2021-03-28T15:05:13.740056Z",
     "start_time": "2021-03-28T15:05:13.642022Z"
    },
    "scrolled": true
   },
   "outputs": [],
   "source": [
    "df['Customer Fullname'].value_counts()"
   ]
  },
  {
   "cell_type": "code",
   "execution_count": null,
   "metadata": {
    "ExecuteTime": {
     "end_time": "2021-03-28T15:05:13.756462Z",
     "start_time": "2021-03-28T15:05:13.748226Z"
    }
   },
   "outputs": [],
   "source": [
    "# 只保留全名特征\n",
    "need_drop_cols += ['Customer Fname', 'Customer Lname']\n",
    "len(need_drop_cols)"
   ]
  },
  {
   "cell_type": "markdown",
   "metadata": {},
   "source": [
    "### 1.1.2 describe Object类的列"
   ]
  },
  {
   "cell_type": "code",
   "execution_count": null,
   "metadata": {
    "ExecuteTime": {
     "end_time": "2021-03-28T15:05:13.916950Z",
     "start_time": "2021-03-28T15:05:13.763733Z"
    },
    "scrolled": true
   },
   "outputs": [],
   "source": [
    "df.select_dtypes(include='object').head(2)"
   ]
  },
  {
   "cell_type": "code",
   "execution_count": null,
   "metadata": {
    "ExecuteTime": {
     "end_time": "2021-03-28T15:05:15.022137Z",
     "start_time": "2021-03-28T15:05:13.920302Z"
    },
    "scrolled": false
   },
   "outputs": [],
   "source": [
    "df.describe(include='object')"
   ]
  },
  {
   "cell_type": "markdown",
   "metadata": {},
   "source": [
    "数据集中同一个订单的不同商品都单独为一个样本，因此同一个订单ID会出现多次。"
   ]
  },
  {
   "cell_type": "code",
   "execution_count": null,
   "metadata": {
    "ExecuteTime": {
     "end_time": "2021-03-28T15:05:15.030326Z",
     "start_time": "2021-03-28T15:05:15.025629Z"
    }
   },
   "outputs": [],
   "source": [
    "# drop用户邮箱和用户密码列\n",
    "# 商品图像是连接，我们也不需要\n",
    "need_drop_cols += ['Customer Email', 'Customer Password', 'Product Image']"
   ]
  },
  {
   "cell_type": "code",
   "execution_count": null,
   "metadata": {
    "ExecuteTime": {
     "end_time": "2021-03-28T15:05:15.046593Z",
     "start_time": "2021-03-28T15:05:15.035275Z"
    },
    "scrolled": false
   },
   "outputs": [],
   "source": [
    "df['Order Id'].nunique()"
   ]
  },
  {
   "cell_type": "code",
   "execution_count": null,
   "metadata": {
    "ExecuteTime": {
     "end_time": "2021-03-28T15:05:15.095152Z",
     "start_time": "2021-03-28T15:05:15.049137Z"
    },
    "scrolled": false
   },
   "outputs": [],
   "source": [
    "df[df['Order Id'] == 67583]"
   ]
  },
  {
   "cell_type": "markdown",
   "metadata": {},
   "source": [
    "可以看出一笔订单，因为一笔订单中有多个商品，所以一笔订单有多条记录。"
   ]
  },
  {
   "cell_type": "markdown",
   "metadata": {},
   "source": [
    "### 1.1.3 数值类型特征统计信息"
   ]
  },
  {
   "cell_type": "code",
   "execution_count": null,
   "metadata": {
    "ExecuteTime": {
     "end_time": "2021-03-28T15:05:15.442838Z",
     "start_time": "2021-03-28T15:05:15.099717Z"
    },
    "scrolled": false
   },
   "outputs": [],
   "source": [
    "df.describe()"
   ]
  },
  {
   "cell_type": "code",
   "execution_count": null,
   "metadata": {
    "ExecuteTime": {
     "end_time": "2021-03-28T15:05:15.457100Z",
     "start_time": "2021-03-28T15:05:15.447363Z"
    }
   },
   "outputs": [],
   "source": [
    "df['Product Card Id'].value_counts()[:3]"
   ]
  },
  {
   "cell_type": "code",
   "execution_count": null,
   "metadata": {
    "ExecuteTime": {
     "end_time": "2021-03-28T15:05:15.487161Z",
     "start_time": "2021-03-28T15:05:15.460810Z"
    }
   },
   "outputs": [],
   "source": [
    "df['Product Name'].value_counts()[:3]"
   ]
  },
  {
   "cell_type": "code",
   "execution_count": null,
   "metadata": {
    "ExecuteTime": {
     "end_time": "2021-03-28T15:05:15.498251Z",
     "start_time": "2021-03-28T15:05:15.491043Z"
    },
    "scrolled": true
   },
   "outputs": [],
   "source": [
    "df['Product Category Id'].nunique()"
   ]
  },
  {
   "cell_type": "code",
   "execution_count": null,
   "metadata": {
    "ExecuteTime": {
     "end_time": "2021-03-28T15:05:15.510459Z",
     "start_time": "2021-03-28T15:05:15.501825Z"
    }
   },
   "outputs": [],
   "source": [
    "df['Category Id'].value_counts().shape"
   ]
  },
  {
   "cell_type": "code",
   "execution_count": null,
   "metadata": {
    "ExecuteTime": {
     "end_time": "2021-03-28T15:05:15.521635Z",
     "start_time": "2021-03-28T15:05:15.514031Z"
    }
   },
   "outputs": [],
   "source": [
    "(df['Benefit per order'] == df['Order Profit Per Order']).sum()"
   ]
  },
  {
   "cell_type": "code",
   "execution_count": null,
   "metadata": {
    "ExecuteTime": {
     "end_time": "2021-03-28T15:05:15.536172Z",
     "start_time": "2021-03-28T15:05:15.525038Z"
    }
   },
   "outputs": [],
   "source": [
    "df['Order Item Id'].is_unique"
   ]
  },
  {
   "cell_type": "markdown",
   "metadata": {},
   "source": [
    "- **Product Status 产品状态都是0，要drop；**\n",
    "- **Department Id 部门ID 和 Department Name 商店的部门名称对应；drop名称**\n",
    "- **Order Item Cardprod Id 通过RFD生成的商品ID 和Product Card Id 商品ID相同，和 商品名称'Product Name'是一一对应的，drop2个;**\n",
    "- **Product Category Id 类目ID、Category Id 商品类别ID 和 Category Name 类目名称对应。drop2个**   \n",
    "- **Order Customer Id\t订单客户ID  和 Customer  Id 客户ID 相同，drop1个；**\n",
    "- **Order Item Id 订单商品ID 每一行样本ID都不同，可以drop**\n",
    "- **Benefit per order 每笔订单利润 和 Order Profit Per Order 订单利润两个字段的值完全相同，drop一列。**\n",
    "- **Order Item Product Price 订单商品价格和Product Price商品价格均值、标准差、最大最小等均完全相同，drop一列**"
   ]
  },
  {
   "cell_type": "code",
   "execution_count": null,
   "metadata": {
    "ExecuteTime": {
     "end_time": "2021-03-28T15:05:15.546137Z",
     "start_time": "2021-03-28T15:05:15.539736Z"
    }
   },
   "outputs": [],
   "source": [
    "need_drop_cols += [\n",
    "    'Product Status',\n",
    "    'Customer Id',\n",
    "    'Order Item Cardprod Id',\n",
    "    'Product Category Id',\n",
    "    'Category Name',\n",
    "    'Product Name',\n",
    "    'Order Profit Per Order',  \n",
    "    'Department Name',\n",
    "    'Order Item Id',\n",
    "    'Order Item Product Price'\n",
    "]\n",
    "len(need_drop_cols)"
   ]
  },
  {
   "cell_type": "markdown",
   "metadata": {},
   "source": [
    "# 2 object类特征可视化"
   ]
  },
  {
   "cell_type": "markdown",
   "metadata": {},
   "source": [
    "## 2.1 发货日期和下单日期转为datetime"
   ]
  },
  {
   "cell_type": "code",
   "execution_count": null,
   "metadata": {
    "ExecuteTime": {
     "end_time": "2021-03-28T15:05:16.157392Z",
     "start_time": "2021-03-28T15:05:15.548726Z"
    }
   },
   "outputs": [],
   "source": [
    "# 发货日期\n",
    "df['shipping date (DateOrders)'] = pd.to_datetime(\n",
    "    df['shipping date (DateOrders)'], format='%m/%d/%Y %H:%M')"
   ]
  },
  {
   "cell_type": "code",
   "execution_count": null,
   "metadata": {
    "ExecuteTime": {
     "end_time": "2021-03-28T15:05:16.723151Z",
     "start_time": "2021-03-28T15:05:16.161851Z"
    }
   },
   "outputs": [],
   "source": [
    "# 下单日期\n",
    "df['order date (DateOrders)'] = pd.to_datetime(df['order date (DateOrders)'],\n",
    "                                               format='%m/%d/%Y %H:%M')"
   ]
  },
  {
   "cell_type": "code",
   "execution_count": null,
   "metadata": {
    "ExecuteTime": {
     "end_time": "2021-03-28T15:05:16.794070Z",
     "start_time": "2021-03-28T15:05:16.779715Z"
    }
   },
   "outputs": [],
   "source": [
    "df['shipping date (DateOrders)'].min(), df['shipping date (DateOrders)'].max()"
   ]
  },
  {
   "cell_type": "code",
   "execution_count": null,
   "metadata": {
    "ExecuteTime": {
     "end_time": "2021-03-28T15:05:16.813960Z",
     "start_time": "2021-03-28T15:05:16.800155Z"
    }
   },
   "outputs": [],
   "source": [
    "df['order date (DateOrders)'].min(), df['order date (DateOrders)'].max()"
   ]
  },
  {
   "cell_type": "markdown",
   "metadata": {},
   "source": [
    "数据集数据下单的时间范围为2015年1月1日到2018年1月31日之间3年零一个月。"
   ]
  },
  {
   "cell_type": "code",
   "execution_count": null,
   "metadata": {
    "ExecuteTime": {
     "end_time": "2021-03-28T15:05:18.040587Z",
     "start_time": "2021-03-28T15:05:16.819317Z"
    }
   },
   "outputs": [],
   "source": [
    "df['shipping date (DateOrders)'].apply(lambda x:x.year).value_counts()"
   ]
  },
  {
   "cell_type": "code",
   "execution_count": null,
   "metadata": {
    "ExecuteTime": {
     "end_time": "2021-03-28T15:05:19.007836Z",
     "start_time": "2021-03-28T15:05:18.044177Z"
    }
   },
   "outputs": [],
   "source": [
    "df['order date (DateOrders)'].apply(lambda x:x.year).value_counts()"
   ]
  },
  {
   "cell_type": "markdown",
   "metadata": {},
   "source": [
    "下单年份和发货年份样本数并不相同，应该有跨年订单"
   ]
  },
  {
   "cell_type": "code",
   "execution_count": null,
   "metadata": {
    "ExecuteTime": {
     "end_time": "2021-03-28T15:05:21.148183Z",
     "start_time": "2021-03-28T15:05:19.016984Z"
    }
   },
   "outputs": [],
   "source": [
    "df['Shipping yearOfDate'] = df['shipping date (DateOrders)'].apply(\n",
    "    lambda x: x.year)\n",
    "df['Shipping monthOfDate'] = df['shipping date (DateOrders)'].apply(\n",
    "    lambda x: x.month)\n",
    "df['Shipping dayOfDate'] = df['shipping date (DateOrders)'].apply(\n",
    "    lambda x: x.day)"
   ]
  },
  {
   "cell_type": "code",
   "execution_count": null,
   "metadata": {
    "ExecuteTime": {
     "end_time": "2021-03-28T15:05:23.967238Z",
     "start_time": "2021-03-28T15:05:21.150957Z"
    }
   },
   "outputs": [],
   "source": [
    "df['Order yearOfDate'] = df['order date (DateOrders)'].apply(lambda x: x.year)\n",
    "df['Order monthOfDate'] = df['order date (DateOrders)'].apply(\n",
    "    lambda x: x.month)\n",
    "df['Order dayOfDate'] = df['order date (DateOrders)'].apply(lambda x: x.day)"
   ]
  },
  {
   "cell_type": "code",
   "execution_count": null,
   "metadata": {
    "ExecuteTime": {
     "end_time": "2021-03-28T15:05:24.047547Z",
     "start_time": "2021-03-28T15:05:23.969486Z"
    }
   },
   "outputs": [],
   "source": [
    "time_index = pd.DatetimeIndex(df['order date (DateOrders)'])\n",
    "df['Order weekOfDate'] = time_index.weekday\n",
    "df['Order yearMonth'] = time_index.to_period(freq='M')"
   ]
  },
  {
   "cell_type": "code",
   "execution_count": null,
   "metadata": {
    "ExecuteTime": {
     "end_time": "2021-03-28T15:05:24.132542Z",
     "start_time": "2021-03-28T15:05:24.086349Z"
    }
   },
   "outputs": [],
   "source": [
    "df['Order hourOfDate'] = time_index.hour"
   ]
  },
  {
   "cell_type": "code",
   "execution_count": null,
   "metadata": {
    "ExecuteTime": {
     "end_time": "2021-03-28T15:05:24.185202Z",
     "start_time": "2021-03-28T15:05:24.135717Z"
    }
   },
   "outputs": [],
   "source": [
    "df.head(1)"
   ]
  },
  {
   "cell_type": "markdown",
   "metadata": {},
   "source": [
    "## 2.2 交易支付方式 Type 可视化"
   ]
  },
  {
   "cell_type": "code",
   "execution_count": null,
   "metadata": {
    "ExecuteTime": {
     "end_time": "2021-03-28T15:05:24.836046Z",
     "start_time": "2021-03-28T15:05:24.190500Z"
    }
   },
   "outputs": [],
   "source": [
    "# 每笔订单ID只保留第一行\n",
    "perOrderId_df = df.drop_duplicates(subset=['Order Id'])"
   ]
  },
  {
   "cell_type": "code",
   "execution_count": null,
   "metadata": {
    "ExecuteTime": {
     "end_time": "2021-03-28T15:05:25.497314Z",
     "start_time": "2021-03-28T15:05:24.840068Z"
    }
   },
   "outputs": [],
   "source": [
    "sns.set_style('darkgrid')\n",
    "perOrderId_df['Type'].value_counts(normalize=True).plot(kind='bar', title='Trade Type')"
   ]
  },
  {
   "cell_type": "markdown",
   "metadata": {},
   "source": [
    "BEBIT 借记卡支付占比最高约38%左右；     \n",
    "TRANSFER  转账占比其次，约27%左右；    \n",
    "PAYMENT  付款占比约23%左右    \n",
    "CASH  现金占比最低，约11%。    "
   ]
  },
  {
   "cell_type": "code",
   "execution_count": null,
   "metadata": {
    "ExecuteTime": {
     "end_time": "2021-03-28T15:05:25.517063Z",
     "start_time": "2021-03-28T15:05:25.501229Z"
    }
   },
   "outputs": [],
   "source": [
    "order = list(perOrderId_df['Order Region'].value_counts().index)"
   ]
  },
  {
   "cell_type": "code",
   "execution_count": null,
   "metadata": {
    "ExecuteTime": {
     "end_time": "2021-03-28T15:05:27.666034Z",
     "start_time": "2021-03-28T15:05:25.526678Z"
    },
    "scrolled": false
   },
   "outputs": [],
   "source": [
    "facegrid = sns.catplot(x='Order Region',\n",
    "                       data=perOrderId_df,\n",
    "                       hue='Type',\n",
    "                       kind='count',\n",
    "                       order=order,\n",
    "                       height=8.,\n",
    "                       aspect=3.)\n",
    "facegrid.ax.set_xticklabels(order, rotation=90)\n",
    "facegrid.ax.set_title(\n",
    "    label=\"Different Type of payments in all regions\",\n",
    "    fontdict={'fontsize': 30},\n",
    "    pad=3.,\n",
    ")"
   ]
  },
  {
   "cell_type": "markdown",
   "metadata": {},
   "source": [
    "从上面2个图中可以看出，在不同订单所属地区，支付方式的规律与整体一致；人们都是倾向于使用DEBIT借记卡支付方式最多，TRANSFER 转账其次，CASH最少。"
   ]
  },
  {
   "cell_type": "markdown",
   "metadata": {},
   "source": [
    "## 2.3 Delivery Status交货状态数值化"
   ]
  },
  {
   "cell_type": "code",
   "execution_count": null,
   "metadata": {
    "ExecuteTime": {
     "end_time": "2021-03-28T15:05:27.951455Z",
     "start_time": "2021-03-28T15:05:27.670387Z"
    }
   },
   "outputs": [],
   "source": [
    "# 交货状态\n",
    "perOrderId_df['Delivery Status'].value_counts(normalize=True).plot(\n",
    "    kind='bar',\n",
    "    title='Delivery Status',\n",
    "    rot=45,\n",
    "    figsize=(16, 6),\n",
    "    table=True,\n",
    "    use_index=False)"
   ]
  },
  {
   "cell_type": "markdown",
   "metadata": {},
   "source": [
    "## 2.4 Shipping Mode发货方式数值化"
   ]
  },
  {
   "cell_type": "code",
   "execution_count": null,
   "metadata": {
    "ExecuteTime": {
     "end_time": "2021-03-28T15:05:28.161272Z",
     "start_time": "2021-03-28T15:05:27.954193Z"
    }
   },
   "outputs": [],
   "source": [
    "perOrderId_df['Shipping Mode'].value_counts(normalize=True).plot(\n",
    "    kind='bar', title='Shipping Mode', rot=45)"
   ]
  },
  {
   "cell_type": "markdown",
   "metadata": {},
   "source": [
    "## 2.5 Order Status订单状态"
   ]
  },
  {
   "cell_type": "markdown",
   "metadata": {},
   "source": [
    "### 2.5.1 各订单状态订单数统计"
   ]
  },
  {
   "cell_type": "code",
   "execution_count": null,
   "metadata": {
    "ExecuteTime": {
     "end_time": "2021-03-28T15:05:28.399029Z",
     "start_time": "2021-03-28T15:05:28.165940Z"
    }
   },
   "outputs": [],
   "source": [
    "perOrderId_df['Order Status'].value_counts().plot(kind='bar',\n",
    "                                                  title='Order Status per Order Id',\n",
    "                                                  rot=90)"
   ]
  },
  {
   "cell_type": "code",
   "execution_count": null,
   "metadata": {
    "ExecuteTime": {
     "end_time": "2021-03-28T15:05:28.532872Z",
     "start_time": "2021-03-28T15:05:28.401827Z"
    }
   },
   "outputs": [],
   "source": [
    "df[df['Order Status'] == 'SUSPECTED_FRAUD'].describe(include='object')"
   ]
  },
  {
   "cell_type": "markdown",
   "metadata": {},
   "source": [
    "可知只有约36%的订单是完成的，所以我们在分析销售额的时候，看完成订单的销售额比较准确。"
   ]
  },
  {
   "cell_type": "markdown",
   "metadata": {},
   "source": [
    "### 2.5.2 在不同交货状态中各订单状态的样本数统计"
   ]
  },
  {
   "cell_type": "code",
   "execution_count": null,
   "metadata": {
    "ExecuteTime": {
     "end_time": "2021-03-28T15:05:31.265463Z",
     "start_time": "2021-03-28T15:05:28.536133Z"
    },
    "code_folding": []
   },
   "outputs": [],
   "source": [
    "facetg = sns.catplot(data=df,\n",
    "            x='Order Status',\n",
    "            hue='Delivery Status',\n",
    "            kind='count',\n",
    "            aspect=3.)\n",
    "facetg.ax.set_title(\"Diffrent Order Status in Delivery Status\")\n",
    "facetg.ax.set_xticklabels(df['Order Status'].value_counts().index, rotation=80)"
   ]
  },
  {
   "cell_type": "markdown",
   "metadata": {},
   "source": [
    "疑似欺诈(SUSPECTED_FRAUD)的订单的交货状态均为运送取消，另一部分运送取消的订单状态是CLOSED，结合2.3中的图标二者占总订单的3%。"
   ]
  },
  {
   "cell_type": "markdown",
   "metadata": {},
   "source": [
    "### 2.5.3  15年-18年1月每年中处于各订单状态的订单数统计"
   ]
  },
  {
   "cell_type": "code",
   "execution_count": null,
   "metadata": {
    "ExecuteTime": {
     "end_time": "2021-03-28T15:05:33.901384Z",
     "start_time": "2021-03-28T15:05:31.267944Z"
    }
   },
   "outputs": [],
   "source": [
    "g = sns.catplot(data=df,\n",
    "                x='Order yearOfDate',\n",
    "                hue='Order Status',\n",
    "                kind='count',\n",
    "                aspect=3.)\n",
    "g.ax.set_title(\"Diffrent Order Status in every year\")\n",
    "g.ax.set_xticklabels([2015,  2016, 2017, 2018], rotation=80)"
   ]
  },
  {
   "cell_type": "markdown",
   "metadata": {},
   "source": [
    "- complete        订单完成\n",
    "- pending payment 等待付款\n",
    "- processing      处理中\n",
    "- pending         等待中\n",
    "- closed          关闭\n",
    "- on hold         搁置\n",
    "- suspected fraud 疑似欺诈行为\n",
    "- canceled        取消了\n",
    "- payment review  付款审核"
   ]
  },
  {
   "cell_type": "markdown",
   "metadata": {},
   "source": [
    "可以看到15-18年，各Order Status的订单均存在，但其他未完成订单的，我们认为订单不一定会继续，所以计算销售额时不算在内。"
   ]
  },
  {
   "cell_type": "markdown",
   "metadata": {},
   "source": [
    "### 2.5.4 统计欺诈订单最多的Top10个客户"
   ]
  },
  {
   "cell_type": "code",
   "execution_count": null,
   "metadata": {
    "ExecuteTime": {
     "end_time": "2021-03-28T15:05:33.914446Z",
     "start_time": "2021-03-28T15:05:33.903779Z"
    }
   },
   "outputs": [],
   "source": [
    "doubt_fraud = perOrderId_df[perOrderId_df['Order Status'] == 'SUSPECTED_FRAUD']"
   ]
  },
  {
   "cell_type": "code",
   "execution_count": null,
   "metadata": {
    "ExecuteTime": {
     "end_time": "2021-03-28T15:05:33.932607Z",
     "start_time": "2021-03-28T15:05:33.927831Z"
    }
   },
   "outputs": [],
   "source": [
    "doubt_fraud.shape"
   ]
  },
  {
   "cell_type": "code",
   "execution_count": null,
   "metadata": {
    "ExecuteTime": {
     "end_time": "2021-03-28T15:05:33.947242Z",
     "start_time": "2021-03-28T15:05:33.940654Z"
    }
   },
   "outputs": [],
   "source": [
    "doubt_fraud_costomer = doubt_fraud['Customer Fullname'].value_counts()"
   ]
  },
  {
   "cell_type": "code",
   "execution_count": null,
   "metadata": {
    "ExecuteTime": {
     "end_time": "2021-03-28T15:05:33.978586Z",
     "start_time": "2021-03-28T15:05:33.949571Z"
    }
   },
   "outputs": [],
   "source": [
    "doubt_fraud_costomer.shape  # 有1061个客户有疑似欺诈的订单产生"
   ]
  },
  {
   "cell_type": "code",
   "execution_count": null,
   "metadata": {
    "ExecuteTime": {
     "end_time": "2021-03-28T15:05:34.202433Z",
     "start_time": "2021-03-28T15:05:33.983448Z"
    }
   },
   "outputs": [],
   "source": [
    "ax = doubt_fraud_costomer[:10].plot(kind='bar',\n",
    "                                    figsize=(15, 6),\n",
    "                                    title=\"Top10 Highest Fraud Customers\")"
   ]
  },
  {
   "cell_type": "markdown",
   "metadata": {},
   "source": [
    "着实可疑，一水的Smith，像小号。"
   ]
  },
  {
   "cell_type": "markdown",
   "metadata": {},
   "source": [
    "## 2.6 可视化各国家客户数分布"
   ]
  },
  {
   "cell_type": "code",
   "execution_count": null,
   "metadata": {
    "ExecuteTime": {
     "end_time": "2021-03-28T15:05:34.379242Z",
     "start_time": "2021-03-28T15:05:34.205768Z"
    }
   },
   "outputs": [],
   "source": [
    "df['Customer Country'].value_counts().plot(\n",
    "    kind='bar',\n",
    "    title=\"Customer Country Distribution\",\n",
    "    table=True,\n",
    "    use_index=False)"
   ]
  },
  {
   "cell_type": "markdown",
   "metadata": {},
   "source": [
    "## 2.7 可视化各国家样本数"
   ]
  },
  {
   "cell_type": "code",
   "execution_count": null,
   "metadata": {
    "ExecuteTime": {
     "end_time": "2021-03-28T15:05:34.715618Z",
     "start_time": "2021-03-28T15:05:34.388770Z"
    }
   },
   "outputs": [],
   "source": [
    "df['Order Country'].value_counts()[:10].plot(\n",
    "    kind='bar',\n",
    "    title=\"Order Country Distribution\",\n",
    "    figsize=(16, 4),\n",
    "    table=True,\n",
    "    use_index=False)"
   ]
  },
  {
   "cell_type": "markdown",
   "metadata": {},
   "source": [
    "# 3 预计发货天数和实际发货天数可视化"
   ]
  },
  {
   "cell_type": "code",
   "execution_count": null,
   "metadata": {
    "ExecuteTime": {
     "end_time": "2021-03-28T15:05:35.144437Z",
     "start_time": "2021-03-28T15:05:34.718137Z"
    }
   },
   "outputs": [],
   "source": [
    "fig, axes = plt.subplots(1, 2, figsize=(16, 5))\n",
    "ax = sns.countplot(x='Days for shipping (real)',\n",
    "                   data=perOrderId_df,\n",
    "                   ax=axes[0],\n",
    "                   hue='Late_delivery_risk')\n",
    "ax.set_title(\"'Days for shipping (real)'\")\n",
    "ax = sns.countplot(x='Days for shipment (scheduled)',\n",
    "                   data=perOrderId_df,\n",
    "                   ax=axes[1],\n",
    "                   hue='Late_delivery_risk')\n",
    "ax.set_title(\"Days for shipment (scheduled)\")"
   ]
  },
  {
   "cell_type": "markdown",
   "metadata": {},
   "source": [
    "预计4天发货的样本中准时发货的比较多；真实发货的天数中，1天内发货的几乎都延迟发货了；真实天数2天的准时发货和延迟发货均多；3天、4天大部分样是是准时发货的；真实天数5、6天的几乎都延迟了，所以最好真实发货天数至少应控制在4天内，而预计1、2天发货的非常容易延迟发货。"
   ]
  },
  {
   "cell_type": "markdown",
   "metadata": {},
   "source": [
    "# 4 对于销售额进行探索"
   ]
  },
  {
   "cell_type": "markdown",
   "metadata": {},
   "source": [
    "## 4.1 各Market销售额占比"
   ]
  },
  {
   "cell_type": "code",
   "execution_count": null,
   "metadata": {
    "ExecuteTime": {
     "end_time": "2021-03-28T15:05:35.189178Z",
     "start_time": "2021-03-28T15:05:35.148623Z"
    }
   },
   "outputs": [],
   "source": [
    "# 交易完成的所有订单\n",
    "complete_orders = df[df['Order Status'] == 'COMPLETE']"
   ]
  },
  {
   "cell_type": "code",
   "execution_count": null,
   "metadata": {
    "ExecuteTime": {
     "end_time": "2021-03-28T15:05:35.197597Z",
     "start_time": "2021-03-28T15:05:35.192634Z"
    }
   },
   "outputs": [],
   "source": [
    "complete_orders.shape"
   ]
  },
  {
   "cell_type": "code",
   "execution_count": null,
   "metadata": {
    "ExecuteTime": {
     "end_time": "2021-03-28T15:05:35.208077Z",
     "start_time": "2021-03-28T15:05:35.200855Z"
    },
    "scrolled": true
   },
   "outputs": [],
   "source": [
    "# px.pie(complete_orders,\n",
    "#        values='Sales per customer',\n",
    "#        names='Market',\n",
    "#        title=\"Sales of completed orders traded in each market\",\n",
    "#        height=400)"
   ]
  },
  {
   "cell_type": "markdown",
   "metadata": {},
   "source": [
    "欧洲市场销售额占比最高，非洲市场的销售额占比最低。"
   ]
  },
  {
   "cell_type": "markdown",
   "metadata": {},
   "source": [
    "## 4.2 2015~2018年1月不同地区的订单在地图上的分布\n",
    "导致文件过大，所以注释掉再提交"
   ]
  },
  {
   "cell_type": "code",
   "execution_count": null,
   "metadata": {
    "ExecuteTime": {
     "end_time": "2021-03-28T15:05:35.218639Z",
     "start_time": "2021-03-28T15:05:35.213673Z"
    },
    "scrolled": true
   },
   "outputs": [],
   "source": [
    "# px.scatter_geo(complete_orders,\n",
    "#                lat='Latitude', lon='Longitude',\n",
    "#                color=\"Order Region\",\n",
    "#                size=\"Sales per customer\",\n",
    "#                hover_name=\"Market\",\n",
    "#                animation_frame=\"Order yearOfDate\",\n",
    "#                category_orders={'Order yearOfDate':[2015, 2016, 2017, 2018]},\n",
    "#                title=\"2015~2018年各订单在地图上的分布\",\n",
    "#                projection=\"natural earth\")"
   ]
  },
  {
   "cell_type": "markdown",
   "metadata": {},
   "source": [
    "## 4.3 2015.1-2018.1各地区来自不同客户类型的销售额的分布"
   ]
  },
  {
   "cell_type": "markdown",
   "metadata": {},
   "source": [
    "只对订单状态为COMPLETE的订单进行统计销售额。"
   ]
  },
  {
   "cell_type": "code",
   "execution_count": null,
   "metadata": {
    "ExecuteTime": {
     "end_time": "2021-03-28T15:05:35.226318Z",
     "start_time": "2021-03-28T15:05:35.222479Z"
    },
    "code_folding": []
   },
   "outputs": [],
   "source": [
    "# px.strip(\n",
    "#     complete_orders,\n",
    "#     x='Order Region',\n",
    "#     y='Sales per customer',\n",
    "#     color='Customer Segment',\n",
    "#     orientation=\"v\",  # 绘制垂直分布散点图\n",
    "#     animation_frame=\"Order yearOfDate\",  # 添加按年变化的滑动条\n",
    "#     category_orders={'Order yearOfDate': [2015, 2016, 2017, 2018]}, # 指定年由左向右变化的顺序\n",
    "#     title=\"2015.1-2018.1各地区来自不同客户类型的销售额的分布散点图\"\n",
    "# )"
   ]
  },
  {
   "cell_type": "markdown",
   "metadata": {},
   "source": [
    "各个地区每年的销售额中 ，Home Office类客户销售额的散点分布相对稀疏，可见该类客户带来的销售额较少；而Consumer和Corporate两类客户，散点分布相近，二者带来的销售额差异不大。"
   ]
  },
  {
   "cell_type": "code",
   "execution_count": null,
   "metadata": {
    "ExecuteTime": {
     "end_time": "2021-03-28T15:05:35.234969Z",
     "start_time": "2021-03-28T15:05:35.230429Z"
    }
   },
   "outputs": [],
   "source": [
    "# px.histogram(complete_orders,\n",
    "#              x='Sales per customer',\n",
    "#              y='Order Region',\n",
    "#              log_x=True,\n",
    "#              marginal='box',\n",
    "#              title='Sum of Sales per customer in different Order Region')"
   ]
  },
  {
   "cell_type": "markdown",
   "metadata": {},
   "source": [
    "## 4.4 不同地区(Order Region)15年到18年已完成订单的销售额占比统计"
   ]
  },
  {
   "cell_type": "code",
   "execution_count": null,
   "metadata": {
    "ExecuteTime": {
     "end_time": "2021-03-28T15:05:35.253479Z",
     "start_time": "2021-03-28T15:05:35.242684Z"
    }
   },
   "outputs": [],
   "source": [
    "df['shipping date (DateOrders)'].min(), df['shipping date (DateOrders)'].max()"
   ]
  },
  {
   "cell_type": "markdown",
   "metadata": {},
   "source": [
    "数据集数据下单的时间范围为2015年1月1日到2018年1月31日之间3年零一个月，我们先来看每年不同地区销售额的占比情况"
   ]
  },
  {
   "cell_type": "markdown",
   "metadata": {},
   "source": [
    "只对订单状态为COMPLETE的订单进行统计销售额。"
   ]
  },
  {
   "cell_type": "code",
   "execution_count": null,
   "metadata": {
    "ExecuteTime": {
     "end_time": "2021-03-28T15:05:35.263938Z",
     "start_time": "2021-03-28T15:05:35.256657Z"
    }
   },
   "outputs": [],
   "source": [
    "def plot_pie(complete_orders, year=None):\n",
    "    if year:\n",
    "        fig = px.pie(\n",
    "            complete_orders[complete_orders['Order yearOfDate'] == year],\n",
    "            values='Sales per customer',\n",
    "            names='Order Region',\n",
    "            title=\"%d Sales of completed orders traded in each Order Region\" %\n",
    "            year,\n",
    "            hole=0.5,\n",
    "            height=500)\n",
    "    else:\n",
    "        fig = px.pie(\n",
    "            complete_orders,\n",
    "            values='Sales per customer',\n",
    "            names='Order Region',\n",
    "            title=\n",
    "            \"2015-2018 Sales of completed orders traded in each Order Region\",\n",
    "            hole=0.5,\n",
    "            height=500)\n",
    "    fig.show()"
   ]
  },
  {
   "cell_type": "code",
   "execution_count": null,
   "metadata": {
    "ExecuteTime": {
     "end_time": "2021-03-28T15:05:35.308537Z",
     "start_time": "2021-03-28T15:05:35.267573Z"
    }
   },
   "outputs": [],
   "source": [
    "complete_orders.head(2)"
   ]
  },
  {
   "cell_type": "markdown",
   "metadata": {},
   "source": [
    "### 4.4.1 2015年不同地区(Order Region)销售额占比"
   ]
  },
  {
   "cell_type": "code",
   "execution_count": null,
   "metadata": {
    "ExecuteTime": {
     "end_time": "2021-03-28T15:05:36.530351Z",
     "start_time": "2021-03-28T15:05:35.311127Z"
    }
   },
   "outputs": [],
   "source": [
    "plot_pie(complete_orders, year=2015)"
   ]
  },
  {
   "cell_type": "markdown",
   "metadata": {},
   "source": [
    "### 4.4.2  2016年不同地区(Order Region)销售额占比"
   ]
  },
  {
   "cell_type": "code",
   "execution_count": null,
   "metadata": {
    "ExecuteTime": {
     "end_time": "2021-03-28T15:05:36.846409Z",
     "start_time": "2021-03-28T15:05:36.532788Z"
    },
    "scrolled": false
   },
   "outputs": [],
   "source": [
    "plot_pie(complete_orders, year=2016)"
   ]
  },
  {
   "cell_type": "markdown",
   "metadata": {},
   "source": [
    "### 4.4.3 2017年不同地区(Order Region)销售额占比"
   ]
  },
  {
   "cell_type": "code",
   "execution_count": null,
   "metadata": {
    "ExecuteTime": {
     "end_time": "2021-03-28T15:05:37.152332Z",
     "start_time": "2021-03-28T15:05:36.877249Z"
    }
   },
   "outputs": [],
   "source": [
    "plot_pie(complete_orders, year=2017) "
   ]
  },
  {
   "cell_type": "markdown",
   "metadata": {},
   "source": [
    "### 4.4.4 2018年1月不同地区(Order Region)销售额占比"
   ]
  },
  {
   "cell_type": "markdown",
   "metadata": {
    "ExecuteTime": {
     "end_time": "2020-10-31T22:13:18.730124Z",
     "start_time": "2020-10-31T22:13:18.606374Z"
    }
   },
   "source": [
    "18年只有1月1日到1月31日的数据，因此有销售额的地区并不多。"
   ]
  },
  {
   "cell_type": "code",
   "execution_count": null,
   "metadata": {
    "ExecuteTime": {
     "end_time": "2021-03-28T15:05:37.241148Z",
     "start_time": "2021-03-28T15:05:37.165533Z"
    }
   },
   "outputs": [],
   "source": [
    "plot_pie(complete_orders, year=2018)"
   ]
  },
  {
   "cell_type": "markdown",
   "metadata": {},
   "source": [
    "### 4.4.5 2015-2018年不同地区已完成订单的销售额占比"
   ]
  },
  {
   "cell_type": "code",
   "execution_count": null,
   "metadata": {
    "ExecuteTime": {
     "end_time": "2021-03-28T15:05:37.991314Z",
     "start_time": "2021-03-28T15:05:37.243938Z"
    }
   },
   "outputs": [],
   "source": [
    "plot_pie(complete_orders)"
   ]
  },
  {
   "cell_type": "markdown",
   "metadata": {},
   "source": [
    "- **2015年销售额前3：西欧(Western Europe)占比23.4%、中美洲(Central America)占比22.3%, 南美洲(South America)11.8%; 只有10个地区有销售额；**\n",
    "- **2016年有销售额的地区数明显增加，但销售额市场区域出现较大变动。West of USA 占比12.9%、East of USA 11.4%、US Center 9.52%。而15年占据主要市场的西欧、中美洲和南美洲总占比却不足1%。**\n",
    "- **2017年：西欧、中美洲和南美洲重新恢复成为带来销售额的TOP3地区，占比分别为：26.5%、24.8%、11.8%；**\n",
    "- **2018年：1月份只有大洋洲、东南亚、南亚、东亚四个地区有销售额，4个地区销售额占比较平均。**"
   ]
  },
  {
   "cell_type": "markdown",
   "metadata": {},
   "source": [
    "整体来看，西欧、中美洲和南美洲仍然是贡献市场销售额最高的TOP3个地区。"
   ]
  },
  {
   "cell_type": "markdown",
   "metadata": {},
   "source": [
    "## 4.5  不同类目下已完成订单的销售额统计"
   ]
  },
  {
   "cell_type": "markdown",
   "metadata": {
    "ExecuteTime": {
     "end_time": "2020-11-01T06:46:04.661700Z",
     "start_time": "2020-11-01T06:46:04.597779Z"
    }
   },
   "source": [
    "### 4.5.1 各类目交易完成订单的销售总额直方图"
   ]
  },
  {
   "cell_type": "code",
   "execution_count": null,
   "metadata": {
    "ExecuteTime": {
     "end_time": "2021-03-28T15:05:39.333296Z",
     "start_time": "2021-03-28T15:05:37.999370Z"
    }
   },
   "outputs": [],
   "source": [
    "px.histogram(complete_orders,\n",
    "             x='Sales per customer',\n",
    "             y='Category Name',\n",
    "             category_orders={\n",
    "                 'Category Name':\n",
    "                 list(complete_orders['Category Name'].value_counts().index)\n",
    "             },\n",
    "             title=\"Sum of Sales per customer in each Category Name\",\n",
    "             log_x=True,\n",
    "             marginal='box')"
   ]
  },
  {
   "cell_type": "markdown",
   "metadata": {},
   "source": [
    "### 4.5.2 各类目销售额均值直方图"
   ]
  },
  {
   "cell_type": "code",
   "execution_count": null,
   "metadata": {
    "ExecuteTime": {
     "end_time": "2021-03-28T15:05:41.036039Z",
     "start_time": "2021-03-28T15:05:39.335545Z"
    }
   },
   "outputs": [],
   "source": [
    "px.histogram(complete_orders,\n",
    "             x='Sales per customer',\n",
    "             y='Category Name',\n",
    "             category_orders={\n",
    "                 'Category Name':\n",
    "                 list(complete_orders['Category Name'].value_counts().index)\n",
    "             },\n",
    "             title=\"Average of Sales per customer in each Category Name\",\n",
    "             histfunc='avg',  # 求均值\n",
    "             log_x=True,\n",
    "             marginal='box')"
   ]
  },
  {
   "cell_type": "markdown",
   "metadata": {},
   "source": [
    "### 4.5.3 各类目交易完成订单的销售总额占比"
   ]
  },
  {
   "cell_type": "code",
   "execution_count": null,
   "metadata": {
    "ExecuteTime": {
     "end_time": "2021-03-28T15:05:41.763227Z",
     "start_time": "2021-03-28T15:05:41.039152Z"
    }
   },
   "outputs": [],
   "source": [
    "px.pie(complete_orders,\n",
    "       values='Sales per customer',\n",
    "       names='Category Name',\n",
    "       title=\"每个类目中交易完成的订单的销售额占比\")"
   ]
  },
  {
   "cell_type": "markdown",
   "metadata": {},
   "source": [
    "销售额最多的类目是Fishing，占比18.7%；其次是Cleats，占比12.1%、Camping & Hiking占比11.2%、Cardio Equipment类目占比10%，这4个类目销售额占了总销售额的一半以上。"
   ]
  },
  {
   "cell_type": "markdown",
   "metadata": {},
   "source": [
    "### 4.5.4 2015-2018年1月各年不同商品类目和不同地区的销售额面积图"
   ]
  },
  {
   "cell_type": "code",
   "execution_count": null,
   "metadata": {
    "ExecuteTime": {
     "end_time": "2021-03-28T15:05:41.802639Z",
     "start_time": "2021-03-28T15:05:41.765538Z"
    }
   },
   "outputs": [],
   "source": [
    "demo = complete_orders[(complete_orders['Category Name'] == 'Hockey')\n",
    "                       & (complete_orders['Order yearOfDate'] == 2015) &\n",
    "                       (complete_orders['Order Region'] == 'South America')]\n",
    "demo['Sales per customer']"
   ]
  },
  {
   "cell_type": "code",
   "execution_count": null,
   "metadata": {
    "ExecuteTime": {
     "end_time": "2021-03-28T15:05:43.456559Z",
     "start_time": "2021-03-28T15:05:41.805810Z"
    }
   },
   "outputs": [],
   "source": [
    "px.area(complete_orders,\n",
    "        x='Category Name',\n",
    "        y='Sales per customer',\n",
    "        color='Order Region',\n",
    "        animation_frame='Order yearOfDate',\n",
    "        category_orders={\"Order yearOfDate\": [2015, 2016, 2017, 2018]},\n",
    "        title=\"2015-2018年1月各年不同商品类目和不同地区的销售额面积图\",\n",
    "        log_y=True)"
   ]
  },
  {
   "cell_type": "code",
   "execution_count": null,
   "metadata": {
    "ExecuteTime": {
     "end_time": "2021-03-28T15:05:43.460520Z",
     "start_time": "2021-03-28T15:05:43.458512Z"
    }
   },
   "outputs": [],
   "source": [
    "# px.bar(complete_orders,\n",
    "#        x='Category Name',\n",
    "#        y='Sales per customer',\n",
    "#        color='Order Region',\n",
    "#        animation_frame='Order yearOfDate',\n",
    "#        category_orders={\"Order yearOfDate\":[2015, 2016, 2017, 2018]},\n",
    "#        opacity=1.,\n",
    "# #        color_discrete_sequence=px.colors.qualitative.Dark24_r, # 定性颜色颜色Dark24_r\n",
    "# #        template=\"plotly_dark\", \n",
    "#        title=\"2015-2018年1月各年不同商品类目和不同地区的销售额堆积条形图\",\n",
    "#        log_y=True) # y轴进行对数转换，否则y轴值太大，会显示异常"
   ]
  },
  {
   "cell_type": "markdown",
   "metadata": {},
   "source": [
    "## 4.6 按不同时间维度看销售额变化情况\n",
    "年、月、周、小时的趋势"
   ]
  },
  {
   "cell_type": "code",
   "execution_count": null,
   "metadata": {
    "ExecuteTime": {
     "end_time": "2021-03-28T15:05:44.734181Z",
     "start_time": "2021-03-28T15:05:43.462373Z"
    },
    "scrolled": false
   },
   "outputs": [],
   "source": [
    "abbr_cols = {\n",
    "    'years': 'Order yearOfDate',\n",
    "    'week per day': 'Order weekOfDate',\n",
    "    'hours per day': 'Order hourOfDate',\n",
    "    'month per year': 'Order yearMonth'\n",
    "}\n",
    "\n",
    "plt.figure(figsize=(24, 16))\n",
    "for n, (a, c) in enumerate(abbr_cols.items()):\n",
    "    plt.subplot(2, 2, n + 1)\n",
    "    temp = complete_orders.groupby(c)\n",
    "    temp['Sales'].mean().plot(figsize=(15, 10), title=\"Average sales in %s\" % a)"
   ]
  },
  {
   "cell_type": "markdown",
   "metadata": {
    "ExecuteTime": {
     "end_time": "2020-11-01T09:05:38.832685Z",
     "start_time": "2020-11-01T09:05:38.827675Z"
    },
    "code_folding": []
   },
   "source": [
    "# 5 Product Price与Sales per customer 相关性探索"
   ]
  },
  {
   "cell_type": "code",
   "execution_count": null,
   "metadata": {
    "ExecuteTime": {
     "end_time": "2021-03-28T15:05:50.060353Z",
     "start_time": "2021-03-28T15:05:44.736363Z"
    },
    "scrolled": false
   },
   "outputs": [],
   "source": [
    "# 探索Sales和Sales per customer的关系\n",
    "px.scatter(\n",
    "    df,\n",
    "    x='Product Price',\n",
    "    y='Sales per customer',\n",
    "    color='Order Item Profit Ratio',\n",
    "    trendline='lowess',  # 绘制贯穿散点的平滑趋势线\n",
    "    trendline_color_override=px.colors.qualitative.Vivid[3])"
   ]
  },
  {
   "cell_type": "markdown",
   "metadata": {},
   "source": [
    "在同样的Product Price下，每个用户的总销售额有高有底，对应利润率也有高有底，整体趋势相同。"
   ]
  },
  {
   "cell_type": "code",
   "execution_count": null,
   "metadata": {
    "ExecuteTime": {
     "end_time": "2021-03-28T15:05:55.796478Z",
     "start_time": "2021-03-28T15:05:50.062855Z"
    }
   },
   "outputs": [],
   "source": [
    "# 探索Sales和Sales per customer的关系\n",
    "px.scatter(df,\n",
    "           x='Product Price',\n",
    "           y='Sales',\n",
    "           color='Order Item Profit Ratio',\n",
    "           trendline='lowess',\n",
    "           trendline_color_override=px.colors.qualitative.Vivid[3])"
   ]
  },
  {
   "cell_type": "code",
   "execution_count": null,
   "metadata": {
    "ExecuteTime": {
     "end_time": "2021-03-28T15:06:01.969649Z",
     "start_time": "2021-03-28T15:05:55.800741Z"
    }
   },
   "outputs": [],
   "source": [
    "# 探索Sales和Sales per customer的关系\n",
    "px.scatter(df,\n",
    "           x='Sales',\n",
    "           y='Sales per customer',\n",
    "           color='Order Item Profit Ratio',\n",
    "           trendline='lowess',\n",
    "           trendline_color_override=px.colors.qualitative.Vivid[3])"
   ]
  },
  {
   "cell_type": "markdown",
   "metadata": {},
   "source": [
    "Sales和Sales per customer，看起来有些相关性，毕竟比较分散，通过皮尔逊系数判断相关性。"
   ]
  },
  {
   "cell_type": "markdown",
   "metadata": {
    "ExecuteTime": {
     "end_time": "2020-10-31T22:44:16.198043Z",
     "start_time": "2020-10-31T22:44:16.182698Z"
    }
   },
   "source": [
    "# 6 皮尔逊系数判断相关性"
   ]
  },
  {
   "cell_type": "code",
   "execution_count": null,
   "metadata": {
    "ExecuteTime": {
     "end_time": "2021-03-28T15:06:01.977068Z",
     "start_time": "2021-03-28T15:06:01.973391Z"
    }
   },
   "outputs": [],
   "source": [
    "# 存储标签数值化的列名和转换器\n",
    "cols_transfer = {}"
   ]
  },
  {
   "cell_type": "code",
   "execution_count": null,
   "metadata": {
    "ExecuteTime": {
     "end_time": "2021-03-28T15:06:01.986153Z",
     "start_time": "2021-03-28T15:06:01.980415Z"
    }
   },
   "outputs": [],
   "source": [
    "def labelEncoder(sr):\n",
    "    \"\"\"对文本列进行标签数值化\"\"\"\n",
    "    transfer = LabelEncoder()\n",
    "    result = transfer.fit_transform(sr)\n",
    "    return transfer, result"
   ]
  },
  {
   "cell_type": "code",
   "execution_count": null,
   "metadata": {
    "ExecuteTime": {
     "end_time": "2021-03-28T15:06:01.997132Z",
     "start_time": "2021-03-28T15:06:01.993611Z"
    },
    "scrolled": true
   },
   "outputs": [],
   "source": [
    "need_drop_cols"
   ]
  },
  {
   "cell_type": "code",
   "execution_count": null,
   "metadata": {
    "ExecuteTime": {
     "end_time": "2021-03-28T15:06:02.000924Z",
     "start_time": "2021-03-28T15:06:01.998792Z"
    }
   },
   "outputs": [],
   "source": [
    "need_drop_cols.append('shipping date (DateOrders)')"
   ]
  },
  {
   "cell_type": "code",
   "execution_count": null,
   "metadata": {
    "ExecuteTime": {
     "end_time": "2021-03-28T15:06:02.035989Z",
     "start_time": "2021-03-28T15:06:02.002550Z"
    }
   },
   "outputs": [],
   "source": [
    "df = df.drop(columns=need_drop_cols)"
   ]
  },
  {
   "cell_type": "code",
   "execution_count": null,
   "metadata": {
    "ExecuteTime": {
     "end_time": "2021-03-28T15:06:02.068456Z",
     "start_time": "2021-03-28T15:06:02.037706Z"
    }
   },
   "outputs": [],
   "source": [
    "all_str_col = df.select_dtypes(include='object').columns"
   ]
  },
  {
   "cell_type": "code",
   "execution_count": null,
   "metadata": {
    "ExecuteTime": {
     "end_time": "2021-03-28T15:06:02.074082Z",
     "start_time": "2021-03-28T15:06:02.070313Z"
    }
   },
   "outputs": [],
   "source": [
    "all_str_col"
   ]
  },
  {
   "cell_type": "code",
   "execution_count": null,
   "metadata": {
    "ExecuteTime": {
     "end_time": "2021-03-28T15:06:02.203349Z",
     "start_time": "2021-03-28T15:06:02.075790Z"
    }
   },
   "outputs": [],
   "source": [
    "df.isnull().sum().sum()  #  确认无空值"
   ]
  },
  {
   "cell_type": "code",
   "execution_count": null,
   "metadata": {
    "ExecuteTime": {
     "end_time": "2021-03-28T15:06:02.939990Z",
     "start_time": "2021-03-28T15:06:02.205411Z"
    }
   },
   "outputs": [],
   "source": [
    "newdf = df.copy()\n",
    "for c in all_str_col:\n",
    "    cols_transfer[c], newdf[c] = labelEncoder(newdf[c])"
   ]
  },
  {
   "cell_type": "code",
   "execution_count": null,
   "metadata": {
    "ExecuteTime": {
     "end_time": "2021-03-28T15:06:02.991802Z",
     "start_time": "2021-03-28T15:06:02.941848Z"
    }
   },
   "outputs": [],
   "source": [
    "newdf"
   ]
  },
  {
   "cell_type": "code",
   "execution_count": null,
   "metadata": {
    "ExecuteTime": {
     "end_time": "2021-03-28T15:06:03.805840Z",
     "start_time": "2021-03-28T15:06:02.993775Z"
    },
    "scrolled": true
   },
   "outputs": [],
   "source": [
    "df_corr = newdf.corr()"
   ]
  },
  {
   "cell_type": "code",
   "execution_count": null,
   "metadata": {
    "ExecuteTime": {
     "end_time": "2021-03-28T15:06:03.816983Z",
     "start_time": "2021-03-28T15:06:03.808771Z"
    }
   },
   "outputs": [],
   "source": [
    "temp = df_corr.abs()\n",
    "temp = temp['Sales'].sort_values()\n",
    "temp[-5:]"
   ]
  },
  {
   "cell_type": "code",
   "execution_count": null,
   "metadata": {
    "ExecuteTime": {
     "end_time": "2021-03-28T15:06:03.825330Z",
     "start_time": "2021-03-28T15:06:03.819405Z"
    }
   },
   "outputs": [],
   "source": [
    "df_corr  = df_corr[list(temp.index)[::-1]]"
   ]
  },
  {
   "cell_type": "code",
   "execution_count": null,
   "metadata": {
    "ExecuteTime": {
     "end_time": "2021-03-28T15:06:03.833624Z",
     "start_time": "2021-03-28T15:06:03.827824Z"
    }
   },
   "outputs": [],
   "source": [
    "df_corr = df_corr.loc[list(temp.index)]"
   ]
  },
  {
   "cell_type": "code",
   "execution_count": null,
   "metadata": {
    "ExecuteTime": {
     "end_time": "2021-03-28T15:06:09.293904Z",
     "start_time": "2021-03-28T15:06:03.836079Z"
    }
   },
   "outputs": [],
   "source": [
    "plt.figure(figsize=(20, 20), dpi=80)\n",
    "sns.heatmap(df_corr*10, annot=True, fmt='.0f', square=True, cmap='coolwarm')"
   ]
  },
  {
   "cell_type": "code",
   "execution_count": null,
   "metadata": {
    "ExecuteTime": {
     "end_time": "2021-03-28T15:06:09.298908Z",
     "start_time": "2021-03-28T15:06:09.295900Z"
    }
   },
   "outputs": [],
   "source": [
    "need_drop_cols += ['Sales', 'Order Item Discount', 'Shipping yearOfDate', 'Shipping monthOfDate']"
   ]
  },
  {
   "cell_type": "markdown",
   "metadata": {
    "ExecuteTime": {
     "end_time": "2020-11-01T10:34:18.898554Z",
     "start_time": "2020-11-01T10:34:12.937978Z"
    }
   },
   "source": [
    "完全相关的列Sales, Order Item Discount、Sales per customer 完全正相关，所以只保留Sales per customer；Shipping yearOfDate和Order yearOfDate、Shipping monthOfDate和Order monthOfDate、"
   ]
  },
  {
   "cell_type": "code",
   "execution_count": null,
   "metadata": {
    "ExecuteTime": {
     "end_time": "2021-03-28T15:06:09.337155Z",
     "start_time": "2021-03-28T15:06:09.302245Z"
    }
   },
   "outputs": [],
   "source": [
    "newdf = newdf.drop(columns=[\n",
    "    'Sales', 'Order Item Discount', 'Shipping yearOfDate',\n",
    "    'Shipping monthOfDate'\n",
    "])"
   ]
  },
  {
   "cell_type": "code",
   "execution_count": null,
   "metadata": {
    "ExecuteTime": {
     "end_time": "2021-03-28T15:06:09.347252Z",
     "start_time": "2021-03-28T15:06:09.340624Z"
    }
   },
   "outputs": [],
   "source": [
    "newdf.shape"
   ]
  },
  {
   "cell_type": "code",
   "execution_count": null,
   "metadata": {
    "ExecuteTime": {
     "end_time": "2021-03-28T15:06:09.355275Z",
     "start_time": "2021-03-28T15:06:09.349812Z"
    }
   },
   "outputs": [],
   "source": [
    "# 最终删除的所有列\n",
    "need_drop_cols"
   ]
  },
  {
   "cell_type": "code",
   "execution_count": null,
   "metadata": {
    "ExecuteTime": {
     "end_time": "2021-03-28T15:06:09.426369Z",
     "start_time": "2021-03-28T15:06:09.359539Z"
    }
   },
   "outputs": [],
   "source": [
    "df = newdf.copy()\n",
    "df.columns"
   ]
  },
  {
   "cell_type": "code",
   "execution_count": null,
   "metadata": {
    "ExecuteTime": {
     "end_time": "2021-03-28T15:07:13.745606Z",
     "start_time": "2021-03-28T15:07:13.742862Z"
    }
   },
   "outputs": [],
   "source": [
    "import gc"
   ]
  },
  {
   "cell_type": "code",
   "execution_count": null,
   "metadata": {
    "ExecuteTime": {
     "end_time": "2021-03-28T15:08:19.047037Z",
     "start_time": "2021-03-28T15:08:18.815936Z"
    }
   },
   "outputs": [],
   "source": [
    "del complete_orders\n",
    "del newdf\n",
    "del perOrderId_df\n",
    "del time_index\n",
    "gc.collect()"
   ]
  },
  {
   "cell_type": "markdown",
   "metadata": {},
   "source": [
    "# 用RFM对用户进行分层¶"
   ]
  },
  {
   "cell_type": "markdown",
   "metadata": {},
   "source": [
    "## 按照Order Customer Id 统计 Recency  Frequency  Monetary\n",
    "\n",
    "- R_Value R值（最近一次交易距今时间）    \n",
    "\n",
    "用户最近一次交易距今的时间。间隔时间越短，则值越大，这类客户也是最有可能对活动产生反应的群体。\n",
    "\n",
    "\n",
    "- F_Value F值（交易频率）   \n",
    "\n",
    "用户在限定的时间内所购买的次数。最常购买的顾客，也是满意度、忠诚度最高的顾客。\n",
    "\n",
    "\n",
    "- M_Value M值（交易金额）    \n",
    "\n",
    "用户的交易金额，可以分为累计交易金额和平均每次交易金额，根据不同的目的取不同的数据源进行建模分析。"
   ]
  },
  {
   "cell_type": "code",
   "execution_count": null,
   "metadata": {
    "ExecuteTime": {
     "end_time": "2021-03-28T15:09:19.230058Z",
     "start_time": "2021-03-28T15:09:13.640092Z"
    }
   },
   "outputs": [],
   "source": [
    "recent = datetime.datetime(year=2018, month=2, day=1)\n",
    "\n",
    "map_dict = {\n",
    "    'order date (DateOrders)': lambda x: (recent - x.max()).days,    # 最近一次交易距recent的时间\n",
    "    \"Order Id\": lambda x: x.nunique(),                               # 每个用户购买的购买次数，一个订单编号算一次\n",
    "    \"Sales per customer\": lambda x: x.sum()                          # 每用户的交易总金额\n",
    "}\n",
    "\n",
    "customer_strat = df.groupby(by='Order Customer Id').agg(map_dict)"
   ]
  },
  {
   "cell_type": "code",
   "execution_count": null,
   "metadata": {
    "ExecuteTime": {
     "end_time": "2021-03-28T15:09:49.299466Z",
     "start_time": "2021-03-28T15:09:49.287133Z"
    }
   },
   "outputs": [],
   "source": [
    "customer_strat.head(2)"
   ]
  },
  {
   "cell_type": "code",
   "execution_count": null,
   "metadata": {
    "ExecuteTime": {
     "end_time": "2021-03-28T15:10:19.004893Z",
     "start_time": "2021-03-28T15:10:18.994723Z"
    }
   },
   "outputs": [],
   "source": [
    "customer_strat.columns = ['R_value', 'F_value', 'M_value']\n",
    "customer_strat.head(2)"
   ]
  },
  {
   "cell_type": "markdown",
   "metadata": {
    "ExecuteTime": {
     "end_time": "2021-03-28T15:10:33.810395Z",
     "start_time": "2021-03-28T15:10:33.807994Z"
    }
   },
   "source": [
    "## 将RFMvalue转为RFMscore"
   ]
  },
  {
   "cell_type": "code",
   "execution_count": null,
   "metadata": {
    "ExecuteTime": {
     "end_time": "2021-03-28T15:11:26.798651Z",
     "start_time": "2021-03-28T15:11:26.788516Z"
    }
   },
   "outputs": [],
   "source": [
    "def r_score_func(x, key, quantile_dict):\n",
    "    \"\"\"根据R_value统计R_score：\n",
    "    根据R_value越小，R_score越高\n",
    "    \"\"\"\n",
    "    result = 0\n",
    "    if x <= quantile_dict[key][0.25]:\n",
    "        result = 4\n",
    "    elif x <= quantile_dict[key][0.5]:\n",
    "        result = 3\n",
    "    elif x <= quantile_dict[key][0.75]:\n",
    "        result = 2\n",
    "    else:\n",
    "        result = 1\n",
    "    return result\n",
    "\n",
    "\n",
    "def fm_score_func(x, key, quantile_dict):\n",
    "    \"\"\"统计F_sore和M_score，值越大越好\"\"\"\n",
    "    result = 0\n",
    "    if x <= quantile_dict[key][0.25]:\n",
    "        result = 1\n",
    "    elif x <= quantile_dict[key][0.5]:\n",
    "        result = 2\n",
    "    elif x <= quantile_dict[key][0.75]:\n",
    "        result = 3\n",
    "    else:\n",
    "        result = 4\n",
    "    return result"
   ]
  },
  {
   "cell_type": "code",
   "execution_count": null,
   "metadata": {
    "ExecuteTime": {
     "end_time": "2021-03-28T15:11:06.990248Z",
     "start_time": "2021-03-28T15:11:06.976693Z"
    }
   },
   "outputs": [],
   "source": [
    "# 统计各列百分位数\n",
    "quantiles = customer_strat.quantile(q=[0.25, 0.5, 0.75])\n",
    "quantiles"
   ]
  },
  {
   "cell_type": "code",
   "execution_count": null,
   "metadata": {
    "ExecuteTime": {
     "end_time": "2021-03-28T15:11:09.344643Z",
     "start_time": "2021-03-28T15:11:09.335338Z"
    }
   },
   "outputs": [],
   "source": [
    "# 转为字典\n",
    "quantiles = quantiles.to_dict()\n",
    "quantiles"
   ]
  },
  {
   "cell_type": "code",
   "execution_count": null,
   "metadata": {
    "ExecuteTime": {
     "end_time": "2021-03-28T15:11:56.226838Z",
     "start_time": "2021-03-28T15:11:56.117696Z"
    }
   },
   "outputs": [],
   "source": [
    "customer_strat['R_score'] = customer_strat['R_value'].apply(r_score_func, args=('R_value', quantiles))\n",
    "\n",
    "customer_strat['F_score'] = customer_strat['F_value'].apply(fm_score_func, args=('F_value', quantiles))\n",
    "\n",
    "customer_strat['M_score'] = customer_strat['M_value'].apply(fm_score_func, args=('M_value', quantiles))\n",
    "\n",
    "customer_strat.head(2)"
   ]
  },
  {
   "cell_type": "markdown",
   "metadata": {},
   "source": [
    "## 根据RFMscore进行分层"
   ]
  },
  {
   "cell_type": "code",
   "execution_count": null,
   "metadata": {
    "ExecuteTime": {
     "end_time": "2021-03-28T15:12:50.764536Z",
     "start_time": "2021-03-28T15:12:50.754759Z"
    }
   },
   "outputs": [],
   "source": [
    "def rfm_user(df):\n",
    "    \"\"\"根据用户的R_sore、F_score、M_score的高低进行用户层级划分\"\"\"\n",
    "    user_class = ''\n",
    "    if df['R_score'] > 2 and df['F_score'] > 2 and df['M_score'] > 2:\n",
    "        user_class = '重要价值用户'\n",
    "    elif df['R_score'] > 2 and df['F_score'] <= 2 and df['M_score'] > 2:\n",
    "        user_class = '重要发展用户'\n",
    "    elif df['R_score'] <= 2 and df['F_score'] > 2 and df['M_score'] > 2:\n",
    "        user_class = '重要保持用户'\n",
    "    elif df['R_score'] <= 2 and df['F_score'] <= 2 and df['M_score'] > 2:\n",
    "        user_class = '重要挽留用户'\n",
    "\n",
    "    elif df['R_score'] > 2 and df['F_score'] > 2 and df['M_score'] <= 2:\n",
    "        user_class = '一般价值用户'\n",
    "    elif df['R_score'] > 2 and df['F_score'] <= 2 and df['M_score'] <= 2:\n",
    "        user_class = '一般发展用户'\n",
    "    elif df['R_score'] <= 2 and df['F_score'] > 2 and df['M_score'] <= 2:\n",
    "        user_class = '一般保持用户'\n",
    "    elif df['R_score'] <= 2 and df['F_score'] <= 2 and df['M_score'] <= 2:\n",
    "        user_class = '一般挽留用户'\n",
    "    return user_class"
   ]
  },
  {
   "cell_type": "code",
   "execution_count": null,
   "metadata": {
    "ExecuteTime": {
     "end_time": "2021-03-28T15:13:14.180011Z",
     "start_time": "2021-03-28T15:13:11.926895Z"
    }
   },
   "outputs": [],
   "source": [
    "customer_strat['Customer_Segmentation'] = customer_strat.apply(rfm_user, axis=1)\n",
    "\n",
    "customer_strat.head(2)"
   ]
  },
  {
   "cell_type": "code",
   "execution_count": null,
   "metadata": {
    "ExecuteTime": {
     "end_time": "2021-03-28T15:14:54.914864Z",
     "start_time": "2021-03-28T15:14:54.341966Z"
    }
   },
   "outputs": [],
   "source": [
    "customer_list = [\n",
    "    '重要价值用户', '重要发展用户', '重要保持用户', '重要挽留用户', '一般价值用户', '一般发展用户', '一般保持用户',\n",
    "    '一般挽留用户'\n",
    "]\n",
    "g = sns.catplot(data=customer_strat,\n",
    "                x='Customer_Segmentation',\n",
    "                kind='count',\n",
    "                order=customer_list, # 指定x轴标签显示顺序\n",
    "                height=5.,\n",
    "                aspect=4.)\n",
    "g.set_axis_labels('Customer Class', 'Customer Quantity')\n",
    "_ = g.ax.set_title('The Quantity of per Customer Segmentation')"
   ]
  },
  {
   "cell_type": "code",
   "execution_count": null,
   "metadata": {
    "ExecuteTime": {
     "end_time": "2021-03-28T15:15:48.181302Z",
     "start_time": "2021-03-28T15:15:48.165221Z"
    }
   },
   "outputs": [],
   "source": [
    "# 将客户分层后的等级进行数值化，越重要，值越大\n",
    "mapdic = {c:i for i,c in enumerate(customer_list[::-1])}\n",
    "customer_strat['Customer_RFMLabel'] = customer_strat['Customer_Segmentation'].map(mapdic)\n",
    "customer_strat.head(2)"
   ]
  },
  {
   "cell_type": "code",
   "execution_count": null,
   "metadata": {
    "ExecuteTime": {
     "end_time": "2021-03-28T15:16:03.012834Z",
     "start_time": "2021-03-28T15:16:02.514721Z"
    }
   },
   "outputs": [],
   "source": [
    "# 将用户分层数值化特征merge到df中\n",
    "df = df.merge(customer_strat[['Customer_RFMLabel']].reset_index(),\n",
    "              on='Order Customer Id',\n",
    "              how='left')\n",
    "df.head(2)"
   ]
  },
  {
   "cell_type": "code",
   "execution_count": null,
   "metadata": {
    "ExecuteTime": {
     "end_time": "2021-03-28T15:17:32.624156Z",
     "start_time": "2021-03-28T15:17:32.090818Z"
    }
   },
   "outputs": [],
   "source": [
    "del customer_list, customer_strat\n",
    "gc.collect()"
   ]
  },
  {
   "cell_type": "markdown",
   "metadata": {},
   "source": [
    "# 7 总结"
   ]
  },
  {
   "cell_type": "markdown",
   "metadata": {},
   "source": [
    "- 供应链数据集中，真正交易完成的订单只有约36%，所以如果要对销售额等进行预测，需要注意这一点。\n",
    "- 该数据集每一行不一定代表单笔订单，一笔订单可能会有多个商品ID；而数据集是将一笔订单内的商品按照一个商品ID对应一行数据来进行统计的；\n",
    "- 一笔订单中同一个商品ID的商品数量可能大于1。"
   ]
  },
  {
   "cell_type": "markdown",
   "metadata": {},
   "source": [
    "- 学习到一个新的绘图工具包plotly，用它画了饼图、直方图、strip散点分布图、地图分布图、散点图；堆积条形图我也试过，不过我们的数据集较大，当数据密集的时候，条柱会被背景色淹没，还没找到如何修改堆积条形图的线条颜色的参数；\n",
    "- 发现数据集中会有比较多的表示类别的ID类的特征，比如订单ID、用户ID、产品ID、类目ID等等，不仅在这个数据集中，在天池数据集中也存在表示类别的ID类特征。对于这样的特征送入模型前如何处理，还存在疑问:\n",
    "    - 表示类别的ID类特征，它的整数不代表大小，只代表类别，如果类别数特别多，像订单ID、产品ID等，是要直接舍弃特征，还是做什么其他的处理呢？\n",
    "    - 目前我可能只知道标准化，或者对数化下，其他的处理方法不知道了。"
   ]
  },
  {
   "cell_type": "code",
   "execution_count": null,
   "metadata": {},
   "outputs": [],
   "source": []
  }
 ],
 "metadata": {
  "kernelspec": {
   "display_name": "Python [conda env:envpy37]",
   "language": "python",
   "name": "conda-env-envpy37-py"
  },
  "language_info": {
   "codemirror_mode": {
    "name": "ipython",
    "version": 3
   },
   "file_extension": ".py",
   "mimetype": "text/x-python",
   "name": "python",
   "nbconvert_exporter": "python",
   "pygments_lexer": "ipython3",
   "version": "3.7.7"
  },
  "nbTranslate": {
   "displayLangs": [
    "*"
   ],
   "hotkey": "alt-t",
   "langInMainMenu": true,
   "sourceLang": "en",
   "targetLang": "fr",
   "useGoogleTranslate": true
  },
  "toc": {
   "base_numbering": 1,
   "nav_menu": {},
   "number_sections": true,
   "sideBar": true,
   "skip_h1_title": false,
   "title_cell": "Table of Contents",
   "title_sidebar": "Contents",
   "toc_cell": true,
   "toc_position": {
    "height": "calc(100% - 180px)",
    "left": "10px",
    "top": "150px",
    "width": "268.797px"
   },
   "toc_section_display": true,
   "toc_window_display": true
  },
  "varInspector": {
   "cols": {
    "lenName": 16,
    "lenType": 16,
    "lenVar": 40
   },
   "kernels_config": {
    "python": {
     "delete_cmd_postfix": "",
     "delete_cmd_prefix": "del ",
     "library": "var_list.py",
     "varRefreshCmd": "print(var_dic_list())"
    },
    "r": {
     "delete_cmd_postfix": ") ",
     "delete_cmd_prefix": "rm(",
     "library": "var_list.r",
     "varRefreshCmd": "cat(var_dic_list()) "
    }
   },
   "oldHeight": 122,
   "position": {
    "height": "40px",
    "left": "1170px",
    "right": "20px",
    "top": "120px",
    "width": "250px"
   },
   "types_to_exclude": [
    "module",
    "function",
    "builtin_function_or_method",
    "instance",
    "_Feature"
   ],
   "varInspector_section_display": "none",
   "window_display": true
  }
 },
 "nbformat": 4,
 "nbformat_minor": 4
}
