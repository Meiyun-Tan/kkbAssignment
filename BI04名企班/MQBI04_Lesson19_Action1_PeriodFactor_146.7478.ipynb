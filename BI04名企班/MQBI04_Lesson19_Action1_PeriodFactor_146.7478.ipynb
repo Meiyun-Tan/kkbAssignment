{
 "cells": [
  {
   "cell_type": "markdown",
   "metadata": {},
   "source": [
    "Action: 资金流入流出预测    \n",
    "https://tianchi.aliyun.com/competition/entrance/231573/information    \n",
    "数据集一共包括4张表：用户基本信息数据、用户申购赎回数据、收益率表和银行间拆借利率表    \n",
    "2.8万用户，284万行为数据，294天拆解利率，427天收益率    \n",
    "2013-07-01到2014-08-31，预测2014年9月的申购和赎回"
   ]
  },
  {
   "cell_type": "markdown",
   "metadata": {},
   "source": [
    "基于周期因子的时间序列预测。\n",
    "- 对于周期性比较明显的时序数据可以使用此方法。\n",
    "- base的计算方法和老师的略微不同\n",
    "- 根据业务和假期情况，做了周期因子的微调。"
   ]
  },
  {
   "cell_type": "code",
   "execution_count": 1,
   "metadata": {
    "ExecuteTime": {
     "end_time": "2021-01-31T14:36:53.065960Z",
     "start_time": "2021-01-31T14:36:51.298149Z"
    },
    "run_control": {
     "marked": false
    }
   },
   "outputs": [],
   "source": [
    "import warnings\n",
    "import datetime\n",
    "import calendar\n",
    "\n",
    "from chinese_calendar import is_holiday\n",
    "import numpy as np\n",
    "import pandas as pd\n",
    "import seaborn as sns\n",
    "from matplotlib import pyplot as plt\n",
    "\n",
    "\n",
    "warnings.filterwarnings(\"ignore\")"
   ]
  },
  {
   "cell_type": "code",
   "execution_count": 2,
   "metadata": {
    "ExecuteTime": {
     "end_time": "2021-01-31T14:36:53.080104Z",
     "start_time": "2021-01-31T14:36:53.069507Z"
    }
   },
   "outputs": [],
   "source": [
    "plt.rcParams[\"font.family\"] = \"SimHei\"\n",
    "plt.rcParams[\"axes.unicode_minus\"] = False"
   ]
  },
  {
   "cell_type": "markdown",
   "metadata": {},
   "source": [
    "# 加载数据"
   ]
  },
  {
   "cell_type": "code",
   "execution_count": 3,
   "metadata": {
    "ExecuteTime": {
     "end_time": "2021-01-31T14:36:56.208446Z",
     "start_time": "2021-01-31T14:36:53.091428Z"
    },
    "run_control": {
     "marked": false
    }
   },
   "outputs": [],
   "source": [
    "user_balance_df = pd.read_csv('user_balance_table.csv')"
   ]
  },
  {
   "cell_type": "code",
   "execution_count": 4,
   "metadata": {
    "ExecuteTime": {
     "end_time": "2021-01-31T14:36:56.306425Z",
     "start_time": "2021-01-31T14:36:56.213513Z"
    },
    "run_control": {
     "marked": false
    }
   },
   "outputs": [
    {
     "data": {
      "text/html": [
       "<div>\n",
       "<style scoped>\n",
       "    .dataframe tbody tr th:only-of-type {\n",
       "        vertical-align: middle;\n",
       "    }\n",
       "\n",
       "    .dataframe tbody tr th {\n",
       "        vertical-align: top;\n",
       "    }\n",
       "\n",
       "    .dataframe thead th {\n",
       "        text-align: right;\n",
       "    }\n",
       "</style>\n",
       "<table border=\"1\" class=\"dataframe\">\n",
       "  <thead>\n",
       "    <tr style=\"text-align: right;\">\n",
       "      <th></th>\n",
       "      <th>user_id</th>\n",
       "      <th>report_date</th>\n",
       "      <th>tBalance</th>\n",
       "      <th>yBalance</th>\n",
       "      <th>total_purchase_amt</th>\n",
       "      <th>direct_purchase_amt</th>\n",
       "      <th>purchase_bal_amt</th>\n",
       "      <th>purchase_bank_amt</th>\n",
       "      <th>total_redeem_amt</th>\n",
       "      <th>consume_amt</th>\n",
       "      <th>transfer_amt</th>\n",
       "      <th>tftobal_amt</th>\n",
       "      <th>tftocard_amt</th>\n",
       "      <th>share_amt</th>\n",
       "      <th>category1</th>\n",
       "      <th>category2</th>\n",
       "      <th>category3</th>\n",
       "      <th>category4</th>\n",
       "    </tr>\n",
       "  </thead>\n",
       "  <tbody>\n",
       "    <tr>\n",
       "      <th>0</th>\n",
       "      <td>1</td>\n",
       "      <td>20140805</td>\n",
       "      <td>20385</td>\n",
       "      <td>20383</td>\n",
       "      <td>2</td>\n",
       "      <td>0</td>\n",
       "      <td>0</td>\n",
       "      <td>0</td>\n",
       "      <td>0</td>\n",
       "      <td>0</td>\n",
       "      <td>0</td>\n",
       "      <td>0</td>\n",
       "      <td>0</td>\n",
       "      <td>2</td>\n",
       "      <td>NaN</td>\n",
       "      <td>NaN</td>\n",
       "      <td>NaN</td>\n",
       "      <td>NaN</td>\n",
       "    </tr>\n",
       "    <tr>\n",
       "      <th>1</th>\n",
       "      <td>1</td>\n",
       "      <td>20140808</td>\n",
       "      <td>20391</td>\n",
       "      <td>20389</td>\n",
       "      <td>2</td>\n",
       "      <td>0</td>\n",
       "      <td>0</td>\n",
       "      <td>0</td>\n",
       "      <td>0</td>\n",
       "      <td>0</td>\n",
       "      <td>0</td>\n",
       "      <td>0</td>\n",
       "      <td>0</td>\n",
       "      <td>2</td>\n",
       "      <td>NaN</td>\n",
       "      <td>NaN</td>\n",
       "      <td>NaN</td>\n",
       "      <td>NaN</td>\n",
       "    </tr>\n",
       "    <tr>\n",
       "      <th>2</th>\n",
       "      <td>1</td>\n",
       "      <td>20140811</td>\n",
       "      <td>20397</td>\n",
       "      <td>20395</td>\n",
       "      <td>2</td>\n",
       "      <td>0</td>\n",
       "      <td>0</td>\n",
       "      <td>0</td>\n",
       "      <td>0</td>\n",
       "      <td>0</td>\n",
       "      <td>0</td>\n",
       "      <td>0</td>\n",
       "      <td>0</td>\n",
       "      <td>2</td>\n",
       "      <td>NaN</td>\n",
       "      <td>NaN</td>\n",
       "      <td>NaN</td>\n",
       "      <td>NaN</td>\n",
       "    </tr>\n",
       "    <tr>\n",
       "      <th>3</th>\n",
       "      <td>1</td>\n",
       "      <td>20140814</td>\n",
       "      <td>20403</td>\n",
       "      <td>20401</td>\n",
       "      <td>2</td>\n",
       "      <td>0</td>\n",
       "      <td>0</td>\n",
       "      <td>0</td>\n",
       "      <td>0</td>\n",
       "      <td>0</td>\n",
       "      <td>0</td>\n",
       "      <td>0</td>\n",
       "      <td>0</td>\n",
       "      <td>2</td>\n",
       "      <td>NaN</td>\n",
       "      <td>NaN</td>\n",
       "      <td>NaN</td>\n",
       "      <td>NaN</td>\n",
       "    </tr>\n",
       "    <tr>\n",
       "      <th>4</th>\n",
       "      <td>1</td>\n",
       "      <td>20140817</td>\n",
       "      <td>20409</td>\n",
       "      <td>20407</td>\n",
       "      <td>2</td>\n",
       "      <td>0</td>\n",
       "      <td>0</td>\n",
       "      <td>0</td>\n",
       "      <td>0</td>\n",
       "      <td>0</td>\n",
       "      <td>0</td>\n",
       "      <td>0</td>\n",
       "      <td>0</td>\n",
       "      <td>2</td>\n",
       "      <td>NaN</td>\n",
       "      <td>NaN</td>\n",
       "      <td>NaN</td>\n",
       "      <td>NaN</td>\n",
       "    </tr>\n",
       "  </tbody>\n",
       "</table>\n",
       "</div>"
      ],
      "text/plain": [
       "   user_id  report_date  tBalance  yBalance  total_purchase_amt  \\\n",
       "0        1     20140805     20385     20383                   2   \n",
       "1        1     20140808     20391     20389                   2   \n",
       "2        1     20140811     20397     20395                   2   \n",
       "3        1     20140814     20403     20401                   2   \n",
       "4        1     20140817     20409     20407                   2   \n",
       "\n",
       "   direct_purchase_amt  purchase_bal_amt  purchase_bank_amt  total_redeem_amt  \\\n",
       "0                    0                 0                  0                 0   \n",
       "1                    0                 0                  0                 0   \n",
       "2                    0                 0                  0                 0   \n",
       "3                    0                 0                  0                 0   \n",
       "4                    0                 0                  0                 0   \n",
       "\n",
       "   consume_amt  transfer_amt  tftobal_amt  tftocard_amt  share_amt  category1  \\\n",
       "0            0             0            0             0          2        NaN   \n",
       "1            0             0            0             0          2        NaN   \n",
       "2            0             0            0             0          2        NaN   \n",
       "3            0             0            0             0          2        NaN   \n",
       "4            0             0            0             0          2        NaN   \n",
       "\n",
       "   category2  category3  category4  \n",
       "0        NaN        NaN        NaN  \n",
       "1        NaN        NaN        NaN  \n",
       "2        NaN        NaN        NaN  \n",
       "3        NaN        NaN        NaN  \n",
       "4        NaN        NaN        NaN  "
      ]
     },
     "execution_count": 4,
     "metadata": {},
     "output_type": "execute_result"
    }
   ],
   "source": [
    "user_balance_df.head()"
   ]
  },
  {
   "cell_type": "code",
   "execution_count": 5,
   "metadata": {
    "ExecuteTime": {
     "end_time": "2021-01-31T14:36:56.506838Z",
     "start_time": "2021-01-31T14:36:56.311422Z"
    },
    "code_folding": [
     0
    ],
    "run_control": {
     "marked": false
    },
    "scrolled": true
   },
   "outputs": [
    {
     "data": {
      "text/plain": [
       "user_id                      0\n",
       "report_date                  0\n",
       "tBalance                     0\n",
       "yBalance                     0\n",
       "total_purchase_amt           0\n",
       "direct_purchase_amt          0\n",
       "purchase_bal_amt             0\n",
       "purchase_bank_amt            0\n",
       "total_redeem_amt             0\n",
       "consume_amt                  0\n",
       "transfer_amt                 0\n",
       "tftobal_amt                  0\n",
       "tftocard_amt                 0\n",
       "share_amt                    0\n",
       "category1              2666682\n",
       "category2              2666682\n",
       "category3              2666682\n",
       "category4              2666682\n",
       "dtype: int64"
      ]
     },
     "execution_count": 5,
     "metadata": {},
     "output_type": "execute_result"
    }
   ],
   "source": [
    "# 除了4个category列，其他列无缺失值\n",
    "user_balance_df.isna().sum()"
   ]
  },
  {
   "cell_type": "markdown",
   "metadata": {},
   "source": [
    "# 数据预处理"
   ]
  },
  {
   "cell_type": "code",
   "execution_count": 6,
   "metadata": {
    "ExecuteTime": {
     "end_time": "2021-01-31T14:36:56.524721Z",
     "start_time": "2021-01-31T14:36:56.510559Z"
    },
    "run_control": {
     "marked": false
    }
   },
   "outputs": [],
   "source": [
    "def add_timestamp(df):\n",
    "    \"\"\"将日期列由数字解析为日期, 并生成年、月、日、周特征\"\"\"\n",
    "    df['report_date'] = pd.to_datetime(df['report_date'], format=\"%Y%m%d\")\n",
    "    df['year'] = df['report_date'].dt.year\n",
    "    df['month'] = df['report_date'].dt.month\n",
    "    df['day'] = df['report_date'].dt.day\n",
    "    df['week'] = df['report_date'].dt.week  # 一年中第几个星期\n",
    "    df['weekday'] = df['report_date'].dt.weekday  # 0代表周1- 6代表周日\n",
    "    return df\n",
    "\n",
    "\n",
    "def get_total_balance(df, begin):\n",
    "    \"\"\"筛选指定日期之后的总购买量和总赎回量的DataFrame\n",
    "    \"\"\"\n",
    "    df_temp = df.copy()\n",
    "    # 按日期进行聚合\n",
    "    df_temp = df_temp.groupby(\"report_date\")['total_purchase_amt',\n",
    "                                             'total_redeem_amt'].sum()\n",
    "    df_temp = df_temp[df_temp.index >= begin]\n",
    "    # 还原日期字段，重新索引\n",
    "    df_temp = df_temp.reset_index()\n",
    "    return df_temp\n",
    "\n",
    "\n",
    "def generate_test_data(cols):\n",
    "    \"\"\"生成9月1日到30日测试集的数据集\"\"\"\n",
    "    test = pd.DataFrame(np.full((30, 3), fill_value=np.nan, dtype=float),\n",
    "                        columns=cols)\n",
    "    test['report_date'] = pd.date_range('2014-09-01',\n",
    "                                        '2014-09-30',\n",
    "                                        freq='D',\n",
    "                                        closed=None)  # 左右均闭\n",
    "\n",
    "    return test.reset_index(drop=True)\n",
    "\n",
    "\n",
    "def get_week_factor(df):\n",
    "    \"\"\"计算周期因子，返回DataFrame\n",
    "    \"\"\"\n",
    "    cols = [\"total_purchase_amt\", \"total_redeem_amt\"]\n",
    "    temp = df.copy()\n",
    "    # 购买量和赎回量周一到周日每天的均值\n",
    "    weekday_mean = temp.groupby('weekday')[cols].mean()\n",
    "    # 购买量和赎回量的总均值数组\n",
    "    total_mean_arr = temp[cols].mean().values\n",
    "    # 周期因子\n",
    "    weekday_mean[cols] /= total_mean_arr\n",
    "\n",
    "    week_factor = weekday_mean.rename(columns={\n",
    "        \"total_purchase_amt\": 'P_week_factor',\n",
    "        'total_redeem_amt': 'R_week_factor'\n",
    "    })\n",
    "    return week_factor.reset_index()"
   ]
  },
  {
   "cell_type": "code",
   "execution_count": 7,
   "metadata": {
    "ExecuteTime": {
     "end_time": "2021-01-31T14:36:56.853565Z",
     "start_time": "2021-01-31T14:36:56.529453Z"
    },
    "run_control": {
     "marked": false
    }
   },
   "outputs": [],
   "source": [
    "temp = user_balance_df.copy()"
   ]
  },
  {
   "cell_type": "code",
   "execution_count": 8,
   "metadata": {
    "ExecuteTime": {
     "end_time": "2021-01-31T14:36:57.281589Z",
     "start_time": "2021-01-31T14:36:56.856558Z"
    },
    "run_control": {
     "marked": false
    }
   },
   "outputs": [],
   "source": [
    "user_balance_df = temp.copy()"
   ]
  },
  {
   "cell_type": "markdown",
   "metadata": {},
   "source": [
    "## 筛选14年3月及之后的总购买量和总赎回量的DataFrame"
   ]
  },
  {
   "cell_type": "code",
   "execution_count": 9,
   "metadata": {
    "ExecuteTime": {
     "end_time": "2021-01-31T14:36:57.971512Z",
     "start_time": "2021-01-31T14:36:57.291827Z"
    },
    "run_control": {
     "marked": false
    }
   },
   "outputs": [
    {
     "data": {
      "text/html": [
       "<div>\n",
       "<style scoped>\n",
       "    .dataframe tbody tr th:only-of-type {\n",
       "        vertical-align: middle;\n",
       "    }\n",
       "\n",
       "    .dataframe tbody tr th {\n",
       "        vertical-align: top;\n",
       "    }\n",
       "\n",
       "    .dataframe thead th {\n",
       "        text-align: right;\n",
       "    }\n",
       "</style>\n",
       "<table border=\"1\" class=\"dataframe\">\n",
       "  <thead>\n",
       "    <tr style=\"text-align: right;\">\n",
       "      <th></th>\n",
       "      <th>report_date</th>\n",
       "      <th>total_purchase_amt</th>\n",
       "      <th>total_redeem_amt</th>\n",
       "    </tr>\n",
       "  </thead>\n",
       "  <tbody>\n",
       "    <tr>\n",
       "      <th>0</th>\n",
       "      <td>20140301</td>\n",
       "      <td>362865580</td>\n",
       "      <td>211279011</td>\n",
       "    </tr>\n",
       "    <tr>\n",
       "      <th>1</th>\n",
       "      <td>20140302</td>\n",
       "      <td>276202230</td>\n",
       "      <td>246199417</td>\n",
       "    </tr>\n",
       "    <tr>\n",
       "      <th>2</th>\n",
       "      <td>20140303</td>\n",
       "      <td>505305862</td>\n",
       "      <td>513017360</td>\n",
       "    </tr>\n",
       "    <tr>\n",
       "      <th>3</th>\n",
       "      <td>20140304</td>\n",
       "      <td>524146340</td>\n",
       "      <td>250562978</td>\n",
       "    </tr>\n",
       "    <tr>\n",
       "      <th>4</th>\n",
       "      <td>20140305</td>\n",
       "      <td>454295491</td>\n",
       "      <td>209072753</td>\n",
       "    </tr>\n",
       "    <tr>\n",
       "      <th>...</th>\n",
       "      <td>...</td>\n",
       "      <td>...</td>\n",
       "      <td>...</td>\n",
       "    </tr>\n",
       "    <tr>\n",
       "      <th>179</th>\n",
       "      <td>20140827</td>\n",
       "      <td>302194801</td>\n",
       "      <td>468164147</td>\n",
       "    </tr>\n",
       "    <tr>\n",
       "      <th>180</th>\n",
       "      <td>20140828</td>\n",
       "      <td>245082751</td>\n",
       "      <td>297893861</td>\n",
       "    </tr>\n",
       "    <tr>\n",
       "      <th>181</th>\n",
       "      <td>20140829</td>\n",
       "      <td>267554713</td>\n",
       "      <td>273756380</td>\n",
       "    </tr>\n",
       "    <tr>\n",
       "      <th>182</th>\n",
       "      <td>20140830</td>\n",
       "      <td>199708772</td>\n",
       "      <td>196374134</td>\n",
       "    </tr>\n",
       "    <tr>\n",
       "      <th>183</th>\n",
       "      <td>20140831</td>\n",
       "      <td>275090213</td>\n",
       "      <td>292943033</td>\n",
       "    </tr>\n",
       "  </tbody>\n",
       "</table>\n",
       "<p>184 rows × 3 columns</p>\n",
       "</div>"
      ],
      "text/plain": [
       "     report_date  total_purchase_amt  total_redeem_amt\n",
       "0       20140301           362865580         211279011\n",
       "1       20140302           276202230         246199417\n",
       "2       20140303           505305862         513017360\n",
       "3       20140304           524146340         250562978\n",
       "4       20140305           454295491         209072753\n",
       "..           ...                 ...               ...\n",
       "179     20140827           302194801         468164147\n",
       "180     20140828           245082751         297893861\n",
       "181     20140829           267554713         273756380\n",
       "182     20140830           199708772         196374134\n",
       "183     20140831           275090213         292943033\n",
       "\n",
       "[184 rows x 3 columns]"
      ]
     },
     "execution_count": 9,
     "metadata": {},
     "output_type": "execute_result"
    }
   ],
   "source": [
    "user_balance_df = get_total_balance(user_balance_df, begin=20140301)\n",
    "user_balance_df"
   ]
  },
  {
   "cell_type": "code",
   "execution_count": 10,
   "metadata": {
    "ExecuteTime": {
     "end_time": "2021-01-31T14:36:57.987973Z",
     "start_time": "2021-01-31T14:36:57.974504Z"
    }
   },
   "outputs": [
    {
     "data": {
      "text/html": [
       "<div>\n",
       "<style scoped>\n",
       "    .dataframe tbody tr th:only-of-type {\n",
       "        vertical-align: middle;\n",
       "    }\n",
       "\n",
       "    .dataframe tbody tr th {\n",
       "        vertical-align: top;\n",
       "    }\n",
       "\n",
       "    .dataframe thead th {\n",
       "        text-align: right;\n",
       "    }\n",
       "</style>\n",
       "<table border=\"1\" class=\"dataframe\">\n",
       "  <thead>\n",
       "    <tr style=\"text-align: right;\">\n",
       "      <th></th>\n",
       "      <th>report_date</th>\n",
       "      <th>total_purchase_amt</th>\n",
       "      <th>total_redeem_amt</th>\n",
       "    </tr>\n",
       "  </thead>\n",
       "  <tbody>\n",
       "    <tr>\n",
       "      <th>0</th>\n",
       "      <td>2014-09-01</td>\n",
       "      <td>NaN</td>\n",
       "      <td>NaN</td>\n",
       "    </tr>\n",
       "    <tr>\n",
       "      <th>1</th>\n",
       "      <td>2014-09-02</td>\n",
       "      <td>NaN</td>\n",
       "      <td>NaN</td>\n",
       "    </tr>\n",
       "    <tr>\n",
       "      <th>2</th>\n",
       "      <td>2014-09-03</td>\n",
       "      <td>NaN</td>\n",
       "      <td>NaN</td>\n",
       "    </tr>\n",
       "    <tr>\n",
       "      <th>3</th>\n",
       "      <td>2014-09-04</td>\n",
       "      <td>NaN</td>\n",
       "      <td>NaN</td>\n",
       "    </tr>\n",
       "    <tr>\n",
       "      <th>4</th>\n",
       "      <td>2014-09-05</td>\n",
       "      <td>NaN</td>\n",
       "      <td>NaN</td>\n",
       "    </tr>\n",
       "  </tbody>\n",
       "</table>\n",
       "</div>"
      ],
      "text/plain": [
       "  report_date  total_purchase_amt  total_redeem_amt\n",
       "0  2014-09-01                 NaN               NaN\n",
       "1  2014-09-02                 NaN               NaN\n",
       "2  2014-09-03                 NaN               NaN\n",
       "3  2014-09-04                 NaN               NaN\n",
       "4  2014-09-05                 NaN               NaN"
      ]
     },
     "execution_count": 10,
     "metadata": {},
     "output_type": "execute_result"
    }
   ],
   "source": [
    "# 生成用于存储预测结果的DataFrame\n",
    "test_df = generate_test_data(user_balance_df.columns)\n",
    "test_df.head()"
   ]
  },
  {
   "cell_type": "markdown",
   "metadata": {},
   "source": [
    "## 解析日期列并生成日期相关特征"
   ]
  },
  {
   "cell_type": "code",
   "execution_count": 11,
   "metadata": {
    "ExecuteTime": {
     "end_time": "2021-01-31T14:36:58.008881Z",
     "start_time": "2021-01-31T14:36:57.991001Z"
    },
    "run_control": {
     "marked": false
    }
   },
   "outputs": [
    {
     "data": {
      "text/html": [
       "<div>\n",
       "<style scoped>\n",
       "    .dataframe tbody tr th:only-of-type {\n",
       "        vertical-align: middle;\n",
       "    }\n",
       "\n",
       "    .dataframe tbody tr th {\n",
       "        vertical-align: top;\n",
       "    }\n",
       "\n",
       "    .dataframe thead th {\n",
       "        text-align: right;\n",
       "    }\n",
       "</style>\n",
       "<table border=\"1\" class=\"dataframe\">\n",
       "  <thead>\n",
       "    <tr style=\"text-align: right;\">\n",
       "      <th></th>\n",
       "      <th>report_date</th>\n",
       "      <th>total_purchase_amt</th>\n",
       "      <th>total_redeem_amt</th>\n",
       "      <th>year</th>\n",
       "      <th>month</th>\n",
       "      <th>day</th>\n",
       "      <th>week</th>\n",
       "      <th>weekday</th>\n",
       "    </tr>\n",
       "  </thead>\n",
       "  <tbody>\n",
       "    <tr>\n",
       "      <th>0</th>\n",
       "      <td>2014-03-01</td>\n",
       "      <td>362865580</td>\n",
       "      <td>211279011</td>\n",
       "      <td>2014</td>\n",
       "      <td>3</td>\n",
       "      <td>1</td>\n",
       "      <td>9</td>\n",
       "      <td>5</td>\n",
       "    </tr>\n",
       "    <tr>\n",
       "      <th>1</th>\n",
       "      <td>2014-03-02</td>\n",
       "      <td>276202230</td>\n",
       "      <td>246199417</td>\n",
       "      <td>2014</td>\n",
       "      <td>3</td>\n",
       "      <td>2</td>\n",
       "      <td>9</td>\n",
       "      <td>6</td>\n",
       "    </tr>\n",
       "    <tr>\n",
       "      <th>2</th>\n",
       "      <td>2014-03-03</td>\n",
       "      <td>505305862</td>\n",
       "      <td>513017360</td>\n",
       "      <td>2014</td>\n",
       "      <td>3</td>\n",
       "      <td>3</td>\n",
       "      <td>10</td>\n",
       "      <td>0</td>\n",
       "    </tr>\n",
       "    <tr>\n",
       "      <th>3</th>\n",
       "      <td>2014-03-04</td>\n",
       "      <td>524146340</td>\n",
       "      <td>250562978</td>\n",
       "      <td>2014</td>\n",
       "      <td>3</td>\n",
       "      <td>4</td>\n",
       "      <td>10</td>\n",
       "      <td>1</td>\n",
       "    </tr>\n",
       "    <tr>\n",
       "      <th>4</th>\n",
       "      <td>2014-03-05</td>\n",
       "      <td>454295491</td>\n",
       "      <td>209072753</td>\n",
       "      <td>2014</td>\n",
       "      <td>3</td>\n",
       "      <td>5</td>\n",
       "      <td>10</td>\n",
       "      <td>2</td>\n",
       "    </tr>\n",
       "  </tbody>\n",
       "</table>\n",
       "</div>"
      ],
      "text/plain": [
       "  report_date  total_purchase_amt  total_redeem_amt  year  month  day  week  \\\n",
       "0  2014-03-01           362865580         211279011  2014      3    1     9   \n",
       "1  2014-03-02           276202230         246199417  2014      3    2     9   \n",
       "2  2014-03-03           505305862         513017360  2014      3    3    10   \n",
       "3  2014-03-04           524146340         250562978  2014      3    4    10   \n",
       "4  2014-03-05           454295491         209072753  2014      3    5    10   \n",
       "\n",
       "   weekday  \n",
       "0        5  \n",
       "1        6  \n",
       "2        0  \n",
       "3        1  \n",
       "4        2  "
      ]
     },
     "execution_count": 11,
     "metadata": {},
     "output_type": "execute_result"
    }
   ],
   "source": [
    "user_balance_df = add_timestamp(user_balance_df)\n",
    "user_balance_df.head()"
   ]
  },
  {
   "cell_type": "code",
   "execution_count": 12,
   "metadata": {
    "ExecuteTime": {
     "end_time": "2021-01-31T14:36:58.040600Z",
     "start_time": "2021-01-31T14:36:58.016088Z"
    }
   },
   "outputs": [],
   "source": [
    "test_df = add_timestamp(test_df)"
   ]
  },
  {
   "cell_type": "markdown",
   "metadata": {},
   "source": [
    "# 计算周期因子"
   ]
  },
  {
   "cell_type": "code",
   "execution_count": 13,
   "metadata": {
    "ExecuteTime": {
     "end_time": "2021-01-31T14:36:58.068888Z",
     "start_time": "2021-01-31T14:36:58.043349Z"
    },
    "run_control": {
     "marked": false
    }
   },
   "outputs": [
    {
     "data": {
      "text/html": [
       "<div>\n",
       "<style scoped>\n",
       "    .dataframe tbody tr th:only-of-type {\n",
       "        vertical-align: middle;\n",
       "    }\n",
       "\n",
       "    .dataframe tbody tr th {\n",
       "        vertical-align: top;\n",
       "    }\n",
       "\n",
       "    .dataframe thead th {\n",
       "        text-align: right;\n",
       "    }\n",
       "</style>\n",
       "<table border=\"1\" class=\"dataframe\">\n",
       "  <thead>\n",
       "    <tr style=\"text-align: right;\">\n",
       "      <th></th>\n",
       "      <th>weekday</th>\n",
       "      <th>P_week_factor</th>\n",
       "      <th>R_week_factor</th>\n",
       "    </tr>\n",
       "  </thead>\n",
       "  <tbody>\n",
       "    <tr>\n",
       "      <th>0</th>\n",
       "      <td>0</td>\n",
       "      <td>1.185411</td>\n",
       "      <td>1.257964</td>\n",
       "    </tr>\n",
       "    <tr>\n",
       "      <th>1</th>\n",
       "      <td>1</td>\n",
       "      <td>1.209608</td>\n",
       "      <td>1.172248</td>\n",
       "    </tr>\n",
       "    <tr>\n",
       "      <th>2</th>\n",
       "      <td>2</td>\n",
       "      <td>1.163752</td>\n",
       "      <td>1.157944</td>\n",
       "    </tr>\n",
       "    <tr>\n",
       "      <th>3</th>\n",
       "      <td>3</td>\n",
       "      <td>1.139503</td>\n",
       "      <td>1.026762</td>\n",
       "    </tr>\n",
       "    <tr>\n",
       "      <th>4</th>\n",
       "      <td>4</td>\n",
       "      <td>0.902682</td>\n",
       "      <td>0.975445</td>\n",
       "    </tr>\n",
       "    <tr>\n",
       "      <th>5</th>\n",
       "      <td>5</td>\n",
       "      <td>0.709237</td>\n",
       "      <td>0.669791</td>\n",
       "    </tr>\n",
       "    <tr>\n",
       "      <th>6</th>\n",
       "      <td>6</td>\n",
       "      <td>0.712065</td>\n",
       "      <td>0.761712</td>\n",
       "    </tr>\n",
       "  </tbody>\n",
       "</table>\n",
       "</div>"
      ],
      "text/plain": [
       "   weekday  P_week_factor  R_week_factor\n",
       "0        0       1.185411       1.257964\n",
       "1        1       1.209608       1.172248\n",
       "2        2       1.163752       1.157944\n",
       "3        3       1.139503       1.026762\n",
       "4        4       0.902682       0.975445\n",
       "5        5       0.709237       0.669791\n",
       "6        6       0.712065       0.761712"
      ]
     },
     "execution_count": 13,
     "metadata": {},
     "output_type": "execute_result"
    }
   ],
   "source": [
    "week_factor_df = get_week_factor(user_balance_df)\n",
    "week_factor_df"
   ]
  },
  {
   "cell_type": "code",
   "execution_count": 14,
   "metadata": {
    "ExecuteTime": {
     "end_time": "2021-01-31T14:36:58.077856Z",
     "start_time": "2021-01-31T14:36:58.071167Z"
    }
   },
   "outputs": [],
   "source": [
    "# 将周期因子结果合并到user_balance_df中\n",
    "user_balance_df = user_balance_df.merge(week_factor_df, on='weekday')"
   ]
  },
  {
   "cell_type": "code",
   "execution_count": 15,
   "metadata": {
    "ExecuteTime": {
     "end_time": "2021-01-31T14:36:58.088264Z",
     "start_time": "2021-01-31T14:36:58.080152Z"
    }
   },
   "outputs": [
    {
     "data": {
      "text/plain": [
       "(30, 10)"
      ]
     },
     "execution_count": 15,
     "metadata": {},
     "output_type": "execute_result"
    }
   ],
   "source": [
    "# 预测结果列中增加周期因子列\n",
    "test_df = test_df.merge(week_factor_df, on='weekday', how='left')\n",
    "test_df.shape"
   ]
  },
  {
   "cell_type": "markdown",
   "metadata": {},
   "source": [
    "# 计算日期因子"
   ]
  },
  {
   "cell_type": "code",
   "execution_count": 16,
   "metadata": {
    "ExecuteTime": {
     "end_time": "2021-01-31T14:36:58.094419Z",
     "start_time": "2021-01-31T14:36:58.090319Z"
    },
    "run_control": {
     "marked": false
    }
   },
   "outputs": [],
   "source": [
    "df = user_balance_df.copy()"
   ]
  },
  {
   "cell_type": "code",
   "execution_count": 17,
   "metadata": {
    "ExecuteTime": {
     "end_time": "2021-01-31T14:36:58.123282Z",
     "start_time": "2021-01-31T14:36:58.101898Z"
    }
   },
   "outputs": [
    {
     "data": {
      "text/html": [
       "<div>\n",
       "<style scoped>\n",
       "    .dataframe tbody tr th:only-of-type {\n",
       "        vertical-align: middle;\n",
       "    }\n",
       "\n",
       "    .dataframe tbody tr th {\n",
       "        vertical-align: top;\n",
       "    }\n",
       "\n",
       "    .dataframe thead th {\n",
       "        text-align: right;\n",
       "    }\n",
       "</style>\n",
       "<table border=\"1\" class=\"dataframe\">\n",
       "  <thead>\n",
       "    <tr style=\"text-align: right;\">\n",
       "      <th></th>\n",
       "      <th>report_date</th>\n",
       "      <th>total_purchase_amt</th>\n",
       "      <th>total_redeem_amt</th>\n",
       "      <th>year</th>\n",
       "      <th>month</th>\n",
       "      <th>day</th>\n",
       "      <th>week</th>\n",
       "      <th>weekday</th>\n",
       "      <th>P_week_factor</th>\n",
       "      <th>R_week_factor</th>\n",
       "    </tr>\n",
       "  </thead>\n",
       "  <tbody>\n",
       "    <tr>\n",
       "      <th>0</th>\n",
       "      <td>2014-03-01</td>\n",
       "      <td>362865580</td>\n",
       "      <td>211279011</td>\n",
       "      <td>2014</td>\n",
       "      <td>3</td>\n",
       "      <td>1</td>\n",
       "      <td>9</td>\n",
       "      <td>5</td>\n",
       "      <td>0.709237</td>\n",
       "      <td>0.669791</td>\n",
       "    </tr>\n",
       "    <tr>\n",
       "      <th>1</th>\n",
       "      <td>2014-03-08</td>\n",
       "      <td>243274169</td>\n",
       "      <td>140323202</td>\n",
       "      <td>2014</td>\n",
       "      <td>3</td>\n",
       "      <td>8</td>\n",
       "      <td>10</td>\n",
       "      <td>5</td>\n",
       "      <td>0.709237</td>\n",
       "      <td>0.669791</td>\n",
       "    </tr>\n",
       "    <tr>\n",
       "      <th>2</th>\n",
       "      <td>2014-03-15</td>\n",
       "      <td>287407002</td>\n",
       "      <td>242799048</td>\n",
       "      <td>2014</td>\n",
       "      <td>3</td>\n",
       "      <td>15</td>\n",
       "      <td>11</td>\n",
       "      <td>5</td>\n",
       "      <td>0.709237</td>\n",
       "      <td>0.669791</td>\n",
       "    </tr>\n",
       "    <tr>\n",
       "      <th>3</th>\n",
       "      <td>2014-03-22</td>\n",
       "      <td>191700135</td>\n",
       "      <td>138039412</td>\n",
       "      <td>2014</td>\n",
       "      <td>3</td>\n",
       "      <td>22</td>\n",
       "      <td>12</td>\n",
       "      <td>5</td>\n",
       "      <td>0.709237</td>\n",
       "      <td>0.669791</td>\n",
       "    </tr>\n",
       "    <tr>\n",
       "      <th>4</th>\n",
       "      <td>2014-03-29</td>\n",
       "      <td>160250985</td>\n",
       "      <td>155006056</td>\n",
       "      <td>2014</td>\n",
       "      <td>3</td>\n",
       "      <td>29</td>\n",
       "      <td>13</td>\n",
       "      <td>5</td>\n",
       "      <td>0.709237</td>\n",
       "      <td>0.669791</td>\n",
       "    </tr>\n",
       "    <tr>\n",
       "      <th>...</th>\n",
       "      <td>...</td>\n",
       "      <td>...</td>\n",
       "      <td>...</td>\n",
       "      <td>...</td>\n",
       "      <td>...</td>\n",
       "      <td>...</td>\n",
       "      <td>...</td>\n",
       "      <td>...</td>\n",
       "      <td>...</td>\n",
       "      <td>...</td>\n",
       "    </tr>\n",
       "    <tr>\n",
       "      <th>179</th>\n",
       "      <td>2014-08-01</td>\n",
       "      <td>374884735</td>\n",
       "      <td>252540858</td>\n",
       "      <td>2014</td>\n",
       "      <td>8</td>\n",
       "      <td>1</td>\n",
       "      <td>31</td>\n",
       "      <td>4</td>\n",
       "      <td>0.902682</td>\n",
       "      <td>0.975445</td>\n",
       "    </tr>\n",
       "    <tr>\n",
       "      <th>180</th>\n",
       "      <td>2014-08-08</td>\n",
       "      <td>233903717</td>\n",
       "      <td>311648757</td>\n",
       "      <td>2014</td>\n",
       "      <td>8</td>\n",
       "      <td>8</td>\n",
       "      <td>32</td>\n",
       "      <td>4</td>\n",
       "      <td>0.902682</td>\n",
       "      <td>0.975445</td>\n",
       "    </tr>\n",
       "    <tr>\n",
       "      <th>181</th>\n",
       "      <td>2014-08-15</td>\n",
       "      <td>244551620</td>\n",
       "      <td>236516007</td>\n",
       "      <td>2014</td>\n",
       "      <td>8</td>\n",
       "      <td>15</td>\n",
       "      <td>33</td>\n",
       "      <td>4</td>\n",
       "      <td>0.902682</td>\n",
       "      <td>0.975445</td>\n",
       "    </tr>\n",
       "    <tr>\n",
       "      <th>182</th>\n",
       "      <td>2014-08-22</td>\n",
       "      <td>246316056</td>\n",
       "      <td>179349206</td>\n",
       "      <td>2014</td>\n",
       "      <td>8</td>\n",
       "      <td>22</td>\n",
       "      <td>34</td>\n",
       "      <td>4</td>\n",
       "      <td>0.902682</td>\n",
       "      <td>0.975445</td>\n",
       "    </tr>\n",
       "    <tr>\n",
       "      <th>183</th>\n",
       "      <td>2014-08-29</td>\n",
       "      <td>267554713</td>\n",
       "      <td>273756380</td>\n",
       "      <td>2014</td>\n",
       "      <td>8</td>\n",
       "      <td>29</td>\n",
       "      <td>35</td>\n",
       "      <td>4</td>\n",
       "      <td>0.902682</td>\n",
       "      <td>0.975445</td>\n",
       "    </tr>\n",
       "  </tbody>\n",
       "</table>\n",
       "<p>184 rows × 10 columns</p>\n",
       "</div>"
      ],
      "text/plain": [
       "    report_date  total_purchase_amt  total_redeem_amt  year  month  day  week  \\\n",
       "0    2014-03-01           362865580         211279011  2014      3    1     9   \n",
       "1    2014-03-08           243274169         140323202  2014      3    8    10   \n",
       "2    2014-03-15           287407002         242799048  2014      3   15    11   \n",
       "3    2014-03-22           191700135         138039412  2014      3   22    12   \n",
       "4    2014-03-29           160250985         155006056  2014      3   29    13   \n",
       "..          ...                 ...               ...   ...    ...  ...   ...   \n",
       "179  2014-08-01           374884735         252540858  2014      8    1    31   \n",
       "180  2014-08-08           233903717         311648757  2014      8    8    32   \n",
       "181  2014-08-15           244551620         236516007  2014      8   15    33   \n",
       "182  2014-08-22           246316056         179349206  2014      8   22    34   \n",
       "183  2014-08-29           267554713         273756380  2014      8   29    35   \n",
       "\n",
       "     weekday  P_week_factor  R_week_factor  \n",
       "0          5       0.709237       0.669791  \n",
       "1          5       0.709237       0.669791  \n",
       "2          5       0.709237       0.669791  \n",
       "3          5       0.709237       0.669791  \n",
       "4          5       0.709237       0.669791  \n",
       "..       ...            ...            ...  \n",
       "179        4       0.902682       0.975445  \n",
       "180        4       0.902682       0.975445  \n",
       "181        4       0.902682       0.975445  \n",
       "182        4       0.902682       0.975445  \n",
       "183        4       0.902682       0.975445  \n",
       "\n",
       "[184 rows x 10 columns]"
      ]
     },
     "execution_count": 17,
     "metadata": {},
     "output_type": "execute_result"
    }
   ],
   "source": [
    "df"
   ]
  },
  {
   "cell_type": "code",
   "execution_count": 18,
   "metadata": {
    "ExecuteTime": {
     "end_time": "2021-01-31T14:36:58.137790Z",
     "start_time": "2021-01-31T14:36:58.130385Z"
    },
    "scrolled": true
   },
   "outputs": [],
   "source": [
    "def get_date_factor(df):\n",
    "    \"\"\"计算日期因子\"\"\"\n",
    "    df = df.copy()\n",
    "    n_month = df['month'].nunique()\n",
    "    df['weekday_freq'] = 0\n",
    "    factor_cols = ['P_week_factor', 'R_week_factor']\n",
    "    groupkey = ['day', 'weekday']\n",
    "    groups = df.groupby(by=groupkey, as_index=False)\n",
    "    # 统计所有1-31号中周一到周日出现的频次（比如：3月-9月里的1号中有几个周一、周二..周日）\n",
    "    week_count = groups['weekday_freq'].count()\n",
    "    # 会出现重复行，所以最后去重\n",
    "    week_count = week_count.merge(df[groupkey + factor_cols], on=groupkey).drop_duplicates()\n",
    "    # 日期因子=频次 * 周期因子 / 月数, 这里先计算 周期因子 / 月数\n",
    "    week_count['P_day_factor'] = week_count['weekday_freq'].copy() / n_month\n",
    "    week_count['R_day_factor'] = week_count['weekday_freq'].copy() / n_month\n",
    "    week_count['P_day_factor'] *= week_count[factor_cols[0]]\n",
    "    week_count['R_day_factor'] *= week_count[factor_cols[1]]\n",
    "    # 求和后就得到每天的日期因子\n",
    "    date_factor = week_count.groupby('day')[['P_day_factor', 'R_day_factor']].sum()\n",
    "    del df['weekday_freq']\n",
    "    return date_factor"
   ]
  },
  {
   "cell_type": "code",
   "execution_count": 19,
   "metadata": {
    "ExecuteTime": {
     "end_time": "2021-01-31T14:36:58.190859Z",
     "start_time": "2021-01-31T14:36:58.142666Z"
    }
   },
   "outputs": [
    {
     "data": {
      "text/html": [
       "<div>\n",
       "<style scoped>\n",
       "    .dataframe tbody tr th:only-of-type {\n",
       "        vertical-align: middle;\n",
       "    }\n",
       "\n",
       "    .dataframe tbody tr th {\n",
       "        vertical-align: top;\n",
       "    }\n",
       "\n",
       "    .dataframe thead th {\n",
       "        text-align: right;\n",
       "    }\n",
       "</style>\n",
       "<table border=\"1\" class=\"dataframe\">\n",
       "  <thead>\n",
       "    <tr style=\"text-align: right;\">\n",
       "      <th></th>\n",
       "      <th>P_day_factor</th>\n",
       "      <th>R_day_factor</th>\n",
       "    </tr>\n",
       "    <tr>\n",
       "      <th>day</th>\n",
       "      <th></th>\n",
       "      <th></th>\n",
       "    </tr>\n",
       "  </thead>\n",
       "  <tbody>\n",
       "    <tr>\n",
       "      <th>1</th>\n",
       "      <td>0.980451</td>\n",
       "      <td>0.963034</td>\n",
       "    </tr>\n",
       "    <tr>\n",
       "      <th>2</th>\n",
       "      <td>0.972816</td>\n",
       "      <td>0.996800</td>\n",
       "    </tr>\n",
       "  </tbody>\n",
       "</table>\n",
       "</div>"
      ],
      "text/plain": [
       "     P_day_factor  R_day_factor\n",
       "day                            \n",
       "1        0.980451      0.963034\n",
       "2        0.972816      0.996800"
      ]
     },
     "execution_count": 19,
     "metadata": {},
     "output_type": "execute_result"
    }
   ],
   "source": [
    "date_factor = get_date_factor(df)\n",
    "date_factor.head(2)"
   ]
  },
  {
   "cell_type": "code",
   "execution_count": 20,
   "metadata": {
    "ExecuteTime": {
     "end_time": "2021-01-31T14:36:58.207158Z",
     "start_time": "2021-01-31T14:36:58.196003Z"
    }
   },
   "outputs": [
    {
     "data": {
      "text/plain": [
       "(31, 2)"
      ]
     },
     "execution_count": 20,
     "metadata": {},
     "output_type": "execute_result"
    }
   ],
   "source": [
    "date_factor.shape"
   ]
  },
  {
   "cell_type": "code",
   "execution_count": 21,
   "metadata": {
    "ExecuteTime": {
     "end_time": "2021-01-31T14:36:58.231707Z",
     "start_time": "2021-01-31T14:36:58.214049Z"
    }
   },
   "outputs": [
    {
     "data": {
      "text/plain": [
       "(30, 12)"
      ]
     },
     "execution_count": 21,
     "metadata": {},
     "output_type": "execute_result"
    }
   ],
   "source": [
    "test_df = test_df.merge(date_factor.reset_index(), on='day', how='left')\n",
    "test_df.shape"
   ]
  },
  {
   "cell_type": "markdown",
   "metadata": {},
   "source": [
    "# 计算base"
   ]
  },
  {
   "cell_type": "code",
   "execution_count": 22,
   "metadata": {
    "ExecuteTime": {
     "end_time": "2021-01-31T14:36:58.248581Z",
     "start_time": "2021-01-31T14:36:58.237727Z"
    }
   },
   "outputs": [],
   "source": [
    "# 课堂的base计算方法 每日均值/日期因子 得分最高是131+\n",
    "# 分数不高，130+\n",
    "def get_base1(df):\n",
    "    cols = [\"total_purchase_amt\", \"total_redeem_amt\"]\n",
    "    groupkey = ['weekday', 'day']\n",
    "    # 按[周, 天]分组计算均值\n",
    "    groups = df.groupby(by=groupkey)\n",
    "    mean_by_week_and_day = groups[cols].mean()\n",
    "    mean_by_week_and_day.columns = ['P_WDmean', 'R_WDmean']\n",
    "    mean_by_week_and_day = mean_by_week_and_day.reset_index()   \n",
    "    # 方法1：直接除以周期因子\n",
    "    week_factor_df = get_week_factor(df)\n",
    "    # 按周、天的每日均值和周期因子合并\n",
    "    tmp = week_factor_df.merge(mean_by_week_and_day, on='weekday', how='right')\n",
    "    tmp['P_base1'] = tmp['P_WDmean'] / tmp['P_week_factor']\n",
    "    tmp['R_base1'] = tmp['R_WDmean'] / tmp['R_week_factor']\n",
    "    # 去掉周期因子后的均值作为base\n",
    "    tmp = tmp.groupby('day')['P_base1', 'R_base1'].mean()    \n",
    "    return tmp.reset_index()\n"
   ]
  },
  {
   "cell_type": "code",
   "execution_count": 23,
   "metadata": {
    "ExecuteTime": {
     "end_time": "2021-01-31T14:36:58.300791Z",
     "start_time": "2021-01-31T14:36:58.252861Z"
    }
   },
   "outputs": [
    {
     "data": {
      "text/html": [
       "<div>\n",
       "<style scoped>\n",
       "    .dataframe tbody tr th:only-of-type {\n",
       "        vertical-align: middle;\n",
       "    }\n",
       "\n",
       "    .dataframe tbody tr th {\n",
       "        vertical-align: top;\n",
       "    }\n",
       "\n",
       "    .dataframe thead th {\n",
       "        text-align: right;\n",
       "    }\n",
       "</style>\n",
       "<table border=\"1\" class=\"dataframe\">\n",
       "  <thead>\n",
       "    <tr style=\"text-align: right;\">\n",
       "      <th></th>\n",
       "      <th>day</th>\n",
       "      <th>P_base1</th>\n",
       "      <th>R_base1</th>\n",
       "    </tr>\n",
       "  </thead>\n",
       "  <tbody>\n",
       "    <tr>\n",
       "      <th>0</th>\n",
       "      <td>1</td>\n",
       "      <td>3.400634e+08</td>\n",
       "      <td>2.377181e+08</td>\n",
       "    </tr>\n",
       "    <tr>\n",
       "      <th>1</th>\n",
       "      <td>2</td>\n",
       "      <td>2.489438e+08</td>\n",
       "      <td>2.199764e+08</td>\n",
       "    </tr>\n",
       "    <tr>\n",
       "      <th>2</th>\n",
       "      <td>3</td>\n",
       "      <td>2.891372e+08</td>\n",
       "      <td>2.944385e+08</td>\n",
       "    </tr>\n",
       "    <tr>\n",
       "      <th>3</th>\n",
       "      <td>4</td>\n",
       "      <td>3.260983e+08</td>\n",
       "      <td>3.027272e+08</td>\n",
       "    </tr>\n",
       "    <tr>\n",
       "      <th>4</th>\n",
       "      <td>5</td>\n",
       "      <td>3.250445e+08</td>\n",
       "      <td>2.574470e+08</td>\n",
       "    </tr>\n",
       "  </tbody>\n",
       "</table>\n",
       "</div>"
      ],
      "text/plain": [
       "   day       P_base1       R_base1\n",
       "0    1  3.400634e+08  2.377181e+08\n",
       "1    2  2.489438e+08  2.199764e+08\n",
       "2    3  2.891372e+08  2.944385e+08\n",
       "3    4  3.260983e+08  3.027272e+08\n",
       "4    5  3.250445e+08  2.574470e+08"
      ]
     },
     "execution_count": 23,
     "metadata": {},
     "output_type": "execute_result"
    }
   ],
   "source": [
    "base1_df = get_base1(df)\n",
    "base1_df.head()"
   ]
  },
  {
   "cell_type": "code",
   "execution_count": 24,
   "metadata": {
    "ExecuteTime": {
     "end_time": "2021-01-31T14:36:58.315969Z",
     "start_time": "2021-01-31T14:36:58.307059Z"
    }
   },
   "outputs": [
    {
     "data": {
      "text/plain": [
       "(31, 3)"
      ]
     },
     "execution_count": 24,
     "metadata": {},
     "output_type": "execute_result"
    }
   ],
   "source": [
    "base1_df.shape"
   ]
  },
  {
   "cell_type": "code",
   "execution_count": 25,
   "metadata": {
    "ExecuteTime": {
     "end_time": "2021-01-31T14:36:58.344957Z",
     "start_time": "2021-01-31T14:36:58.323669Z"
    }
   },
   "outputs": [
    {
     "data": {
      "text/plain": [
       "(30, 14)"
      ]
     },
     "execution_count": 25,
     "metadata": {},
     "output_type": "execute_result"
    }
   ],
   "source": [
    "test_df = test_df.merge(base1_df, on='day', how='left')\n",
    "test_df.shape"
   ]
  },
  {
   "cell_type": "code",
   "execution_count": 26,
   "metadata": {
    "ExecuteTime": {
     "end_time": "2021-01-31T14:36:58.362547Z",
     "start_time": "2021-01-31T14:36:58.350088Z"
    }
   },
   "outputs": [],
   "source": [
    "def get_base2(df):\n",
    "    cols = [\"total_purchase_amt\", \"total_redeem_amt\"]\n",
    "    groupkey = ['day']\n",
    "    # 按天分组计算均值\n",
    "    groups = df.groupby(by=groupkey)\n",
    "    mean_by_week_and_day = groups[cols].mean()\n",
    "    mean_by_week_and_day.columns = ['P_WDmean', 'R_WDmean']\n",
    "    mean_by_week_and_day = mean_by_week_and_day.reset_index()   \n",
    "    # 方法1：直接除以日期因子\n",
    "    date_factor = get_date_factor(df)\n",
    "    # 按周、天的每日均值和日期因子合并\n",
    "    tmp = date_factor.merge(mean_by_week_and_day, on='day', how='right')\n",
    "    tmp['P_base2'] = tmp['P_WDmean'] / tmp['P_day_factor']\n",
    "    tmp['R_base2'] = tmp['R_WDmean'] / tmp['R_day_factor']  \n",
    "    return tmp[['day', 'P_base2', 'R_base2']]"
   ]
  },
  {
   "cell_type": "code",
   "execution_count": 27,
   "metadata": {
    "ExecuteTime": {
     "end_time": "2021-01-31T14:36:58.413682Z",
     "start_time": "2021-01-31T14:36:58.369511Z"
    },
    "scrolled": true
   },
   "outputs": [
    {
     "data": {
      "text/html": [
       "<div>\n",
       "<style scoped>\n",
       "    .dataframe tbody tr th:only-of-type {\n",
       "        vertical-align: middle;\n",
       "    }\n",
       "\n",
       "    .dataframe tbody tr th {\n",
       "        vertical-align: top;\n",
       "    }\n",
       "\n",
       "    .dataframe thead th {\n",
       "        text-align: right;\n",
       "    }\n",
       "</style>\n",
       "<table border=\"1\" class=\"dataframe\">\n",
       "  <thead>\n",
       "    <tr style=\"text-align: right;\">\n",
       "      <th></th>\n",
       "      <th>day</th>\n",
       "      <th>P_base2</th>\n",
       "      <th>R_base2</th>\n",
       "    </tr>\n",
       "  </thead>\n",
       "  <tbody>\n",
       "    <tr>\n",
       "      <th>0</th>\n",
       "      <td>1</td>\n",
       "      <td>3.318261e+08</td>\n",
       "      <td>2.437791e+08</td>\n",
       "    </tr>\n",
       "    <tr>\n",
       "      <th>1</th>\n",
       "      <td>2</td>\n",
       "      <td>2.550589e+08</td>\n",
       "      <td>2.193092e+08</td>\n",
       "    </tr>\n",
       "  </tbody>\n",
       "</table>\n",
       "</div>"
      ],
      "text/plain": [
       "   day       P_base2       R_base2\n",
       "0    1  3.318261e+08  2.437791e+08\n",
       "1    2  2.550589e+08  2.193092e+08"
      ]
     },
     "execution_count": 27,
     "metadata": {},
     "output_type": "execute_result"
    }
   ],
   "source": [
    "base2_df = get_base2(df)\n",
    "base2_df.head(2)"
   ]
  },
  {
   "cell_type": "code",
   "execution_count": 28,
   "metadata": {
    "ExecuteTime": {
     "end_time": "2021-01-31T14:36:58.424637Z",
     "start_time": "2021-01-31T14:36:58.418489Z"
    }
   },
   "outputs": [
    {
     "data": {
      "text/plain": [
       "(31, 3)"
      ]
     },
     "execution_count": 28,
     "metadata": {},
     "output_type": "execute_result"
    }
   ],
   "source": [
    "base2_df.shape"
   ]
  },
  {
   "cell_type": "markdown",
   "metadata": {},
   "source": [
    "# 预测"
   ]
  },
  {
   "cell_type": "code",
   "execution_count": 29,
   "metadata": {
    "ExecuteTime": {
     "end_time": "2021-01-31T14:36:58.445242Z",
     "start_time": "2021-01-31T14:36:58.429474Z"
    }
   },
   "outputs": [
    {
     "data": {
      "text/plain": [
       "(30, 16)"
      ]
     },
     "execution_count": 29,
     "metadata": {},
     "output_type": "execute_result"
    }
   ],
   "source": [
    "test_df = test_df.merge(base2_df, on='day', how='left').sort_values(by='report_date')\n",
    "test_df.shape"
   ]
  },
  {
   "cell_type": "code",
   "execution_count": 30,
   "metadata": {
    "ExecuteTime": {
     "end_time": "2021-01-31T14:36:58.476604Z",
     "start_time": "2021-01-31T14:36:58.449043Z"
    }
   },
   "outputs": [
    {
     "data": {
      "text/html": [
       "<div>\n",
       "<style scoped>\n",
       "    .dataframe tbody tr th:only-of-type {\n",
       "        vertical-align: middle;\n",
       "    }\n",
       "\n",
       "    .dataframe tbody tr th {\n",
       "        vertical-align: top;\n",
       "    }\n",
       "\n",
       "    .dataframe thead th {\n",
       "        text-align: right;\n",
       "    }\n",
       "</style>\n",
       "<table border=\"1\" class=\"dataframe\">\n",
       "  <thead>\n",
       "    <tr style=\"text-align: right;\">\n",
       "      <th></th>\n",
       "      <th>report_date</th>\n",
       "      <th>total_purchase_amt</th>\n",
       "      <th>total_redeem_amt</th>\n",
       "      <th>year</th>\n",
       "      <th>month</th>\n",
       "      <th>day</th>\n",
       "      <th>week</th>\n",
       "      <th>weekday</th>\n",
       "      <th>P_week_factor</th>\n",
       "      <th>R_week_factor</th>\n",
       "      <th>P_day_factor</th>\n",
       "      <th>R_day_factor</th>\n",
       "      <th>P_base1</th>\n",
       "      <th>R_base1</th>\n",
       "      <th>P_base2</th>\n",
       "      <th>R_base2</th>\n",
       "    </tr>\n",
       "  </thead>\n",
       "  <tbody>\n",
       "    <tr>\n",
       "      <th>0</th>\n",
       "      <td>2014-09-01</td>\n",
       "      <td>NaN</td>\n",
       "      <td>NaN</td>\n",
       "      <td>2014</td>\n",
       "      <td>9</td>\n",
       "      <td>1</td>\n",
       "      <td>36</td>\n",
       "      <td>0</td>\n",
       "      <td>1.185411</td>\n",
       "      <td>1.257964</td>\n",
       "      <td>0.980451</td>\n",
       "      <td>0.963034</td>\n",
       "      <td>3.400634e+08</td>\n",
       "      <td>2.377181e+08</td>\n",
       "      <td>3.318261e+08</td>\n",
       "      <td>2.437791e+08</td>\n",
       "    </tr>\n",
       "    <tr>\n",
       "      <th>1</th>\n",
       "      <td>2014-09-02</td>\n",
       "      <td>NaN</td>\n",
       "      <td>NaN</td>\n",
       "      <td>2014</td>\n",
       "      <td>9</td>\n",
       "      <td>2</td>\n",
       "      <td>36</td>\n",
       "      <td>1</td>\n",
       "      <td>1.209608</td>\n",
       "      <td>1.172248</td>\n",
       "      <td>0.972816</td>\n",
       "      <td>0.996800</td>\n",
       "      <td>2.489438e+08</td>\n",
       "      <td>2.199764e+08</td>\n",
       "      <td>2.550589e+08</td>\n",
       "      <td>2.193092e+08</td>\n",
       "    </tr>\n",
       "    <tr>\n",
       "      <th>2</th>\n",
       "      <td>2014-09-03</td>\n",
       "      <td>NaN</td>\n",
       "      <td>NaN</td>\n",
       "      <td>2014</td>\n",
       "      <td>9</td>\n",
       "      <td>3</td>\n",
       "      <td>36</td>\n",
       "      <td>2</td>\n",
       "      <td>1.163752</td>\n",
       "      <td>1.157944</td>\n",
       "      <td>1.015888</td>\n",
       "      <td>0.985873</td>\n",
       "      <td>2.891372e+08</td>\n",
       "      <td>2.944385e+08</td>\n",
       "      <td>2.947971e+08</td>\n",
       "      <td>3.010781e+08</td>\n",
       "    </tr>\n",
       "    <tr>\n",
       "      <th>3</th>\n",
       "      <td>2014-09-04</td>\n",
       "      <td>NaN</td>\n",
       "      <td>NaN</td>\n",
       "      <td>2014</td>\n",
       "      <td>9</td>\n",
       "      <td>4</td>\n",
       "      <td>36</td>\n",
       "      <td>3</td>\n",
       "      <td>1.139503</td>\n",
       "      <td>1.026762</td>\n",
       "      <td>1.012700</td>\n",
       "      <td>1.050126</td>\n",
       "      <td>3.260983e+08</td>\n",
       "      <td>3.027272e+08</td>\n",
       "      <td>3.120176e+08</td>\n",
       "      <td>2.785948e+08</td>\n",
       "    </tr>\n",
       "    <tr>\n",
       "      <th>4</th>\n",
       "      <td>2014-09-05</td>\n",
       "      <td>NaN</td>\n",
       "      <td>NaN</td>\n",
       "      <td>2014</td>\n",
       "      <td>9</td>\n",
       "      <td>5</td>\n",
       "      <td>36</td>\n",
       "      <td>4</td>\n",
       "      <td>0.902682</td>\n",
       "      <td>0.975445</td>\n",
       "      <td>1.019458</td>\n",
       "      <td>0.992417</td>\n",
       "      <td>3.250445e+08</td>\n",
       "      <td>2.574470e+08</td>\n",
       "      <td>3.223549e+08</td>\n",
       "      <td>2.571989e+08</td>\n",
       "    </tr>\n",
       "  </tbody>\n",
       "</table>\n",
       "</div>"
      ],
      "text/plain": [
       "  report_date  total_purchase_amt  total_redeem_amt  year  month  day  week  \\\n",
       "0  2014-09-01                 NaN               NaN  2014      9    1    36   \n",
       "1  2014-09-02                 NaN               NaN  2014      9    2    36   \n",
       "2  2014-09-03                 NaN               NaN  2014      9    3    36   \n",
       "3  2014-09-04                 NaN               NaN  2014      9    4    36   \n",
       "4  2014-09-05                 NaN               NaN  2014      9    5    36   \n",
       "\n",
       "   weekday  P_week_factor  R_week_factor  P_day_factor  R_day_factor  \\\n",
       "0        0       1.185411       1.257964      0.980451      0.963034   \n",
       "1        1       1.209608       1.172248      0.972816      0.996800   \n",
       "2        2       1.163752       1.157944      1.015888      0.985873   \n",
       "3        3       1.139503       1.026762      1.012700      1.050126   \n",
       "4        4       0.902682       0.975445      1.019458      0.992417   \n",
       "\n",
       "        P_base1       R_base1       P_base2       R_base2  \n",
       "0  3.400634e+08  2.377181e+08  3.318261e+08  2.437791e+08  \n",
       "1  2.489438e+08  2.199764e+08  2.550589e+08  2.193092e+08  \n",
       "2  2.891372e+08  2.944385e+08  2.947971e+08  3.010781e+08  \n",
       "3  3.260983e+08  3.027272e+08  3.120176e+08  2.785948e+08  \n",
       "4  3.250445e+08  2.574470e+08  3.223549e+08  2.571989e+08  "
      ]
     },
     "execution_count": 30,
     "metadata": {},
     "output_type": "execute_result"
    }
   ],
   "source": [
    "test_df.head()"
   ]
  },
  {
   "cell_type": "markdown",
   "metadata": {},
   "source": [
    "## 135.5091 使用base2进行预测"
   ]
  },
  {
   "cell_type": "code",
   "execution_count": 31,
   "metadata": {
    "ExecuteTime": {
     "end_time": "2021-01-31T14:36:58.487124Z",
     "start_time": "2021-01-31T14:36:58.481374Z"
    }
   },
   "outputs": [],
   "source": [
    "tmp_df = test_df.copy()"
   ]
  },
  {
   "cell_type": "code",
   "execution_count": 32,
   "metadata": {
    "ExecuteTime": {
     "end_time": "2021-01-31T14:36:58.522953Z",
     "start_time": "2021-01-31T14:36:58.493017Z"
    }
   },
   "outputs": [
    {
     "data": {
      "text/html": [
       "<div>\n",
       "<style scoped>\n",
       "    .dataframe tbody tr th:only-of-type {\n",
       "        vertical-align: middle;\n",
       "    }\n",
       "\n",
       "    .dataframe tbody tr th {\n",
       "        vertical-align: top;\n",
       "    }\n",
       "\n",
       "    .dataframe thead th {\n",
       "        text-align: right;\n",
       "    }\n",
       "</style>\n",
       "<table border=\"1\" class=\"dataframe\">\n",
       "  <thead>\n",
       "    <tr style=\"text-align: right;\">\n",
       "      <th></th>\n",
       "      <th>total_purchase_amt</th>\n",
       "      <th>total_redeem_amt</th>\n",
       "    </tr>\n",
       "  </thead>\n",
       "  <tbody>\n",
       "    <tr>\n",
       "      <th>count</th>\n",
       "      <td>3.000000e+01</td>\n",
       "      <td>3.000000e+01</td>\n",
       "    </tr>\n",
       "    <tr>\n",
       "      <th>mean</th>\n",
       "      <td>2.814917e+08</td>\n",
       "      <td>2.782241e+08</td>\n",
       "    </tr>\n",
       "    <tr>\n",
       "      <th>std</th>\n",
       "      <td>6.936285e+07</td>\n",
       "      <td>6.052093e+07</td>\n",
       "    </tr>\n",
       "    <tr>\n",
       "      <th>min</th>\n",
       "      <td>1.736759e+08</td>\n",
       "      <td>1.624970e+08</td>\n",
       "    </tr>\n",
       "    <tr>\n",
       "      <th>25%</th>\n",
       "      <td>2.193003e+08</td>\n",
       "      <td>2.495423e+08</td>\n",
       "    </tr>\n",
       "    <tr>\n",
       "      <th>50%</th>\n",
       "      <td>2.924079e+08</td>\n",
       "      <td>2.926650e+08</td>\n",
       "    </tr>\n",
       "    <tr>\n",
       "      <th>75%</th>\n",
       "      <td>3.378793e+08</td>\n",
       "      <td>3.196943e+08</td>\n",
       "    </tr>\n",
       "    <tr>\n",
       "      <th>max</th>\n",
       "      <td>3.947967e+08</td>\n",
       "      <td>3.674905e+08</td>\n",
       "    </tr>\n",
       "  </tbody>\n",
       "</table>\n",
       "</div>"
      ],
      "text/plain": [
       "       total_purchase_amt  total_redeem_amt\n",
       "count        3.000000e+01      3.000000e+01\n",
       "mean         2.814917e+08      2.782241e+08\n",
       "std          6.936285e+07      6.052093e+07\n",
       "min          1.736759e+08      1.624970e+08\n",
       "25%          2.193003e+08      2.495423e+08\n",
       "50%          2.924079e+08      2.926650e+08\n",
       "75%          3.378793e+08      3.196943e+08\n",
       "max          3.947967e+08      3.674905e+08"
      ]
     },
     "execution_count": 32,
     "metadata": {},
     "output_type": "execute_result"
    }
   ],
   "source": [
    "test_df = tmp_df.copy()\n",
    "\n",
    "test_df['total_purchase_amt'] = test_df['P_base2'] * test_df['P_week_factor']\n",
    "test_df['total_redeem_amt'] = test_df['R_base2'] * test_df['R_week_factor']\n",
    "\n",
    "cols = ['total_purchase_amt', 'total_redeem_amt']\n",
    "pred_df = test_df[['report_date'] + cols].copy()\n",
    "pred_df.describe()"
   ]
  },
  {
   "cell_type": "code",
   "execution_count": 33,
   "metadata": {
    "ExecuteTime": {
     "end_time": "2021-01-31T14:36:58.532726Z",
     "start_time": "2021-01-31T14:36:58.526576Z"
    }
   },
   "outputs": [],
   "source": [
    "pred_df[cols] = pred_df[cols].astype(int)"
   ]
  },
  {
   "cell_type": "code",
   "execution_count": 34,
   "metadata": {
    "ExecuteTime": {
     "end_time": "2021-01-31T14:36:58.869061Z",
     "start_time": "2021-01-31T14:36:58.538016Z"
    }
   },
   "outputs": [
    {
     "data": {
      "text/plain": [
       "<matplotlib.axes._subplots.AxesSubplot at 0x7ffd7d35e650>"
      ]
     },
     "execution_count": 34,
     "metadata": {},
     "output_type": "execute_result"
    },
    {
     "data": {
      "image/png": "[encoded data removed]",
      "text/plain": [
       "<Figure size 1152x288 with 1 Axes>"
      ]
     },
     "metadata": {
      "needs_background": "light"
     },
     "output_type": "display_data"
    }
   ],
   "source": [
    "pred_df.set_index('report_date').plot(\n",
    "    figsize=(16, 4),\n",
    "    title=\"predicting purchase and redemption curve in September\")"
   ]
  },
  {
   "cell_type": "code",
   "execution_count": 35,
   "metadata": {
    "ExecuteTime": {
     "end_time": "2021-01-31T14:36:58.879446Z",
     "start_time": "2021-01-31T14:36:58.872683Z"
    },
    "scrolled": true
   },
   "outputs": [
    {
     "name": "stdout",
     "output_type": "stream",
     "text": [
      "   September 2014\n",
      "Mo Tu We Th Fr Sa Su\n",
      " 1  2  3  4  5  6  7\n",
      " 8  9 10 11 12 13 14\n",
      "15 16 17 18 19 20 21\n",
      "22 23 24 25 26 27 28\n",
      "29 30\n",
      "\n"
     ]
    }
   ],
   "source": [
    "print(calendar.month(2014, 9))"
   ]
  },
  {
   "cell_type": "markdown",
   "metadata": {},
   "source": [
    "### 135.5091 不根据假期调整日期，直接保存预测结果"
   ]
  },
  {
   "cell_type": "code",
   "execution_count": 36,
   "metadata": {
    "ExecuteTime": {
     "end_time": "2021-01-31T14:36:58.889580Z",
     "start_time": "2021-01-31T14:36:58.884116Z"
    }
   },
   "outputs": [],
   "source": [
    "# 修改日期列的格式\n",
    "pred_df['report_date'] = pred_df['report_date'].dt.strftime(\"%Y%m%d\")"
   ]
  },
  {
   "cell_type": "code",
   "execution_count": 37,
   "metadata": {
    "ExecuteTime": {
     "end_time": "2021-01-31T14:36:58.902432Z",
     "start_time": "2021-01-31T14:36:58.892978Z"
    }
   },
   "outputs": [],
   "source": [
    "pred_df.to_csv(\"tc_comp_predict_table_factor_135.5091.csv\", header=None, index=False)"
   ]
  },
  {
   "cell_type": "markdown",
   "metadata": {},
   "source": [
    "### 135.5091 尝试按照假期调整"
   ]
  },
  {
   "cell_type": "code",
   "execution_count": 38,
   "metadata": {
    "ExecuteTime": {
     "end_time": "2021-01-31T14:36:58.923767Z",
     "start_time": "2021-01-31T14:36:58.904649Z"
    }
   },
   "outputs": [],
   "source": [
    "# 日期微调\n",
    "# 2014年9月6、7、8放假，28日上班\n",
    "tmp = pred_df.copy()\n",
    "# 8日是周一，但实际是假期，所以使用7日的数据代替\n",
    "tmp.loc[tmp['report_date'] == 20140908,\n",
    "        cols] = tmp.loc[tmp['report_date'] == 20140907, cols].values\n",
    "\n",
    "# 28日是周日，但实际是上班，所以使用29日的数据代替\n",
    "tmp.loc[tmp['report_date'] == '2014-09-28',\n",
    "        cols] = tmp.loc[tmp['report_date'] == 20140929, cols].values\n",
    "\n",
    "pred_df = tmp.copy()\n",
    "\n",
    "# 2个日期都微调或者只微调8日 成绩仍然都135.5091\n",
    "pred_df.to_csv(\"tc_comp_predict_table_factor_date8_135.5091.csv\", header=None, index=False)"
   ]
  },
  {
   "cell_type": "markdown",
   "metadata": {},
   "source": [
    "## 尝试调整周期因子的权重"
   ]
  },
  {
   "cell_type": "code",
   "execution_count": 39,
   "metadata": {
    "ExecuteTime": {
     "end_time": "2021-01-31T14:37:03.036813Z",
     "start_time": "2021-01-31T14:36:58.925883Z"
    }
   },
   "outputs": [
    {
     "data": {
      "text/html": [
       "<div>\n",
       "<style scoped>\n",
       "    .dataframe tbody tr th:only-of-type {\n",
       "        vertical-align: middle;\n",
       "    }\n",
       "\n",
       "    .dataframe tbody tr th {\n",
       "        vertical-align: top;\n",
       "    }\n",
       "\n",
       "    .dataframe thead th {\n",
       "        text-align: right;\n",
       "    }\n",
       "</style>\n",
       "<table border=\"1\" class=\"dataframe\">\n",
       "  <thead>\n",
       "    <tr style=\"text-align: right;\">\n",
       "      <th></th>\n",
       "      <th>report_date</th>\n",
       "      <th>total_purchase_amt</th>\n",
       "      <th>total_redeem_amt</th>\n",
       "      <th>year</th>\n",
       "      <th>month</th>\n",
       "      <th>day</th>\n",
       "      <th>week</th>\n",
       "      <th>weekday</th>\n",
       "    </tr>\n",
       "  </thead>\n",
       "  <tbody>\n",
       "    <tr>\n",
       "      <th>0</th>\n",
       "      <td>2013-07-01</td>\n",
       "      <td>32488348</td>\n",
       "      <td>5525022</td>\n",
       "      <td>2013</td>\n",
       "      <td>7</td>\n",
       "      <td>1</td>\n",
       "      <td>27</td>\n",
       "      <td>0</td>\n",
       "    </tr>\n",
       "    <tr>\n",
       "      <th>1</th>\n",
       "      <td>2013-07-02</td>\n",
       "      <td>29037390</td>\n",
       "      <td>2554548</td>\n",
       "      <td>2013</td>\n",
       "      <td>7</td>\n",
       "      <td>2</td>\n",
       "      <td>27</td>\n",
       "      <td>1</td>\n",
       "    </tr>\n",
       "  </tbody>\n",
       "</table>\n",
       "</div>"
      ],
      "text/plain": [
       "  report_date  total_purchase_amt  total_redeem_amt  year  month  day  week  \\\n",
       "0  2013-07-01            32488348           5525022  2013      7    1    27   \n",
       "1  2013-07-02            29037390           2554548  2013      7    2    27   \n",
       "\n",
       "   weekday  \n",
       "0        0  \n",
       "1        1  "
      ]
     },
     "execution_count": 39,
     "metadata": {},
     "output_type": "execute_result"
    }
   ],
   "source": [
    "user_balance_df = pd.read_csv('user_balance_table.csv')\n",
    "user_balance_df = user_balance_df.groupby(\"report_date\", as_index=False)[cols].sum()\n",
    "user_balance_df = add_timestamp(user_balance_df)\n",
    "user_balance_df.head(2)"
   ]
  },
  {
   "cell_type": "code",
   "execution_count": 40,
   "metadata": {
    "ExecuteTime": {
     "end_time": "2021-01-31T14:37:03.047089Z",
     "start_time": "2021-01-31T14:37:03.039974Z"
    }
   },
   "outputs": [],
   "source": [
    "user_balance_df = user_balance_df.set_index('report_date')"
   ]
  },
  {
   "cell_type": "code",
   "execution_count": 41,
   "metadata": {
    "ExecuteTime": {
     "end_time": "2021-01-31T14:37:04.660711Z",
     "start_time": "2021-01-31T14:37:03.050179Z"
    }
   },
   "outputs": [
    {
     "data": {
      "image/png": "[encoded data removed]",
      "text/plain": [
       "<Figure size 1152x144 with 1 Axes>"
      ]
     },
     "metadata": {
      "needs_background": "light"
     },
     "output_type": "display_data"
    },
    {
     "data": {
      "image/png": "[encoded data removed]",
      "text/plain": [
       "<Figure size 1152x144 with 1 Axes>"
      ]
     },
     "metadata": {
      "needs_background": "light"
     },
     "output_type": "display_data"
    },
    {
     "data": {
      "image/png": "[encoded data removed]",
      "text/plain": [
       "<Figure size 1152x144 with 1 Axes>"
      ]
     },
     "metadata": {
      "needs_background": "light"
     },
     "output_type": "display_data"
    },
    {
     "data": {
      "image/png": "[encoded data removed]",
      "text/plain": [
       "<Figure size 1152x144 with 1 Axes>"
      ]
     },
     "metadata": {
      "needs_background": "light"
     },
     "output_type": "display_data"
    },
    {
     "data": {
      "image/png": "[encoded data removed]",
      "text/plain": [
       "<Figure size 1152x144 with 1 Axes>"
      ]
     },
     "metadata": {
      "needs_background": "light"
     },
     "output_type": "display_data"
    },
    {
     "data": {
      "image/png": "[encoded data removed]",
      "text/plain": [
       "<Figure size 1152x144 with 1 Axes>"
      ]
     },
     "metadata": {
      "needs_background": "light"
     },
     "output_type": "display_data"
    }
   ],
   "source": [
    "for i in range(3, 9):\n",
    "    index = '2014-0%d' % i\n",
    "    user_balance_df.loc[index, cols].plot(figsize=(16, 2), title=\"Month: %d\" % i)"
   ]
  },
  {
   "cell_type": "markdown",
   "metadata": {},
   "source": [
    "- 观察4月份曲线，每周末数据会处于低谷，且在周二、周三数据较高。判断每周是一个周期。数据抖动幅度较大。\n",
    "- 每月有4个波峰和波谷。"
   ]
  },
  {
   "cell_type": "code",
   "execution_count": 42,
   "metadata": {
    "ExecuteTime": {
     "end_time": "2021-01-31T14:37:04.672189Z",
     "start_time": "2021-01-31T14:37:04.664328Z"
    },
    "scrolled": true
   },
   "outputs": [
    {
     "name": "stdout",
     "output_type": "stream",
     "text": [
      "   September 2013\n",
      "Mo Tu We Th Fr Sa Su\n",
      "                   1\n",
      " 2  3  4  5  6  7  8\n",
      " 9 10 11 12 13 14 15\n",
      "16 17 18 19 20 21 22\n",
      "23 24 25 26 27 28 29\n",
      "30\n",
      "\n"
     ]
    }
   ],
   "source": [
    "print(calendar.month(2013, 9))"
   ]
  },
  {
   "cell_type": "code",
   "execution_count": 43,
   "metadata": {
    "ExecuteTime": {
     "end_time": "2021-01-31T14:37:05.193563Z",
     "start_time": "2021-01-31T14:37:04.675249Z"
    }
   },
   "outputs": [
    {
     "data": {
      "text/plain": [
       "<matplotlib.axes._subplots.AxesSubplot at 0x7ffca6f16310>"
      ]
     },
     "execution_count": 43,
     "metadata": {},
     "output_type": "execute_result"
    },
    {
     "data": {
      "image/png": "[encoded data removed]",
      "text/plain": [
       "<Figure size 1152x288 with 1 Axes>"
      ]
     },
     "metadata": {
      "needs_background": "light"
     },
     "output_type": "display_data"
    }
   ],
   "source": [
    "# 2013年19、20、21是中秋节假期，22，29上班\n",
    "user_balance_df.loc['2013-09', cols].plot(figsize=(16, 4))"
   ]
  },
  {
   "cell_type": "code",
   "execution_count": 44,
   "metadata": {
    "ExecuteTime": {
     "end_time": "2021-01-31T14:37:05.427969Z",
     "start_time": "2021-01-31T14:37:05.199551Z"
    },
    "scrolled": true
   },
   "outputs": [
    {
     "data": {
      "text/plain": [
       "<matplotlib.axes._subplots.AxesSubplot at 0x7ffca5d8e9d0>"
      ]
     },
     "execution_count": 44,
     "metadata": {},
     "output_type": "execute_result"
    },
    {
     "data": {
      "image/png": "[encoded data removed]",
      "text/plain": [
       "<Figure size 432x288 with 1 Axes>"
      ]
     },
     "metadata": {
      "needs_background": "light"
     },
     "output_type": "display_data"
    }
   ],
   "source": [
    "user_balance_df.loc[\"2014-03\":].groupby('weekday')[cols].mean().plot(title=\"每周1-周日赎回和购买平均趋势\")"
   ]
  },
  {
   "cell_type": "code",
   "execution_count": 45,
   "metadata": {
    "ExecuteTime": {
     "end_time": "2021-01-31T14:37:05.644611Z",
     "start_time": "2021-01-31T14:37:05.430467Z"
    }
   },
   "outputs": [
    {
     "data": {
      "text/plain": [
       "<matplotlib.axes._subplots.AxesSubplot at 0x7ffca5f8e5d0>"
      ]
     },
     "execution_count": 45,
     "metadata": {},
     "output_type": "execute_result"
    },
    {
     "data": {
      "image/png": "[encoded data removed]",
      "text/plain": [
       "<Figure size 432x288 with 1 Axes>"
      ]
     },
     "metadata": {
      "needs_background": "light"
     },
     "output_type": "display_data"
    }
   ],
   "source": [
    "# 果然趋势和平均趋势是一模一样\n",
    "week_factor_df.set_index('weekday')[['P_week_factor', 'R_week_factor']].plot(title=\"预测出的周期因子趋势\")"
   ]
  },
  {
   "cell_type": "code",
   "execution_count": 46,
   "metadata": {
    "ExecuteTime": {
     "end_time": "2021-01-31T14:37:05.891743Z",
     "start_time": "2021-01-31T14:37:05.658375Z"
    }
   },
   "outputs": [
    {
     "data": {
      "text/plain": [
       "<matplotlib.axes._subplots.AxesSubplot at 0x7ffca703ca50>"
      ]
     },
     "execution_count": 46,
     "metadata": {},
     "output_type": "execute_result"
    },
    {
     "data": {
      "image/png": "[encoded data removed]",
      "text/plain": [
       "<Figure size 432x288 with 1 Axes>"
      ]
     },
     "metadata": {
      "needs_background": "light"
     },
     "output_type": "display_data"
    }
   ],
   "source": [
    "# 13年9月的数据\n",
    "user_balance_df.loc[\"2013-09\"].groupby('weekday')[cols].mean().plot(title=\"13年9月每周1-周日赎回和购买平均趋势\")"
   ]
  },
  {
   "cell_type": "markdown",
   "metadata": {},
   "source": [
    "### 140.4200 仅降低周日周期因子权重"
   ]
  },
  {
   "cell_type": "markdown",
   "metadata": {},
   "source": [
    "每周末数据处于低谷，所以降低周日的周期因子"
   ]
  },
  {
   "cell_type": "code",
   "execution_count": 47,
   "metadata": {
    "ExecuteTime": {
     "end_time": "2021-01-31T14:37:05.908278Z",
     "start_time": "2021-01-31T14:37:05.896761Z"
    }
   },
   "outputs": [],
   "source": [
    "def adusted_predict(tmp_df, adjusted_weight):\n",
    "    test_df = tmp_df.copy()\n",
    "    adjusted = test_df.groupby('weekday',\n",
    "                               as_index=False)['P_week_factor',\n",
    "                                               'R_week_factor'].min()\n",
    "    adjusted['adjusted_P_week_factor'] = adjusted_weight[\n",
    "        'P_adusted_weight'] * adjusted['P_week_factor']\n",
    "    adjusted['adjusted_R_week_factor'] = adjusted_weight[\n",
    "        'R_adusted_weight'] * adjusted['R_week_factor']\n",
    "    test_df = test_df.merge(\n",
    "        adjusted.drop(columns=['P_week_factor', 'R_week_factor']),\n",
    "        on='weekday',\n",
    "        how='left')\n",
    "    test_df['total_purchase_amt'] = test_df['P_base2'] * test_df[\n",
    "        'adjusted_P_week_factor']\n",
    "    test_df['total_redeem_amt'] = test_df['R_base2'] * test_df[\n",
    "        'adjusted_R_week_factor']\n",
    "    cols = ['total_purchase_amt', 'total_redeem_amt']\n",
    "    pred_df = test_df[['report_date'] + cols].copy()\n",
    "    # 修改日期列的格式\n",
    "    pred_df['report_date'] = pred_df['report_date'].dt.strftime(\"%Y%m%d\")\n",
    "\n",
    "    # 保存预测结果\n",
    "    pred_df.to_csv(\"tc_comp_predict_table_factor_adjusted.csv\",\n",
    "                   header=None,\n",
    "                   index=False)\n",
    "\n",
    "    pred_df.set_index('report_date').plot(\n",
    "        figsize=(16, 4),\n",
    "        title=\n",
    "        \"predicting purchase and redemption curve with adjusted weight in September\"\n",
    "    )"
   ]
  },
  {
   "cell_type": "code",
   "execution_count": 48,
   "metadata": {
    "ExecuteTime": {
     "end_time": "2021-01-31T14:37:05.917766Z",
     "start_time": "2021-01-31T14:37:05.912817Z"
    }
   },
   "outputs": [],
   "source": [
    "tmp_df = test_df.copy()"
   ]
  },
  {
   "cell_type": "code",
   "execution_count": 49,
   "metadata": {
    "ExecuteTime": {
     "end_time": "2021-01-31T14:37:06.158813Z",
     "start_time": "2021-01-31T14:37:05.921485Z"
    }
   },
   "outputs": [
    {
     "data": {
      "image/png": "[encoded data removed]",
      "text/plain": [
       "<Figure size 1152x288 with 1 Axes>"
      ]
     },
     "metadata": {
      "needs_background": "light"
     },
     "output_type": "display_data"
    }
   ],
   "source": [
    "adjusted_weight = pd.DataFrame({\n",
    "    \"P_adusted_weight\": [1, 1, 1, 1, 1, 1, 0.9],\n",
    "    \"R_adusted_weight\": [1, 1, 1, 1, 1, 1, 0.9]\n",
    "})\n",
    "\n",
    "adusted_predict(tmp_df, adjusted_weight)"
   ]
  },
  {
   "cell_type": "markdown",
   "metadata": {},
   "source": [
    "### 146.7478 调整权重后最佳分数"
   ]
  },
  {
   "cell_type": "code",
   "execution_count": 50,
   "metadata": {
    "ExecuteTime": {
     "end_time": "2021-01-31T14:37:06.397717Z",
     "start_time": "2021-01-31T14:37:06.167440Z"
    }
   },
   "outputs": [
    {
     "data": {
      "image/png": "[encoded data removed]",
      "text/plain": [
       "<Figure size 1152x288 with 1 Axes>"
      ]
     },
     "metadata": {
      "needs_background": "light"
     },
     "output_type": "display_data"
    }
   ],
   "source": [
    "# 146.7478\n",
    "adjusted_weight = pd.DataFrame({\n",
    "    \"P_adusted_weight\": [1, 1.04, 1, 1.04, 0.92, 1.02, 0.9],\n",
    "    \"R_adusted_weight\": [0.98, 1, 0.9, 1.04, 1, 1, 0.9]\n",
    "})\n",
    "\n",
    "adusted_predict(tmp_df, adjusted_weight)"
   ]
  },
  {
   "cell_type": "markdown",
   "metadata": {},
   "source": [
    "- 从2014年的趋势曲线看，周三购买量和赎回量较高；但2013年的赎回较低。故尝试调整了周三的周期因子权重后，找到最佳权重\n",
    "- 从2014各月购买量和赎回量曲线可知周日较低，所以降低周日周期因子权重；\n",
    "- 由于训练集中周一存在2个假期，测试集(9月)有1个假期，调试周一的权重，找到最佳权重；\n",
    "- 考虑周二是假期的第一个工作日，调试周二的权重，找到最佳权重；\n",
    "- 考虑周五购买的话，周六日不确认没收益，大部分可能会选择提前购买，或者不购买，因此调试周五权重，找到最佳权重。\n",
    "- 周六购买，周一确认，购买可能性高，增加购买量权重。"
   ]
  },
  {
   "cell_type": "markdown",
   "metadata": {},
   "source": [
    "### 其他调权重后分数低于最佳分数的记录"
   ]
  },
  {
   "cell_type": "code",
   "execution_count": 51,
   "metadata": {
    "ExecuteTime": {
     "end_time": "2021-01-31T14:37:06.407203Z",
     "start_time": "2021-01-31T14:37:06.402704Z"
    }
   },
   "outputs": [],
   "source": [
    "# 141.4534\n",
    "# adjusted_weight = pd.DataFrame({\n",
    "#     \"P_adusted_weight\": [1, 1, 1, 1, 1, 1, 0.9],\n",
    "#     \"R_adusted_weight\": [1, 1, 0.9, 1, 1, 1, 0.9]\n",
    "# })\n",
    "\n",
    "# 增加周三购买量周期因子权重，得分135.1859\n",
    "# adjusted_weight = pd.DataFrame({\n",
    "#     \"P_adusted_weight\": [1, 1, , 1, 1, 1, 0.9],\n",
    "#     \"R_adusted_weight\": [1, 1, 0.9, 1, 1, 1, 0.9]\n",
    "# })\n",
    "\n",
    "# 根据2013年周六购买量低于赎回量降低权重，得分变差：133.5423\n",
    "# adjusted_weight = pd.DataFrame({\n",
    "#     \"P_adusted_weight\": [1, 1, 1.1, 1, 1, 1, 0.9],\n",
    "#     \"R_adusted_weight\": [1, 1, 0.9, 1, 1, 1, 0.9]\n",
    "# })\n",
    "\n",
    "# 周五购买的话，周六日不确认，所以判断周五购买量会低，降低该天购买量的权重 得分142.6901\n",
    "# adjusted_weight = pd.DataFrame({\n",
    "#     \"P_adusted_weight\": [1, 1, 1, 1, 0.9, 1, 0.9],\n",
    "#     \"R_adusted_weight\": [1, 1, 0.9, 1, 1, 1, 0.9]\n",
    "# })\n",
    "# adusted_predict(tmp_df, adjusted_weight)"
   ]
  },
  {
   "cell_type": "code",
   "execution_count": 52,
   "metadata": {
    "ExecuteTime": {
     "end_time": "2021-01-31T14:37:06.417270Z",
     "start_time": "2021-01-31T14:37:06.410110Z"
    }
   },
   "outputs": [],
   "source": [
    "# 139.8618 周日权重降低过大\n",
    "# adjusted_weight = pd.DataFrame({\n",
    "#     \"P_adusted_weight\": [1, 1, 1, 1, 0.9, 1, 0.8],\n",
    "#     \"R_adusted_weight\": [1, 1, 0.9, 1, 1, 1, 0.8]\n",
    "# })\n",
    "\n",
    "# adusted_predict(tmp_df, adjusted_weight)"
   ]
  },
  {
   "cell_type": "code",
   "execution_count": 53,
   "metadata": {
    "ExecuteTime": {
     "end_time": "2021-01-31T14:37:06.444254Z",
     "start_time": "2021-01-31T14:37:06.432257Z"
    }
   },
   "outputs": [],
   "source": [
    "# 9月8日是周一，但实际是假期，而拟合的数据中有2个假期在周一，猜测实际周期因子会不会高一些 得分140.0596\n",
    "# 2个因子一起修改\n",
    "# adjusted_weight = pd.DataFrame({\n",
    "#     \"P_adusted_weight\": [1.1, 1, 1, 1, 0.9, 1, 0.9],\n",
    "#     \"R_adusted_weight\": [1.1, 1, 0.9, 1, 1, 1, 0.9]\n",
    "# })\n",
    "# 只提高购买量周期因子 141.6164\n",
    "# adjusted_weight = pd.DataFrame({\n",
    "#     \"P_adusted_weight\": [1.1, 1, 1, 1, 0.9, 1, 0.9],\n",
    "#     \"R_adusted_weight\": [1., 1, 0.9, 1, 1, 1, 0.9]\n",
    "# })\n",
    "# adusted_predict(tmp_df, adjusted_weight)"
   ]
  },
  {
   "cell_type": "code",
   "execution_count": 54,
   "metadata": {
    "ExecuteTime": {
     "end_time": "2021-01-31T14:37:06.466238Z",
     "start_time": "2021-01-31T14:37:06.462277Z"
    }
   },
   "outputs": [],
   "source": [
    "# # 143.4733 假如购买量一起降低0.98，则得分下降142.5903 \n",
    "# adjusted_weight = pd.DataFrame({\n",
    "#     \"P_adusted_weight\": [1, 1, 1, 1, 0.9, 1, 0.9],\n",
    "#     \"R_adusted_weight\": [0.98, 1, 0.9, 1, 1, 1, 0.9]\n",
    "# })\n",
    "# adusted_predict(tmp_df, adjusted_weight)"
   ]
  },
  {
   "cell_type": "code",
   "execution_count": 55,
   "metadata": {
    "ExecuteTime": {
     "end_time": "2021-01-31T14:37:06.472775Z",
     "start_time": "2021-01-31T14:37:06.469192Z"
    }
   },
   "outputs": [],
   "source": [
    "# # 143.6449 周二是挨着假期之后的第一个工作日，增加购买量周期因子的权重\n",
    "# adjusted_weight = pd.DataFrame({\n",
    "#     \"P_adusted_weight\": [1, 1.02, 1, 1, 0.9, 1, 0.9],\n",
    "#     \"R_adusted_weight\": [0.98, 1, 0.9, 1, 1, 1, 0.9]\n",
    "# })\n",
    "# adusted_predict(tmp_df, adjusted_weight)"
   ]
  },
  {
   "cell_type": "code",
   "execution_count": 56,
   "metadata": {
    "ExecuteTime": {
     "end_time": "2021-01-31T14:37:06.477673Z",
     "start_time": "2021-01-31T14:37:06.474837Z"
    }
   },
   "outputs": [],
   "source": [
    "# 143.7381 \n",
    "# adjusted_weight = pd.DataFrame({\n",
    "#     \"P_adusted_weight\": [1, 1.04, 1, 1, 0.9, 1, 0.9],\n",
    "#     \"R_adusted_weight\": [0.98, 1, 0.9, 1, 1, 1, 0.9]\n",
    "# })\n",
    "# adusted_predict(tmp_df, adjusted_weight)\n",
    "\n",
    "# 142.5329 增加比例过大了 \n",
    "# adjusted_weight = pd.DataFrame({\n",
    "#     \"P_adusted_weight\": [1, 1.1, 1, 1, 0.9, 1, 0.9],\n",
    "#     \"R_adusted_weight\": [0.98, 1, 0.9, 1, 1, 1, 0.9]\n",
    "# })\n",
    "# adusted_predict(tmp_df, adjusted_weight)\n",
    "\n",
    "# 143.1258\n",
    "# adjusted_weight = pd.DataFrame({\n",
    "#     \"P_adusted_weight\": [1, 1.06, 1, 1, 0.9, 1, 0.9],\n",
    "#     \"R_adusted_weight\": [0.98, 1, 0.9, 1, 1, 1, 0.9]\n",
    "# })\n",
    "# adusted_predict(tmp_df, adjusted_weight)\n",
    "\n",
    "# 143.1448 \n",
    "# adjusted_weight = pd.DataFrame({\n",
    "#     \"P_adusted_weight\": [1, 1.04, 1, 1, 0.92, 1, 0.9],\n",
    "#     \"R_adusted_weight\": [0.98, 1.01, 0.9, 1, 1, 1, 0.9]\n",
    "# })\n",
    "# adusted_predict(tmp_df, adjusted_weight)"
   ]
  },
  {
   "cell_type": "code",
   "execution_count": 57,
   "metadata": {
    "ExecuteTime": {
     "end_time": "2021-01-31T14:37:06.482891Z",
     "start_time": "2021-01-31T14:37:06.480252Z"
    }
   },
   "outputs": [],
   "source": [
    "# # 145.6815\n",
    "# adjusted_weight = pd.DataFrame({\n",
    "#     \"P_adusted_weight\": [1, 1.04, 1, 1.04, 0.92, 1, 0.9],\n",
    "#     \"R_adusted_weight\": [0.98, 1, 0.9, 1, 1, 1, 0.9]\n",
    "# })\n",
    "# adusted_predict(tmp_df, adjusted_weight)"
   ]
  },
  {
   "cell_type": "code",
   "execution_count": 58,
   "metadata": {
    "ExecuteTime": {
     "end_time": "2021-01-31T14:37:06.490010Z",
     "start_time": "2021-01-31T14:37:06.486263Z"
    },
    "scrolled": true
   },
   "outputs": [],
   "source": [
    "# # 145.3355 周四购买量的权重大了\n",
    "# adjusted_weight = pd.DataFrame({\n",
    "#     \"P_adusted_weight\": [1, 1.04, 1, 1.06, 0.92, 1, 0.9],\n",
    "#     \"R_adusted_weight\": [0.98, 1, 0.9, 1, 1, 1, 0.9]\n",
    "# })\n",
    "# adusted_predict(tmp_df, adjusted_weight)"
   ]
  },
  {
   "cell_type": "code",
   "execution_count": 59,
   "metadata": {
    "ExecuteTime": {
     "end_time": "2021-01-31T14:37:06.498277Z",
     "start_time": "2021-01-31T14:37:06.494956Z"
    }
   },
   "outputs": [],
   "source": [
    "# # 145.1276 周四赎回量权重降低后分数降低了\n",
    "# adjusted_weight = pd.DataFrame({\n",
    "#     \"P_adusted_weight\": [1, 1.04, 1, 1.04, 0.92, 1, 0.9],\n",
    "#     \"R_adusted_weight\": [0.98, 1, 0.9, 0.98, 1, 1, 0.9]\n",
    "# })\n",
    "# adusted_predict(tmp_df, adjusted_weight)"
   ]
  },
  {
   "cell_type": "code",
   "execution_count": 60,
   "metadata": {
    "ExecuteTime": {
     "end_time": "2021-01-31T14:37:06.503557Z",
     "start_time": "2021-01-31T14:37:06.501434Z"
    }
   },
   "outputs": [],
   "source": [
    "# # 145.9491 周四赎回量权重也增加\n",
    "# adjusted_weight = pd.DataFrame({\n",
    "#     \"P_adusted_weight\": [1, 1.04, 1, 1.04, 0.92, 1, 0.9],\n",
    "#     \"R_adusted_weight\": [0.98, 1, 0.9, 1.01, 1, 1, 0.9]\n",
    "# })\n",
    "# adusted_predict(tmp_df, adjusted_weight)"
   ]
  },
  {
   "cell_type": "code",
   "execution_count": 61,
   "metadata": {
    "ExecuteTime": {
     "end_time": "2021-01-31T14:37:06.508594Z",
     "start_time": "2021-01-31T14:37:06.506130Z"
    }
   },
   "outputs": [],
   "source": [
    "# # 144.9352\n",
    "# adjusted_weight = pd.DataFrame({\n",
    "#     \"P_adusted_weight\": [1, 1.04, 1, 1.02, 0.92, 1, 0.9],\n",
    "#     \"R_adusted_weight\": [0.98, 1, 0.9, 1, 1, 1, 0.9]\n",
    "# })\n",
    "# adusted_predict(tmp_df, adjusted_weight)"
   ]
  },
  {
   "cell_type": "code",
   "execution_count": 62,
   "metadata": {
    "ExecuteTime": {
     "end_time": "2021-01-31T14:37:06.513722Z",
     "start_time": "2021-01-31T14:37:06.511110Z"
    }
   },
   "outputs": [],
   "source": [
    "# # 146.5936 周四购买和赎回量权重增加\n",
    "# adjusted_weight = pd.DataFrame({\n",
    "#     \"P_adusted_weight\": [1, 1.04, 1, 1.04, 0.92, 1, 0.9],\n",
    "#     \"R_adusted_weight\": [0.98, 1, 0.9, 1.04, 1, 1, 0.9]\n",
    "# })\n",
    "# adusted_predict(tmp_df, adjusted_weight)"
   ]
  },
  {
   "cell_type": "code",
   "execution_count": 63,
   "metadata": {
    "ExecuteTime": {
     "end_time": "2021-01-31T14:37:06.520171Z",
     "start_time": "2021-01-31T14:37:06.516794Z"
    }
   },
   "outputs": [],
   "source": [
    "# # 146.6578 \n",
    "# adjusted_weight = pd.DataFrame({\n",
    "#     \"P_adusted_weight\": [1, 1.04, 1, 1.04, 0.92, 1.01, 0.9],\n",
    "#     \"R_adusted_weight\": [0.98, 1, 0.9, 1.04, 1, 1, 0.9]\n",
    "# })\n",
    "\n",
    "# adusted_predict(tmp_df, adjusted_weight)"
   ]
  },
  {
   "cell_type": "code",
   "execution_count": 64,
   "metadata": {
    "ExecuteTime": {
     "end_time": "2021-01-31T14:37:06.524982Z",
     "start_time": "2021-01-31T14:37:06.522411Z"
    }
   },
   "outputs": [],
   "source": [
    "# # 144.2175\n",
    "# adjusted_weight = pd.DataFrame({\n",
    "#     \"P_adusted_weight\": [1, 1.04, 1, 1, 0.92, 1, 0.9],\n",
    "#     \"R_adusted_weight\": [0.98, 1, 0.9, 1, 1, 1, 0.9]\n",
    "# })\n",
    "# adusted_predict(tmp_df, adjusted_weight)"
   ]
  },
  {
   "cell_type": "code",
   "execution_count": 65,
   "metadata": {
    "ExecuteTime": {
     "end_time": "2021-01-31T14:37:06.530601Z",
     "start_time": "2021-01-31T14:37:06.528076Z"
    }
   },
   "outputs": [],
   "source": [
    "# # 146.7478\n",
    "# adjusted_weight = pd.DataFrame({\n",
    "#     \"P_adusted_weight\": [1, 1.04, 1, 1.04, 0.92, 1.02, 0.9],\n",
    "#     \"R_adusted_weight\": [0.98, 1, 0.9, 1.04, 1, 1, 0.9]\n",
    "# })\n",
    "\n",
    "# adusted_predict(tmp_df, adjusted_weight)"
   ]
  },
  {
   "cell_type": "code",
   "execution_count": 66,
   "metadata": {
    "ExecuteTime": {
     "end_time": "2021-01-31T14:37:06.536001Z",
     "start_time": "2021-01-31T14:37:06.533413Z"
    }
   },
   "outputs": [],
   "source": [
    "# # 144.5667\n",
    "# adjusted_weight = pd.DataFrame({\n",
    "#     \"P_adusted_weight\": [1, 1.04, 1, 1.01, 0.92, 1, 0.9],\n",
    "#     \"R_adusted_weight\": [0.98, 1, 0.9, 1, 1, 1, 0.9]\n",
    "# })\n",
    "# adusted_predict(tmp_df, adjusted_weight)"
   ]
  }
 ],
 "metadata": {
  "kernelspec": {
   "display_name": "Python [conda env:envpy37]",
   "language": "python",
   "name": "conda-env-envpy37-py"
  },
  "language_info": {
   "codemirror_mode": {
    "name": "ipython",
    "version": 3
   },
   "file_extension": ".py",
   "mimetype": "text/x-python",
   "name": "python",
   "nbconvert_exporter": "python",
   "pygments_lexer": "ipython3",
   "version": "3.7.7"
  },
  "toc": {
   "base_numbering": 1,
   "nav_menu": {},
   "number_sections": true,
   "sideBar": true,
   "skip_h1_title": false,
   "title_cell": "Table of Contents",
   "title_sidebar": "Contents",
   "toc_cell": false,
   "toc_position": {
    "height": "calc(100% - 180px)",
    "left": "10px",
    "top": "150px",
    "width": "281px"
   },
   "toc_section_display": true,
   "toc_window_display": true
  },
  "varInspector": {
   "cols": {
    "lenName": 16,
    "lenType": 16,
    "lenVar": 40
   },
   "kernels_config": {
    "python": {
     "delete_cmd_postfix": "",
     "delete_cmd_prefix": "del ",
     "library": "var_list.py",
     "varRefreshCmd": "print(var_dic_list())"
    },
    "r": {
     "delete_cmd_postfix": ") ",
     "delete_cmd_prefix": "rm(",
     "library": "var_list.r",
     "varRefreshCmd": "cat(var_dic_list()) "
    }
   },
   "types_to_exclude": [
    "module",
    "function",
    "builtin_function_or_method",
    "instance",
    "_Feature"
   ],
   "window_display": false
  }
 },
 "nbformat": 4,
 "nbformat_minor": 4
}
