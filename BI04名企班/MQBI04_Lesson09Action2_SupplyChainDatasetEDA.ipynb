{
 "cells": [
  {
   "cell_type": "markdown",
   "metadata": {
    "toc": true
   },
   "source": [
    "<h1>Table of Contents<span class=\"tocSkip\"></span></h1>\n",
    "<div class=\"toc\"><ul class=\"toc-item\"><li><span><a href=\"#1-加载数据集\" data-toc-modified-id=\"1-加载数据集-1\"><span class=\"toc-item-num\">1&nbsp;&nbsp;</span>1 加载数据集</a></span><ul class=\"toc-item\"><li><span><a href=\"#1.1-认识数据集\" data-toc-modified-id=\"1.1-认识数据集-1.1\"><span class=\"toc-item-num\">1.1&nbsp;&nbsp;</span>1.1 认识数据集</a></span><ul class=\"toc-item\"><li><span><a href=\"#1.1.1-缺失值\" data-toc-modified-id=\"1.1.1-缺失值-1.1.1\"><span class=\"toc-item-num\">1.1.1&nbsp;&nbsp;</span>1.1.1 缺失值</a></span><ul class=\"toc-item\"><li><span><a href=\"#1.1.1.1-缺失值在各列中的占比\" data-toc-modified-id=\"1.1.1.1-缺失值在各列中的占比-1.1.1.1\"><span class=\"toc-item-num\">1.1.1.1&nbsp;&nbsp;</span>1.1.1.1 缺失值在各列中的占比</a></span></li><li><span><a href=\"#1.1.1.2-合并名称列\" data-toc-modified-id=\"1.1.1.2-合并名称列-1.1.1.2\"><span class=\"toc-item-num\">1.1.1.2&nbsp;&nbsp;</span>1.1.1.2 合并名称列</a></span></li></ul></li><li><span><a href=\"#1.1.2-describe-Object类的列\" data-toc-modified-id=\"1.1.2-describe-Object类的列-1.1.2\"><span class=\"toc-item-num\">1.1.2&nbsp;&nbsp;</span>1.1.2 describe Object类的列</a></span></li><li><span><a href=\"#1.1.3-数值类型特征统计信息\" data-toc-modified-id=\"1.1.3-数值类型特征统计信息-1.1.3\"><span class=\"toc-item-num\">1.1.3&nbsp;&nbsp;</span>1.1.3 数值类型特征统计信息</a></span></li></ul></li></ul></li><li><span><a href=\"#2-object类特征可视化\" data-toc-modified-id=\"2-object类特征可视化-2\"><span class=\"toc-item-num\">2&nbsp;&nbsp;</span>2 object类特征可视化</a></span><ul class=\"toc-item\"><li><span><a href=\"#2.1-发货日期和下单日期转为datetime\" data-toc-modified-id=\"2.1-发货日期和下单日期转为datetime-2.1\"><span class=\"toc-item-num\">2.1&nbsp;&nbsp;</span>2.1 发货日期和下单日期转为datetime</a></span></li><li><span><a href=\"#2.2-交易支付方式-Type-可视化\" data-toc-modified-id=\"2.2-交易支付方式-Type-可视化-2.2\"><span class=\"toc-item-num\">2.2&nbsp;&nbsp;</span>2.2 交易支付方式 Type 可视化</a></span></li><li><span><a href=\"#2.3-Delivery-Status交货状态数值化\" data-toc-modified-id=\"2.3-Delivery-Status交货状态数值化-2.3\"><span class=\"toc-item-num\">2.3&nbsp;&nbsp;</span>2.3 Delivery Status交货状态数值化</a></span></li><li><span><a href=\"#2.4-Shipping-Mode发货方式数值化\" data-toc-modified-id=\"2.4-Shipping-Mode发货方式数值化-2.4\"><span class=\"toc-item-num\">2.4&nbsp;&nbsp;</span>2.4 Shipping Mode发货方式数值化</a></span></li><li><span><a href=\"#2.5-Order-Status订单状态\" data-toc-modified-id=\"2.5-Order-Status订单状态-2.5\"><span class=\"toc-item-num\">2.5&nbsp;&nbsp;</span>2.5 Order Status订单状态</a></span><ul class=\"toc-item\"><li><span><a href=\"#2.5.1-各订单状态订单数统计\" data-toc-modified-id=\"2.5.1-各订单状态订单数统计-2.5.1\"><span class=\"toc-item-num\">2.5.1&nbsp;&nbsp;</span>2.5.1 各订单状态订单数统计</a></span></li><li><span><a href=\"#2.5.2-在不同交货状态中各订单状态的样本数统计\" data-toc-modified-id=\"2.5.2-在不同交货状态中各订单状态的样本数统计-2.5.2\"><span class=\"toc-item-num\">2.5.2&nbsp;&nbsp;</span>2.5.2 在不同交货状态中各订单状态的样本数统计</a></span></li><li><span><a href=\"#2.5.3--15年-18年1月每年中处于各订单状态的订单数统计\" data-toc-modified-id=\"2.5.3--15年-18年1月每年中处于各订单状态的订单数统计-2.5.3\"><span class=\"toc-item-num\">2.5.3&nbsp;&nbsp;</span>2.5.3  15年-18年1月每年中处于各订单状态的订单数统计</a></span></li><li><span><a href=\"#2.5.4-统计欺诈订单最多的Top10个客户\" data-toc-modified-id=\"2.5.4-统计欺诈订单最多的Top10个客户-2.5.4\"><span class=\"toc-item-num\">2.5.4&nbsp;&nbsp;</span>2.5.4 统计欺诈订单最多的Top10个客户</a></span></li></ul></li></ul></li><li><span><a href=\"#3-预计发货天数和实际发货天数可视化\" data-toc-modified-id=\"3-预计发货天数和实际发货天数可视化-3\"><span class=\"toc-item-num\">3&nbsp;&nbsp;</span>3 预计发货天数和实际发货天数可视化</a></span></li><li><span><a href=\"#4-对于销售额进行探索\" data-toc-modified-id=\"4-对于销售额进行探索-4\"><span class=\"toc-item-num\">4&nbsp;&nbsp;</span>4 对于销售额进行探索</a></span><ul class=\"toc-item\"><li><span><a href=\"#4.1-各Market销售额占比\" data-toc-modified-id=\"4.1-各Market销售额占比-4.1\"><span class=\"toc-item-num\">4.1&nbsp;&nbsp;</span>4.1 各Market销售额占比</a></span></li><li><span><a href=\"#4.2-2015~2018年1月不同地区的订单在地图上的分布\" data-toc-modified-id=\"4.2-2015~2018年1月不同地区的订单在地图上的分布-4.2\"><span class=\"toc-item-num\">4.2&nbsp;&nbsp;</span>4.2 2015~2018年1月不同地区的订单在地图上的分布</a></span></li><li><span><a href=\"#4.3-2015.1-2018.1各地区来自不同客户类型的销售额的分布\" data-toc-modified-id=\"4.3-2015.1-2018.1各地区来自不同客户类型的销售额的分布-4.3\"><span class=\"toc-item-num\">4.3&nbsp;&nbsp;</span>4.3 2015.1-2018.1各地区来自不同客户类型的销售额的分布</a></span></li><li><span><a href=\"#4.4-不同地区(Order-Region)15年到18年已完成订单的销售额占比统计\" data-toc-modified-id=\"4.4-不同地区(Order-Region)15年到18年已完成订单的销售额占比统计-4.4\"><span class=\"toc-item-num\">4.4&nbsp;&nbsp;</span>4.4 不同地区(Order Region)15年到18年已完成订单的销售额占比统计</a></span><ul class=\"toc-item\"><li><span><a href=\"#4.4.1-2015年不同地区(Order-Region)销售额占比\" data-toc-modified-id=\"4.4.1-2015年不同地区(Order-Region)销售额占比-4.4.1\"><span class=\"toc-item-num\">4.4.1&nbsp;&nbsp;</span>4.4.1 2015年不同地区(Order Region)销售额占比</a></span></li><li><span><a href=\"#4.4.2--2016年不同地区(Order-Region)销售额占比\" data-toc-modified-id=\"4.4.2--2016年不同地区(Order-Region)销售额占比-4.4.2\"><span class=\"toc-item-num\">4.4.2&nbsp;&nbsp;</span>4.4.2  2016年不同地区(Order Region)销售额占比</a></span></li><li><span><a href=\"#4.4.3-2017年不同地区(Order-Region)销售额占比\" data-toc-modified-id=\"4.4.3-2017年不同地区(Order-Region)销售额占比-4.4.3\"><span class=\"toc-item-num\">4.4.3&nbsp;&nbsp;</span>4.4.3 2017年不同地区(Order Region)销售额占比</a></span></li><li><span><a href=\"#4.4.4-2018年1月不同地区(Order-Region)销售额占比\" data-toc-modified-id=\"4.4.4-2018年1月不同地区(Order-Region)销售额占比-4.4.4\"><span class=\"toc-item-num\">4.4.4&nbsp;&nbsp;</span>4.4.4 2018年1月不同地区(Order Region)销售额占比</a></span></li><li><span><a href=\"#4.4.5-2015-2018年不同地区已完成订单的销售额占比\" data-toc-modified-id=\"4.4.5-2015-2018年不同地区已完成订单的销售额占比-4.4.5\"><span class=\"toc-item-num\">4.4.5&nbsp;&nbsp;</span>4.4.5 2015-2018年不同地区已完成订单的销售额占比</a></span></li></ul></li><li><span><a href=\"#4.5--不同类目下已完成订单的销售额统计\" data-toc-modified-id=\"4.5--不同类目下已完成订单的销售额统计-4.5\"><span class=\"toc-item-num\">4.5&nbsp;&nbsp;</span>4.5  不同类目下已完成订单的销售额统计</a></span><ul class=\"toc-item\"><li><span><a href=\"#4.5.1-各类目交易完成订单的销售总额直方图\" data-toc-modified-id=\"4.5.1-各类目交易完成订单的销售总额直方图-4.5.1\"><span class=\"toc-item-num\">4.5.1&nbsp;&nbsp;</span>4.5.1 各类目交易完成订单的销售总额直方图</a></span></li><li><span><a href=\"#4.5.2-各类目销售额均值直方图\" data-toc-modified-id=\"4.5.2-各类目销售额均值直方图-4.5.2\"><span class=\"toc-item-num\">4.5.2&nbsp;&nbsp;</span>4.5.2 各类目销售额均值直方图</a></span></li><li><span><a href=\"#4.5.3-各类目交易完成订单的销售总额占比\" data-toc-modified-id=\"4.5.3-各类目交易完成订单的销售总额占比-4.5.3\"><span class=\"toc-item-num\">4.5.3&nbsp;&nbsp;</span>4.5.3 各类目交易完成订单的销售总额占比</a></span></li><li><span><a href=\"#4.5.4-2015-2018年1月各年不同商品类目和不同地区的销售额面积图\" data-toc-modified-id=\"4.5.4-2015-2018年1月各年不同商品类目和不同地区的销售额面积图-4.5.4\"><span class=\"toc-item-num\">4.5.4&nbsp;&nbsp;</span>4.5.4 2015-2018年1月各年不同商品类目和不同地区的销售额面积图</a></span></li></ul></li><li><span><a href=\"#4.6-按不同时间维度看销售额变化情况\" data-toc-modified-id=\"4.6-按不同时间维度看销售额变化情况-4.6\"><span class=\"toc-item-num\">4.6&nbsp;&nbsp;</span>4.6 按不同时间维度看销售额变化情况</a></span></li></ul></li><li><span><a href=\"#5-Product-Price与Sales-per-customer-相关性探索\" data-toc-modified-id=\"5-Product-Price与Sales-per-customer-相关性探索-5\"><span class=\"toc-item-num\">5&nbsp;&nbsp;</span>5 Product Price与Sales per customer 相关性探索</a></span></li><li><span><a href=\"#6-皮尔逊系数判断相关性\" data-toc-modified-id=\"6-皮尔逊系数判断相关性-6\"><span class=\"toc-item-num\">6&nbsp;&nbsp;</span>6 皮尔逊系数判断相关性</a></span></li><li><span><a href=\"#7-总结\" data-toc-modified-id=\"7-总结-7\"><span class=\"toc-item-num\">7&nbsp;&nbsp;</span>7 总结</a></span></li></ul></div>"
   ]
  },
  {
   "cell_type": "markdown",
   "metadata": {},
   "source": [
    "智能供应链分析EDA"
   ]
  },
  {
   "cell_type": "markdown",
   "metadata": {},
   "source": [
    "数据集：SupplyChainDataset.csv，供应链采购数据       \n",
    "To Do：   \n",
    "供应链数据探索"
   ]
  },
  {
   "cell_type": "code",
   "execution_count": null,
   "metadata": {},
   "outputs": [],
   "source": [
    "import numpy as np\n",
    "import pandas as pd\n",
    "import seaborn as sns\n",
    "import plotly.express as px # plotly的高级API\n",
    "from matplotlib import pyplot as plt\n",
    "from sklearn.preprocessing import LabelEncoder"
   ]
  },
  {
   "cell_type": "code",
   "execution_count": null,
   "metadata": {},
   "outputs": [],
   "source": [
    "pd.options.display.max_columns = None"
   ]
  },
  {
   "cell_type": "code",
   "execution_count": null,
   "metadata": {},
   "outputs": [],
   "source": [
    "sns.set_style('darkgrid')\n",
    "sns.set_context(\"notebook\", font_scale=1.)"
   ]
  },
  {
   "cell_type": "markdown",
   "metadata": {},
   "source": [
    "# 1 加载数据集"
   ]
  },
  {
   "cell_type": "code",
   "execution_count": null,
   "metadata": {},
   "outputs": [],
   "source": [
    "# 存储要drop的列名称\n",
    "need_drop_cols = []"
   ]
  },
  {
   "cell_type": "code",
   "execution_count": null,
   "metadata": {},
   "outputs": [],
   "source": [
    "fpath = \"SupplyChain.csv\"\n",
    "df = pd.read_csv(fpath, encoding='unicode_escape')"
   ]
  },
  {
   "cell_type": "code",
   "execution_count": null,
   "metadata": {},
   "outputs": [],
   "source": [
    "df.head(2)"
   ]
  },
  {
   "cell_type": "markdown",
   "metadata": {},
   "source": [
    "## 1.1 认识数据集"
   ]
  },
  {
   "cell_type": "code",
   "execution_count": null,
   "metadata": {},
   "outputs": [],
   "source": [
    "df.shape"
   ]
  },
  {
   "cell_type": "markdown",
   "metadata": {},
   "source": [
    "### 1.1.1 缺失值"
   ]
  },
  {
   "cell_type": "markdown",
   "metadata": {},
   "source": [
    "#### 1.1.1.1 缺失值在各列中的占比"
   ]
  },
  {
   "cell_type": "code",
   "execution_count": null,
   "metadata": {},
   "outputs": [],
   "source": [
    "# 缺失值占比\n",
    "df.isnull().sum().sort_values(ascending=False)[:5] / df.shape[0]"
   ]
  },
  {
   "cell_type": "code",
   "execution_count": null,
   "metadata": {},
   "outputs": [],
   "source": [
    "need_drop_cols.append('Product Description')"
   ]
  },
  {
   "cell_type": "code",
   "execution_count": null,
   "metadata": {},
   "outputs": [],
   "source": [
    "need_drop_cols.append('Order Zipcode')"
   ]
  },
  {
   "cell_type": "markdown",
   "metadata": {},
   "source": [
    "Product Description商品描述列全部为空，Order Zipcode邮编86%以上的样本都是缺失值，故都drop。"
   ]
  },
  {
   "cell_type": "code",
   "execution_count": null,
   "metadata": {},
   "outputs": [],
   "source": [
    "# 客户last name\n",
    "df['Customer Lname'].value_counts()"
   ]
  },
  {
   "cell_type": "code",
   "execution_count": null,
   "metadata": {},
   "outputs": [],
   "source": [
    "df['Customer Lname'] = df['Customer Lname'].fillna('') # 空字符串填充缺失值，和first name拼接"
   ]
  },
  {
   "cell_type": "code",
   "execution_count": null,
   "metadata": {},
   "outputs": [],
   "source": [
    "df['Customer Lname'].isnull().sum()"
   ]
  },
  {
   "cell_type": "code",
   "execution_count": null,
   "metadata": {},
   "outputs": [],
   "source": [
    "# 客户所在邮编\n",
    "df['Customer Zipcode'].value_counts()"
   ]
  },
  {
   "cell_type": "markdown",
   "metadata": {},
   "source": [
    "Customer Lname 客户last name和客户所在邮编的样本相对集中，缺失值样本非常少，drop缺失行或填充。"
   ]
  },
  {
   "cell_type": "markdown",
   "metadata": {},
   "source": [
    "#### 1.1.1.2 合并名称列"
   ]
  },
  {
   "cell_type": "code",
   "execution_count": null,
   "metadata": {},
   "outputs": [],
   "source": [
    "df['Customer Zipcode'] = df['Customer Zipcode'].fillna(0)"
   ]
  },
  {
   "cell_type": "code",
   "execution_count": null,
   "metadata": {},
   "outputs": [],
   "source": [
    "df['Customer Fullname'] = df['Customer Fname'].str.cat(df['Customer Lname'], sep=' ')"
   ]
  },
  {
   "cell_type": "code",
   "execution_count": null,
   "metadata": {
    "scrolled": true
   },
   "outputs": [],
   "source": [
    "df['Customer Fullname'].value_counts()"
   ]
  },
  {
   "cell_type": "code",
   "execution_count": null,
   "metadata": {},
   "outputs": [],
   "source": [
    "# 只保留全名特征\n",
    "need_drop_cols += ['Customer Fname', 'Customer Lname']"
   ]
  },
  {
   "cell_type": "markdown",
   "metadata": {},
   "source": [
    "### 1.1.2 describe Object类的列"
   ]
  },
  {
   "cell_type": "code",
   "execution_count": null,
   "metadata": {
    "scrolled": true
   },
   "outputs": [],
   "source": [
    "df.select_dtypes(include='object').head(2)"
   ]
  },
  {
   "cell_type": "code",
   "execution_count": null,
   "metadata": {
    "scrolled": false
   },
   "outputs": [],
   "source": [
    "df.describe(include='object')"
   ]
  },
  {
   "cell_type": "code",
   "execution_count": null,
   "metadata": {},
   "outputs": [],
   "source": [
    "df['Customer Country'].value_counts()"
   ]
  },
  {
   "cell_type": "code",
   "execution_count": null,
   "metadata": {},
   "outputs": [],
   "source": [
    "df['Order Country'].value_counts()"
   ]
  },
  {
   "cell_type": "markdown",
   "metadata": {},
   "source": [
    "- Type交易方式有4种，最多的是DEBIT(借款)，有69290个样本；\n",
    "- Shipping Mode 发货方式有4种；\n",
    "- Delivery Status 交货状态也有4种，最多的交货状态是Late delivery，有98972个；\n",
    "- 关于商品的object类字段\n",
    "    - Category Name 商品类别名称(类目)共50种类目，最多是Cleats类目，有24551个样本；     \n",
    "    - Product Name 商品名称，有118种商品；\n",
    "- 关于客户的object类字段\n",
    "    - Customer Fname 客户的名字有775种名字和Customer Lname客户的姓有1109个姓；\n",
    "    - Customer Segment 客户划分有3种，最多的是Consumer消费者；\n",
    "    - Customer City 客户所在国家有2个，最多的是EE. UU.，西班牙语的美国；\n",
    "    - Customer State 客户所在州，有44个州，最多的是PR：波多黎各自治邦（英语：The Commonwealth of Puerto Rico)\n",
    "    - Customer Street 客户所在街道，有7456个街道；     \n",
    "\n",
    "- Department Name 商店的部门名称，共11个，最多的是Fan Shop；\n",
    "- Market 所属市场，有5种市场分类，最多的是51594；\n",
    "\n",
    "- 关于订单的字段\n",
    "    - Order City 订单所在城市 有3597个城市；\n",
    "    - Order Country 订单所在国家，有164个国家；\n",
    "    - Order Region 订单所属地区，有23种；\n",
    "    - Order State 订单所在州，有1089个\n",
    "    - Order Status 订单状态有9种，最多的是COMPLETE；\n",
    "    - order date (DateOrders) 订单下单日期，精确到分钟；\n",
    "    - shipping date (DateOrders) 发货日期，也精确到分钟，可以和下单日期计算日期差，得到下单后多久发货的特征；\n"
   ]
  },
  {
   "cell_type": "markdown",
   "metadata": {},
   "source": [
    "数据集中同一个订单的不同商品都单独为一个样本，因此同一个订单ID会出现多次。"
   ]
  },
  {
   "cell_type": "code",
   "execution_count": null,
   "metadata": {},
   "outputs": [],
   "source": [
    "# drop用户邮箱和用户密码列\n",
    "need_drop_cols += ['Customer Email', 'Customer Password']"
   ]
  },
  {
   "cell_type": "code",
   "execution_count": null,
   "metadata": {},
   "outputs": [],
   "source": [
    "# 商品图像是连接，我们也不需要\n",
    "need_drop_cols.append('Product Image')"
   ]
  },
  {
   "cell_type": "code",
   "execution_count": null,
   "metadata": {
    "scrolled": false
   },
   "outputs": [],
   "source": [
    "df['Order Id'].nunique()"
   ]
  },
  {
   "cell_type": "code",
   "execution_count": null,
   "metadata": {
    "scrolled": false
   },
   "outputs": [],
   "source": [
    "df[df['Order Id'] == 67583]"
   ]
  },
  {
   "cell_type": "markdown",
   "metadata": {},
   "source": [
    "可以看出一笔订单，因为一笔订单中有多个商品，所以一笔订单有多条记录。"
   ]
  },
  {
   "cell_type": "markdown",
   "metadata": {},
   "source": [
    "### 1.1.3 数值类型特征统计信息"
   ]
  },
  {
   "cell_type": "code",
   "execution_count": null,
   "metadata": {
    "scrolled": false
   },
   "outputs": [],
   "source": [
    "df.describe()"
   ]
  },
  {
   "cell_type": "code",
   "execution_count": null,
   "metadata": {},
   "outputs": [],
   "source": [
    "df['Product Card Id'].value_counts()[:3]"
   ]
  },
  {
   "cell_type": "code",
   "execution_count": null,
   "metadata": {},
   "outputs": [],
   "source": [
    "df['Product Name'].value_counts()[:3]"
   ]
  },
  {
   "cell_type": "code",
   "execution_count": null,
   "metadata": {
    "scrolled": true
   },
   "outputs": [],
   "source": [
    "df['Product Category Id'].nunique()"
   ]
  },
  {
   "cell_type": "code",
   "execution_count": null,
   "metadata": {},
   "outputs": [],
   "source": [
    "df['Category Id'].value_counts().shape"
   ]
  },
  {
   "cell_type": "code",
   "execution_count": null,
   "metadata": {},
   "outputs": [],
   "source": [
    "(df['Benefit per order'] == df['Order Profit Per Order']).sum()"
   ]
  },
  {
   "cell_type": "code",
   "execution_count": null,
   "metadata": {},
   "outputs": [],
   "source": [
    "df['Order Item Id'].is_unique"
   ]
  },
  {
   "cell_type": "markdown",
   "metadata": {},
   "source": [
    "- **Product Status 产品状态都是0，要drop；**\n",
    "\n",
    "- Late_delivery_risk 分类变量，说明发货是否延迟，1是，0否\n",
    "- Days for shipment (scheduled) 预计发货天数\n",
    "- Days for shipping (real) 实际发货天数\n",
    "\n",
    "- **Department Id 部门ID 和 Department Name 商店的部门名称对应；drop名称**\n",
    "- **Order Item Cardprod Id 通过RFD生成的商品ID 和Product Card Id 商品ID相同，和 商品名称'Product Name'是一一对应的，drop2个;**\n",
    "- **Product Category Id 类目ID、Category Id 商品类别ID 和 Category Name 类目名称对应。drop2个**   \n",
    "\n",
    "\n",
    "- **Order Customer Id\t订单客户ID  和 Customer  Id 客户ID 相同，drop1个；**\n",
    "- Customer Zipcode 客户所在邮编\n",
    "\n",
    "- Longitude 纬度\n",
    "- Latitude\t经度\n",
    "\n",
    "- Order Id 订单ID \n",
    "- **Order Item Id 订单商品ID 每一行样本ID都不同，可以drop**\n",
    "- Order Profit Per Order 订单利润，在`[-4274.979980, 911.799988]`区间内，利润有负数，说明并不是每笔订单都能获利。\n",
    "- **Benefit per order 每笔订单利润 和 Order Profit Per Order 订单利润两个字段的值完全相同，只保留一列。**\n",
    "- Order Item Total 订单总金额\n",
    "- **Order Item Product Price 订单商品价格和Product Price商品价格均值、标准差、最大最小等均完全相同，只保留一列**\n",
    "- Order Item Quantity 订单商品的总数量\n",
    "- Order Item Discount 订单商品折扣\n",
    "- Order Item Profit Ratio 订单商品利润率\n",
    "- Order Item Discount Rate 订单商品折扣率\n",
    "\n",
    "- Sales per customer 每个顾客的总销售额；\n",
    "- Sales 销售额 和订单总金额区间范围接近，需要后期分析它两是否完全正相关；\n"
   ]
  },
  {
   "cell_type": "code",
   "execution_count": null,
   "metadata": {},
   "outputs": [],
   "source": [
    "need_drop_cols += [\n",
    "    'Product Status',\n",
    "    'Customer Id',\n",
    "    'Order Item Cardprod Id',\n",
    "    'Product Category Id',\n",
    "    'Category Name',\n",
    "    'Product Name',\n",
    "    'Order Profit Per Order',  \n",
    "    'Department Name',\n",
    "    'Order Item Id',\n",
    "    'Order Item Product Price'\n",
    "]"
   ]
  },
  {
   "cell_type": "markdown",
   "metadata": {},
   "source": [
    "# 2 object类特征可视化"
   ]
  },
  {
   "cell_type": "markdown",
   "metadata": {},
   "source": [
    "## 2.1 发货日期和下单日期转为datetime"
   ]
  },
  {
   "cell_type": "code",
   "execution_count": null,
   "metadata": {},
   "outputs": [],
   "source": [
    "# 发货日期\n",
    "df['shipping date (DateOrders)'] = pd.to_datetime(\n",
    "    df['shipping date (DateOrders)'], format='%m/%d/%Y %H:%M')"
   ]
  },
  {
   "cell_type": "code",
   "execution_count": null,
   "metadata": {},
   "outputs": [],
   "source": [
    "# 下单日期\n",
    "df['order date (DateOrders)'] = pd.to_datetime(df['order date (DateOrders)'],\n",
    "                                               format='%m/%d/%Y %H:%M')"
   ]
  },
  {
   "cell_type": "code",
   "execution_count": null,
   "metadata": {},
   "outputs": [],
   "source": [
    "df['shipping date (DateOrders)'].min(), df['shipping date (DateOrders)'].max()"
   ]
  },
  {
   "cell_type": "code",
   "execution_count": null,
   "metadata": {},
   "outputs": [],
   "source": [
    "df['order date (DateOrders)'].min(), df['order date (DateOrders)'].max()"
   ]
  },
  {
   "cell_type": "markdown",
   "metadata": {},
   "source": [
    "数据集数据下单的时间范围为2015年1月1日到2018年1月31日之间3年零一个月。"
   ]
  },
  {
   "cell_type": "code",
   "execution_count": null,
   "metadata": {},
   "outputs": [],
   "source": [
    "df['shipping date (DateOrders)'].apply(lambda x:x.year).value_counts()"
   ]
  },
  {
   "cell_type": "code",
   "execution_count": null,
   "metadata": {},
   "outputs": [],
   "source": [
    "df['order date (DateOrders)'].apply(lambda x:x.year).value_counts()"
   ]
  },
  {
   "cell_type": "markdown",
   "metadata": {},
   "source": [
    "下单年份和发货年份样本数并不相同，应该有跨年订单"
   ]
  },
  {
   "cell_type": "code",
   "execution_count": null,
   "metadata": {},
   "outputs": [],
   "source": [
    "df['Shipping yearOfDate'] = df['shipping date (DateOrders)'].apply(lambda x:x.year)\n",
    "df['Shipping monthOfDate'] = df['shipping date (DateOrders)'].apply(lambda x:x.month)\n",
    "df['Shipping dayOfDate'] = df['shipping date (DateOrders)'].apply(lambda x:x.day)"
   ]
  },
  {
   "cell_type": "code",
   "execution_count": null,
   "metadata": {},
   "outputs": [],
   "source": [
    "df['Order yearOfDate'] = df['order date (DateOrders)'].apply(lambda x:x.year)\n",
    "df['Order monthOfDate'] = df['order date (DateOrders)'].apply(lambda x:x.month)\n",
    "df['Order dayOfDate'] = df['order date (DateOrders)'].apply(lambda x:x.day)"
   ]
  },
  {
   "cell_type": "code",
   "execution_count": null,
   "metadata": {},
   "outputs": [],
   "source": [
    "time_index = pd.DatetimeIndex(df['order date (DateOrders)'])\n",
    "df['Order weekOfDate'] = time_index.weekday\n",
    "df['Order yearMonth'] = time_index.to_period(freq='M')"
   ]
  },
  {
   "cell_type": "code",
   "execution_count": null,
   "metadata": {},
   "outputs": [],
   "source": [
    "df['Order hourOfDate'] = time_index.hour"
   ]
  },
  {
   "cell_type": "code",
   "execution_count": null,
   "metadata": {},
   "outputs": [],
   "source": [
    "df.head(1)"
   ]
  },
  {
   "cell_type": "markdown",
   "metadata": {},
   "source": [
    "## 2.2 交易支付方式 Type 可视化"
   ]
  },
  {
   "cell_type": "code",
   "execution_count": null,
   "metadata": {},
   "outputs": [],
   "source": [
    "# 每笔订单ID只保留第一行\n",
    "perOrderId_df = df.drop_duplicates(subset=['Order Id'])"
   ]
  },
  {
   "cell_type": "code",
   "execution_count": null,
   "metadata": {},
   "outputs": [],
   "source": [
    "sns.set_style('darkgrid')\n",
    "perOrderId_df['Type'].value_counts(normalize=True).plot(kind='bar', title='Trade Type')"
   ]
  },
  {
   "cell_type": "markdown",
   "metadata": {},
   "source": [
    "BEBIT 借记卡支付占比最高约38%左右；     \n",
    "TRANSFER  转账占比其次，约27%左右；    \n",
    "PAYMENT  付款占比约23%左右    \n",
    "CASH  现金占比最低，约11%。    "
   ]
  },
  {
   "cell_type": "code",
   "execution_count": null,
   "metadata": {},
   "outputs": [],
   "source": [
    "order = list(perOrderId_df['Order Region'].value_counts().index)"
   ]
  },
  {
   "cell_type": "code",
   "execution_count": null,
   "metadata": {
    "scrolled": false
   },
   "outputs": [],
   "source": [
    "facegrid = sns.catplot(x='Order Region',\n",
    "                       data=perOrderId_df,\n",
    "                       hue='Type',\n",
    "                       kind='count',\n",
    "                       order=order,\n",
    "                       height=8.,\n",
    "                       aspect=3.)\n",
    "facegrid.ax.set_xticklabels(order, rotation=90)\n",
    "facegrid.ax.set_title(label=\"Different Type of payments in all regions\", fontdict={'fontsize':30}, pad=3., )"
   ]
  },
  {
   "cell_type": "markdown",
   "metadata": {},
   "source": [
    "从上面2个图中可以看出，在不同订单所属地区，支付方式的规律与整体一致；人们都是倾向于使用DEBIT借记卡支付方式最多，TRANSFER 转账其次，CASH最少。"
   ]
  },
  {
   "cell_type": "code",
   "execution_count": null,
   "metadata": {},
   "outputs": [],
   "source": [
    "# 存下转换器，分别查看数值对应的label\n",
    "# cols_transfer['Type'], df['Type'] = labelEncoder(df['Type'])"
   ]
  },
  {
   "cell_type": "markdown",
   "metadata": {},
   "source": [
    "## 2.3 Delivery Status交货状态数值化"
   ]
  },
  {
   "cell_type": "code",
   "execution_count": null,
   "metadata": {},
   "outputs": [],
   "source": [
    "# 交货状态\n",
    "perOrderId_df['Delivery Status'].value_counts(normalize=True).plot(\n",
    "    kind='bar', title='Delivery Status', rot=45)"
   ]
  },
  {
   "cell_type": "markdown",
   "metadata": {},
   "source": [
    "late delivery        逾期送达占比最高，超过了50%    \n",
    "advance shipping     提前发货占20%以上     \n",
    "shipping on time     准时发货约占18%左右；     \n",
    "shipping canceled    运送取消约占3%左右。    "
   ]
  },
  {
   "cell_type": "code",
   "execution_count": null,
   "metadata": {},
   "outputs": [],
   "source": [
    "# cols_transfer['Delivery Status'], df['Delivery Status'] = labelEncoder(df['Delivery Status'])"
   ]
  },
  {
   "cell_type": "code",
   "execution_count": null,
   "metadata": {
    "scrolled": true
   },
   "outputs": [],
   "source": [
    "# cols_transfer['Delivery Status'].classes_"
   ]
  },
  {
   "cell_type": "markdown",
   "metadata": {},
   "source": [
    "## 2.4 Shipping Mode发货方式数值化"
   ]
  },
  {
   "cell_type": "code",
   "execution_count": null,
   "metadata": {},
   "outputs": [],
   "source": [
    "perOrderId_df['Shipping Mode'].value_counts(normalize=True).plot(\n",
    "    kind='bar', title='Shipping Mode', rot=45)"
   ]
  },
  {
   "cell_type": "code",
   "execution_count": null,
   "metadata": {},
   "outputs": [],
   "source": [
    "# cols_transfer['Shipping Mode'], df['Shipping Mode'] = labelEncoder(df['Shipping Mode'])"
   ]
  },
  {
   "cell_type": "code",
   "execution_count": null,
   "metadata": {},
   "outputs": [],
   "source": [
    "# cols_transfer['Shipping Mode'].classes_"
   ]
  },
  {
   "cell_type": "markdown",
   "metadata": {},
   "source": [
    "## 2.5 Order Status订单状态"
   ]
  },
  {
   "cell_type": "markdown",
   "metadata": {},
   "source": [
    "### 2.5.1 各订单状态订单数统计"
   ]
  },
  {
   "cell_type": "code",
   "execution_count": null,
   "metadata": {},
   "outputs": [],
   "source": [
    "perOrderId_df['Order Status'].value_counts().plot(kind='bar',\n",
    "                                                  title='Order Status per Order Id',\n",
    "                                                  rot=90)"
   ]
  },
  {
   "cell_type": "markdown",
   "metadata": {},
   "source": [
    "- complete        订单完成\n",
    "- pending payment 等待付款\n",
    "- processing      处理中\n",
    "- pending         等待中\n",
    "- closed          关闭\n",
    "- on hold         搁置\n",
    "- suspected fraud 疑似欺诈行为\n",
    "- canceled        取消了\n",
    "- payment review  付款审核"
   ]
  },
  {
   "cell_type": "code",
   "execution_count": null,
   "metadata": {},
   "outputs": [],
   "source": [
    "df[df['Order Status'] == 'SUSPECTED_FRAUD'].describe(include='object')"
   ]
  },
  {
   "cell_type": "markdown",
   "metadata": {},
   "source": [
    "可知只有约36%的订单是完成的，所以我们在分析销售额的时候，看完成订单的销售额比较准确。"
   ]
  },
  {
   "cell_type": "markdown",
   "metadata": {},
   "source": [
    "### 2.5.2 在不同交货状态中各订单状态的样本数统计"
   ]
  },
  {
   "cell_type": "code",
   "execution_count": null,
   "metadata": {
    "code_folding": []
   },
   "outputs": [],
   "source": [
    "facetg = sns.catplot(data=df,\n",
    "            x='Order Status',\n",
    "            hue='Delivery Status',\n",
    "            kind='count',\n",
    "            aspect=3.)\n",
    "facetg.ax.set_title(\"Diffrent Order Status in Delivery Status\")\n",
    "facetg.ax.set_xticklabels(df['Order Status'].value_counts().index, rotation=80)"
   ]
  },
  {
   "cell_type": "markdown",
   "metadata": {},
   "source": [
    "疑似欺诈(SUSPECTED_FRAUD)的订单的交货状态均为运送取消，另一部分运送取消的订单状态是CLOSED，结合2.3中的图标二者占总订单的3%。"
   ]
  },
  {
   "cell_type": "markdown",
   "metadata": {},
   "source": [
    "### 2.5.3  15年-18年1月每年中处于各订单状态的订单数统计"
   ]
  },
  {
   "cell_type": "code",
   "execution_count": null,
   "metadata": {},
   "outputs": [],
   "source": [
    "g = sns.catplot(data=df,\n",
    "                x='Order yearOfDate',\n",
    "                hue='Order Status',\n",
    "                kind='count',\n",
    "                aspect=3.)\n",
    "g.ax.set_title(\"Diffrent Order Status in every year\")\n",
    "g.ax.set_xticklabels([2015,  2016, 2017, 2018], rotation=80)"
   ]
  },
  {
   "cell_type": "markdown",
   "metadata": {},
   "source": [
    "- complete        订单完成\n",
    "- pending payment 等待付款\n",
    "- processing      处理中\n",
    "- pending         等待中\n",
    "- closed          关闭\n",
    "- on hold         搁置\n",
    "- suspected fraud 疑似欺诈行为\n",
    "- canceled        取消了\n",
    "- payment review  付款审核"
   ]
  },
  {
   "cell_type": "markdown",
   "metadata": {},
   "source": [
    "可以看到15-18年，各Order Status的订单均存在，但其他未完成订单的，我们认为订单不一定会继续，所以计算销售额时不算在内。"
   ]
  },
  {
   "cell_type": "markdown",
   "metadata": {},
   "source": [
    "### 2.5.4 统计欺诈订单最多的Top10个客户"
   ]
  },
  {
   "cell_type": "code",
   "execution_count": null,
   "metadata": {},
   "outputs": [],
   "source": [
    "doubt_fraud = perOrderId_df[perOrderId_df['Order Status'] == 'SUSPECTED_FRAUD']"
   ]
  },
  {
   "cell_type": "code",
   "execution_count": null,
   "metadata": {},
   "outputs": [],
   "source": [
    "doubt_fraud.shape"
   ]
  },
  {
   "cell_type": "code",
   "execution_count": null,
   "metadata": {},
   "outputs": [],
   "source": [
    "doubt_fraud_costomer = doubt_fraud['Customer Fullname'].value_counts()"
   ]
  },
  {
   "cell_type": "code",
   "execution_count": null,
   "metadata": {},
   "outputs": [],
   "source": [
    "doubt_fraud_costomer.shape  # 有1061个客户有疑似欺诈的订单产生"
   ]
  },
  {
   "cell_type": "code",
   "execution_count": null,
   "metadata": {},
   "outputs": [],
   "source": [
    "ax = doubt_fraud_costomer[:10].plot(kind='bar',\n",
    "                                    figsize=(15, 6),\n",
    "                                    title=\"Top10 Highest Fraud Customers\")"
   ]
  },
  {
   "cell_type": "markdown",
   "metadata": {},
   "source": [
    "着实可疑，一水的Smith，像小号。"
   ]
  },
  {
   "cell_type": "markdown",
   "metadata": {},
   "source": [
    "# 3 预计发货天数和实际发货天数可视化"
   ]
  },
  {
   "cell_type": "code",
   "execution_count": null,
   "metadata": {},
   "outputs": [],
   "source": [
    "df['Order Id']"
   ]
  },
  {
   "cell_type": "code",
   "execution_count": null,
   "metadata": {},
   "outputs": [],
   "source": [
    "fig, axes = plt.subplots(1, 2, figsize=(16, 5))\n",
    "ax = sns.countplot(x='Days for shipping (real)',\n",
    "                   data=perOrderId_df,\n",
    "                   ax=axes[0],\n",
    "                   hue='Late_delivery_risk')\n",
    "ax.set_title(\"'Days for shipping (real)'\")\n",
    "ax = sns.countplot(x='Days for shipment (scheduled)',\n",
    "                   data=perOrderId_df,\n",
    "                   ax=axes[1],\n",
    "                   hue='Late_delivery_risk')\n",
    "ax.set_title(\"Days for shipment (scheduled)\")"
   ]
  },
  {
   "cell_type": "markdown",
   "metadata": {},
   "source": [
    "预计4天发货的样本中准时发货的比较多；真实发货的天数中，1天内发货的几乎都延迟发货了；真实天数2天的准时发货和延迟发货均多；3天、4天大部分样是是准时发货的；真实天数5、6天的几乎都延迟了，所以最好真实发货天数至少应控制在4天内，而预计1、2天发货的非常容易延迟发货。"
   ]
  },
  {
   "cell_type": "markdown",
   "metadata": {},
   "source": [
    "# 4 对于销售额进行探索"
   ]
  },
  {
   "cell_type": "markdown",
   "metadata": {},
   "source": [
    "## 4.1 各Market销售额占比"
   ]
  },
  {
   "cell_type": "code",
   "execution_count": null,
   "metadata": {},
   "outputs": [],
   "source": [
    "# 交易完成的所有订单\n",
    "complete_orders = df[df['Order Status'] == 'COMPLETE']"
   ]
  },
  {
   "cell_type": "code",
   "execution_count": null,
   "metadata": {},
   "outputs": [],
   "source": [
    "complete_orders.shape"
   ]
  },
  {
   "cell_type": "code",
   "execution_count": null,
   "metadata": {},
   "outputs": [],
   "source": [
    "complete_orders.head()"
   ]
  },
  {
   "cell_type": "code",
   "execution_count": null,
   "metadata": {
    "scrolled": true
   },
   "outputs": [],
   "source": [
    "px.pie(complete_orders,\n",
    "       values='Sales per customer',\n",
    "       names='Market',\n",
    "       title=\"Sales of completed orders traded in each market\",\n",
    "       height=400)"
   ]
  },
  {
   "cell_type": "markdown",
   "metadata": {},
   "source": [
    "欧洲市场销售额占比最高，非洲市场的销售额占比最低。"
   ]
  },
  {
   "cell_type": "markdown",
   "metadata": {},
   "source": [
    "## 4.2 2015~2018年1月不同地区的订单在地图上的分布\n",
    "导致文件过大，所以注释掉再提交"
   ]
  },
  {
   "cell_type": "code",
   "execution_count": null,
   "metadata": {
    "scrolled": true
   },
   "outputs": [],
   "source": [
    "# px.scatter_geo(complete_orders,\n",
    "#                lat='Latitude', lon='Longitude',\n",
    "#                color=\"Order Region\",\n",
    "#                size=\"Sales per customer\",\n",
    "#                hover_name=\"Market\",\n",
    "#                animation_frame=\"Order yearOfDate\",\n",
    "#                category_orders={'Order yearOfDate':[2015, 2016, 2017, 2018]},\n",
    "#                title=\"2015~2018年各订单在地图上的分布\",\n",
    "#                projection=\"natural earth\")"
   ]
  },
  {
   "cell_type": "markdown",
   "metadata": {},
   "source": [
    "## 4.3 2015.1-2018.1各地区来自不同客户类型的销售额的分布"
   ]
  },
  {
   "cell_type": "markdown",
   "metadata": {},
   "source": [
    "只对订单状态为COMPLETE的订单进行统计销售额。"
   ]
  },
  {
   "cell_type": "code",
   "execution_count": null,
   "metadata": {
    "code_folding": []
   },
   "outputs": [],
   "source": [
    "px.strip(\n",
    "    complete_orders,\n",
    "    x='Order Region',\n",
    "    y='Sales per customer',\n",
    "    color='Customer Segment',\n",
    "    orientation=\"v\",  # 绘制垂直分布散点图\n",
    "    animation_frame=\"Order yearOfDate\",  # 添加按年变化的滑动条\n",
    "    category_orders={'Order yearOfDate': [2015, 2016, 2017, 2018]}, # 指定年由左向右变化的顺序\n",
    "    title=\"2015.1-2018.1各地区来自不同客户类型的销售额的分布散点图\"\n",
    ")"
   ]
  },
  {
   "cell_type": "markdown",
   "metadata": {},
   "source": [
    "各个地区每年的销售额中 ，Home Office类客户销售额的散点分布相对稀疏，可见该类客户带来的销售额较少；而Consumer和Corporate两类客户，散点分布相近，二者带来的销售额差异不大。"
   ]
  },
  {
   "cell_type": "code",
   "execution_count": null,
   "metadata": {},
   "outputs": [],
   "source": [
    "px.histogram(complete_orders,\n",
    "             x='Sales per customer',\n",
    "             y='Order Region',\n",
    "             log_x=True,\n",
    "             marginal='box',\n",
    "             title='Sum of Sales per customer in different Order Region')"
   ]
  },
  {
   "cell_type": "markdown",
   "metadata": {},
   "source": [
    "## 4.4 不同地区(Order Region)15年到18年已完成订单的销售额占比统计"
   ]
  },
  {
   "cell_type": "code",
   "execution_count": null,
   "metadata": {},
   "outputs": [],
   "source": [
    "df['shipping date (DateOrders)'].min(), df['shipping date (DateOrders)'].max()"
   ]
  },
  {
   "cell_type": "markdown",
   "metadata": {},
   "source": [
    "数据集数据下单的时间范围为2015年1月1日到2018年1月31日之间3年零一个月，我们先来看每年不同地区销售额的占比情况"
   ]
  },
  {
   "cell_type": "markdown",
   "metadata": {},
   "source": [
    "只对订单状态为COMPLETE的订单进行统计销售额。"
   ]
  },
  {
   "cell_type": "code",
   "execution_count": null,
   "metadata": {},
   "outputs": [],
   "source": [
    "def plot_pie(complete_orders, year=None):\n",
    "    if year:\n",
    "        fig = px.pie(\n",
    "            complete_orders[complete_orders['Order yearOfDate'] == year],\n",
    "            values='Sales per customer',\n",
    "            names='Order Region',\n",
    "            title=\"%d Sales of completed orders traded in each Order Region\" %\n",
    "            year,\n",
    "            hole=0.5,\n",
    "            height=500)\n",
    "    else:\n",
    "        fig = px.pie(\n",
    "            complete_orders,\n",
    "            values='Sales per customer',\n",
    "            names='Order Region',\n",
    "            title=\n",
    "            \"2015-2018 Sales of completed orders traded in each Order Region\",\n",
    "            hole=0.5,\n",
    "            height=500)\n",
    "    fig.show()"
   ]
  },
  {
   "cell_type": "code",
   "execution_count": null,
   "metadata": {},
   "outputs": [],
   "source": [
    "complete_orders.head(2)"
   ]
  },
  {
   "cell_type": "markdown",
   "metadata": {},
   "source": [
    "### 4.4.1 2015年不同地区(Order Region)销售额占比"
   ]
  },
  {
   "cell_type": "code",
   "execution_count": null,
   "metadata": {},
   "outputs": [],
   "source": [
    "plot_pie(complete_orders, year=2015)"
   ]
  },
  {
   "cell_type": "markdown",
   "metadata": {},
   "source": [
    "### 4.4.2  2016年不同地区(Order Region)销售额占比"
   ]
  },
  {
   "cell_type": "code",
   "execution_count": null,
   "metadata": {
    "scrolled": false
   },
   "outputs": [],
   "source": [
    "plot_pie(complete_orders, year=2016)"
   ]
  },
  {
   "cell_type": "markdown",
   "metadata": {},
   "source": [
    "### 4.4.3 2017年不同地区(Order Region)销售额占比"
   ]
  },
  {
   "cell_type": "code",
   "execution_count": null,
   "metadata": {},
   "outputs": [],
   "source": [
    "plot_pie(complete_orders, year=2017) "
   ]
  },
  {
   "cell_type": "markdown",
   "metadata": {},
   "source": [
    "### 4.4.4 2018年1月不同地区(Order Region)销售额占比"
   ]
  },
  {
   "cell_type": "markdown",
   "metadata": {
    "ExecuteTime": {
     "end_time": "2020-10-31T22:13:18.730124Z",
     "start_time": "2020-10-31T22:13:18.606374Z"
    }
   },
   "source": [
    "18年只有1月1日到1月31日的数据，因此有销售额的地区并不多。"
   ]
  },
  {
   "cell_type": "code",
   "execution_count": null,
   "metadata": {},
   "outputs": [],
   "source": [
    "plot_pie(complete_orders, year=2018)"
   ]
  },
  {
   "cell_type": "markdown",
   "metadata": {},
   "source": [
    "### 4.4.5 2015-2018年不同地区已完成订单的销售额占比"
   ]
  },
  {
   "cell_type": "code",
   "execution_count": null,
   "metadata": {},
   "outputs": [],
   "source": [
    "plot_pie(complete_orders)"
   ]
  },
  {
   "cell_type": "markdown",
   "metadata": {},
   "source": [
    "- **2015年销售额前3：西欧(Western Europe)占比23.4%、中美洲(Central America)占比22.3%, 南美洲(South America)11.8%; 只有10个地区有销售额；**\n",
    "- **2016年有销售额的地区数明显增加，但销售额市场区域出现较大变动。West of USA 占比12.9%、East of USA 11.4%、US Center 9.52%。而15年占据主要市场的西欧、中美洲和南美洲总占比却不足1%。**\n",
    "- **2017年：西欧、中美洲和南美洲重新恢复成为带来销售额的TOP3地区，占比分别为：26.5%、24.8%、11.8%；**\n",
    "- **2018年：1月份只有大洋洲、东南亚、南亚、东亚四个地区有销售额，4个地区销售额占比较平均。**"
   ]
  },
  {
   "cell_type": "markdown",
   "metadata": {},
   "source": [
    "整体来看，西欧、中美洲和南美洲仍然是贡献市场销售额最高的TOP3个地区。"
   ]
  },
  {
   "cell_type": "markdown",
   "metadata": {},
   "source": [
    "## 4.5  不同类目下已完成订单的销售额统计"
   ]
  },
  {
   "cell_type": "markdown",
   "metadata": {
    "ExecuteTime": {
     "end_time": "2020-11-01T06:46:04.661700Z",
     "start_time": "2020-11-01T06:46:04.597779Z"
    }
   },
   "source": [
    "### 4.5.1 各类目交易完成订单的销售总额直方图"
   ]
  },
  {
   "cell_type": "code",
   "execution_count": null,
   "metadata": {},
   "outputs": [],
   "source": [
    "px.histogram(complete_orders,\n",
    "             x='Sales per customer',\n",
    "             y='Category Name',\n",
    "             category_orders={\n",
    "                 'Category Name':\n",
    "                 list(complete_orders['Category Name'].value_counts().index)\n",
    "             },\n",
    "             title=\"Sum of Sales per customer in each Category Name\",\n",
    "             log_x=True,\n",
    "             marginal='box')"
   ]
  },
  {
   "cell_type": "markdown",
   "metadata": {},
   "source": [
    "### 4.5.2 各类目销售额均值直方图"
   ]
  },
  {
   "cell_type": "code",
   "execution_count": null,
   "metadata": {},
   "outputs": [],
   "source": [
    "px.histogram(complete_orders,\n",
    "             x='Sales per customer',\n",
    "             y='Category Name',\n",
    "             category_orders={\n",
    "                 'Category Name':\n",
    "                 list(complete_orders['Category Name'].value_counts().index)\n",
    "             },\n",
    "             title=\"Average of Sales per customer in each Category Name\",\n",
    "             histfunc='avg',  # 求均值\n",
    "             log_x=True,\n",
    "             marginal='box')"
   ]
  },
  {
   "cell_type": "markdown",
   "metadata": {},
   "source": [
    "### 4.5.3 各类目交易完成订单的销售总额占比"
   ]
  },
  {
   "cell_type": "code",
   "execution_count": null,
   "metadata": {},
   "outputs": [],
   "source": [
    "px.pie(complete_orders,\n",
    "       values='Sales per customer',\n",
    "       names='Category Name',\n",
    "       title=\"每个类目中交易完成的订单的销售额占比\")"
   ]
  },
  {
   "cell_type": "markdown",
   "metadata": {},
   "source": [
    "销售额最多的类目是Fishing，占比18.7%；其次是Cleats，占比12.1%、Camping & Hiking占比11.2%、Cardio Equipment类目占比10%，这4个类目销售额占了总销售额的一半以上。"
   ]
  },
  {
   "cell_type": "markdown",
   "metadata": {},
   "source": [
    "### 4.5.4 2015-2018年1月各年不同商品类目和不同地区的销售额面积图"
   ]
  },
  {
   "cell_type": "code",
   "execution_count": null,
   "metadata": {},
   "outputs": [],
   "source": [
    "demo = complete_orders[(complete_orders['Category Name'] == 'Hockey')\n",
    "                       & (complete_orders['Order yearOfDate'] == 2015) &\n",
    "                       (complete_orders['Order Region'] == 'South America')]\n",
    "demo['Sales per customer']"
   ]
  },
  {
   "cell_type": "code",
   "execution_count": null,
   "metadata": {},
   "outputs": [],
   "source": [
    "px.area(complete_orders,\n",
    "        x='Category Name',\n",
    "        y='Sales per customer',\n",
    "        color='Order Region',\n",
    "        animation_frame='Order yearOfDate',\n",
    "        category_orders={\"Order yearOfDate\": [2015, 2016, 2017, 2018]},\n",
    "        title=\"2015-2018年1月各年不同商品类目和不同地区的销售额面积图\",\n",
    "        log_y=True)"
   ]
  },
  {
   "cell_type": "code",
   "execution_count": null,
   "metadata": {},
   "outputs": [],
   "source": [
    "# px.bar(complete_orders,\n",
    "#        x='Category Name',\n",
    "#        y='Sales per customer',\n",
    "#        color='Order Region',\n",
    "#        animation_frame='Order yearOfDate',\n",
    "#        category_orders={\"Order yearOfDate\":[2015, 2016, 2017, 2018]},\n",
    "#        opacity=1.,\n",
    "# #        color_discrete_sequence=px.colors.qualitative.Dark24_r, # 定性颜色颜色Dark24_r\n",
    "# #        template=\"plotly_dark\", \n",
    "#        title=\"2015-2018年1月各年不同商品类目和不同地区的销售额堆积条形图\",\n",
    "#        log_y=True) # y轴进行对数转换，否则y轴值太大，会显示异常"
   ]
  },
  {
   "cell_type": "markdown",
   "metadata": {},
   "source": [
    "## 4.6 按不同时间维度看销售额变化情况\n",
    "年、月、周、小时的趋势"
   ]
  },
  {
   "cell_type": "code",
   "execution_count": null,
   "metadata": {},
   "outputs": [],
   "source": [
    "complete_orders.head()"
   ]
  },
  {
   "cell_type": "code",
   "execution_count": null,
   "metadata": {
    "scrolled": false
   },
   "outputs": [],
   "source": [
    "abbr_cols = {\n",
    "    'years': 'Order yearOfDate',\n",
    "    'week per day': 'Order weekOfDate',\n",
    "    'hours per day': 'Order hourOfDate',\n",
    "    'month per year': 'Order yearMonth'\n",
    "}\n",
    "\n",
    "plt.figure(figsize=(24, 16))\n",
    "for n, (a, c) in enumerate(abbr_cols.items()):\n",
    "    plt.subplot(2, 2, n + 1)\n",
    "    temp = complete_orders.groupby(c)\n",
    "    temp['Sales'].mean().plot(figsize=(15, 10), title=\"Average sales in %s\" % a)"
   ]
  },
  {
   "cell_type": "markdown",
   "metadata": {
    "ExecuteTime": {
     "end_time": "2020-11-01T09:05:38.832685Z",
     "start_time": "2020-11-01T09:05:38.827675Z"
    },
    "code_folding": []
   },
   "source": [
    "# 5 Product Price与Sales per customer 相关性探索"
   ]
  },
  {
   "cell_type": "code",
   "execution_count": null,
   "metadata": {
    "scrolled": false
   },
   "outputs": [],
   "source": [
    "# 探索Sales和Sales per customer的关系\n",
    "px.scatter(\n",
    "    df,\n",
    "    x='Product Price',\n",
    "    y='Sales per customer',\n",
    "    color='Order Item Profit Ratio',\n",
    "    trendline='lowess',  # 绘制贯穿散点的平滑趋势线\n",
    "    trendline_color_override=px.colors.qualitative.Vivid[3])"
   ]
  },
  {
   "cell_type": "markdown",
   "metadata": {},
   "source": [
    "在同样的Product Price下，每个用户的总销售额有高有底，对应利润率也有高有底，整体趋势相同。"
   ]
  },
  {
   "cell_type": "code",
   "execution_count": null,
   "metadata": {},
   "outputs": [],
   "source": [
    "# 探索Sales和Sales per customer的关系\n",
    "px.scatter(df,\n",
    "           x='Product Price',\n",
    "           y='Sales',\n",
    "           color='Order Item Profit Ratio',\n",
    "           trendline='lowess',\n",
    "           trendline_color_override=px.colors.qualitative.Vivid[3])"
   ]
  },
  {
   "cell_type": "code",
   "execution_count": null,
   "metadata": {},
   "outputs": [],
   "source": [
    "# 探索Sales和Sales per customer的关系\n",
    "px.scatter(df,\n",
    "           x='Sales',\n",
    "           y='Sales per customer',\n",
    "           color='Order Item Profit Ratio',\n",
    "           trendline='lowess',\n",
    "           trendline_color_override=px.colors.qualitative.Vivid[3])"
   ]
  },
  {
   "cell_type": "markdown",
   "metadata": {},
   "source": [
    "Sales和Sales per customer，看起来有些相关性，毕竟比较分散，通过皮尔逊系数判断相关性。"
   ]
  },
  {
   "cell_type": "markdown",
   "metadata": {
    "ExecuteTime": {
     "end_time": "2020-10-31T22:44:16.198043Z",
     "start_time": "2020-10-31T22:44:16.182698Z"
    }
   },
   "source": [
    "# 6 皮尔逊系数判断相关性"
   ]
  },
  {
   "cell_type": "code",
   "execution_count": null,
   "metadata": {},
   "outputs": [],
   "source": [
    "# 存储标签数值化的列名和转换器\n",
    "cols_transfer = {}"
   ]
  },
  {
   "cell_type": "code",
   "execution_count": null,
   "metadata": {},
   "outputs": [],
   "source": [
    "def labelEncoder(sr):\n",
    "    \"\"\"对文本列进行标签数值化\"\"\"\n",
    "    transfer = LabelEncoder()\n",
    "    result = transfer.fit_transform(sr)\n",
    "    return transfer, result"
   ]
  },
  {
   "cell_type": "code",
   "execution_count": null,
   "metadata": {
    "scrolled": true
   },
   "outputs": [],
   "source": [
    "need_drop_cols"
   ]
  },
  {
   "cell_type": "code",
   "execution_count": null,
   "metadata": {},
   "outputs": [],
   "source": [
    "need_drop_cols.append('order date (DateOrders)')\n",
    "need_drop_cols.append('shipping date (DateOrders)')"
   ]
  },
  {
   "cell_type": "code",
   "execution_count": null,
   "metadata": {},
   "outputs": [],
   "source": [
    "df = df.drop(columns=need_drop_cols)"
   ]
  },
  {
   "cell_type": "code",
   "execution_count": null,
   "metadata": {},
   "outputs": [],
   "source": [
    "all_str_col = df.select_dtypes(include='object').columns"
   ]
  },
  {
   "cell_type": "code",
   "execution_count": null,
   "metadata": {},
   "outputs": [],
   "source": [
    "all_str_col"
   ]
  },
  {
   "cell_type": "code",
   "execution_count": null,
   "metadata": {},
   "outputs": [],
   "source": [
    "df.isnull().sum().sum()  #  确认无空值"
   ]
  },
  {
   "cell_type": "code",
   "execution_count": null,
   "metadata": {},
   "outputs": [],
   "source": [
    "newdf = df.copy()\n",
    "for c in all_str_col:\n",
    "    cols_transfer[c], newdf[c] = labelEncoder(newdf[c])"
   ]
  },
  {
   "cell_type": "code",
   "execution_count": null,
   "metadata": {},
   "outputs": [],
   "source": [
    "newdf"
   ]
  },
  {
   "cell_type": "code",
   "execution_count": null,
   "metadata": {
    "scrolled": true
   },
   "outputs": [],
   "source": [
    "df_corr = newdf.corr()"
   ]
  },
  {
   "cell_type": "code",
   "execution_count": null,
   "metadata": {},
   "outputs": [],
   "source": [
    "temp = df_corr.abs()\n",
    "temp = temp['Sales'].sort_values()\n",
    "temp[-5:]"
   ]
  },
  {
   "cell_type": "code",
   "execution_count": null,
   "metadata": {},
   "outputs": [],
   "source": [
    "df_corr  = df_corr[list(temp.index)[::-1]]"
   ]
  },
  {
   "cell_type": "code",
   "execution_count": null,
   "metadata": {},
   "outputs": [],
   "source": [
    "df_corr = df_corr.loc[list(temp.index)]"
   ]
  },
  {
   "cell_type": "code",
   "execution_count": null,
   "metadata": {},
   "outputs": [],
   "source": [
    "plt.figure(figsize=(20, 20), dpi=80)\n",
    "sns.heatmap(df_corr*10, annot=True, fmt='.0f', square=True, cmap='coolwarm')"
   ]
  },
  {
   "cell_type": "code",
   "execution_count": null,
   "metadata": {},
   "outputs": [],
   "source": [
    "need_drop_cols += ['Sales', 'Order Item Discount', 'Shipping yearOfDate', 'Shipping monthOfDate']"
   ]
  },
  {
   "cell_type": "markdown",
   "metadata": {
    "ExecuteTime": {
     "end_time": "2020-11-01T10:34:18.898554Z",
     "start_time": "2020-11-01T10:34:12.937978Z"
    }
   },
   "source": [
    "完全相关的列Sales, Order Item Discount、Sales per customer 完全正相关，所以只保留Sales per customer；Shipping yearOfDate和Order yearOfDate、Shipping monthOfDate和Order monthOfDate、"
   ]
  },
  {
   "cell_type": "code",
   "execution_count": null,
   "metadata": {},
   "outputs": [],
   "source": [
    "newdf = newdf.drop(columns=[\n",
    "    'Sales', 'Order Item Discount', 'Shipping yearOfDate',\n",
    "    'Shipping monthOfDate'\n",
    "])"
   ]
  },
  {
   "cell_type": "code",
   "execution_count": null,
   "metadata": {},
   "outputs": [],
   "source": [
    "newdf.shape"
   ]
  },
  {
   "cell_type": "markdown",
   "metadata": {},
   "source": [
    "# 7 总结"
   ]
  },
  {
   "cell_type": "markdown",
   "metadata": {},
   "source": [
    "- 供应链数据集中，真正交易完成的订单只有约36%，所以如果要对销售额等进行预测，需要注意这一点。\n",
    "- 该数据集每一行不一定代表单笔订单，一笔订单可能会有多个商品ID；而数据集是将一笔订单内的商品按照一个商品ID对应一行数据来进行统计的；\n",
    "- 一笔订单中同一个商品ID的商品数量可能大于1。"
   ]
  },
  {
   "cell_type": "markdown",
   "metadata": {},
   "source": [
    "- 学习到一个新的绘图工具包plotly，用它画了饼图、直方图、strip散点分布图、地图分布图、散点图；堆积条形图我也试过，不过我们的数据集较大，当数据密集的时候，条柱会被背景色淹没，还没找到如何修改堆积条形图的线条颜色的参数；\n",
    "- 发现数据集中会有比较多的表示类别的ID类的特征，比如订单ID、用户ID、产品ID、类目ID等等，不仅在这个数据集中，在天池数据集中也存在表示类别的ID类特征。对于这样的特征送入模型前如何处理，还存在疑问:\n",
    "    - 表示类别的ID类特征，它的整数不代表大小，只代表类别，如果类别数特别多，像订单ID、产品ID等，是要直接舍弃特征，还是做什么其他的处理呢？\n",
    "    - 目前我可能只知道标准化，或者对数化下，其他的处理方法不知道了。"
   ]
  },
  {
   "cell_type": "code",
   "execution_count": null,
   "metadata": {},
   "outputs": [],
   "source": []
  }
 ],
 "metadata": {
  "kernelspec": {
   "display_name": "Python [conda env:envpy37]",
   "language": "python",
   "name": "conda-env-envpy37-py"
  },
  "language_info": {
   "codemirror_mode": {
    "name": "ipython",
    "version": 3
   },
   "file_extension": ".py",
   "mimetype": "text/x-python",
   "name": "python",
   "nbconvert_exporter": "python",
   "pygments_lexer": "ipython3",
   "version": "3.7.7"
  },
  "toc": {
   "base_numbering": 1,
   "nav_menu": {},
   "number_sections": true,
   "sideBar": true,
   "skip_h1_title": false,
   "title_cell": "Table of Contents",
   "title_sidebar": "Contents",
   "toc_cell": true,
   "toc_position": {
    "height": "calc(100% - 180px)",
    "left": "10px",
    "top": "150px",
    "width": "268.797px"
   },
   "toc_section_display": true,
   "toc_window_display": true
  },
  "varInspector": {
   "cols": {
    "lenName": 16,
    "lenType": 16,
    "lenVar": 40
   },
   "kernels_config": {
    "python": {
     "delete_cmd_postfix": "",
     "delete_cmd_prefix": "del ",
     "library": "var_list.py",
     "varRefreshCmd": "print(var_dic_list())"
    },
    "r": {
     "delete_cmd_postfix": ") ",
     "delete_cmd_prefix": "rm(",
     "library": "var_list.r",
     "varRefreshCmd": "cat(var_dic_list()) "
    }
   },
   "oldHeight": 122,
   "position": {
    "height": "40px",
    "left": "1170px",
    "right": "20px",
    "top": "120px",
    "width": "250px"
   },
   "types_to_exclude": [
    "module",
    "function",
    "builtin_function_or_method",
    "instance",
    "_Feature"
   ],
   "varInspector_section_display": "none",
   "window_display": true
  }
 },
 "nbformat": 4,
 "nbformat_minor": 4
}
