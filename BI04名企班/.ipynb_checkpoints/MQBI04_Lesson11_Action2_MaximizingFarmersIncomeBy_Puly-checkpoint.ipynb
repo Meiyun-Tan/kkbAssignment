{
 "cells": [
  {
   "cell_type": "markdown",
   "metadata": {
    "toc": true
   },
   "source": [
    "<h1>Table of Contents<span class=\"tocSkip\"></span></h1>\n",
    "<div class=\"toc\"><ul class=\"toc-item\"><li><span><a href=\"#1-准备数据\" data-toc-modified-id=\"1-准备数据-1\">1 准备数据</a></span></li><li><span><a href=\"#2-pulp解决整数线性规划最大化问题\" data-toc-modified-id=\"2-pulp解决整数线性规划最大化问题-2\">2 pulp解决整数线性规划最大化问题</a></span><ul class=\"toc-item\"><li><span><a href=\"#2.1-构建整数ILP实例\" data-toc-modified-id=\"2.1-构建整数ILP实例-2.1\">2.1 构建整数ILP实例</a></span></li><li><span><a href=\"#2.2-定义变量\" data-toc-modified-id=\"2.2-定义变量-2.2\">2.2 定义变量</a></span></li><li><span><a href=\"#2.3-定义目标函数\" data-toc-modified-id=\"2.3-定义目标函数-2.3\">2.3 定义目标函数</a></span></li><li><span><a href=\"#2.4-设定约束条件\" data-toc-modified-id=\"2.4-设定约束条件-2.4\">2.4 设定约束条件</a></span></li><li><span><a href=\"#2.5-求解\" data-toc-modified-id=\"2.5-求解-2.5\">2.5 求解</a></span></li><li><span><a href=\"#2.6-查看最优解和最优值\" data-toc-modified-id=\"2.6-查看最优解和最优值-2.6\">2.6 查看最优解和最优值</a></span><ul class=\"toc-item\"><li><span><a href=\"#2.6.1-打印最优解和最优值\" data-toc-modified-id=\"2.6.1-打印最优解和最优值-2.6.1\">2.6.1 打印最优解和最优值</a></span></li><li><span><a href=\"#2.6.2--将最优解转为DataFrame\" data-toc-modified-id=\"2.6.2--将最优解转为DataFrame-2.6.2\">2.6.2  将最优解转为DataFrame</a></span></li></ul></li></ul></li><li><span><a href=\"#3-总结：\" data-toc-modified-id=\"3-总结：-3\">3 总结：</a></span></li></ul></div>"
   ]
  },
  {
   "cell_type": "markdown",
   "metadata": {},
   "source": [
    "一个农民承包了6块耕地共300亩，准备播种小麦，玉米，水果和蔬菜四种农产品，已知各种农产品的计划播种面积、每块土地种植不同农产品的单产收益    \n",
    "如何进行合理安排，使得总收益最大    \n",
    "可以使用pulp/ortools工具    "
   ]
  },
  {
   "cell_type": "code",
   "execution_count": 52,
   "metadata": {
    "ExecuteTime": {
     "end_time": "2020-11-12T16:14:40.562301Z",
     "start_time": "2020-11-12T16:14:40.555929Z"
    }
   },
   "outputs": [],
   "source": [
    "import pulp\n",
    "import ortools\n",
    "import numpy as np\n",
    "import pandas as pd"
   ]
  },
  {
   "cell_type": "markdown",
   "metadata": {},
   "source": [
    "# 1 准备数据"
   ]
  },
  {
   "cell_type": "code",
   "execution_count": 2,
   "metadata": {
    "ExecuteTime": {
     "end_time": "2020-11-12T14:30:00.220949Z",
     "start_time": "2020-11-12T14:30:00.207925Z"
    }
   },
   "outputs": [],
   "source": [
    "# 每种作物的单位收益 (元/亩)和计划播种面积\n",
    "df_incomes = pd.read_csv(\"farming_unit_gains.csv\")\n",
    "\n",
    "# 每个地块的面积\n",
    "df_area = pd.read_csv(\"farming_area.csv\")"
   ]
  },
  {
   "cell_type": "code",
   "execution_count": 3,
   "metadata": {
    "ExecuteTime": {
     "end_time": "2020-11-12T14:30:00.245167Z",
     "start_time": "2020-11-12T14:30:00.226518Z"
    }
   },
   "outputs": [
    {
     "data": {
      "text/html": [
       "<div>\n",
       "<style scoped>\n",
       "    .dataframe tbody tr th:only-of-type {\n",
       "        vertical-align: middle;\n",
       "    }\n",
       "\n",
       "    .dataframe tbody tr th {\n",
       "        vertical-align: top;\n",
       "    }\n",
       "\n",
       "    .dataframe thead th {\n",
       "        text-align: right;\n",
       "    }\n",
       "</style>\n",
       "<table border=\"1\" class=\"dataframe\">\n",
       "  <thead>\n",
       "    <tr style=\"text-align: right;\">\n",
       "      <th></th>\n",
       "      <th>产物</th>\n",
       "      <th>地块1</th>\n",
       "      <th>地块2</th>\n",
       "      <th>地块3</th>\n",
       "      <th>地块4</th>\n",
       "      <th>地块5</th>\n",
       "      <th>地块6</th>\n",
       "      <th>计划播种面积（亩）</th>\n",
       "    </tr>\n",
       "  </thead>\n",
       "  <tbody>\n",
       "    <tr>\n",
       "      <th>0</th>\n",
       "      <td>小麦</td>\n",
       "      <td>500</td>\n",
       "      <td>550</td>\n",
       "      <td>630</td>\n",
       "      <td>1000</td>\n",
       "      <td>800</td>\n",
       "      <td>700</td>\n",
       "      <td>76</td>\n",
       "    </tr>\n",
       "    <tr>\n",
       "      <th>1</th>\n",
       "      <td>玉米</td>\n",
       "      <td>800</td>\n",
       "      <td>700</td>\n",
       "      <td>600</td>\n",
       "      <td>950</td>\n",
       "      <td>900</td>\n",
       "      <td>930</td>\n",
       "      <td>88</td>\n",
       "    </tr>\n",
       "    <tr>\n",
       "      <th>2</th>\n",
       "      <td>水果</td>\n",
       "      <td>1000</td>\n",
       "      <td>960</td>\n",
       "      <td>840</td>\n",
       "      <td>650</td>\n",
       "      <td>600</td>\n",
       "      <td>700</td>\n",
       "      <td>96</td>\n",
       "    </tr>\n",
       "    <tr>\n",
       "      <th>3</th>\n",
       "      <td>蔬菜</td>\n",
       "      <td>1200</td>\n",
       "      <td>1040</td>\n",
       "      <td>980</td>\n",
       "      <td>860</td>\n",
       "      <td>880</td>\n",
       "      <td>780</td>\n",
       "      <td>40</td>\n",
       "    </tr>\n",
       "  </tbody>\n",
       "</table>\n",
       "</div>"
      ],
      "text/plain": [
       "   产物   地块1   地块2  地块3   地块4  地块5  地块6  计划播种面积（亩）\n",
       "0  小麦   500   550  630  1000  800  700         76\n",
       "1  玉米   800   700  600   950  900  930         88\n",
       "2  水果  1000   960  840   650  600  700         96\n",
       "3  蔬菜  1200  1040  980   860  880  780         40"
      ]
     },
     "execution_count": 3,
     "metadata": {},
     "output_type": "execute_result"
    }
   ],
   "source": [
    "df_incomes"
   ]
  },
  {
   "cell_type": "code",
   "execution_count": 4,
   "metadata": {
    "ExecuteTime": {
     "end_time": "2020-11-12T14:30:00.258869Z",
     "start_time": "2020-11-12T14:30:00.248862Z"
    }
   },
   "outputs": [
    {
     "data": {
      "text/html": [
       "<div>\n",
       "<style scoped>\n",
       "    .dataframe tbody tr th:only-of-type {\n",
       "        vertical-align: middle;\n",
       "    }\n",
       "\n",
       "    .dataframe tbody tr th {\n",
       "        vertical-align: top;\n",
       "    }\n",
       "\n",
       "    .dataframe thead th {\n",
       "        text-align: right;\n",
       "    }\n",
       "</style>\n",
       "<table border=\"1\" class=\"dataframe\">\n",
       "  <thead>\n",
       "    <tr style=\"text-align: right;\">\n",
       "      <th></th>\n",
       "      <th>地块</th>\n",
       "      <th>地块面积（亩）</th>\n",
       "    </tr>\n",
       "  </thead>\n",
       "  <tbody>\n",
       "    <tr>\n",
       "      <th>0</th>\n",
       "      <td>地块1</td>\n",
       "      <td>42</td>\n",
       "    </tr>\n",
       "    <tr>\n",
       "      <th>1</th>\n",
       "      <td>地块2</td>\n",
       "      <td>56</td>\n",
       "    </tr>\n",
       "    <tr>\n",
       "      <th>2</th>\n",
       "      <td>地块3</td>\n",
       "      <td>44</td>\n",
       "    </tr>\n",
       "    <tr>\n",
       "      <th>3</th>\n",
       "      <td>地块4</td>\n",
       "      <td>39</td>\n",
       "    </tr>\n",
       "    <tr>\n",
       "      <th>4</th>\n",
       "      <td>地块5</td>\n",
       "      <td>60</td>\n",
       "    </tr>\n",
       "    <tr>\n",
       "      <th>5</th>\n",
       "      <td>地块6</td>\n",
       "      <td>59</td>\n",
       "    </tr>\n",
       "  </tbody>\n",
       "</table>\n",
       "</div>"
      ],
      "text/plain": [
       "    地块  地块面积（亩）\n",
       "0  地块1       42\n",
       "1  地块2       56\n",
       "2  地块3       44\n",
       "3  地块4       39\n",
       "4  地块5       60\n",
       "5  地块6       59"
      ]
     },
     "execution_count": 4,
     "metadata": {},
     "output_type": "execute_result"
    }
   ],
   "source": [
    "df_area"
   ]
  },
  {
   "cell_type": "code",
   "execution_count": 5,
   "metadata": {
    "ExecuteTime": {
     "end_time": "2020-11-12T14:30:00.270845Z",
     "start_time": "2020-11-12T14:30:00.263606Z"
    }
   },
   "outputs": [
    {
     "data": {
      "text/plain": [
       "(300, 300)"
      ]
     },
     "execution_count": 5,
     "metadata": {},
     "output_type": "execute_result"
    }
   ],
   "source": [
    "df_incomes['计划播种面积（亩）'].sum(), df_area['地块面积（亩）'].sum()"
   ]
  },
  {
   "cell_type": "markdown",
   "metadata": {},
   "source": [
    "# 2 pulp解决整数线性规划最大化问题\n",
    "## 2.1 构建整数ILP实例"
   ]
  },
  {
   "cell_type": "code",
   "execution_count": 6,
   "metadata": {
    "ExecuteTime": {
     "end_time": "2020-11-12T14:30:00.278397Z",
     "start_time": "2020-11-12T14:30:00.273895Z"
    }
   },
   "outputs": [],
   "source": [
    "prob = pulp.LpProblem(name=\"MaxIncomeOfFarmer\", sense=pulp.LpMaximize)"
   ]
  },
  {
   "cell_type": "markdown",
   "metadata": {},
   "source": [
    "## 2.2 定义变量"
   ]
  },
  {
   "cell_type": "code",
   "execution_count": 7,
   "metadata": {
    "ExecuteTime": {
     "end_time": "2020-11-12T14:30:00.299577Z",
     "start_time": "2020-11-12T14:30:00.290070Z"
    }
   },
   "outputs": [
    {
     "name": "stdout",
     "output_type": "stream",
     "text": [
      "[[x00, x01, x02, x03, x04, x05], [x10, x11, x12, x13, x14, x15], [x20, x21, x22, x23, x24, x25], [x30, x31, x32, x33, x34, x35]]\n"
     ]
    }
   ],
   "source": [
    "# 产物种类数，土地种类数\n",
    "n_crops = len(df_incomes)\n",
    "n_lands = len(df_area)\n",
    "\n",
    "variables = []\n",
    "\n",
    "# x产物地块\n",
    "for i in range(n_crops):\n",
    "    var = []\n",
    "    for j in range(n_lands):\n",
    "        # 整数变量类型\n",
    "        var.append(pulp.LpVariable(name=f'x{i}{j}', lowBound=0, cat='Integer'))\n",
    "    variables.append(var)\n",
    "        \n",
    "print(variables)"
   ]
  },
  {
   "cell_type": "code",
   "execution_count": 8,
   "metadata": {
    "ExecuteTime": {
     "end_time": "2020-11-12T14:30:00.316487Z",
     "start_time": "2020-11-12T14:30:00.304971Z"
    }
   },
   "outputs": [
    {
     "data": {
      "text/plain": [
       "(4, 6)"
      ]
     },
     "execution_count": 8,
     "metadata": {},
     "output_type": "execute_result"
    }
   ],
   "source": [
    "# 产物4种， 地块6种\n",
    "len(variables), len(variables[0])"
   ]
  },
  {
   "cell_type": "code",
   "execution_count": 9,
   "metadata": {
    "ExecuteTime": {
     "end_time": "2020-11-12T14:30:00.337784Z",
     "start_time": "2020-11-12T14:30:00.331111Z"
    }
   },
   "outputs": [
    {
     "data": {
      "text/plain": [
       "array([[x00, x01, x02, x03, x04, x05],\n",
       "       [x10, x11, x12, x13, x14, x15],\n",
       "       [x20, x21, x22, x23, x24, x25],\n",
       "       [x30, x31, x32, x33, x34, x35]], dtype=object)"
      ]
     },
     "execution_count": 9,
     "metadata": {},
     "output_type": "execute_result"
    }
   ],
   "source": [
    "# 将定义好的变量转成数组\n",
    "variables = np.array(variables)\n",
    "variables"
   ]
  },
  {
   "cell_type": "code",
   "execution_count": 24,
   "metadata": {
    "ExecuteTime": {
     "end_time": "2020-11-12T15:34:07.583497Z",
     "start_time": "2020-11-12T15:34:07.576202Z"
    }
   },
   "outputs": [
    {
     "data": {
      "text/plain": [
       "pulp.pulp.LpVariable"
      ]
     },
     "execution_count": 24,
     "metadata": {},
     "output_type": "execute_result"
    }
   ],
   "source": [
    "type(variables[0, 0])"
   ]
  },
  {
   "cell_type": "markdown",
   "metadata": {},
   "source": [
    "## 2.3 定义目标函数"
   ]
  },
  {
   "cell_type": "code",
   "execution_count": 10,
   "metadata": {
    "ExecuteTime": {
     "end_time": "2020-11-12T14:30:00.357341Z",
     "start_time": "2020-11-12T14:30:00.339914Z"
    }
   },
   "outputs": [
    {
     "data": {
      "text/html": [
       "<div>\n",
       "<style scoped>\n",
       "    .dataframe tbody tr th:only-of-type {\n",
       "        vertical-align: middle;\n",
       "    }\n",
       "\n",
       "    .dataframe tbody tr th {\n",
       "        vertical-align: top;\n",
       "    }\n",
       "\n",
       "    .dataframe thead th {\n",
       "        text-align: right;\n",
       "    }\n",
       "</style>\n",
       "<table border=\"1\" class=\"dataframe\">\n",
       "  <thead>\n",
       "    <tr style=\"text-align: right;\">\n",
       "      <th></th>\n",
       "      <th>地块1</th>\n",
       "      <th>地块2</th>\n",
       "      <th>地块3</th>\n",
       "      <th>地块4</th>\n",
       "      <th>地块5</th>\n",
       "      <th>地块6</th>\n",
       "    </tr>\n",
       "  </thead>\n",
       "  <tbody>\n",
       "    <tr>\n",
       "      <th>0</th>\n",
       "      <td>500</td>\n",
       "      <td>550</td>\n",
       "      <td>630</td>\n",
       "      <td>1000</td>\n",
       "      <td>800</td>\n",
       "      <td>700</td>\n",
       "    </tr>\n",
       "    <tr>\n",
       "      <th>1</th>\n",
       "      <td>800</td>\n",
       "      <td>700</td>\n",
       "      <td>600</td>\n",
       "      <td>950</td>\n",
       "      <td>900</td>\n",
       "      <td>930</td>\n",
       "    </tr>\n",
       "    <tr>\n",
       "      <th>2</th>\n",
       "      <td>1000</td>\n",
       "      <td>960</td>\n",
       "      <td>840</td>\n",
       "      <td>650</td>\n",
       "      <td>600</td>\n",
       "      <td>700</td>\n",
       "    </tr>\n",
       "    <tr>\n",
       "      <th>3</th>\n",
       "      <td>1200</td>\n",
       "      <td>1040</td>\n",
       "      <td>980</td>\n",
       "      <td>860</td>\n",
       "      <td>880</td>\n",
       "      <td>780</td>\n",
       "    </tr>\n",
       "  </tbody>\n",
       "</table>\n",
       "</div>"
      ],
      "text/plain": [
       "    地块1   地块2  地块3   地块4  地块5  地块6\n",
       "0   500   550  630  1000  800  700\n",
       "1   800   700  600   950  900  930\n",
       "2  1000   960  840   650  600  700\n",
       "3  1200  1040  980   860  880  780"
      ]
     },
     "execution_count": 10,
     "metadata": {},
     "output_type": "execute_result"
    }
   ],
   "source": [
    "df_incomes.loc[:, '地块1':'地块6']"
   ]
  },
  {
   "cell_type": "code",
   "execution_count": 11,
   "metadata": {
    "ExecuteTime": {
     "end_time": "2020-11-12T14:30:00.369056Z",
     "start_time": "2020-11-12T14:30:00.364592Z"
    }
   },
   "outputs": [],
   "source": [
    "# 构造目标函数\n",
    "prob += pulp.lpDot(df_incomes.loc[:, '地块1':'地块6'].values, variables)"
   ]
  },
  {
   "cell_type": "code",
   "execution_count": 12,
   "metadata": {
    "ExecuteTime": {
     "end_time": "2020-11-12T14:30:00.388403Z",
     "start_time": "2020-11-12T14:30:00.372943Z"
    }
   },
   "outputs": [
    {
     "data": {
      "text/plain": [
       "500*x00 + 550*x01 + 630*x02 + 1000*x03 + 800*x04 + 700*x05 + 800*x10 + 700*x11 + 600*x12 + 950*x13 + 900*x14 + 930*x15 + 1000*x20 + 960*x21 + 840*x22 + 650*x23 + 600*x24 + 700*x25 + 1200*x30 + 1040*x31 + 980*x32 + 860*x33 + 880*x34 + 780*x35 + 0"
      ]
     },
     "execution_count": 12,
     "metadata": {},
     "output_type": "execute_result"
    }
   ],
   "source": [
    "prob.objective # 查看目标函数"
   ]
  },
  {
   "cell_type": "markdown",
   "metadata": {
    "ExecuteTime": {
     "end_time": "2020-11-12T13:35:04.279981Z",
     "start_time": "2020-11-12T13:35:04.273358Z"
    }
   },
   "source": [
    "## 2.4 设定约束条件"
   ]
  },
  {
   "cell_type": "code",
   "execution_count": 13,
   "metadata": {
    "ExecuteTime": {
     "end_time": "2020-11-12T14:30:00.401041Z",
     "start_time": "2020-11-12T14:30:00.391252Z"
    }
   },
   "outputs": [],
   "source": [
    "n_crops = len(df_incomes)\n",
    "n_lands = len(df_area)\n",
    "\n",
    "for i in range(n_crops):\n",
    "    # 产物i 计划种植的面积\n",
    "    plan_area = df_incomes.iloc[i, -1]\n",
    "    prob += pulp.lpSum(variables[i]) == plan_area\n",
    "    \n",
    "for j in range(n_lands):\n",
    "    # 地块j 可种植的总面积\n",
    "    land_area = df_area.iloc[j, -1]\n",
    "    prob += pulp.lpSum(variables[:, j]) == land_area"
   ]
  },
  {
   "cell_type": "code",
   "execution_count": 14,
   "metadata": {
    "ExecuteTime": {
     "end_time": "2020-11-12T14:30:00.411609Z",
     "start_time": "2020-11-12T14:30:00.404944Z"
    }
   },
   "outputs": [
    {
     "data": {
      "text/plain": [
       "OrderedDict([('_C1', 1*x00 + 1*x01 + 1*x02 + 1*x03 + 1*x04 + 1*x05 + -76 = 0),\n",
       "             ('_C2', 1*x10 + 1*x11 + 1*x12 + 1*x13 + 1*x14 + 1*x15 + -88 = 0),\n",
       "             ('_C3', 1*x20 + 1*x21 + 1*x22 + 1*x23 + 1*x24 + 1*x25 + -96 = 0),\n",
       "             ('_C4', 1*x30 + 1*x31 + 1*x32 + 1*x33 + 1*x34 + 1*x35 + -40 = 0),\n",
       "             ('_C5', 1*x00 + 1*x10 + 1*x20 + 1*x30 + -42 = 0),\n",
       "             ('_C6', 1*x01 + 1*x11 + 1*x21 + 1*x31 + -56 = 0),\n",
       "             ('_C7', 1*x02 + 1*x12 + 1*x22 + 1*x32 + -44 = 0),\n",
       "             ('_C8', 1*x03 + 1*x13 + 1*x23 + 1*x33 + -39 = 0),\n",
       "             ('_C9', 1*x04 + 1*x14 + 1*x24 + 1*x34 + -60 = 0),\n",
       "             ('_C10', 1*x05 + 1*x15 + 1*x25 + 1*x35 + -59 = 0)])"
      ]
     },
     "execution_count": 14,
     "metadata": {},
     "output_type": "execute_result"
    }
   ],
   "source": [
    "prob.constraints # 查看约束条件"
   ]
  },
  {
   "cell_type": "markdown",
   "metadata": {},
   "source": [
    "## 2.5 求解"
   ]
  },
  {
   "cell_type": "code",
   "execution_count": 18,
   "metadata": {
    "ExecuteTime": {
     "end_time": "2020-11-12T15:24:07.466744Z",
     "start_time": "2020-11-12T15:24:07.380803Z"
    }
   },
   "outputs": [
    {
     "data": {
      "text/plain": [
       "1"
      ]
     },
     "execution_count": 18,
     "metadata": {},
     "output_type": "execute_result"
    }
   ],
   "source": [
    "prob.solve()"
   ]
  },
  {
   "cell_type": "markdown",
   "metadata": {},
   "source": [
    "## 2.6 查看最优解和最优值"
   ]
  },
  {
   "cell_type": "code",
   "execution_count": 20,
   "metadata": {
    "ExecuteTime": {
     "end_time": "2020-11-12T15:24:23.565136Z",
     "start_time": "2020-11-12T15:24:23.516200Z"
    },
    "scrolled": true
   },
   "outputs": [
    {
     "data": {
      "text/plain": [
       "'Optimal'"
      ]
     },
     "execution_count": 20,
     "metadata": {},
     "output_type": "execute_result"
    }
   ],
   "source": [
    "# 查看解的状态\n",
    "pulp.LpStatus[prob.status]"
   ]
  },
  {
   "cell_type": "markdown",
   "metadata": {},
   "source": [
    "### 2.6.1 打印最优解和最优值"
   ]
  },
  {
   "cell_type": "code",
   "execution_count": 32,
   "metadata": {
    "ExecuteTime": {
     "end_time": "2020-11-12T15:37:24.957707Z",
     "start_time": "2020-11-12T15:37:24.951730Z"
    }
   },
   "outputs": [
    {
     "data": {
      "text/plain": [
       "284230.0"
      ]
     },
     "execution_count": 32,
     "metadata": {},
     "output_type": "execute_result"
    }
   ],
   "source": [
    "# 最优值\n",
    "max_income = pulp.value(prob.objective)\n",
    "max_income"
   ]
  },
  {
   "cell_type": "code",
   "execution_count": 33,
   "metadata": {
    "ExecuteTime": {
     "end_time": "2020-11-12T15:38:19.703762Z",
     "start_time": "2020-11-12T15:38:19.680669Z"
    }
   },
   "outputs": [
    {
     "name": "stdout",
     "output_type": "stream",
     "text": [
      "获得最大收益284230.0时，4种产物在各地块的种植面积如下：\n",
      "产物:小麦 在土地:地块1 中种植面积为:0.0\n",
      "产物:小麦 在土地:地块2 中种植面积为:0.0\n",
      "产物:小麦 在土地:地块3 中种植面积为:6.0\n",
      "产物:小麦 在土地:地块4 中种植面积为:39.0\n",
      "产物:小麦 在土地:地块5 中种植面积为:31.0\n",
      "产物:小麦 在土地:地块6 中种植面积为:0.0\n",
      "产物:玉米 在土地:地块1 中种植面积为:0.0\n",
      "产物:玉米 在土地:地块2 中种植面积为:0.0\n",
      "产物:玉米 在土地:地块3 中种植面积为:0.0\n",
      "产物:玉米 在土地:地块4 中种植面积为:0.0\n",
      "产物:玉米 在土地:地块5 中种植面积为:29.0\n",
      "产物:玉米 在土地:地块6 中种植面积为:59.0\n",
      "产物:水果 在土地:地块1 中种植面积为:2.0\n",
      "产物:水果 在土地:地块2 中种植面积为:56.0\n",
      "产物:水果 在土地:地块3 中种植面积为:38.0\n",
      "产物:水果 在土地:地块4 中种植面积为:0.0\n",
      "产物:水果 在土地:地块5 中种植面积为:0.0\n",
      "产物:水果 在土地:地块6 中种植面积为:0.0\n",
      "产物:蔬菜 在土地:地块1 中种植面积为:40.0\n",
      "产物:蔬菜 在土地:地块2 中种植面积为:0.0\n",
      "产物:蔬菜 在土地:地块3 中种植面积为:0.0\n",
      "产物:蔬菜 在土地:地块4 中种植面积为:0.0\n",
      "产物:蔬菜 在土地:地块5 中种植面积为:0.0\n",
      "产物:蔬菜 在土地:地块6 中种植面积为:0.0\n"
     ]
    }
   ],
   "source": [
    "print(f\"获得最大收益{max_income}时，4种产物在各地块的种植面积如下：\")\n",
    "for i in range(n_crops):\n",
    "    for j in range(n_lands):\n",
    "        crop = df_incomes.loc[i, '产物']\n",
    "        land = df_area.loc[j, '地块']\n",
    "        val = variables[i, j].value()\n",
    "        print(\"产物:{} 在土地:{} 中种植面积为:{}\".format(crop, land, val))"
   ]
  },
  {
   "cell_type": "markdown",
   "metadata": {},
   "source": [
    "### 2.6.2  将最优解转为DataFrame"
   ]
  },
  {
   "cell_type": "code",
   "execution_count": 35,
   "metadata": {
    "ExecuteTime": {
     "end_time": "2020-11-12T15:41:12.518928Z",
     "start_time": "2020-11-12T15:41:12.462777Z"
    }
   },
   "outputs": [
    {
     "data": {
      "text/html": [
       "<div>\n",
       "<style scoped>\n",
       "    .dataframe tbody tr th:only-of-type {\n",
       "        vertical-align: middle;\n",
       "    }\n",
       "\n",
       "    .dataframe tbody tr th {\n",
       "        vertical-align: top;\n",
       "    }\n",
       "\n",
       "    .dataframe thead th {\n",
       "        text-align: right;\n",
       "    }\n",
       "</style>\n",
       "<table border=\"1\" class=\"dataframe\">\n",
       "  <thead>\n",
       "    <tr style=\"text-align: right;\">\n",
       "      <th>地块</th>\n",
       "      <th>地块1</th>\n",
       "      <th>地块2</th>\n",
       "      <th>地块3</th>\n",
       "      <th>地块4</th>\n",
       "      <th>地块5</th>\n",
       "      <th>地块6</th>\n",
       "    </tr>\n",
       "    <tr>\n",
       "      <th>产物</th>\n",
       "      <th></th>\n",
       "      <th></th>\n",
       "      <th></th>\n",
       "      <th></th>\n",
       "      <th></th>\n",
       "      <th></th>\n",
       "    </tr>\n",
       "  </thead>\n",
       "  <tbody>\n",
       "    <tr>\n",
       "      <th>小麦</th>\n",
       "      <td>x00</td>\n",
       "      <td>x01</td>\n",
       "      <td>x02</td>\n",
       "      <td>x03</td>\n",
       "      <td>x04</td>\n",
       "      <td>x05</td>\n",
       "    </tr>\n",
       "    <tr>\n",
       "      <th>玉米</th>\n",
       "      <td>x10</td>\n",
       "      <td>x11</td>\n",
       "      <td>x12</td>\n",
       "      <td>x13</td>\n",
       "      <td>x14</td>\n",
       "      <td>x15</td>\n",
       "    </tr>\n",
       "    <tr>\n",
       "      <th>水果</th>\n",
       "      <td>x20</td>\n",
       "      <td>x21</td>\n",
       "      <td>x22</td>\n",
       "      <td>x23</td>\n",
       "      <td>x24</td>\n",
       "      <td>x25</td>\n",
       "    </tr>\n",
       "    <tr>\n",
       "      <th>蔬菜</th>\n",
       "      <td>x30</td>\n",
       "      <td>x31</td>\n",
       "      <td>x32</td>\n",
       "      <td>x33</td>\n",
       "      <td>x34</td>\n",
       "      <td>x35</td>\n",
       "    </tr>\n",
       "  </tbody>\n",
       "</table>\n",
       "</div>"
      ],
      "text/plain": [
       "地块  地块1  地块2  地块3  地块4  地块5  地块6\n",
       "产物                              \n",
       "小麦  x00  x01  x02  x03  x04  x05\n",
       "玉米  x10  x11  x12  x13  x14  x15\n",
       "水果  x20  x21  x22  x23  x24  x25\n",
       "蔬菜  x30  x31  x32  x33  x34  x35"
      ]
     },
     "execution_count": 35,
     "metadata": {},
     "output_type": "execute_result"
    }
   ],
   "source": [
    "df_solution = pd.DataFrame(variables, index=df_incomes['产物'], columns=df_area['地块'])\n",
    "df_solution"
   ]
  },
  {
   "cell_type": "code",
   "execution_count": 39,
   "metadata": {
    "ExecuteTime": {
     "end_time": "2020-11-12T15:43:12.094076Z",
     "start_time": "2020-11-12T15:43:12.086232Z"
    }
   },
   "outputs": [],
   "source": [
    "df_solution = df_solution.apply(lambda x: x.apply(lambda y: y.value()))"
   ]
  },
  {
   "cell_type": "code",
   "execution_count": 40,
   "metadata": {
    "ExecuteTime": {
     "end_time": "2020-11-12T15:43:14.660511Z",
     "start_time": "2020-11-12T15:43:14.648284Z"
    }
   },
   "outputs": [
    {
     "data": {
      "text/html": [
       "<div>\n",
       "<style scoped>\n",
       "    .dataframe tbody tr th:only-of-type {\n",
       "        vertical-align: middle;\n",
       "    }\n",
       "\n",
       "    .dataframe tbody tr th {\n",
       "        vertical-align: top;\n",
       "    }\n",
       "\n",
       "    .dataframe thead th {\n",
       "        text-align: right;\n",
       "    }\n",
       "</style>\n",
       "<table border=\"1\" class=\"dataframe\">\n",
       "  <thead>\n",
       "    <tr style=\"text-align: right;\">\n",
       "      <th>地块</th>\n",
       "      <th>地块1</th>\n",
       "      <th>地块2</th>\n",
       "      <th>地块3</th>\n",
       "      <th>地块4</th>\n",
       "      <th>地块5</th>\n",
       "      <th>地块6</th>\n",
       "    </tr>\n",
       "    <tr>\n",
       "      <th>产物</th>\n",
       "      <th></th>\n",
       "      <th></th>\n",
       "      <th></th>\n",
       "      <th></th>\n",
       "      <th></th>\n",
       "      <th></th>\n",
       "    </tr>\n",
       "  </thead>\n",
       "  <tbody>\n",
       "    <tr>\n",
       "      <th>小麦</th>\n",
       "      <td>0.0</td>\n",
       "      <td>0.0</td>\n",
       "      <td>6.0</td>\n",
       "      <td>39.0</td>\n",
       "      <td>31.0</td>\n",
       "      <td>0.0</td>\n",
       "    </tr>\n",
       "    <tr>\n",
       "      <th>玉米</th>\n",
       "      <td>0.0</td>\n",
       "      <td>0.0</td>\n",
       "      <td>0.0</td>\n",
       "      <td>0.0</td>\n",
       "      <td>29.0</td>\n",
       "      <td>59.0</td>\n",
       "    </tr>\n",
       "    <tr>\n",
       "      <th>水果</th>\n",
       "      <td>2.0</td>\n",
       "      <td>56.0</td>\n",
       "      <td>38.0</td>\n",
       "      <td>0.0</td>\n",
       "      <td>0.0</td>\n",
       "      <td>0.0</td>\n",
       "    </tr>\n",
       "    <tr>\n",
       "      <th>蔬菜</th>\n",
       "      <td>40.0</td>\n",
       "      <td>0.0</td>\n",
       "      <td>0.0</td>\n",
       "      <td>0.0</td>\n",
       "      <td>0.0</td>\n",
       "      <td>0.0</td>\n",
       "    </tr>\n",
       "  </tbody>\n",
       "</table>\n",
       "</div>"
      ],
      "text/plain": [
       "地块   地块1   地块2   地块3   地块4   地块5   地块6\n",
       "产物                                    \n",
       "小麦   0.0   0.0   6.0  39.0  31.0   0.0\n",
       "玉米   0.0   0.0   0.0   0.0  29.0  59.0\n",
       "水果   2.0  56.0  38.0   0.0   0.0   0.0\n",
       "蔬菜  40.0   0.0   0.0   0.0   0.0   0.0"
      ]
     },
     "execution_count": 40,
     "metadata": {},
     "output_type": "execute_result"
    }
   ],
   "source": [
    "df_solution"
   ]
  },
  {
   "cell_type": "code",
   "execution_count": 42,
   "metadata": {
    "ExecuteTime": {
     "end_time": "2020-11-12T15:44:06.865978Z",
     "start_time": "2020-11-12T15:44:06.856561Z"
    }
   },
   "outputs": [
    {
     "data": {
      "text/plain": [
       "(产物\n",
       " 小麦    76.0\n",
       " 玉米    88.0\n",
       " 水果    96.0\n",
       " 蔬菜    40.0\n",
       " dtype: float64,\n",
       " 地块\n",
       " 地块1    42.0\n",
       " 地块2    56.0\n",
       " 地块3    44.0\n",
       " 地块4    39.0\n",
       " 地块5    60.0\n",
       " 地块6    59.0\n",
       " dtype: float64)"
      ]
     },
     "execution_count": 42,
     "metadata": {},
     "output_type": "execute_result"
    }
   ],
   "source": [
    "df_solution.sum(1), df_solution.sum()"
   ]
  },
  {
   "cell_type": "code",
   "execution_count": 51,
   "metadata": {
    "ExecuteTime": {
     "end_time": "2020-11-12T16:00:00.813564Z",
     "start_time": "2020-11-12T16:00:00.804331Z"
    },
    "scrolled": false
   },
   "outputs": [
    {
     "data": {
      "text/plain": [
       "[x00,\n",
       " x01,\n",
       " x02,\n",
       " x03,\n",
       " x04,\n",
       " x05,\n",
       " x10,\n",
       " x11,\n",
       " x12,\n",
       " x13,\n",
       " x14,\n",
       " x15,\n",
       " x20,\n",
       " x21,\n",
       " x22,\n",
       " x23,\n",
       " x24,\n",
       " x25,\n",
       " x30,\n",
       " x31,\n",
       " x32,\n",
       " x33,\n",
       " x34,\n",
       " x35]"
      ]
     },
     "execution_count": 51,
     "metadata": {},
     "output_type": "execute_result"
    }
   ],
   "source": [
    "# 将给定的Lp问题写入.lp文件\n",
    "prob.writeLP('最大收益LP.lp')"
   ]
  },
  {
   "cell_type": "markdown",
   "metadata": {},
   "source": [
    "# 3 总结："
   ]
  },
  {
   "cell_type": "markdown",
   "metadata": {},
   "source": [
    "+ 变量可以转为数组，方便给变量设定约束条件\n",
    "+ pulp.lpDot()的v1可以是数组类型，但不支持DataFrame类型；\n",
    "+ 设定约束条件时，最后需要使用的是逻辑运算符，比如：相等需要用 == 表示，一个=会报错；\n",
    "+ LpProblem实例属性支持查看设定好的目标函数、约束条件、求解状态；\n",
    "+ for循环打印最优解的方法，觉得看着不够直观，所以尝试了将变量的数组转成DataFrame，并apply成变量的最优解，看起来更清晰。通过这次尝试，证明DataFrame是个包容性很强的容器，可以存各种类型的元素。"
   ]
  },
  {
   "cell_type": "code",
   "execution_count": null,
   "metadata": {},
   "outputs": [],
   "source": []
  }
 ],
 "metadata": {
  "kernelspec": {
   "display_name": "Python [conda env:envpy37]",
   "language": "python",
   "name": "conda-env-envpy37-py"
  },
  "language_info": {
   "codemirror_mode": {
    "name": "ipython",
    "version": 3
   },
   "file_extension": ".py",
   "mimetype": "text/x-python",
   "name": "python",
   "nbconvert_exporter": "python",
   "pygments_lexer": "ipython3",
   "version": "3.7.7"
  },
  "nbTranslate": {
   "displayLangs": [
    "*"
   ],
   "hotkey": "alt-t",
   "langInMainMenu": true,
   "sourceLang": "en",
   "targetLang": "fr",
   "useGoogleTranslate": true
  },
  "toc": {
   "base_numbering": 1,
   "nav_menu": {},
   "number_sections": false,
   "sideBar": true,
   "skip_h1_title": false,
   "title_cell": "Table of Contents",
   "title_sidebar": "Contents",
   "toc_cell": true,
   "toc_position": {
    "height": "calc(100% - 180px)",
    "left": "10px",
    "top": "150px",
    "width": "288px"
   },
   "toc_section_display": true,
   "toc_window_display": true
  },
  "varInspector": {
   "cols": {
    "lenName": 16,
    "lenType": 16,
    "lenVar": 40
   },
   "kernels_config": {
    "python": {
     "delete_cmd_postfix": "",
     "delete_cmd_prefix": "del ",
     "library": "var_list.py",
     "varRefreshCmd": "print(var_dic_list())"
    },
    "r": {
     "delete_cmd_postfix": ") ",
     "delete_cmd_prefix": "rm(",
     "library": "var_list.r",
     "varRefreshCmd": "cat(var_dic_list()) "
    }
   },
   "types_to_exclude": [
    "module",
    "function",
    "builtin_function_or_method",
    "instance",
    "_Feature"
   ],
   "window_display": false
  }
 },
 "nbformat": 4,
 "nbformat_minor": 4
}
