{
 "cells": [
  {
   "cell_type": "code",
   "execution_count": 1,
   "metadata": {},
   "outputs": [],
   "source": [
    "import math\n",
    "import random\n",
    "import operator\n",
    "import pandas as pd"
   ]
  },
  {
   "cell_type": "code",
   "execution_count": 2,
   "metadata": {},
   "outputs": [],
   "source": [
    "from collections import defaultdict"
   ]
  },
  {
   "cell_type": "code",
   "execution_count": 3,
   "metadata": {},
   "outputs": [],
   "source": [
    "import numpy as np"
   ]
  },
  {
   "cell_type": "markdown",
   "metadata": {},
   "source": [
    "Action1项目要求:    \n",
    "针对Delicious数据集，对SimpleTagBased算法进行改进（使用NormTagBased、TagBased-TFIDF算法）"
   ]
  },
  {
   "cell_type": "markdown",
   "metadata": {},
   "source": [
    "# 1 加载数据集"
   ]
  },
  {
   "cell_type": "code",
   "execution_count": 4,
   "metadata": {},
   "outputs": [],
   "source": [
    "df = pd.read_csv('./data/user_taggedbookmarks-timestamps.dat', sep='\\t')"
   ]
  },
  {
   "cell_type": "markdown",
   "metadata": {},
   "source": [
    "## 1.1 认识数据集\n",
    "---\n",
    "用户user对bookmark书签进行打标签tag的数据集。    \n",
    "\n",
    "网站的tag可以理解为分类；     \n",
    "\n",
    "用户的tag可以理解为兴趣；"
   ]
  },
  {
   "cell_type": "code",
   "execution_count": 5,
   "metadata": {
    "scrolled": false
   },
   "outputs": [
    {
     "data": {
      "text/html": [
       "<div>\n",
       "<style scoped>\n",
       "    .dataframe tbody tr th:only-of-type {\n",
       "        vertical-align: middle;\n",
       "    }\n",
       "\n",
       "    .dataframe tbody tr th {\n",
       "        vertical-align: top;\n",
       "    }\n",
       "\n",
       "    .dataframe thead th {\n",
       "        text-align: right;\n",
       "    }\n",
       "</style>\n",
       "<table border=\"1\" class=\"dataframe\">\n",
       "  <thead>\n",
       "    <tr style=\"text-align: right;\">\n",
       "      <th></th>\n",
       "      <th>userID</th>\n",
       "      <th>bookmarkID</th>\n",
       "      <th>tagID</th>\n",
       "      <th>timestamp</th>\n",
       "    </tr>\n",
       "  </thead>\n",
       "  <tbody>\n",
       "    <tr>\n",
       "      <th>0</th>\n",
       "      <td>8</td>\n",
       "      <td>1</td>\n",
       "      <td>1</td>\n",
       "      <td>1289255362000</td>\n",
       "    </tr>\n",
       "    <tr>\n",
       "      <th>1</th>\n",
       "      <td>8</td>\n",
       "      <td>2</td>\n",
       "      <td>1</td>\n",
       "      <td>1289255159000</td>\n",
       "    </tr>\n",
       "  </tbody>\n",
       "</table>\n",
       "</div>"
      ],
      "text/plain": [
       "   userID  bookmarkID  tagID      timestamp\n",
       "0       8           1      1  1289255362000\n",
       "1       8           2      1  1289255159000"
      ]
     },
     "execution_count": 5,
     "metadata": {},
     "output_type": "execute_result"
    }
   ],
   "source": [
    "df.head(2)"
   ]
  },
  {
   "cell_type": "code",
   "execution_count": 6,
   "metadata": {},
   "outputs": [
    {
     "data": {
      "text/plain": [
       "(437593, 4)"
      ]
     },
     "execution_count": 6,
     "metadata": {},
     "output_type": "execute_result"
    }
   ],
   "source": [
    "# 一共437593个数据，具有4个特征\n",
    "df.shape"
   ]
  },
  {
   "cell_type": "code",
   "execution_count": 7,
   "metadata": {},
   "outputs": [
    {
     "data": {
      "text/plain": [
       "userID        False\n",
       "bookmarkID    False\n",
       "tagID         False\n",
       "timestamp     False\n",
       "dtype: bool"
      ]
     },
     "execution_count": 7,
     "metadata": {},
     "output_type": "execute_result"
    }
   ],
   "source": [
    "df.isnull().any()  # 检查每一列是否有空值"
   ]
  },
  {
   "cell_type": "code",
   "execution_count": 8,
   "metadata": {},
   "outputs": [
    {
     "data": {
      "text/plain": [
       "(1867,)"
      ]
     },
     "execution_count": 8,
     "metadata": {},
     "output_type": "execute_result"
    }
   ],
   "source": [
    "# 一共有1867个用户\n",
    "df['userID'].unique().shape"
   ]
  },
  {
   "cell_type": "code",
   "execution_count": 9,
   "metadata": {},
   "outputs": [
    {
     "data": {
      "text/plain": [
       "(40897,)"
      ]
     },
     "execution_count": 9,
     "metadata": {},
     "output_type": "execute_result"
    }
   ],
   "source": [
    "# 去重后一共有40897个标签\n",
    "df['tagID'].unique().shape"
   ]
  },
  {
   "cell_type": "code",
   "execution_count": 10,
   "metadata": {
    "scrolled": true
   },
   "outputs": [
    {
     "data": {
      "text/plain": [
       "(69223,)"
      ]
     },
     "execution_count": 10,
     "metadata": {},
     "output_type": "execute_result"
    }
   ],
   "source": [
    "# 去重后一共有69223个书签\n",
    "df['bookmarkID'].unique().shape"
   ]
  },
  {
   "cell_type": "markdown",
   "metadata": {},
   "source": [
    "## 1.2构建`{userID:{bookmarkID:[tagIDs]}}`映射关系"
   ]
  },
  {
   "cell_type": "code",
   "execution_count": 11,
   "metadata": {},
   "outputs": [],
   "source": [
    "# 字典类型，保存user对item的tag，即:{userid: {item1:[tag1, tag2], ...}}\n",
    "records = {}\n",
    "\n",
    "# 训练集，测试集\n",
    "train_data = dict()\n",
    "test_data = dict()\n",
    "\n",
    "# {用户u:{标签t:用户u使用过标签t的次数}}\n",
    "user_tags = dict()\n",
    "\n",
    "# {标签t:{商品i:标签t打在商品i上的次数}}\n",
    "tag_items = dict()\n",
    "\n",
    "# {用户u:{商品i:用户u使用商品i的次数}}\n",
    "user_items = dict()\n",
    "\n",
    "# {标签t: {用户u: 标签t被用户u使用的次数}}\n",
    "tag_users = {}\n",
    "\n",
    "# {商品i: {用户u: 商品i被用户u打过标签的次数}}\n",
    "item_users = {}\n",
    "\n",
    "# {商品i: {标签t: 商品i被打过标签t的次数}}\n",
    "item_tags = {}"
   ]
  },
  {
   "cell_type": "markdown",
   "metadata": {},
   "source": [
    "`dict.setdefault(key, default=None)`\n",
    "如果键不存在于字典中，将会添加键并将值设为默认值。"
   ]
  },
  {
   "cell_type": "code",
   "execution_count": 12,
   "metadata": {},
   "outputs": [
    {
     "name": "stdout",
     "output_type": "stream",
     "text": [
      "数据集大小为 437593.\n",
      "设置tag的人数 1867.\n",
      "CPU times: user 19.3 s, sys: 52 ms, total: 19.3 s\n",
      "Wall time: 19.3 s\n"
     ]
    }
   ],
   "source": [
    "%%time\n",
    "for i in range(df.shape[0]):\n",
    "    uid = df['userID'][i]\n",
    "    iid = df['bookmarkID'][i]\n",
    "    tag = df['tagID'][i]\n",
    "    # 键不存在时，新增键，且设置value为{}\n",
    "    records.setdefault(uid,{})\n",
    "    records[uid].setdefault(iid,[])\n",
    "    records[uid][iid].append(tag)\n",
    "    \n",
    "print(\"数据集大小为 %d.\" % (len(df)))\n",
    "print(\"设置tag的人数 %d.\" % (len(records)))"
   ]
  },
  {
   "cell_type": "code",
   "execution_count": 13,
   "metadata": {},
   "outputs": [
    {
     "data": {
      "text/plain": [
       "[45, 88, 89, 90, 91, 92, 93]"
      ]
     },
     "execution_count": 13,
     "metadata": {},
     "output_type": "execute_result"
    }
   ],
   "source": [
    "# userID=8的这个用户,给书签79所打的标签\n",
    "records[8][79]"
   ]
  },
  {
   "cell_type": "markdown",
   "metadata": {},
   "source": [
    "# 2 拆分数据集\n",
    "每个用户内的书签中取一部分作为测试集"
   ]
  },
  {
   "cell_type": "markdown",
   "metadata": {},
   "source": [
    "python中的元素有可变和不可变之分，如整数、浮点数、字符串、元组等都属于不可变的，而字典和列表属于可变的。     \n",
    "\n",
    "字典和列表的可变指的是它们自身可以增加和删除元素，或者修改元素的值。    \n",
    "\n",
    "在函数调用时，若提供的是不可变对象，那么在函数内部对其修改时，不会影响函数外部的值，但若提供的是可变对象，则在函数内部对它修改时，在函数外部的值也会被改变。    \n",
    "\n",
    "因此下面`test_data`和`train_data`虽然未给函数传参，但仍然会修改函数外部的`test_data`和`train_data`。"
   ]
  },
  {
   "cell_type": "code",
   "execution_count": 14,
   "metadata": {},
   "outputs": [],
   "source": [
    "# 将数据集拆分为训练集和测试集\n",
    "def train_test_split(ratio, seed=100):\n",
    "    random.seed(seed)\n",
    "    m, n = 0, 0\n",
    "    # u 是每个用户id\n",
    "    for u in records.keys():\n",
    "    \t# i 是每个用户收藏的书签ID\n",
    "        for i in records[u].keys():\n",
    "            # ratio比例设置为测试集\n",
    "            if random.random() < ratio:\n",
    "                test_data.setdefault(u, {})\n",
    "                test_data[u].setdefault(i, [])\n",
    "                # t 是每个书签被打的标签id\n",
    "                for t in records[u][i]:\n",
    "                    test_data[u][i].append(t)\n",
    "                    n += 1\n",
    "            else:\n",
    "                train_data.setdefault(u, {})\n",
    "                train_data[u].setdefault(i, [])\n",
    "                for t in records[u][i]:\n",
    "                    train_data[u][i].append(t)  \n",
    "                    m += 1      \n",
    "    print(\"训练集样本数 %d, 测试集样本数 %d\" % (len(train_data), len(test_data)))\n",
    "    print(\"测试集总标签数:%d\" % n)\n",
    "    print(\"训练集总标签数:%d\" % m)\n",
    "    print(\"测试集总标签数占总样本的{:.2f}%\".format(n / (m + n) * 100))"
   ]
  },
  {
   "cell_type": "code",
   "execution_count": 15,
   "metadata": {},
   "outputs": [
    {
     "name": "stdout",
     "output_type": "stream",
     "text": [
      "训练集样本数 1860, 测试集样本数 1793\n",
      "测试集总标签数:86772\n",
      "训练集总标签数:350821\n",
      "测试集总标签数占总样本的19.83%\n",
      "CPU times: user 242 ms, sys: 17 ms, total: 259 ms\n",
      "Wall time: 258 ms\n"
     ]
    }
   ],
   "source": [
    "%%time\n",
    "train_test_split(ratio=0.2)"
   ]
  },
  {
   "cell_type": "markdown",
   "metadata": {},
   "source": [
    "当设置ratio=0.2时，最终拆分到的测试集标签数占总标签数的19.83%；当ratio=0.3时，拆分到的测试集占比也刚好趋近于30%。     \n",
    "其中的原理是蒙特卡洛模拟，当重复的次数越多，小于0.2的随机产生的数所占比例就越趋近于0.2，因为条件是`random.random()<ratio`, 因此测试集大小趋近于0.2，但不等于0.2。"
   ]
  },
  {
   "cell_type": "code",
   "execution_count": 16,
   "metadata": {},
   "outputs": [
    {
     "data": {
      "text/plain": [
       "(1860, 1793)"
      ]
     },
     "execution_count": 16,
     "metadata": {},
     "output_type": "execute_result"
    }
   ],
   "source": [
    "# 与函数内打印的结果一致\n",
    "# 说明函数内部在调用函数外的字典的同时，对它的修改也会在函数外生效，因为字典是不可变容器\n",
    "len(train_data), len(test_data)"
   ]
  },
  {
   "cell_type": "markdown",
   "metadata": {},
   "source": [
    "# 3 构建用户与标签、标签与商品、用户与商品的映射关系\n",
    "即：初始化user_tags, tag_items, user_items、tag_users、item_users字典"
   ]
  },
  {
   "cell_type": "code",
   "execution_count": 17,
   "metadata": {},
   "outputs": [],
   "source": [
    "# 设置字典 mat{index: {item: 1}\n",
    "def addValueToMat(mat, index, item, value=1):\n",
    "    # 假如index在mat字典中不存在，则新建该键\n",
    "    if index not in mat:\n",
    "        mat.setdefault(index,{})\n",
    "        mat[index].setdefault(item, value)\n",
    "    else:\n",
    "        if item not in mat[index]:\n",
    "            mat[index][item] = value\n",
    "        else:\n",
    "            mat[index][item] += value\n",
    "\n",
    "\n",
    "# 使用训练集，初始化user_tags, tag_items, user_items\n",
    "def initStat():\n",
    "    records=train_data\n",
    "    # u是用户id, items是书签id的字典\n",
    "    for u, items in records.items():\n",
    "    \t# i是书签id，tags是标签的列表\n",
    "        for i, tags in items.items():\n",
    "        \t# tag是标签id\n",
    "            for tag in tags:\n",
    "                # 用户和tag的关系\n",
    "                addValueToMat(user_tags, u, tag, 1)\n",
    "                # tag和item的关系\n",
    "                addValueToMat(tag_items, tag, i, 1)\n",
    "                # 用户和item的关系\n",
    "                addValueToMat(user_items, u, i, 1)\n",
    "                # tag和用户的关系\n",
    "                addValueToMat(tag_users, tag, u, 1)\n",
    "                # item和用户的关系\n",
    "                addValueToMat(item_users, i, u, 1)\n",
    "                # item和tag关系\n",
    "                addValueToMat(item_tags, i, tag, 1)\n",
    "    print(\"user_tags, tag_items, user_items初始化完成.\")\n",
    "    print(\"len(user_tags): %d, len(tag_items): %d, len(user_items): %d\" % \\\n",
    "          (len(user_tags), len(tag_items), len(user_items)))\n",
    "    print(\"len(tag_users):\", len(tag_users))\n",
    "    print(\"len(item_users)\", len(item_users))"
   ]
  },
  {
   "cell_type": "code",
   "execution_count": 18,
   "metadata": {},
   "outputs": [
    {
     "name": "stdout",
     "output_type": "stream",
     "text": [
      "user_tags, tag_items, user_items初始化完成.\n",
      "len(user_tags): 1860, len(tag_items): 36884, len(user_items): 1860\n",
      "len(tag_users): 36884\n",
      "len(item_users) 59555\n",
      "CPU times: user 1.25 s, sys: 66 ms, total: 1.31 s\n",
      "Wall time: 1.31 s\n"
     ]
    }
   ],
   "source": [
    "%%time \n",
    "initStat()"
   ]
  },
  {
   "cell_type": "markdown",
   "metadata": {},
   "source": [
    "# 4对指定userID推荐Top-N"
   ]
  },
  {
   "cell_type": "markdown",
   "metadata": {},
   "source": [
    "## 4.1 SimpleTagBased算法"
   ]
  },
  {
   "cell_type": "markdown",
   "metadata": {},
   "source": [
    "用户u对商品i的兴趣：\n",
    "$$score(u, i) = \\sum_{t}user\\_tags[u, t] * tag\\_items[t, i]$$\n",
    "- 其中：\n",
    "    - $user\\_tags[u, t]$ 表示用户u使用过标签t的次数；    \n",
    "    - $tag\\_items[t, i]$ 表示商品i被打过标签t的次数；"
   ]
  },
  {
   "cell_type": "markdown",
   "metadata": {},
   "source": [
    "对Item进行打分，分数为所有的（用户对某标签使用的次数 wut, 乘以 商品被打上相同标签的次数 wti）之和：$\\sum(wut * wti)$"
   ]
  },
  {
   "cell_type": "markdown",
   "metadata": {},
   "source": [
    "### 4.1.1 定义算法函数"
   ]
  },
  {
   "cell_type": "code",
   "execution_count": 19,
   "metadata": {},
   "outputs": [],
   "source": [
    "# 对用户user推荐Top-N\n",
    "def recommend(user, N):\n",
    "    # {item: score}\n",
    "    recommend_items = dict()\n",
    "    # tagged_items的同一个userid下的字典，键是书签id，值是用户给该书签打的标签数量\n",
    "    tagged_items = user_items[user] \n",
    "    # tag 是标签id，wut是用户对某标签使用的次数\n",
    "    for tag, wut in user_tags[user].items():\n",
    "        # item是商品 即：书签id，wti是该商品i被打上t标签的次数 \n",
    "        for item, wti in tag_items[tag].items():\n",
    "            if item in tagged_items:\n",
    "                continue\n",
    "            if item not in recommend_items:\n",
    "                #  用户u对商品i的兴趣\n",
    "                recommend_items[item] = wut * wti\n",
    "            else:\n",
    "                recommend_items[item] += wut * wti\n",
    "    return sorted(recommend_items.items(), \n",
    "                  key = operator.itemgetter(1), # 等价于lambda x:x[1]\n",
    "                  reverse=True)[0:N]  # 返回top-N个商品和用户对它的兴趣分 "
   ]
  },
  {
   "cell_type": "code",
   "execution_count": 20,
   "metadata": {},
   "outputs": [
    {
     "name": "stdout",
     "output_type": "stream",
     "text": [
      "CPU times: user 11.2 ms, sys: 2.01 ms, total: 13.2 ms\n",
      "Wall time: 13 ms\n"
     ]
    },
    {
     "data": {
      "text/plain": [
       "[(1416, 61), (1526, 50), (4535, 47)]"
      ]
     },
     "execution_count": 20,
     "metadata": {},
     "output_type": "execute_result"
    }
   ],
   "source": [
    "%%time\n",
    "user = 8\n",
    "N = 3\n",
    "# 为用户id 8 推荐他可能感兴趣的top3商品(书签id:兴趣分)\n",
    "recommend(user, N)"
   ]
  },
  {
   "cell_type": "markdown",
   "metadata": {},
   "source": [
    "### 4.1.2 评估SimpleTagBased算法"
   ]
  },
  {
   "cell_type": "markdown",
   "metadata": {},
   "source": [
    "对于用户u，令R(u)为给用户u的长度为N的推荐列表，里面包含我们认为用户会打标签的物品。令T(u)是测试集中用户u实际上打过标签的物品集合。     \n",
    "\n",
    "然后，我们利用准确率( precision)和召回率( recall)评测个性化推荐算法的精度。"
   ]
  },
  {
   "cell_type": "markdown",
   "metadata": {},
   "source": [
    "- 精确率：表示推荐给用户的物品中，用户确实打过标签的物品占比；    \n",
    "\n",
    "$$Precision = \\frac{|R(u)\\bigcap T(u)|}{|R(u)|}$$      "
   ]
  },
  {
   "cell_type": "markdown",
   "metadata": {},
   "source": [
    "- 召回率：表示在用户实际打过标签的所有物品中，被推荐给用户的物品占比；    \n",
    "\n",
    "$$Recall = \\frac{|R(u)\\bigcap T(u)|}{|T(u)|}$$"
   ]
  },
  {
   "cell_type": "code",
   "execution_count": 21,
   "metadata": {},
   "outputs": [],
   "source": [
    "# 使用测试集，计算精确率和召回率\n",
    "def precisionAndRecall(N):\n",
    "    hit = 0\n",
    "    h_recall = 0\n",
    "    h_precision = 0\n",
    "    # user用户，items是字典{书签ids: tag列表}\n",
    "    for user, items in test_data.items():\n",
    "        if user not in train_data:\n",
    "            continue\n",
    "        # 获取Top-N推荐列表\n",
    "        rank = recommend(user, N)\n",
    "        # item商品(书签ID)，rui是兴趣分\n",
    "        for item, rui in rank:\n",
    "            # 如果推荐的商品在该用户的书签字典中，说明推荐对了，则hit+1\n",
    "            if item in items:\n",
    "                hit = hit + 1\n",
    "        # len(items) 实际打过标签的物品数\n",
    "        h_recall += len(items)\n",
    "        h_precision += N\n",
    "    # 返回精确率 和 召回率\n",
    "    prec = hit / (h_precision * 1.0)\n",
    "    rec = hit / (h_recall * 1.0)\n",
    "    return prec, rec\n",
    "\n",
    "\n",
    "# 使用测试集，对推荐结果进行评估\n",
    "def testRecommend():\n",
    "    print(\"推荐结果评估\")\n",
    "    # %4s 其中s前的4表示占位4个字符\n",
    "    print(\"%3s %10s %10s\" % ('N',\"精确率\",'召回率'))\n",
    "    for n in [5, 10, 20, 40, 60, 80, 100]:\n",
    "        precision, recall = precisionAndRecall(n)\n",
    "        print(\"%3d  %10.3f%%  %10.3f%%\" % (n, precision * 100, recall * 100))"
   ]
  },
  {
   "cell_type": "code",
   "execution_count": 22,
   "metadata": {},
   "outputs": [
    {
     "name": "stdout",
     "output_type": "stream",
     "text": [
      "SimpleTagBased算法:\n",
      "推荐结果评估\n",
      "  N        精确率        召回率\n",
      "  5       0.829%       0.355%\n",
      " 10       0.633%       0.542%\n",
      " 20       0.512%       0.877%\n",
      " 40       0.381%       1.304%\n",
      " 60       0.318%       1.635%\n",
      " 80       0.276%       1.893%\n",
      "100       0.248%       2.124%\n",
      "CPU times: user 3min 5s, sys: 1.87 s, total: 3min 7s\n",
      "Wall time: 3min 7s\n"
     ]
    }
   ],
   "source": [
    "%%time\n",
    "print(\"SimpleTagBased算法:\")\n",
    "testRecommend()"
   ]
  },
  {
   "cell_type": "markdown",
   "metadata": {},
   "source": [
    "## 4.2 NormTagBased-2算法推荐\n",
    "对score进行归一化"
   ]
  },
  {
   "cell_type": "markdown",
   "metadata": {},
   "source": [
    "用户u对商品i的兴趣：\n",
    "$$score(u, i) = \\sum_{t}\\frac{user\\_tags[u, t]}{user\\_tags[u]} * \\frac{tag\\_items[t, i]}{tag\\_items[t]}$$\n",
    "- 其中：\n",
    "    - $user\\_tags[u, t]$ 表示用户u使用过标签t的次数；    \n",
    "    - $tag\\_items[t, i]$ 表示商品i被打过标签t的次数；\n",
    "    - $user\\_tags[u]$ 表示用户u打过多少个标签；\n",
    "    - $tag\\_items[t]$ 表示被打过标签t的商品一共多少个。"
   ]
  },
  {
   "cell_type": "markdown",
   "metadata": {},
   "source": [
    "### 4.2.1 定义算法函数"
   ]
  },
  {
   "cell_type": "code",
   "execution_count": 23,
   "metadata": {},
   "outputs": [],
   "source": [
    "def recommend_by_norm_2(user, N):\n",
    "    # 先找到用户打过标签的商品{item:[tag...]}\n",
    "    tagged_items = user_items[user]\n",
    "    # 创建推荐字典，存储推荐商品和兴趣分\n",
    "    recommend_items = defaultdict(int)\n",
    "    # 用户u用过的标签t, 以及他使用标签t的次数wut\n",
    "    for t, wut in user_tags[user].items():\n",
    "        # 被打过标签t的商品i，以及商品i被打上标签t的次数wti\n",
    "        for i, wti in tag_items[t].items():\n",
    "            # 目的是推荐用户没打过标签的，但又符合他兴趣的商品\n",
    "            # 因此遇到用户已打过标签的商品就跳过\n",
    "            if i in tagged_items:\n",
    "                continue\n",
    "            recommend_items[i] += (wut / len(user_tags[user])) * (wti / len(tag_items[t]))\n",
    "    return sorted(recommend_items.items(), \n",
    "                 key=operator.itemgetter(1),\n",
    "                 reverse=True)[0:N]"
   ]
  },
  {
   "cell_type": "code",
   "execution_count": 24,
   "metadata": {},
   "outputs": [
    {
     "name": "stdout",
     "output_type": "stream",
     "text": [
      "CPU times: user 21 ms, sys: 2 ms, total: 23 ms\n",
      "Wall time: 22.5 ms\n"
     ]
    },
    {
     "data": {
      "text/plain": [
       "[(15, 0.007202754900925632),\n",
       " (23702, 0.006280946268109297),\n",
       " (66188, 0.00627448884327588)]"
      ]
     },
     "execution_count": 24,
     "metadata": {},
     "output_type": "execute_result"
    }
   ],
   "source": [
    "%%time\n",
    "recommend_by_norm_2(8, 3)"
   ]
  },
  {
   "cell_type": "markdown",
   "metadata": {},
   "source": [
    "### 4.2.2 评估NormTagBased-2算法"
   ]
  },
  {
   "cell_type": "code",
   "execution_count": 25,
   "metadata": {},
   "outputs": [],
   "source": [
    "# 使用测试集，计算精确率和召回率\n",
    "def precisionAndRecall(N):\n",
    "    hit = 0\n",
    "    h_recall = 0\n",
    "    h_precision = 0\n",
    "    # user用户，items是字典{书签ids: tag列表}\n",
    "    for user, items in test_data.items():\n",
    "        if user not in train_data:\n",
    "            continue\n",
    "        # 获取Top-N推荐列表\n",
    "        rank = recommend_by_norm_2(user, N)\n",
    "        # item商品(书签ID)，rui是兴趣分\n",
    "        for item, rui in rank:\n",
    "            # 如果推荐的商品在该用户的书签字典中，说明推荐对了，则hit+1\n",
    "            if item in items:\n",
    "                hit = hit + 1\n",
    "        # len(items) 实际打过标签的物品数\n",
    "        h_recall += len(items)\n",
    "        h_precision += N\n",
    "    # 返回精确率 和 召回率\n",
    "    prec = hit / (h_precision * 1.0)\n",
    "    rec = hit / (h_recall * 1.0)\n",
    "    return prec, rec"
   ]
  },
  {
   "cell_type": "code",
   "execution_count": 26,
   "metadata": {
    "scrolled": false
   },
   "outputs": [
    {
     "name": "stdout",
     "output_type": "stream",
     "text": [
      "NormTagBased-2算法:\n",
      "推荐结果评估\n",
      "  N        精确率        召回率\n",
      "  5       0.806%       0.345%\n",
      " 10       0.577%       0.494%\n",
      " 20       0.428%       0.733%\n",
      " 40       0.300%       1.026%\n",
      " 60       0.259%       1.333%\n",
      " 80       0.237%       1.620%\n",
      "100       0.222%       1.903%\n",
      "CPU times: user 6min 5s, sys: 1.41 s, total: 6min 6s\n",
      "Wall time: 6min 6s\n"
     ]
    }
   ],
   "source": [
    "%%time\n",
    "print(\"NormTagBased-2算法:\")\n",
    "testRecommend()"
   ]
  },
  {
   "cell_type": "markdown",
   "metadata": {},
   "source": [
    "## 4.3 NormTagBased-1算法推荐"
   ]
  },
  {
   "cell_type": "markdown",
   "metadata": {},
   "source": [
    "用户u对商品i的兴趣：\n",
    "$$score(u, i) = \\sum_{t}\\frac{user\\_tags[u, t]}{user\\_tags[u]} * \\frac{tag\\_items[t, i]}{tag\\_users[t]}$$\n",
    "- 其中：\n",
    "    - $user\\_tags[u, t]$ 表示用户u使用过标签t的次数；    \n",
    "    - $tag\\_items[t, i]$ 表示商品i被打过标签t的次数；\n",
    "    - $user\\_tags[u]$ 表示用户u打过多少个标签；\n",
    "    - $tag\\_users[t]$ 表示打过标签t的用户数。"
   ]
  },
  {
   "cell_type": "markdown",
   "metadata": {},
   "source": [
    "### 4.3.1 自定义推荐函数"
   ]
  },
  {
   "cell_type": "code",
   "execution_count": 27,
   "metadata": {},
   "outputs": [],
   "source": [
    "def recommend_by_norm_1(user, N):\n",
    "    # 先找到用户打过标签的商品{item:[tag...]}\n",
    "    tagged_items = user_items[user]\n",
    "    # 创建推荐字典，存储推荐商品和兴趣分\n",
    "    recommend_items = defaultdict(int)\n",
    "    # 用户u用过的标签t, 以及他使用标签t的次数wut\n",
    "    for t, wut in user_tags[user].items():\n",
    "        # 被打过标签t的商品i，以及商品i被打上标签t的次数wti\n",
    "        for i, wti in tag_items[t].items():\n",
    "            # 目的是推荐用户没打过标签的，但又符合他兴趣的商品\n",
    "            # 因此遇到用户已打过标签的商品就跳过\n",
    "            if i in tagged_items:\n",
    "                continue\n",
    "            recommend_items[i] += (wut / len(user_tags[user])) * (wti / len(tag_users[t]))\n",
    "    return sorted(recommend_items.items(), \n",
    "                 key=operator.itemgetter(1),\n",
    "                 reverse=True)[0:N]"
   ]
  },
  {
   "cell_type": "code",
   "execution_count": 28,
   "metadata": {
    "scrolled": true
   },
   "outputs": [
    {
     "name": "stdout",
     "output_type": "stream",
     "text": [
      "CPU times: user 25.7 ms, sys: 998 µs, total: 26.7 ms\n",
      "Wall time: 26.1 ms\n"
     ]
    },
    {
     "data": {
      "text/plain": [
       "[(23702, 0.010806443468161389),\n",
       " (66188, 0.010794779741906341),\n",
       " (28750, 0.010478474479903197)]"
      ]
     },
     "execution_count": 28,
     "metadata": {},
     "output_type": "execute_result"
    }
   ],
   "source": [
    "%%time\n",
    "recommend_by_norm_1(8, 3)"
   ]
  },
  {
   "cell_type": "markdown",
   "metadata": {},
   "source": [
    "### 4.3.2 评估NormTagBased-1算法"
   ]
  },
  {
   "cell_type": "code",
   "execution_count": 29,
   "metadata": {},
   "outputs": [],
   "source": [
    "# 使用测试集，计算精确率和召回率\n",
    "def precisionAndRecall(N):\n",
    "    hit = 0\n",
    "    h_recall = 0\n",
    "    h_precision = 0\n",
    "    # user用户，items是字典{书签ids: tag列表}\n",
    "    for user, items in test_data.items():\n",
    "        if user not in train_data:\n",
    "            continue\n",
    "        # 获取Top-N推荐列表\n",
    "        rank = recommend_by_norm_1(user, N)\n",
    "        # item商品(书签ID)，rui是兴趣分\n",
    "        for item, rui in rank:\n",
    "            # 如果推荐的商品在该用户的书签字典中，说明推荐对了，则hit+1\n",
    "            if item in items:\n",
    "                hit = hit + 1\n",
    "        # len(items) 实际打过标签的物品数\n",
    "        h_recall += len(items)\n",
    "        h_precision += N\n",
    "    # 返回精确率 和 召回率\n",
    "    prec = hit / (h_precision * 1.0)\n",
    "    rec = hit / (h_recall * 1.0)\n",
    "    return prec, rec"
   ]
  },
  {
   "cell_type": "code",
   "execution_count": 30,
   "metadata": {},
   "outputs": [
    {
     "name": "stdout",
     "output_type": "stream",
     "text": [
      "NormTagBased-1\n",
      "推荐结果评估\n",
      "  N        精确率        召回率\n",
      "  5       0.907%       0.388%\n",
      " 10       0.638%       0.546%\n",
      " 20       0.507%       0.868%\n",
      " 40       0.356%       1.218%\n",
      " 60       0.287%       1.476%\n",
      " 80       0.255%       1.750%\n",
      "100       0.241%       2.061%\n",
      "CPU times: user 6min 5s, sys: 1.45 s, total: 6min 6s\n",
      "Wall time: 6min 6s\n"
     ]
    }
   ],
   "source": [
    "%%time \n",
    "print(\"NormTagBased-1\")\n",
    "testRecommend()"
   ]
  },
  {
   "cell_type": "markdown",
   "metadata": {},
   "source": [
    "## 4.4 TagBased-TFIDF算法推荐"
   ]
  },
  {
   "cell_type": "markdown",
   "metadata": {},
   "source": [
    "用户u对商品i的兴趣：\n",
    "$$score(u, i) = \\sum_{t}\\frac{user\\_tags[u, t]}{log(1 + tag\\_users[t])} * tag\\_items[t, i]$$\n",
    "- 其中：\n",
    "    - $user\\_tags[u, t]$ 表示用户u使用过标签t的次数；    \n",
    "    - $tag\\_items[t, i]$ 表示商品i被打过标签t的次数；\n",
    "    - $tag\\_users[t]$ 表示标签t被多少个不同的用户使用。"
   ]
  },
  {
   "cell_type": "markdown",
   "metadata": {},
   "source": [
    "### 4.4.1 自定义算法函数"
   ]
  },
  {
   "cell_type": "code",
   "execution_count": 31,
   "metadata": {},
   "outputs": [],
   "source": [
    "def recommend_by_tfidf(user, N):\n",
    "    tagged_items = user_items[user]\n",
    "    recommend_items = defaultdict(int)\n",
    "    for t, wut in user_tags[user].items():\n",
    "        for i, wti in tag_items[t].items():\n",
    "            if i in tagged_items:\n",
    "                continue\n",
    "            recommend_items[i] += (wut / np.log10(1 + len(tag_users[t]))) * wti\n",
    "    return sorted(recommend_items.items(),\n",
    "                 key=operator.itemgetter(1),\n",
    "                 reverse=True)[:N]"
   ]
  },
  {
   "cell_type": "code",
   "execution_count": 32,
   "metadata": {
    "scrolled": true
   },
   "outputs": [
    {
     "name": "stdout",
     "output_type": "stream",
     "text": [
      "CPU times: user 59.5 ms, sys: 998 µs, total: 60.5 ms\n",
      "Wall time: 59.8 ms\n"
     ]
    },
    {
     "data": {
      "text/plain": [
       "[(1416, 28.267212282223298),\n",
       " (1526, 24.603389865469154),\n",
       " (4639, 22.533636146753715)]"
      ]
     },
     "execution_count": 32,
     "metadata": {},
     "output_type": "execute_result"
    }
   ],
   "source": [
    "%%time\n",
    "recommend_by_tfidf(8, 3) "
   ]
  },
  {
   "cell_type": "markdown",
   "metadata": {},
   "source": [
    "### 4.4.2 评估TagBased-TFIDF算法"
   ]
  },
  {
   "cell_type": "code",
   "execution_count": 33,
   "metadata": {},
   "outputs": [],
   "source": [
    "# 使用测试集，计算精确率和召回率\n",
    "def precisionAndRecall(N):\n",
    "    hit = 0\n",
    "    h_recall = 0\n",
    "    h_precision = 0\n",
    "    # user用户，items是字典{书签ids: tag列表}\n",
    "    for user, items in test_data.items():\n",
    "        if user not in train_data:\n",
    "            continue\n",
    "        # 获取Top-N推荐列表\n",
    "        rank = recommend_by_tfidf(user, N)\n",
    "        # item商品(书签ID)，rui是兴趣分\n",
    "        for item, rui in rank:\n",
    "            # 如果推荐的商品在该用户的书签字典中，说明推荐对了，则hit+1\n",
    "            if item in items:\n",
    "                hit = hit + 1\n",
    "        # len(items) 实际打过标签的物品数\n",
    "        h_recall += len(items)\n",
    "        h_precision += N\n",
    "    # 返回精确率 和 召回率\n",
    "    prec = hit / (h_precision * 1.0)\n",
    "    rec = hit / (h_recall * 1.0)\n",
    "    return prec, rec"
   ]
  },
  {
   "cell_type": "code",
   "execution_count": 34,
   "metadata": {},
   "outputs": [
    {
     "name": "stdout",
     "output_type": "stream",
     "text": [
      "TagBased-TFIDF算法:\n",
      "推荐结果评估\n",
      "  N        精确率        召回率\n",
      "  5       1.008%       0.431%\n",
      " 10       0.761%       0.652%\n",
      " 20       0.549%       0.940%\n",
      " 40       0.402%       1.376%\n",
      " 60       0.328%       1.687%\n",
      " 80       0.297%       2.033%\n",
      "100       0.269%       2.306%\n",
      "CPU times: user 19min 44s, sys: 2.13 s, total: 19min 47s\n",
      "Wall time: 19min 47s\n"
     ]
    }
   ],
   "source": [
    "%%time\n",
    "print(\"TagBased-TFIDF算法:\")\n",
    "testRecommend()"
   ]
  },
  {
   "cell_type": "markdown",
   "metadata": {},
   "source": [
    "# 5 总结："
   ]
  },
  {
   "cell_type": "markdown",
   "metadata": {},
   "source": [
    "1. SimpleTagBased算法：\n",
    "    - 用户对某个商品i的兴趣分score(u,i)是通过计算”用户u打标签t的次数“ 以及 ”商品i被打标签t的次数“ 之积 的和而得，需要对商品上的所有标签均计算乘积后，再求和； \n",
    "    - 该算法耗时较短，仅3min 7s。\n",
    "2. NormTagBased-1 和 NormTagBased-2算法：\n",
    "    - 两个算法是SimpleTagBased算法的归一化，两者分子都是SimpleTagBased算法的score(u,i)，不同的是它们的分母；\n",
    "    - NormTagBased-1 的分母是 ”用户u打过多少个标签“ 以及 ”打过标签t的用户数“ 之积；\n",
    "    - NormTagBased-2 的分母是 ”用户u打过多少个标签“ 以及 ”被打过标签t的商品数“ 之积；\n",
    "    - NormTagBased-1 耗时: 6min 6s； NormTagBased-2耗时：6min 6s；两个算法的耗时相同；\n",
    "    - NormTagBased-1 在该数据集上的精确率和召回率比 NormTagBased-2 都略高。\n",
    "3. TagBased-TFIDF算法：\n",
    "    - 借鉴TF-IDF的思想，分子仍是SimpleTagBased算法的score(u,i)，分母是 ”标签t被多少个用户使用“的对数，即：词频-逆向文档概率IDF；\n",
    "    - 耗时很长，需要19min 47s。\n",
    "4. 3种算法的对比：\n",
    "    - SimpleTagBased算法不愧是simple算法，耗时很短，精确率和召回率与NormTagBased的差距不大，但时间却短了一半；\n",
    "    - TagBased-TFIDF耗时虽然最长，但精确率和召回率最高；\n",
    "    - 在对单个用户id为8的用户进行推荐时:\n",
    "        - SimpleTagBased的推荐结果:`[(1416, 61), (1526, 50), (4535, 47)]`\n",
    "        - TagBased-TFIDF的推荐结果:`[(1416, 28.2672),(1526, 24.6033),(4639, 22.5336)]`\n",
    "        - NormTagBased-1的推荐结果:`[(23702, 0.0108),(66188, 0.0107),(28750, 0.0104)]`\n",
    "        - NormTagBased-2的推荐结果:`[(15, 0.0072),(23702, 0.0062),(66188, 0.0062)]`\n",
    "        - 可见SimpleTagBased和TagBased-TFIDF的推荐结果相似度较大，而NormTagBased的2个算法和SimpleTagBased推荐的结果非常不同。"
   ]
  },
  {
   "cell_type": "markdown",
   "metadata": {},
   "source": [
    "看起来，NormTagBased算法并不是一个好选择。如果我们需要追求推荐速度，可以用SimpleTagBased；如果我们想追求推荐的精确度则可以考虑TagBased-TFIDF算法。"
   ]
  },
  {
   "cell_type": "code",
   "execution_count": null,
   "metadata": {},
   "outputs": [],
   "source": []
  }
 ],
 "metadata": {
  "kernelspec": {
   "display_name": "Python 3",
   "language": "python",
   "name": "python3"
  },
  "language_info": {
   "codemirror_mode": {
    "name": "ipython",
    "version": 3
   },
   "file_extension": ".py",
   "mimetype": "text/x-python",
   "name": "python",
   "nbconvert_exporter": "python",
   "pygments_lexer": "ipython3",
   "version": "3.8.5"
  },
  "toc": {
   "base_numbering": 1,
   "nav_menu": {},
   "number_sections": false,
   "sideBar": true,
   "skip_h1_title": false,
   "title_cell": "Table of Contents",
   "title_sidebar": "Contents",
   "toc_cell": false,
   "toc_position": {
    "height": "calc(100% - 180px)",
    "left": "10px",
    "top": "150px",
    "width": "288px"
   },
   "toc_section_display": true,
   "toc_window_display": true
  },
  "varInspector": {
   "cols": {
    "lenName": 16,
    "lenType": 16,
    "lenVar": 40
   },
   "kernels_config": {
    "python": {
     "delete_cmd_postfix": "",
     "delete_cmd_prefix": "del ",
     "library": "var_list.py",
     "varRefreshCmd": "print(var_dic_list())"
    },
    "r": {
     "delete_cmd_postfix": ") ",
     "delete_cmd_prefix": "rm(",
     "library": "var_list.r",
     "varRefreshCmd": "cat(var_dic_list()) "
    }
   },
   "types_to_exclude": [
    "module",
    "function",
    "builtin_function_or_method",
    "instance",
    "_Feature"
   ],
   "window_display": false
  }
 },
 "nbformat": 4,
 "nbformat_minor": 4
}
