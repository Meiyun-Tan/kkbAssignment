{
 "cells": [
  {
   "cell_type": "markdown",
   "metadata": {},
   "source": [
    "汽车投诉信息采集：\n",
    "---\n",
    "- 数据源：http://www.12365auto.com/zlts/0-0-0-0-0-0_0-0-1.shtml\n",
    "- 投诉编号，投诉品牌，投诉车系，投诉车型，问题简述，典型问题，投诉时间，投诉状态\n",
    "- 可以采用Python爬虫，或者第三方可视化工具"
   ]
  },
  {
   "cell_type": "markdown",
   "metadata": {},
   "source": [
    "# 1.导入模块\n",
    "---"
   ]
  },
  {
   "cell_type": "code",
   "execution_count": 1,
   "metadata": {},
   "outputs": [],
   "source": [
    "import re\n",
    "import datetime\n",
    "\n",
    "import requests\n",
    "import pandas as pd\n",
    "from bs4 import BeautifulSoup"
   ]
  },
  {
   "cell_type": "markdown",
   "metadata": {},
   "source": [
    "## 1.1 版本信息"
   ]
  },
  {
   "cell_type": "code",
   "execution_count": 2,
   "metadata": {},
   "outputs": [
    {
     "data": {
      "text/plain": [
       "'1.0.5'"
      ]
     },
     "execution_count": 2,
     "metadata": {},
     "output_type": "execute_result"
    }
   ],
   "source": [
    "pd.__version__"
   ]
  },
  {
   "cell_type": "code",
   "execution_count": 3,
   "metadata": {},
   "outputs": [
    {
     "data": {
      "text/plain": [
       "'2.24.0'"
      ]
     },
     "execution_count": 3,
     "metadata": {},
     "output_type": "execute_result"
    }
   ],
   "source": [
    "requests.__version__"
   ]
  },
  {
   "cell_type": "markdown",
   "metadata": {},
   "source": [
    "## 1.2 构建js的每日链接\n",
    "典型问题的数据信息存储在js中，该js链接中参数version的值为当天日期。"
   ]
  },
  {
   "cell_type": "code",
   "execution_count": 4,
   "metadata": {},
   "outputs": [
    {
     "name": "stdout",
     "output_type": "stream",
     "text": [
      "2020-08-22\n"
     ]
    },
    {
     "data": {
      "text/plain": [
       "'20200822'"
      ]
     },
     "execution_count": 4,
     "metadata": {},
     "output_type": "execute_result"
    }
   ],
   "source": [
    "a = datetime.date.today()\n",
    "print(a)\n",
    "a.strftime(\"%Y%m%d\")"
   ]
  },
  {
   "cell_type": "code",
   "execution_count": 5,
   "metadata": {},
   "outputs": [
    {
     "data": {
      "text/plain": [
       "200"
      ]
     },
     "execution_count": 5,
     "metadata": {},
     "output_type": "execute_result"
    }
   ],
   "source": [
    "params = {\"version\": a.strftime(\"%Y%m%d\")}\n",
    "js_url = \"http://www.12365auto.com/js/cTypeInfo.js\"\n",
    "headers = {\n",
    "    'user-agent': 'User-Agent: Mozilla/5.0 (Macintosh; Intel Mac OS X 10_15_2) AppleWebKit/537.36 (KHTML, like Gecko) Chrome/84.0.4147.89 Safari/537.36'\n",
    "}\n",
    "res = requests.get(js_url, params=params, headers=headers)\n",
    "res.status_code"
   ]
  },
  {
   "cell_type": "code",
   "execution_count": 7,
   "metadata": {},
   "outputs": [
    {
     "data": {
      "text/plain": [
       "'var cTypeInfo = [{\"id\":1,\"name\":\"发动机\",\"value\":\"A\",\"zf\":\"z\",\"items\":[{\"id\":9,\"title\":\"异响\"},{\"id\":11,\"'"
      ]
     },
     "execution_count": 7,
     "metadata": {},
     "output_type": "execute_result"
    }
   ],
   "source": [
    "res.text[:100]"
   ]
  },
  {
   "cell_type": "markdown",
   "metadata": {},
   "source": [
    "以上猜想可行。"
   ]
  },
  {
   "cell_type": "markdown",
   "metadata": {},
   "source": [
    "# 2.定义爬取车质网投诉信息的类\n",
    "---\n",
    "1. 爬取前10页的信息\n",
    "2. 根据爬取到的典型问题的字母找到它对应的文字内容；\n",
    "3. 将爬取到的内容写入存入本地csv。"
   ]
  },
  {
   "cell_type": "code",
   "execution_count": 11,
   "metadata": {},
   "outputs": [],
   "source": [
    "class CarQualitySpider:\n",
    "    \n",
    "    def __init__(self, pages=10):\n",
    "        self.headers = {\n",
    "            'user-agent': 'User-Agent: Mozilla/5.0 (Macintosh; Intel Mac OS X 10_15_2) AppleWebKit/537.36 (KHTML, like Gecko) Chrome/84.0.4147.89 Safari/537.36'\n",
    "        }\n",
    "        # 创建空的DataFrame\n",
    "        # 存储总信息\n",
    "        self.all_info_df = pd.DataFrame(\n",
    "            columns=['id', 'brands', 'car_model', 'types', 'desc', 'problems_cate', 'datetime', 'status',\n",
    "                     'typical_problems'])\n",
    "        \n",
    "        # 将\"典型问题\"js网页中解析到的典型问题的嵌套列表存储在该DataFrame中\n",
    "        self.typical_infos_df = pd.DataFrame(columns=['id', 'name', 'value', 'zf', 'items'])\n",
    "        \n",
    "        # 更新typical_infos_df属性\n",
    "        self.__get_typical_problems_info()\n",
    "        \n",
    "        # 存储typical_infos_df中通过'value'的字母定位到的'items'\n",
    "        self.problems_items_df = pd.DataFrame(columns=['id', 'title'])\n",
    "        \n",
    "        # 构建URL列表\n",
    "        self.start_urls = []\n",
    "        link = 'http://www.12365auto.com/zlts/0-0-0-0-0-0_0-0-{p}.shtml'\n",
    "        # 页码从1开始，构建pages页的URL\n",
    "        for p in range(1, pages + 1):\n",
    "            self.start_urls.append(link.format(p=p))\n",
    "    \n",
    "    def __get_typical_problems_info(self):\n",
    "        \"\"\"获得\"典型问题\"的中文及代码的对应的列表，并存入属性typical_infos_df中\"\"\"\n",
    "        url = 'http://www.12365auto.com/js/cTypeInfo.js'\n",
    "        # 今日日期，实现获取当日最新典型问题列表\n",
    "        today_ = datetime.date.today()\n",
    "        params = {\"version\": today_.strftime(\"%Y%m%d\")}\n",
    "        response = requests.get(url, headers=self.headers, params=params)\n",
    "        if response.status_code == 200:\n",
    "            # 正则提取出json格式数据\n",
    "            patten = re.compile(\"\\[.*\\]\")\n",
    "            temp = re.findall(patten, response.text)[0]\n",
    "            # 万能eval将json格式转为Python列表\n",
    "            temp = eval(temp)\n",
    "            # 将列表嵌套的字典转为DataFrame 形状(17, 5)\n",
    "            self.typical_infos_df = self.typical_infos_df.append(temp)\n",
    "        else:\n",
    "            raise Exception(\"js爬取失败，状态码:\", response.status_code)\n",
    "    \n",
    "    def __parse_problems(self, value, item_id):\n",
    "        \"\"\"将'典型问题'的问题代码解析为中文, 更新problems_items_df属性，并返回符合的中文字符串\"\"\"\n",
    "        # 获取value字母所对应的items，得到的是一行的Series，值是嵌套列表\n",
    "        # 提取出Series中的列表，并转换为DataFrame\n",
    "        items = self.typical_infos_df[self.typical_infos_df['value'] == value]['items'].iloc[0]\n",
    "        \n",
    "        # 将items的嵌套列表转为DataFrame，columns=['id', 'title']\n",
    "        self.problems_items_df = self.problems_items_df.append(items)\n",
    "        problem_title = self.problems_items_df.query('id == %d' % item_id)['title'].iloc[0]\n",
    "        return problem_title\n",
    "    \n",
    "    def spider(self):\n",
    "        \"\"\"爬取网页，并将解析结果存入all_info_df属性中\"\"\"\n",
    "        for url in self.start_urls:\n",
    "            res = requests.get(url, headers=self.headers)\n",
    "            print(url, res.status_code)\n",
    "            if res.status_code != 200:\n",
    "                print(\"该链接爬取出现了异常:\", url)\n",
    "                continue\n",
    "            soup = BeautifulSoup(res.text, 'html.parser')\n",
    "            table = soup.find('table', class_='ar_c')\n",
    "            # 定位到table的所有子标签tr，从第2个tr标签开始循环\n",
    "            for item in table.find_all('tr')[1:]:\n",
    "                # 提取投诉汽车信息\n",
    "                temp_dict = {}\n",
    "                temp = item.find_all('td')\n",
    "                id, brands, car_model, types, desc, problems_cate, datetime, status = [t.text for t in temp]\n",
    "                temp_dict['id'] = id\n",
    "                temp_dict['brands'] = brands\n",
    "                temp_dict['car_model'] = car_model\n",
    "                temp_dict['types'] = types\n",
    "                temp_dict['desc'] = desc\n",
    "                temp_dict['problems_cate'] = problems_cate\n",
    "                temp_dict['datetime'] = datetime\n",
    "                temp_dict['status'] = status\n",
    "                # 将problems_cate中的英文代码解析为中文\n",
    "                problems_split = problems_cate.split(',')\n",
    "                typical_problems = ''\n",
    "                for s in problems_split:\n",
    "                    if s != '':\n",
    "                        # print('s:', s)\n",
    "                        value, item_id = s[0], int(s[1:])\n",
    "                        expr = self.problems_items_df['id'] == item_id\n",
    "                        # 若item_id不在problems_items_df，则调用__parse_problems方法\n",
    "                        if expr.sum() == 0:\n",
    "                            title = self.__parse_problems(value, item_id)\n",
    "                        else:\n",
    "                            # 若item_id在problems_items_df属性中，则直接定位title\n",
    "                            title = self.problems_items_df[expr]['title'].iloc[0]\n",
    "                        typical_problems += title + ','\n",
    "                # 将解析好的中文存入字典的键typical_problems中\n",
    "                temp_dict['typical_problems'] = typical_problems\n",
    "                # 向all_info_df属性添加一行数据\n",
    "                self.all_info_df = self.all_info_df.append(temp_dict, ignore_index=True)"
   ]
  },
  {
   "cell_type": "markdown",
   "metadata": {},
   "source": [
    "# 3.开始爬虫"
   ]
  },
  {
   "cell_type": "markdown",
   "metadata": {},
   "source": [
    "## 3.1实例化后，查看属性初始值"
   ]
  },
  {
   "cell_type": "code",
   "execution_count": 12,
   "metadata": {},
   "outputs": [],
   "source": [
    "car_spider = CarQualitySpider(10)"
   ]
  },
  {
   "cell_type": "code",
   "execution_count": 13,
   "metadata": {},
   "outputs": [
    {
     "data": {
      "text/html": [
       "<div>\n",
       "<style scoped>\n",
       "    .dataframe tbody tr th:only-of-type {\n",
       "        vertical-align: middle;\n",
       "    }\n",
       "\n",
       "    .dataframe tbody tr th {\n",
       "        vertical-align: top;\n",
       "    }\n",
       "\n",
       "    .dataframe thead th {\n",
       "        text-align: right;\n",
       "    }\n",
       "</style>\n",
       "<table border=\"1\" class=\"dataframe\">\n",
       "  <thead>\n",
       "    <tr style=\"text-align: right;\">\n",
       "      <th></th>\n",
       "      <th>id</th>\n",
       "      <th>brands</th>\n",
       "      <th>car_model</th>\n",
       "      <th>types</th>\n",
       "      <th>desc</th>\n",
       "      <th>problems_cate</th>\n",
       "      <th>datetime</th>\n",
       "      <th>status</th>\n",
       "      <th>typical_problems</th>\n",
       "    </tr>\n",
       "  </thead>\n",
       "  <tbody>\n",
       "  </tbody>\n",
       "</table>\n",
       "</div>"
      ],
      "text/plain": [
       "Empty DataFrame\n",
       "Columns: [id, brands, car_model, types, desc, problems_cate, datetime, status, typical_problems]\n",
       "Index: []"
      ]
     },
     "execution_count": 13,
     "metadata": {},
     "output_type": "execute_result"
    }
   ],
   "source": [
    "car_spider.all_info_df"
   ]
  },
  {
   "cell_type": "code",
   "execution_count": 14,
   "metadata": {},
   "outputs": [
    {
     "data": {
      "text/html": [
       "<div>\n",
       "<style scoped>\n",
       "    .dataframe tbody tr th:only-of-type {\n",
       "        vertical-align: middle;\n",
       "    }\n",
       "\n",
       "    .dataframe tbody tr th {\n",
       "        vertical-align: top;\n",
       "    }\n",
       "\n",
       "    .dataframe thead th {\n",
       "        text-align: right;\n",
       "    }\n",
       "</style>\n",
       "<table border=\"1\" class=\"dataframe\">\n",
       "  <thead>\n",
       "    <tr style=\"text-align: right;\">\n",
       "      <th></th>\n",
       "      <th>id</th>\n",
       "      <th>name</th>\n",
       "      <th>value</th>\n",
       "      <th>zf</th>\n",
       "      <th>items</th>\n",
       "    </tr>\n",
       "  </thead>\n",
       "  <tbody>\n",
       "    <tr>\n",
       "      <th>0</th>\n",
       "      <td>1</td>\n",
       "      <td>发动机</td>\n",
       "      <td>A</td>\n",
       "      <td>z</td>\n",
       "      <td>[{'id': 9, 'title': '异响'}, {'id': 11, 'title':...</td>\n",
       "    </tr>\n",
       "    <tr>\n",
       "      <th>1</th>\n",
       "      <td>2</td>\n",
       "      <td>变速器</td>\n",
       "      <td>B</td>\n",
       "      <td>z</td>\n",
       "      <td>[{'id': 19, 'title': '顿挫'}, {'id': 20, 'title'...</td>\n",
       "    </tr>\n",
       "    <tr>\n",
       "      <th>2</th>\n",
       "      <td>3</td>\n",
       "      <td>离合器</td>\n",
       "      <td>C</td>\n",
       "      <td>z</td>\n",
       "      <td>[{'id': 16, 'title': '打滑'}, {'id': 17, 'title'...</td>\n",
       "    </tr>\n",
       "    <tr>\n",
       "      <th>3</th>\n",
       "      <td>4</td>\n",
       "      <td>转向系统</td>\n",
       "      <td>D</td>\n",
       "      <td>z</td>\n",
       "      <td>[{'id': 57, 'title': '失灵'}, {'id': 58, 'title'...</td>\n",
       "    </tr>\n",
       "    <tr>\n",
       "      <th>4</th>\n",
       "      <td>5</td>\n",
       "      <td>制动系统</td>\n",
       "      <td>E</td>\n",
       "      <td>z</td>\n",
       "      <td>[{'id': 29, 'title': '刹车失灵'}, {'id': 42, 'titl...</td>\n",
       "    </tr>\n",
       "    <tr>\n",
       "      <th>5</th>\n",
       "      <td>6</td>\n",
       "      <td>轮胎</td>\n",
       "      <td>F</td>\n",
       "      <td>z</td>\n",
       "      <td>[{'id': 10, 'title': '磨损'}, {'id': 39, 'title'...</td>\n",
       "    </tr>\n",
       "    <tr>\n",
       "      <th>6</th>\n",
       "      <td>7</td>\n",
       "      <td>前后桥及悬挂系统</td>\n",
       "      <td>G</td>\n",
       "      <td>z</td>\n",
       "      <td>[{'id': 25, 'title': '减震器漏油'}, {'id': 51, 'tit...</td>\n",
       "    </tr>\n",
       "    <tr>\n",
       "      <th>7</th>\n",
       "      <td>8</td>\n",
       "      <td>车身附件及电器</td>\n",
       "      <td>H</td>\n",
       "      <td>z</td>\n",
       "      <td>[{'id': 15, 'title': '车身异响'}, {'id': 21, 'titl...</td>\n",
       "    </tr>\n",
       "    <tr>\n",
       "      <th>8</th>\n",
       "      <td>272</td>\n",
       "      <td>服务态度</td>\n",
       "      <td>I</td>\n",
       "      <td>f</td>\n",
       "      <td>[{'id': 281, 'title': '互相推诿'}, {'id': 282, 'ti...</td>\n",
       "    </tr>\n",
       "    <tr>\n",
       "      <th>9</th>\n",
       "      <td>273</td>\n",
       "      <td>人员技术</td>\n",
       "      <td>J</td>\n",
       "      <td>f</td>\n",
       "      <td>[{'id': 298, 'title': '多次返修'}, {'id': 299, 'ti...</td>\n",
       "    </tr>\n",
       "    <tr>\n",
       "      <th>10</th>\n",
       "      <td>274</td>\n",
       "      <td>服务收费</td>\n",
       "      <td>K</td>\n",
       "      <td>f</td>\n",
       "      <td>[{'id': 307, 'title': '变相收费'}, {'id': 308, 'ti...</td>\n",
       "    </tr>\n",
       "    <tr>\n",
       "      <th>11</th>\n",
       "      <td>275</td>\n",
       "      <td>承诺不兑现</td>\n",
       "      <td>L</td>\n",
       "      <td>f</td>\n",
       "      <td>[{'id': 310, 'title': '不履行三包'}, {'id': 311, 't...</td>\n",
       "    </tr>\n",
       "    <tr>\n",
       "      <th>12</th>\n",
       "      <td>276</td>\n",
       "      <td>销售欺诈</td>\n",
       "      <td>M</td>\n",
       "      <td>f</td>\n",
       "      <td>[{'id': 279, 'title': '与宣传不符'}, {'id': 280, 't...</td>\n",
       "    </tr>\n",
       "    <tr>\n",
       "      <th>13</th>\n",
       "      <td>277</td>\n",
       "      <td>配件争议</td>\n",
       "      <td>N</td>\n",
       "      <td>f</td>\n",
       "      <td>[{'id': 316, 'title': '使用旧件'}, {'id': 317, 'ti...</td>\n",
       "    </tr>\n",
       "    <tr>\n",
       "      <th>14</th>\n",
       "      <td>278</td>\n",
       "      <td>服务流程不完善</td>\n",
       "      <td>O</td>\n",
       "      <td>f</td>\n",
       "      <td>[{'id': 296, 'title': '活动不通知'}, {'id': 305, 't...</td>\n",
       "    </tr>\n",
       "    <tr>\n",
       "      <th>15</th>\n",
       "      <td>351</td>\n",
       "      <td>其他服务问题</td>\n",
       "      <td>P</td>\n",
       "      <td>f</td>\n",
       "      <td>[{'id': 327, 'title': '其他'}]</td>\n",
       "    </tr>\n",
       "    <tr>\n",
       "      <th>16</th>\n",
       "      <td>352</td>\n",
       "      <td>其他</td>\n",
       "      <td>Q</td>\n",
       "      <td>q</td>\n",
       "      <td>[{'id': 290, 'title': '厂家不召回'}, {'id': 322, 't...</td>\n",
       "    </tr>\n",
       "  </tbody>\n",
       "</table>\n",
       "</div>"
      ],
      "text/plain": [
       "     id      name value zf                                              items\n",
       "0     1       发动机     A  z  [{'id': 9, 'title': '异响'}, {'id': 11, 'title':...\n",
       "1     2       变速器     B  z  [{'id': 19, 'title': '顿挫'}, {'id': 20, 'title'...\n",
       "2     3       离合器     C  z  [{'id': 16, 'title': '打滑'}, {'id': 17, 'title'...\n",
       "3     4      转向系统     D  z  [{'id': 57, 'title': '失灵'}, {'id': 58, 'title'...\n",
       "4     5      制动系统     E  z  [{'id': 29, 'title': '刹车失灵'}, {'id': 42, 'titl...\n",
       "5     6        轮胎     F  z  [{'id': 10, 'title': '磨损'}, {'id': 39, 'title'...\n",
       "6     7  前后桥及悬挂系统     G  z  [{'id': 25, 'title': '减震器漏油'}, {'id': 51, 'tit...\n",
       "7     8   车身附件及电器     H  z  [{'id': 15, 'title': '车身异响'}, {'id': 21, 'titl...\n",
       "8   272      服务态度     I  f  [{'id': 281, 'title': '互相推诿'}, {'id': 282, 'ti...\n",
       "9   273      人员技术     J  f  [{'id': 298, 'title': '多次返修'}, {'id': 299, 'ti...\n",
       "10  274      服务收费     K  f  [{'id': 307, 'title': '变相收费'}, {'id': 308, 'ti...\n",
       "11  275     承诺不兑现     L  f  [{'id': 310, 'title': '不履行三包'}, {'id': 311, 't...\n",
       "12  276      销售欺诈     M  f  [{'id': 279, 'title': '与宣传不符'}, {'id': 280, 't...\n",
       "13  277      配件争议     N  f  [{'id': 316, 'title': '使用旧件'}, {'id': 317, 'ti...\n",
       "14  278   服务流程不完善     O  f  [{'id': 296, 'title': '活动不通知'}, {'id': 305, 't...\n",
       "15  351    其他服务问题     P  f                       [{'id': 327, 'title': '其他'}]\n",
       "16  352        其他     Q  q  [{'id': 290, 'title': '厂家不召回'}, {'id': 322, 't..."
      ]
     },
     "execution_count": 14,
     "metadata": {},
     "output_type": "execute_result"
    }
   ],
   "source": [
    "# \"典型问题\"的文字内容及字母的DataFrame\n",
    "car_spider.typical_infos_df"
   ]
  },
  {
   "cell_type": "code",
   "execution_count": 15,
   "metadata": {},
   "outputs": [
    {
     "data": {
      "text/html": [
       "<div>\n",
       "<style scoped>\n",
       "    .dataframe tbody tr th:only-of-type {\n",
       "        vertical-align: middle;\n",
       "    }\n",
       "\n",
       "    .dataframe tbody tr th {\n",
       "        vertical-align: top;\n",
       "    }\n",
       "\n",
       "    .dataframe thead th {\n",
       "        text-align: right;\n",
       "    }\n",
       "</style>\n",
       "<table border=\"1\" class=\"dataframe\">\n",
       "  <thead>\n",
       "    <tr style=\"text-align: right;\">\n",
       "      <th></th>\n",
       "      <th>id</th>\n",
       "      <th>title</th>\n",
       "    </tr>\n",
       "  </thead>\n",
       "  <tbody>\n",
       "  </tbody>\n",
       "</table>\n",
       "</div>"
      ],
      "text/plain": [
       "Empty DataFrame\n",
       "Columns: [id, title]\n",
       "Index: []"
      ]
     },
     "execution_count": 15,
     "metadata": {},
     "output_type": "execute_result"
    }
   ],
   "source": [
    "car_spider.problems_items_df"
   ]
  },
  {
   "cell_type": "code",
   "execution_count": 16,
   "metadata": {},
   "outputs": [
    {
     "data": {
      "text/plain": [
       "['http://www.12365auto.com/zlts/0-0-0-0-0-0_0-0-1.shtml',\n",
       " 'http://www.12365auto.com/zlts/0-0-0-0-0-0_0-0-2.shtml',\n",
       " 'http://www.12365auto.com/zlts/0-0-0-0-0-0_0-0-3.shtml',\n",
       " 'http://www.12365auto.com/zlts/0-0-0-0-0-0_0-0-4.shtml',\n",
       " 'http://www.12365auto.com/zlts/0-0-0-0-0-0_0-0-5.shtml',\n",
       " 'http://www.12365auto.com/zlts/0-0-0-0-0-0_0-0-6.shtml',\n",
       " 'http://www.12365auto.com/zlts/0-0-0-0-0-0_0-0-7.shtml',\n",
       " 'http://www.12365auto.com/zlts/0-0-0-0-0-0_0-0-8.shtml',\n",
       " 'http://www.12365auto.com/zlts/0-0-0-0-0-0_0-0-9.shtml',\n",
       " 'http://www.12365auto.com/zlts/0-0-0-0-0-0_0-0-10.shtml']"
      ]
     },
     "execution_count": 16,
     "metadata": {},
     "output_type": "execute_result"
    }
   ],
   "source": [
    "car_spider.start_urls"
   ]
  },
  {
   "cell_type": "markdown",
   "metadata": {},
   "source": [
    "## 3.2 调用爬取方法"
   ]
  },
  {
   "cell_type": "code",
   "execution_count": 17,
   "metadata": {},
   "outputs": [
    {
     "name": "stdout",
     "output_type": "stream",
     "text": [
      "http://www.12365auto.com/zlts/0-0-0-0-0-0_0-0-1.shtml 200\n",
      "http://www.12365auto.com/zlts/0-0-0-0-0-0_0-0-2.shtml 200\n",
      "http://www.12365auto.com/zlts/0-0-0-0-0-0_0-0-3.shtml 200\n",
      "http://www.12365auto.com/zlts/0-0-0-0-0-0_0-0-4.shtml 200\n",
      "http://www.12365auto.com/zlts/0-0-0-0-0-0_0-0-5.shtml 200\n",
      "http://www.12365auto.com/zlts/0-0-0-0-0-0_0-0-6.shtml 200\n",
      "http://www.12365auto.com/zlts/0-0-0-0-0-0_0-0-7.shtml 200\n",
      "http://www.12365auto.com/zlts/0-0-0-0-0-0_0-0-8.shtml 200\n",
      "http://www.12365auto.com/zlts/0-0-0-0-0-0_0-0-9.shtml 200\n",
      "http://www.12365auto.com/zlts/0-0-0-0-0-0_0-0-10.shtml 200\n"
     ]
    }
   ],
   "source": [
    "car_spider.spider()"
   ]
  },
  {
   "cell_type": "markdown",
   "metadata": {},
   "source": [
    "## 3.3 调用all_info_df属性，将结果写入CSV"
   ]
  },
  {
   "cell_type": "code",
   "execution_count": 18,
   "metadata": {},
   "outputs": [
    {
     "name": "stdout",
     "output_type": "stream",
     "text": [
      "已完成!\n"
     ]
    }
   ],
   "source": [
    "car_spider.all_info_df.to_csv('./car_qualites.csv', index=False)\n",
    "\n",
    "print(\"已完成!\")"
   ]
  },
  {
   "cell_type": "code",
   "execution_count": 19,
   "metadata": {},
   "outputs": [
    {
     "data": {
      "text/plain": [
       "id                  False\n",
       "brands              False\n",
       "car_model           False\n",
       "types               False\n",
       "desc                False\n",
       "problems_cate       False\n",
       "datetime            False\n",
       "status              False\n",
       "typical_problems    False\n",
       "dtype: bool"
      ]
     },
     "execution_count": 19,
     "metadata": {},
     "output_type": "execute_result"
    }
   ],
   "source": [
    "# 校验下每一列是否有爬取遗漏。\n",
    "car_spider.all_info_df.isnull().any() "
   ]
  },
  {
   "cell_type": "code",
   "execution_count": null,
   "metadata": {},
   "outputs": [],
   "source": []
  }
 ],
 "metadata": {
  "kernelspec": {
   "display_name": "envpy37",
   "language": "python",
   "name": "envpy37"
  },
  "language_info": {
   "codemirror_mode": {
    "name": "ipython",
    "version": 3
   },
   "file_extension": ".py",
   "mimetype": "text/x-python",
   "name": "python",
   "nbconvert_exporter": "python",
   "pygments_lexer": "ipython3",
   "version": "3.7.7"
  },
  "toc": {
   "base_numbering": 1,
   "nav_menu": {},
   "number_sections": true,
   "sideBar": true,
   "skip_h1_title": false,
   "title_cell": "Table of Contents",
   "title_sidebar": "Contents",
   "toc_cell": false,
   "toc_position": {},
   "toc_section_display": true,
   "toc_window_display": true
  },
  "toc-autonumbering": false,
  "varInspector": {
   "cols": {
    "lenName": 16,
    "lenType": 16,
    "lenVar": 40
   },
   "kernels_config": {
    "python": {
     "delete_cmd_postfix": "",
     "delete_cmd_prefix": "del ",
     "library": "var_list.py",
     "varRefreshCmd": "print(var_dic_list())"
    },
    "r": {
     "delete_cmd_postfix": ") ",
     "delete_cmd_prefix": "rm(",
     "library": "var_list.r",
     "varRefreshCmd": "cat(var_dic_list()) "
    }
   },
   "types_to_exclude": [
    "module",
    "function",
    "builtin_function_or_method",
    "instance",
    "_Feature"
   ],
   "window_display": false
  }
 },
 "nbformat": 4,
 "nbformat_minor": 4
}
