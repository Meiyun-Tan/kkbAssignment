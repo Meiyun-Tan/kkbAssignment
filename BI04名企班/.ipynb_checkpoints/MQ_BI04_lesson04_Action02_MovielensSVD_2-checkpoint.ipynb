{
 "cells": [
  {
   "cell_type": "markdown",
   "metadata": {
    "colab_type": "text",
    "id": "wg1eu4JNHrVK"
   },
   "source": [
    "Action2要求：    \n",
    "\n",
    "使用Google Colab编辑器，对MovieLens数据集进行评分预测，计算RMSE\n",
    "（使用funkSVD, BiasSVD，SVD++）"
   ]
  },
  {
   "cell_type": "code",
   "execution_count": 13,
   "metadata": {
    "colab": {
     "base_uri": "https://localhost:8080/",
     "height": 34
    },
    "colab_type": "code",
    "id": "zB5h6bwRHyqf",
    "outputId": "755b98ee-819b-4797-ef7c-d417fdebbf6e"
   },
   "outputs": [
    {
     "name": "stdout",
     "output_type": "stream",
     "text": [
      "Mounted at /content/drive\n"
     ]
    }
   ],
   "source": [
    "# from google.colab import drive\n",
    "# drive.mount('/content/drive')"
   ]
  },
  {
   "cell_type": "code",
   "execution_count": 14,
   "metadata": {
    "colab": {},
    "colab_type": "code",
    "id": "j2kW7SOeH1Dh"
   },
   "outputs": [],
   "source": [
    "# import os\n",
    "# os.chdir(\"/content/drive/My Drive/Colab Notebooks/\")\n"
   ]
  },
  {
   "cell_type": "code",
   "execution_count": 15,
   "metadata": {
    "colab": {
     "base_uri": "https://localhost:8080/",
     "height": 306
    },
    "colab_type": "code",
    "id": "zUBtI1ucH0vR",
    "outputId": "a15623ea-3ec3-4491-8e4f-851bb6571389"
   },
   "outputs": [
    {
     "name": "stdout",
     "output_type": "stream",
     "text": [
      "Fri Sep 18 07:40:00 2020       \n",
      "+-----------------------------------------------------------------------------+\n",
      "| NVIDIA-SMI 418.67       Driver Version: 418.67       CUDA Version: 10.1     |\n",
      "|-------------------------------+----------------------+----------------------+\n",
      "| GPU  Name        Persistence-M| Bus-Id        Disp.A | Volatile Uncorr. ECC |\n",
      "| Fan  Temp  Perf  Pwr:Usage/Cap|         Memory-Usage | GPU-Util  Compute M. |\n",
      "|===============================+======================+======================|\n",
      "|   0  Tesla T4            Off  | 00000000:00:04.0 Off |                    0 |\n",
      "| N/A   38C    P8     9W /  70W |      0MiB / 15079MiB |      0%      Default |\n",
      "+-------------------------------+----------------------+----------------------+\n",
      "                                                                               \n",
      "+-----------------------------------------------------------------------------+\n",
      "| Processes:                                                       GPU Memory |\n",
      "|  GPU       PID   Type   Process name                             Usage      |\n",
      "|=============================================================================|\n",
      "|  No running processes found                                                 |\n",
      "+-----------------------------------------------------------------------------+\n"
     ]
    }
   ],
   "source": [
    "# !/opt/bin/nvidia-smi"
   ]
  },
  {
   "cell_type": "code",
   "execution_count": 16,
   "metadata": {
    "colab": {
     "base_uri": "https://localhost:8080/",
     "height": 71
    },
    "colab_type": "code",
    "id": "LtAZ3h3YHzI3",
    "outputId": "8f60743c-a497-41bd-9c2e-84fc0842a4e7"
   },
   "outputs": [
    {
     "name": "stdout",
     "output_type": "stream",
     "text": [
      "/bin/bash: -c: line 0: syntax error near unexpected token `('\n",
      "/bin/bash: -c: line 0: `apt-get install -y -qq software-properties-common python-software-properties module-init-tools !add-apt-repository -y ppa:alessandro-strada/ppa 2>&1 > /dev/null !apt-get update -qq 2>&1 > /dev/null !apt-get -y install -qq google-drive-ocamlfuse fuse from google.colab import auth auth.authenticate_user() from oauth2client.client import GoogleCredentials creds = GoogleCredentials.get_application_default() import getpass !google-drive-ocamlfuse -headless -id={creds.client_id} -secret={creds.client_secret} &1 | grep URL vcode = getpass.getpass() !echo {vcode} | google-drive-ocamlfuse -headless -id={creds.client_id} -secret={creds.client_secret}'\n"
     ]
    }
   ],
   "source": [
    "# !apt-get install -y -qq software-properties-common python-software-properties module-init-tools !add-apt-repository -y ppa:alessandro-strada/ppa 2>&1 > /dev/null !apt-get update -qq 2>&1 > /dev/null !apt-get -y install -qq google-drive-ocamlfuse fuse from google.colab import auth auth.authenticate_user() from oauth2client.client import GoogleCredentials creds = GoogleCredentials.get_application_default() import getpass !google-drive-ocamlfuse -headless -id={creds.client_id} -secret={creds.client_secret} &1 | grep URL vcode = getpass.getpass() !echo {vcode} | google-drive-ocamlfuse -headless -id={creds.client_id} -secret={creds.client_secret}\n"
   ]
  },
  {
   "cell_type": "code",
   "execution_count": 17,
   "metadata": {
    "colab": {
     "base_uri": "https://localhost:8080/",
     "height": 34
    },
    "colab_type": "code",
    "id": "dnv_5V07IT2D",
    "outputId": "21d06d1c-e748-47a9-f729-4fef94e76c15"
   },
   "outputs": [
    {
     "name": "stdout",
     "output_type": "stream",
     "text": [
      "Python 3.6.9\n"
     ]
    }
   ],
   "source": [
    "# !python --version"
   ]
  },
  {
   "cell_type": "code",
   "execution_count": null,
   "metadata": {
    "colab": {},
    "colab_type": "code",
    "id": "z5cO__AqIijE"
   },
   "outputs": [],
   "source": [
    "# !pip install surprise"
   ]
  },
  {
   "cell_type": "code",
   "execution_count": null,
   "metadata": {
    "colab": {},
    "colab_type": "code",
    "id": "qd_Rj4ctHrVL"
   },
   "outputs": [],
   "source": [
    "# from surprise import SVD # 该API等价于下面的 SVD API"
   ]
  },
  {
   "cell_type": "code",
   "execution_count": 18,
   "metadata": {
    "colab": {},
    "colab_type": "code",
    "id": "oQKcRwd8HrVQ"
   },
   "outputs": [],
   "source": [
    "import pandas as pd\n",
    "from surprise import Reader\n",
    "from surprise import Dataset\n",
    "from surprise import accuracy\n",
    "from surprise.prediction_algorithms import SVD, SVDpp \n",
    "from surprise.model_selection import KFold, cross_validate"
   ]
  },
  {
   "cell_type": "markdown",
   "metadata": {
    "colab_type": "text",
    "id": "7_B7EE6OHrVT"
   },
   "source": [
    "# 数据加载"
   ]
  },
  {
   "cell_type": "markdown",
   "metadata": {
    "colab_type": "text",
    "id": "4A8rFbQ_HrVU"
   },
   "source": [
    "## 1.1 数据读取"
   ]
  },
  {
   "cell_type": "code",
   "execution_count": 19,
   "metadata": {
    "colab": {},
    "colab_type": "code",
    "id": "evf0KksIHrVU"
   },
   "outputs": [],
   "source": [
    "df = pd.read_csv('./ratings.csv')"
   ]
  },
  {
   "cell_type": "code",
   "execution_count": 20,
   "metadata": {
    "colab": {
     "base_uri": "https://localhost:8080/",
     "height": 111
    },
    "colab_type": "code",
    "id": "SJLxvRh0HrVX",
    "outputId": "48de0d98-2cfa-4da9-86db-7972a43106b8"
   },
   "outputs": [
    {
     "data": {
      "text/html": [
       "<div>\n",
       "<style scoped>\n",
       "    .dataframe tbody tr th:only-of-type {\n",
       "        vertical-align: middle;\n",
       "    }\n",
       "\n",
       "    .dataframe tbody tr th {\n",
       "        vertical-align: top;\n",
       "    }\n",
       "\n",
       "    .dataframe thead th {\n",
       "        text-align: right;\n",
       "    }\n",
       "</style>\n",
       "<table border=\"1\" class=\"dataframe\">\n",
       "  <thead>\n",
       "    <tr style=\"text-align: right;\">\n",
       "      <th></th>\n",
       "      <th>userId</th>\n",
       "      <th>movieId</th>\n",
       "      <th>rating</th>\n",
       "      <th>timestamp</th>\n",
       "    </tr>\n",
       "  </thead>\n",
       "  <tbody>\n",
       "    <tr>\n",
       "      <th>0</th>\n",
       "      <td>1</td>\n",
       "      <td>2</td>\n",
       "      <td>3.5</td>\n",
       "      <td>1112486027</td>\n",
       "    </tr>\n",
       "    <tr>\n",
       "      <th>1</th>\n",
       "      <td>1</td>\n",
       "      <td>29</td>\n",
       "      <td>3.5</td>\n",
       "      <td>1112484676</td>\n",
       "    </tr>\n",
       "  </tbody>\n",
       "</table>\n",
       "</div>"
      ],
      "text/plain": [
       "   userId  movieId  rating   timestamp\n",
       "0       1        2     3.5  1112486027\n",
       "1       1       29     3.5  1112484676"
      ]
     },
     "execution_count": 20,
     "metadata": {
      "tags": []
     },
     "output_type": "execute_result"
    }
   ],
   "source": [
    "df.head(2)"
   ]
  },
  {
   "cell_type": "code",
   "execution_count": 21,
   "metadata": {
    "colab": {},
    "colab_type": "code",
    "id": "1-j8u27aHrVd"
   },
   "outputs": [],
   "source": [
    "# 告诉文本阅读器，文本的格式是怎样的\n",
    "# line_format必须指出user item rating\n",
    "reader = Reader(line_format=\"user item rating timestamp\",\n",
    "               sep=',',\n",
    "               skip_lines=1)"
   ]
  },
  {
   "cell_type": "code",
   "execution_count": 22,
   "metadata": {
    "colab": {},
    "colab_type": "code",
    "id": "1bSRxSOPHrVg"
   },
   "outputs": [],
   "source": [
    "#加载数据\n",
    "data = Dataset.load_from_file('./ratings.csv', reader=reader)"
   ]
  },
  {
   "cell_type": "code",
   "execution_count": 23,
   "metadata": {
    "colab": {
     "base_uri": "https://localhost:8080/",
     "height": 34
    },
    "colab_type": "code",
    "id": "bVmO1AU3HrVi",
    "outputId": "3d347d2d-c4aa-4cef-caa6-2e8fa29b415c"
   },
   "outputs": [
    {
     "data": {
      "text/plain": [
       "surprise.dataset.DatasetAutoFolds"
      ]
     },
     "execution_count": 23,
     "metadata": {
      "tags": []
     },
     "output_type": "execute_result"
    }
   ],
   "source": [
    "type(data)"
   ]
  },
  {
   "cell_type": "code",
   "execution_count": 24,
   "metadata": {
    "colab": {},
    "colab_type": "code",
    "id": "5y00qTz6HrVl"
   },
   "outputs": [],
   "source": [
    "train_set = data.build_full_trainset()"
   ]
  },
  {
   "cell_type": "code",
   "execution_count": 25,
   "metadata": {
    "colab": {
     "base_uri": "https://localhost:8080/",
     "height": 34
    },
    "colab_type": "code",
    "id": "XrCEg8KcHrVn",
    "outputId": "7f483dc8-0bf2-4388-c1b1-b17c72170b82"
   },
   "outputs": [
    {
     "data": {
      "text/plain": [
       "surprise.trainset.Trainset"
      ]
     },
     "execution_count": 25,
     "metadata": {
      "tags": []
     },
     "output_type": "execute_result"
    }
   ],
   "source": [
    "type(train_set)"
   ]
  },
  {
   "cell_type": "markdown",
   "metadata": {
    "colab_type": "text",
    "id": "7ln5rN-XHrVq"
   },
   "source": [
    "## 1.2 认识数据集"
   ]
  },
  {
   "cell_type": "code",
   "execution_count": 37,
   "metadata": {
    "colab": {
     "base_uri": "https://localhost:8080/",
     "height": 34
    },
    "colab_type": "code",
    "id": "xn17tQhfHrVq",
    "outputId": "46eca82c-e782-4e5b-ade0-b55a64dce45b"
   },
   "outputs": [
    {
     "data": {
      "text/plain": [
       "(1048575, 4)"
      ]
     },
     "execution_count": 37,
     "metadata": {
      "tags": []
     },
     "output_type": "execute_result"
    }
   ],
   "source": [
    "df.shape"
   ]
  },
  {
   "cell_type": "code",
   "execution_count": 38,
   "metadata": {
    "colab": {
     "base_uri": "https://localhost:8080/",
     "height": 34
    },
    "colab_type": "code",
    "id": "0bEiJpl7HrVs",
    "outputId": "de410908-ef9e-4112-c499-dccb0aac024c"
   },
   "outputs": [
    {
     "data": {
      "text/plain": [
       "(7120, 14026, 1048575)"
      ]
     },
     "execution_count": 38,
     "metadata": {
      "tags": []
     },
     "output_type": "execute_result"
    }
   ],
   "source": [
    "# 数据集中共有7120名用户、14026部电影，共计有1048575个评分\n",
    "train_set.n_users, train_set.n_items, train_set.n_ratings"
   ]
  },
  {
   "cell_type": "code",
   "execution_count": 39,
   "metadata": {
    "colab": {
     "base_uri": "https://localhost:8080/",
     "height": 34
    },
    "colab_type": "code",
    "id": "0GUCTYDCHrVw",
    "outputId": "5ad8b062-29f0-4195-c977-ea43d1686844"
   },
   "outputs": [
    {
     "data": {
      "text/plain": [
       "(1, 5)"
      ]
     },
     "execution_count": 39,
     "metadata": {
      "tags": []
     },
     "output_type": "execute_result"
    }
   ],
   "source": [
    "# 评分表的最小和最大评分\n",
    "train_set.rating_scale"
   ]
  },
  {
   "cell_type": "code",
   "execution_count": 40,
   "metadata": {
    "colab": {
     "base_uri": "https://localhost:8080/",
     "height": 34
    },
    "colab_type": "code",
    "id": "n3oNpTJnHrVy",
    "outputId": "a82ec433-80b7-4840-be81-9dda8eca41ed"
   },
   "outputs": [
    {
     "data": {
      "text/plain": [
       "(0.5, 5.0)"
      ]
     },
     "execution_count": 40,
     "metadata": {
      "tags": []
     },
     "output_type": "execute_result"
    }
   ],
   "source": [
    "df['rating'].min(), df['rating'].max()"
   ]
  },
  {
   "cell_type": "markdown",
   "metadata": {
    "colab_type": "text",
    "id": "wTsigJY8HrV0"
   },
   "source": [
    "可见，surprise中，返回的最大最小评分进行了四舍五入取整"
   ]
  },
  {
   "cell_type": "code",
   "execution_count": 41,
   "metadata": {
    "colab": {
     "base_uri": "https://localhost:8080/",
     "height": 102
    },
    "colab_type": "code",
    "id": "ZPgDqi43HrV0",
    "outputId": "2007cd44-9fef-4c51-de37-0b2500d1a75e",
    "scrolled": true
   },
   "outputs": [
    {
     "data": {
      "text/plain": [
       "userId               1.0\n",
       "movieId              1.0\n",
       "rating               0.5\n",
       "timestamp    825499934.0\n",
       "dtype: float64"
      ]
     },
     "execution_count": 41,
     "metadata": {
      "tags": []
     },
     "output_type": "execute_result"
    }
   ],
   "source": [
    "df.min(axis=0)"
   ]
  },
  {
   "cell_type": "code",
   "execution_count": 42,
   "metadata": {
    "colab": {
     "base_uri": "https://localhost:8080/",
     "height": 34
    },
    "colab_type": "code",
    "id": "OUGYYAxmHrV2",
    "outputId": "398aeb9e-e2a5-4daf-d9f2-76d9e41ee88b"
   },
   "outputs": [
    {
     "data": {
      "text/plain": [
       "True"
      ]
     },
     "execution_count": 42,
     "metadata": {
      "tags": []
     },
     "output_type": "execute_result"
    }
   ],
   "source": [
    "# 返回输入的用户id是否在train_set中，True代表存在\n",
    "train_set.knows_user(0)"
   ]
  },
  {
   "cell_type": "code",
   "execution_count": 43,
   "metadata": {
    "colab": {
     "base_uri": "https://localhost:8080/",
     "height": 34
    },
    "colab_type": "code",
    "id": "LuOVsL3yHrV5",
    "outputId": "856e85d6-c25b-4e9d-d0d2-c87622b297e8",
    "scrolled": true
   },
   "outputs": [
    {
     "data": {
      "text/plain": [
       "True"
      ]
     },
     "execution_count": 43,
     "metadata": {
      "tags": []
     },
     "output_type": "execute_result"
    }
   ],
   "source": [
    "# 返回输入的itemid是否在train_set中，True代表存在\n",
    "train_set.knows_item(0)"
   ]
  },
  {
   "cell_type": "markdown",
   "metadata": {
    "colab_type": "text",
    "id": "mVmLlwXrHrV7"
   },
   "source": [
    "以上3块代码说明，数据集中用户id和电影id最小值均从1开始，但在surprise读入的数据集中，二者的id均从0开始，是surprise数据集中的内部id。"
   ]
  },
  {
   "cell_type": "code",
   "execution_count": 44,
   "metadata": {
    "colab": {},
    "colab_type": "code",
    "id": "9u6SzZBJHrV7"
   },
   "outputs": [],
   "source": [
    "# 返回defaultdict字典，其中包含形式为（user_inner_id，rating）的元组列表。键是item的内部ID\n",
    "#{item_inner_id:[(user_inner_id:rating)]}。\n",
    "# train_set.ir"
   ]
  },
  {
   "cell_type": "code",
   "execution_count": 45,
   "metadata": {
    "colab": {},
    "colab_type": "code",
    "id": "ZC0Ppn_sHrV-"
   },
   "outputs": [],
   "source": [
    "# # 将数据集加载为(user, item, rating, timestamp)的列表\n",
    "# # 该方法读入的数据集，用户id与原始表格一致\n",
    "# datas_list = data.read_ratings('./ratings.csv')"
   ]
  },
  {
   "cell_type": "code",
   "execution_count": 46,
   "metadata": {
    "colab": {},
    "colab_type": "code",
    "id": "2BY8k-yuHrWC"
   },
   "outputs": [],
   "source": [
    "# type(datas_list), len(datas_list)"
   ]
  },
  {
   "cell_type": "code",
   "execution_count": 47,
   "metadata": {
    "colab": {},
    "colab_type": "code",
    "id": "j1b5OSp8HrWE"
   },
   "outputs": [],
   "source": [
    "# datas_list[:2]"
   ]
  },
  {
   "cell_type": "markdown",
   "metadata": {
    "colab_type": "text",
    "id": "zIq2qaAwHrWF"
   },
   "source": [
    "# SVD的3种算法："
   ]
  },
  {
   "cell_type": "markdown",
   "metadata": {
    "colab_type": "text",
    "id": "tta2HHqDHrWG"
   },
   "source": [
    "## 2.1 funkSVD算法"
   ]
  },
  {
   "cell_type": "markdown",
   "metadata": {
    "colab_type": "text",
    "id": "5QIfJBDDHrWG"
   },
   "source": [
    "FunkSVD目标是让用矩阵乘积得到的评分和用户的实际评分残差尽可能的小，使用均方差作为损失函数，同时为了防止过拟合，加入了L2正则化项，来寻找最终的矩阵P、Q。\n",
    "$$arg \\underset{p_{i}q_{j}}{min} \\sum _{i,j\\varepsilon K}(m_{ij}-p_{i}^Tq_{j})^2+\\lambda (\\left \\| p_{i} \\right \\|_{2}^2 + \\left \\| q_{j} \\right \\|_{2}^2)$$"
   ]
  },
  {
   "cell_type": "code",
   "execution_count": 48,
   "metadata": {
    "colab": {},
    "colab_type": "code",
    "id": "tk51snP5HrWH"
   },
   "outputs": [],
   "source": [
    "# biased=False代表使用funkSVD算法\n",
    "model = SVD(biased=False)"
   ]
  },
  {
   "cell_type": "code",
   "execution_count": 49,
   "metadata": {
    "colab": {},
    "colab_type": "code",
    "id": "O2rEn7oTHrWL"
   },
   "outputs": [],
   "source": [
    "# 定义K折交叉验证迭代器，K=3\n",
    "kf = KFold(n_splits=3)"
   ]
  },
  {
   "cell_type": "code",
   "execution_count": 50,
   "metadata": {
    "colab": {
     "base_uri": "https://localhost:8080/",
     "height": 102
    },
    "colab_type": "code",
    "id": "4l3_GEzdHrWN",
    "outputId": "fcd5ab96-e40d-4a49-d7d8-ae9b2b3f3686"
   },
   "outputs": [
    {
     "name": "stdout",
     "output_type": "stream",
     "text": [
      "RMSE: 0.8750\n",
      "RMSE: 0.8697\n",
      "RMSE: 0.8726\n",
      "CPU times: user 2min 5s, sys: 314 ms, total: 2min 5s\n",
      "Wall time: 2min 5s\n"
     ]
    }
   ],
   "source": [
    "%%time\n",
    "for trainset, testset in kf.split(data):\n",
    "    # 在训练集上训练\n",
    "    model.fit(trainset)\n",
    "    # 为测试集生成预测\n",
    "    predictions = model.test(testset)\n",
    "    # 计算rmse\n",
    "    accuracy.rmse(predictions, \n",
    "                  verbose=True) # 默认值为True，代表将打印计算值"
   ]
  },
  {
   "cell_type": "code",
   "execution_count": 51,
   "metadata": {
    "colab": {
     "base_uri": "https://localhost:8080/",
     "height": 34
    },
    "colab_type": "code",
    "id": "8WO88h82HrWQ",
    "outputId": "d6d69825-c129-4e3b-b084-393459dbfc84"
   },
   "outputs": [
    {
     "data": {
      "text/plain": [
       "True"
      ]
     },
     "execution_count": 51,
     "metadata": {
      "tags": []
     },
     "output_type": "execute_result"
    }
   ],
   "source": [
    "trainset.knows_user(0)"
   ]
  },
  {
   "cell_type": "code",
   "execution_count": 52,
   "metadata": {
    "colab": {
     "base_uri": "https://localhost:8080/",
     "height": 88
    },
    "colab_type": "code",
    "id": "ux03h2G-HrWT",
    "outputId": "226d4efc-5ba1-4d07-a6f5-5668ac74b6c8"
   },
   "outputs": [
    {
     "name": "stdout",
     "output_type": "stream",
     "text": [
      "user: 0          item: 1          r_ui = 3.50   est = 3.53   {'was_impossible': True, 'reason': 'User and item are unknown.'}\n",
      "CPU times: user 172 µs, sys: 1e+03 ns, total: 173 µs\n",
      "Wall time: 752 µs\n"
     ]
    }
   ],
   "source": [
    "%%time\n",
    "pred = model.predict(uid='0', iid='1', r_ui=3.5, verbose=True)"
   ]
  },
  {
   "cell_type": "code",
   "execution_count": 53,
   "metadata": {
    "colab": {
     "base_uri": "https://localhost:8080/",
     "height": 68
    },
    "colab_type": "code",
    "id": "0Oci8TgmHrWV",
    "outputId": "fbc69e5f-6037-46d1-8310-4ad31b9cdab4"
   },
   "outputs": [
    {
     "name": "stdout",
     "output_type": "stream",
     "text": [
      "user: 1          item: 2          r_ui = 3.50   est = 3.44   {'was_impossible': False}\n",
      "CPU times: user 314 µs, sys: 2 µs, total: 316 µs\n",
      "Wall time: 261 µs\n"
     ]
    }
   ],
   "source": [
    "%%time\n",
    "pred = model.predict(uid='1', iid='2', r_ui=3.5, verbose=True)"
   ]
  },
  {
   "cell_type": "markdown",
   "metadata": {
    "colab_type": "text",
    "id": "TOSjISxAHrWX"
   },
   "source": [
    "- `model.predict()`计算给定用户id和项目id的评分。\n",
    "- predict方法会将原始id转换为内部id，然后调用在每个派生类中定义的estimate方法。\n",
    "- `'was_impossible': True`如果预测是不可能的(例如，因为用户和/或项目是未知的)，则根据default_prediction()设置预测。\n",
    "- 如前面2块代码所示，给uid与iid参数传参时，传入真实id即可，方法内部会自己转为内部id进行预测。"
   ]
  },
  {
   "cell_type": "markdown",
   "metadata": {
    "colab_type": "text",
    "id": "lxOlhNTXHrWX"
   },
   "source": [
    "## 2.2 BiasSVD算法"
   ]
  },
  {
   "cell_type": "code",
   "execution_count": 54,
   "metadata": {
    "colab": {
     "base_uri": "https://localhost:8080/",
     "height": 34
    },
    "colab_type": "code",
    "id": "Vzb943Z6HrWX",
    "outputId": "7bdf21c1-3337-4697-8ac2-fd3b34606653"
   },
   "outputs": [
    {
     "data": {
      "text/plain": [
       "<surprise.prediction_algorithms.matrix_factorization.SVD at 0x7f343e48e5c0>"
      ]
     },
     "execution_count": 54,
     "metadata": {
      "tags": []
     },
     "output_type": "execute_result"
    }
   ],
   "source": [
    "# biased=True代表使用BiasSVD算法,默认值为True\n",
    "biassvd = SVD(biased=True)\n",
    "biassvd"
   ]
  },
  {
   "cell_type": "code",
   "execution_count": 55,
   "metadata": {
    "colab": {},
    "colab_type": "code",
    "id": "__SwPsgSHrWa"
   },
   "outputs": [],
   "source": [
    "# 3折交叉验证实例\n",
    "kf = KFold(n_splits=3)"
   ]
  },
  {
   "cell_type": "code",
   "execution_count": 56,
   "metadata": {
    "colab": {
     "base_uri": "https://localhost:8080/",
     "height": 102
    },
    "colab_type": "code",
    "id": "XJehxQjzHrWb",
    "outputId": "a83b1184-13ac-4944-9dc4-d152500e39ec"
   },
   "outputs": [
    {
     "name": "stdout",
     "output_type": "stream",
     "text": [
      "RMSE: 0.8442\n",
      "RMSE: 0.8467\n",
      "RMSE: 0.8455\n",
      "CPU times: user 2min 5s, sys: 319 ms, total: 2min 5s\n",
      "Wall time: 2min 5s\n"
     ]
    }
   ],
   "source": [
    "%%time\n",
    "for trainset, testset in kf.split(data):\n",
    "    # 在训练集上训练\n",
    "    biassvd.fit(trainset)\n",
    "    # 给测试集生成预测\n",
    "    predictions = biassvd.test(testset)\n",
    "    # 计算RMSE\n",
    "    accuracy.rmse(predictions, verbose=True)"
   ]
  },
  {
   "cell_type": "code",
   "execution_count": 57,
   "metadata": {
    "colab": {
     "base_uri": "https://localhost:8080/",
     "height": 34
    },
    "colab_type": "code",
    "id": "9SZsll1nHrWe",
    "outputId": "55185ce9-c92f-442c-d377-1c5112babdaf"
   },
   "outputs": [
    {
     "name": "stdout",
     "output_type": "stream",
     "text": [
      "user: 1          item: 2          r_ui = 3.50   est = 3.53   {'was_impossible': False}\n"
     ]
    }
   ],
   "source": [
    "pred = biassvd.predict(uid=1, iid=2, r_ui=3.5, verbose=True)"
   ]
  },
  {
   "cell_type": "code",
   "execution_count": 69,
   "metadata": {
    "colab": {
     "base_uri": "https://localhost:8080/",
     "height": 51
    },
    "colab_type": "code",
    "id": "dWmEEDREZUgW",
    "outputId": "ba821af3-e4d1-4661-d60d-edd0fa021cac"
   },
   "outputs": [
    {
     "name": "stdout",
     "output_type": "stream",
     "text": [
      "user: 1          item: 2          r_ui = 3.50   est = 3.59   {'was_impossible': False}\n"
     ]
    },
    {
     "data": {
      "text/plain": [
       "Prediction(uid='1', iid='2', r_ui=3.5, est=3.591033519079823, details={'was_impossible': False})"
      ]
     },
     "execution_count": 69,
     "metadata": {
      "tags": []
     },
     "output_type": "execute_result"
    }
   ],
   "source": [
    "biassvd.predict(uid='1', iid='2', r_ui=3.5, verbose=True)"
   ]
  },
  {
   "cell_type": "markdown",
   "metadata": {},
   "source": [
    "给参数`uid`和`iid`传参时，必须传入str类型，否则预测结果将会不准。"
   ]
  },
  {
   "cell_type": "markdown",
   "metadata": {
    "colab_type": "text",
    "id": "IWpu3lnXHrWg"
   },
   "source": [
    "## 2.3 SVD++算法"
   ]
  },
  {
   "cell_type": "code",
   "execution_count": 58,
   "metadata": {
    "colab": {},
    "colab_type": "code",
    "id": "FRY3x4TdHrWh"
   },
   "outputs": [],
   "source": [
    "from surprise.model_selection.split import train_test_split"
   ]
  },
  {
   "cell_type": "code",
   "execution_count": 59,
   "metadata": {
    "colab": {},
    "colab_type": "code",
    "id": "4Sxx5JwvHrWj"
   },
   "outputs": [],
   "source": [
    "svdpp = SVDpp()"
   ]
  },
  {
   "cell_type": "code",
   "execution_count": 60,
   "metadata": {
    "colab": {},
    "colab_type": "code",
    "id": "fUVQUlPHHrWk"
   },
   "outputs": [],
   "source": [
    "trainset,testset = train_test_split(data, \n",
    "                                    test_size=0.2,\n",
    "                                    random_state=30)"
   ]
  },
  {
   "cell_type": "code",
   "execution_count": 61,
   "metadata": {
    "colab": {
     "base_uri": "https://localhost:8080/",
     "height": 34
    },
    "colab_type": "code",
    "id": "Cj0T3WiKHrWm",
    "outputId": "47058bee-dcad-4700-8c7d-939112c9cf3b"
   },
   "outputs": [
    {
     "data": {
      "text/plain": [
       "(surprise.trainset.Trainset, list)"
      ]
     },
     "execution_count": 61,
     "metadata": {
      "tags": []
     },
     "output_type": "execute_result"
    }
   ],
   "source": [
    "type(trainset), type(testset)"
   ]
  },
  {
   "cell_type": "code",
   "execution_count": 62,
   "metadata": {
    "colab": {
     "base_uri": "https://localhost:8080/",
     "height": 34
    },
    "colab_type": "code",
    "id": "v5k7n_L_HrWo",
    "outputId": "e240dbf4-18b5-472c-db17-e1857ae357b4"
   },
   "outputs": [
    {
     "data": {
      "text/plain": [
       "7120"
      ]
     },
     "execution_count": 62,
     "metadata": {
      "tags": []
     },
     "output_type": "execute_result"
    }
   ],
   "source": [
    "trainset.n_users"
   ]
  },
  {
   "cell_type": "code",
   "execution_count": 63,
   "metadata": {
    "colab": {
     "base_uri": "https://localhost:8080/",
     "height": 34
    },
    "colab_type": "code",
    "id": "lIPTYnJdHrWq",
    "outputId": "0f3c45d2-73db-410e-f91c-3c1c44c7fcb6"
   },
   "outputs": [
    {
     "data": {
      "text/plain": [
       "[('2511', '3814', 4.5), ('923', '3243', 3.0)]"
      ]
     },
     "execution_count": 63,
     "metadata": {
      "tags": []
     },
     "output_type": "execute_result"
    }
   ],
   "source": [
    "testset[:2]"
   ]
  },
  {
   "cell_type": "code",
   "execution_count": 64,
   "metadata": {
    "colab": {
     "base_uri": "https://localhost:8080/",
     "height": 68
    },
    "colab_type": "code",
    "id": "tKpwCdt9HrWs",
    "outputId": "26547805-641c-4a5a-ceb3-91b4a8f203be"
   },
   "outputs": [
    {
     "name": "stdout",
     "output_type": "stream",
     "text": [
      "CPU times: user 58min 9s, sys: 316 ms, total: 58min 9s\n",
      "Wall time: 58min 11s\n"
     ]
    },
    {
     "data": {
      "text/plain": [
       "<surprise.prediction_algorithms.matrix_factorization.SVDpp at 0x7f343e48e630>"
      ]
     },
     "execution_count": 64,
     "metadata": {
      "tags": []
     },
     "output_type": "execute_result"
    }
   ],
   "source": [
    "%%time\n",
    "svdpp.fit(trainset)"
   ]
  },
  {
   "cell_type": "code",
   "execution_count": 65,
   "metadata": {
    "colab": {
     "base_uri": "https://localhost:8080/",
     "height": 51
    },
    "colab_type": "code",
    "id": "zvBhrZlcHrWu",
    "outputId": "9d39b39e-a776-4c28-8c77-dfb00e44dd33"
   },
   "outputs": [
    {
     "name": "stdout",
     "output_type": "stream",
     "text": [
      "CPU times: user 1min 22s, sys: 1.12 s, total: 1min 23s\n",
      "Wall time: 1min 21s\n"
     ]
    }
   ],
   "source": [
    "%%time\n",
    "predictions = svdpp.test(testset)"
   ]
  },
  {
   "cell_type": "code",
   "execution_count": 66,
   "metadata": {
    "colab": {
     "base_uri": "https://localhost:8080/",
     "height": 85
    },
    "colab_type": "code",
    "id": "8kFiPvtdHrWw",
    "outputId": "36518083-a28c-4563-a9a5-e6886a97de07"
   },
   "outputs": [
    {
     "name": "stdout",
     "output_type": "stream",
     "text": [
      "RMSE: 0.8211\n",
      "CPU times: user 181 ms, sys: 0 ns, total: 181 ms\n",
      "Wall time: 182 ms\n"
     ]
    },
    {
     "data": {
      "text/plain": [
       "0.821147080364167"
      ]
     },
     "execution_count": 66,
     "metadata": {
      "tags": []
     },
     "output_type": "execute_result"
    }
   ],
   "source": [
    "%%time\n",
    "accuracy.rmse(predictions, verbose=True)"
   ]
  },
  {
   "cell_type": "code",
   "execution_count": 67,
   "metadata": {
    "colab": {
     "base_uri": "https://localhost:8080/",
     "height": 34
    },
    "colab_type": "code",
    "id": "H-P4kwbiHrWz",
    "outputId": "c069686b-741b-47ca-cb26-6a660fd520f9"
   },
   "outputs": [
    {
     "name": "stdout",
     "output_type": "stream",
     "text": [
      "user: 1          item: 2          r_ui = 3.50   est = 3.53   {'was_impossible': False}\n"
     ]
    }
   ],
   "source": [
    "pred = svdpp.predict(uid=1, iid=2, r_ui=3.5, verbose=True)"
   ]
  },
  {
   "cell_type": "code",
   "execution_count": 68,
   "metadata": {
    "colab": {
     "base_uri": "https://localhost:8080/",
     "height": 51
    },
    "colab_type": "code",
    "id": "9IKqqbCyHrW1",
    "outputId": "dd0bb2ae-dfb4-4928-b31f-f2889cb92238"
   },
   "outputs": [
    {
     "name": "stdout",
     "output_type": "stream",
     "text": [
      "user: 1          item: 2          r_ui = 3.50   est = 3.68   {'was_impossible': False}\n"
     ]
    },
    {
     "data": {
      "text/plain": [
       "Prediction(uid='1', iid='2', r_ui=3.5, est=3.6772612335019317, details={'was_impossible': False})"
      ]
     },
     "execution_count": 68,
     "metadata": {
      "tags": []
     },
     "output_type": "execute_result"
    }
   ],
   "source": [
    "svdpp.predict(uid='1', iid='2', r_ui=3.5, verbose=True)"
   ]
  },
  {
   "cell_type": "markdown",
   "metadata": {
    "colab": {},
    "colab_type": "code",
    "id": "BTUlsBhEZJSR"
   },
   "source": [
    "# 3 总结"
   ]
  },
  {
   "cell_type": "markdown",
   "metadata": {},
   "source": [
    "1. 从预测的rmse值来看，`funkSVD > BiasSVD > SVDpp`；说明三个算法确实是由左向右的优化，而且是有效的优化；\n",
    "2. SVD++ 使用3折交叉验证耗时太长, 用了2h 5min 30s；不使用交叉验证时，SVD++耗时58min 9s；\n",
    "3. 通过2.2和2.3中的对比发现：向`model.predict()`的参数`uid`和`iid`传参时，必须传入str类型，否则预测结果将会不准。由于对SVD++进行3折交叉验证时，未使用字符类型进行传参，导致预测结果都是3.53，不具有参考性。\n",
    "4. Trainset类型的数据集中，它会自动生成从0开始的内部uid和iid，因此如果通过该类对象的实例方法查看时，需要留意；\n",
    "5. `model.predict()`进行预测时，可以向它传入真实`uid`和`iid`的str，该算法会自己转换为内部id后进行预测；\n",
    "6. 预测结果中，如果返回结果中有`{'was_impossible': True}`，如2.1中的预测结果，代表该用户和商品的组合并不存在，需要检查传入是否有误。\n",
    "7. funkSVD算法的目标函数，看起来和核心课第四周的ALS的目标函数相似，但测试集的均方根误差RMSE的值ALS算法的更低些，ALS(rmse=0.8366), funkSVD(rmse=0.8726)。"
   ]
  },
  {
   "cell_type": "code",
   "execution_count": null,
   "metadata": {},
   "outputs": [],
   "source": []
  }
 ],
 "metadata": {
  "accelerator": "GPU",
  "colab": {
   "name": "MQ_BI04_lesson04_Action02_MovielensSVD_1.ipynb",
   "provenance": []
  },
  "kernelspec": {
   "display_name": "Python 3",
   "language": "python",
   "name": "python3"
  },
  "language_info": {
   "codemirror_mode": {
    "name": "ipython",
    "version": 3
   },
   "file_extension": ".py",
   "mimetype": "text/x-python",
   "name": "python",
   "nbconvert_exporter": "python",
   "pygments_lexer": "ipython3",
   "version": "3.8.5"
  },
  "toc": {
   "base_numbering": 1,
   "nav_menu": {},
   "number_sections": true,
   "sideBar": true,
   "skip_h1_title": false,
   "title_cell": "Table of Contents",
   "title_sidebar": "Contents",
   "toc_cell": false,
   "toc_position": {
    "height": "calc(100% - 180px)",
    "left": "10px",
    "top": "150px",
    "width": "192.391px"
   },
   "toc_section_display": true,
   "toc_window_display": true
  },
  "varInspector": {
   "cols": {
    "lenName": 16,
    "lenType": 16,
    "lenVar": 40
   },
   "kernels_config": {
    "python": {
     "delete_cmd_postfix": "",
     "delete_cmd_prefix": "del ",
     "library": "var_list.py",
     "varRefreshCmd": "print(var_dic_list())"
    },
    "r": {
     "delete_cmd_postfix": ") ",
     "delete_cmd_prefix": "rm(",
     "library": "var_list.r",
     "varRefreshCmd": "cat(var_dic_list()) "
    }
   },
   "types_to_exclude": [
    "module",
    "function",
    "builtin_function_or_method",
    "instance",
    "_Feature"
   ],
   "window_display": false
  }
 },
 "nbformat": 4,
 "nbformat_minor": 1
}
