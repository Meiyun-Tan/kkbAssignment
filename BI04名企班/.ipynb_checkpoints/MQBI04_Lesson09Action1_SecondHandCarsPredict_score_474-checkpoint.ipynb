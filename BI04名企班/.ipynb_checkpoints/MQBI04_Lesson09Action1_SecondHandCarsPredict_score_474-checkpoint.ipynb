{
 "cells": [
  {
   "cell_type": "markdown",
   "metadata": {
    "id": "HjtD4m4U1_tl"
   },
   "source": [
    "二手车价格预测    \n",
    "used_car_train_20200313.csv      \n",
    "used_car_testB_20200421.csv     \n",
    "数据来自某交易平台的二手车交易记录    \n",
    "https://tianchi.aliyun.com/competition/entrance/231784/introduction      \n",
    "ToDo：给你一辆车的各个属性（除了price字段），预测它的价格      \n",
    "使用神经网络来完成预测"
   ]
  },
  {
   "cell_type": "code",
   "execution_count": 1,
   "metadata": {
    "colab": {
     "base_uri": "https://localhost:8080/"
    },
    "id": "B6PUVsOh2JMl",
    "outputId": "ddbf0455-82bf-4b8a-f9a6-e9950f39c553"
   },
   "outputs": [
    {
     "name": "stdout",
     "output_type": "stream",
     "text": [
      "Drive already mounted at /content/drive; to attempt to forcibly remount, call drive.mount(\"/content/drive\", force_remount=True).\n"
     ]
    }
   ],
   "source": [
    "from google.colab import drive\n",
    "drive.mount('/content/drive')\n"
   ]
  },
  {
   "cell_type": "code",
   "execution_count": 2,
   "metadata": {
    "id": "vHMYxIab2I2u"
   },
   "outputs": [],
   "source": [
    "import os\n",
    "os.chdir(\"/content/drive/My Drive/Colab Notebooks/\")"
   ]
  },
  {
   "cell_type": "code",
   "execution_count": 3,
   "metadata": {
    "colab": {
     "base_uri": "https://localhost:8080/"
    },
    "id": "jvoDblSf2nSN",
    "outputId": "b8828efb-c539-456e-fed5-4aa8ebe71ed7"
   },
   "outputs": [
    {
     "name": "stdout",
     "output_type": "stream",
     "text": [
      "/bin/bash: -c: line 0: syntax error near unexpected token `('\n",
      "/bin/bash: -c: line 0: `apt-get install -y -qq software-properties-common python-software-properties module-init-tools !add-apt-repository -y ppa:alessandro-strada/ppa 2>&1 > /dev/null !apt-get update -qq 2>&1 > /dev/null !apt-get -y install -qq google-drive-ocamlfuse fuse from google.colab import auth auth.authenticate_user() from oauth2client.client import GoogleCredentials creds = GoogleCredentials.get_application_default() import getpass !google-drive-ocamlfuse -headless -id={creds.client_id} -secret={creds.client_secret} &1 | grep URL vcode = getpass.getpass() !echo {vcode} | google-drive-ocamlfuse -headless -id={creds.client_id} -secret={creds.client_secret}'\n"
     ]
    }
   ],
   "source": [
    "!apt-get install -y -qq software-properties-common python-software-properties module-init-tools !add-apt-repository -y ppa:alessandro-strada/ppa 2>&1 > /dev/null !apt-get update -qq 2>&1 > /dev/null !apt-get -y install -qq google-drive-ocamlfuse fuse from google.colab import auth auth.authenticate_user() from oauth2client.client import GoogleCredentials creds = GoogleCredentials.get_application_default() import getpass !google-drive-ocamlfuse -headless -id={creds.client_id} -secret={creds.client_secret} &1 | grep URL vcode = getpass.getpass() !echo {vcode} | google-drive-ocamlfuse -headless -id={creds.client_id} -secret={creds.client_secret}\n"
   ]
  },
  {
   "cell_type": "code",
   "execution_count": 4,
   "metadata": {
    "colab": {
     "base_uri": "https://localhost:8080/"
    },
    "id": "jVwJ8fu62oJk",
    "outputId": "f7ed93cd-6409-4dc6-efef-819b1fecbedf"
   },
   "outputs": [
    {
     "name": "stdout",
     "output_type": "stream",
     "text": [
      "/bin/bash: /opt/bin/nvidia-smi: No such file or directory\n"
     ]
    }
   ],
   "source": [
    "!/opt/bin/nvidia-smi"
   ]
  },
  {
   "cell_type": "code",
   "execution_count": 5,
   "metadata": {
    "id": "1AyC84IO1_tm"
   },
   "outputs": [],
   "source": [
    "import numpy as np\n",
    "import pandas as pd\n",
    "import seaborn as sns\n",
    "import matplotlib.pyplot as plt\n",
    "from tqdm.notebook import tnrange\n",
    "%matplotlib inline"
   ]
  },
  {
   "cell_type": "code",
   "execution_count": 6,
   "metadata": {
    "id": "DyWZgnpM1_tr"
   },
   "outputs": [],
   "source": [
    "pd.options.display.max_columns=100"
   ]
  },
  {
   "cell_type": "code",
   "execution_count": 7,
   "metadata": {
    "id": "ndwwCgqN1_tv"
   },
   "outputs": [],
   "source": [
    "from sklearn.preprocessing import StandardScaler\n",
    "from sklearn.model_selection import train_test_split"
   ]
  },
  {
   "cell_type": "code",
   "execution_count": 8,
   "metadata": {
    "id": "WqvmNXct1_ty"
   },
   "outputs": [],
   "source": [
    "import torch\n",
    "from torch import nn\n",
    "from torch.utils.data import DataLoader, TensorDataset"
   ]
  },
  {
   "cell_type": "code",
   "execution_count": 9,
   "metadata": {
    "id": "ZWvSATdG1_t1"
   },
   "outputs": [],
   "source": [
    "np.random.seed(30)\n",
    "torch.manual_seed(30)\n",
    "torch.cuda.manual_seed(30)\n",
    "torch.backends.cudnn.determindistic = True\n",
    "torch.backends.cudnn.benchmark = True"
   ]
  },
  {
   "cell_type": "markdown",
   "metadata": {
    "id": "ycVUWRFj1_t3"
   },
   "source": [
    "# 加载数据集"
   ]
  },
  {
   "cell_type": "code",
   "execution_count": 10,
   "metadata": {
    "id": "JX0FeVht1_t4"
   },
   "outputs": [],
   "source": [
    "# 存储删除的列名\n",
    "need_drop = []"
   ]
  },
  {
   "cell_type": "code",
   "execution_count": 11,
   "metadata": {
    "id": "Hrsmt98V1_t7"
   },
   "outputs": [],
   "source": [
    "train_path = './secondHandCar/used_car_train_20200313.csv'\n",
    "test_path = './secondHandCar/used_car_testB_20200421.csv'"
   ]
  },
  {
   "cell_type": "code",
   "execution_count": 12,
   "metadata": {
    "id": "qm5pnU971_t9"
   },
   "outputs": [],
   "source": [
    "df_train = pd.read_csv(train_path, sep=' ')"
   ]
  },
  {
   "cell_type": "code",
   "execution_count": 13,
   "metadata": {
    "id": "k2QKCAbb1_t_"
   },
   "outputs": [],
   "source": [
    "df_test = pd.read_csv(test_path, sep=' ')"
   ]
  },
  {
   "cell_type": "code",
   "execution_count": 14,
   "metadata": {
    "id": "wWu6JxIk1_uC"
   },
   "outputs": [],
   "source": [
    "sample_path = './secondHandCar/used_car_sample_submit.csv'\n",
    "df_sample = pd.read_csv(sample_path)"
   ]
  },
  {
   "cell_type": "markdown",
   "metadata": {
    "id": "fR26623T1_uE"
   },
   "source": [
    "## 认识数据集并预处理"
   ]
  },
  {
   "cell_type": "code",
   "execution_count": 15,
   "metadata": {
    "colab": {
     "base_uri": "https://localhost:8080/"
    },
    "id": "_F5hNSed1_uE",
    "outputId": "dd5eec7b-2c10-4da7-f216-99028fc7b40f",
    "scrolled": false
   },
   "outputs": [
    {
     "data": {
      "text/plain": [
       "((150000, 31), (50000, 30))"
      ]
     },
     "execution_count": 15,
     "metadata": {
      "tags": []
     },
     "output_type": "execute_result"
    }
   ],
   "source": [
    "df_train.shape, df_test.shape"
   ]
  },
  {
   "cell_type": "code",
   "execution_count": 16,
   "metadata": {
    "colab": {
     "base_uri": "https://localhost:8080/",
     "height": 100
    },
    "id": "6q6_szXb1_uH",
    "outputId": "d1966e8f-e9f4-403b-cb36-324ecebf96ee"
   },
   "outputs": [
    {
     "data": {
      "text/html": [
       "<div>\n",
       "<style scoped>\n",
       "    .dataframe tbody tr th:only-of-type {\n",
       "        vertical-align: middle;\n",
       "    }\n",
       "\n",
       "    .dataframe tbody tr th {\n",
       "        vertical-align: top;\n",
       "    }\n",
       "\n",
       "    .dataframe thead th {\n",
       "        text-align: right;\n",
       "    }\n",
       "</style>\n",
       "<table border=\"1\" class=\"dataframe\">\n",
       "  <thead>\n",
       "    <tr style=\"text-align: right;\">\n",
       "      <th></th>\n",
       "      <th>SaleID</th>\n",
       "      <th>name</th>\n",
       "      <th>regDate</th>\n",
       "      <th>model</th>\n",
       "      <th>brand</th>\n",
       "      <th>bodyType</th>\n",
       "      <th>fuelType</th>\n",
       "      <th>gearbox</th>\n",
       "      <th>power</th>\n",
       "      <th>kilometer</th>\n",
       "      <th>notRepairedDamage</th>\n",
       "      <th>regionCode</th>\n",
       "      <th>seller</th>\n",
       "      <th>offerType</th>\n",
       "      <th>creatDate</th>\n",
       "      <th>price</th>\n",
       "      <th>v_0</th>\n",
       "      <th>v_1</th>\n",
       "      <th>v_2</th>\n",
       "      <th>v_3</th>\n",
       "      <th>v_4</th>\n",
       "      <th>v_5</th>\n",
       "      <th>v_6</th>\n",
       "      <th>v_7</th>\n",
       "      <th>v_8</th>\n",
       "      <th>v_9</th>\n",
       "      <th>v_10</th>\n",
       "      <th>v_11</th>\n",
       "      <th>v_12</th>\n",
       "      <th>v_13</th>\n",
       "      <th>v_14</th>\n",
       "    </tr>\n",
       "  </thead>\n",
       "  <tbody>\n",
       "    <tr>\n",
       "      <th>0</th>\n",
       "      <td>0</td>\n",
       "      <td>736</td>\n",
       "      <td>20040402</td>\n",
       "      <td>30.0</td>\n",
       "      <td>6</td>\n",
       "      <td>1.0</td>\n",
       "      <td>0.0</td>\n",
       "      <td>0.0</td>\n",
       "      <td>60</td>\n",
       "      <td>12.5</td>\n",
       "      <td>0.0</td>\n",
       "      <td>1046</td>\n",
       "      <td>0</td>\n",
       "      <td>0</td>\n",
       "      <td>20160404</td>\n",
       "      <td>1850</td>\n",
       "      <td>43.357796</td>\n",
       "      <td>3.966344</td>\n",
       "      <td>0.050257</td>\n",
       "      <td>2.159744</td>\n",
       "      <td>1.143786</td>\n",
       "      <td>0.235676</td>\n",
       "      <td>0.101988</td>\n",
       "      <td>0.129549</td>\n",
       "      <td>0.022816</td>\n",
       "      <td>0.097462</td>\n",
       "      <td>-2.881803</td>\n",
       "      <td>2.804097</td>\n",
       "      <td>-2.420821</td>\n",
       "      <td>0.795292</td>\n",
       "      <td>0.914762</td>\n",
       "    </tr>\n",
       "  </tbody>\n",
       "</table>\n",
       "</div>"
      ],
      "text/plain": [
       "   SaleID  name   regDate  model  brand  bodyType  fuelType  gearbox  power  \\\n",
       "0       0   736  20040402   30.0      6       1.0       0.0      0.0     60   \n",
       "\n",
       "   kilometer notRepairedDamage  regionCode  seller  offerType  creatDate  \\\n",
       "0       12.5               0.0        1046       0          0   20160404   \n",
       "\n",
       "   price        v_0       v_1       v_2       v_3       v_4       v_5  \\\n",
       "0   1850  43.357796  3.966344  0.050257  2.159744  1.143786  0.235676   \n",
       "\n",
       "        v_6       v_7       v_8       v_9      v_10      v_11      v_12  \\\n",
       "0  0.101988  0.129549  0.022816  0.097462 -2.881803  2.804097 -2.420821   \n",
       "\n",
       "       v_13      v_14  \n",
       "0  0.795292  0.914762  "
      ]
     },
     "execution_count": 16,
     "metadata": {
      "tags": []
     },
     "output_type": "execute_result"
    }
   ],
   "source": [
    "df_train.head(1)"
   ]
  },
  {
   "cell_type": "code",
   "execution_count": 17,
   "metadata": {
    "colab": {
     "base_uri": "https://localhost:8080/",
     "height": 100
    },
    "id": "hnPA118O1_uK",
    "outputId": "2ff7302e-ee1f-4353-a42c-a12690dbab05"
   },
   "outputs": [
    {
     "data": {
      "text/html": [
       "<div>\n",
       "<style scoped>\n",
       "    .dataframe tbody tr th:only-of-type {\n",
       "        vertical-align: middle;\n",
       "    }\n",
       "\n",
       "    .dataframe tbody tr th {\n",
       "        vertical-align: top;\n",
       "    }\n",
       "\n",
       "    .dataframe thead th {\n",
       "        text-align: right;\n",
       "    }\n",
       "</style>\n",
       "<table border=\"1\" class=\"dataframe\">\n",
       "  <thead>\n",
       "    <tr style=\"text-align: right;\">\n",
       "      <th></th>\n",
       "      <th>SaleID</th>\n",
       "      <th>name</th>\n",
       "      <th>regDate</th>\n",
       "      <th>model</th>\n",
       "      <th>brand</th>\n",
       "      <th>bodyType</th>\n",
       "      <th>fuelType</th>\n",
       "      <th>gearbox</th>\n",
       "      <th>power</th>\n",
       "      <th>kilometer</th>\n",
       "      <th>notRepairedDamage</th>\n",
       "      <th>regionCode</th>\n",
       "      <th>seller</th>\n",
       "      <th>offerType</th>\n",
       "      <th>creatDate</th>\n",
       "      <th>v_0</th>\n",
       "      <th>v_1</th>\n",
       "      <th>v_2</th>\n",
       "      <th>v_3</th>\n",
       "      <th>v_4</th>\n",
       "      <th>v_5</th>\n",
       "      <th>v_6</th>\n",
       "      <th>v_7</th>\n",
       "      <th>v_8</th>\n",
       "      <th>v_9</th>\n",
       "      <th>v_10</th>\n",
       "      <th>v_11</th>\n",
       "      <th>v_12</th>\n",
       "      <th>v_13</th>\n",
       "      <th>v_14</th>\n",
       "    </tr>\n",
       "  </thead>\n",
       "  <tbody>\n",
       "    <tr>\n",
       "      <th>0</th>\n",
       "      <td>200000</td>\n",
       "      <td>133777</td>\n",
       "      <td>20000501</td>\n",
       "      <td>67.0</td>\n",
       "      <td>0</td>\n",
       "      <td>1.0</td>\n",
       "      <td>0.0</td>\n",
       "      <td>0.0</td>\n",
       "      <td>101</td>\n",
       "      <td>15.0</td>\n",
       "      <td>0.0</td>\n",
       "      <td>5019</td>\n",
       "      <td>0</td>\n",
       "      <td>0</td>\n",
       "      <td>20160308</td>\n",
       "      <td>42.142061</td>\n",
       "      <td>-3.094739</td>\n",
       "      <td>-0.7213</td>\n",
       "      <td>1.466344</td>\n",
       "      <td>1.009846</td>\n",
       "      <td>0.23652</td>\n",
       "      <td>0.000241</td>\n",
       "      <td>0.105319</td>\n",
       "      <td>0.046233</td>\n",
       "      <td>0.094522</td>\n",
       "      <td>3.619512</td>\n",
       "      <td>-0.280607</td>\n",
       "      <td>-2.019761</td>\n",
       "      <td>0.978828</td>\n",
       "      <td>0.803322</td>\n",
       "    </tr>\n",
       "  </tbody>\n",
       "</table>\n",
       "</div>"
      ],
      "text/plain": [
       "   SaleID    name   regDate  model  brand  bodyType  fuelType  gearbox  power  \\\n",
       "0  200000  133777  20000501   67.0      0       1.0       0.0      0.0    101   \n",
       "\n",
       "   kilometer notRepairedDamage  regionCode  seller  offerType  creatDate  \\\n",
       "0       15.0               0.0        5019       0          0   20160308   \n",
       "\n",
       "         v_0       v_1     v_2       v_3       v_4      v_5       v_6  \\\n",
       "0  42.142061 -3.094739 -0.7213  1.466344  1.009846  0.23652  0.000241   \n",
       "\n",
       "        v_7       v_8       v_9      v_10      v_11      v_12      v_13  \\\n",
       "0  0.105319  0.046233  0.094522  3.619512 -0.280607 -2.019761  0.978828   \n",
       "\n",
       "       v_14  \n",
       "0  0.803322  "
      ]
     },
     "execution_count": 17,
     "metadata": {
      "tags": []
     },
     "output_type": "execute_result"
    }
   ],
   "source": [
    "df_test.head(1)"
   ]
  },
  {
   "cell_type": "code",
   "execution_count": 18,
   "metadata": {
    "colab": {
     "base_uri": "https://localhost:8080/"
    },
    "id": "H4nnLpmy1_uN",
    "outputId": "4b010c5b-9f1e-46b6-d5c8-dca3f7eb1bdc"
   },
   "outputs": [
    {
     "data": {
      "text/plain": [
       "True"
      ]
     },
     "execution_count": 18,
     "metadata": {
      "tags": []
     },
     "output_type": "execute_result"
    }
   ],
   "source": [
    "df_train['SaleID'].is_unique"
   ]
  },
  {
   "cell_type": "code",
   "execution_count": 19,
   "metadata": {
    "id": "aW9sBxx31_uP"
   },
   "outputs": [],
   "source": [
    "need_drop.append('SaleID')"
   ]
  },
  {
   "cell_type": "markdown",
   "metadata": {
    "id": "95_GC_Kb1_uS"
   },
   "source": [
    "### 处理日期列"
   ]
  },
  {
   "cell_type": "code",
   "execution_count": 20,
   "metadata": {
    "id": "NyvkJawj1_uS"
   },
   "outputs": [],
   "source": [
    "# def parse_date(df):\n",
    "#     \"\"\"解析日期列\"\"\"\n",
    "#     date_cols = ['regDate', 'creatDate']\n",
    "#     for col in date_cols:\n",
    "#         df[col] = pd.to_datetime(df[col], errors='coerce', format=\"%Y%m%d\")\n",
    "#     return df"
   ]
  },
  {
   "cell_type": "code",
   "execution_count": 21,
   "metadata": {
    "id": "Wdmte47-1_uU"
   },
   "outputs": [],
   "source": [
    "def parseDate(x, rule):\n",
    "    \"\"\"解析日期，%Y代表4位年，%m代表2位月，%d代表2位日\"\"\"\n",
    "    date_str = str(x)\n",
    "    if rule == \"%Y\":\n",
    "        result = int(date_str[:4])\n",
    "    elif rule == \"%m\":\n",
    "        result = int(date_str[4:6])\n",
    "    elif rule == \"%d\":\n",
    "        result = int(date_str[-2:])\n",
    "    else:\n",
    "        raise ValueError(\"无法解析的rule\")\n",
    "    return result if result != 0 else np.nan"
   ]
  },
  {
   "cell_type": "code",
   "execution_count": 22,
   "metadata": {
    "colab": {
     "base_uri": "https://localhost:8080/"
    },
    "id": "ymZ6lckx1_uW",
    "outputId": "ca61258a-8427-4e17-888c-79aa7105ec99"
   },
   "outputs": [
    {
     "data": {
      "text/plain": [
       "11347"
      ]
     },
     "execution_count": 22,
     "metadata": {
      "tags": []
     },
     "output_type": "execute_result"
    }
   ],
   "source": [
    "# regDate直接转日期，会有11347个样本解析出错\n",
    "pd.to_datetime(df_train['regDate'], errors='coerce', format=\"%Y%m%d\").isna().sum()"
   ]
  },
  {
   "cell_type": "code",
   "execution_count": 23,
   "metadata": {
    "colab": {
     "base_uri": "https://localhost:8080/"
    },
    "id": "593II0x01_uZ",
    "outputId": "09f04db2-56cb-40ea-cad3-18e34f124bb2"
   },
   "outputs": [
    {
     "data": {
      "text/plain": [
       "0"
      ]
     },
     "execution_count": 23,
     "metadata": {
      "tags": []
     },
     "output_type": "execute_result"
    }
   ],
   "source": [
    "# creatDate均可以正常解析为日期\n",
    "pd.to_datetime(df_train['creatDate'], errors='coerce', format=\"%Y%m%d\").isna().sum()"
   ]
  },
  {
   "cell_type": "code",
   "execution_count": 24,
   "metadata": {
    "id": "lH8sdl6k1_uc"
   },
   "outputs": [],
   "source": [
    "# 注册年份\n",
    "regYear = df_train['regDate'].apply(parseDate, rule='%Y')"
   ]
  },
  {
   "cell_type": "code",
   "execution_count": 25,
   "metadata": {
    "colab": {
     "base_uri": "https://localhost:8080/"
    },
    "id": "DLrSrm4q1_ue",
    "outputId": "e079882f-3cb7-44ee-f67b-716fec2780b5"
   },
   "outputs": [
    {
     "data": {
      "text/plain": [
       "0"
      ]
     },
     "execution_count": 25,
     "metadata": {
      "tags": []
     },
     "output_type": "execute_result"
    }
   ],
   "source": [
    "regYear.isna().sum()"
   ]
  },
  {
   "cell_type": "code",
   "execution_count": 26,
   "metadata": {
    "colab": {
     "base_uri": "https://localhost:8080/"
    },
    "id": "Fv65qjC61_uj",
    "outputId": "7db671c1-51c6-43e2-eff0-b2018892a836"
   },
   "outputs": [
    {
     "data": {
      "text/plain": [
       "11347"
      ]
     },
     "execution_count": 26,
     "metadata": {
      "tags": []
     },
     "output_type": "execute_result"
    }
   ],
   "source": [
    "# 注册月份，有缺失\n",
    "regMonth = df_train['regDate'].apply(parseDate, rule='%m')\n",
    "regMonth.isna().sum()"
   ]
  },
  {
   "cell_type": "code",
   "execution_count": 27,
   "metadata": {
    "colab": {
     "base_uri": "https://localhost:8080/"
    },
    "id": "54aiYU7F1_ul",
    "outputId": "29f3a049-50da-465d-f17d-c9f384f00c6f"
   },
   "outputs": [
    {
     "data": {
      "text/plain": [
       "0"
      ]
     },
     "execution_count": 27,
     "metadata": {
      "tags": []
     },
     "output_type": "execute_result"
    }
   ],
   "source": [
    "regDay = df_train['regDate'].apply(parseDate, rule='%d')\n",
    "regDay.isna().sum()"
   ]
  },
  {
   "cell_type": "code",
   "execution_count": 28,
   "metadata": {
    "colab": {
     "base_uri": "https://localhost:8080/"
    },
    "id": "7bl7FDH61_un",
    "outputId": "a715a19d-41bd-433f-d9c6-dbcd3f3ab9ca"
   },
   "outputs": [
    {
     "data": {
      "text/plain": [
       "array([ 4.,  3.,  9.,  1.,  6.,  7.,  2.,  8., 11., nan, 10., 12.,  5.])"
      ]
     },
     "execution_count": 28,
     "metadata": {
      "tags": []
     },
     "output_type": "execute_result"
    }
   ],
   "source": [
    "regMonth.unique()"
   ]
  },
  {
   "cell_type": "code",
   "execution_count": 29,
   "metadata": {
    "colab": {
     "base_uri": "https://localhost:8080/"
    },
    "id": "X7t_0bZK1_up",
    "outputId": "914137a1-0137-4385-ae19-c23e0e55c200"
   },
   "outputs": [
    {
     "data": {
      "text/plain": [
       "array([ 2,  1,  3,  8, 11,  6,  5, 12,  7, 10,  9,  4])"
      ]
     },
     "execution_count": 29,
     "metadata": {
      "tags": []
     },
     "output_type": "execute_result"
    }
   ],
   "source": [
    "regDay.unique()"
   ]
  },
  {
   "cell_type": "markdown",
   "metadata": {
    "id": "D5ztXMEl1_ut"
   },
   "source": [
    "注册日期里，月份存在缺失，而日只有1-12号，判断注册日期的月份和日有误；只有年份可以利用，因此计算注册时间和上架售卖时间的差值时，只计算年份差值。"
   ]
  },
  {
   "cell_type": "code",
   "execution_count": 30,
   "metadata": {
    "colab": {
     "base_uri": "https://localhost:8080/"
    },
    "id": "KrmPACEY1_uu",
    "outputId": "e22582f8-e9fc-4ceb-e0d8-79b4ce936b5f"
   },
   "outputs": [
    {
     "data": {
      "text/plain": [
       "creatDate    20150618\n",
       "regDate      19910001\n",
       "dtype: int64"
      ]
     },
     "execution_count": 30,
     "metadata": {
      "tags": []
     },
     "output_type": "execute_result"
    }
   ],
   "source": [
    "df_train[['creatDate', 'regDate']].min()"
   ]
  },
  {
   "cell_type": "code",
   "execution_count": 31,
   "metadata": {
    "id": "DEHqEp-W1_uw"
   },
   "outputs": [],
   "source": [
    "def getdiffYear(df):\n",
    "    \"\"\"计算上架售卖年份与注册年份之差 \"\"\"\n",
    "    regYear = df['regDate'].apply(parseDate, rule='%Y')\n",
    "    createYear = df['creatDate'].apply(parseDate, rule='%Y')\n",
    "    df['diffYear'] = createYear - regYear\n",
    "    return df"
   ]
  },
  {
   "cell_type": "code",
   "execution_count": 32,
   "metadata": {
    "id": "SX291cx-1_uy"
   },
   "outputs": [],
   "source": [
    "df_train = getdiffYear(df_train)\n",
    "df_test = getdiffYear(df_test)"
   ]
  },
  {
   "cell_type": "code",
   "execution_count": 33,
   "metadata": {
    "id": "yZ1LasSZ1_u1"
   },
   "outputs": [],
   "source": [
    "need_drop += ['creatDate', 'regDate']"
   ]
  },
  {
   "cell_type": "code",
   "execution_count": 34,
   "metadata": {
    "colab": {
     "base_uri": "https://localhost:8080/"
    },
    "id": "X0RVdOHo1_u3",
    "outputId": "cd8338a3-7566-4a95-8d10-bc1a9106d8a7"
   },
   "outputs": [
    {
     "data": {
      "text/plain": [
       "['SaleID', 'creatDate', 'regDate']"
      ]
     },
     "execution_count": 34,
     "metadata": {
      "tags": []
     },
     "output_type": "execute_result"
    }
   ],
   "source": [
    "need_drop"
   ]
  },
  {
   "cell_type": "markdown",
   "metadata": {
    "id": "4sxyzbSN1_u6"
   },
   "source": [
    "### 快速查看统计信息"
   ]
  },
  {
   "cell_type": "code",
   "execution_count": 35,
   "metadata": {
    "colab": {
     "base_uri": "https://localhost:8080/",
     "height": 317
    },
    "id": "GY7bjOaA1_u6",
    "outputId": "8401cc7d-6273-4358-a898-765ec7bf0293"
   },
   "outputs": [
    {
     "data": {
      "text/html": [
       "<div>\n",
       "<style scoped>\n",
       "    .dataframe tbody tr th:only-of-type {\n",
       "        vertical-align: middle;\n",
       "    }\n",
       "\n",
       "    .dataframe tbody tr th {\n",
       "        vertical-align: top;\n",
       "    }\n",
       "\n",
       "    .dataframe thead th {\n",
       "        text-align: right;\n",
       "    }\n",
       "</style>\n",
       "<table border=\"1\" class=\"dataframe\">\n",
       "  <thead>\n",
       "    <tr style=\"text-align: right;\">\n",
       "      <th></th>\n",
       "      <th>SaleID</th>\n",
       "      <th>name</th>\n",
       "      <th>regDate</th>\n",
       "      <th>model</th>\n",
       "      <th>brand</th>\n",
       "      <th>bodyType</th>\n",
       "      <th>fuelType</th>\n",
       "      <th>gearbox</th>\n",
       "      <th>power</th>\n",
       "      <th>kilometer</th>\n",
       "      <th>regionCode</th>\n",
       "      <th>seller</th>\n",
       "      <th>offerType</th>\n",
       "      <th>creatDate</th>\n",
       "      <th>price</th>\n",
       "      <th>v_0</th>\n",
       "      <th>v_1</th>\n",
       "      <th>v_2</th>\n",
       "      <th>v_3</th>\n",
       "      <th>v_4</th>\n",
       "      <th>v_5</th>\n",
       "      <th>v_6</th>\n",
       "      <th>v_7</th>\n",
       "      <th>v_8</th>\n",
       "      <th>v_9</th>\n",
       "      <th>v_10</th>\n",
       "      <th>v_11</th>\n",
       "      <th>v_12</th>\n",
       "      <th>v_13</th>\n",
       "      <th>v_14</th>\n",
       "      <th>diffYear</th>\n",
       "    </tr>\n",
       "  </thead>\n",
       "  <tbody>\n",
       "    <tr>\n",
       "      <th>count</th>\n",
       "      <td>150000.000000</td>\n",
       "      <td>150000.000000</td>\n",
       "      <td>1.500000e+05</td>\n",
       "      <td>149999.000000</td>\n",
       "      <td>150000.000000</td>\n",
       "      <td>145494.000000</td>\n",
       "      <td>141320.000000</td>\n",
       "      <td>144019.000000</td>\n",
       "      <td>150000.000000</td>\n",
       "      <td>150000.000000</td>\n",
       "      <td>150000.000000</td>\n",
       "      <td>150000.000000</td>\n",
       "      <td>150000.0</td>\n",
       "      <td>1.500000e+05</td>\n",
       "      <td>150000.000000</td>\n",
       "      <td>150000.000000</td>\n",
       "      <td>150000.000000</td>\n",
       "      <td>150000.000000</td>\n",
       "      <td>150000.000000</td>\n",
       "      <td>150000.000000</td>\n",
       "      <td>150000.000000</td>\n",
       "      <td>150000.000000</td>\n",
       "      <td>150000.000000</td>\n",
       "      <td>150000.000000</td>\n",
       "      <td>150000.000000</td>\n",
       "      <td>150000.000000</td>\n",
       "      <td>150000.000000</td>\n",
       "      <td>150000.000000</td>\n",
       "      <td>150000.000000</td>\n",
       "      <td>150000.000000</td>\n",
       "      <td>150000.000000</td>\n",
       "    </tr>\n",
       "    <tr>\n",
       "      <th>mean</th>\n",
       "      <td>74999.500000</td>\n",
       "      <td>68349.172873</td>\n",
       "      <td>2.003417e+07</td>\n",
       "      <td>47.129021</td>\n",
       "      <td>8.052733</td>\n",
       "      <td>1.792369</td>\n",
       "      <td>0.375842</td>\n",
       "      <td>0.224943</td>\n",
       "      <td>119.316547</td>\n",
       "      <td>12.597160</td>\n",
       "      <td>2583.077267</td>\n",
       "      <td>0.000007</td>\n",
       "      <td>0.0</td>\n",
       "      <td>2.016033e+07</td>\n",
       "      <td>5923.327333</td>\n",
       "      <td>44.406268</td>\n",
       "      <td>-0.044809</td>\n",
       "      <td>0.080765</td>\n",
       "      <td>0.078833</td>\n",
       "      <td>0.017875</td>\n",
       "      <td>0.248204</td>\n",
       "      <td>0.044923</td>\n",
       "      <td>0.124692</td>\n",
       "      <td>0.058144</td>\n",
       "      <td>0.061996</td>\n",
       "      <td>-0.001000</td>\n",
       "      <td>0.009035</td>\n",
       "      <td>0.004813</td>\n",
       "      <td>0.000313</td>\n",
       "      <td>-0.000688</td>\n",
       "      <td>12.642707</td>\n",
       "    </tr>\n",
       "    <tr>\n",
       "      <th>std</th>\n",
       "      <td>43301.414527</td>\n",
       "      <td>61103.875095</td>\n",
       "      <td>5.364988e+04</td>\n",
       "      <td>49.536040</td>\n",
       "      <td>7.864956</td>\n",
       "      <td>1.760640</td>\n",
       "      <td>0.548677</td>\n",
       "      <td>0.417546</td>\n",
       "      <td>177.168419</td>\n",
       "      <td>3.919576</td>\n",
       "      <td>1885.363218</td>\n",
       "      <td>0.002582</td>\n",
       "      <td>0.0</td>\n",
       "      <td>1.067328e+02</td>\n",
       "      <td>7501.998477</td>\n",
       "      <td>2.457548</td>\n",
       "      <td>3.641893</td>\n",
       "      <td>2.929618</td>\n",
       "      <td>2.026514</td>\n",
       "      <td>1.193661</td>\n",
       "      <td>0.045804</td>\n",
       "      <td>0.051743</td>\n",
       "      <td>0.201410</td>\n",
       "      <td>0.029186</td>\n",
       "      <td>0.035692</td>\n",
       "      <td>3.772386</td>\n",
       "      <td>3.286071</td>\n",
       "      <td>2.517478</td>\n",
       "      <td>1.288988</td>\n",
       "      <td>1.038685</td>\n",
       "      <td>5.362267</td>\n",
       "    </tr>\n",
       "    <tr>\n",
       "      <th>min</th>\n",
       "      <td>0.000000</td>\n",
       "      <td>0.000000</td>\n",
       "      <td>1.991000e+07</td>\n",
       "      <td>0.000000</td>\n",
       "      <td>0.000000</td>\n",
       "      <td>0.000000</td>\n",
       "      <td>0.000000</td>\n",
       "      <td>0.000000</td>\n",
       "      <td>0.000000</td>\n",
       "      <td>0.500000</td>\n",
       "      <td>0.000000</td>\n",
       "      <td>0.000000</td>\n",
       "      <td>0.0</td>\n",
       "      <td>2.015062e+07</td>\n",
       "      <td>11.000000</td>\n",
       "      <td>30.451976</td>\n",
       "      <td>-4.295589</td>\n",
       "      <td>-4.470671</td>\n",
       "      <td>-7.275037</td>\n",
       "      <td>-4.364565</td>\n",
       "      <td>0.000000</td>\n",
       "      <td>0.000000</td>\n",
       "      <td>0.000000</td>\n",
       "      <td>0.000000</td>\n",
       "      <td>0.000000</td>\n",
       "      <td>-9.168192</td>\n",
       "      <td>-5.558207</td>\n",
       "      <td>-9.639552</td>\n",
       "      <td>-4.153899</td>\n",
       "      <td>-6.546556</td>\n",
       "      <td>1.000000</td>\n",
       "    </tr>\n",
       "    <tr>\n",
       "      <th>25%</th>\n",
       "      <td>37499.750000</td>\n",
       "      <td>11156.000000</td>\n",
       "      <td>1.999091e+07</td>\n",
       "      <td>10.000000</td>\n",
       "      <td>1.000000</td>\n",
       "      <td>0.000000</td>\n",
       "      <td>0.000000</td>\n",
       "      <td>0.000000</td>\n",
       "      <td>75.000000</td>\n",
       "      <td>12.500000</td>\n",
       "      <td>1018.000000</td>\n",
       "      <td>0.000000</td>\n",
       "      <td>0.0</td>\n",
       "      <td>2.016031e+07</td>\n",
       "      <td>1300.000000</td>\n",
       "      <td>43.135799</td>\n",
       "      <td>-3.192349</td>\n",
       "      <td>-0.970671</td>\n",
       "      <td>-1.462580</td>\n",
       "      <td>-0.921191</td>\n",
       "      <td>0.243615</td>\n",
       "      <td>0.000038</td>\n",
       "      <td>0.062474</td>\n",
       "      <td>0.035334</td>\n",
       "      <td>0.033930</td>\n",
       "      <td>-3.722303</td>\n",
       "      <td>-1.951543</td>\n",
       "      <td>-1.871846</td>\n",
       "      <td>-1.057789</td>\n",
       "      <td>-0.437034</td>\n",
       "      <td>9.000000</td>\n",
       "    </tr>\n",
       "    <tr>\n",
       "      <th>50%</th>\n",
       "      <td>74999.500000</td>\n",
       "      <td>51638.000000</td>\n",
       "      <td>2.003091e+07</td>\n",
       "      <td>30.000000</td>\n",
       "      <td>6.000000</td>\n",
       "      <td>1.000000</td>\n",
       "      <td>0.000000</td>\n",
       "      <td>0.000000</td>\n",
       "      <td>110.000000</td>\n",
       "      <td>15.000000</td>\n",
       "      <td>2196.000000</td>\n",
       "      <td>0.000000</td>\n",
       "      <td>0.0</td>\n",
       "      <td>2.016032e+07</td>\n",
       "      <td>3250.000000</td>\n",
       "      <td>44.610266</td>\n",
       "      <td>-3.052671</td>\n",
       "      <td>-0.382947</td>\n",
       "      <td>0.099722</td>\n",
       "      <td>-0.075910</td>\n",
       "      <td>0.257798</td>\n",
       "      <td>0.000812</td>\n",
       "      <td>0.095866</td>\n",
       "      <td>0.057014</td>\n",
       "      <td>0.058484</td>\n",
       "      <td>1.624076</td>\n",
       "      <td>-0.358053</td>\n",
       "      <td>-0.130753</td>\n",
       "      <td>-0.036245</td>\n",
       "      <td>0.141246</td>\n",
       "      <td>13.000000</td>\n",
       "    </tr>\n",
       "    <tr>\n",
       "      <th>75%</th>\n",
       "      <td>112499.250000</td>\n",
       "      <td>118841.250000</td>\n",
       "      <td>2.007111e+07</td>\n",
       "      <td>66.000000</td>\n",
       "      <td>13.000000</td>\n",
       "      <td>3.000000</td>\n",
       "      <td>1.000000</td>\n",
       "      <td>0.000000</td>\n",
       "      <td>150.000000</td>\n",
       "      <td>15.000000</td>\n",
       "      <td>3843.000000</td>\n",
       "      <td>0.000000</td>\n",
       "      <td>0.0</td>\n",
       "      <td>2.016033e+07</td>\n",
       "      <td>7700.000000</td>\n",
       "      <td>46.004721</td>\n",
       "      <td>4.000670</td>\n",
       "      <td>0.241335</td>\n",
       "      <td>1.565838</td>\n",
       "      <td>0.868758</td>\n",
       "      <td>0.265297</td>\n",
       "      <td>0.102009</td>\n",
       "      <td>0.125243</td>\n",
       "      <td>0.079382</td>\n",
       "      <td>0.087491</td>\n",
       "      <td>2.844357</td>\n",
       "      <td>1.255022</td>\n",
       "      <td>1.776933</td>\n",
       "      <td>0.942813</td>\n",
       "      <td>0.680378</td>\n",
       "      <td>17.000000</td>\n",
       "    </tr>\n",
       "    <tr>\n",
       "      <th>max</th>\n",
       "      <td>149999.000000</td>\n",
       "      <td>196812.000000</td>\n",
       "      <td>2.015121e+07</td>\n",
       "      <td>247.000000</td>\n",
       "      <td>39.000000</td>\n",
       "      <td>7.000000</td>\n",
       "      <td>6.000000</td>\n",
       "      <td>1.000000</td>\n",
       "      <td>19312.000000</td>\n",
       "      <td>15.000000</td>\n",
       "      <td>8120.000000</td>\n",
       "      <td>1.000000</td>\n",
       "      <td>0.0</td>\n",
       "      <td>2.016041e+07</td>\n",
       "      <td>99999.000000</td>\n",
       "      <td>52.304178</td>\n",
       "      <td>7.320308</td>\n",
       "      <td>19.035496</td>\n",
       "      <td>9.854702</td>\n",
       "      <td>6.829352</td>\n",
       "      <td>0.291838</td>\n",
       "      <td>0.151420</td>\n",
       "      <td>1.404936</td>\n",
       "      <td>0.160791</td>\n",
       "      <td>0.222787</td>\n",
       "      <td>12.357011</td>\n",
       "      <td>18.819042</td>\n",
       "      <td>13.847792</td>\n",
       "      <td>11.147669</td>\n",
       "      <td>8.658418</td>\n",
       "      <td>25.000000</td>\n",
       "    </tr>\n",
       "  </tbody>\n",
       "</table>\n",
       "</div>"
      ],
      "text/plain": [
       "              SaleID           name       regDate          model  \\\n",
       "count  150000.000000  150000.000000  1.500000e+05  149999.000000   \n",
       "mean    74999.500000   68349.172873  2.003417e+07      47.129021   \n",
       "std     43301.414527   61103.875095  5.364988e+04      49.536040   \n",
       "min         0.000000       0.000000  1.991000e+07       0.000000   \n",
       "25%     37499.750000   11156.000000  1.999091e+07      10.000000   \n",
       "50%     74999.500000   51638.000000  2.003091e+07      30.000000   \n",
       "75%    112499.250000  118841.250000  2.007111e+07      66.000000   \n",
       "max    149999.000000  196812.000000  2.015121e+07     247.000000   \n",
       "\n",
       "               brand       bodyType       fuelType        gearbox  \\\n",
       "count  150000.000000  145494.000000  141320.000000  144019.000000   \n",
       "mean        8.052733       1.792369       0.375842       0.224943   \n",
       "std         7.864956       1.760640       0.548677       0.417546   \n",
       "min         0.000000       0.000000       0.000000       0.000000   \n",
       "25%         1.000000       0.000000       0.000000       0.000000   \n",
       "50%         6.000000       1.000000       0.000000       0.000000   \n",
       "75%        13.000000       3.000000       1.000000       0.000000   \n",
       "max        39.000000       7.000000       6.000000       1.000000   \n",
       "\n",
       "               power      kilometer     regionCode         seller  offerType  \\\n",
       "count  150000.000000  150000.000000  150000.000000  150000.000000   150000.0   \n",
       "mean      119.316547      12.597160    2583.077267       0.000007        0.0   \n",
       "std       177.168419       3.919576    1885.363218       0.002582        0.0   \n",
       "min         0.000000       0.500000       0.000000       0.000000        0.0   \n",
       "25%        75.000000      12.500000    1018.000000       0.000000        0.0   \n",
       "50%       110.000000      15.000000    2196.000000       0.000000        0.0   \n",
       "75%       150.000000      15.000000    3843.000000       0.000000        0.0   \n",
       "max     19312.000000      15.000000    8120.000000       1.000000        0.0   \n",
       "\n",
       "          creatDate          price            v_0            v_1  \\\n",
       "count  1.500000e+05  150000.000000  150000.000000  150000.000000   \n",
       "mean   2.016033e+07    5923.327333      44.406268      -0.044809   \n",
       "std    1.067328e+02    7501.998477       2.457548       3.641893   \n",
       "min    2.015062e+07      11.000000      30.451976      -4.295589   \n",
       "25%    2.016031e+07    1300.000000      43.135799      -3.192349   \n",
       "50%    2.016032e+07    3250.000000      44.610266      -3.052671   \n",
       "75%    2.016033e+07    7700.000000      46.004721       4.000670   \n",
       "max    2.016041e+07   99999.000000      52.304178       7.320308   \n",
       "\n",
       "                 v_2            v_3            v_4            v_5  \\\n",
       "count  150000.000000  150000.000000  150000.000000  150000.000000   \n",
       "mean        0.080765       0.078833       0.017875       0.248204   \n",
       "std         2.929618       2.026514       1.193661       0.045804   \n",
       "min        -4.470671      -7.275037      -4.364565       0.000000   \n",
       "25%        -0.970671      -1.462580      -0.921191       0.243615   \n",
       "50%        -0.382947       0.099722      -0.075910       0.257798   \n",
       "75%         0.241335       1.565838       0.868758       0.265297   \n",
       "max        19.035496       9.854702       6.829352       0.291838   \n",
       "\n",
       "                 v_6            v_7            v_8            v_9  \\\n",
       "count  150000.000000  150000.000000  150000.000000  150000.000000   \n",
       "mean        0.044923       0.124692       0.058144       0.061996   \n",
       "std         0.051743       0.201410       0.029186       0.035692   \n",
       "min         0.000000       0.000000       0.000000       0.000000   \n",
       "25%         0.000038       0.062474       0.035334       0.033930   \n",
       "50%         0.000812       0.095866       0.057014       0.058484   \n",
       "75%         0.102009       0.125243       0.079382       0.087491   \n",
       "max         0.151420       1.404936       0.160791       0.222787   \n",
       "\n",
       "                v_10           v_11           v_12           v_13  \\\n",
       "count  150000.000000  150000.000000  150000.000000  150000.000000   \n",
       "mean       -0.001000       0.009035       0.004813       0.000313   \n",
       "std         3.772386       3.286071       2.517478       1.288988   \n",
       "min        -9.168192      -5.558207      -9.639552      -4.153899   \n",
       "25%        -3.722303      -1.951543      -1.871846      -1.057789   \n",
       "50%         1.624076      -0.358053      -0.130753      -0.036245   \n",
       "75%         2.844357       1.255022       1.776933       0.942813   \n",
       "max        12.357011      18.819042      13.847792      11.147669   \n",
       "\n",
       "                v_14       diffYear  \n",
       "count  150000.000000  150000.000000  \n",
       "mean       -0.000688      12.642707  \n",
       "std         1.038685       5.362267  \n",
       "min        -6.546556       1.000000  \n",
       "25%        -0.437034       9.000000  \n",
       "50%         0.141246      13.000000  \n",
       "75%         0.680378      17.000000  \n",
       "max         8.658418      25.000000  "
      ]
     },
     "execution_count": 35,
     "metadata": {
      "tags": []
     },
     "output_type": "execute_result"
    }
   ],
   "source": [
    "df_train.describe()"
   ]
  },
  {
   "cell_type": "code",
   "execution_count": 36,
   "metadata": {
    "id": "_ydIF3fR1_u9"
   },
   "outputs": [],
   "source": [
    "# 'offerType'列只有一个值\n",
    "need_drop.append('offerType')"
   ]
  },
  {
   "cell_type": "code",
   "execution_count": 37,
   "metadata": {
    "colab": {
     "base_uri": "https://localhost:8080/"
    },
    "id": "HNMXi5Nr1_u-",
    "outputId": "e40a5924-28d2-41e2-f687-31d8540a486e",
    "scrolled": true
   },
   "outputs": [
    {
     "data": {
      "text/plain": [
       "0    149999\n",
       "1         1\n",
       "Name: seller, dtype: int64"
      ]
     },
     "execution_count": 37,
     "metadata": {
      "tags": []
     },
     "output_type": "execute_result"
    }
   ],
   "source": [
    "df_train['seller'].value_counts()"
   ]
  },
  {
   "cell_type": "code",
   "execution_count": 38,
   "metadata": {
    "id": "o8DAzvNv1_vA"
   },
   "outputs": [],
   "source": [
    "need_drop.append('seller')"
   ]
  },
  {
   "cell_type": "code",
   "execution_count": 39,
   "metadata": {
    "colab": {
     "base_uri": "https://localhost:8080/"
    },
    "id": "T3_rrVi01_vC",
    "outputId": "4cf7eab4-8ceb-4bcc-8224-d155752942f9",
    "scrolled": false
   },
   "outputs": [
    {
     "data": {
      "text/plain": [
       "99662"
      ]
     },
     "execution_count": 39,
     "metadata": {
      "tags": []
     },
     "output_type": "execute_result"
    }
   ],
   "source": [
    "df_train['name'].nunique()"
   ]
  },
  {
   "cell_type": "code",
   "execution_count": 40,
   "metadata": {
    "colab": {
     "base_uri": "https://localhost:8080/"
    },
    "id": "GDbgIoBh1_vF",
    "outputId": "78e7bbbb-8027-4210-ccd0-cbc71824afc3"
   },
   "outputs": [
    {
     "data": {
      "text/plain": [
       "708       282\n",
       "387       282\n",
       "55        280\n",
       "1541      263\n",
       "203       233\n",
       "         ... \n",
       "79548       2\n",
       "35535       2\n",
       "105069      2\n",
       "25170       2\n",
       "33486       2\n",
       "Name: name, Length: 11348, dtype: int64"
      ]
     },
     "execution_count": 40,
     "metadata": {
      "tags": []
     },
     "output_type": "execute_result"
    }
   ],
   "source": [
    "temp = df_train['name'].value_counts().sort_values(ascending=False)\n",
    "temp[temp > 1]"
   ]
  },
  {
   "cell_type": "markdown",
   "metadata": {
    "id": "2sKGQR0C1_vH"
   },
   "source": [
    "offerType取值只有1个；name 、regionCode 和 power、最小值和最大值很悬殊"
   ]
  },
  {
   "cell_type": "markdown",
   "metadata": {
    "id": "tIrdHM6N1_vI"
   },
   "source": [
    "### 字符串(object类)变量的统计特征\n",
    "该列含义：汽车有尚未修复的损坏：是：0，否：1"
   ]
  },
  {
   "cell_type": "code",
   "execution_count": 41,
   "metadata": {
    "colab": {
     "base_uri": "https://localhost:8080/",
     "height": 173
    },
    "id": "ziTccQTD1_vI",
    "outputId": "f157676e-8767-42a5-f36d-377dae545607"
   },
   "outputs": [
    {
     "data": {
      "text/html": [
       "<div>\n",
       "<style scoped>\n",
       "    .dataframe tbody tr th:only-of-type {\n",
       "        vertical-align: middle;\n",
       "    }\n",
       "\n",
       "    .dataframe tbody tr th {\n",
       "        vertical-align: top;\n",
       "    }\n",
       "\n",
       "    .dataframe thead th {\n",
       "        text-align: right;\n",
       "    }\n",
       "</style>\n",
       "<table border=\"1\" class=\"dataframe\">\n",
       "  <thead>\n",
       "    <tr style=\"text-align: right;\">\n",
       "      <th></th>\n",
       "      <th>notRepairedDamage</th>\n",
       "    </tr>\n",
       "  </thead>\n",
       "  <tbody>\n",
       "    <tr>\n",
       "      <th>count</th>\n",
       "      <td>150000</td>\n",
       "    </tr>\n",
       "    <tr>\n",
       "      <th>unique</th>\n",
       "      <td>3</td>\n",
       "    </tr>\n",
       "    <tr>\n",
       "      <th>top</th>\n",
       "      <td>0.0</td>\n",
       "    </tr>\n",
       "    <tr>\n",
       "      <th>freq</th>\n",
       "      <td>111361</td>\n",
       "    </tr>\n",
       "  </tbody>\n",
       "</table>\n",
       "</div>"
      ],
      "text/plain": [
       "       notRepairedDamage\n",
       "count             150000\n",
       "unique                 3\n",
       "top                  0.0\n",
       "freq              111361"
      ]
     },
     "execution_count": 41,
     "metadata": {
      "tags": []
     },
     "output_type": "execute_result"
    }
   ],
   "source": [
    "df_train.describe(include=['O'])"
   ]
  },
  {
   "cell_type": "code",
   "execution_count": 42,
   "metadata": {
    "colab": {
     "base_uri": "https://localhost:8080/"
    },
    "id": "HSr1zo2Z1_vL",
    "outputId": "e77db881-03d1-4310-8fc7-df80877b0197"
   },
   "outputs": [
    {
     "data": {
      "text/plain": [
       "0.0    111361\n",
       "-       24324\n",
       "1.0     14315\n",
       "Name: notRepairedDamage, dtype: int64"
      ]
     },
     "execution_count": 42,
     "metadata": {
      "tags": []
     },
     "output_type": "execute_result"
    }
   ],
   "source": [
    "df_train['notRepairedDamage'].value_counts()"
   ]
  },
  {
   "cell_type": "code",
   "execution_count": 43,
   "metadata": {
    "colab": {
     "base_uri": "https://localhost:8080/"
    },
    "id": "U7TBDfEF1_vN",
    "outputId": "615e2f85-8684-4900-e892-624aa10651c9"
   },
   "outputs": [
    {
     "data": {
      "text/plain": [
       "0.0    37224\n",
       "-       8069\n",
       "1.0     4707\n",
       "Name: notRepairedDamage, dtype: int64"
      ]
     },
     "execution_count": 43,
     "metadata": {
      "tags": []
     },
     "output_type": "execute_result"
    }
   ],
   "source": [
    "df_test['notRepairedDamage'].value_counts()"
   ]
  },
  {
   "cell_type": "code",
   "execution_count": 44,
   "metadata": {
    "id": "T8uUKxLa1_vS"
   },
   "outputs": [],
   "source": [
    "def strTofloat(df):\n",
    "    df['notRepairedDamage'] = df['notRepairedDamage'].map({\n",
    "        '1.0': 1.0,\n",
    "        '-': -1,\n",
    "        '0.0': 0.0\n",
    "    })\n",
    "    return df"
   ]
  },
  {
   "cell_type": "code",
   "execution_count": 45,
   "metadata": {
    "id": "jFQx7ozv1_vW"
   },
   "outputs": [],
   "source": [
    "# 进行字符转为数字\n",
    "df_train = strTofloat(df_train)\n",
    "df_test = strTofloat(df_test)"
   ]
  },
  {
   "cell_type": "markdown",
   "metadata": {
    "id": "O-FIG9LO1_vY"
   },
   "source": [
    "### power 数据限幅\n",
    "发动机功率[0,600]\n"
   ]
  },
  {
   "cell_type": "code",
   "execution_count": 46,
   "metadata": {
    "colab": {
     "base_uri": "https://localhost:8080/"
    },
    "id": "cd7VMpvJqJ-W",
    "outputId": "338bb55e-c4c7-49e9-fb7a-6fffeb467d52"
   },
   "outputs": [
    {
     "data": {
      "text/plain": [
       "count    50000.000000\n",
       "mean       119.766960\n",
       "std        206.313348\n",
       "min          0.000000\n",
       "25%         75.000000\n",
       "50%        110.000000\n",
       "75%        150.000000\n",
       "max      19211.000000\n",
       "Name: power, dtype: float64"
      ]
     },
     "execution_count": 46,
     "metadata": {
      "tags": []
     },
     "output_type": "execute_result"
    }
   ],
   "source": [
    "df_test['power'].describe()"
   ]
  },
  {
   "cell_type": "code",
   "execution_count": 47,
   "metadata": {
    "colab": {
     "base_uri": "https://localhost:8080/"
    },
    "id": "Uc5aFdaJnWrw",
    "outputId": "9848c3ca-d362-42bb-ae78-1325e3bd9c0b"
   },
   "outputs": [
    {
     "data": {
      "text/plain": [
       "count    150000.000000\n",
       "mean        119.316547\n",
       "std         177.168419\n",
       "min           0.000000\n",
       "25%          75.000000\n",
       "50%         110.000000\n",
       "75%         150.000000\n",
       "max       19312.000000\n",
       "Name: power, dtype: float64"
      ]
     },
     "execution_count": 47,
     "metadata": {
      "tags": []
     },
     "output_type": "execute_result"
    }
   ],
   "source": [
    "df_train['power'].describe()"
   ]
  },
  {
   "cell_type": "code",
   "execution_count": 48,
   "metadata": {
    "id": "m85kYUlenWXP"
   },
   "outputs": [],
   "source": [
    "lower = 0.\n",
    "upper = 600.\n",
    "\n",
    "df_train['power'] = df_train['power'].clip(lower=lower, upper=upper)"
   ]
  },
  {
   "cell_type": "code",
   "execution_count": 49,
   "metadata": {
    "colab": {
     "base_uri": "https://localhost:8080/"
    },
    "id": "s_WjX1-gneDj",
    "outputId": "82f6bd8f-779e-4e57-bd65-9ef85a949d59"
   },
   "outputs": [
    {
     "data": {
      "text/plain": [
       "(1.242878509347276, 4.8080974065976125)"
      ]
     },
     "execution_count": 49,
     "metadata": {
      "tags": []
     },
     "output_type": "execute_result"
    }
   ],
   "source": [
    "df_train['power'].skew(), df_train['power'].kurt()"
   ]
  },
  {
   "cell_type": "code",
   "execution_count": 50,
   "metadata": {
    "colab": {
     "base_uri": "https://localhost:8080/"
    },
    "id": "I1cDQz7Hq2qQ",
    "outputId": "ec627083-0c74-46f6-aaf5-51189e07fb83"
   },
   "outputs": [
    {
     "data": {
      "text/plain": [
       "(1.259754891582452, 4.917405361689649)"
      ]
     },
     "execution_count": 50,
     "metadata": {
      "tags": []
     },
     "output_type": "execute_result"
    }
   ],
   "source": [
    "df_test['power'] = df_test['power'].clip(lower=lower, upper=upper)\n",
    "\n",
    "df_test['power'].skew(), df_test['power'].kurt()"
   ]
  },
  {
   "cell_type": "markdown",
   "metadata": {
    "id": "_sANbU7MnhSU"
   },
   "source": [
    "偏态系数=1.2429 >0, 说明均值比中位数大，数据为正偏态，偏态系数并不大，说明数据偏斜并不严重；峰度系数=4.8081，在大于1、小于5范围内，说明与正态分布的峰态系数3相差小于2，说明比较符合正态分布。"
   ]
  },
  {
   "cell_type": "code",
   "execution_count": 51,
   "metadata": {
    "id": "pJ7_2zwa1_vY"
   },
   "outputs": [],
   "source": [
    "# def colLog(df, col):\n",
    "#     # 对列的值取对数 转为 np.log(x+1)\n",
    "#     df[col] = df[col].apply(np.log1p)\n",
    "#     return df"
   ]
  },
  {
   "cell_type": "code",
   "execution_count": 52,
   "metadata": {
    "id": "UDsezv6w1_vb"
   },
   "outputs": [],
   "source": [
    "# # 名称转为 np.log(x+1)\n",
    "# df_train['name'].apply(np.log1p)"
   ]
  },
  {
   "cell_type": "code",
   "execution_count": 53,
   "metadata": {
    "id": "KdN6G32_1_vf"
   },
   "outputs": [],
   "source": [
    "# df_train = colLog(df_train, 'power')\n",
    "# df_test = colLog(df_test, 'power')"
   ]
  },
  {
   "cell_type": "code",
   "execution_count": 54,
   "metadata": {
    "id": "HeryzbFDehkM"
   },
   "outputs": [],
   "source": [
    "# df_train = colLog(df_train, 'name')\n",
    "# df_train = colLog(df_train, 'regionCode')\n",
    "# df_test = colLog(df_test, 'name')\n",
    "# df_test = colLog(df_test, 'regionCode')"
   ]
  },
  {
   "cell_type": "markdown",
   "metadata": {
    "id": "RFEwSU6C1_vh"
   },
   "source": [
    "### 缺失值列及数量"
   ]
  },
  {
   "cell_type": "code",
   "execution_count": 55,
   "metadata": {
    "colab": {
     "base_uri": "https://localhost:8080/"
    },
    "id": "IfHh04Ui1_vh",
    "outputId": "77847909-cc7e-4dd2-bde8-c7b7bf3fc50a",
    "scrolled": false
   },
   "outputs": [
    {
     "data": {
      "text/plain": [
       "fuelType    8680\n",
       "gearbox     5981\n",
       "bodyType    4506\n",
       "model          1\n",
       "diffYear       0\n",
       "dtype: int64"
      ]
     },
     "execution_count": 55,
     "metadata": {
      "tags": []
     },
     "output_type": "execute_result"
    }
   ],
   "source": [
    "df_train.isnull().sum().sort_values(ascending=False)[:5]"
   ]
  },
  {
   "cell_type": "markdown",
   "metadata": {
    "id": "M0I8ZdtT1_vj"
   },
   "source": [
    "- 存在缺失值列及含义：\n",
    "    - fuelType：燃油类型：汽油：0，柴油：1，液化石油气：2，天然气：3，混合动力：4，其他：5，电动：6    \n",
    "    - gearbox 变速箱：手动：0，自动：1     \n",
    "    -  bodyType：车身类型：豪华轿车：0，微型车：1，厢型车：2，大巴车：3，敞篷车：4，双门汽车：5，商务车：6，搅拌车：7    \n",
    "    -  model 车型编码，已脱敏"
   ]
  },
  {
   "cell_type": "code",
   "execution_count": 56,
   "metadata": {
    "colab": {
     "base_uri": "https://localhost:8080/"
    },
    "id": "KLybN8uE1_vj",
    "outputId": "4656698d-78c1-4406-add5-4f98ed356784"
   },
   "outputs": [
    {
     "data": {
      "text/plain": [
       "fuelType     2924\n",
       "gearbox      1968\n",
       "bodyType     1504\n",
       "diffYear        0\n",
       "creatDate       0\n",
       "dtype: int64"
      ]
     },
     "execution_count": 56,
     "metadata": {
      "tags": []
     },
     "output_type": "execute_result"
    }
   ],
   "source": [
    "df_test.isnull().sum().sort_values(ascending=False)[:5]"
   ]
  },
  {
   "cell_type": "code",
   "execution_count": 57,
   "metadata": {
    "id": "xsAPY1F31_vl"
   },
   "outputs": [],
   "source": [
    "# model列只有训练集有一条缺失值样本，删除\n",
    "df_train = df_train.dropna(subset=['model'])"
   ]
  },
  {
   "cell_type": "code",
   "execution_count": 58,
   "metadata": {
    "colab": {
     "base_uri": "https://localhost:8080/"
    },
    "id": "rPVulmqM1_vm",
    "outputId": "e03532ec-3dc3-4dbb-f2c2-bfbd61d5c43d"
   },
   "outputs": [
    {
     "data": {
      "text/plain": [
       "0.0    91656\n",
       "1.0    46990\n",
       "2.0     2212\n",
       "3.0      262\n",
       "4.0      118\n",
       "5.0       45\n",
       "6.0       36\n",
       "Name: fuelType, dtype: int64"
      ]
     },
     "execution_count": 58,
     "metadata": {
      "tags": []
     },
     "output_type": "execute_result"
    }
   ],
   "source": [
    "df_train['fuelType'].value_counts()"
   ]
  },
  {
   "cell_type": "markdown",
   "metadata": {
    "id": "kKvVOx9x1_vq"
   },
   "source": [
    "#### 众数填充缺失列"
   ]
  },
  {
   "cell_type": "code",
   "execution_count": 59,
   "metadata": {
    "id": "oaZ4JxeQ1_vr"
   },
   "outputs": [],
   "source": [
    "def fillna(df_train, df_test):\n",
    "    \"\"\"处理缺失值\"\"\"\n",
    "    nalist = ['fuelType', 'gearbox', 'bodyType']\n",
    "    for col in nalist:\n",
    "        col_mode = df_train[col].mode()[0]\n",
    "        df_train.loc[:, col] = df_train.loc[:, col].fillna(col_mode)\n",
    "        df_test.loc[:, col] = df_test.loc[:, col].fillna(col_mode)\n",
    "    return df_train, df_test"
   ]
  },
  {
   "cell_type": "code",
   "execution_count": 60,
   "metadata": {
    "colab": {
     "base_uri": "https://localhost:8080/"
    },
    "id": "evdDrRCz1_vu",
    "outputId": "a1609bf6-89bd-4c58-8e11-d9803c482563"
   },
   "outputs": [
    {
     "data": {
      "text/plain": [
       "((149999, 32), (50000, 31))"
      ]
     },
     "execution_count": 60,
     "metadata": {
      "tags": []
     },
     "output_type": "execute_result"
    }
   ],
   "source": [
    "df_train, df_test= fillna(df_train, df_test)\n",
    "df_train.shape, df_test.shape"
   ]
  },
  {
   "cell_type": "markdown",
   "metadata": {
    "id": "Eq2seT1w1_v4"
   },
   "source": [
    "# EDA"
   ]
  },
  {
   "cell_type": "code",
   "execution_count": 61,
   "metadata": {
    "colab": {
     "base_uri": "https://localhost:8080/"
    },
    "id": "mxnZ5kBU1_v4",
    "outputId": "352bc4ab-b280-47d2-c655-04496c9dd1b3"
   },
   "outputs": [
    {
     "data": {
      "text/plain": [
       "count    149999.000000\n",
       "mean       5923.047154\n",
       "std        7501.238642\n",
       "min          11.000000\n",
       "25%        1300.000000\n",
       "50%        3250.000000\n",
       "75%        7700.000000\n",
       "max       99999.000000\n",
       "Name: price, dtype: float64"
      ]
     },
     "execution_count": 61,
     "metadata": {
      "tags": []
     },
     "output_type": "execute_result"
    }
   ],
   "source": [
    "df_train['price'].describe()"
   ]
  },
  {
   "cell_type": "code",
   "execution_count": 62,
   "metadata": {
    "colab": {
     "base_uri": "https://localhost:8080/",
     "height": 333
    },
    "id": "ujl3XvXb1_v6",
    "outputId": "f0c6720f-b06f-4809-eb85-f1f32cfe90fd"
   },
   "outputs": [
    {
     "name": "stderr",
     "output_type": "stream",
     "text": [
      "/usr/local/lib/python3.6/dist-packages/seaborn/_decorators.py:43: FutureWarning: Pass the following variable as a keyword arg: x. From version 0.12, the only valid positional argument will be `data`, and passing other arguments without an explicit keyword will result in an error or misinterpretation.\n",
      "  FutureWarning\n"
     ]
    },
    {
     "data": {
      "image/png": "[encoded data removed]",
      "text/plain": [
       "<Figure size 432x288 with 1 Axes>"
      ]
     },
     "metadata": {
      "needs_background": "light",
      "tags": []
     },
     "output_type": "display_data"
    }
   ],
   "source": [
    "sns.boxenplot(df_train['price'])\n",
    "plt.show()"
   ]
  },
  {
   "cell_type": "code",
   "execution_count": 63,
   "metadata": {
    "colab": {
     "base_uri": "https://localhost:8080/",
     "height": 333
    },
    "id": "w3jpLSPe1_v9",
    "outputId": "277770d3-7808-46b6-f6f1-238691d12863"
   },
   "outputs": [
    {
     "name": "stderr",
     "output_type": "stream",
     "text": [
      "/usr/local/lib/python3.6/dist-packages/seaborn/distributions.py:2551: FutureWarning: `distplot` is a deprecated function and will be removed in a future version. Please adapt your code to use either `displot` (a figure-level function with similar flexibility) or `histplot` (an axes-level function for histograms).\n",
      "  warnings.warn(msg, FutureWarning)\n"
     ]
    },
    {
     "data": {
      "image/png": "[encoded data removed]",
      "text/plain": [
       "<Figure size 432x288 with 1 Axes>"
      ]
     },
     "metadata": {
      "needs_background": "light",
      "tags": []
     },
     "output_type": "display_data"
    }
   ],
   "source": [
    "sns.distplot(df_train['price'])\n",
    "plt.show()"
   ]
  },
  {
   "cell_type": "code",
   "execution_count": 64,
   "metadata": {
    "id": "hHDoK2le1_v_",
    "scrolled": true
   },
   "outputs": [],
   "source": [
    "# sns.violinplot(x='fuelType', y='price', data=df_train)"
   ]
  },
  {
   "cell_type": "markdown",
   "metadata": {
    "id": "NZbGnLzF1_wA"
   },
   "source": [
    "## 相关系数"
   ]
  },
  {
   "cell_type": "code",
   "execution_count": 65,
   "metadata": {
    "id": "We3lhoj41_wA"
   },
   "outputs": [],
   "source": [
    "df_train_corr  = df_train.corr()"
   ]
  },
  {
   "cell_type": "code",
   "execution_count": 66,
   "metadata": {
    "colab": {
     "base_uri": "https://localhost:8080/"
    },
    "id": "yMMgyZyQ1_wC",
    "outputId": "3e6ff53e-7163-4b6a-a7ae-f31afe14f637"
   },
   "outputs": [
    {
     "data": {
      "text/plain": [
       "price                1.000000\n",
       "v_3                  0.730919\n",
       "v_12                 0.692883\n",
       "v_8                  0.685776\n",
       "v_0                  0.628516\n",
       "regDate              0.611952\n",
       "diffYear             0.611806\n",
       "power                0.556421\n",
       "kilometer            0.440475\n",
       "gearbox              0.330321\n",
       "v_11                 0.275313\n",
       "bodyType             0.248550\n",
       "v_10                 0.246218\n",
       "fuelType             0.209489\n",
       "v_9                  0.206408\n",
       "v_5                  0.164390\n",
       "v_4                  0.147330\n",
       "model                0.136983\n",
       "v_2                  0.085376\n",
       "v_6                  0.069008\n",
       "v_1                  0.060942\n",
       "v_7                  0.053007\n",
       "brand                0.043943\n",
       "v_14                 0.035611\n",
       "notRepairedDamage    0.023815\n",
       "v_13                 0.014321\n",
       "regionCode           0.014060\n",
       "creatDate            0.002959\n",
       "seller               0.002004\n",
       "name                 0.001981\n",
       "SaleID               0.001011\n",
       "offerType                 NaN\n",
       "Name: price, dtype: float64"
      ]
     },
     "execution_count": 66,
     "metadata": {
      "tags": []
     },
     "output_type": "execute_result"
    }
   ],
   "source": [
    "abs_price_corr = df_train_corr['price'].abs().sort_values(ascending=False)\n",
    "abs_price_corr"
   ]
  },
  {
   "cell_type": "code",
   "execution_count": 67,
   "metadata": {
    "id": "BlLU3Vzl1_wE"
   },
   "outputs": [],
   "source": [
    "df_train_corr = df_train_corr.loc[:, abs_price_corr.index]"
   ]
  },
  {
   "cell_type": "code",
   "execution_count": 68,
   "metadata": {
    "id": "t8lvzNqn1_wF"
   },
   "outputs": [],
   "source": [
    "df_train_corr = df_train_corr.loc[abs_price_corr.index, :]"
   ]
  },
  {
   "cell_type": "code",
   "execution_count": 69,
   "metadata": {
    "colab": {
     "base_uri": "https://localhost:8080/",
     "height": 624
    },
    "id": "bgkZxMV81_wH",
    "outputId": "dd12f504-9a7c-4b5d-8102-9b0653602b19"
   },
   "outputs": [
    {
     "data": {
      "image/png": "[encoded data removed]",
      "text/plain": [
       "<Figure size 1440x1440 with 2 Axes>"
      ]
     },
     "metadata": {
      "needs_background": "light",
      "tags": []
     },
     "output_type": "display_data"
    }
   ],
   "source": [
    "plt.figure(figsize=(20, 20))\n",
    "sns.heatmap(df_train_corr * 10, square=True, annot=True, fmt='.1f')\n",
    "plt.show()"
   ]
  },
  {
   "cell_type": "markdown",
   "metadata": {
    "id": "UqOTwJj01_wJ"
   },
   "source": [
    "v_6 v_1 完全正相关，二者取其一"
   ]
  },
  {
   "cell_type": "code",
   "execution_count": 70,
   "metadata": {
    "id": "bjePJvP_1_wJ",
    "scrolled": true
   },
   "outputs": [],
   "source": [
    "need_drop.append('v_1')"
   ]
  },
  {
   "cell_type": "markdown",
   "metadata": {
    "id": "8znxAZXn1_wM",
    "scrolled": true
   },
   "source": [
    "# 无量纲化"
   ]
  },
  {
   "cell_type": "markdown",
   "metadata": {
    "id": "ayT4MgYO1_wM"
   },
   "source": [
    "## 去掉无效列"
   ]
  },
  {
   "cell_type": "code",
   "execution_count": 71,
   "metadata": {
    "colab": {
     "base_uri": "https://localhost:8080/"
    },
    "id": "dUv_nLrF1_wM",
    "outputId": "876637d3-d11d-4436-b3de-f24422fdedf8"
   },
   "outputs": [
    {
     "data": {
      "text/plain": [
       "['SaleID', 'creatDate', 'regDate', 'offerType', 'seller', 'v_1']"
      ]
     },
     "execution_count": 71,
     "metadata": {
      "tags": []
     },
     "output_type": "execute_result"
    }
   ],
   "source": [
    "need_drop"
   ]
  },
  {
   "cell_type": "code",
   "execution_count": 72,
   "metadata": {
    "id": "hqZwUqMt1_wQ"
   },
   "outputs": [],
   "source": [
    "df_train = df_train.drop(columns=need_drop)\n",
    "df_test = df_test.drop(columns=need_drop)"
   ]
  },
  {
   "cell_type": "code",
   "execution_count": 73,
   "metadata": {
    "colab": {
     "base_uri": "https://localhost:8080/"
    },
    "id": "9m14oi3q1_wS",
    "outputId": "b869dd01-3992-4e56-c2c4-711683954e74"
   },
   "outputs": [
    {
     "data": {
      "text/plain": [
       "Index(['name', 'model', 'brand', 'bodyType', 'fuelType', 'gearbox', 'power',\n",
       "       'kilometer', 'notRepairedDamage', 'regionCode', 'price', 'v_0', 'v_2',\n",
       "       'v_3', 'v_4', 'v_5', 'v_6', 'v_7', 'v_8', 'v_9', 'v_10', 'v_11', 'v_12',\n",
       "       'v_13', 'v_14', 'diffYear'],\n",
       "      dtype='object')"
      ]
     },
     "execution_count": 73,
     "metadata": {
      "tags": []
     },
     "output_type": "execute_result"
    }
   ],
   "source": [
    "df_train.columns"
   ]
  },
  {
   "cell_type": "markdown",
   "metadata": {
    "id": "DixCfS1p1_wW"
   },
   "source": [
    "## 指定特征和目标"
   ]
  },
  {
   "cell_type": "code",
   "execution_count": 74,
   "metadata": {
    "id": "UCt2plek1_wW"
   },
   "outputs": [],
   "source": [
    "target = df_train['price'].copy()\n",
    "train_feat = df_train.drop(columns='price')"
   ]
  },
  {
   "cell_type": "markdown",
   "metadata": {
    "id": "JIC2LyUz1_wX"
   },
   "source": [
    "## 标准化"
   ]
  },
  {
   "cell_type": "code",
   "execution_count": 75,
   "metadata": {
    "id": "rwmioSv01_wY"
   },
   "outputs": [],
   "source": [
    "transfer  = StandardScaler()\n",
    "X_train = transfer.fit_transform(train_feat)\n",
    "x_test = transfer.transform(df_test)"
   ]
  },
  {
   "cell_type": "markdown",
   "metadata": {
    "id": "UZVC_LBT1_wZ"
   },
   "source": [
    "# 拆分数据集"
   ]
  },
  {
   "cell_type": "code",
   "execution_count": 76,
   "metadata": {
    "id": "OEwxlHZn1_wZ"
   },
   "outputs": [],
   "source": [
    "x_train, x_val, y_train, y_val = train_test_split(X_train, target.values, test_size=0.3)"
   ]
  },
  {
   "cell_type": "markdown",
   "metadata": {
    "id": "wkzxue0u1_wb"
   },
   "source": [
    "## 分批打包"
   ]
  },
  {
   "cell_type": "code",
   "execution_count": 77,
   "metadata": {
    "id": "ibDpvufV1_wb"
   },
   "outputs": [],
   "source": [
    "# 数组转张量\n",
    "x_train = torch.tensor(x_train, dtype=torch.float32)\n",
    "x_val = torch.tensor(x_val, dtype=torch.float32)\n",
    "x_test = torch.tensor(x_test, dtype=torch.float32)\n",
    "\n",
    "y_train = torch.tensor(y_train.reshape(-1, 1), dtype=torch.float32)\n",
    "y_val = torch.tensor(y_val.reshape(-1, 1), dtype=torch.float32)"
   ]
  },
  {
   "cell_type": "code",
   "execution_count": 78,
   "metadata": {
    "id": "KCLCjCKz1_we"
   },
   "outputs": [],
   "source": [
    "y_test = torch.zeros(len(x_test), 1)"
   ]
  },
  {
   "cell_type": "code",
   "execution_count": 79,
   "metadata": {
    "colab": {
     "base_uri": "https://localhost:8080/"
    },
    "id": "YcVTudiJ1_wf",
    "outputId": "55395202-8117-44fe-df11-d2a2fa7b3aeb"
   },
   "outputs": [
    {
     "data": {
      "text/plain": [
       "(torch.Size([104999, 25]), torch.Size([45000, 25]), torch.Size([50000, 25]))"
      ]
     },
     "execution_count": 79,
     "metadata": {
      "tags": []
     },
     "output_type": "execute_result"
    }
   ],
   "source": [
    "x_train.size(), x_val.size(), x_test.size()"
   ]
  },
  {
   "cell_type": "code",
   "execution_count": 80,
   "metadata": {
    "colab": {
     "base_uri": "https://localhost:8080/"
    },
    "id": "dPbqpyfw1_wh",
    "outputId": "b838e0bb-3f59-4a97-9cac-2680d6e6376f"
   },
   "outputs": [
    {
     "data": {
      "text/plain": [
       "torch.Size([50000, 1])"
      ]
     },
     "execution_count": 80,
     "metadata": {
      "tags": []
     },
     "output_type": "execute_result"
    }
   ],
   "source": [
    "y_test.size()"
   ]
  },
  {
   "cell_type": "code",
   "execution_count": 81,
   "metadata": {
    "id": "s1n6Qksn1_wi"
   },
   "outputs": [],
   "source": [
    "trainset = TensorDataset(x_train, y_train)\n",
    "valset = TensorDataset(x_val, y_val)"
   ]
  },
  {
   "cell_type": "code",
   "execution_count": 82,
   "metadata": {
    "id": "x6GnS6q11_wj"
   },
   "outputs": [],
   "source": [
    "testset = TensorDataset(x_test, y_test)"
   ]
  },
  {
   "cell_type": "code",
   "execution_count": 107,
   "metadata": {
    "id": "0pdVV-Jy1_wm"
   },
   "outputs": [],
   "source": [
    "BATCH_SIZE = 1024\n",
    "trainloader = DataLoader(trainset, batch_size=BATCH_SIZE, num_workers=2, shuffle=True)\n",
    "valloader = DataLoader(valset, batch_size=BATCH_SIZE, num_workers=2)\n",
    "testloader = DataLoader(testset, batch_size=BATCH_SIZE, num_workers=2)"
   ]
  },
  {
   "cell_type": "code",
   "execution_count": 108,
   "metadata": {
    "colab": {
     "base_uri": "https://localhost:8080/"
    },
    "id": "wuG8soVb1_wp",
    "outputId": "c682ca01-dd68-4c2a-b900-74f82891b0bb"
   },
   "outputs": [
    {
     "data": {
      "text/plain": [
       "(103, 44, 49)"
      ]
     },
     "execution_count": 108,
     "metadata": {
      "tags": []
     },
     "output_type": "execute_result"
    }
   ],
   "source": [
    "len(trainloader), len(valloader), len(testloader)"
   ]
  },
  {
   "cell_type": "markdown",
   "metadata": {
    "id": "w6CeRFEc1_ws"
   },
   "source": [
    "# 神经网络建模"
   ]
  },
  {
   "cell_type": "code",
   "execution_count": 201,
   "metadata": {
    "id": "p59BCDar1_wt"
   },
   "outputs": [],
   "source": [
    "class SecondHandCar(nn.Module):\n",
    "    def __init__(self):\n",
    "        super().__init__()\n",
    "        self.model = nn.Sequential(nn.Linear(in_features=25, out_features=256),\n",
    "                                   nn.ReLU(), \n",
    "                                   nn.Linear(256, 256), nn.ReLU(),\n",
    "                                   nn.Linear(256, 128), nn.ReLU(),\n",
    "                                   nn.Linear(128, 1))\n",
    "\n",
    "    def forward(self, x):\n",
    "        out = self.model(x)\n",
    "        return out"
   ]
  },
  {
   "cell_type": "code",
   "execution_count": 202,
   "metadata": {
    "id": "TFTfhWma1_wu"
   },
   "outputs": [],
   "source": [
    "model = SecondHandCar()"
   ]
  },
  {
   "cell_type": "code",
   "execution_count": 203,
   "metadata": {
    "colab": {
     "base_uri": "https://localhost:8080/"
    },
    "id": "IcxOA1NR1_wv",
    "outputId": "fa6a908d-185f-4990-996e-dbc3d6a8740f"
   },
   "outputs": [
    {
     "data": {
      "text/plain": [
       "SecondHandCar(\n",
       "  (model): Sequential(\n",
       "    (0): Linear(in_features=25, out_features=256, bias=True)\n",
       "    (1): ReLU()\n",
       "    (2): Linear(in_features=256, out_features=256, bias=True)\n",
       "    (3): ReLU()\n",
       "    (4): Linear(in_features=256, out_features=128, bias=True)\n",
       "    (5): ReLU()\n",
       "    (6): Linear(in_features=128, out_features=1, bias=True)\n",
       "  )\n",
       ")"
      ]
     },
     "execution_count": 203,
     "metadata": {
      "tags": []
     },
     "output_type": "execute_result"
    }
   ],
   "source": [
    "device = torch.device('cuda:0' if torch.cuda.is_available() else 'cpu')\n",
    "model.to(device)"
   ]
  },
  {
   "cell_type": "code",
   "execution_count": 204,
   "metadata": {
    "id": "HKxyz9DM1_ww"
   },
   "outputs": [],
   "source": [
    "LR = 1e-3\n",
    "criterion = nn.L1Loss()\n",
    "optimizer = torch.optim.Adam(model.parameters(), lr=LR)"
   ]
  },
  {
   "cell_type": "code",
   "execution_count": 205,
   "metadata": {
    "colab": {
     "base_uri": "https://localhost:8080/",
     "height": 1000,
     "referenced_widgets": [
      "65530951cac942df81d8b7327b3de49c",
      "8a5a1cbec3fa424895ab101d17fdfdd9",
      "54c9662b8bab4f858baf5b323fcf7864",
      "5c763a54e8334438986be8aad3ffbddb",
      "e8d2d5f78df341f3a5d897f1ed5da75b",
      "28d8319bee9e4345aba17fef203ef7bf",
      "a3ef3193187c4f41acec874896f55bf9",
      "a6ca17c0e5224be19282df001d2c066c"
     ]
    },
    "id": "aRtEb9DR1_wy",
    "outputId": "3a49c5dc-6bda-403a-ac99-4b9b0f149a69"
   },
   "outputs": [
    {
     "data": {
      "application/vnd.jupyter.widget-view+json": {
       "model_id": "65530951cac942df81d8b7327b3de49c",
       "version_major": 2,
       "version_minor": 0
      },
      "text/plain": [
       "HBox(children=(FloatProgress(value=0.0, max=200.0), HTML(value='')))"
      ]
     },
     "metadata": {
      "tags": []
     },
     "output_type": "display_data"
    },
    {
     "name": "stdout",
     "output_type": "stream",
     "text": [
      "Epoch:0 MAE:4728.6845\n",
      "Epoch:2 MAE:1301.7581\n",
      "Epoch:4 MAE:1077.4212\n",
      "Epoch:6 MAE:915.9097\n",
      "Epoch:8 MAE:800.0480\n",
      "Epoch:10 MAE:723.5441\n",
      "Epoch:12 MAE:671.3971\n",
      "Epoch:14 MAE:636.7659\n",
      "Epoch:16 MAE:611.3087\n",
      "Epoch:18 MAE:591.3915\n",
      "Epoch:20 MAE:577.1776\n",
      "Epoch:22 MAE:563.8945\n",
      "Epoch:24 MAE:552.3854\n",
      "Epoch:26 MAE:545.9266\n",
      "Epoch:28 MAE:537.5578\n",
      "Epoch:30 MAE:531.5951\n",
      "Epoch:32 MAE:526.1106\n",
      "Epoch:34 MAE:520.1685\n",
      "Epoch:36 MAE:517.1155\n",
      "Epoch:38 MAE:512.6045\n",
      "Epoch:40 MAE:510.0181\n",
      "Epoch:42 MAE:509.2267\n",
      "Epoch:44 MAE:505.7672\n",
      "Epoch:46 MAE:501.4792\n",
      "Epoch:48 MAE:498.0103\n",
      "Epoch:50 MAE:498.0169\n",
      "Epoch:52 MAE:497.0050\n",
      "Epoch:54 MAE:494.6436\n",
      "Epoch:56 MAE:490.8247\n",
      "Epoch:58 MAE:489.5555\n",
      "Epoch:60 MAE:488.0180\n",
      "Epoch:62 MAE:486.3638\n",
      "Epoch:64 MAE:487.1838\n",
      "Epoch:66 MAE:483.3721\n",
      "Epoch:68 MAE:481.3914\n",
      "Epoch:70 MAE:479.6762\n",
      "Epoch:72 MAE:480.6466\n",
      "Epoch:74 MAE:478.7947\n",
      "Epoch:76 MAE:478.1274\n",
      "Epoch:78 MAE:476.4613\n",
      "Epoch:80 MAE:474.5337\n",
      "Epoch:82 MAE:473.6180\n",
      "Epoch:84 MAE:472.3087\n",
      "Epoch:86 MAE:470.8991\n",
      "Epoch:88 MAE:473.5075\n",
      "Epoch:90 MAE:470.6466\n",
      "Epoch:92 MAE:468.7676\n",
      "Epoch:94 MAE:469.2320\n",
      "Epoch:96 MAE:467.5767\n",
      "Epoch:98 MAE:465.7888\n",
      "Epoch:100 MAE:465.8393\n",
      "Epoch:102 MAE:465.0188\n",
      "Epoch:104 MAE:463.2861\n",
      "Epoch:106 MAE:463.5567\n",
      "Epoch:108 MAE:463.8114\n",
      "Epoch:110 MAE:461.8926\n",
      "Epoch:112 MAE:460.4292\n",
      "Epoch:114 MAE:459.7185\n",
      "Epoch:116 MAE:458.9997\n",
      "Epoch:118 MAE:458.5698\n",
      "Epoch:120 MAE:457.9454\n",
      "Epoch:122 MAE:458.8592\n",
      "Epoch:124 MAE:455.1244\n",
      "Epoch:126 MAE:457.4298\n",
      "Epoch:128 MAE:455.4133\n",
      "连续5个epoch未更新loss，停止循环, Epoch:129 MAE:456.7249\n"
     ]
    }
   ],
   "source": [
    "EPOCH = 200\n",
    "costs = []\n",
    "\n",
    "minloss = float('inf')\n",
    "early_stop = 0\n",
    "\n",
    "for epoch in tnrange(EPOCH):\n",
    "    losses = []\n",
    "    for step, (b_xt, b_yt) in enumerate(trainloader):\n",
    "        b_xt, b_yt =  b_xt.to(device), b_yt.to(device)\n",
    "        # 前向传播 \n",
    "        out = model(b_xt)\n",
    "        # 计算loss\n",
    "        loss = criterion(out, b_yt)\n",
    "        losses.append(loss.item())\n",
    "        # 梯度清零\n",
    "        optimizer.zero_grad()\n",
    "        # 反向传播 \n",
    "        loss.backward()\n",
    "        # 权值更新\n",
    "        optimizer.step()\n",
    "#         if step % 2000 == 0:\n",
    "#             print(\"Epoch:{} Step:{} MAE:{:.4f}\".format(epoch, step, loss.item()))\n",
    "    mean_loss = np.mean(losses)\n",
    "    costs.append(mean_loss)\n",
    "    if mean_loss < minloss:\n",
    "        minloss = mean_loss\n",
    "        torch.save(model, 'SecondHC.pt')\n",
    "        early_stop = 0\n",
    "    else:\n",
    "        early_stop += 1\n",
    "    if epoch % 2 == 0:\n",
    "        print(\"Epoch:{} MAE:{:.4f}\".format(epoch, mean_loss))\n",
    "    if early_stop == 5:\n",
    "        print(\"连续5个epoch未更新loss，停止循环, Epoch:{} MAE:{:.4f}\".format(epoch, mean_loss))\n",
    "        break"
   ]
  },
  {
   "cell_type": "code",
   "execution_count": 206,
   "metadata": {
    "colab": {
     "base_uri": "https://localhost:8080/",
     "height": 295
    },
    "id": "w7H12jxI1_w0",
    "outputId": "65a0d9fd-e379-4dbb-f600-dc7c4f806068"
   },
   "outputs": [
    {
     "data": {
      "image/png": "[encoded data removed]",
      "text/plain": [
       "<Figure size 432x288 with 1 Axes>"
      ]
     },
     "metadata": {
      "tags": []
     },
     "output_type": "display_data"
    }
   ],
   "source": [
    "sns.set_style('darkgrid')\n",
    "plt.plot(costs)\n",
    "plt.title(\"Train loss curve\")\n",
    "plt.xlabel(\"Epoch\")\n",
    "plt.ylabel(\"Loss\")\n",
    "plt.text(x=len(costs) - 1, y=costs[-1] + 2, s=\"%.2f\" % costs[-1], color='r')\n",
    "plt.show()"
   ]
  },
  {
   "cell_type": "code",
   "execution_count": 207,
   "metadata": {
    "colab": {
     "base_uri": "https://localhost:8080/"
    },
    "id": "Ij_0t1471_w2",
    "outputId": "550a5f14-6b38-489c-d910-18368835b2f9"
   },
   "outputs": [
    {
     "data": {
      "text/plain": [
       "[457.9454250891232,\n",
       " 458.9177696450243,\n",
       " 458.85916285838897,\n",
       " 458.8244865935983,\n",
       " 455.1244329063638,\n",
       " 457.12783369045815,\n",
       " 457.4298386064548,\n",
       " 455.2314127209117,\n",
       " 455.4133333372838,\n",
       " 456.7249089213251]"
      ]
     },
     "execution_count": 207,
     "metadata": {
      "tags": []
     },
     "output_type": "execute_result"
    }
   ],
   "source": [
    "costs[-10:]"
   ]
  },
  {
   "cell_type": "markdown",
   "metadata": {
    "id": "zUJKMrXG1_w4"
   },
   "source": [
    "# 验证"
   ]
  },
  {
   "cell_type": "code",
   "execution_count": 208,
   "metadata": {
    "id": "T_2l1xSp1_w4"
   },
   "outputs": [],
   "source": [
    "model.eval()\n",
    "val_mae = []\n",
    "\n",
    "for b_xv, b_yv in valloader:\n",
    "    b_xv, b_yv = b_xv.to(device), b_yv.to(device)\n",
    "    valout = model(b_xv)\n",
    "    valloss = criterion(valout, b_yv)\n",
    "    val_mae.append(valloss.item())"
   ]
  },
  {
   "cell_type": "code",
   "execution_count": 209,
   "metadata": {
    "colab": {
     "base_uri": "https://localhost:8080/"
    },
    "id": "z-F_8rTM1_w8",
    "outputId": "62ad94d8-fbdc-4f19-a6c3-d05653b28f3c"
   },
   "outputs": [
    {
     "data": {
      "text/plain": [
       "475.5210224498402"
      ]
     },
     "execution_count": 209,
     "metadata": {
      "tags": []
     },
     "output_type": "execute_result"
    }
   ],
   "source": [
    "np.mean(val_mae)"
   ]
  },
  {
   "cell_type": "markdown",
   "metadata": {
    "id": "47ADCNDP1_w9"
   },
   "source": [
    "# 对测试集进行预测"
   ]
  },
  {
   "cell_type": "code",
   "execution_count": 210,
   "metadata": {
    "id": "NeJMzFKO1_w-"
   },
   "outputs": [],
   "source": [
    "test = []\n",
    "\n",
    "for b_xt, _ in testloader:\n",
    "    b_xt = b_xt.to(device)\n",
    "    testout = model(b_xt)\n",
    "    test_pred = testout.detach()\n",
    "    test.append(test_pred)"
   ]
  },
  {
   "cell_type": "code",
   "execution_count": 211,
   "metadata": {
    "colab": {
     "base_uri": "https://localhost:8080/"
    },
    "id": "_XlB3snW1_w_",
    "outputId": "caea2ef0-2a69-49c1-ce25-2543c35afa9b"
   },
   "outputs": [
    {
     "data": {
      "text/plain": [
       "torch.Size([1024, 1])"
      ]
     },
     "execution_count": 211,
     "metadata": {
      "tags": []
     },
     "output_type": "execute_result"
    }
   ],
   "source": [
    "test[0].size()"
   ]
  },
  {
   "cell_type": "code",
   "execution_count": 212,
   "metadata": {
    "id": "kQZpIHhw1_xA"
   },
   "outputs": [],
   "source": [
    "ypred = torch.cat(test)"
   ]
  },
  {
   "cell_type": "code",
   "execution_count": 213,
   "metadata": {
    "colab": {
     "base_uri": "https://localhost:8080/"
    },
    "id": "86cRznyf1_xC",
    "outputId": "835b2123-ea63-4adf-997d-b3285aeaf4dc"
   },
   "outputs": [
    {
     "data": {
      "text/plain": [
       "torch.Size([50000, 1])"
      ]
     },
     "execution_count": 213,
     "metadata": {
      "tags": []
     },
     "output_type": "execute_result"
    }
   ],
   "source": [
    "ypred.size()"
   ]
  },
  {
   "cell_type": "code",
   "execution_count": 214,
   "metadata": {
    "colab": {
     "base_uri": "https://localhost:8080/"
    },
    "id": "zJR3H4hK1_xD",
    "outputId": "6df3d722-ae7d-41ac-f08d-962b835be30a"
   },
   "outputs": [
    {
     "data": {
      "text/plain": [
       "torch.Size([50000])"
      ]
     },
     "execution_count": 214,
     "metadata": {
      "tags": []
     },
     "output_type": "execute_result"
    }
   ],
   "source": [
    "ypred[:, 0].size()"
   ]
  },
  {
   "cell_type": "code",
   "execution_count": 215,
   "metadata": {
    "id": "7bdCDZdH1_xE"
   },
   "outputs": [],
   "source": [
    "ypred = ypred[:, 0].cpu().numpy()"
   ]
  },
  {
   "cell_type": "code",
   "execution_count": 216,
   "metadata": {
    "colab": {
     "base_uri": "https://localhost:8080/"
    },
    "id": "G3OV-WHXAHot",
    "outputId": "daee086d-ed15-4ec0-a0c6-e0b25e3b0a91"
   },
   "outputs": [
    {
     "data": {
      "text/plain": [
       "array([1254.9005, 1817.4752, 8000.844 , ..., 5591.4453, 4793.6597,\n",
       "       3973.8247], dtype=float32)"
      ]
     },
     "execution_count": 216,
     "metadata": {
      "tags": []
     },
     "output_type": "execute_result"
    }
   ],
   "source": [
    "ypred"
   ]
  },
  {
   "cell_type": "code",
   "execution_count": 217,
   "metadata": {
    "id": "8GSLOUlW1_xF"
   },
   "outputs": [],
   "source": [
    "df_sample['price'] = ypred"
   ]
  },
  {
   "cell_type": "code",
   "execution_count": 218,
   "metadata": {
    "colab": {
     "base_uri": "https://localhost:8080/"
    },
    "id": "2VuNlnfh1_xH",
    "outputId": "9570d862-16cd-4359-e026-854a0487fb07"
   },
   "outputs": [
    {
     "data": {
      "text/plain": [
       "count     50000.000000\n",
       "mean       5810.321777\n",
       "std        7371.307129\n",
       "min         -34.656879\n",
       "25%        1304.081360\n",
       "50%        3168.945312\n",
       "75%        7509.605469\n",
       "max      102386.554688\n",
       "Name: price, dtype: float64"
      ]
     },
     "execution_count": 218,
     "metadata": {
      "tags": []
     },
     "output_type": "execute_result"
    }
   ],
   "source": [
    "df_sample['price'].describe()"
   ]
  },
  {
   "cell_type": "code",
   "execution_count": 219,
   "metadata": {
    "colab": {
     "base_uri": "https://localhost:8080/"
    },
    "id": "9Kieozkf1_xI",
    "outputId": "a74e08a0-774d-4d3a-ea7a-28fc47e43024"
   },
   "outputs": [
    {
     "data": {
      "text/plain": [
       "(11, 99999)"
      ]
     },
     "execution_count": 219,
     "metadata": {
      "tags": []
     },
     "output_type": "execute_result"
    }
   ],
   "source": [
    "target.min(), target.max()"
   ]
  },
  {
   "cell_type": "code",
   "execution_count": 220,
   "metadata": {
    "colab": {
     "base_uri": "https://localhost:8080/"
    },
    "id": "5l1YfPxw1_xJ",
    "outputId": "dbb37e24-06bb-4012-da39-9edd14d1a792"
   },
   "outputs": [
    {
     "data": {
      "text/plain": [
       "count    50000.000000\n",
       "mean      5810.271954\n",
       "std       7370.713154\n",
       "min         11.000000\n",
       "25%       1304.081360\n",
       "50%       3168.945312\n",
       "75%       7509.605469\n",
       "max      99999.000000\n",
       "Name: price, dtype: float64"
      ]
     },
     "execution_count": 220,
     "metadata": {
      "tags": []
     },
     "output_type": "execute_result"
    }
   ],
   "source": [
    "df_sample['price'].clip(lower=11, upper=99999).describe()"
   ]
  },
  {
   "cell_type": "code",
   "execution_count": 221,
   "metadata": {
    "id": "MgYiBZ_J1_xN"
   },
   "outputs": [],
   "source": [
    "df_sample['price'] = df_sample['price'].clip(lower=11, upper=99999)"
   ]
  },
  {
   "cell_type": "code",
   "execution_count": 222,
   "metadata": {
    "id": "Unm4yHPY1_xP"
   },
   "outputs": [],
   "source": [
    "df_sample.to_csv('./secondHandCar/sample_submit.csv', index=False)"
   ]
  },
  {
   "cell_type": "code",
   "execution_count": 222,
   "metadata": {
    "id": "JjWIjn7s1_xS"
   },
   "outputs": [],
   "source": []
  }
 ],
 "metadata": {
  "colab": {
   "collapsed_sections": [
    "95_GC_Kb1_uS"
   ],
   "name": "MQBI04_Lesson10Action1_二手车预测.ipynb",
   "provenance": []
  },
  "kernelspec": {
   "display_name": "Python 3",
   "language": "python",
   "name": "python3"
  },
  "language_info": {
   "codemirror_mode": {
    "name": "ipython",
    "version": 3
   },
   "file_extension": ".py",
   "mimetype": "text/x-python",
   "name": "python",
   "nbconvert_exporter": "python",
   "pygments_lexer": "ipython3",
   "version": "3.8.5"
  },
  "toc": {
   "base_numbering": 1,
   "nav_menu": {},
   "number_sections": true,
   "sideBar": true,
   "skip_h1_title": false,
   "title_cell": "Table of Contents",
   "title_sidebar": "Contents",
   "toc_cell": false,
   "toc_position": {},
   "toc_section_display": true,
   "toc_window_display": true
  },
  "varInspector": {
   "cols": {
    "lenName": 16,
    "lenType": 16,
    "lenVar": 40
   },
   "kernels_config": {
    "python": {
     "delete_cmd_postfix": "",
     "delete_cmd_prefix": "del ",
     "library": "var_list.py",
     "varRefreshCmd": "print(var_dic_list())"
    },
    "r": {
     "delete_cmd_postfix": ") ",
     "delete_cmd_prefix": "rm(",
     "library": "var_list.r",
     "varRefreshCmd": "cat(var_dic_list()) "
    }
   },
   "types_to_exclude": [
    "module",
    "function",
    "builtin_function_or_method",
    "instance",
    "_Feature"
   ],
   "window_display": false
  },
  "widgets": {
   "application/vnd.jupyter.widget-state+json": {
    "28d8319bee9e4345aba17fef203ef7bf": {
     "model_module": "@jupyter-widgets/base",
     "model_name": "LayoutModel",
     "state": {
      "_model_module": "@jupyter-widgets/base",
      "_model_module_version": "1.2.0",
      "_model_name": "LayoutModel",
      "_view_count": null,
      "_view_module": "@jupyter-widgets/base",
      "_view_module_version": "1.2.0",
      "_view_name": "LayoutView",
      "align_content": null,
      "align_items": null,
      "align_self": null,
      "border": null,
      "bottom": null,
      "display": null,
      "flex": null,
      "flex_flow": null,
      "grid_area": null,
      "grid_auto_columns": null,
      "grid_auto_flow": null,
      "grid_auto_rows": null,
      "grid_column": null,
      "grid_gap": null,
      "grid_row": null,
      "grid_template_areas": null,
      "grid_template_columns": null,
      "grid_template_rows": null,
      "height": null,
      "justify_content": null,
      "justify_items": null,
      "left": null,
      "margin": null,
      "max_height": null,
      "max_width": null,
      "min_height": null,
      "min_width": null,
      "object_fit": null,
      "object_position": null,
      "order": null,
      "overflow": null,
      "overflow_x": null,
      "overflow_y": null,
      "padding": null,
      "right": null,
      "top": null,
      "visibility": null,
      "width": null
     }
    },
    "54c9662b8bab4f858baf5b323fcf7864": {
     "model_module": "@jupyter-widgets/controls",
     "model_name": "FloatProgressModel",
     "state": {
      "_dom_classes": [],
      "_model_module": "@jupyter-widgets/controls",
      "_model_module_version": "1.5.0",
      "_model_name": "FloatProgressModel",
      "_view_count": null,
      "_view_module": "@jupyter-widgets/controls",
      "_view_module_version": "1.5.0",
      "_view_name": "ProgressView",
      "bar_style": "danger",
      "description": " 64%",
      "description_tooltip": null,
      "layout": "IPY_MODEL_28d8319bee9e4345aba17fef203ef7bf",
      "max": 200,
      "min": 0,
      "orientation": "horizontal",
      "style": "IPY_MODEL_e8d2d5f78df341f3a5d897f1ed5da75b",
      "value": 129
     }
    },
    "5c763a54e8334438986be8aad3ffbddb": {
     "model_module": "@jupyter-widgets/controls",
     "model_name": "HTMLModel",
     "state": {
      "_dom_classes": [],
      "_model_module": "@jupyter-widgets/controls",
      "_model_module_version": "1.5.0",
      "_model_name": "HTMLModel",
      "_view_count": null,
      "_view_module": "@jupyter-widgets/controls",
      "_view_module_version": "1.5.0",
      "_view_name": "HTMLView",
      "description": "",
      "description_tooltip": null,
      "layout": "IPY_MODEL_a6ca17c0e5224be19282df001d2c066c",
      "placeholder": "​",
      "style": "IPY_MODEL_a3ef3193187c4f41acec874896f55bf9",
      "value": " 129/200 [05:51&lt;03:09,  2.66s/it]"
     }
    },
    "65530951cac942df81d8b7327b3de49c": {
     "model_module": "@jupyter-widgets/controls",
     "model_name": "HBoxModel",
     "state": {
      "_dom_classes": [],
      "_model_module": "@jupyter-widgets/controls",
      "_model_module_version": "1.5.0",
      "_model_name": "HBoxModel",
      "_view_count": null,
      "_view_module": "@jupyter-widgets/controls",
      "_view_module_version": "1.5.0",
      "_view_name": "HBoxView",
      "box_style": "",
      "children": [
       "IPY_MODEL_54c9662b8bab4f858baf5b323fcf7864",
       "IPY_MODEL_5c763a54e8334438986be8aad3ffbddb"
      ],
      "layout": "IPY_MODEL_8a5a1cbec3fa424895ab101d17fdfdd9"
     }
    },
    "8a5a1cbec3fa424895ab101d17fdfdd9": {
     "model_module": "@jupyter-widgets/base",
     "model_name": "LayoutModel",
     "state": {
      "_model_module": "@jupyter-widgets/base",
      "_model_module_version": "1.2.0",
      "_model_name": "LayoutModel",
      "_view_count": null,
      "_view_module": "@jupyter-widgets/base",
      "_view_module_version": "1.2.0",
      "_view_name": "LayoutView",
      "align_content": null,
      "align_items": null,
      "align_self": null,
      "border": null,
      "bottom": null,
      "display": null,
      "flex": null,
      "flex_flow": null,
      "grid_area": null,
      "grid_auto_columns": null,
      "grid_auto_flow": null,
      "grid_auto_rows": null,
      "grid_column": null,
      "grid_gap": null,
      "grid_row": null,
      "grid_template_areas": null,
      "grid_template_columns": null,
      "grid_template_rows": null,
      "height": null,
      "justify_content": null,
      "justify_items": null,
      "left": null,
      "margin": null,
      "max_height": null,
      "max_width": null,
      "min_height": null,
      "min_width": null,
      "object_fit": null,
      "object_position": null,
      "order": null,
      "overflow": null,
      "overflow_x": null,
      "overflow_y": null,
      "padding": null,
      "right": null,
      "top": null,
      "visibility": null,
      "width": null
     }
    },
    "a3ef3193187c4f41acec874896f55bf9": {
     "model_module": "@jupyter-widgets/controls",
     "model_name": "DescriptionStyleModel",
     "state": {
      "_model_module": "@jupyter-widgets/controls",
      "_model_module_version": "1.5.0",
      "_model_name": "DescriptionStyleModel",
      "_view_count": null,
      "_view_module": "@jupyter-widgets/base",
      "_view_module_version": "1.2.0",
      "_view_name": "StyleView",
      "description_width": ""
     }
    },
    "a6ca17c0e5224be19282df001d2c066c": {
     "model_module": "@jupyter-widgets/base",
     "model_name": "LayoutModel",
     "state": {
      "_model_module": "@jupyter-widgets/base",
      "_model_module_version": "1.2.0",
      "_model_name": "LayoutModel",
      "_view_count": null,
      "_view_module": "@jupyter-widgets/base",
      "_view_module_version": "1.2.0",
      "_view_name": "LayoutView",
      "align_content": null,
      "align_items": null,
      "align_self": null,
      "border": null,
      "bottom": null,
      "display": null,
      "flex": null,
      "flex_flow": null,
      "grid_area": null,
      "grid_auto_columns": null,
      "grid_auto_flow": null,
      "grid_auto_rows": null,
      "grid_column": null,
      "grid_gap": null,
      "grid_row": null,
      "grid_template_areas": null,
      "grid_template_columns": null,
      "grid_template_rows": null,
      "height": null,
      "justify_content": null,
      "justify_items": null,
      "left": null,
      "margin": null,
      "max_height": null,
      "max_width": null,
      "min_height": null,
      "min_width": null,
      "object_fit": null,
      "object_position": null,
      "order": null,
      "overflow": null,
      "overflow_x": null,
      "overflow_y": null,
      "padding": null,
      "right": null,
      "top": null,
      "visibility": null,
      "width": null
     }
    },
    "e8d2d5f78df341f3a5d897f1ed5da75b": {
     "model_module": "@jupyter-widgets/controls",
     "model_name": "ProgressStyleModel",
     "state": {
      "_model_module": "@jupyter-widgets/controls",
      "_model_module_version": "1.5.0",
      "_model_name": "ProgressStyleModel",
      "_view_count": null,
      "_view_module": "@jupyter-widgets/base",
      "_view_module_version": "1.2.0",
      "_view_name": "StyleView",
      "bar_color": null,
      "description_width": "initial"
     }
    }
   }
  }
 },
 "nbformat": 4,
 "nbformat_minor": 1
}
