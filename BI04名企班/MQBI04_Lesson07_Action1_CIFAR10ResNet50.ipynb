{
 "cells": [
  {
   "cell_type": "markdown",
   "metadata": {
    "toc": true
   },
   "source": [
    "<h1>Table of Contents<span class=\"tocSkip\"></span></h1>\n",
    "<div class=\"toc\"><ul class=\"toc-item\"><li><span><a href=\"#1-加载数据集\" data-toc-modified-id=\"1-加载数据集-1\"><span class=\"toc-item-num\">1&nbsp;&nbsp;</span>1 加载数据集</a></span><ul class=\"toc-item\"><li><span><a href=\"#1.1-加载训练集和测试集\" data-toc-modified-id=\"1.1-加载训练集和测试集-1.1\"><span class=\"toc-item-num\">1.1&nbsp;&nbsp;</span>1.1 加载训练集和测试集</a></span></li><li><span><a href=\"#1.2-认识数据集\" data-toc-modified-id=\"1.2-认识数据集-1.2\"><span class=\"toc-item-num\">1.2&nbsp;&nbsp;</span>1.2 认识数据集</a></span></li><li><span><a href=\"#1.3-重新加载数据集\" data-toc-modified-id=\"1.3-重新加载数据集-1.3\"><span class=\"toc-item-num\">1.3&nbsp;&nbsp;</span>1.3 重新加载数据集</a></span></li><li><span><a href=\"#1.4-数据集分批\" data-toc-modified-id=\"1.4-数据集分批-1.4\"><span class=\"toc-item-num\">1.4&nbsp;&nbsp;</span>1.4 数据集分批</a></span></li></ul></li><li><span><a href=\"#2-ResNet18-模型\" data-toc-modified-id=\"2-ResNet18-模型-2\"><span class=\"toc-item-num\">2&nbsp;&nbsp;</span>2 ResNet18 模型</a></span><ul class=\"toc-item\"><li><span><a href=\"#2.1-建模\" data-toc-modified-id=\"2.1-建模-2.1\"><span class=\"toc-item-num\">2.1&nbsp;&nbsp;</span>2.1 建模</a></span></li><li><span><a href=\"#2.2-编译模型\" data-toc-modified-id=\"2.2-编译模型-2.2\"><span class=\"toc-item-num\">2.2&nbsp;&nbsp;</span>2.2 编译模型</a></span></li><li><span><a href=\"#2.3-训练\" data-toc-modified-id=\"2.3-训练-2.3\"><span class=\"toc-item-num\">2.3&nbsp;&nbsp;</span>2.3 训练</a></span></li><li><span><a href=\"#2.4-保存模型\" data-toc-modified-id=\"2.4-保存模型-2.4\"><span class=\"toc-item-num\">2.4&nbsp;&nbsp;</span>2.4 保存模型</a></span></li><li><span><a href=\"#2.5-用模型测试——准确率\" data-toc-modified-id=\"2.5-用模型测试——准确率-2.5\"><span class=\"toc-item-num\">2.5&nbsp;&nbsp;</span>2.5 用模型测试——准确率</a></span></li></ul></li><li><span><a href=\"#3-总结：\" data-toc-modified-id=\"3-总结：-3\"><span class=\"toc-item-num\">3&nbsp;&nbsp;</span>3 总结：</a></span></li></ul></div>"
   ]
  },
  {
   "cell_type": "markdown",
   "metadata": {
    "id": "NxMMOAHr1IeF"
   },
   "source": [
    "使用任何神经网络框架，对CIFAR-10进行分类    \n",
    "http://www.cs.toronto.edu/~kriz/cifar.html     \n",
    "训练集 50000，测试集 10000    \n",
    "图像大小 32*32 彩色    \n",
    "10个分类：ariplane, automobile, bird, cat, deer, dog, frog, horse, ship, truck     "
   ]
  },
  {
   "cell_type": "code",
   "execution_count": 1,
   "metadata": {
    "colab": {
     "base_uri": "https://localhost:8080/",
     "height": 34
    },
    "id": "qwQFnFHd11Sk",
    "outputId": "32dd725b-dbda-4de5-90a8-d8d096a25792"
   },
   "outputs": [
    {
     "name": "stdout",
     "output_type": "stream",
     "text": [
      "Drive already mounted at /content/drive; to attempt to forcibly remount, call drive.mount(\"/content/drive\", force_remount=True).\n"
     ]
    }
   ],
   "source": [
    "from google.colab import drive\n",
    "drive.mount('/content/drive')\n"
   ]
  },
  {
   "cell_type": "code",
   "execution_count": 2,
   "metadata": {
    "id": "Pdm3Oi7v2EEG"
   },
   "outputs": [],
   "source": [
    "import os\n",
    "os.chdir(\"/content/drive/My Drive/Colab Notebooks/\")\n"
   ]
  },
  {
   "cell_type": "code",
   "execution_count": 3,
   "metadata": {
    "colab": {
     "base_uri": "https://localhost:8080/",
     "height": 71
    },
    "id": "TZIQZ4pJ2D6-",
    "outputId": "3b73ed4c-af50-4429-e62c-41f05804097c"
   },
   "outputs": [
    {
     "name": "stdout",
     "output_type": "stream",
     "text": [
      "/bin/bash: -c: line 0: syntax error near unexpected token `('\n",
      "/bin/bash: -c: line 0: `apt-get install -y -qq software-properties-common python-software-properties module-init-tools !add-apt-repository -y ppa:alessandro-strada/ppa 2>&1 > /dev/null !apt-get update -qq 2>&1 > /dev/null !apt-get -y install -qq google-drive-ocamlfuse fuse from google.colab import auth auth.authenticate_user() from oauth2client.client import GoogleCredentials creds = GoogleCredentials.get_application_default() import getpass !google-drive-ocamlfuse -headless -id={creds.client_id} -secret={creds.client_secret} &1 | grep URL vcode = getpass.getpass() !echo {vcode} | google-drive-ocamlfuse -headless -id={creds.client_id} -secret={creds.client_secret}'\n"
     ]
    }
   ],
   "source": [
    "!apt-get install -y -qq software-properties-common python-software-properties module-init-tools !add-apt-repository -y ppa:alessandro-strada/ppa 2>&1 > /dev/null !apt-get update -qq 2>&1 > /dev/null !apt-get -y install -qq google-drive-ocamlfuse fuse from google.colab import auth auth.authenticate_user() from oauth2client.client import GoogleCredentials creds = GoogleCredentials.get_application_default() import getpass !google-drive-ocamlfuse -headless -id={creds.client_id} -secret={creds.client_secret} &1 | grep URL vcode = getpass.getpass() !echo {vcode} | google-drive-ocamlfuse -headless -id={creds.client_id} -secret={creds.client_secret}\n"
   ]
  },
  {
   "cell_type": "code",
   "execution_count": 4,
   "metadata": {
    "ExecuteTime": {
     "end_time": "2020-10-13T11:25:24.723931Z",
     "start_time": "2020-10-13T11:25:24.719532Z"
    },
    "id": "oSrErtRX1IeG"
   },
   "outputs": [],
   "source": [
    "import time\n",
    "\n",
    "import numpy as np"
   ]
  },
  {
   "cell_type": "code",
   "execution_count": 5,
   "metadata": {
    "ExecuteTime": {
     "end_time": "2020-10-13T10:44:18.170985Z",
     "start_time": "2020-10-13T10:44:16.457803Z"
    },
    "id": "XUPEhFT31IeL"
   },
   "outputs": [],
   "source": [
    "import torch\n",
    "from  torch import nn\n",
    "from torch import optim\n",
    "from torchvision import transforms\n",
    "from torch.utils.data import DataLoader\n",
    "from torchvision.datasets import CIFAR10\n",
    "from torchvision.models import resnet50"
   ]
  },
  {
   "cell_type": "code",
   "execution_count": 6,
   "metadata": {
    "ExecuteTime": {
     "end_time": "2020-10-13T10:44:18.462597Z",
     "start_time": "2020-10-13T10:44:18.174131Z"
    },
    "id": "AYNTBqn91IeP"
   },
   "outputs": [],
   "source": [
    "from matplotlib import pyplot as plt"
   ]
  },
  {
   "cell_type": "code",
   "execution_count": 7,
   "metadata": {
    "ExecuteTime": {
     "end_time": "2020-10-13T11:06:54.999750Z",
     "start_time": "2020-10-13T11:06:54.996462Z"
    },
    "id": "5nLKCAXo1IeR"
   },
   "outputs": [],
   "source": [
    "from tqdm.notebook import tqdm, trange"
   ]
  },
  {
   "cell_type": "markdown",
   "metadata": {
    "id": "s2BFGtY61IeU"
   },
   "source": [
    "# 1 加载数据集 "
   ]
  },
  {
   "cell_type": "markdown",
   "metadata": {
    "id": "EMAj3jhv1IeU"
   },
   "source": [
    "```\n",
    "CIFAR10(\n",
    "    root,\n",
    "    train=True,\n",
    "    transform=None,\n",
    "    target_transform=None,\n",
    "    download=False,\n",
    ")\n",
    "```"
   ]
  },
  {
   "cell_type": "markdown",
   "metadata": {
    "id": "s-lJAzVM1IeV"
   },
   "source": [
    "## 1.1 加载训练集和测试集"
   ]
  },
  {
   "cell_type": "code",
   "execution_count": 8,
   "metadata": {
    "id": "AMRbJoV4VQw9"
   },
   "outputs": [],
   "source": [
    "# 数据加载\n",
    "train_data = CIFAR10(root='./root/cifar10',\n",
    "                     train=True,\n",
    "                     transform=transforms.ToTensor(),\n",
    "                     download=False)\n",
    "\n",
    "test_data = CIFAR10(root='./root/cifar10',\n",
    "                    train=False,\n",
    "                    transform=transforms.ToTensor(),\n",
    "                    download=False)"
   ]
  },
  {
   "cell_type": "markdown",
   "metadata": {
    "id": "Ji5f5NUA1Iec"
   },
   "source": [
    "## 1.2 认识数据集"
   ]
  },
  {
   "cell_type": "code",
   "execution_count": 9,
   "metadata": {
    "ExecuteTime": {
     "end_time": "2020-10-13T10:44:19.448115Z",
     "start_time": "2020-10-13T10:44:19.442641Z"
    },
    "colab": {
     "base_uri": "https://localhost:8080/",
     "height": 34
    },
    "id": "hNnItpxp1Ied",
    "outputId": "fe03d8f0-d3b9-4a78-e4f8-c76704f98df0"
   },
   "outputs": [
    {
     "data": {
      "text/plain": [
       "(torchvision.datasets.cifar.CIFAR10, torchvision.datasets.cifar.CIFAR10)"
      ]
     },
     "execution_count": 9,
     "metadata": {
      "tags": []
     },
     "output_type": "execute_result"
    }
   ],
   "source": [
    "type(train_data), type(test_data)"
   ]
  },
  {
   "cell_type": "code",
   "execution_count": 10,
   "metadata": {
    "ExecuteTime": {
     "end_time": "2020-10-13T10:44:19.457677Z",
     "start_time": "2020-10-13T10:44:19.452186Z"
    },
    "id": "0Ry1nn7g1Ieh"
   },
   "outputs": [],
   "source": [
    "# len(train_data.classes), type(train_data.classes), train_data.classes"
   ]
  },
  {
   "cell_type": "code",
   "execution_count": 11,
   "metadata": {
    "ExecuteTime": {
     "end_time": "2020-10-13T10:44:19.470043Z",
     "start_time": "2020-10-13T10:44:19.466344Z"
    },
    "id": "lqIk9ZQJ1Iej"
   },
   "outputs": [],
   "source": [
    "# train_data.class_to_idx"
   ]
  },
  {
   "cell_type": "code",
   "execution_count": 12,
   "metadata": {
    "ExecuteTime": {
     "end_time": "2020-10-13T10:44:19.485183Z",
     "start_time": "2020-10-13T10:44:19.474675Z"
    },
    "colab": {
     "base_uri": "https://localhost:8080/",
     "height": 34
    },
    "id": "W8pCNhzi1Iel",
    "outputId": "4020fccb-895d-4019-8d95-986fc3a518a7"
   },
   "outputs": [
    {
     "data": {
      "text/plain": [
       "(numpy.ndarray, (50000, 32, 32, 3))"
      ]
     },
     "execution_count": 12,
     "metadata": {
      "tags": []
     },
     "output_type": "execute_result"
    }
   ],
   "source": [
    "type(train_data.data), train_data.data.shape"
   ]
  },
  {
   "cell_type": "code",
   "execution_count": 13,
   "metadata": {
    "ExecuteTime": {
     "end_time": "2020-10-13T10:44:19.496797Z",
     "start_time": "2020-10-13T10:44:19.490870Z"
    },
    "colab": {
     "base_uri": "https://localhost:8080/",
     "height": 34
    },
    "id": "jNaZ6uck1Ieo",
    "outputId": "f1caea6e-7b4e-4eb6-a622-309985856ec5"
   },
   "outputs": [
    {
     "data": {
      "text/plain": [
       "(numpy.ndarray, (10000, 32, 32, 3))"
      ]
     },
     "execution_count": 13,
     "metadata": {
      "tags": []
     },
     "output_type": "execute_result"
    }
   ],
   "source": [
    "type(test_data.data), test_data.data.shape"
   ]
  },
  {
   "cell_type": "code",
   "execution_count": 14,
   "metadata": {
    "colab": {
     "base_uri": "https://localhost:8080/",
     "height": 34
    },
    "id": "xY7Lv04gQ68z",
    "outputId": "8d8f1e05-eac4-4760-b0a3-10bb0122b285"
   },
   "outputs": [
    {
     "data": {
      "text/plain": [
       "(51200000, 3)"
      ]
     },
     "execution_count": 14,
     "metadata": {
      "tags": []
     },
     "output_type": "execute_result"
    }
   ],
   "source": [
    "traindata = train_data.data.reshape((-1, 3))\n",
    "traindata.shape"
   ]
  },
  {
   "cell_type": "code",
   "execution_count": 15,
   "metadata": {
    "colab": {
     "base_uri": "https://localhost:8080/",
     "height": 34
    },
    "id": "UtLxnVPiRIKY",
    "outputId": "4a46a165-f206-4225-82da-5299ece4a684"
   },
   "outputs": [
    {
     "data": {
      "text/plain": [
       "array([0.49139968, 0.48215841, 0.44653091])"
      ]
     },
     "execution_count": 15,
     "metadata": {
      "tags": []
     },
     "output_type": "execute_result"
    }
   ],
   "source": [
    "# 训练集3个通道的均值\n",
    "traindata.mean(axis=0) / 255"
   ]
  },
  {
   "cell_type": "code",
   "execution_count": 16,
   "metadata": {
    "colab": {
     "base_uri": "https://localhost:8080/",
     "height": 34
    },
    "id": "3_ZHW9VqRViK",
    "outputId": "ad05658c-eb30-47ac-a07e-0389c4d01113"
   },
   "outputs": [
    {
     "data": {
      "text/plain": [
       "array([0.24703223, 0.24348513, 0.26158784])"
      ]
     },
     "execution_count": 16,
     "metadata": {
      "tags": []
     },
     "output_type": "execute_result"
    }
   ],
   "source": [
    "# 训练集3个通道的标准差，2行代码等价\n",
    "# traindata.std(axis=0) / 255\n",
    "(traindata / 255).std(axis=0)"
   ]
  },
  {
   "cell_type": "code",
   "execution_count": 17,
   "metadata": {
    "ExecuteTime": {
     "end_time": "2020-10-13T10:44:19.635587Z",
     "start_time": "2020-10-13T10:44:19.506528Z"
    },
    "colab": {
     "base_uri": "https://localhost:8080/",
     "height": 266
    },
    "id": "aY5yjmiT1Ieq",
    "outputId": "1498a303-4f04-41a1-ab44-be10c4ea9a8a"
   },
   "outputs": [
    {
     "data": {
      "image/png": "[encoded data removed]",
      "text/plain": [
       "<Figure size 432x288 with 1 Axes>"
      ]
     },
     "metadata": {
      "needs_background": "light",
      "tags": []
     },
     "output_type": "display_data"
    }
   ],
   "source": [
    "plt.imshow(train_data.data[0])\n",
    "plt.show()"
   ]
  },
  {
   "cell_type": "code",
   "execution_count": 18,
   "metadata": {
    "ExecuteTime": {
     "end_time": "2020-10-13T10:44:19.645605Z",
     "start_time": "2020-10-13T10:44:19.638287Z"
    },
    "colab": {
     "base_uri": "https://localhost:8080/",
     "height": 34
    },
    "id": "6Wi4P4Rz1Ies",
    "outputId": "e558b4e8-378c-4916-884a-1e06832a4531"
   },
   "outputs": [
    {
     "data": {
      "text/plain": [
       "(tuple, 2)"
      ]
     },
     "execution_count": 18,
     "metadata": {
      "tags": []
     },
     "output_type": "execute_result"
    }
   ],
   "source": [
    "type(train_data[0]), len(train_data[0])"
   ]
  },
  {
   "cell_type": "code",
   "execution_count": 19,
   "metadata": {
    "ExecuteTime": {
     "end_time": "2020-10-13T10:44:19.656361Z",
     "start_time": "2020-10-13T10:44:19.651313Z"
    },
    "colab": {
     "base_uri": "https://localhost:8080/",
     "height": 34
    },
    "id": "9gRjHtBy1Ieu",
    "outputId": "c1e3c583-86fa-4d25-b028-893cab3d7fb3"
   },
   "outputs": [
    {
     "data": {
      "text/plain": [
       "(torch.Tensor, int)"
      ]
     },
     "execution_count": 19,
     "metadata": {
      "tags": []
     },
     "output_type": "execute_result"
    }
   ],
   "source": [
    "type(train_data[0][0]), type(train_data[0][1])"
   ]
  },
  {
   "cell_type": "code",
   "execution_count": 20,
   "metadata": {
    "ExecuteTime": {
     "end_time": "2020-10-13T10:44:19.668783Z",
     "start_time": "2020-10-13T10:44:19.659336Z"
    },
    "colab": {
     "base_uri": "https://localhost:8080/",
     "height": 34
    },
    "id": "Psjb1R4T1Iex",
    "outputId": "8b934e40-c148-4a26-b505-83e024e8279a"
   },
   "outputs": [
    {
     "data": {
      "text/plain": [
       "torch.Tensor"
      ]
     },
     "execution_count": 20,
     "metadata": {
      "tags": []
     },
     "output_type": "execute_result"
    }
   ],
   "source": [
    "type(train_data[0][0])"
   ]
  },
  {
   "cell_type": "code",
   "execution_count": 21,
   "metadata": {
    "ExecuteTime": {
     "end_time": "2020-10-13T10:44:19.679039Z",
     "start_time": "2020-10-13T10:44:19.671222Z"
    },
    "colab": {
     "base_uri": "https://localhost:8080/",
     "height": 34
    },
    "id": "SJSktFXc1Iez",
    "outputId": "2343ae3a-3104-4556-b8e8-a56cbe679201"
   },
   "outputs": [
    {
     "data": {
      "text/plain": [
       "(3, 32, 32)"
      ]
     },
     "execution_count": 21,
     "metadata": {
      "tags": []
     },
     "output_type": "execute_result"
    }
   ],
   "source": [
    "train_data[0][0].numpy().shape"
   ]
  },
  {
   "cell_type": "code",
   "execution_count": 22,
   "metadata": {
    "ExecuteTime": {
     "end_time": "2020-10-13T10:44:19.693745Z",
     "start_time": "2020-10-13T10:44:19.685940Z"
    },
    "colab": {
     "base_uri": "https://localhost:8080/",
     "height": 34
    },
    "id": "O7LSfeYl1Ie2",
    "outputId": "5353c1f5-9489-41dc-bbcf-2edfa3aa6b8e"
   },
   "outputs": [
    {
     "data": {
      "text/plain": [
       "(32, 32, 3)"
      ]
     },
     "execution_count": 22,
     "metadata": {
      "tags": []
     },
     "output_type": "execute_result"
    }
   ],
   "source": [
    "train_data[0][0].numpy().transpose(1, 2, 0).shape"
   ]
  },
  {
   "cell_type": "code",
   "execution_count": 23,
   "metadata": {
    "ExecuteTime": {
     "end_time": "2020-10-13T10:44:19.816808Z",
     "start_time": "2020-10-13T10:44:19.700745Z"
    },
    "colab": {
     "base_uri": "https://localhost:8080/",
     "height": 283
    },
    "id": "I0Bk5YZe1Ie4",
    "outputId": "788a29b6-3b2c-4546-ce50-2c5e18e887d4"
   },
   "outputs": [
    {
     "data": {
      "text/plain": [
       "<matplotlib.image.AxesImage at 0x7f477d3b9668>"
      ]
     },
     "execution_count": 23,
     "metadata": {
      "tags": []
     },
     "output_type": "execute_result"
    },
    {
     "data": {
      "image/png": "[encoded data removed]",
      "text/plain": [
       "<Figure size 432x288 with 1 Axes>"
      ]
     },
     "metadata": {
      "needs_background": "light",
      "tags": []
     },
     "output_type": "display_data"
    }
   ],
   "source": [
    "plt.imshow(train_data[0][0].numpy().transpose(1, 2, 0))"
   ]
  },
  {
   "cell_type": "code",
   "execution_count": 24,
   "metadata": {
    "ExecuteTime": {
     "end_time": "2020-10-13T10:44:19.825569Z",
     "start_time": "2020-10-13T10:44:19.819025Z"
    },
    "colab": {
     "base_uri": "https://localhost:8080/",
     "height": 34
    },
    "id": "TXs2DExN1Ie6",
    "outputId": "33463bc7-7a57-46ff-9b10-00e5828c8497"
   },
   "outputs": [
    {
     "data": {
      "text/plain": [
       "6"
      ]
     },
     "execution_count": 24,
     "metadata": {
      "tags": []
     },
     "output_type": "execute_result"
    }
   ],
   "source": [
    "# label=6，对应frog青蛙\n",
    "train_data[0][1]"
   ]
  },
  {
   "cell_type": "code",
   "execution_count": 25,
   "metadata": {
    "ExecuteTime": {
     "end_time": "2020-10-13T10:44:19.836029Z",
     "start_time": "2020-10-13T10:44:19.828347Z"
    },
    "colab": {
     "base_uri": "https://localhost:8080/",
     "height": 34
    },
    "id": "QBEgcsGe1Ie9",
    "outputId": "710d1f58-4c20-4a57-b2d5-26154fe4ba61"
   },
   "outputs": [
    {
     "data": {
      "text/plain": [
       "(50000, [6, 9, 9, 4, 1])"
      ]
     },
     "execution_count": 25,
     "metadata": {
      "tags": []
     },
     "output_type": "execute_result"
    }
   ],
   "source": [
    "len(train_data.targets), train_data.targets[:5]"
   ]
  },
  {
   "cell_type": "markdown",
   "metadata": {
    "id": "47CI56JEWFKo"
   },
   "source": [
    "## 1.3 重新加载数据集 \n",
    "增加数据增强"
   ]
  },
  {
   "cell_type": "code",
   "execution_count": 26,
   "metadata": {
    "id": "3W8IuZ07GRfT"
   },
   "outputs": [],
   "source": [
    "train_mean = traindata.mean(axis=0) / 255.0\n",
    "train_std = traindata.std(axis=0) / 255.0\n",
    "\n",
    "train_transform = transforms.Compose([\n",
    "    transforms.RandomHorizontalFlip(),    # 默认以一半的概率水平（左右）翻转图像\n",
    "    transforms.ToTensor(),\n",
    "    transforms.Normalize(train_mean, train_std),   # 对每个通道标准化\n",
    "    ])\n",
    "\n",
    "test_transform = transforms.Compose([\n",
    "    transforms.ToTensor(),\n",
    "    transforms.Normalize(train_mean, train_std),\n",
    "    ])"
   ]
  },
  {
   "cell_type": "code",
   "execution_count": 27,
   "metadata": {
    "ExecuteTime": {
     "end_time": "2020-10-13T10:44:19.091255Z",
     "start_time": "2020-10-13T10:44:18.465667Z"
    },
    "id": "4WBBISzg1IeV"
   },
   "outputs": [],
   "source": [
    "# 数据加载\n",
    "train_data = CIFAR10(root='./root/cifar10',\n",
    "                     train=True,\n",
    "                     transform=train_transform,\n",
    "                     download=False)"
   ]
  },
  {
   "cell_type": "code",
   "execution_count": 28,
   "metadata": {
    "ExecuteTime": {
     "end_time": "2020-10-13T10:44:19.438162Z",
     "start_time": "2020-10-13T10:44:19.093575Z"
    },
    "id": "5Gt-nkkC1IeX"
   },
   "outputs": [],
   "source": [
    "test_data = CIFAR10(root='./root/cifar10',\n",
    "                    train=False,\n",
    "                    transform=test_transform,\n",
    "                    download=False)"
   ]
  },
  {
   "cell_type": "markdown",
   "metadata": {
    "ExecuteTime": {
     "end_time": "2020-10-13T09:34:07.936754Z",
     "start_time": "2020-10-13T09:34:07.929135Z"
    },
    "id": "j2NOThk61Ie_"
   },
   "source": [
    "## 1.4 数据集分批\n",
    "```\n",
    "DataLoader(\n",
    "    dataset, batch_size=1, shuffle=False, sampler=None,\n",
    "    batch_sampler=None, num_workers=0, collate_fn=None,\n",
    "    pin_memory=False, drop_last=False, timeout=0,\n",
    "    worker_init_fn=None, multiprocessing_context=None, generator=None)\n",
    "```"
   ]
  },
  {
   "cell_type": "code",
   "execution_count": 29,
   "metadata": {
    "ExecuteTime": {
     "end_time": "2020-10-13T10:44:19.842881Z",
     "start_time": "2020-10-13T10:44:19.838203Z"
    },
    "id": "7sdPbX5r1IfA"
   },
   "outputs": [],
   "source": [
    "# 超参数\n",
    "BATCH_SIZE = 128\n",
    "\n",
    "train_loader = DataLoader(dataset=train_data,\n",
    "                          batch_size=BATCH_SIZE,\n",
    "                          num_workers=2,\n",
    "                          shuffle=True)\n",
    "test_loader = DataLoader(test_data, batch_size=BATCH_SIZE)"
   ]
  },
  {
   "cell_type": "markdown",
   "metadata": {
    "id": "UYPFUodK1IfC"
   },
   "source": [
    "# 2 ResNet18 模型 "
   ]
  },
  {
   "cell_type": "markdown",
   "metadata": {
    "id": "bdWPfOVp1IfC"
   },
   "source": [
    "## 2.1 建模"
   ]
  },
  {
   "cell_type": "code",
   "execution_count": 39,
   "metadata": {
    "ExecuteTime": {
     "end_time": "2020-10-13T11:28:31.762741Z",
     "start_time": "2020-10-13T11:28:23.285426Z"
    },
    "id": "-6krk6C01IfC"
   },
   "outputs": [],
   "source": [
    "# pretrained 如果为真，则返回在ImageNet上预训练的模型\n",
    "net_model = resnet50(pretrained=True)"
   ]
  },
  {
   "cell_type": "code",
   "execution_count": 40,
   "metadata": {
    "ExecuteTime": {
     "end_time": "2020-10-13T11:28:35.091402Z",
     "start_time": "2020-10-13T11:28:35.083270Z"
    },
    "id": "AgRAMqwD1IfF"
   },
   "outputs": [],
   "source": [
    "# net_model.buffers"
   ]
  },
  {
   "cell_type": "markdown",
   "metadata": {
    "id": "HFy3hO8M1IfI"
   },
   "source": [
    "## 2.2 编译模型"
   ]
  },
  {
   "cell_type": "code",
   "execution_count": 41,
   "metadata": {
    "ExecuteTime": {
     "end_time": "2020-10-13T11:28:52.316657Z",
     "start_time": "2020-10-13T11:28:52.306820Z"
    },
    "colab": {
     "base_uri": "https://localhost:8080/",
     "height": 34
    },
    "id": "e9d7DBFo1IfI",
    "outputId": "c452428e-30a9-4abe-f848-9ceaef4b29f4",
    "scrolled": true
   },
   "outputs": [
    {
     "name": "stdout",
     "output_type": "stream",
     "text": [
      "覆盖上一行代码会输出的模型架构信息 \n"
     ]
    }
   ],
   "source": [
    "# 超参数 学习率\n",
    "LR = 1e-3\n",
    "\n",
    "# 损失函数\n",
    "criterion = nn.CrossEntropyLoss()\n",
    "# 优化器\n",
    "optimizer = optim.Adam(net_model.parameters(), lr=LR)\n",
    "# 定义device\n",
    "device = torch.device(\"cuda:0\" if torch.cuda.is_available() else \"cpu\")\n",
    "\n",
    "net_model.to(device)\n",
    "print(\"覆盖上一行代码会输出的模型架构信息 \")"
   ]
  },
  {
   "cell_type": "markdown",
   "metadata": {
    "id": "3284__-U1IfK"
   },
   "source": [
    "## 2.3 训练"
   ]
  },
  {
   "cell_type": "code",
   "execution_count": 42,
   "metadata": {
    "ExecuteTime": {
     "end_time": "2020-10-13T11:11:53.503818Z",
     "start_time": "2020-10-13T11:11:53.464596Z"
    },
    "colab": {
     "base_uri": "https://localhost:8080/",
     "height": 85
    },
    "id": "y7IFCLCd1IfL",
    "outputId": "092bcab3-667a-4333-ed78-da9bbc878208"
   },
   "outputs": [
    {
     "name": "stdout",
     "output_type": "stream",
     "text": [
      "<class 'list'>\n",
      "2\n",
      "<class 'torch.Tensor'> <class 'torch.Tensor'>\n",
      "torch.Size([128, 3, 32, 32]) torch.Size([128])\n"
     ]
    }
   ],
   "source": [
    "for t in train_loader:\n",
    "    print(type(t))\n",
    "    print(len(t))\n",
    "    print(type(t[0]), type(t[1]))\n",
    "    print(t[0].shape, t[1].shape)\n",
    "    break"
   ]
  },
  {
   "cell_type": "code",
   "execution_count": 43,
   "metadata": {
    "ExecuteTime": {
     "end_time": "2020-10-13T11:13:28.754007Z",
     "start_time": "2020-10-13T11:13:28.747749Z"
    },
    "id": "qLsU0fwU1IfO"
   },
   "outputs": [],
   "source": [
    "# type(train_loader)"
   ]
  },
  {
   "cell_type": "code",
   "execution_count": 44,
   "metadata": {
    "ExecuteTime": {
     "end_time": "2020-10-13T11:31:58.642636Z",
     "start_time": "2020-10-13T11:29:05.678654Z"
    },
    "colab": {
     "base_uri": "https://localhost:8080/",
     "height": 406,
     "referenced_widgets": [
      "3e9fd5bcf16b4056b03e6bb9c653dd65",
      "698fb6be1db94967a08a45f5492f1ec9",
      "c9bc8e83ddad4c8480cd225fec593133",
      "174532f9a62f4610aee00652360f0e0c",
      "284cac5a99b941f8b28d28b7dcc04310",
      "17570a90f7ed4ea38bc76f4542fe70ec",
      "76c6ed8fe5e14d99b7a4cbfa9311b1ef",
      "09d7f2aca11548f6947295b75f56b0f5"
     ]
    },
    "id": "OIB8Kz5M1IfQ",
    "outputId": "ef6839c8-d2ed-49d7-9cbd-23928ed56922"
   },
   "outputs": [
    {
     "data": {
      "application/vnd.jupyter.widget-view+json": {
       "model_id": "3e9fd5bcf16b4056b03e6bb9c653dd65",
       "version_major": 2,
       "version_minor": 0
      },
      "text/plain": [
       "HBox(children=(FloatProgress(value=0.0), HTML(value='')))"
      ]
     },
     "metadata": {
      "tags": []
     },
     "output_type": "display_data"
    },
    {
     "name": "stdout",
     "output_type": "stream",
     "text": [
      "epoch:1 loss:0.9053 耗时:43.8s\n",
      "epoch:6 loss:0.3198 耗时:43.2s\n",
      "epoch:11 loss:0.3470 耗时:43.2s\n",
      "epoch:16 loss:0.1465 耗时:43.1s\n",
      "epoch:21 loss:0.2880 耗时:43.2s\n",
      "epoch:26 loss:0.1039 耗时:43.1s\n",
      "epoch:31 loss:0.0724 耗时:43.1s\n",
      "epoch:36 loss:0.0585 耗时:43.2s\n",
      "epoch:41 loss:0.0478 耗时:43.2s\n",
      "epoch:46 loss:0.0466 耗时:43.3s\n",
      "epoch:51 loss:0.0447 耗时:43.2s\n",
      "epoch:56 loss:0.0410 耗时:42.9s\n",
      "epoch:61 loss:0.0270 耗时:42.9s\n",
      "epoch:66 loss:0.0285 耗时:43.0s\n",
      "epoch:71 loss:0.0206 耗时:42.9s\n",
      "epoch:76 loss:0.0285 耗时:42.9s\n",
      "epoch:81 loss:0.0259 耗时:42.9s\n",
      "epoch:86 loss:0.0235 耗时:43.0s\n",
      "epoch:91 loss:0.0319 耗时:43.0s\n",
      "epoch:96 loss:0.0152 耗时:43.1s\n",
      "\n"
     ]
    }
   ],
   "source": [
    "EPOCH = 100\n",
    "\n",
    "costs = []\n",
    "epoch_bar = trange(EPOCH)\n",
    "\n",
    "for epoch in epoch_bar:\n",
    "    epoch_bar.set_description(\"epoch:{}\".format(epoch + 1))\n",
    "    start = time.time()\n",
    "    losses = []\n",
    "    for i, data in enumerate(train_loader):\n",
    "        feats, labels = data\n",
    "        feats, labels = feats.to(device), labels.to(device)\n",
    "        # 前向传播 等价于net_model(feats)\n",
    "        outputs = net_model.forward(feats)\n",
    "        # 计算损失函数\n",
    "        loss = criterion(outputs, labels)\n",
    "        losses.append(loss.item())\n",
    "        # 清空梯度\n",
    "        optimizer.zero_grad()\n",
    "        # 反向传播\n",
    "        loss.backward()\n",
    "        # 参数更新\n",
    "        optimizer.step()\n",
    "    if not losses:\n",
    "      print(epoch, i, feats.shape)\n",
    "      break\n",
    "    batch_mean_loss = np.mean(losses)\n",
    "    costs.append(batch_mean_loss)\n",
    "    if batch_mean_loss <= 0.01:\n",
    "      print(f\"epoch:{epoch} , loss <= 0.01，停止循环\")\n",
    "      break\n",
    "    if epoch % 5 == 0:\n",
    "        print(\"epoch:{} loss:{:.4f} 耗时:{:.1f}s\".format(epoch + 1, batch_mean_loss, time.time() - start))\n",
    "    \n",
    "    "
   ]
  },
  {
   "cell_type": "code",
   "execution_count": 45,
   "metadata": {
    "colab": {
     "base_uri": "https://localhost:8080/",
     "height": 295
    },
    "id": "sqa482Wpmnwa",
    "outputId": "c45ad901-455f-492f-84a3-44d601f09a7f"
   },
   "outputs": [
    {
     "data": {
      "image/png": "[encoded data removed]",
      "text/plain": [
       "<Figure size 432x288 with 1 Axes>"
      ]
     },
     "metadata": {
      "needs_background": "light",
      "tags": []
     },
     "output_type": "display_data"
    }
   ],
   "source": [
    "plt.plot(range(EPOCH), costs)\n",
    "plt.xlabel('Epoch')\n",
    "plt.ylabel('Loss')\n",
    "plt.title(\"Loss Curve\")\n",
    "plt.show()"
   ]
  },
  {
   "cell_type": "markdown",
   "metadata": {
    "id": "a05b4pDN1IfS"
   },
   "source": [
    "## 2.4 保存模型"
   ]
  },
  {
   "cell_type": "code",
   "execution_count": 46,
   "metadata": {
    "id": "JiMj1Q7F1IfT"
   },
   "outputs": [],
   "source": [
    "torch.save(net_model, \"cifar10_resnet50.pt\")\n",
    "# 加载模型的命令\n",
    "# model = torch.load(\"cifar10_resnet18.pt\")"
   ]
  },
  {
   "cell_type": "markdown",
   "metadata": {
    "id": "wJAuwCI71IfV"
   },
   "source": [
    "## 2.5 用模型测试——准确率"
   ]
  },
  {
   "cell_type": "code",
   "execution_count": 52,
   "metadata": {
    "colab": {
     "base_uri": "https://localhost:8080/",
     "height": 34
    },
    "id": "qk6N9BpB1IfV",
    "outputId": "95d1d6a5-180a-4b91-bf0e-3893e5c4624b"
   },
   "outputs": [
    {
     "name": "stdout",
     "output_type": "stream",
     "text": [
      "在测试集10000章图像上的准确率:85.41%%\n"
     ]
    }
   ],
   "source": [
    "net_model.eval()\n",
    "\n",
    "correct, total = 0, 0\n",
    "for data in test_loader:\n",
    "    feats, labels = data\n",
    "    feats, labels = feats.to(device), labels.to(device)\n",
    "    # 前向传播\n",
    "    out = net_model(feats)\n",
    "    # 预测\n",
    "    _, pred = torch.max(out.data, 1)\n",
    "    # 判断预测与实际是否一致\n",
    "    total += labels.size(0)\n",
    "    correct += (pred == labels).sum().item()\n",
    "    \n",
    "print(\"在测试集10000章图像上的准确率:{:.2f}%%\".format(correct / total *100))"
   ]
  },
  {
   "cell_type": "markdown",
   "metadata": {
    "id": "fjTmagBlyhWd"
   },
   "source": [
    "# 3 总结："
   ]
  },
  {
   "cell_type": "markdown",
   "metadata": {
    "id": "Q4qmS6LUyhpI"
   },
   "source": [
    "1. 这次除了练习了搭建神经网络的流程，还试了数据增强的水平翻转、按通道进行标准化的方法；\n",
    "2. 对于按通道求标准化时，对于如何获得各通道的均值和标准差，一开始陷入了误区，网上找到的都是读取本地图片，for循环逐个计算；最后才想到用数组的reshape，使用mean()和std()就能直接计算；\n",
    "3. ResNet18和ResNet50我都测试了，同样的LR、EPOCH、BATCH_SIZE，同样的数据增强措施，只是网络架构不同，准确率ResNet18是83.79%，ResNet50是85.41%。"
   ]
  },
  {
   "cell_type": "code",
   "execution_count": null,
   "metadata": {
    "id": "dYoc2UJd03vX"
   },
   "outputs": [],
   "source": []
  }
 ],
 "metadata": {
  "accelerator": "GPU",
  "colab": {
   "collapsed_sections": [],
   "name": "MQBI04_Lesson07_Action1_CIFAR10ResNet50.ipynb",
   "provenance": []
  },
  "kernelspec": {
   "display_name": "Python 3",
   "language": "python",
   "name": "python3"
  },
  "language_info": {
   "codemirror_mode": {
    "name": "ipython",
    "version": 3
   },
   "file_extension": ".py",
   "mimetype": "text/x-python",
   "name": "python",
   "nbconvert_exporter": "python",
   "pygments_lexer": "ipython3",
   "version": "3.8.3"
  },
  "toc": {
   "base_numbering": 1,
   "nav_menu": {},
   "number_sections": true,
   "sideBar": true,
   "skip_h1_title": false,
   "title_cell": "Table of Contents",
   "title_sidebar": "Contents",
   "toc_cell": true,
   "toc_position": {},
   "toc_section_display": true,
   "toc_window_display": true
  },
  "varInspector": {
   "cols": {
    "lenName": 16,
    "lenType": 16,
    "lenVar": 40
   },
   "kernels_config": {
    "python": {
     "delete_cmd_postfix": "",
     "delete_cmd_prefix": "del ",
     "library": "var_list.py",
     "varRefreshCmd": "print(var_dic_list())"
    },
    "r": {
     "delete_cmd_postfix": ") ",
     "delete_cmd_prefix": "rm(",
     "library": "var_list.r",
     "varRefreshCmd": "cat(var_dic_list()) "
    }
   },
   "oldHeight": 122,
   "position": {
    "height": "40px",
    "left": "1170px",
    "right": "20px",
    "top": "120px",
    "width": "250px"
   },
   "types_to_exclude": [
    "module",
    "function",
    "builtin_function_or_method",
    "instance",
    "_Feature"
   ],
   "varInspector_section_display": "none",
   "window_display": true
  },
  "widgets": {
   "application/vnd.jupyter.widget-state+json": {
    "09d7f2aca11548f6947295b75f56b0f5": {
     "model_module": "@jupyter-widgets/base",
     "model_name": "LayoutModel",
     "state": {
      "_model_module": "@jupyter-widgets/base",
      "_model_module_version": "1.2.0",
      "_model_name": "LayoutModel",
      "_view_count": null,
      "_view_module": "@jupyter-widgets/base",
      "_view_module_version": "1.2.0",
      "_view_name": "LayoutView",
      "align_content": null,
      "align_items": null,
      "align_self": null,
      "border": null,
      "bottom": null,
      "display": null,
      "flex": null,
      "flex_flow": null,
      "grid_area": null,
      "grid_auto_columns": null,
      "grid_auto_flow": null,
      "grid_auto_rows": null,
      "grid_column": null,
      "grid_gap": null,
      "grid_row": null,
      "grid_template_areas": null,
      "grid_template_columns": null,
      "grid_template_rows": null,
      "height": null,
      "justify_content": null,
      "justify_items": null,
      "left": null,
      "margin": null,
      "max_height": null,
      "max_width": null,
      "min_height": null,
      "min_width": null,
      "object_fit": null,
      "object_position": null,
      "order": null,
      "overflow": null,
      "overflow_x": null,
      "overflow_y": null,
      "padding": null,
      "right": null,
      "top": null,
      "visibility": null,
      "width": null
     }
    },
    "174532f9a62f4610aee00652360f0e0c": {
     "model_module": "@jupyter-widgets/controls",
     "model_name": "HTMLModel",
     "state": {
      "_dom_classes": [],
      "_model_module": "@jupyter-widgets/controls",
      "_model_module_version": "1.5.0",
      "_model_name": "HTMLModel",
      "_view_count": null,
      "_view_module": "@jupyter-widgets/controls",
      "_view_module_version": "1.5.0",
      "_view_name": "HTMLView",
      "description": "",
      "description_tooltip": null,
      "layout": "IPY_MODEL_09d7f2aca11548f6947295b75f56b0f5",
      "placeholder": "​",
      "style": "IPY_MODEL_76c6ed8fe5e14d99b7a4cbfa9311b1ef",
      "value": " 100/100 [1:11:49&lt;00:00, 43.10s/it]"
     }
    },
    "17570a90f7ed4ea38bc76f4542fe70ec": {
     "model_module": "@jupyter-widgets/base",
     "model_name": "LayoutModel",
     "state": {
      "_model_module": "@jupyter-widgets/base",
      "_model_module_version": "1.2.0",
      "_model_name": "LayoutModel",
      "_view_count": null,
      "_view_module": "@jupyter-widgets/base",
      "_view_module_version": "1.2.0",
      "_view_name": "LayoutView",
      "align_content": null,
      "align_items": null,
      "align_self": null,
      "border": null,
      "bottom": null,
      "display": null,
      "flex": null,
      "flex_flow": null,
      "grid_area": null,
      "grid_auto_columns": null,
      "grid_auto_flow": null,
      "grid_auto_rows": null,
      "grid_column": null,
      "grid_gap": null,
      "grid_row": null,
      "grid_template_areas": null,
      "grid_template_columns": null,
      "grid_template_rows": null,
      "height": null,
      "justify_content": null,
      "justify_items": null,
      "left": null,
      "margin": null,
      "max_height": null,
      "max_width": null,
      "min_height": null,
      "min_width": null,
      "object_fit": null,
      "object_position": null,
      "order": null,
      "overflow": null,
      "overflow_x": null,
      "overflow_y": null,
      "padding": null,
      "right": null,
      "top": null,
      "visibility": null,
      "width": null
     }
    },
    "284cac5a99b941f8b28d28b7dcc04310": {
     "model_module": "@jupyter-widgets/controls",
     "model_name": "ProgressStyleModel",
     "state": {
      "_model_module": "@jupyter-widgets/controls",
      "_model_module_version": "1.5.0",
      "_model_name": "ProgressStyleModel",
      "_view_count": null,
      "_view_module": "@jupyter-widgets/base",
      "_view_module_version": "1.2.0",
      "_view_name": "StyleView",
      "bar_color": null,
      "description_width": "initial"
     }
    },
    "3e9fd5bcf16b4056b03e6bb9c653dd65": {
     "model_module": "@jupyter-widgets/controls",
     "model_name": "HBoxModel",
     "state": {
      "_dom_classes": [],
      "_model_module": "@jupyter-widgets/controls",
      "_model_module_version": "1.5.0",
      "_model_name": "HBoxModel",
      "_view_count": null,
      "_view_module": "@jupyter-widgets/controls",
      "_view_module_version": "1.5.0",
      "_view_name": "HBoxView",
      "box_style": "",
      "children": [
       "IPY_MODEL_c9bc8e83ddad4c8480cd225fec593133",
       "IPY_MODEL_174532f9a62f4610aee00652360f0e0c"
      ],
      "layout": "IPY_MODEL_698fb6be1db94967a08a45f5492f1ec9"
     }
    },
    "698fb6be1db94967a08a45f5492f1ec9": {
     "model_module": "@jupyter-widgets/base",
     "model_name": "LayoutModel",
     "state": {
      "_model_module": "@jupyter-widgets/base",
      "_model_module_version": "1.2.0",
      "_model_name": "LayoutModel",
      "_view_count": null,
      "_view_module": "@jupyter-widgets/base",
      "_view_module_version": "1.2.0",
      "_view_name": "LayoutView",
      "align_content": null,
      "align_items": null,
      "align_self": null,
      "border": null,
      "bottom": null,
      "display": null,
      "flex": null,
      "flex_flow": null,
      "grid_area": null,
      "grid_auto_columns": null,
      "grid_auto_flow": null,
      "grid_auto_rows": null,
      "grid_column": null,
      "grid_gap": null,
      "grid_row": null,
      "grid_template_areas": null,
      "grid_template_columns": null,
      "grid_template_rows": null,
      "height": null,
      "justify_content": null,
      "justify_items": null,
      "left": null,
      "margin": null,
      "max_height": null,
      "max_width": null,
      "min_height": null,
      "min_width": null,
      "object_fit": null,
      "object_position": null,
      "order": null,
      "overflow": null,
      "overflow_x": null,
      "overflow_y": null,
      "padding": null,
      "right": null,
      "top": null,
      "visibility": null,
      "width": null
     }
    },
    "76c6ed8fe5e14d99b7a4cbfa9311b1ef": {
     "model_module": "@jupyter-widgets/controls",
     "model_name": "DescriptionStyleModel",
     "state": {
      "_model_module": "@jupyter-widgets/controls",
      "_model_module_version": "1.5.0",
      "_model_name": "DescriptionStyleModel",
      "_view_count": null,
      "_view_module": "@jupyter-widgets/base",
      "_view_module_version": "1.2.0",
      "_view_name": "StyleView",
      "description_width": ""
     }
    },
    "c9bc8e83ddad4c8480cd225fec593133": {
     "model_module": "@jupyter-widgets/controls",
     "model_name": "FloatProgressModel",
     "state": {
      "_dom_classes": [],
      "_model_module": "@jupyter-widgets/controls",
      "_model_module_version": "1.5.0",
      "_model_name": "FloatProgressModel",
      "_view_count": null,
      "_view_module": "@jupyter-widgets/controls",
      "_view_module_version": "1.5.0",
      "_view_name": "ProgressView",
      "bar_style": "success",
      "description": "epoch:100: 100%",
      "description_tooltip": null,
      "layout": "IPY_MODEL_17570a90f7ed4ea38bc76f4542fe70ec",
      "max": 100,
      "min": 0,
      "orientation": "horizontal",
      "style": "IPY_MODEL_284cac5a99b941f8b28d28b7dcc04310",
      "value": 100
     }
    }
   }
  }
 },
 "nbformat": 4,
 "nbformat_minor": 1
}
