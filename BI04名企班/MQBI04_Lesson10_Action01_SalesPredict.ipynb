{
 "cells": [
  {
   "cell_type": "markdown",
   "metadata": {},
   "source": [
    "智能供应链分析    \n",
    "数据集：SupplyChainDataset.csv，供应链采购数据    \n",
    "To Do：    \n",
    "对于欺诈订单进行预测，即Order Status='SUSPECTED_FRAUD' ——分类任务   \n",
    "对于延迟交货订单进行预测，即Delivery Status= 'Late delivery' ——分类任务       \n",
    "对于销售额进行预测，即Sales字段 ——回归任务    \n",
    "对于订货数量进行预测，即Order Item Quantity ——回归任务    \n",
    "对模型进行可解释性分析"
   ]
  },
  {
   "cell_type": "code",
   "execution_count": 1,
   "metadata": {
    "ExecuteTime": {
     "end_time": "2020-11-08T09:39:46.815096Z",
     "start_time": "2020-11-08T09:39:45.591442Z"
    }
   },
   "outputs": [],
   "source": [
    "import datetime\n",
    "\n",
    "import pandas as pd\n",
    "import seaborn as sns\n",
    "from matplotlib import pyplot as plt"
   ]
  },
  {
   "cell_type": "code",
   "execution_count": 73,
   "metadata": {
    "ExecuteTime": {
     "end_time": "2020-11-08T12:06:52.434378Z",
     "start_time": "2020-11-08T12:06:52.428936Z"
    }
   },
   "outputs": [],
   "source": [
    "import lightgbm as lgb\n",
    "import xgboost as xgb\n",
    "from sklearn.preprocessing import LabelEncoder, StandardScaler\n",
    "from sklearn.linear_model import LinearRegression, Lasso, Ridge"
   ]
  },
  {
   "cell_type": "code",
   "execution_count": 44,
   "metadata": {
    "ExecuteTime": {
     "end_time": "2020-11-08T09:57:05.925328Z",
     "start_time": "2020-11-08T09:57:05.921965Z"
    }
   },
   "outputs": [],
   "source": [
    "from sklearn.ensemble import VotingRegressor\n",
    "from sklearn.metrics import mean_squared_error, mean_absolute_error\n",
    "from sklearn.model_selection import train_test_split, GridSearchCV"
   ]
  },
  {
   "cell_type": "code",
   "execution_count": 88,
   "metadata": {
    "ExecuteTime": {
     "end_time": "2020-11-08T12:32:40.833490Z",
     "start_time": "2020-11-08T12:32:40.775754Z"
    }
   },
   "outputs": [],
   "source": [
    "pd.options.display.max_columns = None\n",
    "\n",
    "sns.set_style(\"darkgrid\")\n",
    "sns.set_context('notebook', font_scale=1.)\n",
    "\n",
    "plt.rcParams['font.sans-serif'] = ['SimHei']\n",
    "plt.rcParams['axes.unicode_minus'] = False"
   ]
  },
  {
   "cell_type": "markdown",
   "metadata": {},
   "source": [
    "# 加载数据集"
   ]
  },
  {
   "cell_type": "code",
   "execution_count": 5,
   "metadata": {
    "ExecuteTime": {
     "end_time": "2020-11-08T09:39:49.441497Z",
     "start_time": "2020-11-08T09:39:47.041078Z"
    }
   },
   "outputs": [],
   "source": [
    "df = pd.read_csv('SupplyChain.csv', encoding='unicode_escape')"
   ]
  },
  {
   "cell_type": "code",
   "execution_count": 6,
   "metadata": {
    "ExecuteTime": {
     "end_time": "2020-11-08T09:39:49.504557Z",
     "start_time": "2020-11-08T09:39:49.444103Z"
    }
   },
   "outputs": [
    {
     "data": {
      "text/html": [
       "<div>\n",
       "<style scoped>\n",
       "    .dataframe tbody tr th:only-of-type {\n",
       "        vertical-align: middle;\n",
       "    }\n",
       "\n",
       "    .dataframe tbody tr th {\n",
       "        vertical-align: top;\n",
       "    }\n",
       "\n",
       "    .dataframe thead th {\n",
       "        text-align: right;\n",
       "    }\n",
       "</style>\n",
       "<table border=\"1\" class=\"dataframe\">\n",
       "  <thead>\n",
       "    <tr style=\"text-align: right;\">\n",
       "      <th></th>\n",
       "      <th>Type</th>\n",
       "      <th>Days for shipping (real)</th>\n",
       "      <th>Days for shipment (scheduled)</th>\n",
       "      <th>Benefit per order</th>\n",
       "      <th>Sales per customer</th>\n",
       "      <th>Delivery Status</th>\n",
       "      <th>Late_delivery_risk</th>\n",
       "      <th>Category Id</th>\n",
       "      <th>Category Name</th>\n",
       "      <th>Customer City</th>\n",
       "      <th>Customer Country</th>\n",
       "      <th>Customer Email</th>\n",
       "      <th>Customer Fname</th>\n",
       "      <th>Customer Id</th>\n",
       "      <th>Customer Lname</th>\n",
       "      <th>Customer Password</th>\n",
       "      <th>Customer Segment</th>\n",
       "      <th>Customer State</th>\n",
       "      <th>Customer Street</th>\n",
       "      <th>Customer Zipcode</th>\n",
       "      <th>Department Id</th>\n",
       "      <th>Department Name</th>\n",
       "      <th>Latitude</th>\n",
       "      <th>Longitude</th>\n",
       "      <th>Market</th>\n",
       "      <th>Order City</th>\n",
       "      <th>Order Country</th>\n",
       "      <th>Order Customer Id</th>\n",
       "      <th>order date (DateOrders)</th>\n",
       "      <th>Order Id</th>\n",
       "      <th>Order Item Cardprod Id</th>\n",
       "      <th>Order Item Discount</th>\n",
       "      <th>Order Item Discount Rate</th>\n",
       "      <th>Order Item Id</th>\n",
       "      <th>Order Item Product Price</th>\n",
       "      <th>Order Item Profit Ratio</th>\n",
       "      <th>Order Item Quantity</th>\n",
       "      <th>Sales</th>\n",
       "      <th>Order Item Total</th>\n",
       "      <th>Order Profit Per Order</th>\n",
       "      <th>Order Region</th>\n",
       "      <th>Order State</th>\n",
       "      <th>Order Status</th>\n",
       "      <th>Order Zipcode</th>\n",
       "      <th>Product Card Id</th>\n",
       "      <th>Product Category Id</th>\n",
       "      <th>Product Description</th>\n",
       "      <th>Product Image</th>\n",
       "      <th>Product Name</th>\n",
       "      <th>Product Price</th>\n",
       "      <th>Product Status</th>\n",
       "      <th>shipping date (DateOrders)</th>\n",
       "      <th>Shipping Mode</th>\n",
       "    </tr>\n",
       "  </thead>\n",
       "  <tbody>\n",
       "    <tr>\n",
       "      <th>0</th>\n",
       "      <td>DEBIT</td>\n",
       "      <td>3</td>\n",
       "      <td>4</td>\n",
       "      <td>91.250000</td>\n",
       "      <td>314.640015</td>\n",
       "      <td>Advance shipping</td>\n",
       "      <td>0</td>\n",
       "      <td>73</td>\n",
       "      <td>Sporting Goods</td>\n",
       "      <td>Caguas</td>\n",
       "      <td>Puerto Rico</td>\n",
       "      <td>XXXXXXXXX</td>\n",
       "      <td>Cally</td>\n",
       "      <td>20755</td>\n",
       "      <td>Holloway</td>\n",
       "      <td>XXXXXXXXX</td>\n",
       "      <td>Consumer</td>\n",
       "      <td>PR</td>\n",
       "      <td>5365 Noble Nectar Island</td>\n",
       "      <td>725.0</td>\n",
       "      <td>2</td>\n",
       "      <td>Fitness</td>\n",
       "      <td>18.251453</td>\n",
       "      <td>-66.037056</td>\n",
       "      <td>Pacific Asia</td>\n",
       "      <td>Bekasi</td>\n",
       "      <td>Indonesia</td>\n",
       "      <td>20755</td>\n",
       "      <td>1/31/2018 22:56</td>\n",
       "      <td>77202</td>\n",
       "      <td>1360</td>\n",
       "      <td>13.110000</td>\n",
       "      <td>0.04</td>\n",
       "      <td>180517</td>\n",
       "      <td>327.75</td>\n",
       "      <td>0.29</td>\n",
       "      <td>1</td>\n",
       "      <td>327.75</td>\n",
       "      <td>314.640015</td>\n",
       "      <td>91.250000</td>\n",
       "      <td>Southeast Asia</td>\n",
       "      <td>Java Occidental</td>\n",
       "      <td>COMPLETE</td>\n",
       "      <td>NaN</td>\n",
       "      <td>1360</td>\n",
       "      <td>73</td>\n",
       "      <td>NaN</td>\n",
       "      <td>http://images.acmesports.sports/Smart+watch</td>\n",
       "      <td>Smart watch</td>\n",
       "      <td>327.75</td>\n",
       "      <td>0</td>\n",
       "      <td>2/3/2018 22:56</td>\n",
       "      <td>Standard Class</td>\n",
       "    </tr>\n",
       "    <tr>\n",
       "      <th>1</th>\n",
       "      <td>TRANSFER</td>\n",
       "      <td>5</td>\n",
       "      <td>4</td>\n",
       "      <td>-249.089996</td>\n",
       "      <td>311.359985</td>\n",
       "      <td>Late delivery</td>\n",
       "      <td>1</td>\n",
       "      <td>73</td>\n",
       "      <td>Sporting Goods</td>\n",
       "      <td>Caguas</td>\n",
       "      <td>Puerto Rico</td>\n",
       "      <td>XXXXXXXXX</td>\n",
       "      <td>Irene</td>\n",
       "      <td>19492</td>\n",
       "      <td>Luna</td>\n",
       "      <td>XXXXXXXXX</td>\n",
       "      <td>Consumer</td>\n",
       "      <td>PR</td>\n",
       "      <td>2679 Rustic Loop</td>\n",
       "      <td>725.0</td>\n",
       "      <td>2</td>\n",
       "      <td>Fitness</td>\n",
       "      <td>18.279451</td>\n",
       "      <td>-66.037064</td>\n",
       "      <td>Pacific Asia</td>\n",
       "      <td>Bikaner</td>\n",
       "      <td>India</td>\n",
       "      <td>19492</td>\n",
       "      <td>1/13/2018 12:27</td>\n",
       "      <td>75939</td>\n",
       "      <td>1360</td>\n",
       "      <td>16.389999</td>\n",
       "      <td>0.05</td>\n",
       "      <td>179254</td>\n",
       "      <td>327.75</td>\n",
       "      <td>-0.80</td>\n",
       "      <td>1</td>\n",
       "      <td>327.75</td>\n",
       "      <td>311.359985</td>\n",
       "      <td>-249.089996</td>\n",
       "      <td>South Asia</td>\n",
       "      <td>Rajastán</td>\n",
       "      <td>PENDING</td>\n",
       "      <td>NaN</td>\n",
       "      <td>1360</td>\n",
       "      <td>73</td>\n",
       "      <td>NaN</td>\n",
       "      <td>http://images.acmesports.sports/Smart+watch</td>\n",
       "      <td>Smart watch</td>\n",
       "      <td>327.75</td>\n",
       "      <td>0</td>\n",
       "      <td>1/18/2018 12:27</td>\n",
       "      <td>Standard Class</td>\n",
       "    </tr>\n",
       "  </tbody>\n",
       "</table>\n",
       "</div>"
      ],
      "text/plain": [
       "       Type  Days for shipping (real)  Days for shipment (scheduled)  \\\n",
       "0     DEBIT                         3                              4   \n",
       "1  TRANSFER                         5                              4   \n",
       "\n",
       "   Benefit per order  Sales per customer   Delivery Status  \\\n",
       "0          91.250000          314.640015  Advance shipping   \n",
       "1        -249.089996          311.359985     Late delivery   \n",
       "\n",
       "   Late_delivery_risk  Category Id   Category Name Customer City  \\\n",
       "0                   0           73  Sporting Goods        Caguas   \n",
       "1                   1           73  Sporting Goods        Caguas   \n",
       "\n",
       "  Customer Country Customer Email Customer Fname  Customer Id Customer Lname  \\\n",
       "0      Puerto Rico      XXXXXXXXX          Cally        20755       Holloway   \n",
       "1      Puerto Rico      XXXXXXXXX          Irene        19492           Luna   \n",
       "\n",
       "  Customer Password Customer Segment Customer State           Customer Street  \\\n",
       "0         XXXXXXXXX         Consumer             PR  5365 Noble Nectar Island   \n",
       "1         XXXXXXXXX         Consumer             PR          2679 Rustic Loop   \n",
       "\n",
       "   Customer Zipcode  Department Id Department Name   Latitude  Longitude  \\\n",
       "0             725.0              2         Fitness  18.251453 -66.037056   \n",
       "1             725.0              2         Fitness  18.279451 -66.037064   \n",
       "\n",
       "         Market Order City Order Country  Order Customer Id  \\\n",
       "0  Pacific Asia     Bekasi     Indonesia              20755   \n",
       "1  Pacific Asia    Bikaner         India              19492   \n",
       "\n",
       "  order date (DateOrders)  Order Id  Order Item Cardprod Id  \\\n",
       "0         1/31/2018 22:56     77202                    1360   \n",
       "1         1/13/2018 12:27     75939                    1360   \n",
       "\n",
       "   Order Item Discount  Order Item Discount Rate  Order Item Id  \\\n",
       "0            13.110000                      0.04         180517   \n",
       "1            16.389999                      0.05         179254   \n",
       "\n",
       "   Order Item Product Price  Order Item Profit Ratio  Order Item Quantity  \\\n",
       "0                    327.75                     0.29                    1   \n",
       "1                    327.75                    -0.80                    1   \n",
       "\n",
       "    Sales  Order Item Total  Order Profit Per Order    Order Region  \\\n",
       "0  327.75        314.640015               91.250000  Southeast Asia   \n",
       "1  327.75        311.359985             -249.089996      South Asia   \n",
       "\n",
       "       Order State Order Status  Order Zipcode  Product Card Id  \\\n",
       "0  Java Occidental     COMPLETE            NaN             1360   \n",
       "1         Rajastán      PENDING            NaN             1360   \n",
       "\n",
       "   Product Category Id  Product Description  \\\n",
       "0                   73                  NaN   \n",
       "1                   73                  NaN   \n",
       "\n",
       "                                  Product Image  Product Name  Product Price  \\\n",
       "0  http://images.acmesports.sports/Smart+watch   Smart watch          327.75   \n",
       "1  http://images.acmesports.sports/Smart+watch   Smart watch          327.75   \n",
       "\n",
       "   Product Status shipping date (DateOrders)   Shipping Mode  \n",
       "0               0             2/3/2018 22:56  Standard Class  \n",
       "1               0            1/18/2018 12:27  Standard Class  "
      ]
     },
     "execution_count": 6,
     "metadata": {},
     "output_type": "execute_result"
    }
   ],
   "source": [
    "df.head(2)"
   ]
  },
  {
   "cell_type": "markdown",
   "metadata": {},
   "source": [
    "## 处理缺失值"
   ]
  },
  {
   "cell_type": "code",
   "execution_count": 7,
   "metadata": {
    "ExecuteTime": {
     "end_time": "2020-11-08T09:39:49.779891Z",
     "start_time": "2020-11-08T09:39:49.508604Z"
    }
   },
   "outputs": [
    {
     "data": {
      "text/plain": [
       "Product Description    1.000000\n",
       "Order Zipcode          0.862397\n",
       "Customer Lname         0.000044\n",
       "Customer Zipcode       0.000017\n",
       "Shipping Mode          0.000000\n",
       "dtype: float64"
      ]
     },
     "execution_count": 7,
     "metadata": {},
     "output_type": "execute_result"
    }
   ],
   "source": [
    "# 缺失值占比\n",
    "df.isnull().sum().sort_values(ascending=False)[:5] / df.shape[0]"
   ]
  },
  {
   "cell_type": "markdown",
   "metadata": {},
   "source": [
    "4个缺失字段对我们的预测用户不大，故不做填充，做删除处理"
   ]
  },
  {
   "cell_type": "markdown",
   "metadata": {},
   "source": [
    "# 用RFM对用户进行分层"
   ]
  },
  {
   "cell_type": "markdown",
   "metadata": {},
   "source": [
    "## 发货日期和下单日期转为datetime"
   ]
  },
  {
   "cell_type": "code",
   "execution_count": 8,
   "metadata": {
    "ExecuteTime": {
     "end_time": "2020-11-08T09:39:50.844461Z",
     "start_time": "2020-11-08T09:39:49.786785Z"
    }
   },
   "outputs": [],
   "source": [
    "# 发货日期\n",
    "df['shipping date (DateOrders)'] = pd.to_datetime(\n",
    "    df['shipping date (DateOrders)'], format='%m/%d/%Y %H:%M')\n",
    "\n",
    "# 下单日期\n",
    "df['order date (DateOrders)'] = pd.to_datetime(df['order date (DateOrders)'],\n",
    "                                               format='%m/%d/%Y %H:%M')"
   ]
  },
  {
   "cell_type": "code",
   "execution_count": 9,
   "metadata": {
    "ExecuteTime": {
     "end_time": "2020-11-08T09:39:50.857382Z",
     "start_time": "2020-11-08T09:39:50.847485Z"
    }
   },
   "outputs": [
    {
     "data": {
      "text/plain": [
       "(Timestamp('2015-01-03 00:00:00'), Timestamp('2018-02-06 22:14:00'))"
      ]
     },
     "execution_count": 9,
     "metadata": {},
     "output_type": "execute_result"
    }
   ],
   "source": [
    "df['shipping date (DateOrders)'].min(), df['shipping date (DateOrders)'].max()"
   ]
  },
  {
   "cell_type": "code",
   "execution_count": 10,
   "metadata": {
    "ExecuteTime": {
     "end_time": "2020-11-08T09:39:50.873076Z",
     "start_time": "2020-11-08T09:39:50.859251Z"
    }
   },
   "outputs": [
    {
     "data": {
      "text/plain": [
       "(Timestamp('2015-01-01 00:00:00'), Timestamp('2018-01-31 23:38:00'))"
      ]
     },
     "execution_count": 10,
     "metadata": {},
     "output_type": "execute_result"
    }
   ],
   "source": [
    "df['order date (DateOrders)'].min(), df['order date (DateOrders)'].max()"
   ]
  },
  {
   "cell_type": "markdown",
   "metadata": {},
   "source": [
    "## 2.2 按照Order Customer Id 统计 Recency  Frequency  Monetary\n",
    "\n",
    "- R_Value R值（最近一次交易距今时间）    \n",
    "\n",
    "用户最近一次交易距今的时间。间隔时间越短，则值越大，这类客户也是最有可能对活动产生反应的群体。\n",
    "\n",
    "\n",
    "- F_Value F值（交易频率）   \n",
    "\n",
    "用户在限定的时间内所购买的次数。最常购买的顾客，也是满意度、忠诚度最高的顾客。\n",
    "\n",
    "\n",
    "- M_Value M值（交易金额）    \n",
    "\n",
    "用户的交易金额，可以分为累计交易金额和平均每次交易金额，根据不同的目的取不同的数据源进行建模分析。"
   ]
  },
  {
   "cell_type": "code",
   "execution_count": 11,
   "metadata": {
    "ExecuteTime": {
     "end_time": "2020-11-08T09:39:56.550952Z",
     "start_time": "2020-11-08T09:39:50.875795Z"
    }
   },
   "outputs": [],
   "source": [
    "recent = datetime.datetime(year=2018, month=2, day=1)\n",
    "\n",
    "map_dict = {\n",
    "    'order date (DateOrders)': lambda x: (recent - x.max()).days,    # 最近一次交易距recent的时间\n",
    "    \"Order Id\": lambda x: x.nunique(),                               # 每个用户购买的购买次数，一个订单编号算一次\n",
    "    \"Sales per customer\": lambda x: x.sum()                          # 每用户的交易总金额\n",
    "}\n",
    "\n",
    "customer_strat = df.groupby(by='Order Customer Id').agg(map_dict)"
   ]
  },
  {
   "cell_type": "code",
   "execution_count": 12,
   "metadata": {
    "ExecuteTime": {
     "end_time": "2020-11-08T09:39:56.562918Z",
     "start_time": "2020-11-08T09:39:56.552578Z"
    }
   },
   "outputs": [
    {
     "data": {
      "text/html": [
       "<div>\n",
       "<style scoped>\n",
       "    .dataframe tbody tr th:only-of-type {\n",
       "        vertical-align: middle;\n",
       "    }\n",
       "\n",
       "    .dataframe tbody tr th {\n",
       "        vertical-align: top;\n",
       "    }\n",
       "\n",
       "    .dataframe thead th {\n",
       "        text-align: right;\n",
       "    }\n",
       "</style>\n",
       "<table border=\"1\" class=\"dataframe\">\n",
       "  <thead>\n",
       "    <tr style=\"text-align: right;\">\n",
       "      <th></th>\n",
       "      <th>order date (DateOrders)</th>\n",
       "      <th>Order Id</th>\n",
       "      <th>Sales per customer</th>\n",
       "    </tr>\n",
       "    <tr>\n",
       "      <th>Order Customer Id</th>\n",
       "      <th></th>\n",
       "      <th></th>\n",
       "      <th></th>\n",
       "    </tr>\n",
       "  </thead>\n",
       "  <tbody>\n",
       "    <tr>\n",
       "      <th>1</th>\n",
       "      <td>792</td>\n",
       "      <td>1</td>\n",
       "      <td>472.450012</td>\n",
       "    </tr>\n",
       "    <tr>\n",
       "      <th>2</th>\n",
       "      <td>136</td>\n",
       "      <td>4</td>\n",
       "      <td>1618.660042</td>\n",
       "    </tr>\n",
       "  </tbody>\n",
       "</table>\n",
       "</div>"
      ],
      "text/plain": [
       "                   order date (DateOrders)  Order Id  Sales per customer\n",
       "Order Customer Id                                                       \n",
       "1                                      792         1          472.450012\n",
       "2                                      136         4         1618.660042"
      ]
     },
     "execution_count": 12,
     "metadata": {},
     "output_type": "execute_result"
    }
   ],
   "source": [
    "customer_strat.head(2)"
   ]
  },
  {
   "cell_type": "code",
   "execution_count": 13,
   "metadata": {
    "ExecuteTime": {
     "end_time": "2020-11-08T09:39:56.571976Z",
     "start_time": "2020-11-08T09:39:56.566504Z"
    }
   },
   "outputs": [],
   "source": [
    "customer_strat.columns = ['R_value', 'F_value', 'M_value']"
   ]
  },
  {
   "cell_type": "code",
   "execution_count": 14,
   "metadata": {
    "ExecuteTime": {
     "end_time": "2020-11-08T09:39:56.600389Z",
     "start_time": "2020-11-08T09:39:56.576258Z"
    }
   },
   "outputs": [
    {
     "data": {
      "text/html": [
       "<div>\n",
       "<style scoped>\n",
       "    .dataframe tbody tr th:only-of-type {\n",
       "        vertical-align: middle;\n",
       "    }\n",
       "\n",
       "    .dataframe tbody tr th {\n",
       "        vertical-align: top;\n",
       "    }\n",
       "\n",
       "    .dataframe thead th {\n",
       "        text-align: right;\n",
       "    }\n",
       "</style>\n",
       "<table border=\"1\" class=\"dataframe\">\n",
       "  <thead>\n",
       "    <tr style=\"text-align: right;\">\n",
       "      <th></th>\n",
       "      <th>R_value</th>\n",
       "      <th>F_value</th>\n",
       "      <th>M_value</th>\n",
       "    </tr>\n",
       "    <tr>\n",
       "      <th>Order Customer Id</th>\n",
       "      <th></th>\n",
       "      <th></th>\n",
       "      <th></th>\n",
       "    </tr>\n",
       "  </thead>\n",
       "  <tbody>\n",
       "    <tr>\n",
       "      <th>1</th>\n",
       "      <td>792</td>\n",
       "      <td>1</td>\n",
       "      <td>472.450012</td>\n",
       "    </tr>\n",
       "    <tr>\n",
       "      <th>2</th>\n",
       "      <td>136</td>\n",
       "      <td>4</td>\n",
       "      <td>1618.660042</td>\n",
       "    </tr>\n",
       "  </tbody>\n",
       "</table>\n",
       "</div>"
      ],
      "text/plain": [
       "                   R_value  F_value      M_value\n",
       "Order Customer Id                               \n",
       "1                      792        1   472.450012\n",
       "2                      136        4  1618.660042"
      ]
     },
     "execution_count": 14,
     "metadata": {},
     "output_type": "execute_result"
    }
   ],
   "source": [
    "customer_strat.head(2)"
   ]
  },
  {
   "cell_type": "markdown",
   "metadata": {},
   "source": [
    "## 2.3  将RFMvalue转为RFMscore"
   ]
  },
  {
   "cell_type": "code",
   "execution_count": 15,
   "metadata": {
    "ExecuteTime": {
     "end_time": "2020-11-08T09:39:56.622883Z",
     "start_time": "2020-11-08T09:39:56.603427Z"
    }
   },
   "outputs": [
    {
     "data": {
      "text/html": [
       "<div>\n",
       "<style scoped>\n",
       "    .dataframe tbody tr th:only-of-type {\n",
       "        vertical-align: middle;\n",
       "    }\n",
       "\n",
       "    .dataframe tbody tr th {\n",
       "        vertical-align: top;\n",
       "    }\n",
       "\n",
       "    .dataframe thead th {\n",
       "        text-align: right;\n",
       "    }\n",
       "</style>\n",
       "<table border=\"1\" class=\"dataframe\">\n",
       "  <thead>\n",
       "    <tr style=\"text-align: right;\">\n",
       "      <th></th>\n",
       "      <th>R_value</th>\n",
       "      <th>F_value</th>\n",
       "      <th>M_value</th>\n",
       "    </tr>\n",
       "  </thead>\n",
       "  <tbody>\n",
       "    <tr>\n",
       "      <th>0.25</th>\n",
       "      <td>75.0</td>\n",
       "      <td>1.0</td>\n",
       "      <td>254.940002</td>\n",
       "    </tr>\n",
       "    <tr>\n",
       "      <th>0.50</th>\n",
       "      <td>159.0</td>\n",
       "      <td>3.0</td>\n",
       "      <td>1294.504997</td>\n",
       "    </tr>\n",
       "    <tr>\n",
       "      <th>0.75</th>\n",
       "      <td>307.0</td>\n",
       "      <td>5.0</td>\n",
       "      <td>2621.140007</td>\n",
       "    </tr>\n",
       "  </tbody>\n",
       "</table>\n",
       "</div>"
      ],
      "text/plain": [
       "      R_value  F_value      M_value\n",
       "0.25     75.0      1.0   254.940002\n",
       "0.50    159.0      3.0  1294.504997\n",
       "0.75    307.0      5.0  2621.140007"
      ]
     },
     "execution_count": 15,
     "metadata": {},
     "output_type": "execute_result"
    }
   ],
   "source": [
    "# 统计各列百分位数\n",
    "quantiles = customer_strat.quantile(q=[0.25, 0.5, 0.75])\n",
    "quantiles"
   ]
  },
  {
   "cell_type": "code",
   "execution_count": 16,
   "metadata": {
    "ExecuteTime": {
     "end_time": "2020-11-08T09:39:56.628591Z",
     "start_time": "2020-11-08T09:39:56.626063Z"
    }
   },
   "outputs": [],
   "source": [
    "# 转为字典\n",
    "quantiles = quantiles.to_dict()"
   ]
  },
  {
   "cell_type": "code",
   "execution_count": 17,
   "metadata": {
    "ExecuteTime": {
     "end_time": "2020-11-08T09:39:56.637387Z",
     "start_time": "2020-11-08T09:39:56.631470Z"
    }
   },
   "outputs": [
    {
     "data": {
      "text/plain": [
       "{'R_value': {0.25: 75.0, 0.5: 159.0, 0.75: 307.0},\n",
       " 'F_value': {0.25: 1.0, 0.5: 3.0, 0.75: 5.0},\n",
       " 'M_value': {0.25: 254.94000240000003,\n",
       "  0.5: 1294.5049972900001,\n",
       "  0.75: 2621.1400069825}}"
      ]
     },
     "execution_count": 17,
     "metadata": {},
     "output_type": "execute_result"
    }
   ],
   "source": [
    "quantiles"
   ]
  },
  {
   "cell_type": "code",
   "execution_count": 18,
   "metadata": {
    "ExecuteTime": {
     "end_time": "2020-11-08T09:39:56.648744Z",
     "start_time": "2020-11-08T09:39:56.640424Z"
    }
   },
   "outputs": [],
   "source": [
    "def r_score_func(x,  key, quantile_dict):\n",
    "    \"\"\"根据R_value统计R_score：\n",
    "    根据R_value越小，R_score越高\n",
    "    \"\"\"\n",
    "    result = 0\n",
    "    if x <= quantile_dict[key][0.25]:\n",
    "        result = 4\n",
    "    elif x <= quantile_dict[key][0.5]:\n",
    "        result = 3\n",
    "    elif x <= quantile_dict[key][0.75]:\n",
    "        result  = 2\n",
    "    else:\n",
    "        result = 1\n",
    "    return result \n",
    "\n",
    "\n",
    "def fm_score_func(x, key, quantile_dict):\n",
    "    \"\"\"统计F_sore和M_score，值越大越好\"\"\"\n",
    "    result = 0\n",
    "    if x <= quantile_dict[key][0.25]:\n",
    "        result = 1\n",
    "    elif x <= quantile_dict[key][0.5]:\n",
    "        result = 2\n",
    "    elif x <= quantile_dict[key][0.75]:\n",
    "        result  = 3\n",
    "    else:\n",
    "        result = 4\n",
    "    return result "
   ]
  },
  {
   "cell_type": "code",
   "execution_count": 19,
   "metadata": {
    "ExecuteTime": {
     "end_time": "2020-11-08T09:39:56.683201Z",
     "start_time": "2020-11-08T09:39:56.651153Z"
    }
   },
   "outputs": [],
   "source": [
    "customer_strat['R_score'] = customer_strat['R_value'].apply(r_score_func, args=('R_value', quantiles))"
   ]
  },
  {
   "cell_type": "code",
   "execution_count": 20,
   "metadata": {
    "ExecuteTime": {
     "end_time": "2020-11-08T09:39:56.714214Z",
     "start_time": "2020-11-08T09:39:56.687433Z"
    }
   },
   "outputs": [],
   "source": [
    "customer_strat['F_score'] = customer_strat['F_value'].apply(fm_score_func, args=('F_value', quantiles))"
   ]
  },
  {
   "cell_type": "code",
   "execution_count": 21,
   "metadata": {
    "ExecuteTime": {
     "end_time": "2020-11-08T09:39:56.760346Z",
     "start_time": "2020-11-08T09:39:56.725046Z"
    }
   },
   "outputs": [],
   "source": [
    "customer_strat['M_score'] = customer_strat['M_value'].apply(fm_score_func, args=('M_value', quantiles))"
   ]
  },
  {
   "cell_type": "code",
   "execution_count": 22,
   "metadata": {
    "ExecuteTime": {
     "end_time": "2020-11-08T09:39:56.787633Z",
     "start_time": "2020-11-08T09:39:56.765041Z"
    }
   },
   "outputs": [
    {
     "data": {
      "text/html": [
       "<div>\n",
       "<style scoped>\n",
       "    .dataframe tbody tr th:only-of-type {\n",
       "        vertical-align: middle;\n",
       "    }\n",
       "\n",
       "    .dataframe tbody tr th {\n",
       "        vertical-align: top;\n",
       "    }\n",
       "\n",
       "    .dataframe thead th {\n",
       "        text-align: right;\n",
       "    }\n",
       "</style>\n",
       "<table border=\"1\" class=\"dataframe\">\n",
       "  <thead>\n",
       "    <tr style=\"text-align: right;\">\n",
       "      <th></th>\n",
       "      <th>R_value</th>\n",
       "      <th>F_value</th>\n",
       "      <th>M_value</th>\n",
       "      <th>R_score</th>\n",
       "      <th>F_score</th>\n",
       "      <th>M_score</th>\n",
       "    </tr>\n",
       "    <tr>\n",
       "      <th>Order Customer Id</th>\n",
       "      <th></th>\n",
       "      <th></th>\n",
       "      <th></th>\n",
       "      <th></th>\n",
       "      <th></th>\n",
       "      <th></th>\n",
       "    </tr>\n",
       "  </thead>\n",
       "  <tbody>\n",
       "    <tr>\n",
       "      <th>1</th>\n",
       "      <td>792</td>\n",
       "      <td>1</td>\n",
       "      <td>472.450012</td>\n",
       "      <td>1</td>\n",
       "      <td>1</td>\n",
       "      <td>2</td>\n",
       "    </tr>\n",
       "    <tr>\n",
       "      <th>2</th>\n",
       "      <td>136</td>\n",
       "      <td>4</td>\n",
       "      <td>1618.660042</td>\n",
       "      <td>3</td>\n",
       "      <td>3</td>\n",
       "      <td>3</td>\n",
       "    </tr>\n",
       "  </tbody>\n",
       "</table>\n",
       "</div>"
      ],
      "text/plain": [
       "                   R_value  F_value      M_value  R_score  F_score  M_score\n",
       "Order Customer Id                                                          \n",
       "1                      792        1   472.450012        1        1        2\n",
       "2                      136        4  1618.660042        3        3        3"
      ]
     },
     "execution_count": 22,
     "metadata": {},
     "output_type": "execute_result"
    }
   ],
   "source": [
    "customer_strat.head(2)"
   ]
  },
  {
   "cell_type": "markdown",
   "metadata": {},
   "source": [
    "## 2.4 根据RFMscore进行分层"
   ]
  },
  {
   "cell_type": "code",
   "execution_count": 23,
   "metadata": {
    "ExecuteTime": {
     "end_time": "2020-11-08T09:39:56.808945Z",
     "start_time": "2020-11-08T09:39:56.796448Z"
    }
   },
   "outputs": [],
   "source": [
    "def rfm_user(df):\n",
    "    \"\"\"根据用户的R_sore、F_score、M_score的高低进行用户层级划分\"\"\"\n",
    "    user_class = ''\n",
    "    if df['R_score'] > 2 and df['F_score'] > 2 and df['M_score'] > 2:\n",
    "        user_class = '重要价值用户'\n",
    "    elif df['R_score'] > 2 and df['F_score'] <= 2 and df['M_score'] > 2:\n",
    "        user_class = '重要发展用户'\n",
    "    elif df['R_score'] <= 2 and df['F_score'] > 2 and df['M_score'] > 2:\n",
    "        user_class = '重要保持用户'\n",
    "    elif df['R_score'] <= 2 and df['F_score'] <= 2 and df['M_score'] > 2:\n",
    "        user_class = '重要挽留用户'\n",
    "\n",
    "    elif df['R_score'] > 2 and df['F_score'] > 2 and df['M_score'] <= 2:\n",
    "        user_class = '一般价值用户'\n",
    "    elif df['R_score'] > 2 and df['F_score'] <= 2 and df['M_score'] <= 2:\n",
    "        user_class = '一般发展用户'\n",
    "    elif df['R_score'] <= 2 and df['F_score'] > 2 and df['M_score'] <= 2:\n",
    "        user_class = '一般保持用户'\n",
    "    elif df['R_score'] <= 2 and df['F_score'] <= 2 and df['M_score'] <= 2:\n",
    "        user_class = '一般挽留用户'\n",
    "    return user_class"
   ]
  },
  {
   "cell_type": "code",
   "execution_count": 24,
   "metadata": {
    "ExecuteTime": {
     "end_time": "2020-11-08T09:39:57.762237Z",
     "start_time": "2020-11-08T09:39:56.814979Z"
    }
   },
   "outputs": [],
   "source": [
    "customer_strat['Customer_Segmentation'] = customer_strat.apply(rfm_user, axis=1)"
   ]
  },
  {
   "cell_type": "code",
   "execution_count": 25,
   "metadata": {
    "ExecuteTime": {
     "end_time": "2020-11-08T09:39:57.781414Z",
     "start_time": "2020-11-08T09:39:57.764819Z"
    }
   },
   "outputs": [
    {
     "data": {
      "text/html": [
       "<div>\n",
       "<style scoped>\n",
       "    .dataframe tbody tr th:only-of-type {\n",
       "        vertical-align: middle;\n",
       "    }\n",
       "\n",
       "    .dataframe tbody tr th {\n",
       "        vertical-align: top;\n",
       "    }\n",
       "\n",
       "    .dataframe thead th {\n",
       "        text-align: right;\n",
       "    }\n",
       "</style>\n",
       "<table border=\"1\" class=\"dataframe\">\n",
       "  <thead>\n",
       "    <tr style=\"text-align: right;\">\n",
       "      <th></th>\n",
       "      <th>R_value</th>\n",
       "      <th>F_value</th>\n",
       "      <th>M_value</th>\n",
       "      <th>R_score</th>\n",
       "      <th>F_score</th>\n",
       "      <th>M_score</th>\n",
       "      <th>Customer_Segmentation</th>\n",
       "    </tr>\n",
       "    <tr>\n",
       "      <th>Order Customer Id</th>\n",
       "      <th></th>\n",
       "      <th></th>\n",
       "      <th></th>\n",
       "      <th></th>\n",
       "      <th></th>\n",
       "      <th></th>\n",
       "      <th></th>\n",
       "    </tr>\n",
       "  </thead>\n",
       "  <tbody>\n",
       "    <tr>\n",
       "      <th>1</th>\n",
       "      <td>792</td>\n",
       "      <td>1</td>\n",
       "      <td>472.450012</td>\n",
       "      <td>1</td>\n",
       "      <td>1</td>\n",
       "      <td>2</td>\n",
       "      <td>一般挽留用户</td>\n",
       "    </tr>\n",
       "    <tr>\n",
       "      <th>2</th>\n",
       "      <td>136</td>\n",
       "      <td>4</td>\n",
       "      <td>1618.660042</td>\n",
       "      <td>3</td>\n",
       "      <td>3</td>\n",
       "      <td>3</td>\n",
       "      <td>重要价值用户</td>\n",
       "    </tr>\n",
       "  </tbody>\n",
       "</table>\n",
       "</div>"
      ],
      "text/plain": [
       "                   R_value  F_value      M_value  R_score  F_score  M_score  \\\n",
       "Order Customer Id                                                             \n",
       "1                      792        1   472.450012        1        1        2   \n",
       "2                      136        4  1618.660042        3        3        3   \n",
       "\n",
       "                  Customer_Segmentation  \n",
       "Order Customer Id                        \n",
       "1                                一般挽留用户  \n",
       "2                                重要价值用户  "
      ]
     },
     "execution_count": 25,
     "metadata": {},
     "output_type": "execute_result"
    }
   ],
   "source": [
    "customer_strat.head(2)"
   ]
  },
  {
   "cell_type": "code",
   "execution_count": 26,
   "metadata": {
    "ExecuteTime": {
     "end_time": "2020-11-08T09:39:58.218845Z",
     "start_time": "2020-11-08T09:39:57.786527Z"
    },
    "scrolled": false
   },
   "outputs": [
    {
     "data": {
      "image/png": "[encoded data removed]",
      "text/plain": [
       "<Figure size 1440x360 with 1 Axes>"
      ]
     },
     "metadata": {},
     "output_type": "display_data"
    }
   ],
   "source": [
    "customer_list = [\n",
    "    '重要价值用户', '重要发展用户', '重要保持用户', '重要挽留用户', '一般价值用户', '一般发展用户', '一般保持用户',\n",
    "    '一般挽留用户'\n",
    "]\n",
    "g = sns.catplot(data=customer_strat,\n",
    "                x='Customer_Segmentation',\n",
    "                kind='count',\n",
    "                order=customer_list, # 指定x轴标签显示顺序\n",
    "                height=5.,\n",
    "                aspect=4.)\n",
    "g.set_axis_labels('Customer Class', 'Customer Quantity')\n",
    "_ = g.ax.set_title('The Quantity of per Customer Segmentation')"
   ]
  },
  {
   "cell_type": "code",
   "execution_count": 27,
   "metadata": {
    "ExecuteTime": {
     "end_time": "2020-11-08T09:39:58.229917Z",
     "start_time": "2020-11-08T09:39:58.222852Z"
    }
   },
   "outputs": [],
   "source": [
    "# 将客户分层后的等级进行数值化，越重要，值越大\n",
    "mapdic = {c:i for i,c in enumerate(customer_list[::-1])}\n",
    "customer_strat['Customer_RFMLabel'] = customer_strat['Customer_Segmentation'].map(mapdic)"
   ]
  },
  {
   "cell_type": "code",
   "execution_count": 28,
   "metadata": {
    "ExecuteTime": {
     "end_time": "2020-11-08T09:39:58.243515Z",
     "start_time": "2020-11-08T09:39:58.231761Z"
    }
   },
   "outputs": [
    {
     "data": {
      "text/html": [
       "<div>\n",
       "<style scoped>\n",
       "    .dataframe tbody tr th:only-of-type {\n",
       "        vertical-align: middle;\n",
       "    }\n",
       "\n",
       "    .dataframe tbody tr th {\n",
       "        vertical-align: top;\n",
       "    }\n",
       "\n",
       "    .dataframe thead th {\n",
       "        text-align: right;\n",
       "    }\n",
       "</style>\n",
       "<table border=\"1\" class=\"dataframe\">\n",
       "  <thead>\n",
       "    <tr style=\"text-align: right;\">\n",
       "      <th></th>\n",
       "      <th>R_value</th>\n",
       "      <th>F_value</th>\n",
       "      <th>M_value</th>\n",
       "      <th>R_score</th>\n",
       "      <th>F_score</th>\n",
       "      <th>M_score</th>\n",
       "      <th>Customer_Segmentation</th>\n",
       "      <th>Customer_RFMLabel</th>\n",
       "    </tr>\n",
       "    <tr>\n",
       "      <th>Order Customer Id</th>\n",
       "      <th></th>\n",
       "      <th></th>\n",
       "      <th></th>\n",
       "      <th></th>\n",
       "      <th></th>\n",
       "      <th></th>\n",
       "      <th></th>\n",
       "      <th></th>\n",
       "    </tr>\n",
       "  </thead>\n",
       "  <tbody>\n",
       "    <tr>\n",
       "      <th>1</th>\n",
       "      <td>792</td>\n",
       "      <td>1</td>\n",
       "      <td>472.450012</td>\n",
       "      <td>1</td>\n",
       "      <td>1</td>\n",
       "      <td>2</td>\n",
       "      <td>一般挽留用户</td>\n",
       "      <td>0</td>\n",
       "    </tr>\n",
       "    <tr>\n",
       "      <th>2</th>\n",
       "      <td>136</td>\n",
       "      <td>4</td>\n",
       "      <td>1618.660042</td>\n",
       "      <td>3</td>\n",
       "      <td>3</td>\n",
       "      <td>3</td>\n",
       "      <td>重要价值用户</td>\n",
       "      <td>7</td>\n",
       "    </tr>\n",
       "  </tbody>\n",
       "</table>\n",
       "</div>"
      ],
      "text/plain": [
       "                   R_value  F_value      M_value  R_score  F_score  M_score  \\\n",
       "Order Customer Id                                                             \n",
       "1                      792        1   472.450012        1        1        2   \n",
       "2                      136        4  1618.660042        3        3        3   \n",
       "\n",
       "                  Customer_Segmentation  Customer_RFMLabel  \n",
       "Order Customer Id                                           \n",
       "1                                一般挽留用户                  0  \n",
       "2                                重要价值用户                  7  "
      ]
     },
     "execution_count": 28,
     "metadata": {},
     "output_type": "execute_result"
    }
   ],
   "source": [
    "customer_strat.head(2)"
   ]
  },
  {
   "cell_type": "code",
   "execution_count": 29,
   "metadata": {
    "ExecuteTime": {
     "end_time": "2020-11-08T09:39:58.883690Z",
     "start_time": "2020-11-08T09:39:58.245323Z"
    }
   },
   "outputs": [],
   "source": [
    "# 将用户分层数值化特征merge到df中\n",
    "df = df.merge(customer_strat[['Customer_RFMLabel']].reset_index(),\n",
    "              on='Order Customer Id',\n",
    "              how='left')"
   ]
  },
  {
   "cell_type": "markdown",
   "metadata": {},
   "source": [
    "# 3 对销售额进行预测"
   ]
  },
  {
   "cell_type": "markdown",
   "metadata": {},
   "source": [
    "## 3.1 指定特征和目标值"
   ]
  },
  {
   "cell_type": "code",
   "execution_count": 30,
   "metadata": {
    "ExecuteTime": {
     "end_time": "2020-11-08T09:39:58.893466Z",
     "start_time": "2020-11-08T09:39:58.885613Z"
    }
   },
   "outputs": [
    {
     "data": {
      "text/plain": [
       "Index(['Type', 'Days for shipping (real)', 'Days for shipment (scheduled)',\n",
       "       'Benefit per order', 'Sales per customer', 'Delivery Status',\n",
       "       'Late_delivery_risk', 'Category Id', 'Category Name', 'Customer City',\n",
       "       'Customer Country', 'Customer Email', 'Customer Fname', 'Customer Id',\n",
       "       'Customer Lname', 'Customer Password', 'Customer Segment',\n",
       "       'Customer State', 'Customer Street', 'Customer Zipcode',\n",
       "       'Department Id', 'Department Name', 'Latitude', 'Longitude', 'Market',\n",
       "       'Order City', 'Order Country', 'Order Customer Id',\n",
       "       'order date (DateOrders)', 'Order Id', 'Order Item Cardprod Id',\n",
       "       'Order Item Discount', 'Order Item Discount Rate', 'Order Item Id',\n",
       "       'Order Item Product Price', 'Order Item Profit Ratio',\n",
       "       'Order Item Quantity', 'Sales', 'Order Item Total',\n",
       "       'Order Profit Per Order', 'Order Region', 'Order State', 'Order Status',\n",
       "       'Order Zipcode', 'Product Card Id', 'Product Category Id',\n",
       "       'Product Description', 'Product Image', 'Product Name', 'Product Price',\n",
       "       'Product Status', 'shipping date (DateOrders)', 'Shipping Mode',\n",
       "       'Customer_RFMLabel'],\n",
       "      dtype='object')"
      ]
     },
     "execution_count": 30,
     "metadata": {},
     "output_type": "execute_result"
    }
   ],
   "source": [
    "df.columns"
   ]
  },
  {
   "cell_type": "code",
   "execution_count": 31,
   "metadata": {
    "ExecuteTime": {
     "end_time": "2020-11-08T09:39:58.905583Z",
     "start_time": "2020-11-08T09:39:58.895395Z"
    }
   },
   "outputs": [],
   "source": [
    "# 根据上节课对该数据集可视化的分析结果，可删除的特征列\n",
    "need_drop_cols = [\n",
    "    'Product Description',\n",
    "    'Order Zipcode',\n",
    "    'Customer Email',\n",
    "    'Customer Password',\n",
    "    'Product Image',\n",
    "    'Product Status',\n",
    "    'Customer Id',\n",
    "    'Order Item Cardprod Id',\n",
    "    'Product Category Id',\n",
    "    'Category Name',\n",
    "    'Product Name',\n",
    "    'Order Profit Per Order',\n",
    "    'Department Name',\n",
    "    'Order Item Id',\n",
    "    'Order Item Product Price',\n",
    "    'Sales per customer',\n",
    "    'Order Item Discount',\n",
    "    'Customer Zipcode',  # 客户邮编\n",
    "    'Customer Fname',  # 客户first name\n",
    "    'Customer Lname',  # 客户last name\n",
    "    'Latitude',  # 纬度\n",
    "    'Longitude',  # 经度\n",
    "    'Customer Street', # 客户街道地址\n",
    "    'shipping date (DateOrders)', \n",
    "    'order date (DateOrders)',\n",
    "]"
   ]
  },
  {
   "cell_type": "code",
   "execution_count": 32,
   "metadata": {
    "ExecuteTime": {
     "end_time": "2020-11-08T09:39:58.913052Z",
     "start_time": "2020-11-08T09:39:58.907693Z"
    }
   },
   "outputs": [],
   "source": [
    "y_train_sales = df['Sales']"
   ]
  },
  {
   "cell_type": "code",
   "execution_count": 33,
   "metadata": {
    "ExecuteTime": {
     "end_time": "2020-11-08T09:39:59.079519Z",
     "start_time": "2020-11-08T09:39:58.915116Z"
    }
   },
   "outputs": [],
   "source": [
    "X_train = df.drop(columns=need_drop_cols + ['Sales'])"
   ]
  },
  {
   "cell_type": "code",
   "execution_count": 34,
   "metadata": {
    "ExecuteTime": {
     "end_time": "2020-11-08T09:39:59.091566Z",
     "start_time": "2020-11-08T09:39:59.083233Z"
    }
   },
   "outputs": [
    {
     "data": {
      "text/plain": [
       "Index(['Type', 'Days for shipping (real)', 'Days for shipment (scheduled)',\n",
       "       'Benefit per order', 'Delivery Status', 'Late_delivery_risk',\n",
       "       'Category Id', 'Customer City', 'Customer Country', 'Customer Segment',\n",
       "       'Customer State', 'Department Id', 'Market', 'Order City',\n",
       "       'Order Country', 'Order Customer Id', 'Order Id',\n",
       "       'Order Item Discount Rate', 'Order Item Profit Ratio',\n",
       "       'Order Item Quantity', 'Order Item Total', 'Order Region',\n",
       "       'Order State', 'Order Status', 'Product Card Id', 'Product Price',\n",
       "       'Shipping Mode', 'Customer_RFMLabel'],\n",
       "      dtype='object')"
      ]
     },
     "execution_count": 34,
     "metadata": {},
     "output_type": "execute_result"
    }
   ],
   "source": [
    "X_train.columns"
   ]
  },
  {
   "cell_type": "markdown",
   "metadata": {},
   "source": [
    "### 3.1.1 标签数值化"
   ]
  },
  {
   "cell_type": "code",
   "execution_count": 35,
   "metadata": {
    "ExecuteTime": {
     "end_time": "2020-11-08T09:39:59.611048Z",
     "start_time": "2020-11-08T09:39:59.093485Z"
    }
   },
   "outputs": [],
   "source": [
    "cat_cols = X_train.select_dtypes(include='object').columns\n",
    "\n",
    "for col  in cat_cols:\n",
    "    transfer = LabelEncoder()\n",
    "    X_train[col] = transfer.fit_transform(X_train[col].values)"
   ]
  },
  {
   "cell_type": "markdown",
   "metadata": {},
   "source": [
    "### 3.1.2 无量纲化"
   ]
  },
  {
   "cell_type": "code",
   "execution_count": 36,
   "metadata": {
    "ExecuteTime": {
     "end_time": "2020-11-08T09:40:00.592115Z",
     "start_time": "2020-11-08T09:39:59.613090Z"
    }
   },
   "outputs": [],
   "source": [
    "transfer = StandardScaler()\n",
    "X_train.loc[:, :] = transfer.fit_transform(X_train.values)"
   ]
  },
  {
   "cell_type": "markdown",
   "metadata": {},
   "source": [
    "## 3.2 拆分数据集"
   ]
  },
  {
   "cell_type": "code",
   "execution_count": 37,
   "metadata": {
    "ExecuteTime": {
     "end_time": "2020-11-08T09:40:00.791408Z",
     "start_time": "2020-11-08T09:40:00.593897Z"
    }
   },
   "outputs": [],
   "source": [
    "x_train, x_test, y_train, y_test = train_test_split(X_train,\n",
    "                                                    y_train_sales,\n",
    "                                                    test_size=0.2,\n",
    "                                                    stratify=y_train_sales,\n",
    "                                                    random_state=30)"
   ]
  },
  {
   "cell_type": "code",
   "execution_count": 38,
   "metadata": {
    "ExecuteTime": {
     "end_time": "2020-11-08T09:40:00.803147Z",
     "start_time": "2020-11-08T09:40:00.794806Z"
    },
    "scrolled": true
   },
   "outputs": [
    {
     "data": {
      "text/plain": [
       "((144415, 28), (36104, 28), (144415,), (36104,))"
      ]
     },
     "execution_count": 38,
     "metadata": {},
     "output_type": "execute_result"
    }
   ],
   "source": [
    "x_train.shape, x_test.shape, y_train.shape, y_test.shape"
   ]
  },
  {
   "cell_type": "markdown",
   "metadata": {},
   "source": [
    "## 3.3 训练"
   ]
  },
  {
   "cell_type": "code",
   "execution_count": 66,
   "metadata": {
    "ExecuteTime": {
     "end_time": "2020-11-08T12:04:59.610312Z",
     "start_time": "2020-11-08T12:04:59.603981Z"
    }
   },
   "outputs": [],
   "source": [
    "def model_status(model, x_train, x_test, y_train, y_test):\n",
    "    model.fit(x_train, y_train)\n",
    "    y_pred = model.predict(x_test)\n",
    "    print(\"模型预测的决定系数R^2:\", model.score(x_test, y_test))\n",
    "    mse = mean_squared_error(y_test, y_pred)\n",
    "    print(\"模型预测的MSE:\", mse)\n",
    "    print(\"模型预测的RMSE:\", mse**0.05)\n",
    "    print(\"模型预测的MAE:\", mean_absolute_error(y_test, y_pred))\n",
    "    return model"
   ]
  },
  {
   "cell_type": "markdown",
   "metadata": {},
   "source": [
    "### 3.3.1 xgboost"
   ]
  },
  {
   "cell_type": "code",
   "execution_count": 64,
   "metadata": {
    "ExecuteTime": {
     "end_time": "2020-11-08T12:04:38.487149Z",
     "start_time": "2020-11-08T12:04:15.321022Z"
    },
    "code_folding": [],
    "scrolled": true
   },
   "outputs": [
    {
     "name": "stdout",
     "output_type": "stream",
     "text": [
      "模型预测的决定系数R^2: 0.9992806750505678\n",
      "模型预测的MSE: 12.570297812724348\n",
      "模型预测的MAE: 2.044994967173829\n"
     ]
    }
   ],
   "source": [
    "# model_xgb = xgb.XGBRegressor(objective ='reg:squarederror')\n",
    "model_xgb = xgb.XGBRegressor(silent=1,\n",
    "                             objective='reg:squarederror',\n",
    "                             early_stopping_rounds=10,\n",
    "                             eval_set=[(x_test, y_test)])\n",
    "model_xgb = model_status(model_xgb, x_train, x_test, y_train, y_test)"
   ]
  },
  {
   "cell_type": "code",
   "execution_count": null,
   "metadata": {
    "ExecuteTime": {
     "end_time": "2020-11-08T09:40:37.591410Z",
     "start_time": "2020-11-08T09:39:47.085Z"
    },
    "code_folding": [
     2,
     8
    ]
   },
   "outputs": [],
   "source": [
    "\"\"\" 耗时过久没跑出来\n",
    "# 超参数\n",
    "params = {\n",
    "    'n_estimators': [50, 100, 300, 500],\n",
    "    'max_depth': [1, 3, 5, 7],\n",
    "    'eta': [0.01, 0.1, 0.3, 1.],\n",
    "}\n",
    "\n",
    "model_xgb = xgb.XGBRegressor(silent=1,\n",
    "                             objective='reg:squarederror',\n",
    "                             early_stopping_rounds=10,\n",
    "                             eval_set=[(x_test, y_test)])\n",
    "\n",
    "gsearch = GridSearchCV(estimator=model_xgb, param_grid=params, n_jobs=2)\n",
    "gsearch.fit(x_train, y_train)\n",
    "\n",
    "print(\"最佳模型:\", gsearch.best_estimator_)\n",
    "print(\"最佳参数:\", gsearch.best_params_)\n",
    "print(\"最佳分数:\", gsearch.best_score_)\n",
    "\"\"\"\n",
    "print()"
   ]
  },
  {
   "cell_type": "markdown",
   "metadata": {},
   "source": [
    "### 3.3.2 最小二乘法线性回归"
   ]
  },
  {
   "cell_type": "code",
   "execution_count": 67,
   "metadata": {
    "ExecuteTime": {
     "end_time": "2020-11-08T12:05:02.534421Z",
     "start_time": "2020-11-08T12:05:02.365308Z"
    },
    "code_folding": [],
    "scrolled": false
   },
   "outputs": [
    {
     "name": "stdout",
     "output_type": "stream",
     "text": [
      "模型预测的决定系数R^2: 0.9943916060239708\n",
      "模型预测的MSE: 98.00742013109542\n",
      "模型预测的RMSE: 1.2576591298165416\n",
      "模型预测的MAE: 6.378626840205117\n"
     ]
    }
   ],
   "source": [
    "model_lr = LinearRegression()\n",
    "model_lr = model_status(model_lr,\n",
    "                        x_train,\n",
    "                        x_test,\n",
    "                        y_train,\n",
    "                        y_test)"
   ]
  },
  {
   "cell_type": "markdown",
   "metadata": {},
   "source": [
    "### 3.3.3 lasso回归"
   ]
  },
  {
   "cell_type": "code",
   "execution_count": 68,
   "metadata": {
    "ExecuteTime": {
     "end_time": "2020-11-08T12:05:09.367858Z",
     "start_time": "2020-11-08T12:05:09.148459Z"
    },
    "scrolled": false
   },
   "outputs": [
    {
     "name": "stdout",
     "output_type": "stream",
     "text": [
      "模型预测的决定系数R^2: 0.9939044779383757\n",
      "模型预测的MSE: 106.52004730148414\n",
      "模型预测的RMSE: 1.2629075731040862\n",
      "模型预测的MAE: 6.3383342510288445\n"
     ]
    }
   ],
   "source": [
    "# model_lasso = Lasso(alpha=1.)\n",
    "# model_lasso = model_status(model_lasso, x_train, x_test, y_train, y_test)"
   ]
  },
  {
   "cell_type": "code",
   "execution_count": 71,
   "metadata": {
    "ExecuteTime": {
     "end_time": "2020-11-08T12:06:13.740962Z",
     "start_time": "2020-11-08T12:06:13.233035Z"
    }
   },
   "outputs": [
    {
     "name": "stdout",
     "output_type": "stream",
     "text": [
      "模型预测的决定系数R^2: 0.9943915090088098\n",
      "模型预测的MSE: 98.0091154837571\n",
      "模型预测的RMSE: 1.2576602175700156\n",
      "模型预测的MAE: 6.300586543035364\n"
     ]
    }
   ],
   "source": [
    "model_lasso = Lasso(alpha=0.1)\n",
    "model_lasso = model_status(model_lasso, x_train, x_test, y_train, y_test)"
   ]
  },
  {
   "cell_type": "markdown",
   "metadata": {},
   "source": [
    "### 3.3.4 岭回归"
   ]
  },
  {
   "cell_type": "code",
   "execution_count": 74,
   "metadata": {
    "ExecuteTime": {
     "end_time": "2020-11-08T12:07:17.543634Z",
     "start_time": "2020-11-08T12:07:17.450643Z"
    }
   },
   "outputs": [
    {
     "name": "stdout",
     "output_type": "stream",
     "text": [
      "模型预测的决定系数R^2: 0.9943915505946371\n",
      "模型预测的MSE: 98.00838876596973\n",
      "模型预测的RMSE: 1.257659751303554\n",
      "模型预测的MAE: 6.378732984789676\n"
     ]
    }
   ],
   "source": [
    "model_rigde = Ridge(alpha=1.)\n",
    "model_rigde = model_status(model_rigde, x_train, x_test, y_train, y_test)"
   ]
  },
  {
   "cell_type": "markdown",
   "metadata": {
    "ExecuteTime": {
     "end_time": "2020-11-07T15:13:19.241768Z",
     "start_time": "2020-11-07T15:13:19.235863Z"
    }
   },
   "source": [
    "### 3.3.5  lightgbm"
   ]
  },
  {
   "cell_type": "code",
   "execution_count": 76,
   "metadata": {
    "ExecuteTime": {
     "end_time": "2020-11-08T12:08:08.741657Z",
     "start_time": "2020-11-08T12:08:07.386644Z"
    }
   },
   "outputs": [
    {
     "name": "stdout",
     "output_type": "stream",
     "text": [
      "模型预测的决定系数R^2: 0.9996475328896195\n",
      "模型预测的MSE: 6.159408971107541\n",
      "模型预测的RMSE: 1.0951584339431837\n",
      "模型预测的MAE: 0.5714092044878005\n"
     ]
    }
   ],
   "source": [
    "model_lgb = lgb.LGBMRegressor(objective='regression')\n",
    "model_lgb = model_status(model_lgb, x_train, x_test, y_train, y_test)"
   ]
  },
  {
   "cell_type": "markdown",
   "metadata": {},
   "source": [
    "# 4 模型融合"
   ]
  },
  {
   "cell_type": "code",
   "execution_count": 77,
   "metadata": {
    "ExecuteTime": {
     "end_time": "2020-11-08T12:08:19.944974Z",
     "start_time": "2020-11-08T12:08:19.940669Z"
    }
   },
   "outputs": [],
   "source": [
    "from sklearn.ensemble import VotingRegressor"
   ]
  },
  {
   "cell_type": "markdown",
   "metadata": {},
   "source": [
    "## 4.1 融合"
   ]
  },
  {
   "cell_type": "code",
   "execution_count": 78,
   "metadata": {
    "ExecuteTime": {
     "end_time": "2020-11-08T12:09:19.255788Z",
     "start_time": "2020-11-08T12:08:55.881485Z"
    }
   },
   "outputs": [
    {
     "name": "stdout",
     "output_type": "stream",
     "text": [
      "模型预测的决定系数R^2: 0.9984713239649068\n",
      "模型预测的MSE: 26.71381416071584\n",
      "模型预测的RMSE: 1.178519560199673\n",
      "模型预测的MAE: 3.298293140900298\n"
     ]
    }
   ],
   "source": [
    "# # 使用4个模型进行融合\n",
    "# vot = VotingRegressor(estimators=(('XGBoost', model_xgb), ('LightGBM',\n",
    "#                                                            model_lgb),\n",
    "#                                   ('岭回归', model_rigde), ('Lasso回归',\n",
    "#                                                          model_lasso)))\n",
    "# vot = model_status(vot, x_train, x_test, y_train, y_test)"
   ]
  },
  {
   "cell_type": "code",
   "execution_count": 81,
   "metadata": {
    "ExecuteTime": {
     "end_time": "2020-11-08T12:11:25.015327Z",
     "start_time": "2020-11-08T12:11:03.693625Z"
    }
   },
   "outputs": [
    {
     "name": "stdout",
     "output_type": "stream",
     "text": [
      "模型预测的决定系数R^2: 0.999683949244459\n",
      "模型预测的MSE: 5.523028395195247\n",
      "模型预测的RMSE: 1.0892030876587027\n",
      "模型预测的MAE: 1.1839371672978338\n"
     ]
    }
   ],
   "source": [
    "# 使用2个表现最好的xgboost和lightgbm进行融合\n",
    "vot = VotingRegressor(estimators=(('XGBoost', model_xgb), ('LightGBM',\n",
    "                                                           model_lgb)))\n",
    "vot = model_status(vot, x_train, x_test, y_train, y_test)"
   ]
  },
  {
   "cell_type": "markdown",
   "metadata": {},
   "source": [
    "top2的模型融合后，决定系数接近于1，而3个loss指标相对较小。"
   ]
  },
  {
   "cell_type": "markdown",
   "metadata": {},
   "source": [
    "## 4.2 使用融合模型进行预测"
   ]
  },
  {
   "cell_type": "code",
   "execution_count": 82,
   "metadata": {
    "ExecuteTime": {
     "end_time": "2020-11-08T12:14:26.543815Z",
     "start_time": "2020-11-08T12:14:26.310747Z"
    }
   },
   "outputs": [],
   "source": [
    "y_pred = vot.predict(x_test)"
   ]
  },
  {
   "cell_type": "code",
   "execution_count": 90,
   "metadata": {
    "ExecuteTime": {
     "end_time": "2020-11-08T12:33:16.283619Z",
     "start_time": "2020-11-08T12:33:15.503685Z"
    }
   },
   "outputs": [
    {
     "data": {
      "image/png": "[encoded data removed]",
      "text/plain": [
       "<Figure size 1440x720 with 1 Axes>"
      ]
     },
     "metadata": {},
     "output_type": "display_data"
    }
   ],
   "source": [
    "n = y_test.shape[0]\n",
    "plt.figure(figsize=(20,10))\n",
    "plt.scatter(range(n), y_test, color='b', label='Real Sales')\n",
    "plt.scatter(range(n), y_pred, color='r', label='Predict Sales')\n",
    "plt.title(\"对销售额的预测值和真实值结果对比\")\n",
    "plt.legend()\n",
    "plt.show()"
   ]
  },
  {
   "cell_type": "code",
   "execution_count": null,
   "metadata": {},
   "outputs": [],
   "source": []
  }
 ],
 "metadata": {
  "kernelspec": {
   "display_name": "Python [conda env:envpy37]",
   "language": "python",
   "name": "conda-env-envpy37-py"
  },
  "language_info": {
   "codemirror_mode": {
    "name": "ipython",
    "version": 3
   },
   "file_extension": ".py",
   "mimetype": "text/x-python",
   "name": "python",
   "nbconvert_exporter": "python",
   "pygments_lexer": "ipython3",
   "version": "3.7.7"
  },
  "nbTranslate": {
   "displayLangs": [
    "*"
   ],
   "hotkey": "alt-t",
   "langInMainMenu": true,
   "sourceLang": "en",
   "targetLang": "fr",
   "useGoogleTranslate": true
  },
  "toc": {
   "base_numbering": 1,
   "nav_menu": {},
   "number_sections": true,
   "sideBar": true,
   "skip_h1_title": false,
   "title_cell": "Table of Contents",
   "title_sidebar": "Contents",
   "toc_cell": false,
   "toc_position": {
    "height": "calc(100% - 180px)",
    "left": "10px",
    "top": "150px",
    "width": "288px"
   },
   "toc_section_display": true,
   "toc_window_display": true
  },
  "varInspector": {
   "cols": {
    "lenName": 16,
    "lenType": 16,
    "lenVar": 40
   },
   "kernels_config": {
    "python": {
     "delete_cmd_postfix": "",
     "delete_cmd_prefix": "del ",
     "library": "var_list.py",
     "varRefreshCmd": "print(var_dic_list())"
    },
    "r": {
     "delete_cmd_postfix": ") ",
     "delete_cmd_prefix": "rm(",
     "library": "var_list.r",
     "varRefreshCmd": "cat(var_dic_list()) "
    }
   },
   "oldHeight": 122,
   "position": {
    "height": "40px",
    "left": "1010px",
    "right": "20px",
    "top": "27px",
    "width": "250px"
   },
   "types_to_exclude": [
    "module",
    "function",
    "builtin_function_or_method",
    "instance",
    "_Feature"
   ],
   "varInspector_section_display": "none",
   "window_display": true
  }
 },
 "nbformat": 4,
 "nbformat_minor": 4
}
